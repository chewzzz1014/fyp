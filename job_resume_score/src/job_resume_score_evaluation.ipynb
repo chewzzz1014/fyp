{
  "nbformat": 4,
  "nbformat_minor": 0,
  "metadata": {
    "colab": {
      "provenance": [],
      "authorship_tag": "ABX9TyPci+qZerw6Iy7pahMTEMRi",
      "include_colab_link": true
    },
    "kernelspec": {
      "name": "python3",
      "display_name": "Python 3"
    },
    "language_info": {
      "name": "python"
    }
  },
  "cells": [
    {
      "cell_type": "markdown",
      "metadata": {
        "id": "view-in-github",
        "colab_type": "text"
      },
      "source": [
        "<a href=\"https://colab.research.google.com/github/chewzzz1014/fyp/blob/master/job_resume_score/src/job_resume_score_evaluation.ipynb\" target=\"_parent\"><img src=\"https://colab.research.google.com/assets/colab-badge.svg\" alt=\"Open In Colab\"/></a>"
      ]
    },
    {
      "cell_type": "code",
      "source": [
        "# mount drive\n",
        "from google.colab import drive\n",
        "drive.mount('/content/drive')"
      ],
      "metadata": {
        "colab": {
          "base_uri": "https://localhost:8080/"
        },
        "id": "wKL9IlzJTtRA",
        "outputId": "137c2123-b839-4191-a976-23177f1112d7"
      },
      "execution_count": 2,
      "outputs": [
        {
          "output_type": "stream",
          "name": "stdout",
          "text": [
            "Mounted at /content/drive\n"
          ]
        }
      ]
    },
    {
      "cell_type": "code",
      "execution_count": 13,
      "metadata": {
        "colab": {
          "base_uri": "https://localhost:8080/",
          "height": 579
        },
        "id": "Y0g9KK8UMAhu",
        "outputId": "8fe34328-cbcd-40e0-fcd2-ea5b987de285"
      },
      "outputs": [
        {
          "output_type": "stream",
          "name": "stdout",
          "text": [
            "{'NAME': ['john doe'], 'PHONE': ['1 555 1234567'], 'EMAIL': ['johndoeexamplecom'], 'JOB': ['software engineer', 'as a software engineer', 'junior developer', 'solutions architect', 'cloud architect'], 'SKILL': ['javascript', 'python', 'nodejs', 'python', 'javascript', 'aws', 'git', 'docker', 'kubernetes'], 'COMPANY': ['at google llc in', 'at tech innovators inc'], 'LOC': ['san francisco', 'in austin', 'berkeley', 'at'], 'STUDY PER': ['july 2017', 'july 2019', 'may 2015'], 'DEG': ['master of science in computer science', 'bachelor of science in information technology'], 'UNI': ['the university', 'the university']}\n"
          ]
        },
        {
          "output_type": "display_data",
          "data": {
            "text/plain": [
              "<IPython.core.display.HTML object>"
            ],
            "text/html": [
              "<span class=\"tex2jax_ignore\"><div class=\"entities\" style=\"line-height: 2.5; direction: ltr\"><br>\n",
              "<mark class=\"entity\" style=\"background: lightblue; padding: 0.45em 0.6em; margin: 0 0.25em; line-height: 1; border-radius: 0.35em;\">\n",
              "    john doe\n",
              "    <span style=\"font-size: 0.8em; font-weight: bold; line-height: 1; border-radius: 0.35em; vertical-align: middle; margin-left: 0.5rem\">NAME</span>\n",
              "</mark>\n",
              " lives at 1234 elm street in los angeles ca 90001 he can be reached at \n",
              "<mark class=\"entity\" style=\"background: pink; padding: 0.45em 0.6em; margin: 0 0.25em; line-height: 1; border-radius: 0.35em;\">\n",
              "    1 555 1234567\n",
              "    <span style=\"font-size: 0.8em; font-weight: bold; line-height: 1; border-radius: 0.35em; vertical-align: middle; margin-left: 0.5rem\">PHONE</span>\n",
              "</mark>\n",
              " or via email at \n",
              "<mark class=\"entity\" style=\"background: lightgreen; padding: 0.45em 0.6em; margin: 0 0.25em; line-height: 1; border-radius: 0.35em;\">\n",
              "    johndoeexamplecom\n",
              "    <span style=\"font-size: 0.8em; font-weight: bold; line-height: 1; border-radius: 0.35em; vertical-align: middle; margin-left: 0.5rem\">EMAIL</span>\n",
              "</mark>\n",
              " john is a resultsdriven \n",
              "<mark class=\"entity\" style=\"background: orange; padding: 0.45em 0.6em; margin: 0 0.25em; line-height: 1; border-radius: 0.35em;\">\n",
              "    software engineer\n",
              "    <span style=\"font-size: 0.8em; font-weight: bold; line-height: 1; border-radius: 0.35em; vertical-align: middle; margin-left: 0.5rem\">JOB</span>\n",
              "</mark>\n",
              " with over 5 years of experience in web development and cloud infrastructure with strong knowledge of \n",
              "<mark class=\"entity\" style=\"background: aqua; padding: 0.45em 0.6em; margin: 0 0.25em; line-height: 1; border-radius: 0.35em;\">\n",
              "    javascript\n",
              "    <span style=\"font-size: 0.8em; font-weight: bold; line-height: 1; border-radius: 0.35em; vertical-align: middle; margin-left: 0.5rem\">SKILL</span>\n",
              "</mark>\n",
              " \n",
              "<mark class=\"entity\" style=\"background: aqua; padding: 0.45em 0.6em; margin: 0 0.25em; line-height: 1; border-radius: 0.35em;\">\n",
              "    python\n",
              "    <span style=\"font-size: 0.8em; font-weight: bold; line-height: 1; border-radius: 0.35em; vertical-align: middle; margin-left: 0.5rem\">SKILL</span>\n",
              "</mark>\n",
              " and cloud technologies like aws and azure currently he works \n",
              "<mark class=\"entity\" style=\"background: orange; padding: 0.45em 0.6em; margin: 0 0.25em; line-height: 1; border-radius: 0.35em;\">\n",
              "    as a software engineer\n",
              "    <span style=\"font-size: 0.8em; font-weight: bold; line-height: 1; border-radius: 0.35em; vertical-align: middle; margin-left: 0.5rem\">JOB</span>\n",
              "</mark>\n",
              " \n",
              "<mark class=\"entity\" style=\"background: violet; padding: 0.45em 0.6em; margin: 0 0.25em; line-height: 1; border-radius: 0.35em;\">\n",
              "    at google llc in\n",
              "    <span style=\"font-size: 0.8em; font-weight: bold; line-height: 1; border-radius: 0.35em; vertical-align: middle; margin-left: 0.5rem\">COMPANY</span>\n",
              "</mark>\n",
              " \n",
              "<mark class=\"entity\" style=\"background: yellow; padding: 0.45em 0.6em; margin: 0 0.25em; line-height: 1; border-radius: 0.35em;\">\n",
              "    san francisco\n",
              "    <span style=\"font-size: 0.8em; font-weight: bold; line-height: 1; border-radius: 0.35em; vertical-align: middle; margin-left: 0.5rem\">LOC</span>\n",
              "</mark>\n",
              " ca where he has been employed since august 2019 in this role he has developed scalable web applications using javascript \n",
              "<mark class=\"entity\" style=\"background: aqua; padding: 0.45em 0.6em; margin: 0 0.25em; line-height: 1; border-radius: 0.35em;\">\n",
              "    nodejs\n",
              "    <span style=\"font-size: 0.8em; font-weight: bold; line-height: 1; border-radius: 0.35em; vertical-align: middle; margin-left: 0.5rem\">SKILL</span>\n",
              "</mark>\n",
              " and react deployed and maintained cloud infrastructure on aws reducing downtime by 20 and led a team of 4 engineers to enhance backend performance by 30 previously he worked as a \n",
              "<mark class=\"entity\" style=\"background: orange; padding: 0.45em 0.6em; margin: 0 0.25em; line-height: 1; border-radius: 0.35em;\">\n",
              "    junior developer\n",
              "    <span style=\"font-size: 0.8em; font-weight: bold; line-height: 1; border-radius: 0.35em; vertical-align: middle; margin-left: 0.5rem\">JOB</span>\n",
              "</mark>\n",
              " \n",
              "<mark class=\"entity\" style=\"background: violet; padding: 0.45em 0.6em; margin: 0 0.25em; line-height: 1; border-radius: 0.35em;\">\n",
              "    at tech innovators inc\n",
              "    <span style=\"font-size: 0.8em; font-weight: bold; line-height: 1; border-radius: 0.35em; vertical-align: middle; margin-left: 0.5rem\">COMPANY</span>\n",
              "</mark>\n",
              " \n",
              "<mark class=\"entity\" style=\"background: yellow; padding: 0.45em 0.6em; margin: 0 0.25em; line-height: 1; border-radius: 0.35em;\">\n",
              "    in austin\n",
              "    <span style=\"font-size: 0.8em; font-weight: bold; line-height: 1; border-radius: 0.35em; vertical-align: middle; margin-left: 0.5rem\">LOC</span>\n",
              "</mark>\n",
              " tx from \n",
              "<mark class=\"entity\" style=\"background: peachpuff; padding: 0.45em 0.6em; margin: 0 0.25em; line-height: 1; border-radius: 0.35em;\">\n",
              "    july 2017\n",
              "    <span style=\"font-size: 0.8em; font-weight: bold; line-height: 1; border-radius: 0.35em; vertical-align: middle; margin-left: 0.5rem\">STUDY PER</span>\n",
              "</mark>\n",
              " to \n",
              "<mark class=\"entity\" style=\"background: peachpuff; padding: 0.45em 0.6em; margin: 0 0.25em; line-height: 1; border-radius: 0.35em;\">\n",
              "    july 2019\n",
              "    <span style=\"font-size: 0.8em; font-weight: bold; line-height: 1; border-radius: 0.35em; vertical-align: middle; margin-left: 0.5rem\">STUDY PER</span>\n",
              "</mark>\n",
              " where he created restful apis using python and flask collaborated with frontend developers to build and deploy userfacing applications and wrote unit and integration tests improving code coverage by 15<br><br>john holds a \n",
              "<mark class=\"entity\" style=\"background: lightcoral; padding: 0.45em 0.6em; margin: 0 0.25em; line-height: 1; border-radius: 0.35em;\">\n",
              "    master of science in computer science\n",
              "    <span style=\"font-size: 0.8em; font-weight: bold; line-height: 1; border-radius: 0.35em; vertical-align: middle; margin-left: 0.5rem\">DEG</span>\n",
              "</mark>\n",
              " from \n",
              "<mark class=\"entity\" style=\"background: lightgrey; padding: 0.45em 0.6em; margin: 0 0.25em; line-height: 1; border-radius: 0.35em;\">\n",
              "    the university\n",
              "    <span style=\"font-size: 0.8em; font-weight: bold; line-height: 1; border-radius: 0.35em; vertical-align: middle; margin-left: 0.5rem\">UNI</span>\n",
              "</mark>\n",
              " of california \n",
              "<mark class=\"entity\" style=\"background: yellow; padding: 0.45em 0.6em; margin: 0 0.25em; line-height: 1; border-radius: 0.35em;\">\n",
              "    berkeley\n",
              "    <span style=\"font-size: 0.8em; font-weight: bold; line-height: 1; border-radius: 0.35em; vertical-align: middle; margin-left: 0.5rem\">LOC</span>\n",
              "</mark>\n",
              " with a graduation date of may 2017 and a \n",
              "<mark class=\"entity\" style=\"background: lightcoral; padding: 0.45em 0.6em; margin: 0 0.25em; line-height: 1; border-radius: 0.35em;\">\n",
              "    bachelor of science in information technology\n",
              "    <span style=\"font-size: 0.8em; font-weight: bold; line-height: 1; border-radius: 0.35em; vertical-align: middle; margin-left: 0.5rem\">DEG</span>\n",
              "</mark>\n",
              " from \n",
              "<mark class=\"entity\" style=\"background: lightgrey; padding: 0.45em 0.6em; margin: 0 0.25em; line-height: 1; border-radius: 0.35em;\">\n",
              "    the university\n",
              "    <span style=\"font-size: 0.8em; font-weight: bold; line-height: 1; border-radius: 0.35em; vertical-align: middle; margin-left: 0.5rem\">UNI</span>\n",
              "</mark>\n",
              " of texas \n",
              "<mark class=\"entity\" style=\"background: yellow; padding: 0.45em 0.6em; margin: 0 0.25em; line-height: 1; border-radius: 0.35em;\">\n",
              "    at\n",
              "    <span style=\"font-size: 0.8em; font-weight: bold; line-height: 1; border-radius: 0.35em; vertical-align: middle; margin-left: 0.5rem\">LOC</span>\n",
              "</mark>\n",
              " austin graduated in \n",
              "<mark class=\"entity\" style=\"background: peachpuff; padding: 0.45em 0.6em; margin: 0 0.25em; line-height: 1; border-radius: 0.35em;\">\n",
              "    may 2015\n",
              "    <span style=\"font-size: 0.8em; font-weight: bold; line-height: 1; border-radius: 0.35em; vertical-align: middle; margin-left: 0.5rem\">STUDY PER</span>\n",
              "</mark>\n",
              " his skillset includes proficiency in programming languages like \n",
              "<mark class=\"entity\" style=\"background: aqua; padding: 0.45em 0.6em; margin: 0 0.25em; line-height: 1; border-radius: 0.35em;\">\n",
              "    python\n",
              "    <span style=\"font-size: 0.8em; font-weight: bold; line-height: 1; border-radius: 0.35em; vertical-align: middle; margin-left: 0.5rem\">SKILL</span>\n",
              "</mark>\n",
              " \n",
              "<mark class=\"entity\" style=\"background: aqua; padding: 0.45em 0.6em; margin: 0 0.25em; line-height: 1; border-radius: 0.35em;\">\n",
              "    javascript\n",
              "    <span style=\"font-size: 0.8em; font-weight: bold; line-height: 1; border-radius: 0.35em; vertical-align: middle; margin-left: 0.5rem\">SKILL</span>\n",
              "</mark>\n",
              " and java frameworks such as react flask and django cloud platforms including \n",
              "<mark class=\"entity\" style=\"background: aqua; padding: 0.45em 0.6em; margin: 0 0.25em; line-height: 1; border-radius: 0.35em;\">\n",
              "    aws\n",
              "    <span style=\"font-size: 0.8em; font-weight: bold; line-height: 1; border-radius: 0.35em; vertical-align: middle; margin-left: 0.5rem\">SKILL</span>\n",
              "</mark>\n",
              " google cloud and azure as well as other tools like \n",
              "<mark class=\"entity\" style=\"background: aqua; padding: 0.45em 0.6em; margin: 0 0.25em; line-height: 1; border-radius: 0.35em;\">\n",
              "    git\n",
              "    <span style=\"font-size: 0.8em; font-weight: bold; line-height: 1; border-radius: 0.35em; vertical-align: middle; margin-left: 0.5rem\">SKILL</span>\n",
              "</mark>\n",
              " \n",
              "<mark class=\"entity\" style=\"background: aqua; padding: 0.45em 0.6em; margin: 0 0.25em; line-height: 1; border-radius: 0.35em;\">\n",
              "    docker\n",
              "    <span style=\"font-size: 0.8em; font-weight: bold; line-height: 1; border-radius: 0.35em; vertical-align: middle; margin-left: 0.5rem\">SKILL</span>\n",
              "</mark>\n",
              " \n",
              "<mark class=\"entity\" style=\"background: aqua; padding: 0.45em 0.6em; margin: 0 0.25em; line-height: 1; border-radius: 0.35em;\">\n",
              "    kubernetes\n",
              "    <span style=\"font-size: 0.8em; font-weight: bold; line-height: 1; border-radius: 0.35em; vertical-align: middle; margin-left: 0.5rem\">SKILL</span>\n",
              "</mark>\n",
              " and sql he is certified as an aws certified \n",
              "<mark class=\"entity\" style=\"background: orange; padding: 0.45em 0.6em; margin: 0 0.25em; line-height: 1; border-radius: 0.35em;\">\n",
              "    solutions architect\n",
              "    <span style=\"font-size: 0.8em; font-weight: bold; line-height: 1; border-radius: 0.35em; vertical-align: middle; margin-left: 0.5rem\">JOB</span>\n",
              "</mark>\n",
              " – associate earned in 2020 and as a google professional \n",
              "<mark class=\"entity\" style=\"background: orange; padding: 0.45em 0.6em; margin: 0 0.25em; line-height: 1; border-radius: 0.35em;\">\n",
              "    cloud architect\n",
              "    <span style=\"font-size: 0.8em; font-weight: bold; line-height: 1; border-radius: 0.35em; vertical-align: middle; margin-left: 0.5rem\">JOB</span>\n",
              "</mark>\n",
              " earned in 2021<br></div></span>"
            ]
          },
          "metadata": {}
        }
      ],
      "source": [
        "# make prediction using trained NER model\n",
        "\n",
        "import spacy\n",
        "import string\n",
        "from spacy import displacy\n",
        "\n",
        "resume_text = '''\n",
        "John Doe lives at 1234 Elm Street in Los Angeles, CA 90001. He can be reached at +1 (555) 123-4567 or via email at john.doe@example.com. John is a results-driven software engineer with over 5 years of experience in web development and cloud infrastructure, with strong knowledge of JavaScript, Python, and cloud technologies like AWS and Azure. Currently, he works as a Software Engineer at Google LLC in San Francisco, CA, where he has been employed since August 2019. In this role, he has developed scalable web applications using JavaScript, Node.js, and React, deployed and maintained cloud infrastructure on AWS, reducing downtime by 20%, and led a team of 4 engineers to enhance backend performance by 30%. Previously, he worked as a Junior Developer at Tech Innovators Inc. in Austin, TX, from July 2017 to July 2019, where he created RESTful APIs using Python and Flask, collaborated with front-end developers to build and deploy user-facing applications, and wrote unit and integration tests, improving code coverage by 15%.\n",
        "\n",
        "John holds a Master of Science in Computer Science from the University of California, Berkeley, with a graduation date of May 2017, and a Bachelor of Science in Information Technology from the University of Texas at Austin, graduated in May 2015. His skillset includes proficiency in programming languages like Python, JavaScript, and Java; frameworks such as React, Flask, and Django; cloud platforms including AWS, Google Cloud, and Azure; as well as other tools like Git, Docker, Kubernetes, and SQL. He is certified as an AWS Certified Solutions Architect – Associate, earned in 2020, and as a Google Professional Cloud Architect, earned in 2021'\n",
        "'''\n",
        "\n",
        "# convert text into small letter then remove punctuation\n",
        "resume_text = resume_text.lower()\n",
        "resume_text = resume_text.translate(str.maketrans('', '', string.punctuation))\n",
        "\n",
        "# load trained model\n",
        "nlp = spacy.load(\"/content/drive/MyDrive/FYP/Implementation/spacy_output/model-best\")\n",
        "\n",
        "# create a Spacy doc and add text to it\n",
        "doc = nlp(resume_text)\n",
        "\n",
        "# extract entities into a dictionary\n",
        "entities_dict = {}\n",
        "for ent in doc.ents:\n",
        "    if ent.label_ in entities_dict:\n",
        "        entities_dict[ent.label_].append(ent.text)\n",
        "    else:\n",
        "        entities_dict[ent.label_] = [ent.text]\n",
        "\n",
        "# Print the dictionary\n",
        "print(entities_dict)\n",
        "\n",
        "# visualize predicted entities using displacy\n",
        "colors = {\n",
        "    \"NAME\": \"lightblue\",\n",
        "    \"LOC\": \"yellow\",\n",
        "    \"PHONE\": \"pink\",\n",
        "    \"EMAIL\": \"lightgreen\",\n",
        "    \"JOB\": \"orange\",\n",
        "    \"SKILL\": \"aqua\",\n",
        "    \"COMPANY\": \"violet\",\n",
        "    \"WORK PER\": \"salmon\",\n",
        "    \"DEG\": \"lightcoral\",\n",
        "    \"UNI\": \"lightgrey\",\n",
        "    \"STUDY PER\": \"peachpuff\",\n",
        "}\n",
        "options = {\"ents\": list(colors.keys()), \"colors\": colors}\n",
        "displacy.render(doc, style=\"ent\", jupyter=True, options=options)"
      ]
    },
    {
      "cell_type": "code",
      "source": [
        "job_description = '''\n",
        "Job Purpose\n",
        "Support the software engineering team by gaining hands-on experience in real-world projects, with a focus on payment systems. Contribute to key phases of the software development lifecycle, including design, development, documentation, testing, and application maintenance.\n",
        "\n",
        "Job Description\n",
        "Assist in Software Development: Collaborate with team members to develop, test, and maintain software applications and systems. Perform coding and code reviews, and ensure adherence to coding standards and best practices.\n",
        "Learn and Apply Best Practices: Gain hands-on experience with industry-standard tools, technologies, and methodologies. Learn about software design principles, architecture patterns, and development workflows, and apply them to real-world projects.\n",
        "Collaborate with Cross-Functional Teams: Work closely with cross-functional teams, including product managers, designers, and quality assurance engineers, to understand requirements, provide input on technical feasibility, and ensure alignment on project goals.\n",
        "Document and Communicate: Document software design, development processes, and technical specifications as required. Communicate effectively with team members to provide updates on work progress, share insights, and seek guidance as needed.\n",
        "Troubleshoot and Debug: Assist in troubleshooting and debugging software issues reported by users or identified during testing. Analyse root causes, propose solutions, and collaborate with team members to implement fixes and ensure software reliability.\n",
        "Demonstrate Professionalism and Ethics: Uphold professional standards of conduct, integrity, and ethics in all interactions and activities. Respect confidentiality, intellectual property rights, and company policies throughout the internship period.\n",
        "\n",
        "Job Requirement\n",
        "Degree in Software Engineering, Computer Science or any equivalent\n",
        "Min CGPA is 3.5\n",
        "Final year last semester, preferably 5 months internship or above.\n",
        "Strong understanding of core Java concepts such as object-oriented programming (OOP), data structures and design patterns.\n",
        "Basic understanding of database management systems (e.g., Microsoft SQL Server) including database design, SQL queries, and database transactions.\n",
        "Knowledge of web development technologies such as ExtJS, CSS, and JavaScript can be beneficial, especially for integrating frontend components with backend services.\n",
        "Ability to analyse problems, identify root causes, and propose effective solutions.\n",
        "Strong analytical and troubleshooting skills are essential for debugging and resolving issues in software development.\n",
        "'''"
      ],
      "metadata": {
        "id": "73g8rZQMT6hE"
      },
      "execution_count": 5,
      "outputs": []
    },
    {
      "cell_type": "markdown",
      "source": [
        "# Text Preprocessing\n",
        "1. Text Cleaning\n",
        "2. Tokenization\n",
        "3. Preparation\n",
        "    *   Stop Word Removal\n",
        "    *   Stemming\n",
        "    *   Lemmatization\n"
      ],
      "metadata": {
        "id": "5XmEFDp7T74Z"
      }
    },
    {
      "cell_type": "code",
      "source": [],
      "metadata": {
        "id": "3LMXVAtlUgZp"
      },
      "execution_count": null,
      "outputs": []
    },
    {
      "cell_type": "markdown",
      "source": [
        "# Feature Extraction Using TF-IDF"
      ],
      "metadata": {
        "id": "zechozRgUVUh"
      }
    },
    {
      "cell_type": "code",
      "source": [],
      "metadata": {
        "id": "BCz2rM53Ug4Y"
      },
      "execution_count": null,
      "outputs": []
    },
    {
      "cell_type": "markdown",
      "source": [
        "# Consine Similarity"
      ],
      "metadata": {
        "id": "P6S79BXaUYxJ"
      }
    },
    {
      "cell_type": "code",
      "source": [],
      "metadata": {
        "id": "rDbzU0uhUc2Z"
      },
      "execution_count": null,
      "outputs": []
    },
    {
      "cell_type": "code",
      "source": [
        "resume_text = '''\n",
        "Zi Qing Chew\n",
        "chewziqing@gmail.com | 016-2892475 | Kuala Lumpur, Malaysia | linkedin.com/in/ziqingchew | github.com/chewzzz1014\n",
        "EDUCATION\n",
        "\n",
        "Universiti Putra Malaysia\t\t\t\t\t                                                   Oct 2021 - Current\n",
        "Bachelor in Computer Science with Honours\n",
        "Expected to graduate in July 2025. CGPA: 3.99\n",
        "\n",
        "WORK EXPERIENCE\n",
        "\n",
        "Ant International \t\t\t\t\t\t\t\t\t          \tJuly 2024 – Oct 2024\n",
        "Java Engineer Intern\t\t\t\t\t\t\t                               Kuala Lumpur, Malaysia\n",
        "Collaborated in developing an audit logging feature for Ant Group’s internal Foreign Exchange (FX) trade strategy system that records changes made by business users to trade strategies.\n",
        "Conducted comprehensive system analysis and project planning, delivering presentations to project stakeholders and QA teams prior to the development phase.\n",
        "Utilised Ant Group’s internal frameworks, middleware, and tools to implement the audit logging feature.\n",
        "Skills: Java, Spring, Sofaboot, Ant Group internal middlewares (ZDAL, DRM, Ant Scheduler, Msg Broker)\n",
        "Howuku  \t\t\t\t\t\t\t\t\t          \t             Feb 2023 – Sep 2023\n",
        "Software Developer Intern\t\t\t\t\t\t\t                    Kuala Lumpur, Malaysia\n",
        "Developed and optimized A/B testing features, including code editor and previewer for CSS and JavaScript modifications for experiment variations.\n",
        "Expanded A/B testing targeting rule by incorporating website visitor's OS, device, and browser rules.\n",
        "Automated experiment-stopping criteria and email notifications based on user-defined experiment termination conditions.\n",
        "Collaborated with cross-functional teams to debug, troubleshoot, and enhance Howuku platform features based on user feedback and performance data.\n",
        "Skills: JavaScript, Bootstrap, Vue.js, Express.js, MySQL\n",
        "\n",
        "PROJECTS\n",
        "\n",
        "Personal Portfolio Website (chewzzz1014.github.io/portfolio-website)\n",
        "Designed, developed and deployed personalised portfolio website featuring skills, selected projects, and downloadable resume.\n",
        "Skills: JavaScript, React.js, CSS, Bootstrap\n",
        "Depression Level Detection Chatbot (https://github.com/chewzzz1014/health-ease-project)\n",
        "Developed machine learning application that evaluates a message's depression level and provided tailored mental health advice and information based on the depression severity.\n",
        "Skills: Python, pandas, scikit-learn, Keras, FastAPI, Gradio\n",
        "Clothing Store Website (https://github.com/chewzzz1014/CSC3402-MVC-Project)\n",
        "Worked in team to build a CRUD Spring Boot application with attractive interfaces, data persistence, authentication and authorisation.\n",
        "Developed the backend of the application that involves querying the database, building REST endpoints and implementing Thymeleaf in HTML for dynamic contents.\n",
        "Skills: Spring Boot, Spring MVC, Thymeleaf, Hibernate, Bootstrap\n",
        "\n",
        "SKILLS\n",
        "Programming Languages: Java, Python, HTML, CSS, JavaScript, MySQL, OracleSQL\n",
        "Frameworks and Libraries: Spring, Spring Boot, TypeScript, Node.js, Express.js, React.js, Vue.js, Bootstrap, Tailwind CSS\n",
        "Tools: Git, Github, Jira, Tableau, Excel, Jupyter Notebook, Google Colab, VSCode, IntelliJ\n",
        "'''"
      ],
      "metadata": {
        "id": "I3p9LhTiYGPl"
      },
      "execution_count": 14,
      "outputs": []
    },
    {
      "cell_type": "code",
      "source": [
        "import spacy\n",
        "import re\n",
        "from sklearn.feature_extraction.text import TfidfVectorizer\n",
        "from sklearn.metrics.pairwise import cosine_similarity\n",
        "from nltk.corpus import stopwords\n",
        "from nltk.stem import PorterStemmer\n",
        "from nltk.stem import WordNetLemmatizer\n",
        "import nltk\n",
        "\n",
        "# Download required NLTK data\n",
        "nltk.download('stopwords')\n",
        "nltk.download('wordnet')\n",
        "\n",
        "# Load the SpaCy model (adjust path to your model)\n",
        "nlp = spacy.load(\"/content/drive/MyDrive/FYP/Implementation/spacy_output/model-best\")\n",
        "\n",
        "# Initialize text processing components\n",
        "stop_words = set(stopwords.words('english'))\n",
        "stemmer = PorterStemmer()\n",
        "lemmatizer = WordNetLemmatizer()\n",
        "\n",
        "# Define preprocessing function\n",
        "def preprocess_text(text):\n",
        "    # Text cleaning: lowercase, remove punctuation and extra whitespace\n",
        "    text = text.lower()\n",
        "    text = re.sub(r'[^a-z\\s]', '', text)\n",
        "    text = ' '.join(text.split())\n",
        "\n",
        "    # Tokenization\n",
        "    tokens = text.split()\n",
        "\n",
        "    # Stop word removal\n",
        "    tokens = [word for word in tokens if word not in stop_words]\n",
        "\n",
        "    # Stemming and lemmatization\n",
        "    tokens = [stemmer.stem(word) for word in tokens]\n",
        "    tokens = [lemmatizer.lemmatize(word) for word in tokens]\n",
        "\n",
        "    # Rejoin tokens to a single string\n",
        "    return ' '.join(tokens)\n",
        "\n",
        "# Preprocess resume and job description\n",
        "resume_text_processed = preprocess_text(resume_text)\n",
        "job_description_processed = preprocess_text(job_description)\n",
        "\n",
        "# Extract skills from resume using NER\n",
        "resume_doc = nlp(resume_text)\n",
        "skills = [ent.text for ent in resume_doc.ents if ent.label_ == 'SKILL']\n",
        "\n",
        "# Define function to compute cosine similarity\n",
        "def compute_similarity(text1, text2):\n",
        "    vectorizer = TfidfVectorizer()\n",
        "    tfidf_matrix = vectorizer.fit_transform([text1, text2])\n",
        "    return cosine_similarity(tfidf_matrix[0:1], tfidf_matrix[1:2])[0][0]\n",
        "\n",
        "# Similarity calculation\n",
        "if len(skills) >= 5:  # if sufficient skills are detected\n",
        "    skills_text = ' '.join(skills)\n",
        "    similarity_score = compute_similarity(skills_text, job_description_processed)\n",
        "else:\n",
        "    # Use the entire resume and job description text if skills are insufficient\n",
        "    similarity_score = compute_similarity(resume_text_processed, job_description_processed)\n",
        "\n",
        "similarity_score_skill = compute_similarity(skills_text, job_description_processed)\n",
        "similarity_score_overall = compute_similarity(resume_text_processed, job_description_processed)\n",
        "\n",
        "similarity_score = similarity_score_skill * 0.3 + similarity_score_overall * 0.7\n",
        "\n",
        "print(f\"Cosine Similarity Score: {similarity_score * 100:.2f}%\")"
      ],
      "metadata": {
        "colab": {
          "base_uri": "https://localhost:8080/"
        },
        "id": "6hS72RkIXokO",
        "outputId": "17f31b76-26f9-4c1a-b241-85488e15e349"
      },
      "execution_count": 17,
      "outputs": [
        {
          "output_type": "stream",
          "name": "stderr",
          "text": [
            "[nltk_data] Downloading package stopwords to /root/nltk_data...\n",
            "[nltk_data]   Package stopwords is already up-to-date!\n",
            "[nltk_data] Downloading package wordnet to /root/nltk_data...\n",
            "[nltk_data]   Package wordnet is already up-to-date!\n"
          ]
        },
        {
          "output_type": "stream",
          "name": "stdout",
          "text": [
            "Cosine Similarity Score: 14.30%\n"
          ]
        }
      ]
    }
  ]
}