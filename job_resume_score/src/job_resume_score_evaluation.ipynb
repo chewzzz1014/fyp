{
  "nbformat": 4,
  "nbformat_minor": 0,
  "metadata": {
    "colab": {
      "provenance": [],
      "authorship_tag": "ABX9TyOpGqUDGZaho7YvQNb0SyhN",
      "include_colab_link": true
    },
    "kernelspec": {
      "name": "python3",
      "display_name": "Python 3"
    },
    "language_info": {
      "name": "python"
    }
  },
  "cells": [
    {
      "cell_type": "markdown",
      "metadata": {
        "id": "view-in-github",
        "colab_type": "text"
      },
      "source": [
        "<a href=\"https://colab.research.google.com/github/chewzzz1014/fyp/blob/master/job_resume_score/src/job_resume_score_evaluation.ipynb\" target=\"_parent\"><img src=\"https://colab.research.google.com/assets/colab-badge.svg\" alt=\"Open In Colab\"/></a>"
      ]
    },
    {
      "cell_type": "code",
      "source": [
        "# mount drive\n",
        "from google.colab import drive\n",
        "drive.mount('/content/drive')"
      ],
      "metadata": {
        "colab": {
          "base_uri": "https://localhost:8080/"
        },
        "id": "wKL9IlzJTtRA",
        "outputId": "2915247a-0f21-471e-8d69-43272efb1d27"
      },
      "execution_count": 1,
      "outputs": [
        {
          "output_type": "stream",
          "name": "stdout",
          "text": [
            "Mounted at /content/drive\n"
          ]
        }
      ]
    },
    {
      "cell_type": "code",
      "source": [
        "job_description = '''\n",
        "Job Purpose\n",
        "Support the software engineering team by gaining hands-on experience in real-world projects, with a focus on payment systems. Contribute to key phases of the software development lifecycle, including design, development, documentation, testing, and application maintenance.\n",
        "\n",
        "Job Description\n",
        "Assist in Software Development: Collaborate with team members to develop, test, and maintain software applications and systems. Perform coding and code reviews, and ensure adherence to coding standards and best practices.\n",
        "Learn and Apply Best Practices: Gain hands-on experience with industry-standard tools, technologies, and methodologies. Learn about software design principles, architecture patterns, and development workflows, and apply them to real-world projects.\n",
        "Collaborate with Cross-Functional Teams: Work closely with cross-functional teams, including product managers, designers, and quality assurance engineers, to understand requirements, provide input on technical feasibility, and ensure alignment on project goals.\n",
        "Document and Communicate: Document software design, development processes, and technical specifications as required. Communicate effectively with team members to provide updates on work progress, share insights, and seek guidance as needed.\n",
        "Troubleshoot and Debug: Assist in troubleshooting and debugging software issues reported by users or identified during testing. Analyse root causes, propose solutions, and collaborate with team members to implement fixes and ensure software reliability.\n",
        "Demonstrate Professionalism and Ethics: Uphold professional standards of conduct, integrity, and ethics in all interactions and activities. Respect confidentiality, intellectual property rights, and company policies throughout the internship period.\n",
        "\n",
        "Job Requirement\n",
        "Degree in Software Engineering, Computer Science or any equivalent\n",
        "Min CGPA is 3.5\n",
        "Final year last semester, preferably 5 months internship or above.\n",
        "Strong understanding of core Java concepts such as object-oriented programming (OOP), data structures and design patterns.\n",
        "Basic understanding of database management systems (e.g., Microsoft SQL Server) including database design, SQL queries, and database transactions.\n",
        "Knowledge of web development technologies such as ExtJS, CSS, and JavaScript can be beneficial, especially for integrating frontend components with backend services.\n",
        "Ability to analyse problems, identify root causes, and propose effective solutions.\n",
        "Strong analytical and troubleshooting skills are essential for debugging and resolving issues in software development.\n",
        "'''"
      ],
      "metadata": {
        "id": "73g8rZQMT6hE"
      },
      "execution_count": 6,
      "outputs": []
    },
    {
      "cell_type": "code",
      "source": [
        "resume_text = '''\n",
        "Zi Qing Chew\n",
        "chewziqing@gmail.com | 016-2892475 | Kuala Lumpur, Malaysia | linkedin.com/in/ziqingchew | github.com/chewzzz1014\n",
        "EDUCATION\n",
        "\n",
        "Universiti Putra Malaysia\t\t\t\t\t                                                   Oct 2021 - Current\n",
        "Bachelor in Computer Science with Honours\n",
        "Expected to graduate in July 2025. CGPA: 3.99\n",
        "\n",
        "WORK EXPERIENCE\n",
        "\n",
        "Ant International \t\t\t\t\t\t\t\t\t          \tJuly 2024 – Oct 2024\n",
        "Java Engineer Intern\t\t\t\t\t\t\t                               Kuala Lumpur, Malaysia\n",
        "Collaborated in developing an audit logging feature for Ant Group’s internal Foreign Exchange (FX) trade strategy system that records changes made by business users to trade strategies.\n",
        "Conducted comprehensive system analysis and project planning, delivering presentations to project stakeholders and QA teams prior to the development phase.\n",
        "Utilised Ant Group’s internal frameworks, middleware, and tools to implement the audit logging feature.\n",
        "Skills: Java, Spring, Sofaboot, Ant Group internal middlewares (ZDAL, DRM, Ant Scheduler, Msg Broker)\n",
        "Howuku  \t\t\t\t\t\t\t\t\t          \t             Feb 2023 – Sep 2023\n",
        "Software Developer Intern\t\t\t\t\t\t\t                    Kuala Lumpur, Malaysia\n",
        "Developed and optimized A/B testing features, including code editor and previewer for CSS and JavaScript modifications for experiment variations.\n",
        "Expanded A/B testing targeting rule by incorporating website visitor's OS, device, and browser rules.\n",
        "Automated experiment-stopping criteria and email notifications based on user-defined experiment termination conditions.\n",
        "Collaborated with cross-functional teams to debug, troubleshoot, and enhance Howuku platform features based on user feedback and performance data.\n",
        "Skills: JavaScript, Bootstrap, Vue.js, Express.js, MySQL\n",
        "\n",
        "PROJECTS\n",
        "\n",
        "Personal Portfolio Website (chewzzz1014.github.io/portfolio-website)\n",
        "Designed, developed and deployed personalised portfolio website featuring skills, selected projects, and downloadable resume.\n",
        "Skills: JavaScript, React.js, CSS, Bootstrap\n",
        "Depression Level Detection Chatbot (https://github.com/chewzzz1014/health-ease-project)\n",
        "Developed machine learning application that evaluates a message's depression level and provided tailored mental health advice and information based on the depression severity.\n",
        "Skills: Python, pandas, scikit-learn, Keras, FastAPI, Gradio\n",
        "Clothing Store Website (https://github.com/chewzzz1014/CSC3402-MVC-Project)\n",
        "Worked in team to build a CRUD Spring Boot application with attractive interfaces, data persistence, authentication and authorisation.\n",
        "Developed the backend of the application that involves querying the database, building REST endpoints and implementing Thymeleaf in HTML for dynamic contents.\n",
        "Skills: Spring Boot, Spring MVC, Thymeleaf, Hibernate, Bootstrap\n",
        "\n",
        "SKILLS\n",
        "Programming Languages: Java, Python, HTML, CSS, JavaScript, MySQL, OracleSQL\n",
        "Frameworks and Libraries: Spring, Spring Boot, TypeScript, Node.js, Express.js, React.js, Vue.js, Bootstrap, Tailwind CSS\n",
        "Tools: Git, Github, Jira, Tableau, Excel, Jupyter Notebook, Google Colab, VSCode, IntelliJ\n",
        "'''"
      ],
      "metadata": {
        "id": "I3p9LhTiYGPl"
      },
      "execution_count": 7,
      "outputs": []
    },
    {
      "cell_type": "code",
      "source": [
        "# make prediction using trained NER model\n",
        "\n",
        "import spacy\n",
        "import string\n",
        "from spacy import displacy\n",
        "\n",
        "# convert text into small letter then remove punctuation\n",
        "resume_text = resume_text.lower()\n",
        "resume_text = resume_text.translate(str.maketrans('', '', string.punctuation))\n",
        "\n",
        "# load trained model\n",
        "nlp = spacy.load(\"/content/drive/MyDrive/FYP/Implementation/spacy_output/model-best\")\n",
        "\n",
        "# create a Spacy doc and add text to it\n",
        "doc = nlp(resume_text)\n",
        "\n",
        "# extract entities into a dictionary\n",
        "entities_dict = {}\n",
        "for ent in doc.ents:\n",
        "    if ent.label_ in entities_dict:\n",
        "        entities_dict[ent.label_].append(ent.text)\n",
        "    else:\n",
        "        entities_dict[ent.label_] = [ent.text]\n",
        "\n",
        "# Print the dictionary\n",
        "print(entities_dict)\n",
        "\n",
        "# visualize predicted entities using displacy\n",
        "colors = {\n",
        "    \"NAME\": \"lightblue\",\n",
        "    \"LOC\": \"yellow\",\n",
        "    \"PHONE\": \"pink\",\n",
        "    \"EMAIL\": \"lightgreen\",\n",
        "    \"JOB\": \"orange\",\n",
        "    \"SKILL\": \"aqua\",\n",
        "    \"COMPANY\": \"violet\",\n",
        "    \"WORK PER\": \"salmon\",\n",
        "    \"DEG\": \"lightcoral\",\n",
        "    \"UNI\": \"lightgrey\",\n",
        "    \"STUDY PER\": \"peachpuff\",\n",
        "}\n",
        "options = {\"ents\": list(colors.keys()), \"colors\": colors}\n",
        "displacy.render(doc, style=\"ent\", jupyter=True, options=options)"
      ],
      "metadata": {
        "colab": {
          "base_uri": "https://localhost:8080/",
          "height": 1000
        },
        "id": "wBewuF2jd19_",
        "outputId": "5c3ada6d-dfa9-49f4-fd07-fbdb96523baf"
      },
      "execution_count": 8,
      "outputs": [
        {
          "output_type": "stream",
          "name": "stdout",
          "text": [
            "{'SKILL': ['qing', 'chew', 'java', 'spring', 'sofaboot', 'javascript', 'bootstrap', 'vuejs', 'mysql', 'javascript', 'reactjs', 'css', 'bootstrap', 'python', 'pandas', 'scikitlearn', 'spring boot', 'spring mvc', 'hibernate', 'bootstrap', 'java', 'python', 'html', 'css', 'javascript', 'mysql', 'oraclesql', 'nodejs', 'vuejs', 'bootstrap', 'tailwind', 'css', 'git', 'github', 'jira', 'tableau', 'excel'], 'WORK PER': ['0162892475', 'july 2024', 'oct 2024', 'feb 2023', 'sep 2023'], 'STUDY PER': ['oct 2021', 'july 2025'], 'DEG': ['bachelor in computer science'], 'JOB': ['java engineer intern', 'software developer']}\n"
          ]
        },
        {
          "output_type": "display_data",
          "data": {
            "text/plain": [
              "<IPython.core.display.HTML object>"
            ],
            "text/html": [
              "<span class=\"tex2jax_ignore\"><div class=\"entities\" style=\"line-height: 2.5; direction: ltr\"><br>zi \n",
              "<mark class=\"entity\" style=\"background: aqua; padding: 0.45em 0.6em; margin: 0 0.25em; line-height: 1; border-radius: 0.35em;\">\n",
              "    qing\n",
              "    <span style=\"font-size: 0.8em; font-weight: bold; line-height: 1; border-radius: 0.35em; vertical-align: middle; margin-left: 0.5rem\">SKILL</span>\n",
              "</mark>\n",
              " \n",
              "<mark class=\"entity\" style=\"background: aqua; padding: 0.45em 0.6em; margin: 0 0.25em; line-height: 1; border-radius: 0.35em;\">\n",
              "    chew\n",
              "    <span style=\"font-size: 0.8em; font-weight: bold; line-height: 1; border-radius: 0.35em; vertical-align: middle; margin-left: 0.5rem\">SKILL</span>\n",
              "</mark>\n",
              "<br>chewziqinggmailcom  \n",
              "<mark class=\"entity\" style=\"background: salmon; padding: 0.45em 0.6em; margin: 0 0.25em; line-height: 1; border-radius: 0.35em;\">\n",
              "    0162892475\n",
              "    <span style=\"font-size: 0.8em; font-weight: bold; line-height: 1; border-radius: 0.35em; vertical-align: middle; margin-left: 0.5rem\">WORK PER</span>\n",
              "</mark>\n",
              "  kuala lumpur malaysia  linkedincominziqingchew  githubcomchewzzz1014<br>education<br><br>universiti putra malaysia\t\t\t\t\t                                                   \n",
              "<mark class=\"entity\" style=\"background: peachpuff; padding: 0.45em 0.6em; margin: 0 0.25em; line-height: 1; border-radius: 0.35em;\">\n",
              "    oct 2021\n",
              "    <span style=\"font-size: 0.8em; font-weight: bold; line-height: 1; border-radius: 0.35em; vertical-align: middle; margin-left: 0.5rem\">STUDY PER</span>\n",
              "</mark>\n",
              "  current<br>\n",
              "<mark class=\"entity\" style=\"background: lightcoral; padding: 0.45em 0.6em; margin: 0 0.25em; line-height: 1; border-radius: 0.35em;\">\n",
              "    bachelor in computer science\n",
              "    <span style=\"font-size: 0.8em; font-weight: bold; line-height: 1; border-radius: 0.35em; vertical-align: middle; margin-left: 0.5rem\">DEG</span>\n",
              "</mark>\n",
              " with honours<br>expected to graduate in \n",
              "<mark class=\"entity\" style=\"background: peachpuff; padding: 0.45em 0.6em; margin: 0 0.25em; line-height: 1; border-radius: 0.35em;\">\n",
              "    july 2025\n",
              "    <span style=\"font-size: 0.8em; font-weight: bold; line-height: 1; border-radius: 0.35em; vertical-align: middle; margin-left: 0.5rem\">STUDY PER</span>\n",
              "</mark>\n",
              " cgpa 399<br><br>work experience<br><br>ant international \t\t\t\t\t\t\t\t\t          \t\n",
              "<mark class=\"entity\" style=\"background: salmon; padding: 0.45em 0.6em; margin: 0 0.25em; line-height: 1; border-radius: 0.35em;\">\n",
              "    july 2024\n",
              "    <span style=\"font-size: 0.8em; font-weight: bold; line-height: 1; border-radius: 0.35em; vertical-align: middle; margin-left: 0.5rem\">WORK PER</span>\n",
              "</mark>\n",
              " – \n",
              "<mark class=\"entity\" style=\"background: salmon; padding: 0.45em 0.6em; margin: 0 0.25em; line-height: 1; border-radius: 0.35em;\">\n",
              "    oct 2024\n",
              "    <span style=\"font-size: 0.8em; font-weight: bold; line-height: 1; border-radius: 0.35em; vertical-align: middle; margin-left: 0.5rem\">WORK PER</span>\n",
              "</mark>\n",
              "<br>\n",
              "<mark class=\"entity\" style=\"background: orange; padding: 0.45em 0.6em; margin: 0 0.25em; line-height: 1; border-radius: 0.35em;\">\n",
              "    java engineer intern\n",
              "    <span style=\"font-size: 0.8em; font-weight: bold; line-height: 1; border-radius: 0.35em; vertical-align: middle; margin-left: 0.5rem\">JOB</span>\n",
              "</mark>\n",
              "\t\t\t\t\t\t\t                               kuala lumpur malaysia<br>collaborated in developing an audit logging feature for ant group’s internal foreign exchange fx trade strategy system that records changes made by business users to trade strategies<br>conducted comprehensive system analysis and project planning delivering presentations to project stakeholders and qa teams prior to the development phase<br>utilised ant group’s internal frameworks middleware and tools to implement the audit logging feature<br>skills \n",
              "<mark class=\"entity\" style=\"background: aqua; padding: 0.45em 0.6em; margin: 0 0.25em; line-height: 1; border-radius: 0.35em;\">\n",
              "    java\n",
              "    <span style=\"font-size: 0.8em; font-weight: bold; line-height: 1; border-radius: 0.35em; vertical-align: middle; margin-left: 0.5rem\">SKILL</span>\n",
              "</mark>\n",
              " \n",
              "<mark class=\"entity\" style=\"background: aqua; padding: 0.45em 0.6em; margin: 0 0.25em; line-height: 1; border-radius: 0.35em;\">\n",
              "    spring\n",
              "    <span style=\"font-size: 0.8em; font-weight: bold; line-height: 1; border-radius: 0.35em; vertical-align: middle; margin-left: 0.5rem\">SKILL</span>\n",
              "</mark>\n",
              " \n",
              "<mark class=\"entity\" style=\"background: aqua; padding: 0.45em 0.6em; margin: 0 0.25em; line-height: 1; border-radius: 0.35em;\">\n",
              "    sofaboot\n",
              "    <span style=\"font-size: 0.8em; font-weight: bold; line-height: 1; border-radius: 0.35em; vertical-align: middle; margin-left: 0.5rem\">SKILL</span>\n",
              "</mark>\n",
              " ant group internal middlewares zdal drm ant scheduler msg broker<br>howuku  \t\t\t\t\t\t\t\t\t          \t             \n",
              "<mark class=\"entity\" style=\"background: salmon; padding: 0.45em 0.6em; margin: 0 0.25em; line-height: 1; border-radius: 0.35em;\">\n",
              "    feb 2023\n",
              "    <span style=\"font-size: 0.8em; font-weight: bold; line-height: 1; border-radius: 0.35em; vertical-align: middle; margin-left: 0.5rem\">WORK PER</span>\n",
              "</mark>\n",
              " – \n",
              "<mark class=\"entity\" style=\"background: salmon; padding: 0.45em 0.6em; margin: 0 0.25em; line-height: 1; border-radius: 0.35em;\">\n",
              "    sep 2023\n",
              "    <span style=\"font-size: 0.8em; font-weight: bold; line-height: 1; border-radius: 0.35em; vertical-align: middle; margin-left: 0.5rem\">WORK PER</span>\n",
              "</mark>\n",
              "<br>\n",
              "<mark class=\"entity\" style=\"background: orange; padding: 0.45em 0.6em; margin: 0 0.25em; line-height: 1; border-radius: 0.35em;\">\n",
              "    software developer\n",
              "    <span style=\"font-size: 0.8em; font-weight: bold; line-height: 1; border-radius: 0.35em; vertical-align: middle; margin-left: 0.5rem\">JOB</span>\n",
              "</mark>\n",
              " intern\t\t\t\t\t\t\t                    kuala lumpur malaysia<br>developed and optimized ab testing features including code editor and previewer for css and javascript modifications for experiment variations<br>expanded ab testing targeting rule by incorporating website visitors os device and browser rules<br>automated experimentstopping criteria and email notifications based on userdefined experiment termination conditions<br>collaborated with crossfunctional teams to debug troubleshoot and enhance howuku platform features based on user feedback and performance data<br>skills \n",
              "<mark class=\"entity\" style=\"background: aqua; padding: 0.45em 0.6em; margin: 0 0.25em; line-height: 1; border-radius: 0.35em;\">\n",
              "    javascript\n",
              "    <span style=\"font-size: 0.8em; font-weight: bold; line-height: 1; border-radius: 0.35em; vertical-align: middle; margin-left: 0.5rem\">SKILL</span>\n",
              "</mark>\n",
              " \n",
              "<mark class=\"entity\" style=\"background: aqua; padding: 0.45em 0.6em; margin: 0 0.25em; line-height: 1; border-radius: 0.35em;\">\n",
              "    bootstrap\n",
              "    <span style=\"font-size: 0.8em; font-weight: bold; line-height: 1; border-radius: 0.35em; vertical-align: middle; margin-left: 0.5rem\">SKILL</span>\n",
              "</mark>\n",
              " \n",
              "<mark class=\"entity\" style=\"background: aqua; padding: 0.45em 0.6em; margin: 0 0.25em; line-height: 1; border-radius: 0.35em;\">\n",
              "    vuejs\n",
              "    <span style=\"font-size: 0.8em; font-weight: bold; line-height: 1; border-radius: 0.35em; vertical-align: middle; margin-left: 0.5rem\">SKILL</span>\n",
              "</mark>\n",
              " expressjs \n",
              "<mark class=\"entity\" style=\"background: aqua; padding: 0.45em 0.6em; margin: 0 0.25em; line-height: 1; border-radius: 0.35em;\">\n",
              "    mysql\n",
              "    <span style=\"font-size: 0.8em; font-weight: bold; line-height: 1; border-radius: 0.35em; vertical-align: middle; margin-left: 0.5rem\">SKILL</span>\n",
              "</mark>\n",
              "<br><br>projects<br><br>personal portfolio website chewzzz1014githubioportfoliowebsite<br>designed developed and deployed personalised portfolio website featuring skills selected projects and downloadable resume<br>skills \n",
              "<mark class=\"entity\" style=\"background: aqua; padding: 0.45em 0.6em; margin: 0 0.25em; line-height: 1; border-radius: 0.35em;\">\n",
              "    javascript\n",
              "    <span style=\"font-size: 0.8em; font-weight: bold; line-height: 1; border-radius: 0.35em; vertical-align: middle; margin-left: 0.5rem\">SKILL</span>\n",
              "</mark>\n",
              " \n",
              "<mark class=\"entity\" style=\"background: aqua; padding: 0.45em 0.6em; margin: 0 0.25em; line-height: 1; border-radius: 0.35em;\">\n",
              "    reactjs\n",
              "    <span style=\"font-size: 0.8em; font-weight: bold; line-height: 1; border-radius: 0.35em; vertical-align: middle; margin-left: 0.5rem\">SKILL</span>\n",
              "</mark>\n",
              " \n",
              "<mark class=\"entity\" style=\"background: aqua; padding: 0.45em 0.6em; margin: 0 0.25em; line-height: 1; border-radius: 0.35em;\">\n",
              "    css\n",
              "    <span style=\"font-size: 0.8em; font-weight: bold; line-height: 1; border-radius: 0.35em; vertical-align: middle; margin-left: 0.5rem\">SKILL</span>\n",
              "</mark>\n",
              " \n",
              "<mark class=\"entity\" style=\"background: aqua; padding: 0.45em 0.6em; margin: 0 0.25em; line-height: 1; border-radius: 0.35em;\">\n",
              "    bootstrap\n",
              "    <span style=\"font-size: 0.8em; font-weight: bold; line-height: 1; border-radius: 0.35em; vertical-align: middle; margin-left: 0.5rem\">SKILL</span>\n",
              "</mark>\n",
              "<br>depression level detection chatbot httpsgithubcomchewzzz1014healtheaseproject<br>developed machine learning application that evaluates a messages depression level and provided tailored mental health advice and information based on the depression severity<br>skills \n",
              "<mark class=\"entity\" style=\"background: aqua; padding: 0.45em 0.6em; margin: 0 0.25em; line-height: 1; border-radius: 0.35em;\">\n",
              "    python\n",
              "    <span style=\"font-size: 0.8em; font-weight: bold; line-height: 1; border-radius: 0.35em; vertical-align: middle; margin-left: 0.5rem\">SKILL</span>\n",
              "</mark>\n",
              " \n",
              "<mark class=\"entity\" style=\"background: aqua; padding: 0.45em 0.6em; margin: 0 0.25em; line-height: 1; border-radius: 0.35em;\">\n",
              "    pandas\n",
              "    <span style=\"font-size: 0.8em; font-weight: bold; line-height: 1; border-radius: 0.35em; vertical-align: middle; margin-left: 0.5rem\">SKILL</span>\n",
              "</mark>\n",
              " \n",
              "<mark class=\"entity\" style=\"background: aqua; padding: 0.45em 0.6em; margin: 0 0.25em; line-height: 1; border-radius: 0.35em;\">\n",
              "    scikitlearn\n",
              "    <span style=\"font-size: 0.8em; font-weight: bold; line-height: 1; border-radius: 0.35em; vertical-align: middle; margin-left: 0.5rem\">SKILL</span>\n",
              "</mark>\n",
              " keras fastapi gradio<br>clothing store website httpsgithubcomchewzzz1014csc3402mvcproject<br>worked in team to build a crud spring boot application with attractive interfaces data persistence authentication and authorisation<br>developed the backend of the application that involves querying the database building rest endpoints and implementing thymeleaf in html for dynamic contents<br>skills \n",
              "<mark class=\"entity\" style=\"background: aqua; padding: 0.45em 0.6em; margin: 0 0.25em; line-height: 1; border-radius: 0.35em;\">\n",
              "    spring boot\n",
              "    <span style=\"font-size: 0.8em; font-weight: bold; line-height: 1; border-radius: 0.35em; vertical-align: middle; margin-left: 0.5rem\">SKILL</span>\n",
              "</mark>\n",
              " \n",
              "<mark class=\"entity\" style=\"background: aqua; padding: 0.45em 0.6em; margin: 0 0.25em; line-height: 1; border-radius: 0.35em;\">\n",
              "    spring mvc\n",
              "    <span style=\"font-size: 0.8em; font-weight: bold; line-height: 1; border-radius: 0.35em; vertical-align: middle; margin-left: 0.5rem\">SKILL</span>\n",
              "</mark>\n",
              " thymeleaf \n",
              "<mark class=\"entity\" style=\"background: aqua; padding: 0.45em 0.6em; margin: 0 0.25em; line-height: 1; border-radius: 0.35em;\">\n",
              "    hibernate\n",
              "    <span style=\"font-size: 0.8em; font-weight: bold; line-height: 1; border-radius: 0.35em; vertical-align: middle; margin-left: 0.5rem\">SKILL</span>\n",
              "</mark>\n",
              " \n",
              "<mark class=\"entity\" style=\"background: aqua; padding: 0.45em 0.6em; margin: 0 0.25em; line-height: 1; border-radius: 0.35em;\">\n",
              "    bootstrap\n",
              "    <span style=\"font-size: 0.8em; font-weight: bold; line-height: 1; border-radius: 0.35em; vertical-align: middle; margin-left: 0.5rem\">SKILL</span>\n",
              "</mark>\n",
              "<br><br>skills<br>programming languages \n",
              "<mark class=\"entity\" style=\"background: aqua; padding: 0.45em 0.6em; margin: 0 0.25em; line-height: 1; border-radius: 0.35em;\">\n",
              "    java\n",
              "    <span style=\"font-size: 0.8em; font-weight: bold; line-height: 1; border-radius: 0.35em; vertical-align: middle; margin-left: 0.5rem\">SKILL</span>\n",
              "</mark>\n",
              " \n",
              "<mark class=\"entity\" style=\"background: aqua; padding: 0.45em 0.6em; margin: 0 0.25em; line-height: 1; border-radius: 0.35em;\">\n",
              "    python\n",
              "    <span style=\"font-size: 0.8em; font-weight: bold; line-height: 1; border-radius: 0.35em; vertical-align: middle; margin-left: 0.5rem\">SKILL</span>\n",
              "</mark>\n",
              " \n",
              "<mark class=\"entity\" style=\"background: aqua; padding: 0.45em 0.6em; margin: 0 0.25em; line-height: 1; border-radius: 0.35em;\">\n",
              "    html\n",
              "    <span style=\"font-size: 0.8em; font-weight: bold; line-height: 1; border-radius: 0.35em; vertical-align: middle; margin-left: 0.5rem\">SKILL</span>\n",
              "</mark>\n",
              " \n",
              "<mark class=\"entity\" style=\"background: aqua; padding: 0.45em 0.6em; margin: 0 0.25em; line-height: 1; border-radius: 0.35em;\">\n",
              "    css\n",
              "    <span style=\"font-size: 0.8em; font-weight: bold; line-height: 1; border-radius: 0.35em; vertical-align: middle; margin-left: 0.5rem\">SKILL</span>\n",
              "</mark>\n",
              " \n",
              "<mark class=\"entity\" style=\"background: aqua; padding: 0.45em 0.6em; margin: 0 0.25em; line-height: 1; border-radius: 0.35em;\">\n",
              "    javascript\n",
              "    <span style=\"font-size: 0.8em; font-weight: bold; line-height: 1; border-radius: 0.35em; vertical-align: middle; margin-left: 0.5rem\">SKILL</span>\n",
              "</mark>\n",
              " \n",
              "<mark class=\"entity\" style=\"background: aqua; padding: 0.45em 0.6em; margin: 0 0.25em; line-height: 1; border-radius: 0.35em;\">\n",
              "    mysql\n",
              "    <span style=\"font-size: 0.8em; font-weight: bold; line-height: 1; border-radius: 0.35em; vertical-align: middle; margin-left: 0.5rem\">SKILL</span>\n",
              "</mark>\n",
              " \n",
              "<mark class=\"entity\" style=\"background: aqua; padding: 0.45em 0.6em; margin: 0 0.25em; line-height: 1; border-radius: 0.35em;\">\n",
              "    oraclesql\n",
              "    <span style=\"font-size: 0.8em; font-weight: bold; line-height: 1; border-radius: 0.35em; vertical-align: middle; margin-left: 0.5rem\">SKILL</span>\n",
              "</mark>\n",
              "<br>frameworks and libraries spring spring boot typescript \n",
              "<mark class=\"entity\" style=\"background: aqua; padding: 0.45em 0.6em; margin: 0 0.25em; line-height: 1; border-radius: 0.35em;\">\n",
              "    nodejs\n",
              "    <span style=\"font-size: 0.8em; font-weight: bold; line-height: 1; border-radius: 0.35em; vertical-align: middle; margin-left: 0.5rem\">SKILL</span>\n",
              "</mark>\n",
              " expressjs reactjs \n",
              "<mark class=\"entity\" style=\"background: aqua; padding: 0.45em 0.6em; margin: 0 0.25em; line-height: 1; border-radius: 0.35em;\">\n",
              "    vuejs\n",
              "    <span style=\"font-size: 0.8em; font-weight: bold; line-height: 1; border-radius: 0.35em; vertical-align: middle; margin-left: 0.5rem\">SKILL</span>\n",
              "</mark>\n",
              " \n",
              "<mark class=\"entity\" style=\"background: aqua; padding: 0.45em 0.6em; margin: 0 0.25em; line-height: 1; border-radius: 0.35em;\">\n",
              "    bootstrap\n",
              "    <span style=\"font-size: 0.8em; font-weight: bold; line-height: 1; border-radius: 0.35em; vertical-align: middle; margin-left: 0.5rem\">SKILL</span>\n",
              "</mark>\n",
              " \n",
              "<mark class=\"entity\" style=\"background: aqua; padding: 0.45em 0.6em; margin: 0 0.25em; line-height: 1; border-radius: 0.35em;\">\n",
              "    tailwind\n",
              "    <span style=\"font-size: 0.8em; font-weight: bold; line-height: 1; border-radius: 0.35em; vertical-align: middle; margin-left: 0.5rem\">SKILL</span>\n",
              "</mark>\n",
              " \n",
              "<mark class=\"entity\" style=\"background: aqua; padding: 0.45em 0.6em; margin: 0 0.25em; line-height: 1; border-radius: 0.35em;\">\n",
              "    css\n",
              "    <span style=\"font-size: 0.8em; font-weight: bold; line-height: 1; border-radius: 0.35em; vertical-align: middle; margin-left: 0.5rem\">SKILL</span>\n",
              "</mark>\n",
              "<br>tools \n",
              "<mark class=\"entity\" style=\"background: aqua; padding: 0.45em 0.6em; margin: 0 0.25em; line-height: 1; border-radius: 0.35em;\">\n",
              "    git\n",
              "    <span style=\"font-size: 0.8em; font-weight: bold; line-height: 1; border-radius: 0.35em; vertical-align: middle; margin-left: 0.5rem\">SKILL</span>\n",
              "</mark>\n",
              " \n",
              "<mark class=\"entity\" style=\"background: aqua; padding: 0.45em 0.6em; margin: 0 0.25em; line-height: 1; border-radius: 0.35em;\">\n",
              "    github\n",
              "    <span style=\"font-size: 0.8em; font-weight: bold; line-height: 1; border-radius: 0.35em; vertical-align: middle; margin-left: 0.5rem\">SKILL</span>\n",
              "</mark>\n",
              " \n",
              "<mark class=\"entity\" style=\"background: aqua; padding: 0.45em 0.6em; margin: 0 0.25em; line-height: 1; border-radius: 0.35em;\">\n",
              "    jira\n",
              "    <span style=\"font-size: 0.8em; font-weight: bold; line-height: 1; border-radius: 0.35em; vertical-align: middle; margin-left: 0.5rem\">SKILL</span>\n",
              "</mark>\n",
              " \n",
              "<mark class=\"entity\" style=\"background: aqua; padding: 0.45em 0.6em; margin: 0 0.25em; line-height: 1; border-radius: 0.35em;\">\n",
              "    tableau\n",
              "    <span style=\"font-size: 0.8em; font-weight: bold; line-height: 1; border-radius: 0.35em; vertical-align: middle; margin-left: 0.5rem\">SKILL</span>\n",
              "</mark>\n",
              " \n",
              "<mark class=\"entity\" style=\"background: aqua; padding: 0.45em 0.6em; margin: 0 0.25em; line-height: 1; border-radius: 0.35em;\">\n",
              "    excel\n",
              "    <span style=\"font-size: 0.8em; font-weight: bold; line-height: 1; border-radius: 0.35em; vertical-align: middle; margin-left: 0.5rem\">SKILL</span>\n",
              "</mark>\n",
              " jupyter notebook google colab vscode intellij<br></div></span>"
            ]
          },
          "metadata": {}
        }
      ]
    },
    {
      "cell_type": "markdown",
      "source": [
        "# Text Preprocessing\n",
        "1. Text Cleaning\n",
        "2. Tokenization\n",
        "3. Preparation\n",
        "    *   Stop Word Removal\n",
        "    *   Stemming\n",
        "    *   Lemmatization\n"
      ],
      "metadata": {
        "id": "5XmEFDp7T74Z"
      }
    },
    {
      "cell_type": "code",
      "source": [],
      "metadata": {
        "id": "3LMXVAtlUgZp"
      },
      "execution_count": null,
      "outputs": []
    },
    {
      "cell_type": "markdown",
      "source": [
        "# Feature Extraction Using TF-IDF"
      ],
      "metadata": {
        "id": "zechozRgUVUh"
      }
    },
    {
      "cell_type": "code",
      "source": [],
      "metadata": {
        "id": "BCz2rM53Ug4Y"
      },
      "execution_count": null,
      "outputs": []
    },
    {
      "cell_type": "markdown",
      "source": [
        "# Consine Similarity"
      ],
      "metadata": {
        "id": "P6S79BXaUYxJ"
      }
    },
    {
      "cell_type": "code",
      "source": [
        "import nltk\n",
        "nltk.download('punkt')"
      ],
      "metadata": {
        "id": "rDbzU0uhUc2Z",
        "colab": {
          "base_uri": "https://localhost:8080/"
        },
        "outputId": "26ff7c25-c188-4558-8b50-21a408375cd6"
      },
      "execution_count": 19,
      "outputs": [
        {
          "output_type": "stream",
          "name": "stderr",
          "text": [
            "[nltk_data] Downloading package punkt to /root/nltk_data...\n",
            "[nltk_data]   Package punkt is already up-to-date!\n"
          ]
        },
        {
          "output_type": "execute_result",
          "data": {
            "text/plain": [
              "True"
            ]
          },
          "metadata": {},
          "execution_count": 19
        }
      ]
    },
    {
      "cell_type": "code",
      "source": [
        "# tokenization\n",
        "import string\n",
        "from collections import Counter\n",
        "\n",
        "def tokenize(text):\n",
        "    text = text.lower()\n",
        "    no_punc_text = text.translate(str.maketrans('', '', string.punctuation))\n",
        "    tokens = nltk.word_tokenize(no_punc_text)\n",
        "    return tokens\n",
        "\n",
        "resume_tokens = tokenize(resume_text)\n",
        "resume_tokens_count = Counter(resume_tokens)\n",
        "print('10 top tokens in resume:')\n",
        "print(resume_tokens_count.most_common(10))\n",
        "\n",
        "job_tokens = tokenize(job_description)\n",
        "job_tokens_count = Counter(job_tokens)\n",
        "print('10 top tokens in job description:')\n",
        "print(job_tokens_count.most_common(10))"
      ],
      "metadata": {
        "colab": {
          "base_uri": "https://localhost:8080/"
        },
        "id": "ccLt6tAYbHU0",
        "outputId": "01e8d859-841b-4cd8-eb50-b771c7d1bf47"
      },
      "execution_count": 20,
      "outputs": [
        {
          "output_type": "stream",
          "name": "stdout",
          "text": [
            "10 top tokens in resume:\n",
            "[('and', 17), ('to', 7), ('skills', 7), ('the', 6), ('spring', 6), ('in', 5), ('ant', 5), ('malaysia', 4), ('for', 4), ('developed', 4)]\n",
            "10 top tokens in job description:\n",
            "[('and', 29), ('software', 10), ('with', 8), ('to', 8), ('development', 7), ('in', 6), ('of', 5), ('design', 5), ('team', 4), ('on', 4)]\n"
          ]
        }
      ]
    },
    {
      "cell_type": "code",
      "source": [
        "# stop word removal\n",
        "from nltk.corpus import stopwords\n",
        "\n",
        "resume_tokens_filtered = [w for w in resume_tokens if not w in stopwords.words('english')]\n",
        "resume_tokens_filtered_count = Counter(resume_tokens_filtered)\n",
        "print('50 top tokens in resume after stop word removal:')\n",
        "print(resume_tokens_filtered_count.most_common(50))\n",
        "\n",
        "job_tokens_filtered = [w for w in job_tokens if not w in stopwords.words('english')]\n",
        "job_tokens_filtered_count = Counter(job_tokens_filtered)\n",
        "print('50 top tokens in job after stop word removal:')\n",
        "print(job_tokens_filtered_count.most_common(50))"
      ],
      "metadata": {
        "colab": {
          "base_uri": "https://localhost:8080/"
        },
        "id": "p51JMSaufcnh",
        "outputId": "78df922f-f30c-4844-f3a3-07fc6a993204"
      },
      "execution_count": 25,
      "outputs": [
        {
          "output_type": "stream",
          "name": "stdout",
          "text": [
            "10 top tokens in resume after stop word removal:\n",
            "[('skills', 7), ('spring', 6), ('ant', 5), ('malaysia', 4), ('developed', 4), ('css', 4), ('javascript', 4), ('website', 4), ('bootstrap', 4), ('kuala', 3), ('lumpur', 3), ('java', 3), ('group', 3), ('internal', 3), ('based', 3), ('depression', 3), ('application', 3), ('boot', 3), ('oct', 2), ('july', 2), ('2024', 2), ('–', 2), ('intern', 2), ('collaborated', 2), ('audit', 2), ('logging', 2), ('feature', 2), ('’', 2), ('trade', 2), ('system', 2), ('project', 2), ('teams', 2), ('frameworks', 2), ('tools', 2), ('howuku', 2), ('2023', 2), ('ab', 2), ('testing', 2), ('features', 2), ('experiment', 2), ('data', 2), ('vuejs', 2), ('expressjs', 2), ('mysql', 2), ('projects', 2), ('portfolio', 2), ('reactjs', 2), ('level', 2), ('python', 2), ('thymeleaf', 2)]\n",
            "10 top tokens in job after stop word removal:\n",
            "[('software', 10), ('development', 7), ('design', 5), ('team', 4), ('job', 3), ('systems', 3), ('including', 3), ('collaborate', 3), ('members', 3), ('ensure', 3), ('database', 3), ('engineering', 2), ('handson', 2), ('experience', 2), ('realworld', 2), ('projects', 2), ('testing', 2), ('assist', 2), ('coding', 2), ('standards', 2), ('best', 2), ('practices', 2), ('learn', 2), ('apply', 2), ('technologies', 2), ('patterns', 2), ('crossfunctional', 2), ('teams', 2), ('work', 2), ('provide', 2), ('technical', 2), ('document', 2), ('communicate', 2), ('troubleshooting', 2), ('debugging', 2), ('issues', 2), ('analyse', 2), ('root', 2), ('causes', 2), ('propose', 2), ('solutions', 2), ('ethics', 2), ('internship', 2), ('strong', 2), ('understanding', 2), ('sql', 2), ('purpose', 1), ('support', 1), ('gaining', 1), ('focus', 1)]\n"
          ]
        }
      ]
    },
    {
      "cell_type": "code",
      "source": [
        "# stemming\n",
        "from nltk.stem.porter import *\n",
        "\n",
        "def stem_tokens(tokens, stemmer):\n",
        "    stemmed = []\n",
        "    for item in tokens:\n",
        "        stemmed.append(stemmer.stem(item))\n",
        "    return stemmed\n",
        "\n",
        "stemmer = PorterStemmer()\n",
        "\n",
        "resume_tokens_stemmed = stem_tokens(resume_tokens_filtered, stemmer)\n",
        "resume_tokens_stemmed_count = Counter(resume_tokens_stemmed)\n",
        "print('50 top tokens in resume after stemming:')\n",
        "print(resume_tokens_stemmed_count.most_common(50))\n",
        "\n",
        "job_tokens_stemmed = stem_tokens(job_tokens_filtered, stemmer)\n",
        "job_tokens_stemmed_count = Counter(job_tokens_stemmed)\n",
        "print('50 top tokens in job after stemming:')\n",
        "print(job_tokens_stemmed_count.most_common(50))"
      ],
      "metadata": {
        "colab": {
          "base_uri": "https://localhost:8080/"
        },
        "id": "N41chXORiPCc",
        "outputId": "43da44c4-0bcd-42e2-e5b7-e34b9398bcdd"
      },
      "execution_count": 28,
      "outputs": [
        {
          "output_type": "stream",
          "name": "stdout",
          "text": [
            "50 top tokens in resume after stemming:\n",
            "[('develop', 7), ('skill', 7), ('intern', 6), ('spring', 6), ('ant', 5), ('featur', 5), ('malaysia', 4), ('project', 4), ('css', 4), ('javascript', 4), ('websit', 4), ('bootstrap', 4), ('kuala', 3), ('lumpur', 3), ('experi', 3), ('java', 3), ('group', 3), ('team', 3), ('base', 3), ('depress', 3), ('applic', 3), ('boot', 3), ('oct', 2), ('juli', 2), ('work', 2), ('2024', 2), ('–', 2), ('collabor', 2), ('audit', 2), ('log', 2), ('’', 2), ('trade', 2), ('strategi', 2), ('system', 2), ('user', 2), ('framework', 2), ('middlewar', 2), ('tool', 2), ('implement', 2), ('howuku', 2), ('2023', 2), ('ab', 2), ('test', 2), ('rule', 2), ('data', 2), ('vuej', 2), ('expressj', 2), ('mysql', 2), ('portfolio', 2), ('reactj', 2)]\n",
            "50 top tokens in job after stemming:\n",
            "[('softwar', 10), ('develop', 8), ('team', 6), ('design', 6), ('job', 3), ('engin', 3), ('project', 3), ('system', 3), ('includ', 3), ('document', 3), ('test', 3), ('collabor', 3), ('member', 3), ('code', 3), ('ensur', 3), ('understand', 3), ('requir', 3), ('troubleshoot', 3), ('debug', 3), ('databas', 3), ('gain', 2), ('handson', 2), ('experi', 2), ('realworld', 2), ('applic', 2), ('assist', 2), ('standard', 2), ('best', 2), ('practic', 2), ('learn', 2), ('appli', 2), ('technolog', 2), ('pattern', 2), ('crossfunct', 2), ('work', 2), ('manag', 2), ('provid', 2), ('technic', 2), ('commun', 2), ('effect', 2), ('issu', 2), ('identifi', 2), ('analys', 2), ('root', 2), ('caus', 2), ('propos', 2), ('solut', 2), ('profession', 2), ('ethic', 2), ('integr', 2)]\n"
          ]
        }
      ]
    },
    {
      "cell_type": "code",
      "source": [
        "# tf-idf\n",
        "\n",
        "from sklearn.feature_extraction.text import TfidfVectorizer\n",
        "\n",
        "tfidf = TfidfVectorizer(tokenizer=tokenize, stop_words='english')\n",
        "\n",
        "def compute_similarity(text1, text2):\n",
        "    vectorizer = TfidfVectorizer()\n",
        "    tfidf_matrix = vectorizer.fit_transform([text1, text2])\n",
        "    return cosine_similarity(tfidf_matrix[0:1], tfidf_matrix[1:2])[0][0]\n",
        "\n",
        "similarity_score = compute_similarity(resume_text, job_description)\n",
        "print(f\"Cosine Similarity Score: {similarity_score * 100:.2f}%\")"
      ],
      "metadata": {
        "id": "RPUqasIwjth5",
        "outputId": "5f856a5a-761a-4b1f-8f86-abaf1ada35e6",
        "colab": {
          "base_uri": "https://localhost:8080/"
        }
      },
      "execution_count": 37,
      "outputs": [
        {
          "output_type": "stream",
          "name": "stdout",
          "text": [
            "Cosine Similarity Score: 43.28%\n"
          ]
        }
      ]
    },
    {
      "cell_type": "code",
      "source": [],
      "metadata": {
        "id": "pebk-tyxkmIu"
      },
      "execution_count": null,
      "outputs": []
    },
    {
      "cell_type": "code",
      "source": [],
      "metadata": {
        "id": "05ZBjFrNklYf"
      },
      "execution_count": null,
      "outputs": []
    },
    {
      "cell_type": "code",
      "source": [
        "import spacy\n",
        "import re\n",
        "from sklearn.feature_extraction.text import TfidfVectorizer\n",
        "from sklearn.metrics.pairwise import cosine_similarity\n",
        "from nltk.corpus import stopwords\n",
        "from nltk.stem import PorterStemmer\n",
        "from nltk.stem import WordNetLemmatizer\n",
        "import nltk\n",
        "\n",
        "# Download required NLTK data\n",
        "nltk.download('stopwords')\n",
        "nltk.download('wordnet')\n",
        "\n",
        "# Load the SpaCy model (adjust path to your model)\n",
        "nlp = spacy.load(\"/content/drive/MyDrive/FYP/Implementation/spacy_output/model-best\")\n",
        "\n",
        "# Initialize text processing components\n",
        "stop_words = set(stopwords.words('english'))\n",
        "stemmer = PorterStemmer()\n",
        "lemmatizer = WordNetLemmatizer()\n",
        "\n",
        "# Define preprocessing function\n",
        "def preprocess_text(text):\n",
        "    # Text cleaning: lowercase, remove punctuation and extra whitespace\n",
        "    text = text.lower()\n",
        "    text = re.sub(r'[^a-z\\s]', '', text)\n",
        "    text = ' '.join(text.split())\n",
        "\n",
        "    # Tokenization\n",
        "    tokens = text.split()\n",
        "\n",
        "    # Stop word removal\n",
        "    tokens = [word for word in tokens if word not in stop_words]\n",
        "\n",
        "    # Stemming and lemmatization\n",
        "    tokens = [stemmer.stem(word) for word in tokens]\n",
        "    tokens = [lemmatizer.lemmatize(word) for word in tokens]\n",
        "\n",
        "    # Rejoin tokens to a single string\n",
        "    return ' '.join(tokens)\n",
        "\n",
        "# Preprocess resume and job description\n",
        "resume_text_processed = preprocess_text(resume_text)\n",
        "job_description_processed = preprocess_text(job_description)\n",
        "\n",
        "# Extract skills from resume using NER\n",
        "resume_doc = nlp(resume_text)\n",
        "skills = [ent.text for ent in resume_doc.ents if ent.label_ == 'SKILL']\n",
        "\n",
        "# Define function to compute cosine similarity\n",
        "def compute_similarity(text1, text2):\n",
        "    vectorizer = TfidfVectorizer()\n",
        "    tfidf_matrix = vectorizer.fit_transform([text1, text2])\n",
        "    return cosine_similarity(tfidf_matrix[0:1], tfidf_matrix[1:2])[0][0]\n",
        "\n",
        "# Similarity calculation\n",
        "if len(skills) >= 5:  # if sufficient skills are detected\n",
        "    skills_text = ' '.join(skills)\n",
        "    print(skills_text)\n",
        "    similarity_score = compute_similarity(skills_text, job_description_processed)\n",
        "else:\n",
        "    # Use the entire resume and job description text if skills are insufficient\n",
        "    similarity_score = compute_similarity(resume_text_processed, job_description_processed)\n",
        "\n",
        "similarity_score_skill = compute_similarity(skills_text, job_description_processed)\n",
        "similarity_score_overall = compute_similarity(resume_text_processed, job_description_processed)\n",
        "\n",
        "similarity_score = similarity_score_skill * 0.3 + similarity_score_overall * 0.7\n",
        "\n",
        "print(f\"Cosine Similarity Score: {similarity_score * 100:.2f}%\")"
      ],
      "metadata": {
        "colab": {
          "base_uri": "https://localhost:8080/"
        },
        "id": "6hS72RkIXokO",
        "outputId": "af27e767-a438-41fb-f9e5-15f1be141b44"
      },
      "execution_count": 41,
      "outputs": [
        {
          "output_type": "stream",
          "name": "stderr",
          "text": [
            "[nltk_data] Downloading package stopwords to /root/nltk_data...\n",
            "[nltk_data]   Package stopwords is already up-to-date!\n",
            "[nltk_data] Downloading package wordnet to /root/nltk_data...\n",
            "[nltk_data]   Package wordnet is already up-to-date!\n"
          ]
        },
        {
          "output_type": "stream",
          "name": "stdout",
          "text": [
            "qing chew java spring sofaboot javascript bootstrap vuejs mysql javascript reactjs css bootstrap python pandas scikitlearn spring boot spring mvc hibernate bootstrap java python html css javascript mysql oraclesql nodejs vuejs bootstrap tailwind css git github jira tableau excel\n",
            "Cosine Similarity Score: 14.66%\n"
          ]
        }
      ]
    }
  ]
}