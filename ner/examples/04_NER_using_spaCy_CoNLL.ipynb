{
  "nbformat": 4,
  "nbformat_minor": 0,
  "metadata": {
    "colab": {
      "name": "04_NER_using_spaCy_CoNLL.ipynb",
      "provenance": []
    },
    "kernelspec": {
      "display_name": "Python 3",
      "name": "python3"
    },
    "language_info": {
      "codemirror_mode": {
        "name": "ipython",
        "version": 3
      },
      "file_extension": ".py",
      "mimetype": "text/x-python",
      "name": "python",
      "nbconvert_exporter": "python",
      "pygments_lexer": "ipython3",
      "version": "3.8.3"
    }
  },
  "cells": [
    {
      "cell_type": "markdown",
      "metadata": {
        "id": "q5D0DhOQwTwq"
      },
      "source": [
        "# Training and Evaluating an NER model with spaCy on the CoNLL dataset\n",
        "\n",
        "In this notebook, we will take a look at using spaCy commandline to train and evaluate a NER model. We will also compare it with the pretrained NER model in spacy.\n",
        "\n",
        "Note: we will create multiple folders during this experiment:\n",
        "spacyNER_data"
      ]
    },
    {
      "cell_type": "markdown",
      "metadata": {
        "id": "AMQsjIY_wTwu"
      },
      "source": [
        "## Step 1: Converting data to json structures so it can be used by Spacy"
      ]
    },
    {
      "cell_type": "code",
      "metadata": {
        "id": "0ENm_PG8wTwu"
      },
      "source": [
        "import os"
      ],
      "execution_count": 1,
      "outputs": []
    },
    {
      "cell_type": "code",
      "metadata": {
        "colab": {
          "base_uri": "https://localhost:8080/",
          "height": 142
        },
        "id": "bvKsy7lSwTwv",
        "outputId": "45fe42bc-e8dc-45a0-e9e4-57381c21e17b"
      },
      "source": [
        "# upload train.txt, test.txt, valid.txt from Data/conll2003/en\n",
        "try:\n",
        "    from google.colab import files\n",
        "    uploaded = files.upload()\n",
        "except ModuleNotFoundError:\n",
        "    print('Not using colab')"
      ],
      "execution_count": 2,
      "outputs": [
        {
          "output_type": "display_data",
          "data": {
            "text/plain": [
              "<IPython.core.display.HTML object>"
            ],
            "text/html": [
              "\n",
              "     <input type=\"file\" id=\"files-03cafc1c-7ae7-4e3e-88ec-ffd2a6457d0e\" name=\"files[]\" multiple disabled\n",
              "        style=\"border:none\" />\n",
              "     <output id=\"result-03cafc1c-7ae7-4e3e-88ec-ffd2a6457d0e\">\n",
              "      Upload widget is only available when the cell has been executed in the\n",
              "      current browser session. Please rerun this cell to enable.\n",
              "      </output>\n",
              "      <script>// Copyright 2017 Google LLC\n",
              "//\n",
              "// Licensed under the Apache License, Version 2.0 (the \"License\");\n",
              "// you may not use this file except in compliance with the License.\n",
              "// You may obtain a copy of the License at\n",
              "//\n",
              "//      http://www.apache.org/licenses/LICENSE-2.0\n",
              "//\n",
              "// Unless required by applicable law or agreed to in writing, software\n",
              "// distributed under the License is distributed on an \"AS IS\" BASIS,\n",
              "// WITHOUT WARRANTIES OR CONDITIONS OF ANY KIND, either express or implied.\n",
              "// See the License for the specific language governing permissions and\n",
              "// limitations under the License.\n",
              "\n",
              "/**\n",
              " * @fileoverview Helpers for google.colab Python module.\n",
              " */\n",
              "(function(scope) {\n",
              "function span(text, styleAttributes = {}) {\n",
              "  const element = document.createElement('span');\n",
              "  element.textContent = text;\n",
              "  for (const key of Object.keys(styleAttributes)) {\n",
              "    element.style[key] = styleAttributes[key];\n",
              "  }\n",
              "  return element;\n",
              "}\n",
              "\n",
              "// Max number of bytes which will be uploaded at a time.\n",
              "const MAX_PAYLOAD_SIZE = 100 * 1024;\n",
              "\n",
              "function _uploadFiles(inputId, outputId) {\n",
              "  const steps = uploadFilesStep(inputId, outputId);\n",
              "  const outputElement = document.getElementById(outputId);\n",
              "  // Cache steps on the outputElement to make it available for the next call\n",
              "  // to uploadFilesContinue from Python.\n",
              "  outputElement.steps = steps;\n",
              "\n",
              "  return _uploadFilesContinue(outputId);\n",
              "}\n",
              "\n",
              "// This is roughly an async generator (not supported in the browser yet),\n",
              "// where there are multiple asynchronous steps and the Python side is going\n",
              "// to poll for completion of each step.\n",
              "// This uses a Promise to block the python side on completion of each step,\n",
              "// then passes the result of the previous step as the input to the next step.\n",
              "function _uploadFilesContinue(outputId) {\n",
              "  const outputElement = document.getElementById(outputId);\n",
              "  const steps = outputElement.steps;\n",
              "\n",
              "  const next = steps.next(outputElement.lastPromiseValue);\n",
              "  return Promise.resolve(next.value.promise).then((value) => {\n",
              "    // Cache the last promise value to make it available to the next\n",
              "    // step of the generator.\n",
              "    outputElement.lastPromiseValue = value;\n",
              "    return next.value.response;\n",
              "  });\n",
              "}\n",
              "\n",
              "/**\n",
              " * Generator function which is called between each async step of the upload\n",
              " * process.\n",
              " * @param {string} inputId Element ID of the input file picker element.\n",
              " * @param {string} outputId Element ID of the output display.\n",
              " * @return {!Iterable<!Object>} Iterable of next steps.\n",
              " */\n",
              "function* uploadFilesStep(inputId, outputId) {\n",
              "  const inputElement = document.getElementById(inputId);\n",
              "  inputElement.disabled = false;\n",
              "\n",
              "  const outputElement = document.getElementById(outputId);\n",
              "  outputElement.innerHTML = '';\n",
              "\n",
              "  const pickedPromise = new Promise((resolve) => {\n",
              "    inputElement.addEventListener('change', (e) => {\n",
              "      resolve(e.target.files);\n",
              "    });\n",
              "  });\n",
              "\n",
              "  const cancel = document.createElement('button');\n",
              "  inputElement.parentElement.appendChild(cancel);\n",
              "  cancel.textContent = 'Cancel upload';\n",
              "  const cancelPromise = new Promise((resolve) => {\n",
              "    cancel.onclick = () => {\n",
              "      resolve(null);\n",
              "    };\n",
              "  });\n",
              "\n",
              "  // Wait for the user to pick the files.\n",
              "  const files = yield {\n",
              "    promise: Promise.race([pickedPromise, cancelPromise]),\n",
              "    response: {\n",
              "      action: 'starting',\n",
              "    }\n",
              "  };\n",
              "\n",
              "  cancel.remove();\n",
              "\n",
              "  // Disable the input element since further picks are not allowed.\n",
              "  inputElement.disabled = true;\n",
              "\n",
              "  if (!files) {\n",
              "    return {\n",
              "      response: {\n",
              "        action: 'complete',\n",
              "      }\n",
              "    };\n",
              "  }\n",
              "\n",
              "  for (const file of files) {\n",
              "    const li = document.createElement('li');\n",
              "    li.append(span(file.name, {fontWeight: 'bold'}));\n",
              "    li.append(span(\n",
              "        `(${file.type || 'n/a'}) - ${file.size} bytes, ` +\n",
              "        `last modified: ${\n",
              "            file.lastModifiedDate ? file.lastModifiedDate.toLocaleDateString() :\n",
              "                                    'n/a'} - `));\n",
              "    const percent = span('0% done');\n",
              "    li.appendChild(percent);\n",
              "\n",
              "    outputElement.appendChild(li);\n",
              "\n",
              "    const fileDataPromise = new Promise((resolve) => {\n",
              "      const reader = new FileReader();\n",
              "      reader.onload = (e) => {\n",
              "        resolve(e.target.result);\n",
              "      };\n",
              "      reader.readAsArrayBuffer(file);\n",
              "    });\n",
              "    // Wait for the data to be ready.\n",
              "    let fileData = yield {\n",
              "      promise: fileDataPromise,\n",
              "      response: {\n",
              "        action: 'continue',\n",
              "      }\n",
              "    };\n",
              "\n",
              "    // Use a chunked sending to avoid message size limits. See b/62115660.\n",
              "    let position = 0;\n",
              "    do {\n",
              "      const length = Math.min(fileData.byteLength - position, MAX_PAYLOAD_SIZE);\n",
              "      const chunk = new Uint8Array(fileData, position, length);\n",
              "      position += length;\n",
              "\n",
              "      const base64 = btoa(String.fromCharCode.apply(null, chunk));\n",
              "      yield {\n",
              "        response: {\n",
              "          action: 'append',\n",
              "          file: file.name,\n",
              "          data: base64,\n",
              "        },\n",
              "      };\n",
              "\n",
              "      let percentDone = fileData.byteLength === 0 ?\n",
              "          100 :\n",
              "          Math.round((position / fileData.byteLength) * 100);\n",
              "      percent.textContent = `${percentDone}% done`;\n",
              "\n",
              "    } while (position < fileData.byteLength);\n",
              "  }\n",
              "\n",
              "  // All done.\n",
              "  yield {\n",
              "    response: {\n",
              "      action: 'complete',\n",
              "    }\n",
              "  };\n",
              "}\n",
              "\n",
              "scope.google = scope.google || {};\n",
              "scope.google.colab = scope.google.colab || {};\n",
              "scope.google.colab._files = {\n",
              "  _uploadFiles,\n",
              "  _uploadFilesContinue,\n",
              "};\n",
              "})(self);\n",
              "</script> "
            ]
          },
          "metadata": {}
        },
        {
          "output_type": "stream",
          "name": "stdout",
          "text": [
            "Saving valid.txt to valid.txt\n",
            "Saving train.txt to train.txt\n",
            "Saving test.txt to test.txt\n"
          ]
        }
      ]
    },
    {
      "cell_type": "code",
      "metadata": {
        "colab": {
          "base_uri": "https://localhost:8080/"
        },
        "id": "g-KC1D-ZwTwx",
        "outputId": "17005e28-a123-438a-da08-3e865df14a88"
      },
      "source": [
        "#Read the CONLL data from conll2003 folder, and store the formatted data into a folder spacyNER_data\n",
        "\n",
        "# !mkdir spacyNER_data\n",
        "os.mkdir('spacyNER_data')\n",
        "\n",
        "#the above lines create folder if it doesn't exist. If it does, the output shows a message that it\n",
        "#already exists and cannot be created again\n",
        "try:\n",
        "    import google.colab\n",
        "    !python -m spacy convert \"train.txt\" spacyNER_data -c ner\n",
        "    !python -m spacy convert \"test.txt\" spacyNER_data -c ner\n",
        "    !python -m spacy convert \"valid.txt\" spacyNER_data -c ner\n",
        "except ModuleNotFoundError:\n",
        "    !python -m spacy convert \"Data/conll2003/en/train.txt\" spacyNER_data -c ner\n",
        "    !python -m spacy convert \"Data/conll2003/en/test.txt\" spacyNER_data -c ner\n",
        "    !python -m spacy convert \"Data/conll2003/en/valid.txt\" spacyNER_data -c ner"
      ],
      "execution_count": 3,
      "outputs": [
        {
          "output_type": "stream",
          "name": "stdout",
          "text": [
            "\u001b[38;5;4mℹ Auto-detected token-per-line NER format\u001b[0m\n",
            "\u001b[38;5;4mℹ Grouping every 1 sentences into a document.\u001b[0m\n",
            "\u001b[38;5;3m⚠ To generate better training data, you may want to group sentences\n",
            "into documents with `-n 10`.\u001b[0m\n",
            "\u001b[38;5;2m✔ Generated output file (14987 documents):\n",
            "spacyNER_data/train.spacy\u001b[0m\n",
            "\u001b[38;5;4mℹ Auto-detected token-per-line NER format\u001b[0m\n",
            "\u001b[38;5;4mℹ Grouping every 1 sentences into a document.\u001b[0m\n",
            "\u001b[38;5;3m⚠ To generate better training data, you may want to group sentences\n",
            "into documents with `-n 10`.\u001b[0m\n",
            "\u001b[38;5;2m✔ Generated output file (3684 documents): spacyNER_data/test.spacy\u001b[0m\n",
            "\u001b[38;5;4mℹ Auto-detected token-per-line NER format\u001b[0m\n",
            "\u001b[38;5;4mℹ Grouping every 1 sentences into a document.\u001b[0m\n",
            "\u001b[38;5;3m⚠ To generate better training data, you may want to group sentences\n",
            "into documents with `-n 10`.\u001b[0m\n",
            "\u001b[38;5;2m✔ Generated output file (3466 documents): spacyNER_data/valid.spacy\u001b[0m\n"
          ]
        }
      ]
    },
    {
      "cell_type": "markdown",
      "metadata": {
        "id": "SMI4n0JywTwx"
      },
      "source": [
        "#### For example, the data before and after running spacy's convert program looks as follows."
      ]
    },
    {
      "cell_type": "code",
      "metadata": {
        "colab": {
          "base_uri": "https://localhost:8080/"
        },
        "id": "X4wBa1MGwTwy",
        "outputId": "e6d154ee-3892-4c29-e228-5fb3b88c4c11"
      },
      "source": [
        "try:\n",
        "    import google.colab\n",
        "    !echo \"BEFORE : (train.txt)\"\n",
        "    !head \"train.txt\" -n 11 | tail -n 9\n",
        "except ModuleNotFoundError:\n",
        "    print(\"BEFORE : (Data/conll2003/en/train.txt)\")\n",
        "    file = open(\"Data/conll2003/en/train.txt\")\n",
        "    content = file.readlines()\n",
        "    print(*content[1:11])"
      ],
      "execution_count": 4,
      "outputs": [
        {
          "output_type": "stream",
          "name": "stdout",
          "text": [
            "BEFORE : (train.txt)\n",
            "EU NNP B-NP B-ORG\n",
            "rejects VBZ B-VP O\n",
            "German JJ B-NP B-MISC\n",
            "call NN I-NP O\n",
            "to TO B-VP O\n",
            "boycott VB I-VP O\n",
            "British JJ B-NP B-MISC\n",
            "lamb NN I-NP O\n",
            ". . O O\n"
          ]
        }
      ]
    },
    {
      "cell_type": "code",
      "metadata": {
        "colab": {
          "base_uri": "https://localhost:8080/"
        },
        "id": "oDYEtB09wTwy",
        "outputId": "0b214caf-2bd8-46b9-9da2-a1d33822b88b"
      },
      "source": [
        "try:\n",
        "    import google.colab\n",
        "    !echo \"AFTER : (spacyNER_data/train.spacy)\"\n",
        "    !head \"spacyNER_data/train.spacy\" -n 77 | tail -n 58\n",
        "except ModuleNotFoundError:\n",
        "    print(\"AFTER : (spacyNER_data/train.json)\")\n",
        "    f = open('spacyNER_data/train.json')\n",
        "    content = f.readlines()\n",
        "    print(*content[19:77])"
      ],
      "execution_count": 5,
      "outputs": [
        {
          "output_type": "stream",
          "name": "stdout",
          "text": [
            "AFTER : (spacyNER_data/train.spacy)\n",
            "y���|g�!Ly1Z�\u0010�m�R��zz�bN*~#U��d��>~�9���T\u000em\u0000ŜT��>_���}�n�bNjܦ5\u000f�U�Bk\u001e|�r�����2�\u000b�5�}�������<+m�����\u0015�o�\u000e7S\u0014��d�o?���z�r�*�����o\u001d=��o_���do�H�m�A1'�wޏ[����\u0016\u0014sR~��9\u000b��*Zu��]3��k\u0018:�2{w-a�\n",
            "5\\`\u000bʩ���#Q��S�wH+\u001d�sܝ�\u0012����\u001a\u0017�؜=U!��\u0004(������;��zh���`p���5K���&�ˀ�7��ov�]:��ح�z:�=������\u001f7\u0005��a9o\u0003�7v�0�g�Zw�����'�~�i�p������ʓ��yBP��^\u001d$)?\n",
            "����A���\u001fv� ;�\u000fx�>�������msW�r\u0011�I��2_ U\u000fKk~J��D���=b�i�bN,�t_��J��\u0019e�����׵�}�O<\u001fs\u0006\u0014sR��#/�P��\u001e'A1'�?�\u0015'Ҋ\u000fh���%3c���D�bN��l���鴠�]P�I���?���o��,P�I}?\u001d���];�u\u000b���}�\u0000Ŝ۾���\u001aJ\u0016���\u0002Ŝ�=w��s��h�\u000bٓ_�Kh\u0019�\u0000ŜԸ�k�L��7���o����\u001eZ��:���e�1]�f�bNj��V=�S��ϯ��\u0002Ŝ�ߩ�ؓU���\u0010�Svh�wh�k�k�)�}F��9\u000e\u0015����,�!4�\u0015�\\\u0015��tl1(����S�^n\u0016�\u0000Ŝ�?�U\u001f�t����냿�b�mu\u001b��ū\u0003�2ׂbNj���\u00161Q\u0011�n�@1�� �����۰kg��\u000bk\u0017I\\^\u0004�9�����O}d򃧃b�m����{�Ε�����\u001bd�\u000e��\u0006y����'��\u001e^;?���\u000b���[�_��\u0017c�\u000e�<\u0012����w����:�\u001eZ�zZ�'��\u000fȞ\u001dZ����\u0015���\u0002���i�\u000f��\u000e�{��\u0011�\u0018�ZP�I��Q�\u0011��[��\u0000�9)��� �2�d?(��C�_<�h���v\u001c&j�oU]\u0006�9����\u0013'N0v\u001f\f�9����m�\n",
            "�\u000b���bN�80���\u001c/P�I}?L�)���m�p�h��dP̹m��I�kOˏ�\u000e\u0005\u000fF�\n",
            "H�V����\u0003����w��E�D¤A�����N+������T\u0016\u0014sR�QZy��1W�϶>\u0001�9��k�\u0015�ҊC<s\u000b&���1\u0004�T{xm�\u0011�����\u000f�{�v\u0018�|\f��\u0005ŜT�Q-9zH� ��I/\u001f��g\u0007`Nj_�\u0001�\u001dn\n",
            "���A9�\u001e͖���ݚ\u001f\u0007�);��\u000f���;���~�g�|P�I��\u001e�޺\f��fG���^�@9e���\u001f�8��=J�L\u0016]�`���\u0006�}��[G�b��J˙'�a�P0����)�\\�����,�\u001b�!=�����Hv�t�\u001f�k��y1v�|��T�M�u�?l��Ѝ),�\\I��s4i�\u000f\u000eP\b�s�}o\u0003�9�u@�s\u001aI١uN#����Q�5�^�[�n\u001f'g&�n��<9��`�c���F~8��S�?*���2����sۮ�a�\u000f�\u001d͠���\u000f��U\u0018)�r\\\u0003\u0014sR�WAG?}Y�+\u0001�9��'o����^��A1'�N;�������\n",
            "(����{>m]q��0P�I��բ����ԥA1ǎ�oo\u000f-��S�kkEa?�[}6�h=\u001dx\u001bsR����\u000f����\u0013�Ԟ�a�\u001f��H~\u0001e���7Z�,�\t˚���\u0018\u0004�9������z��U�A1'��.��=\"a�\u0012P�I�S�\u001a\u0017\u001e�;f��':\u0018\u0014sR��y\u001b��\u001dZ�ʥ׫o\u001b.?s\u001f\u0014sn;��V�%���l��s'@1'vﲣ��*�\u0006\u000fP̹m\t��S7j�~�\"�R�'&�Nltb��%�\u0017�?�|+`km\b(�����\u000f����xʮ�����ڡUoI��\n",
            "�J\u0003��X�|YKW��~��~@i�x�z��U��pP̹-�󠦱�\u0006�Q�@9e������=;��\u001f�#�#ugoI\u0006Ŝ۾�q��O,��\u001d�Svh}?��SZyKZ�u�3G�m/�\u0000ŜT��\u0015����\u0015;;[�Wڵ�&�-U}1���)S\u001c�_s��z�������~�[�\b\u001dհ�\u0010\u0014sR��}�JK\u001e�_\u0011\u000e�9��7Z�`Z�kZy^�/�ν\u0016v�[r1(椞\u001b�}ｆ��ui޴y����\u0013��bE�V�9�A1'VONi�\u0019�{\u0011�-�y����3(��|���\u0015���>~Ϋ��޺��\u0013��g��^�#�ۻ����J�;6�ֹR�;(��nI�\t1١5�30No��\u000f\u0014sR~�ֺs���/\u0017\u0015\u001c��bN�_�\u001e\u0016\u001a�Hk�\u0003P�I�\u001fZ�L����l�}~�Ǻ\fP�I�?��r���\b/\u0004Ŝ��\u0003���em��\u001f�bN��Z}\bԅ�W\u001fB��ں3����GO\u000f���|c�>�e\u0015��1���i�@�\\jZ�\u0001�}\u0012�ƹV1��e�#ƁbN�_{I�YȻ\u001a��r�=��\u0014��U�ó�~=\n",
            "!r!,~\u0014�{�}?�e%5|2�\u0015���\u001a�iţq%*\u0017�_�h\u0005ŜT�bČ�n�O�Z\u0005�9)�C�_{��Y6?��,(������w\u0013�3>T�\u0007�9��\u0005�Z|p��zpV�>�@1'�\u000f���^� �v\u0015\u0014sn�CVN�3VGe�M�\tÆ��X�\u0010sRuB����~V���J��bE�ӧ\u001bm1'5n��ף�O\u001er{\u001f9\u0000\u0014����Y�j�6�S\u0002ŜT���R�1�>n�\u0003Ŝ��\u0005Z~g�ݪMv�̷uoiȑ�mLǜ�:Ƴk�\\\u0012�m\u0003�\u0005_o�+��Ĝ�?�U�=��;Q�a�\u000f��N����\u001f�;���к�Q�C�tw�>P�I�{I˿��wȞ��.#��n�\u0002Ŝ��u/>�r���\u0001P�Iţ��)\u0019�v|�+P������kZ�\u001c����\u000f�y>Z���F\u001a�b�\u000bO�b�m�(-�Ck����C����<(���~xm<���Dk\\��<��\u001e}\u0001\u0014sR뀴�5����_�\u001aOi}�o$]&�~\u001c�\b�9��V�v֐����V&(��Χ����<��H�G-KPN���΋�m`\u0019_>d�j�\u000b��?S\u0012�9�sN�D�j�w�G�����\u001a�aN�;�~��rqQ�N\u001d���{OcN�<\u0007#]ݪ��W\u0004�Kt��l�$�I��W\u001f-9�#�!�Ϩ�\u0005w\u001eE�<7Rv��p��H�n�,\u001eonTz�g�ơ��8՞���\u001b<��J��~��-�K��?�~P����~3��v����m��|Z6-ʪI�pZ<��=�9δ���v\u000f�o%��k{~�O��gjϹ5G6��8�-(��.��ܽÊ���b�my\u0017Z�&�\u001e�u竨-(椞���귾�z�@1'\u0015��Z߆q������q������\u0015��\\�^������WBC\u001dlX��%5�拊I�t\u0015l�5@�~{L �~tRv\"��Z_�fE�O͘\u001ew�tX�s���Ǖ/Խ\u000e�{/\\���\u001e�3�\u0019}^�cY���1o�.��vh���\u0015�˲�n�\u0003Ŝ�=�F|w\u001e\u001f*�*\u0002�\u001d��8\u001dW�Z�\u001f���X;.\u0011\u0014���G޶�V��\u001d��l����\u001f�=��\u0006��(P�I�Q&@�HݚYW\u0006,\u0019\u0011�0�說\u0015J����'���܁\"kt��bNjܖ�Y�>�t�\u0016(��6/!5�1���\u001b�H��Y���V�-�\u0007ej\u000f��-�i`m~T\u001e(����5n���\u001b$���\u0017\u0014sR�)�sq��w&5�d������!\u001c\u0014sR�O@P��x�e\u0006(�ܶ?kjE7�3Ea�A1'��\f~�It���\u0000�Sv��H̸5i�\u0013(���{\u001ehŽ�Χ�h���xJ+�!uN=S�sMvŤ�kmcK�\n",
            "\u001f+\u0018y�1\u001f��s3m\u00123�V��I�c�J�*q����a��a�x8ʫ��<9�:U��\u0017u��·��G�\u001e\u0001:,u���7Ze������\u000f�d���\u0016=�����1Ơ�����Z?�\u0019q 肁���i�t���Y���ӓ\u001cR��yF\u0006\u0014sR��Y\u0015���5�\u0017o6��$��\b��f�gw\u001d�I�޻:�!\u0016\u0014sR�`獐\t���}\u0004唝�e˾�X\u0016r\u001d\u0014sRq�[n�m\u0001e���}\u0012�B1�\t}�=�JOU�Y�G\u0000sn�7��z�/����O������\u0007��o���]\u001a��/|��(P�I�êz��~�.�-(��\u000b�_��]�Fw\u0001Ŝ���\u0010������-���S�\"S\u0013_nwIl��a��>,uޤ��\u001f��D�\u0010���\u0010�H*�\u000b��!\u0015���{��\bh��\u0019X����5��7S{��;/��*���wb��#��J\"Lv؍{\u000f\u0016��i�D�8�-JJ�cɋ��{�j�[2$�b��G�݅\n",
            "�՘���x-�j-�0c���W�\u001e����\\�r�3����풒�\\D��nx��*6�e^B��\f�r�R�)oO�bN�=\u001e�;S�M�\u0017~�V,\fsa�\u0013I=7�绚5��O7��'�\u001c�|�S�\u0011�7�R���^��?/z�ro,��g�\u000f���`�SEo�\u0003_^��X;�X�5}��!&�3��=�f�);��_�H쎐R90�ٕ6��s���w��w�,�ZP̉ͳ���r��#9U�+��?��w��\u001de��\u0014[�\u0000�{\u001eH=7��͒\u001fֹ�J��g�\u001a�ϲO��skޒ��{�J����>��x��uR��-\u0011#I\u000fc�A���Ώ;T]�9�z�#�\u0017�H��\u000e�9��V�w�k\t��\ts��5\u001b�r��9�~��d�5M�7�@9՞��qNo�˨\u0015��=\u0015[k'Ʃ�$?\t\u001d5Br�hPN�G�%�b�����oM[���,��H��V�C��\"+�_w����{� �v���$��ǝߍy����뒻j,�=��3��u�n�d�\n",
            "\u0015>�U<5�c���\u0013ͦ�QO�~��%r�C�s[��q��W��)�F\u000e�|������,���[�x��QHM((���Rv��\b�-s\u0017�8����6Gݙ�0'�O�V{vVm\u000f���;_�@<����\t���Ţ��\n",
            "���l��2����*���;kGj���Fѥq��\u0013�/�}�?�]�HW=�i'eN}Ü�s�t���Mo�Ǫ\u000f�-|\u0012z�Ĝ�z�����s���wMi\u001cy;<m6S{��_3�Y-j�YN]\u001a\u0014sR�i����e��{�\fZ\u0010�ӛe�\u001c��g�qJ\u000f���x��#�焁,�)����\u001e�i7�\u001c�\u0016�\u0014׎�%\u0015��y�m�\\|QԄ��\n",
            "\u00172\u00185��\u001e��!�/�K4z�Y;���v\n",
            "������bt���1\u000b=1'������aB��C�Qz\u001c;o��p͆�\t����/Cj���s�\u001c/�\u001fn��\u0010a��T4��3��2|��O\u001a���D���e�\u0007);��[A�w)]���ӊz�-i|�R?Jj�s��O5��\u0006����Z�e�\u001f���\u0004\u0006\u000eN\u0011Um\u001b����.��7,�\n",
            "H�ӶN�:�yǩ��J9+�Zv�bN�;�\u0015�\u0004���������V�-\"oNaN�_�Qͻ����\u001eP�I��Z\n",
            "{P�I=�2�\u0013�\u0004^y�>!l�a��q�������q_��6%��`n�\u0014�k\u0003�Z����\u001a�N��;o��\f�����CY�PH�W-�����E\u0013B9]��?v\\���U�����o��^\u001a��J!jt%\u000fso}\u0015�I��s2\u0007�\u0007\u000bL<�=�`Oi�m��I�k��4�\u0003s�ւbN�i\u000f�|�R���Y�����s,�R��x��z\n",
            "\u001c����\u0014*/\u0013�o�j;�����7�.�\u001baxs����7\u0016~`�\u0007���ԇ_�\u001dȪ\u0014i���T��|��\u00173a�)N�W��W ���@Ҷb���u����5�\u001b{|-/\u0003Ŝ��\u0019��h�����A9e'E���x�LPN�1�,���-�\u0012PN١U�2炭���G�uv=�,\u001b�x�\f���I����O��ص�$}���Ȭ@P̹�������e\n",
            "\u0017�\u001f~�P?��\f�ƅF?��\u0003T*�A9՞�MRG��\u0017۲\"�M��SN��߾���1����\u0015(�$u\tt{�\u0005\u0014sR�\u000e_�z��f�4+���ۿ��\u001d^ۿ �sgέ*�\u0010�f�q���Y��&\u0015�*\fy�\u0011(\u001c�l{ش�I��,�\u0014��U4�Y*�u��Ғ�\u0017�.�����=���}\u0012�?�zV?7{�^�H�\u001f��\u0014�_{�bJ���K�C\u0012\u0019�G�}?��j�[D\n",
            "Yy\u001a'����KH�q�\u0018d=$Hmi�&ח��n�d��8����y��\u0005\u000b�\u000fC\u000f\u001dՍ�X>���\u0019\u0019-��R�\u00107x\\�^�~K\u000b���\u0019�IJ��_��}m�ֳH��`jOއ4�cF��G�7��\u001bw�%O�o?��,O�\u001f&S�\u0016\u0014�m_\u001b�\u001dZ��\u0016��4���b\t�9��\u0007L���xJj\u001f\u000b��3L�h�����'\fTx���\u0002Rύi�!��V�\u000e�:\u0007{�5\u0015���g5��=p��$K�\u0006����a͉�;�\u0012S���_��);���nnP�q�gumnܵ#����t�\u0001�}���H��0Ɖ����e��~3����o��?&;���L'|��>7%W�D�9��3�뿽=�4n{F-�\t\b�\u0010�j`�\u0012����s���\u0017sڻ�Y�\u0007�W\u001a\u0016��t�Sv��c�\u000e�ퟻ\u001f����z�ܨ3F\n",
            "u\u0019�\u0018�\u001bٵ�_���Aw�>\u0004ŜԸ�k��\"U����\u000ft��R}�٪��ο}z��+ߒ�)Q��W���o��e?\u0013����>=���ۧǞ��k\u001f����&\u000e�9��\u0013ym? ��\u001f^�wH+o9s����g-=\u001bs�Y\u000b���r�?)?�1~f���*���\u001e�\u001a�����3;m������\u0007\u0001S�k�o�ع_�O��\fz��z�)K�߳�Sv��gb�ο�L��\u0019�Z0�ɠ�y���Ck?S��͙|�ҧ�\u001b=�:��v9����0�\u0019i���зk&�bN*�\u001d\u0010��Pc�b((������ZVɘǫ>j��7�u�dq�z>v�?������\u0006�EG�F�=�!.'�O��Q���E���\u0003\u001b���\u0017z\u0013�R�\u0018���u����)-\u001a��L�\u0003(����Z�9�$��4�=}��>��ݜc������u�n%}�>�y/:��c�!\u0015�1�\tX(��\\����������bj\u000f��\u0001i�?w2�Mդ[��͉����N�X\u001cO����S},Va�M�%�����x��C\u0003���\u001e�������J�\u0010�\u001a\u0014sR~tsbp������~?Lv�u���K�\u0004�\\Fn�������������7���&��Ú��Q�uB�gt�ӏIBm)�����6d�\u0013�Ϡ���N/�۫���\u0003\u0014sn�W��<+{���I^S��S\u001f�j�Z��xvǟԌ#}�Z�\u0007�bN�\u000e��\u0001Â\u001c�-@1/�v��(0yyg��=H�pO�_\u0001�9��v5���˗� ����'��\u001c\u0017}�\u001f(��\u0005�����\u001e�'�r�=����Y1?�Wś�0�U�s\n",
            "9�\u0016?ǽ�\u0016���~�o\u0012��֝?ɼ}�<-(椾��=ߥ5O�\u000f\u0004ŜT\u001c2�k����'�\u0002Ŝ���s�:{�\u0010��\u0015ݲ���'\u0002\u0014sR�B��!�S�Ү�bN��DZ�N�Q�\u0016\u0001Ŝ�w\u001a�]��y���A1�}�Rǿ)ư�v����H�4(\u0010\u0014sRu\u001b2��_R�L�\u0002ŜT[�wz䧦��A1'5�؜/;(w5a<(椾SZ�-|��k��\u001f\u0005Ŝ�`�hr��7���N�����*���J�W��&��4n����ӷ2�9�\u001b���+G5���i]�\f���i�����:k��z�r�*�����~H�\u0017��К/��t�<06b\u0015(椾SZ�ҡ�6����]\"�������\u0010R�GF������2@1'5n'_��\u0015\\�V\t�9�x�Nf����q�A1'\u0015���<��\u001f��7w��\u001a�~����o������\u001e\u000bk��\u001b�v�F�\u0010\u0003�\n",
            "��^R��c\u0007�\u000b�\u0017\u001d�\u001f\u0014���3䥾�\u0002��ܶ��~���\u001b\u0014sR�gל��a�;ZA1'��,���p]��Đ\t�o�߰�m��~�V�5ν�!\u000f�9��f��tid��uP�I�6�����n\t(��\u0001K\u0006���8Yp\u0018\u0014sR�mz���v��'��s�|�l���vm�r��8�\u001d���ºu3�D\u001c9�߾�̑�1��\u0005\u0014sR뀴�SOe��9�{ZA1'��h��J�;6��+6+�U����\u0015�什{\u0004:�\u001f�Сo�i���A1'���}/�����Iy�����������\u000bMǧw\u000f_�\u0006�9��\u001f�uN��|�ty���CFg\u000e\u0014��9>������\u0010ٵ�\u0002瀲��P=�x\u0003��n�u����:ם��'$^{q�p������״����\u0011��}��A1'�w�z��({��-P�I�\u000fh�����3�\u0016��\u000b�9�z>Z��O�k\u0015��#��bN�����h�]��oA1'5n�]a��}\u0017z�bN�_�Z/��O�\u0015�%�XUYܙ\u0006�9��f8!d߃�燁bN�����v�Y�H��]\t\u0014sR��ߺ&{vxm]��xJ*O��\u001e��\u000f\n",
            "<�|c�h���E\u0003R\\Y�\u001c�m_�f�\u0013KV���\u0003ŜT�˓[dz�h�N���5�\u0007�`N�nc���wX��TP�I���zOs\u001f��;\t�);��\u0003Z��h�Ǹ�y$\\�����ٻk\t�V`Nj?F��\u0019v\u000f_\u0014?\u0007Ŝ�|�V�\u0018�qn�K�֞2���s[�BvS��aj\u0003��b�m�^Z���\u001d����fƂbNj�M�Ύֽ�u\u0003�m��sO\u0000(��%��*Z�5i�U�V78S�l��.��@1'5ߦU��\\�d��[V�������\u0012'�Y\u001f�:\u0018�S��\u0015'\n",
            "�9�~@k�\u000b\b*1\u0014���\u0000�T{h�c���\"��0M\u001e\u0014sR��:t���\u001b\u0013��bN�_Ӫ��\u0015��4+��Q�\n",
            "���\u001e\u0013Ȳ�C�\u000e����h��C�&\u000f\u000f���ro\u0012��j�N�٤�i�\u0006}��y�4��|\u0017R�$���Ǟ\u001dZ���$\u0005���\u0017�bNjܖ\n",
            "�[��\u000b�9�y\u0016��io��ߙ����Iv�bP̹�^l�����n����C��\u001dZqȿ�BٳS�Hf�e\u0011[P̹�N�����9v\u001a\u0007@1'5�T�������,(��DZ��и\u001bI*c^�������y�utR������cj��D�Li�/{@1'������N�T\u0013(���7���y�W\f\u0014sR���>JZ��h��0���{j\u000fu�A1��\u0017.�\u001d�%x{\n",
            "?(��g�e_�P�e\u0004�9���k��8D\u001bZ�6~7\u0004Ŝ�S�f�8��>\u0004\u0014�\u0010!�$�B�:k��w����=e��~�[�bN��������5�|\u0004�9�~@�'%\u0013�����#��j\u000fS�w��\u0014�ك3\u001b:kg��\u0003�\u0005Ŝ��q���L���\u0003\u0007P�I�;��\u000e��K����6�CGR���b�m���W\u0010&V[vGn�\u000f(��\u0010Z��t�X�8�_�\u0016\u0014sb���Ԩ�;�bNj�\u0015մ�g�u�2(�Ε*t�{*��N\f\u0014sR��ֹ\u001e�#����ʷ\n",
            "�9�q��9���}��o�׼��҄\"�#��{0t�X�I呜.Y�1P��\u0001ŜT?��w�6;�\u0017N�ڵS:٢�E�\u0002�֙\u0016���sޢ�\u0004�9�:�5�����\n",
            "�9��\u0017�t>\u0012��ۛ72}?��Ti�SЊ{��<昌�2\u0007Ŝ���V�\u0018\u0012��8w��{P̹���V�������ӕN�bN*�Bk����}К��M֨�\u001fv1\u0006\u0014sR���?�U��s\u0000�\u001d\u0017xm~\u001aZka>�A^\u001d\u0014sn;7\\�m��I�Z��bNʏҪ�ݔ�}�ڀo��\u0013�W���kzPI�ۋ[\u0013���q\u0005sn��5_��\u0017�TG�����[�\u0006���R�@��2�ż��\\k��Z\u0002M�\n",
            "6���v��5��ՆX�M.���t�N52׋E�\u0016]�Cܕ%{w�c���ش�[w��\u0003E���\u0003ŜT|=�q��k9�ϧ�>�H�wd�פ�!�z��~�.�-(椾��A��S\u0015\\.�b�m�ѧW]4l�'&;�d\u001d����v��߲�}�\n",
            "�W1�ѧA1'�~\u0006?Ӹ/뛪\u0006�);��\u0015�Z�\u0003�}9Ͻt�F�\u000bZ�bNj�T��S��N�\n",
            "P̹�<!��a\u000e�G/��b�m�\u001a����j�c����y�bN��ъw6���tZ��.(��.\u001d�\u0013����i̓\u0015]\n",
            "u�d���bN�\u001fЪ\u0017\u001b�a�����yP�I�hŽ���Ζ�6�\n",
            "���]3\u0011\u0014sR�@N�,_M��4P�I�\u001fT]�X.}P�\u001e\u0014sR�`�q��\u0003��[\f�9������m����Ƕ\u0006�b�m��\te~[�0y�Xg��e���ھw>Y�\u001a�0\u0013�ߊ~��A��+�\u001dZ���1I\n",
            "�@1�W���?^���}���;w��Nv�_q�eT���f�ej�z�,yrR�����\u0002��U?\u0003e�� \u0014�$\u0004�f�l�j\u0007�9��t�Z�9�.ۖ�bNj\\�����\u001f���̦[j?$#*E7yb�m��(us��&݃�n;�!��O�����4��\n",
            "�$\u0012�4�EH\u0011RHR��E#�$�R$\u0011I\bѤD�!\n",
            "�3�P�h����g|��\u0019ӰN��К�o\n",
            "�r]�|�\u001c�-;�ƷO��o����\u0003b��wJ�OtL��\\\u001a{�\u0015�uR��x-~@+��cX����RQ �I��Y\u0019��o�(:\u0003�:��V�uZ�\u001ch�\u0007Ӛ�fO�<�:���v�\u0006�Lk�9XO]\u0019��B��\u001d;;��!���M��YN-�t���J���O\u0011�O�bA�B#��\u001dN�[���g�l\u0014=\f�:�~p�[�\u0019�j\u001d �I��ӚOw|�9eۢ�: �I�\u001f�QRC\n",
            "\u0010�L��{��z���1\u0010�L��ҚO��W\u001f��Ty\u0014\u0010뤞�j�;C\u0013Mϙ\u0002�e��@k_��\u001bcw�O�\u0003�:)?���C��\u0019�:�����!@��\u001a\u000fn%\u0018�/8p�\u0016\u0010�L��t�o�١u�����%�\u001eԌ\u0002b�i�2���\u000fş�k{h�\u0007b�i����}���,��\u0014�L�FK��\tY�R\u001f)-�W��K��|�}>u�K0k�WI\u0006b�T�>� �۳��\b�u��\u0007��H���Z\u001c��x@k���.湪��>\u0010���o�\n",
            "��W�=%����\b�&�\n",
            ";��gg��q�o�kx�k'b�뎼̞�@��\u001aG�N��$yZw.\u0010���­�}�~���\u001eux�SJ�x���\u0007���A�b:b�\u0006\u0002�����B��~���r�oƦn^�~��^\u0013,:jG6?i�R��q@���K�7>3�nf�\u0000 ֙�\u001fP���c~\b��\\դ����?o\u0002b�T�^Zu�'XD���\u001e*\u0004�:��\u000b�����g������I��s\u001cwag���ۗ�ᾟ�Xg�~�΂�c!!�\u001f\u0001�N�\u001f�Z7\u000e�y���y�\b �;�~����N*�]{ֽ���_�_\u001d�uR�@;����ۗ�\u0000�N*��ί\"�\u000f�k�o��ko=G�\u001fЊW=�n�t)%e'\u0010��S����0c\u0011 �I��{�Aa���l\u0002b�T�\u001d��)-?���E|Ȁ��@��Zϩ���\u0017�t�'\u0010���5�&�T�\u001b\t;�\u001b��t�\u0002�I�o��w�\u0017߲�\u000f�:�~�-FEs��h\u001e\u0010���i��h������\u0010m�;���X'5���Nz���\u0018�uR�\u001b�qG�W�ԳD��@��\u001aw:�!�����\bٜ�!�!@���\u0017R\u001d�+�~��\u001f�ᬮ�c��]{���6��?�'6z�\u0013�׫��F�s�6�X'�ޖ����\u0013�t���U�������tᨉ��4\u0015Y�C\u0005�QM�c|�e�������\u0011\u0001b�Ժ^�q��k�_�\f�,�px\u0003��`R�g�Zϑ��[�Ѻ\u0017��}m��z\n",
            "�-.�\u0000r�\u000e���tJ�E�.�-�X'�\u001ft?\u001b����\u0010�uRqeZ뒠�����VA@n���\u0000��.�>s�X'��vQ��yq��Q����\u000b\u0017\u000b`���#\u00109u�G\u0012�<�+((lf�_��\u0017x��\u000b����u�/�8�/\n",
            "��\u0013������L �I�7Z��\u0007�\u0004N�=��\n",
            " ֙�~hՍ����X�� A$dݵ���Kڂ�N�K\u001d��z��s�+��v���|���t_&�IE�q��^@���h�\u000b\u000e=�\u0005���\u001f4�w?�|��;��z?����F����{�6��S��V~\u0015�sS��Y��Z����\\R\n",
            "���}^\u0000�N���,ۺߖ�\u001b?\u0010��6n�\u001b1�04\u000eȭ���o��F�Z=��:����k\u000f��Eӊ���/��'D+N�~�����j+�X'\u0015���(�6<X�\u000e�uR��V~�b��\u0015��6���\u0017o\u0016�sf\u0019wH�!&���~M��\u0000�z������\u0003Z����\u000f��U7�,�O�\u0005r�=�R��o���\u0001�Nj��k� i����vy��M\u000f\u0002b�T�\u0003�\u000b�r=w�=\u0005�z�=\u000f���Z�\u0005^��v�a9�C+\u000eKk�@+n٫'�]K�n\u0001b�TܒV\u001e1-��V^'�x|��Q\n",
            "�:���[\t��\u000b\u000e\\�\u0005�:���;��Y<��]rO�B񇈗,�\u0014�q����>\u0015ѯˁX'5�Њ���\u001c�j�SO �I�o��6h�o��^R�maabS�\u001cy% �I}������\u0005�\n",
            "^�}�\n",
            "\u0010�⣴Ɲm��y~���\u0000�δ|1Z�\u001c����m����ӁX'VG�dF�h��)@�3���Q�����\u001b�sr>6]6�v*��t�a7��[�0m��ֺ���6gvh�\u000b+�e��(8\u0014\u0006�:�����)\u0001;���\u0003�N�\u001c2�_tt\u001f��\u001d^[7�:OK��\u0002�u���y�\u001f}#�\u0002�e�����Z�\u001aZ��ֺľ��*�S�*@���s�\n",
            "�uR�z�~AdjW�b �I�\u000b��ǵ��-�ˀR\u0017 �I�kZ�b3��/\f�Ӷ\u0019���|���h�!��~\n",
            "}\u0015\u0013\u000f\u001c�:\u001e����ο�Q��r]^~�͡F5�\u0016ɔ��!ܲ�k�]�\u000fwn�\u0001�N�\u001fD^�P-[wH\u0015�uR�\u000f��v���*\u0006�N�\u0007b��s�����.\u000b��ܲC+�3�b�\u001a\u001bѶ=@�3-���u���$yQ����Z\u000fg%a��>��C��u�g�@�����Zg�\u001aG٭�h��e�/�=\u001f\u0007�:�z�I\u0011uӾ?�\u0005b�i~b���1�-\u0013��j\u000f��\u0001-\u0003r�����ȯ�//\n",
            "�`��߻��U�\u0005�\u0017=�X'կ��h�73a�\u0012\u0010�L�o��si���Z�s ;;���Ȑ}�E\u001b�X'�~h�]����9N�]x-\u000f�ּ��=vl��\u0019���ˣ%�X�c!���k��vY�\u000fnR~9\u0012�uR��V�N���Z��@} �I���<�tv��n�v�@��\u001a�i}�aKe���/\u001d�6�iGƫ�{9m\u000f����މ�R��Ӏ��aמ��%\u001fǿy\u001f\n",
            "�@���\u0007�K*�?|x�\u000b�:�<�w�]�\n",
            "�:����DN}���<\u0005ȭ��z?��KH�q��C+^E��\n",
            "�5m\\/� �,�>�ʶk\u000f�N�N����k\u001a�t�X���\u001b$<��\u0004���}�^���<:�\u0004�:��8�C�\u001f�W�q�ʷ��B����\u0013ɲ��{�7�ǵ{�S\u001e�l�/f�\u0000lO��9}nCħ�O���\u0014�uR녠[W�<�\u001bO\u0004��w�\u000e-��Z۩��6��\u0000�\u001e�c�hs\u0007���!9�S�\n",
            "��F^j\u0013\u0010�L���� �XH��G@��\u001a\u000f�/X�-6]�\u001d�uR�����|^:\u0002�δ:\u0018��맛*7T4n�\t�:���^D8+��/^\n",
            "�:��\u0010Z�(��(�:���0��*^QuGk'\u0010���v��x\"��R3\u0010�L\u001bw����a�j�c'c�\u0007�N\u001c�\u001a�L�\u001f�T<�_���\u001aw\u001cdW\u0017v-�f�r�IQ�,{9�\u0013;/C)\u001eB�~t�%\u0019�^~YS\f�:���e=G*��V\u001d&Z�f�\u0013��\u0006�2n\u0002b�T?��q��n�n+\u0010뤞[�u��3<6�\u0018�o�������y��]oϯYefz�| ��3���e���@���/�5?�V��j����,�X'5��ʳ���\u000fY���a��@���S�(�m�p!V\u001b�u����Y7\u001e�4s\u001e\u0010��\u0014\u0007|���6��\u0005b�ԸC+/���\u000f��󝫸�T�\u0014xjS`K��D\u0003�z��:X;���U.�\u0002�uR�)��BiݓB+\u000f�ͮZ��έ@���\u0007*lLq�Q�\u001f^\u0000�Nj��k�xZ�\u001b�}&^[7�����)�u#��\u0014{}���\u000b��X'���/�\\7r�\u001e�_�59l\\\u0006�:�~M+NAk���O�oݖ\tv@�3-��V����Z^4��?�<��\u0002��\u0006\u0016��\t�:����͆?Iʾ{U8\u001c�uR��wz�G������@�3��j^�׊_�u��}W;Zo�]�N-��>���-��\u0013^��Vd[��_\u001fGi��pT*1\"�s�% �I���Zg�V���4��\u000b�:��Y�\u000b^����\u0002b���[9[�凐�h �;�~��u�5�qݩBM�\u000b@�3-\u000e{װ%Lf��%\u0010�Uf��f�]m�\u001dkIE�\u001c\u0017\u0005K ֙vn�V���7#�,M\u001d�u�ݣF�>�\u000f2?��)��\u0004b]�4���޻��9Ϸ\u0014\u001882�P�~ ֙���U��K�ʊ�Z�b����scgG���0ɉgO����e��C\b��Q�����\u0015КOi��tB�ڂn�Z��h�+\u0011Jc�\u000f&�~�RG�\u0011��P\u0005�:��s�V�4�}��뿺���ix��0�:���h����=�%s]a\u0015��\u000e�u\t��˱�\u0017�$�lw9\u0010���#\f��u�0�\u001d\u0010��mZ�*Z�]=;R����ٱ�[gھ&�ՙSj���Zy�3�?�&\u001c�����i�5�y�V\u001d��\u0010m�;���X'\u0015'ok��6{j�\"\u0010��H0_wt��W�kZ���g�\u001fWݟ&\u000e�:��[J�Ș��/ÁXgZ���=]C�\u0016\u0015��_q\u001c�u���> 9���9��z|Z\u001b�T\u0014�\u0012�8���xMj}J�>\u0016vύV<���*gvh�/C����]�pÂ�=�Xg�9\u0016^��zR�Օ\"�~��ԟ֕����֕��\u000e���Akަ5�\n",
            "\u0018\n"
          ]
        }
      ]
    },
    {
      "cell_type": "markdown",
      "metadata": {
        "id": "bqDOcC5OwTwz"
      },
      "source": [
        "## Training the NER model with Spacy (CLI)\n",
        "\n",
        "All the commandline options can be seen at: https://spacy.io/api/cli#train\n",
        "We are training using the train program in spacy, for English (en), and the results are stored in a folder\n",
        "called \"model\" (created while training). Our training file is in \"spacyNER_data/train.json\" and the validation file is at: \"spacyNER_data/valid.json\".\n",
        "\n",
        "-G stands for gpu option.\n",
        "-p stands for pipeline, and it should be followed by a comma separated set of options - in this case, a tagger and an NER are being trained simultaneously"
      ]
    },
    {
      "cell_type": "code",
      "source": [
        "!touch base_config.cfg"
      ],
      "metadata": {
        "id": "hOPRtgRK3R_f"
      },
      "execution_count": 6,
      "outputs": []
    },
    {
      "cell_type": "code",
      "source": [
        "!python -m spacy init fill-config base_config.cfg config.cfg"
      ],
      "metadata": {
        "colab": {
          "base_uri": "https://localhost:8080/"
        },
        "id": "LmjIbpk37wqC",
        "outputId": "5810e6a0-04d1-43b5-91c1-e189c2cd08dc"
      },
      "execution_count": 7,
      "outputs": [
        {
          "output_type": "stream",
          "name": "stdout",
          "text": [
            "\u001b[38;5;2m✔ Auto-filled config with all values\u001b[0m\n",
            "\u001b[38;5;2m✔ Saved config\u001b[0m\n",
            "config.cfg\n",
            "You can now add your data and train your pipeline:\n",
            "python -m spacy train config.cfg --paths.train ./train.spacy --paths.dev ./dev.spacy\n"
          ]
        }
      ]
    },
    {
      "cell_type": "code",
      "source": [
        "!python -m spacy download en_core_web_lg"
      ],
      "metadata": {
        "colab": {
          "base_uri": "https://localhost:8080/"
        },
        "id": "IApUQ9wmITUm",
        "outputId": "c488fc7a-07f2-46b9-b267-2f98a2f4495f"
      },
      "execution_count": 8,
      "outputs": [
        {
          "output_type": "stream",
          "name": "stdout",
          "text": [
            "Collecting en-core-web-lg==3.7.1\n",
            "  Downloading https://github.com/explosion/spacy-models/releases/download/en_core_web_lg-3.7.1/en_core_web_lg-3.7.1-py3-none-any.whl (587.7 MB)\n",
            "\u001b[2K     \u001b[90m━━━━━━━━━━━━━━━━━━━━━━━━━━━━━━━━━━━━━━━━\u001b[0m \u001b[32m587.7/587.7 MB\u001b[0m \u001b[31m2.0 MB/s\u001b[0m eta \u001b[36m0:00:00\u001b[0m\n",
            "\u001b[?25hRequirement already satisfied: spacy<3.8.0,>=3.7.2 in /usr/local/lib/python3.10/dist-packages (from en-core-web-lg==3.7.1) (3.7.5)\n",
            "Requirement already satisfied: spacy-legacy<3.1.0,>=3.0.11 in /usr/local/lib/python3.10/dist-packages (from spacy<3.8.0,>=3.7.2->en-core-web-lg==3.7.1) (3.0.12)\n",
            "Requirement already satisfied: spacy-loggers<2.0.0,>=1.0.0 in /usr/local/lib/python3.10/dist-packages (from spacy<3.8.0,>=3.7.2->en-core-web-lg==3.7.1) (1.0.5)\n",
            "Requirement already satisfied: murmurhash<1.1.0,>=0.28.0 in /usr/local/lib/python3.10/dist-packages (from spacy<3.8.0,>=3.7.2->en-core-web-lg==3.7.1) (1.0.10)\n",
            "Requirement already satisfied: cymem<2.1.0,>=2.0.2 in /usr/local/lib/python3.10/dist-packages (from spacy<3.8.0,>=3.7.2->en-core-web-lg==3.7.1) (2.0.8)\n",
            "Requirement already satisfied: preshed<3.1.0,>=3.0.2 in /usr/local/lib/python3.10/dist-packages (from spacy<3.8.0,>=3.7.2->en-core-web-lg==3.7.1) (3.0.9)\n",
            "Requirement already satisfied: thinc<8.3.0,>=8.2.2 in /usr/local/lib/python3.10/dist-packages (from spacy<3.8.0,>=3.7.2->en-core-web-lg==3.7.1) (8.2.5)\n",
            "Requirement already satisfied: wasabi<1.2.0,>=0.9.1 in /usr/local/lib/python3.10/dist-packages (from spacy<3.8.0,>=3.7.2->en-core-web-lg==3.7.1) (1.1.3)\n",
            "Requirement already satisfied: srsly<3.0.0,>=2.4.3 in /usr/local/lib/python3.10/dist-packages (from spacy<3.8.0,>=3.7.2->en-core-web-lg==3.7.1) (2.4.8)\n",
            "Requirement already satisfied: catalogue<2.1.0,>=2.0.6 in /usr/local/lib/python3.10/dist-packages (from spacy<3.8.0,>=3.7.2->en-core-web-lg==3.7.1) (2.0.10)\n",
            "Requirement already satisfied: weasel<0.5.0,>=0.1.0 in /usr/local/lib/python3.10/dist-packages (from spacy<3.8.0,>=3.7.2->en-core-web-lg==3.7.1) (0.4.1)\n",
            "Requirement already satisfied: typer<1.0.0,>=0.3.0 in /usr/local/lib/python3.10/dist-packages (from spacy<3.8.0,>=3.7.2->en-core-web-lg==3.7.1) (0.12.5)\n",
            "Requirement already satisfied: tqdm<5.0.0,>=4.38.0 in /usr/local/lib/python3.10/dist-packages (from spacy<3.8.0,>=3.7.2->en-core-web-lg==3.7.1) (4.66.5)\n",
            "Requirement already satisfied: requests<3.0.0,>=2.13.0 in /usr/local/lib/python3.10/dist-packages (from spacy<3.8.0,>=3.7.2->en-core-web-lg==3.7.1) (2.32.3)\n",
            "Requirement already satisfied: pydantic!=1.8,!=1.8.1,<3.0.0,>=1.7.4 in /usr/local/lib/python3.10/dist-packages (from spacy<3.8.0,>=3.7.2->en-core-web-lg==3.7.1) (2.9.2)\n",
            "Requirement already satisfied: jinja2 in /usr/local/lib/python3.10/dist-packages (from spacy<3.8.0,>=3.7.2->en-core-web-lg==3.7.1) (3.1.4)\n",
            "Requirement already satisfied: setuptools in /usr/local/lib/python3.10/dist-packages (from spacy<3.8.0,>=3.7.2->en-core-web-lg==3.7.1) (75.1.0)\n",
            "Requirement already satisfied: packaging>=20.0 in /usr/local/lib/python3.10/dist-packages (from spacy<3.8.0,>=3.7.2->en-core-web-lg==3.7.1) (24.1)\n",
            "Requirement already satisfied: langcodes<4.0.0,>=3.2.0 in /usr/local/lib/python3.10/dist-packages (from spacy<3.8.0,>=3.7.2->en-core-web-lg==3.7.1) (3.4.1)\n",
            "Requirement already satisfied: numpy>=1.19.0 in /usr/local/lib/python3.10/dist-packages (from spacy<3.8.0,>=3.7.2->en-core-web-lg==3.7.1) (1.26.4)\n",
            "Requirement already satisfied: language-data>=1.2 in /usr/local/lib/python3.10/dist-packages (from langcodes<4.0.0,>=3.2.0->spacy<3.8.0,>=3.7.2->en-core-web-lg==3.7.1) (1.2.0)\n",
            "Requirement already satisfied: annotated-types>=0.6.0 in /usr/local/lib/python3.10/dist-packages (from pydantic!=1.8,!=1.8.1,<3.0.0,>=1.7.4->spacy<3.8.0,>=3.7.2->en-core-web-lg==3.7.1) (0.7.0)\n",
            "Requirement already satisfied: pydantic-core==2.23.4 in /usr/local/lib/python3.10/dist-packages (from pydantic!=1.8,!=1.8.1,<3.0.0,>=1.7.4->spacy<3.8.0,>=3.7.2->en-core-web-lg==3.7.1) (2.23.4)\n",
            "Requirement already satisfied: typing-extensions>=4.6.1 in /usr/local/lib/python3.10/dist-packages (from pydantic!=1.8,!=1.8.1,<3.0.0,>=1.7.4->spacy<3.8.0,>=3.7.2->en-core-web-lg==3.7.1) (4.12.2)\n",
            "Requirement already satisfied: charset-normalizer<4,>=2 in /usr/local/lib/python3.10/dist-packages (from requests<3.0.0,>=2.13.0->spacy<3.8.0,>=3.7.2->en-core-web-lg==3.7.1) (3.4.0)\n",
            "Requirement already satisfied: idna<4,>=2.5 in /usr/local/lib/python3.10/dist-packages (from requests<3.0.0,>=2.13.0->spacy<3.8.0,>=3.7.2->en-core-web-lg==3.7.1) (3.10)\n",
            "Requirement already satisfied: urllib3<3,>=1.21.1 in /usr/local/lib/python3.10/dist-packages (from requests<3.0.0,>=2.13.0->spacy<3.8.0,>=3.7.2->en-core-web-lg==3.7.1) (2.2.3)\n",
            "Requirement already satisfied: certifi>=2017.4.17 in /usr/local/lib/python3.10/dist-packages (from requests<3.0.0,>=2.13.0->spacy<3.8.0,>=3.7.2->en-core-web-lg==3.7.1) (2024.8.30)\n",
            "Requirement already satisfied: blis<0.8.0,>=0.7.8 in /usr/local/lib/python3.10/dist-packages (from thinc<8.3.0,>=8.2.2->spacy<3.8.0,>=3.7.2->en-core-web-lg==3.7.1) (0.7.11)\n",
            "Requirement already satisfied: confection<1.0.0,>=0.0.1 in /usr/local/lib/python3.10/dist-packages (from thinc<8.3.0,>=8.2.2->spacy<3.8.0,>=3.7.2->en-core-web-lg==3.7.1) (0.1.5)\n",
            "Requirement already satisfied: click>=8.0.0 in /usr/local/lib/python3.10/dist-packages (from typer<1.0.0,>=0.3.0->spacy<3.8.0,>=3.7.2->en-core-web-lg==3.7.1) (8.1.7)\n",
            "Requirement already satisfied: shellingham>=1.3.0 in /usr/local/lib/python3.10/dist-packages (from typer<1.0.0,>=0.3.0->spacy<3.8.0,>=3.7.2->en-core-web-lg==3.7.1) (1.5.4)\n",
            "Requirement already satisfied: rich>=10.11.0 in /usr/local/lib/python3.10/dist-packages (from typer<1.0.0,>=0.3.0->spacy<3.8.0,>=3.7.2->en-core-web-lg==3.7.1) (13.9.3)\n",
            "Requirement already satisfied: cloudpathlib<1.0.0,>=0.7.0 in /usr/local/lib/python3.10/dist-packages (from weasel<0.5.0,>=0.1.0->spacy<3.8.0,>=3.7.2->en-core-web-lg==3.7.1) (0.20.0)\n",
            "Requirement already satisfied: smart-open<8.0.0,>=5.2.1 in /usr/local/lib/python3.10/dist-packages (from weasel<0.5.0,>=0.1.0->spacy<3.8.0,>=3.7.2->en-core-web-lg==3.7.1) (7.0.5)\n",
            "Requirement already satisfied: MarkupSafe>=2.0 in /usr/local/lib/python3.10/dist-packages (from jinja2->spacy<3.8.0,>=3.7.2->en-core-web-lg==3.7.1) (3.0.2)\n",
            "Requirement already satisfied: marisa-trie>=0.7.7 in /usr/local/lib/python3.10/dist-packages (from language-data>=1.2->langcodes<4.0.0,>=3.2.0->spacy<3.8.0,>=3.7.2->en-core-web-lg==3.7.1) (1.2.1)\n",
            "Requirement already satisfied: markdown-it-py>=2.2.0 in /usr/local/lib/python3.10/dist-packages (from rich>=10.11.0->typer<1.0.0,>=0.3.0->spacy<3.8.0,>=3.7.2->en-core-web-lg==3.7.1) (3.0.0)\n",
            "Requirement already satisfied: pygments<3.0.0,>=2.13.0 in /usr/local/lib/python3.10/dist-packages (from rich>=10.11.0->typer<1.0.0,>=0.3.0->spacy<3.8.0,>=3.7.2->en-core-web-lg==3.7.1) (2.18.0)\n",
            "Requirement already satisfied: wrapt in /usr/local/lib/python3.10/dist-packages (from smart-open<8.0.0,>=5.2.1->weasel<0.5.0,>=0.1.0->spacy<3.8.0,>=3.7.2->en-core-web-lg==3.7.1) (1.16.0)\n",
            "Requirement already satisfied: mdurl~=0.1 in /usr/local/lib/python3.10/dist-packages (from markdown-it-py>=2.2.0->rich>=10.11.0->typer<1.0.0,>=0.3.0->spacy<3.8.0,>=3.7.2->en-core-web-lg==3.7.1) (0.1.2)\n",
            "Installing collected packages: en-core-web-lg\n",
            "Successfully installed en-core-web-lg-3.7.1\n",
            "\u001b[38;5;2m✔ Download and installation successful\u001b[0m\n",
            "You can now load the package via spacy.load('en_core_web_lg')\n",
            "\u001b[38;5;3m⚠ Restart to reload dependencies\u001b[0m\n",
            "If you are in a Jupyter or Colab notebook, you may need to restart Python in\n",
            "order to load all the package's dependencies. You can do this by selecting the\n",
            "'Restart kernel' or 'Restart runtime' option.\n"
          ]
        }
      ]
    },
    {
      "cell_type": "code",
      "metadata": {
        "colab": {
          "base_uri": "https://localhost:8080/"
        },
        "id": "QCmQLlwAwTw0",
        "outputId": "6d93f428-8b77-4f34-8ef0-6dc1cdca0382"
      },
      "source": [
        "!python -m spacy train config.cfg --output ./output"
      ],
      "execution_count": 9,
      "outputs": [
        {
          "output_type": "stream",
          "name": "stdout",
          "text": [
            "\u001b[38;5;2m✔ Created output directory: output\u001b[0m\n",
            "\u001b[38;5;4mℹ Saving to output directory: output\u001b[0m\n",
            "\u001b[38;5;4mℹ Using CPU\u001b[0m\n",
            "\u001b[1m\n",
            "=========================== Initializing pipeline ===========================\u001b[0m\n",
            "\u001b[38;5;2m✔ Initialized pipeline\u001b[0m\n",
            "\u001b[1m\n",
            "============================= Training pipeline =============================\u001b[0m\n",
            "\u001b[38;5;4mℹ Pipeline: ['tok2vec', 'ner']\u001b[0m\n",
            "\u001b[38;5;4mℹ Initial learn rate: 0.001\u001b[0m\n",
            "E    #       LOSS TOK2VEC  LOSS NER  ENTS_F  ENTS_P  ENTS_R  SCORE \n",
            "---  ------  ------------  --------  ------  ------  ------  ------\n",
            "  0       0          0.00     50.06    1.62    1.19    2.51    0.02\n",
            "  0     200         88.99   2555.50   64.88   65.89   63.90    0.65\n",
            "  0     400         79.32   1684.47   73.15   72.74   73.57    0.73\n",
            "  0     600         48.21   1467.83   78.12   78.23   78.01    0.78\n",
            "  0     800         52.26   1456.66   82.36   82.30   82.42    0.82\n",
            "  0    1000         89.47   1405.13   78.74   78.35   79.13    0.79\n",
            "  1    1200         68.10   1517.47   82.93   82.28   83.59    0.83\n",
            "  1    1400         77.26   1533.52   85.44   84.81   86.08    0.85\n",
            "  1    1600        292.13   1517.64   86.09   87.03   85.16    0.86\n",
            "  2    1800        142.66   1780.69   85.51   85.06   85.96    0.86\n",
            "  3    2000        180.70   1735.94   87.05   87.44   86.67    0.87\n",
            "  3    2200        155.58   1562.94   87.24   87.46   87.02    0.87\n",
            "  4    2400        152.77   1392.22   85.20   85.07   85.34    0.85\n",
            "  5    2600        164.67   1250.85   86.82   86.49   87.15    0.87\n",
            "  6    2800        143.23    966.93   86.89   87.20   86.58    0.87\n",
            "  7    3000        197.21   1029.35   85.87   86.84   84.92    0.86\n",
            "  8    3200        187.34    953.72   85.53   84.88   86.19    0.86\n",
            "  9    3400        163.46    703.81   86.38   86.85   85.92    0.86\n",
            " 10    3600        178.97    740.21   86.44   86.64   86.24    0.86\n",
            " 11    3800        221.48    643.12   86.50   86.63   86.37    0.86\n",
            "\u001b[38;5;2m✔ Saved pipeline to output directory\u001b[0m\n",
            "output/model-last\n"
          ]
        }
      ]
    },
    {
      "cell_type": "markdown",
      "metadata": {
        "id": "NWj_XbNtwTw0"
      },
      "source": [
        "Notice how the performance improves with each iteration!\n",
        "## Evaluating the model with test data set (`spacyNER_data/test.json`)"
      ]
    },
    {
      "cell_type": "markdown",
      "metadata": {
        "id": "2_zTrgq2wTw1"
      },
      "source": [
        "### On Trained model (`model/model-best`)"
      ]
    },
    {
      "cell_type": "code",
      "metadata": {
        "colab": {
          "base_uri": "https://localhost:8080/"
        },
        "id": "dxuTnZoVwTw1",
        "outputId": "dd755edb-050f-40c4-853f-87b263174c33"
      },
      "source": [
        "#create a folder to store the output and visualizations.\n",
        "# !mkdir result\n",
        "#os.mkdir('result')\n",
        "!python -m spacy evaluate output/model-best spacyNER_data/test.spacy -dp result\n",
        "# !python -m spacy evaluate model/model-final data/test.txt.json -dp result"
      ],
      "execution_count": 12,
      "outputs": [
        {
          "output_type": "stream",
          "name": "stdout",
          "text": [
            "\u001b[38;5;4mℹ Using CPU\u001b[0m\n",
            "\u001b[1m\n",
            "================================== Results ==================================\u001b[0m\n",
            "\n",
            "TOK     -    \n",
            "NER P   87.46\n",
            "NER R   87.02\n",
            "NER F   87.24\n",
            "SPEED   1975 \n",
            "\n",
            "\u001b[1m\n",
            "=============================== NER (per type) ===============================\u001b[0m\n",
            "\n",
            "           P       R       F\n",
            "PER    93.77   90.23   91.96\n",
            "MISC   80.35   78.63   79.48\n",
            "LOC    89.11   90.29   89.70\n",
            "ORG    82.87   84.17   83.51\n",
            "\n",
            "/usr/local/lib/python3.10/dist-packages/spacy/displacy/__init__.py:213: UserWarning: [W006] No entities to visualize found in Doc object. If this is surprising to you, make sure the Doc was processed using a model that supports named entity recognition, and check the `doc.ents` property manually if necessary.\n",
            "  warnings.warn(Warnings.W006)\n",
            "<IPython.core.display.HTML object>\n",
            "Traceback (most recent call last):\n",
            "  File \"/usr/lib/python3.10/runpy.py\", line 196, in _run_module_as_main\n",
            "    return _run_code(code, main_globals, None,\n",
            "  File \"/usr/lib/python3.10/runpy.py\", line 86, in _run_code\n",
            "    exec(code, run_globals)\n",
            "  File \"/usr/local/lib/python3.10/dist-packages/spacy/__main__.py\", line 4, in <module>\n",
            "    setup_cli()\n",
            "  File \"/usr/local/lib/python3.10/dist-packages/spacy/cli/_util.py\", line 87, in setup_cli\n",
            "    command(prog_name=COMMAND)\n",
            "  File \"/usr/local/lib/python3.10/dist-packages/click/core.py\", line 1157, in __call__\n",
            "    return self.main(*args, **kwargs)\n",
            "  File \"/usr/local/lib/python3.10/dist-packages/typer/core.py\", line 728, in main\n",
            "    return _main(\n",
            "  File \"/usr/local/lib/python3.10/dist-packages/typer/core.py\", line 197, in _main\n",
            "    rv = self.invoke(ctx)\n",
            "  File \"/usr/local/lib/python3.10/dist-packages/click/core.py\", line 1688, in invoke\n",
            "    return _process_result(sub_ctx.command.invoke(sub_ctx))\n",
            "  File \"/usr/local/lib/python3.10/dist-packages/click/core.py\", line 1434, in invoke\n",
            "    return ctx.invoke(self.callback, **ctx.params)\n",
            "  File \"/usr/local/lib/python3.10/dist-packages/click/core.py\", line 783, in invoke\n",
            "    return __callback(*args, **kwargs)\n",
            "  File \"/usr/local/lib/python3.10/dist-packages/typer/main.py\", line 703, in wrapper\n",
            "    return callback(**use_params)\n",
            "  File \"/usr/local/lib/python3.10/dist-packages/spacy/cli/evaluate.py\", line 47, in evaluate_cli\n",
            "    evaluate(\n",
            "  File \"/usr/local/lib/python3.10/dist-packages/spacy/cli/evaluate.py\", line 141, in evaluate\n",
            "    render_parses(\n",
            "  File \"/usr/local/lib/python3.10/dist-packages/spacy/cli/evaluate.py\", line 208, in render_parses\n",
            "    file_.write(html)\n",
            "TypeError: write() argument must be str, not None\n"
          ]
        }
      ]
    },
    {
      "cell_type": "code",
      "source": [
        "!zip -r spacy_ner_trained_model.zip ./output/model-best/"
      ],
      "metadata": {
        "colab": {
          "base_uri": "https://localhost:8080/"
        },
        "id": "AvwLB830IiXE",
        "outputId": "2cd0135b-ae22-4680-c624-0fce87e5209d"
      },
      "execution_count": 13,
      "outputs": [
        {
          "output_type": "stream",
          "name": "stdout",
          "text": [
            "  adding: output/model-best/ (stored 0%)\n",
            "  adding: output/model-best/ner/ (stored 0%)\n",
            "  adding: output/model-best/ner/moves (deflated 60%)\n",
            "  adding: output/model-best/ner/cfg (deflated 33%)\n",
            "  adding: output/model-best/ner/model (deflated 8%)\n",
            "  adding: output/model-best/tokenizer (deflated 81%)\n",
            "  adding: output/model-best/config.cfg (deflated 61%)\n",
            "  adding: output/model-best/vocab/ (stored 0%)\n",
            "  adding: output/model-best/vocab/vectors.cfg (stored 0%)\n",
            "  adding: output/model-best/vocab/strings.json (deflated 77%)\n",
            "  adding: output/model-best/vocab/vectors (deflated 8%)\n",
            "  adding: output/model-best/vocab/lookups.bin (stored 0%)\n",
            "  adding: output/model-best/vocab/key2row (deflated 16%)\n",
            "  adding: output/model-best/tok2vec/ (stored 0%)\n",
            "  adding: output/model-best/tok2vec/cfg (stored 0%)\n",
            "  adding: output/model-best/tok2vec/model (deflated 8%)\n",
            "  adding: output/model-best/meta.json (deflated 59%)\n"
          ]
        }
      ]
    },
    {
      "cell_type": "code",
      "source": [
        "from google.colab import files\n",
        "files.download(\"spacy_ner_trained_model.zip\")"
      ],
      "metadata": {
        "colab": {
          "base_uri": "https://localhost:8080/",
          "height": 17
        },
        "id": "Xwsg1CW7I3nM",
        "outputId": "2988ece6-8f7c-4108-b3e2-11b7065db78c"
      },
      "execution_count": 14,
      "outputs": [
        {
          "output_type": "display_data",
          "data": {
            "text/plain": [
              "<IPython.core.display.Javascript object>"
            ],
            "application/javascript": [
              "\n",
              "    async function download(id, filename, size) {\n",
              "      if (!google.colab.kernel.accessAllowed) {\n",
              "        return;\n",
              "      }\n",
              "      const div = document.createElement('div');\n",
              "      const label = document.createElement('label');\n",
              "      label.textContent = `Downloading \"${filename}\": `;\n",
              "      div.appendChild(label);\n",
              "      const progress = document.createElement('progress');\n",
              "      progress.max = size;\n",
              "      div.appendChild(progress);\n",
              "      document.body.appendChild(div);\n",
              "\n",
              "      const buffers = [];\n",
              "      let downloaded = 0;\n",
              "\n",
              "      const channel = await google.colab.kernel.comms.open(id);\n",
              "      // Send a message to notify the kernel that we're ready.\n",
              "      channel.send({})\n",
              "\n",
              "      for await (const message of channel.messages) {\n",
              "        // Send a message to notify the kernel that we're ready.\n",
              "        channel.send({})\n",
              "        if (message.buffers) {\n",
              "          for (const buffer of message.buffers) {\n",
              "            buffers.push(buffer);\n",
              "            downloaded += buffer.byteLength;\n",
              "            progress.value = downloaded;\n",
              "          }\n",
              "        }\n",
              "      }\n",
              "      const blob = new Blob(buffers, {type: 'application/binary'});\n",
              "      const a = document.createElement('a');\n",
              "      a.href = window.URL.createObjectURL(blob);\n",
              "      a.download = filename;\n",
              "      div.appendChild(a);\n",
              "      a.click();\n",
              "      div.remove();\n",
              "    }\n",
              "  "
            ]
          },
          "metadata": {}
        },
        {
          "output_type": "display_data",
          "data": {
            "text/plain": [
              "<IPython.core.display.Javascript object>"
            ],
            "application/javascript": [
              "download(\"download_5a44065d-dbc8-4e9a-890d-e7aee18cab30\", \"spacy_ner_trained_model.zip\", 606328412)"
            ]
          },
          "metadata": {}
        }
      ]
    },
    {
      "cell_type": "code",
      "source": [
        "# test model\n",
        "import spacy\n",
        "from spacy import displacy\n",
        "\n",
        "# Load the trained model\n",
        "nlp = spacy.load(\"output/model-best\")\n",
        "\n",
        "# Load text to test\n",
        "with open(\"valid.txt\", \"r\") as file:\n",
        "    text = file.read()\n",
        "\n",
        "doc = nlp(text)"
      ],
      "metadata": {
        "id": "rMYJ8I-WKKqa"
      },
      "execution_count": null,
      "outputs": []
    },
    {
      "cell_type": "code",
      "source": [
        "displacy.render(doc, style=\"ent\", jupyter=True)"
      ],
      "metadata": {
        "id": "86byeHvNOvzy",
        "outputId": "66b1dea1-c613-4c49-a842-f79ad392101f",
        "colab": {
          "base_uri": "https://localhost:8080/",
          "height": 141
        }
      },
      "execution_count": 1,
      "outputs": [
        {
          "output_type": "error",
          "ename": "NameError",
          "evalue": "name 'displacy' is not defined",
          "traceback": [
            "\u001b[0;31m---------------------------------------------------------------------------\u001b[0m",
            "\u001b[0;31mNameError\u001b[0m                                 Traceback (most recent call last)",
            "\u001b[0;32m<ipython-input-1-da7f6acfd0df>\u001b[0m in \u001b[0;36m<cell line: 1>\u001b[0;34m()\u001b[0m\n\u001b[0;32m----> 1\u001b[0;31m \u001b[0mdisplacy\u001b[0m\u001b[0;34m.\u001b[0m\u001b[0mrender\u001b[0m\u001b[0;34m(\u001b[0m\u001b[0mdoc\u001b[0m\u001b[0;34m,\u001b[0m \u001b[0mstyle\u001b[0m\u001b[0;34m=\u001b[0m\u001b[0;34m\"ent\"\u001b[0m\u001b[0;34m,\u001b[0m \u001b[0mjupyter\u001b[0m\u001b[0;34m=\u001b[0m\u001b[0;32mTrue\u001b[0m\u001b[0;34m)\u001b[0m\u001b[0;34m\u001b[0m\u001b[0;34m\u001b[0m\u001b[0m\n\u001b[0m",
            "\u001b[0;31mNameError\u001b[0m: name 'displacy' is not defined"
          ]
        }
      ]
    },
    {
      "cell_type": "markdown",
      "metadata": {
        "id": "4DHk91sbwTw1"
      },
      "source": [
        "a Visualization of the entity tagged test data can be seen in result/entities.html folder."
      ]
    },
    {
      "cell_type": "markdown",
      "metadata": {
        "id": "ZRGGHohpwTw2"
      },
      "source": [
        "### On spacy's Pretrained NER model (`en_core_web_sm`)"
      ]
    },
    {
      "cell_type": "code",
      "metadata": {
        "colab": {
          "base_uri": "https://localhost:8080/"
        },
        "id": "T0gCT9f-iwjN",
        "outputId": "0c3670e2-8e6c-4234-9d5c-16e06fd1e7bf"
      },
      "source": [
        "!python -m spacy download en_core_web_sm"
      ],
      "execution_count": null,
      "outputs": [
        {
          "output_type": "stream",
          "text": [
            "Requirement already satisfied: en_core_web_sm==2.2.5 from https://github.com/explosion/spacy-models/releases/download/en_core_web_sm-2.2.5/en_core_web_sm-2.2.5.tar.gz#egg=en_core_web_sm==2.2.5 in /usr/local/lib/python3.7/dist-packages (2.2.5)\n",
            "Requirement already satisfied: spacy>=2.2.2 in /usr/local/lib/python3.7/dist-packages (from en_core_web_sm==2.2.5) (2.2.4)\n",
            "Requirement already satisfied: blis<0.5.0,>=0.4.0 in /usr/local/lib/python3.7/dist-packages (from spacy>=2.2.2->en_core_web_sm==2.2.5) (0.4.1)\n",
            "Requirement already satisfied: preshed<3.1.0,>=3.0.2 in /usr/local/lib/python3.7/dist-packages (from spacy>=2.2.2->en_core_web_sm==2.2.5) (3.0.5)\n",
            "Requirement already satisfied: cymem<2.1.0,>=2.0.2 in /usr/local/lib/python3.7/dist-packages (from spacy>=2.2.2->en_core_web_sm==2.2.5) (2.0.5)\n",
            "Requirement already satisfied: murmurhash<1.1.0,>=0.28.0 in /usr/local/lib/python3.7/dist-packages (from spacy>=2.2.2->en_core_web_sm==2.2.5) (1.0.5)\n",
            "Requirement already satisfied: tqdm<5.0.0,>=4.38.0 in /usr/local/lib/python3.7/dist-packages (from spacy>=2.2.2->en_core_web_sm==2.2.5) (4.41.1)\n",
            "Requirement already satisfied: plac<1.2.0,>=0.9.6 in /usr/local/lib/python3.7/dist-packages (from spacy>=2.2.2->en_core_web_sm==2.2.5) (1.1.3)\n",
            "Requirement already satisfied: setuptools in /usr/local/lib/python3.7/dist-packages (from spacy>=2.2.2->en_core_web_sm==2.2.5) (57.0.0)\n",
            "Requirement already satisfied: requests<3.0.0,>=2.13.0 in /usr/local/lib/python3.7/dist-packages (from spacy>=2.2.2->en_core_web_sm==2.2.5) (2.23.0)\n",
            "Requirement already satisfied: numpy>=1.15.0 in /usr/local/lib/python3.7/dist-packages (from spacy>=2.2.2->en_core_web_sm==2.2.5) (1.19.5)\n",
            "Requirement already satisfied: srsly<1.1.0,>=1.0.2 in /usr/local/lib/python3.7/dist-packages (from spacy>=2.2.2->en_core_web_sm==2.2.5) (1.0.5)\n",
            "Requirement already satisfied: thinc==7.4.0 in /usr/local/lib/python3.7/dist-packages (from spacy>=2.2.2->en_core_web_sm==2.2.5) (7.4.0)\n",
            "Requirement already satisfied: catalogue<1.1.0,>=0.0.7 in /usr/local/lib/python3.7/dist-packages (from spacy>=2.2.2->en_core_web_sm==2.2.5) (1.0.0)\n",
            "Requirement already satisfied: wasabi<1.1.0,>=0.4.0 in /usr/local/lib/python3.7/dist-packages (from spacy>=2.2.2->en_core_web_sm==2.2.5) (0.8.2)\n",
            "Requirement already satisfied: idna<3,>=2.5 in /usr/local/lib/python3.7/dist-packages (from requests<3.0.0,>=2.13.0->spacy>=2.2.2->en_core_web_sm==2.2.5) (2.10)\n",
            "Requirement already satisfied: chardet<4,>=3.0.2 in /usr/local/lib/python3.7/dist-packages (from requests<3.0.0,>=2.13.0->spacy>=2.2.2->en_core_web_sm==2.2.5) (3.0.4)\n",
            "Requirement already satisfied: certifi>=2017.4.17 in /usr/local/lib/python3.7/dist-packages (from requests<3.0.0,>=2.13.0->spacy>=2.2.2->en_core_web_sm==2.2.5) (2021.5.30)\n",
            "Requirement already satisfied: urllib3!=1.25.0,!=1.25.1,<1.26,>=1.21.1 in /usr/local/lib/python3.7/dist-packages (from requests<3.0.0,>=2.13.0->spacy>=2.2.2->en_core_web_sm==2.2.5) (1.24.3)\n",
            "Requirement already satisfied: importlib-metadata>=0.20; python_version < \"3.8\" in /usr/local/lib/python3.7/dist-packages (from catalogue<1.1.0,>=0.0.7->spacy>=2.2.2->en_core_web_sm==2.2.5) (4.5.0)\n",
            "Requirement already satisfied: typing-extensions>=3.6.4; python_version < \"3.8\" in /usr/local/lib/python3.7/dist-packages (from importlib-metadata>=0.20; python_version < \"3.8\"->catalogue<1.1.0,>=0.0.7->spacy>=2.2.2->en_core_web_sm==2.2.5) (3.7.4.3)\n",
            "Requirement already satisfied: zipp>=0.5 in /usr/local/lib/python3.7/dist-packages (from importlib-metadata>=0.20; python_version < \"3.8\"->catalogue<1.1.0,>=0.0.7->spacy>=2.2.2->en_core_web_sm==2.2.5) (3.4.1)\n",
            "\u001b[38;5;2m✔ Download and installation successful\u001b[0m\n",
            "You can now load the model via spacy.load('en_core_web_sm')\n"
          ],
          "name": "stdout"
        }
      ]
    },
    {
      "cell_type": "code",
      "metadata": {
        "colab": {
          "base_uri": "https://localhost:8080/"
        },
        "id": "MMnN80NDwTw2",
        "outputId": "e5f7b022-ff6e-426b-d471-1d101b2249fd"
      },
      "source": [
        "# !mkdir pretrained_result\n",
        "os.mkdir('pretrained_result')\n",
        "!python -m spacy evaluate en_core_web_sm spacyNER_data/test.json -dp pretrained_result"
      ],
      "execution_count": null,
      "outputs": [
        {
          "output_type": "stream",
          "text": [
            "\u001b[1m\n",
            "================================== Results ==================================\u001b[0m\n",
            "\n",
            "Time      7.19 s\n",
            "Words     46666 \n",
            "Words/s   6490  \n",
            "TOK       100.00\n",
            "POS       86.21 \n",
            "UAS       0.00  \n",
            "LAS       0.00  \n",
            "NER P     6.51  \n",
            "NER R     9.17  \n",
            "NER F     7.62  \n",
            "Textcat   0.00  \n",
            "\n",
            "/usr/lib/python3.7/runpy.py:193: UserWarning: [W006] No entities to visualize found in Doc object. If this is surprising to you, make sure the Doc was processed using a model that supports named entity recognition, and check the `doc.ents` property manually if necessary.\n",
            "  \"__main__\", mod_spec)\n",
            "/usr/lib/python3.7/runpy.py:193: UserWarning: [W006] No entities to visualize found in Doc object. If this is surprising to you, make sure the Doc was processed using a model that supports named entity recognition, and check the `doc.ents` property manually if necessary.\n",
            "  \"__main__\", mod_spec)\n",
            "/usr/lib/python3.7/runpy.py:193: UserWarning: [W006] No entities to visualize found in Doc object. If this is surprising to you, make sure the Doc was processed using a model that supports named entity recognition, and check the `doc.ents` property manually if necessary.\n",
            "  \"__main__\", mod_spec)\n",
            "/usr/lib/python3.7/runpy.py:193: UserWarning: [W006] No entities to visualize found in Doc object. If this is surprising to you, make sure the Doc was processed using a model that supports named entity recognition, and check the `doc.ents` property manually if necessary.\n",
            "  \"__main__\", mod_spec)\n",
            "/usr/lib/python3.7/runpy.py:193: UserWarning: [W006] No entities to visualize found in Doc object. If this is surprising to you, make sure the Doc was processed using a model that supports named entity recognition, and check the `doc.ents` property manually if necessary.\n",
            "  \"__main__\", mod_spec)\n",
            "/usr/lib/python3.7/runpy.py:193: UserWarning: [W006] No entities to visualize found in Doc object. If this is surprising to you, make sure the Doc was processed using a model that supports named entity recognition, and check the `doc.ents` property manually if necessary.\n",
            "  \"__main__\", mod_spec)\n",
            "/usr/lib/python3.7/runpy.py:193: UserWarning: [W006] No entities to visualize found in Doc object. If this is surprising to you, make sure the Doc was processed using a model that supports named entity recognition, and check the `doc.ents` property manually if necessary.\n",
            "  \"__main__\", mod_spec)\n",
            "\u001b[38;5;2m✔ Generated 25 parses as HTML\u001b[0m\n",
            "pretrained_result\n"
          ],
          "name": "stdout"
        }
      ]
    },
    {
      "cell_type": "markdown",
      "metadata": {
        "id": "6GiGnqnpwTw3"
      },
      "source": [
        "a Visualization of the entity tagged test data can be seen in pretrained_result/entities.html folder."
      ]
    }
  ]
}