{
  "cells": [
    {
      "cell_type": "markdown",
      "metadata": {
        "id": "view-in-github",
        "colab_type": "text"
      },
      "source": [
        "<a href=\"https://colab.research.google.com/github/chewzzz1014/fyp/blob/master/ner/src/download_hugging_face_dataset.ipynb\" target=\"_parent\"><img src=\"https://colab.research.google.com/assets/colab-badge.svg\" alt=\"Open In Colab\"/></a>"
      ]
    },
    {
      "cell_type": "markdown",
      "id": "a1c8ce31",
      "metadata": {
        "id": "a1c8ce31"
      },
      "source": [
        "# Dataset Preparation\n",
        "Steps:\n",
        "1. Download multiple resume dataset from hugging face\n",
        "2. Remove unwanted columns and limit number of rows (for dataset with many rows, only focus on the IT-related resumes)\n",
        "3. Merge all datasets into one csv and download.\n",
        "\n",
        "Dataset Links\n",
        "- https://huggingface.co/datasets/InferencePrince555/Resume-Dataset\n",
        "- https://huggingface.co/datasets/kvsrkc/Resume\n",
        "- https://huggingface.co/datasets/opensporks/resumes\n",
        "- https://huggingface.co/datasets/Dh1raj/resume-dataset\n",
        "- https://huggingface.co/datasets/cnamuangtoun/resume-job-description-fit?row=19\n",
        "- https://huggingface.co/datasets/ahmedheakl/resume-atlas"
      ]
    },
    {
      "cell_type": "code",
      "execution_count": 1,
      "id": "896a477a",
      "metadata": {
        "id": "896a477a"
      },
      "outputs": [],
      "source": [
        "import pandas as pd"
      ]
    },
    {
      "cell_type": "code",
      "source": [
        "from google.colab import drive\n",
        "drive.mount('/content/drive')"
      ],
      "metadata": {
        "id": "9NZYbBHxdGu8",
        "outputId": "d3b0e6b1-9a83-4a9e-c293-fce628424f4d",
        "colab": {
          "base_uri": "https://localhost:8080/"
        }
      },
      "id": "9NZYbBHxdGu8",
      "execution_count": 2,
      "outputs": [
        {
          "output_type": "stream",
          "name": "stdout",
          "text": [
            "Mounted at /content/drive\n"
          ]
        }
      ]
    },
    {
      "cell_type": "code",
      "execution_count": 3,
      "id": "fc52b6e2",
      "metadata": {
        "id": "fc52b6e2",
        "outputId": "d4b58e78-4c2e-45f4-f213-90da43bb34a6",
        "colab": {
          "base_uri": "https://localhost:8080/"
        }
      },
      "outputs": [
        {
          "output_type": "stream",
          "name": "stderr",
          "text": [
            "/usr/local/lib/python3.10/dist-packages/huggingface_hub/utils/_token.py:89: UserWarning: \n",
            "The secret `HF_TOKEN` does not exist in your Colab secrets.\n",
            "To authenticate with the Hugging Face Hub, create a token in your settings tab (https://huggingface.co/settings/tokens), set it as secret in your Google Colab and restart your session.\n",
            "You will be able to reuse this secret in all of your notebooks.\n",
            "Please note that authentication is recommended but still optional to access public models or datasets.\n",
            "  warnings.warn(\n"
          ]
        }
      ],
      "source": [
        "# import dataset from hugging face\n",
        "df1 = pd.read_csv(\"hf://datasets/InferencePrince555/Resume-Dataset/updated_data_final_cleaned.csv\")\n",
        "# df2 = pd.read_csv(\"hf://datasets/kvsrkc/Resume/Resume.csv\")\n",
        "# df3 = pd.read_csv(\"hf://datasets/opensporks/resumes/Resume/Resume.csv\")\n",
        "\n",
        "# df4_splits = {'train': 'data/train-00000-of-00001.parquet', 'test': 'data/test-00000-of-00001.parquet', 'validation': 'data/validation-00000-of-00001.parquet'}\n",
        "# df4 = pd.read_parquet(\"hf://datasets/Dh1raj/resume-dataset/\" + df4_splits[\"train\"])\n",
        "\n",
        "# df5_splits = {'train': 'train.csv', 'test': 'test.csv'}\n",
        "# df5 = pd.read_csv(\"hf://datasets/cnamuangtoun/resume-job-description-fit/\" + df5_splits[\"train\"])\n",
        "\n",
        "df6 = pd.read_csv(\"hf://datasets/ahmedheakl/resume-atlas/train.csv\")"
      ]
    },
    {
      "cell_type": "markdown",
      "id": "7720f610",
      "metadata": {
        "id": "7720f610"
      },
      "source": [
        "## Preprocess df1"
      ]
    },
    {
      "cell_type": "code",
      "execution_count": null,
      "id": "c2218e22",
      "metadata": {
        "id": "c2218e22",
        "outputId": "10d01f75-bebc-4a84-93f5-9e29f2b83e21",
        "colab": {
          "base_uri": "https://localhost:8080/"
        }
      },
      "outputs": [
        {
          "output_type": "stream",
          "name": "stdout",
          "text": [
            "Distinct values in 'instruction' column in df1: ['Generate a Resume for a Accountant Job'\n",
            " 'Generate a Resume for a Advocate Job'\n",
            " 'Generate a Resume for a Agriculture Job'\n",
            " 'Generate a Resume for a Apparel Job' 'Generate a Resume for a Arts Job'\n",
            " 'Generate a Resume for a Automation Testing Job'\n",
            " 'Generate a Resume for a Automobile Job'\n",
            " 'Generate a Resume for a Aviation Job' 'Generate a Resume for a BPO Job'\n",
            " 'Generate a Resume for a Banking Job'\n",
            " 'Generate a Resume for a Blockchain Job'\n",
            " 'Generate a Resume for a Business Analyst Job'\n",
            " 'Generate a Resume for a Business Development Job'\n",
            " 'Generate a Resume for a Chef Job'\n",
            " 'Generate a Resume for a Civil Engineer Job'\n",
            " 'Generate a Resume for a Construction Job'\n",
            " 'Generate a Resume for a Consultant Job'\n",
            " 'Generate a Resume for a Data Science Job'\n",
            " 'Generate a Resume for a Database Job'\n",
            " 'Generate a Resume for a Database Administrator Job'\n",
            " 'Generate a Resume for a Designer Job'\n",
            " 'Generate a Resume for a DevOps Engineer Job'\n",
            " 'Generate a Resume for a Digital Media Job'\n",
            " 'Generate a Resume for a DotNet Developer Job'\n",
            " 'Generate a Resume for a ETL Developer Job'\n",
            " 'Generate a Resume for a Electrical Engineering Job'\n",
            " 'Generate a Resume for a Engineering Job'\n",
            " 'Generate a Resume for a Finance Job'\n",
            " 'Generate a Resume for a Fitness Job' 'Generate a Resume for a HR Job'\n",
            " 'Generate a Resume for a Hadoop Job'\n",
            " 'Generate a Resume for a Health and fitness Job'\n",
            " 'Generate a Resume for a Healthcare Job'\n",
            " 'Generate a Resume for a Information Technology Job'\n",
            " 'Generate a Resume for a Java Developer Job'\n",
            " 'Generate a Resume for a Mechanical Engineer Job'\n",
            " 'Generate a Resume for a Network Administrator Job'\n",
            " 'Generate a Resume for a Network Security Engineer Job'\n",
            " 'Generate a Resume for a Operations Manager Job'\n",
            " 'Generate a Resume for a PMO Job'\n",
            " 'Generate a Resume for a Project manager Job'\n",
            " 'Generate a Resume for a Public Relations Job'\n",
            " 'Generate a Resume for a Python Developer Job'\n",
            " 'Generate a Resume for a SAP Developer Job'\n",
            " 'Generate a Resume for a Sales Job'\n",
            " 'Generate a Resume for a Security Analyst Job'\n",
            " 'Generate a Resume for a Software Developer Job'\n",
            " 'Generate a Resume for a Systems Administrator Job'\n",
            " 'Generate a Resume for a Teacher Job'\n",
            " 'Generate a Resume for a Testing Job'\n",
            " 'Generate a Resume for a Web Designing Job'\n",
            " 'Generate a Resume for a Web Developer Job']\n"
          ]
        }
      ],
      "source": [
        "# print distinct instruction\n",
        "distinct_instructions_df1 = df1['instruction'].unique()\n",
        "print(\"Distinct values in 'instruction' column in df1:\", distinct_instructions_df1)"
      ]
    },
    {
      "cell_type": "code",
      "execution_count": null,
      "id": "17f534f2",
      "metadata": {
        "id": "17f534f2",
        "outputId": "fce86fba-71ac-4238-a006-7eb9530c3693",
        "colab": {
          "base_uri": "https://localhost:8080/"
        }
      },
      "outputs": [
        {
          "output_type": "stream",
          "name": "stdout",
          "text": [
            "Distinct values in 'instruction' column of filtered_df: ['Generate a Resume for a Data Science Job'\n",
            " 'Generate a Resume for a Database Job'\n",
            " 'Generate a Resume for a Database Administrator Job'\n",
            " 'Generate a Resume for a DevOps Engineer Job'\n",
            " 'Generate a Resume for a DotNet Developer Job'\n",
            " 'Generate a Resume for a ETL Developer Job'\n",
            " 'Generate a Resume for a Information Technology Job'\n",
            " 'Generate a Resume for a Java Developer Job'\n",
            " 'Generate a Resume for a Python Developer Job'\n",
            " 'Generate a Resume for a SAP Developer Job'\n",
            " 'Generate a Resume for a Software Developer Job'\n",
            " 'Generate a Resume for a Web Designing Job'\n",
            " 'Generate a Resume for a Web Developer Job']\n"
          ]
        }
      ],
      "source": [
        "# filter the resume by IT-related resumes only due to high number of resumes\n",
        "filtered_jobs_df1 = [\n",
        "    \"data science\",\n",
        "    \"database\",\n",
        "    \"devops\",\n",
        "    \"developer\",\n",
        "    \"information technology\",\n",
        "    \"web\"\n",
        "]\n",
        "filtered_df1 = df1[df1['instruction'].str.contains('|'.join(filtered_jobs_df1), case=False, regex=True)]\n",
        "print(\"Distinct values in 'instruction' column of filtered_df:\", filtered_df1['instruction'].unique())"
      ]
    },
    {
      "cell_type": "code",
      "execution_count": null,
      "id": "89a53042",
      "metadata": {
        "id": "89a53042",
        "outputId": "3035c038-cfbd-4a0a-ec02-bb13f4add3c3",
        "colab": {
          "base_uri": "https://localhost:8080/"
        }
      },
      "outputs": [
        {
          "output_type": "stream",
          "name": "stdout",
          "text": [
            "<class 'pandas.core.frame.DataFrame'>\n",
            "Index: 17324 entries, 1428 to 32480\n",
            "Data columns (total 1 columns):\n",
            " #   Column       Non-Null Count  Dtype \n",
            "---  ------       --------------  ----- \n",
            " 0   Resume_test  17324 non-null  object\n",
            "dtypes: object(1)\n",
            "memory usage: 270.7+ KB\n"
          ]
        }
      ],
      "source": [
        "# drop columns\n",
        "df1 = filtered_df1.drop(columns=['instruction', 'input'])\n",
        "df1.info()"
      ]
    },
    {
      "cell_type": "code",
      "execution_count": null,
      "id": "e6a8af33",
      "metadata": {
        "id": "e6a8af33"
      },
      "outputs": [],
      "source": [
        "df1.to_csv('/content/drive/MyDrive/FYP/Implementation/Resume Dataset/resume_collection_1.csv', index=False)"
      ]
    },
    {
      "cell_type": "markdown",
      "source": [
        "## Preprocess df6"
      ],
      "metadata": {
        "id": "vvhBGi1rqpym"
      },
      "id": "vvhBGi1rqpym"
    },
    {
      "cell_type": "code",
      "source": [
        "# print distinct category in df6\n",
        "distinct_category_df6 = df6['Category'].unique()\n",
        "print(\"Distinct values in 'category' column in df6:\", distinct_category_df6)"
      ],
      "metadata": {
        "id": "IiARNQQWqqI2",
        "outputId": "fe037842-38e6-4498-c3ce-3cb5f251e7da",
        "colab": {
          "base_uri": "https://localhost:8080/"
        }
      },
      "id": "IiARNQQWqqI2",
      "execution_count": 4,
      "outputs": [
        {
          "output_type": "stream",
          "name": "stdout",
          "text": [
            "Distinct values in 'category' column in df6: ['Accountant' 'Advocate' 'Agriculture' 'Apparel' 'Architecture' 'Arts'\n",
            " 'Automobile' 'Aviation' 'Banking' 'Blockchain' 'BPO'\n",
            " 'Building and Construction' 'Business Analyst' 'Civil Engineer'\n",
            " 'Consultant' 'Data Science' 'Database' 'Designing' 'DevOps'\n",
            " 'Digital Media' 'DotNet Developer' 'Education' 'Electrical Engineering'\n",
            " 'ETL Developer' 'Finance' 'Food and Beverages' 'Health and Fitness'\n",
            " 'Human Resources' 'Information Technology' 'Java Developer' 'Management'\n",
            " 'Mechanical Engineer' 'Network Security Engineer' 'Operations Manager'\n",
            " 'PMO' 'Public Relations' 'Python Developer' 'React Developer' 'Sales'\n",
            " 'SAP Developer' 'SQL Developer' 'Testing' 'Web Designing']\n"
          ]
        }
      ]
    },
    {
      "cell_type": "code",
      "source": [
        "filtered_jobs_df6_A = [\n",
        "    \"data science\",\n",
        "    \"database\",\n",
        "    \"devops\",\n",
        "    \"developer\",\n",
        "    \"information technology\"\n",
        "]\n",
        "filtered_df6_A = df6[df6['Category'].str.contains('|'.join(filtered_jobs_df6_A), case=False, regex=True)]\n",
        "print(\"Distinct values in 'category' column in df6:\", filtered_df6_A['Category'].unique())"
      ],
      "metadata": {
        "id": "1J4xgvwKs7Iv",
        "outputId": "c2208675-2203-461b-9e11-ab7efed59a60",
        "colab": {
          "base_uri": "https://localhost:8080/"
        }
      },
      "id": "1J4xgvwKs7Iv",
      "execution_count": 11,
      "outputs": [
        {
          "output_type": "stream",
          "name": "stdout",
          "text": [
            "Distinct values in 'category' column in df6: ['Data Science' 'Database' 'DevOps' 'DotNet Developer' 'ETL Developer'\n",
            " 'Information Technology' 'Java Developer' 'Python Developer'\n",
            " 'React Developer' 'SAP Developer' 'SQL Developer']\n"
          ]
        }
      ]
    },
    {
      "cell_type": "code",
      "source": [
        "filtered_df6_B = df6[~df6['Category'].str.contains('|'.join(filtered_jobs_df6_A), case=False, regex=True)]\n",
        "print(\"Distinct values in 'category' column in df6:\", filtered_df6_B['Category'].unique())"
      ],
      "metadata": {
        "id": "fMmz6vtGyfcI",
        "outputId": "cbfe8b10-209b-40ea-df5b-b3134df51d57",
        "colab": {
          "base_uri": "https://localhost:8080/"
        }
      },
      "id": "fMmz6vtGyfcI",
      "execution_count": 12,
      "outputs": [
        {
          "output_type": "stream",
          "name": "stdout",
          "text": [
            "Distinct values in 'category' column in df6: ['Accountant' 'Advocate' 'Agriculture' 'Apparel' 'Architecture' 'Arts'\n",
            " 'Automobile' 'Aviation' 'Banking' 'Blockchain' 'BPO'\n",
            " 'Building and Construction' 'Business Analyst' 'Civil Engineer'\n",
            " 'Consultant' 'Designing' 'Digital Media' 'Education'\n",
            " 'Electrical Engineering' 'Finance' 'Food and Beverages'\n",
            " 'Health and Fitness' 'Human Resources' 'Management' 'Mechanical Engineer'\n",
            " 'Network Security Engineer' 'Operations Manager' 'PMO' 'Public Relations'\n",
            " 'Sales' 'Testing' 'Web Designing']\n"
          ]
        }
      ]
    },
    {
      "cell_type": "code",
      "source": [
        "# drop columns\n",
        "df6_A = filtered_df6_A['Text']\n",
        "# shuffle df and remain first 200 rows\n",
        "df6_A = df6.sample(frac=1, random_state=42).head(200)\n",
        "df6_A.info()"
      ],
      "metadata": {
        "id": "zf_Cat_4rO0P",
        "outputId": "9506afe4-778b-4d0b-8502-6655a9fbfcbb",
        "colab": {
          "base_uri": "https://localhost:8080/"
        }
      },
      "id": "zf_Cat_4rO0P",
      "execution_count": 14,
      "outputs": [
        {
          "output_type": "stream",
          "name": "stdout",
          "text": [
            "<class 'pandas.core.frame.DataFrame'>\n",
            "Index: 200 entries, 4105 to 5460\n",
            "Data columns (total 2 columns):\n",
            " #   Column    Non-Null Count  Dtype \n",
            "---  ------    --------------  ----- \n",
            " 0   Category  200 non-null    object\n",
            " 1   Text      200 non-null    object\n",
            "dtypes: object(2)\n",
            "memory usage: 4.7+ KB\n"
          ]
        }
      ]
    },
    {
      "cell_type": "code",
      "source": [
        "# drop columns\n",
        "df6_B = filtered_df6_B['Text']\n",
        "# shuffle df and remain first 200 rows\n",
        "df6_B = df6.sample(frac=1, random_state=42).head(200)\n",
        "df6_B.info()"
      ],
      "metadata": {
        "id": "TfJp4km4zIwr",
        "outputId": "1aa080dd-620c-4623-e6a0-e3eea2dc0165",
        "colab": {
          "base_uri": "https://localhost:8080/"
        }
      },
      "id": "TfJp4km4zIwr",
      "execution_count": 13,
      "outputs": [
        {
          "output_type": "stream",
          "name": "stdout",
          "text": [
            "<class 'pandas.core.frame.DataFrame'>\n",
            "Index: 200 entries, 4105 to 5460\n",
            "Data columns (total 2 columns):\n",
            " #   Column    Non-Null Count  Dtype \n",
            "---  ------    --------------  ----- \n",
            " 0   Category  200 non-null    object\n",
            " 1   Text      200 non-null    object\n",
            "dtypes: object(2)\n",
            "memory usage: 4.7+ KB\n"
          ]
        }
      ]
    },
    {
      "cell_type": "code",
      "source": [
        "# export as csv\n",
        "df6_A.to_csv('/content/drive/MyDrive/FYP/Implementation/Resume Dataset/resume_collection_6.csv', index=False)"
      ],
      "metadata": {
        "id": "C4lt-9iTsHx-"
      },
      "id": "C4lt-9iTsHx-",
      "execution_count": null,
      "outputs": []
    },
    {
      "cell_type": "code",
      "source": [
        "# export as csv\n",
        "df6_B.to_csv('/content/drive/MyDrive/FYP/Implementation/Resume Dataset/resume_collection_6_b.csv', index=False)"
      ],
      "metadata": {
        "id": "6mkqax-hzHRL"
      },
      "id": "6mkqax-hzHRL",
      "execution_count": 15,
      "outputs": []
    }
  ],
  "metadata": {
    "kernelspec": {
      "display_name": "Python 3 (ipykernel)",
      "language": "python",
      "name": "python3"
    },
    "language_info": {
      "codemirror_mode": {
        "name": "ipython",
        "version": 3
      },
      "file_extension": ".py",
      "mimetype": "text/x-python",
      "name": "python",
      "nbconvert_exporter": "python",
      "pygments_lexer": "ipython3",
      "version": "3.10.0"
    },
    "colab": {
      "provenance": [],
      "include_colab_link": true
    }
  },
  "nbformat": 4,
  "nbformat_minor": 5
}