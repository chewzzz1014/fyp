{
  "cells": [
    {
      "cell_type": "markdown",
      "metadata": {
        "id": "view-in-github",
        "colab_type": "text"
      },
      "source": [
        "<a href=\"https://colab.research.google.com/github/chewzzz1014/fyp/blob/master/ner/src/train_ner_models.ipynb\" target=\"_parent\"><img src=\"https://colab.research.google.com/assets/colab-badge.svg\" alt=\"Open In Colab\"/></a>"
      ]
    },
    {
      "cell_type": "markdown",
      "source": [
        "# Train NER Models"
      ],
      "metadata": {
        "id": "t0P9v82yDulr"
      },
      "id": "t0P9v82yDulr"
    },
    {
      "cell_type": "code",
      "source": [
        "# mount drive\n",
        "from google.colab import drive\n",
        "drive.mount('/content/drive')"
      ],
      "metadata": {
        "id": "5YToyjV-40ZV",
        "outputId": "98b935cf-48ce-40e7-a4d2-a2b42a54a676",
        "colab": {
          "base_uri": "https://localhost:8080/"
        }
      },
      "id": "5YToyjV-40ZV",
      "execution_count": 1,
      "outputs": [
        {
          "output_type": "stream",
          "name": "stdout",
          "text": [
            "Mounted at /content/drive\n"
          ]
        }
      ]
    },
    {
      "cell_type": "code",
      "source": [
        "# import CONLL2003 annotated dataset\n",
        "import pandas as pd\n",
        "from sklearn.model_selection import train_test_split\n",
        "\n",
        "# Load the dataset\n",
        "df = pd.read_csv(\"/content/drive/MyDrive/FYP/Implementation/Resume Dataset/10_resumes_annotated.conll\", delimiter='\\t', names=[\"word\", \"pos\", \"chunk\", \"ner\"], skip_blank_lines=True)\n",
        "\n",
        "# Train/test split (80/20)\n",
        "train_df, test_df = train_test_split(df, test_size=0.2, random_state=42)\n",
        "\n",
        "# Save the new splits to files if needed\n",
        "train_df.to_csv(\"conll_train.conll\", sep='\\t', index=False, header=False)\n",
        "test_df.to_csv(\"conll_test.conll\", sep='\\t', index=False, header=False)\n"
      ],
      "metadata": {
        "id": "z6u95QF1CUke"
      },
      "id": "z6u95QF1CUke",
      "execution_count": 4,
      "outputs": []
    },
    {
      "cell_type": "markdown",
      "source": [
        "## Spacy NER"
      ],
      "metadata": {
        "id": "FMM7E6hNCEUv"
      },
      "id": "FMM7E6hNCEUv"
    },
    {
      "cell_type": "code",
      "execution_count": 5,
      "id": "572d77b5",
      "metadata": {
        "colab": {
          "base_uri": "https://localhost:8080/"
        },
        "id": "572d77b5",
        "outputId": "b5ce5285-c5a8-4ec3-841e-7804dd0c4eb6"
      },
      "outputs": [
        {
          "output_type": "stream",
          "name": "stdout",
          "text": [
            "mkdir: cannot create directory ‘spacy_ner_data’: File exists\n",
            "\u001b[38;5;4mℹ Auto-detected token-per-line NER format\u001b[0m\n",
            "\u001b[38;5;3m⚠ Document delimiters found, automatic document segmentation with `-n`\n",
            "disabled.\u001b[0m\n",
            "\u001b[38;5;3m⚠ No sentence boundaries found. Use `-s` to automatically segment\n",
            "sentences.\u001b[0m\n",
            "Traceback (most recent call last):\n",
            "  File \"/usr/lib/python3.10/runpy.py\", line 196, in _run_module_as_main\n",
            "    return _run_code(code, main_globals, None,\n",
            "  File \"/usr/lib/python3.10/runpy.py\", line 86, in _run_code\n",
            "    exec(code, run_globals)\n",
            "  File \"/usr/local/lib/python3.10/dist-packages/spacy/__main__.py\", line 4, in <module>\n",
            "    setup_cli()\n",
            "  File \"/usr/local/lib/python3.10/dist-packages/spacy/cli/_util.py\", line 87, in setup_cli\n",
            "    command(prog_name=COMMAND)\n",
            "  File \"/usr/local/lib/python3.10/dist-packages/click/core.py\", line 1157, in __call__\n",
            "    return self.main(*args, **kwargs)\n",
            "  File \"/usr/local/lib/python3.10/dist-packages/typer/core.py\", line 728, in main\n",
            "    return _main(\n",
            "  File \"/usr/local/lib/python3.10/dist-packages/typer/core.py\", line 197, in _main\n",
            "    rv = self.invoke(ctx)\n",
            "  File \"/usr/local/lib/python3.10/dist-packages/click/core.py\", line 1688, in invoke\n",
            "    return _process_result(sub_ctx.command.invoke(sub_ctx))\n",
            "  File \"/usr/local/lib/python3.10/dist-packages/click/core.py\", line 1434, in invoke\n",
            "    return ctx.invoke(self.callback, **ctx.params)\n",
            "  File \"/usr/local/lib/python3.10/dist-packages/click/core.py\", line 783, in invoke\n",
            "    return __callback(*args, **kwargs)\n",
            "  File \"/usr/local/lib/python3.10/dist-packages/typer/main.py\", line 703, in wrapper\n",
            "    return callback(**use_params)\n",
            "  File \"/usr/local/lib/python3.10/dist-packages/spacy/cli/convert.py\", line 81, in convert_cli\n",
            "    convert(\n",
            "  File \"/usr/local/lib/python3.10/dist-packages/spacy/cli/convert.py\", line 146, in convert\n",
            "    db = DocBin(docs=docs, store_user_data=True)\n",
            "  File \"/usr/local/lib/python3.10/dist-packages/spacy/tokens/_serialize.py\", line 85, in __init__\n",
            "    for doc in docs:\n",
            "  File \"/usr/local/lib/python3.10/dist-packages/spacy/training/converters/conll_ner_to_docs.py\", line 109, in conll_ner_to_docs\n",
            "    biluo_tags.extend(iob_to_biluo(cols[-1]))\n",
            "  File \"/usr/local/lib/python3.10/dist-packages/spacy/training/iob_utils.py\", line 13, in iob_to_biluo\n",
            "    out.extend(_consume_ent(tags))\n",
            "  File \"/usr/local/lib/python3.10/dist-packages/spacy/training/iob_utils.py\", line 46, in _consume_ent\n",
            "    raise ValueError(Errors.E177.format(tag=tag))\n",
            "ValueError: [E177] Ill-formed IOB input detected: _\n",
            "\u001b[38;5;4mℹ Auto-detected token-per-line NER format\u001b[0m\n",
            "\u001b[38;5;3m⚠ Document delimiters found, automatic document segmentation with `-n`\n",
            "disabled.\u001b[0m\n",
            "\u001b[38;5;3m⚠ No sentence boundaries found. Use `-s` to automatically segment\n",
            "sentences.\u001b[0m\n",
            "\u001b[38;5;2m✔ Generated output file (1 documents):\n",
            "spacy_ner_data/conll_test.spacy\u001b[0m\n"
          ]
        }
      ],
      "source": [
        "# create dir to place spacy ner data\n",
        "!mkdir spacy_ner_data\n",
        "\n",
        "# convert CONLL2003 annotation data into spacy data\n",
        "!python -m spacy convert \"conll_train.conll\" spacy_ner_data -c ner\n",
        "!python -m spacy convert \"conll_test.conll\" spacy_ner_data -c ner"
      ]
    },
    {
      "cell_type": "code",
      "source": [
        "# create base_config.cfg and paste the config generated from spacy widget\n",
        "# update train and test file path\n",
        "!touch base_config.cfg"
      ],
      "metadata": {
        "id": "ruPln43fCDLm"
      },
      "id": "ruPln43fCDLm",
      "execution_count": null,
      "outputs": []
    },
    {
      "cell_type": "code",
      "source": [
        "# generate config.cfg from base_config.cfg\n",
        "!python -m spacy init fill-config base_config.cfg config.cfg"
      ],
      "metadata": {
        "id": "0aRjL9jqC-5k"
      },
      "id": "0aRjL9jqC-5k",
      "execution_count": null,
      "outputs": []
    },
    {
      "cell_type": "code",
      "source": [
        "# train model using hyperparameters set in config.cfg\n",
        "# trained model in output/ dir\n",
        "!python -m spacy train config.cfg --output ./output"
      ],
      "metadata": {
        "id": "Jav_l46BEDjF"
      },
      "id": "Jav_l46BEDjF",
      "execution_count": null,
      "outputs": []
    },
    {
      "cell_type": "code",
      "source": [
        "# evaluate trained model performance\n",
        "# store output and visualization into result/ dir\n",
        "!python -m spacy evaluate output/model-best spacy_ner_data/test.spacy -dp result"
      ],
      "metadata": {
        "id": "V2wzIOsWJgkG"
      },
      "id": "V2wzIOsWJgkG",
      "execution_count": null,
      "outputs": []
    },
    {
      "cell_type": "code",
      "source": [
        "# download trained model"
      ],
      "metadata": {
        "id": "9sJdwj4GEKTM"
      },
      "id": "9sJdwj4GEKTM",
      "execution_count": null,
      "outputs": []
    },
    {
      "cell_type": "markdown",
      "source": [
        "## Flair NER"
      ],
      "metadata": {
        "id": "1z_niSalE0uT"
      },
      "id": "1z_niSalE0uT"
    },
    {
      "cell_type": "code",
      "source": [
        "!pip install flair"
      ],
      "metadata": {
        "id": "lsEUGnPpnjuU"
      },
      "id": "lsEUGnPpnjuU",
      "execution_count": null,
      "outputs": []
    },
    {
      "cell_type": "code",
      "source": [
        "# load data\n",
        "import flair\n",
        "from flair.datasets import ColumnCorpus\n",
        "\n",
        "# Define columns\n",
        "columns = {0: 'text', 1: 'ner'}\n",
        "\n",
        "# Specify the path to your training and test data\n",
        "data_folder = 'path/to/your/data'  # Update this path\n",
        "train_file = 'train.txt'  # Your training file\n",
        "test_file = 'test.txt'    # Your testing file\n",
        "\n",
        "# Create the corpus\n",
        "corpus = ColumnCorpus(data_folder,\n",
        "                      { 'train': train_file,\n",
        "                        'test': test_file },\n",
        "                      columns=columns)"
      ],
      "metadata": {
        "id": "WDsFt8DnE2OL"
      },
      "id": "WDsFt8DnE2OL",
      "execution_count": null,
      "outputs": []
    },
    {
      "cell_type": "code",
      "source": [
        "# create NER tagger\n",
        "from flair.models import SequenceTagger\n",
        "\n",
        "tagger = SequenceTagger(hidden_size=256,\n",
        "                         embeddings='glove',\n",
        "                         tag_dictionary=corpus.make_tag_dictionary(tag_type='ner'),\n",
        "                         tag_type='ner',\n",
        "                         use_crf=True)\n"
      ],
      "metadata": {
        "id": "QEBUKmiAnaFm"
      },
      "id": "QEBUKmiAnaFm",
      "execution_count": null,
      "outputs": []
    },
    {
      "cell_type": "code",
      "source": [
        "# train model\n",
        "from flair.trainers import ModelTrainer\n",
        "\n",
        "trainer = ModelTrainer(tagger, corpus)\n",
        "\n",
        "trainer.train('path/to/save/model',  # Update this path\n",
        "               learning_rate=0.1,\n",
        "               mini_batch_size=32,\n",
        "               max_epochs=10)"
      ],
      "metadata": {
        "id": "XbuJ4VjCnoPU"
      },
      "id": "XbuJ4VjCnoPU",
      "execution_count": null,
      "outputs": []
    },
    {
      "cell_type": "code",
      "source": [
        "# evaluate model\n",
        "result, score = trainer.evaluate(corpus.test)\n",
        "print(result)\n",
        "print(score)"
      ],
      "metadata": {
        "id": "6KT8wj3Lns2c"
      },
      "id": "6KT8wj3Lns2c",
      "execution_count": null,
      "outputs": []
    },
    {
      "cell_type": "code",
      "source": [
        "# make prediction\n",
        "model = SequenceTagger.load('path/to/save/model')\n",
        "sentence = flair.data.Sentence(\"Your text here.\")\n",
        "\n",
        "model.predict(sentence)\n",
        "\n",
        "print(sentence.to_tagged_string())"
      ],
      "metadata": {
        "id": "KOYkWF9Anwec"
      },
      "id": "KOYkWF9Anwec",
      "execution_count": null,
      "outputs": []
    }
  ],
  "metadata": {
    "kernelspec": {
      "display_name": "Python 3 (ipykernel)",
      "language": "python",
      "name": "python3"
    },
    "language_info": {
      "codemirror_mode": {
        "name": "ipython",
        "version": 3
      },
      "file_extension": ".py",
      "mimetype": "text/x-python",
      "name": "python",
      "nbconvert_exporter": "python",
      "pygments_lexer": "ipython3",
      "version": "3.10.0"
    },
    "colab": {
      "provenance": [],
      "include_colab_link": true
    }
  },
  "nbformat": 4,
  "nbformat_minor": 5
}