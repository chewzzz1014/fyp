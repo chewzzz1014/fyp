{
  "cells": [
    {
      "cell_type": "markdown",
      "metadata": {
        "id": "view-in-github",
        "colab_type": "text"
      },
      "source": [
        "<a href=\"https://colab.research.google.com/github/chewzzz1014/fyp/blob/master/ner/src/train_ner_models.ipynb\" target=\"_parent\"><img src=\"https://colab.research.google.com/assets/colab-badge.svg\" alt=\"Open In Colab\"/></a>"
      ]
    },
    {
      "cell_type": "markdown",
      "source": [
        "# Train NER Models"
      ],
      "metadata": {
        "id": "t0P9v82yDulr"
      },
      "id": "t0P9v82yDulr"
    },
    {
      "cell_type": "code",
      "source": [
        "# mount drive\n",
        "from google.colab import drive\n",
        "drive.mount('/content/drive')"
      ],
      "metadata": {
        "id": "5YToyjV-40ZV",
        "outputId": "9ac26e36-34db-4c13-867d-7f0c1bbd759a",
        "colab": {
          "base_uri": "https://localhost:8080/"
        }
      },
      "id": "5YToyjV-40ZV",
      "execution_count": 1,
      "outputs": [
        {
          "output_type": "stream",
          "name": "stdout",
          "text": [
            "Mounted at /content/drive\n"
          ]
        }
      ]
    },
    {
      "cell_type": "code",
      "source": [
        "!mkdir spacy_ner_data"
      ],
      "metadata": {
        "id": "VtZ7OFQtpG4-"
      },
      "id": "VtZ7OFQtpG4-",
      "execution_count": 2,
      "outputs": []
    },
    {
      "cell_type": "code",
      "source": [
        "import json\n",
        "import random\n",
        "from sklearn.model_selection import train_test_split\n",
        "import spacy\n",
        "from spacy.tokens import DocBin\n",
        "\n",
        "# Load JSON data\n",
        "with open('/content/drive/MyDrive/FYP/Implementation/Resume Dataset/200_resumes_annotated.json', \"r\") as f:\n",
        "    data = json.load(f)\n",
        "\n",
        "def remove_overlapping_entities(entities):\n",
        "    \"\"\"Remove overlapping entities from the list.\"\"\"\n",
        "    entities = sorted(entities, key=lambda x: x[0])  # Sort by start position\n",
        "    non_overlapping = []\n",
        "    last_end = -1\n",
        "    for start, end, label in entities:\n",
        "        if start >= last_end:  # Only add if there's no overlap with the previous entity\n",
        "            non_overlapping.append((start, end, label))\n",
        "            last_end = end\n",
        "    return non_overlapping\n",
        "\n",
        "# Function to convert JSON data to Spacy's DocBin format\n",
        "def convert_to_spacy_format(data):\n",
        "    nlp = spacy.blank(\"en\")  # Load a blank Spacy model\n",
        "    doc_bin = DocBin()  # Container for our docs\n",
        "\n",
        "    for item in data:\n",
        "        text = item['data']['Text']  # Full document text\n",
        "        entities = []\n",
        "\n",
        "        for annotation in item['annotations'][0]['result']:\n",
        "            start = annotation['value']['start']\n",
        "            end = annotation['value']['end']\n",
        "            label = annotation['value']['labels'][0]  # Entity label\n",
        "            entities.append((start, end, label))\n",
        "\n",
        "        entities = remove_overlapping_entities(entities)  # Remove overlapping entities\n",
        "        # Create a Spacy doc and add entities to it\n",
        "        doc = nlp.make_doc(text)\n",
        "        spans = [doc.char_span(start, end, label=label) for start, end, label in entities]\n",
        "        # Filter out None spans if Spacy can't align the character indices with tokens\n",
        "        spans = [span for span in spans if span is not None]\n",
        "        doc.ents = spans  # Assign entities to the doc\n",
        "        doc_bin.add(doc)\n",
        "\n",
        "    return doc_bin\n",
        "\n",
        "# Split data into train and test sets\n",
        "train_data, test_data = train_test_split(data, test_size=0.2, random_state=42)\n",
        "\n",
        "# Convert train and test sets to Spacy format\n",
        "train_doc_bin = convert_to_spacy_format(train_data)\n",
        "test_doc_bin = convert_to_spacy_format(test_data)\n",
        "\n",
        "# Save the train and test data to .spacy files\n",
        "train_doc_bin.to_disk(\"spacy_ner_data/train_data.spacy\")\n",
        "test_doc_bin.to_disk(\"spacy_ner_data/test_data.spacy\")"
      ],
      "metadata": {
        "id": "R-8QBDX3gtkp"
      },
      "id": "R-8QBDX3gtkp",
      "execution_count": 3,
      "outputs": []
    },
    {
      "cell_type": "markdown",
      "source": [
        "## Spacy NER"
      ],
      "metadata": {
        "id": "FMM7E6hNCEUv"
      },
      "id": "FMM7E6hNCEUv"
    },
    {
      "cell_type": "code",
      "source": [
        "# create base_config.cfg and paste the config generated from spacy widget\n",
        "# update train and test file path\n",
        "!touch base_config.cfg"
      ],
      "metadata": {
        "id": "ruPln43fCDLm"
      },
      "id": "ruPln43fCDLm",
      "execution_count": 4,
      "outputs": []
    },
    {
      "cell_type": "code",
      "source": [
        "# generate config.cfg from base_config.cfg\n",
        "!python -m spacy init fill-config base_config.cfg config.cfg"
      ],
      "metadata": {
        "id": "0aRjL9jqC-5k",
        "colab": {
          "base_uri": "https://localhost:8080/"
        },
        "outputId": "3a488b03-8d3c-4a76-920d-def0bb7c519a"
      },
      "id": "0aRjL9jqC-5k",
      "execution_count": 5,
      "outputs": [
        {
          "output_type": "stream",
          "name": "stdout",
          "text": [
            "\u001b[38;5;2m✔ Auto-filled config with all values\u001b[0m\n",
            "\u001b[38;5;2m✔ Saved config\u001b[0m\n",
            "config.cfg\n",
            "You can now add your data and train your pipeline:\n",
            "python -m spacy train config.cfg --paths.train ./train.spacy --paths.dev ./dev.spacy\n"
          ]
        }
      ]
    },
    {
      "cell_type": "code",
      "source": [
        "!python -m spacy download en_core_web_lg"
      ],
      "metadata": {
        "colab": {
          "base_uri": "https://localhost:8080/"
        },
        "id": "9wb_aBw9X2NU",
        "outputId": "6576462f-0b12-402f-bdeb-565e47dbac4e"
      },
      "id": "9wb_aBw9X2NU",
      "execution_count": 6,
      "outputs": [
        {
          "output_type": "stream",
          "name": "stdout",
          "text": [
            "Collecting en-core-web-lg==3.7.1\n",
            "  Downloading https://github.com/explosion/spacy-models/releases/download/en_core_web_lg-3.7.1/en_core_web_lg-3.7.1-py3-none-any.whl (587.7 MB)\n",
            "\u001b[2K     \u001b[90m━━━━━━━━━━━━━━━━━━━━━━━━━━━━━━━━━━━━━━━━\u001b[0m \u001b[32m587.7/587.7 MB\u001b[0m \u001b[31m3.0 MB/s\u001b[0m eta \u001b[36m0:00:00\u001b[0m\n",
            "\u001b[?25hRequirement already satisfied: spacy<3.8.0,>=3.7.2 in /usr/local/lib/python3.10/dist-packages (from en-core-web-lg==3.7.1) (3.7.5)\n",
            "Requirement already satisfied: spacy-legacy<3.1.0,>=3.0.11 in /usr/local/lib/python3.10/dist-packages (from spacy<3.8.0,>=3.7.2->en-core-web-lg==3.7.1) (3.0.12)\n",
            "Requirement already satisfied: spacy-loggers<2.0.0,>=1.0.0 in /usr/local/lib/python3.10/dist-packages (from spacy<3.8.0,>=3.7.2->en-core-web-lg==3.7.1) (1.0.5)\n",
            "Requirement already satisfied: murmurhash<1.1.0,>=0.28.0 in /usr/local/lib/python3.10/dist-packages (from spacy<3.8.0,>=3.7.2->en-core-web-lg==3.7.1) (1.0.10)\n",
            "Requirement already satisfied: cymem<2.1.0,>=2.0.2 in /usr/local/lib/python3.10/dist-packages (from spacy<3.8.0,>=3.7.2->en-core-web-lg==3.7.1) (2.0.8)\n",
            "Requirement already satisfied: preshed<3.1.0,>=3.0.2 in /usr/local/lib/python3.10/dist-packages (from spacy<3.8.0,>=3.7.2->en-core-web-lg==3.7.1) (3.0.9)\n",
            "Requirement already satisfied: thinc<8.3.0,>=8.2.2 in /usr/local/lib/python3.10/dist-packages (from spacy<3.8.0,>=3.7.2->en-core-web-lg==3.7.1) (8.2.5)\n",
            "Requirement already satisfied: wasabi<1.2.0,>=0.9.1 in /usr/local/lib/python3.10/dist-packages (from spacy<3.8.0,>=3.7.2->en-core-web-lg==3.7.1) (1.1.3)\n",
            "Requirement already satisfied: srsly<3.0.0,>=2.4.3 in /usr/local/lib/python3.10/dist-packages (from spacy<3.8.0,>=3.7.2->en-core-web-lg==3.7.1) (2.4.8)\n",
            "Requirement already satisfied: catalogue<2.1.0,>=2.0.6 in /usr/local/lib/python3.10/dist-packages (from spacy<3.8.0,>=3.7.2->en-core-web-lg==3.7.1) (2.0.10)\n",
            "Requirement already satisfied: weasel<0.5.0,>=0.1.0 in /usr/local/lib/python3.10/dist-packages (from spacy<3.8.0,>=3.7.2->en-core-web-lg==3.7.1) (0.4.1)\n",
            "Requirement already satisfied: typer<1.0.0,>=0.3.0 in /usr/local/lib/python3.10/dist-packages (from spacy<3.8.0,>=3.7.2->en-core-web-lg==3.7.1) (0.12.5)\n",
            "Requirement already satisfied: tqdm<5.0.0,>=4.38.0 in /usr/local/lib/python3.10/dist-packages (from spacy<3.8.0,>=3.7.2->en-core-web-lg==3.7.1) (4.66.6)\n",
            "Requirement already satisfied: requests<3.0.0,>=2.13.0 in /usr/local/lib/python3.10/dist-packages (from spacy<3.8.0,>=3.7.2->en-core-web-lg==3.7.1) (2.32.3)\n",
            "Requirement already satisfied: pydantic!=1.8,!=1.8.1,<3.0.0,>=1.7.4 in /usr/local/lib/python3.10/dist-packages (from spacy<3.8.0,>=3.7.2->en-core-web-lg==3.7.1) (2.9.2)\n",
            "Requirement already satisfied: jinja2 in /usr/local/lib/python3.10/dist-packages (from spacy<3.8.0,>=3.7.2->en-core-web-lg==3.7.1) (3.1.4)\n",
            "Requirement already satisfied: setuptools in /usr/local/lib/python3.10/dist-packages (from spacy<3.8.0,>=3.7.2->en-core-web-lg==3.7.1) (75.1.0)\n",
            "Requirement already satisfied: packaging>=20.0 in /usr/local/lib/python3.10/dist-packages (from spacy<3.8.0,>=3.7.2->en-core-web-lg==3.7.1) (24.1)\n",
            "Requirement already satisfied: langcodes<4.0.0,>=3.2.0 in /usr/local/lib/python3.10/dist-packages (from spacy<3.8.0,>=3.7.2->en-core-web-lg==3.7.1) (3.4.1)\n",
            "Requirement already satisfied: numpy>=1.19.0 in /usr/local/lib/python3.10/dist-packages (from spacy<3.8.0,>=3.7.2->en-core-web-lg==3.7.1) (1.26.4)\n",
            "Requirement already satisfied: language-data>=1.2 in /usr/local/lib/python3.10/dist-packages (from langcodes<4.0.0,>=3.2.0->spacy<3.8.0,>=3.7.2->en-core-web-lg==3.7.1) (1.2.0)\n",
            "Requirement already satisfied: annotated-types>=0.6.0 in /usr/local/lib/python3.10/dist-packages (from pydantic!=1.8,!=1.8.1,<3.0.0,>=1.7.4->spacy<3.8.0,>=3.7.2->en-core-web-lg==3.7.1) (0.7.0)\n",
            "Requirement already satisfied: pydantic-core==2.23.4 in /usr/local/lib/python3.10/dist-packages (from pydantic!=1.8,!=1.8.1,<3.0.0,>=1.7.4->spacy<3.8.0,>=3.7.2->en-core-web-lg==3.7.1) (2.23.4)\n",
            "Requirement already satisfied: typing-extensions>=4.6.1 in /usr/local/lib/python3.10/dist-packages (from pydantic!=1.8,!=1.8.1,<3.0.0,>=1.7.4->spacy<3.8.0,>=3.7.2->en-core-web-lg==3.7.1) (4.12.2)\n",
            "Requirement already satisfied: charset-normalizer<4,>=2 in /usr/local/lib/python3.10/dist-packages (from requests<3.0.0,>=2.13.0->spacy<3.8.0,>=3.7.2->en-core-web-lg==3.7.1) (3.4.0)\n",
            "Requirement already satisfied: idna<4,>=2.5 in /usr/local/lib/python3.10/dist-packages (from requests<3.0.0,>=2.13.0->spacy<3.8.0,>=3.7.2->en-core-web-lg==3.7.1) (3.10)\n",
            "Requirement already satisfied: urllib3<3,>=1.21.1 in /usr/local/lib/python3.10/dist-packages (from requests<3.0.0,>=2.13.0->spacy<3.8.0,>=3.7.2->en-core-web-lg==3.7.1) (2.2.3)\n",
            "Requirement already satisfied: certifi>=2017.4.17 in /usr/local/lib/python3.10/dist-packages (from requests<3.0.0,>=2.13.0->spacy<3.8.0,>=3.7.2->en-core-web-lg==3.7.1) (2024.8.30)\n",
            "Requirement already satisfied: blis<0.8.0,>=0.7.8 in /usr/local/lib/python3.10/dist-packages (from thinc<8.3.0,>=8.2.2->spacy<3.8.0,>=3.7.2->en-core-web-lg==3.7.1) (0.7.11)\n",
            "Requirement already satisfied: confection<1.0.0,>=0.0.1 in /usr/local/lib/python3.10/dist-packages (from thinc<8.3.0,>=8.2.2->spacy<3.8.0,>=3.7.2->en-core-web-lg==3.7.1) (0.1.5)\n",
            "Requirement already satisfied: click>=8.0.0 in /usr/local/lib/python3.10/dist-packages (from typer<1.0.0,>=0.3.0->spacy<3.8.0,>=3.7.2->en-core-web-lg==3.7.1) (8.1.7)\n",
            "Requirement already satisfied: shellingham>=1.3.0 in /usr/local/lib/python3.10/dist-packages (from typer<1.0.0,>=0.3.0->spacy<3.8.0,>=3.7.2->en-core-web-lg==3.7.1) (1.5.4)\n",
            "Requirement already satisfied: rich>=10.11.0 in /usr/local/lib/python3.10/dist-packages (from typer<1.0.0,>=0.3.0->spacy<3.8.0,>=3.7.2->en-core-web-lg==3.7.1) (13.9.3)\n",
            "Requirement already satisfied: cloudpathlib<1.0.0,>=0.7.0 in /usr/local/lib/python3.10/dist-packages (from weasel<0.5.0,>=0.1.0->spacy<3.8.0,>=3.7.2->en-core-web-lg==3.7.1) (0.20.0)\n",
            "Requirement already satisfied: smart-open<8.0.0,>=5.2.1 in /usr/local/lib/python3.10/dist-packages (from weasel<0.5.0,>=0.1.0->spacy<3.8.0,>=3.7.2->en-core-web-lg==3.7.1) (7.0.5)\n",
            "Requirement already satisfied: MarkupSafe>=2.0 in /usr/local/lib/python3.10/dist-packages (from jinja2->spacy<3.8.0,>=3.7.2->en-core-web-lg==3.7.1) (3.0.2)\n",
            "Requirement already satisfied: marisa-trie>=0.7.7 in /usr/local/lib/python3.10/dist-packages (from language-data>=1.2->langcodes<4.0.0,>=3.2.0->spacy<3.8.0,>=3.7.2->en-core-web-lg==3.7.1) (1.2.1)\n",
            "Requirement already satisfied: markdown-it-py>=2.2.0 in /usr/local/lib/python3.10/dist-packages (from rich>=10.11.0->typer<1.0.0,>=0.3.0->spacy<3.8.0,>=3.7.2->en-core-web-lg==3.7.1) (3.0.0)\n",
            "Requirement already satisfied: pygments<3.0.0,>=2.13.0 in /usr/local/lib/python3.10/dist-packages (from rich>=10.11.0->typer<1.0.0,>=0.3.0->spacy<3.8.0,>=3.7.2->en-core-web-lg==3.7.1) (2.18.0)\n",
            "Requirement already satisfied: wrapt in /usr/local/lib/python3.10/dist-packages (from smart-open<8.0.0,>=5.2.1->weasel<0.5.0,>=0.1.0->spacy<3.8.0,>=3.7.2->en-core-web-lg==3.7.1) (1.16.0)\n",
            "Requirement already satisfied: mdurl~=0.1 in /usr/local/lib/python3.10/dist-packages (from markdown-it-py>=2.2.0->rich>=10.11.0->typer<1.0.0,>=0.3.0->spacy<3.8.0,>=3.7.2->en-core-web-lg==3.7.1) (0.1.2)\n",
            "Installing collected packages: en-core-web-lg\n",
            "Successfully installed en-core-web-lg-3.7.1\n",
            "\u001b[38;5;2m✔ Download and installation successful\u001b[0m\n",
            "You can now load the package via spacy.load('en_core_web_lg')\n",
            "\u001b[38;5;3m⚠ Restart to reload dependencies\u001b[0m\n",
            "If you are in a Jupyter or Colab notebook, you may need to restart Python in\n",
            "order to load all the package's dependencies. You can do this by selecting the\n",
            "'Restart kernel' or 'Restart runtime' option.\n"
          ]
        }
      ]
    },
    {
      "cell_type": "code",
      "source": [
        "# train model using hyperparameters set in config.cfg\n",
        "# save trained model in spacy-output/ dir\n",
        "\n",
        "# use cpu\n",
        "# !python -m spacy train config.cfg --output ./spacy_output\n",
        "\n",
        "# use gpu\n",
        "!python -m spacy train config.cfg --gpu-id 0 --output ./spacy_output\n",
        "\n",
        "!cp -r ./spacy_output /content/drive/MyDrive/FYP/Implementation/"
      ],
      "metadata": {
        "id": "Jav_l46BEDjF",
        "outputId": "c3186e1e-76f5-4a2b-f375-1b47fe058309",
        "colab": {
          "base_uri": "https://localhost:8080/"
        }
      },
      "id": "Jav_l46BEDjF",
      "execution_count": 8,
      "outputs": [
        {
          "output_type": "stream",
          "name": "stdout",
          "text": [
            "\u001b[38;5;4mℹ Saving to output directory: spacy_output\u001b[0m\n",
            "\u001b[38;5;4mℹ Using GPU: 0\u001b[0m\n",
            "\u001b[1m\n",
            "=========================== Initializing pipeline ===========================\u001b[0m\n",
            "\u001b[38;5;2m✔ Initialized pipeline\u001b[0m\n",
            "\u001b[1m\n",
            "============================= Training pipeline =============================\u001b[0m\n",
            "\u001b[38;5;4mℹ Pipeline: ['tok2vec', 'ner']\u001b[0m\n",
            "\u001b[38;5;4mℹ Initial learn rate: 0.0001\u001b[0m\n",
            "E    #       LOSS TOK2VEC  LOSS NER  ENTS_F  ENTS_P  ENTS_R  SCORE \n",
            "---  ------  ------------  --------  ------  ------  ------  ------\n",
            "  0       0          0.00    393.52    0.25    0.84    0.15    0.00\n",
            "  3     500        318.16  39628.63   22.18   50.26   14.23    0.22\n",
            "  6    1000        218.25  23196.31   37.41   32.47   44.11    0.37\n",
            "  9    1500        125.29  21066.13   43.77   52.45   37.56    0.44\n",
            " 12    2000        141.29  19069.86   47.18   61.24   38.38    0.47\n",
            " 15    2500        144.90  16835.35   49.74   50.23   49.25    0.50\n",
            " 18    3000        161.53  16130.90   49.34   53.33   45.90    0.49\n",
            " 21    3500        167.70  14694.07   50.29   53.01   47.84    0.50\n",
            " 25    4000        176.30  13344.23   50.41   50.60   50.22    0.50\n",
            " 28    4500        185.72  12757.72   49.76   45.60   54.77    0.50\n",
            " 31    5000        185.44  11536.24   51.15   53.64   48.88    0.51\n",
            " 34    5500        201.79  11132.41   49.90   57.05   44.34    0.50\n",
            " 37    6000        207.43  10211.72   50.30   51.32   49.33    0.50\n",
            " 40    6500        200.91   9112.03   50.35   56.66   45.31    0.50\n",
            "\u001b[38;5;2m✔ Saved pipeline to output directory\u001b[0m\n",
            "spacy_output/model-last\n"
          ]
        }
      ]
    },
    {
      "cell_type": "code",
      "source": [
        "# evaluate trained model performance\n",
        "# store output and visualization into result/ dir\n",
        "!python -m spacy evaluate spacy_output/model-best spacy_ner_data/test_data.spacy -dp spacy_output"
      ],
      "metadata": {
        "id": "V2wzIOsWJgkG",
        "colab": {
          "base_uri": "https://localhost:8080/"
        },
        "outputId": "527ebbea-4a38-4a6c-efbb-13dbc98a6ef4"
      },
      "id": "V2wzIOsWJgkG",
      "execution_count": 9,
      "outputs": [
        {
          "output_type": "stream",
          "name": "stdout",
          "text": [
            "\u001b[38;5;4mℹ Using CPU\u001b[0m\n",
            "\u001b[38;5;4mℹ To switch to GPU 0, use the option: --gpu-id 0\u001b[0m\n",
            "\u001b[1m\n",
            "================================== Results ==================================\u001b[0m\n",
            "\n",
            "TOK     100.00\n",
            "NER P   53.64 \n",
            "NER R   48.88 \n",
            "NER F   51.15 \n",
            "SPEED   1175  \n",
            "\n",
            "\u001b[1m\n",
            "=============================== NER (per type) ===============================\u001b[0m\n",
            "\n",
            "                 P       R       F\n",
            "NAME         97.06   89.19   92.96\n",
            "LOC          48.57   58.62   53.12\n",
            "PHONE       100.00   94.74   97.30\n",
            "EMAIL        85.29   90.62   87.88\n",
            "SKILL        32.52   26.28   29.07\n",
            "WORK PER     84.71   94.33   89.26\n",
            "JOB          66.06   45.86   54.14\n",
            "STUDY PER    60.38   78.05   68.09\n",
            "COMPANY      59.30   46.79   52.31\n",
            "UNI          39.06   52.08   44.64\n",
            "DEG          62.50   74.47   67.96\n",
            "\n",
            "<IPython.core.display.HTML object>\n",
            "Traceback (most recent call last):\n",
            "  File \"/usr/lib/python3.10/runpy.py\", line 196, in _run_module_as_main\n",
            "    return _run_code(code, main_globals, None,\n",
            "  File \"/usr/lib/python3.10/runpy.py\", line 86, in _run_code\n",
            "    exec(code, run_globals)\n",
            "  File \"/usr/local/lib/python3.10/dist-packages/spacy/__main__.py\", line 4, in <module>\n",
            "    setup_cli()\n",
            "  File \"/usr/local/lib/python3.10/dist-packages/spacy/cli/_util.py\", line 87, in setup_cli\n",
            "    command(prog_name=COMMAND)\n",
            "  File \"/usr/local/lib/python3.10/dist-packages/click/core.py\", line 1157, in __call__\n",
            "    return self.main(*args, **kwargs)\n",
            "  File \"/usr/local/lib/python3.10/dist-packages/typer/core.py\", line 728, in main\n",
            "    return _main(\n",
            "  File \"/usr/local/lib/python3.10/dist-packages/typer/core.py\", line 197, in _main\n",
            "    rv = self.invoke(ctx)\n",
            "  File \"/usr/local/lib/python3.10/dist-packages/click/core.py\", line 1688, in invoke\n",
            "    return _process_result(sub_ctx.command.invoke(sub_ctx))\n",
            "  File \"/usr/local/lib/python3.10/dist-packages/click/core.py\", line 1434, in invoke\n",
            "    return ctx.invoke(self.callback, **ctx.params)\n",
            "  File \"/usr/local/lib/python3.10/dist-packages/click/core.py\", line 783, in invoke\n",
            "    return __callback(*args, **kwargs)\n",
            "  File \"/usr/local/lib/python3.10/dist-packages/typer/main.py\", line 703, in wrapper\n",
            "    return callback(**use_params)\n",
            "  File \"/usr/local/lib/python3.10/dist-packages/spacy/cli/evaluate.py\", line 47, in evaluate_cli\n",
            "    evaluate(\n",
            "  File \"/usr/local/lib/python3.10/dist-packages/spacy/cli/evaluate.py\", line 141, in evaluate\n",
            "    render_parses(\n",
            "  File \"/usr/local/lib/python3.10/dist-packages/spacy/cli/evaluate.py\", line 208, in render_parses\n",
            "    file_.write(html)\n",
            "TypeError: write() argument must be str, not None\n"
          ]
        }
      ]
    },
    {
      "cell_type": "code",
      "source": [
        "# make prediction\n",
        "import spacy\n",
        "resume_text = '''\n",
        "John Doe lives at 1234 Elm Street in Los Angeles, CA 90001. He can be reached at +1 (555) 123-4567 or via email at john.doe@example.com. John is a results-driven software engineer with over 5 years of experience in web development and cloud infrastructure, with strong knowledge of JavaScript, Python, and cloud technologies like AWS and Azure. Currently, he works as a Software Engineer at Google LLC in San Francisco, CA, where he has been employed since August 2019. In this role, he has developed scalable web applications using JavaScript, Node.js, and React, deployed and maintained cloud infrastructure on AWS, reducing downtime by 20%, and led a team of 4 engineers to enhance backend performance by 30%. Previously, he worked as a Junior Developer at Tech Innovators Inc. in Austin, TX, from July 2017 to July 2019, where he created RESTful APIs using Python and Flask, collaborated with front-end developers to build and deploy user-facing applications, and wrote unit and integration tests, improving code coverage by 15%.\n",
        "\n",
        "John holds a Master of Science in Computer Science from the University of California, Berkeley, with a graduation date of May 2017, and a Bachelor of Science in Information Technology from the University of Texas at Austin, graduated in May 2015. His skillset includes proficiency in programming languages like Python, JavaScript, and Java; frameworks such as React, Flask, and Django; cloud platforms including AWS, Google Cloud, and Azure; as well as other tools like Git, Docker, Kubernetes, and SQL. He is certified as an AWS Certified Solutions Architect – Associate, earned in 2020, and as a Google Professional Cloud Architect, earned in 2021'\n",
        "'''\n",
        "nlp = spacy.load(\"spacy_output/model-best\")\n",
        "doc = nlp(resume_text.lower())\n",
        "\n",
        "print(doc.ents)\n",
        "\n",
        "for ent in doc.ents:\n",
        "    print(f\"{ent.text}: {ent.label_}\")"
      ],
      "metadata": {
        "colab": {
          "base_uri": "https://localhost:8080/"
        },
        "id": "UXAlZZkEeeMc",
        "outputId": "b71e6008-0654-4e76-93c9-ec1c7c01d855"
      },
      "id": "UXAlZZkEeeMc",
      "execution_count": 10,
      "outputs": [
        {
          "output_type": "stream",
          "name": "stderr",
          "text": [
            "/usr/local/lib/python3.10/dist-packages/spacy/util.py:1740: UserWarning: [W111] Jupyter notebook detected: if using `prefer_gpu()` or `require_gpu()`, include it in the same cell right before `spacy.load()` to ensure that the model is loaded on the correct device. More information: http://spacy.io/usage/v3#jupyter-notebook-gpu\n",
            "  warnings.warn(Warnings.W111)\n"
          ]
        },
        {
          "output_type": "stream",
          "name": "stdout",
          "text": [
            "(john doe, at 1234, in los, (555) 123, john.doe@example.com, software engineer, software engineer, at google llc, at tech innovators inc, july 2017 to july 2019, master of science in computer science, from the university, berkeley, bachelor of science, the university, may 2015, python, associate,)\n",
            "john doe: NAME\n",
            "at 1234: PHONE\n",
            "in los: LOC\n",
            "(555) 123: PHONE\n",
            "john.doe@example.com: WORK PER\n",
            "software engineer: JOB\n",
            "software engineer: JOB\n",
            "at google llc: COMPANY\n",
            "at tech innovators inc: COMPANY\n",
            "july 2017 to july 2019: STUDY PER\n",
            "master of science in computer science: DEG\n",
            "from the university: UNI\n",
            "berkeley: LOC\n",
            "bachelor of science: DEG\n",
            "the university: UNI\n",
            "may 2015: STUDY PER\n",
            "python: SKILL\n",
            "associate,: UNI\n"
          ]
        }
      ]
    },
    {
      "cell_type": "code",
      "source": [
        "from spacy import displacy\n",
        "displacy.render(doc, style=\"ent\", jupyter=True)"
      ],
      "metadata": {
        "colab": {
          "base_uri": "https://localhost:8080/",
          "height": 507
        },
        "id": "LtxtV7GufiOw",
        "outputId": "f3ed86e4-836b-41a6-eed3-9135b5c43d0e"
      },
      "id": "LtxtV7GufiOw",
      "execution_count": 11,
      "outputs": [
        {
          "output_type": "display_data",
          "data": {
            "text/plain": [
              "<IPython.core.display.HTML object>"
            ],
            "text/html": [
              "<span class=\"tex2jax_ignore\"><div class=\"entities\" style=\"line-height: 2.5; direction: ltr\"><br>\n",
              "<mark class=\"entity\" style=\"background: #ddd; padding: 0.45em 0.6em; margin: 0 0.25em; line-height: 1; border-radius: 0.35em;\">\n",
              "    john doe\n",
              "    <span style=\"font-size: 0.8em; font-weight: bold; line-height: 1; border-radius: 0.35em; vertical-align: middle; margin-left: 0.5rem\">NAME</span>\n",
              "</mark>\n",
              " lives \n",
              "<mark class=\"entity\" style=\"background: #ddd; padding: 0.45em 0.6em; margin: 0 0.25em; line-height: 1; border-radius: 0.35em;\">\n",
              "    at 1234\n",
              "    <span style=\"font-size: 0.8em; font-weight: bold; line-height: 1; border-radius: 0.35em; vertical-align: middle; margin-left: 0.5rem\">PHONE</span>\n",
              "</mark>\n",
              " elm street \n",
              "<mark class=\"entity\" style=\"background: #ff9561; padding: 0.45em 0.6em; margin: 0 0.25em; line-height: 1; border-radius: 0.35em;\">\n",
              "    in los\n",
              "    <span style=\"font-size: 0.8em; font-weight: bold; line-height: 1; border-radius: 0.35em; vertical-align: middle; margin-left: 0.5rem\">LOC</span>\n",
              "</mark>\n",
              " angeles, ca 90001. he can be reached at +1 \n",
              "<mark class=\"entity\" style=\"background: #ddd; padding: 0.45em 0.6em; margin: 0 0.25em; line-height: 1; border-radius: 0.35em;\">\n",
              "    (555) 123\n",
              "    <span style=\"font-size: 0.8em; font-weight: bold; line-height: 1; border-radius: 0.35em; vertical-align: middle; margin-left: 0.5rem\">PHONE</span>\n",
              "</mark>\n",
              "-4567 or via email at \n",
              "<mark class=\"entity\" style=\"background: #ddd; padding: 0.45em 0.6em; margin: 0 0.25em; line-height: 1; border-radius: 0.35em;\">\n",
              "    john.doe@example.com\n",
              "    <span style=\"font-size: 0.8em; font-weight: bold; line-height: 1; border-radius: 0.35em; vertical-align: middle; margin-left: 0.5rem\">WORK PER</span>\n",
              "</mark>\n",
              ". john is a results-driven \n",
              "<mark class=\"entity\" style=\"background: #ddd; padding: 0.45em 0.6em; margin: 0 0.25em; line-height: 1; border-radius: 0.35em;\">\n",
              "    software engineer\n",
              "    <span style=\"font-size: 0.8em; font-weight: bold; line-height: 1; border-radius: 0.35em; vertical-align: middle; margin-left: 0.5rem\">JOB</span>\n",
              "</mark>\n",
              " with over 5 years of experience in web development and cloud infrastructure, with strong knowledge of javascript, python, and cloud technologies like aws and azure. currently, he works as a \n",
              "<mark class=\"entity\" style=\"background: #ddd; padding: 0.45em 0.6em; margin: 0 0.25em; line-height: 1; border-radius: 0.35em;\">\n",
              "    software engineer\n",
              "    <span style=\"font-size: 0.8em; font-weight: bold; line-height: 1; border-radius: 0.35em; vertical-align: middle; margin-left: 0.5rem\">JOB</span>\n",
              "</mark>\n",
              " \n",
              "<mark class=\"entity\" style=\"background: #ddd; padding: 0.45em 0.6em; margin: 0 0.25em; line-height: 1; border-radius: 0.35em;\">\n",
              "    at google llc\n",
              "    <span style=\"font-size: 0.8em; font-weight: bold; line-height: 1; border-radius: 0.35em; vertical-align: middle; margin-left: 0.5rem\">COMPANY</span>\n",
              "</mark>\n",
              " in san francisco, ca, where he has been employed since august 2019. in this role, he has developed scalable web applications using javascript, node.js, and react, deployed and maintained cloud infrastructure on aws, reducing downtime by 20%, and led a team of 4 engineers to enhance backend performance by 30%. previously, he worked as a junior developer \n",
              "<mark class=\"entity\" style=\"background: #ddd; padding: 0.45em 0.6em; margin: 0 0.25em; line-height: 1; border-radius: 0.35em;\">\n",
              "    at tech innovators inc\n",
              "    <span style=\"font-size: 0.8em; font-weight: bold; line-height: 1; border-radius: 0.35em; vertical-align: middle; margin-left: 0.5rem\">COMPANY</span>\n",
              "</mark>\n",
              ". in austin, tx, from \n",
              "<mark class=\"entity\" style=\"background: #ddd; padding: 0.45em 0.6em; margin: 0 0.25em; line-height: 1; border-radius: 0.35em;\">\n",
              "    july 2017 to july 2019\n",
              "    <span style=\"font-size: 0.8em; font-weight: bold; line-height: 1; border-radius: 0.35em; vertical-align: middle; margin-left: 0.5rem\">STUDY PER</span>\n",
              "</mark>\n",
              ", where he created restful apis using python and flask, collaborated with front-end developers to build and deploy user-facing applications, and wrote unit and integration tests, improving code coverage by 15%.<br><br>john holds a \n",
              "<mark class=\"entity\" style=\"background: #ddd; padding: 0.45em 0.6em; margin: 0 0.25em; line-height: 1; border-radius: 0.35em;\">\n",
              "    master of science in computer science\n",
              "    <span style=\"font-size: 0.8em; font-weight: bold; line-height: 1; border-radius: 0.35em; vertical-align: middle; margin-left: 0.5rem\">DEG</span>\n",
              "</mark>\n",
              " \n",
              "<mark class=\"entity\" style=\"background: #ddd; padding: 0.45em 0.6em; margin: 0 0.25em; line-height: 1; border-radius: 0.35em;\">\n",
              "    from the university\n",
              "    <span style=\"font-size: 0.8em; font-weight: bold; line-height: 1; border-radius: 0.35em; vertical-align: middle; margin-left: 0.5rem\">UNI</span>\n",
              "</mark>\n",
              " of california, \n",
              "<mark class=\"entity\" style=\"background: #ff9561; padding: 0.45em 0.6em; margin: 0 0.25em; line-height: 1; border-radius: 0.35em;\">\n",
              "    berkeley\n",
              "    <span style=\"font-size: 0.8em; font-weight: bold; line-height: 1; border-radius: 0.35em; vertical-align: middle; margin-left: 0.5rem\">LOC</span>\n",
              "</mark>\n",
              ", with a graduation date of may 2017, and a \n",
              "<mark class=\"entity\" style=\"background: #ddd; padding: 0.45em 0.6em; margin: 0 0.25em; line-height: 1; border-radius: 0.35em;\">\n",
              "    bachelor of science\n",
              "    <span style=\"font-size: 0.8em; font-weight: bold; line-height: 1; border-radius: 0.35em; vertical-align: middle; margin-left: 0.5rem\">DEG</span>\n",
              "</mark>\n",
              " in information technology from \n",
              "<mark class=\"entity\" style=\"background: #ddd; padding: 0.45em 0.6em; margin: 0 0.25em; line-height: 1; border-radius: 0.35em;\">\n",
              "    the university\n",
              "    <span style=\"font-size: 0.8em; font-weight: bold; line-height: 1; border-radius: 0.35em; vertical-align: middle; margin-left: 0.5rem\">UNI</span>\n",
              "</mark>\n",
              " of texas at austin, graduated in \n",
              "<mark class=\"entity\" style=\"background: #ddd; padding: 0.45em 0.6em; margin: 0 0.25em; line-height: 1; border-radius: 0.35em;\">\n",
              "    may 2015\n",
              "    <span style=\"font-size: 0.8em; font-weight: bold; line-height: 1; border-radius: 0.35em; vertical-align: middle; margin-left: 0.5rem\">STUDY PER</span>\n",
              "</mark>\n",
              ". his skillset includes proficiency in programming languages like \n",
              "<mark class=\"entity\" style=\"background: #ddd; padding: 0.45em 0.6em; margin: 0 0.25em; line-height: 1; border-radius: 0.35em;\">\n",
              "    python\n",
              "    <span style=\"font-size: 0.8em; font-weight: bold; line-height: 1; border-radius: 0.35em; vertical-align: middle; margin-left: 0.5rem\">SKILL</span>\n",
              "</mark>\n",
              ", javascript, and java; frameworks such as react, flask, and django; cloud platforms including aws, google cloud, and azure; as well as other tools like git, docker, kubernetes, and sql. he is certified as an aws certified solutions architect – \n",
              "<mark class=\"entity\" style=\"background: #ddd; padding: 0.45em 0.6em; margin: 0 0.25em; line-height: 1; border-radius: 0.35em;\">\n",
              "    associate,\n",
              "    <span style=\"font-size: 0.8em; font-weight: bold; line-height: 1; border-radius: 0.35em; vertical-align: middle; margin-left: 0.5rem\">UNI</span>\n",
              "</mark>\n",
              " earned in 2020, and as a google professional cloud architect, earned in 2021'<br></div></span>"
            ]
          },
          "metadata": {}
        }
      ]
    },
    {
      "cell_type": "markdown",
      "source": [
        "## Flair NER"
      ],
      "metadata": {
        "id": "1z_niSalE0uT"
      },
      "id": "1z_niSalE0uT"
    },
    {
      "cell_type": "code",
      "source": [
        "!pip install flair"
      ],
      "metadata": {
        "id": "lsEUGnPpnjuU",
        "colab": {
          "base_uri": "https://localhost:8080/"
        },
        "outputId": "90e30c53-1373-48a1-b602-6815acb9c461"
      },
      "id": "lsEUGnPpnjuU",
      "execution_count": null,
      "outputs": [
        {
          "output_type": "stream",
          "name": "stdout",
          "text": [
            "Requirement already satisfied: flair in /usr/local/lib/python3.10/dist-packages (0.14.0)\n",
            "Requirement already satisfied: boto3>=1.20.27 in /usr/local/lib/python3.10/dist-packages (from flair) (1.35.54)\n",
            "Requirement already satisfied: conllu<5.0.0,>=4.0 in /usr/local/lib/python3.10/dist-packages (from flair) (4.5.3)\n",
            "Requirement already satisfied: deprecated>=1.2.13 in /usr/local/lib/python3.10/dist-packages (from flair) (1.2.14)\n",
            "Requirement already satisfied: ftfy>=6.1.0 in /usr/local/lib/python3.10/dist-packages (from flair) (6.3.1)\n",
            "Requirement already satisfied: gdown>=4.4.0 in /usr/local/lib/python3.10/dist-packages (from flair) (5.2.0)\n",
            "Requirement already satisfied: huggingface-hub>=0.10.0 in /usr/local/lib/python3.10/dist-packages (from flair) (0.24.7)\n",
            "Requirement already satisfied: langdetect>=1.0.9 in /usr/local/lib/python3.10/dist-packages (from flair) (1.0.9)\n",
            "Requirement already satisfied: lxml>=4.8.0 in /usr/local/lib/python3.10/dist-packages (from flair) (5.3.0)\n",
            "Requirement already satisfied: matplotlib>=2.2.3 in /usr/local/lib/python3.10/dist-packages (from flair) (3.8.0)\n",
            "Requirement already satisfied: more-itertools>=8.13.0 in /usr/local/lib/python3.10/dist-packages (from flair) (10.5.0)\n",
            "Requirement already satisfied: mpld3>=0.3 in /usr/local/lib/python3.10/dist-packages (from flair) (0.5.10)\n",
            "Requirement already satisfied: pptree>=3.1 in /usr/local/lib/python3.10/dist-packages (from flair) (3.1)\n",
            "Requirement already satisfied: python-dateutil>=2.8.2 in /usr/local/lib/python3.10/dist-packages (from flair) (2.8.2)\n",
            "Requirement already satisfied: pytorch-revgrad>=0.2.0 in /usr/local/lib/python3.10/dist-packages (from flair) (0.2.0)\n",
            "Requirement already satisfied: regex>=2022.1.18 in /usr/local/lib/python3.10/dist-packages (from flair) (2024.9.11)\n",
            "Requirement already satisfied: scikit-learn>=1.0.2 in /usr/local/lib/python3.10/dist-packages (from flair) (1.5.2)\n",
            "Requirement already satisfied: segtok>=1.5.11 in /usr/local/lib/python3.10/dist-packages (from flair) (1.5.11)\n",
            "Requirement already satisfied: sqlitedict>=2.0.0 in /usr/local/lib/python3.10/dist-packages (from flair) (2.1.0)\n",
            "Requirement already satisfied: tabulate>=0.8.10 in /usr/local/lib/python3.10/dist-packages (from flair) (0.9.0)\n",
            "Requirement already satisfied: torch!=1.8,>=1.5.0 in /usr/local/lib/python3.10/dist-packages (from flair) (2.5.0+cu121)\n",
            "Requirement already satisfied: tqdm>=4.63.0 in /usr/local/lib/python3.10/dist-packages (from flair) (4.66.6)\n",
            "Requirement already satisfied: transformer-smaller-training-vocab>=0.2.3 in /usr/local/lib/python3.10/dist-packages (from flair) (0.4.0)\n",
            "Requirement already satisfied: transformers<5.0.0,>=4.18.0 in /usr/local/lib/python3.10/dist-packages (from transformers[sentencepiece]<5.0.0,>=4.18.0->flair) (4.44.2)\n",
            "Requirement already satisfied: wikipedia-api>=0.5.7 in /usr/local/lib/python3.10/dist-packages (from flair) (0.7.1)\n",
            "Requirement already satisfied: semver<4.0.0,>=3.0.0 in /usr/local/lib/python3.10/dist-packages (from flair) (3.0.2)\n",
            "Requirement already satisfied: bioc<3.0.0,>=2.0.0 in /usr/local/lib/python3.10/dist-packages (from flair) (2.1)\n",
            "Requirement already satisfied: jsonlines>=1.2.0 in /usr/local/lib/python3.10/dist-packages (from bioc<3.0.0,>=2.0.0->flair) (4.0.0)\n",
            "Requirement already satisfied: intervaltree in /usr/local/lib/python3.10/dist-packages (from bioc<3.0.0,>=2.0.0->flair) (3.1.0)\n",
            "Requirement already satisfied: docopt in /usr/local/lib/python3.10/dist-packages (from bioc<3.0.0,>=2.0.0->flair) (0.6.2)\n",
            "Requirement already satisfied: botocore<1.36.0,>=1.35.54 in /usr/local/lib/python3.10/dist-packages (from boto3>=1.20.27->flair) (1.35.54)\n",
            "Requirement already satisfied: jmespath<2.0.0,>=0.7.1 in /usr/local/lib/python3.10/dist-packages (from boto3>=1.20.27->flair) (1.0.1)\n",
            "Requirement already satisfied: s3transfer<0.11.0,>=0.10.0 in /usr/local/lib/python3.10/dist-packages (from boto3>=1.20.27->flair) (0.10.3)\n",
            "Requirement already satisfied: wrapt<2,>=1.10 in /usr/local/lib/python3.10/dist-packages (from deprecated>=1.2.13->flair) (1.16.0)\n",
            "Requirement already satisfied: wcwidth in /usr/local/lib/python3.10/dist-packages (from ftfy>=6.1.0->flair) (0.2.13)\n",
            "Requirement already satisfied: beautifulsoup4 in /usr/local/lib/python3.10/dist-packages (from gdown>=4.4.0->flair) (4.12.3)\n",
            "Requirement already satisfied: filelock in /usr/local/lib/python3.10/dist-packages (from gdown>=4.4.0->flair) (3.16.1)\n",
            "Requirement already satisfied: requests[socks] in /usr/local/lib/python3.10/dist-packages (from gdown>=4.4.0->flair) (2.32.3)\n",
            "Requirement already satisfied: fsspec>=2023.5.0 in /usr/local/lib/python3.10/dist-packages (from huggingface-hub>=0.10.0->flair) (2024.10.0)\n",
            "Requirement already satisfied: packaging>=20.9 in /usr/local/lib/python3.10/dist-packages (from huggingface-hub>=0.10.0->flair) (24.1)\n",
            "Requirement already satisfied: pyyaml>=5.1 in /usr/local/lib/python3.10/dist-packages (from huggingface-hub>=0.10.0->flair) (6.0.2)\n",
            "Requirement already satisfied: typing-extensions>=3.7.4.3 in /usr/local/lib/python3.10/dist-packages (from huggingface-hub>=0.10.0->flair) (4.12.2)\n",
            "Requirement already satisfied: six in /usr/local/lib/python3.10/dist-packages (from langdetect>=1.0.9->flair) (1.16.0)\n",
            "Requirement already satisfied: contourpy>=1.0.1 in /usr/local/lib/python3.10/dist-packages (from matplotlib>=2.2.3->flair) (1.3.0)\n",
            "Requirement already satisfied: cycler>=0.10 in /usr/local/lib/python3.10/dist-packages (from matplotlib>=2.2.3->flair) (0.12.1)\n",
            "Requirement already satisfied: fonttools>=4.22.0 in /usr/local/lib/python3.10/dist-packages (from matplotlib>=2.2.3->flair) (4.54.1)\n",
            "Requirement already satisfied: kiwisolver>=1.0.1 in /usr/local/lib/python3.10/dist-packages (from matplotlib>=2.2.3->flair) (1.4.7)\n",
            "Requirement already satisfied: numpy<2,>=1.21 in /usr/local/lib/python3.10/dist-packages (from matplotlib>=2.2.3->flair) (1.26.4)\n",
            "Requirement already satisfied: pillow>=6.2.0 in /usr/local/lib/python3.10/dist-packages (from matplotlib>=2.2.3->flair) (10.4.0)\n",
            "Requirement already satisfied: pyparsing>=2.3.1 in /usr/local/lib/python3.10/dist-packages (from matplotlib>=2.2.3->flair) (3.2.0)\n",
            "Requirement already satisfied: jinja2 in /usr/local/lib/python3.10/dist-packages (from mpld3>=0.3->flair) (3.1.4)\n",
            "Requirement already satisfied: scipy>=1.6.0 in /usr/local/lib/python3.10/dist-packages (from scikit-learn>=1.0.2->flair) (1.13.1)\n",
            "Requirement already satisfied: joblib>=1.2.0 in /usr/local/lib/python3.10/dist-packages (from scikit-learn>=1.0.2->flair) (1.4.2)\n",
            "Requirement already satisfied: threadpoolctl>=3.1.0 in /usr/local/lib/python3.10/dist-packages (from scikit-learn>=1.0.2->flair) (3.5.0)\n",
            "Requirement already satisfied: networkx in /usr/local/lib/python3.10/dist-packages (from torch!=1.8,>=1.5.0->flair) (3.4.2)\n",
            "Requirement already satisfied: sympy==1.13.1 in /usr/local/lib/python3.10/dist-packages (from torch!=1.8,>=1.5.0->flair) (1.13.1)\n",
            "Requirement already satisfied: mpmath<1.4,>=1.1.0 in /usr/local/lib/python3.10/dist-packages (from sympy==1.13.1->torch!=1.8,>=1.5.0->flair) (1.3.0)\n",
            "Requirement already satisfied: safetensors>=0.4.1 in /usr/local/lib/python3.10/dist-packages (from transformers<5.0.0,>=4.18.0->transformers[sentencepiece]<5.0.0,>=4.18.0->flair) (0.4.5)\n",
            "Requirement already satisfied: tokenizers<0.20,>=0.19 in /usr/local/lib/python3.10/dist-packages (from transformers<5.0.0,>=4.18.0->transformers[sentencepiece]<5.0.0,>=4.18.0->flair) (0.19.1)\n",
            "Requirement already satisfied: protobuf in /usr/local/lib/python3.10/dist-packages (from transformers[sentencepiece]<5.0.0,>=4.18.0->flair) (3.20.3)\n",
            "Requirement already satisfied: sentencepiece!=0.1.92,>=0.1.91 in /usr/local/lib/python3.10/dist-packages (from transformers[sentencepiece]<5.0.0,>=4.18.0->flair) (0.2.0)\n",
            "Requirement already satisfied: urllib3!=2.2.0,<3,>=1.25.4 in /usr/local/lib/python3.10/dist-packages (from botocore<1.36.0,>=1.35.54->boto3>=1.20.27->flair) (2.2.3)\n",
            "Requirement already satisfied: attrs>=19.2.0 in /usr/local/lib/python3.10/dist-packages (from jsonlines>=1.2.0->bioc<3.0.0,>=2.0.0->flair) (24.2.0)\n",
            "Requirement already satisfied: accelerate>=0.21.0 in /usr/local/lib/python3.10/dist-packages (from transformers[sentencepiece,torch]<5.0,>=4.1->transformer-smaller-training-vocab>=0.2.3->flair) (0.34.2)\n",
            "Requirement already satisfied: soupsieve>1.2 in /usr/local/lib/python3.10/dist-packages (from beautifulsoup4->gdown>=4.4.0->flair) (2.6)\n",
            "Requirement already satisfied: sortedcontainers<3.0,>=2.0 in /usr/local/lib/python3.10/dist-packages (from intervaltree->bioc<3.0.0,>=2.0.0->flair) (2.4.0)\n",
            "Requirement already satisfied: MarkupSafe>=2.0 in /usr/local/lib/python3.10/dist-packages (from jinja2->mpld3>=0.3->flair) (3.0.2)\n",
            "Requirement already satisfied: charset-normalizer<4,>=2 in /usr/local/lib/python3.10/dist-packages (from requests[socks]->gdown>=4.4.0->flair) (3.4.0)\n",
            "Requirement already satisfied: idna<4,>=2.5 in /usr/local/lib/python3.10/dist-packages (from requests[socks]->gdown>=4.4.0->flair) (3.10)\n",
            "Requirement already satisfied: certifi>=2017.4.17 in /usr/local/lib/python3.10/dist-packages (from requests[socks]->gdown>=4.4.0->flair) (2024.8.30)\n",
            "Requirement already satisfied: PySocks!=1.5.7,>=1.5.6 in /usr/local/lib/python3.10/dist-packages (from requests[socks]->gdown>=4.4.0->flair) (1.7.1)\n",
            "Requirement already satisfied: psutil in /usr/local/lib/python3.10/dist-packages (from accelerate>=0.21.0->transformers[sentencepiece,torch]<5.0,>=4.1->transformer-smaller-training-vocab>=0.2.3->flair) (5.9.5)\n"
          ]
        }
      ]
    },
    {
      "cell_type": "code",
      "source": [
        "# convert spacy data into flair data\n",
        "import spacy\n",
        "from spacy.tokens import DocBin\n",
        "import os\n",
        "\n",
        "def convert_spacy_to_flair(input_file, output_file):\n",
        "    \"\"\"\n",
        "    Convert SpaCy binary format to Flair's CoNLL format.\n",
        "\n",
        "    Args:\n",
        "        input_file (str): Path to SpaCy binary file (.spacy)\n",
        "        output_file (str): Path to output file for Flair format\n",
        "    \"\"\"\n",
        "    # Load spaCy model\n",
        "    nlp = spacy.blank(\"en\")\n",
        "\n",
        "    # Load the DocBin\n",
        "    doc_bin = DocBin().from_disk(input_file)\n",
        "    docs = list(doc_bin.get_docs(nlp.vocab))\n",
        "\n",
        "    with open(output_file, 'w', encoding='utf-8') as f:\n",
        "        for doc in docs:\n",
        "            tokens = [(t.text, t.ent_iob_, t.ent_type_) for t in doc]\n",
        "\n",
        "            # Write tokens in CoNLL format\n",
        "            for token in tokens:\n",
        "                text, iob, ent_type = token\n",
        "\n",
        "                # Convert spaCy IOB to CoNLL format\n",
        "                if iob == 'O':\n",
        "                    tag = 'O'\n",
        "                else:\n",
        "                    tag = f'{iob}-{ent_type}' if ent_type else 'O'\n",
        "\n",
        "                # Write line: token and NER tag\n",
        "                f.write(f'{text} {tag}\\n')\n",
        "\n",
        "            # Empty line between sentences\n",
        "            f.write('\\n')\n",
        "\n",
        "def convert_spacy_json_to_flair(input_file, output_file):\n",
        "    \"\"\"\n",
        "    Convert SpaCy JSON format to Flair's CoNLL format.\n",
        "\n",
        "    Args:\n",
        "        input_file (str): Path to JSON file with SpaCy annotations\n",
        "        output_file (str): Path to output file for Flair format\n",
        "    \"\"\"\n",
        "    import json\n",
        "\n",
        "    nlp = spacy.blank(\"en\")\n",
        "\n",
        "    with open(input_file, 'r', encoding='utf-8') as f:\n",
        "        training_data = json.load(f)\n",
        "\n",
        "    with open(output_file, 'w', encoding='utf-8') as f:\n",
        "        for example in training_data:\n",
        "            text = example['text']\n",
        "            ents = example.get('entities', [])\n",
        "\n",
        "            # Create a spaCy doc\n",
        "            doc = nlp(text)\n",
        "\n",
        "            # Add entities to doc\n",
        "            spans = []\n",
        "            for start, end, label in ents:\n",
        "                span = doc.char_span(start, end, label=label)\n",
        "                if span is not None:\n",
        "                    spans.append(span)\n",
        "            doc.ents = spans\n",
        "\n",
        "            # Convert to CoNLL format\n",
        "            tokens = [(t.text, t.ent_iob_, t.ent_type_) for t in doc]\n",
        "\n",
        "            for token in tokens:\n",
        "                text, iob, ent_type = token\n",
        "                if iob == 'O':\n",
        "                    tag = 'O'\n",
        "                else:\n",
        "                    tag = f'{iob}-{ent_type}' if ent_type else 'O'\n",
        "                f.write(f'{text} {tag}\\n')\n",
        "\n",
        "            f.write('\\n')\n",
        "\n",
        "# Example usage for JSON format\n",
        "flair_train_json = \"flair_train.txt\"\n",
        "flair_test_json = \"flair_test.txt\"\n",
        "\n",
        "convert_spacy_to_flair('/content/spacy_ner_data/train_data.spacy', flair_train_json)\n",
        "convert_spacy_to_flair('/content/spacy_ner_data/test_data.spacy', flair_test_json)"
      ],
      "metadata": {
        "id": "8SgkTXeIiTtF",
        "colab": {
          "base_uri": "https://localhost:8080/",
          "height": 339
        },
        "outputId": "73fcb7af-e126-4918-a4cc-98270fb38ea0"
      },
      "id": "8SgkTXeIiTtF",
      "execution_count": null,
      "outputs": [
        {
          "output_type": "error",
          "ename": "FileNotFoundError",
          "evalue": "[Errno 2] No such file or directory: '/content/spacy_ner_data/train_data.spacy'",
          "traceback": [
            "\u001b[0;31m---------------------------------------------------------------------------\u001b[0m",
            "\u001b[0;31mFileNotFoundError\u001b[0m                         Traceback (most recent call last)",
            "\u001b[0;32m<ipython-input-3-fa51b6171dc5>\u001b[0m in \u001b[0;36m<cell line: 89>\u001b[0;34m()\u001b[0m\n\u001b[1;32m     87\u001b[0m \u001b[0mflair_test_json\u001b[0m \u001b[0;34m=\u001b[0m \u001b[0;34m\"flair_test.txt\"\u001b[0m\u001b[0;34m\u001b[0m\u001b[0;34m\u001b[0m\u001b[0m\n\u001b[1;32m     88\u001b[0m \u001b[0;34m\u001b[0m\u001b[0m\n\u001b[0;32m---> 89\u001b[0;31m \u001b[0mconvert_spacy_to_flair\u001b[0m\u001b[0;34m(\u001b[0m\u001b[0;34m'/content/spacy_ner_data/train_data.spacy'\u001b[0m\u001b[0;34m,\u001b[0m \u001b[0mflair_train_json\u001b[0m\u001b[0;34m)\u001b[0m\u001b[0;34m\u001b[0m\u001b[0;34m\u001b[0m\u001b[0m\n\u001b[0m\u001b[1;32m     90\u001b[0m \u001b[0mconvert_spacy_to_flair\u001b[0m\u001b[0;34m(\u001b[0m\u001b[0;34m'/content/spacy_ner_data/test_data.spacy'\u001b[0m\u001b[0;34m,\u001b[0m \u001b[0mflair_test_json\u001b[0m\u001b[0;34m)\u001b[0m\u001b[0;34m\u001b[0m\u001b[0;34m\u001b[0m\u001b[0m\n",
            "\u001b[0;32m<ipython-input-3-fa51b6171dc5>\u001b[0m in \u001b[0;36mconvert_spacy_to_flair\u001b[0;34m(input_file, output_file)\u001b[0m\n\u001b[1;32m     16\u001b[0m \u001b[0;34m\u001b[0m\u001b[0m\n\u001b[1;32m     17\u001b[0m     \u001b[0;31m# Load the DocBin\u001b[0m\u001b[0;34m\u001b[0m\u001b[0;34m\u001b[0m\u001b[0m\n\u001b[0;32m---> 18\u001b[0;31m     \u001b[0mdoc_bin\u001b[0m \u001b[0;34m=\u001b[0m \u001b[0mDocBin\u001b[0m\u001b[0;34m(\u001b[0m\u001b[0;34m)\u001b[0m\u001b[0;34m.\u001b[0m\u001b[0mfrom_disk\u001b[0m\u001b[0;34m(\u001b[0m\u001b[0minput_file\u001b[0m\u001b[0;34m)\u001b[0m\u001b[0;34m\u001b[0m\u001b[0;34m\u001b[0m\u001b[0m\n\u001b[0m\u001b[1;32m     19\u001b[0m     \u001b[0mdocs\u001b[0m \u001b[0;34m=\u001b[0m \u001b[0mlist\u001b[0m\u001b[0;34m(\u001b[0m\u001b[0mdoc_bin\u001b[0m\u001b[0;34m.\u001b[0m\u001b[0mget_docs\u001b[0m\u001b[0;34m(\u001b[0m\u001b[0mnlp\u001b[0m\u001b[0;34m.\u001b[0m\u001b[0mvocab\u001b[0m\u001b[0;34m)\u001b[0m\u001b[0;34m)\u001b[0m\u001b[0;34m\u001b[0m\u001b[0;34m\u001b[0m\u001b[0m\n\u001b[1;32m     20\u001b[0m \u001b[0;34m\u001b[0m\u001b[0m\n",
            "\u001b[0;32m/usr/local/lib/python3.10/dist-packages/spacy/tokens/_serialize.py\u001b[0m in \u001b[0;36mfrom_disk\u001b[0;34m(self, path)\u001b[0m\n\u001b[1;32m    273\u001b[0m         \"\"\"\n\u001b[1;32m    274\u001b[0m         \u001b[0mpath\u001b[0m \u001b[0;34m=\u001b[0m \u001b[0mensure_path\u001b[0m\u001b[0;34m(\u001b[0m\u001b[0mpath\u001b[0m\u001b[0;34m)\u001b[0m\u001b[0;34m\u001b[0m\u001b[0;34m\u001b[0m\u001b[0m\n\u001b[0;32m--> 275\u001b[0;31m         \u001b[0;32mwith\u001b[0m \u001b[0mpath\u001b[0m\u001b[0;34m.\u001b[0m\u001b[0mopen\u001b[0m\u001b[0;34m(\u001b[0m\u001b[0;34m\"rb\"\u001b[0m\u001b[0;34m)\u001b[0m \u001b[0;32mas\u001b[0m \u001b[0mfile_\u001b[0m\u001b[0;34m:\u001b[0m\u001b[0;34m\u001b[0m\u001b[0;34m\u001b[0m\u001b[0m\n\u001b[0m\u001b[1;32m    276\u001b[0m             \u001b[0mself\u001b[0m\u001b[0;34m.\u001b[0m\u001b[0mfrom_bytes\u001b[0m\u001b[0;34m(\u001b[0m\u001b[0mfile_\u001b[0m\u001b[0;34m.\u001b[0m\u001b[0mread\u001b[0m\u001b[0;34m(\u001b[0m\u001b[0;34m)\u001b[0m\u001b[0;34m)\u001b[0m\u001b[0;34m\u001b[0m\u001b[0;34m\u001b[0m\u001b[0m\n\u001b[1;32m    277\u001b[0m         \u001b[0;32mreturn\u001b[0m \u001b[0mself\u001b[0m\u001b[0;34m\u001b[0m\u001b[0;34m\u001b[0m\u001b[0m\n",
            "\u001b[0;32m/usr/lib/python3.10/pathlib.py\u001b[0m in \u001b[0;36mopen\u001b[0;34m(self, mode, buffering, encoding, errors, newline)\u001b[0m\n\u001b[1;32m   1117\u001b[0m         \u001b[0;32mif\u001b[0m \u001b[0;34m\"b\"\u001b[0m \u001b[0;32mnot\u001b[0m \u001b[0;32min\u001b[0m \u001b[0mmode\u001b[0m\u001b[0;34m:\u001b[0m\u001b[0;34m\u001b[0m\u001b[0;34m\u001b[0m\u001b[0m\n\u001b[1;32m   1118\u001b[0m             \u001b[0mencoding\u001b[0m \u001b[0;34m=\u001b[0m \u001b[0mio\u001b[0m\u001b[0;34m.\u001b[0m\u001b[0mtext_encoding\u001b[0m\u001b[0;34m(\u001b[0m\u001b[0mencoding\u001b[0m\u001b[0;34m)\u001b[0m\u001b[0;34m\u001b[0m\u001b[0;34m\u001b[0m\u001b[0m\n\u001b[0;32m-> 1119\u001b[0;31m         return self._accessor.open(self, mode, buffering, encoding, errors,\n\u001b[0m\u001b[1;32m   1120\u001b[0m                                    newline)\n\u001b[1;32m   1121\u001b[0m \u001b[0;34m\u001b[0m\u001b[0m\n",
            "\u001b[0;31mFileNotFoundError\u001b[0m: [Errno 2] No such file or directory: '/content/spacy_ner_data/train_data.spacy'"
          ]
        }
      ]
    },
    {
      "cell_type": "code",
      "source": [
        "# convert spacy data into flair data\n",
        "import spacy\n",
        "from spacy.training import Corpus\n",
        "\n",
        "!python -m spacy download de_core_news_sm\n",
        "nlp = spacy.load(\"de_core_news_sm\")\n",
        "corpus = Corpus(\"/content/spacy_ner_data/test_data.spacy\")\n",
        "\n",
        "data = corpus(nlp)\n",
        "\n",
        "# Flair supports BIO and BIOES, see https://github.com/flairNLP/flair/issues/875\n",
        "def rename_biluo_to_bioes(old_tag):\n",
        "    new_tag = \"\"\n",
        "    try:\n",
        "        if old_tag.startswith(\"L\"):\n",
        "            new_tag = \"E\" + old_tag[1:]\n",
        "        elif old_tag.startswith(\"U\"):\n",
        "            new_tag = \"S\" + old_tag[1:]\n",
        "        else:\n",
        "            new_tag = old_tag\n",
        "    except:\n",
        "        pass\n",
        "    return new_tag\n",
        "\n",
        "\n",
        "def generate_corpus():\n",
        "    corpus = []\n",
        "    n_ex = 0\n",
        "    for example in data:\n",
        "        n_ex += 1\n",
        "        text = example.text\n",
        "        doc = nlp(text)\n",
        "        tags = example.get_aligned_ner()\n",
        "        # Check if it's an empty list of NER tags.\n",
        "        if None in tags:\n",
        "            pass\n",
        "        else:\n",
        "            new_tags = [rename_biluo_to_bioes(tag) for tag in tags]\n",
        "            for token, tag in zip(doc,new_tags):\n",
        "                row = token.text +' '+ token.pos_ +' ' +tag + '\\n'\n",
        "                corpus.append(row)\n",
        "            corpus.append('\\n')\n",
        "    return corpus\n",
        "\n",
        "def write_file(filepath):\n",
        "    with open(filepath, 'w', encoding='utf-8') as f:\n",
        "        corpus = generate_corpus()\n",
        "        f.writelines(corpus)\n",
        "\n",
        "def main():\n",
        "    write_file('flair_test.txt')\n",
        "\n",
        "main()"
      ],
      "metadata": {
        "id": "TbHBmnUyv65f",
        "colab": {
          "base_uri": "https://localhost:8080/"
        },
        "outputId": "be6d42bd-f6a2-4143-b278-f010c011ae8f"
      },
      "id": "TbHBmnUyv65f",
      "execution_count": null,
      "outputs": [
        {
          "output_type": "stream",
          "name": "stdout",
          "text": [
            "Collecting de-core-news-sm==3.7.0\n",
            "  Using cached https://github.com/explosion/spacy-models/releases/download/de_core_news_sm-3.7.0/de_core_news_sm-3.7.0-py3-none-any.whl (14.6 MB)\n",
            "Requirement already satisfied: spacy<3.8.0,>=3.7.0 in /usr/local/lib/python3.10/dist-packages (from de-core-news-sm==3.7.0) (3.7.5)\n",
            "Requirement already satisfied: spacy-legacy<3.1.0,>=3.0.11 in /usr/local/lib/python3.10/dist-packages (from spacy<3.8.0,>=3.7.0->de-core-news-sm==3.7.0) (3.0.12)\n",
            "Requirement already satisfied: spacy-loggers<2.0.0,>=1.0.0 in /usr/local/lib/python3.10/dist-packages (from spacy<3.8.0,>=3.7.0->de-core-news-sm==3.7.0) (1.0.5)\n",
            "Requirement already satisfied: murmurhash<1.1.0,>=0.28.0 in /usr/local/lib/python3.10/dist-packages (from spacy<3.8.0,>=3.7.0->de-core-news-sm==3.7.0) (1.0.10)\n",
            "Requirement already satisfied: cymem<2.1.0,>=2.0.2 in /usr/local/lib/python3.10/dist-packages (from spacy<3.8.0,>=3.7.0->de-core-news-sm==3.7.0) (2.0.8)\n",
            "Requirement already satisfied: preshed<3.1.0,>=3.0.2 in /usr/local/lib/python3.10/dist-packages (from spacy<3.8.0,>=3.7.0->de-core-news-sm==3.7.0) (3.0.9)\n",
            "Requirement already satisfied: thinc<8.3.0,>=8.2.2 in /usr/local/lib/python3.10/dist-packages (from spacy<3.8.0,>=3.7.0->de-core-news-sm==3.7.0) (8.2.5)\n",
            "Requirement already satisfied: wasabi<1.2.0,>=0.9.1 in /usr/local/lib/python3.10/dist-packages (from spacy<3.8.0,>=3.7.0->de-core-news-sm==3.7.0) (1.1.3)\n",
            "Requirement already satisfied: srsly<3.0.0,>=2.4.3 in /usr/local/lib/python3.10/dist-packages (from spacy<3.8.0,>=3.7.0->de-core-news-sm==3.7.0) (2.4.8)\n",
            "Requirement already satisfied: catalogue<2.1.0,>=2.0.6 in /usr/local/lib/python3.10/dist-packages (from spacy<3.8.0,>=3.7.0->de-core-news-sm==3.7.0) (2.0.10)\n",
            "Requirement already satisfied: weasel<0.5.0,>=0.1.0 in /usr/local/lib/python3.10/dist-packages (from spacy<3.8.0,>=3.7.0->de-core-news-sm==3.7.0) (0.4.1)\n",
            "Requirement already satisfied: typer<1.0.0,>=0.3.0 in /usr/local/lib/python3.10/dist-packages (from spacy<3.8.0,>=3.7.0->de-core-news-sm==3.7.0) (0.12.5)\n",
            "Requirement already satisfied: tqdm<5.0.0,>=4.38.0 in /usr/local/lib/python3.10/dist-packages (from spacy<3.8.0,>=3.7.0->de-core-news-sm==3.7.0) (4.66.5)\n",
            "Requirement already satisfied: requests<3.0.0,>=2.13.0 in /usr/local/lib/python3.10/dist-packages (from spacy<3.8.0,>=3.7.0->de-core-news-sm==3.7.0) (2.32.3)\n",
            "Requirement already satisfied: pydantic!=1.8,!=1.8.1,<3.0.0,>=1.7.4 in /usr/local/lib/python3.10/dist-packages (from spacy<3.8.0,>=3.7.0->de-core-news-sm==3.7.0) (2.9.2)\n",
            "Requirement already satisfied: jinja2 in /usr/local/lib/python3.10/dist-packages (from spacy<3.8.0,>=3.7.0->de-core-news-sm==3.7.0) (3.1.4)\n",
            "Requirement already satisfied: setuptools in /usr/local/lib/python3.10/dist-packages (from spacy<3.8.0,>=3.7.0->de-core-news-sm==3.7.0) (75.1.0)\n",
            "Requirement already satisfied: packaging>=20.0 in /usr/local/lib/python3.10/dist-packages (from spacy<3.8.0,>=3.7.0->de-core-news-sm==3.7.0) (24.1)\n",
            "Requirement already satisfied: langcodes<4.0.0,>=3.2.0 in /usr/local/lib/python3.10/dist-packages (from spacy<3.8.0,>=3.7.0->de-core-news-sm==3.7.0) (3.4.1)\n",
            "Requirement already satisfied: numpy>=1.19.0 in /usr/local/lib/python3.10/dist-packages (from spacy<3.8.0,>=3.7.0->de-core-news-sm==3.7.0) (1.26.4)\n",
            "Requirement already satisfied: language-data>=1.2 in /usr/local/lib/python3.10/dist-packages (from langcodes<4.0.0,>=3.2.0->spacy<3.8.0,>=3.7.0->de-core-news-sm==3.7.0) (1.2.0)\n",
            "Requirement already satisfied: annotated-types>=0.6.0 in /usr/local/lib/python3.10/dist-packages (from pydantic!=1.8,!=1.8.1,<3.0.0,>=1.7.4->spacy<3.8.0,>=3.7.0->de-core-news-sm==3.7.0) (0.7.0)\n",
            "Requirement already satisfied: pydantic-core==2.23.4 in /usr/local/lib/python3.10/dist-packages (from pydantic!=1.8,!=1.8.1,<3.0.0,>=1.7.4->spacy<3.8.0,>=3.7.0->de-core-news-sm==3.7.0) (2.23.4)\n",
            "Requirement already satisfied: typing-extensions>=4.6.1 in /usr/local/lib/python3.10/dist-packages (from pydantic!=1.8,!=1.8.1,<3.0.0,>=1.7.4->spacy<3.8.0,>=3.7.0->de-core-news-sm==3.7.0) (4.12.2)\n",
            "Requirement already satisfied: charset-normalizer<4,>=2 in /usr/local/lib/python3.10/dist-packages (from requests<3.0.0,>=2.13.0->spacy<3.8.0,>=3.7.0->de-core-news-sm==3.7.0) (3.4.0)\n",
            "Requirement already satisfied: idna<4,>=2.5 in /usr/local/lib/python3.10/dist-packages (from requests<3.0.0,>=2.13.0->spacy<3.8.0,>=3.7.0->de-core-news-sm==3.7.0) (3.10)\n",
            "Requirement already satisfied: urllib3<3,>=1.21.1 in /usr/local/lib/python3.10/dist-packages (from requests<3.0.0,>=2.13.0->spacy<3.8.0,>=3.7.0->de-core-news-sm==3.7.0) (2.2.3)\n",
            "Requirement already satisfied: certifi>=2017.4.17 in /usr/local/lib/python3.10/dist-packages (from requests<3.0.0,>=2.13.0->spacy<3.8.0,>=3.7.0->de-core-news-sm==3.7.0) (2024.8.30)\n",
            "Requirement already satisfied: blis<0.8.0,>=0.7.8 in /usr/local/lib/python3.10/dist-packages (from thinc<8.3.0,>=8.2.2->spacy<3.8.0,>=3.7.0->de-core-news-sm==3.7.0) (0.7.11)\n",
            "Requirement already satisfied: confection<1.0.0,>=0.0.1 in /usr/local/lib/python3.10/dist-packages (from thinc<8.3.0,>=8.2.2->spacy<3.8.0,>=3.7.0->de-core-news-sm==3.7.0) (0.1.5)\n",
            "Requirement already satisfied: click>=8.0.0 in /usr/local/lib/python3.10/dist-packages (from typer<1.0.0,>=0.3.0->spacy<3.8.0,>=3.7.0->de-core-news-sm==3.7.0) (8.1.7)\n",
            "Requirement already satisfied: shellingham>=1.3.0 in /usr/local/lib/python3.10/dist-packages (from typer<1.0.0,>=0.3.0->spacy<3.8.0,>=3.7.0->de-core-news-sm==3.7.0) (1.5.4)\n",
            "Requirement already satisfied: rich>=10.11.0 in /usr/local/lib/python3.10/dist-packages (from typer<1.0.0,>=0.3.0->spacy<3.8.0,>=3.7.0->de-core-news-sm==3.7.0) (13.9.3)\n",
            "Requirement already satisfied: cloudpathlib<1.0.0,>=0.7.0 in /usr/local/lib/python3.10/dist-packages (from weasel<0.5.0,>=0.1.0->spacy<3.8.0,>=3.7.0->de-core-news-sm==3.7.0) (0.20.0)\n",
            "Requirement already satisfied: smart-open<8.0.0,>=5.2.1 in /usr/local/lib/python3.10/dist-packages (from weasel<0.5.0,>=0.1.0->spacy<3.8.0,>=3.7.0->de-core-news-sm==3.7.0) (7.0.5)\n",
            "Requirement already satisfied: MarkupSafe>=2.0 in /usr/local/lib/python3.10/dist-packages (from jinja2->spacy<3.8.0,>=3.7.0->de-core-news-sm==3.7.0) (3.0.2)\n",
            "Requirement already satisfied: marisa-trie>=0.7.7 in /usr/local/lib/python3.10/dist-packages (from language-data>=1.2->langcodes<4.0.0,>=3.2.0->spacy<3.8.0,>=3.7.0->de-core-news-sm==3.7.0) (1.2.1)\n",
            "Requirement already satisfied: markdown-it-py>=2.2.0 in /usr/local/lib/python3.10/dist-packages (from rich>=10.11.0->typer<1.0.0,>=0.3.0->spacy<3.8.0,>=3.7.0->de-core-news-sm==3.7.0) (3.0.0)\n",
            "Requirement already satisfied: pygments<3.0.0,>=2.13.0 in /usr/local/lib/python3.10/dist-packages (from rich>=10.11.0->typer<1.0.0,>=0.3.0->spacy<3.8.0,>=3.7.0->de-core-news-sm==3.7.0) (2.18.0)\n",
            "Requirement already satisfied: wrapt in /usr/local/lib/python3.10/dist-packages (from smart-open<8.0.0,>=5.2.1->weasel<0.5.0,>=0.1.0->spacy<3.8.0,>=3.7.0->de-core-news-sm==3.7.0) (1.16.0)\n",
            "Requirement already satisfied: mdurl~=0.1 in /usr/local/lib/python3.10/dist-packages (from markdown-it-py>=2.2.0->rich>=10.11.0->typer<1.0.0,>=0.3.0->spacy<3.8.0,>=3.7.0->de-core-news-sm==3.7.0) (0.1.2)\n",
            "\u001b[38;5;2m✔ Download and installation successful\u001b[0m\n",
            "You can now load the package via spacy.load('de_core_news_sm')\n",
            "\u001b[38;5;3m⚠ Restart to reload dependencies\u001b[0m\n",
            "If you are in a Jupyter or Colab notebook, you may need to restart Python in\n",
            "order to load all the package's dependencies. You can do this by selecting the\n",
            "'Restart kernel' or 'Restart runtime' option.\n"
          ]
        }
      ]
    },
    {
      "cell_type": "code",
      "source": [
        "# convert json into flair data\n",
        "import json\n",
        "import random\n",
        "from typing import List, Dict, Tuple\n",
        "import spacy\n",
        "from collections import defaultdict\n",
        "\n",
        "class NERConverter:\n",
        "    def __init__(self):\n",
        "        self.nlp = spacy.load(\"en_core_web_sm\")\n",
        "\n",
        "    def get_bioes_label(self, token_index: int, entity_length: int, current_position: int, label: str) -> str:\n",
        "        \"\"\"\n",
        "        Convert to BIOES format\n",
        "        - S-: Single token entity\n",
        "        - B-: Beginning of multi-token entity\n",
        "        - I-: Inside of multi-token entity\n",
        "        - E-: End of multi-token entity\n",
        "        - O: Outside\n",
        "        \"\"\"\n",
        "        if entity_length == 1:\n",
        "            return f'S-{label}'\n",
        "        if current_position == 0:\n",
        "            return f'B-{label}'\n",
        "        if current_position == entity_length - 1:\n",
        "            return f'E-{label}'\n",
        "        return f'I-{label}'\n",
        "\n",
        "    def convert_to_bioes_format(self, json_data: List[dict]) -> List[List[Tuple[str, str]]]:\n",
        "        \"\"\"Convert JSON annotations to BIOES format.\"\"\"\n",
        "        all_sentences = []\n",
        "\n",
        "        for item in json_data:\n",
        "            text = item['data']['Text']\n",
        "            doc = self.nlp(text)\n",
        "\n",
        "            # Initialize character-level labels\n",
        "            char_labels = ['O'] * len(text)\n",
        "\n",
        "            # First pass: identify entity boundaries and lengths\n",
        "            entity_spans = []\n",
        "            if item['annotations'] and len(item['annotations']) > 0:\n",
        "                for ann in item['annotations'][0]['result']:\n",
        "                    if 'value' in ann:\n",
        "                        start = ann['value']['start']\n",
        "                        end = ann['value']['end']\n",
        "                        label = ann['value']['labels'][0]\n",
        "                        entity_spans.append((start, end, label))\n",
        "\n",
        "            # Sort spans by start position\n",
        "            entity_spans.sort(key=lambda x: x[0])\n",
        "\n",
        "            # Second pass: apply BIOES labels\n",
        "            for start, end, label in entity_spans:\n",
        "                # Get tokens that are part of this entity\n",
        "                entity_text = text[start:end]\n",
        "                entity_doc = self.nlp(entity_text)\n",
        "                entity_length = len([token for token in entity_doc if not token.is_space])\n",
        "\n",
        "                # Set labels for the entire span\n",
        "                current_token_idx = 0\n",
        "                for i in range(start, end):\n",
        "                    if i == start or text[i-1].isspace():\n",
        "                        char_labels[i] = self.get_bioes_label(i, entity_length, current_token_idx, label)\n",
        "                        current_token_idx += 1\n",
        "                    else:\n",
        "                        char_labels[i] = char_labels[i-1]\n",
        "\n",
        "            # Convert to token-level labels\n",
        "            current_sentence = []\n",
        "            for sent in doc.sents:\n",
        "                for token in sent:\n",
        "                    # Get the most common label for the token's characters\n",
        "                    token_chars_labels = char_labels[token.idx:token.idx + len(token.text)]\n",
        "                    label_counts = defaultdict(int)\n",
        "                    for char_label in token_chars_labels:\n",
        "                        label_counts[char_label] += 1\n",
        "\n",
        "                    token_label = max(label_counts.items(), key=lambda x: x[1])[0]\n",
        "                    current_sentence.append((token.text, token_label))\n",
        "\n",
        "                if current_sentence:\n",
        "                    all_sentences.append(current_sentence)\n",
        "                    current_sentence = []\n",
        "\n",
        "        return all_sentences\n",
        "\n",
        "    def write_flair_file(self, sentences: List[List[Tuple[str, str]]], filename: str):\n",
        "        \"\"\"Write sentences in BIOES format to file.\"\"\"\n",
        "        with open(filename, 'w', encoding='utf-8') as f:\n",
        "            for sentence in sentences:\n",
        "                for token, label in sentence:\n",
        "                    f.write(f'{token} {label}\\n')\n",
        "                f.write('\\n')\n",
        "\n",
        "    def convert_and_split(self, json_data: List[dict], train_file: str, test_file: str, test_ratio: float = 0.2):\n",
        "        \"\"\"Convert JSON to BIOES format and split into train/test sets.\"\"\"\n",
        "        all_sentences = self.convert_to_bioes_format(json_data)\n",
        "\n",
        "        # Shuffle and split\n",
        "        random.shuffle(all_sentences)\n",
        "        split_idx = int(len(all_sentences) * (1 - test_ratio))\n",
        "\n",
        "        train_sentences = all_sentences[:split_idx]\n",
        "        test_sentences = all_sentences[split_idx:]\n",
        "\n",
        "        # Write to files\n",
        "        self.write_flair_file(train_sentences, train_file)\n",
        "        self.write_flair_file(test_sentences, test_file)\n",
        "\n",
        "        return len(train_sentences), len(test_sentences)\n",
        "\n",
        "def main():\n",
        "    # Load JSON data\n",
        "    with open('/content/drive/MyDrive/FYP/Implementation/Resume Dataset/200_resumes_annotated.json', 'r', encoding='utf-8') as f:\n",
        "        json_data = json.load(f)\n",
        "\n",
        "    # Convert and split data\n",
        "    converter = NERConverter()\n",
        "    train_count, test_count = converter.convert_and_split(\n",
        "        json_data,\n",
        "        train_file='flair_train.txt',\n",
        "        test_file='flair_test.txt',\n",
        "        test_ratio=0.2\n",
        "    )\n",
        "\n",
        "    print(f'Created {train_count} training sentences and {test_count} test sentences')\n",
        "\n",
        "main()"
      ],
      "metadata": {
        "colab": {
          "base_uri": "https://localhost:8080/"
        },
        "id": "JYAkAghgs9k5",
        "outputId": "86179c37-008f-4e7d-b023-b0808d304261"
      },
      "id": "JYAkAghgs9k5",
      "execution_count": null,
      "outputs": [
        {
          "output_type": "stream",
          "name": "stdout",
          "text": [
            "Created 298 training sentences and 75 test sentences\n"
          ]
        }
      ]
    },
    {
      "cell_type": "code",
      "source": [
        "from flair.data import Corpus\n",
        "from flair.datasets import ColumnCorpus\n",
        "\n",
        "# Define columns for CoNLL (0: word, 1: label)\n",
        "columns = {0: 'text', 1: 'ner'}\n",
        "\n",
        "# Set data folder and file names\n",
        "data_folder = './'\n",
        "train_file = 'flair_train.txt'\n",
        "test_file = 'flair_test.txt'\n",
        "\n",
        "# Load the corpus\n",
        "corpus: Corpus = ColumnCorpus(data_folder, columns,\n",
        "                              train_file=train_file,\n",
        "                              test_file=test_file,\n",
        "                              dev_file=None)"
      ],
      "metadata": {
        "colab": {
          "base_uri": "https://localhost:8080/"
        },
        "id": "vl2-GpGBjpsi",
        "outputId": "c571005c-f3fc-4135-867d-0291b2106a6f"
      },
      "id": "vl2-GpGBjpsi",
      "execution_count": null,
      "outputs": [
        {
          "output_type": "stream",
          "name": "stdout",
          "text": [
            "2024-11-06 10:22:39,922 Reading data from .\n",
            "2024-11-06 10:22:39,923 Train: flair_train.txt\n",
            "2024-11-06 10:22:39,927 Dev: None\n",
            "2024-11-06 10:22:39,928 Test: flair_test.txt\n",
            "2024-11-06 10:22:41,745 No dev split found. Using 10% (i.e. 30 samples) of the train split as dev data\n"
          ]
        }
      ]
    },
    {
      "cell_type": "code",
      "source": [
        "tag_dictionary = corpus.make_label_dictionary(label_type='ner')\n",
        "print(\"Labels:\", tag_dictionary.get_items())"
      ],
      "metadata": {
        "colab": {
          "base_uri": "https://localhost:8080/"
        },
        "id": "d_skLRc8i44m",
        "outputId": "c42371b3-30bb-49ae-9d3a-275f67994af4"
      },
      "id": "d_skLRc8i44m",
      "execution_count": null,
      "outputs": [
        {
          "output_type": "stream",
          "name": "stdout",
          "text": [
            "2024-11-06 10:22:43,986 Computing label dictionary. Progress:\n"
          ]
        },
        {
          "output_type": "stream",
          "name": "stderr",
          "text": [
            "0it [00:00, ?it/s]\n",
            "268it [00:00, 12655.92it/s]"
          ]
        },
        {
          "output_type": "stream",
          "name": "stdout",
          "text": [
            "2024-11-06 10:22:44,035 Dictionary created for label 'ner' with 11 values: SKILL (seen 2196 times), JOB (seen 520 times), WORK (seen 445 times), COMPANY (seen 353 times), LOC (seen 221 times), DEG (seen 154 times), UNI (seen 152 times), STUDY (seen 133 times), NAME (seen 133 times), PHONE (seen 132 times), EMAIL (seen 99 times)\n",
            "Labels: ['SKILL', 'JOB', 'WORK', 'COMPANY', 'LOC', 'DEG', 'UNI', 'STUDY', 'NAME', 'PHONE', 'EMAIL']\n"
          ]
        },
        {
          "output_type": "stream",
          "name": "stderr",
          "text": [
            "\n"
          ]
        }
      ]
    },
    {
      "cell_type": "code",
      "source": [
        "from collections import Counter\n",
        "\n",
        "def count_labels(file_path):\n",
        "    with open(file_path, 'r') as file:\n",
        "        labels = [line.split()[-1] for line in file if line.strip()]\n",
        "    return Counter(labels)\n",
        "\n",
        "print(\"Train label distribution:\", count_labels('flair_train.txt'))\n",
        "print(\"Test label distribution:\", count_labels('flair_test.txt'))"
      ],
      "metadata": {
        "colab": {
          "base_uri": "https://localhost:8080/"
        },
        "id": "j5cXWOiGY5an",
        "outputId": "5c24e972-b0ed-4877-8ab3-1a49fee4bf1d"
      },
      "id": "j5cXWOiGY5an",
      "execution_count": null,
      "outputs": [
        {
          "output_type": "stream",
          "name": "stdout",
          "text": [
            "Train label distribution: Counter({'O': 71084, 'S-SKILL': 1461, 'PER': 1178, 'B-SKILL': 950, 'E-SKILL': 946, 'E-JOB': 521, 'B-JOB': 511, 'E-COMPANY': 340, 'B-COMPANY': 333, 'I-JOB': 283, 'I-DEG': 268, 'I-COMPANY': 254, 'I-SKILL': 191, 'E-UNI': 170, 'B-UNI': 169, 'B-DEG': 160, 'E-DEG': 160, 'S-LOC': 147, 'B-NAME': 144, 'E-NAME': 144, 'I-UNI': 127, 'E-PHONE': 116, 'B-PHONE': 114, 'S-EMAIL': 108, 'B-LOC': 101, 'E-LOC': 101, 'I-PHONE': 82, 'S-COMPANY': 63, 'S-JOB': 62, 'S-PHONE': 23, 'I-NAME': 10, 'S-DEG': 6, 'S-UNI': 2, 'I-LOC': 1, 'B-EMAIL': 1, 'E-EMAIL': 1})\n",
            "Test label distribution: Counter({'O': 18009, 'PER': 333, 'S-SKILL': 330, 'B-SKILL': 263, 'E-SKILL': 263, 'E-JOB': 138, 'B-JOB': 136, 'B-COMPANY': 89, 'E-COMPANY': 87, 'I-JOB': 74, 'I-DEG': 66, 'I-COMPANY': 61, 'S-LOC': 58, 'B-NAME': 47, 'E-NAME': 47, 'I-SKILL': 45, 'B-UNI': 45, 'E-UNI': 45, 'I-UNI': 44, 'E-DEG': 42, 'B-DEG': 41, 'B-PHONE': 41, 'E-PHONE': 41, 'S-EMAIL': 40, 'B-LOC': 27, 'E-LOC': 27, 'I-PHONE': 24, 'S-COMPANY': 16, 'S-JOB': 13, 'S-PHONE': 6, 'I-LOC': 4, 'S-DEG': 1})\n"
          ]
        }
      ]
    },
    {
      "cell_type": "code",
      "source": [
        "# create NER tagger\n",
        "from flair.embeddings import WordEmbeddings, StackedEmbeddings, TransformerWordEmbeddings, FlairEmbeddings\n",
        "from flair.models import SequenceTagger\n",
        "\n",
        "# using LSTM-CRF on top of frozen embeddings\n",
        "# combine flair and glove embeddings\n",
        "# embeddings = StackedEmbeddings([\n",
        "#                 WordEmbeddings('glove'),\n",
        "#                 FlairEmbeddings('news-forward'),\n",
        "#                 FlairEmbeddings('news-backward'),\n",
        "#             ])\n",
        "# tagger = SequenceTagger(hidden_size=256,\n",
        "#                          embeddings=embeddings,\n",
        "#                          tag_dictionary=tag_dictionary,\n",
        "#                          tag_type='ner',\n",
        "#                          use_crf=True,\n",
        "#                          tag_format = 'BIOES')\n",
        "\n",
        "# using transformer embedding\n",
        "# embeddings = TransformerWordEmbeddings('bert-base-uncased',\n",
        "#                                       fine_tune=True,\n",
        "#                                       layers='-1',\n",
        "#                                       subtoken_pooling='first')\n",
        "embeddings = TransformerWordEmbeddings(\n",
        "    'roberta-base',  # or 'bert-base-uncased'\n",
        "    fine_tune=True,\n",
        "    layers='-1,-2,-3,-4',  # Use last 4 layers\n",
        "    subtoken_pooling='first',\n",
        "    allow_long_sentences=True\n",
        ")\n",
        "tagger = SequenceTagger(hidden_size=256,\n",
        "                         embeddings=embeddings,\n",
        "                         tag_dictionary=tag_dictionary,\n",
        "                         tag_type='ner',\n",
        "                         use_crf=False,\n",
        "                         use_rnn=False,\n",
        "                         reproject_embeddings=False,\n",
        "                         tag_format = 'BIOES')"
      ],
      "metadata": {
        "id": "QEBUKmiAnaFm",
        "colab": {
          "base_uri": "https://localhost:8080/"
        },
        "outputId": "9468298c-68d1-4ef3-aec9-165504a9da14"
      },
      "id": "QEBUKmiAnaFm",
      "execution_count": null,
      "outputs": [
        {
          "output_type": "stream",
          "name": "stderr",
          "text": [
            "/usr/local/lib/python3.10/dist-packages/transformers/tokenization_utils_base.py:1601: FutureWarning: `clean_up_tokenization_spaces` was not set. It will be set to `True` by default. This behavior will be depracted in transformers v4.45, and will be then set to `False` by default. For more details check this issue: https://github.com/huggingface/transformers/issues/31884\n",
            "  warnings.warn(\n"
          ]
        },
        {
          "output_type": "stream",
          "name": "stdout",
          "text": [
            "2024-11-06 10:59:16,123 SequenceTagger predicts: Dictionary with 45 tags: O, S-SKILL, B-SKILL, E-SKILL, I-SKILL, S-JOB, B-JOB, E-JOB, I-JOB, S-WORK, B-WORK, E-WORK, I-WORK, S-COMPANY, B-COMPANY, E-COMPANY, I-COMPANY, S-LOC, B-LOC, E-LOC, I-LOC, S-DEG, B-DEG, E-DEG, I-DEG, S-UNI, B-UNI, E-UNI, I-UNI, S-STUDY, B-STUDY, E-STUDY, I-STUDY, S-NAME, B-NAME, E-NAME, I-NAME, S-PHONE, B-PHONE, E-PHONE, I-PHONE, S-EMAIL, B-EMAIL, E-EMAIL, I-EMAIL\n"
          ]
        }
      ]
    },
    {
      "cell_type": "code",
      "source": [
        "# train flair ner model\n",
        "from flair.trainers import ModelTrainer\n",
        "from flair.training_utils import EvaluationMetric\n",
        "\n",
        "trainer = ModelTrainer(tagger, corpus)\n",
        "\n",
        "trainer.train(\n",
        "    base_path='flair_output/',\n",
        "    learning_rate=0.01,\n",
        "    mini_batch_size=4,\n",
        "    max_epochs=50,\n",
        "    train_with_dev=False\n",
        ")\n",
        "!cp -r ./flair_output /content/drive/MyDrive/FYP/Implementation/"
      ],
      "metadata": {
        "id": "XbuJ4VjCnoPU",
        "colab": {
          "base_uri": "https://localhost:8080/"
        },
        "outputId": "3d061f7d-27e3-4a89-ac93-0f27fcb311eb"
      },
      "id": "XbuJ4VjCnoPU",
      "execution_count": null,
      "outputs": [
        {
          "output_type": "stream",
          "name": "stdout",
          "text": [
            "2024-11-06 10:23:02,204 ----------------------------------------------------------------------------------------------------\n",
            "2024-11-06 10:23:02,207 Model: \"SequenceTagger(\n",
            "  (embeddings): TransformerWordEmbeddings(\n",
            "    (model): RobertaModel(\n",
            "      (embeddings): RobertaEmbeddings(\n",
            "        (word_embeddings): Embedding(50266, 768, padding_idx=1)\n",
            "        (position_embeddings): Embedding(514, 768, padding_idx=1)\n",
            "        (token_type_embeddings): Embedding(1, 768)\n",
            "        (LayerNorm): LayerNorm((768,), eps=1e-05, elementwise_affine=True)\n",
            "        (dropout): Dropout(p=0.1, inplace=False)\n",
            "      )\n",
            "      (encoder): RobertaEncoder(\n",
            "        (layer): ModuleList(\n",
            "          (0-11): 12 x RobertaLayer(\n",
            "            (attention): RobertaAttention(\n",
            "              (self): RobertaSelfAttention(\n",
            "                (query): Linear(in_features=768, out_features=768, bias=True)\n",
            "                (key): Linear(in_features=768, out_features=768, bias=True)\n",
            "                (value): Linear(in_features=768, out_features=768, bias=True)\n",
            "                (dropout): Dropout(p=0.1, inplace=False)\n",
            "              )\n",
            "              (output): RobertaSelfOutput(\n",
            "                (dense): Linear(in_features=768, out_features=768, bias=True)\n",
            "                (LayerNorm): LayerNorm((768,), eps=1e-05, elementwise_affine=True)\n",
            "                (dropout): Dropout(p=0.1, inplace=False)\n",
            "              )\n",
            "            )\n",
            "            (intermediate): RobertaIntermediate(\n",
            "              (dense): Linear(in_features=768, out_features=3072, bias=True)\n",
            "              (intermediate_act_fn): GELUActivation()\n",
            "            )\n",
            "            (output): RobertaOutput(\n",
            "              (dense): Linear(in_features=3072, out_features=768, bias=True)\n",
            "              (LayerNorm): LayerNorm((768,), eps=1e-05, elementwise_affine=True)\n",
            "              (dropout): Dropout(p=0.1, inplace=False)\n",
            "            )\n",
            "          )\n",
            "        )\n",
            "      )\n",
            "      (pooler): RobertaPooler(\n",
            "        (dense): Linear(in_features=768, out_features=768, bias=True)\n",
            "        (activation): Tanh()\n",
            "      )\n",
            "    )\n",
            "  )\n",
            "  (locked_dropout): LockedDropout(p=0.5)\n",
            "  (linear): Linear(in_features=768, out_features=45, bias=True)\n",
            "  (loss_function): CrossEntropyLoss()\n",
            ")\"\n",
            "2024-11-06 10:23:02,208 ----------------------------------------------------------------------------------------------------\n",
            "2024-11-06 10:23:02,210 Corpus: 268 train + 30 dev + 75 test sentences\n",
            "2024-11-06 10:23:02,212 ----------------------------------------------------------------------------------------------------\n",
            "2024-11-06 10:23:02,214 Train:  268 sentences\n",
            "2024-11-06 10:23:02,215         (train_with_dev=False, train_with_test=False)\n",
            "2024-11-06 10:23:02,216 ----------------------------------------------------------------------------------------------------\n",
            "2024-11-06 10:23:02,217 Training Params:\n",
            "2024-11-06 10:23:02,218  - learning_rate: \"0.01\" \n",
            "2024-11-06 10:23:02,219  - mini_batch_size: \"4\"\n",
            "2024-11-06 10:23:02,220  - max_epochs: \"50\"\n",
            "2024-11-06 10:23:02,221  - shuffle: \"True\"\n",
            "2024-11-06 10:23:02,222 ----------------------------------------------------------------------------------------------------\n",
            "2024-11-06 10:23:02,222 Plugins:\n",
            "2024-11-06 10:23:02,223  - AnnealOnPlateau | patience: '3', anneal_factor: '0.5', min_learning_rate: '0.0001'\n",
            "2024-11-06 10:23:02,224 ----------------------------------------------------------------------------------------------------\n",
            "2024-11-06 10:23:02,225 Final evaluation on model from best epoch (best-model.pt)\n",
            "2024-11-06 10:23:02,226  - metric: \"('micro avg', 'f1-score')\"\n",
            "2024-11-06 10:23:02,227 ----------------------------------------------------------------------------------------------------\n",
            "2024-11-06 10:23:02,228 Computation:\n",
            "2024-11-06 10:23:02,229  - compute on device: cuda:0\n",
            "2024-11-06 10:23:02,230  - embedding storage: cpu\n",
            "2024-11-06 10:23:02,231 ----------------------------------------------------------------------------------------------------\n",
            "2024-11-06 10:23:02,232 Model training base path: \"flair_output\"\n",
            "2024-11-06 10:23:02,232 ----------------------------------------------------------------------------------------------------\n",
            "2024-11-06 10:23:02,233 ----------------------------------------------------------------------------------------------------\n"
          ]
        },
        {
          "output_type": "stream",
          "name": "stderr",
          "text": [
            "/usr/local/lib/python3.10/dist-packages/flair/trainers/trainer.py:499: FutureWarning: `torch.cuda.amp.GradScaler(args...)` is deprecated. Please use `torch.amp.GradScaler('cuda', args...)` instead.\n",
            "  scaler = torch.cuda.amp.GradScaler(enabled=use_amp and flair.device.type != \"cpu\")\n"
          ]
        },
        {
          "output_type": "stream",
          "name": "stdout",
          "text": [
            "2024-11-06 10:23:05,898 epoch 1 - iter 6/67 - loss 2.77562790 - time (sec): 3.66 - samples/sec: 1991.31 - lr: 0.010000 - momentum: 0.000000\n",
            "2024-11-06 10:23:07,877 epoch 1 - iter 12/67 - loss 2.17279687 - time (sec): 5.64 - samples/sec: 2162.44 - lr: 0.010000 - momentum: 0.000000\n",
            "2024-11-06 10:23:10,314 epoch 1 - iter 18/67 - loss 1.73979483 - time (sec): 8.08 - samples/sec: 2274.98 - lr: 0.010000 - momentum: 0.000000\n",
            "2024-11-06 10:23:13,007 epoch 1 - iter 24/67 - loss 1.49670987 - time (sec): 10.77 - samples/sec: 2281.43 - lr: 0.010000 - momentum: 0.000000\n",
            "2024-11-06 10:23:15,268 epoch 1 - iter 30/67 - loss 1.40065300 - time (sec): 13.03 - samples/sec: 2273.90 - lr: 0.010000 - momentum: 0.000000\n",
            "2024-11-06 10:23:17,923 epoch 1 - iter 36/67 - loss 1.34974097 - time (sec): 15.69 - samples/sec: 2286.83 - lr: 0.010000 - momentum: 0.000000\n",
            "2024-11-06 10:23:20,103 epoch 1 - iter 42/67 - loss 1.27069429 - time (sec): 17.87 - samples/sec: 2298.39 - lr: 0.010000 - momentum: 0.000000\n",
            "2024-11-06 10:23:22,285 epoch 1 - iter 48/67 - loss 1.20319103 - time (sec): 20.05 - samples/sec: 2351.29 - lr: 0.010000 - momentum: 0.000000\n",
            "2024-11-06 10:23:25,064 epoch 1 - iter 54/67 - loss 1.13449937 - time (sec): 22.83 - samples/sec: 2392.89 - lr: 0.010000 - momentum: 0.000000\n",
            "2024-11-06 10:23:27,888 epoch 1 - iter 60/67 - loss 1.10005278 - time (sec): 25.65 - samples/sec: 2383.75 - lr: 0.010000 - momentum: 0.000000\n",
            "2024-11-06 10:23:30,868 epoch 1 - iter 66/67 - loss 1.05899526 - time (sec): 28.63 - samples/sec: 2381.29 - lr: 0.010000 - momentum: 0.000000\n",
            "2024-11-06 10:23:31,324 ----------------------------------------------------------------------------------------------------\n",
            "2024-11-06 10:23:31,325 EPOCH 1 done: loss 1.0608 - lr: 0.010000\n"
          ]
        },
        {
          "output_type": "stream",
          "name": "stderr",
          "text": [
            "100%|██████████| 1/1 [00:02<00:00,  2.93s/it]"
          ]
        },
        {
          "output_type": "stream",
          "name": "stdout",
          "text": [
            "2024-11-06 10:23:34,284 DEV : loss 0.4303983449935913 - f1-score (micro avg)  0.0\n",
            "2024-11-06 10:23:34,304  - 0 epochs without improvement\n",
            "2024-11-06 10:23:34,305 ----------------------------------------------------------------------------------------------------\n"
          ]
        },
        {
          "output_type": "stream",
          "name": "stderr",
          "text": [
            "\n"
          ]
        },
        {
          "output_type": "stream",
          "name": "stdout",
          "text": [
            "2024-11-06 10:23:36,425 epoch 2 - iter 6/67 - loss 0.77140476 - time (sec): 2.12 - samples/sec: 2197.95 - lr: 0.010000 - momentum: 0.000000\n",
            "2024-11-06 10:23:38,579 epoch 2 - iter 12/67 - loss 0.83176617 - time (sec): 4.27 - samples/sec: 2349.66 - lr: 0.010000 - momentum: 0.000000\n",
            "2024-11-06 10:23:42,071 epoch 2 - iter 18/67 - loss 0.73596175 - time (sec): 7.76 - samples/sec: 2328.55 - lr: 0.010000 - momentum: 0.000000\n",
            "2024-11-06 10:23:44,358 epoch 2 - iter 24/67 - loss 0.74539854 - time (sec): 10.05 - samples/sec: 2449.61 - lr: 0.010000 - momentum: 0.000000\n",
            "2024-11-06 10:23:46,695 epoch 2 - iter 30/67 - loss 0.73309234 - time (sec): 12.39 - samples/sec: 2409.24 - lr: 0.010000 - momentum: 0.000000\n",
            "2024-11-06 10:23:49,279 epoch 2 - iter 36/67 - loss 0.70209214 - time (sec): 14.97 - samples/sec: 2352.57 - lr: 0.010000 - momentum: 0.000000\n",
            "2024-11-06 10:23:52,171 epoch 2 - iter 42/67 - loss 0.71382846 - time (sec): 17.86 - samples/sec: 2394.95 - lr: 0.010000 - momentum: 0.000000\n",
            "2024-11-06 10:23:55,525 epoch 2 - iter 48/67 - loss 0.68874830 - time (sec): 21.22 - samples/sec: 2351.59 - lr: 0.010000 - momentum: 0.000000\n",
            "2024-11-06 10:23:57,896 epoch 2 - iter 54/67 - loss 0.68782701 - time (sec): 23.59 - samples/sec: 2365.14 - lr: 0.010000 - momentum: 0.000000\n",
            "2024-11-06 10:24:01,241 epoch 2 - iter 60/67 - loss 0.69586219 - time (sec): 26.93 - samples/sec: 2336.81 - lr: 0.010000 - momentum: 0.000000\n",
            "2024-11-06 10:24:03,812 epoch 2 - iter 66/67 - loss 0.69171953 - time (sec): 29.50 - samples/sec: 2308.67 - lr: 0.010000 - momentum: 0.000000\n",
            "2024-11-06 10:24:04,256 ----------------------------------------------------------------------------------------------------\n",
            "2024-11-06 10:24:04,259 EPOCH 2 done: loss 0.6959 - lr: 0.010000\n"
          ]
        },
        {
          "output_type": "stream",
          "name": "stderr",
          "text": [
            "100%|██████████| 1/1 [00:07<00:00,  7.91s/it]"
          ]
        },
        {
          "output_type": "stream",
          "name": "stdout",
          "text": [
            "2024-11-06 10:24:12,209 DEV : loss 0.4133286774158478 - f1-score (micro avg)  0.0\n",
            "2024-11-06 10:24:12,230  - 0 epochs without improvement\n",
            "2024-11-06 10:24:12,231 ----------------------------------------------------------------------------------------------------\n"
          ]
        },
        {
          "output_type": "stream",
          "name": "stderr",
          "text": [
            "\n"
          ]
        },
        {
          "output_type": "stream",
          "name": "stdout",
          "text": [
            "2024-11-06 10:24:15,230 epoch 3 - iter 6/67 - loss 0.57467712 - time (sec): 3.00 - samples/sec: 2489.91 - lr: 0.010000 - momentum: 0.000000\n",
            "2024-11-06 10:24:18,605 epoch 3 - iter 12/67 - loss 0.58675001 - time (sec): 6.37 - samples/sec: 2250.57 - lr: 0.010000 - momentum: 0.000000\n",
            "2024-11-06 10:24:21,844 epoch 3 - iter 18/67 - loss 0.56801475 - time (sec): 9.61 - samples/sec: 2192.43 - lr: 0.010000 - momentum: 0.000000\n",
            "2024-11-06 10:24:24,249 epoch 3 - iter 24/67 - loss 0.59568322 - time (sec): 12.01 - samples/sec: 2187.08 - lr: 0.010000 - momentum: 0.000000\n",
            "2024-11-06 10:24:26,879 epoch 3 - iter 30/67 - loss 0.61023264 - time (sec): 14.64 - samples/sec: 2192.54 - lr: 0.010000 - momentum: 0.000000\n",
            "2024-11-06 10:24:29,312 epoch 3 - iter 36/67 - loss 0.62346563 - time (sec): 17.08 - samples/sec: 2196.79 - lr: 0.010000 - momentum: 0.000000\n",
            "2024-11-06 10:24:31,820 epoch 3 - iter 42/67 - loss 0.61800989 - time (sec): 19.58 - samples/sec: 2220.39 - lr: 0.010000 - momentum: 0.000000\n",
            "2024-11-06 10:24:34,498 epoch 3 - iter 48/67 - loss 0.62418754 - time (sec): 22.26 - samples/sec: 2238.53 - lr: 0.010000 - momentum: 0.000000\n",
            "2024-11-06 10:24:37,164 epoch 3 - iter 54/67 - loss 0.62504903 - time (sec): 24.93 - samples/sec: 2198.20 - lr: 0.010000 - momentum: 0.000000\n",
            "2024-11-06 10:24:39,590 epoch 3 - iter 60/67 - loss 0.61830159 - time (sec): 27.36 - samples/sec: 2244.54 - lr: 0.010000 - momentum: 0.000000\n",
            "2024-11-06 10:24:42,424 epoch 3 - iter 66/67 - loss 0.62113166 - time (sec): 30.19 - samples/sec: 2230.64 - lr: 0.010000 - momentum: 0.000000\n",
            "2024-11-06 10:24:42,815 ----------------------------------------------------------------------------------------------------\n",
            "2024-11-06 10:24:42,818 EPOCH 3 done: loss 0.6208 - lr: 0.010000\n"
          ]
        },
        {
          "output_type": "stream",
          "name": "stderr",
          "text": [
            "100%|██████████| 1/1 [00:08<00:00,  8.78s/it]"
          ]
        },
        {
          "output_type": "stream",
          "name": "stdout",
          "text": [
            "2024-11-06 10:24:51,635 DEV : loss 0.40528959035873413 - f1-score (micro avg)  0.0\n",
            "2024-11-06 10:24:51,655  - 0 epochs without improvement\n",
            "2024-11-06 10:24:51,656 ----------------------------------------------------------------------------------------------------\n"
          ]
        },
        {
          "output_type": "stream",
          "name": "stderr",
          "text": [
            "\n"
          ]
        },
        {
          "output_type": "stream",
          "name": "stdout",
          "text": [
            "2024-11-06 10:24:53,668 epoch 4 - iter 6/67 - loss 0.58511808 - time (sec): 2.01 - samples/sec: 2568.56 - lr: 0.010000 - momentum: 0.000000\n",
            "2024-11-06 10:24:56,654 epoch 4 - iter 12/67 - loss 0.61907580 - time (sec): 4.99 - samples/sec: 2386.61 - lr: 0.010000 - momentum: 0.000000\n",
            "2024-11-06 10:24:59,054 epoch 4 - iter 18/67 - loss 0.60025711 - time (sec): 7.39 - samples/sec: 2339.38 - lr: 0.010000 - momentum: 0.000000\n",
            "2024-11-06 10:25:02,582 epoch 4 - iter 24/67 - loss 0.57515673 - time (sec): 10.92 - samples/sec: 2338.20 - lr: 0.010000 - momentum: 0.000000\n",
            "2024-11-06 10:25:06,140 epoch 4 - iter 30/67 - loss 0.55029776 - time (sec): 14.48 - samples/sec: 2250.78 - lr: 0.010000 - momentum: 0.000000\n",
            "2024-11-06 10:25:09,162 epoch 4 - iter 36/67 - loss 0.56295548 - time (sec): 17.50 - samples/sec: 2210.01 - lr: 0.010000 - momentum: 0.000000\n",
            "2024-11-06 10:25:11,904 epoch 4 - iter 42/67 - loss 0.55711580 - time (sec): 20.24 - samples/sec: 2224.36 - lr: 0.010000 - momentum: 0.000000\n",
            "2024-11-06 10:25:14,265 epoch 4 - iter 48/67 - loss 0.55351271 - time (sec): 22.60 - samples/sec: 2210.59 - lr: 0.010000 - momentum: 0.000000\n",
            "2024-11-06 10:25:16,674 epoch 4 - iter 54/67 - loss 0.55420443 - time (sec): 25.01 - samples/sec: 2228.69 - lr: 0.010000 - momentum: 0.000000\n",
            "2024-11-06 10:25:19,693 epoch 4 - iter 60/67 - loss 0.56504581 - time (sec): 28.03 - samples/sec: 2239.38 - lr: 0.010000 - momentum: 0.000000\n",
            "2024-11-06 10:25:21,834 epoch 4 - iter 66/67 - loss 0.57137042 - time (sec): 30.17 - samples/sec: 2246.18 - lr: 0.010000 - momentum: 0.000000\n",
            "2024-11-06 10:25:22,330 ----------------------------------------------------------------------------------------------------\n",
            "2024-11-06 10:25:22,332 EPOCH 4 done: loss 0.5732 - lr: 0.010000\n"
          ]
        },
        {
          "output_type": "stream",
          "name": "stderr",
          "text": [
            "100%|██████████| 1/1 [00:08<00:00,  8.05s/it]"
          ]
        },
        {
          "output_type": "stream",
          "name": "stdout",
          "text": [
            "2024-11-06 10:25:30,432 DEV : loss 0.39869266748428345 - f1-score (micro avg)  0.0\n",
            "2024-11-06 10:25:30,468  - 0 epochs without improvement\n",
            "2024-11-06 10:25:30,470 ----------------------------------------------------------------------------------------------------\n"
          ]
        },
        {
          "output_type": "stream",
          "name": "stderr",
          "text": [
            "\n"
          ]
        },
        {
          "output_type": "stream",
          "name": "stdout",
          "text": [
            "2024-11-06 10:25:32,297 epoch 5 - iter 6/67 - loss 0.65070348 - time (sec): 1.82 - samples/sec: 2181.01 - lr: 0.010000 - momentum: 0.000000\n",
            "2024-11-06 10:25:35,272 epoch 5 - iter 12/67 - loss 0.61272730 - time (sec): 4.80 - samples/sec: 1973.89 - lr: 0.010000 - momentum: 0.000000\n",
            "2024-11-06 10:25:38,132 epoch 5 - iter 18/67 - loss 0.58559587 - time (sec): 7.66 - samples/sec: 2107.67 - lr: 0.010000 - momentum: 0.000000\n",
            "2024-11-06 10:25:41,209 epoch 5 - iter 24/67 - loss 0.58730065 - time (sec): 10.73 - samples/sec: 2178.18 - lr: 0.010000 - momentum: 0.000000\n",
            "2024-11-06 10:25:44,109 epoch 5 - iter 30/67 - loss 0.57515688 - time (sec): 13.63 - samples/sec: 2177.37 - lr: 0.010000 - momentum: 0.000000\n",
            "2024-11-06 10:25:46,558 epoch 5 - iter 36/67 - loss 0.57917169 - time (sec): 16.08 - samples/sec: 2145.92 - lr: 0.010000 - momentum: 0.000000\n",
            "2024-11-06 10:25:49,504 epoch 5 - iter 42/67 - loss 0.57317858 - time (sec): 19.03 - samples/sec: 2149.62 - lr: 0.010000 - momentum: 0.000000\n",
            "2024-11-06 10:25:52,572 epoch 5 - iter 48/67 - loss 0.56370211 - time (sec): 22.10 - samples/sec: 2233.36 - lr: 0.010000 - momentum: 0.000000\n",
            "2024-11-06 10:25:56,212 epoch 5 - iter 54/67 - loss 0.55277499 - time (sec): 25.74 - samples/sec: 2190.44 - lr: 0.010000 - momentum: 0.000000\n",
            "2024-11-06 10:25:58,657 epoch 5 - iter 60/67 - loss 0.55509818 - time (sec): 28.18 - samples/sec: 2186.55 - lr: 0.010000 - momentum: 0.000000\n",
            "2024-11-06 10:26:01,470 epoch 5 - iter 66/67 - loss 0.54050501 - time (sec): 31.00 - samples/sec: 2170.72 - lr: 0.010000 - momentum: 0.000000\n",
            "2024-11-06 10:26:02,115 ----------------------------------------------------------------------------------------------------\n",
            "2024-11-06 10:26:02,116 EPOCH 5 done: loss 0.5420 - lr: 0.010000\n"
          ]
        },
        {
          "output_type": "stream",
          "name": "stderr",
          "text": [
            "100%|██████████| 1/1 [00:06<00:00,  6.87s/it]"
          ]
        },
        {
          "output_type": "stream",
          "name": "stdout",
          "text": [
            "2024-11-06 10:26:09,024 DEV : loss 0.39459559321403503 - f1-score (micro avg)  0.0\n",
            "2024-11-06 10:26:09,044  - 0 epochs without improvement\n",
            "2024-11-06 10:26:09,045 ----------------------------------------------------------------------------------------------------\n"
          ]
        },
        {
          "output_type": "stream",
          "name": "stderr",
          "text": [
            "\n"
          ]
        },
        {
          "output_type": "stream",
          "name": "stdout",
          "text": [
            "2024-11-06 10:26:11,877 epoch 6 - iter 6/67 - loss 0.51458286 - time (sec): 2.83 - samples/sec: 2323.06 - lr: 0.010000 - momentum: 0.000000\n",
            "2024-11-06 10:26:14,499 epoch 6 - iter 12/67 - loss 0.53442605 - time (sec): 5.45 - samples/sec: 2367.53 - lr: 0.010000 - momentum: 0.000000\n",
            "2024-11-06 10:26:18,324 epoch 6 - iter 18/67 - loss 0.52206453 - time (sec): 9.27 - samples/sec: 2261.40 - lr: 0.010000 - momentum: 0.000000\n",
            "2024-11-06 10:26:21,893 epoch 6 - iter 24/67 - loss 0.49083187 - time (sec): 12.84 - samples/sec: 2229.04 - lr: 0.010000 - momentum: 0.000000\n",
            "2024-11-06 10:26:24,989 epoch 6 - iter 30/67 - loss 0.50693285 - time (sec): 15.94 - samples/sec: 2203.29 - lr: 0.010000 - momentum: 0.000000\n",
            "2024-11-06 10:26:28,190 epoch 6 - iter 36/67 - loss 0.49294709 - time (sec): 19.14 - samples/sec: 2213.73 - lr: 0.010000 - momentum: 0.000000\n",
            "2024-11-06 10:26:30,981 epoch 6 - iter 42/67 - loss 0.49144749 - time (sec): 21.93 - samples/sec: 2154.64 - lr: 0.010000 - momentum: 0.000000\n",
            "2024-11-06 10:26:33,243 epoch 6 - iter 48/67 - loss 0.49975030 - time (sec): 24.19 - samples/sec: 2179.95 - lr: 0.010000 - momentum: 0.000000\n",
            "2024-11-06 10:26:35,605 epoch 6 - iter 54/67 - loss 0.50397528 - time (sec): 26.55 - samples/sec: 2167.07 - lr: 0.010000 - momentum: 0.000000\n",
            "2024-11-06 10:26:38,169 epoch 6 - iter 60/67 - loss 0.50567551 - time (sec): 29.12 - samples/sec: 2156.24 - lr: 0.010000 - momentum: 0.000000\n",
            "2024-11-06 10:26:40,699 epoch 6 - iter 66/67 - loss 0.50607293 - time (sec): 31.65 - samples/sec: 2136.78 - lr: 0.010000 - momentum: 0.000000\n",
            "2024-11-06 10:26:41,079 ----------------------------------------------------------------------------------------------------\n",
            "2024-11-06 10:26:41,083 EPOCH 6 done: loss 0.5090 - lr: 0.010000\n"
          ]
        },
        {
          "output_type": "stream",
          "name": "stderr",
          "text": [
            "100%|██████████| 1/1 [00:07<00:00,  7.30s/it]"
          ]
        },
        {
          "output_type": "stream",
          "name": "stdout",
          "text": [
            "2024-11-06 10:26:48,424 DEV : loss 0.394151508808136 - f1-score (micro avg)  0.0\n",
            "2024-11-06 10:26:48,446  - 0 epochs without improvement\n",
            "2024-11-06 10:26:48,448 ----------------------------------------------------------------------------------------------------\n"
          ]
        },
        {
          "output_type": "stream",
          "name": "stderr",
          "text": [
            "\n"
          ]
        },
        {
          "output_type": "stream",
          "name": "stdout",
          "text": [
            "2024-11-06 10:26:51,818 epoch 7 - iter 6/67 - loss 0.42566419 - time (sec): 3.37 - samples/sec: 2001.60 - lr: 0.010000 - momentum: 0.000000\n",
            "2024-11-06 10:26:54,959 epoch 7 - iter 12/67 - loss 0.48993261 - time (sec): 6.51 - samples/sec: 2179.51 - lr: 0.010000 - momentum: 0.000000\n",
            "2024-11-06 10:26:57,513 epoch 7 - iter 18/67 - loss 0.47972956 - time (sec): 9.06 - samples/sec: 2124.31 - lr: 0.010000 - momentum: 0.000000\n",
            "2024-11-06 10:27:00,356 epoch 7 - iter 24/67 - loss 0.46290484 - time (sec): 11.90 - samples/sec: 2196.30 - lr: 0.010000 - momentum: 0.000000\n",
            "2024-11-06 10:27:02,674 epoch 7 - iter 30/67 - loss 0.47832040 - time (sec): 14.22 - samples/sec: 2217.09 - lr: 0.010000 - momentum: 0.000000\n",
            "2024-11-06 10:27:04,540 epoch 7 - iter 36/67 - loss 0.48322730 - time (sec): 16.09 - samples/sec: 2222.50 - lr: 0.010000 - momentum: 0.000000\n",
            "2024-11-06 10:27:07,814 epoch 7 - iter 42/67 - loss 0.47518693 - time (sec): 19.36 - samples/sec: 2194.91 - lr: 0.010000 - momentum: 0.000000\n",
            "2024-11-06 10:27:10,583 epoch 7 - iter 48/67 - loss 0.47731186 - time (sec): 22.13 - samples/sec: 2180.86 - lr: 0.010000 - momentum: 0.000000\n",
            "2024-11-06 10:27:13,342 epoch 7 - iter 54/67 - loss 0.47571197 - time (sec): 24.89 - samples/sec: 2138.71 - lr: 0.010000 - momentum: 0.000000\n",
            "2024-11-06 10:27:16,650 epoch 7 - iter 60/67 - loss 0.47202621 - time (sec): 28.20 - samples/sec: 2141.25 - lr: 0.010000 - momentum: 0.000000\n",
            "2024-11-06 10:27:20,261 epoch 7 - iter 66/67 - loss 0.47667651 - time (sec): 31.81 - samples/sec: 2137.32 - lr: 0.010000 - momentum: 0.000000\n",
            "2024-11-06 10:27:20,573 ----------------------------------------------------------------------------------------------------\n",
            "2024-11-06 10:27:20,575 EPOCH 7 done: loss 0.4778 - lr: 0.010000\n"
          ]
        },
        {
          "output_type": "stream",
          "name": "stderr",
          "text": [
            "100%|██████████| 1/1 [00:08<00:00,  8.52s/it]"
          ]
        },
        {
          "output_type": "stream",
          "name": "stdout",
          "text": [
            "2024-11-06 10:27:29,142 DEV : loss 0.38722071051597595 - f1-score (micro avg)  0.0\n",
            "2024-11-06 10:27:29,162  - 0 epochs without improvement\n",
            "2024-11-06 10:27:29,163 ----------------------------------------------------------------------------------------------------\n"
          ]
        },
        {
          "output_type": "stream",
          "name": "stderr",
          "text": [
            "\n"
          ]
        },
        {
          "output_type": "stream",
          "name": "stdout",
          "text": [
            "2024-11-06 10:27:31,707 epoch 8 - iter 6/67 - loss 0.44391930 - time (sec): 2.54 - samples/sec: 2268.80 - lr: 0.010000 - momentum: 0.000000\n",
            "2024-11-06 10:27:34,288 epoch 8 - iter 12/67 - loss 0.41668351 - time (sec): 5.12 - samples/sec: 2304.50 - lr: 0.010000 - momentum: 0.000000\n",
            "2024-11-06 10:27:37,632 epoch 8 - iter 18/67 - loss 0.44704208 - time (sec): 8.46 - samples/sec: 2269.46 - lr: 0.010000 - momentum: 0.000000\n",
            "2024-11-06 10:27:40,599 epoch 8 - iter 24/67 - loss 0.43720343 - time (sec): 11.43 - samples/sec: 2231.19 - lr: 0.010000 - momentum: 0.000000\n",
            "2024-11-06 10:27:42,788 epoch 8 - iter 30/67 - loss 0.42789018 - time (sec): 13.62 - samples/sec: 2273.40 - lr: 0.010000 - momentum: 0.000000\n",
            "2024-11-06 10:27:46,787 epoch 8 - iter 36/67 - loss 0.43655424 - time (sec): 17.62 - samples/sec: 2162.47 - lr: 0.010000 - momentum: 0.000000\n",
            "2024-11-06 10:27:49,542 epoch 8 - iter 42/67 - loss 0.43640730 - time (sec): 20.37 - samples/sec: 2143.14 - lr: 0.010000 - momentum: 0.000000\n",
            "2024-11-06 10:27:52,910 epoch 8 - iter 48/67 - loss 0.44023600 - time (sec): 23.74 - samples/sec: 2122.52 - lr: 0.010000 - momentum: 0.000000\n",
            "2024-11-06 10:27:55,695 epoch 8 - iter 54/67 - loss 0.44374315 - time (sec): 26.53 - samples/sec: 2105.71 - lr: 0.010000 - momentum: 0.000000\n",
            "2024-11-06 10:27:58,511 epoch 8 - iter 60/67 - loss 0.44638119 - time (sec): 29.34 - samples/sec: 2124.54 - lr: 0.010000 - momentum: 0.000000\n",
            "2024-11-06 10:28:00,741 epoch 8 - iter 66/67 - loss 0.44989059 - time (sec): 31.57 - samples/sec: 2146.32 - lr: 0.010000 - momentum: 0.000000\n",
            "2024-11-06 10:28:01,159 ----------------------------------------------------------------------------------------------------\n",
            "2024-11-06 10:28:01,163 EPOCH 8 done: loss 0.4506 - lr: 0.010000\n"
          ]
        },
        {
          "output_type": "stream",
          "name": "stderr",
          "text": [
            "100%|██████████| 1/1 [00:08<00:00,  8.63s/it]"
          ]
        },
        {
          "output_type": "stream",
          "name": "stdout",
          "text": [
            "2024-11-06 10:28:09,831 DEV : loss 0.3860132396221161 - f1-score (micro avg)  0.0\n",
            "2024-11-06 10:28:09,852  - 0 epochs without improvement\n",
            "2024-11-06 10:28:09,853 ----------------------------------------------------------------------------------------------------\n"
          ]
        },
        {
          "output_type": "stream",
          "name": "stderr",
          "text": [
            "\n"
          ]
        },
        {
          "output_type": "stream",
          "name": "stdout",
          "text": [
            "2024-11-06 10:28:11,738 epoch 9 - iter 6/67 - loss 0.44525067 - time (sec): 1.88 - samples/sec: 2497.00 - lr: 0.010000 - momentum: 0.000000\n",
            "2024-11-06 10:28:14,343 epoch 9 - iter 12/67 - loss 0.51129143 - time (sec): 4.48 - samples/sec: 2147.17 - lr: 0.010000 - momentum: 0.000000\n",
            "2024-11-06 10:28:17,433 epoch 9 - iter 18/67 - loss 0.44145114 - time (sec): 7.58 - samples/sec: 2198.72 - lr: 0.010000 - momentum: 0.000000\n",
            "2024-11-06 10:28:21,074 epoch 9 - iter 24/67 - loss 0.43254460 - time (sec): 11.22 - samples/sec: 2161.48 - lr: 0.010000 - momentum: 0.000000\n",
            "2024-11-06 10:28:24,756 epoch 9 - iter 30/67 - loss 0.43086096 - time (sec): 14.90 - samples/sec: 2195.16 - lr: 0.010000 - momentum: 0.000000\n",
            "2024-11-06 10:28:26,938 epoch 9 - iter 36/67 - loss 0.44751996 - time (sec): 17.08 - samples/sec: 2150.65 - lr: 0.010000 - momentum: 0.000000\n",
            "2024-11-06 10:28:29,324 epoch 9 - iter 42/67 - loss 0.44458339 - time (sec): 19.47 - samples/sec: 2194.58 - lr: 0.010000 - momentum: 0.000000\n",
            "2024-11-06 10:28:32,173 epoch 9 - iter 48/67 - loss 0.42939339 - time (sec): 22.32 - samples/sec: 2208.32 - lr: 0.010000 - momentum: 0.000000\n",
            "2024-11-06 10:28:35,074 epoch 9 - iter 54/67 - loss 0.43076953 - time (sec): 25.22 - samples/sec: 2196.60 - lr: 0.010000 - momentum: 0.000000\n",
            "2024-11-06 10:28:37,522 epoch 9 - iter 60/67 - loss 0.42594854 - time (sec): 27.66 - samples/sec: 2255.70 - lr: 0.010000 - momentum: 0.000000\n",
            "2024-11-06 10:28:40,615 epoch 9 - iter 66/67 - loss 0.42278997 - time (sec): 30.76 - samples/sec: 2210.59 - lr: 0.010000 - momentum: 0.000000\n",
            "2024-11-06 10:28:40,865 ----------------------------------------------------------------------------------------------------\n",
            "2024-11-06 10:28:40,866 EPOCH 9 done: loss 0.4241 - lr: 0.010000\n"
          ]
        },
        {
          "output_type": "stream",
          "name": "stderr",
          "text": [
            "100%|██████████| 1/1 [00:08<00:00,  8.61s/it]"
          ]
        },
        {
          "output_type": "stream",
          "name": "stdout",
          "text": [
            "2024-11-06 10:28:49,516 DEV : loss 0.3823254406452179 - f1-score (micro avg)  0.0\n",
            "2024-11-06 10:28:49,536  - 0 epochs without improvement\n",
            "2024-11-06 10:28:49,538 ----------------------------------------------------------------------------------------------------\n"
          ]
        },
        {
          "output_type": "stream",
          "name": "stderr",
          "text": [
            "\n"
          ]
        },
        {
          "output_type": "stream",
          "name": "stdout",
          "text": [
            "2024-11-06 10:28:52,405 epoch 10 - iter 6/67 - loss 0.36262316 - time (sec): 2.86 - samples/sec: 2250.60 - lr: 0.010000 - momentum: 0.000000\n",
            "2024-11-06 10:28:55,325 epoch 10 - iter 12/67 - loss 0.41264979 - time (sec): 5.78 - samples/sec: 2260.49 - lr: 0.010000 - momentum: 0.000000\n",
            "2024-11-06 10:28:58,146 epoch 10 - iter 18/67 - loss 0.40489271 - time (sec): 8.60 - samples/sec: 2197.55 - lr: 0.010000 - momentum: 0.000000\n",
            "2024-11-06 10:29:00,295 epoch 10 - iter 24/67 - loss 0.43732712 - time (sec): 10.75 - samples/sec: 2140.58 - lr: 0.010000 - momentum: 0.000000\n",
            "2024-11-06 10:29:02,580 epoch 10 - iter 30/67 - loss 0.44299041 - time (sec): 13.04 - samples/sec: 2147.01 - lr: 0.010000 - momentum: 0.000000\n",
            "2024-11-06 10:29:05,390 epoch 10 - iter 36/67 - loss 0.42699736 - time (sec): 15.85 - samples/sec: 2163.67 - lr: 0.010000 - momentum: 0.000000\n",
            "2024-11-06 10:29:08,255 epoch 10 - iter 42/67 - loss 0.41881314 - time (sec): 18.71 - samples/sec: 2206.12 - lr: 0.010000 - momentum: 0.000000\n",
            "2024-11-06 10:29:10,861 epoch 10 - iter 48/67 - loss 0.41303392 - time (sec): 21.32 - samples/sec: 2244.42 - lr: 0.010000 - momentum: 0.000000\n",
            "2024-11-06 10:29:14,749 epoch 10 - iter 54/67 - loss 0.41345089 - time (sec): 25.21 - samples/sec: 2187.72 - lr: 0.010000 - momentum: 0.000000\n",
            "2024-11-06 10:29:16,778 epoch 10 - iter 60/67 - loss 0.41251931 - time (sec): 27.24 - samples/sec: 2181.19 - lr: 0.010000 - momentum: 0.000000\n",
            "2024-11-06 10:29:20,363 epoch 10 - iter 66/67 - loss 0.40819730 - time (sec): 30.82 - samples/sec: 2183.12 - lr: 0.010000 - momentum: 0.000000\n",
            "2024-11-06 10:29:20,861 ----------------------------------------------------------------------------------------------------\n",
            "2024-11-06 10:29:20,863 EPOCH 10 done: loss 0.4084 - lr: 0.010000\n"
          ]
        },
        {
          "output_type": "stream",
          "name": "stderr",
          "text": [
            "100%|██████████| 1/1 [00:07<00:00,  7.98s/it]"
          ]
        },
        {
          "output_type": "stream",
          "name": "stdout",
          "text": [
            "2024-11-06 10:29:28,881 DEV : loss 0.3812136650085449 - f1-score (micro avg)  0.0\n",
            "2024-11-06 10:29:28,920  - 0 epochs without improvement\n",
            "2024-11-06 10:29:28,923 ----------------------------------------------------------------------------------------------------\n"
          ]
        },
        {
          "output_type": "stream",
          "name": "stderr",
          "text": [
            "\n"
          ]
        },
        {
          "output_type": "stream",
          "name": "stdout",
          "text": [
            "2024-11-06 10:29:31,212 epoch 11 - iter 6/67 - loss 0.40736219 - time (sec): 2.29 - samples/sec: 2272.79 - lr: 0.010000 - momentum: 0.000000\n",
            "2024-11-06 10:29:34,909 epoch 11 - iter 12/67 - loss 0.39666565 - time (sec): 5.98 - samples/sec: 2028.53 - lr: 0.010000 - momentum: 0.000000\n",
            "2024-11-06 10:29:38,159 epoch 11 - iter 18/67 - loss 0.38803965 - time (sec): 9.23 - samples/sec: 2043.29 - lr: 0.010000 - momentum: 0.000000\n",
            "2024-11-06 10:29:40,620 epoch 11 - iter 24/67 - loss 0.38686238 - time (sec): 11.69 - samples/sec: 2060.30 - lr: 0.010000 - momentum: 0.000000\n",
            "2024-11-06 10:29:42,371 epoch 11 - iter 30/67 - loss 0.39812015 - time (sec): 13.45 - samples/sec: 2098.01 - lr: 0.010000 - momentum: 0.000000\n",
            "2024-11-06 10:29:45,472 epoch 11 - iter 36/67 - loss 0.38657212 - time (sec): 16.55 - samples/sec: 2177.50 - lr: 0.010000 - momentum: 0.000000\n",
            "2024-11-06 10:29:49,088 epoch 11 - iter 42/67 - loss 0.36768182 - time (sec): 20.16 - samples/sec: 2154.59 - lr: 0.010000 - momentum: 0.000000\n",
            "2024-11-06 10:29:51,486 epoch 11 - iter 48/67 - loss 0.37678927 - time (sec): 22.56 - samples/sec: 2132.42 - lr: 0.010000 - momentum: 0.000000\n",
            "2024-11-06 10:29:54,318 epoch 11 - iter 54/67 - loss 0.37922062 - time (sec): 25.39 - samples/sec: 2117.09 - lr: 0.010000 - momentum: 0.000000\n",
            "2024-11-06 10:29:57,264 epoch 11 - iter 60/67 - loss 0.38299561 - time (sec): 28.34 - samples/sec: 2105.69 - lr: 0.010000 - momentum: 0.000000\n",
            "2024-11-06 10:30:00,634 epoch 11 - iter 66/67 - loss 0.38172405 - time (sec): 31.71 - samples/sec: 2138.27 - lr: 0.010000 - momentum: 0.000000\n",
            "2024-11-06 10:30:01,373 ----------------------------------------------------------------------------------------------------\n",
            "2024-11-06 10:30:01,374 EPOCH 11 done: loss 0.3827 - lr: 0.010000\n"
          ]
        },
        {
          "output_type": "stream",
          "name": "stderr",
          "text": [
            "100%|██████████| 1/1 [00:06<00:00,  6.67s/it]"
          ]
        },
        {
          "output_type": "stream",
          "name": "stdout",
          "text": [
            "2024-11-06 10:30:08,088 DEV : loss 0.3779582977294922 - f1-score (micro avg)  0.0\n",
            "2024-11-06 10:30:08,108  - 0 epochs without improvement\n",
            "2024-11-06 10:30:08,110 ----------------------------------------------------------------------------------------------------\n"
          ]
        },
        {
          "output_type": "stream",
          "name": "stderr",
          "text": [
            "\n"
          ]
        },
        {
          "output_type": "stream",
          "name": "stdout",
          "text": [
            "2024-11-06 10:30:11,672 epoch 12 - iter 6/67 - loss 0.38916434 - time (sec): 3.56 - samples/sec: 2248.06 - lr: 0.010000 - momentum: 0.000000\n",
            "2024-11-06 10:30:14,306 epoch 12 - iter 12/67 - loss 0.37601374 - time (sec): 6.19 - samples/sec: 2224.64 - lr: 0.010000 - momentum: 0.000000\n",
            "2024-11-06 10:30:16,196 epoch 12 - iter 18/67 - loss 0.39433180 - time (sec): 8.08 - samples/sec: 2168.36 - lr: 0.010000 - momentum: 0.000000\n",
            "2024-11-06 10:30:19,733 epoch 12 - iter 24/67 - loss 0.35907673 - time (sec): 11.62 - samples/sec: 2199.16 - lr: 0.010000 - momentum: 0.000000\n",
            "2024-11-06 10:30:22,387 epoch 12 - iter 30/67 - loss 0.36888612 - time (sec): 14.27 - samples/sec: 2182.73 - lr: 0.010000 - momentum: 0.000000\n",
            "2024-11-06 10:30:25,578 epoch 12 - iter 36/67 - loss 0.36975731 - time (sec): 17.46 - samples/sec: 2215.89 - lr: 0.010000 - momentum: 0.000000\n",
            "2024-11-06 10:30:27,864 epoch 12 - iter 42/67 - loss 0.37809066 - time (sec): 19.75 - samples/sec: 2232.35 - lr: 0.010000 - momentum: 0.000000\n",
            "2024-11-06 10:30:30,773 epoch 12 - iter 48/67 - loss 0.37590435 - time (sec): 22.66 - samples/sec: 2212.82 - lr: 0.010000 - momentum: 0.000000\n",
            "2024-11-06 10:30:33,036 epoch 12 - iter 54/67 - loss 0.38092847 - time (sec): 24.92 - samples/sec: 2197.60 - lr: 0.010000 - momentum: 0.000000\n",
            "2024-11-06 10:30:35,792 epoch 12 - iter 60/67 - loss 0.38196754 - time (sec): 27.68 - samples/sec: 2187.88 - lr: 0.010000 - momentum: 0.000000\n",
            "2024-11-06 10:30:38,754 epoch 12 - iter 66/67 - loss 0.37418086 - time (sec): 30.64 - samples/sec: 2196.73 - lr: 0.010000 - momentum: 0.000000\n",
            "2024-11-06 10:30:39,289 ----------------------------------------------------------------------------------------------------\n",
            "2024-11-06 10:30:39,294 EPOCH 12 done: loss 0.3749 - lr: 0.010000\n"
          ]
        },
        {
          "output_type": "stream",
          "name": "stderr",
          "text": [
            "100%|██████████| 1/1 [00:07<00:00,  7.46s/it]"
          ]
        },
        {
          "output_type": "stream",
          "name": "stdout",
          "text": [
            "2024-11-06 10:30:46,807 DEV : loss 0.3780912160873413 - f1-score (micro avg)  0.0\n",
            "2024-11-06 10:30:46,828  - 1 epochs without improvement\n",
            "2024-11-06 10:30:46,830 ----------------------------------------------------------------------------------------------------\n"
          ]
        },
        {
          "output_type": "stream",
          "name": "stderr",
          "text": [
            "\n"
          ]
        },
        {
          "output_type": "stream",
          "name": "stdout",
          "text": [
            "2024-11-06 10:30:49,181 epoch 13 - iter 6/67 - loss 0.31801356 - time (sec): 2.35 - samples/sec: 2615.82 - lr: 0.010000 - momentum: 0.000000\n",
            "2024-11-06 10:30:53,222 epoch 13 - iter 12/67 - loss 0.33458442 - time (sec): 6.39 - samples/sec: 1990.49 - lr: 0.010000 - momentum: 0.000000\n",
            "2024-11-06 10:30:56,832 epoch 13 - iter 18/67 - loss 0.31341011 - time (sec): 10.00 - samples/sec: 2053.34 - lr: 0.010000 - momentum: 0.000000\n",
            "2024-11-06 10:31:00,360 epoch 13 - iter 24/67 - loss 0.31800181 - time (sec): 13.53 - samples/sec: 2082.03 - lr: 0.010000 - momentum: 0.000000\n",
            "2024-11-06 10:31:02,747 epoch 13 - iter 30/67 - loss 0.34399705 - time (sec): 15.91 - samples/sec: 2089.50 - lr: 0.010000 - momentum: 0.000000\n",
            "2024-11-06 10:31:05,720 epoch 13 - iter 36/67 - loss 0.35754709 - time (sec): 18.89 - samples/sec: 2082.29 - lr: 0.010000 - momentum: 0.000000\n",
            "2024-11-06 10:31:08,206 epoch 13 - iter 42/67 - loss 0.35855524 - time (sec): 21.37 - samples/sec: 2098.65 - lr: 0.010000 - momentum: 0.000000\n",
            "2024-11-06 10:31:10,410 epoch 13 - iter 48/67 - loss 0.36213212 - time (sec): 23.58 - samples/sec: 2124.57 - lr: 0.010000 - momentum: 0.000000\n",
            "2024-11-06 10:31:13,076 epoch 13 - iter 54/67 - loss 0.36205268 - time (sec): 26.24 - samples/sec: 2101.66 - lr: 0.010000 - momentum: 0.000000\n",
            "2024-11-06 10:31:15,341 epoch 13 - iter 60/67 - loss 0.36680795 - time (sec): 28.51 - samples/sec: 2111.77 - lr: 0.010000 - momentum: 0.000000\n",
            "2024-11-06 10:31:18,493 epoch 13 - iter 66/67 - loss 0.36117216 - time (sec): 31.66 - samples/sec: 2114.01 - lr: 0.010000 - momentum: 0.000000\n",
            "2024-11-06 10:31:19,493 ----------------------------------------------------------------------------------------------------\n",
            "2024-11-06 10:31:19,495 EPOCH 13 done: loss 0.3610 - lr: 0.010000\n"
          ]
        },
        {
          "output_type": "stream",
          "name": "stderr",
          "text": [
            "100%|██████████| 1/1 [00:08<00:00,  8.95s/it]"
          ]
        },
        {
          "output_type": "stream",
          "name": "stdout",
          "text": [
            "2024-11-06 10:31:28,484 DEV : loss 0.37649959325790405 - f1-score (micro avg)  0.0\n",
            "2024-11-06 10:31:28,506  - 0 epochs without improvement\n",
            "2024-11-06 10:31:28,507 ----------------------------------------------------------------------------------------------------\n"
          ]
        },
        {
          "output_type": "stream",
          "name": "stderr",
          "text": [
            "\n"
          ]
        },
        {
          "output_type": "stream",
          "name": "stdout",
          "text": [
            "2024-11-06 10:31:31,040 epoch 14 - iter 6/67 - loss 0.37199438 - time (sec): 2.53 - samples/sec: 2332.35 - lr: 0.010000 - momentum: 0.000000\n",
            "2024-11-06 10:31:33,824 epoch 14 - iter 12/67 - loss 0.35108357 - time (sec): 5.31 - samples/sec: 2245.96 - lr: 0.010000 - momentum: 0.000000\n",
            "2024-11-06 10:31:36,438 epoch 14 - iter 18/67 - loss 0.36117006 - time (sec): 7.93 - samples/sec: 2271.70 - lr: 0.010000 - momentum: 0.000000\n",
            "2024-11-06 10:31:39,302 epoch 14 - iter 24/67 - loss 0.36504886 - time (sec): 10.79 - samples/sec: 2273.29 - lr: 0.010000 - momentum: 0.000000\n",
            "2024-11-06 10:31:42,028 epoch 14 - iter 30/67 - loss 0.35853612 - time (sec): 13.52 - samples/sec: 2268.43 - lr: 0.010000 - momentum: 0.000000\n",
            "2024-11-06 10:31:44,605 epoch 14 - iter 36/67 - loss 0.35458049 - time (sec): 16.09 - samples/sec: 2237.76 - lr: 0.010000 - momentum: 0.000000\n",
            "2024-11-06 10:31:47,472 epoch 14 - iter 42/67 - loss 0.35518986 - time (sec): 18.96 - samples/sec: 2206.97 - lr: 0.010000 - momentum: 0.000000\n",
            "2024-11-06 10:31:51,551 epoch 14 - iter 48/67 - loss 0.34274289 - time (sec): 23.04 - samples/sec: 2188.99 - lr: 0.010000 - momentum: 0.000000\n",
            "2024-11-06 10:31:55,076 epoch 14 - iter 54/67 - loss 0.33827329 - time (sec): 26.56 - samples/sec: 2149.32 - lr: 0.010000 - momentum: 0.000000\n",
            "2024-11-06 10:31:57,657 epoch 14 - iter 60/67 - loss 0.34024992 - time (sec): 29.15 - samples/sec: 2130.25 - lr: 0.010000 - momentum: 0.000000\n",
            "2024-11-06 10:32:00,176 epoch 14 - iter 66/67 - loss 0.34345971 - time (sec): 31.67 - samples/sec: 2130.01 - lr: 0.010000 - momentum: 0.000000\n",
            "2024-11-06 10:32:00,637 ----------------------------------------------------------------------------------------------------\n",
            "2024-11-06 10:32:00,638 EPOCH 14 done: loss 0.3427 - lr: 0.010000\n"
          ]
        },
        {
          "output_type": "stream",
          "name": "stderr",
          "text": [
            "100%|██████████| 1/1 [00:09<00:00,  9.07s/it]"
          ]
        },
        {
          "output_type": "stream",
          "name": "stdout",
          "text": [
            "2024-11-06 10:32:09,754 DEV : loss 0.3755929470062256 - f1-score (micro avg)  0.0\n",
            "2024-11-06 10:32:09,775  - 0 epochs without improvement\n",
            "2024-11-06 10:32:09,777 ----------------------------------------------------------------------------------------------------\n"
          ]
        },
        {
          "output_type": "stream",
          "name": "stderr",
          "text": [
            "\n"
          ]
        },
        {
          "output_type": "stream",
          "name": "stdout",
          "text": [
            "2024-11-06 10:32:12,748 epoch 15 - iter 6/67 - loss 0.35698417 - time (sec): 2.97 - samples/sec: 1812.65 - lr: 0.010000 - momentum: 0.000000\n",
            "2024-11-06 10:32:15,534 epoch 15 - iter 12/67 - loss 0.35125014 - time (sec): 5.75 - samples/sec: 2058.21 - lr: 0.010000 - momentum: 0.000000\n",
            "2024-11-06 10:32:17,908 epoch 15 - iter 18/67 - loss 0.37380191 - time (sec): 8.13 - samples/sec: 2075.96 - lr: 0.010000 - momentum: 0.000000\n",
            "2024-11-06 10:32:20,732 epoch 15 - iter 24/67 - loss 0.36760100 - time (sec): 10.95 - samples/sec: 2165.64 - lr: 0.010000 - momentum: 0.000000\n",
            "2024-11-06 10:32:24,172 epoch 15 - iter 30/67 - loss 0.34810161 - time (sec): 14.39 - samples/sec: 2117.46 - lr: 0.010000 - momentum: 0.000000\n",
            "2024-11-06 10:32:26,908 epoch 15 - iter 36/67 - loss 0.35141410 - time (sec): 17.13 - samples/sec: 2080.63 - lr: 0.010000 - momentum: 0.000000\n",
            "2024-11-06 10:32:28,918 epoch 15 - iter 42/67 - loss 0.34197326 - time (sec): 19.14 - samples/sec: 2093.99 - lr: 0.010000 - momentum: 0.000000\n",
            "2024-11-06 10:32:32,259 epoch 15 - iter 48/67 - loss 0.33946180 - time (sec): 22.48 - samples/sec: 2116.50 - lr: 0.010000 - momentum: 0.000000\n",
            "2024-11-06 10:32:34,930 epoch 15 - iter 54/67 - loss 0.34298028 - time (sec): 25.15 - samples/sec: 2124.59 - lr: 0.010000 - momentum: 0.000000\n",
            "2024-11-06 10:32:38,210 epoch 15 - iter 60/67 - loss 0.33800515 - time (sec): 28.43 - samples/sec: 2169.30 - lr: 0.010000 - momentum: 0.000000\n",
            "2024-11-06 10:32:41,651 epoch 15 - iter 66/67 - loss 0.33332962 - time (sec): 31.87 - samples/sec: 2128.56 - lr: 0.010000 - momentum: 0.000000\n",
            "2024-11-06 10:32:42,335 ----------------------------------------------------------------------------------------------------\n",
            "2024-11-06 10:32:42,337 EPOCH 15 done: loss 0.3322 - lr: 0.010000\n"
          ]
        },
        {
          "output_type": "stream",
          "name": "stderr",
          "text": [
            "100%|██████████| 1/1 [00:09<00:00,  9.09s/it]"
          ]
        },
        {
          "output_type": "stream",
          "name": "stdout",
          "text": [
            "2024-11-06 10:32:51,490 DEV : loss 0.3735407292842865 - f1-score (micro avg)  0.0\n",
            "2024-11-06 10:32:51,528  - 0 epochs without improvement\n",
            "2024-11-06 10:32:51,530 ----------------------------------------------------------------------------------------------------\n"
          ]
        },
        {
          "output_type": "stream",
          "name": "stderr",
          "text": [
            "\n"
          ]
        },
        {
          "output_type": "stream",
          "name": "stdout",
          "text": [
            "2024-11-06 10:32:55,382 epoch 16 - iter 6/67 - loss 0.28248790 - time (sec): 3.85 - samples/sec: 2536.35 - lr: 0.010000 - momentum: 0.000000\n",
            "2024-11-06 10:32:57,432 epoch 16 - iter 12/67 - loss 0.30309655 - time (sec): 5.90 - samples/sec: 2257.28 - lr: 0.010000 - momentum: 0.000000\n",
            "2024-11-06 10:33:00,170 epoch 16 - iter 18/67 - loss 0.30602114 - time (sec): 8.64 - samples/sec: 2341.91 - lr: 0.010000 - momentum: 0.000000\n",
            "2024-11-06 10:33:03,107 epoch 16 - iter 24/67 - loss 0.31249041 - time (sec): 11.57 - samples/sec: 2235.49 - lr: 0.010000 - momentum: 0.000000\n",
            "2024-11-06 10:33:06,308 epoch 16 - iter 30/67 - loss 0.31081007 - time (sec): 14.77 - samples/sec: 2188.69 - lr: 0.010000 - momentum: 0.000000\n",
            "2024-11-06 10:33:09,263 epoch 16 - iter 36/67 - loss 0.31546608 - time (sec): 17.73 - samples/sec: 2175.34 - lr: 0.010000 - momentum: 0.000000\n",
            "2024-11-06 10:33:11,874 epoch 16 - iter 42/67 - loss 0.31382567 - time (sec): 20.34 - samples/sec: 2180.26 - lr: 0.010000 - momentum: 0.000000\n",
            "2024-11-06 10:33:14,368 epoch 16 - iter 48/67 - loss 0.31450830 - time (sec): 22.83 - samples/sec: 2195.97 - lr: 0.010000 - momentum: 0.000000\n",
            "2024-11-06 10:33:17,277 epoch 16 - iter 54/67 - loss 0.31030386 - time (sec): 25.74 - samples/sec: 2185.22 - lr: 0.010000 - momentum: 0.000000\n",
            "2024-11-06 10:33:20,295 epoch 16 - iter 60/67 - loss 0.31521442 - time (sec): 28.76 - samples/sec: 2174.36 - lr: 0.010000 - momentum: 0.000000\n",
            "2024-11-06 10:33:22,920 epoch 16 - iter 66/67 - loss 0.31380486 - time (sec): 31.39 - samples/sec: 2157.54 - lr: 0.010000 - momentum: 0.000000\n",
            "2024-11-06 10:33:23,427 ----------------------------------------------------------------------------------------------------\n",
            "2024-11-06 10:33:23,428 EPOCH 16 done: loss 0.3146 - lr: 0.010000\n"
          ]
        },
        {
          "output_type": "stream",
          "name": "stderr",
          "text": [
            "100%|██████████| 1/1 [00:07<00:00,  7.80s/it]"
          ]
        },
        {
          "output_type": "stream",
          "name": "stdout",
          "text": [
            "2024-11-06 10:33:31,291 DEV : loss 0.3734825551509857 - f1-score (micro avg)  0.0\n",
            "2024-11-06 10:33:31,326  - 0 epochs without improvement\n",
            "2024-11-06 10:33:31,331 ----------------------------------------------------------------------------------------------------\n"
          ]
        },
        {
          "output_type": "stream",
          "name": "stderr",
          "text": [
            "\n"
          ]
        },
        {
          "output_type": "stream",
          "name": "stdout",
          "text": [
            "2024-11-06 10:33:34,742 epoch 17 - iter 6/67 - loss 0.30421015 - time (sec): 3.41 - samples/sec: 1797.22 - lr: 0.010000 - momentum: 0.000000\n",
            "2024-11-06 10:33:37,666 epoch 17 - iter 12/67 - loss 0.26891061 - time (sec): 6.33 - samples/sec: 2007.70 - lr: 0.010000 - momentum: 0.000000\n",
            "2024-11-06 10:33:39,880 epoch 17 - iter 18/67 - loss 0.28520406 - time (sec): 8.55 - samples/sec: 2077.10 - lr: 0.010000 - momentum: 0.000000\n",
            "2024-11-06 10:33:42,052 epoch 17 - iter 24/67 - loss 0.28963744 - time (sec): 10.72 - samples/sec: 2118.78 - lr: 0.010000 - momentum: 0.000000\n",
            "2024-11-06 10:33:44,959 epoch 17 - iter 30/67 - loss 0.29101780 - time (sec): 13.62 - samples/sec: 2225.98 - lr: 0.010000 - momentum: 0.000000\n",
            "2024-11-06 10:33:48,243 epoch 17 - iter 36/67 - loss 0.28610378 - time (sec): 16.91 - samples/sec: 2221.91 - lr: 0.010000 - momentum: 0.000000\n",
            "2024-11-06 10:33:51,486 epoch 17 - iter 42/67 - loss 0.29389447 - time (sec): 20.15 - samples/sec: 2210.07 - lr: 0.010000 - momentum: 0.000000\n",
            "2024-11-06 10:33:54,442 epoch 17 - iter 48/67 - loss 0.29882212 - time (sec): 23.11 - samples/sec: 2150.27 - lr: 0.010000 - momentum: 0.000000\n",
            "2024-11-06 10:33:56,140 epoch 17 - iter 54/67 - loss 0.30824154 - time (sec): 24.81 - samples/sec: 2166.96 - lr: 0.010000 - momentum: 0.000000\n",
            "2024-11-06 10:33:59,242 epoch 17 - iter 60/67 - loss 0.30691201 - time (sec): 27.91 - samples/sec: 2164.40 - lr: 0.010000 - momentum: 0.000000\n",
            "2024-11-06 10:34:02,577 epoch 17 - iter 66/67 - loss 0.30750157 - time (sec): 31.24 - samples/sec: 2157.09 - lr: 0.010000 - momentum: 0.000000\n",
            "2024-11-06 10:34:03,008 ----------------------------------------------------------------------------------------------------\n",
            "2024-11-06 10:34:03,010 EPOCH 17 done: loss 0.3065 - lr: 0.010000\n"
          ]
        },
        {
          "output_type": "stream",
          "name": "stderr",
          "text": [
            "100%|██████████| 1/1 [00:06<00:00,  6.99s/it]"
          ]
        },
        {
          "output_type": "stream",
          "name": "stdout",
          "text": [
            "2024-11-06 10:34:10,048 DEV : loss 0.372924268245697 - f1-score (micro avg)  0.0\n",
            "2024-11-06 10:34:10,070  - 0 epochs without improvement\n",
            "2024-11-06 10:34:10,072 ----------------------------------------------------------------------------------------------------\n"
          ]
        },
        {
          "output_type": "stream",
          "name": "stderr",
          "text": [
            "\n"
          ]
        },
        {
          "output_type": "stream",
          "name": "stdout",
          "text": [
            "2024-11-06 10:34:12,793 epoch 18 - iter 6/67 - loss 0.30757578 - time (sec): 2.72 - samples/sec: 2205.88 - lr: 0.010000 - momentum: 0.000000\n",
            "2024-11-06 10:34:15,625 epoch 18 - iter 12/67 - loss 0.28877725 - time (sec): 5.55 - samples/sec: 2086.89 - lr: 0.010000 - momentum: 0.000000\n",
            "2024-11-06 10:34:17,944 epoch 18 - iter 18/67 - loss 0.30226233 - time (sec): 7.87 - samples/sec: 2120.94 - lr: 0.010000 - momentum: 0.000000\n",
            "2024-11-06 10:34:20,370 epoch 18 - iter 24/67 - loss 0.30072842 - time (sec): 10.29 - samples/sec: 2116.54 - lr: 0.010000 - momentum: 0.000000\n",
            "2024-11-06 10:34:23,722 epoch 18 - iter 30/67 - loss 0.29877130 - time (sec): 13.65 - samples/sec: 2122.24 - lr: 0.010000 - momentum: 0.000000\n",
            "2024-11-06 10:34:26,814 epoch 18 - iter 36/67 - loss 0.30222418 - time (sec): 16.74 - samples/sec: 2130.53 - lr: 0.010000 - momentum: 0.000000\n",
            "2024-11-06 10:34:29,589 epoch 18 - iter 42/67 - loss 0.30393813 - time (sec): 19.51 - samples/sec: 2118.38 - lr: 0.010000 - momentum: 0.000000\n",
            "2024-11-06 10:34:33,040 epoch 18 - iter 48/67 - loss 0.30252081 - time (sec): 22.96 - samples/sec: 2104.72 - lr: 0.010000 - momentum: 0.000000\n",
            "2024-11-06 10:34:36,251 epoch 18 - iter 54/67 - loss 0.29706950 - time (sec): 26.18 - samples/sec: 2158.00 - lr: 0.010000 - momentum: 0.000000\n",
            "2024-11-06 10:34:39,774 epoch 18 - iter 60/67 - loss 0.29433606 - time (sec): 29.70 - samples/sec: 2120.09 - lr: 0.010000 - momentum: 0.000000\n",
            "2024-11-06 10:34:42,099 epoch 18 - iter 66/67 - loss 0.29878042 - time (sec): 32.02 - samples/sec: 2118.47 - lr: 0.010000 - momentum: 0.000000\n",
            "2024-11-06 10:34:42,508 ----------------------------------------------------------------------------------------------------\n",
            "2024-11-06 10:34:42,512 EPOCH 18 done: loss 0.2980 - lr: 0.010000\n"
          ]
        },
        {
          "output_type": "stream",
          "name": "stderr",
          "text": [
            "100%|██████████| 1/1 [00:07<00:00,  7.55s/it]"
          ]
        },
        {
          "output_type": "stream",
          "name": "stdout",
          "text": [
            "2024-11-06 10:34:50,109 DEV : loss 0.37193039059638977 - f1-score (micro avg)  0.0\n",
            "2024-11-06 10:34:50,129  - 0 epochs without improvement\n",
            "2024-11-06 10:34:50,130 ----------------------------------------------------------------------------------------------------\n"
          ]
        },
        {
          "output_type": "stream",
          "name": "stderr",
          "text": [
            "\n"
          ]
        },
        {
          "output_type": "stream",
          "name": "stdout",
          "text": [
            "2024-11-06 10:34:53,090 epoch 19 - iter 6/67 - loss 0.24864569 - time (sec): 2.96 - samples/sec: 2169.87 - lr: 0.010000 - momentum: 0.000000\n",
            "2024-11-06 10:34:55,891 epoch 19 - iter 12/67 - loss 0.30014073 - time (sec): 5.76 - samples/sec: 2034.84 - lr: 0.010000 - momentum: 0.000000\n",
            "2024-11-06 10:34:58,596 epoch 19 - iter 18/67 - loss 0.31445458 - time (sec): 8.46 - samples/sec: 2112.74 - lr: 0.010000 - momentum: 0.000000\n",
            "2024-11-06 10:35:02,258 epoch 19 - iter 24/67 - loss 0.29949934 - time (sec): 12.12 - samples/sec: 2164.83 - lr: 0.010000 - momentum: 0.000000\n",
            "2024-11-06 10:35:05,182 epoch 19 - iter 30/67 - loss 0.29677560 - time (sec): 15.05 - samples/sec: 2123.34 - lr: 0.010000 - momentum: 0.000000\n",
            "2024-11-06 10:35:07,528 epoch 19 - iter 36/67 - loss 0.29260562 - time (sec): 17.39 - samples/sec: 2155.70 - lr: 0.010000 - momentum: 0.000000\n",
            "2024-11-06 10:35:10,529 epoch 19 - iter 42/67 - loss 0.28596740 - time (sec): 20.39 - samples/sec: 2130.89 - lr: 0.010000 - momentum: 0.000000\n",
            "2024-11-06 10:35:13,829 epoch 19 - iter 48/67 - loss 0.28899949 - time (sec): 23.69 - samples/sec: 2103.05 - lr: 0.010000 - momentum: 0.000000\n",
            "2024-11-06 10:35:16,032 epoch 19 - iter 54/67 - loss 0.29453712 - time (sec): 25.90 - samples/sec: 2101.73 - lr: 0.010000 - momentum: 0.000000\n",
            "2024-11-06 10:35:18,763 epoch 19 - iter 60/67 - loss 0.28901923 - time (sec): 28.63 - samples/sec: 2151.28 - lr: 0.010000 - momentum: 0.000000\n",
            "2024-11-06 10:35:21,756 epoch 19 - iter 66/67 - loss 0.28472259 - time (sec): 31.62 - samples/sec: 2141.03 - lr: 0.010000 - momentum: 0.000000\n",
            "2024-11-06 10:35:22,120 ----------------------------------------------------------------------------------------------------\n",
            "2024-11-06 10:35:22,121 EPOCH 19 done: loss 0.2836 - lr: 0.010000\n"
          ]
        },
        {
          "output_type": "stream",
          "name": "stderr",
          "text": [
            "100%|██████████| 1/1 [00:09<00:00,  9.35s/it]"
          ]
        },
        {
          "output_type": "stream",
          "name": "stdout",
          "text": [
            "2024-11-06 10:35:31,515 DEV : loss 0.3706222474575043 - f1-score (micro avg)  0.0\n",
            "2024-11-06 10:35:31,536  - 0 epochs without improvement\n",
            "2024-11-06 10:35:31,537 ----------------------------------------------------------------------------------------------------\n"
          ]
        },
        {
          "output_type": "stream",
          "name": "stderr",
          "text": [
            "\n"
          ]
        },
        {
          "output_type": "stream",
          "name": "stdout",
          "text": [
            "2024-11-06 10:35:34,229 epoch 20 - iter 6/67 - loss 0.25171112 - time (sec): 2.69 - samples/sec: 2352.40 - lr: 0.010000 - momentum: 0.000000\n",
            "2024-11-06 10:35:37,177 epoch 20 - iter 12/67 - loss 0.27694611 - time (sec): 5.63 - samples/sec: 2256.96 - lr: 0.010000 - momentum: 0.000000\n",
            "2024-11-06 10:35:40,126 epoch 20 - iter 18/67 - loss 0.26485310 - time (sec): 8.58 - samples/sec: 2192.40 - lr: 0.010000 - momentum: 0.000000\n",
            "2024-11-06 10:35:43,333 epoch 20 - iter 24/67 - loss 0.27543082 - time (sec): 11.79 - samples/sec: 2113.87 - lr: 0.010000 - momentum: 0.000000\n",
            "2024-11-06 10:35:45,750 epoch 20 - iter 30/67 - loss 0.28081041 - time (sec): 14.21 - samples/sec: 2108.09 - lr: 0.010000 - momentum: 0.000000\n",
            "2024-11-06 10:35:48,582 epoch 20 - iter 36/67 - loss 0.27385075 - time (sec): 17.04 - samples/sec: 2086.09 - lr: 0.010000 - momentum: 0.000000\n",
            "2024-11-06 10:35:51,084 epoch 20 - iter 42/67 - loss 0.26773926 - time (sec): 19.54 - samples/sec: 2079.32 - lr: 0.010000 - momentum: 0.000000\n",
            "2024-11-06 10:35:54,655 epoch 20 - iter 48/67 - loss 0.27190138 - time (sec): 23.11 - samples/sec: 2077.55 - lr: 0.010000 - momentum: 0.000000\n",
            "2024-11-06 10:35:57,684 epoch 20 - iter 54/67 - loss 0.27427052 - time (sec): 26.14 - samples/sec: 2077.28 - lr: 0.010000 - momentum: 0.000000\n",
            "2024-11-06 10:36:00,510 epoch 20 - iter 60/67 - loss 0.27772190 - time (sec): 28.97 - samples/sec: 2099.21 - lr: 0.010000 - momentum: 0.000000\n",
            "2024-11-06 10:36:03,281 epoch 20 - iter 66/67 - loss 0.27897978 - time (sec): 31.74 - samples/sec: 2123.87 - lr: 0.010000 - momentum: 0.000000\n",
            "2024-11-06 10:36:03,863 ----------------------------------------------------------------------------------------------------\n",
            "2024-11-06 10:36:03,864 EPOCH 20 done: loss 0.2797 - lr: 0.010000\n"
          ]
        },
        {
          "output_type": "stream",
          "name": "stderr",
          "text": [
            "100%|██████████| 1/1 [00:08<00:00,  8.72s/it]"
          ]
        },
        {
          "output_type": "stream",
          "name": "stdout",
          "text": [
            "2024-11-06 10:36:12,629 DEV : loss 0.3710145950317383 - f1-score (micro avg)  0.0\n",
            "2024-11-06 10:36:12,651  - 1 epochs without improvement\n",
            "2024-11-06 10:36:12,653 ----------------------------------------------------------------------------------------------------\n"
          ]
        },
        {
          "output_type": "stream",
          "name": "stderr",
          "text": [
            "\n"
          ]
        },
        {
          "output_type": "stream",
          "name": "stdout",
          "text": [
            "2024-11-06 10:36:15,549 epoch 21 - iter 6/67 - loss 0.29421416 - time (sec): 2.89 - samples/sec: 2151.87 - lr: 0.010000 - momentum: 0.000000\n",
            "2024-11-06 10:36:18,091 epoch 21 - iter 12/67 - loss 0.30530143 - time (sec): 5.43 - samples/sec: 2205.15 - lr: 0.010000 - momentum: 0.000000\n",
            "2024-11-06 10:36:20,448 epoch 21 - iter 18/67 - loss 0.30552678 - time (sec): 7.79 - samples/sec: 2268.94 - lr: 0.010000 - momentum: 0.000000\n",
            "2024-11-06 10:36:23,177 epoch 21 - iter 24/67 - loss 0.29138394 - time (sec): 10.52 - samples/sec: 2200.41 - lr: 0.010000 - momentum: 0.000000\n",
            "2024-11-06 10:36:26,340 epoch 21 - iter 30/67 - loss 0.28475667 - time (sec): 13.68 - samples/sec: 2177.89 - lr: 0.010000 - momentum: 0.000000\n",
            "2024-11-06 10:36:29,115 epoch 21 - iter 36/67 - loss 0.28392111 - time (sec): 16.46 - samples/sec: 2160.89 - lr: 0.010000 - momentum: 0.000000\n",
            "2024-11-06 10:36:33,210 epoch 21 - iter 42/67 - loss 0.27736038 - time (sec): 20.55 - samples/sec: 2173.83 - lr: 0.010000 - momentum: 0.000000\n",
            "2024-11-06 10:36:35,760 epoch 21 - iter 48/67 - loss 0.27519086 - time (sec): 23.10 - samples/sec: 2152.80 - lr: 0.010000 - momentum: 0.000000\n",
            "2024-11-06 10:36:39,094 epoch 21 - iter 54/67 - loss 0.27817681 - time (sec): 26.44 - samples/sec: 2129.40 - lr: 0.010000 - momentum: 0.000000\n",
            "2024-11-06 10:36:41,308 epoch 21 - iter 60/67 - loss 0.27571191 - time (sec): 28.65 - samples/sec: 2160.27 - lr: 0.010000 - momentum: 0.000000\n",
            "2024-11-06 10:36:44,131 epoch 21 - iter 66/67 - loss 0.27265851 - time (sec): 31.47 - samples/sec: 2156.62 - lr: 0.010000 - momentum: 0.000000\n",
            "2024-11-06 10:36:44,529 ----------------------------------------------------------------------------------------------------\n",
            "2024-11-06 10:36:44,531 EPOCH 21 done: loss 0.2720 - lr: 0.010000\n"
          ]
        },
        {
          "output_type": "stream",
          "name": "stderr",
          "text": [
            "100%|██████████| 1/1 [00:08<00:00,  8.94s/it]"
          ]
        },
        {
          "output_type": "stream",
          "name": "stdout",
          "text": [
            "2024-11-06 10:36:53,516 DEV : loss 0.37051740288734436 - f1-score (micro avg)  0.0\n",
            "2024-11-06 10:36:53,536  - 0 epochs without improvement\n",
            "2024-11-06 10:36:53,537 ----------------------------------------------------------------------------------------------------\n"
          ]
        },
        {
          "output_type": "stream",
          "name": "stderr",
          "text": [
            "\n"
          ]
        },
        {
          "output_type": "stream",
          "name": "stdout",
          "text": [
            "2024-11-06 10:36:55,638 epoch 22 - iter 6/67 - loss 0.29985075 - time (sec): 2.10 - samples/sec: 2587.56 - lr: 0.010000 - momentum: 0.000000\n",
            "2024-11-06 10:36:58,091 epoch 22 - iter 12/67 - loss 0.29631150 - time (sec): 4.55 - samples/sec: 2251.71 - lr: 0.010000 - momentum: 0.000000\n",
            "2024-11-06 10:37:01,129 epoch 22 - iter 18/67 - loss 0.25997924 - time (sec): 7.59 - samples/sec: 2339.32 - lr: 0.010000 - momentum: 0.000000\n",
            "2024-11-06 10:37:05,025 epoch 22 - iter 24/67 - loss 0.26236164 - time (sec): 11.48 - samples/sec: 2195.48 - lr: 0.010000 - momentum: 0.000000\n",
            "2024-11-06 10:37:07,339 epoch 22 - iter 30/67 - loss 0.26024104 - time (sec): 13.80 - samples/sec: 2190.41 - lr: 0.010000 - momentum: 0.000000\n",
            "2024-11-06 10:37:09,803 epoch 22 - iter 36/67 - loss 0.25624333 - time (sec): 16.26 - samples/sec: 2147.82 - lr: 0.010000 - momentum: 0.000000\n",
            "2024-11-06 10:37:13,017 epoch 22 - iter 42/67 - loss 0.25865248 - time (sec): 19.48 - samples/sec: 2140.49 - lr: 0.010000 - momentum: 0.000000\n",
            "2024-11-06 10:37:16,502 epoch 22 - iter 48/67 - loss 0.25378678 - time (sec): 22.96 - samples/sec: 2183.39 - lr: 0.010000 - momentum: 0.000000\n",
            "2024-11-06 10:37:19,703 epoch 22 - iter 54/67 - loss 0.25607789 - time (sec): 26.16 - samples/sec: 2157.78 - lr: 0.010000 - momentum: 0.000000\n",
            "2024-11-06 10:37:22,412 epoch 22 - iter 60/67 - loss 0.25615862 - time (sec): 28.87 - samples/sec: 2154.96 - lr: 0.010000 - momentum: 0.000000\n",
            "2024-11-06 10:37:25,066 epoch 22 - iter 66/67 - loss 0.26197145 - time (sec): 31.53 - samples/sec: 2143.44 - lr: 0.010000 - momentum: 0.000000\n",
            "2024-11-06 10:37:25,422 ----------------------------------------------------------------------------------------------------\n",
            "2024-11-06 10:37:25,424 EPOCH 22 done: loss 0.2604 - lr: 0.010000\n"
          ]
        },
        {
          "output_type": "stream",
          "name": "stderr",
          "text": [
            "100%|██████████| 1/1 [00:08<00:00,  8.40s/it]"
          ]
        },
        {
          "output_type": "stream",
          "name": "stdout",
          "text": [
            "2024-11-06 10:37:33,904 DEV : loss 0.36912602186203003 - f1-score (micro avg)  0.0\n",
            "2024-11-06 10:37:33,957  - 0 epochs without improvement\n",
            "2024-11-06 10:37:33,959 ----------------------------------------------------------------------------------------------------\n"
          ]
        },
        {
          "output_type": "stream",
          "name": "stderr",
          "text": [
            "\n"
          ]
        },
        {
          "output_type": "stream",
          "name": "stdout",
          "text": [
            "2024-11-06 10:37:37,126 epoch 23 - iter 6/67 - loss 0.27439863 - time (sec): 3.16 - samples/sec: 1785.25 - lr: 0.010000 - momentum: 0.000000\n",
            "2024-11-06 10:37:39,263 epoch 23 - iter 12/67 - loss 0.28372295 - time (sec): 5.30 - samples/sec: 1926.89 - lr: 0.010000 - momentum: 0.000000\n",
            "2024-11-06 10:37:42,542 epoch 23 - iter 18/67 - loss 0.28119565 - time (sec): 8.58 - samples/sec: 1909.88 - lr: 0.010000 - momentum: 0.000000\n",
            "2024-11-06 10:37:45,683 epoch 23 - iter 24/67 - loss 0.27949775 - time (sec): 11.72 - samples/sec: 1924.33 - lr: 0.010000 - momentum: 0.000000\n",
            "2024-11-06 10:37:48,843 epoch 23 - iter 30/67 - loss 0.26095977 - time (sec): 14.88 - samples/sec: 2095.81 - lr: 0.010000 - momentum: 0.000000\n",
            "2024-11-06 10:37:52,093 epoch 23 - iter 36/67 - loss 0.24700153 - time (sec): 18.13 - samples/sec: 2076.37 - lr: 0.010000 - momentum: 0.000000\n",
            "2024-11-06 10:37:55,485 epoch 23 - iter 42/67 - loss 0.23965479 - time (sec): 21.52 - samples/sec: 2103.23 - lr: 0.010000 - momentum: 0.000000\n",
            "2024-11-06 10:37:58,595 epoch 23 - iter 48/67 - loss 0.24396525 - time (sec): 24.63 - samples/sec: 2107.18 - lr: 0.010000 - momentum: 0.000000\n",
            "2024-11-06 10:38:01,330 epoch 23 - iter 54/67 - loss 0.24291841 - time (sec): 27.36 - samples/sec: 2113.37 - lr: 0.010000 - momentum: 0.000000\n",
            "2024-11-06 10:38:04,195 epoch 23 - iter 60/67 - loss 0.24481636 - time (sec): 30.23 - samples/sec: 2094.67 - lr: 0.010000 - momentum: 0.000000\n",
            "2024-11-06 10:38:06,449 epoch 23 - iter 66/67 - loss 0.24607402 - time (sec): 32.48 - samples/sec: 2100.08 - lr: 0.010000 - momentum: 0.000000\n",
            "2024-11-06 10:38:06,691 ----------------------------------------------------------------------------------------------------\n",
            "2024-11-06 10:38:06,693 EPOCH 23 done: loss 0.2469 - lr: 0.010000\n"
          ]
        },
        {
          "output_type": "stream",
          "name": "stderr",
          "text": [
            "100%|██████████| 1/1 [00:06<00:00,  6.71s/it]"
          ]
        },
        {
          "output_type": "stream",
          "name": "stdout",
          "text": [
            "2024-11-06 10:38:13,454 DEV : loss 0.36991575360298157 - f1-score (micro avg)  0.0\n",
            "2024-11-06 10:38:13,474  - 1 epochs without improvement\n",
            "2024-11-06 10:38:13,477 ----------------------------------------------------------------------------------------------------\n"
          ]
        },
        {
          "output_type": "stream",
          "name": "stderr",
          "text": [
            "\n"
          ]
        },
        {
          "output_type": "stream",
          "name": "stdout",
          "text": [
            "2024-11-06 10:38:16,597 epoch 24 - iter 6/67 - loss 0.24186739 - time (sec): 3.12 - samples/sec: 2466.81 - lr: 0.010000 - momentum: 0.000000\n",
            "2024-11-06 10:38:20,264 epoch 24 - iter 12/67 - loss 0.21730512 - time (sec): 6.78 - samples/sec: 2195.72 - lr: 0.010000 - momentum: 0.000000\n",
            "2024-11-06 10:38:22,882 epoch 24 - iter 18/67 - loss 0.24717872 - time (sec): 9.40 - samples/sec: 2106.85 - lr: 0.010000 - momentum: 0.000000\n",
            "2024-11-06 10:38:25,633 epoch 24 - iter 24/67 - loss 0.23685257 - time (sec): 12.15 - samples/sec: 2206.37 - lr: 0.010000 - momentum: 0.000000\n",
            "2024-11-06 10:38:28,344 epoch 24 - iter 30/67 - loss 0.24366653 - time (sec): 14.86 - samples/sec: 2203.88 - lr: 0.010000 - momentum: 0.000000\n",
            "2024-11-06 10:38:30,793 epoch 24 - iter 36/67 - loss 0.24289271 - time (sec): 17.31 - samples/sec: 2174.24 - lr: 0.010000 - momentum: 0.000000\n",
            "2024-11-06 10:38:33,253 epoch 24 - iter 42/67 - loss 0.24554889 - time (sec): 19.77 - samples/sec: 2158.05 - lr: 0.010000 - momentum: 0.000000\n",
            "2024-11-06 10:38:35,434 epoch 24 - iter 48/67 - loss 0.24537911 - time (sec): 21.95 - samples/sec: 2209.79 - lr: 0.010000 - momentum: 0.000000\n",
            "2024-11-06 10:38:38,036 epoch 24 - iter 54/67 - loss 0.24153907 - time (sec): 24.56 - samples/sec: 2215.41 - lr: 0.010000 - momentum: 0.000000\n",
            "2024-11-06 10:38:40,974 epoch 24 - iter 60/67 - loss 0.24468218 - time (sec): 27.49 - samples/sec: 2245.43 - lr: 0.010000 - momentum: 0.000000\n",
            "2024-11-06 10:38:44,297 epoch 24 - iter 66/67 - loss 0.24616952 - time (sec): 30.82 - samples/sec: 2188.62 - lr: 0.010000 - momentum: 0.000000\n",
            "2024-11-06 10:38:44,633 ----------------------------------------------------------------------------------------------------\n",
            "2024-11-06 10:38:44,635 EPOCH 24 done: loss 0.2457 - lr: 0.010000\n"
          ]
        },
        {
          "output_type": "stream",
          "name": "stderr",
          "text": [
            "100%|██████████| 1/1 [00:08<00:00,  8.90s/it]"
          ]
        },
        {
          "output_type": "stream",
          "name": "stdout",
          "text": [
            "2024-11-06 10:38:53,579 DEV : loss 0.36820122599601746 - f1-score (micro avg)  0.0\n",
            "2024-11-06 10:38:53,599  - 0 epochs without improvement\n",
            "2024-11-06 10:38:53,601 ----------------------------------------------------------------------------------------------------\n"
          ]
        },
        {
          "output_type": "stream",
          "name": "stderr",
          "text": [
            "\n"
          ]
        },
        {
          "output_type": "stream",
          "name": "stdout",
          "text": [
            "2024-11-06 10:38:56,332 epoch 25 - iter 6/67 - loss 0.25315336 - time (sec): 2.73 - samples/sec: 2297.97 - lr: 0.010000 - momentum: 0.000000\n",
            "2024-11-06 10:38:59,806 epoch 25 - iter 12/67 - loss 0.24993102 - time (sec): 6.20 - samples/sec: 2153.58 - lr: 0.010000 - momentum: 0.000000\n",
            "2024-11-06 10:39:02,169 epoch 25 - iter 18/67 - loss 0.25187835 - time (sec): 8.56 - samples/sec: 2119.78 - lr: 0.010000 - momentum: 0.000000\n",
            "2024-11-06 10:39:04,392 epoch 25 - iter 24/67 - loss 0.24672804 - time (sec): 10.79 - samples/sec: 2210.99 - lr: 0.010000 - momentum: 0.000000\n",
            "2024-11-06 10:39:07,294 epoch 25 - iter 30/67 - loss 0.25812664 - time (sec): 13.69 - samples/sec: 2156.04 - lr: 0.010000 - momentum: 0.000000\n",
            "2024-11-06 10:39:09,710 epoch 25 - iter 36/67 - loss 0.25581859 - time (sec): 16.11 - samples/sec: 2177.29 - lr: 0.010000 - momentum: 0.000000\n",
            "2024-11-06 10:39:12,687 epoch 25 - iter 42/67 - loss 0.24789295 - time (sec): 19.08 - samples/sec: 2176.95 - lr: 0.010000 - momentum: 0.000000\n",
            "2024-11-06 10:39:15,349 epoch 25 - iter 48/67 - loss 0.24562177 - time (sec): 21.74 - samples/sec: 2118.84 - lr: 0.010000 - momentum: 0.000000\n",
            "2024-11-06 10:39:18,071 epoch 25 - iter 54/67 - loss 0.23849094 - time (sec): 24.47 - samples/sec: 2155.50 - lr: 0.010000 - momentum: 0.000000\n",
            "2024-11-06 10:39:22,009 epoch 25 - iter 60/67 - loss 0.23816760 - time (sec): 28.40 - samples/sec: 2129.79 - lr: 0.010000 - momentum: 0.000000\n",
            "2024-11-06 10:39:24,694 epoch 25 - iter 66/67 - loss 0.24110631 - time (sec): 31.09 - samples/sec: 2141.98 - lr: 0.010000 - momentum: 0.000000\n",
            "2024-11-06 10:39:25,263 ----------------------------------------------------------------------------------------------------\n",
            "2024-11-06 10:39:25,265 EPOCH 25 done: loss 0.2389 - lr: 0.010000\n"
          ]
        },
        {
          "output_type": "stream",
          "name": "stderr",
          "text": [
            "100%|██████████| 1/1 [00:09<00:00,  9.08s/it]"
          ]
        },
        {
          "output_type": "stream",
          "name": "stdout",
          "text": [
            "2024-11-06 10:39:34,401 DEV : loss 0.3651423156261444 - f1-score (micro avg)  0.0\n",
            "2024-11-06 10:39:34,422  - 0 epochs without improvement\n",
            "2024-11-06 10:39:34,425 ----------------------------------------------------------------------------------------------------\n"
          ]
        },
        {
          "output_type": "stream",
          "name": "stderr",
          "text": [
            "\n"
          ]
        },
        {
          "output_type": "stream",
          "name": "stdout",
          "text": [
            "2024-11-06 10:39:37,138 epoch 26 - iter 6/67 - loss 0.25539664 - time (sec): 2.71 - samples/sec: 2422.62 - lr: 0.010000 - momentum: 0.000000\n",
            "2024-11-06 10:39:40,853 epoch 26 - iter 12/67 - loss 0.24822648 - time (sec): 6.42 - samples/sec: 2225.65 - lr: 0.010000 - momentum: 0.000000\n",
            "2024-11-06 10:39:43,375 epoch 26 - iter 18/67 - loss 0.23637572 - time (sec): 8.95 - samples/sec: 2214.99 - lr: 0.010000 - momentum: 0.000000\n",
            "2024-11-06 10:39:46,160 epoch 26 - iter 24/67 - loss 0.23405385 - time (sec): 11.73 - samples/sec: 2245.99 - lr: 0.010000 - momentum: 0.000000\n",
            "2024-11-06 10:39:48,451 epoch 26 - iter 30/67 - loss 0.24367831 - time (sec): 14.02 - samples/sec: 2209.45 - lr: 0.010000 - momentum: 0.000000\n",
            "2024-11-06 10:39:50,550 epoch 26 - iter 36/67 - loss 0.25025783 - time (sec): 16.12 - samples/sec: 2209.20 - lr: 0.010000 - momentum: 0.000000\n",
            "2024-11-06 10:39:53,260 epoch 26 - iter 42/67 - loss 0.24605959 - time (sec): 18.83 - samples/sec: 2176.00 - lr: 0.010000 - momentum: 0.000000\n",
            "2024-11-06 10:39:56,809 epoch 26 - iter 48/67 - loss 0.23290663 - time (sec): 22.38 - samples/sec: 2216.77 - lr: 0.010000 - momentum: 0.000000\n",
            "2024-11-06 10:39:59,744 epoch 26 - iter 54/67 - loss 0.22783428 - time (sec): 25.32 - samples/sec: 2177.89 - lr: 0.010000 - momentum: 0.000000\n",
            "2024-11-06 10:40:02,861 epoch 26 - iter 60/67 - loss 0.22498275 - time (sec): 28.43 - samples/sec: 2170.56 - lr: 0.010000 - momentum: 0.000000\n",
            "2024-11-06 10:40:05,441 epoch 26 - iter 66/67 - loss 0.22940262 - time (sec): 31.01 - samples/sec: 2163.49 - lr: 0.010000 - momentum: 0.000000\n",
            "2024-11-06 10:40:05,864 ----------------------------------------------------------------------------------------------------\n",
            "2024-11-06 10:40:05,866 EPOCH 26 done: loss 0.2281 - lr: 0.010000\n"
          ]
        },
        {
          "output_type": "stream",
          "name": "stderr",
          "text": [
            "100%|██████████| 1/1 [00:08<00:00,  8.79s/it]"
          ]
        },
        {
          "output_type": "stream",
          "name": "stdout",
          "text": [
            "2024-11-06 10:40:14,708 DEV : loss 0.3638223111629486 - f1-score (micro avg)  0.0\n",
            "2024-11-06 10:40:14,735  - 0 epochs without improvement\n",
            "2024-11-06 10:40:14,736 ----------------------------------------------------------------------------------------------------\n"
          ]
        },
        {
          "output_type": "stream",
          "name": "stderr",
          "text": [
            "\n"
          ]
        },
        {
          "output_type": "stream",
          "name": "stdout",
          "text": [
            "2024-11-06 10:40:17,437 epoch 27 - iter 6/67 - loss 0.24353820 - time (sec): 2.70 - samples/sec: 1863.29 - lr: 0.010000 - momentum: 0.000000\n",
            "2024-11-06 10:40:20,941 epoch 27 - iter 12/67 - loss 0.20894408 - time (sec): 6.20 - samples/sec: 2137.45 - lr: 0.010000 - momentum: 0.000000\n",
            "2024-11-06 10:40:23,083 epoch 27 - iter 18/67 - loss 0.21266704 - time (sec): 8.34 - samples/sec: 2206.02 - lr: 0.010000 - momentum: 0.000000\n",
            "2024-11-06 10:40:25,950 epoch 27 - iter 24/67 - loss 0.21296696 - time (sec): 11.21 - samples/sec: 2171.45 - lr: 0.010000 - momentum: 0.000000\n",
            "2024-11-06 10:40:28,910 epoch 27 - iter 30/67 - loss 0.20920290 - time (sec): 14.17 - samples/sec: 2203.89 - lr: 0.010000 - momentum: 0.000000\n",
            "2024-11-06 10:40:31,611 epoch 27 - iter 36/67 - loss 0.21981705 - time (sec): 16.87 - samples/sec: 2217.41 - lr: 0.010000 - momentum: 0.000000\n",
            "2024-11-06 10:40:35,004 epoch 27 - iter 42/67 - loss 0.21495505 - time (sec): 20.26 - samples/sec: 2159.76 - lr: 0.010000 - momentum: 0.000000\n",
            "2024-11-06 10:40:38,535 epoch 27 - iter 48/67 - loss 0.21796120 - time (sec): 23.79 - samples/sec: 2122.48 - lr: 0.010000 - momentum: 0.000000\n",
            "2024-11-06 10:40:41,073 epoch 27 - iter 54/67 - loss 0.22210229 - time (sec): 26.33 - samples/sec: 2101.91 - lr: 0.010000 - momentum: 0.000000\n",
            "2024-11-06 10:40:43,525 epoch 27 - iter 60/67 - loss 0.21885222 - time (sec): 28.78 - samples/sec: 2159.67 - lr: 0.010000 - momentum: 0.000000\n",
            "2024-11-06 10:40:46,217 epoch 27 - iter 66/67 - loss 0.21976523 - time (sec): 31.48 - samples/sec: 2146.66 - lr: 0.010000 - momentum: 0.000000\n",
            "2024-11-06 10:40:46,725 ----------------------------------------------------------------------------------------------------\n",
            "2024-11-06 10:40:46,727 EPOCH 27 done: loss 0.2209 - lr: 0.010000\n"
          ]
        },
        {
          "output_type": "stream",
          "name": "stderr",
          "text": [
            "100%|██████████| 1/1 [00:08<00:00,  8.97s/it]"
          ]
        },
        {
          "output_type": "stream",
          "name": "stdout",
          "text": [
            "2024-11-06 10:40:55,749 DEV : loss 0.3650190532207489 - f1-score (micro avg)  0.0\n",
            "2024-11-06 10:40:55,770  - 1 epochs without improvement\n",
            "2024-11-06 10:40:55,772 ----------------------------------------------------------------------------------------------------\n"
          ]
        },
        {
          "output_type": "stream",
          "name": "stderr",
          "text": [
            "\n"
          ]
        },
        {
          "output_type": "stream",
          "name": "stdout",
          "text": [
            "2024-11-06 10:40:58,999 epoch 28 - iter 6/67 - loss 0.21861776 - time (sec): 3.22 - samples/sec: 2131.11 - lr: 0.010000 - momentum: 0.000000\n",
            "2024-11-06 10:41:01,111 epoch 28 - iter 12/67 - loss 0.23228598 - time (sec): 5.34 - samples/sec: 2243.15 - lr: 0.010000 - momentum: 0.000000\n",
            "2024-11-06 10:41:04,362 epoch 28 - iter 18/67 - loss 0.20150536 - time (sec): 8.59 - samples/sec: 2231.25 - lr: 0.010000 - momentum: 0.000000\n",
            "2024-11-06 10:41:07,309 epoch 28 - iter 24/67 - loss 0.20711431 - time (sec): 11.53 - samples/sec: 2160.69 - lr: 0.010000 - momentum: 0.000000\n",
            "2024-11-06 10:41:10,277 epoch 28 - iter 30/67 - loss 0.21260625 - time (sec): 14.50 - samples/sec: 2154.64 - lr: 0.010000 - momentum: 0.000000\n",
            "2024-11-06 10:41:12,813 epoch 28 - iter 36/67 - loss 0.21242184 - time (sec): 17.04 - samples/sec: 2154.63 - lr: 0.010000 - momentum: 0.000000\n",
            "2024-11-06 10:41:15,740 epoch 28 - iter 42/67 - loss 0.21278257 - time (sec): 19.96 - samples/sec: 2172.20 - lr: 0.010000 - momentum: 0.000000\n",
            "2024-11-06 10:41:18,463 epoch 28 - iter 48/67 - loss 0.21615960 - time (sec): 22.69 - samples/sec: 2117.07 - lr: 0.010000 - momentum: 0.000000\n",
            "2024-11-06 10:41:21,984 epoch 28 - iter 54/67 - loss 0.21298968 - time (sec): 26.21 - samples/sec: 2129.28 - lr: 0.010000 - momentum: 0.000000\n",
            "2024-11-06 10:41:24,561 epoch 28 - iter 60/67 - loss 0.21420927 - time (sec): 28.79 - samples/sec: 2099.93 - lr: 0.010000 - momentum: 0.000000\n",
            "2024-11-06 10:41:27,628 epoch 28 - iter 66/67 - loss 0.21191322 - time (sec): 31.85 - samples/sec: 2116.09 - lr: 0.010000 - momentum: 0.000000\n",
            "2024-11-06 10:41:27,945 ----------------------------------------------------------------------------------------------------\n",
            "2024-11-06 10:41:27,946 EPOCH 28 done: loss 0.2138 - lr: 0.010000\n"
          ]
        },
        {
          "output_type": "stream",
          "name": "stderr",
          "text": [
            "100%|██████████| 1/1 [00:07<00:00,  7.42s/it]"
          ]
        },
        {
          "output_type": "stream",
          "name": "stdout",
          "text": [
            "2024-11-06 10:41:35,434 DEV : loss 0.36470699310302734 - f1-score (micro avg)  0.0\n",
            "2024-11-06 10:41:35,477  - 2 epochs without improvement\n",
            "2024-11-06 10:41:35,482 ----------------------------------------------------------------------------------------------------\n"
          ]
        },
        {
          "output_type": "stream",
          "name": "stderr",
          "text": [
            "\n"
          ]
        },
        {
          "output_type": "stream",
          "name": "stdout",
          "text": [
            "2024-11-06 10:41:38,362 epoch 29 - iter 6/67 - loss 0.19670081 - time (sec): 2.88 - samples/sec: 1681.01 - lr: 0.010000 - momentum: 0.000000\n",
            "2024-11-06 10:41:41,732 epoch 29 - iter 12/67 - loss 0.17945686 - time (sec): 6.25 - samples/sec: 2005.03 - lr: 0.010000 - momentum: 0.000000\n",
            "2024-11-06 10:41:44,501 epoch 29 - iter 18/67 - loss 0.19171793 - time (sec): 9.02 - samples/sec: 2053.15 - lr: 0.010000 - momentum: 0.000000\n",
            "2024-11-06 10:41:47,215 epoch 29 - iter 24/67 - loss 0.20481121 - time (sec): 11.73 - samples/sec: 2052.96 - lr: 0.010000 - momentum: 0.000000\n",
            "2024-11-06 10:41:50,121 epoch 29 - iter 30/67 - loss 0.20988637 - time (sec): 14.64 - samples/sec: 2018.89 - lr: 0.010000 - momentum: 0.000000\n",
            "2024-11-06 10:41:53,192 epoch 29 - iter 36/67 - loss 0.20532577 - time (sec): 17.71 - samples/sec: 1999.81 - lr: 0.010000 - momentum: 0.000000\n",
            "2024-11-06 10:41:56,514 epoch 29 - iter 42/67 - loss 0.20708647 - time (sec): 21.03 - samples/sec: 2033.35 - lr: 0.010000 - momentum: 0.000000\n",
            "2024-11-06 10:41:59,037 epoch 29 - iter 48/67 - loss 0.20724413 - time (sec): 23.55 - samples/sec: 2043.98 - lr: 0.010000 - momentum: 0.000000\n",
            "2024-11-06 10:42:01,833 epoch 29 - iter 54/67 - loss 0.21002194 - time (sec): 26.35 - samples/sec: 2074.68 - lr: 0.010000 - momentum: 0.000000\n",
            "2024-11-06 10:42:05,056 epoch 29 - iter 60/67 - loss 0.21077053 - time (sec): 29.57 - samples/sec: 2066.10 - lr: 0.010000 - momentum: 0.000000\n",
            "2024-11-06 10:42:07,862 epoch 29 - iter 66/67 - loss 0.20940731 - time (sec): 32.38 - samples/sec: 2075.72 - lr: 0.010000 - momentum: 0.000000\n",
            "2024-11-06 10:42:08,431 ----------------------------------------------------------------------------------------------------\n",
            "2024-11-06 10:42:08,432 EPOCH 29 done: loss 0.2089 - lr: 0.010000\n"
          ]
        },
        {
          "output_type": "stream",
          "name": "stderr",
          "text": [
            "100%|██████████| 1/1 [00:07<00:00,  7.01s/it]"
          ]
        },
        {
          "output_type": "stream",
          "name": "stdout",
          "text": [
            "2024-11-06 10:42:15,492 DEV : loss 0.3634025752544403 - f1-score (micro avg)  0.0\n",
            "2024-11-06 10:42:15,512  - 0 epochs without improvement\n",
            "2024-11-06 10:42:15,514 ----------------------------------------------------------------------------------------------------\n"
          ]
        },
        {
          "output_type": "stream",
          "name": "stderr",
          "text": [
            "\n"
          ]
        },
        {
          "output_type": "stream",
          "name": "stdout",
          "text": [
            "2024-11-06 10:42:18,259 epoch 30 - iter 6/67 - loss 0.16767749 - time (sec): 2.74 - samples/sec: 2286.10 - lr: 0.010000 - momentum: 0.000000\n",
            "2024-11-06 10:42:20,683 epoch 30 - iter 12/67 - loss 0.18782481 - time (sec): 5.17 - samples/sec: 2375.62 - lr: 0.010000 - momentum: 0.000000\n",
            "2024-11-06 10:42:23,838 epoch 30 - iter 18/67 - loss 0.20784101 - time (sec): 8.32 - samples/sec: 2229.84 - lr: 0.010000 - momentum: 0.000000\n",
            "2024-11-06 10:42:26,007 epoch 30 - iter 24/67 - loss 0.21257201 - time (sec): 10.49 - samples/sec: 2282.63 - lr: 0.010000 - momentum: 0.000000\n",
            "2024-11-06 10:42:29,354 epoch 30 - iter 30/67 - loss 0.20925982 - time (sec): 13.84 - samples/sec: 2173.21 - lr: 0.010000 - momentum: 0.000000\n",
            "2024-11-06 10:42:31,486 epoch 30 - iter 36/67 - loss 0.21083281 - time (sec): 15.97 - samples/sec: 2149.26 - lr: 0.010000 - momentum: 0.000000\n",
            "2024-11-06 10:42:34,786 epoch 30 - iter 42/67 - loss 0.20390035 - time (sec): 19.27 - samples/sec: 2181.31 - lr: 0.010000 - momentum: 0.000000\n",
            "2024-11-06 10:42:37,785 epoch 30 - iter 48/67 - loss 0.20021854 - time (sec): 22.27 - samples/sec: 2155.34 - lr: 0.010000 - momentum: 0.000000\n",
            "2024-11-06 10:42:40,269 epoch 30 - iter 54/67 - loss 0.19891381 - time (sec): 24.75 - samples/sec: 2134.46 - lr: 0.010000 - momentum: 0.000000\n",
            "2024-11-06 10:42:43,075 epoch 30 - iter 60/67 - loss 0.20296483 - time (sec): 27.56 - samples/sec: 2167.54 - lr: 0.010000 - momentum: 0.000000\n",
            "2024-11-06 10:42:46,821 epoch 30 - iter 66/67 - loss 0.20209668 - time (sec): 31.30 - samples/sec: 2144.18 - lr: 0.010000 - momentum: 0.000000\n",
            "2024-11-06 10:42:47,347 ----------------------------------------------------------------------------------------------------\n",
            "2024-11-06 10:42:47,351 EPOCH 30 done: loss 0.2033 - lr: 0.010000\n"
          ]
        },
        {
          "output_type": "stream",
          "name": "stderr",
          "text": [
            "100%|██████████| 1/1 [00:07<00:00,  7.38s/it]"
          ]
        },
        {
          "output_type": "stream",
          "name": "stdout",
          "text": [
            "2024-11-06 10:42:54,779 DEV : loss 0.36349794268608093 - f1-score (micro avg)  0.0\n",
            "2024-11-06 10:42:54,799  - 1 epochs without improvement\n",
            "2024-11-06 10:42:54,800 ----------------------------------------------------------------------------------------------------\n"
          ]
        },
        {
          "output_type": "stream",
          "name": "stderr",
          "text": [
            "\n"
          ]
        },
        {
          "output_type": "stream",
          "name": "stdout",
          "text": [
            "2024-11-06 10:42:57,933 epoch 31 - iter 6/67 - loss 0.18696682 - time (sec): 3.13 - samples/sec: 1824.62 - lr: 0.010000 - momentum: 0.000000\n",
            "2024-11-06 10:43:01,545 epoch 31 - iter 12/67 - loss 0.18330071 - time (sec): 6.74 - samples/sec: 1891.70 - lr: 0.010000 - momentum: 0.000000\n",
            "2024-11-06 10:43:04,437 epoch 31 - iter 18/67 - loss 0.18019150 - time (sec): 9.63 - samples/sec: 2033.06 - lr: 0.010000 - momentum: 0.000000\n",
            "2024-11-06 10:43:07,104 epoch 31 - iter 24/67 - loss 0.18261205 - time (sec): 12.30 - samples/sec: 2066.16 - lr: 0.010000 - momentum: 0.000000\n",
            "2024-11-06 10:43:10,062 epoch 31 - iter 30/67 - loss 0.18669643 - time (sec): 15.26 - samples/sec: 2062.30 - lr: 0.010000 - momentum: 0.000000\n",
            "2024-11-06 10:43:12,927 epoch 31 - iter 36/67 - loss 0.19029290 - time (sec): 18.12 - samples/sec: 2137.97 - lr: 0.010000 - momentum: 0.000000\n",
            "2024-11-06 10:43:15,698 epoch 31 - iter 42/67 - loss 0.19048570 - time (sec): 20.89 - samples/sec: 2089.78 - lr: 0.010000 - momentum: 0.000000\n",
            "2024-11-06 10:43:18,173 epoch 31 - iter 48/67 - loss 0.19424175 - time (sec): 23.37 - samples/sec: 2107.13 - lr: 0.010000 - momentum: 0.000000\n",
            "2024-11-06 10:43:20,873 epoch 31 - iter 54/67 - loss 0.19390526 - time (sec): 26.07 - samples/sec: 2136.05 - lr: 0.010000 - momentum: 0.000000\n",
            "2024-11-06 10:43:23,427 epoch 31 - iter 60/67 - loss 0.19198919 - time (sec): 28.62 - samples/sec: 2162.14 - lr: 0.010000 - momentum: 0.000000\n",
            "2024-11-06 10:43:26,441 epoch 31 - iter 66/67 - loss 0.18931267 - time (sec): 31.64 - samples/sec: 2153.50 - lr: 0.010000 - momentum: 0.000000\n",
            "2024-11-06 10:43:26,735 ----------------------------------------------------------------------------------------------------\n",
            "2024-11-06 10:43:26,741 EPOCH 31 done: loss 0.1901 - lr: 0.010000\n"
          ]
        },
        {
          "output_type": "stream",
          "name": "stderr",
          "text": [
            "100%|██████████| 1/1 [00:08<00:00,  8.71s/it]"
          ]
        },
        {
          "output_type": "stream",
          "name": "stdout",
          "text": [
            "2024-11-06 10:43:35,511 DEV : loss 0.3652862012386322 - f1-score (micro avg)  0.0\n",
            "2024-11-06 10:43:35,533  - 2 epochs without improvement\n",
            "2024-11-06 10:43:35,534 ----------------------------------------------------------------------------------------------------\n"
          ]
        },
        {
          "output_type": "stream",
          "name": "stderr",
          "text": [
            "\n"
          ]
        },
        {
          "output_type": "stream",
          "name": "stdout",
          "text": [
            "2024-11-06 10:43:38,713 epoch 32 - iter 6/67 - loss 0.25020840 - time (sec): 3.17 - samples/sec: 2303.92 - lr: 0.010000 - momentum: 0.000000\n",
            "2024-11-06 10:43:41,187 epoch 32 - iter 12/67 - loss 0.23169178 - time (sec): 5.65 - samples/sec: 2232.71 - lr: 0.010000 - momentum: 0.000000\n",
            "2024-11-06 10:43:44,073 epoch 32 - iter 18/67 - loss 0.21427052 - time (sec): 8.53 - samples/sec: 2191.32 - lr: 0.010000 - momentum: 0.000000\n",
            "2024-11-06 10:43:45,931 epoch 32 - iter 24/67 - loss 0.22428790 - time (sec): 10.39 - samples/sec: 2208.03 - lr: 0.010000 - momentum: 0.000000\n",
            "2024-11-06 10:43:48,630 epoch 32 - iter 30/67 - loss 0.21343332 - time (sec): 13.09 - samples/sec: 2185.21 - lr: 0.010000 - momentum: 0.000000\n",
            "2024-11-06 10:43:51,437 epoch 32 - iter 36/67 - loss 0.19965857 - time (sec): 15.90 - samples/sec: 2167.66 - lr: 0.010000 - momentum: 0.000000\n",
            "2024-11-06 10:43:53,471 epoch 32 - iter 42/67 - loss 0.20155744 - time (sec): 17.93 - samples/sec: 2202.36 - lr: 0.010000 - momentum: 0.000000\n",
            "2024-11-06 10:43:56,216 epoch 32 - iter 48/67 - loss 0.19925138 - time (sec): 20.68 - samples/sec: 2178.76 - lr: 0.010000 - momentum: 0.000000\n",
            "2024-11-06 10:43:59,478 epoch 32 - iter 54/67 - loss 0.19649802 - time (sec): 23.94 - samples/sec: 2208.10 - lr: 0.010000 - momentum: 0.000000\n",
            "2024-11-06 10:44:02,532 epoch 32 - iter 60/67 - loss 0.19165727 - time (sec): 26.99 - samples/sec: 2202.77 - lr: 0.010000 - momentum: 0.000000\n",
            "2024-11-06 10:44:06,044 epoch 32 - iter 66/67 - loss 0.19209614 - time (sec): 30.51 - samples/sec: 2212.49 - lr: 0.010000 - momentum: 0.000000\n",
            "2024-11-06 10:44:06,601 ----------------------------------------------------------------------------------------------------\n",
            "2024-11-06 10:44:06,602 EPOCH 32 done: loss 0.1923 - lr: 0.010000\n"
          ]
        },
        {
          "output_type": "stream",
          "name": "stderr",
          "text": [
            "100%|██████████| 1/1 [00:09<00:00,  9.10s/it]"
          ]
        },
        {
          "output_type": "stream",
          "name": "stdout",
          "text": [
            "2024-11-06 10:44:15,760 DEV : loss 0.3621325194835663 - f1-score (micro avg)  0.0\n",
            "2024-11-06 10:44:15,782  - 0 epochs without improvement\n",
            "2024-11-06 10:44:15,784 ----------------------------------------------------------------------------------------------------\n"
          ]
        },
        {
          "output_type": "stream",
          "name": "stderr",
          "text": [
            "\n"
          ]
        },
        {
          "output_type": "stream",
          "name": "stdout",
          "text": [
            "2024-11-06 10:44:19,321 epoch 33 - iter 6/67 - loss 0.13974126 - time (sec): 3.53 - samples/sec: 2046.36 - lr: 0.010000 - momentum: 0.000000\n",
            "2024-11-06 10:44:21,981 epoch 33 - iter 12/67 - loss 0.14663339 - time (sec): 6.19 - samples/sec: 2124.24 - lr: 0.010000 - momentum: 0.000000\n",
            "2024-11-06 10:44:24,079 epoch 33 - iter 18/67 - loss 0.16756100 - time (sec): 8.29 - samples/sec: 2167.23 - lr: 0.010000 - momentum: 0.000000\n",
            "2024-11-06 10:44:26,716 epoch 33 - iter 24/67 - loss 0.17407269 - time (sec): 10.93 - samples/sec: 2149.20 - lr: 0.010000 - momentum: 0.000000\n",
            "2024-11-06 10:44:29,179 epoch 33 - iter 30/67 - loss 0.16860193 - time (sec): 13.39 - samples/sec: 2059.38 - lr: 0.010000 - momentum: 0.000000\n",
            "2024-11-06 10:44:31,795 epoch 33 - iter 36/67 - loss 0.16559124 - time (sec): 16.01 - samples/sec: 2108.00 - lr: 0.010000 - momentum: 0.000000\n",
            "2024-11-06 10:44:35,870 epoch 33 - iter 42/67 - loss 0.17353451 - time (sec): 20.08 - samples/sec: 2103.09 - lr: 0.010000 - momentum: 0.000000\n",
            "2024-11-06 10:44:38,972 epoch 33 - iter 48/67 - loss 0.17455189 - time (sec): 23.18 - samples/sec: 2133.53 - lr: 0.010000 - momentum: 0.000000\n",
            "2024-11-06 10:44:41,614 epoch 33 - iter 54/67 - loss 0.17658983 - time (sec): 25.83 - samples/sec: 2128.19 - lr: 0.010000 - momentum: 0.000000\n",
            "2024-11-06 10:44:44,761 epoch 33 - iter 60/67 - loss 0.17805182 - time (sec): 28.97 - samples/sec: 2151.12 - lr: 0.010000 - momentum: 0.000000\n",
            "2024-11-06 10:44:47,513 epoch 33 - iter 66/67 - loss 0.18145034 - time (sec): 31.72 - samples/sec: 2129.81 - lr: 0.010000 - momentum: 0.000000\n",
            "2024-11-06 10:44:48,097 ----------------------------------------------------------------------------------------------------\n",
            "2024-11-06 10:44:48,099 EPOCH 33 done: loss 0.1815 - lr: 0.010000\n"
          ]
        },
        {
          "output_type": "stream",
          "name": "stderr",
          "text": [
            "100%|██████████| 1/1 [00:09<00:00,  9.16s/it]"
          ]
        },
        {
          "output_type": "stream",
          "name": "stdout",
          "text": [
            "2024-11-06 10:44:57,310 DEV : loss 0.36427757143974304 - f1-score (micro avg)  0.0\n",
            "2024-11-06 10:44:57,330  - 1 epochs without improvement\n",
            "2024-11-06 10:44:57,331 ----------------------------------------------------------------------------------------------------\n"
          ]
        },
        {
          "output_type": "stream",
          "name": "stderr",
          "text": [
            "\n"
          ]
        },
        {
          "output_type": "stream",
          "name": "stdout",
          "text": [
            "2024-11-06 10:44:59,422 epoch 34 - iter 6/67 - loss 0.16337936 - time (sec): 2.09 - samples/sec: 2376.12 - lr: 0.010000 - momentum: 0.000000\n",
            "2024-11-06 10:45:01,877 epoch 34 - iter 12/67 - loss 0.18872791 - time (sec): 4.54 - samples/sec: 2256.66 - lr: 0.010000 - momentum: 0.000000\n",
            "2024-11-06 10:45:04,534 epoch 34 - iter 18/67 - loss 0.18990570 - time (sec): 7.20 - samples/sec: 2241.51 - lr: 0.010000 - momentum: 0.000000\n",
            "2024-11-06 10:45:07,539 epoch 34 - iter 24/67 - loss 0.19059964 - time (sec): 10.20 - samples/sec: 2154.93 - lr: 0.010000 - momentum: 0.000000\n",
            "2024-11-06 10:45:10,286 epoch 34 - iter 30/67 - loss 0.18658376 - time (sec): 12.95 - samples/sec: 2190.49 - lr: 0.010000 - momentum: 0.000000\n",
            "2024-11-06 10:45:13,830 epoch 34 - iter 36/67 - loss 0.18698114 - time (sec): 16.50 - samples/sec: 2132.48 - lr: 0.010000 - momentum: 0.000000\n",
            "2024-11-06 10:45:16,353 epoch 34 - iter 42/67 - loss 0.18784103 - time (sec): 19.02 - samples/sec: 2156.75 - lr: 0.010000 - momentum: 0.000000\n",
            "2024-11-06 10:45:19,660 epoch 34 - iter 48/67 - loss 0.18045834 - time (sec): 22.32 - samples/sec: 2156.11 - lr: 0.010000 - momentum: 0.000000\n",
            "2024-11-06 10:45:21,719 epoch 34 - iter 54/67 - loss 0.17884591 - time (sec): 24.38 - samples/sec: 2138.19 - lr: 0.010000 - momentum: 0.000000\n",
            "2024-11-06 10:45:24,826 epoch 34 - iter 60/67 - loss 0.17661339 - time (sec): 27.49 - samples/sec: 2199.28 - lr: 0.010000 - momentum: 0.000000\n",
            "2024-11-06 10:45:28,233 epoch 34 - iter 66/67 - loss 0.17376910 - time (sec): 30.90 - samples/sec: 2195.86 - lr: 0.010000 - momentum: 0.000000\n",
            "2024-11-06 10:45:28,789 ----------------------------------------------------------------------------------------------------\n",
            "2024-11-06 10:45:28,790 EPOCH 34 done: loss 0.1731 - lr: 0.010000\n"
          ]
        },
        {
          "output_type": "stream",
          "name": "stderr",
          "text": [
            "100%|██████████| 1/1 [00:07<00:00,  7.39s/it]"
          ]
        },
        {
          "output_type": "stream",
          "name": "stdout",
          "text": [
            "2024-11-06 10:45:36,248 DEV : loss 0.3614729642868042 - f1-score (micro avg)  0.0\n",
            "2024-11-06 10:45:36,280  - 0 epochs without improvement\n",
            "2024-11-06 10:45:36,283 ----------------------------------------------------------------------------------------------------\n"
          ]
        },
        {
          "output_type": "stream",
          "name": "stderr",
          "text": [
            "\n"
          ]
        },
        {
          "output_type": "stream",
          "name": "stdout",
          "text": [
            "2024-11-06 10:45:39,407 epoch 35 - iter 6/67 - loss 0.18070105 - time (sec): 3.12 - samples/sec: 1668.48 - lr: 0.010000 - momentum: 0.000000\n",
            "2024-11-06 10:45:42,023 epoch 35 - iter 12/67 - loss 0.17878130 - time (sec): 5.74 - samples/sec: 1856.76 - lr: 0.010000 - momentum: 0.000000\n",
            "2024-11-06 10:45:44,436 epoch 35 - iter 18/67 - loss 0.18048532 - time (sec): 8.15 - samples/sec: 2099.86 - lr: 0.010000 - momentum: 0.000000\n",
            "2024-11-06 10:45:47,956 epoch 35 - iter 24/67 - loss 0.16851332 - time (sec): 11.67 - samples/sec: 2057.52 - lr: 0.010000 - momentum: 0.000000\n",
            "2024-11-06 10:45:50,269 epoch 35 - iter 30/67 - loss 0.16575621 - time (sec): 13.98 - samples/sec: 2114.83 - lr: 0.010000 - momentum: 0.000000\n",
            "2024-11-06 10:45:52,405 epoch 35 - iter 36/67 - loss 0.16706484 - time (sec): 16.12 - samples/sec: 2157.13 - lr: 0.010000 - momentum: 0.000000\n",
            "2024-11-06 10:45:55,868 epoch 35 - iter 42/67 - loss 0.16982367 - time (sec): 19.58 - samples/sec: 2151.57 - lr: 0.010000 - momentum: 0.000000\n",
            "2024-11-06 10:45:59,165 epoch 35 - iter 48/67 - loss 0.16872368 - time (sec): 22.88 - samples/sec: 2183.33 - lr: 0.010000 - momentum: 0.000000\n",
            "2024-11-06 10:46:02,123 epoch 35 - iter 54/67 - loss 0.16845762 - time (sec): 25.84 - samples/sec: 2180.34 - lr: 0.010000 - momentum: 0.000000\n",
            "2024-11-06 10:46:04,117 epoch 35 - iter 60/67 - loss 0.17176045 - time (sec): 27.83 - samples/sec: 2209.95 - lr: 0.010000 - momentum: 0.000000\n",
            "2024-11-06 10:46:06,960 epoch 35 - iter 66/67 - loss 0.17256137 - time (sec): 30.67 - samples/sec: 2190.92 - lr: 0.010000 - momentum: 0.000000\n",
            "2024-11-06 10:46:07,425 ----------------------------------------------------------------------------------------------------\n",
            "2024-11-06 10:46:07,427 EPOCH 35 done: loss 0.1726 - lr: 0.010000\n"
          ]
        },
        {
          "output_type": "stream",
          "name": "stderr",
          "text": [
            "100%|██████████| 1/1 [00:06<00:00,  6.87s/it]"
          ]
        },
        {
          "output_type": "stream",
          "name": "stdout",
          "text": [
            "2024-11-06 10:46:14,343 DEV : loss 0.36218324303627014 - f1-score (micro avg)  0.0\n",
            "2024-11-06 10:46:14,365  - 1 epochs without improvement\n",
            "2024-11-06 10:46:14,367 ----------------------------------------------------------------------------------------------------\n"
          ]
        },
        {
          "output_type": "stream",
          "name": "stderr",
          "text": [
            "\n"
          ]
        },
        {
          "output_type": "stream",
          "name": "stdout",
          "text": [
            "2024-11-06 10:46:16,592 epoch 36 - iter 6/67 - loss 0.18390375 - time (sec): 2.22 - samples/sec: 2205.43 - lr: 0.010000 - momentum: 0.000000\n",
            "2024-11-06 10:46:19,230 epoch 36 - iter 12/67 - loss 0.15389910 - time (sec): 4.86 - samples/sec: 2118.55 - lr: 0.010000 - momentum: 0.000000\n",
            "2024-11-06 10:46:22,350 epoch 36 - iter 18/67 - loss 0.16311134 - time (sec): 7.98 - samples/sec: 2142.30 - lr: 0.010000 - momentum: 0.000000\n",
            "2024-11-06 10:46:25,419 epoch 36 - iter 24/67 - loss 0.17020382 - time (sec): 11.05 - samples/sec: 2171.11 - lr: 0.010000 - momentum: 0.000000\n",
            "2024-11-06 10:46:28,272 epoch 36 - iter 30/67 - loss 0.17226129 - time (sec): 13.90 - samples/sec: 2104.77 - lr: 0.010000 - momentum: 0.000000\n",
            "2024-11-06 10:46:31,753 epoch 36 - iter 36/67 - loss 0.16770800 - time (sec): 17.38 - samples/sec: 2108.81 - lr: 0.010000 - momentum: 0.000000\n",
            "2024-11-06 10:46:34,264 epoch 36 - iter 42/67 - loss 0.16350856 - time (sec): 19.89 - samples/sec: 2141.40 - lr: 0.010000 - momentum: 0.000000\n",
            "2024-11-06 10:46:37,305 epoch 36 - iter 48/67 - loss 0.15965006 - time (sec): 22.93 - samples/sec: 2140.59 - lr: 0.010000 - momentum: 0.000000\n",
            "2024-11-06 10:46:39,912 epoch 36 - iter 54/67 - loss 0.16378300 - time (sec): 25.54 - samples/sec: 2162.12 - lr: 0.010000 - momentum: 0.000000\n",
            "2024-11-06 10:46:42,628 epoch 36 - iter 60/67 - loss 0.16572710 - time (sec): 28.26 - samples/sec: 2167.99 - lr: 0.010000 - momentum: 0.000000\n",
            "2024-11-06 10:46:45,692 epoch 36 - iter 66/67 - loss 0.16537604 - time (sec): 31.32 - samples/sec: 2150.62 - lr: 0.010000 - momentum: 0.000000\n",
            "2024-11-06 10:46:46,048 ----------------------------------------------------------------------------------------------------\n",
            "2024-11-06 10:46:46,053 EPOCH 36 done: loss 0.1654 - lr: 0.010000\n"
          ]
        },
        {
          "output_type": "stream",
          "name": "stderr",
          "text": [
            "100%|██████████| 1/1 [00:08<00:00,  8.58s/it]"
          ]
        },
        {
          "output_type": "stream",
          "name": "stdout",
          "text": [
            "2024-11-06 10:46:54,680 DEV : loss 0.36144164204597473 - f1-score (micro avg)  0.0\n",
            "2024-11-06 10:46:54,700  - 0 epochs without improvement\n",
            "2024-11-06 10:46:54,703 ----------------------------------------------------------------------------------------------------\n"
          ]
        },
        {
          "output_type": "stream",
          "name": "stderr",
          "text": [
            "\n"
          ]
        },
        {
          "output_type": "stream",
          "name": "stdout",
          "text": [
            "2024-11-06 10:46:56,965 epoch 37 - iter 6/67 - loss 0.15610427 - time (sec): 2.26 - samples/sec: 2341.79 - lr: 0.010000 - momentum: 0.000000\n",
            "2024-11-06 10:47:00,458 epoch 37 - iter 12/67 - loss 0.14486567 - time (sec): 5.75 - samples/sec: 2037.68 - lr: 0.010000 - momentum: 0.000000\n",
            "2024-11-06 10:47:02,515 epoch 37 - iter 18/67 - loss 0.16283152 - time (sec): 7.81 - samples/sec: 2120.58 - lr: 0.010000 - momentum: 0.000000\n",
            "2024-11-06 10:47:04,875 epoch 37 - iter 24/67 - loss 0.15988978 - time (sec): 10.17 - samples/sec: 2102.46 - lr: 0.010000 - momentum: 0.000000\n",
            "2024-11-06 10:47:07,740 epoch 37 - iter 30/67 - loss 0.15958726 - time (sec): 13.03 - samples/sec: 2148.89 - lr: 0.010000 - momentum: 0.000000\n",
            "2024-11-06 10:47:11,226 epoch 37 - iter 36/67 - loss 0.16560332 - time (sec): 16.52 - samples/sec: 2119.83 - lr: 0.010000 - momentum: 0.000000\n",
            "2024-11-06 10:47:13,797 epoch 37 - iter 42/67 - loss 0.16932737 - time (sec): 19.09 - samples/sec: 2094.28 - lr: 0.010000 - momentum: 0.000000\n",
            "2024-11-06 10:47:16,735 epoch 37 - iter 48/67 - loss 0.16763179 - time (sec): 22.03 - samples/sec: 2088.70 - lr: 0.010000 - momentum: 0.000000\n",
            "2024-11-06 10:47:20,324 epoch 37 - iter 54/67 - loss 0.16566661 - time (sec): 25.62 - samples/sec: 2116.31 - lr: 0.010000 - momentum: 0.000000\n",
            "2024-11-06 10:47:23,020 epoch 37 - iter 60/67 - loss 0.16641606 - time (sec): 28.31 - samples/sec: 2137.51 - lr: 0.010000 - momentum: 0.000000\n",
            "2024-11-06 10:47:26,308 epoch 37 - iter 66/67 - loss 0.16110587 - time (sec): 31.60 - samples/sec: 2138.20 - lr: 0.010000 - momentum: 0.000000\n",
            "2024-11-06 10:47:26,906 ----------------------------------------------------------------------------------------------------\n",
            "2024-11-06 10:47:26,910 EPOCH 37 done: loss 0.1614 - lr: 0.010000\n"
          ]
        },
        {
          "output_type": "stream",
          "name": "stderr",
          "text": [
            "100%|██████████| 1/1 [00:10<00:00, 10.84s/it]"
          ]
        },
        {
          "output_type": "stream",
          "name": "stdout",
          "text": [
            "2024-11-06 10:47:37,809 DEV : loss 0.3634187877178192 - f1-score (micro avg)  0.0\n",
            "2024-11-06 10:47:37,831  - 1 epochs without improvement\n",
            "2024-11-06 10:47:37,834 ----------------------------------------------------------------------------------------------------\n"
          ]
        },
        {
          "output_type": "stream",
          "name": "stderr",
          "text": [
            "\n"
          ]
        },
        {
          "output_type": "stream",
          "name": "stdout",
          "text": [
            "2024-11-06 10:47:40,054 epoch 38 - iter 6/67 - loss 0.19165378 - time (sec): 2.22 - samples/sec: 2245.95 - lr: 0.010000 - momentum: 0.000000\n",
            "2024-11-06 10:47:42,661 epoch 38 - iter 12/67 - loss 0.18374306 - time (sec): 4.82 - samples/sec: 2157.05 - lr: 0.010000 - momentum: 0.000000\n",
            "2024-11-06 10:47:44,947 epoch 38 - iter 18/67 - loss 0.17562911 - time (sec): 7.11 - samples/sec: 2279.81 - lr: 0.010000 - momentum: 0.000000\n",
            "2024-11-06 10:47:47,501 epoch 38 - iter 24/67 - loss 0.16840323 - time (sec): 9.66 - samples/sec: 2215.27 - lr: 0.010000 - momentum: 0.000000\n",
            "2024-11-06 10:47:50,058 epoch 38 - iter 30/67 - loss 0.16420671 - time (sec): 12.22 - samples/sec: 2215.49 - lr: 0.010000 - momentum: 0.000000\n",
            "2024-11-06 10:47:52,754 epoch 38 - iter 36/67 - loss 0.16180406 - time (sec): 14.92 - samples/sec: 2286.00 - lr: 0.010000 - momentum: 0.000000\n",
            "2024-11-06 10:47:56,737 epoch 38 - iter 42/67 - loss 0.15875525 - time (sec): 18.90 - samples/sec: 2218.63 - lr: 0.010000 - momentum: 0.000000\n",
            "2024-11-06 10:47:59,003 epoch 38 - iter 48/67 - loss 0.16091003 - time (sec): 21.16 - samples/sec: 2179.90 - lr: 0.010000 - momentum: 0.000000\n",
            "2024-11-06 10:48:02,626 epoch 38 - iter 54/67 - loss 0.15791370 - time (sec): 24.79 - samples/sec: 2152.46 - lr: 0.010000 - momentum: 0.000000\n",
            "2024-11-06 10:48:05,291 epoch 38 - iter 60/67 - loss 0.15630934 - time (sec): 27.45 - samples/sec: 2197.52 - lr: 0.010000 - momentum: 0.000000\n",
            "2024-11-06 10:48:08,293 epoch 38 - iter 66/67 - loss 0.15623029 - time (sec): 30.45 - samples/sec: 2211.88 - lr: 0.010000 - momentum: 0.000000\n",
            "2024-11-06 10:48:09,266 ----------------------------------------------------------------------------------------------------\n",
            "2024-11-06 10:48:09,268 EPOCH 38 done: loss 0.1563 - lr: 0.010000\n"
          ]
        },
        {
          "output_type": "stream",
          "name": "stderr",
          "text": [
            "100%|██████████| 1/1 [00:08<00:00,  8.97s/it]"
          ]
        },
        {
          "output_type": "stream",
          "name": "stdout",
          "text": [
            "2024-11-06 10:48:18,285 DEV : loss 0.36120808124542236 - f1-score (micro avg)  0.0\n",
            "2024-11-06 10:48:18,309  - 0 epochs without improvement\n",
            "2024-11-06 10:48:18,311 ----------------------------------------------------------------------------------------------------\n"
          ]
        },
        {
          "output_type": "stream",
          "name": "stderr",
          "text": [
            "\n"
          ]
        },
        {
          "output_type": "stream",
          "name": "stdout",
          "text": [
            "2024-11-06 10:48:20,198 epoch 39 - iter 6/67 - loss 0.16046299 - time (sec): 1.88 - samples/sec: 2566.71 - lr: 0.010000 - momentum: 0.000000\n",
            "2024-11-06 10:48:23,013 epoch 39 - iter 12/67 - loss 0.15770652 - time (sec): 4.70 - samples/sec: 2178.08 - lr: 0.010000 - momentum: 0.000000\n",
            "2024-11-06 10:48:25,852 epoch 39 - iter 18/67 - loss 0.14776450 - time (sec): 7.54 - samples/sec: 2235.94 - lr: 0.010000 - momentum: 0.000000\n",
            "2024-11-06 10:48:28,858 epoch 39 - iter 24/67 - loss 0.14720380 - time (sec): 10.54 - samples/sec: 2200.25 - lr: 0.010000 - momentum: 0.000000\n",
            "2024-11-06 10:48:31,615 epoch 39 - iter 30/67 - loss 0.14846599 - time (sec): 13.30 - samples/sec: 2197.79 - lr: 0.010000 - momentum: 0.000000\n",
            "2024-11-06 10:48:34,118 epoch 39 - iter 36/67 - loss 0.15195608 - time (sec): 15.80 - samples/sec: 2176.16 - lr: 0.010000 - momentum: 0.000000\n",
            "2024-11-06 10:48:37,784 epoch 39 - iter 42/67 - loss 0.14291772 - time (sec): 19.47 - samples/sec: 2166.82 - lr: 0.010000 - momentum: 0.000000\n",
            "2024-11-06 10:48:41,164 epoch 39 - iter 48/67 - loss 0.14226696 - time (sec): 22.85 - samples/sec: 2163.72 - lr: 0.010000 - momentum: 0.000000\n",
            "2024-11-06 10:48:44,731 epoch 39 - iter 54/67 - loss 0.13959268 - time (sec): 26.41 - samples/sec: 2134.38 - lr: 0.010000 - momentum: 0.000000\n",
            "2024-11-06 10:48:47,703 epoch 39 - iter 60/67 - loss 0.14460083 - time (sec): 29.39 - samples/sec: 2128.29 - lr: 0.010000 - momentum: 0.000000\n",
            "2024-11-06 10:48:49,832 epoch 39 - iter 66/67 - loss 0.14452035 - time (sec): 31.52 - samples/sec: 2153.69 - lr: 0.010000 - momentum: 0.000000\n",
            "2024-11-06 10:48:50,150 ----------------------------------------------------------------------------------------------------\n",
            "2024-11-06 10:48:50,151 EPOCH 39 done: loss 0.1464 - lr: 0.010000\n"
          ]
        },
        {
          "output_type": "stream",
          "name": "stderr",
          "text": [
            "100%|██████████| 1/1 [00:07<00:00,  7.36s/it]"
          ]
        },
        {
          "output_type": "stream",
          "name": "stdout",
          "text": [
            "2024-11-06 10:48:57,583 DEV : loss 0.36151450872421265 - f1-score (micro avg)  0.0\n",
            "2024-11-06 10:48:57,615  - 1 epochs without improvement\n",
            "2024-11-06 10:48:57,618 ----------------------------------------------------------------------------------------------------\n"
          ]
        },
        {
          "output_type": "stream",
          "name": "stderr",
          "text": [
            "\n"
          ]
        },
        {
          "output_type": "stream",
          "name": "stdout",
          "text": [
            "2024-11-06 10:49:00,195 epoch 40 - iter 6/67 - loss 0.15235956 - time (sec): 2.57 - samples/sec: 2412.01 - lr: 0.010000 - momentum: 0.000000\n",
            "2024-11-06 10:49:03,186 epoch 40 - iter 12/67 - loss 0.14472337 - time (sec): 5.56 - samples/sec: 2320.66 - lr: 0.010000 - momentum: 0.000000\n",
            "2024-11-06 10:49:05,454 epoch 40 - iter 18/67 - loss 0.14847230 - time (sec): 7.83 - samples/sec: 2187.72 - lr: 0.010000 - momentum: 0.000000\n",
            "2024-11-06 10:49:08,329 epoch 40 - iter 24/67 - loss 0.15071820 - time (sec): 10.70 - samples/sec: 2173.54 - lr: 0.010000 - momentum: 0.000000\n",
            "2024-11-06 10:49:10,884 epoch 40 - iter 30/67 - loss 0.14681529 - time (sec): 13.26 - samples/sec: 2191.67 - lr: 0.010000 - momentum: 0.000000\n",
            "2024-11-06 10:49:13,475 epoch 40 - iter 36/67 - loss 0.14678020 - time (sec): 15.85 - samples/sec: 2143.30 - lr: 0.010000 - momentum: 0.000000\n",
            "2024-11-06 10:49:16,637 epoch 40 - iter 42/67 - loss 0.14567777 - time (sec): 19.01 - samples/sec: 2196.07 - lr: 0.010000 - momentum: 0.000000\n",
            "2024-11-06 10:49:19,803 epoch 40 - iter 48/67 - loss 0.14465107 - time (sec): 22.18 - samples/sec: 2171.77 - lr: 0.010000 - momentum: 0.000000\n",
            "2024-11-06 10:49:22,679 epoch 40 - iter 54/67 - loss 0.14805631 - time (sec): 25.05 - samples/sec: 2160.49 - lr: 0.010000 - momentum: 0.000000\n",
            "2024-11-06 10:49:24,995 epoch 40 - iter 60/67 - loss 0.15161477 - time (sec): 27.37 - samples/sec: 2180.28 - lr: 0.010000 - momentum: 0.000000\n",
            "2024-11-06 10:49:28,722 epoch 40 - iter 66/67 - loss 0.14446564 - time (sec): 31.10 - samples/sec: 2174.91 - lr: 0.010000 - momentum: 0.000000\n",
            "2024-11-06 10:49:29,293 ----------------------------------------------------------------------------------------------------\n",
            "2024-11-06 10:49:29,294 EPOCH 40 done: loss 0.1446 - lr: 0.010000\n"
          ]
        },
        {
          "output_type": "stream",
          "name": "stderr",
          "text": [
            "100%|██████████| 1/1 [00:06<00:00,  6.87s/it]"
          ]
        },
        {
          "output_type": "stream",
          "name": "stdout",
          "text": [
            "2024-11-06 10:49:36,210 DEV : loss 0.36175355315208435 - f1-score (micro avg)  0.0\n",
            "2024-11-06 10:49:36,230  - 2 epochs without improvement\n",
            "2024-11-06 10:49:36,233 ----------------------------------------------------------------------------------------------------\n"
          ]
        },
        {
          "output_type": "stream",
          "name": "stderr",
          "text": [
            "\n"
          ]
        },
        {
          "output_type": "stream",
          "name": "stdout",
          "text": [
            "2024-11-06 10:49:39,213 epoch 41 - iter 6/67 - loss 0.13312944 - time (sec): 2.98 - samples/sec: 2187.88 - lr: 0.010000 - momentum: 0.000000\n",
            "2024-11-06 10:49:41,897 epoch 41 - iter 12/67 - loss 0.12622168 - time (sec): 5.66 - samples/sec: 2127.42 - lr: 0.010000 - momentum: 0.000000\n",
            "2024-11-06 10:49:44,346 epoch 41 - iter 18/67 - loss 0.13956287 - time (sec): 8.11 - samples/sec: 2231.89 - lr: 0.010000 - momentum: 0.000000\n",
            "2024-11-06 10:49:47,342 epoch 41 - iter 24/67 - loss 0.14010256 - time (sec): 11.11 - samples/sec: 2166.33 - lr: 0.010000 - momentum: 0.000000\n",
            "2024-11-06 10:49:50,574 epoch 41 - iter 30/67 - loss 0.13865468 - time (sec): 14.34 - samples/sec: 2132.93 - lr: 0.010000 - momentum: 0.000000\n",
            "2024-11-06 10:49:53,703 epoch 41 - iter 36/67 - loss 0.13298261 - time (sec): 17.47 - samples/sec: 2164.87 - lr: 0.010000 - momentum: 0.000000\n",
            "2024-11-06 10:49:56,526 epoch 41 - iter 42/67 - loss 0.13558267 - time (sec): 20.29 - samples/sec: 2158.26 - lr: 0.010000 - momentum: 0.000000\n",
            "2024-11-06 10:49:59,487 epoch 41 - iter 48/67 - loss 0.13786928 - time (sec): 23.25 - samples/sec: 2137.30 - lr: 0.010000 - momentum: 0.000000\n",
            "2024-11-06 10:50:02,788 epoch 41 - iter 54/67 - loss 0.13974351 - time (sec): 26.55 - samples/sec: 2112.12 - lr: 0.010000 - momentum: 0.000000\n",
            "2024-11-06 10:50:05,664 epoch 41 - iter 60/67 - loss 0.14018355 - time (sec): 29.43 - samples/sec: 2140.43 - lr: 0.010000 - momentum: 0.000000\n",
            "2024-11-06 10:50:08,008 epoch 41 - iter 66/67 - loss 0.13854314 - time (sec): 31.77 - samples/sec: 2113.35 - lr: 0.010000 - momentum: 0.000000\n",
            "2024-11-06 10:50:08,560 ----------------------------------------------------------------------------------------------------\n",
            "2024-11-06 10:50:08,561 EPOCH 41 done: loss 0.1372 - lr: 0.010000\n"
          ]
        },
        {
          "output_type": "stream",
          "name": "stderr",
          "text": [
            "100%|██████████| 1/1 [00:08<00:00,  8.64s/it]"
          ]
        },
        {
          "output_type": "stream",
          "name": "stdout",
          "text": [
            "2024-11-06 10:50:17,258 DEV : loss 0.3614254593849182 - f1-score (micro avg)  0.0\n",
            "2024-11-06 10:50:17,278  - 3 epochs without improvement\n",
            "2024-11-06 10:50:17,280 ----------------------------------------------------------------------------------------------------\n"
          ]
        },
        {
          "output_type": "stream",
          "name": "stderr",
          "text": [
            "\n"
          ]
        },
        {
          "output_type": "stream",
          "name": "stdout",
          "text": [
            "2024-11-06 10:50:20,455 epoch 42 - iter 6/67 - loss 0.12370605 - time (sec): 3.17 - samples/sec: 2411.06 - lr: 0.010000 - momentum: 0.000000\n",
            "2024-11-06 10:50:22,959 epoch 42 - iter 12/67 - loss 0.12629347 - time (sec): 5.68 - samples/sec: 2473.28 - lr: 0.010000 - momentum: 0.000000\n",
            "2024-11-06 10:50:25,890 epoch 42 - iter 18/67 - loss 0.12963623 - time (sec): 8.61 - samples/sec: 2327.72 - lr: 0.010000 - momentum: 0.000000\n",
            "2024-11-06 10:50:28,655 epoch 42 - iter 24/67 - loss 0.13475490 - time (sec): 11.37 - samples/sec: 2339.72 - lr: 0.010000 - momentum: 0.000000\n",
            "2024-11-06 10:50:31,152 epoch 42 - iter 30/67 - loss 0.13493075 - time (sec): 13.87 - samples/sec: 2229.97 - lr: 0.010000 - momentum: 0.000000\n",
            "2024-11-06 10:50:33,870 epoch 42 - iter 36/67 - loss 0.13114951 - time (sec): 16.59 - samples/sec: 2222.43 - lr: 0.010000 - momentum: 0.000000\n",
            "2024-11-06 10:50:37,534 epoch 42 - iter 42/67 - loss 0.12574064 - time (sec): 20.25 - samples/sec: 2282.57 - lr: 0.010000 - momentum: 0.000000\n",
            "2024-11-06 10:50:40,105 epoch 42 - iter 48/67 - loss 0.12859643 - time (sec): 22.82 - samples/sec: 2228.26 - lr: 0.010000 - momentum: 0.000000\n",
            "2024-11-06 10:50:42,456 epoch 42 - iter 54/67 - loss 0.12971020 - time (sec): 25.17 - samples/sec: 2249.42 - lr: 0.010000 - momentum: 0.000000\n",
            "2024-11-06 10:50:45,330 epoch 42 - iter 60/67 - loss 0.13112163 - time (sec): 28.05 - samples/sec: 2241.59 - lr: 0.010000 - momentum: 0.000000\n",
            "2024-11-06 10:50:47,966 epoch 42 - iter 66/67 - loss 0.13036296 - time (sec): 30.68 - samples/sec: 2198.02 - lr: 0.010000 - momentum: 0.000000\n",
            "2024-11-06 10:50:48,463 ----------------------------------------------------------------------------------------------------\n",
            "2024-11-06 10:50:48,464 EPOCH 42 done: loss 0.1322 - lr: 0.010000\n"
          ]
        },
        {
          "output_type": "stream",
          "name": "stderr",
          "text": [
            "100%|██████████| 1/1 [00:09<00:00,  9.14s/it]"
          ]
        },
        {
          "output_type": "stream",
          "name": "stdout",
          "text": [
            "2024-11-06 10:50:57,662 DEV : loss 0.36349546909332275 - f1-score (micro avg)  0.0\n",
            "2024-11-06 10:50:57,683  - 4 epochs without improvement (above 'patience')-> annealing learning_rate to [0.005]\n",
            "2024-11-06 10:50:57,685 ----------------------------------------------------------------------------------------------------\n"
          ]
        },
        {
          "output_type": "stream",
          "name": "stderr",
          "text": [
            "\n"
          ]
        },
        {
          "output_type": "stream",
          "name": "stdout",
          "text": [
            "2024-11-06 10:51:00,942 epoch 43 - iter 6/67 - loss 0.13504112 - time (sec): 3.25 - samples/sec: 2099.43 - lr: 0.005000 - momentum: 0.000000\n",
            "2024-11-06 10:51:04,096 epoch 43 - iter 12/67 - loss 0.13095405 - time (sec): 6.41 - samples/sec: 2076.04 - lr: 0.005000 - momentum: 0.000000\n",
            "2024-11-06 10:51:06,960 epoch 43 - iter 18/67 - loss 0.11621112 - time (sec): 9.27 - samples/sec: 2177.92 - lr: 0.005000 - momentum: 0.000000\n",
            "2024-11-06 10:51:10,193 epoch 43 - iter 24/67 - loss 0.12007862 - time (sec): 12.50 - samples/sec: 2131.14 - lr: 0.005000 - momentum: 0.000000\n",
            "2024-11-06 10:51:12,782 epoch 43 - iter 30/67 - loss 0.11589941 - time (sec): 15.09 - samples/sec: 2205.81 - lr: 0.005000 - momentum: 0.000000\n",
            "2024-11-06 10:51:15,686 epoch 43 - iter 36/67 - loss 0.11684025 - time (sec): 18.00 - samples/sec: 2139.21 - lr: 0.005000 - momentum: 0.000000\n",
            "2024-11-06 10:51:18,594 epoch 43 - iter 42/67 - loss 0.11831110 - time (sec): 20.90 - samples/sec: 2137.60 - lr: 0.005000 - momentum: 0.000000\n",
            "2024-11-06 10:51:21,901 epoch 43 - iter 48/67 - loss 0.11828864 - time (sec): 24.21 - samples/sec: 2153.75 - lr: 0.005000 - momentum: 0.000000\n",
            "2024-11-06 10:51:23,770 epoch 43 - iter 54/67 - loss 0.11884593 - time (sec): 26.08 - samples/sec: 2155.20 - lr: 0.005000 - momentum: 0.000000\n",
            "2024-11-06 10:51:26,395 epoch 43 - iter 60/67 - loss 0.11801812 - time (sec): 28.71 - samples/sec: 2164.09 - lr: 0.005000 - momentum: 0.000000\n",
            "2024-11-06 10:51:29,262 epoch 43 - iter 66/67 - loss 0.11908964 - time (sec): 31.57 - samples/sec: 2152.88 - lr: 0.005000 - momentum: 0.000000\n",
            "2024-11-06 10:51:29,676 ----------------------------------------------------------------------------------------------------\n",
            "2024-11-06 10:51:29,677 EPOCH 43 done: loss 0.1188 - lr: 0.005000\n"
          ]
        },
        {
          "output_type": "stream",
          "name": "stderr",
          "text": [
            "100%|██████████| 1/1 [00:08<00:00,  8.71s/it]"
          ]
        },
        {
          "output_type": "stream",
          "name": "stdout",
          "text": [
            "2024-11-06 10:51:38,438 DEV : loss 0.3618875741958618 - f1-score (micro avg)  0.0\n",
            "2024-11-06 10:51:38,459  - 1 epochs without improvement\n",
            "2024-11-06 10:51:38,461 ----------------------------------------------------------------------------------------------------\n"
          ]
        },
        {
          "output_type": "stream",
          "name": "stderr",
          "text": [
            "\n"
          ]
        },
        {
          "output_type": "stream",
          "name": "stdout",
          "text": [
            "2024-11-06 10:51:41,057 epoch 44 - iter 6/67 - loss 0.07311379 - time (sec): 2.59 - samples/sec: 2105.16 - lr: 0.005000 - momentum: 0.000000\n",
            "2024-11-06 10:51:43,208 epoch 44 - iter 12/67 - loss 0.10318088 - time (sec): 4.74 - samples/sec: 2217.16 - lr: 0.005000 - momentum: 0.000000\n",
            "2024-11-06 10:51:45,579 epoch 44 - iter 18/67 - loss 0.10547217 - time (sec): 7.11 - samples/sec: 2345.77 - lr: 0.005000 - momentum: 0.000000\n",
            "2024-11-06 10:51:49,265 epoch 44 - iter 24/67 - loss 0.11622986 - time (sec): 10.80 - samples/sec: 2224.46 - lr: 0.005000 - momentum: 0.000000\n",
            "2024-11-06 10:51:51,803 epoch 44 - iter 30/67 - loss 0.11224206 - time (sec): 13.34 - samples/sec: 2214.34 - lr: 0.005000 - momentum: 0.000000\n",
            "2024-11-06 10:51:55,268 epoch 44 - iter 36/67 - loss 0.10771430 - time (sec): 16.80 - samples/sec: 2244.05 - lr: 0.005000 - momentum: 0.000000\n",
            "2024-11-06 10:51:57,749 epoch 44 - iter 42/67 - loss 0.10857132 - time (sec): 19.28 - samples/sec: 2215.60 - lr: 0.005000 - momentum: 0.000000\n",
            "2024-11-06 10:52:00,138 epoch 44 - iter 48/67 - loss 0.11095563 - time (sec): 21.67 - samples/sec: 2223.52 - lr: 0.005000 - momentum: 0.000000\n",
            "2024-11-06 10:52:02,514 epoch 44 - iter 54/67 - loss 0.11195945 - time (sec): 24.05 - samples/sec: 2195.00 - lr: 0.005000 - momentum: 0.000000\n",
            "2024-11-06 10:52:05,897 epoch 44 - iter 60/67 - loss 0.11397175 - time (sec): 27.43 - samples/sec: 2230.26 - lr: 0.005000 - momentum: 0.000000\n",
            "2024-11-06 10:52:09,004 epoch 44 - iter 66/67 - loss 0.11321164 - time (sec): 30.54 - samples/sec: 2201.22 - lr: 0.005000 - momentum: 0.000000\n",
            "2024-11-06 10:52:09,554 ----------------------------------------------------------------------------------------------------\n",
            "2024-11-06 10:52:09,555 EPOCH 44 done: loss 0.1129 - lr: 0.005000\n"
          ]
        },
        {
          "output_type": "stream",
          "name": "stderr",
          "text": [
            "100%|██████████| 1/1 [00:08<00:00,  8.03s/it]"
          ]
        },
        {
          "output_type": "stream",
          "name": "stdout",
          "text": [
            "2024-11-06 10:52:17,648 DEV : loss 0.36161041259765625 - f1-score (micro avg)  0.0\n",
            "2024-11-06 10:52:17,686  - 2 epochs without improvement\n",
            "2024-11-06 10:52:17,688 ----------------------------------------------------------------------------------------------------\n"
          ]
        },
        {
          "output_type": "stream",
          "name": "stderr",
          "text": [
            "\n"
          ]
        },
        {
          "output_type": "stream",
          "name": "stdout",
          "text": [
            "2024-11-06 10:52:20,546 epoch 45 - iter 6/67 - loss 0.12545141 - time (sec): 2.85 - samples/sec: 1832.21 - lr: 0.005000 - momentum: 0.000000\n",
            "2024-11-06 10:52:22,821 epoch 45 - iter 12/67 - loss 0.12551218 - time (sec): 5.13 - samples/sec: 2004.71 - lr: 0.005000 - momentum: 0.000000\n",
            "2024-11-06 10:52:26,701 epoch 45 - iter 18/67 - loss 0.12446105 - time (sec): 9.01 - samples/sec: 2072.64 - lr: 0.005000 - momentum: 0.000000\n",
            "2024-11-06 10:52:29,349 epoch 45 - iter 24/67 - loss 0.11578859 - time (sec): 11.66 - samples/sec: 2156.43 - lr: 0.005000 - momentum: 0.000000\n",
            "2024-11-06 10:52:32,447 epoch 45 - iter 30/67 - loss 0.11169208 - time (sec): 14.76 - samples/sec: 2129.56 - lr: 0.005000 - momentum: 0.000000\n",
            "2024-11-06 10:52:34,939 epoch 45 - iter 36/67 - loss 0.11023153 - time (sec): 17.25 - samples/sec: 2098.19 - lr: 0.005000 - momentum: 0.000000\n",
            "2024-11-06 10:52:37,539 epoch 45 - iter 42/67 - loss 0.11185782 - time (sec): 19.85 - samples/sec: 2134.86 - lr: 0.005000 - momentum: 0.000000\n",
            "2024-11-06 10:52:40,535 epoch 45 - iter 48/67 - loss 0.11134300 - time (sec): 22.84 - samples/sec: 2129.95 - lr: 0.005000 - momentum: 0.000000\n",
            "2024-11-06 10:52:43,892 epoch 45 - iter 54/67 - loss 0.10967004 - time (sec): 26.20 - samples/sec: 2155.15 - lr: 0.005000 - momentum: 0.000000\n",
            "2024-11-06 10:52:46,316 epoch 45 - iter 60/67 - loss 0.11255500 - time (sec): 28.62 - samples/sec: 2159.68 - lr: 0.005000 - momentum: 0.000000\n",
            "2024-11-06 10:52:49,930 epoch 45 - iter 66/67 - loss 0.11093158 - time (sec): 32.24 - samples/sec: 2101.26 - lr: 0.005000 - momentum: 0.000000\n",
            "2024-11-06 10:52:50,185 ----------------------------------------------------------------------------------------------------\n",
            "2024-11-06 10:52:50,187 EPOCH 45 done: loss 0.1104 - lr: 0.005000\n"
          ]
        },
        {
          "output_type": "stream",
          "name": "stderr",
          "text": [
            "100%|██████████| 1/1 [00:06<00:00,  6.97s/it]"
          ]
        },
        {
          "output_type": "stream",
          "name": "stdout",
          "text": [
            "2024-11-06 10:52:57,206 DEV : loss 0.3618696928024292 - f1-score (micro avg)  0.0\n",
            "2024-11-06 10:52:57,227  - 3 epochs without improvement\n",
            "2024-11-06 10:52:57,228 ----------------------------------------------------------------------------------------------------\n"
          ]
        },
        {
          "output_type": "stream",
          "name": "stderr",
          "text": [
            "\n"
          ]
        },
        {
          "output_type": "stream",
          "name": "stdout",
          "text": [
            "2024-11-06 10:52:59,862 epoch 46 - iter 6/67 - loss 0.12049535 - time (sec): 2.63 - samples/sec: 2417.49 - lr: 0.005000 - momentum: 0.000000\n",
            "2024-11-06 10:53:03,019 epoch 46 - iter 12/67 - loss 0.11280711 - time (sec): 5.79 - samples/sec: 2224.80 - lr: 0.005000 - momentum: 0.000000\n",
            "2024-11-06 10:53:05,703 epoch 46 - iter 18/67 - loss 0.10766329 - time (sec): 8.47 - samples/sec: 2155.99 - lr: 0.005000 - momentum: 0.000000\n",
            "2024-11-06 10:53:08,994 epoch 46 - iter 24/67 - loss 0.10908266 - time (sec): 11.76 - samples/sec: 2142.10 - lr: 0.005000 - momentum: 0.000000\n",
            "2024-11-06 10:53:12,032 epoch 46 - iter 30/67 - loss 0.11335380 - time (sec): 14.80 - samples/sec: 2191.78 - lr: 0.005000 - momentum: 0.000000\n",
            "2024-11-06 10:53:15,299 epoch 46 - iter 36/67 - loss 0.10894888 - time (sec): 18.07 - samples/sec: 2152.08 - lr: 0.005000 - momentum: 0.000000\n",
            "2024-11-06 10:53:18,299 epoch 46 - iter 42/67 - loss 0.11017086 - time (sec): 21.07 - samples/sec: 2112.06 - lr: 0.005000 - momentum: 0.000000\n",
            "2024-11-06 10:53:20,832 epoch 46 - iter 48/67 - loss 0.10914676 - time (sec): 23.60 - samples/sec: 2153.72 - lr: 0.005000 - momentum: 0.000000\n",
            "2024-11-06 10:53:23,777 epoch 46 - iter 54/67 - loss 0.10920957 - time (sec): 26.54 - samples/sec: 2165.57 - lr: 0.005000 - momentum: 0.000000\n",
            "2024-11-06 10:53:26,277 epoch 46 - iter 60/67 - loss 0.10898560 - time (sec): 29.05 - samples/sec: 2155.15 - lr: 0.005000 - momentum: 0.000000\n",
            "2024-11-06 10:53:28,611 epoch 46 - iter 66/67 - loss 0.10904589 - time (sec): 31.38 - samples/sec: 2150.50 - lr: 0.005000 - momentum: 0.000000\n",
            "2024-11-06 10:53:28,981 ----------------------------------------------------------------------------------------------------\n",
            "2024-11-06 10:53:28,983 EPOCH 46 done: loss 0.1088 - lr: 0.005000\n"
          ]
        },
        {
          "output_type": "stream",
          "name": "stderr",
          "text": [
            "100%|██████████| 1/1 [00:07<00:00,  7.94s/it]"
          ]
        },
        {
          "output_type": "stream",
          "name": "stdout",
          "text": [
            "2024-11-06 10:53:36,976 DEV : loss 0.3607959747314453 - f1-score (micro avg)  0.0\n",
            "2024-11-06 10:53:36,997  - 0 epochs without improvement\n",
            "2024-11-06 10:53:36,998 ----------------------------------------------------------------------------------------------------\n"
          ]
        },
        {
          "output_type": "stream",
          "name": "stderr",
          "text": [
            "\n"
          ]
        },
        {
          "output_type": "stream",
          "name": "stdout",
          "text": [
            "2024-11-06 10:53:40,384 epoch 47 - iter 6/67 - loss 0.09074466 - time (sec): 3.38 - samples/sec: 1741.22 - lr: 0.005000 - momentum: 0.000000\n",
            "2024-11-06 10:53:43,717 epoch 47 - iter 12/67 - loss 0.08666254 - time (sec): 6.71 - samples/sec: 1911.60 - lr: 0.005000 - momentum: 0.000000\n",
            "2024-11-06 10:53:45,566 epoch 47 - iter 18/67 - loss 0.08841613 - time (sec): 8.56 - samples/sec: 1998.51 - lr: 0.005000 - momentum: 0.000000\n",
            "2024-11-06 10:53:48,352 epoch 47 - iter 24/67 - loss 0.08811180 - time (sec): 11.35 - samples/sec: 2038.48 - lr: 0.005000 - momentum: 0.000000\n",
            "2024-11-06 10:53:50,888 epoch 47 - iter 30/67 - loss 0.08901189 - time (sec): 13.88 - samples/sec: 2074.10 - lr: 0.005000 - momentum: 0.000000\n",
            "2024-11-06 10:53:54,468 epoch 47 - iter 36/67 - loss 0.10101839 - time (sec): 17.46 - samples/sec: 2058.08 - lr: 0.005000 - momentum: 0.000000\n",
            "2024-11-06 10:53:57,377 epoch 47 - iter 42/67 - loss 0.10051236 - time (sec): 20.37 - samples/sec: 2106.52 - lr: 0.005000 - momentum: 0.000000\n",
            "2024-11-06 10:54:00,015 epoch 47 - iter 48/67 - loss 0.09786922 - time (sec): 23.01 - samples/sec: 2144.72 - lr: 0.005000 - momentum: 0.000000\n",
            "2024-11-06 10:54:03,172 epoch 47 - iter 54/67 - loss 0.09913900 - time (sec): 26.17 - samples/sec: 2121.48 - lr: 0.005000 - momentum: 0.000000\n",
            "2024-11-06 10:54:06,033 epoch 47 - iter 60/67 - loss 0.10125836 - time (sec): 29.03 - samples/sec: 2115.84 - lr: 0.005000 - momentum: 0.000000\n",
            "2024-11-06 10:54:09,097 epoch 47 - iter 66/67 - loss 0.10402654 - time (sec): 32.09 - samples/sec: 2108.49 - lr: 0.005000 - momentum: 0.000000\n",
            "2024-11-06 10:54:09,525 ----------------------------------------------------------------------------------------------------\n",
            "2024-11-06 10:54:09,532 EPOCH 47 done: loss 0.1047 - lr: 0.005000\n"
          ]
        },
        {
          "output_type": "stream",
          "name": "stderr",
          "text": [
            "100%|██████████| 1/1 [00:08<00:00,  8.44s/it]"
          ]
        },
        {
          "output_type": "stream",
          "name": "stdout",
          "text": [
            "2024-11-06 10:54:18,020 DEV : loss 0.36064791679382324 - f1-score (micro avg)  0.0\n",
            "2024-11-06 10:54:18,044  - 0 epochs without improvement\n",
            "2024-11-06 10:54:18,045 ----------------------------------------------------------------------------------------------------\n"
          ]
        },
        {
          "output_type": "stream",
          "name": "stderr",
          "text": [
            "\n"
          ]
        },
        {
          "output_type": "stream",
          "name": "stdout",
          "text": [
            "2024-11-06 10:54:20,585 epoch 48 - iter 6/67 - loss 0.10539791 - time (sec): 2.54 - samples/sec: 2236.41 - lr: 0.005000 - momentum: 0.000000\n",
            "2024-11-06 10:54:23,151 epoch 48 - iter 12/67 - loss 0.11429277 - time (sec): 5.10 - samples/sec: 2413.75 - lr: 0.005000 - momentum: 0.000000\n",
            "2024-11-06 10:54:26,088 epoch 48 - iter 18/67 - loss 0.10760587 - time (sec): 8.04 - samples/sec: 2236.15 - lr: 0.005000 - momentum: 0.000000\n",
            "2024-11-06 10:54:28,615 epoch 48 - iter 24/67 - loss 0.10507925 - time (sec): 10.57 - samples/sec: 2275.15 - lr: 0.005000 - momentum: 0.000000\n",
            "2024-11-06 10:54:31,560 epoch 48 - iter 30/67 - loss 0.10290293 - time (sec): 13.51 - samples/sec: 2264.86 - lr: 0.005000 - momentum: 0.000000\n",
            "2024-11-06 10:54:33,829 epoch 48 - iter 36/67 - loss 0.09693005 - time (sec): 15.78 - samples/sec: 2349.40 - lr: 0.005000 - momentum: 0.000000\n",
            "2024-11-06 10:54:36,913 epoch 48 - iter 42/67 - loss 0.09961666 - time (sec): 18.86 - samples/sec: 2269.47 - lr: 0.005000 - momentum: 0.000000\n",
            "2024-11-06 10:54:39,602 epoch 48 - iter 48/67 - loss 0.09910651 - time (sec): 21.55 - samples/sec: 2227.73 - lr: 0.005000 - momentum: 0.000000\n",
            "2024-11-06 10:54:42,868 epoch 48 - iter 54/67 - loss 0.09822417 - time (sec): 24.82 - samples/sec: 2183.36 - lr: 0.005000 - momentum: 0.000000\n",
            "2024-11-06 10:54:45,952 epoch 48 - iter 60/67 - loss 0.09891139 - time (sec): 27.90 - samples/sec: 2192.26 - lr: 0.005000 - momentum: 0.000000\n",
            "2024-11-06 10:54:48,831 epoch 48 - iter 66/67 - loss 0.10078872 - time (sec): 30.78 - samples/sec: 2197.04 - lr: 0.005000 - momentum: 0.000000\n",
            "2024-11-06 10:54:49,307 ----------------------------------------------------------------------------------------------------\n",
            "2024-11-06 10:54:49,308 EPOCH 48 done: loss 0.1009 - lr: 0.005000\n"
          ]
        },
        {
          "output_type": "stream",
          "name": "stderr",
          "text": [
            "100%|██████████| 1/1 [00:08<00:00,  8.87s/it]"
          ]
        },
        {
          "output_type": "stream",
          "name": "stdout",
          "text": [
            "2024-11-06 10:54:58,229 DEV : loss 0.35979601740837097 - f1-score (micro avg)  0.0\n",
            "2024-11-06 10:54:58,251  - 0 epochs without improvement\n",
            "2024-11-06 10:54:58,252 ----------------------------------------------------------------------------------------------------\n"
          ]
        },
        {
          "output_type": "stream",
          "name": "stderr",
          "text": [
            "\n"
          ]
        },
        {
          "output_type": "stream",
          "name": "stdout",
          "text": [
            "2024-11-06 10:55:01,622 epoch 49 - iter 6/67 - loss 0.08976887 - time (sec): 3.36 - samples/sec: 2141.49 - lr: 0.005000 - momentum: 0.000000\n",
            "2024-11-06 10:55:04,475 epoch 49 - iter 12/67 - loss 0.09012650 - time (sec): 6.22 - samples/sec: 2162.28 - lr: 0.005000 - momentum: 0.000000\n",
            "2024-11-06 10:55:07,069 epoch 49 - iter 18/67 - loss 0.09401330 - time (sec): 8.81 - samples/sec: 2058.74 - lr: 0.005000 - momentum: 0.000000\n",
            "2024-11-06 10:55:10,726 epoch 49 - iter 24/67 - loss 0.09311855 - time (sec): 12.47 - samples/sec: 2066.76 - lr: 0.005000 - momentum: 0.000000\n",
            "2024-11-06 10:55:13,264 epoch 49 - iter 30/67 - loss 0.09750576 - time (sec): 15.01 - samples/sec: 2051.67 - lr: 0.005000 - momentum: 0.000000\n",
            "2024-11-06 10:55:15,928 epoch 49 - iter 36/67 - loss 0.09869074 - time (sec): 17.67 - samples/sec: 2032.16 - lr: 0.005000 - momentum: 0.000000\n",
            "2024-11-06 10:55:19,241 epoch 49 - iter 42/67 - loss 0.09890522 - time (sec): 20.98 - samples/sec: 2048.24 - lr: 0.005000 - momentum: 0.000000\n",
            "2024-11-06 10:55:21,776 epoch 49 - iter 48/67 - loss 0.10071333 - time (sec): 23.52 - samples/sec: 2061.35 - lr: 0.005000 - momentum: 0.000000\n",
            "2024-11-06 10:55:24,715 epoch 49 - iter 54/67 - loss 0.10458671 - time (sec): 26.46 - samples/sec: 2052.12 - lr: 0.005000 - momentum: 0.000000\n",
            "2024-11-06 10:55:27,802 epoch 49 - iter 60/67 - loss 0.10125556 - time (sec): 29.54 - samples/sec: 2084.58 - lr: 0.005000 - momentum: 0.000000\n",
            "2024-11-06 10:55:30,129 epoch 49 - iter 66/67 - loss 0.10037556 - time (sec): 31.87 - samples/sec: 2128.40 - lr: 0.005000 - momentum: 0.000000\n",
            "2024-11-06 10:55:30,712 ----------------------------------------------------------------------------------------------------\n",
            "2024-11-06 10:55:30,715 EPOCH 49 done: loss 0.1005 - lr: 0.005000\n"
          ]
        },
        {
          "output_type": "stream",
          "name": "stderr",
          "text": [
            "100%|██████████| 1/1 [00:08<00:00,  8.69s/it]"
          ]
        },
        {
          "output_type": "stream",
          "name": "stdout",
          "text": [
            "2024-11-06 10:55:39,466 DEV : loss 0.35994070768356323 - f1-score (micro avg)  0.0\n",
            "2024-11-06 10:55:39,487  - 1 epochs without improvement\n",
            "2024-11-06 10:55:39,489 ----------------------------------------------------------------------------------------------------\n"
          ]
        },
        {
          "output_type": "stream",
          "name": "stderr",
          "text": [
            "\n"
          ]
        },
        {
          "output_type": "stream",
          "name": "stdout",
          "text": [
            "2024-11-06 10:55:42,256 epoch 50 - iter 6/67 - loss 0.12414608 - time (sec): 2.76 - samples/sec: 2557.09 - lr: 0.005000 - momentum: 0.000000\n",
            "2024-11-06 10:55:44,511 epoch 50 - iter 12/67 - loss 0.12244653 - time (sec): 5.02 - samples/sec: 2111.44 - lr: 0.005000 - momentum: 0.000000\n",
            "2024-11-06 10:55:47,401 epoch 50 - iter 18/67 - loss 0.10625405 - time (sec): 7.91 - samples/sec: 2176.33 - lr: 0.005000 - momentum: 0.000000\n",
            "2024-11-06 10:55:50,838 epoch 50 - iter 24/67 - loss 0.10078489 - time (sec): 11.35 - samples/sec: 2149.79 - lr: 0.005000 - momentum: 0.000000\n",
            "2024-11-06 10:55:54,143 epoch 50 - iter 30/67 - loss 0.10366076 - time (sec): 14.65 - samples/sec: 2237.04 - lr: 0.005000 - momentum: 0.000000\n",
            "2024-11-06 10:55:57,611 epoch 50 - iter 36/67 - loss 0.09959324 - time (sec): 18.12 - samples/sec: 2164.31 - lr: 0.005000 - momentum: 0.000000\n",
            "2024-11-06 10:56:00,416 epoch 50 - iter 42/67 - loss 0.10065833 - time (sec): 20.92 - samples/sec: 2144.50 - lr: 0.005000 - momentum: 0.000000\n",
            "2024-11-06 10:56:04,012 epoch 50 - iter 48/67 - loss 0.09913777 - time (sec): 24.52 - samples/sec: 2155.61 - lr: 0.005000 - momentum: 0.000000\n",
            "2024-11-06 10:56:06,227 epoch 50 - iter 54/67 - loss 0.09868406 - time (sec): 26.73 - samples/sec: 2173.56 - lr: 0.005000 - momentum: 0.000000\n",
            "2024-11-06 10:56:08,749 epoch 50 - iter 60/67 - loss 0.09786537 - time (sec): 29.26 - samples/sec: 2161.67 - lr: 0.005000 - momentum: 0.000000\n",
            "2024-11-06 10:56:10,828 epoch 50 - iter 66/67 - loss 0.09816869 - time (sec): 31.34 - samples/sec: 2171.49 - lr: 0.005000 - momentum: 0.000000\n",
            "2024-11-06 10:56:11,184 ----------------------------------------------------------------------------------------------------\n",
            "2024-11-06 10:56:11,186 EPOCH 50 done: loss 0.0982 - lr: 0.005000\n"
          ]
        },
        {
          "output_type": "stream",
          "name": "stderr",
          "text": [
            "100%|██████████| 1/1 [00:08<00:00,  8.66s/it]"
          ]
        },
        {
          "output_type": "stream",
          "name": "stdout",
          "text": [
            "2024-11-06 10:56:19,904 DEV : loss 0.3591618239879608 - f1-score (micro avg)  0.0\n",
            "2024-11-06 10:56:19,925  - 0 epochs without improvement\n"
          ]
        },
        {
          "output_type": "stream",
          "name": "stderr",
          "text": [
            "\n"
          ]
        },
        {
          "output_type": "stream",
          "name": "stdout",
          "text": [
            "2024-11-06 10:56:26,085 ----------------------------------------------------------------------------------------------------\n",
            "2024-11-06 10:56:26,089 Testing using last state of model ...\n"
          ]
        },
        {
          "output_type": "stream",
          "name": "stderr",
          "text": [
            "100%|██████████| 2/2 [00:05<00:00,  2.74s/it]"
          ]
        },
        {
          "output_type": "stream",
          "name": "stdout",
          "text": [
            "2024-11-06 10:56:31,631 \n",
            "Results:\n",
            "- F-score (micro) 0.563\n",
            "- F-score (macro) 0.7187\n",
            "- Accuracy 0.3962\n",
            "\n",
            "By class:\n",
            "              precision    recall  f1-score   support\n",
            "\n",
            "       SKILL     0.3408    0.3862    0.3621       593\n",
            "         JOB     0.5730    0.7020    0.6310       151\n",
            "        WORK     0.8188    0.9457    0.8777       129\n",
            "     COMPANY     0.5172    0.5714    0.5430       105\n",
            "         LOC     0.5701    0.7176    0.6354        85\n",
            "         DEG     0.5862    0.7907    0.6733        43\n",
            "         UNI     0.5660    0.6667    0.6122        45\n",
            "        NAME     0.9388    0.9787    0.9583        47\n",
            "       PHONE     1.0000    0.9787    0.9892        47\n",
            "       EMAIL     0.8222    0.9250    0.8706        40\n",
            "       STUDY     0.8286    0.6905    0.7532        42\n",
            "\n",
            "   micro avg     0.5281    0.6029    0.5630      1327\n",
            "   macro avg     0.6874    0.7594    0.7187      1327\n",
            "weighted avg     0.5324    0.6029    0.5642      1327\n",
            "\n",
            "2024-11-06 10:56:31,633 ----------------------------------------------------------------------------------------------------\n"
          ]
        },
        {
          "output_type": "stream",
          "name": "stderr",
          "text": [
            "\n"
          ]
        }
      ]
    },
    {
      "cell_type": "code",
      "source": [
        "# evaluate model\n",
        "from flair.data import Corpus\n",
        "from flair.datasets import ColumnCorpus\n",
        "from flair.models import SequenceTagger\n",
        "from flair.trainers import ModelTrainer\n",
        "\n",
        "# Load the trained model\n",
        "model = SequenceTagger.load('/content/drive/MyDrive/FYP/Implementation/flair_output/final-model.pt')\n",
        "\n",
        "# Evaluate the model on the test set\n",
        "result = model.evaluate(corpus.test, gold_label_type='ner', mini_batch_size=32)\n",
        "\n",
        "# Print the results\n",
        "# print(\"Evaluation Loss:\", eval_loss)\n",
        "print(result.detailed_results)  # print the precision, recall, and F1-score per entity type"
      ],
      "metadata": {
        "id": "6KT8wj3Lns2c",
        "colab": {
          "base_uri": "https://localhost:8080/"
        },
        "outputId": "2314b2f0-a7d0-47ac-8b4f-541eebde4465"
      },
      "id": "6KT8wj3Lns2c",
      "execution_count": null,
      "outputs": [
        {
          "output_type": "stream",
          "name": "stdout",
          "text": [
            "2024-11-06 10:57:38,582 SequenceTagger predicts: Dictionary with 45 tags: O, S-SKILL, B-SKILL, E-SKILL, I-SKILL, S-JOB, B-JOB, E-JOB, I-JOB, S-WORK, B-WORK, E-WORK, I-WORK, S-COMPANY, B-COMPANY, E-COMPANY, I-COMPANY, S-LOC, B-LOC, E-LOC, I-LOC, S-DEG, B-DEG, E-DEG, I-DEG, S-UNI, B-UNI, E-UNI, I-UNI, S-STUDY, B-STUDY, E-STUDY, I-STUDY, S-NAME, B-NAME, E-NAME, I-NAME, S-PHONE, B-PHONE, E-PHONE, I-PHONE, S-EMAIL, B-EMAIL, E-EMAIL, I-EMAIL\n"
          ]
        },
        {
          "output_type": "stream",
          "name": "stderr",
          "text": [
            "100%|██████████| 3/3 [00:03<00:00,  1.29s/it]"
          ]
        },
        {
          "output_type": "stream",
          "name": "stdout",
          "text": [
            "\n",
            "Results:\n",
            "- F-score (micro) 0.563\n",
            "- F-score (macro) 0.7187\n",
            "- Accuracy 0.3962\n",
            "\n",
            "By class:\n",
            "              precision    recall  f1-score   support\n",
            "\n",
            "       SKILL     0.3408    0.3862    0.3621       593\n",
            "         JOB     0.5730    0.7020    0.6310       151\n",
            "        WORK     0.8188    0.9457    0.8777       129\n",
            "     COMPANY     0.5172    0.5714    0.5430       105\n",
            "         LOC     0.5701    0.7176    0.6354        85\n",
            "         DEG     0.5862    0.7907    0.6733        43\n",
            "         UNI     0.5660    0.6667    0.6122        45\n",
            "        NAME     0.9388    0.9787    0.9583        47\n",
            "       PHONE     1.0000    0.9787    0.9892        47\n",
            "       EMAIL     0.8222    0.9250    0.8706        40\n",
            "       STUDY     0.8286    0.6905    0.7532        42\n",
            "\n",
            "   micro avg     0.5281    0.6029    0.5630      1327\n",
            "   macro avg     0.6874    0.7594    0.7187      1327\n",
            "weighted avg     0.5324    0.6029    0.5642      1327\n",
            "\n"
          ]
        },
        {
          "output_type": "stream",
          "name": "stderr",
          "text": [
            "\n"
          ]
        }
      ]
    },
    {
      "cell_type": "code",
      "source": [
        "from flair.models import SequenceTagger\n",
        "from flair.data import Sentence\n",
        "import spacy\n",
        "from spacy import displacy\n",
        "\n",
        "# Load your trained Flair NER model\n",
        "tagger = SequenceTagger.load('/content/drive/MyDrive/FYP/Implementation/flair_output/best-model.pt')\n",
        "\n",
        "resume_text = '''\n",
        "John Doe lives at 1234 Elm Street in Los Angeles, CA 90001. He can be reached at +1 (555) 123-4567 or via email at john.doe@example.com. John is a results-driven software engineer with over 5 years of experience in web development and cloud infrastructure, with strong knowledge of JavaScript, Python, and cloud technologies like AWS and Azure. Currently, he works as a Software Engineer at Google LLC in San Francisco, CA, where he has been employed since August 2019. In this role, he has developed scalable web applications using JavaScript, Node.js, and React, deployed and maintained cloud infrastructure on AWS, reducing downtime by 20%, and led a team of 4 engineers to enhance backend performance by 30%. Previously, he worked as a Junior Developer at Tech Innovators Inc. in Austin, TX, from July 2017 to July 2019, where he created RESTful APIs using Python and Flask, collaborated with front-end developers to build and deploy user-facing applications, and wrote unit and integration tests, improving code coverage by 15%.\n",
        "\n",
        "John holds a Master of Science in Computer Science from the University of California, Berkeley, with a graduation date of May 2017, and a Bachelor of Science in Information Technology from the University of Texas at Austin, graduated in May 2015. His skillset includes proficiency in programming languages like Python, JavaScript, and Java; frameworks such as React, Flask, and Django; cloud platforms including AWS, Google Cloud, and Azure; as well as other tools like Git, Docker, Kubernetes, and SQL. He is certified as an AWS Certified Solutions Architect – Associate, earned in 2020, and as a Google Professional Cloud Architect, earned in 2021'\n",
        "'''\n",
        "\n",
        "# Step 1: Predict entities using Flair\n",
        "sentence = Sentence(resume_text)\n",
        "tagger.predict(sentence)\n",
        "\n",
        "# Step 2: Convert Flair predictions to spaCy doc format\n",
        "# Initialize a blank spaCy NLP pipeline\n",
        "nlp = spacy.blank(\"en\")\n",
        "doc = nlp(resume_text)\n",
        "\n",
        "# Extract entities from Flair prediction and convert to spaCy format\n",
        "ents = []\n",
        "for entity in sentence.get_spans('ner'):\n",
        "    start, end = entity.start_position, entity.end_position\n",
        "    label = entity.tag\n",
        "    span = doc.char_span(start, end, label=label)\n",
        "    if span is not None:\n",
        "        ents.append(span)\n",
        "\n",
        "# Set the entities in the spaCy doc\n",
        "doc.ents = ents\n",
        "\n",
        "# Step 3: Visualize using displacy\n",
        "# Display in Jupyter or a web page\n",
        "displacy.render(doc, style=\"ent\", jupyter=True)\n"
      ],
      "metadata": {
        "colab": {
          "base_uri": "https://localhost:8080/",
          "height": 859
        },
        "id": "0DZ319Yi-1eq",
        "outputId": "885fbcc7-552d-4be2-941f-59b3e9947b4a"
      },
      "id": "0DZ319Yi-1eq",
      "execution_count": null,
      "outputs": [
        {
          "output_type": "stream",
          "name": "stdout",
          "text": [
            "2024-11-06 10:57:55,781 SequenceTagger predicts: Dictionary with 47 tags: O, S-SKILL, B-SKILL, E-SKILL, I-SKILL, S-JOB, B-JOB, E-JOB, I-JOB, S-WORK, B-WORK, E-WORK, I-WORK, S-COMPANY, B-COMPANY, E-COMPANY, I-COMPANY, S-LOC, B-LOC, E-LOC, I-LOC, S-UNI, B-UNI, E-UNI, I-UNI, S-DEG, B-DEG, E-DEG, I-DEG, S-NAME, B-NAME, E-NAME, I-NAME, S-PHONE, B-PHONE, E-PHONE, I-PHONE, S-STUDY, B-STUDY, E-STUDY, I-STUDY, S-EMAIL, B-EMAIL, E-EMAIL, I-EMAIL, <START>, <STOP>\n"
          ]
        },
        {
          "output_type": "stream",
          "name": "stderr",
          "text": [
            "/usr/local/lib/python3.10/dist-packages/spacy/util.py:1740: UserWarning: [W111] Jupyter notebook detected: if using `prefer_gpu()` or `require_gpu()`, include it in the same cell right before `spacy.load()` to ensure that the model is loaded on the correct device. More information: http://spacy.io/usage/v3#jupyter-notebook-gpu\n",
            "  warnings.warn(Warnings.W111)\n"
          ]
        },
        {
          "output_type": "display_data",
          "data": {
            "text/plain": [
              "<IPython.core.display.HTML object>"
            ],
            "text/html": [
              "<span class=\"tex2jax_ignore\"><div class=\"entities\" style=\"line-height: 2.5; direction: ltr\"><br>John \n",
              "<mark class=\"entity\" style=\"background: #ddd; padding: 0.45em 0.6em; margin: 0 0.25em; line-height: 1; border-radius: 0.35em;\">\n",
              "    Doe lives\n",
              "    <span style=\"font-size: 0.8em; font-weight: bold; line-height: 1; border-radius: 0.35em; vertical-align: middle; margin-left: 0.5rem\">NAME</span>\n",
              "</mark>\n",
              " at \n",
              "<mark class=\"entity\" style=\"background: #ddd; padding: 0.45em 0.6em; margin: 0 0.25em; line-height: 1; border-radius: 0.35em;\">\n",
              "    1234 Elm\n",
              "    <span style=\"font-size: 0.8em; font-weight: bold; line-height: 1; border-radius: 0.35em; vertical-align: middle; margin-left: 0.5rem\">NAME</span>\n",
              "</mark>\n",
              " Street in \n",
              "<mark class=\"entity\" style=\"background: #ddd; padding: 0.45em 0.6em; margin: 0 0.25em; line-height: 1; border-radius: 0.35em;\">\n",
              "    Los\n",
              "    <span style=\"font-size: 0.8em; font-weight: bold; line-height: 1; border-radius: 0.35em; vertical-align: middle; margin-left: 0.5rem\">DEG</span>\n",
              "</mark>\n",
              " Angeles, CA \n",
              "<mark class=\"entity\" style=\"background: #ddd; padding: 0.45em 0.6em; margin: 0 0.25em; line-height: 1; border-radius: 0.35em;\">\n",
              "    90001\n",
              "    <span style=\"font-size: 0.8em; font-weight: bold; line-height: 1; border-radius: 0.35em; vertical-align: middle; margin-left: 0.5rem\">DEG</span>\n",
              "</mark>\n",
              ". He can be reached at +1 (\n",
              "<mark class=\"entity\" style=\"background: #ddd; padding: 0.45em 0.6em; margin: 0 0.25em; line-height: 1; border-radius: 0.35em;\">\n",
              "    555\n",
              "    <span style=\"font-size: 0.8em; font-weight: bold; line-height: 1; border-radius: 0.35em; vertical-align: middle; margin-left: 0.5rem\">DEG</span>\n",
              "</mark>\n",
              ") \n",
              "<mark class=\"entity\" style=\"background: #ddd; padding: 0.45em 0.6em; margin: 0 0.25em; line-height: 1; border-radius: 0.35em;\">\n",
              "    123-4567\n",
              "    <span style=\"font-size: 0.8em; font-weight: bold; line-height: 1; border-radius: 0.35em; vertical-align: middle; margin-left: 0.5rem\">DEG</span>\n",
              "</mark>\n",
              " or \n",
              "<mark class=\"entity\" style=\"background: #ddd; padding: 0.45em 0.6em; margin: 0 0.25em; line-height: 1; border-radius: 0.35em;\">\n",
              "    via\n",
              "    <span style=\"font-size: 0.8em; font-weight: bold; line-height: 1; border-radius: 0.35em; vertical-align: middle; margin-left: 0.5rem\">DEG</span>\n",
              "</mark>\n",
              " email \n",
              "<mark class=\"entity\" style=\"background: #ddd; padding: 0.45em 0.6em; margin: 0 0.25em; line-height: 1; border-radius: 0.35em;\">\n",
              "    at\n",
              "    <span style=\"font-size: 0.8em; font-weight: bold; line-height: 1; border-radius: 0.35em; vertical-align: middle; margin-left: 0.5rem\">EMAIL</span>\n",
              "</mark>\n",
              " john.doe@example.com. \n",
              "<mark class=\"entity\" style=\"background: #ddd; padding: 0.45em 0.6em; margin: 0 0.25em; line-height: 1; border-radius: 0.35em;\">\n",
              "    John\n",
              "    <span style=\"font-size: 0.8em; font-weight: bold; line-height: 1; border-radius: 0.35em; vertical-align: middle; margin-left: 0.5rem\">DEG</span>\n",
              "</mark>\n",
              " is a \n",
              "<mark class=\"entity\" style=\"background: #ddd; padding: 0.45em 0.6em; margin: 0 0.25em; line-height: 1; border-radius: 0.35em;\">\n",
              "    results-driven\n",
              "    <span style=\"font-size: 0.8em; font-weight: bold; line-height: 1; border-radius: 0.35em; vertical-align: middle; margin-left: 0.5rem\">DEG</span>\n",
              "</mark>\n",
              " software engineer with over 5 years of experience in web development and cloud infrastructure, with strong knowledge of \n",
              "<mark class=\"entity\" style=\"background: #ddd; padding: 0.45em 0.6em; margin: 0 0.25em; line-height: 1; border-radius: 0.35em;\">\n",
              "    JavaScript\n",
              "    <span style=\"font-size: 0.8em; font-weight: bold; line-height: 1; border-radius: 0.35em; vertical-align: middle; margin-left: 0.5rem\">DEG</span>\n",
              "</mark>\n",
              ", \n",
              "<mark class=\"entity\" style=\"background: #ddd; padding: 0.45em 0.6em; margin: 0 0.25em; line-height: 1; border-radius: 0.35em;\">\n",
              "    Python\n",
              "    <span style=\"font-size: 0.8em; font-weight: bold; line-height: 1; border-radius: 0.35em; vertical-align: middle; margin-left: 0.5rem\">DEG</span>\n",
              "</mark>\n",
              ", and \n",
              "<mark class=\"entity\" style=\"background: #ddd; padding: 0.45em 0.6em; margin: 0 0.25em; line-height: 1; border-radius: 0.35em;\">\n",
              "    cloud\n",
              "    <span style=\"font-size: 0.8em; font-weight: bold; line-height: 1; border-radius: 0.35em; vertical-align: middle; margin-left: 0.5rem\">DEG</span>\n",
              "</mark>\n",
              " technologies like \n",
              "<mark class=\"entity\" style=\"background: #ddd; padding: 0.45em 0.6em; margin: 0 0.25em; line-height: 1; border-radius: 0.35em;\">\n",
              "    AWS\n",
              "    <span style=\"font-size: 0.8em; font-weight: bold; line-height: 1; border-radius: 0.35em; vertical-align: middle; margin-left: 0.5rem\">DEG</span>\n",
              "</mark>\n",
              " and \n",
              "<mark class=\"entity\" style=\"background: #ddd; padding: 0.45em 0.6em; margin: 0 0.25em; line-height: 1; border-radius: 0.35em;\">\n",
              "    Azure\n",
              "    <span style=\"font-size: 0.8em; font-weight: bold; line-height: 1; border-radius: 0.35em; vertical-align: middle; margin-left: 0.5rem\">DEG</span>\n",
              "</mark>\n",
              ". Currently, he works as a Software Engineer at Google \n",
              "<mark class=\"entity\" style=\"background: #ddd; padding: 0.45em 0.6em; margin: 0 0.25em; line-height: 1; border-radius: 0.35em;\">\n",
              "    LLC\n",
              "    <span style=\"font-size: 0.8em; font-weight: bold; line-height: 1; border-radius: 0.35em; vertical-align: middle; margin-left: 0.5rem\">DEG</span>\n",
              "</mark>\n",
              " in San \n",
              "<mark class=\"entity\" style=\"background: #ddd; padding: 0.45em 0.6em; margin: 0 0.25em; line-height: 1; border-radius: 0.35em;\">\n",
              "    Francisco\n",
              "    <span style=\"font-size: 0.8em; font-weight: bold; line-height: 1; border-radius: 0.35em; vertical-align: middle; margin-left: 0.5rem\">DEG</span>\n",
              "</mark>\n",
              ", CA, where he has been employed since August \n",
              "<mark class=\"entity\" style=\"background: #ddd; padding: 0.45em 0.6em; margin: 0 0.25em; line-height: 1; border-radius: 0.35em;\">\n",
              "    2019\n",
              "    <span style=\"font-size: 0.8em; font-weight: bold; line-height: 1; border-radius: 0.35em; vertical-align: middle; margin-left: 0.5rem\">DEG</span>\n",
              "</mark>\n",
              ". In this role, he has developed \n",
              "<mark class=\"entity\" style=\"background: #ddd; padding: 0.45em 0.6em; margin: 0 0.25em; line-height: 1; border-radius: 0.35em;\">\n",
              "    scalable\n",
              "    <span style=\"font-size: 0.8em; font-weight: bold; line-height: 1; border-radius: 0.35em; vertical-align: middle; margin-left: 0.5rem\">DEG</span>\n",
              "</mark>\n",
              " web applications using \n",
              "<mark class=\"entity\" style=\"background: #ddd; padding: 0.45em 0.6em; margin: 0 0.25em; line-height: 1; border-radius: 0.35em;\">\n",
              "    JavaScript\n",
              "    <span style=\"font-size: 0.8em; font-weight: bold; line-height: 1; border-radius: 0.35em; vertical-align: middle; margin-left: 0.5rem\">DEG</span>\n",
              "</mark>\n",
              ", \n",
              "<mark class=\"entity\" style=\"background: #ddd; padding: 0.45em 0.6em; margin: 0 0.25em; line-height: 1; border-radius: 0.35em;\">\n",
              "    Node.js\n",
              "    <span style=\"font-size: 0.8em; font-weight: bold; line-height: 1; border-radius: 0.35em; vertical-align: middle; margin-left: 0.5rem\">DEG</span>\n",
              "</mark>\n",
              ", and \n",
              "<mark class=\"entity\" style=\"background: #ddd; padding: 0.45em 0.6em; margin: 0 0.25em; line-height: 1; border-radius: 0.35em;\">\n",
              "    React\n",
              "    <span style=\"font-size: 0.8em; font-weight: bold; line-height: 1; border-radius: 0.35em; vertical-align: middle; margin-left: 0.5rem\">DEG</span>\n",
              "</mark>\n",
              ", deployed and maintained \n",
              "<mark class=\"entity\" style=\"background: #ddd; padding: 0.45em 0.6em; margin: 0 0.25em; line-height: 1; border-radius: 0.35em;\">\n",
              "    cloud\n",
              "    <span style=\"font-size: 0.8em; font-weight: bold; line-height: 1; border-radius: 0.35em; vertical-align: middle; margin-left: 0.5rem\">DEG</span>\n",
              "</mark>\n",
              " infrastructure on \n",
              "<mark class=\"entity\" style=\"background: #ddd; padding: 0.45em 0.6em; margin: 0 0.25em; line-height: 1; border-radius: 0.35em;\">\n",
              "    AWS\n",
              "    <span style=\"font-size: 0.8em; font-weight: bold; line-height: 1; border-radius: 0.35em; vertical-align: middle; margin-left: 0.5rem\">DEG</span>\n",
              "</mark>\n",
              ", reducing \n",
              "<mark class=\"entity\" style=\"background: #ddd; padding: 0.45em 0.6em; margin: 0 0.25em; line-height: 1; border-radius: 0.35em;\">\n",
              "    downtime\n",
              "    <span style=\"font-size: 0.8em; font-weight: bold; line-height: 1; border-radius: 0.35em; vertical-align: middle; margin-left: 0.5rem\">DEG</span>\n",
              "</mark>\n",
              " by 20%, and led a team of 4 engineers to enhance \n",
              "<mark class=\"entity\" style=\"background: #ddd; padding: 0.45em 0.6em; margin: 0 0.25em; line-height: 1; border-radius: 0.35em;\">\n",
              "    backend\n",
              "    <span style=\"font-size: 0.8em; font-weight: bold; line-height: 1; border-radius: 0.35em; vertical-align: middle; margin-left: 0.5rem\">DEG</span>\n",
              "</mark>\n",
              " performance by 30%. Previously, he worked as a Junior \n",
              "<mark class=\"entity\" style=\"background: #ddd; padding: 0.45em 0.6em; margin: 0 0.25em; line-height: 1; border-radius: 0.35em;\">\n",
              "    Developer\n",
              "    <span style=\"font-size: 0.8em; font-weight: bold; line-height: 1; border-radius: 0.35em; vertical-align: middle; margin-left: 0.5rem\">DEG</span>\n",
              "</mark>\n",
              " at Tech Innovators Inc. in \n",
              "<mark class=\"entity\" style=\"background: #ddd; padding: 0.45em 0.6em; margin: 0 0.25em; line-height: 1; border-radius: 0.35em;\">\n",
              "    Austin\n",
              "    <span style=\"font-size: 0.8em; font-weight: bold; line-height: 1; border-radius: 0.35em; vertical-align: middle; margin-left: 0.5rem\">DEG</span>\n",
              "</mark>\n",
              ", \n",
              "<mark class=\"entity\" style=\"background: #ddd; padding: 0.45em 0.6em; margin: 0 0.25em; line-height: 1; border-radius: 0.35em;\">\n",
              "    TX\n",
              "    <span style=\"font-size: 0.8em; font-weight: bold; line-height: 1; border-radius: 0.35em; vertical-align: middle; margin-left: 0.5rem\">DEG</span>\n",
              "</mark>\n",
              ", from July \n",
              "<mark class=\"entity\" style=\"background: #ddd; padding: 0.45em 0.6em; margin: 0 0.25em; line-height: 1; border-radius: 0.35em;\">\n",
              "    2017\n",
              "    <span style=\"font-size: 0.8em; font-weight: bold; line-height: 1; border-radius: 0.35em; vertical-align: middle; margin-left: 0.5rem\">DEG</span>\n",
              "</mark>\n",
              " to July \n",
              "<mark class=\"entity\" style=\"background: #ddd; padding: 0.45em 0.6em; margin: 0 0.25em; line-height: 1; border-radius: 0.35em;\">\n",
              "    2019\n",
              "    <span style=\"font-size: 0.8em; font-weight: bold; line-height: 1; border-radius: 0.35em; vertical-align: middle; margin-left: 0.5rem\">DEG</span>\n",
              "</mark>\n",
              ", where he created \n",
              "<mark class=\"entity\" style=\"background: #ddd; padding: 0.45em 0.6em; margin: 0 0.25em; line-height: 1; border-radius: 0.35em;\">\n",
              "    RESTful APIs\n",
              "    <span style=\"font-size: 0.8em; font-weight: bold; line-height: 1; border-radius: 0.35em; vertical-align: middle; margin-left: 0.5rem\">NAME</span>\n",
              "</mark>\n",
              " using \n",
              "<mark class=\"entity\" style=\"background: #ddd; padding: 0.45em 0.6em; margin: 0 0.25em; line-height: 1; border-radius: 0.35em;\">\n",
              "    Python\n",
              "    <span style=\"font-size: 0.8em; font-weight: bold; line-height: 1; border-radius: 0.35em; vertical-align: middle; margin-left: 0.5rem\">DEG</span>\n",
              "</mark>\n",
              " and \n",
              "<mark class=\"entity\" style=\"background: #ddd; padding: 0.45em 0.6em; margin: 0 0.25em; line-height: 1; border-radius: 0.35em;\">\n",
              "    Flask\n",
              "    <span style=\"font-size: 0.8em; font-weight: bold; line-height: 1; border-radius: 0.35em; vertical-align: middle; margin-left: 0.5rem\">DEG</span>\n",
              "</mark>\n",
              ", \n",
              "<mark class=\"entity\" style=\"background: #ddd; padding: 0.45em 0.6em; margin: 0 0.25em; line-height: 1; border-radius: 0.35em;\">\n",
              "    collaborated\n",
              "    <span style=\"font-size: 0.8em; font-weight: bold; line-height: 1; border-radius: 0.35em; vertical-align: middle; margin-left: 0.5rem\">DEG</span>\n",
              "</mark>\n",
              " with \n",
              "<mark class=\"entity\" style=\"background: #ddd; padding: 0.45em 0.6em; margin: 0 0.25em; line-height: 1; border-radius: 0.35em;\">\n",
              "    front-end\n",
              "    <span style=\"font-size: 0.8em; font-weight: bold; line-height: 1; border-radius: 0.35em; vertical-align: middle; margin-left: 0.5rem\">DEG</span>\n",
              "</mark>\n",
              " developers to build and deploy \n",
              "<mark class=\"entity\" style=\"background: #ddd; padding: 0.45em 0.6em; margin: 0 0.25em; line-height: 1; border-radius: 0.35em;\">\n",
              "    user-facing\n",
              "    <span style=\"font-size: 0.8em; font-weight: bold; line-height: 1; border-radius: 0.35em; vertical-align: middle; margin-left: 0.5rem\">DEG</span>\n",
              "</mark>\n",
              " applications, and wrote unit and integration tests, improving code coverage by 15%.<br><br>John holds a Master of Science in Computer Science from the University of California, \n",
              "<mark class=\"entity\" style=\"background: #ddd; padding: 0.45em 0.6em; margin: 0 0.25em; line-height: 1; border-radius: 0.35em;\">\n",
              "    Berkeley\n",
              "    <span style=\"font-size: 0.8em; font-weight: bold; line-height: 1; border-radius: 0.35em; vertical-align: middle; margin-left: 0.5rem\">DEG</span>\n",
              "</mark>\n",
              ", with a graduation date of May \n",
              "<mark class=\"entity\" style=\"background: #ddd; padding: 0.45em 0.6em; margin: 0 0.25em; line-height: 1; border-radius: 0.35em;\">\n",
              "    2017\n",
              "    <span style=\"font-size: 0.8em; font-weight: bold; line-height: 1; border-radius: 0.35em; vertical-align: middle; margin-left: 0.5rem\">DEG</span>\n",
              "</mark>\n",
              ", and a Bachelor of Science in Information Technology from the University of Texas at \n",
              "<mark class=\"entity\" style=\"background: #ddd; padding: 0.45em 0.6em; margin: 0 0.25em; line-height: 1; border-radius: 0.35em;\">\n",
              "    Austin\n",
              "    <span style=\"font-size: 0.8em; font-weight: bold; line-height: 1; border-radius: 0.35em; vertical-align: middle; margin-left: 0.5rem\">DEG</span>\n",
              "</mark>\n",
              ", \n",
              "<mark class=\"entity\" style=\"background: #ddd; padding: 0.45em 0.6em; margin: 0 0.25em; line-height: 1; border-radius: 0.35em;\">\n",
              "    graduated\n",
              "    <span style=\"font-size: 0.8em; font-weight: bold; line-height: 1; border-radius: 0.35em; vertical-align: middle; margin-left: 0.5rem\">DEG</span>\n",
              "</mark>\n",
              " in May \n",
              "<mark class=\"entity\" style=\"background: #ddd; padding: 0.45em 0.6em; margin: 0 0.25em; line-height: 1; border-radius: 0.35em;\">\n",
              "    2015\n",
              "    <span style=\"font-size: 0.8em; font-weight: bold; line-height: 1; border-radius: 0.35em; vertical-align: middle; margin-left: 0.5rem\">DEG</span>\n",
              "</mark>\n",
              ". His \n",
              "<mark class=\"entity\" style=\"background: #ddd; padding: 0.45em 0.6em; margin: 0 0.25em; line-height: 1; border-radius: 0.35em;\">\n",
              "    skillset\n",
              "    <span style=\"font-size: 0.8em; font-weight: bold; line-height: 1; border-radius: 0.35em; vertical-align: middle; margin-left: 0.5rem\">DEG</span>\n",
              "</mark>\n",
              " includes \n",
              "<mark class=\"entity\" style=\"background: #ddd; padding: 0.45em 0.6em; margin: 0 0.25em; line-height: 1; border-radius: 0.35em;\">\n",
              "    proficiency\n",
              "    <span style=\"font-size: 0.8em; font-weight: bold; line-height: 1; border-radius: 0.35em; vertical-align: middle; margin-left: 0.5rem\">DEG</span>\n",
              "</mark>\n",
              " in programming languages like \n",
              "<mark class=\"entity\" style=\"background: #ddd; padding: 0.45em 0.6em; margin: 0 0.25em; line-height: 1; border-radius: 0.35em;\">\n",
              "    Python\n",
              "    <span style=\"font-size: 0.8em; font-weight: bold; line-height: 1; border-radius: 0.35em; vertical-align: middle; margin-left: 0.5rem\">DEG</span>\n",
              "</mark>\n",
              ", \n",
              "<mark class=\"entity\" style=\"background: #ddd; padding: 0.45em 0.6em; margin: 0 0.25em; line-height: 1; border-radius: 0.35em;\">\n",
              "    JavaScript\n",
              "    <span style=\"font-size: 0.8em; font-weight: bold; line-height: 1; border-radius: 0.35em; vertical-align: middle; margin-left: 0.5rem\">DEG</span>\n",
              "</mark>\n",
              ", and \n",
              "<mark class=\"entity\" style=\"background: #ddd; padding: 0.45em 0.6em; margin: 0 0.25em; line-height: 1; border-radius: 0.35em;\">\n",
              "    Java\n",
              "    <span style=\"font-size: 0.8em; font-weight: bold; line-height: 1; border-radius: 0.35em; vertical-align: middle; margin-left: 0.5rem\">DEG</span>\n",
              "</mark>\n",
              "; \n",
              "<mark class=\"entity\" style=\"background: #ddd; padding: 0.45em 0.6em; margin: 0 0.25em; line-height: 1; border-radius: 0.35em;\">\n",
              "    frameworks\n",
              "    <span style=\"font-size: 0.8em; font-weight: bold; line-height: 1; border-radius: 0.35em; vertical-align: middle; margin-left: 0.5rem\">DEG</span>\n",
              "</mark>\n",
              " such as \n",
              "<mark class=\"entity\" style=\"background: #ddd; padding: 0.45em 0.6em; margin: 0 0.25em; line-height: 1; border-radius: 0.35em;\">\n",
              "    React\n",
              "    <span style=\"font-size: 0.8em; font-weight: bold; line-height: 1; border-radius: 0.35em; vertical-align: middle; margin-left: 0.5rem\">DEG</span>\n",
              "</mark>\n",
              ", \n",
              "<mark class=\"entity\" style=\"background: #ddd; padding: 0.45em 0.6em; margin: 0 0.25em; line-height: 1; border-radius: 0.35em;\">\n",
              "    Flask\n",
              "    <span style=\"font-size: 0.8em; font-weight: bold; line-height: 1; border-radius: 0.35em; vertical-align: middle; margin-left: 0.5rem\">DEG</span>\n",
              "</mark>\n",
              ", and \n",
              "<mark class=\"entity\" style=\"background: #ddd; padding: 0.45em 0.6em; margin: 0 0.25em; line-height: 1; border-radius: 0.35em;\">\n",
              "    Django\n",
              "    <span style=\"font-size: 0.8em; font-weight: bold; line-height: 1; border-radius: 0.35em; vertical-align: middle; margin-left: 0.5rem\">DEG</span>\n",
              "</mark>\n",
              "; \n",
              "<mark class=\"entity\" style=\"background: #ddd; padding: 0.45em 0.6em; margin: 0 0.25em; line-height: 1; border-radius: 0.35em;\">\n",
              "    cloud\n",
              "    <span style=\"font-size: 0.8em; font-weight: bold; line-height: 1; border-radius: 0.35em; vertical-align: middle; margin-left: 0.5rem\">DEG</span>\n",
              "</mark>\n",
              " platforms including \n",
              "<mark class=\"entity\" style=\"background: #ddd; padding: 0.45em 0.6em; margin: 0 0.25em; line-height: 1; border-radius: 0.35em;\">\n",
              "    AWS\n",
              "    <span style=\"font-size: 0.8em; font-weight: bold; line-height: 1; border-radius: 0.35em; vertical-align: middle; margin-left: 0.5rem\">DEG</span>\n",
              "</mark>\n",
              ", Google \n",
              "<mark class=\"entity\" style=\"background: #ddd; padding: 0.45em 0.6em; margin: 0 0.25em; line-height: 1; border-radius: 0.35em;\">\n",
              "    Cloud\n",
              "    <span style=\"font-size: 0.8em; font-weight: bold; line-height: 1; border-radius: 0.35em; vertical-align: middle; margin-left: 0.5rem\">DEG</span>\n",
              "</mark>\n",
              ", and \n",
              "<mark class=\"entity\" style=\"background: #ddd; padding: 0.45em 0.6em; margin: 0 0.25em; line-height: 1; border-radius: 0.35em;\">\n",
              "    Azure\n",
              "    <span style=\"font-size: 0.8em; font-weight: bold; line-height: 1; border-radius: 0.35em; vertical-align: middle; margin-left: 0.5rem\">DEG</span>\n",
              "</mark>\n",
              "; as well as other tools like \n",
              "<mark class=\"entity\" style=\"background: #ddd; padding: 0.45em 0.6em; margin: 0 0.25em; line-height: 1; border-radius: 0.35em;\">\n",
              "    Git\n",
              "    <span style=\"font-size: 0.8em; font-weight: bold; line-height: 1; border-radius: 0.35em; vertical-align: middle; margin-left: 0.5rem\">DEG</span>\n",
              "</mark>\n",
              ", \n",
              "<mark class=\"entity\" style=\"background: #ddd; padding: 0.45em 0.6em; margin: 0 0.25em; line-height: 1; border-radius: 0.35em;\">\n",
              "    Docker\n",
              "    <span style=\"font-size: 0.8em; font-weight: bold; line-height: 1; border-radius: 0.35em; vertical-align: middle; margin-left: 0.5rem\">DEG</span>\n",
              "</mark>\n",
              ", \n",
              "<mark class=\"entity\" style=\"background: #ddd; padding: 0.45em 0.6em; margin: 0 0.25em; line-height: 1; border-radius: 0.35em;\">\n",
              "    Kubernetes\n",
              "    <span style=\"font-size: 0.8em; font-weight: bold; line-height: 1; border-radius: 0.35em; vertical-align: middle; margin-left: 0.5rem\">DEG</span>\n",
              "</mark>\n",
              ", and \n",
              "<mark class=\"entity\" style=\"background: #ddd; padding: 0.45em 0.6em; margin: 0 0.25em; line-height: 1; border-radius: 0.35em;\">\n",
              "    SQL\n",
              "    <span style=\"font-size: 0.8em; font-weight: bold; line-height: 1; border-radius: 0.35em; vertical-align: middle; margin-left: 0.5rem\">DEG</span>\n",
              "</mark>\n",
              ". He is certified as an \n",
              "<mark class=\"entity\" style=\"background: #ddd; padding: 0.45em 0.6em; margin: 0 0.25em; line-height: 1; border-radius: 0.35em;\">\n",
              "    AWS Certified\n",
              "    <span style=\"font-size: 0.8em; font-weight: bold; line-height: 1; border-radius: 0.35em; vertical-align: middle; margin-left: 0.5rem\">NAME</span>\n",
              "</mark>\n",
              " Solutions \n",
              "<mark class=\"entity\" style=\"background: #ddd; padding: 0.45em 0.6em; margin: 0 0.25em; line-height: 1; border-radius: 0.35em;\">\n",
              "    Architect\n",
              "    <span style=\"font-size: 0.8em; font-weight: bold; line-height: 1; border-radius: 0.35em; vertical-align: middle; margin-left: 0.5rem\">DEG</span>\n",
              "</mark>\n",
              " – \n",
              "<mark class=\"entity\" style=\"background: #ddd; padding: 0.45em 0.6em; margin: 0 0.25em; line-height: 1; border-radius: 0.35em;\">\n",
              "    Associate\n",
              "    <span style=\"font-size: 0.8em; font-weight: bold; line-height: 1; border-radius: 0.35em; vertical-align: middle; margin-left: 0.5rem\">DEG</span>\n",
              "</mark>\n",
              ", \n",
              "<mark class=\"entity\" style=\"background: #ddd; padding: 0.45em 0.6em; margin: 0 0.25em; line-height: 1; border-radius: 0.35em;\">\n",
              "    earned\n",
              "    <span style=\"font-size: 0.8em; font-weight: bold; line-height: 1; border-radius: 0.35em; vertical-align: middle; margin-left: 0.5rem\">DEG</span>\n",
              "</mark>\n",
              " in 2020, and as a Google Professional Cloud \n",
              "<mark class=\"entity\" style=\"background: #ddd; padding: 0.45em 0.6em; margin: 0 0.25em; line-height: 1; border-radius: 0.35em;\">\n",
              "    Architect\n",
              "    <span style=\"font-size: 0.8em; font-weight: bold; line-height: 1; border-radius: 0.35em; vertical-align: middle; margin-left: 0.5rem\">DEG</span>\n",
              "</mark>\n",
              ", \n",
              "<mark class=\"entity\" style=\"background: #ddd; padding: 0.45em 0.6em; margin: 0 0.25em; line-height: 1; border-radius: 0.35em;\">\n",
              "    earned\n",
              "    <span style=\"font-size: 0.8em; font-weight: bold; line-height: 1; border-radius: 0.35em; vertical-align: middle; margin-left: 0.5rem\">DEG</span>\n",
              "</mark>\n",
              " in \n",
              "<mark class=\"entity\" style=\"background: #ddd; padding: 0.45em 0.6em; margin: 0 0.25em; line-height: 1; border-radius: 0.35em;\">\n",
              "    2021\n",
              "    <span style=\"font-size: 0.8em; font-weight: bold; line-height: 1; border-radius: 0.35em; vertical-align: middle; margin-left: 0.5rem\">EMAIL</span>\n",
              "</mark>\n",
              "\n",
              "<mark class=\"entity\" style=\"background: #ddd; padding: 0.45em 0.6em; margin: 0 0.25em; line-height: 1; border-radius: 0.35em;\">\n",
              "    '\n",
              "    <span style=\"font-size: 0.8em; font-weight: bold; line-height: 1; border-radius: 0.35em; vertical-align: middle; margin-left: 0.5rem\">JOB</span>\n",
              "</mark>\n",
              "<br></div></span>"
            ]
          },
          "metadata": {}
        }
      ]
    },
    {
      "cell_type": "code",
      "source": [
        "from flair.models import SequenceTagger\n",
        "from flair.data import Sentence\n",
        "\n",
        "# Load the pretrained NER model\n",
        "tagger = SequenceTagger.load(\"/content/drive/MyDrive/FYP/Implementation/flair_output/best-model.pt\")\n",
        "# Example text\n",
        "text = \"Apple is looking at buying U.K. startup for $1 billion.\"\n",
        "\n",
        "# Create a Sentence object\n",
        "sentence = Sentence(resume_text)\n",
        "\n",
        "# Predict entities\n",
        "tagger.predict(sentence)\n",
        "\n",
        "# Print the detected entities\n",
        "for entity in sentence.get_spans(\"ner\"):\n",
        "    print(f\"Entity: {entity.text}, Type: {entity.get_label('ner').value}, Confidence: {entity.score}\")\n"
      ],
      "metadata": {
        "colab": {
          "base_uri": "https://localhost:8080/"
        },
        "id": "Eh_ohqkhnuwA",
        "outputId": "d996bc86-f390-4f09-86d6-bb35de35f428"
      },
      "id": "Eh_ohqkhnuwA",
      "execution_count": null,
      "outputs": [
        {
          "output_type": "stream",
          "name": "stdout",
          "text": [
            "2024-11-06 10:58:17,528 SequenceTagger predicts: Dictionary with 47 tags: O, S-SKILL, B-SKILL, E-SKILL, I-SKILL, S-JOB, B-JOB, E-JOB, I-JOB, S-WORK, B-WORK, E-WORK, I-WORK, S-COMPANY, B-COMPANY, E-COMPANY, I-COMPANY, S-LOC, B-LOC, E-LOC, I-LOC, S-UNI, B-UNI, E-UNI, I-UNI, S-DEG, B-DEG, E-DEG, I-DEG, S-NAME, B-NAME, E-NAME, I-NAME, S-PHONE, B-PHONE, E-PHONE, I-PHONE, S-STUDY, B-STUDY, E-STUDY, I-STUDY, S-EMAIL, B-EMAIL, E-EMAIL, I-EMAIL, <START>, <STOP>\n",
            "Entity: Doe lives, Type: NAME, Confidence: 0.16702505946159363\n",
            "Entity: 1234 Elm, Type: NAME, Confidence: 0.11599351465702057\n",
            "Entity: Los, Type: DEG, Confidence: 0.18544061481952667\n",
            "Entity: 90001, Type: DEG, Confidence: 0.14748063683509827\n",
            "Entity: 555, Type: DEG, Confidence: 0.11017131805419922\n",
            "Entity: 123-4567, Type: DEG, Confidence: 0.11569119244813919\n",
            "Entity: via, Type: DEG, Confidence: 0.20629706978797913\n",
            "Entity: at, Type: EMAIL, Confidence: 0.19365909695625305\n",
            "Entity: john.doe, Type: JOB, Confidence: 0.10587572306394577\n",
            "Entity: @, Type: DEG, Confidence: 0.1225953996181488\n",
            "Entity: example.com, Type: STUDY, Confidence: 0.10775433480739594\n",
            "Entity: John, Type: DEG, Confidence: 0.1873975694179535\n",
            "Entity: results-driven, Type: DEG, Confidence: 0.1495516300201416\n",
            "Entity: JavaScript, Type: DEG, Confidence: 0.1738281399011612\n",
            "Entity: Python, Type: DEG, Confidence: 0.1625775396823883\n",
            "Entity: cloud, Type: DEG, Confidence: 0.1898547261953354\n",
            "Entity: AWS, Type: DEG, Confidence: 0.1078900545835495\n",
            "Entity: Azure, Type: DEG, Confidence: 0.1390189230442047\n",
            "Entity: LLC, Type: DEG, Confidence: 0.19518113136291504\n",
            "Entity: Francisco, Type: DEG, Confidence: 0.20789998769760132\n",
            "Entity: 2019, Type: DEG, Confidence: 0.1681929975748062\n",
            "Entity: scalable, Type: DEG, Confidence: 0.18266770243644714\n",
            "Entity: JavaScript, Type: DEG, Confidence: 0.16769887506961823\n",
            "Entity: Node.js, Type: DEG, Confidence: 0.11853489279747009\n",
            "Entity: React, Type: DEG, Confidence: 0.20138564705848694\n",
            "Entity: cloud, Type: DEG, Confidence: 0.17859530448913574\n",
            "Entity: AWS, Type: DEG, Confidence: 0.11059108376502991\n",
            "Entity: downtime, Type: DEG, Confidence: 0.15199507772922516\n",
            "Entity: backend, Type: DEG, Confidence: 0.15180251002311707\n",
            "Entity: Developer, Type: DEG, Confidence: 0.200774148106575\n",
            "Entity: Innovators Inc, Type: NAME, Confidence: 0.14714515209197998\n",
            "Entity: Austin, Type: DEG, Confidence: 0.17351219058036804\n",
            "Entity: TX, Type: DEG, Confidence: 0.14547361433506012\n",
            "Entity: 2017, Type: DEG, Confidence: 0.17111483216285706\n",
            "Entity: 2019, Type: DEG, Confidence: 0.1492062658071518\n",
            "Entity: RESTful APIs, Type: NAME, Confidence: 0.12886418029665947\n",
            "Entity: Python, Type: DEG, Confidence: 0.12615029513835907\n",
            "Entity: Flask, Type: DEG, Confidence: 0.11048925668001175\n",
            "Entity: collaborated, Type: DEG, Confidence: 0.1400829404592514\n",
            "Entity: front-end, Type: DEG, Confidence: 0.1426965743303299\n",
            "Entity: user-facing, Type: DEG, Confidence: 0.1417454183101654\n",
            "Entity: Berkeley, Type: DEG, Confidence: 0.21379657089710236\n",
            "Entity: 2017, Type: DEG, Confidence: 0.20121298730373383\n",
            "Entity: Austin, Type: DEG, Confidence: 0.1921633780002594\n",
            "Entity: graduated, Type: DEG, Confidence: 0.19784928858280182\n",
            "Entity: 2015, Type: DEG, Confidence: 0.20958878099918365\n",
            "Entity: skillset, Type: DEG, Confidence: 0.11280574649572372\n",
            "Entity: proficiency, Type: DEG, Confidence: 0.20423416793346405\n",
            "Entity: Python, Type: DEG, Confidence: 0.15512722730636597\n",
            "Entity: JavaScript, Type: DEG, Confidence: 0.1654430627822876\n",
            "Entity: Java, Type: DEG, Confidence: 0.19505003094673157\n",
            "Entity: frameworks, Type: DEG, Confidence: 0.18640774488449097\n",
            "Entity: React, Type: DEG, Confidence: 0.19585756957530975\n",
            "Entity: Flask, Type: DEG, Confidence: 0.10743413120508194\n",
            "Entity: Django, Type: DEG, Confidence: 0.10782385617494583\n",
            "Entity: cloud, Type: DEG, Confidence: 0.15763729810714722\n",
            "Entity: AWS, Type: DEG, Confidence: 0.10634929686784744\n",
            "Entity: Cloud, Type: DEG, Confidence: 0.18283122777938843\n",
            "Entity: Azure, Type: DEG, Confidence: 0.15222297608852386\n",
            "Entity: Git, Type: DEG, Confidence: 0.11355996131896973\n",
            "Entity: Docker, Type: DEG, Confidence: 0.11132988333702087\n",
            "Entity: Kubernetes, Type: DEG, Confidence: 0.11910903453826904\n",
            "Entity: SQL, Type: DEG, Confidence: 0.16887710988521576\n",
            "Entity: AWS Certified, Type: NAME, Confidence: 0.16041680797934532\n",
            "Entity: Architect, Type: DEG, Confidence: 0.1597680151462555\n",
            "Entity: Associate, Type: DEG, Confidence: 0.16229602694511414\n",
            "Entity: earned, Type: DEG, Confidence: 0.21766595542430878\n",
            "Entity: Architect, Type: DEG, Confidence: 0.18512634932994843\n",
            "Entity: earned, Type: DEG, Confidence: 0.16895930469036102\n",
            "Entity: 2021, Type: EMAIL, Confidence: 0.11030236631631851\n",
            "Entity: ', Type: JOB, Confidence: 0.16406425833702087\n"
          ]
        }
      ]
    }
  ],
  "metadata": {
    "kernelspec": {
      "display_name": "Python 3",
      "name": "python3"
    },
    "language_info": {
      "codemirror_mode": {
        "name": "ipython",
        "version": 3
      },
      "file_extension": ".py",
      "mimetype": "text/x-python",
      "name": "python",
      "nbconvert_exporter": "python",
      "pygments_lexer": "ipython3",
      "version": "3.10.0"
    },
    "colab": {
      "provenance": [],
      "gpuType": "T4",
      "include_colab_link": true
    },
    "accelerator": "GPU"
  },
  "nbformat": 4,
  "nbformat_minor": 5
}