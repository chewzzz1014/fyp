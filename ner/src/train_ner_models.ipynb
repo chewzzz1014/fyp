{
  "cells": [
    {
      "cell_type": "markdown",
      "metadata": {
        "id": "view-in-github",
        "colab_type": "text"
      },
      "source": [
        "<a href=\"https://colab.research.google.com/github/chewzzz1014/fyp/blob/master/ner/src/train_ner_models.ipynb\" target=\"_parent\"><img src=\"https://colab.research.google.com/assets/colab-badge.svg\" alt=\"Open In Colab\"/></a>"
      ]
    },
    {
      "cell_type": "markdown",
      "source": [
        "# Train NER Models"
      ],
      "metadata": {
        "id": "t0P9v82yDulr"
      },
      "id": "t0P9v82yDulr"
    },
    {
      "cell_type": "code",
      "source": [
        "# mount drive\n",
        "from google.colab import drive\n",
        "drive.mount('/content/drive')"
      ],
      "metadata": {
        "id": "5YToyjV-40ZV",
        "outputId": "063fa1e0-1181-457e-e0ef-39196a7682c3",
        "colab": {
          "base_uri": "https://localhost:8080/"
        }
      },
      "id": "5YToyjV-40ZV",
      "execution_count": 38,
      "outputs": [
        {
          "output_type": "stream",
          "name": "stdout",
          "text": [
            "Mounted at /content/drive\n"
          ]
        }
      ]
    },
    {
      "cell_type": "code",
      "source": [
        "!mkdir spacy_ner_data"
      ],
      "metadata": {
        "id": "VtZ7OFQtpG4-"
      },
      "id": "VtZ7OFQtpG4-",
      "execution_count": 2,
      "outputs": []
    },
    {
      "cell_type": "code",
      "source": [
        "import json\n",
        "import random\n",
        "from sklearn.model_selection import train_test_split\n",
        "import spacy\n",
        "from spacy.tokens import DocBin\n",
        "\n",
        "# Load JSON data\n",
        "with open('/content/drive/MyDrive/FYP/Implementation/Resume Dataset/100_resumes_annotated.json', \"r\") as f:\n",
        "    data = json.load(f)\n",
        "\n",
        "def remove_overlapping_entities(entities):\n",
        "    \"\"\"Remove overlapping entities from the list.\"\"\"\n",
        "    entities = sorted(entities, key=lambda x: x[0])  # Sort by start position\n",
        "    non_overlapping = []\n",
        "    last_end = -1\n",
        "    for start, end, label in entities:\n",
        "        if start >= last_end:  # Only add if there's no overlap with the previous entity\n",
        "            non_overlapping.append((start, end, label))\n",
        "            last_end = end\n",
        "    return non_overlapping\n",
        "\n",
        "# Function to convert JSON data to Spacy's DocBin format\n",
        "def convert_to_spacy_format(data):\n",
        "    nlp = spacy.blank(\"en\")  # Load a blank Spacy model\n",
        "    doc_bin = DocBin()  # Container for our docs\n",
        "\n",
        "    for item in data:\n",
        "        text = item['data']['Text']  # Full document text\n",
        "        entities = []\n",
        "\n",
        "        for annotation in item['annotations'][0]['result']:\n",
        "            start = annotation['value']['start']\n",
        "            end = annotation['value']['end']\n",
        "            label = annotation['value']['labels'][0]  # Entity label\n",
        "            entities.append((start, end, label))\n",
        "\n",
        "        entities = remove_overlapping_entities(entities)  # Remove overlapping entities\n",
        "        # Create a Spacy doc and add entities to it\n",
        "        doc = nlp.make_doc(text)\n",
        "        spans = [doc.char_span(start, end, label=label) for start, end, label in entities]\n",
        "        # Filter out None spans if Spacy can't align the character indices with tokens\n",
        "        spans = [span for span in spans if span is not None]\n",
        "        doc.ents = spans  # Assign entities to the doc\n",
        "        doc_bin.add(doc)\n",
        "\n",
        "    return doc_bin\n",
        "\n",
        "# Split data into train and test sets\n",
        "train_data, test_data = train_test_split(data, test_size=0.2, random_state=42)\n",
        "\n",
        "# Convert train and test sets to Spacy format\n",
        "train_doc_bin = convert_to_spacy_format(train_data)\n",
        "test_doc_bin = convert_to_spacy_format(test_data)\n",
        "\n",
        "# Save the train and test data to .spacy files\n",
        "train_doc_bin.to_disk(\"spacy_ner_data/train_data.spacy\")\n",
        "test_doc_bin.to_disk(\"spacy_ner_data/test_data.spacy\")"
      ],
      "metadata": {
        "id": "R-8QBDX3gtkp"
      },
      "id": "R-8QBDX3gtkp",
      "execution_count": 39,
      "outputs": []
    },
    {
      "cell_type": "markdown",
      "source": [
        "## Spacy NER"
      ],
      "metadata": {
        "id": "FMM7E6hNCEUv"
      },
      "id": "FMM7E6hNCEUv"
    },
    {
      "cell_type": "code",
      "source": [
        "# create base_config.cfg and paste the config generated from spacy widget\n",
        "# update train and test file path\n",
        "!touch base_config.cfg"
      ],
      "metadata": {
        "id": "ruPln43fCDLm"
      },
      "id": "ruPln43fCDLm",
      "execution_count": 4,
      "outputs": []
    },
    {
      "cell_type": "code",
      "source": [
        "# generate config.cfg from base_config.cfg\n",
        "!python -m spacy init fill-config base_config.cfg config.cfg"
      ],
      "metadata": {
        "id": "0aRjL9jqC-5k",
        "colab": {
          "base_uri": "https://localhost:8080/"
        },
        "outputId": "cac54dfe-e4c0-409c-ec3c-9f807b20bcf1"
      },
      "id": "0aRjL9jqC-5k",
      "execution_count": 40,
      "outputs": [
        {
          "output_type": "stream",
          "name": "stdout",
          "text": [
            "\u001b[38;5;2m✔ Auto-filled config with all values\u001b[0m\n",
            "\u001b[38;5;2m✔ Saved config\u001b[0m\n",
            "config.cfg\n",
            "You can now add your data and train your pipeline:\n",
            "python -m spacy train config.cfg --paths.train ./train.spacy --paths.dev ./dev.spacy\n"
          ]
        }
      ]
    },
    {
      "cell_type": "code",
      "source": [
        "!python -m spacy download en_core_web_lg"
      ],
      "metadata": {
        "colab": {
          "base_uri": "https://localhost:8080/"
        },
        "id": "9wb_aBw9X2NU",
        "outputId": "72b5a8a9-b834-4bc5-e6b0-f53f6d091410"
      },
      "id": "9wb_aBw9X2NU",
      "execution_count": 6,
      "outputs": [
        {
          "output_type": "stream",
          "name": "stdout",
          "text": [
            "Collecting en-core-web-lg==3.7.1\n",
            "  Downloading https://github.com/explosion/spacy-models/releases/download/en_core_web_lg-3.7.1/en_core_web_lg-3.7.1-py3-none-any.whl (587.7 MB)\n",
            "\u001b[2K     \u001b[90m━━━━━━━━━━━━━━━━━━━━━━━━━━━━━━━━━━━━━━━━\u001b[0m \u001b[32m587.7/587.7 MB\u001b[0m \u001b[31m1.3 MB/s\u001b[0m eta \u001b[36m0:00:00\u001b[0m\n",
            "\u001b[?25hRequirement already satisfied: spacy<3.8.0,>=3.7.2 in /usr/local/lib/python3.10/dist-packages (from en-core-web-lg==3.7.1) (3.7.5)\n",
            "Requirement already satisfied: spacy-legacy<3.1.0,>=3.0.11 in /usr/local/lib/python3.10/dist-packages (from spacy<3.8.0,>=3.7.2->en-core-web-lg==3.7.1) (3.0.12)\n",
            "Requirement already satisfied: spacy-loggers<2.0.0,>=1.0.0 in /usr/local/lib/python3.10/dist-packages (from spacy<3.8.0,>=3.7.2->en-core-web-lg==3.7.1) (1.0.5)\n",
            "Requirement already satisfied: murmurhash<1.1.0,>=0.28.0 in /usr/local/lib/python3.10/dist-packages (from spacy<3.8.0,>=3.7.2->en-core-web-lg==3.7.1) (1.0.10)\n",
            "Requirement already satisfied: cymem<2.1.0,>=2.0.2 in /usr/local/lib/python3.10/dist-packages (from spacy<3.8.0,>=3.7.2->en-core-web-lg==3.7.1) (2.0.8)\n",
            "Requirement already satisfied: preshed<3.1.0,>=3.0.2 in /usr/local/lib/python3.10/dist-packages (from spacy<3.8.0,>=3.7.2->en-core-web-lg==3.7.1) (3.0.9)\n",
            "Requirement already satisfied: thinc<8.3.0,>=8.2.2 in /usr/local/lib/python3.10/dist-packages (from spacy<3.8.0,>=3.7.2->en-core-web-lg==3.7.1) (8.2.5)\n",
            "Requirement already satisfied: wasabi<1.2.0,>=0.9.1 in /usr/local/lib/python3.10/dist-packages (from spacy<3.8.0,>=3.7.2->en-core-web-lg==3.7.1) (1.1.3)\n",
            "Requirement already satisfied: srsly<3.0.0,>=2.4.3 in /usr/local/lib/python3.10/dist-packages (from spacy<3.8.0,>=3.7.2->en-core-web-lg==3.7.1) (2.4.8)\n",
            "Requirement already satisfied: catalogue<2.1.0,>=2.0.6 in /usr/local/lib/python3.10/dist-packages (from spacy<3.8.0,>=3.7.2->en-core-web-lg==3.7.1) (2.0.10)\n",
            "Requirement already satisfied: weasel<0.5.0,>=0.1.0 in /usr/local/lib/python3.10/dist-packages (from spacy<3.8.0,>=3.7.2->en-core-web-lg==3.7.1) (0.4.1)\n",
            "Requirement already satisfied: typer<1.0.0,>=0.3.0 in /usr/local/lib/python3.10/dist-packages (from spacy<3.8.0,>=3.7.2->en-core-web-lg==3.7.1) (0.12.5)\n",
            "Requirement already satisfied: tqdm<5.0.0,>=4.38.0 in /usr/local/lib/python3.10/dist-packages (from spacy<3.8.0,>=3.7.2->en-core-web-lg==3.7.1) (4.66.5)\n",
            "Requirement already satisfied: requests<3.0.0,>=2.13.0 in /usr/local/lib/python3.10/dist-packages (from spacy<3.8.0,>=3.7.2->en-core-web-lg==3.7.1) (2.32.3)\n",
            "Requirement already satisfied: pydantic!=1.8,!=1.8.1,<3.0.0,>=1.7.4 in /usr/local/lib/python3.10/dist-packages (from spacy<3.8.0,>=3.7.2->en-core-web-lg==3.7.1) (2.9.2)\n",
            "Requirement already satisfied: jinja2 in /usr/local/lib/python3.10/dist-packages (from spacy<3.8.0,>=3.7.2->en-core-web-lg==3.7.1) (3.1.4)\n",
            "Requirement already satisfied: setuptools in /usr/local/lib/python3.10/dist-packages (from spacy<3.8.0,>=3.7.2->en-core-web-lg==3.7.1) (75.1.0)\n",
            "Requirement already satisfied: packaging>=20.0 in /usr/local/lib/python3.10/dist-packages (from spacy<3.8.0,>=3.7.2->en-core-web-lg==3.7.1) (24.1)\n",
            "Requirement already satisfied: langcodes<4.0.0,>=3.2.0 in /usr/local/lib/python3.10/dist-packages (from spacy<3.8.0,>=3.7.2->en-core-web-lg==3.7.1) (3.4.1)\n",
            "Requirement already satisfied: numpy>=1.19.0 in /usr/local/lib/python3.10/dist-packages (from spacy<3.8.0,>=3.7.2->en-core-web-lg==3.7.1) (1.26.4)\n",
            "Requirement already satisfied: language-data>=1.2 in /usr/local/lib/python3.10/dist-packages (from langcodes<4.0.0,>=3.2.0->spacy<3.8.0,>=3.7.2->en-core-web-lg==3.7.1) (1.2.0)\n",
            "Requirement already satisfied: annotated-types>=0.6.0 in /usr/local/lib/python3.10/dist-packages (from pydantic!=1.8,!=1.8.1,<3.0.0,>=1.7.4->spacy<3.8.0,>=3.7.2->en-core-web-lg==3.7.1) (0.7.0)\n",
            "Requirement already satisfied: pydantic-core==2.23.4 in /usr/local/lib/python3.10/dist-packages (from pydantic!=1.8,!=1.8.1,<3.0.0,>=1.7.4->spacy<3.8.0,>=3.7.2->en-core-web-lg==3.7.1) (2.23.4)\n",
            "Requirement already satisfied: typing-extensions>=4.6.1 in /usr/local/lib/python3.10/dist-packages (from pydantic!=1.8,!=1.8.1,<3.0.0,>=1.7.4->spacy<3.8.0,>=3.7.2->en-core-web-lg==3.7.1) (4.12.2)\n",
            "Requirement already satisfied: charset-normalizer<4,>=2 in /usr/local/lib/python3.10/dist-packages (from requests<3.0.0,>=2.13.0->spacy<3.8.0,>=3.7.2->en-core-web-lg==3.7.1) (3.4.0)\n",
            "Requirement already satisfied: idna<4,>=2.5 in /usr/local/lib/python3.10/dist-packages (from requests<3.0.0,>=2.13.0->spacy<3.8.0,>=3.7.2->en-core-web-lg==3.7.1) (3.10)\n",
            "Requirement already satisfied: urllib3<3,>=1.21.1 in /usr/local/lib/python3.10/dist-packages (from requests<3.0.0,>=2.13.0->spacy<3.8.0,>=3.7.2->en-core-web-lg==3.7.1) (2.2.3)\n",
            "Requirement already satisfied: certifi>=2017.4.17 in /usr/local/lib/python3.10/dist-packages (from requests<3.0.0,>=2.13.0->spacy<3.8.0,>=3.7.2->en-core-web-lg==3.7.1) (2024.8.30)\n",
            "Requirement already satisfied: blis<0.8.0,>=0.7.8 in /usr/local/lib/python3.10/dist-packages (from thinc<8.3.0,>=8.2.2->spacy<3.8.0,>=3.7.2->en-core-web-lg==3.7.1) (0.7.11)\n",
            "Requirement already satisfied: confection<1.0.0,>=0.0.1 in /usr/local/lib/python3.10/dist-packages (from thinc<8.3.0,>=8.2.2->spacy<3.8.0,>=3.7.2->en-core-web-lg==3.7.1) (0.1.5)\n",
            "Requirement already satisfied: click>=8.0.0 in /usr/local/lib/python3.10/dist-packages (from typer<1.0.0,>=0.3.0->spacy<3.8.0,>=3.7.2->en-core-web-lg==3.7.1) (8.1.7)\n",
            "Requirement already satisfied: shellingham>=1.3.0 in /usr/local/lib/python3.10/dist-packages (from typer<1.0.0,>=0.3.0->spacy<3.8.0,>=3.7.2->en-core-web-lg==3.7.1) (1.5.4)\n",
            "Requirement already satisfied: rich>=10.11.0 in /usr/local/lib/python3.10/dist-packages (from typer<1.0.0,>=0.3.0->spacy<3.8.0,>=3.7.2->en-core-web-lg==3.7.1) (13.9.3)\n",
            "Requirement already satisfied: cloudpathlib<1.0.0,>=0.7.0 in /usr/local/lib/python3.10/dist-packages (from weasel<0.5.0,>=0.1.0->spacy<3.8.0,>=3.7.2->en-core-web-lg==3.7.1) (0.20.0)\n",
            "Requirement already satisfied: smart-open<8.0.0,>=5.2.1 in /usr/local/lib/python3.10/dist-packages (from weasel<0.5.0,>=0.1.0->spacy<3.8.0,>=3.7.2->en-core-web-lg==3.7.1) (7.0.5)\n",
            "Requirement already satisfied: MarkupSafe>=2.0 in /usr/local/lib/python3.10/dist-packages (from jinja2->spacy<3.8.0,>=3.7.2->en-core-web-lg==3.7.1) (3.0.2)\n",
            "Requirement already satisfied: marisa-trie>=0.7.7 in /usr/local/lib/python3.10/dist-packages (from language-data>=1.2->langcodes<4.0.0,>=3.2.0->spacy<3.8.0,>=3.7.2->en-core-web-lg==3.7.1) (1.2.1)\n",
            "Requirement already satisfied: markdown-it-py>=2.2.0 in /usr/local/lib/python3.10/dist-packages (from rich>=10.11.0->typer<1.0.0,>=0.3.0->spacy<3.8.0,>=3.7.2->en-core-web-lg==3.7.1) (3.0.0)\n",
            "Requirement already satisfied: pygments<3.0.0,>=2.13.0 in /usr/local/lib/python3.10/dist-packages (from rich>=10.11.0->typer<1.0.0,>=0.3.0->spacy<3.8.0,>=3.7.2->en-core-web-lg==3.7.1) (2.18.0)\n",
            "Requirement already satisfied: wrapt in /usr/local/lib/python3.10/dist-packages (from smart-open<8.0.0,>=5.2.1->weasel<0.5.0,>=0.1.0->spacy<3.8.0,>=3.7.2->en-core-web-lg==3.7.1) (1.16.0)\n",
            "Requirement already satisfied: mdurl~=0.1 in /usr/local/lib/python3.10/dist-packages (from markdown-it-py>=2.2.0->rich>=10.11.0->typer<1.0.0,>=0.3.0->spacy<3.8.0,>=3.7.2->en-core-web-lg==3.7.1) (0.1.2)\n",
            "Installing collected packages: en-core-web-lg\n",
            "Successfully installed en-core-web-lg-3.7.1\n",
            "\u001b[38;5;2m✔ Download and installation successful\u001b[0m\n",
            "You can now load the package via spacy.load('en_core_web_lg')\n",
            "\u001b[38;5;3m⚠ Restart to reload dependencies\u001b[0m\n",
            "If you are in a Jupyter or Colab notebook, you may need to restart Python in\n",
            "order to load all the package's dependencies. You can do this by selecting the\n",
            "'Restart kernel' or 'Restart runtime' option.\n"
          ]
        }
      ]
    },
    {
      "cell_type": "code",
      "source": [
        "# train model using hyperparameters set in config.cfg\n",
        "# save trained model in spacy-output/ dir\n",
        "!python -m spacy train config.cfg --output ./spacy-output"
      ],
      "metadata": {
        "id": "Jav_l46BEDjF",
        "colab": {
          "base_uri": "https://localhost:8080/"
        },
        "outputId": "27197557-4a61-408f-89a3-34e9fed7601d"
      },
      "id": "Jav_l46BEDjF",
      "execution_count": 41,
      "outputs": [
        {
          "output_type": "stream",
          "name": "stdout",
          "text": [
            "\u001b[38;5;4mℹ Saving to output directory: spacy-output\u001b[0m\n",
            "\u001b[38;5;4mℹ Using CPU\u001b[0m\n",
            "\u001b[1m\n",
            "=========================== Initializing pipeline ===========================\u001b[0m\n",
            "\u001b[38;5;2m✔ Initialized pipeline\u001b[0m\n",
            "\u001b[1m\n",
            "============================= Training pipeline =============================\u001b[0m\n",
            "\u001b[38;5;4mℹ Pipeline: ['tok2vec', 'ner']\u001b[0m\n",
            "\u001b[38;5;4mℹ Initial learn rate: 0.001\u001b[0m\n",
            "E    #       LOSS TOK2VEC  LOSS NER  ENTS_F  ENTS_P  ENTS_R  SCORE \n",
            "---  ------  ------------  --------  ------  ------  ------  ------\n",
            "  0       0          0.00    311.54    0.00    0.00    0.00    0.00\n",
            "  2     200        727.25  13365.40   30.91   46.99   23.03    0.31\n",
            "  5     400       1523.59   9725.39   39.50   41.25   37.88    0.39\n",
            "  7     600        209.56   6266.99   40.28   36.05   45.65    0.40\n",
            " 10     800        342.38   4632.03   41.02   37.42   45.38    0.41\n",
            " 12    1000       1274.97   3608.79   38.70   42.97   35.21    0.39\n",
            " 15    1200        224.03   2632.41   41.37   42.51   40.29    0.41\n",
            " 17    1400        246.44   2273.57   40.72   42.02   39.49    0.41\n",
            " 20    1600        240.64   2111.41   39.61   44.63   35.61    0.40\n",
            " 22    1800        255.28   1618.13   38.90   41.07   36.95    0.39\n",
            " 25    2000        267.60   1486.09   35.72   40.86   31.73    0.36\n",
            " 27    2200        251.77   1274.52   40.95   39.33   42.70    0.41\n",
            " 30    2400        288.03   1285.91   39.45   40.83   38.15    0.39\n",
            " 32    2600        267.45   1084.94   40.18   38.59   41.90    0.40\n",
            " 35    2800        992.31   1207.52   39.04   44.24   34.94    0.39\n",
            "\u001b[38;5;2m✔ Saved pipeline to output directory\u001b[0m\n",
            "spacy-output/model-last\n"
          ]
        }
      ]
    },
    {
      "cell_type": "code",
      "source": [
        "# evaluate trained model performance\n",
        "# store output and visualization into result/ dir\n",
        "!python -m spacy evaluate spacy-output/model-best spacy_ner_data/test_data.spacy -dp spacy-output"
      ],
      "metadata": {
        "id": "V2wzIOsWJgkG",
        "colab": {
          "base_uri": "https://localhost:8080/"
        },
        "outputId": "22f952af-3788-4283-f9f9-9a88724d92d3"
      },
      "id": "V2wzIOsWJgkG",
      "execution_count": 42,
      "outputs": [
        {
          "output_type": "stream",
          "name": "stdout",
          "text": [
            "\u001b[38;5;4mℹ Using CPU\u001b[0m\n",
            "\u001b[1m\n",
            "================================== Results ==================================\u001b[0m\n",
            "\n",
            "TOK     100.00\n",
            "NER P   42.51 \n",
            "NER R   40.29 \n",
            "NER F   41.37 \n",
            "SPEED   2090  \n",
            "\n",
            "\u001b[1m\n",
            "=============================== NER (per type) ===============================\u001b[0m\n",
            "\n",
            "                 P        R       F\n",
            "NAME        100.00    66.67   80.00\n",
            "PHONE        92.86    72.22   81.25\n",
            "EMAIL        69.23   100.00   81.82\n",
            "SKILL        31.60    30.10   30.83\n",
            "JOB          44.62    52.73   48.33\n",
            "WORK PER     72.13    77.19   74.58\n",
            "COMPANY      44.74    41.46   43.04\n",
            "DEG          82.35    73.68   77.78\n",
            "STUDY PER   100.00    37.50   54.55\n",
            "UNI          43.75    41.18   42.42\n",
            "LOC         100.00    33.33   50.00\n",
            "\n",
            "<IPython.core.display.HTML object>\n",
            "Traceback (most recent call last):\n",
            "  File \"/usr/lib/python3.10/runpy.py\", line 196, in _run_module_as_main\n",
            "    return _run_code(code, main_globals, None,\n",
            "  File \"/usr/lib/python3.10/runpy.py\", line 86, in _run_code\n",
            "    exec(code, run_globals)\n",
            "  File \"/usr/local/lib/python3.10/dist-packages/spacy/__main__.py\", line 4, in <module>\n",
            "    setup_cli()\n",
            "  File \"/usr/local/lib/python3.10/dist-packages/spacy/cli/_util.py\", line 87, in setup_cli\n",
            "    command(prog_name=COMMAND)\n",
            "  File \"/usr/local/lib/python3.10/dist-packages/click/core.py\", line 1157, in __call__\n",
            "    return self.main(*args, **kwargs)\n",
            "  File \"/usr/local/lib/python3.10/dist-packages/typer/core.py\", line 728, in main\n",
            "    return _main(\n",
            "  File \"/usr/local/lib/python3.10/dist-packages/typer/core.py\", line 197, in _main\n",
            "    rv = self.invoke(ctx)\n",
            "  File \"/usr/local/lib/python3.10/dist-packages/click/core.py\", line 1688, in invoke\n",
            "    return _process_result(sub_ctx.command.invoke(sub_ctx))\n",
            "  File \"/usr/local/lib/python3.10/dist-packages/click/core.py\", line 1434, in invoke\n",
            "    return ctx.invoke(self.callback, **ctx.params)\n",
            "  File \"/usr/local/lib/python3.10/dist-packages/click/core.py\", line 783, in invoke\n",
            "    return __callback(*args, **kwargs)\n",
            "  File \"/usr/local/lib/python3.10/dist-packages/typer/main.py\", line 703, in wrapper\n",
            "    return callback(**use_params)\n",
            "  File \"/usr/local/lib/python3.10/dist-packages/spacy/cli/evaluate.py\", line 47, in evaluate_cli\n",
            "    evaluate(\n",
            "  File \"/usr/local/lib/python3.10/dist-packages/spacy/cli/evaluate.py\", line 141, in evaluate\n",
            "    render_parses(\n",
            "  File \"/usr/local/lib/python3.10/dist-packages/spacy/cli/evaluate.py\", line 208, in render_parses\n",
            "    file_.write(html)\n",
            "TypeError: write() argument must be str, not None\n"
          ]
        }
      ]
    },
    {
      "cell_type": "code",
      "source": [
        "# make prediction\n",
        "import spacy\n",
        "resume_text = '''\n",
        "John Doe lives at 1234 Elm Street in Los Angeles, CA 90001. He can be reached at +1 (555) 123-4567 or via email at john.doe@example.com. John is a results-driven software engineer with over 5 years of experience in web development and cloud infrastructure, with strong knowledge of JavaScript, Python, and cloud technologies like AWS and Azure. Currently, he works as a Software Engineer at Google LLC in San Francisco, CA, where he has been employed since August 2019. In this role, he has developed scalable web applications using JavaScript, Node.js, and React, deployed and maintained cloud infrastructure on AWS, reducing downtime by 20%, and led a team of 4 engineers to enhance backend performance by 30%. Previously, he worked as a Junior Developer at Tech Innovators Inc. in Austin, TX, from July 2017 to July 2019, where he created RESTful APIs using Python and Flask, collaborated with front-end developers to build and deploy user-facing applications, and wrote unit and integration tests, improving code coverage by 15%.\n",
        "\n",
        "John holds a Master of Science in Computer Science from the University of California, Berkeley, with a graduation date of May 2017, and a Bachelor of Science in Information Technology from the University of Texas at Austin, graduated in May 2015. His skillset includes proficiency in programming languages like Python, JavaScript, and Java; frameworks such as React, Flask, and Django; cloud platforms including AWS, Google Cloud, and Azure; as well as other tools like Git, Docker, Kubernetes, and SQL. He is certified as an AWS Certified Solutions Architect – Associate, earned in 2020, and as a Google Professional Cloud Architect, earned in 2021'\n",
        "'''\n",
        "nlp = spacy.load(\"spacy-output/model-best\")\n",
        "doc = nlp(resume_text.lower())\n",
        "\n",
        "print(doc.ents)\n",
        "\n",
        "for ent in doc.ents:\n",
        "    print(f\"{ent.text}: {ent.label_}\")"
      ],
      "metadata": {
        "colab": {
          "base_uri": "https://localhost:8080/"
        },
        "id": "UXAlZZkEeeMc",
        "outputId": "0f9fc270-c8fe-4d24-ffa5-6dd5e31e7c7f"
      },
      "id": "UXAlZZkEeeMc",
      "execution_count": 45,
      "outputs": [
        {
          "output_type": "stream",
          "name": "stdout",
          "text": [
            "(john doe lives at, john.doe@example.com, software engineer, august 2019, at tech, july 2017 to july 2019, aws, – associate, a, cloud architect)\n",
            "john doe lives at: COMPANY\n",
            "john.doe@example.com: EMAIL\n",
            "software engineer: JOB\n",
            "august 2019: WORK PER\n",
            "at tech: COMPANY\n",
            "july 2017 to july 2019: WORK PER\n",
            "aws: SKILL\n",
            "– associate: JOB\n",
            "a: SKILL\n",
            "cloud architect: JOB\n"
          ]
        }
      ]
    },
    {
      "cell_type": "code",
      "source": [
        "from spacy import displacy\n",
        "displacy.render(doc, style=\"ent\", jupyter=True)"
      ],
      "metadata": {
        "colab": {
          "base_uri": "https://localhost:8080/",
          "height": 562
        },
        "id": "LtxtV7GufiOw",
        "outputId": "ee175866-68e7-47d6-beea-1daf124059a9"
      },
      "id": "LtxtV7GufiOw",
      "execution_count": 46,
      "outputs": [
        {
          "output_type": "display_data",
          "data": {
            "text/plain": [
              "<IPython.core.display.HTML object>"
            ],
            "text/html": [
              "<span class=\"tex2jax_ignore\"><div class=\"entities\" style=\"line-height: 2.5; direction: ltr\"><br>\n",
              "<mark class=\"entity\" style=\"background: #ddd; padding: 0.45em 0.6em; margin: 0 0.25em; line-height: 1; border-radius: 0.35em;\">\n",
              "    john doe lives at\n",
              "    <span style=\"font-size: 0.8em; font-weight: bold; line-height: 1; border-radius: 0.35em; vertical-align: middle; margin-left: 0.5rem\">COMPANY</span>\n",
              "</mark>\n",
              " 1234 elm street in los angeles, ca 90001. he can be reached at +1 (555) 123-4567 or via email at \n",
              "<mark class=\"entity\" style=\"background: #ddd; padding: 0.45em 0.6em; margin: 0 0.25em; line-height: 1; border-radius: 0.35em;\">\n",
              "    john.doe@example.com\n",
              "    <span style=\"font-size: 0.8em; font-weight: bold; line-height: 1; border-radius: 0.35em; vertical-align: middle; margin-left: 0.5rem\">EMAIL</span>\n",
              "</mark>\n",
              ". john is a results-driven software engineer with over 5 years of experience in web development and cloud infrastructure, with strong knowledge of javascript, python, and cloud technologies like aws and azure. currently, he works as a \n",
              "<mark class=\"entity\" style=\"background: #ddd; padding: 0.45em 0.6em; margin: 0 0.25em; line-height: 1; border-radius: 0.35em;\">\n",
              "    software engineer\n",
              "    <span style=\"font-size: 0.8em; font-weight: bold; line-height: 1; border-radius: 0.35em; vertical-align: middle; margin-left: 0.5rem\">JOB</span>\n",
              "</mark>\n",
              " at google llc in san francisco, ca, where he has been employed since \n",
              "<mark class=\"entity\" style=\"background: #ddd; padding: 0.45em 0.6em; margin: 0 0.25em; line-height: 1; border-radius: 0.35em;\">\n",
              "    august 2019\n",
              "    <span style=\"font-size: 0.8em; font-weight: bold; line-height: 1; border-radius: 0.35em; vertical-align: middle; margin-left: 0.5rem\">WORK PER</span>\n",
              "</mark>\n",
              ". in this role, he has developed scalable web applications using javascript, node.js, and react, deployed and maintained cloud infrastructure on aws, reducing downtime by 20%, and led a team of 4 engineers to enhance backend performance by 30%. previously, he worked as a junior developer \n",
              "<mark class=\"entity\" style=\"background: #ddd; padding: 0.45em 0.6em; margin: 0 0.25em; line-height: 1; border-radius: 0.35em;\">\n",
              "    at tech\n",
              "    <span style=\"font-size: 0.8em; font-weight: bold; line-height: 1; border-radius: 0.35em; vertical-align: middle; margin-left: 0.5rem\">COMPANY</span>\n",
              "</mark>\n",
              " innovators inc. in austin, tx, from \n",
              "<mark class=\"entity\" style=\"background: #ddd; padding: 0.45em 0.6em; margin: 0 0.25em; line-height: 1; border-radius: 0.35em;\">\n",
              "    july 2017 to july 2019\n",
              "    <span style=\"font-size: 0.8em; font-weight: bold; line-height: 1; border-radius: 0.35em; vertical-align: middle; margin-left: 0.5rem\">WORK PER</span>\n",
              "</mark>\n",
              ", where he created restful apis using python and flask, collaborated with front-end developers to build and deploy user-facing applications, and wrote unit and integration tests, improving code coverage by 15%.<br><br>john holds a master of science in computer science from the university of california, berkeley, with a graduation date of may 2017, and a bachelor of science in information technology from the university of texas at austin, graduated in may 2015. his skillset includes proficiency in programming languages like python, javascript, and java; frameworks such as react, flask, and django; cloud platforms including \n",
              "<mark class=\"entity\" style=\"background: #ddd; padding: 0.45em 0.6em; margin: 0 0.25em; line-height: 1; border-radius: 0.35em;\">\n",
              "    aws\n",
              "    <span style=\"font-size: 0.8em; font-weight: bold; line-height: 1; border-radius: 0.35em; vertical-align: middle; margin-left: 0.5rem\">SKILL</span>\n",
              "</mark>\n",
              ", google cloud, and azure; as well as other tools like git, docker, kubernetes, and sql. he is certified as an aws certified solutions architect \n",
              "<mark class=\"entity\" style=\"background: #ddd; padding: 0.45em 0.6em; margin: 0 0.25em; line-height: 1; border-radius: 0.35em;\">\n",
              "    – associate\n",
              "    <span style=\"font-size: 0.8em; font-weight: bold; line-height: 1; border-radius: 0.35em; vertical-align: middle; margin-left: 0.5rem\">JOB</span>\n",
              "</mark>\n",
              ", earned in 2020, and as \n",
              "<mark class=\"entity\" style=\"background: #ddd; padding: 0.45em 0.6em; margin: 0 0.25em; line-height: 1; border-radius: 0.35em;\">\n",
              "    a\n",
              "    <span style=\"font-size: 0.8em; font-weight: bold; line-height: 1; border-radius: 0.35em; vertical-align: middle; margin-left: 0.5rem\">SKILL</span>\n",
              "</mark>\n",
              " google professional \n",
              "<mark class=\"entity\" style=\"background: #ddd; padding: 0.45em 0.6em; margin: 0 0.25em; line-height: 1; border-radius: 0.35em;\">\n",
              "    cloud architect\n",
              "    <span style=\"font-size: 0.8em; font-weight: bold; line-height: 1; border-radius: 0.35em; vertical-align: middle; margin-left: 0.5rem\">JOB</span>\n",
              "</mark>\n",
              ", earned in 2021'<br></div></span>"
            ]
          },
          "metadata": {}
        }
      ]
    },
    {
      "cell_type": "code",
      "source": [
        "# download trained model"
      ],
      "metadata": {
        "id": "9sJdwj4GEKTM"
      },
      "id": "9sJdwj4GEKTM",
      "execution_count": null,
      "outputs": []
    },
    {
      "cell_type": "markdown",
      "source": [
        "## Flair NER"
      ],
      "metadata": {
        "id": "1z_niSalE0uT"
      },
      "id": "1z_niSalE0uT"
    },
    {
      "cell_type": "code",
      "source": [
        "!pip install flair"
      ],
      "metadata": {
        "id": "lsEUGnPpnjuU",
        "colab": {
          "base_uri": "https://localhost:8080/"
        },
        "outputId": "93057ec4-6586-49fb-bf6b-0f4283c56f34"
      },
      "id": "lsEUGnPpnjuU",
      "execution_count": 13,
      "outputs": [
        {
          "output_type": "stream",
          "name": "stdout",
          "text": [
            "Collecting flair\n",
            "  Downloading flair-0.14.0-py3-none-any.whl.metadata (12 kB)\n",
            "Collecting boto3>=1.20.27 (from flair)\n",
            "  Downloading boto3-1.35.52-py3-none-any.whl.metadata (6.7 kB)\n",
            "Collecting conllu<5.0.0,>=4.0 (from flair)\n",
            "  Downloading conllu-4.5.3-py2.py3-none-any.whl.metadata (19 kB)\n",
            "Requirement already satisfied: deprecated>=1.2.13 in /usr/local/lib/python3.10/dist-packages (from flair) (1.2.14)\n",
            "Collecting ftfy>=6.1.0 (from flair)\n",
            "  Downloading ftfy-6.3.1-py3-none-any.whl.metadata (7.3 kB)\n",
            "Requirement already satisfied: gdown>=4.4.0 in /usr/local/lib/python3.10/dist-packages (from flair) (5.2.0)\n",
            "Requirement already satisfied: huggingface-hub>=0.10.0 in /usr/local/lib/python3.10/dist-packages (from flair) (0.24.7)\n",
            "Collecting langdetect>=1.0.9 (from flair)\n",
            "  Downloading langdetect-1.0.9.tar.gz (981 kB)\n",
            "\u001b[2K     \u001b[90m━━━━━━━━━━━━━━━━━━━━━━━━━━━━━━━━━━━━━━━━\u001b[0m \u001b[32m981.5/981.5 kB\u001b[0m \u001b[31m13.4 MB/s\u001b[0m eta \u001b[36m0:00:00\u001b[0m\n",
            "\u001b[?25h  Preparing metadata (setup.py) ... \u001b[?25l\u001b[?25hdone\n",
            "Requirement already satisfied: lxml>=4.8.0 in /usr/local/lib/python3.10/dist-packages (from flair) (4.9.4)\n",
            "Requirement already satisfied: matplotlib>=2.2.3 in /usr/local/lib/python3.10/dist-packages (from flair) (3.7.1)\n",
            "Requirement already satisfied: more-itertools>=8.13.0 in /usr/local/lib/python3.10/dist-packages (from flair) (10.5.0)\n",
            "Collecting mpld3>=0.3 (from flair)\n",
            "  Downloading mpld3-0.5.10-py3-none-any.whl.metadata (5.1 kB)\n",
            "Collecting pptree>=3.1 (from flair)\n",
            "  Downloading pptree-3.1.tar.gz (3.0 kB)\n",
            "  Preparing metadata (setup.py) ... \u001b[?25l\u001b[?25hdone\n",
            "Requirement already satisfied: python-dateutil>=2.8.2 in /usr/local/lib/python3.10/dist-packages (from flair) (2.8.2)\n",
            "Collecting pytorch-revgrad>=0.2.0 (from flair)\n",
            "  Downloading pytorch_revgrad-0.2.0-py3-none-any.whl.metadata (1.7 kB)\n",
            "Requirement already satisfied: regex>=2022.1.18 in /usr/local/lib/python3.10/dist-packages (from flair) (2024.9.11)\n",
            "Requirement already satisfied: scikit-learn>=1.0.2 in /usr/local/lib/python3.10/dist-packages (from flair) (1.5.2)\n",
            "Collecting segtok>=1.5.11 (from flair)\n",
            "  Downloading segtok-1.5.11-py3-none-any.whl.metadata (9.0 kB)\n",
            "Collecting sqlitedict>=2.0.0 (from flair)\n",
            "  Downloading sqlitedict-2.1.0.tar.gz (21 kB)\n",
            "  Preparing metadata (setup.py) ... \u001b[?25l\u001b[?25hdone\n",
            "Requirement already satisfied: tabulate>=0.8.10 in /usr/local/lib/python3.10/dist-packages (from flair) (0.9.0)\n",
            "Requirement already satisfied: torch!=1.8,>=1.5.0 in /usr/local/lib/python3.10/dist-packages (from flair) (2.5.0+cu121)\n",
            "Requirement already satisfied: tqdm>=4.63.0 in /usr/local/lib/python3.10/dist-packages (from flair) (4.66.5)\n",
            "Collecting transformer-smaller-training-vocab>=0.2.3 (from flair)\n",
            "  Downloading transformer_smaller_training_vocab-0.4.0-py3-none-any.whl.metadata (8.1 kB)\n",
            "Requirement already satisfied: transformers<5.0.0,>=4.18.0 in /usr/local/lib/python3.10/dist-packages (from transformers[sentencepiece]<5.0.0,>=4.18.0->flair) (4.44.2)\n",
            "Collecting wikipedia-api>=0.5.7 (from flair)\n",
            "  Downloading wikipedia_api-0.7.1.tar.gz (17 kB)\n",
            "  Preparing metadata (setup.py) ... \u001b[?25l\u001b[?25hdone\n",
            "Collecting semver<4.0.0,>=3.0.0 (from flair)\n",
            "  Downloading semver-3.0.2-py3-none-any.whl.metadata (5.0 kB)\n",
            "Collecting bioc<3.0.0,>=2.0.0 (from flair)\n",
            "  Downloading bioc-2.1-py3-none-any.whl.metadata (4.6 kB)\n",
            "Collecting jsonlines>=1.2.0 (from bioc<3.0.0,>=2.0.0->flair)\n",
            "  Downloading jsonlines-4.0.0-py3-none-any.whl.metadata (1.6 kB)\n",
            "Collecting intervaltree (from bioc<3.0.0,>=2.0.0->flair)\n",
            "  Downloading intervaltree-3.1.0.tar.gz (32 kB)\n",
            "  Preparing metadata (setup.py) ... \u001b[?25l\u001b[?25hdone\n",
            "Collecting docopt (from bioc<3.0.0,>=2.0.0->flair)\n",
            "  Downloading docopt-0.6.2.tar.gz (25 kB)\n",
            "  Preparing metadata (setup.py) ... \u001b[?25l\u001b[?25hdone\n",
            "Collecting botocore<1.36.0,>=1.35.52 (from boto3>=1.20.27->flair)\n",
            "  Downloading botocore-1.35.52-py3-none-any.whl.metadata (5.7 kB)\n",
            "Collecting jmespath<2.0.0,>=0.7.1 (from boto3>=1.20.27->flair)\n",
            "  Downloading jmespath-1.0.1-py3-none-any.whl.metadata (7.6 kB)\n",
            "Collecting s3transfer<0.11.0,>=0.10.0 (from boto3>=1.20.27->flair)\n",
            "  Downloading s3transfer-0.10.3-py3-none-any.whl.metadata (1.7 kB)\n",
            "Requirement already satisfied: wrapt<2,>=1.10 in /usr/local/lib/python3.10/dist-packages (from deprecated>=1.2.13->flair) (1.16.0)\n",
            "Requirement already satisfied: wcwidth in /usr/local/lib/python3.10/dist-packages (from ftfy>=6.1.0->flair) (0.2.13)\n",
            "Requirement already satisfied: beautifulsoup4 in /usr/local/lib/python3.10/dist-packages (from gdown>=4.4.0->flair) (4.12.3)\n",
            "Requirement already satisfied: filelock in /usr/local/lib/python3.10/dist-packages (from gdown>=4.4.0->flair) (3.16.1)\n",
            "Requirement already satisfied: requests[socks] in /usr/local/lib/python3.10/dist-packages (from gdown>=4.4.0->flair) (2.32.3)\n",
            "Requirement already satisfied: fsspec>=2023.5.0 in /usr/local/lib/python3.10/dist-packages (from huggingface-hub>=0.10.0->flair) (2024.6.1)\n",
            "Requirement already satisfied: packaging>=20.9 in /usr/local/lib/python3.10/dist-packages (from huggingface-hub>=0.10.0->flair) (24.1)\n",
            "Requirement already satisfied: pyyaml>=5.1 in /usr/local/lib/python3.10/dist-packages (from huggingface-hub>=0.10.0->flair) (6.0.2)\n",
            "Requirement already satisfied: typing-extensions>=3.7.4.3 in /usr/local/lib/python3.10/dist-packages (from huggingface-hub>=0.10.0->flair) (4.12.2)\n",
            "Requirement already satisfied: six in /usr/local/lib/python3.10/dist-packages (from langdetect>=1.0.9->flair) (1.16.0)\n",
            "Requirement already satisfied: contourpy>=1.0.1 in /usr/local/lib/python3.10/dist-packages (from matplotlib>=2.2.3->flair) (1.3.0)\n",
            "Requirement already satisfied: cycler>=0.10 in /usr/local/lib/python3.10/dist-packages (from matplotlib>=2.2.3->flair) (0.12.1)\n",
            "Requirement already satisfied: fonttools>=4.22.0 in /usr/local/lib/python3.10/dist-packages (from matplotlib>=2.2.3->flair) (4.54.1)\n",
            "Requirement already satisfied: kiwisolver>=1.0.1 in /usr/local/lib/python3.10/dist-packages (from matplotlib>=2.2.3->flair) (1.4.7)\n",
            "Requirement already satisfied: numpy>=1.20 in /usr/local/lib/python3.10/dist-packages (from matplotlib>=2.2.3->flair) (1.26.4)\n",
            "Requirement already satisfied: pillow>=6.2.0 in /usr/local/lib/python3.10/dist-packages (from matplotlib>=2.2.3->flair) (10.4.0)\n",
            "Requirement already satisfied: pyparsing>=2.3.1 in /usr/local/lib/python3.10/dist-packages (from matplotlib>=2.2.3->flair) (3.2.0)\n",
            "Requirement already satisfied: jinja2 in /usr/local/lib/python3.10/dist-packages (from mpld3>=0.3->flair) (3.1.4)\n",
            "Requirement already satisfied: scipy>=1.6.0 in /usr/local/lib/python3.10/dist-packages (from scikit-learn>=1.0.2->flair) (1.13.1)\n",
            "Requirement already satisfied: joblib>=1.2.0 in /usr/local/lib/python3.10/dist-packages (from scikit-learn>=1.0.2->flair) (1.4.2)\n",
            "Requirement already satisfied: threadpoolctl>=3.1.0 in /usr/local/lib/python3.10/dist-packages (from scikit-learn>=1.0.2->flair) (3.5.0)\n",
            "Requirement already satisfied: networkx in /usr/local/lib/python3.10/dist-packages (from torch!=1.8,>=1.5.0->flair) (3.4.2)\n",
            "Requirement already satisfied: sympy==1.13.1 in /usr/local/lib/python3.10/dist-packages (from torch!=1.8,>=1.5.0->flair) (1.13.1)\n",
            "Requirement already satisfied: mpmath<1.4,>=1.1.0 in /usr/local/lib/python3.10/dist-packages (from sympy==1.13.1->torch!=1.8,>=1.5.0->flair) (1.3.0)\n",
            "Requirement already satisfied: safetensors>=0.4.1 in /usr/local/lib/python3.10/dist-packages (from transformers<5.0.0,>=4.18.0->transformers[sentencepiece]<5.0.0,>=4.18.0->flair) (0.4.5)\n",
            "Requirement already satisfied: tokenizers<0.20,>=0.19 in /usr/local/lib/python3.10/dist-packages (from transformers<5.0.0,>=4.18.0->transformers[sentencepiece]<5.0.0,>=4.18.0->flair) (0.19.1)\n",
            "Requirement already satisfied: protobuf in /usr/local/lib/python3.10/dist-packages (from transformers[sentencepiece]<5.0.0,>=4.18.0->flair) (3.20.3)\n",
            "Requirement already satisfied: sentencepiece!=0.1.92,>=0.1.91 in /usr/local/lib/python3.10/dist-packages (from transformers[sentencepiece]<5.0.0,>=4.18.0->flair) (0.2.0)\n",
            "Requirement already satisfied: urllib3!=2.2.0,<3,>=1.25.4 in /usr/local/lib/python3.10/dist-packages (from botocore<1.36.0,>=1.35.52->boto3>=1.20.27->flair) (2.2.3)\n",
            "Requirement already satisfied: attrs>=19.2.0 in /usr/local/lib/python3.10/dist-packages (from jsonlines>=1.2.0->bioc<3.0.0,>=2.0.0->flair) (24.2.0)\n",
            "Requirement already satisfied: accelerate>=0.21.0 in /usr/local/lib/python3.10/dist-packages (from transformers[sentencepiece,torch]<5.0,>=4.1->transformer-smaller-training-vocab>=0.2.3->flair) (0.34.2)\n",
            "Requirement already satisfied: soupsieve>1.2 in /usr/local/lib/python3.10/dist-packages (from beautifulsoup4->gdown>=4.4.0->flair) (2.6)\n",
            "Collecting sortedcontainers<3.0,>=2.0 (from intervaltree->bioc<3.0.0,>=2.0.0->flair)\n",
            "  Downloading sortedcontainers-2.4.0-py2.py3-none-any.whl.metadata (10 kB)\n",
            "Requirement already satisfied: MarkupSafe>=2.0 in /usr/local/lib/python3.10/dist-packages (from jinja2->mpld3>=0.3->flair) (3.0.2)\n",
            "Requirement already satisfied: charset-normalizer<4,>=2 in /usr/local/lib/python3.10/dist-packages (from requests[socks]->gdown>=4.4.0->flair) (3.4.0)\n",
            "Requirement already satisfied: idna<4,>=2.5 in /usr/local/lib/python3.10/dist-packages (from requests[socks]->gdown>=4.4.0->flair) (3.10)\n",
            "Requirement already satisfied: certifi>=2017.4.17 in /usr/local/lib/python3.10/dist-packages (from requests[socks]->gdown>=4.4.0->flair) (2024.8.30)\n",
            "Requirement already satisfied: PySocks!=1.5.7,>=1.5.6 in /usr/local/lib/python3.10/dist-packages (from requests[socks]->gdown>=4.4.0->flair) (1.7.1)\n",
            "Requirement already satisfied: psutil in /usr/local/lib/python3.10/dist-packages (from accelerate>=0.21.0->transformers[sentencepiece,torch]<5.0,>=4.1->transformer-smaller-training-vocab>=0.2.3->flair) (5.9.5)\n",
            "Downloading flair-0.14.0-py3-none-any.whl (776 kB)\n",
            "\u001b[2K   \u001b[90m━━━━━━━━━━━━━━━━━━━━━━━━━━━━━━━━━━━━━━━━\u001b[0m \u001b[32m776.5/776.5 kB\u001b[0m \u001b[31m39.0 MB/s\u001b[0m eta \u001b[36m0:00:00\u001b[0m\n",
            "\u001b[?25hDownloading bioc-2.1-py3-none-any.whl (33 kB)\n",
            "Downloading boto3-1.35.52-py3-none-any.whl (139 kB)\n",
            "\u001b[2K   \u001b[90m━━━━━━━━━━━━━━━━━━━━━━━━━━━━━━━━━━━━━━━━\u001b[0m \u001b[32m139.2/139.2 kB\u001b[0m \u001b[31m10.5 MB/s\u001b[0m eta \u001b[36m0:00:00\u001b[0m\n",
            "\u001b[?25hDownloading conllu-4.5.3-py2.py3-none-any.whl (16 kB)\n",
            "Downloading ftfy-6.3.1-py3-none-any.whl (44 kB)\n",
            "\u001b[2K   \u001b[90m━━━━━━━━━━━━━━━━━━━━━━━━━━━━━━━━━━━━━━━━\u001b[0m \u001b[32m44.8/44.8 kB\u001b[0m \u001b[31m3.3 MB/s\u001b[0m eta \u001b[36m0:00:00\u001b[0m\n",
            "\u001b[?25hDownloading mpld3-0.5.10-py3-none-any.whl (202 kB)\n",
            "\u001b[2K   \u001b[90m━━━━━━━━━━━━━━━━━━━━━━━━━━━━━━━━━━━━━━━━\u001b[0m \u001b[32m202.6/202.6 kB\u001b[0m \u001b[31m13.8 MB/s\u001b[0m eta \u001b[36m0:00:00\u001b[0m\n",
            "\u001b[?25hDownloading pytorch_revgrad-0.2.0-py3-none-any.whl (4.6 kB)\n",
            "Downloading segtok-1.5.11-py3-none-any.whl (24 kB)\n",
            "Downloading semver-3.0.2-py3-none-any.whl (17 kB)\n",
            "Downloading transformer_smaller_training_vocab-0.4.0-py3-none-any.whl (14 kB)\n",
            "Downloading botocore-1.35.52-py3-none-any.whl (12.7 MB)\n",
            "\u001b[2K   \u001b[90m━━━━━━━━━━━━━━━━━━━━━━━━━━━━━━━━━━━━━━━━\u001b[0m \u001b[32m12.7/12.7 MB\u001b[0m \u001b[31m78.4 MB/s\u001b[0m eta \u001b[36m0:00:00\u001b[0m\n",
            "\u001b[?25hDownloading jmespath-1.0.1-py3-none-any.whl (20 kB)\n",
            "Downloading jsonlines-4.0.0-py3-none-any.whl (8.7 kB)\n",
            "Downloading s3transfer-0.10.3-py3-none-any.whl (82 kB)\n",
            "\u001b[2K   \u001b[90m━━━━━━━━━━━━━━━━━━━━━━━━━━━━━━━━━━━━━━━━\u001b[0m \u001b[32m82.6/82.6 kB\u001b[0m \u001b[31m6.6 MB/s\u001b[0m eta \u001b[36m0:00:00\u001b[0m\n",
            "\u001b[?25hDownloading sortedcontainers-2.4.0-py2.py3-none-any.whl (29 kB)\n",
            "Building wheels for collected packages: langdetect, pptree, sqlitedict, wikipedia-api, docopt, intervaltree\n",
            "  Building wheel for langdetect (setup.py) ... \u001b[?25l\u001b[?25hdone\n",
            "  Created wheel for langdetect: filename=langdetect-1.0.9-py3-none-any.whl size=993222 sha256=fc9f61e5cb68c734a2afe522c33c0342e36c98b6d75bb37311a28b8830854a4a\n",
            "  Stored in directory: /root/.cache/pip/wheels/95/03/7d/59ea870c70ce4e5a370638b5462a7711ab78fba2f655d05106\n",
            "  Building wheel for pptree (setup.py) ... \u001b[?25l\u001b[?25hdone\n",
            "  Created wheel for pptree: filename=pptree-3.1-py3-none-any.whl size=4608 sha256=071e757fc8af3009f40980c3a42381da6cd0f2e1bf2a6bd5fb0785d6532961fe\n",
            "  Stored in directory: /root/.cache/pip/wheels/9f/b6/0e/6f26eb9e6eb53ff2107a7888d72b5a6a597593956113037828\n",
            "  Building wheel for sqlitedict (setup.py) ... \u001b[?25l\u001b[?25hdone\n",
            "  Created wheel for sqlitedict: filename=sqlitedict-2.1.0-py3-none-any.whl size=16864 sha256=0666741ef5092e90291f91afc6d88fa9654fb9a690fe3b5f7d09bddfc14de1be\n",
            "  Stored in directory: /root/.cache/pip/wheels/79/d6/e7/304e0e6cb2221022c26d8161f7c23cd4f259a9e41e8bbcfabd\n",
            "  Building wheel for wikipedia-api (setup.py) ... \u001b[?25l\u001b[?25hdone\n",
            "  Created wheel for wikipedia-api: filename=Wikipedia_API-0.7.1-py3-none-any.whl size=14346 sha256=649fb343d4949fd7001a260cf28ae96e1f01caf0529e40b934e7f69f0daa8749\n",
            "  Stored in directory: /root/.cache/pip/wheels/4c/96/18/b9201cc3e8b47b02b510460210cfd832ccf10c0c4dd0522962\n",
            "  Building wheel for docopt (setup.py) ... \u001b[?25l\u001b[?25hdone\n",
            "  Created wheel for docopt: filename=docopt-0.6.2-py2.py3-none-any.whl size=13706 sha256=0f7a9c5eaf55b7e62eaf2bf9cf31bc6a8d3bc84e6d84fd0b7a5d3990d26559b0\n",
            "  Stored in directory: /root/.cache/pip/wheels/fc/ab/d4/5da2067ac95b36618c629a5f93f809425700506f72c9732fac\n",
            "  Building wheel for intervaltree (setup.py) ... \u001b[?25l\u001b[?25hdone\n",
            "  Created wheel for intervaltree: filename=intervaltree-3.1.0-py2.py3-none-any.whl size=26097 sha256=555895232d3c24628c54a81fef398d21820e82e0372056fdfe9ce32df639bb7b\n",
            "  Stored in directory: /root/.cache/pip/wheels/fa/80/8c/43488a924a046b733b64de3fac99252674c892a4c3801c0a61\n",
            "Successfully built langdetect pptree sqlitedict wikipedia-api docopt intervaltree\n",
            "Installing collected packages: sqlitedict, sortedcontainers, pptree, docopt, semver, segtok, langdetect, jsonlines, jmespath, intervaltree, ftfy, conllu, wikipedia-api, botocore, bioc, s3transfer, pytorch-revgrad, mpld3, boto3, transformer-smaller-training-vocab, flair\n",
            "Successfully installed bioc-2.1 boto3-1.35.52 botocore-1.35.52 conllu-4.5.3 docopt-0.6.2 flair-0.14.0 ftfy-6.3.1 intervaltree-3.1.0 jmespath-1.0.1 jsonlines-4.0.0 langdetect-1.0.9 mpld3-0.5.10 pptree-3.1 pytorch-revgrad-0.2.0 s3transfer-0.10.3 segtok-1.5.11 semver-3.0.2 sortedcontainers-2.4.0 sqlitedict-2.1.0 transformer-smaller-training-vocab-0.4.0 wikipedia-api-0.7.1\n"
          ]
        }
      ]
    },
    {
      "cell_type": "code",
      "source": [
        "import spacy\n",
        "from spacy.tokens import DocBin\n",
        "import os\n",
        "\n",
        "def convert_spacy_to_flair(input_file, output_file):\n",
        "    \"\"\"\n",
        "    Convert SpaCy binary format to Flair's CoNLL format.\n",
        "\n",
        "    Args:\n",
        "        input_file (str): Path to SpaCy binary file (.spacy)\n",
        "        output_file (str): Path to output file for Flair format\n",
        "    \"\"\"\n",
        "    # Load spaCy model\n",
        "    nlp = spacy.blank(\"en\")\n",
        "\n",
        "    # Load the DocBin\n",
        "    doc_bin = DocBin().from_disk(input_file)\n",
        "    docs = list(doc_bin.get_docs(nlp.vocab))\n",
        "\n",
        "    with open(output_file, 'w', encoding='utf-8') as f:\n",
        "        for doc in docs:\n",
        "            tokens = [(t.text, t.ent_iob_, t.ent_type_) for t in doc]\n",
        "\n",
        "            # Write tokens in CoNLL format\n",
        "            for token in tokens:\n",
        "                text, iob, ent_type = token\n",
        "\n",
        "                # Convert spaCy IOB to CoNLL format\n",
        "                if iob == 'O':\n",
        "                    tag = 'O'\n",
        "                else:\n",
        "                    tag = f'{iob}-{ent_type}' if ent_type else 'O'\n",
        "\n",
        "                # Write line: token and NER tag\n",
        "                f.write(f'{text} {tag}\\n')\n",
        "\n",
        "            # Empty line between sentences\n",
        "            f.write('\\n')\n",
        "\n",
        "def convert_spacy_json_to_flair(input_file, output_file):\n",
        "    \"\"\"\n",
        "    Convert SpaCy JSON format to Flair's CoNLL format.\n",
        "\n",
        "    Args:\n",
        "        input_file (str): Path to JSON file with SpaCy annotations\n",
        "        output_file (str): Path to output file for Flair format\n",
        "    \"\"\"\n",
        "    import json\n",
        "\n",
        "    nlp = spacy.blank(\"en\")\n",
        "\n",
        "    with open(input_file, 'r', encoding='utf-8') as f:\n",
        "        training_data = json.load(f)\n",
        "\n",
        "    with open(output_file, 'w', encoding='utf-8') as f:\n",
        "        for example in training_data:\n",
        "            text = example['text']\n",
        "            ents = example.get('entities', [])\n",
        "\n",
        "            # Create a spaCy doc\n",
        "            doc = nlp(text)\n",
        "\n",
        "            # Add entities to doc\n",
        "            spans = []\n",
        "            for start, end, label in ents:\n",
        "                span = doc.char_span(start, end, label=label)\n",
        "                if span is not None:\n",
        "                    spans.append(span)\n",
        "            doc.ents = spans\n",
        "\n",
        "            # Convert to CoNLL format\n",
        "            tokens = [(t.text, t.ent_iob_, t.ent_type_) for t in doc]\n",
        "\n",
        "            for token in tokens:\n",
        "                text, iob, ent_type = token\n",
        "                if iob == 'O':\n",
        "                    tag = 'O'\n",
        "                else:\n",
        "                    tag = f'{iob}-{ent_type}' if ent_type else 'O'\n",
        "                f.write(f'{text} {tag}\\n')\n",
        "\n",
        "            f.write('\\n')\n",
        "\n",
        "# Example usage for JSON format\n",
        "flair_train_json = \"flair_train.txt\"\n",
        "flair_test_json = \"flair_test.txt\"\n",
        "\n",
        "convert_spacy_to_flair('/content/spacy_ner_data/train_data.spacy', flair_train_json)\n",
        "convert_spacy_to_flair('/content/spacy_ner_data/test_data.spacy', flair_test_json)"
      ],
      "metadata": {
        "id": "8SgkTXeIiTtF"
      },
      "id": "8SgkTXeIiTtF",
      "execution_count": 47,
      "outputs": []
    },
    {
      "cell_type": "code",
      "source": [
        "import spacy\n",
        "from spacy.training import Corpus\n",
        "\n",
        "!python -m spacy download de_core_news_sm\n",
        "nlp = spacy.load(\"de_core_news_sm\")\n",
        "corpus = Corpus(\"/content/spacy_ner_data/test_data.spacy\")\n",
        "\n",
        "data = corpus(nlp)\n",
        "\n",
        "# Flair supports BIO and BIOES, see https://github.com/flairNLP/flair/issues/875\n",
        "def rename_biluo_to_bioes(old_tag):\n",
        "    new_tag = \"\"\n",
        "    try:\n",
        "        if old_tag.startswith(\"L\"):\n",
        "            new_tag = \"E\" + old_tag[1:]\n",
        "        elif old_tag.startswith(\"U\"):\n",
        "            new_tag = \"S\" + old_tag[1:]\n",
        "        else:\n",
        "            new_tag = old_tag\n",
        "    except:\n",
        "        pass\n",
        "    return new_tag\n",
        "\n",
        "\n",
        "def generate_corpus():\n",
        "    corpus = []\n",
        "    n_ex = 0\n",
        "    for example in data:\n",
        "        n_ex += 1\n",
        "        text = example.text\n",
        "        doc = nlp(text)\n",
        "        tags = example.get_aligned_ner()\n",
        "        # Check if it's an empty list of NER tags.\n",
        "        if None in tags:\n",
        "            pass\n",
        "        else:\n",
        "            new_tags = [rename_biluo_to_bioes(tag) for tag in tags]\n",
        "            for token, tag in zip(doc,new_tags):\n",
        "                row = token.text +' '+ token.pos_ +' ' +tag + '\\n'\n",
        "                corpus.append(row)\n",
        "            corpus.append('\\n')\n",
        "    return corpus\n",
        "\n",
        "def write_file(filepath):\n",
        "    with open(filepath, 'w', encoding='utf-8') as f:\n",
        "        corpus = generate_corpus()\n",
        "        f.writelines(corpus)\n",
        "\n",
        "def main():\n",
        "    write_file('flair_test.txt')\n",
        "\n",
        "main()"
      ],
      "metadata": {
        "id": "TbHBmnUyv65f",
        "colab": {
          "base_uri": "https://localhost:8080/"
        },
        "outputId": "be6d42bd-f6a2-4143-b278-f010c011ae8f"
      },
      "id": "TbHBmnUyv65f",
      "execution_count": 16,
      "outputs": [
        {
          "output_type": "stream",
          "name": "stdout",
          "text": [
            "Collecting de-core-news-sm==3.7.0\n",
            "  Using cached https://github.com/explosion/spacy-models/releases/download/de_core_news_sm-3.7.0/de_core_news_sm-3.7.0-py3-none-any.whl (14.6 MB)\n",
            "Requirement already satisfied: spacy<3.8.0,>=3.7.0 in /usr/local/lib/python3.10/dist-packages (from de-core-news-sm==3.7.0) (3.7.5)\n",
            "Requirement already satisfied: spacy-legacy<3.1.0,>=3.0.11 in /usr/local/lib/python3.10/dist-packages (from spacy<3.8.0,>=3.7.0->de-core-news-sm==3.7.0) (3.0.12)\n",
            "Requirement already satisfied: spacy-loggers<2.0.0,>=1.0.0 in /usr/local/lib/python3.10/dist-packages (from spacy<3.8.0,>=3.7.0->de-core-news-sm==3.7.0) (1.0.5)\n",
            "Requirement already satisfied: murmurhash<1.1.0,>=0.28.0 in /usr/local/lib/python3.10/dist-packages (from spacy<3.8.0,>=3.7.0->de-core-news-sm==3.7.0) (1.0.10)\n",
            "Requirement already satisfied: cymem<2.1.0,>=2.0.2 in /usr/local/lib/python3.10/dist-packages (from spacy<3.8.0,>=3.7.0->de-core-news-sm==3.7.0) (2.0.8)\n",
            "Requirement already satisfied: preshed<3.1.0,>=3.0.2 in /usr/local/lib/python3.10/dist-packages (from spacy<3.8.0,>=3.7.0->de-core-news-sm==3.7.0) (3.0.9)\n",
            "Requirement already satisfied: thinc<8.3.0,>=8.2.2 in /usr/local/lib/python3.10/dist-packages (from spacy<3.8.0,>=3.7.0->de-core-news-sm==3.7.0) (8.2.5)\n",
            "Requirement already satisfied: wasabi<1.2.0,>=0.9.1 in /usr/local/lib/python3.10/dist-packages (from spacy<3.8.0,>=3.7.0->de-core-news-sm==3.7.0) (1.1.3)\n",
            "Requirement already satisfied: srsly<3.0.0,>=2.4.3 in /usr/local/lib/python3.10/dist-packages (from spacy<3.8.0,>=3.7.0->de-core-news-sm==3.7.0) (2.4.8)\n",
            "Requirement already satisfied: catalogue<2.1.0,>=2.0.6 in /usr/local/lib/python3.10/dist-packages (from spacy<3.8.0,>=3.7.0->de-core-news-sm==3.7.0) (2.0.10)\n",
            "Requirement already satisfied: weasel<0.5.0,>=0.1.0 in /usr/local/lib/python3.10/dist-packages (from spacy<3.8.0,>=3.7.0->de-core-news-sm==3.7.0) (0.4.1)\n",
            "Requirement already satisfied: typer<1.0.0,>=0.3.0 in /usr/local/lib/python3.10/dist-packages (from spacy<3.8.0,>=3.7.0->de-core-news-sm==3.7.0) (0.12.5)\n",
            "Requirement already satisfied: tqdm<5.0.0,>=4.38.0 in /usr/local/lib/python3.10/dist-packages (from spacy<3.8.0,>=3.7.0->de-core-news-sm==3.7.0) (4.66.5)\n",
            "Requirement already satisfied: requests<3.0.0,>=2.13.0 in /usr/local/lib/python3.10/dist-packages (from spacy<3.8.0,>=3.7.0->de-core-news-sm==3.7.0) (2.32.3)\n",
            "Requirement already satisfied: pydantic!=1.8,!=1.8.1,<3.0.0,>=1.7.4 in /usr/local/lib/python3.10/dist-packages (from spacy<3.8.0,>=3.7.0->de-core-news-sm==3.7.0) (2.9.2)\n",
            "Requirement already satisfied: jinja2 in /usr/local/lib/python3.10/dist-packages (from spacy<3.8.0,>=3.7.0->de-core-news-sm==3.7.0) (3.1.4)\n",
            "Requirement already satisfied: setuptools in /usr/local/lib/python3.10/dist-packages (from spacy<3.8.0,>=3.7.0->de-core-news-sm==3.7.0) (75.1.0)\n",
            "Requirement already satisfied: packaging>=20.0 in /usr/local/lib/python3.10/dist-packages (from spacy<3.8.0,>=3.7.0->de-core-news-sm==3.7.0) (24.1)\n",
            "Requirement already satisfied: langcodes<4.0.0,>=3.2.0 in /usr/local/lib/python3.10/dist-packages (from spacy<3.8.0,>=3.7.0->de-core-news-sm==3.7.0) (3.4.1)\n",
            "Requirement already satisfied: numpy>=1.19.0 in /usr/local/lib/python3.10/dist-packages (from spacy<3.8.0,>=3.7.0->de-core-news-sm==3.7.0) (1.26.4)\n",
            "Requirement already satisfied: language-data>=1.2 in /usr/local/lib/python3.10/dist-packages (from langcodes<4.0.0,>=3.2.0->spacy<3.8.0,>=3.7.0->de-core-news-sm==3.7.0) (1.2.0)\n",
            "Requirement already satisfied: annotated-types>=0.6.0 in /usr/local/lib/python3.10/dist-packages (from pydantic!=1.8,!=1.8.1,<3.0.0,>=1.7.4->spacy<3.8.0,>=3.7.0->de-core-news-sm==3.7.0) (0.7.0)\n",
            "Requirement already satisfied: pydantic-core==2.23.4 in /usr/local/lib/python3.10/dist-packages (from pydantic!=1.8,!=1.8.1,<3.0.0,>=1.7.4->spacy<3.8.0,>=3.7.0->de-core-news-sm==3.7.0) (2.23.4)\n",
            "Requirement already satisfied: typing-extensions>=4.6.1 in /usr/local/lib/python3.10/dist-packages (from pydantic!=1.8,!=1.8.1,<3.0.0,>=1.7.4->spacy<3.8.0,>=3.7.0->de-core-news-sm==3.7.0) (4.12.2)\n",
            "Requirement already satisfied: charset-normalizer<4,>=2 in /usr/local/lib/python3.10/dist-packages (from requests<3.0.0,>=2.13.0->spacy<3.8.0,>=3.7.0->de-core-news-sm==3.7.0) (3.4.0)\n",
            "Requirement already satisfied: idna<4,>=2.5 in /usr/local/lib/python3.10/dist-packages (from requests<3.0.0,>=2.13.0->spacy<3.8.0,>=3.7.0->de-core-news-sm==3.7.0) (3.10)\n",
            "Requirement already satisfied: urllib3<3,>=1.21.1 in /usr/local/lib/python3.10/dist-packages (from requests<3.0.0,>=2.13.0->spacy<3.8.0,>=3.7.0->de-core-news-sm==3.7.0) (2.2.3)\n",
            "Requirement already satisfied: certifi>=2017.4.17 in /usr/local/lib/python3.10/dist-packages (from requests<3.0.0,>=2.13.0->spacy<3.8.0,>=3.7.0->de-core-news-sm==3.7.0) (2024.8.30)\n",
            "Requirement already satisfied: blis<0.8.0,>=0.7.8 in /usr/local/lib/python3.10/dist-packages (from thinc<8.3.0,>=8.2.2->spacy<3.8.0,>=3.7.0->de-core-news-sm==3.7.0) (0.7.11)\n",
            "Requirement already satisfied: confection<1.0.0,>=0.0.1 in /usr/local/lib/python3.10/dist-packages (from thinc<8.3.0,>=8.2.2->spacy<3.8.0,>=3.7.0->de-core-news-sm==3.7.0) (0.1.5)\n",
            "Requirement already satisfied: click>=8.0.0 in /usr/local/lib/python3.10/dist-packages (from typer<1.0.0,>=0.3.0->spacy<3.8.0,>=3.7.0->de-core-news-sm==3.7.0) (8.1.7)\n",
            "Requirement already satisfied: shellingham>=1.3.0 in /usr/local/lib/python3.10/dist-packages (from typer<1.0.0,>=0.3.0->spacy<3.8.0,>=3.7.0->de-core-news-sm==3.7.0) (1.5.4)\n",
            "Requirement already satisfied: rich>=10.11.0 in /usr/local/lib/python3.10/dist-packages (from typer<1.0.0,>=0.3.0->spacy<3.8.0,>=3.7.0->de-core-news-sm==3.7.0) (13.9.3)\n",
            "Requirement already satisfied: cloudpathlib<1.0.0,>=0.7.0 in /usr/local/lib/python3.10/dist-packages (from weasel<0.5.0,>=0.1.0->spacy<3.8.0,>=3.7.0->de-core-news-sm==3.7.0) (0.20.0)\n",
            "Requirement already satisfied: smart-open<8.0.0,>=5.2.1 in /usr/local/lib/python3.10/dist-packages (from weasel<0.5.0,>=0.1.0->spacy<3.8.0,>=3.7.0->de-core-news-sm==3.7.0) (7.0.5)\n",
            "Requirement already satisfied: MarkupSafe>=2.0 in /usr/local/lib/python3.10/dist-packages (from jinja2->spacy<3.8.0,>=3.7.0->de-core-news-sm==3.7.0) (3.0.2)\n",
            "Requirement already satisfied: marisa-trie>=0.7.7 in /usr/local/lib/python3.10/dist-packages (from language-data>=1.2->langcodes<4.0.0,>=3.2.0->spacy<3.8.0,>=3.7.0->de-core-news-sm==3.7.0) (1.2.1)\n",
            "Requirement already satisfied: markdown-it-py>=2.2.0 in /usr/local/lib/python3.10/dist-packages (from rich>=10.11.0->typer<1.0.0,>=0.3.0->spacy<3.8.0,>=3.7.0->de-core-news-sm==3.7.0) (3.0.0)\n",
            "Requirement already satisfied: pygments<3.0.0,>=2.13.0 in /usr/local/lib/python3.10/dist-packages (from rich>=10.11.0->typer<1.0.0,>=0.3.0->spacy<3.8.0,>=3.7.0->de-core-news-sm==3.7.0) (2.18.0)\n",
            "Requirement already satisfied: wrapt in /usr/local/lib/python3.10/dist-packages (from smart-open<8.0.0,>=5.2.1->weasel<0.5.0,>=0.1.0->spacy<3.8.0,>=3.7.0->de-core-news-sm==3.7.0) (1.16.0)\n",
            "Requirement already satisfied: mdurl~=0.1 in /usr/local/lib/python3.10/dist-packages (from markdown-it-py>=2.2.0->rich>=10.11.0->typer<1.0.0,>=0.3.0->spacy<3.8.0,>=3.7.0->de-core-news-sm==3.7.0) (0.1.2)\n",
            "\u001b[38;5;2m✔ Download and installation successful\u001b[0m\n",
            "You can now load the package via spacy.load('de_core_news_sm')\n",
            "\u001b[38;5;3m⚠ Restart to reload dependencies\u001b[0m\n",
            "If you are in a Jupyter or Colab notebook, you may need to restart Python in\n",
            "order to load all the package's dependencies. You can do this by selecting the\n",
            "'Restart kernel' or 'Restart runtime' option.\n"
          ]
        }
      ]
    },
    {
      "cell_type": "code",
      "source": [
        "from flair.data import Corpus\n",
        "from flair.datasets import ColumnCorpus\n",
        "\n",
        "# Define columns for CoNLL (0: word, 1: label)\n",
        "columns = {0: 'text', 1: 'pos', 2: 'ner'}\n",
        "\n",
        "# Set data folder and file names\n",
        "data_folder = './'\n",
        "train_file = 'flair_train.txt'\n",
        "test_file = 'flair_test.txt'\n",
        "\n",
        "# Load the corpus\n",
        "corpus: Corpus = ColumnCorpus(data_folder, columns,\n",
        "                              train_file=train_file,\n",
        "                              test_file=test_file)"
      ],
      "metadata": {
        "colab": {
          "base_uri": "https://localhost:8080/"
        },
        "id": "vl2-GpGBjpsi",
        "outputId": "f1c9d6a3-1b39-4ced-a838-a01d9972d0b1"
      },
      "id": "vl2-GpGBjpsi",
      "execution_count": 48,
      "outputs": [
        {
          "output_type": "stream",
          "name": "stdout",
          "text": [
            "2024-10-31 08:18:59,112 Reading data from .\n",
            "2024-10-31 08:18:59,115 Train: flair_train.txt\n",
            "2024-10-31 08:18:59,120 Dev: None\n",
            "2024-10-31 08:18:59,125 Test: flair_test.txt\n",
            "2024-10-31 08:19:04,324 No dev split found. Using 10% (i.e. 8 samples) of the train split as dev data\n"
          ]
        }
      ]
    },
    {
      "cell_type": "code",
      "source": [
        "# create NER tagger\n",
        "from flair.embeddings import WordEmbeddings, StackedEmbeddings\n",
        "from flair.models import SequenceTagger\n",
        "\n",
        "embeddings = StackedEmbeddings([\n",
        "                WordEmbeddings('glove'),\n",
        "                WordEmbeddings('en-crawl')\n",
        "            ])\n",
        "\n",
        "tagger = SequenceTagger(hidden_size=256,\n",
        "                         embeddings=embeddings,\n",
        "                         tag_dictionary=corpus.make_tag_dictionary(tag_type=\"ner\"),\n",
        "                         tag_type='ner',\n",
        "                         use_crf=True)"
      ],
      "metadata": {
        "id": "QEBUKmiAnaFm",
        "colab": {
          "base_uri": "https://localhost:8080/"
        },
        "outputId": "7c44f5dc-f1aa-433a-9da0-df2d396c3ac6"
      },
      "id": "QEBUKmiAnaFm",
      "execution_count": 49,
      "outputs": [
        {
          "output_type": "stream",
          "name": "stderr",
          "text": [
            "<ipython-input-49-e57782f05c8e>:12: DeprecationWarning: Call to deprecated method make_tag_dictionary. (Use 'make_label_dictionary' instead.) -- Deprecated since version 0.8.\n",
            "  tag_dictionary=corpus.make_tag_dictionary(tag_type=\"ner\"),\n"
          ]
        },
        {
          "output_type": "stream",
          "name": "stdout",
          "text": [
            "2024-10-31 08:19:46,461 SequenceTagger predicts: Dictionary with 4 tags: O, PER, <START>, <STOP>\n"
          ]
        }
      ]
    },
    {
      "cell_type": "code",
      "source": [
        "# train flair ner model\n",
        "from flair.trainers import ModelTrainer\n",
        "from flair.training_utils import EvaluationMetric\n",
        "\n",
        "trainer = ModelTrainer(tagger, corpus)\n",
        "\n",
        "trainer.train(\n",
        "    base_path='flair_output/',\n",
        "    learning_rate=0.01,\n",
        "    mini_batch_size=8,\n",
        "    max_epochs=20,\n",
        "    patience=3,\n",
        "    embeddings_storage_mode='gpu',\n",
        "    use_amp=True,  # Use mixed precision training\n",
        "    train_with_dev=False\n",
        ")"
      ],
      "metadata": {
        "id": "XbuJ4VjCnoPU",
        "colab": {
          "base_uri": "https://localhost:8080/"
        },
        "outputId": "261e1e06-f277-4c8b-b314-33c0bf425bd2"
      },
      "id": "XbuJ4VjCnoPU",
      "execution_count": 50,
      "outputs": [
        {
          "output_type": "stream",
          "name": "stdout",
          "text": [
            "2024-10-31 08:19:51,261 ----------------------------------------------------------------------------------------------------\n",
            "2024-10-31 08:19:51,265 Model: \"SequenceTagger(\n",
            "  (embeddings): StackedEmbeddings(\n",
            "    (list_embedding_0): WordEmbeddings(\n",
            "      'glove'\n",
            "      (embedding): Embedding(400001, 100)\n",
            "    )\n",
            "    (list_embedding_1): WordEmbeddings(\n",
            "      'en-crawl'\n",
            "      (embedding): Embedding(1000001, 300)\n",
            "    )\n",
            "  )\n",
            "  (word_dropout): WordDropout(p=0.05)\n",
            "  (locked_dropout): LockedDropout(p=0.5)\n",
            "  (embedding2nn): Linear(in_features=400, out_features=400, bias=True)\n",
            "  (rnn): LSTM(400, 256, batch_first=True, bidirectional=True)\n",
            "  (linear): Linear(in_features=512, out_features=4, bias=True)\n",
            "  (loss_function): ViterbiLoss()\n",
            "  (crf): CRF()\n",
            ")\"\n",
            "2024-10-31 08:19:51,267 ----------------------------------------------------------------------------------------------------\n",
            "2024-10-31 08:19:51,269 Corpus: 72 train + 8 dev + 20 test sentences\n",
            "2024-10-31 08:19:51,271 ----------------------------------------------------------------------------------------------------\n",
            "2024-10-31 08:19:51,273 Train:  72 sentences\n",
            "2024-10-31 08:19:51,275         (train_with_dev=False, train_with_test=False)\n",
            "2024-10-31 08:19:51,276 ----------------------------------------------------------------------------------------------------\n",
            "2024-10-31 08:19:51,277 Training Params:\n",
            "2024-10-31 08:19:51,278  - learning_rate: \"0.01\" \n",
            "2024-10-31 08:19:51,279  - mini_batch_size: \"8\"\n",
            "2024-10-31 08:19:51,280  - max_epochs: \"20\"\n",
            "2024-10-31 08:19:51,281  - shuffle: \"True\"\n",
            "2024-10-31 08:19:51,283 ----------------------------------------------------------------------------------------------------\n",
            "2024-10-31 08:19:51,284 Plugins:\n",
            "2024-10-31 08:19:51,285  - AnnealOnPlateau | patience: '3', anneal_factor: '0.5', min_learning_rate: '0.0001'\n",
            "2024-10-31 08:19:51,286 ----------------------------------------------------------------------------------------------------\n",
            "2024-10-31 08:19:51,287 Final evaluation on model from best epoch (best-model.pt)\n",
            "2024-10-31 08:19:51,288  - metric: \"('micro avg', 'f1-score')\"\n",
            "2024-10-31 08:19:51,289 ----------------------------------------------------------------------------------------------------\n",
            "2024-10-31 08:19:51,290 Computation:\n",
            "2024-10-31 08:19:51,291  - compute on device: cpu\n",
            "2024-10-31 08:19:51,293  - embedding storage: gpu\n",
            "2024-10-31 08:19:51,294 ----------------------------------------------------------------------------------------------------\n",
            "2024-10-31 08:19:51,295 Model training base path: \"flair_output\"\n",
            "2024-10-31 08:19:51,296 ----------------------------------------------------------------------------------------------------\n",
            "2024-10-31 08:19:51,297 ----------------------------------------------------------------------------------------------------\n"
          ]
        },
        {
          "output_type": "stream",
          "name": "stderr",
          "text": [
            "/usr/local/lib/python3.10/dist-packages/flair/trainers/trainer.py:499: FutureWarning: `torch.cuda.amp.GradScaler(args...)` is deprecated. Please use `torch.amp.GradScaler('cuda', args...)` instead.\n",
            "  scaler = torch.cuda.amp.GradScaler(enabled=use_amp and flair.device.type != \"cpu\")\n"
          ]
        },
        {
          "output_type": "stream",
          "name": "stdout",
          "text": [
            "2024-10-31 08:20:35,199 epoch 1 - iter 1/9 - loss 0.58502831 - time (sec): 43.90 - samples/sec: 116.22 - lr: 0.010000 - momentum: 0.000000\n",
            "2024-10-31 08:21:04,994 epoch 1 - iter 2/9 - loss 0.53865744 - time (sec): 73.70 - samples/sec: 123.43 - lr: 0.010000 - momentum: 0.000000\n",
            "2024-10-31 08:21:57,525 epoch 1 - iter 3/9 - loss 0.49543359 - time (sec): 126.23 - samples/sec: 116.69 - lr: 0.010000 - momentum: 0.000000\n",
            "2024-10-31 08:22:21,697 epoch 1 - iter 4/9 - loss 0.47031526 - time (sec): 150.40 - samples/sec: 121.07 - lr: 0.010000 - momentum: 0.000000\n",
            "2024-10-31 08:22:59,675 epoch 1 - iter 5/9 - loss 0.43939750 - time (sec): 188.38 - samples/sec: 119.22 - lr: 0.010000 - momentum: 0.000000\n",
            "2024-10-31 08:23:18,853 epoch 1 - iter 6/9 - loss 0.42289046 - time (sec): 207.55 - samples/sec: 121.48 - lr: 0.010000 - momentum: 0.000000\n",
            "2024-10-31 08:23:51,263 epoch 1 - iter 7/9 - loss 0.39361515 - time (sec): 239.96 - samples/sec: 122.31 - lr: 0.010000 - momentum: 0.000000\n",
            "2024-10-31 08:24:11,301 epoch 1 - iter 8/9 - loss 0.37777006 - time (sec): 260.00 - samples/sec: 122.85 - lr: 0.010000 - momentum: 0.000000\n",
            "2024-10-31 08:24:38,226 epoch 1 - iter 9/9 - loss 0.35718395 - time (sec): 286.93 - samples/sec: 122.75 - lr: 0.010000 - momentum: 0.000000\n",
            "2024-10-31 08:24:38,239 ----------------------------------------------------------------------------------------------------\n",
            "2024-10-31 08:24:38,248 EPOCH 1 done: loss 0.3572 - lr: 0.010000\n"
          ]
        },
        {
          "output_type": "stream",
          "name": "stderr",
          "text": [
            "100%|██████████| 1/1 [00:01<00:00,  1.69s/it]"
          ]
        },
        {
          "output_type": "stream",
          "name": "stdout",
          "text": [
            "2024-10-31 08:24:39,994 DEV : loss 0.12698327004909515 - f1-score (micro avg)  0.0\n",
            "2024-10-31 08:24:39,999  - 0 epochs without improvement\n",
            "2024-10-31 08:24:40,002 ----------------------------------------------------------------------------------------------------\n"
          ]
        },
        {
          "output_type": "stream",
          "name": "stderr",
          "text": [
            "\n"
          ]
        },
        {
          "output_type": "stream",
          "name": "stdout",
          "text": [
            "2024-10-31 08:25:13,395 epoch 2 - iter 1/9 - loss 0.14648120 - time (sec): 33.39 - samples/sec: 120.96 - lr: 0.010000 - momentum: 0.000000\n",
            "2024-10-31 08:25:42,717 epoch 2 - iter 2/9 - loss 0.14025396 - time (sec): 62.71 - samples/sec: 123.90 - lr: 0.010000 - momentum: 0.000000\n",
            "2024-10-31 08:26:07,410 epoch 2 - iter 3/9 - loss 0.13330719 - time (sec): 87.41 - samples/sec: 125.83 - lr: 0.010000 - momentum: 0.000000\n",
            "2024-10-31 08:26:50,266 epoch 2 - iter 4/9 - loss 0.11891448 - time (sec): 130.26 - samples/sec: 120.07 - lr: 0.010000 - momentum: 0.000000\n",
            "2024-10-31 08:27:13,417 epoch 2 - iter 5/9 - loss 0.11439210 - time (sec): 153.41 - samples/sec: 121.80 - lr: 0.010000 - momentum: 0.000000\n",
            "2024-10-31 08:28:01,179 epoch 2 - iter 6/9 - loss 0.10604050 - time (sec): 201.17 - samples/sec: 120.27 - lr: 0.010000 - momentum: 0.000000\n",
            "2024-10-31 08:28:18,248 epoch 2 - iter 7/9 - loss 0.10337089 - time (sec): 218.24 - samples/sec: 122.51 - lr: 0.010000 - momentum: 0.000000\n",
            "2024-10-31 08:28:54,110 epoch 2 - iter 8/9 - loss 0.09804376 - time (sec): 254.11 - samples/sec: 123.13 - lr: 0.010000 - momentum: 0.000000\n",
            "2024-10-31 08:29:24,775 epoch 2 - iter 9/9 - loss 0.09428155 - time (sec): 284.77 - samples/sec: 123.68 - lr: 0.010000 - momentum: 0.000000\n",
            "2024-10-31 08:29:24,784 ----------------------------------------------------------------------------------------------------\n",
            "2024-10-31 08:29:24,791 EPOCH 2 done: loss 0.0943 - lr: 0.010000\n"
          ]
        },
        {
          "output_type": "stream",
          "name": "stderr",
          "text": [
            "100%|██████████| 1/1 [00:01<00:00,  1.32s/it]"
          ]
        },
        {
          "output_type": "stream",
          "name": "stdout",
          "text": [
            "2024-10-31 08:29:26,136 DEV : loss 0.050726793706417084 - f1-score (micro avg)  0.0\n",
            "2024-10-31 08:29:26,141  - 0 epochs without improvement\n",
            "2024-10-31 08:29:26,143 ----------------------------------------------------------------------------------------------------\n"
          ]
        },
        {
          "output_type": "stream",
          "name": "stderr",
          "text": [
            "\n"
          ]
        },
        {
          "output_type": "stream",
          "name": "stdout",
          "text": [
            "2024-10-31 08:30:15,464 epoch 3 - iter 1/9 - loss 0.05998596 - time (sec): 49.32 - samples/sec: 105.24 - lr: 0.010000 - momentum: 0.000000\n",
            "2024-10-31 08:30:49,155 epoch 3 - iter 2/9 - loss 0.06092038 - time (sec): 83.01 - samples/sec: 109.34 - lr: 0.010000 - momentum: 0.000000\n",
            "2024-10-31 08:31:24,522 epoch 3 - iter 3/9 - loss 0.06519207 - time (sec): 118.37 - samples/sec: 109.09 - lr: 0.010000 - momentum: 0.000000\n",
            "2024-10-31 08:32:04,754 epoch 3 - iter 4/9 - loss 0.06145499 - time (sec): 158.61 - samples/sec: 113.08 - lr: 0.010000 - momentum: 0.000000\n",
            "2024-10-31 08:32:40,881 epoch 3 - iter 5/9 - loss 0.05900607 - time (sec): 194.73 - samples/sec: 111.61 - lr: 0.010000 - momentum: 0.000000\n",
            "2024-10-31 08:33:12,349 epoch 3 - iter 6/9 - loss 0.05682209 - time (sec): 226.20 - samples/sec: 113.24 - lr: 0.010000 - momentum: 0.000000\n",
            "2024-10-31 08:33:38,021 epoch 3 - iter 7/9 - loss 0.05674165 - time (sec): 251.87 - samples/sec: 115.20 - lr: 0.010000 - momentum: 0.000000\n",
            "2024-10-31 08:34:08,049 epoch 3 - iter 8/9 - loss 0.05712944 - time (sec): 281.90 - samples/sec: 115.11 - lr: 0.010000 - momentum: 0.000000\n",
            "2024-10-31 08:34:28,240 epoch 3 - iter 9/9 - loss 0.05748066 - time (sec): 302.09 - samples/sec: 116.59 - lr: 0.010000 - momentum: 0.000000\n",
            "2024-10-31 08:34:28,251 ----------------------------------------------------------------------------------------------------\n",
            "2024-10-31 08:34:28,254 EPOCH 3 done: loss 0.0575 - lr: 0.010000\n"
          ]
        },
        {
          "output_type": "stream",
          "name": "stderr",
          "text": [
            "100%|██████████| 1/1 [00:01<00:00,  1.33s/it]"
          ]
        },
        {
          "output_type": "stream",
          "name": "stdout",
          "text": [
            "2024-10-31 08:34:29,617 DEV : loss 0.04185564070940018 - f1-score (micro avg)  0.0\n",
            "2024-10-31 08:34:29,623  - 0 epochs without improvement\n",
            "2024-10-31 08:34:29,627 ----------------------------------------------------------------------------------------------------\n"
          ]
        },
        {
          "output_type": "stream",
          "name": "stderr",
          "text": [
            "\n"
          ]
        },
        {
          "output_type": "stream",
          "name": "stdout",
          "text": [
            "2024-10-31 08:34:58,855 epoch 4 - iter 1/9 - loss 0.04625501 - time (sec): 29.23 - samples/sec: 126.98 - lr: 0.010000 - momentum: 0.000000\n",
            "2024-10-31 08:35:25,257 epoch 4 - iter 2/9 - loss 0.04894476 - time (sec): 55.63 - samples/sec: 129.52 - lr: 0.010000 - momentum: 0.000000\n",
            "2024-10-31 08:35:57,263 epoch 4 - iter 3/9 - loss 0.04999591 - time (sec): 87.63 - samples/sec: 128.41 - lr: 0.010000 - momentum: 0.000000\n",
            "2024-10-31 08:36:37,966 epoch 4 - iter 4/9 - loss 0.04632039 - time (sec): 128.34 - samples/sec: 126.32 - lr: 0.010000 - momentum: 0.000000\n",
            "2024-10-31 08:37:08,282 epoch 4 - iter 5/9 - loss 0.04550985 - time (sec): 158.65 - samples/sec: 123.94 - lr: 0.010000 - momentum: 0.000000\n",
            "2024-10-31 08:37:23,870 epoch 4 - iter 6/9 - loss 0.04852338 - time (sec): 174.24 - samples/sec: 127.00 - lr: 0.010000 - momentum: 0.000000\n",
            "2024-10-31 08:38:21,857 epoch 4 - iter 7/9 - loss 0.04507165 - time (sec): 232.23 - samples/sec: 122.19 - lr: 0.010000 - momentum: 0.000000\n",
            "2024-10-31 08:39:06,326 epoch 4 - iter 8/9 - loss 0.04522002 - time (sec): 276.70 - samples/sec: 120.10 - lr: 0.010000 - momentum: 0.000000\n",
            "2024-10-31 08:39:19,226 epoch 4 - iter 9/9 - loss 0.04635097 - time (sec): 289.60 - samples/sec: 121.62 - lr: 0.010000 - momentum: 0.000000\n",
            "2024-10-31 08:39:19,234 ----------------------------------------------------------------------------------------------------\n",
            "2024-10-31 08:39:19,243 EPOCH 4 done: loss 0.0464 - lr: 0.010000\n"
          ]
        },
        {
          "output_type": "stream",
          "name": "stderr",
          "text": [
            "100%|██████████| 1/1 [00:01<00:00,  1.46s/it]"
          ]
        },
        {
          "output_type": "stream",
          "name": "stdout",
          "text": [
            "2024-10-31 08:39:20,732 DEV : loss 0.034839969128370285 - f1-score (micro avg)  0.0\n",
            "2024-10-31 08:39:20,736  - 0 epochs without improvement\n",
            "2024-10-31 08:39:20,740 ----------------------------------------------------------------------------------------------------\n"
          ]
        },
        {
          "output_type": "stream",
          "name": "stderr",
          "text": [
            "\n"
          ]
        },
        {
          "output_type": "stream",
          "name": "stdout",
          "text": [
            "2024-10-31 08:39:58,305 epoch 5 - iter 1/9 - loss 0.04480281 - time (sec): 37.56 - samples/sec: 113.60 - lr: 0.010000 - momentum: 0.000000\n",
            "2024-10-31 08:40:35,482 epoch 5 - iter 2/9 - loss 0.03844019 - time (sec): 74.74 - samples/sec: 114.72 - lr: 0.010000 - momentum: 0.000000\n",
            "2024-10-31 08:40:57,344 epoch 5 - iter 3/9 - loss 0.04082296 - time (sec): 96.60 - samples/sec: 121.17 - lr: 0.010000 - momentum: 0.000000\n",
            "2024-10-31 08:41:37,524 epoch 5 - iter 4/9 - loss 0.03772120 - time (sec): 136.78 - samples/sec: 121.49 - lr: 0.010000 - momentum: 0.000000\n",
            "2024-10-31 08:42:13,172 epoch 5 - iter 5/9 - loss 0.03741717 - time (sec): 172.43 - samples/sec: 122.11 - lr: 0.010000 - momentum: 0.000000\n",
            "2024-10-31 08:42:47,380 epoch 5 - iter 6/9 - loss 0.03739045 - time (sec): 206.64 - samples/sec: 123.80 - lr: 0.010000 - momentum: 0.000000\n",
            "2024-10-31 08:43:01,927 epoch 5 - iter 7/9 - loss 0.03880700 - time (sec): 221.18 - samples/sec: 125.24 - lr: 0.010000 - momentum: 0.000000\n",
            "2024-10-31 08:43:46,851 epoch 5 - iter 8/9 - loss 0.03680560 - time (sec): 266.11 - samples/sec: 122.39 - lr: 0.010000 - momentum: 0.000000\n",
            "2024-10-31 08:44:05,618 epoch 5 - iter 9/9 - loss 0.03812897 - time (sec): 284.88 - samples/sec: 123.64 - lr: 0.010000 - momentum: 0.000000\n",
            "2024-10-31 08:44:05,624 ----------------------------------------------------------------------------------------------------\n",
            "2024-10-31 08:44:05,631 EPOCH 5 done: loss 0.0381 - lr: 0.010000\n"
          ]
        },
        {
          "output_type": "stream",
          "name": "stderr",
          "text": [
            "100%|██████████| 1/1 [00:01<00:00,  1.58s/it]"
          ]
        },
        {
          "output_type": "stream",
          "name": "stdout",
          "text": [
            "2024-10-31 08:44:07,252 DEV : loss 0.02861841395497322 - f1-score (micro avg)  0.1778\n",
            "2024-10-31 08:44:07,257  - 0 epochs without improvement\n",
            "2024-10-31 08:44:07,260 saving best model\n"
          ]
        },
        {
          "output_type": "stream",
          "name": "stderr",
          "text": [
            "\n"
          ]
        },
        {
          "output_type": "stream",
          "name": "stdout",
          "text": [
            "2024-10-31 08:45:28,880 ----------------------------------------------------------------------------------------------------\n",
            "2024-10-31 08:46:04,116 epoch 6 - iter 1/9 - loss 0.02908526 - time (sec): 35.23 - samples/sec: 135.70 - lr: 0.010000 - momentum: 0.000000\n",
            "2024-10-31 08:46:25,665 epoch 6 - iter 2/9 - loss 0.03240943 - time (sec): 56.78 - samples/sec: 133.88 - lr: 0.010000 - momentum: 0.000000\n",
            "2024-10-31 08:46:50,705 epoch 6 - iter 3/9 - loss 0.03568623 - time (sec): 81.82 - samples/sec: 133.23 - lr: 0.010000 - momentum: 0.000000\n",
            "2024-10-31 08:47:23,496 epoch 6 - iter 4/9 - loss 0.03440240 - time (sec): 114.61 - samples/sec: 129.72 - lr: 0.010000 - momentum: 0.000000\n",
            "2024-10-31 08:47:56,176 epoch 6 - iter 5/9 - loss 0.03187125 - time (sec): 147.29 - samples/sec: 127.50 - lr: 0.010000 - momentum: 0.000000\n",
            "2024-10-31 08:48:19,538 epoch 6 - iter 6/9 - loss 0.03323379 - time (sec): 170.65 - samples/sec: 127.56 - lr: 0.010000 - momentum: 0.000000\n",
            "2024-10-31 08:49:05,035 epoch 6 - iter 7/9 - loss 0.03166725 - time (sec): 216.15 - samples/sec: 123.94 - lr: 0.010000 - momentum: 0.000000\n",
            "2024-10-31 08:49:46,287 epoch 6 - iter 8/9 - loss 0.03064731 - time (sec): 257.40 - samples/sec: 122.44 - lr: 0.010000 - momentum: 0.000000\n",
            "2024-10-31 08:50:18,108 epoch 6 - iter 9/9 - loss 0.03126858 - time (sec): 289.22 - samples/sec: 121.78 - lr: 0.010000 - momentum: 0.000000\n",
            "2024-10-31 08:50:18,118 ----------------------------------------------------------------------------------------------------\n",
            "2024-10-31 08:50:18,127 EPOCH 6 done: loss 0.0313 - lr: 0.010000\n"
          ]
        },
        {
          "output_type": "stream",
          "name": "stderr",
          "text": [
            "100%|██████████| 1/1 [00:02<00:00,  2.07s/it]"
          ]
        },
        {
          "output_type": "stream",
          "name": "stdout",
          "text": [
            "2024-10-31 08:50:20,236 DEV : loss 0.024572325870394707 - f1-score (micro avg)  0.3846\n",
            "2024-10-31 08:50:20,241  - 0 epochs without improvement\n",
            "2024-10-31 08:50:20,243 saving best model\n"
          ]
        },
        {
          "output_type": "stream",
          "name": "stderr",
          "text": [
            "\n"
          ]
        },
        {
          "output_type": "stream",
          "name": "stdout",
          "text": [
            "2024-10-31 08:51:43,575 ----------------------------------------------------------------------------------------------------\n",
            "2024-10-31 08:52:05,395 epoch 7 - iter 1/9 - loss 0.03155861 - time (sec): 21.82 - samples/sec: 161.44 - lr: 0.010000 - momentum: 0.000000\n",
            "2024-10-31 08:52:30,635 epoch 7 - iter 2/9 - loss 0.03195518 - time (sec): 47.06 - samples/sec: 143.61 - lr: 0.010000 - momentum: 0.000000\n",
            "2024-10-31 08:53:07,198 epoch 7 - iter 3/9 - loss 0.02777364 - time (sec): 83.62 - samples/sec: 133.59 - lr: 0.010000 - momentum: 0.000000\n",
            "2024-10-31 08:53:34,657 epoch 7 - iter 4/9 - loss 0.02915122 - time (sec): 111.08 - samples/sec: 131.34 - lr: 0.010000 - momentum: 0.000000\n",
            "2024-10-31 08:54:07,054 epoch 7 - iter 5/9 - loss 0.02748737 - time (sec): 143.48 - samples/sec: 130.71 - lr: 0.010000 - momentum: 0.000000\n",
            "2024-10-31 08:54:40,626 epoch 7 - iter 6/9 - loss 0.02882660 - time (sec): 177.05 - samples/sec: 127.73 - lr: 0.010000 - momentum: 0.000000\n",
            "2024-10-31 08:55:17,982 epoch 7 - iter 7/9 - loss 0.02877599 - time (sec): 214.40 - samples/sec: 125.45 - lr: 0.010000 - momentum: 0.000000\n",
            "2024-10-31 08:55:36,538 epoch 7 - iter 8/9 - loss 0.02871490 - time (sec): 232.96 - samples/sec: 127.73 - lr: 0.010000 - momentum: 0.000000\n",
            "2024-10-31 08:56:25,436 epoch 7 - iter 9/9 - loss 0.02737109 - time (sec): 281.86 - samples/sec: 124.96 - lr: 0.010000 - momentum: 0.000000\n",
            "2024-10-31 08:56:25,445 ----------------------------------------------------------------------------------------------------\n",
            "2024-10-31 08:56:25,451 EPOCH 7 done: loss 0.0274 - lr: 0.010000\n"
          ]
        },
        {
          "output_type": "stream",
          "name": "stderr",
          "text": [
            "100%|██████████| 1/1 [00:01<00:00,  1.81s/it]"
          ]
        },
        {
          "output_type": "stream",
          "name": "stdout",
          "text": [
            "2024-10-31 08:56:27,299 DEV : loss 0.02290331944823265 - f1-score (micro avg)  0.3448\n",
            "2024-10-31 08:56:27,308  - 1 epochs without improvement\n",
            "2024-10-31 08:56:27,313 ----------------------------------------------------------------------------------------------------\n"
          ]
        },
        {
          "output_type": "stream",
          "name": "stderr",
          "text": [
            "\n"
          ]
        },
        {
          "output_type": "stream",
          "name": "stdout",
          "text": [
            "2024-10-31 08:57:02,104 epoch 8 - iter 1/9 - loss 0.01887557 - time (sec): 34.79 - samples/sec: 128.03 - lr: 0.010000 - momentum: 0.000000\n",
            "2024-10-31 08:57:39,224 epoch 8 - iter 2/9 - loss 0.02037189 - time (sec): 71.91 - samples/sec: 126.75 - lr: 0.010000 - momentum: 0.000000\n",
            "2024-10-31 08:57:57,491 epoch 8 - iter 3/9 - loss 0.02342510 - time (sec): 90.17 - samples/sec: 131.42 - lr: 0.010000 - momentum: 0.000000\n",
            "2024-10-31 08:58:43,483 epoch 8 - iter 4/9 - loss 0.02262404 - time (sec): 136.17 - samples/sec: 127.37 - lr: 0.010000 - momentum: 0.000000\n",
            "2024-10-31 08:59:07,165 epoch 8 - iter 5/9 - loss 0.02383895 - time (sec): 159.85 - samples/sec: 127.48 - lr: 0.010000 - momentum: 0.000000\n",
            "2024-10-31 08:59:46,269 epoch 8 - iter 6/9 - loss 0.02371513 - time (sec): 198.95 - samples/sec: 124.33 - lr: 0.010000 - momentum: 0.000000\n",
            "2024-10-31 09:00:26,294 epoch 8 - iter 7/9 - loss 0.02429735 - time (sec): 238.98 - samples/sec: 121.75 - lr: 0.010000 - momentum: 0.000000\n",
            "2024-10-31 09:00:43,861 epoch 8 - iter 8/9 - loss 0.02479311 - time (sec): 256.54 - samples/sec: 123.41 - lr: 0.010000 - momentum: 0.000000\n",
            "2024-10-31 09:01:14,097 epoch 8 - iter 9/9 - loss 0.02483588 - time (sec): 286.78 - samples/sec: 122.82 - lr: 0.010000 - momentum: 0.000000\n",
            "2024-10-31 09:01:14,108 ----------------------------------------------------------------------------------------------------\n",
            "2024-10-31 09:01:14,116 EPOCH 8 done: loss 0.0248 - lr: 0.010000\n"
          ]
        },
        {
          "output_type": "stream",
          "name": "stderr",
          "text": [
            "100%|██████████| 1/1 [00:01<00:00,  1.33s/it]"
          ]
        },
        {
          "output_type": "stream",
          "name": "stdout",
          "text": [
            "2024-10-31 09:01:15,477 DEV : loss 0.021971505135297775 - f1-score (micro avg)  0.4242\n",
            "2024-10-31 09:01:15,481  - 0 epochs without improvement\n",
            "2024-10-31 09:01:15,485 saving best model\n"
          ]
        },
        {
          "output_type": "stream",
          "name": "stderr",
          "text": [
            "\n"
          ]
        },
        {
          "output_type": "stream",
          "name": "stdout",
          "text": [
            "2024-10-31 09:01:40,834 ----------------------------------------------------------------------------------------------------\n",
            "2024-10-31 09:02:28,867 epoch 9 - iter 1/9 - loss 0.01716157 - time (sec): 48.03 - samples/sec: 110.26 - lr: 0.010000 - momentum: 0.000000\n",
            "2024-10-31 09:03:04,743 epoch 9 - iter 2/9 - loss 0.02105091 - time (sec): 83.91 - samples/sec: 114.33 - lr: 0.010000 - momentum: 0.000000\n",
            "2024-10-31 09:03:37,501 epoch 9 - iter 3/9 - loss 0.02184946 - time (sec): 116.66 - samples/sec: 113.87 - lr: 0.010000 - momentum: 0.000000\n",
            "2024-10-31 09:04:16,126 epoch 9 - iter 4/9 - loss 0.02102925 - time (sec): 155.29 - samples/sec: 114.55 - lr: 0.010000 - momentum: 0.000000\n",
            "2024-10-31 09:04:39,481 epoch 9 - iter 5/9 - loss 0.02211972 - time (sec): 178.64 - samples/sec: 116.81 - lr: 0.010000 - momentum: 0.000000\n",
            "2024-10-31 09:05:10,770 epoch 9 - iter 6/9 - loss 0.02333346 - time (sec): 209.93 - samples/sec: 118.65 - lr: 0.010000 - momentum: 0.000000\n",
            "2024-10-31 09:05:42,011 epoch 9 - iter 7/9 - loss 0.02259355 - time (sec): 241.17 - samples/sec: 120.06 - lr: 0.010000 - momentum: 0.000000\n",
            "2024-10-31 09:06:06,132 epoch 9 - iter 8/9 - loss 0.02259083 - time (sec): 265.30 - samples/sec: 119.24 - lr: 0.010000 - momentum: 0.000000\n",
            "2024-10-31 09:06:37,351 epoch 9 - iter 9/9 - loss 0.02257847 - time (sec): 296.51 - samples/sec: 118.78 - lr: 0.010000 - momentum: 0.000000\n",
            "2024-10-31 09:06:37,357 ----------------------------------------------------------------------------------------------------\n",
            "2024-10-31 09:06:37,363 EPOCH 9 done: loss 0.0226 - lr: 0.010000\n"
          ]
        },
        {
          "output_type": "stream",
          "name": "stderr",
          "text": [
            "100%|██████████| 1/1 [00:01<00:00,  1.32s/it]"
          ]
        },
        {
          "output_type": "stream",
          "name": "stdout",
          "text": [
            "2024-10-31 09:06:38,721 DEV : loss 0.02178560197353363 - f1-score (micro avg)  0.4928\n",
            "2024-10-31 09:06:38,726  - 0 epochs without improvement\n",
            "2024-10-31 09:06:38,728 saving best model\n"
          ]
        },
        {
          "output_type": "stream",
          "name": "stderr",
          "text": [
            "\n"
          ]
        },
        {
          "output_type": "stream",
          "name": "stdout",
          "text": [
            "2024-10-31 09:07:29,132 ----------------------------------------------------------------------------------------------------\n",
            "2024-10-31 09:07:53,242 epoch 10 - iter 1/9 - loss 0.03452762 - time (sec): 24.11 - samples/sec: 113.29 - lr: 0.010000 - momentum: 0.000000\n",
            "2024-10-31 09:08:20,337 epoch 10 - iter 2/9 - loss 0.03102150 - time (sec): 51.20 - samples/sec: 115.81 - lr: 0.010000 - momentum: 0.000000\n",
            "2024-10-31 09:08:42,891 epoch 10 - iter 3/9 - loss 0.02831814 - time (sec): 73.76 - samples/sec: 118.81 - lr: 0.010000 - momentum: 0.000000\n",
            "2024-10-31 09:09:11,040 epoch 10 - iter 4/9 - loss 0.02631409 - time (sec): 101.91 - samples/sec: 116.05 - lr: 0.010000 - momentum: 0.000000\n",
            "2024-10-31 09:09:57,028 epoch 10 - iter 5/9 - loss 0.02252312 - time (sec): 147.89 - samples/sec: 113.09 - lr: 0.010000 - momentum: 0.000000\n",
            "2024-10-31 09:10:49,628 epoch 10 - iter 6/9 - loss 0.02061727 - time (sec): 200.49 - samples/sec: 111.48 - lr: 0.010000 - momentum: 0.000000\n",
            "2024-10-31 09:11:27,181 epoch 10 - iter 7/9 - loss 0.02071087 - time (sec): 238.05 - samples/sec: 114.29 - lr: 0.010000 - momentum: 0.000000\n",
            "2024-10-31 09:12:06,701 epoch 10 - iter 8/9 - loss 0.02025511 - time (sec): 277.57 - samples/sec: 116.06 - lr: 0.010000 - momentum: 0.000000\n",
            "2024-10-31 09:12:26,606 epoch 10 - iter 9/9 - loss 0.02159911 - time (sec): 297.47 - samples/sec: 118.40 - lr: 0.010000 - momentum: 0.000000\n",
            "2024-10-31 09:12:26,619 ----------------------------------------------------------------------------------------------------\n",
            "2024-10-31 09:12:26,627 EPOCH 10 done: loss 0.0216 - lr: 0.010000\n"
          ]
        },
        {
          "output_type": "stream",
          "name": "stderr",
          "text": [
            "100%|██████████| 1/1 [00:01<00:00,  1.92s/it]"
          ]
        },
        {
          "output_type": "stream",
          "name": "stdout",
          "text": [
            "2024-10-31 09:12:28,591 DEV : loss 0.022498447448015213 - f1-score (micro avg)  0.6076\n",
            "2024-10-31 09:12:28,598  - 0 epochs without improvement\n",
            "2024-10-31 09:12:28,603 saving best model\n"
          ]
        },
        {
          "output_type": "stream",
          "name": "stderr",
          "text": [
            "\n"
          ]
        },
        {
          "output_type": "stream",
          "name": "stdout",
          "text": [
            "2024-10-31 09:13:12,786 ----------------------------------------------------------------------------------------------------\n",
            "2024-10-31 09:13:38,916 epoch 11 - iter 1/9 - loss 0.01904034 - time (sec): 26.13 - samples/sec: 128.11 - lr: 0.010000 - momentum: 0.000000\n",
            "2024-10-31 09:14:11,569 epoch 11 - iter 2/9 - loss 0.01610218 - time (sec): 58.78 - samples/sec: 129.43 - lr: 0.010000 - momentum: 0.000000\n",
            "2024-10-31 09:14:44,280 epoch 11 - iter 3/9 - loss 0.01815392 - time (sec): 91.49 - samples/sec: 124.77 - lr: 0.010000 - momentum: 0.000000\n",
            "2024-10-31 09:15:32,110 epoch 11 - iter 4/9 - loss 0.01973947 - time (sec): 139.32 - samples/sec: 119.39 - lr: 0.010000 - momentum: 0.000000\n",
            "2024-10-31 09:16:07,791 epoch 11 - iter 5/9 - loss 0.01941368 - time (sec): 175.00 - samples/sec: 118.97 - lr: 0.010000 - momentum: 0.000000\n",
            "2024-10-31 09:16:25,531 epoch 11 - iter 6/9 - loss 0.02033022 - time (sec): 192.74 - samples/sec: 121.72 - lr: 0.010000 - momentum: 0.000000\n",
            "2024-10-31 09:17:05,078 epoch 11 - iter 7/9 - loss 0.02067114 - time (sec): 232.29 - samples/sec: 121.81 - lr: 0.010000 - momentum: 0.000000\n",
            "2024-10-31 09:17:43,091 epoch 11 - iter 8/9 - loss 0.02043973 - time (sec): 270.30 - samples/sec: 119.69 - lr: 0.010000 - momentum: 0.000000\n",
            "2024-10-31 09:18:05,902 epoch 11 - iter 9/9 - loss 0.02120098 - time (sec): 293.11 - samples/sec: 120.16 - lr: 0.010000 - momentum: 0.000000\n",
            "2024-10-31 09:18:05,907 ----------------------------------------------------------------------------------------------------\n",
            "2024-10-31 09:18:05,912 EPOCH 11 done: loss 0.0212 - lr: 0.010000\n"
          ]
        },
        {
          "output_type": "stream",
          "name": "stderr",
          "text": [
            "100%|██████████| 1/1 [00:02<00:00,  2.05s/it]"
          ]
        },
        {
          "output_type": "stream",
          "name": "stdout",
          "text": [
            "2024-10-31 09:18:08,002 DEV : loss 0.022498611360788345 - f1-score (micro avg)  0.5909\n",
            "2024-10-31 09:18:08,006  - 1 epochs without improvement\n",
            "2024-10-31 09:18:08,010 ----------------------------------------------------------------------------------------------------\n"
          ]
        },
        {
          "output_type": "stream",
          "name": "stderr",
          "text": [
            "\n"
          ]
        },
        {
          "output_type": "stream",
          "name": "stdout",
          "text": [
            "2024-10-31 09:18:33,627 epoch 12 - iter 1/9 - loss 0.02562901 - time (sec): 25.61 - samples/sec: 129.07 - lr: 0.010000 - momentum: 0.000000\n",
            "2024-10-31 09:19:05,664 epoch 12 - iter 2/9 - loss 0.02334590 - time (sec): 57.65 - samples/sec: 116.68 - lr: 0.010000 - momentum: 0.000000\n",
            "2024-10-31 09:19:27,341 epoch 12 - iter 3/9 - loss 0.02598902 - time (sec): 79.33 - samples/sec: 121.97 - lr: 0.010000 - momentum: 0.000000\n",
            "2024-10-31 09:19:55,745 epoch 12 - iter 4/9 - loss 0.02465366 - time (sec): 107.73 - samples/sec: 124.28 - lr: 0.010000 - momentum: 0.000000\n",
            "2024-10-31 09:20:33,054 epoch 12 - iter 5/9 - loss 0.02274919 - time (sec): 145.04 - samples/sec: 123.21 - lr: 0.010000 - momentum: 0.000000\n",
            "2024-10-31 09:20:59,322 epoch 12 - iter 6/9 - loss 0.02241729 - time (sec): 171.31 - samples/sec: 126.29 - lr: 0.010000 - momentum: 0.000000\n",
            "2024-10-31 09:21:49,205 epoch 12 - iter 7/9 - loss 0.02068410 - time (sec): 221.19 - samples/sec: 122.74 - lr: 0.010000 - momentum: 0.000000\n",
            "2024-10-31 09:22:32,069 epoch 12 - iter 8/9 - loss 0.01936134 - time (sec): 264.06 - samples/sec: 119.36 - lr: 0.010000 - momentum: 0.000000\n",
            "2024-10-31 09:23:02,810 epoch 12 - iter 9/9 - loss 0.01946367 - time (sec): 294.80 - samples/sec: 119.48 - lr: 0.010000 - momentum: 0.000000\n",
            "2024-10-31 09:23:02,817 ----------------------------------------------------------------------------------------------------\n",
            "2024-10-31 09:23:02,822 EPOCH 12 done: loss 0.0195 - lr: 0.010000\n"
          ]
        },
        {
          "output_type": "stream",
          "name": "stderr",
          "text": [
            "100%|██████████| 1/1 [00:01<00:00,  1.37s/it]"
          ]
        },
        {
          "output_type": "stream",
          "name": "stdout",
          "text": [
            "2024-10-31 09:23:04,222 DEV : loss 0.02210969664156437 - f1-score (micro avg)  0.5909\n",
            "2024-10-31 09:23:04,227  - 2 epochs without improvement\n",
            "2024-10-31 09:23:04,229 ----------------------------------------------------------------------------------------------------\n"
          ]
        },
        {
          "output_type": "stream",
          "name": "stderr",
          "text": [
            "\n"
          ]
        },
        {
          "output_type": "stream",
          "name": "stdout",
          "text": [
            "2024-10-31 09:23:32,793 epoch 13 - iter 1/9 - loss 0.02188395 - time (sec): 28.56 - samples/sec: 109.66 - lr: 0.010000 - momentum: 0.000000\n",
            "2024-10-31 09:24:00,736 epoch 13 - iter 2/9 - loss 0.02187874 - time (sec): 56.50 - samples/sec: 118.33 - lr: 0.010000 - momentum: 0.000000\n",
            "2024-10-31 09:24:20,433 epoch 13 - iter 3/9 - loss 0.02359741 - time (sec): 76.20 - samples/sec: 127.95 - lr: 0.010000 - momentum: 0.000000\n",
            "2024-10-31 09:24:50,246 epoch 13 - iter 4/9 - loss 0.02522180 - time (sec): 106.01 - samples/sec: 127.27 - lr: 0.010000 - momentum: 0.000000\n",
            "2024-10-31 09:25:20,516 epoch 13 - iter 5/9 - loss 0.02487833 - time (sec): 136.28 - samples/sec: 126.66 - lr: 0.010000 - momentum: 0.000000\n",
            "2024-10-31 09:25:51,170 epoch 13 - iter 6/9 - loss 0.02349306 - time (sec): 166.94 - samples/sec: 129.35 - lr: 0.010000 - momentum: 0.000000\n",
            "2024-10-31 09:26:45,538 epoch 13 - iter 7/9 - loss 0.02198980 - time (sec): 221.30 - samples/sec: 125.12 - lr: 0.010000 - momentum: 0.000000\n",
            "2024-10-31 09:27:15,448 epoch 13 - iter 8/9 - loss 0.02175417 - time (sec): 251.21 - samples/sec: 121.96 - lr: 0.010000 - momentum: 0.000000\n",
            "2024-10-31 09:27:54,637 epoch 13 - iter 9/9 - loss 0.02094969 - time (sec): 290.40 - samples/sec: 121.28 - lr: 0.010000 - momentum: 0.000000\n",
            "2024-10-31 09:27:54,643 ----------------------------------------------------------------------------------------------------\n",
            "2024-10-31 09:27:54,652 EPOCH 13 done: loss 0.0209 - lr: 0.010000\n"
          ]
        },
        {
          "output_type": "stream",
          "name": "stderr",
          "text": [
            "100%|██████████| 1/1 [00:01<00:00,  1.34s/it]"
          ]
        },
        {
          "output_type": "stream",
          "name": "stdout",
          "text": [
            "2024-10-31 09:27:56,020 DEV : loss 0.021136095747351646 - f1-score (micro avg)  0.5854\n",
            "2024-10-31 09:27:56,025  - 3 epochs without improvement\n",
            "2024-10-31 09:27:56,029 ----------------------------------------------------------------------------------------------------\n"
          ]
        },
        {
          "output_type": "stream",
          "name": "stderr",
          "text": [
            "\n"
          ]
        },
        {
          "output_type": "stream",
          "name": "stdout",
          "text": [
            "2024-10-31 09:28:32,374 epoch 14 - iter 1/9 - loss 0.02531371 - time (sec): 36.34 - samples/sec: 121.23 - lr: 0.010000 - momentum: 0.000000\n",
            "2024-10-31 09:29:02,571 epoch 14 - iter 2/9 - loss 0.02349605 - time (sec): 66.54 - samples/sec: 123.58 - lr: 0.010000 - momentum: 0.000000\n",
            "2024-10-31 09:29:44,016 epoch 14 - iter 3/9 - loss 0.01886423 - time (sec): 107.98 - samples/sec: 120.78 - lr: 0.010000 - momentum: 0.000000\n",
            "2024-10-31 09:30:04,094 epoch 14 - iter 4/9 - loss 0.01949111 - time (sec): 128.06 - samples/sec: 123.11 - lr: 0.010000 - momentum: 0.000000\n",
            "2024-10-31 09:30:40,429 epoch 14 - iter 5/9 - loss 0.01969273 - time (sec): 164.40 - samples/sec: 118.34 - lr: 0.010000 - momentum: 0.000000\n",
            "2024-10-31 09:31:04,057 epoch 14 - iter 6/9 - loss 0.02050082 - time (sec): 188.03 - samples/sec: 121.53 - lr: 0.010000 - momentum: 0.000000\n",
            "2024-10-31 09:31:56,083 epoch 14 - iter 7/9 - loss 0.01928716 - time (sec): 240.05 - samples/sec: 119.16 - lr: 0.010000 - momentum: 0.000000\n",
            "2024-10-31 09:32:14,238 epoch 14 - iter 8/9 - loss 0.01954475 - time (sec): 258.21 - samples/sec: 121.18 - lr: 0.010000 - momentum: 0.000000\n",
            "2024-10-31 09:32:43,463 epoch 14 - iter 9/9 - loss 0.01970578 - time (sec): 287.43 - samples/sec: 122.54 - lr: 0.010000 - momentum: 0.000000\n",
            "2024-10-31 09:32:43,468 ----------------------------------------------------------------------------------------------------\n",
            "2024-10-31 09:32:43,476 EPOCH 14 done: loss 0.0197 - lr: 0.010000\n"
          ]
        },
        {
          "output_type": "stream",
          "name": "stderr",
          "text": [
            "100%|██████████| 1/1 [00:01<00:00,  1.36s/it]"
          ]
        },
        {
          "output_type": "stream",
          "name": "stdout",
          "text": [
            "2024-10-31 09:32:44,879 DEV : loss 0.022423263639211655 - f1-score (micro avg)  0.5934\n",
            "2024-10-31 09:32:44,884  - 4 epochs without improvement (above 'patience')-> annealing learning_rate to [0.005]\n",
            "2024-10-31 09:32:44,886 ----------------------------------------------------------------------------------------------------\n"
          ]
        },
        {
          "output_type": "stream",
          "name": "stderr",
          "text": [
            "\n"
          ]
        },
        {
          "output_type": "stream",
          "name": "stdout",
          "text": [
            "2024-10-31 09:33:16,175 epoch 15 - iter 1/9 - loss 0.02126272 - time (sec): 31.28 - samples/sec: 127.03 - lr: 0.005000 - momentum: 0.000000\n",
            "2024-10-31 09:33:37,637 epoch 15 - iter 2/9 - loss 0.02052657 - time (sec): 52.75 - samples/sec: 132.77 - lr: 0.005000 - momentum: 0.000000\n",
            "2024-10-31 09:34:01,187 epoch 15 - iter 3/9 - loss 0.01858193 - time (sec): 76.30 - samples/sec: 130.14 - lr: 0.005000 - momentum: 0.000000\n",
            "2024-10-31 09:34:38,624 epoch 15 - iter 4/9 - loss 0.01683817 - time (sec): 113.73 - samples/sec: 127.31 - lr: 0.005000 - momentum: 0.000000\n",
            "2024-10-31 09:35:18,651 epoch 15 - iter 5/9 - loss 0.01898224 - time (sec): 153.76 - samples/sec: 121.99 - lr: 0.005000 - momentum: 0.000000\n",
            "2024-10-31 09:35:37,920 epoch 15 - iter 6/9 - loss 0.01914156 - time (sec): 173.03 - samples/sec: 125.60 - lr: 0.005000 - momentum: 0.000000\n",
            "2024-10-31 09:36:01,986 epoch 15 - iter 7/9 - loss 0.02058890 - time (sec): 197.10 - samples/sec: 126.08 - lr: 0.005000 - momentum: 0.000000\n",
            "2024-10-31 09:36:51,117 epoch 15 - iter 8/9 - loss 0.01995163 - time (sec): 246.23 - samples/sec: 123.13 - lr: 0.005000 - momentum: 0.000000\n",
            "2024-10-31 09:37:35,331 epoch 15 - iter 9/9 - loss 0.01915690 - time (sec): 290.44 - samples/sec: 121.27 - lr: 0.005000 - momentum: 0.000000\n",
            "2024-10-31 09:37:35,339 ----------------------------------------------------------------------------------------------------\n",
            "2024-10-31 09:37:35,349 EPOCH 15 done: loss 0.0192 - lr: 0.005000\n"
          ]
        },
        {
          "output_type": "stream",
          "name": "stderr",
          "text": [
            "100%|██████████| 1/1 [00:02<00:00,  2.13s/it]"
          ]
        },
        {
          "output_type": "stream",
          "name": "stdout",
          "text": [
            "2024-10-31 09:37:37,513 DEV : loss 0.02247607335448265 - f1-score (micro avg)  0.5934\n",
            "2024-10-31 09:37:37,520  - 1 epochs without improvement\n",
            "2024-10-31 09:37:37,523 ----------------------------------------------------------------------------------------------------\n"
          ]
        },
        {
          "output_type": "stream",
          "name": "stderr",
          "text": [
            "\n"
          ]
        },
        {
          "output_type": "stream",
          "name": "stdout",
          "text": [
            "2024-10-31 09:38:01,477 epoch 16 - iter 1/9 - loss 0.02081499 - time (sec): 23.95 - samples/sec: 132.27 - lr: 0.005000 - momentum: 0.000000\n",
            "2024-10-31 09:38:40,557 epoch 16 - iter 2/9 - loss 0.01915273 - time (sec): 63.03 - samples/sec: 119.91 - lr: 0.005000 - momentum: 0.000000\n",
            "2024-10-31 09:39:12,370 epoch 16 - iter 3/9 - loss 0.01809669 - time (sec): 94.84 - samples/sec: 118.65 - lr: 0.005000 - momentum: 0.000000\n",
            "2024-10-31 09:39:52,326 epoch 16 - iter 4/9 - loss 0.01869522 - time (sec): 134.80 - samples/sec: 116.17 - lr: 0.005000 - momentum: 0.000000\n",
            "2024-10-31 09:40:23,229 epoch 16 - iter 5/9 - loss 0.01892150 - time (sec): 165.70 - samples/sec: 118.19 - lr: 0.005000 - momentum: 0.000000\n",
            "2024-10-31 09:40:53,299 epoch 16 - iter 6/9 - loss 0.01898804 - time (sec): 195.77 - samples/sec: 119.34 - lr: 0.005000 - momentum: 0.000000\n",
            "2024-10-31 09:41:16,575 epoch 16 - iter 7/9 - loss 0.02039057 - time (sec): 219.05 - samples/sec: 120.86 - lr: 0.005000 - momentum: 0.000000\n",
            "2024-10-31 09:42:03,750 epoch 16 - iter 8/9 - loss 0.01944376 - time (sec): 266.22 - samples/sec: 118.30 - lr: 0.005000 - momentum: 0.000000\n",
            "2024-10-31 09:42:35,754 epoch 16 - iter 9/9 - loss 0.01945280 - time (sec): 298.23 - samples/sec: 118.10 - lr: 0.005000 - momentum: 0.000000\n",
            "2024-10-31 09:42:35,762 ----------------------------------------------------------------------------------------------------\n",
            "2024-10-31 09:42:35,772 EPOCH 16 done: loss 0.0195 - lr: 0.005000\n"
          ]
        },
        {
          "output_type": "stream",
          "name": "stderr",
          "text": [
            "100%|██████████| 1/1 [00:01<00:00,  1.35s/it]"
          ]
        },
        {
          "output_type": "stream",
          "name": "stdout",
          "text": [
            "2024-10-31 09:42:37,152 DEV : loss 0.022239994257688522 - f1-score (micro avg)  0.5934\n",
            "2024-10-31 09:42:37,156  - 2 epochs without improvement\n",
            "2024-10-31 09:42:37,160 ----------------------------------------------------------------------------------------------------\n"
          ]
        },
        {
          "output_type": "stream",
          "name": "stderr",
          "text": [
            "\n"
          ]
        },
        {
          "output_type": "stream",
          "name": "stdout",
          "text": [
            "2024-10-31 09:43:15,234 epoch 17 - iter 1/9 - loss 0.01920195 - time (sec): 38.07 - samples/sec: 106.24 - lr: 0.005000 - momentum: 0.000000\n",
            "2024-10-31 09:43:43,456 epoch 17 - iter 2/9 - loss 0.01883016 - time (sec): 66.29 - samples/sec: 115.67 - lr: 0.005000 - momentum: 0.000000\n",
            "2024-10-31 09:44:14,217 epoch 17 - iter 3/9 - loss 0.01990733 - time (sec): 97.05 - samples/sec: 116.62 - lr: 0.005000 - momentum: 0.000000\n",
            "2024-10-31 09:44:36,043 epoch 17 - iter 4/9 - loss 0.01849017 - time (sec): 118.88 - samples/sec: 122.69 - lr: 0.005000 - momentum: 0.000000\n",
            "2024-10-31 09:45:20,020 epoch 17 - iter 5/9 - loss 0.01917200 - time (sec): 162.86 - samples/sec: 118.55 - lr: 0.005000 - momentum: 0.000000\n",
            "2024-10-31 09:46:00,400 epoch 17 - iter 6/9 - loss 0.01949307 - time (sec): 203.24 - samples/sec: 116.85 - lr: 0.005000 - momentum: 0.000000\n",
            "2024-10-31 09:46:38,231 epoch 17 - iter 7/9 - loss 0.01928194 - time (sec): 241.07 - samples/sec: 118.35 - lr: 0.005000 - momentum: 0.000000\n",
            "2024-10-31 09:47:04,320 epoch 17 - iter 8/9 - loss 0.01953808 - time (sec): 267.16 - samples/sec: 119.03 - lr: 0.005000 - momentum: 0.000000\n",
            "2024-10-31 09:47:35,434 epoch 17 - iter 9/9 - loss 0.01909984 - time (sec): 298.27 - samples/sec: 118.08 - lr: 0.005000 - momentum: 0.000000\n",
            "2024-10-31 09:47:35,443 ----------------------------------------------------------------------------------------------------\n",
            "2024-10-31 09:47:35,453 EPOCH 17 done: loss 0.0191 - lr: 0.005000\n"
          ]
        },
        {
          "output_type": "stream",
          "name": "stderr",
          "text": [
            "100%|██████████| 1/1 [00:01<00:00,  1.83s/it]"
          ]
        },
        {
          "output_type": "stream",
          "name": "stdout",
          "text": [
            "2024-10-31 09:47:37,322 DEV : loss 0.02181241847574711 - f1-score (micro avg)  0.6067\n",
            "2024-10-31 09:47:37,328  - 3 epochs without improvement\n",
            "2024-10-31 09:47:37,333 ----------------------------------------------------------------------------------------------------\n"
          ]
        },
        {
          "output_type": "stream",
          "name": "stderr",
          "text": [
            "\n"
          ]
        },
        {
          "output_type": "stream",
          "name": "stdout",
          "text": [
            "2024-10-31 09:48:19,373 epoch 18 - iter 1/9 - loss 0.01271482 - time (sec): 42.04 - samples/sec: 104.79 - lr: 0.005000 - momentum: 0.000000\n",
            "2024-10-31 09:48:42,468 epoch 18 - iter 2/9 - loss 0.01689865 - time (sec): 65.13 - samples/sec: 113.63 - lr: 0.005000 - momentum: 0.000000\n",
            "2024-10-31 09:49:15,362 epoch 18 - iter 3/9 - loss 0.01695288 - time (sec): 98.03 - samples/sec: 109.61 - lr: 0.005000 - momentum: 0.000000\n",
            "2024-10-31 09:49:57,390 epoch 18 - iter 4/9 - loss 0.01610973 - time (sec): 140.05 - samples/sec: 108.94 - lr: 0.005000 - momentum: 0.000000\n",
            "2024-10-31 09:50:27,733 epoch 18 - iter 5/9 - loss 0.01814600 - time (sec): 170.40 - samples/sec: 109.66 - lr: 0.005000 - momentum: 0.000000\n",
            "2024-10-31 09:50:48,897 epoch 18 - iter 6/9 - loss 0.01855322 - time (sec): 191.56 - samples/sec: 111.17 - lr: 0.005000 - momentum: 0.000000\n",
            "2024-10-31 09:51:26,893 epoch 18 - iter 7/9 - loss 0.01867069 - time (sec): 229.56 - samples/sec: 110.39 - lr: 0.005000 - momentum: 0.000000\n",
            "2024-10-31 09:52:11,449 epoch 18 - iter 8/9 - loss 0.01841354 - time (sec): 274.11 - samples/sec: 107.93 - lr: 0.005000 - momentum: 0.000000\n",
            "2024-10-31 09:53:05,359 epoch 18 - iter 9/9 - loss 0.01860313 - time (sec): 328.02 - samples/sec: 107.37 - lr: 0.005000 - momentum: 0.000000\n",
            "2024-10-31 09:53:05,372 ----------------------------------------------------------------------------------------------------\n",
            "2024-10-31 09:53:05,380 EPOCH 18 done: loss 0.0186 - lr: 0.005000\n"
          ]
        },
        {
          "output_type": "stream",
          "name": "stderr",
          "text": [
            "100%|██████████| 1/1 [00:01<00:00,  1.95s/it]"
          ]
        },
        {
          "output_type": "stream",
          "name": "stdout",
          "text": [
            "2024-10-31 09:53:07,380 DEV : loss 0.021892208606004715 - f1-score (micro avg)  0.6222\n",
            "2024-10-31 09:53:07,388  - 0 epochs without improvement\n",
            "2024-10-31 09:53:07,391 saving best model\n"
          ]
        },
        {
          "output_type": "stream",
          "name": "stderr",
          "text": [
            "\n"
          ]
        },
        {
          "output_type": "stream",
          "name": "stdout",
          "text": [
            "2024-10-31 09:54:01,960 ----------------------------------------------------------------------------------------------------\n",
            "2024-10-31 09:54:25,050 epoch 19 - iter 1/9 - loss 0.02618957 - time (sec): 23.08 - samples/sec: 132.44 - lr: 0.005000 - momentum: 0.000000\n",
            "2024-10-31 09:54:59,276 epoch 19 - iter 2/9 - loss 0.02043357 - time (sec): 57.31 - samples/sec: 128.76 - lr: 0.005000 - momentum: 0.000000\n",
            "2024-10-31 09:55:24,421 epoch 19 - iter 3/9 - loss 0.01913818 - time (sec): 82.45 - samples/sec: 128.38 - lr: 0.005000 - momentum: 0.000000\n",
            "2024-10-31 09:56:21,800 epoch 19 - iter 4/9 - loss 0.01729832 - time (sec): 139.83 - samples/sec: 121.17 - lr: 0.005000 - momentum: 0.000000\n",
            "2024-10-31 09:56:54,593 epoch 19 - iter 5/9 - loss 0.01772022 - time (sec): 172.62 - samples/sec: 120.02 - lr: 0.005000 - momentum: 0.000000\n",
            "2024-10-31 09:57:25,155 epoch 19 - iter 6/9 - loss 0.01739695 - time (sec): 203.19 - samples/sec: 120.34 - lr: 0.005000 - momentum: 0.000000\n",
            "2024-10-31 09:57:58,925 epoch 19 - iter 7/9 - loss 0.01811104 - time (sec): 236.96 - samples/sec: 120.41 - lr: 0.005000 - momentum: 0.000000\n",
            "2024-10-31 09:58:10,553 epoch 19 - iter 8/9 - loss 0.01924595 - time (sec): 248.58 - samples/sec: 122.43 - lr: 0.005000 - momentum: 0.000000\n",
            "2024-10-31 09:58:53,543 epoch 19 - iter 9/9 - loss 0.01875576 - time (sec): 291.57 - samples/sec: 120.80 - lr: 0.005000 - momentum: 0.000000\n",
            "2024-10-31 09:58:53,553 ----------------------------------------------------------------------------------------------------\n",
            "2024-10-31 09:58:53,567 EPOCH 19 done: loss 0.0188 - lr: 0.005000\n"
          ]
        },
        {
          "output_type": "stream",
          "name": "stderr",
          "text": [
            "100%|██████████| 1/1 [00:01<00:00,  1.87s/it]"
          ]
        },
        {
          "output_type": "stream",
          "name": "stdout",
          "text": [
            "2024-10-31 09:58:55,471 DEV : loss 0.022547472268342972 - f1-score (micro avg)  0.6087\n",
            "2024-10-31 09:58:55,476  - 1 epochs without improvement\n",
            "2024-10-31 09:58:55,480 ----------------------------------------------------------------------------------------------------\n"
          ]
        },
        {
          "output_type": "stream",
          "name": "stderr",
          "text": [
            "\n"
          ]
        },
        {
          "output_type": "stream",
          "name": "stdout",
          "text": [
            "2024-10-31 09:59:41,953 epoch 20 - iter 1/9 - loss 0.01914836 - time (sec): 46.47 - samples/sec: 109.77 - lr: 0.005000 - momentum: 0.000000\n",
            "2024-10-31 10:00:06,293 epoch 20 - iter 2/9 - loss 0.01932031 - time (sec): 70.81 - samples/sec: 114.22 - lr: 0.005000 - momentum: 0.000000\n",
            "2024-10-31 10:00:28,830 epoch 20 - iter 3/9 - loss 0.01915406 - time (sec): 93.35 - samples/sec: 121.48 - lr: 0.005000 - momentum: 0.000000\n",
            "2024-10-31 10:01:07,259 epoch 20 - iter 4/9 - loss 0.01901955 - time (sec): 131.78 - samples/sec: 121.54 - lr: 0.005000 - momentum: 0.000000\n",
            "2024-10-31 10:01:25,837 epoch 20 - iter 5/9 - loss 0.02019068 - time (sec): 150.35 - samples/sec: 124.71 - lr: 0.005000 - momentum: 0.000000\n",
            "2024-10-31 10:01:55,975 epoch 20 - iter 6/9 - loss 0.02062322 - time (sec): 180.49 - samples/sec: 122.84 - lr: 0.005000 - momentum: 0.000000\n",
            "2024-10-31 10:02:25,911 epoch 20 - iter 7/9 - loss 0.02068146 - time (sec): 210.43 - samples/sec: 122.95 - lr: 0.005000 - momentum: 0.000000\n",
            "2024-10-31 10:03:15,215 epoch 20 - iter 8/9 - loss 0.01961309 - time (sec): 259.73 - samples/sec: 120.90 - lr: 0.005000 - momentum: 0.000000\n",
            "2024-10-31 10:03:45,989 epoch 20 - iter 9/9 - loss 0.01884655 - time (sec): 290.51 - samples/sec: 121.24 - lr: 0.005000 - momentum: 0.000000\n",
            "2024-10-31 10:03:46,001 ----------------------------------------------------------------------------------------------------\n",
            "2024-10-31 10:03:46,011 EPOCH 20 done: loss 0.0188 - lr: 0.005000\n"
          ]
        },
        {
          "output_type": "stream",
          "name": "stderr",
          "text": [
            "100%|██████████| 1/1 [00:02<00:00,  2.02s/it]"
          ]
        },
        {
          "output_type": "stream",
          "name": "stdout",
          "text": [
            "2024-10-31 10:03:48,072 DEV : loss 0.022472618147730827 - f1-score (micro avg)  0.6087\n",
            "2024-10-31 10:03:48,081  - 2 epochs without improvement\n"
          ]
        },
        {
          "output_type": "stream",
          "name": "stderr",
          "text": [
            "\n"
          ]
        },
        {
          "output_type": "stream",
          "name": "stdout",
          "text": [
            "2024-10-31 10:04:31,144 ----------------------------------------------------------------------------------------------------\n",
            "2024-10-31 10:04:31,146 Loading model from best epoch ...\n",
            "2024-10-31 10:04:44,545 SequenceTagger predicts: Dictionary with 4 tags: O, PER, <START>, <STOP>\n"
          ]
        },
        {
          "output_type": "stream",
          "name": "stderr",
          "text": [
            "100%|██████████| 1/1 [00:06<00:00,  6.11s/it]"
          ]
        },
        {
          "output_type": "stream",
          "name": "stdout",
          "text": [
            "2024-10-31 10:04:51,566 \n",
            "Results:\n",
            "- F-score (micro) 0.6732\n",
            "- F-score (macro) 0.6732\n",
            "- Accuracy 0.5074\n",
            "\n",
            "By class:\n",
            "              precision    recall  f1-score   support\n",
            "\n",
            "         PER     0.8519    0.5565    0.6732       124\n",
            "\n",
            "   micro avg     0.8519    0.5565    0.6732       124\n",
            "   macro avg     0.8519    0.5565    0.6732       124\n",
            "weighted avg     0.8519    0.5565    0.6732       124\n",
            "\n",
            "2024-10-31 10:04:51,567 ----------------------------------------------------------------------------------------------------\n"
          ]
        },
        {
          "output_type": "stream",
          "name": "stderr",
          "text": [
            "\n"
          ]
        },
        {
          "output_type": "execute_result",
          "data": {
            "text/plain": [
              "{'test_score': 0.6731707317073171}"
            ]
          },
          "metadata": {},
          "execution_count": 50
        }
      ]
    },
    {
      "cell_type": "code",
      "source": [
        "# evaluate model\n",
        "from flair.data import Corpus\n",
        "from flair.datasets import ColumnCorpus\n",
        "from flair.models import SequenceTagger\n",
        "from flair.trainers import ModelTrainer\n",
        "\n",
        "# Load the trained model\n",
        "model = SequenceTagger.load('flair_output/best-model.pt')\n",
        "\n",
        "# Evaluate the model on the test set\n",
        "result = model.evaluate(corpus.test, gold_label_type='ner', mini_batch_size=32)\n",
        "\n",
        "# Print the results\n",
        "# print(\"Evaluation Loss:\", eval_loss)\n",
        "print(result.detailed_results)  # This will print the precision, recall, and F1-score per entity type"
      ],
      "metadata": {
        "id": "6KT8wj3Lns2c",
        "colab": {
          "base_uri": "https://localhost:8080/"
        },
        "outputId": "bdaac8a0-3d01-4ccf-c412-bb3eeabb5289"
      },
      "id": "6KT8wj3Lns2c",
      "execution_count": 52,
      "outputs": [
        {
          "output_type": "stream",
          "name": "stdout",
          "text": [
            "2024-10-31 10:05:42,406 SequenceTagger predicts: Dictionary with 4 tags: O, PER, <START>, <STOP>\n"
          ]
        },
        {
          "output_type": "stream",
          "name": "stderr",
          "text": [
            "100%|██████████| 1/1 [00:03<00:00,  3.62s/it]"
          ]
        },
        {
          "output_type": "stream",
          "name": "stdout",
          "text": [
            "\n",
            "Results:\n",
            "- F-score (micro) 0.6732\n",
            "- F-score (macro) 0.6732\n",
            "- Accuracy 0.5074\n",
            "\n",
            "By class:\n",
            "              precision    recall  f1-score   support\n",
            "\n",
            "         PER     0.8519    0.5565    0.6732       124\n",
            "\n",
            "   micro avg     0.8519    0.5565    0.6732       124\n",
            "   macro avg     0.8519    0.5565    0.6732       124\n",
            "weighted avg     0.8519    0.5565    0.6732       124\n",
            "\n"
          ]
        },
        {
          "output_type": "stream",
          "name": "stderr",
          "text": [
            "\n"
          ]
        }
      ]
    },
    {
      "cell_type": "code",
      "source": [
        "# make prediction\n",
        "import flair\n",
        "model = SequenceTagger.load('flair_output/final-model.pt')\n",
        "resume_text = '''\n",
        "John Doe lives at 1234 Elm Street in Los Angeles, CA 90001. He can be reached at +1 (555) 123-4567 or via email at john.doe@example.com. John is a results-driven software engineer with over 5 years of experience in web development and cloud infrastructure, with strong knowledge of JavaScript, Python, and cloud technologies like AWS and Azure. Currently, he works as a Software Engineer at Google LLC in San Francisco, CA, where he has been employed since August 2019. In this role, he has developed scalable web applications using JavaScript, Node.js, and React, deployed and maintained cloud infrastructure on AWS, reducing downtime by 20%, and led a team of 4 engineers to enhance backend performance by 30%. Previously, he worked as a Junior Developer at Tech Innovators Inc. in Austin, TX, from July 2017 to July 2019, where he created RESTful APIs using Python and Flask, collaborated with front-end developers to build and deploy user-facing applications, and wrote unit and integration tests, improving code coverage by 15%.\n",
        "\n",
        "John holds a Master of Science in Computer Science from the University of California, Berkeley, with a graduation date of May 2017, and a Bachelor of Science in Information Technology from the University of Texas at Austin, graduated in May 2015. His skillset includes proficiency in programming languages like Python, JavaScript, and Java; frameworks such as React, Flask, and Django; cloud platforms including AWS, Google Cloud, and Azure; as well as other tools like Git, Docker, Kubernetes, and SQL. He is certified as an AWS Certified Solutions Architect – Associate, earned in 2020, and as a Google Professional Cloud Architect, earned in 2021'\n",
        "'''\n",
        "sentence = flair.data.Sentence(resume_text.lower())\n",
        "\n",
        "model.predict(sentence)\n",
        "\n",
        "print(sentence.to_tagged_string())"
      ],
      "metadata": {
        "id": "KOYkWF9Anwec",
        "colab": {
          "base_uri": "https://localhost:8080/"
        },
        "outputId": "3b2f7980-5a1c-4e0e-973d-162581dc982d"
      },
      "id": "KOYkWF9Anwec",
      "execution_count": 54,
      "outputs": [
        {
          "output_type": "stream",
          "name": "stdout",
          "text": [
            "2024-10-31 10:06:35,880 SequenceTagger predicts: Dictionary with 4 tags: O, PER, <START>, <STOP>\n",
            "Sentence[326]: \" john doe lives at 1234 elm street in los angeles, ca 90001. he can be reached at +1 (555) 123-4567 or via email at john.doe@example.com. john is a results-driven software engineer with over 5 years of experience in web development and cloud infrastructure, with strong knowledge of javascript, python, and cloud technologies like aws and azure. currently, he works as a software engineer at google llc in san francisco, ca, where he has been employed since august 2019. in this role, he has developed scalable web applications using javascript, node.js, and react, deployed and maintained cloud infrastructure on aws, reducing downtime by 20%, and led a team of 4 engineers to enhance backend performance by 30%. previously, he worked as a junior developer at tech innovators inc. in austin, tx, from july 2017 to july 2019, where he created restful apis using python and flask, collaborated with front-end developers to build and deploy user-facing applications, and wrote unit and integration tests, improving code coverage by 15%.  john holds a master of science in computer science from the university of california, berkeley, with a graduation date of may 2017, and a bachelor of science in information technology from the university of texas at austin, graduated in may 2015. his skillset includes proficiency in programming languages like python, javascript, and java; frameworks such as react, flask, and django; cloud platforms including aws, google cloud, and azure; as well as other tools like git, docker, kubernetes, and sql. he is certified as an aws certified solutions architect – associate, earned in 2020, and as a google professional cloud architect, earned in 2021'\" → [\"august\"/PER, \"2019\"/PER, \"july\"/PER, \"2017\"/PER, \"to\"/PER, \"july\"/PER, \"2019\"/PER]\n"
          ]
        }
      ]
    }
  ],
  "metadata": {
    "kernelspec": {
      "display_name": "Python 3 (ipykernel)",
      "language": "python",
      "name": "python3"
    },
    "language_info": {
      "codemirror_mode": {
        "name": "ipython",
        "version": 3
      },
      "file_extension": ".py",
      "mimetype": "text/x-python",
      "name": "python",
      "nbconvert_exporter": "python",
      "pygments_lexer": "ipython3",
      "version": "3.10.0"
    },
    "colab": {
      "provenance": [],
      "include_colab_link": true
    }
  },
  "nbformat": 4,
  "nbformat_minor": 5
}