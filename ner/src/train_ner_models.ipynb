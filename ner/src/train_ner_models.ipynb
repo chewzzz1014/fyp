{
  "cells": [
    {
      "cell_type": "markdown",
      "metadata": {
        "id": "view-in-github",
        "colab_type": "text"
      },
      "source": [
        "<a href=\"https://colab.research.google.com/github/chewzzz1014/fyp/blob/master/ner/src/train_ner_models.ipynb\" target=\"_parent\"><img src=\"https://colab.research.google.com/assets/colab-badge.svg\" alt=\"Open In Colab\"/></a>"
      ]
    },
    {
      "cell_type": "markdown",
      "source": [
        "# Train NER Models"
      ],
      "metadata": {
        "id": "t0P9v82yDulr"
      },
      "id": "t0P9v82yDulr"
    },
    {
      "cell_type": "code",
      "source": [
        "# mount drive\n",
        "from google.colab import drive\n",
        "drive.mount('/content/drive')"
      ],
      "metadata": {
        "id": "5YToyjV-40ZV",
        "outputId": "9c99e84f-4149-4279-ba96-950c95a922fe",
        "colab": {
          "base_uri": "https://localhost:8080/"
        }
      },
      "id": "5YToyjV-40ZV",
      "execution_count": 1,
      "outputs": [
        {
          "output_type": "stream",
          "name": "stdout",
          "text": [
            "Mounted at /content/drive\n"
          ]
        }
      ]
    },
    {
      "cell_type": "code",
      "source": [
        "!mkdir spacy_ner_data"
      ],
      "metadata": {
        "id": "VtZ7OFQtpG4-"
      },
      "id": "VtZ7OFQtpG4-",
      "execution_count": 3,
      "outputs": []
    },
    {
      "cell_type": "code",
      "source": [
        "import json\n",
        "import random\n",
        "from sklearn.model_selection import train_test_split\n",
        "import spacy\n",
        "from spacy.tokens import DocBin\n",
        "\n",
        "# Load JSON data\n",
        "with open('/content/drive/MyDrive/FYP/Implementation/Resume Dataset/169_resumes_annotated.json', \"r\") as f:\n",
        "    data = json.load(f)\n",
        "\n",
        "def remove_overlapping_entities(entities):\n",
        "    \"\"\"Remove overlapping entities from the list.\"\"\"\n",
        "    entities = sorted(entities, key=lambda x: x[0])  # Sort by start position\n",
        "    non_overlapping = []\n",
        "    last_end = -1\n",
        "    for start, end, label in entities:\n",
        "        if start >= last_end:  # Only add if there's no overlap with the previous entity\n",
        "            non_overlapping.append((start, end, label))\n",
        "            last_end = end\n",
        "    return non_overlapping\n",
        "\n",
        "# Function to convert JSON data to Spacy's DocBin format\n",
        "def convert_to_spacy_format(data):\n",
        "    nlp = spacy.blank(\"en\")  # Load a blank Spacy model\n",
        "    doc_bin = DocBin()  # Container for our docs\n",
        "\n",
        "    for item in data:\n",
        "        text = item['data']['Text']  # Full document text\n",
        "        entities = []\n",
        "\n",
        "        for annotation in item['annotations'][0]['result']:\n",
        "            start = annotation['value']['start']\n",
        "            end = annotation['value']['end']\n",
        "            label = annotation['value']['labels'][0]  # Entity label\n",
        "            entities.append((start, end, label))\n",
        "\n",
        "        entities = remove_overlapping_entities(entities)  # Remove overlapping entities\n",
        "        # Create a Spacy doc and add entities to it\n",
        "        doc = nlp.make_doc(text)\n",
        "        spans = [doc.char_span(start, end, label=label) for start, end, label in entities]\n",
        "        # Filter out None spans if Spacy can't align the character indices with tokens\n",
        "        spans = [span for span in spans if span is not None]\n",
        "        doc.ents = spans  # Assign entities to the doc\n",
        "        doc_bin.add(doc)\n",
        "\n",
        "    return doc_bin\n",
        "\n",
        "# Split data into train and test sets\n",
        "train_data, test_data = train_test_split(data, test_size=0.2, random_state=42)\n",
        "\n",
        "# Convert train and test sets to Spacy format\n",
        "train_doc_bin = convert_to_spacy_format(train_data)\n",
        "test_doc_bin = convert_to_spacy_format(test_data)\n",
        "\n",
        "# Save the train and test data to .spacy files\n",
        "train_doc_bin.to_disk(\"spacy_ner_data/train_data.spacy\")\n",
        "test_doc_bin.to_disk(\"spacy_ner_data/test_data.spacy\")"
      ],
      "metadata": {
        "id": "R-8QBDX3gtkp"
      },
      "id": "R-8QBDX3gtkp",
      "execution_count": 4,
      "outputs": []
    },
    {
      "cell_type": "markdown",
      "source": [
        "## Spacy NER"
      ],
      "metadata": {
        "id": "FMM7E6hNCEUv"
      },
      "id": "FMM7E6hNCEUv"
    },
    {
      "cell_type": "code",
      "source": [
        "# create base_config.cfg and paste the config generated from spacy widget\n",
        "# update train and test file path\n",
        "!touch base_config.cfg"
      ],
      "metadata": {
        "id": "ruPln43fCDLm"
      },
      "id": "ruPln43fCDLm",
      "execution_count": null,
      "outputs": []
    },
    {
      "cell_type": "code",
      "source": [
        "# generate config.cfg from base_config.cfg\n",
        "!python -m spacy init fill-config base_config.cfg config.cfg"
      ],
      "metadata": {
        "id": "0aRjL9jqC-5k",
        "colab": {
          "base_uri": "https://localhost:8080/"
        },
        "outputId": "5489cd43-f730-47d0-ca13-c1ed658d98da"
      },
      "id": "0aRjL9jqC-5k",
      "execution_count": null,
      "outputs": [
        {
          "output_type": "stream",
          "name": "stdout",
          "text": [
            "\u001b[38;5;2m✔ Auto-filled config with all values\u001b[0m\n",
            "\u001b[38;5;2m✔ Saved config\u001b[0m\n",
            "config.cfg\n",
            "You can now add your data and train your pipeline:\n",
            "python -m spacy train config.cfg --paths.train ./train.spacy --paths.dev ./dev.spacy\n"
          ]
        }
      ]
    },
    {
      "cell_type": "code",
      "source": [
        "!python -m spacy download en_core_web_lg"
      ],
      "metadata": {
        "colab": {
          "base_uri": "https://localhost:8080/"
        },
        "id": "9wb_aBw9X2NU",
        "outputId": "561939c7-f8b1-4038-af0d-ddd3824b3509"
      },
      "id": "9wb_aBw9X2NU",
      "execution_count": null,
      "outputs": [
        {
          "output_type": "stream",
          "name": "stdout",
          "text": [
            "Collecting en-core-web-lg==3.7.1\n",
            "  Downloading https://github.com/explosion/spacy-models/releases/download/en_core_web_lg-3.7.1/en_core_web_lg-3.7.1-py3-none-any.whl (587.7 MB)\n",
            "\u001b[2K     \u001b[90m━━━━━━━━━━━━━━━━━━━━━━━━━━━━━━━━━━━━━━━━\u001b[0m \u001b[32m587.7/587.7 MB\u001b[0m \u001b[31m2.2 MB/s\u001b[0m eta \u001b[36m0:00:00\u001b[0m\n",
            "\u001b[?25hRequirement already satisfied: spacy<3.8.0,>=3.7.2 in /usr/local/lib/python3.10/dist-packages (from en-core-web-lg==3.7.1) (3.7.5)\n",
            "Requirement already satisfied: spacy-legacy<3.1.0,>=3.0.11 in /usr/local/lib/python3.10/dist-packages (from spacy<3.8.0,>=3.7.2->en-core-web-lg==3.7.1) (3.0.12)\n",
            "Requirement already satisfied: spacy-loggers<2.0.0,>=1.0.0 in /usr/local/lib/python3.10/dist-packages (from spacy<3.8.0,>=3.7.2->en-core-web-lg==3.7.1) (1.0.5)\n",
            "Requirement already satisfied: murmurhash<1.1.0,>=0.28.0 in /usr/local/lib/python3.10/dist-packages (from spacy<3.8.0,>=3.7.2->en-core-web-lg==3.7.1) (1.0.10)\n",
            "Requirement already satisfied: cymem<2.1.0,>=2.0.2 in /usr/local/lib/python3.10/dist-packages (from spacy<3.8.0,>=3.7.2->en-core-web-lg==3.7.1) (2.0.8)\n",
            "Requirement already satisfied: preshed<3.1.0,>=3.0.2 in /usr/local/lib/python3.10/dist-packages (from spacy<3.8.0,>=3.7.2->en-core-web-lg==3.7.1) (3.0.9)\n",
            "Requirement already satisfied: thinc<8.3.0,>=8.2.2 in /usr/local/lib/python3.10/dist-packages (from spacy<3.8.0,>=3.7.2->en-core-web-lg==3.7.1) (8.2.5)\n",
            "Requirement already satisfied: wasabi<1.2.0,>=0.9.1 in /usr/local/lib/python3.10/dist-packages (from spacy<3.8.0,>=3.7.2->en-core-web-lg==3.7.1) (1.1.3)\n",
            "Requirement already satisfied: srsly<3.0.0,>=2.4.3 in /usr/local/lib/python3.10/dist-packages (from spacy<3.8.0,>=3.7.2->en-core-web-lg==3.7.1) (2.4.8)\n",
            "Requirement already satisfied: catalogue<2.1.0,>=2.0.6 in /usr/local/lib/python3.10/dist-packages (from spacy<3.8.0,>=3.7.2->en-core-web-lg==3.7.1) (2.0.10)\n",
            "Requirement already satisfied: weasel<0.5.0,>=0.1.0 in /usr/local/lib/python3.10/dist-packages (from spacy<3.8.0,>=3.7.2->en-core-web-lg==3.7.1) (0.4.1)\n",
            "Requirement already satisfied: typer<1.0.0,>=0.3.0 in /usr/local/lib/python3.10/dist-packages (from spacy<3.8.0,>=3.7.2->en-core-web-lg==3.7.1) (0.12.5)\n",
            "Requirement already satisfied: tqdm<5.0.0,>=4.38.0 in /usr/local/lib/python3.10/dist-packages (from spacy<3.8.0,>=3.7.2->en-core-web-lg==3.7.1) (4.66.6)\n",
            "Requirement already satisfied: requests<3.0.0,>=2.13.0 in /usr/local/lib/python3.10/dist-packages (from spacy<3.8.0,>=3.7.2->en-core-web-lg==3.7.1) (2.32.3)\n",
            "Requirement already satisfied: pydantic!=1.8,!=1.8.1,<3.0.0,>=1.7.4 in /usr/local/lib/python3.10/dist-packages (from spacy<3.8.0,>=3.7.2->en-core-web-lg==3.7.1) (2.9.2)\n",
            "Requirement already satisfied: jinja2 in /usr/local/lib/python3.10/dist-packages (from spacy<3.8.0,>=3.7.2->en-core-web-lg==3.7.1) (3.1.4)\n",
            "Requirement already satisfied: setuptools in /usr/local/lib/python3.10/dist-packages (from spacy<3.8.0,>=3.7.2->en-core-web-lg==3.7.1) (75.1.0)\n",
            "Requirement already satisfied: packaging>=20.0 in /usr/local/lib/python3.10/dist-packages (from spacy<3.8.0,>=3.7.2->en-core-web-lg==3.7.1) (24.1)\n",
            "Requirement already satisfied: langcodes<4.0.0,>=3.2.0 in /usr/local/lib/python3.10/dist-packages (from spacy<3.8.0,>=3.7.2->en-core-web-lg==3.7.1) (3.4.1)\n",
            "Requirement already satisfied: numpy>=1.19.0 in /usr/local/lib/python3.10/dist-packages (from spacy<3.8.0,>=3.7.2->en-core-web-lg==3.7.1) (1.26.4)\n",
            "Requirement already satisfied: language-data>=1.2 in /usr/local/lib/python3.10/dist-packages (from langcodes<4.0.0,>=3.2.0->spacy<3.8.0,>=3.7.2->en-core-web-lg==3.7.1) (1.2.0)\n",
            "Requirement already satisfied: annotated-types>=0.6.0 in /usr/local/lib/python3.10/dist-packages (from pydantic!=1.8,!=1.8.1,<3.0.0,>=1.7.4->spacy<3.8.0,>=3.7.2->en-core-web-lg==3.7.1) (0.7.0)\n",
            "Requirement already satisfied: pydantic-core==2.23.4 in /usr/local/lib/python3.10/dist-packages (from pydantic!=1.8,!=1.8.1,<3.0.0,>=1.7.4->spacy<3.8.0,>=3.7.2->en-core-web-lg==3.7.1) (2.23.4)\n",
            "Requirement already satisfied: typing-extensions>=4.6.1 in /usr/local/lib/python3.10/dist-packages (from pydantic!=1.8,!=1.8.1,<3.0.0,>=1.7.4->spacy<3.8.0,>=3.7.2->en-core-web-lg==3.7.1) (4.12.2)\n",
            "Requirement already satisfied: charset-normalizer<4,>=2 in /usr/local/lib/python3.10/dist-packages (from requests<3.0.0,>=2.13.0->spacy<3.8.0,>=3.7.2->en-core-web-lg==3.7.1) (3.4.0)\n",
            "Requirement already satisfied: idna<4,>=2.5 in /usr/local/lib/python3.10/dist-packages (from requests<3.0.0,>=2.13.0->spacy<3.8.0,>=3.7.2->en-core-web-lg==3.7.1) (3.10)\n",
            "Requirement already satisfied: urllib3<3,>=1.21.1 in /usr/local/lib/python3.10/dist-packages (from requests<3.0.0,>=2.13.0->spacy<3.8.0,>=3.7.2->en-core-web-lg==3.7.1) (2.2.3)\n",
            "Requirement already satisfied: certifi>=2017.4.17 in /usr/local/lib/python3.10/dist-packages (from requests<3.0.0,>=2.13.0->spacy<3.8.0,>=3.7.2->en-core-web-lg==3.7.1) (2024.8.30)\n",
            "Requirement already satisfied: blis<0.8.0,>=0.7.8 in /usr/local/lib/python3.10/dist-packages (from thinc<8.3.0,>=8.2.2->spacy<3.8.0,>=3.7.2->en-core-web-lg==3.7.1) (0.7.11)\n",
            "Requirement already satisfied: confection<1.0.0,>=0.0.1 in /usr/local/lib/python3.10/dist-packages (from thinc<8.3.0,>=8.2.2->spacy<3.8.0,>=3.7.2->en-core-web-lg==3.7.1) (0.1.5)\n",
            "Requirement already satisfied: click>=8.0.0 in /usr/local/lib/python3.10/dist-packages (from typer<1.0.0,>=0.3.0->spacy<3.8.0,>=3.7.2->en-core-web-lg==3.7.1) (8.1.7)\n",
            "Requirement already satisfied: shellingham>=1.3.0 in /usr/local/lib/python3.10/dist-packages (from typer<1.0.0,>=0.3.0->spacy<3.8.0,>=3.7.2->en-core-web-lg==3.7.1) (1.5.4)\n",
            "Requirement already satisfied: rich>=10.11.0 in /usr/local/lib/python3.10/dist-packages (from typer<1.0.0,>=0.3.0->spacy<3.8.0,>=3.7.2->en-core-web-lg==3.7.1) (13.9.3)\n",
            "Requirement already satisfied: cloudpathlib<1.0.0,>=0.7.0 in /usr/local/lib/python3.10/dist-packages (from weasel<0.5.0,>=0.1.0->spacy<3.8.0,>=3.7.2->en-core-web-lg==3.7.1) (0.20.0)\n",
            "Requirement already satisfied: smart-open<8.0.0,>=5.2.1 in /usr/local/lib/python3.10/dist-packages (from weasel<0.5.0,>=0.1.0->spacy<3.8.0,>=3.7.2->en-core-web-lg==3.7.1) (7.0.5)\n",
            "Requirement already satisfied: MarkupSafe>=2.0 in /usr/local/lib/python3.10/dist-packages (from jinja2->spacy<3.8.0,>=3.7.2->en-core-web-lg==3.7.1) (3.0.2)\n",
            "Requirement already satisfied: marisa-trie>=0.7.7 in /usr/local/lib/python3.10/dist-packages (from language-data>=1.2->langcodes<4.0.0,>=3.2.0->spacy<3.8.0,>=3.7.2->en-core-web-lg==3.7.1) (1.2.1)\n",
            "Requirement already satisfied: markdown-it-py>=2.2.0 in /usr/local/lib/python3.10/dist-packages (from rich>=10.11.0->typer<1.0.0,>=0.3.0->spacy<3.8.0,>=3.7.2->en-core-web-lg==3.7.1) (3.0.0)\n",
            "Requirement already satisfied: pygments<3.0.0,>=2.13.0 in /usr/local/lib/python3.10/dist-packages (from rich>=10.11.0->typer<1.0.0,>=0.3.0->spacy<3.8.0,>=3.7.2->en-core-web-lg==3.7.1) (2.18.0)\n",
            "Requirement already satisfied: wrapt in /usr/local/lib/python3.10/dist-packages (from smart-open<8.0.0,>=5.2.1->weasel<0.5.0,>=0.1.0->spacy<3.8.0,>=3.7.2->en-core-web-lg==3.7.1) (1.16.0)\n",
            "Requirement already satisfied: mdurl~=0.1 in /usr/local/lib/python3.10/dist-packages (from markdown-it-py>=2.2.0->rich>=10.11.0->typer<1.0.0,>=0.3.0->spacy<3.8.0,>=3.7.2->en-core-web-lg==3.7.1) (0.1.2)\n",
            "Installing collected packages: en-core-web-lg\n",
            "Successfully installed en-core-web-lg-3.7.1\n",
            "\u001b[38;5;2m✔ Download and installation successful\u001b[0m\n",
            "You can now load the package via spacy.load('en_core_web_lg')\n",
            "\u001b[38;5;3m⚠ Restart to reload dependencies\u001b[0m\n",
            "If you are in a Jupyter or Colab notebook, you may need to restart Python in\n",
            "order to load all the package's dependencies. You can do this by selecting the\n",
            "'Restart kernel' or 'Restart runtime' option.\n"
          ]
        }
      ]
    },
    {
      "cell_type": "code",
      "source": [
        "# train model using hyperparameters set in config.cfg\n",
        "# save trained model in spacy-output/ dir\n",
        "!python -m spacy train config.cfg --output ./spacy_output\n",
        "!cp -r ./spacy_output /content/drive/MyDrive/FYP/Implementation/"
      ],
      "metadata": {
        "id": "Jav_l46BEDjF"
      },
      "id": "Jav_l46BEDjF",
      "execution_count": null,
      "outputs": []
    },
    {
      "cell_type": "code",
      "source": [
        "# evaluate trained model performance\n",
        "# store output and visualization into result/ dir\n",
        "!python -m spacy evaluate spacy_output/model-best spacy_ner_data/test_data.spacy -dp spacy_output"
      ],
      "metadata": {
        "id": "V2wzIOsWJgkG",
        "colab": {
          "base_uri": "https://localhost:8080/"
        },
        "outputId": "f0f701bb-ffdb-4167-f67a-0146a54859ba"
      },
      "id": "V2wzIOsWJgkG",
      "execution_count": null,
      "outputs": [
        {
          "output_type": "stream",
          "name": "stdout",
          "text": [
            "\u001b[38;5;4mℹ Using CPU\u001b[0m\n",
            "\u001b[1m\n",
            "================================== Results ==================================\u001b[0m\n",
            "\n",
            "TOK     100.00\n",
            "NER P   51.12 \n",
            "NER R   41.26 \n",
            "NER F   45.66 \n",
            "SPEED   2395  \n",
            "\n",
            "\u001b[1m\n",
            "=============================== NER (per type) ===============================\u001b[0m\n",
            "\n",
            "                P       R       F\n",
            "NAME        89.66   78.79   83.87\n",
            "JOB         72.00   32.43   44.72\n",
            "DEG         62.16   63.89   63.01\n",
            "UNI         38.89   34.15   36.36\n",
            "EMAIL       63.33   95.00   76.00\n",
            "LOC         39.39   31.71   35.14\n",
            "WORK PER    75.45   83.00   79.05\n",
            "COMPANY     28.42   36.49   31.95\n",
            "SKILL       40.96   28.96   33.93\n",
            "PHONE       89.66   83.87   86.67\n",
            "STUDY PER   65.62   58.33   61.76\n",
            "\n",
            "<IPython.core.display.HTML object>\n",
            "Traceback (most recent call last):\n",
            "  File \"/usr/lib/python3.10/runpy.py\", line 196, in _run_module_as_main\n",
            "    return _run_code(code, main_globals, None,\n",
            "  File \"/usr/lib/python3.10/runpy.py\", line 86, in _run_code\n",
            "    exec(code, run_globals)\n",
            "  File \"/usr/local/lib/python3.10/dist-packages/spacy/__main__.py\", line 4, in <module>\n",
            "    setup_cli()\n",
            "  File \"/usr/local/lib/python3.10/dist-packages/spacy/cli/_util.py\", line 87, in setup_cli\n",
            "    command(prog_name=COMMAND)\n",
            "  File \"/usr/local/lib/python3.10/dist-packages/click/core.py\", line 1157, in __call__\n",
            "    return self.main(*args, **kwargs)\n",
            "  File \"/usr/local/lib/python3.10/dist-packages/typer/core.py\", line 728, in main\n",
            "    return _main(\n",
            "  File \"/usr/local/lib/python3.10/dist-packages/typer/core.py\", line 197, in _main\n",
            "    rv = self.invoke(ctx)\n",
            "  File \"/usr/local/lib/python3.10/dist-packages/click/core.py\", line 1688, in invoke\n",
            "    return _process_result(sub_ctx.command.invoke(sub_ctx))\n",
            "  File \"/usr/local/lib/python3.10/dist-packages/click/core.py\", line 1434, in invoke\n",
            "    return ctx.invoke(self.callback, **ctx.params)\n",
            "  File \"/usr/local/lib/python3.10/dist-packages/click/core.py\", line 783, in invoke\n",
            "    return __callback(*args, **kwargs)\n",
            "  File \"/usr/local/lib/python3.10/dist-packages/typer/main.py\", line 703, in wrapper\n",
            "    return callback(**use_params)\n",
            "  File \"/usr/local/lib/python3.10/dist-packages/spacy/cli/evaluate.py\", line 47, in evaluate_cli\n",
            "    evaluate(\n",
            "  File \"/usr/local/lib/python3.10/dist-packages/spacy/cli/evaluate.py\", line 141, in evaluate\n",
            "    render_parses(\n",
            "  File \"/usr/local/lib/python3.10/dist-packages/spacy/cli/evaluate.py\", line 208, in render_parses\n",
            "    file_.write(html)\n",
            "TypeError: write() argument must be str, not None\n"
          ]
        }
      ]
    },
    {
      "cell_type": "code",
      "source": [
        "# make prediction\n",
        "import spacy\n",
        "resume_text = '''\n",
        "John Doe lives at 1234 Elm Street in Los Angeles, CA 90001. He can be reached at +1 (555) 123-4567 or via email at john.doe@example.com. John is a results-driven software engineer with over 5 years of experience in web development and cloud infrastructure, with strong knowledge of JavaScript, Python, and cloud technologies like AWS and Azure. Currently, he works as a Software Engineer at Google LLC in San Francisco, CA, where he has been employed since August 2019. In this role, he has developed scalable web applications using JavaScript, Node.js, and React, deployed and maintained cloud infrastructure on AWS, reducing downtime by 20%, and led a team of 4 engineers to enhance backend performance by 30%. Previously, he worked as a Junior Developer at Tech Innovators Inc. in Austin, TX, from July 2017 to July 2019, where he created RESTful APIs using Python and Flask, collaborated with front-end developers to build and deploy user-facing applications, and wrote unit and integration tests, improving code coverage by 15%.\n",
        "\n",
        "John holds a Master of Science in Computer Science from the University of California, Berkeley, with a graduation date of May 2017, and a Bachelor of Science in Information Technology from the University of Texas at Austin, graduated in May 2015. His skillset includes proficiency in programming languages like Python, JavaScript, and Java; frameworks such as React, Flask, and Django; cloud platforms including AWS, Google Cloud, and Azure; as well as other tools like Git, Docker, Kubernetes, and SQL. He is certified as an AWS Certified Solutions Architect – Associate, earned in 2020, and as a Google Professional Cloud Architect, earned in 2021'\n",
        "'''\n",
        "nlp = spacy.load(\"spacy-output/model-best\")\n",
        "doc = nlp(resume_text.lower())\n",
        "\n",
        "print(doc.ents)\n",
        "\n",
        "for ent in doc.ents:\n",
        "    print(f\"{ent.text}: {ent.label_}\")"
      ],
      "metadata": {
        "colab": {
          "base_uri": "https://localhost:8080/"
        },
        "id": "UXAlZZkEeeMc",
        "outputId": "b8cb33e8-de59-4fb2-9c8e-b54180992c00"
      },
      "id": "UXAlZZkEeeMc",
      "execution_count": null,
      "outputs": [
        {
          "output_type": "stream",
          "name": "stdout",
          "text": [
            "(john doe, in los, (555) 123-4567, john.doe@example.com, john is, aws, restful apis, master of science, bachelor of science in information technology, python, aws, azure, git, docker)\n",
            "john doe: NAME\n",
            "in los: LOC\n",
            "(555) 123-4567: PHONE\n",
            "john.doe@example.com: EMAIL\n",
            "john is: NAME\n",
            "aws: SKILL\n",
            "restful apis: SKILL\n",
            "master of science: DEG\n",
            "bachelor of science in information technology: DEG\n",
            "python: SKILL\n",
            "aws: SKILL\n",
            "azure: SKILL\n",
            "git: SKILL\n",
            "docker: SKILL\n"
          ]
        }
      ]
    },
    {
      "cell_type": "code",
      "source": [
        "from spacy import displacy\n",
        "displacy.render(doc, style=\"ent\", jupyter=True)"
      ],
      "metadata": {
        "colab": {
          "base_uri": "https://localhost:8080/",
          "height": 507
        },
        "id": "LtxtV7GufiOw",
        "outputId": "670daab7-d8e9-4f21-f231-84c81cb6f23d"
      },
      "id": "LtxtV7GufiOw",
      "execution_count": null,
      "outputs": [
        {
          "output_type": "display_data",
          "data": {
            "text/plain": [
              "<IPython.core.display.HTML object>"
            ],
            "text/html": [
              "<span class=\"tex2jax_ignore\"><div class=\"entities\" style=\"line-height: 2.5; direction: ltr\"><br>\n",
              "<mark class=\"entity\" style=\"background: #ddd; padding: 0.45em 0.6em; margin: 0 0.25em; line-height: 1; border-radius: 0.35em;\">\n",
              "    john doe\n",
              "    <span style=\"font-size: 0.8em; font-weight: bold; line-height: 1; border-radius: 0.35em; vertical-align: middle; margin-left: 0.5rem\">NAME</span>\n",
              "</mark>\n",
              " lives at 1234 elm street \n",
              "<mark class=\"entity\" style=\"background: #ff9561; padding: 0.45em 0.6em; margin: 0 0.25em; line-height: 1; border-radius: 0.35em;\">\n",
              "    in los\n",
              "    <span style=\"font-size: 0.8em; font-weight: bold; line-height: 1; border-radius: 0.35em; vertical-align: middle; margin-left: 0.5rem\">LOC</span>\n",
              "</mark>\n",
              " angeles, ca 90001. he can be reached at +1 \n",
              "<mark class=\"entity\" style=\"background: #ddd; padding: 0.45em 0.6em; margin: 0 0.25em; line-height: 1; border-radius: 0.35em;\">\n",
              "    (555) 123-4567\n",
              "    <span style=\"font-size: 0.8em; font-weight: bold; line-height: 1; border-radius: 0.35em; vertical-align: middle; margin-left: 0.5rem\">PHONE</span>\n",
              "</mark>\n",
              " or via email at \n",
              "<mark class=\"entity\" style=\"background: #ddd; padding: 0.45em 0.6em; margin: 0 0.25em; line-height: 1; border-radius: 0.35em;\">\n",
              "    john.doe@example.com\n",
              "    <span style=\"font-size: 0.8em; font-weight: bold; line-height: 1; border-radius: 0.35em; vertical-align: middle; margin-left: 0.5rem\">EMAIL</span>\n",
              "</mark>\n",
              ". \n",
              "<mark class=\"entity\" style=\"background: #ddd; padding: 0.45em 0.6em; margin: 0 0.25em; line-height: 1; border-radius: 0.35em;\">\n",
              "    john is\n",
              "    <span style=\"font-size: 0.8em; font-weight: bold; line-height: 1; border-radius: 0.35em; vertical-align: middle; margin-left: 0.5rem\">NAME</span>\n",
              "</mark>\n",
              " a results-driven software engineer with over 5 years of experience in web development and cloud infrastructure, with strong knowledge of javascript, python, and cloud technologies like \n",
              "<mark class=\"entity\" style=\"background: #ddd; padding: 0.45em 0.6em; margin: 0 0.25em; line-height: 1; border-radius: 0.35em;\">\n",
              "    aws\n",
              "    <span style=\"font-size: 0.8em; font-weight: bold; line-height: 1; border-radius: 0.35em; vertical-align: middle; margin-left: 0.5rem\">SKILL</span>\n",
              "</mark>\n",
              " and azure. currently, he works as a software engineer at google llc in san francisco, ca, where he has been employed since august 2019. in this role, he has developed scalable web applications using javascript, node.js, and react, deployed and maintained cloud infrastructure on aws, reducing downtime by 20%, and led a team of 4 engineers to enhance backend performance by 30%. previously, he worked as a junior developer at tech innovators inc. in austin, tx, from july 2017 to july 2019, where he created \n",
              "<mark class=\"entity\" style=\"background: #ddd; padding: 0.45em 0.6em; margin: 0 0.25em; line-height: 1; border-radius: 0.35em;\">\n",
              "    restful apis\n",
              "    <span style=\"font-size: 0.8em; font-weight: bold; line-height: 1; border-radius: 0.35em; vertical-align: middle; margin-left: 0.5rem\">SKILL</span>\n",
              "</mark>\n",
              " using python and flask, collaborated with front-end developers to build and deploy user-facing applications, and wrote unit and integration tests, improving code coverage by 15%.<br><br>john holds a \n",
              "<mark class=\"entity\" style=\"background: #ddd; padding: 0.45em 0.6em; margin: 0 0.25em; line-height: 1; border-radius: 0.35em;\">\n",
              "    master of science\n",
              "    <span style=\"font-size: 0.8em; font-weight: bold; line-height: 1; border-radius: 0.35em; vertical-align: middle; margin-left: 0.5rem\">DEG</span>\n",
              "</mark>\n",
              " in computer science from the university of california, berkeley, with a graduation date of may 2017, and a \n",
              "<mark class=\"entity\" style=\"background: #ddd; padding: 0.45em 0.6em; margin: 0 0.25em; line-height: 1; border-radius: 0.35em;\">\n",
              "    bachelor of science in information technology\n",
              "    <span style=\"font-size: 0.8em; font-weight: bold; line-height: 1; border-radius: 0.35em; vertical-align: middle; margin-left: 0.5rem\">DEG</span>\n",
              "</mark>\n",
              " from the university of texas at austin, graduated in may 2015. his skillset includes proficiency in programming languages like \n",
              "<mark class=\"entity\" style=\"background: #ddd; padding: 0.45em 0.6em; margin: 0 0.25em; line-height: 1; border-radius: 0.35em;\">\n",
              "    python\n",
              "    <span style=\"font-size: 0.8em; font-weight: bold; line-height: 1; border-radius: 0.35em; vertical-align: middle; margin-left: 0.5rem\">SKILL</span>\n",
              "</mark>\n",
              ", javascript, and java; frameworks such as react, flask, and django; cloud platforms including \n",
              "<mark class=\"entity\" style=\"background: #ddd; padding: 0.45em 0.6em; margin: 0 0.25em; line-height: 1; border-radius: 0.35em;\">\n",
              "    aws\n",
              "    <span style=\"font-size: 0.8em; font-weight: bold; line-height: 1; border-radius: 0.35em; vertical-align: middle; margin-left: 0.5rem\">SKILL</span>\n",
              "</mark>\n",
              ", google cloud, and \n",
              "<mark class=\"entity\" style=\"background: #ddd; padding: 0.45em 0.6em; margin: 0 0.25em; line-height: 1; border-radius: 0.35em;\">\n",
              "    azure\n",
              "    <span style=\"font-size: 0.8em; font-weight: bold; line-height: 1; border-radius: 0.35em; vertical-align: middle; margin-left: 0.5rem\">SKILL</span>\n",
              "</mark>\n",
              "; as well as other tools like \n",
              "<mark class=\"entity\" style=\"background: #ddd; padding: 0.45em 0.6em; margin: 0 0.25em; line-height: 1; border-radius: 0.35em;\">\n",
              "    git\n",
              "    <span style=\"font-size: 0.8em; font-weight: bold; line-height: 1; border-radius: 0.35em; vertical-align: middle; margin-left: 0.5rem\">SKILL</span>\n",
              "</mark>\n",
              ", \n",
              "<mark class=\"entity\" style=\"background: #ddd; padding: 0.45em 0.6em; margin: 0 0.25em; line-height: 1; border-radius: 0.35em;\">\n",
              "    docker\n",
              "    <span style=\"font-size: 0.8em; font-weight: bold; line-height: 1; border-radius: 0.35em; vertical-align: middle; margin-left: 0.5rem\">SKILL</span>\n",
              "</mark>\n",
              ", kubernetes, and sql. he is certified as an aws certified solutions architect – associate, earned in 2020, and as a google professional cloud architect, earned in 2021'<br></div></span>"
            ]
          },
          "metadata": {}
        }
      ]
    },
    {
      "cell_type": "markdown",
      "source": [
        "## Flair NER"
      ],
      "metadata": {
        "id": "1z_niSalE0uT"
      },
      "id": "1z_niSalE0uT"
    },
    {
      "cell_type": "code",
      "source": [
        "!pip install flair"
      ],
      "metadata": {
        "id": "lsEUGnPpnjuU",
        "colab": {
          "base_uri": "https://localhost:8080/"
        },
        "outputId": "cb9a9834-1b08-4a43-d713-542b7e8e2a56"
      },
      "id": "lsEUGnPpnjuU",
      "execution_count": 5,
      "outputs": [
        {
          "output_type": "stream",
          "name": "stdout",
          "text": [
            "Collecting flair\n",
            "  Downloading flair-0.14.0-py3-none-any.whl.metadata (12 kB)\n",
            "Collecting boto3>=1.20.27 (from flair)\n",
            "  Downloading boto3-1.35.54-py3-none-any.whl.metadata (6.7 kB)\n",
            "Collecting conllu<5.0.0,>=4.0 (from flair)\n",
            "  Downloading conllu-4.5.3-py2.py3-none-any.whl.metadata (19 kB)\n",
            "Requirement already satisfied: deprecated>=1.2.13 in /usr/local/lib/python3.10/dist-packages (from flair) (1.2.14)\n",
            "Collecting ftfy>=6.1.0 (from flair)\n",
            "  Downloading ftfy-6.3.1-py3-none-any.whl.metadata (7.3 kB)\n",
            "Requirement already satisfied: gdown>=4.4.0 in /usr/local/lib/python3.10/dist-packages (from flair) (5.2.0)\n",
            "Requirement already satisfied: huggingface-hub>=0.10.0 in /usr/local/lib/python3.10/dist-packages (from flair) (0.24.7)\n",
            "Collecting langdetect>=1.0.9 (from flair)\n",
            "  Downloading langdetect-1.0.9.tar.gz (981 kB)\n",
            "\u001b[2K     \u001b[90m━━━━━━━━━━━━━━━━━━━━━━━━━━━━━━━━━━━━━━━━\u001b[0m \u001b[32m981.5/981.5 kB\u001b[0m \u001b[31m16.4 MB/s\u001b[0m eta \u001b[36m0:00:00\u001b[0m\n",
            "\u001b[?25h  Preparing metadata (setup.py) ... \u001b[?25l\u001b[?25hdone\n",
            "Requirement already satisfied: lxml>=4.8.0 in /usr/local/lib/python3.10/dist-packages (from flair) (5.3.0)\n",
            "Requirement already satisfied: matplotlib>=2.2.3 in /usr/local/lib/python3.10/dist-packages (from flair) (3.8.0)\n",
            "Requirement already satisfied: more-itertools>=8.13.0 in /usr/local/lib/python3.10/dist-packages (from flair) (10.5.0)\n",
            "Collecting mpld3>=0.3 (from flair)\n",
            "  Downloading mpld3-0.5.10-py3-none-any.whl.metadata (5.1 kB)\n",
            "Collecting pptree>=3.1 (from flair)\n",
            "  Downloading pptree-3.1.tar.gz (3.0 kB)\n",
            "  Preparing metadata (setup.py) ... \u001b[?25l\u001b[?25hdone\n",
            "Requirement already satisfied: python-dateutil>=2.8.2 in /usr/local/lib/python3.10/dist-packages (from flair) (2.8.2)\n",
            "Collecting pytorch-revgrad>=0.2.0 (from flair)\n",
            "  Downloading pytorch_revgrad-0.2.0-py3-none-any.whl.metadata (1.7 kB)\n",
            "Requirement already satisfied: regex>=2022.1.18 in /usr/local/lib/python3.10/dist-packages (from flair) (2024.9.11)\n",
            "Requirement already satisfied: scikit-learn>=1.0.2 in /usr/local/lib/python3.10/dist-packages (from flair) (1.5.2)\n",
            "Collecting segtok>=1.5.11 (from flair)\n",
            "  Downloading segtok-1.5.11-py3-none-any.whl.metadata (9.0 kB)\n",
            "Collecting sqlitedict>=2.0.0 (from flair)\n",
            "  Downloading sqlitedict-2.1.0.tar.gz (21 kB)\n",
            "  Preparing metadata (setup.py) ... \u001b[?25l\u001b[?25hdone\n",
            "Requirement already satisfied: tabulate>=0.8.10 in /usr/local/lib/python3.10/dist-packages (from flair) (0.9.0)\n",
            "Requirement already satisfied: torch!=1.8,>=1.5.0 in /usr/local/lib/python3.10/dist-packages (from flair) (2.5.0+cu121)\n",
            "Requirement already satisfied: tqdm>=4.63.0 in /usr/local/lib/python3.10/dist-packages (from flair) (4.66.6)\n",
            "Collecting transformer-smaller-training-vocab>=0.2.3 (from flair)\n",
            "  Downloading transformer_smaller_training_vocab-0.4.0-py3-none-any.whl.metadata (8.1 kB)\n",
            "Requirement already satisfied: transformers<5.0.0,>=4.18.0 in /usr/local/lib/python3.10/dist-packages (from transformers[sentencepiece]<5.0.0,>=4.18.0->flair) (4.44.2)\n",
            "Collecting wikipedia-api>=0.5.7 (from flair)\n",
            "  Downloading wikipedia_api-0.7.1.tar.gz (17 kB)\n",
            "  Preparing metadata (setup.py) ... \u001b[?25l\u001b[?25hdone\n",
            "Collecting semver<4.0.0,>=3.0.0 (from flair)\n",
            "  Downloading semver-3.0.2-py3-none-any.whl.metadata (5.0 kB)\n",
            "Collecting bioc<3.0.0,>=2.0.0 (from flair)\n",
            "  Downloading bioc-2.1-py3-none-any.whl.metadata (4.6 kB)\n",
            "Collecting jsonlines>=1.2.0 (from bioc<3.0.0,>=2.0.0->flair)\n",
            "  Downloading jsonlines-4.0.0-py3-none-any.whl.metadata (1.6 kB)\n",
            "Collecting intervaltree (from bioc<3.0.0,>=2.0.0->flair)\n",
            "  Downloading intervaltree-3.1.0.tar.gz (32 kB)\n",
            "  Preparing metadata (setup.py) ... \u001b[?25l\u001b[?25hdone\n",
            "Collecting docopt (from bioc<3.0.0,>=2.0.0->flair)\n",
            "  Downloading docopt-0.6.2.tar.gz (25 kB)\n",
            "  Preparing metadata (setup.py) ... \u001b[?25l\u001b[?25hdone\n",
            "Collecting botocore<1.36.0,>=1.35.54 (from boto3>=1.20.27->flair)\n",
            "  Downloading botocore-1.35.54-py3-none-any.whl.metadata (5.7 kB)\n",
            "Collecting jmespath<2.0.0,>=0.7.1 (from boto3>=1.20.27->flair)\n",
            "  Downloading jmespath-1.0.1-py3-none-any.whl.metadata (7.6 kB)\n",
            "Collecting s3transfer<0.11.0,>=0.10.0 (from boto3>=1.20.27->flair)\n",
            "  Downloading s3transfer-0.10.3-py3-none-any.whl.metadata (1.7 kB)\n",
            "Requirement already satisfied: wrapt<2,>=1.10 in /usr/local/lib/python3.10/dist-packages (from deprecated>=1.2.13->flair) (1.16.0)\n",
            "Requirement already satisfied: wcwidth in /usr/local/lib/python3.10/dist-packages (from ftfy>=6.1.0->flair) (0.2.13)\n",
            "Requirement already satisfied: beautifulsoup4 in /usr/local/lib/python3.10/dist-packages (from gdown>=4.4.0->flair) (4.12.3)\n",
            "Requirement already satisfied: filelock in /usr/local/lib/python3.10/dist-packages (from gdown>=4.4.0->flair) (3.16.1)\n",
            "Requirement already satisfied: requests[socks] in /usr/local/lib/python3.10/dist-packages (from gdown>=4.4.0->flair) (2.32.3)\n",
            "Requirement already satisfied: fsspec>=2023.5.0 in /usr/local/lib/python3.10/dist-packages (from huggingface-hub>=0.10.0->flair) (2024.10.0)\n",
            "Requirement already satisfied: packaging>=20.9 in /usr/local/lib/python3.10/dist-packages (from huggingface-hub>=0.10.0->flair) (24.1)\n",
            "Requirement already satisfied: pyyaml>=5.1 in /usr/local/lib/python3.10/dist-packages (from huggingface-hub>=0.10.0->flair) (6.0.2)\n",
            "Requirement already satisfied: typing-extensions>=3.7.4.3 in /usr/local/lib/python3.10/dist-packages (from huggingface-hub>=0.10.0->flair) (4.12.2)\n",
            "Requirement already satisfied: six in /usr/local/lib/python3.10/dist-packages (from langdetect>=1.0.9->flair) (1.16.0)\n",
            "Requirement already satisfied: contourpy>=1.0.1 in /usr/local/lib/python3.10/dist-packages (from matplotlib>=2.2.3->flair) (1.3.0)\n",
            "Requirement already satisfied: cycler>=0.10 in /usr/local/lib/python3.10/dist-packages (from matplotlib>=2.2.3->flair) (0.12.1)\n",
            "Requirement already satisfied: fonttools>=4.22.0 in /usr/local/lib/python3.10/dist-packages (from matplotlib>=2.2.3->flair) (4.54.1)\n",
            "Requirement already satisfied: kiwisolver>=1.0.1 in /usr/local/lib/python3.10/dist-packages (from matplotlib>=2.2.3->flair) (1.4.7)\n",
            "Requirement already satisfied: numpy<2,>=1.21 in /usr/local/lib/python3.10/dist-packages (from matplotlib>=2.2.3->flair) (1.26.4)\n",
            "Requirement already satisfied: pillow>=6.2.0 in /usr/local/lib/python3.10/dist-packages (from matplotlib>=2.2.3->flair) (10.4.0)\n",
            "Requirement already satisfied: pyparsing>=2.3.1 in /usr/local/lib/python3.10/dist-packages (from matplotlib>=2.2.3->flair) (3.2.0)\n",
            "Requirement already satisfied: jinja2 in /usr/local/lib/python3.10/dist-packages (from mpld3>=0.3->flair) (3.1.4)\n",
            "Requirement already satisfied: scipy>=1.6.0 in /usr/local/lib/python3.10/dist-packages (from scikit-learn>=1.0.2->flair) (1.13.1)\n",
            "Requirement already satisfied: joblib>=1.2.0 in /usr/local/lib/python3.10/dist-packages (from scikit-learn>=1.0.2->flair) (1.4.2)\n",
            "Requirement already satisfied: threadpoolctl>=3.1.0 in /usr/local/lib/python3.10/dist-packages (from scikit-learn>=1.0.2->flair) (3.5.0)\n",
            "Requirement already satisfied: networkx in /usr/local/lib/python3.10/dist-packages (from torch!=1.8,>=1.5.0->flair) (3.4.2)\n",
            "Requirement already satisfied: sympy==1.13.1 in /usr/local/lib/python3.10/dist-packages (from torch!=1.8,>=1.5.0->flair) (1.13.1)\n",
            "Requirement already satisfied: mpmath<1.4,>=1.1.0 in /usr/local/lib/python3.10/dist-packages (from sympy==1.13.1->torch!=1.8,>=1.5.0->flair) (1.3.0)\n",
            "Requirement already satisfied: safetensors>=0.4.1 in /usr/local/lib/python3.10/dist-packages (from transformers<5.0.0,>=4.18.0->transformers[sentencepiece]<5.0.0,>=4.18.0->flair) (0.4.5)\n",
            "Requirement already satisfied: tokenizers<0.20,>=0.19 in /usr/local/lib/python3.10/dist-packages (from transformers<5.0.0,>=4.18.0->transformers[sentencepiece]<5.0.0,>=4.18.0->flair) (0.19.1)\n",
            "Requirement already satisfied: protobuf in /usr/local/lib/python3.10/dist-packages (from transformers[sentencepiece]<5.0.0,>=4.18.0->flair) (3.20.3)\n",
            "Requirement already satisfied: sentencepiece!=0.1.92,>=0.1.91 in /usr/local/lib/python3.10/dist-packages (from transformers[sentencepiece]<5.0.0,>=4.18.0->flair) (0.2.0)\n",
            "Requirement already satisfied: urllib3!=2.2.0,<3,>=1.25.4 in /usr/local/lib/python3.10/dist-packages (from botocore<1.36.0,>=1.35.54->boto3>=1.20.27->flair) (2.2.3)\n",
            "Requirement already satisfied: attrs>=19.2.0 in /usr/local/lib/python3.10/dist-packages (from jsonlines>=1.2.0->bioc<3.0.0,>=2.0.0->flair) (24.2.0)\n",
            "Requirement already satisfied: accelerate>=0.21.0 in /usr/local/lib/python3.10/dist-packages (from transformers[sentencepiece,torch]<5.0,>=4.1->transformer-smaller-training-vocab>=0.2.3->flair) (0.34.2)\n",
            "Requirement already satisfied: soupsieve>1.2 in /usr/local/lib/python3.10/dist-packages (from beautifulsoup4->gdown>=4.4.0->flair) (2.6)\n",
            "Collecting sortedcontainers<3.0,>=2.0 (from intervaltree->bioc<3.0.0,>=2.0.0->flair)\n",
            "  Downloading sortedcontainers-2.4.0-py2.py3-none-any.whl.metadata (10 kB)\n",
            "Requirement already satisfied: MarkupSafe>=2.0 in /usr/local/lib/python3.10/dist-packages (from jinja2->mpld3>=0.3->flair) (3.0.2)\n",
            "Requirement already satisfied: charset-normalizer<4,>=2 in /usr/local/lib/python3.10/dist-packages (from requests[socks]->gdown>=4.4.0->flair) (3.4.0)\n",
            "Requirement already satisfied: idna<4,>=2.5 in /usr/local/lib/python3.10/dist-packages (from requests[socks]->gdown>=4.4.0->flair) (3.10)\n",
            "Requirement already satisfied: certifi>=2017.4.17 in /usr/local/lib/python3.10/dist-packages (from requests[socks]->gdown>=4.4.0->flair) (2024.8.30)\n",
            "Requirement already satisfied: PySocks!=1.5.7,>=1.5.6 in /usr/local/lib/python3.10/dist-packages (from requests[socks]->gdown>=4.4.0->flair) (1.7.1)\n",
            "Requirement already satisfied: psutil in /usr/local/lib/python3.10/dist-packages (from accelerate>=0.21.0->transformers[sentencepiece,torch]<5.0,>=4.1->transformer-smaller-training-vocab>=0.2.3->flair) (5.9.5)\n",
            "Downloading flair-0.14.0-py3-none-any.whl (776 kB)\n",
            "\u001b[2K   \u001b[90m━━━━━━━━━━━━━━━━━━━━━━━━━━━━━━━━━━━━━━━━\u001b[0m \u001b[32m776.5/776.5 kB\u001b[0m \u001b[31m41.8 MB/s\u001b[0m eta \u001b[36m0:00:00\u001b[0m\n",
            "\u001b[?25hDownloading bioc-2.1-py3-none-any.whl (33 kB)\n",
            "Downloading boto3-1.35.54-py3-none-any.whl (139 kB)\n",
            "\u001b[2K   \u001b[90m━━━━━━━━━━━━━━━━━━━━━━━━━━━━━━━━━━━━━━━━\u001b[0m \u001b[32m139.2/139.2 kB\u001b[0m \u001b[31m12.6 MB/s\u001b[0m eta \u001b[36m0:00:00\u001b[0m\n",
            "\u001b[?25hDownloading conllu-4.5.3-py2.py3-none-any.whl (16 kB)\n",
            "Downloading ftfy-6.3.1-py3-none-any.whl (44 kB)\n",
            "\u001b[2K   \u001b[90m━━━━━━━━━━━━━━━━━━━━━━━━━━━━━━━━━━━━━━━━\u001b[0m \u001b[32m44.8/44.8 kB\u001b[0m \u001b[31m3.8 MB/s\u001b[0m eta \u001b[36m0:00:00\u001b[0m\n",
            "\u001b[?25hDownloading mpld3-0.5.10-py3-none-any.whl (202 kB)\n",
            "\u001b[2K   \u001b[90m━━━━━━━━━━━━━━━━━━━━━━━━━━━━━━━━━━━━━━━━\u001b[0m \u001b[32m202.6/202.6 kB\u001b[0m \u001b[31m17.7 MB/s\u001b[0m eta \u001b[36m0:00:00\u001b[0m\n",
            "\u001b[?25hDownloading pytorch_revgrad-0.2.0-py3-none-any.whl (4.6 kB)\n",
            "Downloading segtok-1.5.11-py3-none-any.whl (24 kB)\n",
            "Downloading semver-3.0.2-py3-none-any.whl (17 kB)\n",
            "Downloading transformer_smaller_training_vocab-0.4.0-py3-none-any.whl (14 kB)\n",
            "Downloading botocore-1.35.54-py3-none-any.whl (12.7 MB)\n",
            "\u001b[2K   \u001b[90m━━━━━━━━━━━━━━━━━━━━━━━━━━━━━━━━━━━━━━━━\u001b[0m \u001b[32m12.7/12.7 MB\u001b[0m \u001b[31m93.4 MB/s\u001b[0m eta \u001b[36m0:00:00\u001b[0m\n",
            "\u001b[?25hDownloading jmespath-1.0.1-py3-none-any.whl (20 kB)\n",
            "Downloading jsonlines-4.0.0-py3-none-any.whl (8.7 kB)\n",
            "Downloading s3transfer-0.10.3-py3-none-any.whl (82 kB)\n",
            "\u001b[2K   \u001b[90m━━━━━━━━━━━━━━━━━━━━━━━━━━━━━━━━━━━━━━━━\u001b[0m \u001b[32m82.6/82.6 kB\u001b[0m \u001b[31m7.5 MB/s\u001b[0m eta \u001b[36m0:00:00\u001b[0m\n",
            "\u001b[?25hDownloading sortedcontainers-2.4.0-py2.py3-none-any.whl (29 kB)\n",
            "Building wheels for collected packages: langdetect, pptree, sqlitedict, wikipedia-api, docopt, intervaltree\n",
            "  Building wheel for langdetect (setup.py) ... \u001b[?25l\u001b[?25hdone\n",
            "  Created wheel for langdetect: filename=langdetect-1.0.9-py3-none-any.whl size=993222 sha256=1d4f53da1ad40cbd34a300b402bca05f7723a3a458e2d843feec68195489f71b\n",
            "  Stored in directory: /root/.cache/pip/wheels/95/03/7d/59ea870c70ce4e5a370638b5462a7711ab78fba2f655d05106\n",
            "  Building wheel for pptree (setup.py) ... \u001b[?25l\u001b[?25hdone\n",
            "  Created wheel for pptree: filename=pptree-3.1-py3-none-any.whl size=4608 sha256=04b69da7378e00b8538ed9cbf205675ca5f9572404cabfeb43b748942f32bf32\n",
            "  Stored in directory: /root/.cache/pip/wheels/9f/b6/0e/6f26eb9e6eb53ff2107a7888d72b5a6a597593956113037828\n",
            "  Building wheel for sqlitedict (setup.py) ... \u001b[?25l\u001b[?25hdone\n",
            "  Created wheel for sqlitedict: filename=sqlitedict-2.1.0-py3-none-any.whl size=16864 sha256=210208ba031b51b683767ab745dcc7c42639f76efc7e1c779226e8bade55730e\n",
            "  Stored in directory: /root/.cache/pip/wheels/79/d6/e7/304e0e6cb2221022c26d8161f7c23cd4f259a9e41e8bbcfabd\n",
            "  Building wheel for wikipedia-api (setup.py) ... \u001b[?25l\u001b[?25hdone\n",
            "  Created wheel for wikipedia-api: filename=Wikipedia_API-0.7.1-py3-none-any.whl size=14346 sha256=82e146c8a6c8f262032ec61fed50b06d8355f1d391c0fd8091eb9bc2b2b73fd6\n",
            "  Stored in directory: /root/.cache/pip/wheels/4c/96/18/b9201cc3e8b47b02b510460210cfd832ccf10c0c4dd0522962\n",
            "  Building wheel for docopt (setup.py) ... \u001b[?25l\u001b[?25hdone\n",
            "  Created wheel for docopt: filename=docopt-0.6.2-py2.py3-none-any.whl size=13706 sha256=2b3a2102279907e3d42ec5953b400a151f04da498eacdaba6173f5cdf8720492\n",
            "  Stored in directory: /root/.cache/pip/wheels/fc/ab/d4/5da2067ac95b36618c629a5f93f809425700506f72c9732fac\n",
            "  Building wheel for intervaltree (setup.py) ... \u001b[?25l\u001b[?25hdone\n",
            "  Created wheel for intervaltree: filename=intervaltree-3.1.0-py2.py3-none-any.whl size=26097 sha256=24a31aa3deca1f066a4e8050dab343df42460194e5bc4740f5af884438d5f330\n",
            "  Stored in directory: /root/.cache/pip/wheels/fa/80/8c/43488a924a046b733b64de3fac99252674c892a4c3801c0a61\n",
            "Successfully built langdetect pptree sqlitedict wikipedia-api docopt intervaltree\n",
            "Installing collected packages: sqlitedict, sortedcontainers, pptree, docopt, semver, segtok, langdetect, jsonlines, jmespath, intervaltree, ftfy, conllu, wikipedia-api, botocore, bioc, s3transfer, pytorch-revgrad, mpld3, boto3, transformer-smaller-training-vocab, flair\n",
            "Successfully installed bioc-2.1 boto3-1.35.54 botocore-1.35.54 conllu-4.5.3 docopt-0.6.2 flair-0.14.0 ftfy-6.3.1 intervaltree-3.1.0 jmespath-1.0.1 jsonlines-4.0.0 langdetect-1.0.9 mpld3-0.5.10 pptree-3.1 pytorch-revgrad-0.2.0 s3transfer-0.10.3 segtok-1.5.11 semver-3.0.2 sortedcontainers-2.4.0 sqlitedict-2.1.0 transformer-smaller-training-vocab-0.4.0 wikipedia-api-0.7.1\n"
          ]
        }
      ]
    },
    {
      "cell_type": "code",
      "source": [
        "import spacy\n",
        "from spacy.tokens import DocBin\n",
        "import os\n",
        "\n",
        "def convert_spacy_to_flair(input_file, output_file):\n",
        "    \"\"\"\n",
        "    Convert SpaCy binary format to Flair's CoNLL format.\n",
        "\n",
        "    Args:\n",
        "        input_file (str): Path to SpaCy binary file (.spacy)\n",
        "        output_file (str): Path to output file for Flair format\n",
        "    \"\"\"\n",
        "    # Load spaCy model\n",
        "    nlp = spacy.blank(\"en\")\n",
        "\n",
        "    # Load the DocBin\n",
        "    doc_bin = DocBin().from_disk(input_file)\n",
        "    docs = list(doc_bin.get_docs(nlp.vocab))\n",
        "\n",
        "    with open(output_file, 'w', encoding='utf-8') as f:\n",
        "        for doc in docs:\n",
        "            tokens = [(t.text, t.ent_iob_, t.ent_type_) for t in doc]\n",
        "\n",
        "            # Write tokens in CoNLL format\n",
        "            for token in tokens:\n",
        "                text, iob, ent_type = token\n",
        "\n",
        "                # Convert spaCy IOB to CoNLL format\n",
        "                if iob == 'O':\n",
        "                    tag = 'O'\n",
        "                else:\n",
        "                    tag = f'{iob}-{ent_type}' if ent_type else 'O'\n",
        "\n",
        "                # Write line: token and NER tag\n",
        "                f.write(f'{text} {tag}\\n')\n",
        "\n",
        "            # Empty line between sentences\n",
        "            f.write('\\n')\n",
        "\n",
        "def convert_spacy_json_to_flair(input_file, output_file):\n",
        "    \"\"\"\n",
        "    Convert SpaCy JSON format to Flair's CoNLL format.\n",
        "\n",
        "    Args:\n",
        "        input_file (str): Path to JSON file with SpaCy annotations\n",
        "        output_file (str): Path to output file for Flair format\n",
        "    \"\"\"\n",
        "    import json\n",
        "\n",
        "    nlp = spacy.blank(\"en\")\n",
        "\n",
        "    with open(input_file, 'r', encoding='utf-8') as f:\n",
        "        training_data = json.load(f)\n",
        "\n",
        "    with open(output_file, 'w', encoding='utf-8') as f:\n",
        "        for example in training_data:\n",
        "            text = example['text']\n",
        "            ents = example.get('entities', [])\n",
        "\n",
        "            # Create a spaCy doc\n",
        "            doc = nlp(text)\n",
        "\n",
        "            # Add entities to doc\n",
        "            spans = []\n",
        "            for start, end, label in ents:\n",
        "                span = doc.char_span(start, end, label=label)\n",
        "                if span is not None:\n",
        "                    spans.append(span)\n",
        "            doc.ents = spans\n",
        "\n",
        "            # Convert to CoNLL format\n",
        "            tokens = [(t.text, t.ent_iob_, t.ent_type_) for t in doc]\n",
        "\n",
        "            for token in tokens:\n",
        "                text, iob, ent_type = token\n",
        "                if iob == 'O':\n",
        "                    tag = 'O'\n",
        "                else:\n",
        "                    tag = f'{iob}-{ent_type}' if ent_type else 'O'\n",
        "                f.write(f'{text} {tag}\\n')\n",
        "\n",
        "            f.write('\\n')\n",
        "\n",
        "# Example usage for JSON format\n",
        "flair_train_json = \"flair_train.txt\"\n",
        "flair_test_json = \"flair_test.txt\"\n",
        "\n",
        "convert_spacy_to_flair('/content/spacy_ner_data/train_data.spacy', flair_train_json)\n",
        "convert_spacy_to_flair('/content/spacy_ner_data/test_data.spacy', flair_test_json)"
      ],
      "metadata": {
        "id": "8SgkTXeIiTtF"
      },
      "id": "8SgkTXeIiTtF",
      "execution_count": 6,
      "outputs": []
    },
    {
      "cell_type": "code",
      "source": [
        "import spacy\n",
        "from spacy.training import Corpus\n",
        "\n",
        "!python -m spacy download de_core_news_sm\n",
        "nlp = spacy.load(\"de_core_news_sm\")\n",
        "corpus = Corpus(\"/content/spacy_ner_data/test_data.spacy\")\n",
        "\n",
        "data = corpus(nlp)\n",
        "\n",
        "# Flair supports BIO and BIOES, see https://github.com/flairNLP/flair/issues/875\n",
        "def rename_biluo_to_bioes(old_tag):\n",
        "    new_tag = \"\"\n",
        "    try:\n",
        "        if old_tag.startswith(\"L\"):\n",
        "            new_tag = \"E\" + old_tag[1:]\n",
        "        elif old_tag.startswith(\"U\"):\n",
        "            new_tag = \"S\" + old_tag[1:]\n",
        "        else:\n",
        "            new_tag = old_tag\n",
        "    except:\n",
        "        pass\n",
        "    return new_tag\n",
        "\n",
        "\n",
        "def generate_corpus():\n",
        "    corpus = []\n",
        "    n_ex = 0\n",
        "    for example in data:\n",
        "        n_ex += 1\n",
        "        text = example.text\n",
        "        doc = nlp(text)\n",
        "        tags = example.get_aligned_ner()\n",
        "        # Check if it's an empty list of NER tags.\n",
        "        if None in tags:\n",
        "            pass\n",
        "        else:\n",
        "            new_tags = [rename_biluo_to_bioes(tag) for tag in tags]\n",
        "            for token, tag in zip(doc,new_tags):\n",
        "                row = token.text +' '+ token.pos_ +' ' +tag + '\\n'\n",
        "                corpus.append(row)\n",
        "            corpus.append('\\n')\n",
        "    return corpus\n",
        "\n",
        "def write_file(filepath):\n",
        "    with open(filepath, 'w', encoding='utf-8') as f:\n",
        "        corpus = generate_corpus()\n",
        "        f.writelines(corpus)\n",
        "\n",
        "def main():\n",
        "    write_file('flair_test.txt')\n",
        "\n",
        "main()"
      ],
      "metadata": {
        "id": "TbHBmnUyv65f",
        "colab": {
          "base_uri": "https://localhost:8080/"
        },
        "outputId": "be6d42bd-f6a2-4143-b278-f010c011ae8f"
      },
      "id": "TbHBmnUyv65f",
      "execution_count": null,
      "outputs": [
        {
          "output_type": "stream",
          "name": "stdout",
          "text": [
            "Collecting de-core-news-sm==3.7.0\n",
            "  Using cached https://github.com/explosion/spacy-models/releases/download/de_core_news_sm-3.7.0/de_core_news_sm-3.7.0-py3-none-any.whl (14.6 MB)\n",
            "Requirement already satisfied: spacy<3.8.0,>=3.7.0 in /usr/local/lib/python3.10/dist-packages (from de-core-news-sm==3.7.0) (3.7.5)\n",
            "Requirement already satisfied: spacy-legacy<3.1.0,>=3.0.11 in /usr/local/lib/python3.10/dist-packages (from spacy<3.8.0,>=3.7.0->de-core-news-sm==3.7.0) (3.0.12)\n",
            "Requirement already satisfied: spacy-loggers<2.0.0,>=1.0.0 in /usr/local/lib/python3.10/dist-packages (from spacy<3.8.0,>=3.7.0->de-core-news-sm==3.7.0) (1.0.5)\n",
            "Requirement already satisfied: murmurhash<1.1.0,>=0.28.0 in /usr/local/lib/python3.10/dist-packages (from spacy<3.8.0,>=3.7.0->de-core-news-sm==3.7.0) (1.0.10)\n",
            "Requirement already satisfied: cymem<2.1.0,>=2.0.2 in /usr/local/lib/python3.10/dist-packages (from spacy<3.8.0,>=3.7.0->de-core-news-sm==3.7.0) (2.0.8)\n",
            "Requirement already satisfied: preshed<3.1.0,>=3.0.2 in /usr/local/lib/python3.10/dist-packages (from spacy<3.8.0,>=3.7.0->de-core-news-sm==3.7.0) (3.0.9)\n",
            "Requirement already satisfied: thinc<8.3.0,>=8.2.2 in /usr/local/lib/python3.10/dist-packages (from spacy<3.8.0,>=3.7.0->de-core-news-sm==3.7.0) (8.2.5)\n",
            "Requirement already satisfied: wasabi<1.2.0,>=0.9.1 in /usr/local/lib/python3.10/dist-packages (from spacy<3.8.0,>=3.7.0->de-core-news-sm==3.7.0) (1.1.3)\n",
            "Requirement already satisfied: srsly<3.0.0,>=2.4.3 in /usr/local/lib/python3.10/dist-packages (from spacy<3.8.0,>=3.7.0->de-core-news-sm==3.7.0) (2.4.8)\n",
            "Requirement already satisfied: catalogue<2.1.0,>=2.0.6 in /usr/local/lib/python3.10/dist-packages (from spacy<3.8.0,>=3.7.0->de-core-news-sm==3.7.0) (2.0.10)\n",
            "Requirement already satisfied: weasel<0.5.0,>=0.1.0 in /usr/local/lib/python3.10/dist-packages (from spacy<3.8.0,>=3.7.0->de-core-news-sm==3.7.0) (0.4.1)\n",
            "Requirement already satisfied: typer<1.0.0,>=0.3.0 in /usr/local/lib/python3.10/dist-packages (from spacy<3.8.0,>=3.7.0->de-core-news-sm==3.7.0) (0.12.5)\n",
            "Requirement already satisfied: tqdm<5.0.0,>=4.38.0 in /usr/local/lib/python3.10/dist-packages (from spacy<3.8.0,>=3.7.0->de-core-news-sm==3.7.0) (4.66.5)\n",
            "Requirement already satisfied: requests<3.0.0,>=2.13.0 in /usr/local/lib/python3.10/dist-packages (from spacy<3.8.0,>=3.7.0->de-core-news-sm==3.7.0) (2.32.3)\n",
            "Requirement already satisfied: pydantic!=1.8,!=1.8.1,<3.0.0,>=1.7.4 in /usr/local/lib/python3.10/dist-packages (from spacy<3.8.0,>=3.7.0->de-core-news-sm==3.7.0) (2.9.2)\n",
            "Requirement already satisfied: jinja2 in /usr/local/lib/python3.10/dist-packages (from spacy<3.8.0,>=3.7.0->de-core-news-sm==3.7.0) (3.1.4)\n",
            "Requirement already satisfied: setuptools in /usr/local/lib/python3.10/dist-packages (from spacy<3.8.0,>=3.7.0->de-core-news-sm==3.7.0) (75.1.0)\n",
            "Requirement already satisfied: packaging>=20.0 in /usr/local/lib/python3.10/dist-packages (from spacy<3.8.0,>=3.7.0->de-core-news-sm==3.7.0) (24.1)\n",
            "Requirement already satisfied: langcodes<4.0.0,>=3.2.0 in /usr/local/lib/python3.10/dist-packages (from spacy<3.8.0,>=3.7.0->de-core-news-sm==3.7.0) (3.4.1)\n",
            "Requirement already satisfied: numpy>=1.19.0 in /usr/local/lib/python3.10/dist-packages (from spacy<3.8.0,>=3.7.0->de-core-news-sm==3.7.0) (1.26.4)\n",
            "Requirement already satisfied: language-data>=1.2 in /usr/local/lib/python3.10/dist-packages (from langcodes<4.0.0,>=3.2.0->spacy<3.8.0,>=3.7.0->de-core-news-sm==3.7.0) (1.2.0)\n",
            "Requirement already satisfied: annotated-types>=0.6.0 in /usr/local/lib/python3.10/dist-packages (from pydantic!=1.8,!=1.8.1,<3.0.0,>=1.7.4->spacy<3.8.0,>=3.7.0->de-core-news-sm==3.7.0) (0.7.0)\n",
            "Requirement already satisfied: pydantic-core==2.23.4 in /usr/local/lib/python3.10/dist-packages (from pydantic!=1.8,!=1.8.1,<3.0.0,>=1.7.4->spacy<3.8.0,>=3.7.0->de-core-news-sm==3.7.0) (2.23.4)\n",
            "Requirement already satisfied: typing-extensions>=4.6.1 in /usr/local/lib/python3.10/dist-packages (from pydantic!=1.8,!=1.8.1,<3.0.0,>=1.7.4->spacy<3.8.0,>=3.7.0->de-core-news-sm==3.7.0) (4.12.2)\n",
            "Requirement already satisfied: charset-normalizer<4,>=2 in /usr/local/lib/python3.10/dist-packages (from requests<3.0.0,>=2.13.0->spacy<3.8.0,>=3.7.0->de-core-news-sm==3.7.0) (3.4.0)\n",
            "Requirement already satisfied: idna<4,>=2.5 in /usr/local/lib/python3.10/dist-packages (from requests<3.0.0,>=2.13.0->spacy<3.8.0,>=3.7.0->de-core-news-sm==3.7.0) (3.10)\n",
            "Requirement already satisfied: urllib3<3,>=1.21.1 in /usr/local/lib/python3.10/dist-packages (from requests<3.0.0,>=2.13.0->spacy<3.8.0,>=3.7.0->de-core-news-sm==3.7.0) (2.2.3)\n",
            "Requirement already satisfied: certifi>=2017.4.17 in /usr/local/lib/python3.10/dist-packages (from requests<3.0.0,>=2.13.0->spacy<3.8.0,>=3.7.0->de-core-news-sm==3.7.0) (2024.8.30)\n",
            "Requirement already satisfied: blis<0.8.0,>=0.7.8 in /usr/local/lib/python3.10/dist-packages (from thinc<8.3.0,>=8.2.2->spacy<3.8.0,>=3.7.0->de-core-news-sm==3.7.0) (0.7.11)\n",
            "Requirement already satisfied: confection<1.0.0,>=0.0.1 in /usr/local/lib/python3.10/dist-packages (from thinc<8.3.0,>=8.2.2->spacy<3.8.0,>=3.7.0->de-core-news-sm==3.7.0) (0.1.5)\n",
            "Requirement already satisfied: click>=8.0.0 in /usr/local/lib/python3.10/dist-packages (from typer<1.0.0,>=0.3.0->spacy<3.8.0,>=3.7.0->de-core-news-sm==3.7.0) (8.1.7)\n",
            "Requirement already satisfied: shellingham>=1.3.0 in /usr/local/lib/python3.10/dist-packages (from typer<1.0.0,>=0.3.0->spacy<3.8.0,>=3.7.0->de-core-news-sm==3.7.0) (1.5.4)\n",
            "Requirement already satisfied: rich>=10.11.0 in /usr/local/lib/python3.10/dist-packages (from typer<1.0.0,>=0.3.0->spacy<3.8.0,>=3.7.0->de-core-news-sm==3.7.0) (13.9.3)\n",
            "Requirement already satisfied: cloudpathlib<1.0.0,>=0.7.0 in /usr/local/lib/python3.10/dist-packages (from weasel<0.5.0,>=0.1.0->spacy<3.8.0,>=3.7.0->de-core-news-sm==3.7.0) (0.20.0)\n",
            "Requirement already satisfied: smart-open<8.0.0,>=5.2.1 in /usr/local/lib/python3.10/dist-packages (from weasel<0.5.0,>=0.1.0->spacy<3.8.0,>=3.7.0->de-core-news-sm==3.7.0) (7.0.5)\n",
            "Requirement already satisfied: MarkupSafe>=2.0 in /usr/local/lib/python3.10/dist-packages (from jinja2->spacy<3.8.0,>=3.7.0->de-core-news-sm==3.7.0) (3.0.2)\n",
            "Requirement already satisfied: marisa-trie>=0.7.7 in /usr/local/lib/python3.10/dist-packages (from language-data>=1.2->langcodes<4.0.0,>=3.2.0->spacy<3.8.0,>=3.7.0->de-core-news-sm==3.7.0) (1.2.1)\n",
            "Requirement already satisfied: markdown-it-py>=2.2.0 in /usr/local/lib/python3.10/dist-packages (from rich>=10.11.0->typer<1.0.0,>=0.3.0->spacy<3.8.0,>=3.7.0->de-core-news-sm==3.7.0) (3.0.0)\n",
            "Requirement already satisfied: pygments<3.0.0,>=2.13.0 in /usr/local/lib/python3.10/dist-packages (from rich>=10.11.0->typer<1.0.0,>=0.3.0->spacy<3.8.0,>=3.7.0->de-core-news-sm==3.7.0) (2.18.0)\n",
            "Requirement already satisfied: wrapt in /usr/local/lib/python3.10/dist-packages (from smart-open<8.0.0,>=5.2.1->weasel<0.5.0,>=0.1.0->spacy<3.8.0,>=3.7.0->de-core-news-sm==3.7.0) (1.16.0)\n",
            "Requirement already satisfied: mdurl~=0.1 in /usr/local/lib/python3.10/dist-packages (from markdown-it-py>=2.2.0->rich>=10.11.0->typer<1.0.0,>=0.3.0->spacy<3.8.0,>=3.7.0->de-core-news-sm==3.7.0) (0.1.2)\n",
            "\u001b[38;5;2m✔ Download and installation successful\u001b[0m\n",
            "You can now load the package via spacy.load('de_core_news_sm')\n",
            "\u001b[38;5;3m⚠ Restart to reload dependencies\u001b[0m\n",
            "If you are in a Jupyter or Colab notebook, you may need to restart Python in\n",
            "order to load all the package's dependencies. You can do this by selecting the\n",
            "'Restart kernel' or 'Restart runtime' option.\n"
          ]
        }
      ]
    },
    {
      "cell_type": "code",
      "source": [
        "from flair.data import Corpus\n",
        "from flair.datasets import ColumnCorpus\n",
        "\n",
        "# Define columns for CoNLL (0: word, 1: label)\n",
        "columns = {0: 'text', 1: 'ner'}\n",
        "\n",
        "# Set data folder and file names\n",
        "data_folder = './'\n",
        "train_file = 'flair_train.txt'\n",
        "test_file = 'flair_test.txt'\n",
        "\n",
        "# Load the corpus\n",
        "corpus: Corpus = ColumnCorpus(data_folder, columns,\n",
        "                              train_file=train_file,\n",
        "                              test_file=test_file)"
      ],
      "metadata": {
        "colab": {
          "base_uri": "https://localhost:8080/"
        },
        "id": "vl2-GpGBjpsi",
        "outputId": "567b4203-2bd8-48df-9056-2bdd561cc200"
      },
      "id": "vl2-GpGBjpsi",
      "execution_count": 7,
      "outputs": [
        {
          "output_type": "stream",
          "name": "stdout",
          "text": [
            "2024-11-04 03:42:52,212 Reading data from .\n",
            "2024-11-04 03:42:52,213 Train: flair_train.txt\n",
            "2024-11-04 03:42:52,214 Dev: None\n",
            "2024-11-04 03:42:52,216 Test: flair_test.txt\n",
            "2024-11-04 03:42:53,465 No dev split found. Using 10% (i.e. 14 samples) of the train split as dev data\n"
          ]
        }
      ]
    },
    {
      "cell_type": "code",
      "source": [
        "tag_dictionary= corpus.make_label_dictionary(label_type = 'ner')\n",
        "tag_dictionary"
      ],
      "metadata": {
        "colab": {
          "base_uri": "https://localhost:8080/"
        },
        "id": "d_skLRc8i44m",
        "outputId": "25fa7a4d-7310-4234-aaa9-1af6084eeede"
      },
      "id": "d_skLRc8i44m",
      "execution_count": 8,
      "outputs": [
        {
          "output_type": "stream",
          "name": "stdout",
          "text": [
            "2024-11-04 03:43:05,133 Computing label dictionary. Progress:\n"
          ]
        },
        {
          "output_type": "stream",
          "name": "stderr",
          "text": [
            "0it [00:00, ?it/s]\n",
            "121it [00:00, 9738.10it/s]"
          ]
        },
        {
          "output_type": "stream",
          "name": "stdout",
          "text": [
            "2024-11-04 03:43:05,204 Dictionary created for label 'ner' with 11 values: SKILL (seen 1857 times), JOB (seen 400 times), WORK (seen 366 times), COMPANY (seen 297 times), LOC (seen 167 times), UNI (seen 120 times), DEG (seen 117 times), NAME (seen 116 times), STUDY (seen 111 times), PHONE (seen 109 times), EMAIL (seen 89 times)\n"
          ]
        },
        {
          "output_type": "stream",
          "name": "stderr",
          "text": [
            "\n"
          ]
        },
        {
          "output_type": "execute_result",
          "data": {
            "text/plain": [
              "<flair.data.Dictionary at 0x791a6cab2e90>"
            ]
          },
          "metadata": {},
          "execution_count": 8
        }
      ]
    },
    {
      "cell_type": "code",
      "source": [
        "from collections import Counter\n",
        "\n",
        "def count_labels(file_path):\n",
        "    with open(file_path, 'r') as file:\n",
        "        labels = [line.split()[-1] for line in file if line.strip()]\n",
        "    return Counter(labels)\n",
        "\n",
        "print(\"Train label distribution:\", count_labels('flair_train.txt'))\n",
        "print(\"Test label distribution:\", count_labels('flair_test.txt'))"
      ],
      "metadata": {
        "id": "j5cXWOiGY5an",
        "outputId": "aa5a459e-c6b4-46e2-fefa-cc0af076814e",
        "colab": {
          "base_uri": "https://localhost:8080/"
        }
      },
      "id": "j5cXWOiGY5an",
      "execution_count": 13,
      "outputs": [
        {
          "output_type": "stream",
          "name": "stdout",
          "text": [
            "Train label distribution: Counter({'O': 59880, 'B-SKILL': 2061, 'I-SKILL': 1028, 'PER': 1021, 'I-JOB': 642, 'I-COMPANY': 496, 'B-JOB': 452, 'I-DEG': 341, 'B-COMPANY': 337, 'I-UNI': 238, 'B-LOC': 190, 'I-PHONE': 165, 'B-UNI': 137, 'I-NAME': 136, 'B-DEG': 130, 'B-NAME': 129, 'B-PHONE': 122, 'B-EMAIL': 99, 'I-LOC': 91, 'I-EMAIL': 1})\n",
            "Test label distribution: Counter({'O': 16372, 'B-SKILL': 587, 'I-SKILL': 265, 'PER': 250, 'I-JOB': 156, 'I-COMPANY': 116, 'B-JOB': 111, 'I-DEG': 94, 'B-COMPANY': 74, 'I-UNI': 72, 'I-PHONE': 50, 'B-UNI': 41, 'B-LOC': 41, 'B-DEG': 36, 'I-NAME': 34, 'B-NAME': 33, 'B-PHONE': 31, 'B-EMAIL': 20, 'I-LOC': 15})\n"
          ]
        }
      ]
    },
    {
      "cell_type": "code",
      "source": [
        "# create NER tagger\n",
        "from flair.embeddings import WordEmbeddings, StackedEmbeddings\n",
        "from flair.models import SequenceTagger\n",
        "\n",
        "embeddings = StackedEmbeddings([\n",
        "                WordEmbeddings('glove'),\n",
        "                WordEmbeddings('en-crawl')\n",
        "            ])\n",
        "\n",
        "tagger = SequenceTagger(hidden_size=256,\n",
        "                         embeddings=embeddings,\n",
        "                         tag_dictionary=tag_dictionary,\n",
        "                         tag_type='ner',\n",
        "                         use_crf=True)"
      ],
      "metadata": {
        "id": "QEBUKmiAnaFm",
        "colab": {
          "base_uri": "https://localhost:8080/"
        },
        "outputId": "e20ea363-4f95-415d-8ad0-ab99a6c50b41"
      },
      "id": "QEBUKmiAnaFm",
      "execution_count": 9,
      "outputs": [
        {
          "output_type": "stream",
          "name": "stdout",
          "text": [
            "2024-11-04 03:43:10,048 https://flair.informatik.hu-berlin.de/resources/embeddings/token/glove.gensim.vectors.npy not found in cache, downloading to /tmp/tmpwqgl4wuu\n"
          ]
        },
        {
          "output_type": "stream",
          "name": "stderr",
          "text": [
            "100%|██████████| 153M/153M [00:06<00:00, 23.6MB/s]"
          ]
        },
        {
          "output_type": "stream",
          "name": "stdout",
          "text": [
            "2024-11-04 03:43:16,920 copying /tmp/tmpwqgl4wuu to cache at /root/.flair/embeddings/glove.gensim.vectors.npy\n"
          ]
        },
        {
          "output_type": "stream",
          "name": "stderr",
          "text": [
            "\n"
          ]
        },
        {
          "output_type": "stream",
          "name": "stdout",
          "text": [
            "2024-11-04 03:43:17,424 removing temp file /tmp/tmpwqgl4wuu\n",
            "2024-11-04 03:43:17,573 https://flair.informatik.hu-berlin.de/resources/embeddings/token/glove.gensim not found in cache, downloading to /tmp/tmpjmdpn149\n"
          ]
        },
        {
          "output_type": "stream",
          "name": "stderr",
          "text": [
            "100%|██████████| 20.5M/20.5M [00:01<00:00, 20.8MB/s]"
          ]
        },
        {
          "output_type": "stream",
          "name": "stdout",
          "text": [
            "2024-11-04 03:43:18,690 copying /tmp/tmpjmdpn149 to cache at /root/.flair/embeddings/glove.gensim\n",
            "2024-11-04 03:43:18,711 removing temp file /tmp/tmpjmdpn149\n"
          ]
        },
        {
          "output_type": "stream",
          "name": "stderr",
          "text": [
            "\n"
          ]
        },
        {
          "output_type": "stream",
          "name": "stdout",
          "text": [
            "2024-11-04 03:43:23,614 https://flair.informatik.hu-berlin.de/resources/embeddings/token/en-fasttext-crawl-300d-1M.vectors.npy not found in cache, downloading to /tmp/tmpnlztex0_\n"
          ]
        },
        {
          "output_type": "stream",
          "name": "stderr",
          "text": [
            "100%|██████████| 1.12G/1.12G [00:40<00:00, 29.7MB/s]"
          ]
        },
        {
          "output_type": "stream",
          "name": "stdout",
          "text": [
            "2024-11-04 03:44:04,205 copying /tmp/tmpnlztex0_ to cache at /root/.flair/embeddings/en-fasttext-crawl-300d-1M.vectors.npy\n"
          ]
        },
        {
          "output_type": "stream",
          "name": "stderr",
          "text": [
            "\n"
          ]
        },
        {
          "output_type": "stream",
          "name": "stdout",
          "text": [
            "2024-11-04 03:44:11,663 removing temp file /tmp/tmpnlztex0_\n",
            "2024-11-04 03:44:12,177 https://flair.informatik.hu-berlin.de/resources/embeddings/token/en-fasttext-crawl-300d-1M not found in cache, downloading to /tmp/tmpw72e7loh\n"
          ]
        },
        {
          "output_type": "stream",
          "name": "stderr",
          "text": [
            "100%|██████████| 37.5M/37.5M [00:01<00:00, 28.2MB/s]"
          ]
        },
        {
          "output_type": "stream",
          "name": "stdout",
          "text": [
            "2024-11-04 03:44:13,843 copying /tmp/tmpw72e7loh to cache at /root/.flair/embeddings/en-fasttext-crawl-300d-1M\n"
          ]
        },
        {
          "output_type": "stream",
          "name": "stderr",
          "text": [
            "\n"
          ]
        },
        {
          "output_type": "stream",
          "name": "stdout",
          "text": [
            "2024-11-04 03:44:13,943 removing temp file /tmp/tmpw72e7loh\n",
            "2024-11-04 03:44:30,170 SequenceTagger predicts: Dictionary with 45 tags: O, S-SKILL, B-SKILL, E-SKILL, I-SKILL, S-JOB, B-JOB, E-JOB, I-JOB, S-WORK, B-WORK, E-WORK, I-WORK, S-COMPANY, B-COMPANY, E-COMPANY, I-COMPANY, S-LOC, B-LOC, E-LOC, I-LOC, S-UNI, B-UNI, E-UNI, I-UNI, S-DEG, B-DEG, E-DEG, I-DEG, S-NAME, B-NAME, E-NAME, I-NAME, S-STUDY, B-STUDY, E-STUDY, I-STUDY, S-PHONE, B-PHONE, E-PHONE, I-PHONE, S-EMAIL, B-EMAIL, E-EMAIL, I-EMAIL\n"
          ]
        }
      ]
    },
    {
      "cell_type": "code",
      "source": [
        "# train flair ner model\n",
        "from flair.trainers import ModelTrainer\n",
        "from flair.training_utils import EvaluationMetric\n",
        "\n",
        "trainer = ModelTrainer(tagger, corpus)\n",
        "\n",
        "trainer.train(\n",
        "    base_path='flair_output/',\n",
        "    learning_rate=0.01,\n",
        "    mini_batch_size=8,\n",
        "    max_epochs=10,\n",
        "    patience=3,\n",
        "    embeddings_storage_mode='gpu',\n",
        "    use_amp=True,  # Use mixed precision training\n",
        "    train_with_dev=False\n",
        ")\n",
        "!cp -r ./flair_output /content/drive/MyDrive/FYP/Implementation/"
      ],
      "metadata": {
        "id": "XbuJ4VjCnoPU",
        "colab": {
          "base_uri": "https://localhost:8080/"
        },
        "outputId": "e51d21b8-0d75-4b47-b014-d97b0a2c852f"
      },
      "id": "XbuJ4VjCnoPU",
      "execution_count": 10,
      "outputs": [
        {
          "output_type": "stream",
          "name": "stdout",
          "text": [
            "2024-11-04 03:44:34,955 ----------------------------------------------------------------------------------------------------\n",
            "2024-11-04 03:44:34,958 Model: \"SequenceTagger(\n",
            "  (embeddings): StackedEmbeddings(\n",
            "    (list_embedding_0): WordEmbeddings(\n",
            "      'glove'\n",
            "      (embedding): Embedding(400001, 100)\n",
            "    )\n",
            "    (list_embedding_1): WordEmbeddings(\n",
            "      'en-crawl'\n",
            "      (embedding): Embedding(1000001, 300)\n",
            "    )\n",
            "  )\n",
            "  (word_dropout): WordDropout(p=0.05)\n",
            "  (locked_dropout): LockedDropout(p=0.5)\n",
            "  (embedding2nn): Linear(in_features=400, out_features=400, bias=True)\n",
            "  (rnn): LSTM(400, 256, batch_first=True, bidirectional=True)\n",
            "  (linear): Linear(in_features=512, out_features=47, bias=True)\n",
            "  (loss_function): ViterbiLoss()\n",
            "  (crf): CRF()\n",
            ")\"\n",
            "2024-11-04 03:44:34,960 ----------------------------------------------------------------------------------------------------\n",
            "2024-11-04 03:44:34,963 Corpus: 121 train + 14 dev + 34 test sentences\n",
            "2024-11-04 03:44:34,965 ----------------------------------------------------------------------------------------------------\n",
            "2024-11-04 03:44:34,967 Train:  121 sentences\n",
            "2024-11-04 03:44:34,968         (train_with_dev=False, train_with_test=False)\n",
            "2024-11-04 03:44:34,969 ----------------------------------------------------------------------------------------------------\n",
            "2024-11-04 03:44:34,970 Training Params:\n",
            "2024-11-04 03:44:34,971  - learning_rate: \"0.01\" \n",
            "2024-11-04 03:44:34,972  - mini_batch_size: \"8\"\n",
            "2024-11-04 03:44:34,973  - max_epochs: \"10\"\n",
            "2024-11-04 03:44:34,974  - shuffle: \"True\"\n",
            "2024-11-04 03:44:34,975 ----------------------------------------------------------------------------------------------------\n",
            "2024-11-04 03:44:34,976 Plugins:\n",
            "2024-11-04 03:44:34,981  - AnnealOnPlateau | patience: '3', anneal_factor: '0.5', min_learning_rate: '0.0001'\n",
            "2024-11-04 03:44:34,982 ----------------------------------------------------------------------------------------------------\n",
            "2024-11-04 03:44:34,983 Final evaluation on model from best epoch (best-model.pt)\n",
            "2024-11-04 03:44:34,985  - metric: \"('micro avg', 'f1-score')\"\n",
            "2024-11-04 03:44:34,986 ----------------------------------------------------------------------------------------------------\n",
            "2024-11-04 03:44:34,987 Computation:\n",
            "2024-11-04 03:44:34,988  - compute on device: cpu\n",
            "2024-11-04 03:44:34,989  - embedding storage: gpu\n",
            "2024-11-04 03:44:34,990 ----------------------------------------------------------------------------------------------------\n",
            "2024-11-04 03:44:34,991 Model training base path: \"flair_output\"\n",
            "2024-11-04 03:44:34,992 ----------------------------------------------------------------------------------------------------\n",
            "2024-11-04 03:44:34,993 ----------------------------------------------------------------------------------------------------\n"
          ]
        },
        {
          "output_type": "stream",
          "name": "stderr",
          "text": [
            "/usr/local/lib/python3.10/dist-packages/flair/trainers/trainer.py:499: FutureWarning: `torch.cuda.amp.GradScaler(args...)` is deprecated. Please use `torch.amp.GradScaler('cuda', args...)` instead.\n",
            "  scaler = torch.cuda.amp.GradScaler(enabled=use_amp and flair.device.type != \"cpu\")\n"
          ]
        },
        {
          "output_type": "stream",
          "name": "stdout",
          "text": [
            "2024-11-04 03:47:02,787 epoch 1 - iter 1/16 - loss 4.24561175 - time (sec): 147.79 - samples/sec: 23.13 - lr: 0.010000 - momentum: 0.000000\n",
            "2024-11-04 03:48:49,058 epoch 1 - iter 2/16 - loss 4.20385731 - time (sec): 254.06 - samples/sec: 25.87 - lr: 0.010000 - momentum: 0.000000\n",
            "2024-11-04 03:50:17,005 epoch 1 - iter 3/16 - loss 4.15725253 - time (sec): 342.01 - samples/sec: 31.12 - lr: 0.010000 - momentum: 0.000000\n",
            "2024-11-04 03:53:45,371 epoch 1 - iter 4/16 - loss 4.11750967 - time (sec): 550.38 - samples/sec: 27.91 - lr: 0.010000 - momentum: 0.000000\n",
            "2024-11-04 03:56:21,927 epoch 1 - iter 5/16 - loss 4.08077179 - time (sec): 706.93 - samples/sec: 28.71 - lr: 0.010000 - momentum: 0.000000\n",
            "2024-11-04 03:58:18,277 epoch 1 - iter 6/16 - loss 4.05052744 - time (sec): 823.28 - samples/sec: 28.35 - lr: 0.010000 - momentum: 0.000000\n",
            "2024-11-04 03:59:50,855 epoch 1 - iter 7/16 - loss 4.02122733 - time (sec): 915.86 - samples/sec: 29.17 - lr: 0.010000 - momentum: 0.000000\n",
            "2024-11-04 04:01:21,229 epoch 1 - iter 8/16 - loss 3.98372133 - time (sec): 1006.23 - samples/sec: 30.29 - lr: 0.010000 - momentum: 0.000000\n",
            "2024-11-04 04:02:59,650 epoch 1 - iter 9/16 - loss 3.94492997 - time (sec): 1104.66 - samples/sec: 31.22 - lr: 0.010000 - momentum: 0.000000\n",
            "2024-11-04 04:04:22,074 epoch 1 - iter 10/16 - loss 3.90914469 - time (sec): 1187.08 - samples/sec: 31.94 - lr: 0.010000 - momentum: 0.000000\n",
            "2024-11-04 04:07:57,552 epoch 1 - iter 11/16 - loss 3.87160543 - time (sec): 1402.56 - samples/sec: 29.73 - lr: 0.010000 - momentum: 0.000000\n",
            "2024-11-04 04:10:14,821 epoch 1 - iter 12/16 - loss 3.82592723 - time (sec): 1539.83 - samples/sec: 29.79 - lr: 0.010000 - momentum: 0.000000\n",
            "2024-11-04 04:11:26,137 epoch 1 - iter 13/16 - loss 3.79552738 - time (sec): 1611.14 - samples/sec: 30.40 - lr: 0.010000 - momentum: 0.000000\n",
            "2024-11-04 04:14:33,996 epoch 1 - iter 14/16 - loss 3.74334127 - time (sec): 1799.00 - samples/sec: 29.88 - lr: 0.010000 - momentum: 0.000000\n",
            "2024-11-04 04:17:04,323 epoch 1 - iter 15/16 - loss 3.70760045 - time (sec): 1949.33 - samples/sec: 29.50 - lr: 0.010000 - momentum: 0.000000\n",
            "2024-11-04 04:17:10,773 epoch 1 - iter 16/16 - loss 3.70020700 - time (sec): 1955.78 - samples/sec: 29.79 - lr: 0.010000 - momentum: 0.000000\n",
            "2024-11-04 04:17:10,780 ----------------------------------------------------------------------------------------------------\n",
            "2024-11-04 04:17:10,784 EPOCH 1 done: loss 3.7002 - lr: 0.010000\n"
          ]
        },
        {
          "output_type": "stream",
          "name": "stderr",
          "text": [
            "100%|██████████| 1/1 [00:08<00:00,  8.94s/it]"
          ]
        },
        {
          "output_type": "stream",
          "name": "stdout",
          "text": [
            "2024-11-04 04:17:19,816 DEV : loss 2.886380195617676 - f1-score (micro avg)  0.0037\n",
            "2024-11-04 04:17:19,822  - 0 epochs without improvement\n",
            "2024-11-04 04:17:19,824 saving best model\n"
          ]
        },
        {
          "output_type": "stream",
          "name": "stderr",
          "text": [
            "\n"
          ]
        },
        {
          "output_type": "stream",
          "name": "stdout",
          "text": [
            "2024-11-04 04:17:42,758 ----------------------------------------------------------------------------------------------------\n",
            "2024-11-04 04:21:02,429 epoch 2 - iter 1/16 - loss 2.89675857 - time (sec): 199.67 - samples/sec: 19.12 - lr: 0.010000 - momentum: 0.000000\n",
            "2024-11-04 04:23:38,384 epoch 2 - iter 2/16 - loss 2.91259884 - time (sec): 355.62 - samples/sec: 21.97 - lr: 0.010000 - momentum: 0.000000\n",
            "2024-11-04 04:25:46,286 epoch 2 - iter 3/16 - loss 2.86567103 - time (sec): 483.52 - samples/sec: 24.84 - lr: 0.010000 - momentum: 0.000000\n",
            "2024-11-04 04:28:53,423 epoch 2 - iter 4/16 - loss 2.80089506 - time (sec): 670.66 - samples/sec: 24.35 - lr: 0.010000 - momentum: 0.000000\n",
            "2024-11-04 04:30:27,773 epoch 2 - iter 5/16 - loss 2.77513204 - time (sec): 765.01 - samples/sec: 26.80 - lr: 0.010000 - momentum: 0.000000\n",
            "2024-11-04 04:32:58,456 epoch 2 - iter 6/16 - loss 2.73163978 - time (sec): 915.69 - samples/sec: 27.65 - lr: 0.010000 - momentum: 0.000000\n",
            "2024-11-04 04:33:40,963 epoch 2 - iter 7/16 - loss 2.68669300 - time (sec): 958.20 - samples/sec: 29.28 - lr: 0.010000 - momentum: 0.000000\n",
            "2024-11-04 04:34:39,068 epoch 2 - iter 8/16 - loss 2.65700377 - time (sec): 1016.31 - samples/sec: 31.02 - lr: 0.010000 - momentum: 0.000000\n",
            "2024-11-04 04:35:45,072 epoch 2 - iter 9/16 - loss 2.61636673 - time (sec): 1082.31 - samples/sec: 31.92 - lr: 0.010000 - momentum: 0.000000\n",
            "2024-11-04 04:37:49,199 epoch 2 - iter 10/16 - loss 2.56762966 - time (sec): 1206.44 - samples/sec: 32.52 - lr: 0.010000 - momentum: 0.000000\n",
            "2024-11-04 04:38:51,269 epoch 2 - iter 11/16 - loss 2.51817675 - time (sec): 1268.51 - samples/sec: 33.36 - lr: 0.010000 - momentum: 0.000000\n",
            "2024-11-04 04:39:27,611 epoch 2 - iter 12/16 - loss 2.49874818 - time (sec): 1304.85 - samples/sec: 34.33 - lr: 0.010000 - momentum: 0.000000\n",
            "2024-11-04 04:43:56,284 epoch 2 - iter 13/16 - loss 2.38380169 - time (sec): 1573.52 - samples/sec: 32.52 - lr: 0.010000 - momentum: 0.000000\n",
            "2024-11-04 04:46:22,666 epoch 2 - iter 14/16 - loss 2.34284547 - time (sec): 1719.90 - samples/sec: 31.86 - lr: 0.010000 - momentum: 0.000000\n",
            "2024-11-04 04:47:18,462 epoch 2 - iter 15/16 - loss 2.30199997 - time (sec): 1775.70 - samples/sec: 32.60 - lr: 0.010000 - momentum: 0.000000\n",
            "2024-11-04 04:47:21,365 epoch 2 - iter 16/16 - loss 2.29755394 - time (sec): 1778.60 - samples/sec: 32.76 - lr: 0.010000 - momentum: 0.000000\n",
            "2024-11-04 04:47:21,373 ----------------------------------------------------------------------------------------------------\n",
            "2024-11-04 04:47:21,375 EPOCH 2 done: loss 2.2976 - lr: 0.010000\n"
          ]
        },
        {
          "output_type": "stream",
          "name": "stderr",
          "text": [
            "100%|██████████| 1/1 [00:15<00:00, 15.79s/it]"
          ]
        },
        {
          "output_type": "stream",
          "name": "stdout",
          "text": [
            "2024-11-04 04:47:37,237 DEV : loss 1.163938283920288 - f1-score (micro avg)  0.0078\n",
            "2024-11-04 04:47:37,244  - 0 epochs without improvement\n",
            "2024-11-04 04:47:37,245 saving best model\n"
          ]
        },
        {
          "output_type": "stream",
          "name": "stderr",
          "text": [
            "\n"
          ]
        },
        {
          "output_type": "stream",
          "name": "stdout",
          "text": [
            "2024-11-04 04:47:47,020 ----------------------------------------------------------------------------------------------------\n",
            "2024-11-04 04:50:53,721 epoch 3 - iter 1/16 - loss 1.50359719 - time (sec): 186.70 - samples/sec: 27.96 - lr: 0.010000 - momentum: 0.000000\n",
            "2024-11-04 04:53:04,174 epoch 3 - iter 2/16 - loss 1.47712211 - time (sec): 317.15 - samples/sec: 28.49 - lr: 0.010000 - momentum: 0.000000\n",
            "2024-11-04 04:54:09,718 epoch 3 - iter 3/16 - loss 1.46607596 - time (sec): 382.70 - samples/sec: 30.26 - lr: 0.010000 - momentum: 0.000000\n",
            "2024-11-04 04:54:56,624 epoch 3 - iter 4/16 - loss 1.43397589 - time (sec): 429.60 - samples/sec: 34.06 - lr: 0.010000 - momentum: 0.000000\n",
            "2024-11-04 04:57:36,041 epoch 3 - iter 5/16 - loss 1.31390673 - time (sec): 589.02 - samples/sec: 34.21 - lr: 0.010000 - momentum: 0.000000\n",
            "2024-11-04 05:00:56,546 epoch 3 - iter 6/16 - loss 1.25346770 - time (sec): 789.52 - samples/sec: 31.64 - lr: 0.010000 - momentum: 0.000000\n",
            "2024-11-04 05:04:33,712 epoch 3 - iter 7/16 - loss 1.20098827 - time (sec): 1006.69 - samples/sec: 29.59 - lr: 0.010000 - momentum: 0.000000\n",
            "2024-11-04 05:06:29,531 epoch 3 - iter 8/16 - loss 1.18059196 - time (sec): 1122.51 - samples/sec: 29.93 - lr: 0.010000 - momentum: 0.000000\n",
            "2024-11-04 05:07:13,119 epoch 3 - iter 9/16 - loss 1.17954237 - time (sec): 1166.10 - samples/sec: 31.08 - lr: 0.010000 - momentum: 0.000000\n",
            "2024-11-04 05:09:35,725 epoch 3 - iter 10/16 - loss 1.15098057 - time (sec): 1308.70 - samples/sec: 30.87 - lr: 0.010000 - momentum: 0.000000\n",
            "2024-11-04 05:10:50,953 epoch 3 - iter 11/16 - loss 1.11954679 - time (sec): 1383.93 - samples/sec: 31.87 - lr: 0.010000 - momentum: 0.000000\n",
            "2024-11-04 05:11:50,383 epoch 3 - iter 12/16 - loss 1.10792973 - time (sec): 1443.36 - samples/sec: 32.82 - lr: 0.010000 - momentum: 0.000000\n",
            "2024-11-04 05:12:45,538 epoch 3 - iter 13/16 - loss 1.09751548 - time (sec): 1498.52 - samples/sec: 33.67 - lr: 0.010000 - momentum: 0.000000\n",
            "2024-11-04 05:13:53,913 epoch 3 - iter 14/16 - loss 1.07766007 - time (sec): 1566.89 - samples/sec: 34.36 - lr: 0.010000 - momentum: 0.000000\n",
            "2024-11-04 05:17:37,175 epoch 3 - iter 15/16 - loss 1.06440718 - time (sec): 1790.15 - samples/sec: 32.45 - lr: 0.010000 - momentum: 0.000000\n",
            "2024-11-04 05:17:38,785 epoch 3 - iter 16/16 - loss 1.06633094 - time (sec): 1791.76 - samples/sec: 32.52 - lr: 0.010000 - momentum: 0.000000\n",
            "2024-11-04 05:17:38,788 ----------------------------------------------------------------------------------------------------\n",
            "2024-11-04 05:17:38,794 EPOCH 3 done: loss 1.0663 - lr: 0.010000\n"
          ]
        },
        {
          "output_type": "stream",
          "name": "stderr",
          "text": [
            "100%|██████████| 1/1 [00:15<00:00, 15.41s/it]"
          ]
        },
        {
          "output_type": "stream",
          "name": "stdout",
          "text": [
            "2024-11-04 05:17:54,272 DEV : loss 0.5864046812057495 - f1-score (micro avg)  0.0\n",
            "2024-11-04 05:17:54,278  - 1 epochs without improvement\n",
            "2024-11-04 05:17:54,281 ----------------------------------------------------------------------------------------------------\n"
          ]
        },
        {
          "output_type": "stream",
          "name": "stderr",
          "text": [
            "\n"
          ]
        },
        {
          "output_type": "stream",
          "name": "stdout",
          "text": [
            "2024-11-04 05:19:29,413 epoch 4 - iter 1/16 - loss 0.98883055 - time (sec): 95.13 - samples/sec: 40.29 - lr: 0.010000 - momentum: 0.000000\n",
            "2024-11-04 05:22:30,475 epoch 4 - iter 2/16 - loss 0.93724463 - time (sec): 276.19 - samples/sec: 27.17 - lr: 0.010000 - momentum: 0.000000\n",
            "2024-11-04 05:24:51,202 epoch 4 - iter 3/16 - loss 0.91371509 - time (sec): 416.92 - samples/sec: 25.04 - lr: 0.010000 - momentum: 0.000000\n",
            "2024-11-04 05:27:40,114 epoch 4 - iter 4/16 - loss 0.85623964 - time (sec): 585.83 - samples/sec: 25.61 - lr: 0.010000 - momentum: 0.000000\n",
            "2024-11-04 05:32:04,553 epoch 4 - iter 5/16 - loss 0.79882023 - time (sec): 850.27 - samples/sec: 24.45 - lr: 0.010000 - momentum: 0.000000\n",
            "2024-11-04 05:33:54,838 epoch 4 - iter 6/16 - loss 0.79121752 - time (sec): 960.55 - samples/sec: 25.55 - lr: 0.010000 - momentum: 0.000000\n",
            "2024-11-04 05:35:20,831 epoch 4 - iter 7/16 - loss 0.80159090 - time (sec): 1046.55 - samples/sec: 26.83 - lr: 0.010000 - momentum: 0.000000\n",
            "2024-11-04 05:38:37,619 epoch 4 - iter 8/16 - loss 0.78561155 - time (sec): 1243.33 - samples/sec: 26.08 - lr: 0.010000 - momentum: 0.000000\n",
            "2024-11-04 05:40:07,948 epoch 4 - iter 9/16 - loss 0.78985096 - time (sec): 1333.66 - samples/sec: 27.12 - lr: 0.010000 - momentum: 0.000000\n",
            "2024-11-04 05:42:34,641 epoch 4 - iter 10/16 - loss 0.79792410 - time (sec): 1480.36 - samples/sec: 27.30 - lr: 0.010000 - momentum: 0.000000\n",
            "2024-11-04 05:44:54,729 epoch 4 - iter 11/16 - loss 0.78710313 - time (sec): 1620.44 - samples/sec: 27.78 - lr: 0.010000 - momentum: 0.000000\n",
            "2024-11-04 05:45:57,733 epoch 4 - iter 12/16 - loss 0.78687527 - time (sec): 1683.45 - samples/sec: 28.54 - lr: 0.010000 - momentum: 0.000000\n",
            "2024-11-04 05:47:08,281 epoch 4 - iter 13/16 - loss 0.79232324 - time (sec): 1754.00 - samples/sec: 29.21 - lr: 0.010000 - momentum: 0.000000\n",
            "2024-11-04 05:48:53,722 epoch 4 - iter 14/16 - loss 0.79252325 - time (sec): 1859.44 - samples/sec: 29.53 - lr: 0.010000 - momentum: 0.000000\n",
            "2024-11-04 05:50:08,070 epoch 4 - iter 15/16 - loss 0.79610003 - time (sec): 1933.78 - samples/sec: 29.96 - lr: 0.010000 - momentum: 0.000000\n",
            "2024-11-04 05:50:10,598 epoch 4 - iter 16/16 - loss 0.79834481 - time (sec): 1936.31 - samples/sec: 30.09 - lr: 0.010000 - momentum: 0.000000\n",
            "2024-11-04 05:50:10,606 ----------------------------------------------------------------------------------------------------\n",
            "2024-11-04 05:50:10,608 EPOCH 4 done: loss 0.7983 - lr: 0.010000\n"
          ]
        },
        {
          "output_type": "stream",
          "name": "stderr",
          "text": [
            "100%|██████████| 1/1 [00:14<00:00, 14.96s/it]"
          ]
        },
        {
          "output_type": "stream",
          "name": "stdout",
          "text": [
            "2024-11-04 05:50:25,645 DEV : loss 0.5455049872398376 - f1-score (micro avg)  0.0\n",
            "2024-11-04 05:50:25,653  - 2 epochs without improvement\n",
            "2024-11-04 05:50:25,656 ----------------------------------------------------------------------------------------------------\n"
          ]
        },
        {
          "output_type": "stream",
          "name": "stderr",
          "text": [
            "\n"
          ]
        },
        {
          "output_type": "stream",
          "name": "stdout",
          "text": [
            "2024-11-04 05:54:39,341 epoch 5 - iter 1/16 - loss 0.71861263 - time (sec): 253.68 - samples/sec: 20.29 - lr: 0.010000 - momentum: 0.000000\n",
            "2024-11-04 05:58:16,218 epoch 5 - iter 2/16 - loss 0.72913270 - time (sec): 470.56 - samples/sec: 21.54 - lr: 0.010000 - momentum: 0.000000\n",
            "2024-11-04 05:59:40,410 epoch 5 - iter 3/16 - loss 0.76336280 - time (sec): 554.75 - samples/sec: 23.55 - lr: 0.010000 - momentum: 0.000000\n",
            "2024-11-04 06:01:54,139 epoch 5 - iter 4/16 - loss 0.76852947 - time (sec): 688.48 - samples/sec: 24.81 - lr: 0.010000 - momentum: 0.000000\n",
            "2024-11-04 06:02:50,836 epoch 5 - iter 5/16 - loss 0.77816590 - time (sec): 745.18 - samples/sec: 26.90 - lr: 0.010000 - momentum: 0.000000\n",
            "2024-11-04 06:04:12,603 epoch 5 - iter 6/16 - loss 0.79308266 - time (sec): 826.94 - samples/sec: 28.15 - lr: 0.010000 - momentum: 0.000000\n",
            "2024-11-04 06:06:16,135 epoch 5 - iter 7/16 - loss 0.77413488 - time (sec): 950.48 - samples/sec: 28.64 - lr: 0.010000 - momentum: 0.000000\n",
            "2024-11-04 06:07:26,811 epoch 5 - iter 8/16 - loss 0.77166091 - time (sec): 1021.15 - samples/sec: 29.77 - lr: 0.010000 - momentum: 0.000000\n",
            "2024-11-04 06:10:20,487 epoch 5 - iter 9/16 - loss 0.74426790 - time (sec): 1194.83 - samples/sec: 29.44 - lr: 0.010000 - momentum: 0.000000\n",
            "2024-11-04 06:11:25,907 epoch 5 - iter 10/16 - loss 0.75766887 - time (sec): 1260.25 - samples/sec: 30.21 - lr: 0.010000 - momentum: 0.000000\n",
            "2024-11-04 06:12:12,456 epoch 5 - iter 11/16 - loss 0.76950980 - time (sec): 1306.80 - samples/sec: 31.42 - lr: 0.010000 - momentum: 0.000000\n",
            "2024-11-04 06:15:36,886 epoch 5 - iter 12/16 - loss 0.74952814 - time (sec): 1511.23 - samples/sec: 30.80 - lr: 0.010000 - momentum: 0.000000\n",
            "2024-11-04 06:16:45,386 epoch 5 - iter 13/16 - loss 0.74066099 - time (sec): 1579.73 - samples/sec: 31.68 - lr: 0.010000 - momentum: 0.000000\n",
            "2024-11-04 06:19:08,282 epoch 5 - iter 14/16 - loss 0.74538770 - time (sec): 1722.62 - samples/sec: 31.65 - lr: 0.010000 - momentum: 0.000000\n",
            "2024-11-04 06:20:06,204 epoch 5 - iter 15/16 - loss 0.74292849 - time (sec): 1780.55 - samples/sec: 32.60 - lr: 0.010000 - momentum: 0.000000\n",
            "2024-11-04 06:20:07,849 epoch 5 - iter 16/16 - loss 0.74364070 - time (sec): 1782.19 - samples/sec: 32.69 - lr: 0.010000 - momentum: 0.000000\n",
            "2024-11-04 06:20:07,854 ----------------------------------------------------------------------------------------------------\n",
            "2024-11-04 06:20:07,861 EPOCH 5 done: loss 0.7436 - lr: 0.010000\n"
          ]
        },
        {
          "output_type": "stream",
          "name": "stderr",
          "text": [
            "100%|██████████| 1/1 [00:15<00:00, 15.35s/it]"
          ]
        },
        {
          "output_type": "stream",
          "name": "stdout",
          "text": [
            "2024-11-04 06:20:23,279 DEV : loss 0.5169975161552429 - f1-score (micro avg)  0.0\n",
            "2024-11-04 06:20:23,286  - 3 epochs without improvement\n",
            "2024-11-04 06:20:23,289 ----------------------------------------------------------------------------------------------------\n"
          ]
        },
        {
          "output_type": "stream",
          "name": "stderr",
          "text": [
            "\n"
          ]
        },
        {
          "output_type": "stream",
          "name": "stdout",
          "text": [
            "2024-11-04 06:21:59,676 epoch 6 - iter 1/16 - loss 0.63143510 - time (sec): 96.38 - samples/sec: 42.06 - lr: 0.010000 - momentum: 0.000000\n",
            "2024-11-04 06:24:10,297 epoch 6 - iter 2/16 - loss 0.76523626 - time (sec): 227.00 - samples/sec: 31.42 - lr: 0.010000 - momentum: 0.000000\n",
            "2024-11-04 06:24:56,471 epoch 6 - iter 3/16 - loss 0.78406132 - time (sec): 273.18 - samples/sec: 37.09 - lr: 0.010000 - momentum: 0.000000\n",
            "2024-11-04 06:28:53,591 epoch 6 - iter 4/16 - loss 0.70313423 - time (sec): 510.30 - samples/sec: 30.89 - lr: 0.010000 - momentum: 0.000000\n",
            "2024-11-04 06:31:30,310 epoch 6 - iter 5/16 - loss 0.69418092 - time (sec): 667.02 - samples/sec: 30.84 - lr: 0.010000 - momentum: 0.000000\n",
            "2024-11-04 06:33:05,435 epoch 6 - iter 6/16 - loss 0.67864614 - time (sec): 762.14 - samples/sec: 32.19 - lr: 0.010000 - momentum: 0.000000\n",
            "2024-11-04 06:33:58,896 epoch 6 - iter 7/16 - loss 0.69829059 - time (sec): 815.60 - samples/sec: 33.79 - lr: 0.010000 - momentum: 0.000000\n",
            "2024-11-04 06:36:02,301 epoch 6 - iter 8/16 - loss 0.68430635 - time (sec): 939.01 - samples/sec: 34.76 - lr: 0.010000 - momentum: 0.000000\n",
            "2024-11-04 06:37:14,773 epoch 6 - iter 9/16 - loss 0.68669427 - time (sec): 1011.48 - samples/sec: 35.39 - lr: 0.010000 - momentum: 0.000000\n",
            "2024-11-04 06:37:57,443 epoch 6 - iter 10/16 - loss 0.69641694 - time (sec): 1054.15 - samples/sec: 36.38 - lr: 0.010000 - momentum: 0.000000\n",
            "2024-11-04 06:39:13,615 epoch 6 - iter 11/16 - loss 0.70332339 - time (sec): 1130.32 - samples/sec: 36.23 - lr: 0.010000 - momentum: 0.000000\n",
            "2024-11-04 06:40:35,728 epoch 6 - iter 12/16 - loss 0.72129209 - time (sec): 1212.44 - samples/sec: 36.34 - lr: 0.010000 - momentum: 0.000000\n",
            "2024-11-04 06:44:09,640 epoch 6 - iter 13/16 - loss 0.69322956 - time (sec): 1426.35 - samples/sec: 35.35 - lr: 0.010000 - momentum: 0.000000\n",
            "2024-11-04 06:46:12,288 epoch 6 - iter 14/16 - loss 0.69865442 - time (sec): 1549.00 - samples/sec: 35.08 - lr: 0.010000 - momentum: 0.000000\n",
            "2024-11-04 06:48:17,881 epoch 6 - iter 15/16 - loss 0.70418269 - time (sec): 1674.59 - samples/sec: 34.39 - lr: 0.010000 - momentum: 0.000000\n",
            "2024-11-04 06:48:25,039 epoch 6 - iter 16/16 - loss 0.70107628 - time (sec): 1681.75 - samples/sec: 34.64 - lr: 0.010000 - momentum: 0.000000\n",
            "2024-11-04 06:48:25,046 ----------------------------------------------------------------------------------------------------\n",
            "2024-11-04 06:48:25,057 EPOCH 6 done: loss 0.7011 - lr: 0.010000\n"
          ]
        },
        {
          "output_type": "stream",
          "name": "stderr",
          "text": [
            "100%|██████████| 1/1 [00:16<00:00, 16.29s/it]"
          ]
        },
        {
          "output_type": "stream",
          "name": "stdout",
          "text": [
            "2024-11-04 06:48:41,419 DEV : loss 0.49467983841896057 - f1-score (micro avg)  0.0\n",
            "2024-11-04 06:48:41,427  - 4 epochs without improvement (above 'patience')-> annealing learning_rate to [0.005]\n",
            "2024-11-04 06:48:41,429 ----------------------------------------------------------------------------------------------------\n"
          ]
        },
        {
          "output_type": "stream",
          "name": "stderr",
          "text": [
            "\n"
          ]
        },
        {
          "output_type": "stream",
          "name": "stdout",
          "text": [
            "2024-11-04 06:50:45,131 epoch 7 - iter 1/16 - loss 0.75674191 - time (sec): 123.70 - samples/sec: 33.33 - lr: 0.005000 - momentum: 0.000000\n",
            "2024-11-04 06:53:19,316 epoch 7 - iter 2/16 - loss 0.70952858 - time (sec): 277.88 - samples/sec: 31.51 - lr: 0.005000 - momentum: 0.000000\n",
            "2024-11-04 06:54:23,159 epoch 7 - iter 3/16 - loss 0.67816765 - time (sec): 341.72 - samples/sec: 37.30 - lr: 0.005000 - momentum: 0.000000\n",
            "2024-11-04 06:57:09,859 epoch 7 - iter 4/16 - loss 0.69375058 - time (sec): 508.42 - samples/sec: 31.89 - lr: 0.005000 - momentum: 0.000000\n",
            "2024-11-04 06:58:59,828 epoch 7 - iter 5/16 - loss 0.69965707 - time (sec): 618.39 - samples/sec: 32.32 - lr: 0.005000 - momentum: 0.000000\n",
            "2024-11-04 07:00:01,583 epoch 7 - iter 6/16 - loss 0.70990740 - time (sec): 680.15 - samples/sec: 33.15 - lr: 0.005000 - momentum: 0.000000\n",
            "2024-11-04 07:01:19,336 epoch 7 - iter 7/16 - loss 0.70475105 - time (sec): 757.90 - samples/sec: 34.72 - lr: 0.005000 - momentum: 0.000000\n",
            "2024-11-04 07:05:04,198 epoch 7 - iter 8/16 - loss 0.66333854 - time (sec): 982.76 - samples/sec: 32.53 - lr: 0.005000 - momentum: 0.000000\n",
            "2024-11-04 07:06:31,621 epoch 7 - iter 9/16 - loss 0.65926591 - time (sec): 1070.19 - samples/sec: 33.57 - lr: 0.005000 - momentum: 0.000000\n",
            "2024-11-04 07:07:53,484 epoch 7 - iter 10/16 - loss 0.66870265 - time (sec): 1152.05 - samples/sec: 34.07 - lr: 0.005000 - momentum: 0.000000\n",
            "2024-11-04 07:09:17,705 epoch 7 - iter 11/16 - loss 0.67279899 - time (sec): 1236.27 - samples/sec: 34.13 - lr: 0.005000 - momentum: 0.000000\n",
            "2024-11-04 07:13:24,055 epoch 7 - iter 12/16 - loss 0.66166955 - time (sec): 1482.62 - samples/sec: 31.98 - lr: 0.005000 - momentum: 0.000000\n",
            "2024-11-04 07:14:42,944 epoch 7 - iter 13/16 - loss 0.66256018 - time (sec): 1561.51 - samples/sec: 32.38 - lr: 0.005000 - momentum: 0.000000\n",
            "2024-11-04 07:15:35,766 epoch 7 - iter 14/16 - loss 0.67537584 - time (sec): 1614.33 - samples/sec: 33.00 - lr: 0.005000 - momentum: 0.000000\n",
            "2024-11-04 07:18:32,680 epoch 7 - iter 15/16 - loss 0.67374241 - time (sec): 1791.25 - samples/sec: 32.40 - lr: 0.005000 - momentum: 0.000000\n",
            "2024-11-04 07:18:34,869 epoch 7 - iter 16/16 - loss 0.67610203 - time (sec): 1793.43 - samples/sec: 32.49 - lr: 0.005000 - momentum: 0.000000\n",
            "2024-11-04 07:18:34,873 ----------------------------------------------------------------------------------------------------\n",
            "2024-11-04 07:18:34,876 EPOCH 7 done: loss 0.6761 - lr: 0.005000\n"
          ]
        },
        {
          "output_type": "stream",
          "name": "stderr",
          "text": [
            "100%|██████████| 1/1 [00:15<00:00, 15.98s/it]"
          ]
        },
        {
          "output_type": "stream",
          "name": "stdout",
          "text": [
            "2024-11-04 07:18:50,925 DEV : loss 0.48347175121307373 - f1-score (micro avg)  0.0\n",
            "2024-11-04 07:18:50,933  - 1 epochs without improvement\n",
            "2024-11-04 07:18:50,935 ----------------------------------------------------------------------------------------------------\n"
          ]
        },
        {
          "output_type": "stream",
          "name": "stderr",
          "text": [
            "\n"
          ]
        },
        {
          "output_type": "stream",
          "name": "stdout",
          "text": [
            "2024-11-04 07:22:58,734 epoch 8 - iter 1/16 - loss 0.51902622 - time (sec): 247.80 - samples/sec: 21.05 - lr: 0.005000 - momentum: 0.000000\n",
            "2024-11-04 07:25:30,332 epoch 8 - iter 2/16 - loss 0.59302905 - time (sec): 399.39 - samples/sec: 25.09 - lr: 0.005000 - momentum: 0.000000\n",
            "2024-11-04 07:27:02,967 epoch 8 - iter 3/16 - loss 0.62644386 - time (sec): 492.03 - samples/sec: 28.47 - lr: 0.005000 - momentum: 0.000000\n",
            "2024-11-04 07:28:05,828 epoch 8 - iter 4/16 - loss 0.66745544 - time (sec): 554.89 - samples/sec: 30.20 - lr: 0.005000 - momentum: 0.000000\n",
            "2024-11-04 07:30:39,141 epoch 8 - iter 5/16 - loss 0.67267907 - time (sec): 708.20 - samples/sec: 28.98 - lr: 0.005000 - momentum: 0.000000\n",
            "2024-11-04 07:31:20,276 epoch 8 - iter 6/16 - loss 0.70610005 - time (sec): 749.34 - samples/sec: 30.80 - lr: 0.005000 - momentum: 0.000000\n",
            "2024-11-04 07:35:05,544 epoch 8 - iter 7/16 - loss 0.67071468 - time (sec): 974.60 - samples/sec: 30.20 - lr: 0.005000 - momentum: 0.000000\n",
            "2024-11-04 07:36:37,549 epoch 8 - iter 8/16 - loss 0.66200052 - time (sec): 1066.61 - samples/sec: 31.24 - lr: 0.005000 - momentum: 0.000000\n",
            "2024-11-04 07:40:09,250 epoch 8 - iter 9/16 - loss 0.64866859 - time (sec): 1278.31 - samples/sec: 29.92 - lr: 0.005000 - momentum: 0.000000\n",
            "2024-11-04 07:40:57,095 epoch 8 - iter 10/16 - loss 0.65481734 - time (sec): 1326.16 - samples/sec: 30.79 - lr: 0.005000 - momentum: 0.000000\n",
            "2024-11-04 07:41:41,445 epoch 8 - iter 11/16 - loss 0.66582133 - time (sec): 1370.51 - samples/sec: 31.95 - lr: 0.005000 - momentum: 0.000000\n",
            "2024-11-04 07:44:11,483 epoch 8 - iter 12/16 - loss 0.66240147 - time (sec): 1520.54 - samples/sec: 31.38 - lr: 0.005000 - momentum: 0.000000\n",
            "2024-11-04 07:44:51,723 epoch 8 - iter 13/16 - loss 0.66966329 - time (sec): 1560.78 - samples/sec: 32.04 - lr: 0.005000 - momentum: 0.000000\n",
            "2024-11-04 07:47:03,470 epoch 8 - iter 14/16 - loss 0.66595078 - time (sec): 1692.53 - samples/sec: 32.17 - lr: 0.005000 - momentum: 0.000000\n",
            "2024-11-04 07:48:10,516 epoch 8 - iter 15/16 - loss 0.66080542 - time (sec): 1759.58 - samples/sec: 32.86 - lr: 0.005000 - momentum: 0.000000\n",
            "2024-11-04 07:48:15,407 epoch 8 - iter 16/16 - loss 0.66179255 - time (sec): 1764.47 - samples/sec: 33.02 - lr: 0.005000 - momentum: 0.000000\n",
            "2024-11-04 07:48:15,421 ----------------------------------------------------------------------------------------------------\n",
            "2024-11-04 07:48:15,424 EPOCH 8 done: loss 0.6618 - lr: 0.005000\n"
          ]
        },
        {
          "output_type": "stream",
          "name": "stderr",
          "text": [
            "100%|██████████| 1/1 [00:16<00:00, 16.63s/it]"
          ]
        },
        {
          "output_type": "stream",
          "name": "stdout",
          "text": [
            "2024-11-04 07:48:32,122 DEV : loss 0.4754562973976135 - f1-score (micro avg)  0.0\n",
            "2024-11-04 07:48:32,128  - 2 epochs without improvement\n",
            "2024-11-04 07:48:32,130 ----------------------------------------------------------------------------------------------------\n"
          ]
        },
        {
          "output_type": "stream",
          "name": "stderr",
          "text": [
            "\n"
          ]
        },
        {
          "output_type": "stream",
          "name": "stdout",
          "text": [
            "2024-11-04 07:50:54,733 epoch 9 - iter 1/16 - loss 0.78217304 - time (sec): 142.60 - samples/sec: 21.88 - lr: 0.005000 - momentum: 0.000000\n",
            "2024-11-04 07:52:25,148 epoch 9 - iter 2/16 - loss 0.74886855 - time (sec): 233.01 - samples/sec: 28.30 - lr: 0.005000 - momentum: 0.000000\n",
            "2024-11-04 07:55:22,652 epoch 9 - iter 3/16 - loss 0.68635746 - time (sec): 410.52 - samples/sec: 28.21 - lr: 0.005000 - momentum: 0.000000\n",
            "2024-11-04 07:57:41,884 epoch 9 - iter 4/16 - loss 0.69577857 - time (sec): 549.75 - samples/sec: 28.19 - lr: 0.005000 - momentum: 0.000000\n",
            "2024-11-04 07:58:27,495 epoch 9 - iter 5/16 - loss 0.70221662 - time (sec): 595.36 - samples/sec: 30.96 - lr: 0.005000 - momentum: 0.000000\n",
            "2024-11-04 07:59:52,798 epoch 9 - iter 6/16 - loss 0.69123685 - time (sec): 680.66 - samples/sec: 31.51 - lr: 0.005000 - momentum: 0.000000\n",
            "2024-11-04 08:00:45,360 epoch 9 - iter 7/16 - loss 0.69256631 - time (sec): 733.23 - samples/sec: 33.94 - lr: 0.005000 - momentum: 0.000000\n",
            "2024-11-04 08:02:58,574 epoch 9 - iter 8/16 - loss 0.67327734 - time (sec): 866.44 - samples/sec: 33.52 - lr: 0.005000 - momentum: 0.000000\n",
            "2024-11-04 08:05:07,560 epoch 9 - iter 9/16 - loss 0.66530077 - time (sec): 995.43 - samples/sec: 33.83 - lr: 0.005000 - momentum: 0.000000\n",
            "2024-11-04 08:06:14,392 epoch 9 - iter 10/16 - loss 0.66363072 - time (sec): 1062.26 - samples/sec: 34.57 - lr: 0.005000 - momentum: 0.000000\n",
            "2024-11-04 08:08:15,541 epoch 9 - iter 11/16 - loss 0.66792674 - time (sec): 1183.41 - samples/sec: 34.08 - lr: 0.005000 - momentum: 0.000000\n",
            "2024-11-04 08:11:55,672 epoch 9 - iter 12/16 - loss 0.66514366 - time (sec): 1403.54 - samples/sec: 31.46 - lr: 0.005000 - momentum: 0.000000\n",
            "2024-11-04 08:15:29,279 epoch 9 - iter 13/16 - loss 0.65455999 - time (sec): 1617.15 - samples/sec: 30.38 - lr: 0.005000 - momentum: 0.000000\n",
            "2024-11-04 08:18:49,788 epoch 9 - iter 14/16 - loss 0.65031070 - time (sec): 1817.65 - samples/sec: 29.89 - lr: 0.005000 - momentum: 0.000000\n",
            "2024-11-04 08:20:17,678 epoch 9 - iter 15/16 - loss 0.64841707 - time (sec): 1905.54 - samples/sec: 30.23 - lr: 0.005000 - momentum: 0.000000\n",
            "2024-11-04 08:20:23,527 epoch 9 - iter 16/16 - loss 0.64789931 - time (sec): 1911.39 - samples/sec: 30.48 - lr: 0.005000 - momentum: 0.000000\n",
            "2024-11-04 08:20:23,536 ----------------------------------------------------------------------------------------------------\n",
            "2024-11-04 08:20:23,541 EPOCH 9 done: loss 0.6479 - lr: 0.005000\n"
          ]
        },
        {
          "output_type": "stream",
          "name": "stderr",
          "text": [
            "100%|██████████| 1/1 [00:15<00:00, 15.86s/it]"
          ]
        },
        {
          "output_type": "stream",
          "name": "stdout",
          "text": [
            "2024-11-04 08:20:39,491 DEV : loss 0.4680645763874054 - f1-score (micro avg)  0.0\n",
            "2024-11-04 08:20:39,501  - 3 epochs without improvement\n",
            "2024-11-04 08:20:39,507 ----------------------------------------------------------------------------------------------------\n"
          ]
        },
        {
          "output_type": "stream",
          "name": "stderr",
          "text": [
            "\n"
          ]
        },
        {
          "output_type": "stream",
          "name": "stdout",
          "text": [
            "2024-11-04 08:21:33,273 epoch 10 - iter 1/16 - loss 0.72782728 - time (sec): 53.76 - samples/sec: 55.02 - lr: 0.005000 - momentum: 0.000000\n",
            "2024-11-04 08:23:22,337 epoch 10 - iter 2/16 - loss 0.70125997 - time (sec): 162.83 - samples/sec: 42.01 - lr: 0.005000 - momentum: 0.000000\n",
            "2024-11-04 08:25:01,589 epoch 10 - iter 3/16 - loss 0.65062039 - time (sec): 262.08 - samples/sec: 43.41 - lr: 0.005000 - momentum: 0.000000\n",
            "2024-11-04 08:26:28,776 epoch 10 - iter 4/16 - loss 0.66973686 - time (sec): 349.27 - samples/sec: 42.63 - lr: 0.005000 - momentum: 0.000000\n",
            "2024-11-04 08:28:34,221 epoch 10 - iter 5/16 - loss 0.66638529 - time (sec): 474.71 - samples/sec: 37.91 - lr: 0.005000 - momentum: 0.000000\n",
            "2024-11-04 08:29:42,935 epoch 10 - iter 6/16 - loss 0.67775553 - time (sec): 543.42 - samples/sec: 39.16 - lr: 0.005000 - momentum: 0.000000\n",
            "2024-11-04 08:32:43,317 epoch 10 - iter 7/16 - loss 0.68461235 - time (sec): 723.81 - samples/sec: 35.14 - lr: 0.005000 - momentum: 0.000000\n",
            "2024-11-04 08:35:11,241 epoch 10 - iter 8/16 - loss 0.67463590 - time (sec): 871.73 - samples/sec: 34.96 - lr: 0.005000 - momentum: 0.000000\n",
            "2024-11-04 08:36:20,851 epoch 10 - iter 9/16 - loss 0.66261884 - time (sec): 941.34 - samples/sec: 36.29 - lr: 0.005000 - momentum: 0.000000\n",
            "2024-11-04 08:37:27,918 epoch 10 - iter 10/16 - loss 0.67017282 - time (sec): 1008.41 - samples/sec: 37.10 - lr: 0.005000 - momentum: 0.000000\n",
            "2024-11-04 08:38:27,624 epoch 10 - iter 11/16 - loss 0.67024588 - time (sec): 1068.11 - samples/sec: 38.26 - lr: 0.005000 - momentum: 0.000000\n",
            "2024-11-04 08:40:28,238 epoch 10 - iter 12/16 - loss 0.66287083 - time (sec): 1188.73 - samples/sec: 36.87 - lr: 0.005000 - momentum: 0.000000\n",
            "2024-11-04 08:44:34,214 epoch 10 - iter 13/16 - loss 0.65192249 - time (sec): 1434.70 - samples/sec: 34.08 - lr: 0.005000 - momentum: 0.000000\n",
            "2024-11-04 08:47:09,184 epoch 10 - iter 14/16 - loss 0.64470057 - time (sec): 1589.67 - samples/sec: 33.44 - lr: 0.005000 - momentum: 0.000000\n",
            "2024-11-04 08:49:58,582 epoch 10 - iter 15/16 - loss 0.63927053 - time (sec): 1759.07 - samples/sec: 32.70 - lr: 0.005000 - momentum: 0.000000\n",
            "2024-11-04 08:50:05,406 epoch 10 - iter 16/16 - loss 0.63513644 - time (sec): 1765.90 - samples/sec: 32.99 - lr: 0.005000 - momentum: 0.000000\n",
            "2024-11-04 08:50:05,413 ----------------------------------------------------------------------------------------------------\n",
            "2024-11-04 08:50:05,418 EPOCH 10 done: loss 0.6351 - lr: 0.005000\n"
          ]
        },
        {
          "output_type": "stream",
          "name": "stderr",
          "text": [
            "100%|██████████| 1/1 [00:15<00:00, 15.69s/it]"
          ]
        },
        {
          "output_type": "stream",
          "name": "stdout",
          "text": [
            "2024-11-04 08:50:21,191 DEV : loss 0.4630123972892761 - f1-score (micro avg)  0.0\n",
            "2024-11-04 08:50:21,199  - 4 epochs without improvement (above 'patience')-> annealing learning_rate to [0.0025]\n"
          ]
        },
        {
          "output_type": "stream",
          "name": "stderr",
          "text": [
            "\n"
          ]
        },
        {
          "output_type": "stream",
          "name": "stdout",
          "text": [
            "2024-11-04 08:50:43,503 ----------------------------------------------------------------------------------------------------\n",
            "2024-11-04 08:50:43,507 Loading model from best epoch ...\n",
            "2024-11-04 08:51:02,154 SequenceTagger predicts: Dictionary with 47 tags: O, S-SKILL, B-SKILL, E-SKILL, I-SKILL, S-JOB, B-JOB, E-JOB, I-JOB, S-WORK, B-WORK, E-WORK, I-WORK, S-COMPANY, B-COMPANY, E-COMPANY, I-COMPANY, S-LOC, B-LOC, E-LOC, I-LOC, S-UNI, B-UNI, E-UNI, I-UNI, S-DEG, B-DEG, E-DEG, I-DEG, S-NAME, B-NAME, E-NAME, I-NAME, S-STUDY, B-STUDY, E-STUDY, I-STUDY, S-PHONE, B-PHONE, E-PHONE, I-PHONE, S-EMAIL, B-EMAIL, E-EMAIL, I-EMAIL, <START>, <STOP>\n"
          ]
        },
        {
          "output_type": "stream",
          "name": "stderr",
          "text": [
            "100%|██████████| 1/1 [00:06<00:00,  6.83s/it]"
          ]
        },
        {
          "output_type": "stream",
          "name": "stdout",
          "text": [
            "2024-11-04 08:51:09,844 \n",
            "Results:\n",
            "- F-score (micro) 0.0098\n",
            "- F-score (macro) 0.002\n",
            "- Accuracy 0.0052\n",
            "\n",
            "By class:\n",
            "              precision    recall  f1-score   support\n",
            "\n",
            "         LOC     0.0114    0.2439    0.0217        41\n",
            "       SKILL     0.0000    0.0000    0.0000       587\n",
            "         JOB     0.0000    0.0000    0.0000       111\n",
            "     COMPANY     0.0000    0.0000    0.0000        74\n",
            "        WORK     0.0000    0.0000    0.0000       100\n",
            "       PHONE     0.0000    0.0000    0.0000        31\n",
            "         UNI     0.0000    0.0000    0.0000        41\n",
            "       STUDY     0.0000    0.0000    0.0000        36\n",
            "         DEG     0.0000    0.0000    0.0000        36\n",
            "        NAME     0.0000    0.0000    0.0000        33\n",
            "       EMAIL     0.0000    0.0000    0.0000        20\n",
            "\n",
            "   micro avg     0.0107    0.0090    0.0098      1110\n",
            "   macro avg     0.0010    0.0222    0.0020      1110\n",
            "weighted avg     0.0004    0.0090    0.0008      1110\n",
            "\n",
            "2024-11-04 08:51:09,845 ----------------------------------------------------------------------------------------------------\n"
          ]
        },
        {
          "output_type": "stream",
          "name": "stderr",
          "text": [
            "\n"
          ]
        }
      ]
    },
    {
      "cell_type": "code",
      "source": [
        "# evaluate model\n",
        "from flair.data import Corpus\n",
        "from flair.datasets import ColumnCorpus\n",
        "from flair.models import SequenceTagger\n",
        "from flair.trainers import ModelTrainer\n",
        "\n",
        "# Load the trained model\n",
        "model = SequenceTagger.load('/content/drive/MyDrive/FYP/Implementation/flair_output/best-model.pt')\n",
        "\n",
        "# Evaluate the model on the test set\n",
        "result = model.evaluate(corpus.test, gold_label_type='ner', mini_batch_size=32)\n",
        "\n",
        "# Print the results\n",
        "# print(\"Evaluation Loss:\", eval_loss)\n",
        "print(result.detailed_results)  # print the precision, recall, and F1-score per entity type"
      ],
      "metadata": {
        "id": "6KT8wj3Lns2c",
        "colab": {
          "base_uri": "https://localhost:8080/"
        },
        "outputId": "97ed7916-4c96-4ddc-d796-ee617c789b21"
      },
      "id": "6KT8wj3Lns2c",
      "execution_count": 11,
      "outputs": [
        {
          "output_type": "stream",
          "name": "stdout",
          "text": [
            "2024-11-04 08:53:14,438 SequenceTagger predicts: Dictionary with 47 tags: O, S-SKILL, B-SKILL, E-SKILL, I-SKILL, S-JOB, B-JOB, E-JOB, I-JOB, S-WORK, B-WORK, E-WORK, I-WORK, S-COMPANY, B-COMPANY, E-COMPANY, I-COMPANY, S-LOC, B-LOC, E-LOC, I-LOC, S-UNI, B-UNI, E-UNI, I-UNI, S-DEG, B-DEG, E-DEG, I-DEG, S-NAME, B-NAME, E-NAME, I-NAME, S-STUDY, B-STUDY, E-STUDY, I-STUDY, S-PHONE, B-PHONE, E-PHONE, I-PHONE, S-EMAIL, B-EMAIL, E-EMAIL, I-EMAIL, <START>, <STOP>\n"
          ]
        },
        {
          "output_type": "stream",
          "name": "stderr",
          "text": [
            "100%|██████████| 2/2 [00:09<00:00,  4.79s/it]"
          ]
        },
        {
          "output_type": "stream",
          "name": "stdout",
          "text": [
            "\n",
            "Results:\n",
            "- F-score (micro) 0.0098\n",
            "- F-score (macro) 0.002\n",
            "- Accuracy 0.0052\n",
            "\n",
            "By class:\n",
            "              precision    recall  f1-score   support\n",
            "\n",
            "         LOC     0.0114    0.2439    0.0217        41\n",
            "       SKILL     0.0000    0.0000    0.0000       587\n",
            "         JOB     0.0000    0.0000    0.0000       111\n",
            "     COMPANY     0.0000    0.0000    0.0000        74\n",
            "        WORK     0.0000    0.0000    0.0000       100\n",
            "       PHONE     0.0000    0.0000    0.0000        31\n",
            "         UNI     0.0000    0.0000    0.0000        41\n",
            "       STUDY     0.0000    0.0000    0.0000        36\n",
            "         DEG     0.0000    0.0000    0.0000        36\n",
            "        NAME     0.0000    0.0000    0.0000        33\n",
            "       EMAIL     0.0000    0.0000    0.0000        20\n",
            "\n",
            "   micro avg     0.0107    0.0090    0.0098      1110\n",
            "   macro avg     0.0010    0.0222    0.0020      1110\n",
            "weighted avg     0.0004    0.0090    0.0008      1110\n",
            "\n"
          ]
        },
        {
          "output_type": "stream",
          "name": "stderr",
          "text": [
            "\n"
          ]
        }
      ]
    },
    {
      "cell_type": "code",
      "source": [
        "# make prediction\n",
        "import flair\n",
        "model = SequenceTagger.load('/content/drive/MyDrive/FYP/Implementation/flair_output/best-model.pt')\n",
        "resume_text = '''\n",
        "John Doe lives at 1234 Elm Street in Los Angeles, CA 90001. He can be reached at +1 (555) 123-4567 or via email at john.doe@example.com. John is a results-driven software engineer with over 5 years of experience in web development and cloud infrastructure, with strong knowledge of JavaScript, Python, and cloud technologies like AWS and Azure. Currently, he works as a Software Engineer at Google LLC in San Francisco, CA, where he has been employed since August 2019. In this role, he has developed scalable web applications using JavaScript, Node.js, and React, deployed and maintained cloud infrastructure on AWS, reducing downtime by 20%, and led a team of 4 engineers to enhance backend performance by 30%. Previously, he worked as a Junior Developer at Tech Innovators Inc. in Austin, TX, from July 2017 to July 2019, where he created RESTful APIs using Python and Flask, collaborated with front-end developers to build and deploy user-facing applications, and wrote unit and integration tests, improving code coverage by 15%.\n",
        "\n",
        "John holds a Master of Science in Computer Science from the University of California, Berkeley, with a graduation date of May 2017, and a Bachelor of Science in Information Technology from the University of Texas at Austin, graduated in May 2015. His skillset includes proficiency in programming languages like Python, JavaScript, and Java; frameworks such as React, Flask, and Django; cloud platforms including AWS, Google Cloud, and Azure; as well as other tools like Git, Docker, Kubernetes, and SQL. He is certified as an AWS Certified Solutions Architect – Associate, earned in 2020, and as a Google Professional Cloud Architect, earned in 2021'\n",
        "'''\n",
        "sentence = flair.data.Sentence(resume_text.lower())\n",
        "\n",
        "model.predict(sentence)\n",
        "\n",
        "print(sentence.to_tagged_string())"
      ],
      "metadata": {
        "id": "KOYkWF9Anwec",
        "colab": {
          "base_uri": "https://localhost:8080/"
        },
        "outputId": "fca1e5b5-d2d4-442b-fbd8-86b1358a4a02"
      },
      "id": "KOYkWF9Anwec",
      "execution_count": 12,
      "outputs": [
        {
          "output_type": "stream",
          "name": "stdout",
          "text": [
            "2024-11-04 08:53:50,822 SequenceTagger predicts: Dictionary with 47 tags: O, S-SKILL, B-SKILL, E-SKILL, I-SKILL, S-JOB, B-JOB, E-JOB, I-JOB, S-WORK, B-WORK, E-WORK, I-WORK, S-COMPANY, B-COMPANY, E-COMPANY, I-COMPANY, S-LOC, B-LOC, E-LOC, I-LOC, S-UNI, B-UNI, E-UNI, I-UNI, S-DEG, B-DEG, E-DEG, I-DEG, S-NAME, B-NAME, E-NAME, I-NAME, S-STUDY, B-STUDY, E-STUDY, I-STUDY, S-PHONE, B-PHONE, E-PHONE, I-PHONE, S-EMAIL, B-EMAIL, E-EMAIL, I-EMAIL, <START>, <STOP>\n",
            "Sentence[326]: \" john doe lives at 1234 elm street in los angeles, ca 90001. he can be reached at +1 (555) 123-4567 or via email at john.doe@example.com. john is a results-driven software engineer with over 5 years of experience in web development and cloud infrastructure, with strong knowledge of javascript, python, and cloud technologies like aws and azure. currently, he works as a software engineer at google llc in san francisco, ca, where he has been employed since august 2019. in this role, he has developed scalable web applications using javascript, node.js, and react, deployed and maintained cloud infrastructure on aws, reducing downtime by 20%, and led a team of 4 engineers to enhance backend performance by 30%. previously, he worked as a junior developer at tech innovators inc. in austin, tx, from july 2017 to july 2019, where he created restful apis using python and flask, collaborated with front-end developers to build and deploy user-facing applications, and wrote unit and integration tests, improving code coverage by 15%.  john holds a master of science in computer science from the university of california, berkeley, with a graduation date of may 2017, and a bachelor of science in information technology from the university of texas at austin, graduated in may 2015. his skillset includes proficiency in programming languages like python, javascript, and java; frameworks such as react, flask, and django; cloud platforms including aws, google cloud, and azure; as well as other tools like git, docker, kubernetes, and sql. he is certified as an aws certified solutions architect – associate, earned in 2020, and as a google professional cloud architect, earned in 2021'\" → [\"doe\"/LOC, \"1234\"/LOC, \"555\"/LOC, \"john.doe\"/LOC, \"example.com\"/LOC, \"2021'\"/LOC]\n"
          ]
        }
      ]
    }
  ],
  "metadata": {
    "kernelspec": {
      "display_name": "Python 3 (ipykernel)",
      "language": "python",
      "name": "python3"
    },
    "language_info": {
      "codemirror_mode": {
        "name": "ipython",
        "version": 3
      },
      "file_extension": ".py",
      "mimetype": "text/x-python",
      "name": "python",
      "nbconvert_exporter": "python",
      "pygments_lexer": "ipython3",
      "version": "3.10.0"
    },
    "colab": {
      "provenance": [],
      "include_colab_link": true
    }
  },
  "nbformat": 4,
  "nbformat_minor": 5
}