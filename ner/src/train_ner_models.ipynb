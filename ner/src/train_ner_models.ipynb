{
  "cells": [
    {
      "cell_type": "markdown",
      "metadata": {
        "id": "view-in-github",
        "colab_type": "text"
      },
      "source": [
        "<a href=\"https://colab.research.google.com/github/chewzzz1014/fyp/blob/master/ner/src/train_ner_models.ipynb\" target=\"_parent\"><img src=\"https://colab.research.google.com/assets/colab-badge.svg\" alt=\"Open In Colab\"/></a>"
      ]
    },
    {
      "cell_type": "markdown",
      "source": [
        "# Train NER Models"
      ],
      "metadata": {
        "id": "t0P9v82yDulr"
      },
      "id": "t0P9v82yDulr"
    },
    {
      "cell_type": "code",
      "source": [
        "# mount drive\n",
        "from google.colab import drive\n",
        "drive.mount('/content/drive')"
      ],
      "metadata": {
        "id": "5YToyjV-40ZV",
        "outputId": "ede7beea-0af6-44e5-a392-e7d0e718e9c6",
        "colab": {
          "base_uri": "https://localhost:8080/"
        }
      },
      "id": "5YToyjV-40ZV",
      "execution_count": 1,
      "outputs": [
        {
          "output_type": "stream",
          "name": "stdout",
          "text": [
            "Drive already mounted at /content/drive; to attempt to forcibly remount, call drive.mount(\"/content/drive\", force_remount=True).\n"
          ]
        }
      ]
    },
    {
      "cell_type": "code",
      "source": [
        "!mkdir spacy_ner_data"
      ],
      "metadata": {
        "id": "VtZ7OFQtpG4-"
      },
      "id": "VtZ7OFQtpG4-",
      "execution_count": 3,
      "outputs": []
    },
    {
      "cell_type": "code",
      "source": [
        "import json\n",
        "import random\n",
        "from sklearn.model_selection import train_test_split\n",
        "import spacy\n",
        "from spacy.tokens import DocBin\n",
        "\n",
        "# Load JSON data\n",
        "with open('/content/drive/MyDrive/FYP/Implementation/Resume Dataset/200_resumes_annotated.json', \"r\") as f:\n",
        "    data = json.load(f)\n",
        "\n",
        "def remove_overlapping_entities(entities):\n",
        "    \"\"\"Remove overlapping entities from the list.\"\"\"\n",
        "    entities = sorted(entities, key=lambda x: x[0])  # Sort by start position\n",
        "    non_overlapping = []\n",
        "    last_end = -1\n",
        "    for start, end, label in entities:\n",
        "        if start >= last_end:  # Only add if there's no overlap with the previous entity\n",
        "            non_overlapping.append((start, end, label))\n",
        "            last_end = end\n",
        "    return non_overlapping\n",
        "\n",
        "# Function to convert JSON data to Spacy's DocBin format\n",
        "def convert_to_spacy_format(data):\n",
        "    nlp = spacy.blank(\"en\")  # Load a blank Spacy model\n",
        "    doc_bin = DocBin()  # Container for our docs\n",
        "\n",
        "    for item in data:\n",
        "        text = item['data']['Text']  # Full document text\n",
        "        entities = []\n",
        "\n",
        "        for annotation in item['annotations'][0]['result']:\n",
        "            start = annotation['value']['start']\n",
        "            end = annotation['value']['end']\n",
        "            label = annotation['value']['labels'][0]  # Entity label\n",
        "            entities.append((start, end, label))\n",
        "\n",
        "        entities = remove_overlapping_entities(entities)  # Remove overlapping entities\n",
        "        # Create a Spacy doc and add entities to it\n",
        "        doc = nlp.make_doc(text)\n",
        "        spans = [doc.char_span(start, end, label=label) for start, end, label in entities]\n",
        "        # Filter out None spans if Spacy can't align the character indices with tokens\n",
        "        spans = [span for span in spans if span is not None]\n",
        "        doc.ents = spans  # Assign entities to the doc\n",
        "        doc_bin.add(doc)\n",
        "\n",
        "    return doc_bin\n",
        "\n",
        "# Split data into train and test sets\n",
        "train_data, test_data = train_test_split(data, test_size=0.2, random_state=42)\n",
        "\n",
        "# Convert train and test sets to Spacy format\n",
        "train_doc_bin = convert_to_spacy_format(train_data)\n",
        "test_doc_bin = convert_to_spacy_format(test_data)\n",
        "\n",
        "# Save the train and test data to .spacy files\n",
        "train_doc_bin.to_disk(\"spacy_ner_data/train_data.spacy\")\n",
        "test_doc_bin.to_disk(\"spacy_ner_data/test_data.spacy\")"
      ],
      "metadata": {
        "id": "R-8QBDX3gtkp"
      },
      "id": "R-8QBDX3gtkp",
      "execution_count": null,
      "outputs": []
    },
    {
      "cell_type": "markdown",
      "source": [
        "## Spacy NER"
      ],
      "metadata": {
        "id": "FMM7E6hNCEUv"
      },
      "id": "FMM7E6hNCEUv"
    },
    {
      "cell_type": "code",
      "source": [
        "# create base_config.cfg and paste the config generated from spacy widget\n",
        "# update train and test file path\n",
        "!touch base_config.cfg"
      ],
      "metadata": {
        "id": "ruPln43fCDLm"
      },
      "id": "ruPln43fCDLm",
      "execution_count": null,
      "outputs": []
    },
    {
      "cell_type": "code",
      "source": [
        "# generate config.cfg from base_config.cfg\n",
        "!python -m spacy init fill-config base_config.cfg config.cfg"
      ],
      "metadata": {
        "id": "0aRjL9jqC-5k",
        "colab": {
          "base_uri": "https://localhost:8080/"
        },
        "outputId": "5489cd43-f730-47d0-ca13-c1ed658d98da"
      },
      "id": "0aRjL9jqC-5k",
      "execution_count": null,
      "outputs": [
        {
          "output_type": "stream",
          "name": "stdout",
          "text": [
            "\u001b[38;5;2m✔ Auto-filled config with all values\u001b[0m\n",
            "\u001b[38;5;2m✔ Saved config\u001b[0m\n",
            "config.cfg\n",
            "You can now add your data and train your pipeline:\n",
            "python -m spacy train config.cfg --paths.train ./train.spacy --paths.dev ./dev.spacy\n"
          ]
        }
      ]
    },
    {
      "cell_type": "code",
      "source": [
        "!python -m spacy download en_core_web_lg"
      ],
      "metadata": {
        "colab": {
          "base_uri": "https://localhost:8080/"
        },
        "id": "9wb_aBw9X2NU",
        "outputId": "561939c7-f8b1-4038-af0d-ddd3824b3509"
      },
      "id": "9wb_aBw9X2NU",
      "execution_count": null,
      "outputs": [
        {
          "output_type": "stream",
          "name": "stdout",
          "text": [
            "Collecting en-core-web-lg==3.7.1\n",
            "  Downloading https://github.com/explosion/spacy-models/releases/download/en_core_web_lg-3.7.1/en_core_web_lg-3.7.1-py3-none-any.whl (587.7 MB)\n",
            "\u001b[2K     \u001b[90m━━━━━━━━━━━━━━━━━━━━━━━━━━━━━━━━━━━━━━━━\u001b[0m \u001b[32m587.7/587.7 MB\u001b[0m \u001b[31m2.2 MB/s\u001b[0m eta \u001b[36m0:00:00\u001b[0m\n",
            "\u001b[?25hRequirement already satisfied: spacy<3.8.0,>=3.7.2 in /usr/local/lib/python3.10/dist-packages (from en-core-web-lg==3.7.1) (3.7.5)\n",
            "Requirement already satisfied: spacy-legacy<3.1.0,>=3.0.11 in /usr/local/lib/python3.10/dist-packages (from spacy<3.8.0,>=3.7.2->en-core-web-lg==3.7.1) (3.0.12)\n",
            "Requirement already satisfied: spacy-loggers<2.0.0,>=1.0.0 in /usr/local/lib/python3.10/dist-packages (from spacy<3.8.0,>=3.7.2->en-core-web-lg==3.7.1) (1.0.5)\n",
            "Requirement already satisfied: murmurhash<1.1.0,>=0.28.0 in /usr/local/lib/python3.10/dist-packages (from spacy<3.8.0,>=3.7.2->en-core-web-lg==3.7.1) (1.0.10)\n",
            "Requirement already satisfied: cymem<2.1.0,>=2.0.2 in /usr/local/lib/python3.10/dist-packages (from spacy<3.8.0,>=3.7.2->en-core-web-lg==3.7.1) (2.0.8)\n",
            "Requirement already satisfied: preshed<3.1.0,>=3.0.2 in /usr/local/lib/python3.10/dist-packages (from spacy<3.8.0,>=3.7.2->en-core-web-lg==3.7.1) (3.0.9)\n",
            "Requirement already satisfied: thinc<8.3.0,>=8.2.2 in /usr/local/lib/python3.10/dist-packages (from spacy<3.8.0,>=3.7.2->en-core-web-lg==3.7.1) (8.2.5)\n",
            "Requirement already satisfied: wasabi<1.2.0,>=0.9.1 in /usr/local/lib/python3.10/dist-packages (from spacy<3.8.0,>=3.7.2->en-core-web-lg==3.7.1) (1.1.3)\n",
            "Requirement already satisfied: srsly<3.0.0,>=2.4.3 in /usr/local/lib/python3.10/dist-packages (from spacy<3.8.0,>=3.7.2->en-core-web-lg==3.7.1) (2.4.8)\n",
            "Requirement already satisfied: catalogue<2.1.0,>=2.0.6 in /usr/local/lib/python3.10/dist-packages (from spacy<3.8.0,>=3.7.2->en-core-web-lg==3.7.1) (2.0.10)\n",
            "Requirement already satisfied: weasel<0.5.0,>=0.1.0 in /usr/local/lib/python3.10/dist-packages (from spacy<3.8.0,>=3.7.2->en-core-web-lg==3.7.1) (0.4.1)\n",
            "Requirement already satisfied: typer<1.0.0,>=0.3.0 in /usr/local/lib/python3.10/dist-packages (from spacy<3.8.0,>=3.7.2->en-core-web-lg==3.7.1) (0.12.5)\n",
            "Requirement already satisfied: tqdm<5.0.0,>=4.38.0 in /usr/local/lib/python3.10/dist-packages (from spacy<3.8.0,>=3.7.2->en-core-web-lg==3.7.1) (4.66.6)\n",
            "Requirement already satisfied: requests<3.0.0,>=2.13.0 in /usr/local/lib/python3.10/dist-packages (from spacy<3.8.0,>=3.7.2->en-core-web-lg==3.7.1) (2.32.3)\n",
            "Requirement already satisfied: pydantic!=1.8,!=1.8.1,<3.0.0,>=1.7.4 in /usr/local/lib/python3.10/dist-packages (from spacy<3.8.0,>=3.7.2->en-core-web-lg==3.7.1) (2.9.2)\n",
            "Requirement already satisfied: jinja2 in /usr/local/lib/python3.10/dist-packages (from spacy<3.8.0,>=3.7.2->en-core-web-lg==3.7.1) (3.1.4)\n",
            "Requirement already satisfied: setuptools in /usr/local/lib/python3.10/dist-packages (from spacy<3.8.0,>=3.7.2->en-core-web-lg==3.7.1) (75.1.0)\n",
            "Requirement already satisfied: packaging>=20.0 in /usr/local/lib/python3.10/dist-packages (from spacy<3.8.0,>=3.7.2->en-core-web-lg==3.7.1) (24.1)\n",
            "Requirement already satisfied: langcodes<4.0.0,>=3.2.0 in /usr/local/lib/python3.10/dist-packages (from spacy<3.8.0,>=3.7.2->en-core-web-lg==3.7.1) (3.4.1)\n",
            "Requirement already satisfied: numpy>=1.19.0 in /usr/local/lib/python3.10/dist-packages (from spacy<3.8.0,>=3.7.2->en-core-web-lg==3.7.1) (1.26.4)\n",
            "Requirement already satisfied: language-data>=1.2 in /usr/local/lib/python3.10/dist-packages (from langcodes<4.0.0,>=3.2.0->spacy<3.8.0,>=3.7.2->en-core-web-lg==3.7.1) (1.2.0)\n",
            "Requirement already satisfied: annotated-types>=0.6.0 in /usr/local/lib/python3.10/dist-packages (from pydantic!=1.8,!=1.8.1,<3.0.0,>=1.7.4->spacy<3.8.0,>=3.7.2->en-core-web-lg==3.7.1) (0.7.0)\n",
            "Requirement already satisfied: pydantic-core==2.23.4 in /usr/local/lib/python3.10/dist-packages (from pydantic!=1.8,!=1.8.1,<3.0.0,>=1.7.4->spacy<3.8.0,>=3.7.2->en-core-web-lg==3.7.1) (2.23.4)\n",
            "Requirement already satisfied: typing-extensions>=4.6.1 in /usr/local/lib/python3.10/dist-packages (from pydantic!=1.8,!=1.8.1,<3.0.0,>=1.7.4->spacy<3.8.0,>=3.7.2->en-core-web-lg==3.7.1) (4.12.2)\n",
            "Requirement already satisfied: charset-normalizer<4,>=2 in /usr/local/lib/python3.10/dist-packages (from requests<3.0.0,>=2.13.0->spacy<3.8.0,>=3.7.2->en-core-web-lg==3.7.1) (3.4.0)\n",
            "Requirement already satisfied: idna<4,>=2.5 in /usr/local/lib/python3.10/dist-packages (from requests<3.0.0,>=2.13.0->spacy<3.8.0,>=3.7.2->en-core-web-lg==3.7.1) (3.10)\n",
            "Requirement already satisfied: urllib3<3,>=1.21.1 in /usr/local/lib/python3.10/dist-packages (from requests<3.0.0,>=2.13.0->spacy<3.8.0,>=3.7.2->en-core-web-lg==3.7.1) (2.2.3)\n",
            "Requirement already satisfied: certifi>=2017.4.17 in /usr/local/lib/python3.10/dist-packages (from requests<3.0.0,>=2.13.0->spacy<3.8.0,>=3.7.2->en-core-web-lg==3.7.1) (2024.8.30)\n",
            "Requirement already satisfied: blis<0.8.0,>=0.7.8 in /usr/local/lib/python3.10/dist-packages (from thinc<8.3.0,>=8.2.2->spacy<3.8.0,>=3.7.2->en-core-web-lg==3.7.1) (0.7.11)\n",
            "Requirement already satisfied: confection<1.0.0,>=0.0.1 in /usr/local/lib/python3.10/dist-packages (from thinc<8.3.0,>=8.2.2->spacy<3.8.0,>=3.7.2->en-core-web-lg==3.7.1) (0.1.5)\n",
            "Requirement already satisfied: click>=8.0.0 in /usr/local/lib/python3.10/dist-packages (from typer<1.0.0,>=0.3.0->spacy<3.8.0,>=3.7.2->en-core-web-lg==3.7.1) (8.1.7)\n",
            "Requirement already satisfied: shellingham>=1.3.0 in /usr/local/lib/python3.10/dist-packages (from typer<1.0.0,>=0.3.0->spacy<3.8.0,>=3.7.2->en-core-web-lg==3.7.1) (1.5.4)\n",
            "Requirement already satisfied: rich>=10.11.0 in /usr/local/lib/python3.10/dist-packages (from typer<1.0.0,>=0.3.0->spacy<3.8.0,>=3.7.2->en-core-web-lg==3.7.1) (13.9.3)\n",
            "Requirement already satisfied: cloudpathlib<1.0.0,>=0.7.0 in /usr/local/lib/python3.10/dist-packages (from weasel<0.5.0,>=0.1.0->spacy<3.8.0,>=3.7.2->en-core-web-lg==3.7.1) (0.20.0)\n",
            "Requirement already satisfied: smart-open<8.0.0,>=5.2.1 in /usr/local/lib/python3.10/dist-packages (from weasel<0.5.0,>=0.1.0->spacy<3.8.0,>=3.7.2->en-core-web-lg==3.7.1) (7.0.5)\n",
            "Requirement already satisfied: MarkupSafe>=2.0 in /usr/local/lib/python3.10/dist-packages (from jinja2->spacy<3.8.0,>=3.7.2->en-core-web-lg==3.7.1) (3.0.2)\n",
            "Requirement already satisfied: marisa-trie>=0.7.7 in /usr/local/lib/python3.10/dist-packages (from language-data>=1.2->langcodes<4.0.0,>=3.2.0->spacy<3.8.0,>=3.7.2->en-core-web-lg==3.7.1) (1.2.1)\n",
            "Requirement already satisfied: markdown-it-py>=2.2.0 in /usr/local/lib/python3.10/dist-packages (from rich>=10.11.0->typer<1.0.0,>=0.3.0->spacy<3.8.0,>=3.7.2->en-core-web-lg==3.7.1) (3.0.0)\n",
            "Requirement already satisfied: pygments<3.0.0,>=2.13.0 in /usr/local/lib/python3.10/dist-packages (from rich>=10.11.0->typer<1.0.0,>=0.3.0->spacy<3.8.0,>=3.7.2->en-core-web-lg==3.7.1) (2.18.0)\n",
            "Requirement already satisfied: wrapt in /usr/local/lib/python3.10/dist-packages (from smart-open<8.0.0,>=5.2.1->weasel<0.5.0,>=0.1.0->spacy<3.8.0,>=3.7.2->en-core-web-lg==3.7.1) (1.16.0)\n",
            "Requirement already satisfied: mdurl~=0.1 in /usr/local/lib/python3.10/dist-packages (from markdown-it-py>=2.2.0->rich>=10.11.0->typer<1.0.0,>=0.3.0->spacy<3.8.0,>=3.7.2->en-core-web-lg==3.7.1) (0.1.2)\n",
            "Installing collected packages: en-core-web-lg\n",
            "Successfully installed en-core-web-lg-3.7.1\n",
            "\u001b[38;5;2m✔ Download and installation successful\u001b[0m\n",
            "You can now load the package via spacy.load('en_core_web_lg')\n",
            "\u001b[38;5;3m⚠ Restart to reload dependencies\u001b[0m\n",
            "If you are in a Jupyter or Colab notebook, you may need to restart Python in\n",
            "order to load all the package's dependencies. You can do this by selecting the\n",
            "'Restart kernel' or 'Restart runtime' option.\n"
          ]
        }
      ]
    },
    {
      "cell_type": "code",
      "source": [
        "# train model using hyperparameters set in config.cfg\n",
        "# save trained model in spacy-output/ dir\n",
        "!python -m spacy train config.cfg --output ./spacy_output\n",
        "!cp -r ./spacy_output /content/drive/MyDrive/FYP/Implementation/"
      ],
      "metadata": {
        "id": "Jav_l46BEDjF"
      },
      "id": "Jav_l46BEDjF",
      "execution_count": null,
      "outputs": []
    },
    {
      "cell_type": "code",
      "source": [
        "# evaluate trained model performance\n",
        "# store output and visualization into result/ dir\n",
        "!python -m spacy evaluate spacy_output/model-best spacy_ner_data/test_data.spacy -dp spacy_output"
      ],
      "metadata": {
        "id": "V2wzIOsWJgkG",
        "colab": {
          "base_uri": "https://localhost:8080/"
        },
        "outputId": "f0f701bb-ffdb-4167-f67a-0146a54859ba"
      },
      "id": "V2wzIOsWJgkG",
      "execution_count": null,
      "outputs": [
        {
          "output_type": "stream",
          "name": "stdout",
          "text": [
            "\u001b[38;5;4mℹ Using CPU\u001b[0m\n",
            "\u001b[1m\n",
            "================================== Results ==================================\u001b[0m\n",
            "\n",
            "TOK     100.00\n",
            "NER P   51.12 \n",
            "NER R   41.26 \n",
            "NER F   45.66 \n",
            "SPEED   2395  \n",
            "\n",
            "\u001b[1m\n",
            "=============================== NER (per type) ===============================\u001b[0m\n",
            "\n",
            "                P       R       F\n",
            "NAME        89.66   78.79   83.87\n",
            "JOB         72.00   32.43   44.72\n",
            "DEG         62.16   63.89   63.01\n",
            "UNI         38.89   34.15   36.36\n",
            "EMAIL       63.33   95.00   76.00\n",
            "LOC         39.39   31.71   35.14\n",
            "WORK PER    75.45   83.00   79.05\n",
            "COMPANY     28.42   36.49   31.95\n",
            "SKILL       40.96   28.96   33.93\n",
            "PHONE       89.66   83.87   86.67\n",
            "STUDY PER   65.62   58.33   61.76\n",
            "\n",
            "<IPython.core.display.HTML object>\n",
            "Traceback (most recent call last):\n",
            "  File \"/usr/lib/python3.10/runpy.py\", line 196, in _run_module_as_main\n",
            "    return _run_code(code, main_globals, None,\n",
            "  File \"/usr/lib/python3.10/runpy.py\", line 86, in _run_code\n",
            "    exec(code, run_globals)\n",
            "  File \"/usr/local/lib/python3.10/dist-packages/spacy/__main__.py\", line 4, in <module>\n",
            "    setup_cli()\n",
            "  File \"/usr/local/lib/python3.10/dist-packages/spacy/cli/_util.py\", line 87, in setup_cli\n",
            "    command(prog_name=COMMAND)\n",
            "  File \"/usr/local/lib/python3.10/dist-packages/click/core.py\", line 1157, in __call__\n",
            "    return self.main(*args, **kwargs)\n",
            "  File \"/usr/local/lib/python3.10/dist-packages/typer/core.py\", line 728, in main\n",
            "    return _main(\n",
            "  File \"/usr/local/lib/python3.10/dist-packages/typer/core.py\", line 197, in _main\n",
            "    rv = self.invoke(ctx)\n",
            "  File \"/usr/local/lib/python3.10/dist-packages/click/core.py\", line 1688, in invoke\n",
            "    return _process_result(sub_ctx.command.invoke(sub_ctx))\n",
            "  File \"/usr/local/lib/python3.10/dist-packages/click/core.py\", line 1434, in invoke\n",
            "    return ctx.invoke(self.callback, **ctx.params)\n",
            "  File \"/usr/local/lib/python3.10/dist-packages/click/core.py\", line 783, in invoke\n",
            "    return __callback(*args, **kwargs)\n",
            "  File \"/usr/local/lib/python3.10/dist-packages/typer/main.py\", line 703, in wrapper\n",
            "    return callback(**use_params)\n",
            "  File \"/usr/local/lib/python3.10/dist-packages/spacy/cli/evaluate.py\", line 47, in evaluate_cli\n",
            "    evaluate(\n",
            "  File \"/usr/local/lib/python3.10/dist-packages/spacy/cli/evaluate.py\", line 141, in evaluate\n",
            "    render_parses(\n",
            "  File \"/usr/local/lib/python3.10/dist-packages/spacy/cli/evaluate.py\", line 208, in render_parses\n",
            "    file_.write(html)\n",
            "TypeError: write() argument must be str, not None\n"
          ]
        }
      ]
    },
    {
      "cell_type": "code",
      "source": [
        "# make prediction\n",
        "import spacy\n",
        "resume_text = '''\n",
        "John Doe lives at 1234 Elm Street in Los Angeles, CA 90001. He can be reached at +1 (555) 123-4567 or via email at john.doe@example.com. John is a results-driven software engineer with over 5 years of experience in web development and cloud infrastructure, with strong knowledge of JavaScript, Python, and cloud technologies like AWS and Azure. Currently, he works as a Software Engineer at Google LLC in San Francisco, CA, where he has been employed since August 2019. In this role, he has developed scalable web applications using JavaScript, Node.js, and React, deployed and maintained cloud infrastructure on AWS, reducing downtime by 20%, and led a team of 4 engineers to enhance backend performance by 30%. Previously, he worked as a Junior Developer at Tech Innovators Inc. in Austin, TX, from July 2017 to July 2019, where he created RESTful APIs using Python and Flask, collaborated with front-end developers to build and deploy user-facing applications, and wrote unit and integration tests, improving code coverage by 15%.\n",
        "\n",
        "John holds a Master of Science in Computer Science from the University of California, Berkeley, with a graduation date of May 2017, and a Bachelor of Science in Information Technology from the University of Texas at Austin, graduated in May 2015. His skillset includes proficiency in programming languages like Python, JavaScript, and Java; frameworks such as React, Flask, and Django; cloud platforms including AWS, Google Cloud, and Azure; as well as other tools like Git, Docker, Kubernetes, and SQL. He is certified as an AWS Certified Solutions Architect – Associate, earned in 2020, and as a Google Professional Cloud Architect, earned in 2021'\n",
        "'''\n",
        "nlp = spacy.load(\"spacy-output/model-best\")\n",
        "doc = nlp(resume_text.lower())\n",
        "\n",
        "print(doc.ents)\n",
        "\n",
        "for ent in doc.ents:\n",
        "    print(f\"{ent.text}: {ent.label_}\")"
      ],
      "metadata": {
        "colab": {
          "base_uri": "https://localhost:8080/"
        },
        "id": "UXAlZZkEeeMc",
        "outputId": "b8cb33e8-de59-4fb2-9c8e-b54180992c00"
      },
      "id": "UXAlZZkEeeMc",
      "execution_count": null,
      "outputs": [
        {
          "output_type": "stream",
          "name": "stdout",
          "text": [
            "(john doe, in los, (555) 123-4567, john.doe@example.com, john is, aws, restful apis, master of science, bachelor of science in information technology, python, aws, azure, git, docker)\n",
            "john doe: NAME\n",
            "in los: LOC\n",
            "(555) 123-4567: PHONE\n",
            "john.doe@example.com: EMAIL\n",
            "john is: NAME\n",
            "aws: SKILL\n",
            "restful apis: SKILL\n",
            "master of science: DEG\n",
            "bachelor of science in information technology: DEG\n",
            "python: SKILL\n",
            "aws: SKILL\n",
            "azure: SKILL\n",
            "git: SKILL\n",
            "docker: SKILL\n"
          ]
        }
      ]
    },
    {
      "cell_type": "code",
      "source": [
        "from spacy import displacy\n",
        "displacy.render(doc, style=\"ent\", jupyter=True)"
      ],
      "metadata": {
        "colab": {
          "base_uri": "https://localhost:8080/",
          "height": 507
        },
        "id": "LtxtV7GufiOw",
        "outputId": "670daab7-d8e9-4f21-f231-84c81cb6f23d"
      },
      "id": "LtxtV7GufiOw",
      "execution_count": null,
      "outputs": [
        {
          "output_type": "display_data",
          "data": {
            "text/plain": [
              "<IPython.core.display.HTML object>"
            ],
            "text/html": [
              "<span class=\"tex2jax_ignore\"><div class=\"entities\" style=\"line-height: 2.5; direction: ltr\"><br>\n",
              "<mark class=\"entity\" style=\"background: #ddd; padding: 0.45em 0.6em; margin: 0 0.25em; line-height: 1; border-radius: 0.35em;\">\n",
              "    john doe\n",
              "    <span style=\"font-size: 0.8em; font-weight: bold; line-height: 1; border-radius: 0.35em; vertical-align: middle; margin-left: 0.5rem\">NAME</span>\n",
              "</mark>\n",
              " lives at 1234 elm street \n",
              "<mark class=\"entity\" style=\"background: #ff9561; padding: 0.45em 0.6em; margin: 0 0.25em; line-height: 1; border-radius: 0.35em;\">\n",
              "    in los\n",
              "    <span style=\"font-size: 0.8em; font-weight: bold; line-height: 1; border-radius: 0.35em; vertical-align: middle; margin-left: 0.5rem\">LOC</span>\n",
              "</mark>\n",
              " angeles, ca 90001. he can be reached at +1 \n",
              "<mark class=\"entity\" style=\"background: #ddd; padding: 0.45em 0.6em; margin: 0 0.25em; line-height: 1; border-radius: 0.35em;\">\n",
              "    (555) 123-4567\n",
              "    <span style=\"font-size: 0.8em; font-weight: bold; line-height: 1; border-radius: 0.35em; vertical-align: middle; margin-left: 0.5rem\">PHONE</span>\n",
              "</mark>\n",
              " or via email at \n",
              "<mark class=\"entity\" style=\"background: #ddd; padding: 0.45em 0.6em; margin: 0 0.25em; line-height: 1; border-radius: 0.35em;\">\n",
              "    john.doe@example.com\n",
              "    <span style=\"font-size: 0.8em; font-weight: bold; line-height: 1; border-radius: 0.35em; vertical-align: middle; margin-left: 0.5rem\">EMAIL</span>\n",
              "</mark>\n",
              ". \n",
              "<mark class=\"entity\" style=\"background: #ddd; padding: 0.45em 0.6em; margin: 0 0.25em; line-height: 1; border-radius: 0.35em;\">\n",
              "    john is\n",
              "    <span style=\"font-size: 0.8em; font-weight: bold; line-height: 1; border-radius: 0.35em; vertical-align: middle; margin-left: 0.5rem\">NAME</span>\n",
              "</mark>\n",
              " a results-driven software engineer with over 5 years of experience in web development and cloud infrastructure, with strong knowledge of javascript, python, and cloud technologies like \n",
              "<mark class=\"entity\" style=\"background: #ddd; padding: 0.45em 0.6em; margin: 0 0.25em; line-height: 1; border-radius: 0.35em;\">\n",
              "    aws\n",
              "    <span style=\"font-size: 0.8em; font-weight: bold; line-height: 1; border-radius: 0.35em; vertical-align: middle; margin-left: 0.5rem\">SKILL</span>\n",
              "</mark>\n",
              " and azure. currently, he works as a software engineer at google llc in san francisco, ca, where he has been employed since august 2019. in this role, he has developed scalable web applications using javascript, node.js, and react, deployed and maintained cloud infrastructure on aws, reducing downtime by 20%, and led a team of 4 engineers to enhance backend performance by 30%. previously, he worked as a junior developer at tech innovators inc. in austin, tx, from july 2017 to july 2019, where he created \n",
              "<mark class=\"entity\" style=\"background: #ddd; padding: 0.45em 0.6em; margin: 0 0.25em; line-height: 1; border-radius: 0.35em;\">\n",
              "    restful apis\n",
              "    <span style=\"font-size: 0.8em; font-weight: bold; line-height: 1; border-radius: 0.35em; vertical-align: middle; margin-left: 0.5rem\">SKILL</span>\n",
              "</mark>\n",
              " using python and flask, collaborated with front-end developers to build and deploy user-facing applications, and wrote unit and integration tests, improving code coverage by 15%.<br><br>john holds a \n",
              "<mark class=\"entity\" style=\"background: #ddd; padding: 0.45em 0.6em; margin: 0 0.25em; line-height: 1; border-radius: 0.35em;\">\n",
              "    master of science\n",
              "    <span style=\"font-size: 0.8em; font-weight: bold; line-height: 1; border-radius: 0.35em; vertical-align: middle; margin-left: 0.5rem\">DEG</span>\n",
              "</mark>\n",
              " in computer science from the university of california, berkeley, with a graduation date of may 2017, and a \n",
              "<mark class=\"entity\" style=\"background: #ddd; padding: 0.45em 0.6em; margin: 0 0.25em; line-height: 1; border-radius: 0.35em;\">\n",
              "    bachelor of science in information technology\n",
              "    <span style=\"font-size: 0.8em; font-weight: bold; line-height: 1; border-radius: 0.35em; vertical-align: middle; margin-left: 0.5rem\">DEG</span>\n",
              "</mark>\n",
              " from the university of texas at austin, graduated in may 2015. his skillset includes proficiency in programming languages like \n",
              "<mark class=\"entity\" style=\"background: #ddd; padding: 0.45em 0.6em; margin: 0 0.25em; line-height: 1; border-radius: 0.35em;\">\n",
              "    python\n",
              "    <span style=\"font-size: 0.8em; font-weight: bold; line-height: 1; border-radius: 0.35em; vertical-align: middle; margin-left: 0.5rem\">SKILL</span>\n",
              "</mark>\n",
              ", javascript, and java; frameworks such as react, flask, and django; cloud platforms including \n",
              "<mark class=\"entity\" style=\"background: #ddd; padding: 0.45em 0.6em; margin: 0 0.25em; line-height: 1; border-radius: 0.35em;\">\n",
              "    aws\n",
              "    <span style=\"font-size: 0.8em; font-weight: bold; line-height: 1; border-radius: 0.35em; vertical-align: middle; margin-left: 0.5rem\">SKILL</span>\n",
              "</mark>\n",
              ", google cloud, and \n",
              "<mark class=\"entity\" style=\"background: #ddd; padding: 0.45em 0.6em; margin: 0 0.25em; line-height: 1; border-radius: 0.35em;\">\n",
              "    azure\n",
              "    <span style=\"font-size: 0.8em; font-weight: bold; line-height: 1; border-radius: 0.35em; vertical-align: middle; margin-left: 0.5rem\">SKILL</span>\n",
              "</mark>\n",
              "; as well as other tools like \n",
              "<mark class=\"entity\" style=\"background: #ddd; padding: 0.45em 0.6em; margin: 0 0.25em; line-height: 1; border-radius: 0.35em;\">\n",
              "    git\n",
              "    <span style=\"font-size: 0.8em; font-weight: bold; line-height: 1; border-radius: 0.35em; vertical-align: middle; margin-left: 0.5rem\">SKILL</span>\n",
              "</mark>\n",
              ", \n",
              "<mark class=\"entity\" style=\"background: #ddd; padding: 0.45em 0.6em; margin: 0 0.25em; line-height: 1; border-radius: 0.35em;\">\n",
              "    docker\n",
              "    <span style=\"font-size: 0.8em; font-weight: bold; line-height: 1; border-radius: 0.35em; vertical-align: middle; margin-left: 0.5rem\">SKILL</span>\n",
              "</mark>\n",
              ", kubernetes, and sql. he is certified as an aws certified solutions architect – associate, earned in 2020, and as a google professional cloud architect, earned in 2021'<br></div></span>"
            ]
          },
          "metadata": {}
        }
      ]
    },
    {
      "cell_type": "markdown",
      "source": [
        "## Flair NER"
      ],
      "metadata": {
        "id": "1z_niSalE0uT"
      },
      "id": "1z_niSalE0uT"
    },
    {
      "cell_type": "code",
      "source": [
        "!pip install flair"
      ],
      "metadata": {
        "id": "lsEUGnPpnjuU",
        "colab": {
          "base_uri": "https://localhost:8080/"
        },
        "outputId": "d11a8da3-2f38-4337-d580-837397b4d7b5"
      },
      "id": "lsEUGnPpnjuU",
      "execution_count": 2,
      "outputs": [
        {
          "output_type": "stream",
          "name": "stdout",
          "text": [
            "Requirement already satisfied: flair in /usr/local/lib/python3.10/dist-packages (0.14.0)\n",
            "Requirement already satisfied: boto3>=1.20.27 in /usr/local/lib/python3.10/dist-packages (from flair) (1.35.54)\n",
            "Requirement already satisfied: conllu<5.0.0,>=4.0 in /usr/local/lib/python3.10/dist-packages (from flair) (4.5.3)\n",
            "Requirement already satisfied: deprecated>=1.2.13 in /usr/local/lib/python3.10/dist-packages (from flair) (1.2.14)\n",
            "Requirement already satisfied: ftfy>=6.1.0 in /usr/local/lib/python3.10/dist-packages (from flair) (6.3.1)\n",
            "Requirement already satisfied: gdown>=4.4.0 in /usr/local/lib/python3.10/dist-packages (from flair) (5.2.0)\n",
            "Requirement already satisfied: huggingface-hub>=0.10.0 in /usr/local/lib/python3.10/dist-packages (from flair) (0.24.7)\n",
            "Requirement already satisfied: langdetect>=1.0.9 in /usr/local/lib/python3.10/dist-packages (from flair) (1.0.9)\n",
            "Requirement already satisfied: lxml>=4.8.0 in /usr/local/lib/python3.10/dist-packages (from flair) (5.3.0)\n",
            "Requirement already satisfied: matplotlib>=2.2.3 in /usr/local/lib/python3.10/dist-packages (from flair) (3.8.0)\n",
            "Requirement already satisfied: more-itertools>=8.13.0 in /usr/local/lib/python3.10/dist-packages (from flair) (10.5.0)\n",
            "Requirement already satisfied: mpld3>=0.3 in /usr/local/lib/python3.10/dist-packages (from flair) (0.5.10)\n",
            "Requirement already satisfied: pptree>=3.1 in /usr/local/lib/python3.10/dist-packages (from flair) (3.1)\n",
            "Requirement already satisfied: python-dateutil>=2.8.2 in /usr/local/lib/python3.10/dist-packages (from flair) (2.8.2)\n",
            "Requirement already satisfied: pytorch-revgrad>=0.2.0 in /usr/local/lib/python3.10/dist-packages (from flair) (0.2.0)\n",
            "Requirement already satisfied: regex>=2022.1.18 in /usr/local/lib/python3.10/dist-packages (from flair) (2024.9.11)\n",
            "Requirement already satisfied: scikit-learn>=1.0.2 in /usr/local/lib/python3.10/dist-packages (from flair) (1.5.2)\n",
            "Requirement already satisfied: segtok>=1.5.11 in /usr/local/lib/python3.10/dist-packages (from flair) (1.5.11)\n",
            "Requirement already satisfied: sqlitedict>=2.0.0 in /usr/local/lib/python3.10/dist-packages (from flair) (2.1.0)\n",
            "Requirement already satisfied: tabulate>=0.8.10 in /usr/local/lib/python3.10/dist-packages (from flair) (0.9.0)\n",
            "Requirement already satisfied: torch!=1.8,>=1.5.0 in /usr/local/lib/python3.10/dist-packages (from flair) (2.5.0+cu121)\n",
            "Requirement already satisfied: tqdm>=4.63.0 in /usr/local/lib/python3.10/dist-packages (from flair) (4.66.6)\n",
            "Requirement already satisfied: transformer-smaller-training-vocab>=0.2.3 in /usr/local/lib/python3.10/dist-packages (from flair) (0.4.0)\n",
            "Requirement already satisfied: transformers<5.0.0,>=4.18.0 in /usr/local/lib/python3.10/dist-packages (from transformers[sentencepiece]<5.0.0,>=4.18.0->flair) (4.44.2)\n",
            "Requirement already satisfied: wikipedia-api>=0.5.7 in /usr/local/lib/python3.10/dist-packages (from flair) (0.7.1)\n",
            "Requirement already satisfied: semver<4.0.0,>=3.0.0 in /usr/local/lib/python3.10/dist-packages (from flair) (3.0.2)\n",
            "Requirement already satisfied: bioc<3.0.0,>=2.0.0 in /usr/local/lib/python3.10/dist-packages (from flair) (2.1)\n",
            "Requirement already satisfied: jsonlines>=1.2.0 in /usr/local/lib/python3.10/dist-packages (from bioc<3.0.0,>=2.0.0->flair) (4.0.0)\n",
            "Requirement already satisfied: intervaltree in /usr/local/lib/python3.10/dist-packages (from bioc<3.0.0,>=2.0.0->flair) (3.1.0)\n",
            "Requirement already satisfied: docopt in /usr/local/lib/python3.10/dist-packages (from bioc<3.0.0,>=2.0.0->flair) (0.6.2)\n",
            "Requirement already satisfied: botocore<1.36.0,>=1.35.54 in /usr/local/lib/python3.10/dist-packages (from boto3>=1.20.27->flair) (1.35.54)\n",
            "Requirement already satisfied: jmespath<2.0.0,>=0.7.1 in /usr/local/lib/python3.10/dist-packages (from boto3>=1.20.27->flair) (1.0.1)\n",
            "Requirement already satisfied: s3transfer<0.11.0,>=0.10.0 in /usr/local/lib/python3.10/dist-packages (from boto3>=1.20.27->flair) (0.10.3)\n",
            "Requirement already satisfied: wrapt<2,>=1.10 in /usr/local/lib/python3.10/dist-packages (from deprecated>=1.2.13->flair) (1.16.0)\n",
            "Requirement already satisfied: wcwidth in /usr/local/lib/python3.10/dist-packages (from ftfy>=6.1.0->flair) (0.2.13)\n",
            "Requirement already satisfied: beautifulsoup4 in /usr/local/lib/python3.10/dist-packages (from gdown>=4.4.0->flair) (4.12.3)\n",
            "Requirement already satisfied: filelock in /usr/local/lib/python3.10/dist-packages (from gdown>=4.4.0->flair) (3.16.1)\n",
            "Requirement already satisfied: requests[socks] in /usr/local/lib/python3.10/dist-packages (from gdown>=4.4.0->flair) (2.32.3)\n",
            "Requirement already satisfied: fsspec>=2023.5.0 in /usr/local/lib/python3.10/dist-packages (from huggingface-hub>=0.10.0->flair) (2024.10.0)\n",
            "Requirement already satisfied: packaging>=20.9 in /usr/local/lib/python3.10/dist-packages (from huggingface-hub>=0.10.0->flair) (24.1)\n",
            "Requirement already satisfied: pyyaml>=5.1 in /usr/local/lib/python3.10/dist-packages (from huggingface-hub>=0.10.0->flair) (6.0.2)\n",
            "Requirement already satisfied: typing-extensions>=3.7.4.3 in /usr/local/lib/python3.10/dist-packages (from huggingface-hub>=0.10.0->flair) (4.12.2)\n",
            "Requirement already satisfied: six in /usr/local/lib/python3.10/dist-packages (from langdetect>=1.0.9->flair) (1.16.0)\n",
            "Requirement already satisfied: contourpy>=1.0.1 in /usr/local/lib/python3.10/dist-packages (from matplotlib>=2.2.3->flair) (1.3.0)\n",
            "Requirement already satisfied: cycler>=0.10 in /usr/local/lib/python3.10/dist-packages (from matplotlib>=2.2.3->flair) (0.12.1)\n",
            "Requirement already satisfied: fonttools>=4.22.0 in /usr/local/lib/python3.10/dist-packages (from matplotlib>=2.2.3->flair) (4.54.1)\n",
            "Requirement already satisfied: kiwisolver>=1.0.1 in /usr/local/lib/python3.10/dist-packages (from matplotlib>=2.2.3->flair) (1.4.7)\n",
            "Requirement already satisfied: numpy<2,>=1.21 in /usr/local/lib/python3.10/dist-packages (from matplotlib>=2.2.3->flair) (1.26.4)\n",
            "Requirement already satisfied: pillow>=6.2.0 in /usr/local/lib/python3.10/dist-packages (from matplotlib>=2.2.3->flair) (10.4.0)\n",
            "Requirement already satisfied: pyparsing>=2.3.1 in /usr/local/lib/python3.10/dist-packages (from matplotlib>=2.2.3->flair) (3.2.0)\n",
            "Requirement already satisfied: jinja2 in /usr/local/lib/python3.10/dist-packages (from mpld3>=0.3->flair) (3.1.4)\n",
            "Requirement already satisfied: scipy>=1.6.0 in /usr/local/lib/python3.10/dist-packages (from scikit-learn>=1.0.2->flair) (1.13.1)\n",
            "Requirement already satisfied: joblib>=1.2.0 in /usr/local/lib/python3.10/dist-packages (from scikit-learn>=1.0.2->flair) (1.4.2)\n",
            "Requirement already satisfied: threadpoolctl>=3.1.0 in /usr/local/lib/python3.10/dist-packages (from scikit-learn>=1.0.2->flair) (3.5.0)\n",
            "Requirement already satisfied: networkx in /usr/local/lib/python3.10/dist-packages (from torch!=1.8,>=1.5.0->flair) (3.4.2)\n",
            "Requirement already satisfied: sympy==1.13.1 in /usr/local/lib/python3.10/dist-packages (from torch!=1.8,>=1.5.0->flair) (1.13.1)\n",
            "Requirement already satisfied: mpmath<1.4,>=1.1.0 in /usr/local/lib/python3.10/dist-packages (from sympy==1.13.1->torch!=1.8,>=1.5.0->flair) (1.3.0)\n",
            "Requirement already satisfied: safetensors>=0.4.1 in /usr/local/lib/python3.10/dist-packages (from transformers<5.0.0,>=4.18.0->transformers[sentencepiece]<5.0.0,>=4.18.0->flair) (0.4.5)\n",
            "Requirement already satisfied: tokenizers<0.20,>=0.19 in /usr/local/lib/python3.10/dist-packages (from transformers<5.0.0,>=4.18.0->transformers[sentencepiece]<5.0.0,>=4.18.0->flair) (0.19.1)\n",
            "Requirement already satisfied: protobuf in /usr/local/lib/python3.10/dist-packages (from transformers[sentencepiece]<5.0.0,>=4.18.0->flair) (3.20.3)\n",
            "Requirement already satisfied: sentencepiece!=0.1.92,>=0.1.91 in /usr/local/lib/python3.10/dist-packages (from transformers[sentencepiece]<5.0.0,>=4.18.0->flair) (0.2.0)\n",
            "Requirement already satisfied: urllib3!=2.2.0,<3,>=1.25.4 in /usr/local/lib/python3.10/dist-packages (from botocore<1.36.0,>=1.35.54->boto3>=1.20.27->flair) (2.2.3)\n",
            "Requirement already satisfied: attrs>=19.2.0 in /usr/local/lib/python3.10/dist-packages (from jsonlines>=1.2.0->bioc<3.0.0,>=2.0.0->flair) (24.2.0)\n",
            "Requirement already satisfied: accelerate>=0.21.0 in /usr/local/lib/python3.10/dist-packages (from transformers[sentencepiece,torch]<5.0,>=4.1->transformer-smaller-training-vocab>=0.2.3->flair) (0.34.2)\n",
            "Requirement already satisfied: soupsieve>1.2 in /usr/local/lib/python3.10/dist-packages (from beautifulsoup4->gdown>=4.4.0->flair) (2.6)\n",
            "Requirement already satisfied: sortedcontainers<3.0,>=2.0 in /usr/local/lib/python3.10/dist-packages (from intervaltree->bioc<3.0.0,>=2.0.0->flair) (2.4.0)\n",
            "Requirement already satisfied: MarkupSafe>=2.0 in /usr/local/lib/python3.10/dist-packages (from jinja2->mpld3>=0.3->flair) (3.0.2)\n",
            "Requirement already satisfied: charset-normalizer<4,>=2 in /usr/local/lib/python3.10/dist-packages (from requests[socks]->gdown>=4.4.0->flair) (3.4.0)\n",
            "Requirement already satisfied: idna<4,>=2.5 in /usr/local/lib/python3.10/dist-packages (from requests[socks]->gdown>=4.4.0->flair) (3.10)\n",
            "Requirement already satisfied: certifi>=2017.4.17 in /usr/local/lib/python3.10/dist-packages (from requests[socks]->gdown>=4.4.0->flair) (2024.8.30)\n",
            "Requirement already satisfied: PySocks!=1.5.7,>=1.5.6 in /usr/local/lib/python3.10/dist-packages (from requests[socks]->gdown>=4.4.0->flair) (1.7.1)\n",
            "Requirement already satisfied: psutil in /usr/local/lib/python3.10/dist-packages (from accelerate>=0.21.0->transformers[sentencepiece,torch]<5.0,>=4.1->transformer-smaller-training-vocab>=0.2.3->flair) (5.9.5)\n"
          ]
        }
      ]
    },
    {
      "cell_type": "code",
      "source": [
        "# convert spacy data into flair data\n",
        "import spacy\n",
        "from spacy.tokens import DocBin\n",
        "import os\n",
        "\n",
        "def convert_spacy_to_flair(input_file, output_file):\n",
        "    \"\"\"\n",
        "    Convert SpaCy binary format to Flair's CoNLL format.\n",
        "\n",
        "    Args:\n",
        "        input_file (str): Path to SpaCy binary file (.spacy)\n",
        "        output_file (str): Path to output file for Flair format\n",
        "    \"\"\"\n",
        "    # Load spaCy model\n",
        "    nlp = spacy.blank(\"en\")\n",
        "\n",
        "    # Load the DocBin\n",
        "    doc_bin = DocBin().from_disk(input_file)\n",
        "    docs = list(doc_bin.get_docs(nlp.vocab))\n",
        "\n",
        "    with open(output_file, 'w', encoding='utf-8') as f:\n",
        "        for doc in docs:\n",
        "            tokens = [(t.text, t.ent_iob_, t.ent_type_) for t in doc]\n",
        "\n",
        "            # Write tokens in CoNLL format\n",
        "            for token in tokens:\n",
        "                text, iob, ent_type = token\n",
        "\n",
        "                # Convert spaCy IOB to CoNLL format\n",
        "                if iob == 'O':\n",
        "                    tag = 'O'\n",
        "                else:\n",
        "                    tag = f'{iob}-{ent_type}' if ent_type else 'O'\n",
        "\n",
        "                # Write line: token and NER tag\n",
        "                f.write(f'{text} {tag}\\n')\n",
        "\n",
        "            # Empty line between sentences\n",
        "            f.write('\\n')\n",
        "\n",
        "def convert_spacy_json_to_flair(input_file, output_file):\n",
        "    \"\"\"\n",
        "    Convert SpaCy JSON format to Flair's CoNLL format.\n",
        "\n",
        "    Args:\n",
        "        input_file (str): Path to JSON file with SpaCy annotations\n",
        "        output_file (str): Path to output file for Flair format\n",
        "    \"\"\"\n",
        "    import json\n",
        "\n",
        "    nlp = spacy.blank(\"en\")\n",
        "\n",
        "    with open(input_file, 'r', encoding='utf-8') as f:\n",
        "        training_data = json.load(f)\n",
        "\n",
        "    with open(output_file, 'w', encoding='utf-8') as f:\n",
        "        for example in training_data:\n",
        "            text = example['text']\n",
        "            ents = example.get('entities', [])\n",
        "\n",
        "            # Create a spaCy doc\n",
        "            doc = nlp(text)\n",
        "\n",
        "            # Add entities to doc\n",
        "            spans = []\n",
        "            for start, end, label in ents:\n",
        "                span = doc.char_span(start, end, label=label)\n",
        "                if span is not None:\n",
        "                    spans.append(span)\n",
        "            doc.ents = spans\n",
        "\n",
        "            # Convert to CoNLL format\n",
        "            tokens = [(t.text, t.ent_iob_, t.ent_type_) for t in doc]\n",
        "\n",
        "            for token in tokens:\n",
        "                text, iob, ent_type = token\n",
        "                if iob == 'O':\n",
        "                    tag = 'O'\n",
        "                else:\n",
        "                    tag = f'{iob}-{ent_type}' if ent_type else 'O'\n",
        "                f.write(f'{text} {tag}\\n')\n",
        "\n",
        "            f.write('\\n')\n",
        "\n",
        "# Example usage for JSON format\n",
        "flair_train_json = \"flair_train.txt\"\n",
        "flair_test_json = \"flair_test.txt\"\n",
        "\n",
        "convert_spacy_to_flair('/content/spacy_ner_data/train_data.spacy', flair_train_json)\n",
        "convert_spacy_to_flair('/content/spacy_ner_data/test_data.spacy', flair_test_json)"
      ],
      "metadata": {
        "id": "8SgkTXeIiTtF",
        "colab": {
          "base_uri": "https://localhost:8080/",
          "height": 339
        },
        "outputId": "543851d7-3af2-43f5-e1a2-36030cdc0bf9"
      },
      "id": "8SgkTXeIiTtF",
      "execution_count": 1,
      "outputs": [
        {
          "output_type": "error",
          "ename": "FileNotFoundError",
          "evalue": "[Errno 2] No such file or directory: '/content/spacy_ner_data/train_data.spacy'",
          "traceback": [
            "\u001b[0;31m---------------------------------------------------------------------------\u001b[0m",
            "\u001b[0;31mFileNotFoundError\u001b[0m                         Traceback (most recent call last)",
            "\u001b[0;32m<ipython-input-1-fa51b6171dc5>\u001b[0m in \u001b[0;36m<cell line: 89>\u001b[0;34m()\u001b[0m\n\u001b[1;32m     87\u001b[0m \u001b[0mflair_test_json\u001b[0m \u001b[0;34m=\u001b[0m \u001b[0;34m\"flair_test.txt\"\u001b[0m\u001b[0;34m\u001b[0m\u001b[0;34m\u001b[0m\u001b[0m\n\u001b[1;32m     88\u001b[0m \u001b[0;34m\u001b[0m\u001b[0m\n\u001b[0;32m---> 89\u001b[0;31m \u001b[0mconvert_spacy_to_flair\u001b[0m\u001b[0;34m(\u001b[0m\u001b[0;34m'/content/spacy_ner_data/train_data.spacy'\u001b[0m\u001b[0;34m,\u001b[0m \u001b[0mflair_train_json\u001b[0m\u001b[0;34m)\u001b[0m\u001b[0;34m\u001b[0m\u001b[0;34m\u001b[0m\u001b[0m\n\u001b[0m\u001b[1;32m     90\u001b[0m \u001b[0mconvert_spacy_to_flair\u001b[0m\u001b[0;34m(\u001b[0m\u001b[0;34m'/content/spacy_ner_data/test_data.spacy'\u001b[0m\u001b[0;34m,\u001b[0m \u001b[0mflair_test_json\u001b[0m\u001b[0;34m)\u001b[0m\u001b[0;34m\u001b[0m\u001b[0;34m\u001b[0m\u001b[0m\n",
            "\u001b[0;32m<ipython-input-1-fa51b6171dc5>\u001b[0m in \u001b[0;36mconvert_spacy_to_flair\u001b[0;34m(input_file, output_file)\u001b[0m\n\u001b[1;32m     16\u001b[0m \u001b[0;34m\u001b[0m\u001b[0m\n\u001b[1;32m     17\u001b[0m     \u001b[0;31m# Load the DocBin\u001b[0m\u001b[0;34m\u001b[0m\u001b[0;34m\u001b[0m\u001b[0m\n\u001b[0;32m---> 18\u001b[0;31m     \u001b[0mdoc_bin\u001b[0m \u001b[0;34m=\u001b[0m \u001b[0mDocBin\u001b[0m\u001b[0;34m(\u001b[0m\u001b[0;34m)\u001b[0m\u001b[0;34m.\u001b[0m\u001b[0mfrom_disk\u001b[0m\u001b[0;34m(\u001b[0m\u001b[0minput_file\u001b[0m\u001b[0;34m)\u001b[0m\u001b[0;34m\u001b[0m\u001b[0;34m\u001b[0m\u001b[0m\n\u001b[0m\u001b[1;32m     19\u001b[0m     \u001b[0mdocs\u001b[0m \u001b[0;34m=\u001b[0m \u001b[0mlist\u001b[0m\u001b[0;34m(\u001b[0m\u001b[0mdoc_bin\u001b[0m\u001b[0;34m.\u001b[0m\u001b[0mget_docs\u001b[0m\u001b[0;34m(\u001b[0m\u001b[0mnlp\u001b[0m\u001b[0;34m.\u001b[0m\u001b[0mvocab\u001b[0m\u001b[0;34m)\u001b[0m\u001b[0;34m)\u001b[0m\u001b[0;34m\u001b[0m\u001b[0;34m\u001b[0m\u001b[0m\n\u001b[1;32m     20\u001b[0m \u001b[0;34m\u001b[0m\u001b[0m\n",
            "\u001b[0;32m/usr/local/lib/python3.10/dist-packages/spacy/tokens/_serialize.py\u001b[0m in \u001b[0;36mfrom_disk\u001b[0;34m(self, path)\u001b[0m\n\u001b[1;32m    273\u001b[0m         \"\"\"\n\u001b[1;32m    274\u001b[0m         \u001b[0mpath\u001b[0m \u001b[0;34m=\u001b[0m \u001b[0mensure_path\u001b[0m\u001b[0;34m(\u001b[0m\u001b[0mpath\u001b[0m\u001b[0;34m)\u001b[0m\u001b[0;34m\u001b[0m\u001b[0;34m\u001b[0m\u001b[0m\n\u001b[0;32m--> 275\u001b[0;31m         \u001b[0;32mwith\u001b[0m \u001b[0mpath\u001b[0m\u001b[0;34m.\u001b[0m\u001b[0mopen\u001b[0m\u001b[0;34m(\u001b[0m\u001b[0;34m\"rb\"\u001b[0m\u001b[0;34m)\u001b[0m \u001b[0;32mas\u001b[0m \u001b[0mfile_\u001b[0m\u001b[0;34m:\u001b[0m\u001b[0;34m\u001b[0m\u001b[0;34m\u001b[0m\u001b[0m\n\u001b[0m\u001b[1;32m    276\u001b[0m             \u001b[0mself\u001b[0m\u001b[0;34m.\u001b[0m\u001b[0mfrom_bytes\u001b[0m\u001b[0;34m(\u001b[0m\u001b[0mfile_\u001b[0m\u001b[0;34m.\u001b[0m\u001b[0mread\u001b[0m\u001b[0;34m(\u001b[0m\u001b[0;34m)\u001b[0m\u001b[0;34m)\u001b[0m\u001b[0;34m\u001b[0m\u001b[0;34m\u001b[0m\u001b[0m\n\u001b[1;32m    277\u001b[0m         \u001b[0;32mreturn\u001b[0m \u001b[0mself\u001b[0m\u001b[0;34m\u001b[0m\u001b[0;34m\u001b[0m\u001b[0m\n",
            "\u001b[0;32m/usr/lib/python3.10/pathlib.py\u001b[0m in \u001b[0;36mopen\u001b[0;34m(self, mode, buffering, encoding, errors, newline)\u001b[0m\n\u001b[1;32m   1117\u001b[0m         \u001b[0;32mif\u001b[0m \u001b[0;34m\"b\"\u001b[0m \u001b[0;32mnot\u001b[0m \u001b[0;32min\u001b[0m \u001b[0mmode\u001b[0m\u001b[0;34m:\u001b[0m\u001b[0;34m\u001b[0m\u001b[0;34m\u001b[0m\u001b[0m\n\u001b[1;32m   1118\u001b[0m             \u001b[0mencoding\u001b[0m \u001b[0;34m=\u001b[0m \u001b[0mio\u001b[0m\u001b[0;34m.\u001b[0m\u001b[0mtext_encoding\u001b[0m\u001b[0;34m(\u001b[0m\u001b[0mencoding\u001b[0m\u001b[0;34m)\u001b[0m\u001b[0;34m\u001b[0m\u001b[0;34m\u001b[0m\u001b[0m\n\u001b[0;32m-> 1119\u001b[0;31m         return self._accessor.open(self, mode, buffering, encoding, errors,\n\u001b[0m\u001b[1;32m   1120\u001b[0m                                    newline)\n\u001b[1;32m   1121\u001b[0m \u001b[0;34m\u001b[0m\u001b[0m\n",
            "\u001b[0;31mFileNotFoundError\u001b[0m: [Errno 2] No such file or directory: '/content/spacy_ner_data/train_data.spacy'"
          ]
        }
      ]
    },
    {
      "cell_type": "code",
      "source": [
        "# convert spacy data into flair data\n",
        "import spacy\n",
        "from spacy.training import Corpus\n",
        "\n",
        "!python -m spacy download de_core_news_sm\n",
        "nlp = spacy.load(\"de_core_news_sm\")\n",
        "corpus = Corpus(\"/content/spacy_ner_data/test_data.spacy\")\n",
        "\n",
        "data = corpus(nlp)\n",
        "\n",
        "# Flair supports BIO and BIOES, see https://github.com/flairNLP/flair/issues/875\n",
        "def rename_biluo_to_bioes(old_tag):\n",
        "    new_tag = \"\"\n",
        "    try:\n",
        "        if old_tag.startswith(\"L\"):\n",
        "            new_tag = \"E\" + old_tag[1:]\n",
        "        elif old_tag.startswith(\"U\"):\n",
        "            new_tag = \"S\" + old_tag[1:]\n",
        "        else:\n",
        "            new_tag = old_tag\n",
        "    except:\n",
        "        pass\n",
        "    return new_tag\n",
        "\n",
        "\n",
        "def generate_corpus():\n",
        "    corpus = []\n",
        "    n_ex = 0\n",
        "    for example in data:\n",
        "        n_ex += 1\n",
        "        text = example.text\n",
        "        doc = nlp(text)\n",
        "        tags = example.get_aligned_ner()\n",
        "        # Check if it's an empty list of NER tags.\n",
        "        if None in tags:\n",
        "            pass\n",
        "        else:\n",
        "            new_tags = [rename_biluo_to_bioes(tag) for tag in tags]\n",
        "            for token, tag in zip(doc,new_tags):\n",
        "                row = token.text +' '+ token.pos_ +' ' +tag + '\\n'\n",
        "                corpus.append(row)\n",
        "            corpus.append('\\n')\n",
        "    return corpus\n",
        "\n",
        "def write_file(filepath):\n",
        "    with open(filepath, 'w', encoding='utf-8') as f:\n",
        "        corpus = generate_corpus()\n",
        "        f.writelines(corpus)\n",
        "\n",
        "def main():\n",
        "    write_file('flair_test.txt')\n",
        "\n",
        "main()"
      ],
      "metadata": {
        "id": "TbHBmnUyv65f",
        "colab": {
          "base_uri": "https://localhost:8080/"
        },
        "outputId": "be6d42bd-f6a2-4143-b278-f010c011ae8f"
      },
      "id": "TbHBmnUyv65f",
      "execution_count": null,
      "outputs": [
        {
          "output_type": "stream",
          "name": "stdout",
          "text": [
            "Collecting de-core-news-sm==3.7.0\n",
            "  Using cached https://github.com/explosion/spacy-models/releases/download/de_core_news_sm-3.7.0/de_core_news_sm-3.7.0-py3-none-any.whl (14.6 MB)\n",
            "Requirement already satisfied: spacy<3.8.0,>=3.7.0 in /usr/local/lib/python3.10/dist-packages (from de-core-news-sm==3.7.0) (3.7.5)\n",
            "Requirement already satisfied: spacy-legacy<3.1.0,>=3.0.11 in /usr/local/lib/python3.10/dist-packages (from spacy<3.8.0,>=3.7.0->de-core-news-sm==3.7.0) (3.0.12)\n",
            "Requirement already satisfied: spacy-loggers<2.0.0,>=1.0.0 in /usr/local/lib/python3.10/dist-packages (from spacy<3.8.0,>=3.7.0->de-core-news-sm==3.7.0) (1.0.5)\n",
            "Requirement already satisfied: murmurhash<1.1.0,>=0.28.0 in /usr/local/lib/python3.10/dist-packages (from spacy<3.8.0,>=3.7.0->de-core-news-sm==3.7.0) (1.0.10)\n",
            "Requirement already satisfied: cymem<2.1.0,>=2.0.2 in /usr/local/lib/python3.10/dist-packages (from spacy<3.8.0,>=3.7.0->de-core-news-sm==3.7.0) (2.0.8)\n",
            "Requirement already satisfied: preshed<3.1.0,>=3.0.2 in /usr/local/lib/python3.10/dist-packages (from spacy<3.8.0,>=3.7.0->de-core-news-sm==3.7.0) (3.0.9)\n",
            "Requirement already satisfied: thinc<8.3.0,>=8.2.2 in /usr/local/lib/python3.10/dist-packages (from spacy<3.8.0,>=3.7.0->de-core-news-sm==3.7.0) (8.2.5)\n",
            "Requirement already satisfied: wasabi<1.2.0,>=0.9.1 in /usr/local/lib/python3.10/dist-packages (from spacy<3.8.0,>=3.7.0->de-core-news-sm==3.7.0) (1.1.3)\n",
            "Requirement already satisfied: srsly<3.0.0,>=2.4.3 in /usr/local/lib/python3.10/dist-packages (from spacy<3.8.0,>=3.7.0->de-core-news-sm==3.7.0) (2.4.8)\n",
            "Requirement already satisfied: catalogue<2.1.0,>=2.0.6 in /usr/local/lib/python3.10/dist-packages (from spacy<3.8.0,>=3.7.0->de-core-news-sm==3.7.0) (2.0.10)\n",
            "Requirement already satisfied: weasel<0.5.0,>=0.1.0 in /usr/local/lib/python3.10/dist-packages (from spacy<3.8.0,>=3.7.0->de-core-news-sm==3.7.0) (0.4.1)\n",
            "Requirement already satisfied: typer<1.0.0,>=0.3.0 in /usr/local/lib/python3.10/dist-packages (from spacy<3.8.0,>=3.7.0->de-core-news-sm==3.7.0) (0.12.5)\n",
            "Requirement already satisfied: tqdm<5.0.0,>=4.38.0 in /usr/local/lib/python3.10/dist-packages (from spacy<3.8.0,>=3.7.0->de-core-news-sm==3.7.0) (4.66.5)\n",
            "Requirement already satisfied: requests<3.0.0,>=2.13.0 in /usr/local/lib/python3.10/dist-packages (from spacy<3.8.0,>=3.7.0->de-core-news-sm==3.7.0) (2.32.3)\n",
            "Requirement already satisfied: pydantic!=1.8,!=1.8.1,<3.0.0,>=1.7.4 in /usr/local/lib/python3.10/dist-packages (from spacy<3.8.0,>=3.7.0->de-core-news-sm==3.7.0) (2.9.2)\n",
            "Requirement already satisfied: jinja2 in /usr/local/lib/python3.10/dist-packages (from spacy<3.8.0,>=3.7.0->de-core-news-sm==3.7.0) (3.1.4)\n",
            "Requirement already satisfied: setuptools in /usr/local/lib/python3.10/dist-packages (from spacy<3.8.0,>=3.7.0->de-core-news-sm==3.7.0) (75.1.0)\n",
            "Requirement already satisfied: packaging>=20.0 in /usr/local/lib/python3.10/dist-packages (from spacy<3.8.0,>=3.7.0->de-core-news-sm==3.7.0) (24.1)\n",
            "Requirement already satisfied: langcodes<4.0.0,>=3.2.0 in /usr/local/lib/python3.10/dist-packages (from spacy<3.8.0,>=3.7.0->de-core-news-sm==3.7.0) (3.4.1)\n",
            "Requirement already satisfied: numpy>=1.19.0 in /usr/local/lib/python3.10/dist-packages (from spacy<3.8.0,>=3.7.0->de-core-news-sm==3.7.0) (1.26.4)\n",
            "Requirement already satisfied: language-data>=1.2 in /usr/local/lib/python3.10/dist-packages (from langcodes<4.0.0,>=3.2.0->spacy<3.8.0,>=3.7.0->de-core-news-sm==3.7.0) (1.2.0)\n",
            "Requirement already satisfied: annotated-types>=0.6.0 in /usr/local/lib/python3.10/dist-packages (from pydantic!=1.8,!=1.8.1,<3.0.0,>=1.7.4->spacy<3.8.0,>=3.7.0->de-core-news-sm==3.7.0) (0.7.0)\n",
            "Requirement already satisfied: pydantic-core==2.23.4 in /usr/local/lib/python3.10/dist-packages (from pydantic!=1.8,!=1.8.1,<3.0.0,>=1.7.4->spacy<3.8.0,>=3.7.0->de-core-news-sm==3.7.0) (2.23.4)\n",
            "Requirement already satisfied: typing-extensions>=4.6.1 in /usr/local/lib/python3.10/dist-packages (from pydantic!=1.8,!=1.8.1,<3.0.0,>=1.7.4->spacy<3.8.0,>=3.7.0->de-core-news-sm==3.7.0) (4.12.2)\n",
            "Requirement already satisfied: charset-normalizer<4,>=2 in /usr/local/lib/python3.10/dist-packages (from requests<3.0.0,>=2.13.0->spacy<3.8.0,>=3.7.0->de-core-news-sm==3.7.0) (3.4.0)\n",
            "Requirement already satisfied: idna<4,>=2.5 in /usr/local/lib/python3.10/dist-packages (from requests<3.0.0,>=2.13.0->spacy<3.8.0,>=3.7.0->de-core-news-sm==3.7.0) (3.10)\n",
            "Requirement already satisfied: urllib3<3,>=1.21.1 in /usr/local/lib/python3.10/dist-packages (from requests<3.0.0,>=2.13.0->spacy<3.8.0,>=3.7.0->de-core-news-sm==3.7.0) (2.2.3)\n",
            "Requirement already satisfied: certifi>=2017.4.17 in /usr/local/lib/python3.10/dist-packages (from requests<3.0.0,>=2.13.0->spacy<3.8.0,>=3.7.0->de-core-news-sm==3.7.0) (2024.8.30)\n",
            "Requirement already satisfied: blis<0.8.0,>=0.7.8 in /usr/local/lib/python3.10/dist-packages (from thinc<8.3.0,>=8.2.2->spacy<3.8.0,>=3.7.0->de-core-news-sm==3.7.0) (0.7.11)\n",
            "Requirement already satisfied: confection<1.0.0,>=0.0.1 in /usr/local/lib/python3.10/dist-packages (from thinc<8.3.0,>=8.2.2->spacy<3.8.0,>=3.7.0->de-core-news-sm==3.7.0) (0.1.5)\n",
            "Requirement already satisfied: click>=8.0.0 in /usr/local/lib/python3.10/dist-packages (from typer<1.0.0,>=0.3.0->spacy<3.8.0,>=3.7.0->de-core-news-sm==3.7.0) (8.1.7)\n",
            "Requirement already satisfied: shellingham>=1.3.0 in /usr/local/lib/python3.10/dist-packages (from typer<1.0.0,>=0.3.0->spacy<3.8.0,>=3.7.0->de-core-news-sm==3.7.0) (1.5.4)\n",
            "Requirement already satisfied: rich>=10.11.0 in /usr/local/lib/python3.10/dist-packages (from typer<1.0.0,>=0.3.0->spacy<3.8.0,>=3.7.0->de-core-news-sm==3.7.0) (13.9.3)\n",
            "Requirement already satisfied: cloudpathlib<1.0.0,>=0.7.0 in /usr/local/lib/python3.10/dist-packages (from weasel<0.5.0,>=0.1.0->spacy<3.8.0,>=3.7.0->de-core-news-sm==3.7.0) (0.20.0)\n",
            "Requirement already satisfied: smart-open<8.0.0,>=5.2.1 in /usr/local/lib/python3.10/dist-packages (from weasel<0.5.0,>=0.1.0->spacy<3.8.0,>=3.7.0->de-core-news-sm==3.7.0) (7.0.5)\n",
            "Requirement already satisfied: MarkupSafe>=2.0 in /usr/local/lib/python3.10/dist-packages (from jinja2->spacy<3.8.0,>=3.7.0->de-core-news-sm==3.7.0) (3.0.2)\n",
            "Requirement already satisfied: marisa-trie>=0.7.7 in /usr/local/lib/python3.10/dist-packages (from language-data>=1.2->langcodes<4.0.0,>=3.2.0->spacy<3.8.0,>=3.7.0->de-core-news-sm==3.7.0) (1.2.1)\n",
            "Requirement already satisfied: markdown-it-py>=2.2.0 in /usr/local/lib/python3.10/dist-packages (from rich>=10.11.0->typer<1.0.0,>=0.3.0->spacy<3.8.0,>=3.7.0->de-core-news-sm==3.7.0) (3.0.0)\n",
            "Requirement already satisfied: pygments<3.0.0,>=2.13.0 in /usr/local/lib/python3.10/dist-packages (from rich>=10.11.0->typer<1.0.0,>=0.3.0->spacy<3.8.0,>=3.7.0->de-core-news-sm==3.7.0) (2.18.0)\n",
            "Requirement already satisfied: wrapt in /usr/local/lib/python3.10/dist-packages (from smart-open<8.0.0,>=5.2.1->weasel<0.5.0,>=0.1.0->spacy<3.8.0,>=3.7.0->de-core-news-sm==3.7.0) (1.16.0)\n",
            "Requirement already satisfied: mdurl~=0.1 in /usr/local/lib/python3.10/dist-packages (from markdown-it-py>=2.2.0->rich>=10.11.0->typer<1.0.0,>=0.3.0->spacy<3.8.0,>=3.7.0->de-core-news-sm==3.7.0) (0.1.2)\n",
            "\u001b[38;5;2m✔ Download and installation successful\u001b[0m\n",
            "You can now load the package via spacy.load('de_core_news_sm')\n",
            "\u001b[38;5;3m⚠ Restart to reload dependencies\u001b[0m\n",
            "If you are in a Jupyter or Colab notebook, you may need to restart Python in\n",
            "order to load all the package's dependencies. You can do this by selecting the\n",
            "'Restart kernel' or 'Restart runtime' option.\n"
          ]
        }
      ]
    },
    {
      "cell_type": "code",
      "source": [
        "# convert json into flair data\n",
        "import json\n",
        "import random\n",
        "from typing import List, Dict, Tuple\n",
        "import spacy\n",
        "from collections import defaultdict\n",
        "\n",
        "class NERConverter:\n",
        "    def __init__(self):\n",
        "        self.nlp = spacy.load(\"en_core_web_sm\")\n",
        "\n",
        "    def get_bioes_label(self, token_index: int, entity_length: int, current_position: int, label: str) -> str:\n",
        "        \"\"\"\n",
        "        Convert to BIOES format\n",
        "        - S-: Single token entity\n",
        "        - B-: Beginning of multi-token entity\n",
        "        - I-: Inside of multi-token entity\n",
        "        - E-: End of multi-token entity\n",
        "        - O: Outside\n",
        "        \"\"\"\n",
        "        if entity_length == 1:\n",
        "            return f'S-{label}'\n",
        "        if current_position == 0:\n",
        "            return f'B-{label}'\n",
        "        if current_position == entity_length - 1:\n",
        "            return f'E-{label}'\n",
        "        return f'I-{label}'\n",
        "\n",
        "    def convert_to_bioes_format(self, json_data: List[dict]) -> List[List[Tuple[str, str]]]:\n",
        "        \"\"\"Convert JSON annotations to BIOES format.\"\"\"\n",
        "        all_sentences = []\n",
        "\n",
        "        for item in json_data:\n",
        "            text = item['data']['Text']\n",
        "            doc = self.nlp(text)\n",
        "\n",
        "            # Initialize character-level labels\n",
        "            char_labels = ['O'] * len(text)\n",
        "\n",
        "            # First pass: identify entity boundaries and lengths\n",
        "            entity_spans = []\n",
        "            if item['annotations'] and len(item['annotations']) > 0:\n",
        "                for ann in item['annotations'][0]['result']:\n",
        "                    if 'value' in ann:\n",
        "                        start = ann['value']['start']\n",
        "                        end = ann['value']['end']\n",
        "                        label = ann['value']['labels'][0]\n",
        "                        entity_spans.append((start, end, label))\n",
        "\n",
        "            # Sort spans by start position\n",
        "            entity_spans.sort(key=lambda x: x[0])\n",
        "\n",
        "            # Second pass: apply BIOES labels\n",
        "            for start, end, label in entity_spans:\n",
        "                # Get tokens that are part of this entity\n",
        "                entity_text = text[start:end]\n",
        "                entity_doc = self.nlp(entity_text)\n",
        "                entity_length = len([token for token in entity_doc if not token.is_space])\n",
        "\n",
        "                # Set labels for the entire span\n",
        "                current_token_idx = 0\n",
        "                for i in range(start, end):\n",
        "                    if i == start or text[i-1].isspace():\n",
        "                        char_labels[i] = self.get_bioes_label(i, entity_length, current_token_idx, label)\n",
        "                        current_token_idx += 1\n",
        "                    else:\n",
        "                        char_labels[i] = char_labels[i-1]\n",
        "\n",
        "            # Convert to token-level labels\n",
        "            current_sentence = []\n",
        "            for sent in doc.sents:\n",
        "                for token in sent:\n",
        "                    # Get the most common label for the token's characters\n",
        "                    token_chars_labels = char_labels[token.idx:token.idx + len(token.text)]\n",
        "                    label_counts = defaultdict(int)\n",
        "                    for char_label in token_chars_labels:\n",
        "                        label_counts[char_label] += 1\n",
        "\n",
        "                    token_label = max(label_counts.items(), key=lambda x: x[1])[0]\n",
        "                    current_sentence.append((token.text, token_label))\n",
        "\n",
        "                if current_sentence:\n",
        "                    all_sentences.append(current_sentence)\n",
        "                    current_sentence = []\n",
        "\n",
        "        return all_sentences\n",
        "\n",
        "    def write_flair_file(self, sentences: List[List[Tuple[str, str]]], filename: str):\n",
        "        \"\"\"Write sentences in BIOES format to file.\"\"\"\n",
        "        with open(filename, 'w', encoding='utf-8') as f:\n",
        "            for sentence in sentences:\n",
        "                for token, label in sentence:\n",
        "                    f.write(f'{token} {label}\\n')\n",
        "                f.write('\\n')\n",
        "\n",
        "    def convert_and_split(self, json_data: List[dict], train_file: str, test_file: str, test_ratio: float = 0.2):\n",
        "        \"\"\"Convert JSON to BIOES format and split into train/test sets.\"\"\"\n",
        "        all_sentences = self.convert_to_bioes_format(json_data)\n",
        "\n",
        "        # Shuffle and split\n",
        "        random.shuffle(all_sentences)\n",
        "        split_idx = int(len(all_sentences) * (1 - test_ratio))\n",
        "\n",
        "        train_sentences = all_sentences[:split_idx]\n",
        "        test_sentences = all_sentences[split_idx:]\n",
        "\n",
        "        # Write to files\n",
        "        self.write_flair_file(train_sentences, train_file)\n",
        "        self.write_flair_file(test_sentences, test_file)\n",
        "\n",
        "        return len(train_sentences), len(test_sentences)\n",
        "\n",
        "def main():\n",
        "    # Load JSON data\n",
        "    with open('/content/drive/MyDrive/FYP/Implementation/Resume Dataset/200_resumes_annotated.json', 'r', encoding='utf-8') as f:\n",
        "        json_data = json.load(f)\n",
        "\n",
        "    # Convert and split data\n",
        "    converter = NERConverter()\n",
        "    train_count, test_count = converter.convert_and_split(\n",
        "        json_data,\n",
        "        train_file='flair_train.txt',\n",
        "        test_file='flair_test.txt',\n",
        "        test_ratio=0.2\n",
        "    )\n",
        "\n",
        "    print(f'Created {train_count} training sentences and {test_count} test sentences')\n",
        "\n",
        "main()"
      ],
      "metadata": {
        "colab": {
          "base_uri": "https://localhost:8080/"
        },
        "id": "JYAkAghgs9k5",
        "outputId": "063663cd-4e5f-45fb-a0da-5462d0e5eb38"
      },
      "id": "JYAkAghgs9k5",
      "execution_count": 3,
      "outputs": [
        {
          "output_type": "stream",
          "name": "stdout",
          "text": [
            "Created 298 training sentences and 75 test sentences\n"
          ]
        }
      ]
    },
    {
      "cell_type": "code",
      "source": [
        "from flair.data import Corpus\n",
        "from flair.datasets import ColumnCorpus\n",
        "\n",
        "# Define columns for CoNLL (0: word, 1: label)\n",
        "columns = {0: 'text', 1: 'ner'}\n",
        "\n",
        "# Set data folder and file names\n",
        "data_folder = './'\n",
        "train_file = 'flair_train.txt'\n",
        "test_file = 'flair_test.txt'\n",
        "\n",
        "# Load the corpus\n",
        "corpus: Corpus = ColumnCorpus(data_folder, columns,\n",
        "                              train_file=train_file,\n",
        "                              test_file=test_file,\n",
        "                              dev_file=None)"
      ],
      "metadata": {
        "colab": {
          "base_uri": "https://localhost:8080/"
        },
        "id": "vl2-GpGBjpsi",
        "outputId": "0d901710-2248-43a2-d7ff-55c41f31817b"
      },
      "id": "vl2-GpGBjpsi",
      "execution_count": 4,
      "outputs": [
        {
          "output_type": "stream",
          "name": "stdout",
          "text": [
            "2024-11-05 13:48:12,229 Reading data from .\n",
            "2024-11-05 13:48:12,230 Train: flair_train.txt\n",
            "2024-11-05 13:48:12,233 Dev: None\n",
            "2024-11-05 13:48:12,234 Test: flair_test.txt\n",
            "2024-11-05 13:48:13,386 No dev split found. Using 10% (i.e. 30 samples) of the train split as dev data\n"
          ]
        }
      ]
    },
    {
      "cell_type": "code",
      "source": [
        "tag_dictionary = corpus.make_label_dictionary(label_type='ner')\n",
        "print(\"Labels:\", tag_dictionary.get_items())"
      ],
      "metadata": {
        "colab": {
          "base_uri": "https://localhost:8080/"
        },
        "id": "d_skLRc8i44m",
        "outputId": "0a496508-e6a2-48a7-b1db-0e159b939be9"
      },
      "id": "d_skLRc8i44m",
      "execution_count": 5,
      "outputs": [
        {
          "output_type": "stream",
          "name": "stdout",
          "text": [
            "2024-11-05 13:48:24,830 Computing label dictionary. Progress:\n"
          ]
        },
        {
          "output_type": "stream",
          "name": "stderr",
          "text": [
            "0it [00:00, ?it/s]\n",
            "268it [00:00, 8598.17it/s]"
          ]
        },
        {
          "output_type": "stream",
          "name": "stdout",
          "text": [
            "2024-11-05 13:48:24,874 Dictionary created for label 'ner' with 11 values: SKILL (seen 2343 times), JOB (seen 543 times), WORK (seen 470 times), COMPANY (seen 381 times), LOC (seen 237 times), UNI (seen 149 times), NAME (seen 146 times), PHONE (seen 144 times), DEG (seen 144 times), STUDY (seen 125 times), EMAIL (seen 112 times)\n",
            "Labels: ['SKILL', 'JOB', 'WORK', 'COMPANY', 'LOC', 'UNI', 'NAME', 'PHONE', 'DEG', 'STUDY', 'EMAIL']\n"
          ]
        },
        {
          "output_type": "stream",
          "name": "stderr",
          "text": [
            "\n"
          ]
        }
      ]
    },
    {
      "cell_type": "code",
      "source": [
        "from collections import Counter\n",
        "\n",
        "def count_labels(file_path):\n",
        "    with open(file_path, 'r') as file:\n",
        "        labels = [line.split()[-1] for line in file if line.strip()]\n",
        "    return Counter(labels)\n",
        "\n",
        "print(\"Train label distribution:\", count_labels('flair_train.txt'))\n",
        "print(\"Test label distribution:\", count_labels('flair_test.txt'))"
      ],
      "metadata": {
        "colab": {
          "base_uri": "https://localhost:8080/"
        },
        "id": "j5cXWOiGY5an",
        "outputId": "cfd0c96c-a5ed-4354-b72c-cc2d19ca62e1"
      },
      "id": "j5cXWOiGY5an",
      "execution_count": 6,
      "outputs": [
        {
          "output_type": "stream",
          "name": "stdout",
          "text": [
            "Train label distribution: Counter({'O': 70550, 'S-SKILL': 1494, 'PER': 1185, 'B-SKILL': 992, 'E-SKILL': 989, 'E-JOB': 532, 'B-JOB': 525, 'E-COMPANY': 338, 'B-COMPANY': 335, 'I-JOB': 296, 'I-DEG': 254, 'I-COMPANY': 242, 'I-SKILL': 197, 'E-UNI': 163, 'B-UNI': 162, 'B-NAME': 158, 'E-NAME': 158, 'S-LOC': 156, 'E-DEG': 154, 'B-DEG': 153, 'E-PHONE': 132, 'B-PHONE': 130, 'I-UNI': 126, 'S-EMAIL': 121, 'B-LOC': 102, 'E-LOC': 102, 'I-PHONE': 83, 'S-COMPANY': 67, 'S-JOB': 52, 'S-PHONE': 22, 'I-NAME': 7, 'S-DEG': 6, 'I-LOC': 3, 'S-UNI': 2, 'B-EMAIL': 1, 'E-EMAIL': 1})\n",
            "Test label distribution: Counter({'O': 18543, 'PER': 326, 'S-SKILL': 297, 'B-SKILL': 221, 'E-SKILL': 220, 'E-JOB': 127, 'B-JOB': 122, 'E-COMPANY': 89, 'B-COMPANY': 87, 'I-DEG': 80, 'I-COMPANY': 73, 'I-JOB': 61, 'B-UNI': 52, 'E-UNI': 52, 'S-LOC': 49, 'B-DEG': 48, 'E-DEG': 48, 'I-UNI': 45, 'I-SKILL': 39, 'B-NAME': 33, 'E-NAME': 33, 'S-EMAIL': 27, 'B-LOC': 26, 'E-LOC': 26, 'B-PHONE': 25, 'E-PHONE': 25, 'S-JOB': 23, 'I-PHONE': 23, 'S-COMPANY': 12, 'S-PHONE': 7, 'I-NAME': 3, 'I-LOC': 2, 'S-DEG': 1})\n"
          ]
        }
      ]
    },
    {
      "cell_type": "code",
      "source": [
        "# create NER tagger\n",
        "from flair.embeddings import WordEmbeddings, StackedEmbeddings, TransformerWordEmbeddings, FlairEmbeddings\n",
        "from flair.models import SequenceTagger\n",
        "\n",
        "# using LSTM-CRF on top of frozen embeddings\n",
        "# combine flair and glove embeddings\n",
        "# embeddings = StackedEmbeddings([\n",
        "#                 WordEmbeddings('glove'),\n",
        "#                 FlairEmbeddings('news-forward'),\n",
        "#                 FlairEmbeddings('news-backward'),\n",
        "#             ])\n",
        "# tagger = SequenceTagger(hidden_size=256,\n",
        "#                          embeddings=embeddings,\n",
        "#                          tag_dictionary=tag_dictionary,\n",
        "#                          tag_type='ner',\n",
        "#                          use_crf=True,\n",
        "#                          tag_format = 'BIOES')\n",
        "\n",
        "# using transformer embedding\n",
        "# embeddings = TransformerWordEmbeddings('bert-base-uncased',\n",
        "#                                       fine_tune=True,\n",
        "#                                       layers='-1',\n",
        "#                                       subtoken_pooling='first')\n",
        "embeddings = TransformerWordEmbeddings(\n",
        "    'roberta-base',  # or 'bert-base-uncased'\n",
        "    fine_tune=True,\n",
        "    layers='-1,-2,-3,-4',  # Use last 4 layers\n",
        "    subtoken_pooling='first',\n",
        "    allow_long_sentences=True\n",
        ")\n",
        "tagger = SequenceTagger(hidden_size=256,\n",
        "                         embeddings=embeddings,\n",
        "                         tag_dictionary=tag_dictionary,\n",
        "                         tag_type='ner',\n",
        "                         use_crf=False,\n",
        "                         use_rnn=False,\n",
        "                         reproject_embeddings=False,\n",
        "                         tag_format = 'BIOES')"
      ],
      "metadata": {
        "id": "QEBUKmiAnaFm",
        "colab": {
          "base_uri": "https://localhost:8080/"
        },
        "outputId": "b0533957-344d-4f7b-a098-c6a0cb92975c"
      },
      "id": "QEBUKmiAnaFm",
      "execution_count": 7,
      "outputs": [
        {
          "output_type": "stream",
          "name": "stderr",
          "text": [
            "/usr/local/lib/python3.10/dist-packages/huggingface_hub/utils/_token.py:89: UserWarning: \n",
            "The secret `HF_TOKEN` does not exist in your Colab secrets.\n",
            "To authenticate with the Hugging Face Hub, create a token in your settings tab (https://huggingface.co/settings/tokens), set it as secret in your Google Colab and restart your session.\n",
            "You will be able to reuse this secret in all of your notebooks.\n",
            "Please note that authentication is recommended but still optional to access public models or datasets.\n",
            "  warnings.warn(\n",
            "/usr/local/lib/python3.10/dist-packages/transformers/tokenization_utils_base.py:1601: FutureWarning: `clean_up_tokenization_spaces` was not set. It will be set to `True` by default. This behavior will be depracted in transformers v4.45, and will be then set to `False` by default. For more details check this issue: https://github.com/huggingface/transformers/issues/31884\n",
            "  warnings.warn(\n"
          ]
        },
        {
          "output_type": "stream",
          "name": "stdout",
          "text": [
            "2024-11-05 13:48:36,528 SequenceTagger predicts: Dictionary with 45 tags: O, S-SKILL, B-SKILL, E-SKILL, I-SKILL, S-JOB, B-JOB, E-JOB, I-JOB, S-WORK, B-WORK, E-WORK, I-WORK, S-COMPANY, B-COMPANY, E-COMPANY, I-COMPANY, S-LOC, B-LOC, E-LOC, I-LOC, S-UNI, B-UNI, E-UNI, I-UNI, S-NAME, B-NAME, E-NAME, I-NAME, S-PHONE, B-PHONE, E-PHONE, I-PHONE, S-DEG, B-DEG, E-DEG, I-DEG, S-STUDY, B-STUDY, E-STUDY, I-STUDY, S-EMAIL, B-EMAIL, E-EMAIL, I-EMAIL\n"
          ]
        }
      ]
    },
    {
      "cell_type": "code",
      "source": [
        "# train flair ner model\n",
        "from flair.trainers import ModelTrainer\n",
        "from flair.training_utils import EvaluationMetric\n",
        "\n",
        "trainer = ModelTrainer(tagger, corpus)\n",
        "\n",
        "trainer.train(\n",
        "    base_path='flair_output/',\n",
        "    learning_rate=0.01,\n",
        "    mini_batch_size=8,\n",
        "    max_epochs=30,\n",
        "    train_with_dev=False\n",
        ")\n",
        "!cp -r ./flair_output /content/drive/MyDrive/FYP/Implementation/"
      ],
      "metadata": {
        "id": "XbuJ4VjCnoPU",
        "colab": {
          "base_uri": "https://localhost:8080/"
        },
        "outputId": "365f7ec3-584c-4f92-d90f-3be1472f96ee"
      },
      "id": "XbuJ4VjCnoPU",
      "execution_count": 8,
      "outputs": [
        {
          "output_type": "stream",
          "name": "stdout",
          "text": [
            "2024-11-05 13:48:40,713 ----------------------------------------------------------------------------------------------------\n",
            "2024-11-05 13:48:40,716 Model: \"SequenceTagger(\n",
            "  (embeddings): TransformerWordEmbeddings(\n",
            "    (model): RobertaModel(\n",
            "      (embeddings): RobertaEmbeddings(\n",
            "        (word_embeddings): Embedding(50266, 768, padding_idx=1)\n",
            "        (position_embeddings): Embedding(514, 768, padding_idx=1)\n",
            "        (token_type_embeddings): Embedding(1, 768)\n",
            "        (LayerNorm): LayerNorm((768,), eps=1e-05, elementwise_affine=True)\n",
            "        (dropout): Dropout(p=0.1, inplace=False)\n",
            "      )\n",
            "      (encoder): RobertaEncoder(\n",
            "        (layer): ModuleList(\n",
            "          (0-11): 12 x RobertaLayer(\n",
            "            (attention): RobertaAttention(\n",
            "              (self): RobertaSelfAttention(\n",
            "                (query): Linear(in_features=768, out_features=768, bias=True)\n",
            "                (key): Linear(in_features=768, out_features=768, bias=True)\n",
            "                (value): Linear(in_features=768, out_features=768, bias=True)\n",
            "                (dropout): Dropout(p=0.1, inplace=False)\n",
            "              )\n",
            "              (output): RobertaSelfOutput(\n",
            "                (dense): Linear(in_features=768, out_features=768, bias=True)\n",
            "                (LayerNorm): LayerNorm((768,), eps=1e-05, elementwise_affine=True)\n",
            "                (dropout): Dropout(p=0.1, inplace=False)\n",
            "              )\n",
            "            )\n",
            "            (intermediate): RobertaIntermediate(\n",
            "              (dense): Linear(in_features=768, out_features=3072, bias=True)\n",
            "              (intermediate_act_fn): GELUActivation()\n",
            "            )\n",
            "            (output): RobertaOutput(\n",
            "              (dense): Linear(in_features=3072, out_features=768, bias=True)\n",
            "              (LayerNorm): LayerNorm((768,), eps=1e-05, elementwise_affine=True)\n",
            "              (dropout): Dropout(p=0.1, inplace=False)\n",
            "            )\n",
            "          )\n",
            "        )\n",
            "      )\n",
            "      (pooler): RobertaPooler(\n",
            "        (dense): Linear(in_features=768, out_features=768, bias=True)\n",
            "        (activation): Tanh()\n",
            "      )\n",
            "    )\n",
            "  )\n",
            "  (locked_dropout): LockedDropout(p=0.5)\n",
            "  (linear): Linear(in_features=768, out_features=45, bias=True)\n",
            "  (loss_function): CrossEntropyLoss()\n",
            ")\"\n",
            "2024-11-05 13:48:40,720 ----------------------------------------------------------------------------------------------------\n",
            "2024-11-05 13:48:40,725 Corpus: 268 train + 30 dev + 75 test sentences\n",
            "2024-11-05 13:48:40,726 ----------------------------------------------------------------------------------------------------\n",
            "2024-11-05 13:48:40,728 Train:  268 sentences\n",
            "2024-11-05 13:48:40,732         (train_with_dev=False, train_with_test=False)\n",
            "2024-11-05 13:48:40,733 ----------------------------------------------------------------------------------------------------\n",
            "2024-11-05 13:48:40,737 Training Params:\n",
            "2024-11-05 13:48:40,739  - learning_rate: \"0.01\" \n",
            "2024-11-05 13:48:40,740  - mini_batch_size: \"8\"\n",
            "2024-11-05 13:48:40,740  - max_epochs: \"30\"\n",
            "2024-11-05 13:48:40,741  - shuffle: \"True\"\n",
            "2024-11-05 13:48:40,742 ----------------------------------------------------------------------------------------------------\n",
            "2024-11-05 13:48:40,746 Plugins:\n",
            "2024-11-05 13:48:40,747  - AnnealOnPlateau | patience: '3', anneal_factor: '0.5', min_learning_rate: '0.0001'\n",
            "2024-11-05 13:48:40,748 ----------------------------------------------------------------------------------------------------\n",
            "2024-11-05 13:48:40,749 Final evaluation on model from best epoch (best-model.pt)\n",
            "2024-11-05 13:48:40,750  - metric: \"('micro avg', 'f1-score')\"\n",
            "2024-11-05 13:48:40,751 ----------------------------------------------------------------------------------------------------\n",
            "2024-11-05 13:48:40,755 Computation:\n",
            "2024-11-05 13:48:40,756  - compute on device: cuda:0\n",
            "2024-11-05 13:48:40,757  - embedding storage: cpu\n",
            "2024-11-05 13:48:40,758 ----------------------------------------------------------------------------------------------------\n",
            "2024-11-05 13:48:40,758 Model training base path: \"flair_output\"\n",
            "2024-11-05 13:48:40,763 ----------------------------------------------------------------------------------------------------\n",
            "2024-11-05 13:48:40,765 ----------------------------------------------------------------------------------------------------\n"
          ]
        },
        {
          "output_type": "stream",
          "name": "stderr",
          "text": [
            "/usr/local/lib/python3.10/dist-packages/flair/trainers/trainer.py:499: FutureWarning: `torch.cuda.amp.GradScaler(args...)` is deprecated. Please use `torch.amp.GradScaler('cuda', args...)` instead.\n",
            "  scaler = torch.cuda.amp.GradScaler(enabled=use_amp and flair.device.type != \"cpu\")\n"
          ]
        },
        {
          "output_type": "stream",
          "name": "stdout",
          "text": [
            "2024-11-05 13:48:44,919 epoch 1 - iter 3/34 - loss 3.98899651 - time (sec): 4.15 - samples/sec: 1556.43 - lr: 0.010000 - momentum: 0.000000\n",
            "2024-11-05 13:48:47,896 epoch 1 - iter 6/34 - loss 2.90786798 - time (sec): 7.13 - samples/sec: 1935.27 - lr: 0.010000 - momentum: 0.000000\n",
            "2024-11-05 13:48:50,572 epoch 1 - iter 9/34 - loss 2.22880260 - time (sec): 9.80 - samples/sec: 2073.66 - lr: 0.010000 - momentum: 0.000000\n",
            "2024-11-05 13:48:53,517 epoch 1 - iter 12/34 - loss 1.88428828 - time (sec): 12.75 - samples/sec: 2165.05 - lr: 0.010000 - momentum: 0.000000\n",
            "2024-11-05 13:48:56,211 epoch 1 - iter 15/34 - loss 1.72259978 - time (sec): 15.44 - samples/sec: 2174.03 - lr: 0.010000 - momentum: 0.000000\n",
            "2024-11-05 13:48:59,039 epoch 1 - iter 18/34 - loss 1.58946207 - time (sec): 18.27 - samples/sec: 2169.91 - lr: 0.010000 - momentum: 0.000000\n",
            "2024-11-05 13:49:01,602 epoch 1 - iter 21/34 - loss 1.47110825 - time (sec): 20.83 - samples/sec: 2221.07 - lr: 0.010000 - momentum: 0.000000\n",
            "2024-11-05 13:49:04,473 epoch 1 - iter 24/34 - loss 1.38548858 - time (sec): 23.70 - samples/sec: 2217.57 - lr: 0.010000 - momentum: 0.000000\n",
            "2024-11-05 13:49:06,708 epoch 1 - iter 27/34 - loss 1.34001340 - time (sec): 25.94 - samples/sec: 2231.07 - lr: 0.010000 - momentum: 0.000000\n",
            "2024-11-05 13:49:10,294 epoch 1 - iter 30/34 - loss 1.26986196 - time (sec): 29.53 - samples/sec: 2173.97 - lr: 0.010000 - momentum: 0.000000\n",
            "2024-11-05 13:49:13,198 epoch 1 - iter 33/34 - loss 1.20300664 - time (sec): 32.43 - samples/sec: 2211.20 - lr: 0.010000 - momentum: 0.000000\n",
            "2024-11-05 13:49:14,179 ----------------------------------------------------------------------------------------------------\n",
            "2024-11-05 13:49:14,180 EPOCH 1 done: loss 1.1908 - lr: 0.010000\n"
          ]
        },
        {
          "output_type": "stream",
          "name": "stderr",
          "text": [
            "100%|██████████| 1/1 [00:02<00:00,  2.24s/it]"
          ]
        },
        {
          "output_type": "stream",
          "name": "stdout",
          "text": [
            "2024-11-05 13:49:16,449 DEV : loss 0.533987820148468 - f1-score (micro avg)  0.0\n",
            "2024-11-05 13:49:16,466  - 0 epochs without improvement\n",
            "2024-11-05 13:49:16,468 ----------------------------------------------------------------------------------------------------\n"
          ]
        },
        {
          "output_type": "stream",
          "name": "stderr",
          "text": [
            "\n"
          ]
        },
        {
          "output_type": "stream",
          "name": "stdout",
          "text": [
            "2024-11-05 13:49:18,898 epoch 2 - iter 3/34 - loss 0.67862276 - time (sec): 2.43 - samples/sec: 3026.53 - lr: 0.010000 - momentum: 0.000000\n",
            "2024-11-05 13:49:21,464 epoch 2 - iter 6/34 - loss 0.73772709 - time (sec): 4.99 - samples/sec: 2292.32 - lr: 0.010000 - momentum: 0.000000\n",
            "2024-11-05 13:49:24,879 epoch 2 - iter 9/34 - loss 0.68084555 - time (sec): 8.41 - samples/sec: 2314.54 - lr: 0.010000 - momentum: 0.000000\n",
            "2024-11-05 13:49:27,567 epoch 2 - iter 12/34 - loss 0.69029642 - time (sec): 11.09 - samples/sec: 2286.92 - lr: 0.010000 - momentum: 0.000000\n",
            "2024-11-05 13:49:30,927 epoch 2 - iter 15/34 - loss 0.68896711 - time (sec): 14.45 - samples/sec: 2362.10 - lr: 0.010000 - momentum: 0.000000\n",
            "2024-11-05 13:49:34,597 epoch 2 - iter 18/34 - loss 0.67209432 - time (sec): 18.12 - samples/sec: 2295.14 - lr: 0.010000 - momentum: 0.000000\n",
            "2024-11-05 13:49:37,450 epoch 2 - iter 21/34 - loss 0.67426264 - time (sec): 20.98 - samples/sec: 2274.55 - lr: 0.010000 - momentum: 0.000000\n",
            "2024-11-05 13:49:40,015 epoch 2 - iter 24/34 - loss 0.69193184 - time (sec): 23.54 - samples/sec: 2269.32 - lr: 0.010000 - momentum: 0.000000\n",
            "2024-11-05 13:49:42,633 epoch 2 - iter 27/34 - loss 0.69748099 - time (sec): 26.16 - samples/sec: 2250.04 - lr: 0.010000 - momentum: 0.000000\n",
            "2024-11-05 13:49:45,212 epoch 2 - iter 30/34 - loss 0.70935506 - time (sec): 28.74 - samples/sec: 2228.06 - lr: 0.010000 - momentum: 0.000000\n",
            "2024-11-05 13:49:48,186 epoch 2 - iter 33/34 - loss 0.70526048 - time (sec): 31.71 - samples/sec: 2263.70 - lr: 0.010000 - momentum: 0.000000\n",
            "2024-11-05 13:49:49,230 ----------------------------------------------------------------------------------------------------\n",
            "2024-11-05 13:49:49,232 EPOCH 2 done: loss 0.7057 - lr: 0.010000\n"
          ]
        },
        {
          "output_type": "stream",
          "name": "stderr",
          "text": [
            "100%|██████████| 1/1 [00:03<00:00,  3.62s/it]"
          ]
        },
        {
          "output_type": "stream",
          "name": "stdout",
          "text": [
            "2024-11-05 13:49:52,884 DEV : loss 0.5216836333274841 - f1-score (micro avg)  0.0\n",
            "2024-11-05 13:49:52,898  - 0 epochs without improvement\n",
            "2024-11-05 13:49:52,899 ----------------------------------------------------------------------------------------------------\n"
          ]
        },
        {
          "output_type": "stream",
          "name": "stderr",
          "text": [
            "\n"
          ]
        },
        {
          "output_type": "stream",
          "name": "stdout",
          "text": [
            "2024-11-05 13:49:55,923 epoch 3 - iter 3/34 - loss 0.61697079 - time (sec): 3.02 - samples/sec: 2487.99 - lr: 0.010000 - momentum: 0.000000\n",
            "2024-11-05 13:49:59,178 epoch 3 - iter 6/34 - loss 0.61119844 - time (sec): 6.27 - samples/sec: 2382.39 - lr: 0.010000 - momentum: 0.000000\n",
            "2024-11-05 13:50:02,619 epoch 3 - iter 9/34 - loss 0.62009006 - time (sec): 9.72 - samples/sec: 2157.64 - lr: 0.010000 - momentum: 0.000000\n",
            "2024-11-05 13:50:05,465 epoch 3 - iter 12/34 - loss 0.62885301 - time (sec): 12.56 - samples/sec: 2174.79 - lr: 0.010000 - momentum: 0.000000\n",
            "2024-11-05 13:50:08,261 epoch 3 - iter 15/34 - loss 0.62918262 - time (sec): 15.36 - samples/sec: 2108.11 - lr: 0.010000 - momentum: 0.000000\n",
            "2024-11-05 13:50:11,701 epoch 3 - iter 18/34 - loss 0.63916057 - time (sec): 18.80 - samples/sec: 2093.54 - lr: 0.010000 - momentum: 0.000000\n",
            "2024-11-05 13:50:13,923 epoch 3 - iter 21/34 - loss 0.64886432 - time (sec): 21.02 - samples/sec: 2087.87 - lr: 0.010000 - momentum: 0.000000\n",
            "2024-11-05 13:50:16,597 epoch 3 - iter 24/34 - loss 0.66790102 - time (sec): 23.69 - samples/sec: 2171.65 - lr: 0.010000 - momentum: 0.000000\n",
            "2024-11-05 13:50:20,048 epoch 3 - iter 27/34 - loss 0.66976145 - time (sec): 27.14 - samples/sec: 2129.52 - lr: 0.010000 - momentum: 0.000000\n",
            "2024-11-05 13:50:22,915 epoch 3 - iter 30/34 - loss 0.66432364 - time (sec): 30.01 - samples/sec: 2151.51 - lr: 0.010000 - momentum: 0.000000\n",
            "2024-11-05 13:50:26,204 epoch 3 - iter 33/34 - loss 0.65090504 - time (sec): 33.30 - samples/sec: 2176.52 - lr: 0.010000 - momentum: 0.000000\n",
            "2024-11-05 13:50:27,270 ----------------------------------------------------------------------------------------------------\n",
            "2024-11-05 13:50:27,273 EPOCH 3 done: loss 0.6490 - lr: 0.010000\n"
          ]
        },
        {
          "output_type": "stream",
          "name": "stderr",
          "text": [
            "100%|██████████| 1/1 [00:01<00:00,  1.96s/it]"
          ]
        },
        {
          "output_type": "stream",
          "name": "stdout",
          "text": [
            "2024-11-05 13:50:29,268 DEV : loss 0.5122931003570557 - f1-score (micro avg)  0.0\n",
            "2024-11-05 13:50:29,280  - 0 epochs without improvement\n",
            "2024-11-05 13:50:29,281 ----------------------------------------------------------------------------------------------------\n"
          ]
        },
        {
          "output_type": "stream",
          "name": "stderr",
          "text": [
            "\n"
          ]
        },
        {
          "output_type": "stream",
          "name": "stdout",
          "text": [
            "2024-11-05 13:50:32,505 epoch 4 - iter 3/34 - loss 0.53432385 - time (sec): 3.22 - samples/sec: 2325.20 - lr: 0.010000 - momentum: 0.000000\n",
            "2024-11-05 13:50:35,650 epoch 4 - iter 6/34 - loss 0.58432454 - time (sec): 6.36 - samples/sec: 2130.62 - lr: 0.010000 - momentum: 0.000000\n",
            "2024-11-05 13:50:38,569 epoch 4 - iter 9/34 - loss 0.59114318 - time (sec): 9.28 - samples/sec: 2132.91 - lr: 0.010000 - momentum: 0.000000\n",
            "2024-11-05 13:50:41,577 epoch 4 - iter 12/34 - loss 0.60294572 - time (sec): 12.29 - samples/sec: 2112.31 - lr: 0.010000 - momentum: 0.000000\n",
            "2024-11-05 13:50:44,483 epoch 4 - iter 15/34 - loss 0.60407991 - time (sec): 15.20 - samples/sec: 2094.34 - lr: 0.010000 - momentum: 0.000000\n",
            "2024-11-05 13:50:47,213 epoch 4 - iter 18/34 - loss 0.60114946 - time (sec): 17.93 - samples/sec: 2137.98 - lr: 0.010000 - momentum: 0.000000\n",
            "2024-11-05 13:50:50,438 epoch 4 - iter 21/34 - loss 0.59839081 - time (sec): 21.15 - samples/sec: 2128.49 - lr: 0.010000 - momentum: 0.000000\n",
            "2024-11-05 13:50:54,408 epoch 4 - iter 24/34 - loss 0.59817358 - time (sec): 25.12 - samples/sec: 2149.96 - lr: 0.010000 - momentum: 0.000000\n",
            "2024-11-05 13:50:56,864 epoch 4 - iter 27/34 - loss 0.61938567 - time (sec): 27.58 - samples/sec: 2141.29 - lr: 0.010000 - momentum: 0.000000\n",
            "2024-11-05 13:50:59,873 epoch 4 - iter 30/34 - loss 0.61164264 - time (sec): 30.59 - samples/sec: 2145.87 - lr: 0.010000 - momentum: 0.000000\n",
            "2024-11-05 13:51:03,480 epoch 4 - iter 33/34 - loss 0.60240037 - time (sec): 34.19 - samples/sec: 2127.64 - lr: 0.010000 - momentum: 0.000000\n",
            "2024-11-05 13:51:04,059 ----------------------------------------------------------------------------------------------------\n",
            "2024-11-05 13:51:04,060 EPOCH 4 done: loss 0.6044 - lr: 0.010000\n"
          ]
        },
        {
          "output_type": "stream",
          "name": "stderr",
          "text": [
            "100%|██████████| 1/1 [00:01<00:00,  1.80s/it]"
          ]
        },
        {
          "output_type": "stream",
          "name": "stdout",
          "text": [
            "2024-11-05 13:51:05,893 DEV : loss 0.5133885145187378 - f1-score (micro avg)  0.0\n",
            "2024-11-05 13:51:05,905  - 1 epochs without improvement\n",
            "2024-11-05 13:51:05,907 ----------------------------------------------------------------------------------------------------\n"
          ]
        },
        {
          "output_type": "stream",
          "name": "stderr",
          "text": [
            "\n"
          ]
        },
        {
          "output_type": "stream",
          "name": "stdout",
          "text": [
            "2024-11-05 13:51:08,085 epoch 5 - iter 3/34 - loss 0.61448678 - time (sec): 2.17 - samples/sec: 2327.71 - lr: 0.010000 - momentum: 0.000000\n",
            "2024-11-05 13:51:10,479 epoch 5 - iter 6/34 - loss 0.58602089 - time (sec): 4.57 - samples/sec: 2407.14 - lr: 0.010000 - momentum: 0.000000\n",
            "2024-11-05 13:51:13,647 epoch 5 - iter 9/34 - loss 0.58452558 - time (sec): 7.73 - samples/sec: 2217.91 - lr: 0.010000 - momentum: 0.000000\n",
            "2024-11-05 13:51:17,084 epoch 5 - iter 12/34 - loss 0.54880336 - time (sec): 11.17 - samples/sec: 2242.77 - lr: 0.010000 - momentum: 0.000000\n",
            "2024-11-05 13:51:20,579 epoch 5 - iter 15/34 - loss 0.56557208 - time (sec): 14.67 - samples/sec: 2164.19 - lr: 0.010000 - momentum: 0.000000\n",
            "2024-11-05 13:51:24,279 epoch 5 - iter 18/34 - loss 0.54839353 - time (sec): 18.37 - samples/sec: 2198.69 - lr: 0.010000 - momentum: 0.000000\n",
            "2024-11-05 13:51:27,298 epoch 5 - iter 21/34 - loss 0.56566855 - time (sec): 21.39 - samples/sec: 2121.82 - lr: 0.010000 - momentum: 0.000000\n",
            "2024-11-05 13:51:29,758 epoch 5 - iter 24/34 - loss 0.56139082 - time (sec): 23.85 - samples/sec: 2159.85 - lr: 0.010000 - momentum: 0.000000\n",
            "2024-11-05 13:51:32,464 epoch 5 - iter 27/34 - loss 0.55767437 - time (sec): 26.55 - samples/sec: 2182.16 - lr: 0.010000 - momentum: 0.000000\n",
            "2024-11-05 13:51:35,389 epoch 5 - iter 30/34 - loss 0.56065992 - time (sec): 29.48 - samples/sec: 2183.39 - lr: 0.010000 - momentum: 0.000000\n",
            "2024-11-05 13:51:38,618 epoch 5 - iter 33/34 - loss 0.55802470 - time (sec): 32.71 - samples/sec: 2204.25 - lr: 0.010000 - momentum: 0.000000\n",
            "2024-11-05 13:51:39,716 ----------------------------------------------------------------------------------------------------\n",
            "2024-11-05 13:51:39,717 EPOCH 5 done: loss 0.5575 - lr: 0.010000\n"
          ]
        },
        {
          "output_type": "stream",
          "name": "stderr",
          "text": [
            "100%|██████████| 1/1 [00:02<00:00,  2.81s/it]"
          ]
        },
        {
          "output_type": "stream",
          "name": "stdout",
          "text": [
            "2024-11-05 13:51:42,570 DEV : loss 0.510371208190918 - f1-score (micro avg)  0.0\n",
            "2024-11-05 13:51:42,591  - 0 epochs without improvement\n",
            "2024-11-05 13:51:42,593 ----------------------------------------------------------------------------------------------------\n"
          ]
        },
        {
          "output_type": "stream",
          "name": "stderr",
          "text": [
            "\n"
          ]
        },
        {
          "output_type": "stream",
          "name": "stdout",
          "text": [
            "2024-11-05 13:51:45,345 epoch 6 - iter 3/34 - loss 0.58217464 - time (sec): 2.75 - samples/sec: 2070.36 - lr: 0.010000 - momentum: 0.000000\n",
            "2024-11-05 13:51:48,190 epoch 6 - iter 6/34 - loss 0.53662452 - time (sec): 5.59 - samples/sec: 2319.98 - lr: 0.010000 - momentum: 0.000000\n",
            "2024-11-05 13:51:51,949 epoch 6 - iter 9/34 - loss 0.48822536 - time (sec): 9.35 - samples/sec: 2253.80 - lr: 0.010000 - momentum: 0.000000\n",
            "2024-11-05 13:51:55,844 epoch 6 - iter 12/34 - loss 0.47839397 - time (sec): 13.24 - samples/sec: 2271.22 - lr: 0.010000 - momentum: 0.000000\n",
            "2024-11-05 13:51:59,255 epoch 6 - iter 15/34 - loss 0.48707951 - time (sec): 16.66 - samples/sec: 2190.24 - lr: 0.010000 - momentum: 0.000000\n",
            "2024-11-05 13:52:01,745 epoch 6 - iter 18/34 - loss 0.51287805 - time (sec): 19.15 - samples/sec: 2205.99 - lr: 0.010000 - momentum: 0.000000\n",
            "2024-11-05 13:52:04,945 epoch 6 - iter 21/34 - loss 0.52493463 - time (sec): 22.35 - samples/sec: 2177.96 - lr: 0.010000 - momentum: 0.000000\n",
            "2024-11-05 13:52:07,541 epoch 6 - iter 24/34 - loss 0.52742031 - time (sec): 24.94 - samples/sec: 2206.98 - lr: 0.010000 - momentum: 0.000000\n",
            "2024-11-05 13:52:10,729 epoch 6 - iter 27/34 - loss 0.51900795 - time (sec): 28.13 - samples/sec: 2159.18 - lr: 0.010000 - momentum: 0.000000\n",
            "2024-11-05 13:52:13,587 epoch 6 - iter 30/34 - loss 0.52793550 - time (sec): 30.99 - samples/sec: 2135.05 - lr: 0.010000 - momentum: 0.000000\n",
            "2024-11-05 13:52:16,451 epoch 6 - iter 33/34 - loss 0.52677189 - time (sec): 33.85 - samples/sec: 2150.29 - lr: 0.010000 - momentum: 0.000000\n",
            "2024-11-05 13:52:17,170 ----------------------------------------------------------------------------------------------------\n",
            "2024-11-05 13:52:17,171 EPOCH 6 done: loss 0.5270 - lr: 0.010000\n"
          ]
        },
        {
          "output_type": "stream",
          "name": "stderr",
          "text": [
            "100%|██████████| 1/1 [00:01<00:00,  1.84s/it]"
          ]
        },
        {
          "output_type": "stream",
          "name": "stdout",
          "text": [
            "2024-11-05 13:52:19,048 DEV : loss 0.49780985713005066 - f1-score (micro avg)  0.0\n",
            "2024-11-05 13:52:19,061  - 0 epochs without improvement\n",
            "2024-11-05 13:52:19,062 ----------------------------------------------------------------------------------------------------\n"
          ]
        },
        {
          "output_type": "stream",
          "name": "stderr",
          "text": [
            "\n"
          ]
        },
        {
          "output_type": "stream",
          "name": "stdout",
          "text": [
            "2024-11-05 13:52:21,274 epoch 7 - iter 3/34 - loss 0.64416564 - time (sec): 2.21 - samples/sec: 2215.47 - lr: 0.010000 - momentum: 0.000000\n",
            "2024-11-05 13:52:24,498 epoch 7 - iter 6/34 - loss 0.55971033 - time (sec): 5.43 - samples/sec: 2328.98 - lr: 0.010000 - momentum: 0.000000\n",
            "2024-11-05 13:52:27,658 epoch 7 - iter 9/34 - loss 0.54504257 - time (sec): 8.59 - samples/sec: 2197.58 - lr: 0.010000 - momentum: 0.000000\n",
            "2024-11-05 13:52:30,501 epoch 7 - iter 12/34 - loss 0.52959486 - time (sec): 11.43 - samples/sec: 2212.73 - lr: 0.010000 - momentum: 0.000000\n",
            "2024-11-05 13:52:33,343 epoch 7 - iter 15/34 - loss 0.56009195 - time (sec): 14.28 - samples/sec: 2161.61 - lr: 0.010000 - momentum: 0.000000\n",
            "2024-11-05 13:52:35,996 epoch 7 - iter 18/34 - loss 0.55633284 - time (sec): 16.93 - samples/sec: 2235.25 - lr: 0.010000 - momentum: 0.000000\n",
            "2024-11-05 13:52:39,253 epoch 7 - iter 21/34 - loss 0.53751284 - time (sec): 20.19 - samples/sec: 2224.74 - lr: 0.010000 - momentum: 0.000000\n",
            "2024-11-05 13:52:42,318 epoch 7 - iter 24/34 - loss 0.53597540 - time (sec): 23.25 - samples/sec: 2197.13 - lr: 0.010000 - momentum: 0.000000\n",
            "2024-11-05 13:52:45,102 epoch 7 - iter 27/34 - loss 0.53229635 - time (sec): 26.04 - samples/sec: 2204.99 - lr: 0.010000 - momentum: 0.000000\n",
            "2024-11-05 13:52:48,289 epoch 7 - iter 30/34 - loss 0.52128942 - time (sec): 29.22 - samples/sec: 2227.70 - lr: 0.010000 - momentum: 0.000000\n",
            "2024-11-05 13:52:52,059 epoch 7 - iter 33/34 - loss 0.51259853 - time (sec): 32.99 - samples/sec: 2177.67 - lr: 0.010000 - momentum: 0.000000\n",
            "2024-11-05 13:52:52,945 ----------------------------------------------------------------------------------------------------\n",
            "2024-11-05 13:52:52,952 EPOCH 7 done: loss 0.5127 - lr: 0.010000\n"
          ]
        },
        {
          "output_type": "stream",
          "name": "stderr",
          "text": [
            "100%|██████████| 1/1 [00:03<00:00,  3.01s/it]"
          ]
        },
        {
          "output_type": "stream",
          "name": "stdout",
          "text": [
            "2024-11-05 13:52:55,998 DEV : loss 0.49854129552841187 - f1-score (micro avg)  0.0\n",
            "2024-11-05 13:52:56,010  - 1 epochs without improvement\n",
            "2024-11-05 13:52:56,012 ----------------------------------------------------------------------------------------------------\n"
          ]
        },
        {
          "output_type": "stream",
          "name": "stderr",
          "text": [
            "\n"
          ]
        },
        {
          "output_type": "stream",
          "name": "stdout",
          "text": [
            "2024-11-05 13:52:59,193 epoch 8 - iter 3/34 - loss 0.49312515 - time (sec): 3.18 - samples/sec: 2172.97 - lr: 0.010000 - momentum: 0.000000\n",
            "2024-11-05 13:53:01,999 epoch 8 - iter 6/34 - loss 0.55466630 - time (sec): 5.98 - samples/sec: 2223.11 - lr: 0.010000 - momentum: 0.000000\n",
            "2024-11-05 13:53:05,074 epoch 8 - iter 9/34 - loss 0.53559696 - time (sec): 9.06 - samples/sec: 2084.06 - lr: 0.010000 - momentum: 0.000000\n",
            "2024-11-05 13:53:07,717 epoch 8 - iter 12/34 - loss 0.53319003 - time (sec): 11.70 - samples/sec: 2029.80 - lr: 0.010000 - momentum: 0.000000\n",
            "2024-11-05 13:53:10,040 epoch 8 - iter 15/34 - loss 0.51939280 - time (sec): 14.02 - samples/sec: 2106.64 - lr: 0.010000 - momentum: 0.000000\n",
            "2024-11-05 13:53:13,440 epoch 8 - iter 18/34 - loss 0.51337778 - time (sec): 17.42 - samples/sec: 2155.45 - lr: 0.010000 - momentum: 0.000000\n",
            "2024-11-05 13:53:16,263 epoch 8 - iter 21/34 - loss 0.52528452 - time (sec): 20.25 - samples/sec: 2156.36 - lr: 0.010000 - momentum: 0.000000\n",
            "2024-11-05 13:53:20,424 epoch 8 - iter 24/34 - loss 0.50061648 - time (sec): 24.41 - samples/sec: 2144.75 - lr: 0.010000 - momentum: 0.000000\n",
            "2024-11-05 13:53:23,919 epoch 8 - iter 27/34 - loss 0.49995790 - time (sec): 27.90 - samples/sec: 2140.45 - lr: 0.010000 - momentum: 0.000000\n",
            "2024-11-05 13:53:27,166 epoch 8 - iter 30/34 - loss 0.49487472 - time (sec): 31.15 - samples/sec: 2141.02 - lr: 0.010000 - momentum: 0.000000\n",
            "2024-11-05 13:53:29,278 epoch 8 - iter 33/34 - loss 0.49157550 - time (sec): 33.26 - samples/sec: 2152.70 - lr: 0.010000 - momentum: 0.000000\n",
            "2024-11-05 13:53:30,057 ----------------------------------------------------------------------------------------------------\n",
            "2024-11-05 13:53:30,058 EPOCH 8 done: loss 0.4861 - lr: 0.010000\n"
          ]
        },
        {
          "output_type": "stream",
          "name": "stderr",
          "text": [
            "100%|██████████| 1/1 [00:02<00:00,  2.08s/it]"
          ]
        },
        {
          "output_type": "stream",
          "name": "stdout",
          "text": [
            "2024-11-05 13:53:32,170 DEV : loss 0.49604758620262146 - f1-score (micro avg)  0.0\n",
            "2024-11-05 13:53:32,182  - 0 epochs without improvement\n",
            "2024-11-05 13:53:32,184 ----------------------------------------------------------------------------------------------------\n"
          ]
        },
        {
          "output_type": "stream",
          "name": "stderr",
          "text": [
            "\n"
          ]
        },
        {
          "output_type": "stream",
          "name": "stdout",
          "text": [
            "2024-11-05 13:53:34,983 epoch 9 - iter 3/34 - loss 0.48535903 - time (sec): 2.80 - samples/sec: 2698.97 - lr: 0.010000 - momentum: 0.000000\n",
            "2024-11-05 13:53:38,619 epoch 9 - iter 6/34 - loss 0.45066930 - time (sec): 6.43 - samples/sec: 2395.64 - lr: 0.010000 - momentum: 0.000000\n",
            "2024-11-05 13:53:42,003 epoch 9 - iter 9/34 - loss 0.44031949 - time (sec): 9.81 - samples/sec: 2332.60 - lr: 0.010000 - momentum: 0.000000\n",
            "2024-11-05 13:53:44,673 epoch 9 - iter 12/34 - loss 0.45219752 - time (sec): 12.49 - samples/sec: 2262.16 - lr: 0.010000 - momentum: 0.000000\n",
            "2024-11-05 13:53:48,069 epoch 9 - iter 15/34 - loss 0.44052611 - time (sec): 15.88 - samples/sec: 2237.62 - lr: 0.010000 - momentum: 0.000000\n",
            "2024-11-05 13:53:50,812 epoch 9 - iter 18/34 - loss 0.44264826 - time (sec): 18.62 - samples/sec: 2219.97 - lr: 0.010000 - momentum: 0.000000\n",
            "2024-11-05 13:53:53,662 epoch 9 - iter 21/34 - loss 0.45715888 - time (sec): 21.47 - samples/sec: 2241.76 - lr: 0.010000 - momentum: 0.000000\n",
            "2024-11-05 13:53:57,545 epoch 9 - iter 24/34 - loss 0.44550235 - time (sec): 25.36 - samples/sec: 2236.46 - lr: 0.010000 - momentum: 0.000000\n",
            "2024-11-05 13:54:00,304 epoch 9 - iter 27/34 - loss 0.45222169 - time (sec): 28.12 - samples/sec: 2192.23 - lr: 0.010000 - momentum: 0.000000\n",
            "2024-11-05 13:54:03,281 epoch 9 - iter 30/34 - loss 0.45265114 - time (sec): 31.09 - samples/sec: 2166.91 - lr: 0.010000 - momentum: 0.000000\n",
            "2024-11-05 13:54:06,139 epoch 9 - iter 33/34 - loss 0.46036873 - time (sec): 33.95 - samples/sec: 2137.35 - lr: 0.010000 - momentum: 0.000000\n",
            "2024-11-05 13:54:06,728 ----------------------------------------------------------------------------------------------------\n",
            "2024-11-05 13:54:06,729 EPOCH 9 done: loss 0.4629 - lr: 0.010000\n"
          ]
        },
        {
          "output_type": "stream",
          "name": "stderr",
          "text": [
            "100%|██████████| 1/1 [00:01<00:00,  1.82s/it]"
          ]
        },
        {
          "output_type": "stream",
          "name": "stdout",
          "text": [
            "2024-11-05 13:54:08,576 DEV : loss 0.4934104084968567 - f1-score (micro avg)  0.0\n",
            "2024-11-05 13:54:08,596  - 0 epochs without improvement\n",
            "2024-11-05 13:54:08,598 ----------------------------------------------------------------------------------------------------\n"
          ]
        },
        {
          "output_type": "stream",
          "name": "stderr",
          "text": [
            "\n"
          ]
        },
        {
          "output_type": "stream",
          "name": "stdout",
          "text": [
            "2024-11-05 13:54:10,592 epoch 10 - iter 3/34 - loss 0.41288074 - time (sec): 1.99 - samples/sec: 2857.42 - lr: 0.010000 - momentum: 0.000000\n",
            "2024-11-05 13:54:13,959 epoch 10 - iter 6/34 - loss 0.41714192 - time (sec): 5.36 - samples/sec: 2401.57 - lr: 0.010000 - momentum: 0.000000\n",
            "2024-11-05 13:54:17,173 epoch 10 - iter 9/34 - loss 0.43325817 - time (sec): 8.57 - samples/sec: 2303.89 - lr: 0.010000 - momentum: 0.000000\n",
            "2024-11-05 13:54:21,055 epoch 10 - iter 12/34 - loss 0.42595388 - time (sec): 12.45 - samples/sec: 2119.55 - lr: 0.010000 - momentum: 0.000000\n",
            "2024-11-05 13:54:24,099 epoch 10 - iter 15/34 - loss 0.43192566 - time (sec): 15.50 - samples/sec: 2113.15 - lr: 0.010000 - momentum: 0.000000\n",
            "2024-11-05 13:54:26,618 epoch 10 - iter 18/34 - loss 0.44507133 - time (sec): 18.02 - samples/sec: 2084.72 - lr: 0.010000 - momentum: 0.000000\n",
            "2024-11-05 13:54:29,667 epoch 10 - iter 21/34 - loss 0.44678705 - time (sec): 21.07 - samples/sec: 2132.71 - lr: 0.010000 - momentum: 0.000000\n",
            "2024-11-05 13:54:32,570 epoch 10 - iter 24/34 - loss 0.45478360 - time (sec): 23.97 - samples/sec: 2103.74 - lr: 0.010000 - momentum: 0.000000\n",
            "2024-11-05 13:54:35,447 epoch 10 - iter 27/34 - loss 0.45443870 - time (sec): 26.84 - samples/sec: 2085.35 - lr: 0.010000 - momentum: 0.000000\n",
            "2024-11-05 13:54:37,894 epoch 10 - iter 30/34 - loss 0.45994254 - time (sec): 29.29 - samples/sec: 2091.64 - lr: 0.010000 - momentum: 0.000000\n",
            "2024-11-05 13:54:42,305 epoch 10 - iter 33/34 - loss 0.44629454 - time (sec): 33.70 - samples/sec: 2128.69 - lr: 0.010000 - momentum: 0.000000\n",
            "2024-11-05 13:54:43,357 ----------------------------------------------------------------------------------------------------\n",
            "2024-11-05 13:54:43,359 EPOCH 10 done: loss 0.4414 - lr: 0.010000\n"
          ]
        },
        {
          "output_type": "stream",
          "name": "stderr",
          "text": [
            "100%|██████████| 1/1 [00:02<00:00,  2.61s/it]"
          ]
        },
        {
          "output_type": "stream",
          "name": "stdout",
          "text": [
            "2024-11-05 13:54:46,010 DEV : loss 0.49142828583717346 - f1-score (micro avg)  0.0\n",
            "2024-11-05 13:54:46,035  - 0 epochs without improvement\n",
            "2024-11-05 13:54:46,038 ----------------------------------------------------------------------------------------------------\n"
          ]
        },
        {
          "output_type": "stream",
          "name": "stderr",
          "text": [
            "\n"
          ]
        },
        {
          "output_type": "stream",
          "name": "stdout",
          "text": [
            "2024-11-05 13:54:48,415 epoch 11 - iter 3/34 - loss 0.46689255 - time (sec): 2.37 - samples/sec: 2843.06 - lr: 0.010000 - momentum: 0.000000\n",
            "2024-11-05 13:54:51,852 epoch 11 - iter 6/34 - loss 0.43537214 - time (sec): 5.81 - samples/sec: 2408.10 - lr: 0.010000 - momentum: 0.000000\n",
            "2024-11-05 13:54:54,868 epoch 11 - iter 9/34 - loss 0.44279633 - time (sec): 8.83 - samples/sec: 2352.00 - lr: 0.010000 - momentum: 0.000000\n",
            "2024-11-05 13:54:57,719 epoch 11 - iter 12/34 - loss 0.41893715 - time (sec): 11.68 - samples/sec: 2325.89 - lr: 0.010000 - momentum: 0.000000\n",
            "2024-11-05 13:55:01,060 epoch 11 - iter 15/34 - loss 0.41980645 - time (sec): 15.02 - samples/sec: 2241.93 - lr: 0.010000 - momentum: 0.000000\n",
            "2024-11-05 13:55:03,637 epoch 11 - iter 18/34 - loss 0.43989921 - time (sec): 17.60 - samples/sec: 2200.93 - lr: 0.010000 - momentum: 0.000000\n",
            "2024-11-05 13:55:06,560 epoch 11 - iter 21/34 - loss 0.43194647 - time (sec): 20.52 - samples/sec: 2189.08 - lr: 0.010000 - momentum: 0.000000\n",
            "2024-11-05 13:55:09,823 epoch 11 - iter 24/34 - loss 0.42753643 - time (sec): 23.78 - samples/sec: 2198.33 - lr: 0.010000 - momentum: 0.000000\n",
            "2024-11-05 13:55:13,167 epoch 11 - iter 27/34 - loss 0.42831715 - time (sec): 27.13 - samples/sec: 2195.28 - lr: 0.010000 - momentum: 0.000000\n",
            "2024-11-05 13:55:16,853 epoch 11 - iter 30/34 - loss 0.42591187 - time (sec): 30.81 - samples/sec: 2153.83 - lr: 0.010000 - momentum: 0.000000\n",
            "2024-11-05 13:55:19,816 epoch 11 - iter 33/34 - loss 0.42494437 - time (sec): 33.77 - samples/sec: 2130.23 - lr: 0.010000 - momentum: 0.000000\n",
            "2024-11-05 13:55:20,507 ----------------------------------------------------------------------------------------------------\n",
            "2024-11-05 13:55:20,508 EPOCH 11 done: loss 0.4212 - lr: 0.010000\n"
          ]
        },
        {
          "output_type": "stream",
          "name": "stderr",
          "text": [
            "100%|██████████| 1/1 [00:02<00:00,  2.08s/it]"
          ]
        },
        {
          "output_type": "stream",
          "name": "stdout",
          "text": [
            "2024-11-05 13:55:22,638 DEV : loss 0.4920255243778229 - f1-score (micro avg)  0.0\n",
            "2024-11-05 13:55:22,653  - 1 epochs without improvement\n",
            "2024-11-05 13:55:22,655 ----------------------------------------------------------------------------------------------------\n"
          ]
        },
        {
          "output_type": "stream",
          "name": "stderr",
          "text": [
            "\n"
          ]
        },
        {
          "output_type": "stream",
          "name": "stdout",
          "text": [
            "2024-11-05 13:55:24,807 epoch 12 - iter 3/34 - loss 0.45738399 - time (sec): 2.15 - samples/sec: 2894.53 - lr: 0.010000 - momentum: 0.000000\n",
            "2024-11-05 13:55:29,096 epoch 12 - iter 6/34 - loss 0.37752814 - time (sec): 6.44 - samples/sec: 2285.54 - lr: 0.010000 - momentum: 0.000000\n",
            "2024-11-05 13:55:31,819 epoch 12 - iter 9/34 - loss 0.40924008 - time (sec): 9.16 - samples/sec: 2306.42 - lr: 0.010000 - momentum: 0.000000\n",
            "2024-11-05 13:55:35,027 epoch 12 - iter 12/34 - loss 0.40466918 - time (sec): 12.37 - samples/sec: 2175.41 - lr: 0.010000 - momentum: 0.000000\n",
            "2024-11-05 13:55:37,825 epoch 12 - iter 15/34 - loss 0.42902156 - time (sec): 15.16 - samples/sec: 2149.90 - lr: 0.010000 - momentum: 0.000000\n",
            "2024-11-05 13:55:40,945 epoch 12 - iter 18/34 - loss 0.42763337 - time (sec): 18.28 - samples/sec: 2206.57 - lr: 0.010000 - momentum: 0.000000\n",
            "2024-11-05 13:55:44,141 epoch 12 - iter 21/34 - loss 0.42664793 - time (sec): 21.48 - samples/sec: 2172.65 - lr: 0.010000 - momentum: 0.000000\n",
            "2024-11-05 13:55:47,598 epoch 12 - iter 24/34 - loss 0.41658737 - time (sec): 24.94 - samples/sec: 2172.14 - lr: 0.010000 - momentum: 0.000000\n",
            "2024-11-05 13:55:50,282 epoch 12 - iter 27/34 - loss 0.41366233 - time (sec): 27.62 - samples/sec: 2188.89 - lr: 0.010000 - momentum: 0.000000\n",
            "2024-11-05 13:55:53,840 epoch 12 - iter 30/34 - loss 0.41169444 - time (sec): 31.18 - samples/sec: 2150.77 - lr: 0.010000 - momentum: 0.000000\n",
            "2024-11-05 13:55:56,501 epoch 12 - iter 33/34 - loss 0.41235920 - time (sec): 33.84 - samples/sec: 2145.23 - lr: 0.010000 - momentum: 0.000000\n",
            "2024-11-05 13:55:57,073 ----------------------------------------------------------------------------------------------------\n",
            "2024-11-05 13:55:57,077 EPOCH 12 done: loss 0.4143 - lr: 0.010000\n"
          ]
        },
        {
          "output_type": "stream",
          "name": "stderr",
          "text": [
            "100%|██████████| 1/1 [00:03<00:00,  3.22s/it]"
          ]
        },
        {
          "output_type": "stream",
          "name": "stdout",
          "text": [
            "2024-11-05 13:56:00,332 DEV : loss 0.4812077283859253 - f1-score (micro avg)  0.0\n",
            "2024-11-05 13:56:00,344  - 0 epochs without improvement\n",
            "2024-11-05 13:56:00,345 ----------------------------------------------------------------------------------------------------\n"
          ]
        },
        {
          "output_type": "stream",
          "name": "stderr",
          "text": [
            "\n"
          ]
        },
        {
          "output_type": "stream",
          "name": "stdout",
          "text": [
            "2024-11-05 13:56:02,762 epoch 13 - iter 3/34 - loss 0.38249634 - time (sec): 2.41 - samples/sec: 2665.67 - lr: 0.010000 - momentum: 0.000000\n",
            "2024-11-05 13:56:06,127 epoch 13 - iter 6/34 - loss 0.36148786 - time (sec): 5.78 - samples/sec: 2362.90 - lr: 0.010000 - momentum: 0.000000\n",
            "2024-11-05 13:56:09,248 epoch 13 - iter 9/34 - loss 0.37529219 - time (sec): 8.90 - samples/sec: 2310.03 - lr: 0.010000 - momentum: 0.000000\n",
            "2024-11-05 13:56:12,091 epoch 13 - iter 12/34 - loss 0.38231657 - time (sec): 11.74 - samples/sec: 2224.64 - lr: 0.010000 - momentum: 0.000000\n",
            "2024-11-05 13:56:14,568 epoch 13 - iter 15/34 - loss 0.39785030 - time (sec): 14.22 - samples/sec: 2177.74 - lr: 0.010000 - momentum: 0.000000\n",
            "2024-11-05 13:56:17,905 epoch 13 - iter 18/34 - loss 0.40035887 - time (sec): 17.56 - samples/sec: 2190.84 - lr: 0.010000 - momentum: 0.000000\n",
            "2024-11-05 13:56:21,819 epoch 13 - iter 21/34 - loss 0.38214000 - time (sec): 21.47 - samples/sec: 2194.28 - lr: 0.010000 - momentum: 0.000000\n",
            "2024-11-05 13:56:24,985 epoch 13 - iter 24/34 - loss 0.38930071 - time (sec): 24.64 - samples/sec: 2167.28 - lr: 0.010000 - momentum: 0.000000\n",
            "2024-11-05 13:56:27,890 epoch 13 - iter 27/34 - loss 0.39323650 - time (sec): 27.54 - samples/sec: 2192.57 - lr: 0.010000 - momentum: 0.000000\n",
            "2024-11-05 13:56:30,790 epoch 13 - iter 30/34 - loss 0.39528665 - time (sec): 30.44 - samples/sec: 2167.09 - lr: 0.010000 - momentum: 0.000000\n",
            "2024-11-05 13:56:33,995 epoch 13 - iter 33/34 - loss 0.40080950 - time (sec): 33.64 - samples/sec: 2163.38 - lr: 0.010000 - momentum: 0.000000\n",
            "2024-11-05 13:56:34,567 ----------------------------------------------------------------------------------------------------\n",
            "2024-11-05 13:56:34,568 EPOCH 13 done: loss 0.4017 - lr: 0.010000\n"
          ]
        },
        {
          "output_type": "stream",
          "name": "stderr",
          "text": [
            "100%|██████████| 1/1 [00:01<00:00,  1.77s/it]"
          ]
        },
        {
          "output_type": "stream",
          "name": "stdout",
          "text": [
            "2024-11-05 13:56:36,367 DEV : loss 0.48015302419662476 - f1-score (micro avg)  0.0\n",
            "2024-11-05 13:56:36,379  - 0 epochs without improvement\n",
            "2024-11-05 13:56:36,381 ----------------------------------------------------------------------------------------------------\n"
          ]
        },
        {
          "output_type": "stream",
          "name": "stderr",
          "text": [
            "\n"
          ]
        },
        {
          "output_type": "stream",
          "name": "stdout",
          "text": [
            "2024-11-05 13:56:38,926 epoch 14 - iter 3/34 - loss 0.37743165 - time (sec): 2.54 - samples/sec: 2689.70 - lr: 0.010000 - momentum: 0.000000\n",
            "2024-11-05 13:56:41,951 epoch 14 - iter 6/34 - loss 0.39978375 - time (sec): 5.57 - samples/sec: 2258.83 - lr: 0.010000 - momentum: 0.000000\n",
            "2024-11-05 13:56:43,807 epoch 14 - iter 9/34 - loss 0.41397995 - time (sec): 7.42 - samples/sec: 2217.94 - lr: 0.010000 - momentum: 0.000000\n",
            "2024-11-05 13:56:46,751 epoch 14 - iter 12/34 - loss 0.40045672 - time (sec): 10.37 - samples/sec: 2261.59 - lr: 0.010000 - momentum: 0.000000\n",
            "2024-11-05 13:56:50,026 epoch 14 - iter 15/34 - loss 0.39581891 - time (sec): 13.64 - samples/sec: 2279.91 - lr: 0.010000 - momentum: 0.000000\n",
            "2024-11-05 13:56:52,941 epoch 14 - iter 18/34 - loss 0.39865615 - time (sec): 16.56 - samples/sec: 2217.79 - lr: 0.010000 - momentum: 0.000000\n",
            "2024-11-05 13:56:56,169 epoch 14 - iter 21/34 - loss 0.38731489 - time (sec): 19.78 - samples/sec: 2186.08 - lr: 0.010000 - momentum: 0.000000\n",
            "2024-11-05 13:57:00,082 epoch 14 - iter 24/34 - loss 0.37315983 - time (sec): 23.70 - samples/sec: 2239.32 - lr: 0.010000 - momentum: 0.000000\n",
            "2024-11-05 13:57:03,626 epoch 14 - iter 27/34 - loss 0.37654650 - time (sec): 27.24 - samples/sec: 2230.20 - lr: 0.010000 - momentum: 0.000000\n",
            "2024-11-05 13:57:06,408 epoch 14 - iter 30/34 - loss 0.37883837 - time (sec): 30.02 - samples/sec: 2213.16 - lr: 0.010000 - momentum: 0.000000\n",
            "2024-11-05 13:57:09,128 epoch 14 - iter 33/34 - loss 0.38210216 - time (sec): 32.74 - samples/sec: 2217.69 - lr: 0.010000 - momentum: 0.000000\n",
            "2024-11-05 13:57:09,961 ----------------------------------------------------------------------------------------------------\n",
            "2024-11-05 13:57:09,967 EPOCH 14 done: loss 0.3811 - lr: 0.010000\n"
          ]
        },
        {
          "output_type": "stream",
          "name": "stderr",
          "text": [
            "100%|██████████| 1/1 [00:02<00:00,  2.16s/it]"
          ]
        },
        {
          "output_type": "stream",
          "name": "stdout",
          "text": [
            "2024-11-05 13:57:12,159 DEV : loss 0.48887214064598083 - f1-score (micro avg)  0.0\n",
            "2024-11-05 13:57:12,171  - 1 epochs without improvement\n",
            "2024-11-05 13:57:12,173 ----------------------------------------------------------------------------------------------------\n"
          ]
        },
        {
          "output_type": "stream",
          "name": "stderr",
          "text": [
            "\n"
          ]
        },
        {
          "output_type": "stream",
          "name": "stdout",
          "text": [
            "2024-11-05 13:57:14,806 epoch 15 - iter 3/34 - loss 0.42973025 - time (sec): 2.63 - samples/sec: 2095.07 - lr: 0.010000 - momentum: 0.000000\n",
            "2024-11-05 13:57:17,302 epoch 15 - iter 6/34 - loss 0.40267603 - time (sec): 5.12 - samples/sec: 2261.67 - lr: 0.010000 - momentum: 0.000000\n",
            "2024-11-05 13:57:20,552 epoch 15 - iter 9/34 - loss 0.40520270 - time (sec): 8.38 - samples/sec: 2200.50 - lr: 0.010000 - momentum: 0.000000\n",
            "2024-11-05 13:57:24,505 epoch 15 - iter 12/34 - loss 0.37656665 - time (sec): 12.33 - samples/sec: 2205.98 - lr: 0.010000 - momentum: 0.000000\n",
            "2024-11-05 13:57:27,509 epoch 15 - iter 15/34 - loss 0.38438483 - time (sec): 15.33 - samples/sec: 2149.84 - lr: 0.010000 - momentum: 0.000000\n",
            "2024-11-05 13:57:29,875 epoch 15 - iter 18/34 - loss 0.39601070 - time (sec): 17.70 - samples/sec: 2169.99 - lr: 0.010000 - momentum: 0.000000\n",
            "2024-11-05 13:57:32,998 epoch 15 - iter 21/34 - loss 0.39487383 - time (sec): 20.82 - samples/sec: 2198.47 - lr: 0.010000 - momentum: 0.000000\n",
            "2024-11-05 13:57:36,547 epoch 15 - iter 24/34 - loss 0.39231945 - time (sec): 24.37 - samples/sec: 2164.45 - lr: 0.010000 - momentum: 0.000000\n",
            "2024-11-05 13:57:39,682 epoch 15 - iter 27/34 - loss 0.38723566 - time (sec): 27.51 - samples/sec: 2146.19 - lr: 0.010000 - momentum: 0.000000\n",
            "2024-11-05 13:57:42,935 epoch 15 - iter 30/34 - loss 0.38339774 - time (sec): 30.76 - samples/sec: 2128.94 - lr: 0.010000 - momentum: 0.000000\n",
            "2024-11-05 13:57:46,194 epoch 15 - iter 33/34 - loss 0.37566340 - time (sec): 34.02 - samples/sec: 2130.26 - lr: 0.010000 - momentum: 0.000000\n",
            "2024-11-05 13:57:46,879 ----------------------------------------------------------------------------------------------------\n",
            "2024-11-05 13:57:46,881 EPOCH 15 done: loss 0.3785 - lr: 0.010000\n"
          ]
        },
        {
          "output_type": "stream",
          "name": "stderr",
          "text": [
            "100%|██████████| 1/1 [00:01<00:00,  1.95s/it]"
          ]
        },
        {
          "output_type": "stream",
          "name": "stdout",
          "text": [
            "2024-11-05 13:57:48,862 DEV : loss 0.47203028202056885 - f1-score (micro avg)  0.0\n",
            "2024-11-05 13:57:48,875  - 0 epochs without improvement\n",
            "2024-11-05 13:57:48,876 ----------------------------------------------------------------------------------------------------\n"
          ]
        },
        {
          "output_type": "stream",
          "name": "stderr",
          "text": [
            "\n"
          ]
        },
        {
          "output_type": "stream",
          "name": "stdout",
          "text": [
            "2024-11-05 13:57:51,215 epoch 16 - iter 3/34 - loss 0.41698598 - time (sec): 2.33 - samples/sec: 2035.53 - lr: 0.010000 - momentum: 0.000000\n",
            "2024-11-05 13:57:54,544 epoch 16 - iter 6/34 - loss 0.38615837 - time (sec): 5.66 - samples/sec: 2221.69 - lr: 0.010000 - momentum: 0.000000\n",
            "2024-11-05 13:57:57,857 epoch 16 - iter 9/34 - loss 0.37887742 - time (sec): 8.98 - samples/sec: 2230.12 - lr: 0.010000 - momentum: 0.000000\n",
            "2024-11-05 13:58:02,138 epoch 16 - iter 12/34 - loss 0.35053398 - time (sec): 13.26 - samples/sec: 2197.39 - lr: 0.010000 - momentum: 0.000000\n",
            "2024-11-05 13:58:05,307 epoch 16 - iter 15/34 - loss 0.34889075 - time (sec): 16.43 - samples/sec: 2196.24 - lr: 0.010000 - momentum: 0.000000\n",
            "2024-11-05 13:58:08,155 epoch 16 - iter 18/34 - loss 0.35683829 - time (sec): 19.27 - samples/sec: 2136.40 - lr: 0.010000 - momentum: 0.000000\n",
            "2024-11-05 13:58:10,621 epoch 16 - iter 21/34 - loss 0.36621757 - time (sec): 21.74 - samples/sec: 2155.77 - lr: 0.010000 - momentum: 0.000000\n",
            "2024-11-05 13:58:13,567 epoch 16 - iter 24/34 - loss 0.36540210 - time (sec): 24.69 - samples/sec: 2174.99 - lr: 0.010000 - momentum: 0.000000\n",
            "2024-11-05 13:58:16,363 epoch 16 - iter 27/34 - loss 0.36973550 - time (sec): 27.48 - samples/sec: 2138.54 - lr: 0.010000 - momentum: 0.000000\n",
            "2024-11-05 13:58:19,994 epoch 16 - iter 30/34 - loss 0.36545091 - time (sec): 31.11 - samples/sec: 2106.86 - lr: 0.010000 - momentum: 0.000000\n",
            "2024-11-05 13:58:22,940 epoch 16 - iter 33/34 - loss 0.36682984 - time (sec): 34.06 - samples/sec: 2121.67 - lr: 0.010000 - momentum: 0.000000\n",
            "2024-11-05 13:58:23,523 ----------------------------------------------------------------------------------------------------\n",
            "2024-11-05 13:58:23,524 EPOCH 16 done: loss 0.3678 - lr: 0.010000\n"
          ]
        },
        {
          "output_type": "stream",
          "name": "stderr",
          "text": [
            "100%|██████████| 1/1 [00:01<00:00,  1.97s/it]"
          ]
        },
        {
          "output_type": "stream",
          "name": "stdout",
          "text": [
            "2024-11-05 13:58:25,524 DEV : loss 0.4764869511127472 - f1-score (micro avg)  0.0\n",
            "2024-11-05 13:58:25,536  - 1 epochs without improvement\n",
            "2024-11-05 13:58:25,538 ----------------------------------------------------------------------------------------------------\n"
          ]
        },
        {
          "output_type": "stream",
          "name": "stderr",
          "text": [
            "\n"
          ]
        },
        {
          "output_type": "stream",
          "name": "stdout",
          "text": [
            "2024-11-05 13:58:27,619 epoch 17 - iter 3/34 - loss 0.37493876 - time (sec): 2.08 - samples/sec: 2830.42 - lr: 0.010000 - momentum: 0.000000\n",
            "2024-11-05 13:58:30,371 epoch 17 - iter 6/34 - loss 0.35937172 - time (sec): 4.83 - samples/sec: 2650.38 - lr: 0.010000 - momentum: 0.000000\n",
            "2024-11-05 13:58:34,001 epoch 17 - iter 9/34 - loss 0.35430452 - time (sec): 8.46 - samples/sec: 2429.80 - lr: 0.010000 - momentum: 0.000000\n",
            "2024-11-05 13:58:36,251 epoch 17 - iter 12/34 - loss 0.37033006 - time (sec): 10.71 - samples/sec: 2396.33 - lr: 0.010000 - momentum: 0.000000\n",
            "2024-11-05 13:58:39,791 epoch 17 - iter 15/34 - loss 0.35353969 - time (sec): 14.25 - samples/sec: 2405.92 - lr: 0.010000 - momentum: 0.000000\n",
            "2024-11-05 13:58:43,173 epoch 17 - iter 18/34 - loss 0.35225190 - time (sec): 17.63 - samples/sec: 2258.10 - lr: 0.010000 - momentum: 0.000000\n",
            "2024-11-05 13:58:46,554 epoch 17 - iter 21/34 - loss 0.35369507 - time (sec): 21.01 - samples/sec: 2184.85 - lr: 0.010000 - momentum: 0.000000\n",
            "2024-11-05 13:58:50,157 epoch 17 - iter 24/34 - loss 0.35156437 - time (sec): 24.62 - samples/sec: 2114.37 - lr: 0.010000 - momentum: 0.000000\n",
            "2024-11-05 13:58:53,259 epoch 17 - iter 27/34 - loss 0.35237991 - time (sec): 27.72 - samples/sec: 2144.21 - lr: 0.010000 - momentum: 0.000000\n",
            "2024-11-05 13:58:55,705 epoch 17 - iter 30/34 - loss 0.34879500 - time (sec): 30.16 - samples/sec: 2161.64 - lr: 0.010000 - momentum: 0.000000\n",
            "2024-11-05 13:58:59,008 epoch 17 - iter 33/34 - loss 0.35199808 - time (sec): 33.47 - samples/sec: 2170.68 - lr: 0.010000 - momentum: 0.000000\n",
            "2024-11-05 13:58:59,843 ----------------------------------------------------------------------------------------------------\n",
            "2024-11-05 13:58:59,849 EPOCH 17 done: loss 0.3525 - lr: 0.010000\n"
          ]
        },
        {
          "output_type": "stream",
          "name": "stderr",
          "text": [
            "100%|██████████| 1/1 [00:03<00:00,  3.42s/it]"
          ]
        },
        {
          "output_type": "stream",
          "name": "stdout",
          "text": [
            "2024-11-05 13:59:03,301 DEV : loss 0.47587910294532776 - f1-score (micro avg)  0.0\n",
            "2024-11-05 13:59:03,314  - 2 epochs without improvement\n",
            "2024-11-05 13:59:03,315 ----------------------------------------------------------------------------------------------------\n"
          ]
        },
        {
          "output_type": "stream",
          "name": "stderr",
          "text": [
            "\n"
          ]
        },
        {
          "output_type": "stream",
          "name": "stdout",
          "text": [
            "2024-11-05 13:59:05,665 epoch 18 - iter 3/34 - loss 0.41885327 - time (sec): 2.35 - samples/sec: 2672.73 - lr: 0.010000 - momentum: 0.000000\n",
            "2024-11-05 13:59:08,252 epoch 18 - iter 6/34 - loss 0.37484954 - time (sec): 4.93 - samples/sec: 2661.80 - lr: 0.010000 - momentum: 0.000000\n",
            "2024-11-05 13:59:11,974 epoch 18 - iter 9/34 - loss 0.33574998 - time (sec): 8.66 - samples/sec: 2494.40 - lr: 0.010000 - momentum: 0.000000\n",
            "2024-11-05 13:59:14,718 epoch 18 - iter 12/34 - loss 0.35136474 - time (sec): 11.40 - samples/sec: 2296.82 - lr: 0.010000 - momentum: 0.000000\n",
            "2024-11-05 13:59:17,395 epoch 18 - iter 15/34 - loss 0.36211789 - time (sec): 14.08 - samples/sec: 2328.06 - lr: 0.010000 - momentum: 0.000000\n",
            "2024-11-05 13:59:20,587 epoch 18 - iter 18/34 - loss 0.35294585 - time (sec): 17.27 - samples/sec: 2233.23 - lr: 0.010000 - momentum: 0.000000\n",
            "2024-11-05 13:59:25,065 epoch 18 - iter 21/34 - loss 0.33967713 - time (sec): 21.75 - samples/sec: 2255.24 - lr: 0.010000 - momentum: 0.000000\n",
            "2024-11-05 13:59:28,288 epoch 18 - iter 24/34 - loss 0.34347349 - time (sec): 24.97 - samples/sec: 2230.29 - lr: 0.010000 - momentum: 0.000000\n",
            "2024-11-05 13:59:30,475 epoch 18 - iter 27/34 - loss 0.34281723 - time (sec): 27.16 - samples/sec: 2200.36 - lr: 0.010000 - momentum: 0.000000\n",
            "2024-11-05 13:59:33,400 epoch 18 - iter 30/34 - loss 0.34082460 - time (sec): 30.08 - samples/sec: 2203.26 - lr: 0.010000 - momentum: 0.000000\n",
            "2024-11-05 13:59:35,693 epoch 18 - iter 33/34 - loss 0.34852318 - time (sec): 32.37 - samples/sec: 2219.43 - lr: 0.010000 - momentum: 0.000000\n",
            "2024-11-05 13:59:36,610 ----------------------------------------------------------------------------------------------------\n",
            "2024-11-05 13:59:36,612 EPOCH 18 done: loss 0.3482 - lr: 0.010000\n"
          ]
        },
        {
          "output_type": "stream",
          "name": "stderr",
          "text": [
            "100%|██████████| 1/1 [00:02<00:00,  2.09s/it]"
          ]
        },
        {
          "output_type": "stream",
          "name": "stdout",
          "text": [
            "2024-11-05 13:59:38,740 DEV : loss 0.47899898886680603 - f1-score (micro avg)  0.0\n",
            "2024-11-05 13:59:38,755  - 3 epochs without improvement\n",
            "2024-11-05 13:59:38,757 ----------------------------------------------------------------------------------------------------\n"
          ]
        },
        {
          "output_type": "stream",
          "name": "stderr",
          "text": [
            "\n"
          ]
        },
        {
          "output_type": "stream",
          "name": "stdout",
          "text": [
            "2024-11-05 13:59:40,429 epoch 19 - iter 3/34 - loss 0.32855447 - time (sec): 1.67 - samples/sec: 3100.03 - lr: 0.010000 - momentum: 0.000000\n",
            "2024-11-05 13:59:44,325 epoch 19 - iter 6/34 - loss 0.32471673 - time (sec): 5.56 - samples/sec: 2388.98 - lr: 0.010000 - momentum: 0.000000\n",
            "2024-11-05 13:59:46,577 epoch 19 - iter 9/34 - loss 0.34162761 - time (sec): 7.82 - samples/sec: 2302.07 - lr: 0.010000 - momentum: 0.000000\n",
            "2024-11-05 13:59:48,928 epoch 19 - iter 12/34 - loss 0.34932246 - time (sec): 10.17 - samples/sec: 2359.18 - lr: 0.010000 - momentum: 0.000000\n",
            "2024-11-05 13:59:52,412 epoch 19 - iter 15/34 - loss 0.34554552 - time (sec): 13.65 - samples/sec: 2332.20 - lr: 0.010000 - momentum: 0.000000\n",
            "2024-11-05 13:59:55,847 epoch 19 - iter 18/34 - loss 0.35186916 - time (sec): 17.09 - samples/sec: 2264.18 - lr: 0.010000 - momentum: 0.000000\n",
            "2024-11-05 13:59:59,254 epoch 19 - iter 21/34 - loss 0.34699135 - time (sec): 20.49 - samples/sec: 2250.61 - lr: 0.010000 - momentum: 0.000000\n",
            "2024-11-05 14:00:02,074 epoch 19 - iter 24/34 - loss 0.34693176 - time (sec): 23.31 - samples/sec: 2209.97 - lr: 0.010000 - momentum: 0.000000\n",
            "2024-11-05 14:00:04,833 epoch 19 - iter 27/34 - loss 0.34555634 - time (sec): 26.07 - samples/sec: 2247.95 - lr: 0.010000 - momentum: 0.000000\n",
            "2024-11-05 14:00:07,982 epoch 19 - iter 30/34 - loss 0.33784075 - time (sec): 29.22 - samples/sec: 2249.73 - lr: 0.010000 - momentum: 0.000000\n",
            "2024-11-05 14:00:11,289 epoch 19 - iter 33/34 - loss 0.33411344 - time (sec): 32.53 - samples/sec: 2205.83 - lr: 0.010000 - momentum: 0.000000\n",
            "2024-11-05 14:00:12,054 ----------------------------------------------------------------------------------------------------\n",
            "2024-11-05 14:00:12,059 EPOCH 19 done: loss 0.3360 - lr: 0.010000\n"
          ]
        },
        {
          "output_type": "stream",
          "name": "stderr",
          "text": [
            "100%|██████████| 1/1 [00:02<00:00,  2.83s/it]"
          ]
        },
        {
          "output_type": "stream",
          "name": "stdout",
          "text": [
            "2024-11-05 14:00:14,927 DEV : loss 0.4739014208316803 - f1-score (micro avg)  0.0\n",
            "2024-11-05 14:00:14,942  - 4 epochs without improvement (above 'patience')-> annealing learning_rate to [0.005]\n",
            "2024-11-05 14:00:14,943 ----------------------------------------------------------------------------------------------------\n"
          ]
        },
        {
          "output_type": "stream",
          "name": "stderr",
          "text": [
            "\n"
          ]
        },
        {
          "output_type": "stream",
          "name": "stdout",
          "text": [
            "2024-11-05 14:00:17,707 epoch 20 - iter 3/34 - loss 0.31428951 - time (sec): 2.76 - samples/sec: 2574.59 - lr: 0.005000 - momentum: 0.000000\n",
            "2024-11-05 14:00:20,578 epoch 20 - iter 6/34 - loss 0.33166866 - time (sec): 5.63 - samples/sec: 2392.83 - lr: 0.005000 - momentum: 0.000000\n",
            "2024-11-05 14:00:23,768 epoch 20 - iter 9/34 - loss 0.34498239 - time (sec): 8.82 - samples/sec: 2232.74 - lr: 0.005000 - momentum: 0.000000\n",
            "2024-11-05 14:00:27,799 epoch 20 - iter 12/34 - loss 0.31189493 - time (sec): 12.85 - samples/sec: 2272.34 - lr: 0.005000 - momentum: 0.000000\n",
            "2024-11-05 14:00:29,977 epoch 20 - iter 15/34 - loss 0.31203080 - time (sec): 15.03 - samples/sec: 2263.96 - lr: 0.005000 - momentum: 0.000000\n",
            "2024-11-05 14:00:32,840 epoch 20 - iter 18/34 - loss 0.30979923 - time (sec): 17.89 - samples/sec: 2229.87 - lr: 0.005000 - momentum: 0.000000\n",
            "2024-11-05 14:00:35,920 epoch 20 - iter 21/34 - loss 0.32078038 - time (sec): 20.97 - samples/sec: 2224.41 - lr: 0.005000 - momentum: 0.000000\n",
            "2024-11-05 14:00:39,120 epoch 20 - iter 24/34 - loss 0.31643761 - time (sec): 24.17 - samples/sec: 2165.94 - lr: 0.005000 - momentum: 0.000000\n",
            "2024-11-05 14:00:42,250 epoch 20 - iter 27/34 - loss 0.31826891 - time (sec): 27.30 - samples/sec: 2137.97 - lr: 0.005000 - momentum: 0.000000\n",
            "2024-11-05 14:00:46,019 epoch 20 - iter 30/34 - loss 0.31530464 - time (sec): 31.07 - samples/sec: 2173.44 - lr: 0.005000 - momentum: 0.000000\n",
            "2024-11-05 14:00:48,786 epoch 20 - iter 33/34 - loss 0.31392812 - time (sec): 33.84 - samples/sec: 2137.42 - lr: 0.005000 - momentum: 0.000000\n",
            "2024-11-05 14:00:49,422 ----------------------------------------------------------------------------------------------------\n",
            "2024-11-05 14:00:49,424 EPOCH 20 done: loss 0.3138 - lr: 0.005000\n"
          ]
        },
        {
          "output_type": "stream",
          "name": "stderr",
          "text": [
            "100%|██████████| 1/1 [00:01<00:00,  1.92s/it]"
          ]
        },
        {
          "output_type": "stream",
          "name": "stdout",
          "text": [
            "2024-11-05 14:00:51,372 DEV : loss 0.46967312693595886 - f1-score (micro avg)  0.0\n",
            "2024-11-05 14:00:51,385  - 0 epochs without improvement\n",
            "2024-11-05 14:00:51,386 ----------------------------------------------------------------------------------------------------\n"
          ]
        },
        {
          "output_type": "stream",
          "name": "stderr",
          "text": [
            "\n"
          ]
        },
        {
          "output_type": "stream",
          "name": "stdout",
          "text": [
            "2024-11-05 14:00:54,371 epoch 21 - iter 3/34 - loss 0.20807043 - time (sec): 2.98 - samples/sec: 2517.30 - lr: 0.005000 - momentum: 0.000000\n",
            "2024-11-05 14:00:57,448 epoch 21 - iter 6/34 - loss 0.23741486 - time (sec): 6.06 - samples/sec: 2287.06 - lr: 0.005000 - momentum: 0.000000\n",
            "2024-11-05 14:01:00,789 epoch 21 - iter 9/34 - loss 0.24968551 - time (sec): 9.40 - samples/sec: 2291.77 - lr: 0.005000 - momentum: 0.000000\n",
            "2024-11-05 14:01:04,325 epoch 21 - iter 12/34 - loss 0.26590274 - time (sec): 12.93 - samples/sec: 2253.48 - lr: 0.005000 - momentum: 0.000000\n",
            "2024-11-05 14:01:07,554 epoch 21 - iter 15/34 - loss 0.28730974 - time (sec): 16.16 - samples/sec: 2246.96 - lr: 0.005000 - momentum: 0.000000\n",
            "2024-11-05 14:01:10,288 epoch 21 - iter 18/34 - loss 0.29109966 - time (sec): 18.90 - samples/sec: 2191.15 - lr: 0.005000 - momentum: 0.000000\n",
            "2024-11-05 14:01:13,288 epoch 21 - iter 21/34 - loss 0.29551508 - time (sec): 21.90 - samples/sec: 2162.16 - lr: 0.005000 - momentum: 0.000000\n",
            "2024-11-05 14:01:15,866 epoch 21 - iter 24/34 - loss 0.30042370 - time (sec): 24.47 - samples/sec: 2168.32 - lr: 0.005000 - momentum: 0.000000\n",
            "2024-11-05 14:01:18,674 epoch 21 - iter 27/34 - loss 0.30417904 - time (sec): 27.28 - samples/sec: 2214.16 - lr: 0.005000 - momentum: 0.000000\n",
            "2024-11-05 14:01:21,390 epoch 21 - iter 30/34 - loss 0.30707859 - time (sec): 30.00 - samples/sec: 2189.48 - lr: 0.005000 - momentum: 0.000000\n",
            "2024-11-05 14:01:25,145 epoch 21 - iter 33/34 - loss 0.30663224 - time (sec): 33.75 - samples/sec: 2154.90 - lr: 0.005000 - momentum: 0.000000\n",
            "2024-11-05 14:01:25,721 ----------------------------------------------------------------------------------------------------\n",
            "2024-11-05 14:01:25,722 EPOCH 21 done: loss 0.3073 - lr: 0.005000\n"
          ]
        },
        {
          "output_type": "stream",
          "name": "stderr",
          "text": [
            "100%|██████████| 1/1 [00:01<00:00,  1.79s/it]"
          ]
        },
        {
          "output_type": "stream",
          "name": "stdout",
          "text": [
            "2024-11-05 14:01:27,537 DEV : loss 0.4731227457523346 - f1-score (micro avg)  0.0\n",
            "2024-11-05 14:01:27,550  - 1 epochs without improvement\n",
            "2024-11-05 14:01:27,551 ----------------------------------------------------------------------------------------------------\n"
          ]
        },
        {
          "output_type": "stream",
          "name": "stderr",
          "text": [
            "\n"
          ]
        },
        {
          "output_type": "stream",
          "name": "stdout",
          "text": [
            "2024-11-05 14:01:30,507 epoch 22 - iter 3/34 - loss 0.31210920 - time (sec): 2.95 - samples/sec: 2444.28 - lr: 0.005000 - momentum: 0.000000\n",
            "2024-11-05 14:01:34,951 epoch 22 - iter 6/34 - loss 0.29199597 - time (sec): 7.40 - samples/sec: 2392.93 - lr: 0.005000 - momentum: 0.000000\n",
            "2024-11-05 14:01:37,716 epoch 22 - iter 9/34 - loss 0.30083750 - time (sec): 10.16 - samples/sec: 2273.61 - lr: 0.005000 - momentum: 0.000000\n",
            "2024-11-05 14:01:40,323 epoch 22 - iter 12/34 - loss 0.29680758 - time (sec): 12.77 - samples/sec: 2265.54 - lr: 0.005000 - momentum: 0.000000\n",
            "2024-11-05 14:01:43,785 epoch 22 - iter 15/34 - loss 0.28671976 - time (sec): 16.23 - samples/sec: 2235.27 - lr: 0.005000 - momentum: 0.000000\n",
            "2024-11-05 14:01:46,347 epoch 22 - iter 18/34 - loss 0.29190707 - time (sec): 18.79 - samples/sec: 2269.63 - lr: 0.005000 - momentum: 0.000000\n",
            "2024-11-05 14:01:49,793 epoch 22 - iter 21/34 - loss 0.29140811 - time (sec): 22.24 - samples/sec: 2272.45 - lr: 0.005000 - momentum: 0.000000\n",
            "2024-11-05 14:01:52,431 epoch 22 - iter 24/34 - loss 0.30073672 - time (sec): 24.88 - samples/sec: 2209.81 - lr: 0.005000 - momentum: 0.000000\n",
            "2024-11-05 14:01:54,473 epoch 22 - iter 27/34 - loss 0.30421186 - time (sec): 26.92 - samples/sec: 2186.95 - lr: 0.005000 - momentum: 0.000000\n",
            "2024-11-05 14:01:57,272 epoch 22 - iter 30/34 - loss 0.30461975 - time (sec): 29.72 - samples/sec: 2201.70 - lr: 0.005000 - momentum: 0.000000\n",
            "2024-11-05 14:02:00,494 epoch 22 - iter 33/34 - loss 0.30413495 - time (sec): 32.94 - samples/sec: 2196.77 - lr: 0.005000 - momentum: 0.000000\n",
            "2024-11-05 14:02:01,395 ----------------------------------------------------------------------------------------------------\n",
            "2024-11-05 14:02:01,397 EPOCH 22 done: loss 0.3040 - lr: 0.005000\n"
          ]
        },
        {
          "output_type": "stream",
          "name": "stderr",
          "text": [
            "100%|██████████| 1/1 [00:02<00:00,  2.80s/it]"
          ]
        },
        {
          "output_type": "stream",
          "name": "stdout",
          "text": [
            "2024-11-05 14:02:04,236 DEV : loss 0.47315263748168945 - f1-score (micro avg)  0.0\n",
            "2024-11-05 14:02:04,257  - 2 epochs without improvement\n",
            "2024-11-05 14:02:04,261 ----------------------------------------------------------------------------------------------------\n"
          ]
        },
        {
          "output_type": "stream",
          "name": "stderr",
          "text": [
            "\n"
          ]
        },
        {
          "output_type": "stream",
          "name": "stdout",
          "text": [
            "2024-11-05 14:02:06,756 epoch 23 - iter 3/34 - loss 0.34627263 - time (sec): 2.49 - samples/sec: 2259.48 - lr: 0.005000 - momentum: 0.000000\n",
            "2024-11-05 14:02:09,890 epoch 23 - iter 6/34 - loss 0.35191586 - time (sec): 5.63 - samples/sec: 2163.73 - lr: 0.005000 - momentum: 0.000000\n",
            "2024-11-05 14:02:13,061 epoch 23 - iter 9/34 - loss 0.32211914 - time (sec): 8.80 - samples/sec: 2232.73 - lr: 0.005000 - momentum: 0.000000\n",
            "2024-11-05 14:02:16,646 epoch 23 - iter 12/34 - loss 0.29609814 - time (sec): 12.38 - samples/sec: 2137.37 - lr: 0.005000 - momentum: 0.000000\n",
            "2024-11-05 14:02:20,440 epoch 23 - iter 15/34 - loss 0.28465426 - time (sec): 16.18 - samples/sec: 2148.47 - lr: 0.005000 - momentum: 0.000000\n",
            "2024-11-05 14:02:23,281 epoch 23 - iter 18/34 - loss 0.28170720 - time (sec): 19.02 - samples/sec: 2105.47 - lr: 0.005000 - momentum: 0.000000\n",
            "2024-11-05 14:02:25,932 epoch 23 - iter 21/34 - loss 0.28414830 - time (sec): 21.67 - samples/sec: 2117.35 - lr: 0.005000 - momentum: 0.000000\n",
            "2024-11-05 14:02:29,098 epoch 23 - iter 24/34 - loss 0.28419691 - time (sec): 24.83 - samples/sec: 2151.37 - lr: 0.005000 - momentum: 0.000000\n",
            "2024-11-05 14:02:31,696 epoch 23 - iter 27/34 - loss 0.28733862 - time (sec): 27.43 - samples/sec: 2145.77 - lr: 0.005000 - momentum: 0.000000\n",
            "2024-11-05 14:02:34,848 epoch 23 - iter 30/34 - loss 0.28851437 - time (sec): 30.58 - samples/sec: 2170.03 - lr: 0.005000 - momentum: 0.000000\n",
            "2024-11-05 14:02:37,678 epoch 23 - iter 33/34 - loss 0.29459946 - time (sec): 33.41 - samples/sec: 2140.44 - lr: 0.005000 - momentum: 0.000000\n",
            "2024-11-05 14:02:38,464 ----------------------------------------------------------------------------------------------------\n",
            "2024-11-05 14:02:38,465 EPOCH 23 done: loss 0.2930 - lr: 0.005000\n"
          ]
        },
        {
          "output_type": "stream",
          "name": "stderr",
          "text": [
            "100%|██████████| 1/1 [00:02<00:00,  2.10s/it]"
          ]
        },
        {
          "output_type": "stream",
          "name": "stdout",
          "text": [
            "2024-11-05 14:02:40,605 DEV : loss 0.4695849120616913 - f1-score (micro avg)  0.0\n",
            "2024-11-05 14:02:40,618  - 0 epochs without improvement\n",
            "2024-11-05 14:02:40,621 ----------------------------------------------------------------------------------------------------\n"
          ]
        },
        {
          "output_type": "stream",
          "name": "stderr",
          "text": [
            "\n"
          ]
        },
        {
          "output_type": "stream",
          "name": "stdout",
          "text": [
            "2024-11-05 14:02:42,405 epoch 24 - iter 3/34 - loss 0.31869694 - time (sec): 1.78 - samples/sec: 2927.29 - lr: 0.005000 - momentum: 0.000000\n",
            "2024-11-05 14:02:45,641 epoch 24 - iter 6/34 - loss 0.29921366 - time (sec): 5.02 - samples/sec: 2564.56 - lr: 0.005000 - momentum: 0.000000\n",
            "2024-11-05 14:02:49,315 epoch 24 - iter 9/34 - loss 0.30955412 - time (sec): 8.69 - samples/sec: 2166.40 - lr: 0.005000 - momentum: 0.000000\n",
            "2024-11-05 14:02:52,329 epoch 24 - iter 12/34 - loss 0.30826132 - time (sec): 11.70 - samples/sec: 2160.51 - lr: 0.005000 - momentum: 0.000000\n",
            "2024-11-05 14:02:55,504 epoch 24 - iter 15/34 - loss 0.31075602 - time (sec): 14.88 - samples/sec: 2128.28 - lr: 0.005000 - momentum: 0.000000\n",
            "2024-11-05 14:02:58,321 epoch 24 - iter 18/34 - loss 0.30248058 - time (sec): 17.70 - samples/sec: 2150.53 - lr: 0.005000 - momentum: 0.000000\n",
            "2024-11-05 14:03:01,123 epoch 24 - iter 21/34 - loss 0.30118014 - time (sec): 20.50 - samples/sec: 2158.56 - lr: 0.005000 - momentum: 0.000000\n",
            "2024-11-05 14:03:04,909 epoch 24 - iter 24/34 - loss 0.28972109 - time (sec): 24.28 - samples/sec: 2136.38 - lr: 0.005000 - momentum: 0.000000\n",
            "2024-11-05 14:03:08,608 epoch 24 - iter 27/34 - loss 0.28565374 - time (sec): 27.98 - samples/sec: 2131.40 - lr: 0.005000 - momentum: 0.000000\n",
            "2024-11-05 14:03:12,045 epoch 24 - iter 30/34 - loss 0.28258668 - time (sec): 31.42 - samples/sec: 2111.88 - lr: 0.005000 - momentum: 0.000000\n",
            "2024-11-05 14:03:15,023 epoch 24 - iter 33/34 - loss 0.28449935 - time (sec): 34.40 - samples/sec: 2114.69 - lr: 0.005000 - momentum: 0.000000\n",
            "2024-11-05 14:03:15,735 ----------------------------------------------------------------------------------------------------\n",
            "2024-11-05 14:03:15,738 EPOCH 24 done: loss 0.2862 - lr: 0.005000\n"
          ]
        },
        {
          "output_type": "stream",
          "name": "stderr",
          "text": [
            "100%|██████████| 1/1 [00:02<00:00,  2.01s/it]"
          ]
        },
        {
          "output_type": "stream",
          "name": "stdout",
          "text": [
            "2024-11-05 14:03:17,790 DEV : loss 0.469857394695282 - f1-score (micro avg)  0.0\n",
            "2024-11-05 14:03:17,803  - 1 epochs without improvement\n",
            "2024-11-05 14:03:17,804 ----------------------------------------------------------------------------------------------------\n"
          ]
        },
        {
          "output_type": "stream",
          "name": "stderr",
          "text": [
            "\n"
          ]
        },
        {
          "output_type": "stream",
          "name": "stdout",
          "text": [
            "2024-11-05 14:03:19,644 epoch 25 - iter 3/34 - loss 0.36413788 - time (sec): 1.84 - samples/sec: 2505.96 - lr: 0.005000 - momentum: 0.000000\n",
            "2024-11-05 14:03:22,017 epoch 25 - iter 6/34 - loss 0.33347081 - time (sec): 4.21 - samples/sec: 2283.79 - lr: 0.005000 - momentum: 0.000000\n",
            "2024-11-05 14:03:25,940 epoch 25 - iter 9/34 - loss 0.30872670 - time (sec): 8.13 - samples/sec: 2289.35 - lr: 0.005000 - momentum: 0.000000\n",
            "2024-11-05 14:03:28,988 epoch 25 - iter 12/34 - loss 0.30688937 - time (sec): 11.18 - samples/sec: 2173.76 - lr: 0.005000 - momentum: 0.000000\n",
            "2024-11-05 14:03:32,011 epoch 25 - iter 15/34 - loss 0.30485725 - time (sec): 14.20 - samples/sec: 2159.40 - lr: 0.005000 - momentum: 0.000000\n",
            "2024-11-05 14:03:35,190 epoch 25 - iter 18/34 - loss 0.30142434 - time (sec): 17.38 - samples/sec: 2204.04 - lr: 0.005000 - momentum: 0.000000\n",
            "2024-11-05 14:03:38,119 epoch 25 - iter 21/34 - loss 0.29713995 - time (sec): 20.31 - samples/sec: 2219.67 - lr: 0.005000 - momentum: 0.000000\n",
            "2024-11-05 14:03:41,103 epoch 25 - iter 24/34 - loss 0.29956973 - time (sec): 23.29 - samples/sec: 2205.39 - lr: 0.005000 - momentum: 0.000000\n",
            "2024-11-05 14:03:44,141 epoch 25 - iter 27/34 - loss 0.29867374 - time (sec): 26.33 - samples/sec: 2169.33 - lr: 0.005000 - momentum: 0.000000\n",
            "2024-11-05 14:03:47,697 epoch 25 - iter 30/34 - loss 0.28976318 - time (sec): 29.89 - samples/sec: 2195.66 - lr: 0.005000 - momentum: 0.000000\n",
            "2024-11-05 14:03:51,153 epoch 25 - iter 33/34 - loss 0.28698278 - time (sec): 33.34 - samples/sec: 2185.65 - lr: 0.005000 - momentum: 0.000000\n",
            "2024-11-05 14:03:51,886 ----------------------------------------------------------------------------------------------------\n",
            "2024-11-05 14:03:51,888 EPOCH 25 done: loss 0.2874 - lr: 0.005000\n"
          ]
        },
        {
          "output_type": "stream",
          "name": "stderr",
          "text": [
            "100%|██████████| 1/1 [00:01<00:00,  1.84s/it]"
          ]
        },
        {
          "output_type": "stream",
          "name": "stdout",
          "text": [
            "2024-11-05 14:03:53,763 DEV : loss 0.47035589814186096 - f1-score (micro avg)  0.0\n",
            "2024-11-05 14:03:53,777  - 2 epochs without improvement\n",
            "2024-11-05 14:03:53,780 ----------------------------------------------------------------------------------------------------\n"
          ]
        },
        {
          "output_type": "stream",
          "name": "stderr",
          "text": [
            "\n"
          ]
        },
        {
          "output_type": "stream",
          "name": "stdout",
          "text": [
            "2024-11-05 14:03:56,488 epoch 26 - iter 3/34 - loss 0.22591565 - time (sec): 2.70 - samples/sec: 2527.50 - lr: 0.005000 - momentum: 0.000000\n",
            "2024-11-05 14:03:59,284 epoch 26 - iter 6/34 - loss 0.27097476 - time (sec): 5.50 - samples/sec: 2356.86 - lr: 0.005000 - momentum: 0.000000\n",
            "2024-11-05 14:04:02,601 epoch 26 - iter 9/34 - loss 0.26467857 - time (sec): 8.82 - samples/sec: 2348.81 - lr: 0.005000 - momentum: 0.000000\n",
            "2024-11-05 14:04:05,166 epoch 26 - iter 12/34 - loss 0.27795640 - time (sec): 11.38 - samples/sec: 2253.45 - lr: 0.005000 - momentum: 0.000000\n",
            "2024-11-05 14:04:07,937 epoch 26 - iter 15/34 - loss 0.27234323 - time (sec): 14.15 - samples/sec: 2330.92 - lr: 0.005000 - momentum: 0.000000\n",
            "2024-11-05 14:04:10,983 epoch 26 - iter 18/34 - loss 0.27845045 - time (sec): 17.20 - samples/sec: 2205.33 - lr: 0.005000 - momentum: 0.000000\n",
            "2024-11-05 14:04:15,187 epoch 26 - iter 21/34 - loss 0.27275829 - time (sec): 21.40 - samples/sec: 2185.17 - lr: 0.005000 - momentum: 0.000000\n",
            "2024-11-05 14:04:18,099 epoch 26 - iter 24/34 - loss 0.27392916 - time (sec): 24.32 - samples/sec: 2148.11 - lr: 0.005000 - momentum: 0.000000\n",
            "2024-11-05 14:04:20,441 epoch 26 - iter 27/34 - loss 0.27940119 - time (sec): 26.66 - samples/sec: 2124.08 - lr: 0.005000 - momentum: 0.000000\n",
            "2024-11-05 14:04:23,641 epoch 26 - iter 30/34 - loss 0.28095221 - time (sec): 29.86 - samples/sec: 2152.12 - lr: 0.005000 - momentum: 0.000000\n",
            "2024-11-05 14:04:27,125 epoch 26 - iter 33/34 - loss 0.28053927 - time (sec): 33.34 - samples/sec: 2142.09 - lr: 0.005000 - momentum: 0.000000\n",
            "2024-11-05 14:04:28,004 ----------------------------------------------------------------------------------------------------\n",
            "2024-11-05 14:04:28,006 EPOCH 26 done: loss 0.2809 - lr: 0.005000\n"
          ]
        },
        {
          "output_type": "stream",
          "name": "stderr",
          "text": [
            "100%|██████████| 1/1 [00:02<00:00,  2.12s/it]"
          ]
        },
        {
          "output_type": "stream",
          "name": "stdout",
          "text": [
            "2024-11-05 14:04:30,153 DEV : loss 0.4679798185825348 - f1-score (micro avg)  0.0\n",
            "2024-11-05 14:04:30,166  - 0 epochs without improvement\n",
            "2024-11-05 14:04:30,168 ----------------------------------------------------------------------------------------------------\n"
          ]
        },
        {
          "output_type": "stream",
          "name": "stderr",
          "text": [
            "\n"
          ]
        },
        {
          "output_type": "stream",
          "name": "stdout",
          "text": [
            "2024-11-05 14:04:32,511 epoch 27 - iter 3/34 - loss 0.25638972 - time (sec): 2.34 - samples/sec: 2494.90 - lr: 0.005000 - momentum: 0.000000\n",
            "2024-11-05 14:04:36,325 epoch 27 - iter 6/34 - loss 0.25883706 - time (sec): 6.15 - samples/sec: 2364.94 - lr: 0.005000 - momentum: 0.000000\n",
            "2024-11-05 14:04:39,853 epoch 27 - iter 9/34 - loss 0.26429416 - time (sec): 9.68 - samples/sec: 2205.65 - lr: 0.005000 - momentum: 0.000000\n",
            "2024-11-05 14:04:42,418 epoch 27 - iter 12/34 - loss 0.25484570 - time (sec): 12.24 - samples/sec: 2263.31 - lr: 0.005000 - momentum: 0.000000\n",
            "2024-11-05 14:04:45,507 epoch 27 - iter 15/34 - loss 0.27362375 - time (sec): 15.33 - samples/sec: 2191.79 - lr: 0.005000 - momentum: 0.000000\n",
            "2024-11-05 14:04:48,158 epoch 27 - iter 18/34 - loss 0.28029870 - time (sec): 17.98 - samples/sec: 2181.91 - lr: 0.005000 - momentum: 0.000000\n",
            "2024-11-05 14:04:51,082 epoch 27 - iter 21/34 - loss 0.28234311 - time (sec): 20.91 - samples/sec: 2152.27 - lr: 0.005000 - momentum: 0.000000\n",
            "2024-11-05 14:04:54,254 epoch 27 - iter 24/34 - loss 0.27780764 - time (sec): 24.08 - samples/sec: 2156.90 - lr: 0.005000 - momentum: 0.000000\n",
            "2024-11-05 14:04:57,150 epoch 27 - iter 27/34 - loss 0.27934282 - time (sec): 26.98 - samples/sec: 2162.85 - lr: 0.005000 - momentum: 0.000000\n",
            "2024-11-05 14:04:59,892 epoch 27 - iter 30/34 - loss 0.28496379 - time (sec): 29.72 - samples/sec: 2152.10 - lr: 0.005000 - momentum: 0.000000\n",
            "2024-11-05 14:05:03,500 epoch 27 - iter 33/34 - loss 0.27749161 - time (sec): 33.33 - samples/sec: 2165.57 - lr: 0.005000 - momentum: 0.000000\n",
            "2024-11-05 14:05:04,251 ----------------------------------------------------------------------------------------------------\n",
            "2024-11-05 14:05:04,253 EPOCH 27 done: loss 0.2798 - lr: 0.005000\n"
          ]
        },
        {
          "output_type": "stream",
          "name": "stderr",
          "text": [
            "100%|██████████| 1/1 [00:03<00:00,  3.14s/it]"
          ]
        },
        {
          "output_type": "stream",
          "name": "stdout",
          "text": [
            "2024-11-05 14:05:07,443 DEV : loss 0.46966421604156494 - f1-score (micro avg)  0.0\n",
            "2024-11-05 14:05:07,467  - 1 epochs without improvement\n",
            "2024-11-05 14:05:07,471 ----------------------------------------------------------------------------------------------------\n"
          ]
        },
        {
          "output_type": "stream",
          "name": "stderr",
          "text": [
            "\n"
          ]
        },
        {
          "output_type": "stream",
          "name": "stdout",
          "text": [
            "2024-11-05 14:05:09,817 epoch 28 - iter 3/34 - loss 0.25957559 - time (sec): 2.34 - samples/sec: 2459.52 - lr: 0.005000 - momentum: 0.000000\n",
            "2024-11-05 14:05:13,123 epoch 28 - iter 6/34 - loss 0.23647674 - time (sec): 5.65 - samples/sec: 2521.43 - lr: 0.005000 - momentum: 0.000000\n",
            "2024-11-05 14:05:16,627 epoch 28 - iter 9/34 - loss 0.25377003 - time (sec): 9.15 - samples/sec: 2380.45 - lr: 0.005000 - momentum: 0.000000\n",
            "2024-11-05 14:05:20,072 epoch 28 - iter 12/34 - loss 0.25529195 - time (sec): 12.60 - samples/sec: 2238.89 - lr: 0.005000 - momentum: 0.000000\n",
            "2024-11-05 14:05:22,742 epoch 28 - iter 15/34 - loss 0.25317871 - time (sec): 15.27 - samples/sec: 2300.02 - lr: 0.005000 - momentum: 0.000000\n",
            "2024-11-05 14:05:25,650 epoch 28 - iter 18/34 - loss 0.25803236 - time (sec): 18.18 - samples/sec: 2277.62 - lr: 0.005000 - momentum: 0.000000\n",
            "2024-11-05 14:05:28,437 epoch 28 - iter 21/34 - loss 0.26693835 - time (sec): 20.96 - samples/sec: 2210.96 - lr: 0.005000 - momentum: 0.000000\n",
            "2024-11-05 14:05:31,414 epoch 28 - iter 24/34 - loss 0.26610951 - time (sec): 23.94 - samples/sec: 2208.14 - lr: 0.005000 - momentum: 0.000000\n",
            "2024-11-05 14:05:33,838 epoch 28 - iter 27/34 - loss 0.27037828 - time (sec): 26.36 - samples/sec: 2148.26 - lr: 0.005000 - momentum: 0.000000\n",
            "2024-11-05 14:05:36,641 epoch 28 - iter 30/34 - loss 0.27455434 - time (sec): 29.17 - samples/sec: 2158.05 - lr: 0.005000 - momentum: 0.000000\n",
            "2024-11-05 14:05:40,011 epoch 28 - iter 33/34 - loss 0.27346358 - time (sec): 32.54 - samples/sec: 2185.05 - lr: 0.005000 - momentum: 0.000000\n",
            "2024-11-05 14:05:41,280 ----------------------------------------------------------------------------------------------------\n",
            "2024-11-05 14:05:41,283 EPOCH 28 done: loss 0.2736 - lr: 0.005000\n"
          ]
        },
        {
          "output_type": "stream",
          "name": "stderr",
          "text": [
            "100%|██████████| 1/1 [00:02<00:00,  2.17s/it]"
          ]
        },
        {
          "output_type": "stream",
          "name": "stdout",
          "text": [
            "2024-11-05 14:05:43,477 DEV : loss 0.4682394564151764 - f1-score (micro avg)  0.0\n",
            "2024-11-05 14:05:43,489  - 2 epochs without improvement\n",
            "2024-11-05 14:05:43,490 ----------------------------------------------------------------------------------------------------\n"
          ]
        },
        {
          "output_type": "stream",
          "name": "stderr",
          "text": [
            "\n"
          ]
        },
        {
          "output_type": "stream",
          "name": "stdout",
          "text": [
            "2024-11-05 14:05:46,677 epoch 29 - iter 3/34 - loss 0.21863524 - time (sec): 3.18 - samples/sec: 2232.38 - lr: 0.005000 - momentum: 0.000000\n",
            "2024-11-05 14:05:50,141 epoch 29 - iter 6/34 - loss 0.24422528 - time (sec): 6.65 - samples/sec: 2207.77 - lr: 0.005000 - momentum: 0.000000\n",
            "2024-11-05 14:05:52,891 epoch 29 - iter 9/34 - loss 0.25975324 - time (sec): 9.40 - samples/sec: 2209.79 - lr: 0.005000 - momentum: 0.000000\n",
            "2024-11-05 14:05:55,486 epoch 29 - iter 12/34 - loss 0.26939468 - time (sec): 11.99 - samples/sec: 2199.56 - lr: 0.005000 - momentum: 0.000000\n",
            "2024-11-05 14:05:58,236 epoch 29 - iter 15/34 - loss 0.27309812 - time (sec): 14.74 - samples/sec: 2151.59 - lr: 0.005000 - momentum: 0.000000\n",
            "2024-11-05 14:06:01,510 epoch 29 - iter 18/34 - loss 0.27873924 - time (sec): 18.02 - samples/sec: 2137.21 - lr: 0.005000 - momentum: 0.000000\n",
            "2024-11-05 14:06:05,303 epoch 29 - iter 21/34 - loss 0.27478442 - time (sec): 21.81 - samples/sec: 2144.93 - lr: 0.005000 - momentum: 0.000000\n",
            "2024-11-05 14:06:08,689 epoch 29 - iter 24/34 - loss 0.27176517 - time (sec): 25.20 - samples/sec: 2143.52 - lr: 0.005000 - momentum: 0.000000\n",
            "2024-11-05 14:06:11,898 epoch 29 - iter 27/34 - loss 0.27141335 - time (sec): 28.41 - samples/sec: 2158.92 - lr: 0.005000 - momentum: 0.000000\n",
            "2024-11-05 14:06:14,279 epoch 29 - iter 30/34 - loss 0.27266552 - time (sec): 30.79 - samples/sec: 2167.35 - lr: 0.005000 - momentum: 0.000000\n",
            "2024-11-05 14:06:17,278 epoch 29 - iter 33/34 - loss 0.26901244 - time (sec): 33.79 - samples/sec: 2126.83 - lr: 0.005000 - momentum: 0.000000\n",
            "2024-11-05 14:06:18,042 ----------------------------------------------------------------------------------------------------\n",
            "2024-11-05 14:06:18,048 EPOCH 29 done: loss 0.2701 - lr: 0.005000\n"
          ]
        },
        {
          "output_type": "stream",
          "name": "stderr",
          "text": [
            "100%|██████████| 1/1 [00:02<00:00,  2.45s/it]"
          ]
        },
        {
          "output_type": "stream",
          "name": "stdout",
          "text": [
            "2024-11-05 14:06:20,540 DEV : loss 0.464189738035202 - f1-score (micro avg)  0.0\n",
            "2024-11-05 14:06:20,553  - 0 epochs without improvement\n",
            "2024-11-05 14:06:20,554 ----------------------------------------------------------------------------------------------------\n"
          ]
        },
        {
          "output_type": "stream",
          "name": "stderr",
          "text": [
            "\n"
          ]
        },
        {
          "output_type": "stream",
          "name": "stdout",
          "text": [
            "2024-11-05 14:06:23,069 epoch 30 - iter 3/34 - loss 0.25712218 - time (sec): 2.51 - samples/sec: 2151.75 - lr: 0.005000 - momentum: 0.000000\n",
            "2024-11-05 14:06:25,930 epoch 30 - iter 6/34 - loss 0.27914293 - time (sec): 5.37 - samples/sec: 2052.84 - lr: 0.005000 - momentum: 0.000000\n",
            "2024-11-05 14:06:29,143 epoch 30 - iter 9/34 - loss 0.27107990 - time (sec): 8.58 - samples/sec: 2108.77 - lr: 0.005000 - momentum: 0.000000\n",
            "2024-11-05 14:06:32,479 epoch 30 - iter 12/34 - loss 0.26445030 - time (sec): 11.92 - samples/sec: 2115.81 - lr: 0.005000 - momentum: 0.000000\n",
            "2024-11-05 14:06:35,155 epoch 30 - iter 15/34 - loss 0.26171511 - time (sec): 14.60 - samples/sec: 2164.10 - lr: 0.005000 - momentum: 0.000000\n",
            "2024-11-05 14:06:38,037 epoch 30 - iter 18/34 - loss 0.27578814 - time (sec): 17.48 - samples/sec: 2147.96 - lr: 0.005000 - momentum: 0.000000\n",
            "2024-11-05 14:06:40,662 epoch 30 - iter 21/34 - loss 0.27445693 - time (sec): 20.10 - samples/sec: 2189.16 - lr: 0.005000 - momentum: 0.000000\n",
            "2024-11-05 14:06:44,695 epoch 30 - iter 24/34 - loss 0.26806532 - time (sec): 24.14 - samples/sec: 2145.87 - lr: 0.005000 - momentum: 0.000000\n",
            "2024-11-05 14:06:47,374 epoch 30 - iter 27/34 - loss 0.26445659 - time (sec): 26.81 - samples/sec: 2167.06 - lr: 0.005000 - momentum: 0.000000\n",
            "2024-11-05 14:06:49,925 epoch 30 - iter 30/34 - loss 0.26200371 - time (sec): 29.37 - samples/sec: 2186.98 - lr: 0.005000 - momentum: 0.000000\n",
            "2024-11-05 14:06:53,691 epoch 30 - iter 33/34 - loss 0.26552810 - time (sec): 33.13 - samples/sec: 2193.43 - lr: 0.005000 - momentum: 0.000000\n",
            "2024-11-05 14:06:54,282 ----------------------------------------------------------------------------------------------------\n",
            "2024-11-05 14:06:54,283 EPOCH 30 done: loss 0.2664 - lr: 0.005000\n"
          ]
        },
        {
          "output_type": "stream",
          "name": "stderr",
          "text": [
            "100%|██████████| 1/1 [00:01<00:00,  1.80s/it]"
          ]
        },
        {
          "output_type": "stream",
          "name": "stdout",
          "text": [
            "2024-11-05 14:06:56,119 DEV : loss 0.46806713938713074 - f1-score (micro avg)  0.0\n",
            "2024-11-05 14:06:56,137  - 1 epochs without improvement\n"
          ]
        },
        {
          "output_type": "stream",
          "name": "stderr",
          "text": [
            "\n"
          ]
        },
        {
          "output_type": "stream",
          "name": "stdout",
          "text": [
            "2024-11-05 14:07:00,015 ----------------------------------------------------------------------------------------------------\n",
            "2024-11-05 14:07:00,022 Testing using last state of model ...\n"
          ]
        },
        {
          "output_type": "stream",
          "name": "stderr",
          "text": [
            "100%|██████████| 2/2 [00:06<00:00,  3.03s/it]"
          ]
        },
        {
          "output_type": "stream",
          "name": "stdout",
          "text": [
            "2024-11-05 14:07:06,143 \n",
            "Results:\n",
            "- F-score (micro) 0.4752\n",
            "- F-score (macro) 0.5364\n",
            "- Accuracy 0.3191\n",
            "\n",
            "By class:\n",
            "              precision    recall  f1-score   support\n",
            "\n",
            "       SKILL     0.3988    0.2582    0.3135       519\n",
            "         JOB     0.4972    0.5933    0.5410       150\n",
            "        WORK     0.6667    0.8819    0.7593       127\n",
            "     COMPANY     0.4403    0.5842    0.5021       101\n",
            "         UNI     0.4490    0.4231    0.4356        52\n",
            "         DEG     0.5000    0.4490    0.4731        49\n",
            "         LOC     0.7333    0.1467    0.2444        75\n",
            "        NAME     0.8529    0.8788    0.8657        33\n",
            "       PHONE     0.8571    0.9375    0.8955        32\n",
            "       EMAIL     0.8462    0.8148    0.8302        27\n",
            "       STUDY     0.5000    0.0208    0.0400        48\n",
            "\n",
            "   micro avg     0.5196    0.4378    0.4752      1213\n",
            "   macro avg     0.6129    0.5444    0.5364      1213\n",
            "weighted avg     0.5078    0.4378    0.4425      1213\n",
            "\n",
            "2024-11-05 14:07:06,145 ----------------------------------------------------------------------------------------------------\n"
          ]
        },
        {
          "output_type": "stream",
          "name": "stderr",
          "text": [
            "\n"
          ]
        }
      ]
    },
    {
      "cell_type": "code",
      "source": [
        "# evaluate model\n",
        "from flair.data import Corpus\n",
        "from flair.datasets import ColumnCorpus\n",
        "from flair.models import SequenceTagger\n",
        "from flair.trainers import ModelTrainer\n",
        "\n",
        "# Load the trained model\n",
        "model = SequenceTagger.load('/content/drive/MyDrive/FYP/Implementation/flair_output/final-model.pt')\n",
        "\n",
        "# Evaluate the model on the test set\n",
        "result = model.evaluate(corpus.test, gold_label_type='ner', mini_batch_size=32)\n",
        "\n",
        "# Print the results\n",
        "# print(\"Evaluation Loss:\", eval_loss)\n",
        "print(result.detailed_results)  # print the precision, recall, and F1-score per entity type"
      ],
      "metadata": {
        "id": "6KT8wj3Lns2c",
        "colab": {
          "base_uri": "https://localhost:8080/"
        },
        "outputId": "b013ae12-75b9-4e96-eb74-cdf841fe0e34"
      },
      "id": "6KT8wj3Lns2c",
      "execution_count": 9,
      "outputs": [
        {
          "output_type": "stream",
          "name": "stdout",
          "text": [
            "2024-11-05 14:07:58,501 SequenceTagger predicts: Dictionary with 45 tags: O, S-SKILL, B-SKILL, E-SKILL, I-SKILL, S-JOB, B-JOB, E-JOB, I-JOB, S-WORK, B-WORK, E-WORK, I-WORK, S-COMPANY, B-COMPANY, E-COMPANY, I-COMPANY, S-LOC, B-LOC, E-LOC, I-LOC, S-UNI, B-UNI, E-UNI, I-UNI, S-NAME, B-NAME, E-NAME, I-NAME, S-PHONE, B-PHONE, E-PHONE, I-PHONE, S-DEG, B-DEG, E-DEG, I-DEG, S-STUDY, B-STUDY, E-STUDY, I-STUDY, S-EMAIL, B-EMAIL, E-EMAIL, I-EMAIL\n"
          ]
        },
        {
          "output_type": "stream",
          "name": "stderr",
          "text": [
            "100%|██████████| 3/3 [00:04<00:00,  1.52s/it]"
          ]
        },
        {
          "output_type": "stream",
          "name": "stdout",
          "text": [
            "\n",
            "Results:\n",
            "- F-score (micro) 0.4752\n",
            "- F-score (macro) 0.5364\n",
            "- Accuracy 0.3191\n",
            "\n",
            "By class:\n",
            "              precision    recall  f1-score   support\n",
            "\n",
            "       SKILL     0.3988    0.2582    0.3135       519\n",
            "         JOB     0.4972    0.5933    0.5410       150\n",
            "        WORK     0.6667    0.8819    0.7593       127\n",
            "     COMPANY     0.4403    0.5842    0.5021       101\n",
            "         UNI     0.4490    0.4231    0.4356        52\n",
            "         DEG     0.5000    0.4490    0.4731        49\n",
            "         LOC     0.7333    0.1467    0.2444        75\n",
            "        NAME     0.8529    0.8788    0.8657        33\n",
            "       PHONE     0.8571    0.9375    0.8955        32\n",
            "       EMAIL     0.8462    0.8148    0.8302        27\n",
            "       STUDY     0.5000    0.0208    0.0400        48\n",
            "\n",
            "   micro avg     0.5196    0.4378    0.4752      1213\n",
            "   macro avg     0.6129    0.5444    0.5364      1213\n",
            "weighted avg     0.5078    0.4378    0.4425      1213\n",
            "\n"
          ]
        },
        {
          "output_type": "stream",
          "name": "stderr",
          "text": [
            "\n"
          ]
        }
      ]
    },
    {
      "cell_type": "code",
      "source": [
        "# make prediction\n",
        "import flair\n",
        "model = SequenceTagger.load('/content/drive/MyDrive/FYP/Implementation/flair_output/best-model.pt')\n",
        "resume_text = '''\n",
        "John Doe lives at 1234 Elm Street in Los Angeles, CA 90001. He can be reached at +1 (555) 123-4567 or via email at john.doe@example.com. John is a results-driven software engineer with over 5 years of experience in web development and cloud infrastructure, with strong knowledge of JavaScript, Python, and cloud technologies like AWS and Azure. Currently, he works as a Software Engineer at Google LLC in San Francisco, CA, where he has been employed since August 2019. In this role, he has developed scalable web applications using JavaScript, Node.js, and React, deployed and maintained cloud infrastructure on AWS, reducing downtime by 20%, and led a team of 4 engineers to enhance backend performance by 30%. Previously, he worked as a Junior Developer at Tech Innovators Inc. in Austin, TX, from July 2017 to July 2019, where he created RESTful APIs using Python and Flask, collaborated with front-end developers to build and deploy user-facing applications, and wrote unit and integration tests, improving code coverage by 15%.\n",
        "\n",
        "John holds a Master of Science in Computer Science from the University of California, Berkeley, with a graduation date of May 2017, and a Bachelor of Science in Information Technology from the University of Texas at Austin, graduated in May 2015. His skillset includes proficiency in programming languages like Python, JavaScript, and Java; frameworks such as React, Flask, and Django; cloud platforms including AWS, Google Cloud, and Azure; as well as other tools like Git, Docker, Kubernetes, and SQL. He is certified as an AWS Certified Solutions Architect – Associate, earned in 2020, and as a Google Professional Cloud Architect, earned in 2021'\n",
        "'''\n",
        "sentence = flair.data.Sentence(resume_text.lower())\n",
        "\n",
        "model.predict(sentence)\n",
        "\n",
        "print(sentence.to_tagged_string())"
      ],
      "metadata": {
        "id": "KOYkWF9Anwec",
        "colab": {
          "base_uri": "https://localhost:8080/"
        },
        "outputId": "94040f08-78ec-4348-bd2f-51c7b3bdf166"
      },
      "id": "KOYkWF9Anwec",
      "execution_count": 10,
      "outputs": [
        {
          "output_type": "stream",
          "name": "stdout",
          "text": [
            "2024-11-05 14:08:07,854 SequenceTagger predicts: Dictionary with 47 tags: O, S-SKILL, B-SKILL, E-SKILL, I-SKILL, S-JOB, B-JOB, E-JOB, I-JOB, S-WORK, B-WORK, E-WORK, I-WORK, S-COMPANY, B-COMPANY, E-COMPANY, I-COMPANY, S-LOC, B-LOC, E-LOC, I-LOC, S-UNI, B-UNI, E-UNI, I-UNI, S-DEG, B-DEG, E-DEG, I-DEG, S-NAME, B-NAME, E-NAME, I-NAME, S-PHONE, B-PHONE, E-PHONE, I-PHONE, S-STUDY, B-STUDY, E-STUDY, I-STUDY, S-EMAIL, B-EMAIL, E-EMAIL, I-EMAIL, <START>, <STOP>\n",
            "Sentence[326]: \" john doe lives at 1234 elm street in los angeles, ca 90001. he can be reached at +1 (555) 123-4567 or via email at john.doe@example.com. john is a results-driven software engineer with over 5 years of experience in web development and cloud infrastructure, with strong knowledge of javascript, python, and cloud technologies like aws and azure. currently, he works as a software engineer at google llc in san francisco, ca, where he has been employed since august 2019. in this role, he has developed scalable web applications using javascript, node.js, and react, deployed and maintained cloud infrastructure on aws, reducing downtime by 20%, and led a team of 4 engineers to enhance backend performance by 30%. previously, he worked as a junior developer at tech innovators inc. in austin, tx, from july 2017 to july 2019, where he created restful apis using python and flask, collaborated with front-end developers to build and deploy user-facing applications, and wrote unit and integration tests, improving code coverage by 15%.  john holds a master of science in computer science from the university of california, berkeley, with a graduation date of may 2017, and a bachelor of science in information technology from the university of texas at austin, graduated in may 2015. his skillset includes proficiency in programming languages like python, javascript, and java; frameworks such as react, flask, and django; cloud platforms including aws, google cloud, and azure; as well as other tools like git, docker, kubernetes, and sql. he is certified as an aws certified solutions architect – associate, earned in 2020, and as a google professional cloud architect, earned in 2021'\" → [\"doe lives\"/NAME, \"1234 elm\"/NAME, \"los\"/DEG, \"90001\"/DEG, \"555\"/DEG, \"123-4567\"/DEG, \"via\"/DEG, \"at\"/EMAIL, \"john.doe\"/JOB, \"@\"/DEG, \"example.com\"/STUDY, \"john\"/DEG, \"results-driven\"/DEG, \"javascript\"/DEG, \"python\"/DEG, \"cloud\"/DEG, \"aws\"/DEG, \"azure\"/DEG, \"llc\"/DEG, \"francisco\"/DEG, \"2019\"/DEG, \"scalable\"/DEG, \"javascript\"/DEG, \"node.js\"/DEG, \"react\"/DEG, \"cloud\"/DEG, \"aws\"/DEG, \"downtime\"/DEG, \"backend\"/DEG, \"developer\"/DEG, \"innovators inc\"/NAME, \"austin\"/DEG, \"tx\"/DEG, \"2017\"/DEG, \"2019\"/DEG, \"restful apis\"/NAME, \"python\"/DEG, \"flask\"/DEG, \"collaborated\"/DEG, \"front-end\"/DEG, \"user-facing\"/DEG, \"berkeley\"/DEG, \"2017\"/DEG, \"austin\"/DEG, \"graduated\"/DEG, \"2015\"/DEG, \"skillset\"/DEG, \"proficiency\"/DEG, \"python\"/DEG, \"javascript\"/DEG, \"java\"/DEG, \"frameworks\"/DEG, \"react\"/DEG, \"flask\"/DEG, \"django\"/DEG, \"cloud\"/DEG, \"aws\"/DEG, \"cloud\"/DEG, \"azure\"/DEG, \"git\"/DEG, \"docker\"/DEG, \"kubernetes\"/DEG, \"sql\"/DEG, \"aws certified\"/NAME, \"architect\"/DEG, \"associate\"/DEG, \"earned\"/DEG, \"architect\"/DEG, \"earned\"/DEG, \"2021\"/EMAIL, \"'\"/JOB]\n"
          ]
        }
      ]
    },
    {
      "cell_type": "code",
      "source": [
        "from flair.models import SequenceTagger\n",
        "from flair.data import Sentence\n",
        "\n",
        "# Load the pretrained NER model\n",
        "tagger = SequenceTagger.load(\"/content/drive/MyDrive/FYP/Implementation/flair_output/best-model.pt\")\n",
        "# Example text\n",
        "text = \"Apple is looking at buying U.K. startup for $1 billion.\"\n",
        "\n",
        "# Create a Sentence object\n",
        "sentence = Sentence(resume_text)\n",
        "\n",
        "# Predict entities\n",
        "tagger.predict(sentence)\n",
        "\n",
        "# Print the detected entities\n",
        "for entity in sentence.get_spans(\"ner\"):\n",
        "    print(f\"Entity: {entity.text}, Type: {entity.get_label('ner').value}, Confidence: {entity.score}\")\n"
      ],
      "metadata": {
        "colab": {
          "base_uri": "https://localhost:8080/"
        },
        "id": "Eh_ohqkhnuwA",
        "outputId": "78c3de3c-b15d-423c-fbcf-005f51dcee12"
      },
      "id": "Eh_ohqkhnuwA",
      "execution_count": 11,
      "outputs": [
        {
          "output_type": "stream",
          "name": "stdout",
          "text": [
            "2024-11-05 14:08:11,394 SequenceTagger predicts: Dictionary with 47 tags: O, S-SKILL, B-SKILL, E-SKILL, I-SKILL, S-JOB, B-JOB, E-JOB, I-JOB, S-WORK, B-WORK, E-WORK, I-WORK, S-COMPANY, B-COMPANY, E-COMPANY, I-COMPANY, S-LOC, B-LOC, E-LOC, I-LOC, S-UNI, B-UNI, E-UNI, I-UNI, S-DEG, B-DEG, E-DEG, I-DEG, S-NAME, B-NAME, E-NAME, I-NAME, S-PHONE, B-PHONE, E-PHONE, I-PHONE, S-STUDY, B-STUDY, E-STUDY, I-STUDY, S-EMAIL, B-EMAIL, E-EMAIL, I-EMAIL, <START>, <STOP>\n",
            "Entity: Doe lives, Type: NAME, Confidence: 0.16702505946159363\n",
            "Entity: 1234 Elm, Type: NAME, Confidence: 0.11599351465702057\n",
            "Entity: Los, Type: DEG, Confidence: 0.18544061481952667\n",
            "Entity: 90001, Type: DEG, Confidence: 0.14748063683509827\n",
            "Entity: 555, Type: DEG, Confidence: 0.11017131805419922\n",
            "Entity: 123-4567, Type: DEG, Confidence: 0.11569119244813919\n",
            "Entity: via, Type: DEG, Confidence: 0.20629706978797913\n",
            "Entity: at, Type: EMAIL, Confidence: 0.19365909695625305\n",
            "Entity: john.doe, Type: JOB, Confidence: 0.10587572306394577\n",
            "Entity: @, Type: DEG, Confidence: 0.1225953996181488\n",
            "Entity: example.com, Type: STUDY, Confidence: 0.10775433480739594\n",
            "Entity: John, Type: DEG, Confidence: 0.1873975694179535\n",
            "Entity: results-driven, Type: DEG, Confidence: 0.1495516300201416\n",
            "Entity: JavaScript, Type: DEG, Confidence: 0.1738281399011612\n",
            "Entity: Python, Type: DEG, Confidence: 0.1625775396823883\n",
            "Entity: cloud, Type: DEG, Confidence: 0.1898547261953354\n",
            "Entity: AWS, Type: DEG, Confidence: 0.1078900545835495\n",
            "Entity: Azure, Type: DEG, Confidence: 0.1390189230442047\n",
            "Entity: LLC, Type: DEG, Confidence: 0.19518113136291504\n",
            "Entity: Francisco, Type: DEG, Confidence: 0.20789998769760132\n",
            "Entity: 2019, Type: DEG, Confidence: 0.1681929975748062\n",
            "Entity: scalable, Type: DEG, Confidence: 0.18266770243644714\n",
            "Entity: JavaScript, Type: DEG, Confidence: 0.16769887506961823\n",
            "Entity: Node.js, Type: DEG, Confidence: 0.11853489279747009\n",
            "Entity: React, Type: DEG, Confidence: 0.20138564705848694\n",
            "Entity: cloud, Type: DEG, Confidence: 0.17859530448913574\n",
            "Entity: AWS, Type: DEG, Confidence: 0.11059108376502991\n",
            "Entity: downtime, Type: DEG, Confidence: 0.15199507772922516\n",
            "Entity: backend, Type: DEG, Confidence: 0.15180251002311707\n",
            "Entity: Developer, Type: DEG, Confidence: 0.200774148106575\n",
            "Entity: Innovators Inc, Type: NAME, Confidence: 0.14714515209197998\n",
            "Entity: Austin, Type: DEG, Confidence: 0.17351219058036804\n",
            "Entity: TX, Type: DEG, Confidence: 0.14547361433506012\n",
            "Entity: 2017, Type: DEG, Confidence: 0.17111483216285706\n",
            "Entity: 2019, Type: DEG, Confidence: 0.1492062658071518\n",
            "Entity: RESTful APIs, Type: NAME, Confidence: 0.12886418029665947\n",
            "Entity: Python, Type: DEG, Confidence: 0.12615029513835907\n",
            "Entity: Flask, Type: DEG, Confidence: 0.11048925668001175\n",
            "Entity: collaborated, Type: DEG, Confidence: 0.1400829404592514\n",
            "Entity: front-end, Type: DEG, Confidence: 0.1426965743303299\n",
            "Entity: user-facing, Type: DEG, Confidence: 0.1417454183101654\n",
            "Entity: Berkeley, Type: DEG, Confidence: 0.21379657089710236\n",
            "Entity: 2017, Type: DEG, Confidence: 0.20121298730373383\n",
            "Entity: Austin, Type: DEG, Confidence: 0.1921633780002594\n",
            "Entity: graduated, Type: DEG, Confidence: 0.19784928858280182\n",
            "Entity: 2015, Type: DEG, Confidence: 0.20958878099918365\n",
            "Entity: skillset, Type: DEG, Confidence: 0.11280574649572372\n",
            "Entity: proficiency, Type: DEG, Confidence: 0.20423416793346405\n",
            "Entity: Python, Type: DEG, Confidence: 0.15512722730636597\n",
            "Entity: JavaScript, Type: DEG, Confidence: 0.1654430627822876\n",
            "Entity: Java, Type: DEG, Confidence: 0.19505003094673157\n",
            "Entity: frameworks, Type: DEG, Confidence: 0.18640774488449097\n",
            "Entity: React, Type: DEG, Confidence: 0.19585756957530975\n",
            "Entity: Flask, Type: DEG, Confidence: 0.10743413120508194\n",
            "Entity: Django, Type: DEG, Confidence: 0.10782385617494583\n",
            "Entity: cloud, Type: DEG, Confidence: 0.15763729810714722\n",
            "Entity: AWS, Type: DEG, Confidence: 0.10634929686784744\n",
            "Entity: Cloud, Type: DEG, Confidence: 0.18283122777938843\n",
            "Entity: Azure, Type: DEG, Confidence: 0.15222297608852386\n",
            "Entity: Git, Type: DEG, Confidence: 0.11355996131896973\n",
            "Entity: Docker, Type: DEG, Confidence: 0.11132988333702087\n",
            "Entity: Kubernetes, Type: DEG, Confidence: 0.11910903453826904\n",
            "Entity: SQL, Type: DEG, Confidence: 0.16887710988521576\n",
            "Entity: AWS Certified, Type: NAME, Confidence: 0.16041680797934532\n",
            "Entity: Architect, Type: DEG, Confidence: 0.1597680151462555\n",
            "Entity: Associate, Type: DEG, Confidence: 0.16229602694511414\n",
            "Entity: earned, Type: DEG, Confidence: 0.21766595542430878\n",
            "Entity: Architect, Type: DEG, Confidence: 0.18512634932994843\n",
            "Entity: earned, Type: DEG, Confidence: 0.16895930469036102\n",
            "Entity: 2021, Type: EMAIL, Confidence: 0.11030236631631851\n",
            "Entity: ', Type: JOB, Confidence: 0.16406425833702087\n"
          ]
        }
      ]
    }
  ],
  "metadata": {
    "kernelspec": {
      "display_name": "Python 3",
      "name": "python3"
    },
    "language_info": {
      "codemirror_mode": {
        "name": "ipython",
        "version": 3
      },
      "file_extension": ".py",
      "mimetype": "text/x-python",
      "name": "python",
      "nbconvert_exporter": "python",
      "pygments_lexer": "ipython3",
      "version": "3.10.0"
    },
    "colab": {
      "provenance": [],
      "gpuType": "T4",
      "include_colab_link": true
    },
    "accelerator": "GPU"
  },
  "nbformat": 4,
  "nbformat_minor": 5
}