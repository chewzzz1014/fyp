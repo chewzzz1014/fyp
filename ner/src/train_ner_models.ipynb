{
  "cells": [
    {
      "cell_type": "markdown",
      "metadata": {
        "id": "view-in-github",
        "colab_type": "text"
      },
      "source": [
        "<a href=\"https://colab.research.google.com/github/chewzzz1014/fyp/blob/master/ner/src/train_ner_models.ipynb\" target=\"_parent\"><img src=\"https://colab.research.google.com/assets/colab-badge.svg\" alt=\"Open In Colab\"/></a>"
      ]
    },
    {
      "cell_type": "markdown",
      "source": [
        "# Train NER Models"
      ],
      "metadata": {
        "id": "t0P9v82yDulr"
      },
      "id": "t0P9v82yDulr"
    },
    {
      "cell_type": "code",
      "source": [
        "# mount drive\n",
        "from google.colab import drive\n",
        "drive.mount('/content/drive')"
      ],
      "metadata": {
        "id": "5YToyjV-40ZV",
        "outputId": "1ea22bcd-d3a2-4687-9cde-a24ce2a4cfec",
        "colab": {
          "base_uri": "https://localhost:8080/"
        }
      },
      "id": "5YToyjV-40ZV",
      "execution_count": 1,
      "outputs": [
        {
          "output_type": "stream",
          "name": "stdout",
          "text": [
            "Drive already mounted at /content/drive; to attempt to forcibly remount, call drive.mount(\"/content/drive\", force_remount=True).\n"
          ]
        }
      ]
    },
    {
      "cell_type": "code",
      "source": [
        "!mkdir spacy_ner_data"
      ],
      "metadata": {
        "id": "VtZ7OFQtpG4-"
      },
      "id": "VtZ7OFQtpG4-",
      "execution_count": null,
      "outputs": []
    },
    {
      "cell_type": "code",
      "source": [
        "import json\n",
        "import random\n",
        "from sklearn.model_selection import train_test_split\n",
        "import spacy\n",
        "from spacy.tokens import DocBin\n",
        "\n",
        "# Load JSON data\n",
        "with open('/content/drive/MyDrive/FYP/Implementation/Resume Dataset/200_resumes_annotated.json', \"r\") as f:\n",
        "    data = json.load(f)\n",
        "\n",
        "def remove_overlapping_entities(entities):\n",
        "    \"\"\"Remove overlapping entities from the list.\"\"\"\n",
        "    entities = sorted(entities, key=lambda x: x[0])  # Sort by start position\n",
        "    non_overlapping = []\n",
        "    last_end = -1\n",
        "    for start, end, label in entities:\n",
        "        if start >= last_end:  # Only add if there's no overlap with the previous entity\n",
        "            non_overlapping.append((start, end, label))\n",
        "            last_end = end\n",
        "    return non_overlapping\n",
        "\n",
        "# Function to convert JSON data to Spacy's DocBin format\n",
        "def convert_to_spacy_format(data):\n",
        "    nlp = spacy.blank(\"en\")  # Load a blank Spacy model\n",
        "    doc_bin = DocBin()  # Container for our docs\n",
        "\n",
        "    for item in data:\n",
        "        text = item['data']['Text']  # Full document text\n",
        "        entities = []\n",
        "\n",
        "        for annotation in item['annotations'][0]['result']:\n",
        "            start = annotation['value']['start']\n",
        "            end = annotation['value']['end']\n",
        "            label = annotation['value']['labels'][0]  # Entity label\n",
        "            entities.append((start, end, label))\n",
        "\n",
        "        entities = remove_overlapping_entities(entities)  # Remove overlapping entities\n",
        "        # Create a Spacy doc and add entities to it\n",
        "        doc = nlp.make_doc(text)\n",
        "        spans = [doc.char_span(start, end, label=label) for start, end, label in entities]\n",
        "        # Filter out None spans if Spacy can't align the character indices with tokens\n",
        "        spans = [span for span in spans if span is not None]\n",
        "        doc.ents = spans  # Assign entities to the doc\n",
        "        doc_bin.add(doc)\n",
        "\n",
        "    return doc_bin\n",
        "\n",
        "# Split data into train and test sets\n",
        "train_data, test_data = train_test_split(data, test_size=0.2, random_state=42)\n",
        "\n",
        "# Convert train and test sets to Spacy format\n",
        "train_doc_bin = convert_to_spacy_format(train_data)\n",
        "test_doc_bin = convert_to_spacy_format(test_data)\n",
        "\n",
        "# Save the train and test data to .spacy files\n",
        "train_doc_bin.to_disk(\"spacy_ner_data/train_data.spacy\")\n",
        "test_doc_bin.to_disk(\"spacy_ner_data/test_data.spacy\")"
      ],
      "metadata": {
        "id": "R-8QBDX3gtkp"
      },
      "id": "R-8QBDX3gtkp",
      "execution_count": null,
      "outputs": []
    },
    {
      "cell_type": "markdown",
      "source": [
        "## Spacy NER"
      ],
      "metadata": {
        "id": "FMM7E6hNCEUv"
      },
      "id": "FMM7E6hNCEUv"
    },
    {
      "cell_type": "code",
      "source": [
        "# create base_config.cfg and paste the config generated from spacy widget\n",
        "# update train and test file path\n",
        "!touch base_config.cfg"
      ],
      "metadata": {
        "id": "ruPln43fCDLm"
      },
      "id": "ruPln43fCDLm",
      "execution_count": null,
      "outputs": []
    },
    {
      "cell_type": "code",
      "source": [
        "# generate config.cfg from base_config.cfg\n",
        "!python -m spacy init fill-config base_config.cfg config.cfg"
      ],
      "metadata": {
        "id": "0aRjL9jqC-5k",
        "colab": {
          "base_uri": "https://localhost:8080/"
        },
        "outputId": "5489cd43-f730-47d0-ca13-c1ed658d98da"
      },
      "id": "0aRjL9jqC-5k",
      "execution_count": null,
      "outputs": [
        {
          "output_type": "stream",
          "name": "stdout",
          "text": [
            "\u001b[38;5;2m✔ Auto-filled config with all values\u001b[0m\n",
            "\u001b[38;5;2m✔ Saved config\u001b[0m\n",
            "config.cfg\n",
            "You can now add your data and train your pipeline:\n",
            "python -m spacy train config.cfg --paths.train ./train.spacy --paths.dev ./dev.spacy\n"
          ]
        }
      ]
    },
    {
      "cell_type": "code",
      "source": [
        "!python -m spacy download en_core_web_lg"
      ],
      "metadata": {
        "colab": {
          "base_uri": "https://localhost:8080/"
        },
        "id": "9wb_aBw9X2NU",
        "outputId": "561939c7-f8b1-4038-af0d-ddd3824b3509"
      },
      "id": "9wb_aBw9X2NU",
      "execution_count": null,
      "outputs": [
        {
          "output_type": "stream",
          "name": "stdout",
          "text": [
            "Collecting en-core-web-lg==3.7.1\n",
            "  Downloading https://github.com/explosion/spacy-models/releases/download/en_core_web_lg-3.7.1/en_core_web_lg-3.7.1-py3-none-any.whl (587.7 MB)\n",
            "\u001b[2K     \u001b[90m━━━━━━━━━━━━━━━━━━━━━━━━━━━━━━━━━━━━━━━━\u001b[0m \u001b[32m587.7/587.7 MB\u001b[0m \u001b[31m2.2 MB/s\u001b[0m eta \u001b[36m0:00:00\u001b[0m\n",
            "\u001b[?25hRequirement already satisfied: spacy<3.8.0,>=3.7.2 in /usr/local/lib/python3.10/dist-packages (from en-core-web-lg==3.7.1) (3.7.5)\n",
            "Requirement already satisfied: spacy-legacy<3.1.0,>=3.0.11 in /usr/local/lib/python3.10/dist-packages (from spacy<3.8.0,>=3.7.2->en-core-web-lg==3.7.1) (3.0.12)\n",
            "Requirement already satisfied: spacy-loggers<2.0.0,>=1.0.0 in /usr/local/lib/python3.10/dist-packages (from spacy<3.8.0,>=3.7.2->en-core-web-lg==3.7.1) (1.0.5)\n",
            "Requirement already satisfied: murmurhash<1.1.0,>=0.28.0 in /usr/local/lib/python3.10/dist-packages (from spacy<3.8.0,>=3.7.2->en-core-web-lg==3.7.1) (1.0.10)\n",
            "Requirement already satisfied: cymem<2.1.0,>=2.0.2 in /usr/local/lib/python3.10/dist-packages (from spacy<3.8.0,>=3.7.2->en-core-web-lg==3.7.1) (2.0.8)\n",
            "Requirement already satisfied: preshed<3.1.0,>=3.0.2 in /usr/local/lib/python3.10/dist-packages (from spacy<3.8.0,>=3.7.2->en-core-web-lg==3.7.1) (3.0.9)\n",
            "Requirement already satisfied: thinc<8.3.0,>=8.2.2 in /usr/local/lib/python3.10/dist-packages (from spacy<3.8.0,>=3.7.2->en-core-web-lg==3.7.1) (8.2.5)\n",
            "Requirement already satisfied: wasabi<1.2.0,>=0.9.1 in /usr/local/lib/python3.10/dist-packages (from spacy<3.8.0,>=3.7.2->en-core-web-lg==3.7.1) (1.1.3)\n",
            "Requirement already satisfied: srsly<3.0.0,>=2.4.3 in /usr/local/lib/python3.10/dist-packages (from spacy<3.8.0,>=3.7.2->en-core-web-lg==3.7.1) (2.4.8)\n",
            "Requirement already satisfied: catalogue<2.1.0,>=2.0.6 in /usr/local/lib/python3.10/dist-packages (from spacy<3.8.0,>=3.7.2->en-core-web-lg==3.7.1) (2.0.10)\n",
            "Requirement already satisfied: weasel<0.5.0,>=0.1.0 in /usr/local/lib/python3.10/dist-packages (from spacy<3.8.0,>=3.7.2->en-core-web-lg==3.7.1) (0.4.1)\n",
            "Requirement already satisfied: typer<1.0.0,>=0.3.0 in /usr/local/lib/python3.10/dist-packages (from spacy<3.8.0,>=3.7.2->en-core-web-lg==3.7.1) (0.12.5)\n",
            "Requirement already satisfied: tqdm<5.0.0,>=4.38.0 in /usr/local/lib/python3.10/dist-packages (from spacy<3.8.0,>=3.7.2->en-core-web-lg==3.7.1) (4.66.6)\n",
            "Requirement already satisfied: requests<3.0.0,>=2.13.0 in /usr/local/lib/python3.10/dist-packages (from spacy<3.8.0,>=3.7.2->en-core-web-lg==3.7.1) (2.32.3)\n",
            "Requirement already satisfied: pydantic!=1.8,!=1.8.1,<3.0.0,>=1.7.4 in /usr/local/lib/python3.10/dist-packages (from spacy<3.8.0,>=3.7.2->en-core-web-lg==3.7.1) (2.9.2)\n",
            "Requirement already satisfied: jinja2 in /usr/local/lib/python3.10/dist-packages (from spacy<3.8.0,>=3.7.2->en-core-web-lg==3.7.1) (3.1.4)\n",
            "Requirement already satisfied: setuptools in /usr/local/lib/python3.10/dist-packages (from spacy<3.8.0,>=3.7.2->en-core-web-lg==3.7.1) (75.1.0)\n",
            "Requirement already satisfied: packaging>=20.0 in /usr/local/lib/python3.10/dist-packages (from spacy<3.8.0,>=3.7.2->en-core-web-lg==3.7.1) (24.1)\n",
            "Requirement already satisfied: langcodes<4.0.0,>=3.2.0 in /usr/local/lib/python3.10/dist-packages (from spacy<3.8.0,>=3.7.2->en-core-web-lg==3.7.1) (3.4.1)\n",
            "Requirement already satisfied: numpy>=1.19.0 in /usr/local/lib/python3.10/dist-packages (from spacy<3.8.0,>=3.7.2->en-core-web-lg==3.7.1) (1.26.4)\n",
            "Requirement already satisfied: language-data>=1.2 in /usr/local/lib/python3.10/dist-packages (from langcodes<4.0.0,>=3.2.0->spacy<3.8.0,>=3.7.2->en-core-web-lg==3.7.1) (1.2.0)\n",
            "Requirement already satisfied: annotated-types>=0.6.0 in /usr/local/lib/python3.10/dist-packages (from pydantic!=1.8,!=1.8.1,<3.0.0,>=1.7.4->spacy<3.8.0,>=3.7.2->en-core-web-lg==3.7.1) (0.7.0)\n",
            "Requirement already satisfied: pydantic-core==2.23.4 in /usr/local/lib/python3.10/dist-packages (from pydantic!=1.8,!=1.8.1,<3.0.0,>=1.7.4->spacy<3.8.0,>=3.7.2->en-core-web-lg==3.7.1) (2.23.4)\n",
            "Requirement already satisfied: typing-extensions>=4.6.1 in /usr/local/lib/python3.10/dist-packages (from pydantic!=1.8,!=1.8.1,<3.0.0,>=1.7.4->spacy<3.8.0,>=3.7.2->en-core-web-lg==3.7.1) (4.12.2)\n",
            "Requirement already satisfied: charset-normalizer<4,>=2 in /usr/local/lib/python3.10/dist-packages (from requests<3.0.0,>=2.13.0->spacy<3.8.0,>=3.7.2->en-core-web-lg==3.7.1) (3.4.0)\n",
            "Requirement already satisfied: idna<4,>=2.5 in /usr/local/lib/python3.10/dist-packages (from requests<3.0.0,>=2.13.0->spacy<3.8.0,>=3.7.2->en-core-web-lg==3.7.1) (3.10)\n",
            "Requirement already satisfied: urllib3<3,>=1.21.1 in /usr/local/lib/python3.10/dist-packages (from requests<3.0.0,>=2.13.0->spacy<3.8.0,>=3.7.2->en-core-web-lg==3.7.1) (2.2.3)\n",
            "Requirement already satisfied: certifi>=2017.4.17 in /usr/local/lib/python3.10/dist-packages (from requests<3.0.0,>=2.13.0->spacy<3.8.0,>=3.7.2->en-core-web-lg==3.7.1) (2024.8.30)\n",
            "Requirement already satisfied: blis<0.8.0,>=0.7.8 in /usr/local/lib/python3.10/dist-packages (from thinc<8.3.0,>=8.2.2->spacy<3.8.0,>=3.7.2->en-core-web-lg==3.7.1) (0.7.11)\n",
            "Requirement already satisfied: confection<1.0.0,>=0.0.1 in /usr/local/lib/python3.10/dist-packages (from thinc<8.3.0,>=8.2.2->spacy<3.8.0,>=3.7.2->en-core-web-lg==3.7.1) (0.1.5)\n",
            "Requirement already satisfied: click>=8.0.0 in /usr/local/lib/python3.10/dist-packages (from typer<1.0.0,>=0.3.0->spacy<3.8.0,>=3.7.2->en-core-web-lg==3.7.1) (8.1.7)\n",
            "Requirement already satisfied: shellingham>=1.3.0 in /usr/local/lib/python3.10/dist-packages (from typer<1.0.0,>=0.3.0->spacy<3.8.0,>=3.7.2->en-core-web-lg==3.7.1) (1.5.4)\n",
            "Requirement already satisfied: rich>=10.11.0 in /usr/local/lib/python3.10/dist-packages (from typer<1.0.0,>=0.3.0->spacy<3.8.0,>=3.7.2->en-core-web-lg==3.7.1) (13.9.3)\n",
            "Requirement already satisfied: cloudpathlib<1.0.0,>=0.7.0 in /usr/local/lib/python3.10/dist-packages (from weasel<0.5.0,>=0.1.0->spacy<3.8.0,>=3.7.2->en-core-web-lg==3.7.1) (0.20.0)\n",
            "Requirement already satisfied: smart-open<8.0.0,>=5.2.1 in /usr/local/lib/python3.10/dist-packages (from weasel<0.5.0,>=0.1.0->spacy<3.8.0,>=3.7.2->en-core-web-lg==3.7.1) (7.0.5)\n",
            "Requirement already satisfied: MarkupSafe>=2.0 in /usr/local/lib/python3.10/dist-packages (from jinja2->spacy<3.8.0,>=3.7.2->en-core-web-lg==3.7.1) (3.0.2)\n",
            "Requirement already satisfied: marisa-trie>=0.7.7 in /usr/local/lib/python3.10/dist-packages (from language-data>=1.2->langcodes<4.0.0,>=3.2.0->spacy<3.8.0,>=3.7.2->en-core-web-lg==3.7.1) (1.2.1)\n",
            "Requirement already satisfied: markdown-it-py>=2.2.0 in /usr/local/lib/python3.10/dist-packages (from rich>=10.11.0->typer<1.0.0,>=0.3.0->spacy<3.8.0,>=3.7.2->en-core-web-lg==3.7.1) (3.0.0)\n",
            "Requirement already satisfied: pygments<3.0.0,>=2.13.0 in /usr/local/lib/python3.10/dist-packages (from rich>=10.11.0->typer<1.0.0,>=0.3.0->spacy<3.8.0,>=3.7.2->en-core-web-lg==3.7.1) (2.18.0)\n",
            "Requirement already satisfied: wrapt in /usr/local/lib/python3.10/dist-packages (from smart-open<8.0.0,>=5.2.1->weasel<0.5.0,>=0.1.0->spacy<3.8.0,>=3.7.2->en-core-web-lg==3.7.1) (1.16.0)\n",
            "Requirement already satisfied: mdurl~=0.1 in /usr/local/lib/python3.10/dist-packages (from markdown-it-py>=2.2.0->rich>=10.11.0->typer<1.0.0,>=0.3.0->spacy<3.8.0,>=3.7.2->en-core-web-lg==3.7.1) (0.1.2)\n",
            "Installing collected packages: en-core-web-lg\n",
            "Successfully installed en-core-web-lg-3.7.1\n",
            "\u001b[38;5;2m✔ Download and installation successful\u001b[0m\n",
            "You can now load the package via spacy.load('en_core_web_lg')\n",
            "\u001b[38;5;3m⚠ Restart to reload dependencies\u001b[0m\n",
            "If you are in a Jupyter or Colab notebook, you may need to restart Python in\n",
            "order to load all the package's dependencies. You can do this by selecting the\n",
            "'Restart kernel' or 'Restart runtime' option.\n"
          ]
        }
      ]
    },
    {
      "cell_type": "code",
      "source": [
        "# train model using hyperparameters set in config.cfg\n",
        "# save trained model in spacy-output/ dir\n",
        "!python -m spacy train config.cfg --output ./spacy_output\n",
        "!cp -r ./spacy_output /content/drive/MyDrive/FYP/Implementation/"
      ],
      "metadata": {
        "id": "Jav_l46BEDjF"
      },
      "id": "Jav_l46BEDjF",
      "execution_count": null,
      "outputs": []
    },
    {
      "cell_type": "code",
      "source": [
        "# evaluate trained model performance\n",
        "# store output and visualization into result/ dir\n",
        "!python -m spacy evaluate spacy_output/model-best spacy_ner_data/test_data.spacy -dp spacy_output"
      ],
      "metadata": {
        "id": "V2wzIOsWJgkG",
        "colab": {
          "base_uri": "https://localhost:8080/"
        },
        "outputId": "f0f701bb-ffdb-4167-f67a-0146a54859ba"
      },
      "id": "V2wzIOsWJgkG",
      "execution_count": null,
      "outputs": [
        {
          "output_type": "stream",
          "name": "stdout",
          "text": [
            "\u001b[38;5;4mℹ Using CPU\u001b[0m\n",
            "\u001b[1m\n",
            "================================== Results ==================================\u001b[0m\n",
            "\n",
            "TOK     100.00\n",
            "NER P   51.12 \n",
            "NER R   41.26 \n",
            "NER F   45.66 \n",
            "SPEED   2395  \n",
            "\n",
            "\u001b[1m\n",
            "=============================== NER (per type) ===============================\u001b[0m\n",
            "\n",
            "                P       R       F\n",
            "NAME        89.66   78.79   83.87\n",
            "JOB         72.00   32.43   44.72\n",
            "DEG         62.16   63.89   63.01\n",
            "UNI         38.89   34.15   36.36\n",
            "EMAIL       63.33   95.00   76.00\n",
            "LOC         39.39   31.71   35.14\n",
            "WORK PER    75.45   83.00   79.05\n",
            "COMPANY     28.42   36.49   31.95\n",
            "SKILL       40.96   28.96   33.93\n",
            "PHONE       89.66   83.87   86.67\n",
            "STUDY PER   65.62   58.33   61.76\n",
            "\n",
            "<IPython.core.display.HTML object>\n",
            "Traceback (most recent call last):\n",
            "  File \"/usr/lib/python3.10/runpy.py\", line 196, in _run_module_as_main\n",
            "    return _run_code(code, main_globals, None,\n",
            "  File \"/usr/lib/python3.10/runpy.py\", line 86, in _run_code\n",
            "    exec(code, run_globals)\n",
            "  File \"/usr/local/lib/python3.10/dist-packages/spacy/__main__.py\", line 4, in <module>\n",
            "    setup_cli()\n",
            "  File \"/usr/local/lib/python3.10/dist-packages/spacy/cli/_util.py\", line 87, in setup_cli\n",
            "    command(prog_name=COMMAND)\n",
            "  File \"/usr/local/lib/python3.10/dist-packages/click/core.py\", line 1157, in __call__\n",
            "    return self.main(*args, **kwargs)\n",
            "  File \"/usr/local/lib/python3.10/dist-packages/typer/core.py\", line 728, in main\n",
            "    return _main(\n",
            "  File \"/usr/local/lib/python3.10/dist-packages/typer/core.py\", line 197, in _main\n",
            "    rv = self.invoke(ctx)\n",
            "  File \"/usr/local/lib/python3.10/dist-packages/click/core.py\", line 1688, in invoke\n",
            "    return _process_result(sub_ctx.command.invoke(sub_ctx))\n",
            "  File \"/usr/local/lib/python3.10/dist-packages/click/core.py\", line 1434, in invoke\n",
            "    return ctx.invoke(self.callback, **ctx.params)\n",
            "  File \"/usr/local/lib/python3.10/dist-packages/click/core.py\", line 783, in invoke\n",
            "    return __callback(*args, **kwargs)\n",
            "  File \"/usr/local/lib/python3.10/dist-packages/typer/main.py\", line 703, in wrapper\n",
            "    return callback(**use_params)\n",
            "  File \"/usr/local/lib/python3.10/dist-packages/spacy/cli/evaluate.py\", line 47, in evaluate_cli\n",
            "    evaluate(\n",
            "  File \"/usr/local/lib/python3.10/dist-packages/spacy/cli/evaluate.py\", line 141, in evaluate\n",
            "    render_parses(\n",
            "  File \"/usr/local/lib/python3.10/dist-packages/spacy/cli/evaluate.py\", line 208, in render_parses\n",
            "    file_.write(html)\n",
            "TypeError: write() argument must be str, not None\n"
          ]
        }
      ]
    },
    {
      "cell_type": "code",
      "source": [
        "# make prediction\n",
        "import spacy\n",
        "resume_text = '''\n",
        "John Doe lives at 1234 Elm Street in Los Angeles, CA 90001. He can be reached at +1 (555) 123-4567 or via email at john.doe@example.com. John is a results-driven software engineer with over 5 years of experience in web development and cloud infrastructure, with strong knowledge of JavaScript, Python, and cloud technologies like AWS and Azure. Currently, he works as a Software Engineer at Google LLC in San Francisco, CA, where he has been employed since August 2019. In this role, he has developed scalable web applications using JavaScript, Node.js, and React, deployed and maintained cloud infrastructure on AWS, reducing downtime by 20%, and led a team of 4 engineers to enhance backend performance by 30%. Previously, he worked as a Junior Developer at Tech Innovators Inc. in Austin, TX, from July 2017 to July 2019, where he created RESTful APIs using Python and Flask, collaborated with front-end developers to build and deploy user-facing applications, and wrote unit and integration tests, improving code coverage by 15%.\n",
        "\n",
        "John holds a Master of Science in Computer Science from the University of California, Berkeley, with a graduation date of May 2017, and a Bachelor of Science in Information Technology from the University of Texas at Austin, graduated in May 2015. His skillset includes proficiency in programming languages like Python, JavaScript, and Java; frameworks such as React, Flask, and Django; cloud platforms including AWS, Google Cloud, and Azure; as well as other tools like Git, Docker, Kubernetes, and SQL. He is certified as an AWS Certified Solutions Architect – Associate, earned in 2020, and as a Google Professional Cloud Architect, earned in 2021'\n",
        "'''\n",
        "nlp = spacy.load(\"spacy-output/model-best\")\n",
        "doc = nlp(resume_text.lower())\n",
        "\n",
        "print(doc.ents)\n",
        "\n",
        "for ent in doc.ents:\n",
        "    print(f\"{ent.text}: {ent.label_}\")"
      ],
      "metadata": {
        "colab": {
          "base_uri": "https://localhost:8080/"
        },
        "id": "UXAlZZkEeeMc",
        "outputId": "b8cb33e8-de59-4fb2-9c8e-b54180992c00"
      },
      "id": "UXAlZZkEeeMc",
      "execution_count": null,
      "outputs": [
        {
          "output_type": "stream",
          "name": "stdout",
          "text": [
            "(john doe, in los, (555) 123-4567, john.doe@example.com, john is, aws, restful apis, master of science, bachelor of science in information technology, python, aws, azure, git, docker)\n",
            "john doe: NAME\n",
            "in los: LOC\n",
            "(555) 123-4567: PHONE\n",
            "john.doe@example.com: EMAIL\n",
            "john is: NAME\n",
            "aws: SKILL\n",
            "restful apis: SKILL\n",
            "master of science: DEG\n",
            "bachelor of science in information technology: DEG\n",
            "python: SKILL\n",
            "aws: SKILL\n",
            "azure: SKILL\n",
            "git: SKILL\n",
            "docker: SKILL\n"
          ]
        }
      ]
    },
    {
      "cell_type": "code",
      "source": [
        "from spacy import displacy\n",
        "displacy.render(doc, style=\"ent\", jupyter=True)"
      ],
      "metadata": {
        "colab": {
          "base_uri": "https://localhost:8080/",
          "height": 507
        },
        "id": "LtxtV7GufiOw",
        "outputId": "670daab7-d8e9-4f21-f231-84c81cb6f23d"
      },
      "id": "LtxtV7GufiOw",
      "execution_count": null,
      "outputs": [
        {
          "output_type": "display_data",
          "data": {
            "text/plain": [
              "<IPython.core.display.HTML object>"
            ],
            "text/html": [
              "<span class=\"tex2jax_ignore\"><div class=\"entities\" style=\"line-height: 2.5; direction: ltr\"><br>\n",
              "<mark class=\"entity\" style=\"background: #ddd; padding: 0.45em 0.6em; margin: 0 0.25em; line-height: 1; border-radius: 0.35em;\">\n",
              "    john doe\n",
              "    <span style=\"font-size: 0.8em; font-weight: bold; line-height: 1; border-radius: 0.35em; vertical-align: middle; margin-left: 0.5rem\">NAME</span>\n",
              "</mark>\n",
              " lives at 1234 elm street \n",
              "<mark class=\"entity\" style=\"background: #ff9561; padding: 0.45em 0.6em; margin: 0 0.25em; line-height: 1; border-radius: 0.35em;\">\n",
              "    in los\n",
              "    <span style=\"font-size: 0.8em; font-weight: bold; line-height: 1; border-radius: 0.35em; vertical-align: middle; margin-left: 0.5rem\">LOC</span>\n",
              "</mark>\n",
              " angeles, ca 90001. he can be reached at +1 \n",
              "<mark class=\"entity\" style=\"background: #ddd; padding: 0.45em 0.6em; margin: 0 0.25em; line-height: 1; border-radius: 0.35em;\">\n",
              "    (555) 123-4567\n",
              "    <span style=\"font-size: 0.8em; font-weight: bold; line-height: 1; border-radius: 0.35em; vertical-align: middle; margin-left: 0.5rem\">PHONE</span>\n",
              "</mark>\n",
              " or via email at \n",
              "<mark class=\"entity\" style=\"background: #ddd; padding: 0.45em 0.6em; margin: 0 0.25em; line-height: 1; border-radius: 0.35em;\">\n",
              "    john.doe@example.com\n",
              "    <span style=\"font-size: 0.8em; font-weight: bold; line-height: 1; border-radius: 0.35em; vertical-align: middle; margin-left: 0.5rem\">EMAIL</span>\n",
              "</mark>\n",
              ". \n",
              "<mark class=\"entity\" style=\"background: #ddd; padding: 0.45em 0.6em; margin: 0 0.25em; line-height: 1; border-radius: 0.35em;\">\n",
              "    john is\n",
              "    <span style=\"font-size: 0.8em; font-weight: bold; line-height: 1; border-radius: 0.35em; vertical-align: middle; margin-left: 0.5rem\">NAME</span>\n",
              "</mark>\n",
              " a results-driven software engineer with over 5 years of experience in web development and cloud infrastructure, with strong knowledge of javascript, python, and cloud technologies like \n",
              "<mark class=\"entity\" style=\"background: #ddd; padding: 0.45em 0.6em; margin: 0 0.25em; line-height: 1; border-radius: 0.35em;\">\n",
              "    aws\n",
              "    <span style=\"font-size: 0.8em; font-weight: bold; line-height: 1; border-radius: 0.35em; vertical-align: middle; margin-left: 0.5rem\">SKILL</span>\n",
              "</mark>\n",
              " and azure. currently, he works as a software engineer at google llc in san francisco, ca, where he has been employed since august 2019. in this role, he has developed scalable web applications using javascript, node.js, and react, deployed and maintained cloud infrastructure on aws, reducing downtime by 20%, and led a team of 4 engineers to enhance backend performance by 30%. previously, he worked as a junior developer at tech innovators inc. in austin, tx, from july 2017 to july 2019, where he created \n",
              "<mark class=\"entity\" style=\"background: #ddd; padding: 0.45em 0.6em; margin: 0 0.25em; line-height: 1; border-radius: 0.35em;\">\n",
              "    restful apis\n",
              "    <span style=\"font-size: 0.8em; font-weight: bold; line-height: 1; border-radius: 0.35em; vertical-align: middle; margin-left: 0.5rem\">SKILL</span>\n",
              "</mark>\n",
              " using python and flask, collaborated with front-end developers to build and deploy user-facing applications, and wrote unit and integration tests, improving code coverage by 15%.<br><br>john holds a \n",
              "<mark class=\"entity\" style=\"background: #ddd; padding: 0.45em 0.6em; margin: 0 0.25em; line-height: 1; border-radius: 0.35em;\">\n",
              "    master of science\n",
              "    <span style=\"font-size: 0.8em; font-weight: bold; line-height: 1; border-radius: 0.35em; vertical-align: middle; margin-left: 0.5rem\">DEG</span>\n",
              "</mark>\n",
              " in computer science from the university of california, berkeley, with a graduation date of may 2017, and a \n",
              "<mark class=\"entity\" style=\"background: #ddd; padding: 0.45em 0.6em; margin: 0 0.25em; line-height: 1; border-radius: 0.35em;\">\n",
              "    bachelor of science in information technology\n",
              "    <span style=\"font-size: 0.8em; font-weight: bold; line-height: 1; border-radius: 0.35em; vertical-align: middle; margin-left: 0.5rem\">DEG</span>\n",
              "</mark>\n",
              " from the university of texas at austin, graduated in may 2015. his skillset includes proficiency in programming languages like \n",
              "<mark class=\"entity\" style=\"background: #ddd; padding: 0.45em 0.6em; margin: 0 0.25em; line-height: 1; border-radius: 0.35em;\">\n",
              "    python\n",
              "    <span style=\"font-size: 0.8em; font-weight: bold; line-height: 1; border-radius: 0.35em; vertical-align: middle; margin-left: 0.5rem\">SKILL</span>\n",
              "</mark>\n",
              ", javascript, and java; frameworks such as react, flask, and django; cloud platforms including \n",
              "<mark class=\"entity\" style=\"background: #ddd; padding: 0.45em 0.6em; margin: 0 0.25em; line-height: 1; border-radius: 0.35em;\">\n",
              "    aws\n",
              "    <span style=\"font-size: 0.8em; font-weight: bold; line-height: 1; border-radius: 0.35em; vertical-align: middle; margin-left: 0.5rem\">SKILL</span>\n",
              "</mark>\n",
              ", google cloud, and \n",
              "<mark class=\"entity\" style=\"background: #ddd; padding: 0.45em 0.6em; margin: 0 0.25em; line-height: 1; border-radius: 0.35em;\">\n",
              "    azure\n",
              "    <span style=\"font-size: 0.8em; font-weight: bold; line-height: 1; border-radius: 0.35em; vertical-align: middle; margin-left: 0.5rem\">SKILL</span>\n",
              "</mark>\n",
              "; as well as other tools like \n",
              "<mark class=\"entity\" style=\"background: #ddd; padding: 0.45em 0.6em; margin: 0 0.25em; line-height: 1; border-radius: 0.35em;\">\n",
              "    git\n",
              "    <span style=\"font-size: 0.8em; font-weight: bold; line-height: 1; border-radius: 0.35em; vertical-align: middle; margin-left: 0.5rem\">SKILL</span>\n",
              "</mark>\n",
              ", \n",
              "<mark class=\"entity\" style=\"background: #ddd; padding: 0.45em 0.6em; margin: 0 0.25em; line-height: 1; border-radius: 0.35em;\">\n",
              "    docker\n",
              "    <span style=\"font-size: 0.8em; font-weight: bold; line-height: 1; border-radius: 0.35em; vertical-align: middle; margin-left: 0.5rem\">SKILL</span>\n",
              "</mark>\n",
              ", kubernetes, and sql. he is certified as an aws certified solutions architect – associate, earned in 2020, and as a google professional cloud architect, earned in 2021'<br></div></span>"
            ]
          },
          "metadata": {}
        }
      ]
    },
    {
      "cell_type": "markdown",
      "source": [
        "## Flair NER"
      ],
      "metadata": {
        "id": "1z_niSalE0uT"
      },
      "id": "1z_niSalE0uT"
    },
    {
      "cell_type": "code",
      "source": [
        "!pip install flair"
      ],
      "metadata": {
        "id": "lsEUGnPpnjuU",
        "colab": {
          "base_uri": "https://localhost:8080/"
        },
        "outputId": "3d28670d-321f-4371-8d56-b09b876cee08"
      },
      "id": "lsEUGnPpnjuU",
      "execution_count": 2,
      "outputs": [
        {
          "output_type": "stream",
          "name": "stdout",
          "text": [
            "Requirement already satisfied: flair in /usr/local/lib/python3.10/dist-packages (0.14.0)\n",
            "Requirement already satisfied: boto3>=1.20.27 in /usr/local/lib/python3.10/dist-packages (from flair) (1.35.54)\n",
            "Requirement already satisfied: conllu<5.0.0,>=4.0 in /usr/local/lib/python3.10/dist-packages (from flair) (4.5.3)\n",
            "Requirement already satisfied: deprecated>=1.2.13 in /usr/local/lib/python3.10/dist-packages (from flair) (1.2.14)\n",
            "Requirement already satisfied: ftfy>=6.1.0 in /usr/local/lib/python3.10/dist-packages (from flair) (6.3.1)\n",
            "Requirement already satisfied: gdown>=4.4.0 in /usr/local/lib/python3.10/dist-packages (from flair) (5.2.0)\n",
            "Requirement already satisfied: huggingface-hub>=0.10.0 in /usr/local/lib/python3.10/dist-packages (from flair) (0.24.7)\n",
            "Requirement already satisfied: langdetect>=1.0.9 in /usr/local/lib/python3.10/dist-packages (from flair) (1.0.9)\n",
            "Requirement already satisfied: lxml>=4.8.0 in /usr/local/lib/python3.10/dist-packages (from flair) (5.3.0)\n",
            "Requirement already satisfied: matplotlib>=2.2.3 in /usr/local/lib/python3.10/dist-packages (from flair) (3.8.0)\n",
            "Requirement already satisfied: more-itertools>=8.13.0 in /usr/local/lib/python3.10/dist-packages (from flair) (10.5.0)\n",
            "Requirement already satisfied: mpld3>=0.3 in /usr/local/lib/python3.10/dist-packages (from flair) (0.5.10)\n",
            "Requirement already satisfied: pptree>=3.1 in /usr/local/lib/python3.10/dist-packages (from flair) (3.1)\n",
            "Requirement already satisfied: python-dateutil>=2.8.2 in /usr/local/lib/python3.10/dist-packages (from flair) (2.8.2)\n",
            "Requirement already satisfied: pytorch-revgrad>=0.2.0 in /usr/local/lib/python3.10/dist-packages (from flair) (0.2.0)\n",
            "Requirement already satisfied: regex>=2022.1.18 in /usr/local/lib/python3.10/dist-packages (from flair) (2024.9.11)\n",
            "Requirement already satisfied: scikit-learn>=1.0.2 in /usr/local/lib/python3.10/dist-packages (from flair) (1.5.2)\n",
            "Requirement already satisfied: segtok>=1.5.11 in /usr/local/lib/python3.10/dist-packages (from flair) (1.5.11)\n",
            "Requirement already satisfied: sqlitedict>=2.0.0 in /usr/local/lib/python3.10/dist-packages (from flair) (2.1.0)\n",
            "Requirement already satisfied: tabulate>=0.8.10 in /usr/local/lib/python3.10/dist-packages (from flair) (0.9.0)\n",
            "Requirement already satisfied: torch!=1.8,>=1.5.0 in /usr/local/lib/python3.10/dist-packages (from flair) (2.5.0+cu121)\n",
            "Requirement already satisfied: tqdm>=4.63.0 in /usr/local/lib/python3.10/dist-packages (from flair) (4.66.6)\n",
            "Requirement already satisfied: transformer-smaller-training-vocab>=0.2.3 in /usr/local/lib/python3.10/dist-packages (from flair) (0.4.0)\n",
            "Requirement already satisfied: transformers<5.0.0,>=4.18.0 in /usr/local/lib/python3.10/dist-packages (from transformers[sentencepiece]<5.0.0,>=4.18.0->flair) (4.44.2)\n",
            "Requirement already satisfied: wikipedia-api>=0.5.7 in /usr/local/lib/python3.10/dist-packages (from flair) (0.7.1)\n",
            "Requirement already satisfied: semver<4.0.0,>=3.0.0 in /usr/local/lib/python3.10/dist-packages (from flair) (3.0.2)\n",
            "Requirement already satisfied: bioc<3.0.0,>=2.0.0 in /usr/local/lib/python3.10/dist-packages (from flair) (2.1)\n",
            "Requirement already satisfied: jsonlines>=1.2.0 in /usr/local/lib/python3.10/dist-packages (from bioc<3.0.0,>=2.0.0->flair) (4.0.0)\n",
            "Requirement already satisfied: intervaltree in /usr/local/lib/python3.10/dist-packages (from bioc<3.0.0,>=2.0.0->flair) (3.1.0)\n",
            "Requirement already satisfied: docopt in /usr/local/lib/python3.10/dist-packages (from bioc<3.0.0,>=2.0.0->flair) (0.6.2)\n",
            "Requirement already satisfied: botocore<1.36.0,>=1.35.54 in /usr/local/lib/python3.10/dist-packages (from boto3>=1.20.27->flair) (1.35.54)\n",
            "Requirement already satisfied: jmespath<2.0.0,>=0.7.1 in /usr/local/lib/python3.10/dist-packages (from boto3>=1.20.27->flair) (1.0.1)\n",
            "Requirement already satisfied: s3transfer<0.11.0,>=0.10.0 in /usr/local/lib/python3.10/dist-packages (from boto3>=1.20.27->flair) (0.10.3)\n",
            "Requirement already satisfied: wrapt<2,>=1.10 in /usr/local/lib/python3.10/dist-packages (from deprecated>=1.2.13->flair) (1.16.0)\n",
            "Requirement already satisfied: wcwidth in /usr/local/lib/python3.10/dist-packages (from ftfy>=6.1.0->flair) (0.2.13)\n",
            "Requirement already satisfied: beautifulsoup4 in /usr/local/lib/python3.10/dist-packages (from gdown>=4.4.0->flair) (4.12.3)\n",
            "Requirement already satisfied: filelock in /usr/local/lib/python3.10/dist-packages (from gdown>=4.4.0->flair) (3.16.1)\n",
            "Requirement already satisfied: requests[socks] in /usr/local/lib/python3.10/dist-packages (from gdown>=4.4.0->flair) (2.32.3)\n",
            "Requirement already satisfied: fsspec>=2023.5.0 in /usr/local/lib/python3.10/dist-packages (from huggingface-hub>=0.10.0->flair) (2024.10.0)\n",
            "Requirement already satisfied: packaging>=20.9 in /usr/local/lib/python3.10/dist-packages (from huggingface-hub>=0.10.0->flair) (24.1)\n",
            "Requirement already satisfied: pyyaml>=5.1 in /usr/local/lib/python3.10/dist-packages (from huggingface-hub>=0.10.0->flair) (6.0.2)\n",
            "Requirement already satisfied: typing-extensions>=3.7.4.3 in /usr/local/lib/python3.10/dist-packages (from huggingface-hub>=0.10.0->flair) (4.12.2)\n",
            "Requirement already satisfied: six in /usr/local/lib/python3.10/dist-packages (from langdetect>=1.0.9->flair) (1.16.0)\n",
            "Requirement already satisfied: contourpy>=1.0.1 in /usr/local/lib/python3.10/dist-packages (from matplotlib>=2.2.3->flair) (1.3.0)\n",
            "Requirement already satisfied: cycler>=0.10 in /usr/local/lib/python3.10/dist-packages (from matplotlib>=2.2.3->flair) (0.12.1)\n",
            "Requirement already satisfied: fonttools>=4.22.0 in /usr/local/lib/python3.10/dist-packages (from matplotlib>=2.2.3->flair) (4.54.1)\n",
            "Requirement already satisfied: kiwisolver>=1.0.1 in /usr/local/lib/python3.10/dist-packages (from matplotlib>=2.2.3->flair) (1.4.7)\n",
            "Requirement already satisfied: numpy<2,>=1.21 in /usr/local/lib/python3.10/dist-packages (from matplotlib>=2.2.3->flair) (1.26.4)\n",
            "Requirement already satisfied: pillow>=6.2.0 in /usr/local/lib/python3.10/dist-packages (from matplotlib>=2.2.3->flair) (10.4.0)\n",
            "Requirement already satisfied: pyparsing>=2.3.1 in /usr/local/lib/python3.10/dist-packages (from matplotlib>=2.2.3->flair) (3.2.0)\n",
            "Requirement already satisfied: jinja2 in /usr/local/lib/python3.10/dist-packages (from mpld3>=0.3->flair) (3.1.4)\n",
            "Requirement already satisfied: scipy>=1.6.0 in /usr/local/lib/python3.10/dist-packages (from scikit-learn>=1.0.2->flair) (1.13.1)\n",
            "Requirement already satisfied: joblib>=1.2.0 in /usr/local/lib/python3.10/dist-packages (from scikit-learn>=1.0.2->flair) (1.4.2)\n",
            "Requirement already satisfied: threadpoolctl>=3.1.0 in /usr/local/lib/python3.10/dist-packages (from scikit-learn>=1.0.2->flair) (3.5.0)\n",
            "Requirement already satisfied: networkx in /usr/local/lib/python3.10/dist-packages (from torch!=1.8,>=1.5.0->flair) (3.4.2)\n",
            "Requirement already satisfied: sympy==1.13.1 in /usr/local/lib/python3.10/dist-packages (from torch!=1.8,>=1.5.0->flair) (1.13.1)\n",
            "Requirement already satisfied: mpmath<1.4,>=1.1.0 in /usr/local/lib/python3.10/dist-packages (from sympy==1.13.1->torch!=1.8,>=1.5.0->flair) (1.3.0)\n",
            "Requirement already satisfied: safetensors>=0.4.1 in /usr/local/lib/python3.10/dist-packages (from transformers<5.0.0,>=4.18.0->transformers[sentencepiece]<5.0.0,>=4.18.0->flair) (0.4.5)\n",
            "Requirement already satisfied: tokenizers<0.20,>=0.19 in /usr/local/lib/python3.10/dist-packages (from transformers<5.0.0,>=4.18.0->transformers[sentencepiece]<5.0.0,>=4.18.0->flair) (0.19.1)\n",
            "Requirement already satisfied: protobuf in /usr/local/lib/python3.10/dist-packages (from transformers[sentencepiece]<5.0.0,>=4.18.0->flair) (3.20.3)\n",
            "Requirement already satisfied: sentencepiece!=0.1.92,>=0.1.91 in /usr/local/lib/python3.10/dist-packages (from transformers[sentencepiece]<5.0.0,>=4.18.0->flair) (0.2.0)\n",
            "Requirement already satisfied: urllib3!=2.2.0,<3,>=1.25.4 in /usr/local/lib/python3.10/dist-packages (from botocore<1.36.0,>=1.35.54->boto3>=1.20.27->flair) (2.2.3)\n",
            "Requirement already satisfied: attrs>=19.2.0 in /usr/local/lib/python3.10/dist-packages (from jsonlines>=1.2.0->bioc<3.0.0,>=2.0.0->flair) (24.2.0)\n",
            "Requirement already satisfied: accelerate>=0.21.0 in /usr/local/lib/python3.10/dist-packages (from transformers[sentencepiece,torch]<5.0,>=4.1->transformer-smaller-training-vocab>=0.2.3->flair) (0.34.2)\n",
            "Requirement already satisfied: soupsieve>1.2 in /usr/local/lib/python3.10/dist-packages (from beautifulsoup4->gdown>=4.4.0->flair) (2.6)\n",
            "Requirement already satisfied: sortedcontainers<3.0,>=2.0 in /usr/local/lib/python3.10/dist-packages (from intervaltree->bioc<3.0.0,>=2.0.0->flair) (2.4.0)\n",
            "Requirement already satisfied: MarkupSafe>=2.0 in /usr/local/lib/python3.10/dist-packages (from jinja2->mpld3>=0.3->flair) (3.0.2)\n",
            "Requirement already satisfied: charset-normalizer<4,>=2 in /usr/local/lib/python3.10/dist-packages (from requests[socks]->gdown>=4.4.0->flair) (3.4.0)\n",
            "Requirement already satisfied: idna<4,>=2.5 in /usr/local/lib/python3.10/dist-packages (from requests[socks]->gdown>=4.4.0->flair) (3.10)\n",
            "Requirement already satisfied: certifi>=2017.4.17 in /usr/local/lib/python3.10/dist-packages (from requests[socks]->gdown>=4.4.0->flair) (2024.8.30)\n",
            "Requirement already satisfied: PySocks!=1.5.7,>=1.5.6 in /usr/local/lib/python3.10/dist-packages (from requests[socks]->gdown>=4.4.0->flair) (1.7.1)\n",
            "Requirement already satisfied: psutil in /usr/local/lib/python3.10/dist-packages (from accelerate>=0.21.0->transformers[sentencepiece,torch]<5.0,>=4.1->transformer-smaller-training-vocab>=0.2.3->flair) (5.9.5)\n"
          ]
        }
      ]
    },
    {
      "cell_type": "code",
      "source": [
        "# convert spacy data into flair data\n",
        "import spacy\n",
        "from spacy.tokens import DocBin\n",
        "import os\n",
        "\n",
        "def convert_spacy_to_flair(input_file, output_file):\n",
        "    \"\"\"\n",
        "    Convert SpaCy binary format to Flair's CoNLL format.\n",
        "\n",
        "    Args:\n",
        "        input_file (str): Path to SpaCy binary file (.spacy)\n",
        "        output_file (str): Path to output file for Flair format\n",
        "    \"\"\"\n",
        "    # Load spaCy model\n",
        "    nlp = spacy.blank(\"en\")\n",
        "\n",
        "    # Load the DocBin\n",
        "    doc_bin = DocBin().from_disk(input_file)\n",
        "    docs = list(doc_bin.get_docs(nlp.vocab))\n",
        "\n",
        "    with open(output_file, 'w', encoding='utf-8') as f:\n",
        "        for doc in docs:\n",
        "            tokens = [(t.text, t.ent_iob_, t.ent_type_) for t in doc]\n",
        "\n",
        "            # Write tokens in CoNLL format\n",
        "            for token in tokens:\n",
        "                text, iob, ent_type = token\n",
        "\n",
        "                # Convert spaCy IOB to CoNLL format\n",
        "                if iob == 'O':\n",
        "                    tag = 'O'\n",
        "                else:\n",
        "                    tag = f'{iob}-{ent_type}' if ent_type else 'O'\n",
        "\n",
        "                # Write line: token and NER tag\n",
        "                f.write(f'{text} {tag}\\n')\n",
        "\n",
        "            # Empty line between sentences\n",
        "            f.write('\\n')\n",
        "\n",
        "def convert_spacy_json_to_flair(input_file, output_file):\n",
        "    \"\"\"\n",
        "    Convert SpaCy JSON format to Flair's CoNLL format.\n",
        "\n",
        "    Args:\n",
        "        input_file (str): Path to JSON file with SpaCy annotations\n",
        "        output_file (str): Path to output file for Flair format\n",
        "    \"\"\"\n",
        "    import json\n",
        "\n",
        "    nlp = spacy.blank(\"en\")\n",
        "\n",
        "    with open(input_file, 'r', encoding='utf-8') as f:\n",
        "        training_data = json.load(f)\n",
        "\n",
        "    with open(output_file, 'w', encoding='utf-8') as f:\n",
        "        for example in training_data:\n",
        "            text = example['text']\n",
        "            ents = example.get('entities', [])\n",
        "\n",
        "            # Create a spaCy doc\n",
        "            doc = nlp(text)\n",
        "\n",
        "            # Add entities to doc\n",
        "            spans = []\n",
        "            for start, end, label in ents:\n",
        "                span = doc.char_span(start, end, label=label)\n",
        "                if span is not None:\n",
        "                    spans.append(span)\n",
        "            doc.ents = spans\n",
        "\n",
        "            # Convert to CoNLL format\n",
        "            tokens = [(t.text, t.ent_iob_, t.ent_type_) for t in doc]\n",
        "\n",
        "            for token in tokens:\n",
        "                text, iob, ent_type = token\n",
        "                if iob == 'O':\n",
        "                    tag = 'O'\n",
        "                else:\n",
        "                    tag = f'{iob}-{ent_type}' if ent_type else 'O'\n",
        "                f.write(f'{text} {tag}\\n')\n",
        "\n",
        "            f.write('\\n')\n",
        "\n",
        "# Example usage for JSON format\n",
        "flair_train_json = \"flair_train.txt\"\n",
        "flair_test_json = \"flair_test.txt\"\n",
        "\n",
        "convert_spacy_to_flair('/content/spacy_ner_data/train_data.spacy', flair_train_json)\n",
        "convert_spacy_to_flair('/content/spacy_ner_data/test_data.spacy', flair_test_json)"
      ],
      "metadata": {
        "id": "8SgkTXeIiTtF",
        "colab": {
          "base_uri": "https://localhost:8080/",
          "height": 339
        },
        "outputId": "73fcb7af-e126-4918-a4cc-98270fb38ea0"
      },
      "id": "8SgkTXeIiTtF",
      "execution_count": 3,
      "outputs": [
        {
          "output_type": "error",
          "ename": "FileNotFoundError",
          "evalue": "[Errno 2] No such file or directory: '/content/spacy_ner_data/train_data.spacy'",
          "traceback": [
            "\u001b[0;31m---------------------------------------------------------------------------\u001b[0m",
            "\u001b[0;31mFileNotFoundError\u001b[0m                         Traceback (most recent call last)",
            "\u001b[0;32m<ipython-input-3-fa51b6171dc5>\u001b[0m in \u001b[0;36m<cell line: 89>\u001b[0;34m()\u001b[0m\n\u001b[1;32m     87\u001b[0m \u001b[0mflair_test_json\u001b[0m \u001b[0;34m=\u001b[0m \u001b[0;34m\"flair_test.txt\"\u001b[0m\u001b[0;34m\u001b[0m\u001b[0;34m\u001b[0m\u001b[0m\n\u001b[1;32m     88\u001b[0m \u001b[0;34m\u001b[0m\u001b[0m\n\u001b[0;32m---> 89\u001b[0;31m \u001b[0mconvert_spacy_to_flair\u001b[0m\u001b[0;34m(\u001b[0m\u001b[0;34m'/content/spacy_ner_data/train_data.spacy'\u001b[0m\u001b[0;34m,\u001b[0m \u001b[0mflair_train_json\u001b[0m\u001b[0;34m)\u001b[0m\u001b[0;34m\u001b[0m\u001b[0;34m\u001b[0m\u001b[0m\n\u001b[0m\u001b[1;32m     90\u001b[0m \u001b[0mconvert_spacy_to_flair\u001b[0m\u001b[0;34m(\u001b[0m\u001b[0;34m'/content/spacy_ner_data/test_data.spacy'\u001b[0m\u001b[0;34m,\u001b[0m \u001b[0mflair_test_json\u001b[0m\u001b[0;34m)\u001b[0m\u001b[0;34m\u001b[0m\u001b[0;34m\u001b[0m\u001b[0m\n",
            "\u001b[0;32m<ipython-input-3-fa51b6171dc5>\u001b[0m in \u001b[0;36mconvert_spacy_to_flair\u001b[0;34m(input_file, output_file)\u001b[0m\n\u001b[1;32m     16\u001b[0m \u001b[0;34m\u001b[0m\u001b[0m\n\u001b[1;32m     17\u001b[0m     \u001b[0;31m# Load the DocBin\u001b[0m\u001b[0;34m\u001b[0m\u001b[0;34m\u001b[0m\u001b[0m\n\u001b[0;32m---> 18\u001b[0;31m     \u001b[0mdoc_bin\u001b[0m \u001b[0;34m=\u001b[0m \u001b[0mDocBin\u001b[0m\u001b[0;34m(\u001b[0m\u001b[0;34m)\u001b[0m\u001b[0;34m.\u001b[0m\u001b[0mfrom_disk\u001b[0m\u001b[0;34m(\u001b[0m\u001b[0minput_file\u001b[0m\u001b[0;34m)\u001b[0m\u001b[0;34m\u001b[0m\u001b[0;34m\u001b[0m\u001b[0m\n\u001b[0m\u001b[1;32m     19\u001b[0m     \u001b[0mdocs\u001b[0m \u001b[0;34m=\u001b[0m \u001b[0mlist\u001b[0m\u001b[0;34m(\u001b[0m\u001b[0mdoc_bin\u001b[0m\u001b[0;34m.\u001b[0m\u001b[0mget_docs\u001b[0m\u001b[0;34m(\u001b[0m\u001b[0mnlp\u001b[0m\u001b[0;34m.\u001b[0m\u001b[0mvocab\u001b[0m\u001b[0;34m)\u001b[0m\u001b[0;34m)\u001b[0m\u001b[0;34m\u001b[0m\u001b[0;34m\u001b[0m\u001b[0m\n\u001b[1;32m     20\u001b[0m \u001b[0;34m\u001b[0m\u001b[0m\n",
            "\u001b[0;32m/usr/local/lib/python3.10/dist-packages/spacy/tokens/_serialize.py\u001b[0m in \u001b[0;36mfrom_disk\u001b[0;34m(self, path)\u001b[0m\n\u001b[1;32m    273\u001b[0m         \"\"\"\n\u001b[1;32m    274\u001b[0m         \u001b[0mpath\u001b[0m \u001b[0;34m=\u001b[0m \u001b[0mensure_path\u001b[0m\u001b[0;34m(\u001b[0m\u001b[0mpath\u001b[0m\u001b[0;34m)\u001b[0m\u001b[0;34m\u001b[0m\u001b[0;34m\u001b[0m\u001b[0m\n\u001b[0;32m--> 275\u001b[0;31m         \u001b[0;32mwith\u001b[0m \u001b[0mpath\u001b[0m\u001b[0;34m.\u001b[0m\u001b[0mopen\u001b[0m\u001b[0;34m(\u001b[0m\u001b[0;34m\"rb\"\u001b[0m\u001b[0;34m)\u001b[0m \u001b[0;32mas\u001b[0m \u001b[0mfile_\u001b[0m\u001b[0;34m:\u001b[0m\u001b[0;34m\u001b[0m\u001b[0;34m\u001b[0m\u001b[0m\n\u001b[0m\u001b[1;32m    276\u001b[0m             \u001b[0mself\u001b[0m\u001b[0;34m.\u001b[0m\u001b[0mfrom_bytes\u001b[0m\u001b[0;34m(\u001b[0m\u001b[0mfile_\u001b[0m\u001b[0;34m.\u001b[0m\u001b[0mread\u001b[0m\u001b[0;34m(\u001b[0m\u001b[0;34m)\u001b[0m\u001b[0;34m)\u001b[0m\u001b[0;34m\u001b[0m\u001b[0;34m\u001b[0m\u001b[0m\n\u001b[1;32m    277\u001b[0m         \u001b[0;32mreturn\u001b[0m \u001b[0mself\u001b[0m\u001b[0;34m\u001b[0m\u001b[0;34m\u001b[0m\u001b[0m\n",
            "\u001b[0;32m/usr/lib/python3.10/pathlib.py\u001b[0m in \u001b[0;36mopen\u001b[0;34m(self, mode, buffering, encoding, errors, newline)\u001b[0m\n\u001b[1;32m   1117\u001b[0m         \u001b[0;32mif\u001b[0m \u001b[0;34m\"b\"\u001b[0m \u001b[0;32mnot\u001b[0m \u001b[0;32min\u001b[0m \u001b[0mmode\u001b[0m\u001b[0;34m:\u001b[0m\u001b[0;34m\u001b[0m\u001b[0;34m\u001b[0m\u001b[0m\n\u001b[1;32m   1118\u001b[0m             \u001b[0mencoding\u001b[0m \u001b[0;34m=\u001b[0m \u001b[0mio\u001b[0m\u001b[0;34m.\u001b[0m\u001b[0mtext_encoding\u001b[0m\u001b[0;34m(\u001b[0m\u001b[0mencoding\u001b[0m\u001b[0;34m)\u001b[0m\u001b[0;34m\u001b[0m\u001b[0;34m\u001b[0m\u001b[0m\n\u001b[0;32m-> 1119\u001b[0;31m         return self._accessor.open(self, mode, buffering, encoding, errors,\n\u001b[0m\u001b[1;32m   1120\u001b[0m                                    newline)\n\u001b[1;32m   1121\u001b[0m \u001b[0;34m\u001b[0m\u001b[0m\n",
            "\u001b[0;31mFileNotFoundError\u001b[0m: [Errno 2] No such file or directory: '/content/spacy_ner_data/train_data.spacy'"
          ]
        }
      ]
    },
    {
      "cell_type": "code",
      "source": [
        "# convert spacy data into flair data\n",
        "import spacy\n",
        "from spacy.training import Corpus\n",
        "\n",
        "!python -m spacy download de_core_news_sm\n",
        "nlp = spacy.load(\"de_core_news_sm\")\n",
        "corpus = Corpus(\"/content/spacy_ner_data/test_data.spacy\")\n",
        "\n",
        "data = corpus(nlp)\n",
        "\n",
        "# Flair supports BIO and BIOES, see https://github.com/flairNLP/flair/issues/875\n",
        "def rename_biluo_to_bioes(old_tag):\n",
        "    new_tag = \"\"\n",
        "    try:\n",
        "        if old_tag.startswith(\"L\"):\n",
        "            new_tag = \"E\" + old_tag[1:]\n",
        "        elif old_tag.startswith(\"U\"):\n",
        "            new_tag = \"S\" + old_tag[1:]\n",
        "        else:\n",
        "            new_tag = old_tag\n",
        "    except:\n",
        "        pass\n",
        "    return new_tag\n",
        "\n",
        "\n",
        "def generate_corpus():\n",
        "    corpus = []\n",
        "    n_ex = 0\n",
        "    for example in data:\n",
        "        n_ex += 1\n",
        "        text = example.text\n",
        "        doc = nlp(text)\n",
        "        tags = example.get_aligned_ner()\n",
        "        # Check if it's an empty list of NER tags.\n",
        "        if None in tags:\n",
        "            pass\n",
        "        else:\n",
        "            new_tags = [rename_biluo_to_bioes(tag) for tag in tags]\n",
        "            for token, tag in zip(doc,new_tags):\n",
        "                row = token.text +' '+ token.pos_ +' ' +tag + '\\n'\n",
        "                corpus.append(row)\n",
        "            corpus.append('\\n')\n",
        "    return corpus\n",
        "\n",
        "def write_file(filepath):\n",
        "    with open(filepath, 'w', encoding='utf-8') as f:\n",
        "        corpus = generate_corpus()\n",
        "        f.writelines(corpus)\n",
        "\n",
        "def main():\n",
        "    write_file('flair_test.txt')\n",
        "\n",
        "main()"
      ],
      "metadata": {
        "id": "TbHBmnUyv65f",
        "colab": {
          "base_uri": "https://localhost:8080/"
        },
        "outputId": "be6d42bd-f6a2-4143-b278-f010c011ae8f"
      },
      "id": "TbHBmnUyv65f",
      "execution_count": null,
      "outputs": [
        {
          "output_type": "stream",
          "name": "stdout",
          "text": [
            "Collecting de-core-news-sm==3.7.0\n",
            "  Using cached https://github.com/explosion/spacy-models/releases/download/de_core_news_sm-3.7.0/de_core_news_sm-3.7.0-py3-none-any.whl (14.6 MB)\n",
            "Requirement already satisfied: spacy<3.8.0,>=3.7.0 in /usr/local/lib/python3.10/dist-packages (from de-core-news-sm==3.7.0) (3.7.5)\n",
            "Requirement already satisfied: spacy-legacy<3.1.0,>=3.0.11 in /usr/local/lib/python3.10/dist-packages (from spacy<3.8.0,>=3.7.0->de-core-news-sm==3.7.0) (3.0.12)\n",
            "Requirement already satisfied: spacy-loggers<2.0.0,>=1.0.0 in /usr/local/lib/python3.10/dist-packages (from spacy<3.8.0,>=3.7.0->de-core-news-sm==3.7.0) (1.0.5)\n",
            "Requirement already satisfied: murmurhash<1.1.0,>=0.28.0 in /usr/local/lib/python3.10/dist-packages (from spacy<3.8.0,>=3.7.0->de-core-news-sm==3.7.0) (1.0.10)\n",
            "Requirement already satisfied: cymem<2.1.0,>=2.0.2 in /usr/local/lib/python3.10/dist-packages (from spacy<3.8.0,>=3.7.0->de-core-news-sm==3.7.0) (2.0.8)\n",
            "Requirement already satisfied: preshed<3.1.0,>=3.0.2 in /usr/local/lib/python3.10/dist-packages (from spacy<3.8.0,>=3.7.0->de-core-news-sm==3.7.0) (3.0.9)\n",
            "Requirement already satisfied: thinc<8.3.0,>=8.2.2 in /usr/local/lib/python3.10/dist-packages (from spacy<3.8.0,>=3.7.0->de-core-news-sm==3.7.0) (8.2.5)\n",
            "Requirement already satisfied: wasabi<1.2.0,>=0.9.1 in /usr/local/lib/python3.10/dist-packages (from spacy<3.8.0,>=3.7.0->de-core-news-sm==3.7.0) (1.1.3)\n",
            "Requirement already satisfied: srsly<3.0.0,>=2.4.3 in /usr/local/lib/python3.10/dist-packages (from spacy<3.8.0,>=3.7.0->de-core-news-sm==3.7.0) (2.4.8)\n",
            "Requirement already satisfied: catalogue<2.1.0,>=2.0.6 in /usr/local/lib/python3.10/dist-packages (from spacy<3.8.0,>=3.7.0->de-core-news-sm==3.7.0) (2.0.10)\n",
            "Requirement already satisfied: weasel<0.5.0,>=0.1.0 in /usr/local/lib/python3.10/dist-packages (from spacy<3.8.0,>=3.7.0->de-core-news-sm==3.7.0) (0.4.1)\n",
            "Requirement already satisfied: typer<1.0.0,>=0.3.0 in /usr/local/lib/python3.10/dist-packages (from spacy<3.8.0,>=3.7.0->de-core-news-sm==3.7.0) (0.12.5)\n",
            "Requirement already satisfied: tqdm<5.0.0,>=4.38.0 in /usr/local/lib/python3.10/dist-packages (from spacy<3.8.0,>=3.7.0->de-core-news-sm==3.7.0) (4.66.5)\n",
            "Requirement already satisfied: requests<3.0.0,>=2.13.0 in /usr/local/lib/python3.10/dist-packages (from spacy<3.8.0,>=3.7.0->de-core-news-sm==3.7.0) (2.32.3)\n",
            "Requirement already satisfied: pydantic!=1.8,!=1.8.1,<3.0.0,>=1.7.4 in /usr/local/lib/python3.10/dist-packages (from spacy<3.8.0,>=3.7.0->de-core-news-sm==3.7.0) (2.9.2)\n",
            "Requirement already satisfied: jinja2 in /usr/local/lib/python3.10/dist-packages (from spacy<3.8.0,>=3.7.0->de-core-news-sm==3.7.0) (3.1.4)\n",
            "Requirement already satisfied: setuptools in /usr/local/lib/python3.10/dist-packages (from spacy<3.8.0,>=3.7.0->de-core-news-sm==3.7.0) (75.1.0)\n",
            "Requirement already satisfied: packaging>=20.0 in /usr/local/lib/python3.10/dist-packages (from spacy<3.8.0,>=3.7.0->de-core-news-sm==3.7.0) (24.1)\n",
            "Requirement already satisfied: langcodes<4.0.0,>=3.2.0 in /usr/local/lib/python3.10/dist-packages (from spacy<3.8.0,>=3.7.0->de-core-news-sm==3.7.0) (3.4.1)\n",
            "Requirement already satisfied: numpy>=1.19.0 in /usr/local/lib/python3.10/dist-packages (from spacy<3.8.0,>=3.7.0->de-core-news-sm==3.7.0) (1.26.4)\n",
            "Requirement already satisfied: language-data>=1.2 in /usr/local/lib/python3.10/dist-packages (from langcodes<4.0.0,>=3.2.0->spacy<3.8.0,>=3.7.0->de-core-news-sm==3.7.0) (1.2.0)\n",
            "Requirement already satisfied: annotated-types>=0.6.0 in /usr/local/lib/python3.10/dist-packages (from pydantic!=1.8,!=1.8.1,<3.0.0,>=1.7.4->spacy<3.8.0,>=3.7.0->de-core-news-sm==3.7.0) (0.7.0)\n",
            "Requirement already satisfied: pydantic-core==2.23.4 in /usr/local/lib/python3.10/dist-packages (from pydantic!=1.8,!=1.8.1,<3.0.0,>=1.7.4->spacy<3.8.0,>=3.7.0->de-core-news-sm==3.7.0) (2.23.4)\n",
            "Requirement already satisfied: typing-extensions>=4.6.1 in /usr/local/lib/python3.10/dist-packages (from pydantic!=1.8,!=1.8.1,<3.0.0,>=1.7.4->spacy<3.8.0,>=3.7.0->de-core-news-sm==3.7.0) (4.12.2)\n",
            "Requirement already satisfied: charset-normalizer<4,>=2 in /usr/local/lib/python3.10/dist-packages (from requests<3.0.0,>=2.13.0->spacy<3.8.0,>=3.7.0->de-core-news-sm==3.7.0) (3.4.0)\n",
            "Requirement already satisfied: idna<4,>=2.5 in /usr/local/lib/python3.10/dist-packages (from requests<3.0.0,>=2.13.0->spacy<3.8.0,>=3.7.0->de-core-news-sm==3.7.0) (3.10)\n",
            "Requirement already satisfied: urllib3<3,>=1.21.1 in /usr/local/lib/python3.10/dist-packages (from requests<3.0.0,>=2.13.0->spacy<3.8.0,>=3.7.0->de-core-news-sm==3.7.0) (2.2.3)\n",
            "Requirement already satisfied: certifi>=2017.4.17 in /usr/local/lib/python3.10/dist-packages (from requests<3.0.0,>=2.13.0->spacy<3.8.0,>=3.7.0->de-core-news-sm==3.7.0) (2024.8.30)\n",
            "Requirement already satisfied: blis<0.8.0,>=0.7.8 in /usr/local/lib/python3.10/dist-packages (from thinc<8.3.0,>=8.2.2->spacy<3.8.0,>=3.7.0->de-core-news-sm==3.7.0) (0.7.11)\n",
            "Requirement already satisfied: confection<1.0.0,>=0.0.1 in /usr/local/lib/python3.10/dist-packages (from thinc<8.3.0,>=8.2.2->spacy<3.8.0,>=3.7.0->de-core-news-sm==3.7.0) (0.1.5)\n",
            "Requirement already satisfied: click>=8.0.0 in /usr/local/lib/python3.10/dist-packages (from typer<1.0.0,>=0.3.0->spacy<3.8.0,>=3.7.0->de-core-news-sm==3.7.0) (8.1.7)\n",
            "Requirement already satisfied: shellingham>=1.3.0 in /usr/local/lib/python3.10/dist-packages (from typer<1.0.0,>=0.3.0->spacy<3.8.0,>=3.7.0->de-core-news-sm==3.7.0) (1.5.4)\n",
            "Requirement already satisfied: rich>=10.11.0 in /usr/local/lib/python3.10/dist-packages (from typer<1.0.0,>=0.3.0->spacy<3.8.0,>=3.7.0->de-core-news-sm==3.7.0) (13.9.3)\n",
            "Requirement already satisfied: cloudpathlib<1.0.0,>=0.7.0 in /usr/local/lib/python3.10/dist-packages (from weasel<0.5.0,>=0.1.0->spacy<3.8.0,>=3.7.0->de-core-news-sm==3.7.0) (0.20.0)\n",
            "Requirement already satisfied: smart-open<8.0.0,>=5.2.1 in /usr/local/lib/python3.10/dist-packages (from weasel<0.5.0,>=0.1.0->spacy<3.8.0,>=3.7.0->de-core-news-sm==3.7.0) (7.0.5)\n",
            "Requirement already satisfied: MarkupSafe>=2.0 in /usr/local/lib/python3.10/dist-packages (from jinja2->spacy<3.8.0,>=3.7.0->de-core-news-sm==3.7.0) (3.0.2)\n",
            "Requirement already satisfied: marisa-trie>=0.7.7 in /usr/local/lib/python3.10/dist-packages (from language-data>=1.2->langcodes<4.0.0,>=3.2.0->spacy<3.8.0,>=3.7.0->de-core-news-sm==3.7.0) (1.2.1)\n",
            "Requirement already satisfied: markdown-it-py>=2.2.0 in /usr/local/lib/python3.10/dist-packages (from rich>=10.11.0->typer<1.0.0,>=0.3.0->spacy<3.8.0,>=3.7.0->de-core-news-sm==3.7.0) (3.0.0)\n",
            "Requirement already satisfied: pygments<3.0.0,>=2.13.0 in /usr/local/lib/python3.10/dist-packages (from rich>=10.11.0->typer<1.0.0,>=0.3.0->spacy<3.8.0,>=3.7.0->de-core-news-sm==3.7.0) (2.18.0)\n",
            "Requirement already satisfied: wrapt in /usr/local/lib/python3.10/dist-packages (from smart-open<8.0.0,>=5.2.1->weasel<0.5.0,>=0.1.0->spacy<3.8.0,>=3.7.0->de-core-news-sm==3.7.0) (1.16.0)\n",
            "Requirement already satisfied: mdurl~=0.1 in /usr/local/lib/python3.10/dist-packages (from markdown-it-py>=2.2.0->rich>=10.11.0->typer<1.0.0,>=0.3.0->spacy<3.8.0,>=3.7.0->de-core-news-sm==3.7.0) (0.1.2)\n",
            "\u001b[38;5;2m✔ Download and installation successful\u001b[0m\n",
            "You can now load the package via spacy.load('de_core_news_sm')\n",
            "\u001b[38;5;3m⚠ Restart to reload dependencies\u001b[0m\n",
            "If you are in a Jupyter or Colab notebook, you may need to restart Python in\n",
            "order to load all the package's dependencies. You can do this by selecting the\n",
            "'Restart kernel' or 'Restart runtime' option.\n"
          ]
        }
      ]
    },
    {
      "cell_type": "code",
      "source": [
        "# convert json into flair data\n",
        "import json\n",
        "import random\n",
        "from typing import List, Dict, Tuple\n",
        "import spacy\n",
        "from collections import defaultdict\n",
        "\n",
        "class NERConverter:\n",
        "    def __init__(self):\n",
        "        self.nlp = spacy.load(\"en_core_web_sm\")\n",
        "\n",
        "    def get_bioes_label(self, token_index: int, entity_length: int, current_position: int, label: str) -> str:\n",
        "        \"\"\"\n",
        "        Convert to BIOES format\n",
        "        - S-: Single token entity\n",
        "        - B-: Beginning of multi-token entity\n",
        "        - I-: Inside of multi-token entity\n",
        "        - E-: End of multi-token entity\n",
        "        - O: Outside\n",
        "        \"\"\"\n",
        "        if entity_length == 1:\n",
        "            return f'S-{label}'\n",
        "        if current_position == 0:\n",
        "            return f'B-{label}'\n",
        "        if current_position == entity_length - 1:\n",
        "            return f'E-{label}'\n",
        "        return f'I-{label}'\n",
        "\n",
        "    def convert_to_bioes_format(self, json_data: List[dict]) -> List[List[Tuple[str, str]]]:\n",
        "        \"\"\"Convert JSON annotations to BIOES format.\"\"\"\n",
        "        all_sentences = []\n",
        "\n",
        "        for item in json_data:\n",
        "            text = item['data']['Text']\n",
        "            doc = self.nlp(text)\n",
        "\n",
        "            # Initialize character-level labels\n",
        "            char_labels = ['O'] * len(text)\n",
        "\n",
        "            # First pass: identify entity boundaries and lengths\n",
        "            entity_spans = []\n",
        "            if item['annotations'] and len(item['annotations']) > 0:\n",
        "                for ann in item['annotations'][0]['result']:\n",
        "                    if 'value' in ann:\n",
        "                        start = ann['value']['start']\n",
        "                        end = ann['value']['end']\n",
        "                        label = ann['value']['labels'][0]\n",
        "                        entity_spans.append((start, end, label))\n",
        "\n",
        "            # Sort spans by start position\n",
        "            entity_spans.sort(key=lambda x: x[0])\n",
        "\n",
        "            # Second pass: apply BIOES labels\n",
        "            for start, end, label in entity_spans:\n",
        "                # Get tokens that are part of this entity\n",
        "                entity_text = text[start:end]\n",
        "                entity_doc = self.nlp(entity_text)\n",
        "                entity_length = len([token for token in entity_doc if not token.is_space])\n",
        "\n",
        "                # Set labels for the entire span\n",
        "                current_token_idx = 0\n",
        "                for i in range(start, end):\n",
        "                    if i == start or text[i-1].isspace():\n",
        "                        char_labels[i] = self.get_bioes_label(i, entity_length, current_token_idx, label)\n",
        "                        current_token_idx += 1\n",
        "                    else:\n",
        "                        char_labels[i] = char_labels[i-1]\n",
        "\n",
        "            # Convert to token-level labels\n",
        "            current_sentence = []\n",
        "            for sent in doc.sents:\n",
        "                for token in sent:\n",
        "                    # Get the most common label for the token's characters\n",
        "                    token_chars_labels = char_labels[token.idx:token.idx + len(token.text)]\n",
        "                    label_counts = defaultdict(int)\n",
        "                    for char_label in token_chars_labels:\n",
        "                        label_counts[char_label] += 1\n",
        "\n",
        "                    token_label = max(label_counts.items(), key=lambda x: x[1])[0]\n",
        "                    current_sentence.append((token.text, token_label))\n",
        "\n",
        "                if current_sentence:\n",
        "                    all_sentences.append(current_sentence)\n",
        "                    current_sentence = []\n",
        "\n",
        "        return all_sentences\n",
        "\n",
        "    def write_flair_file(self, sentences: List[List[Tuple[str, str]]], filename: str):\n",
        "        \"\"\"Write sentences in BIOES format to file.\"\"\"\n",
        "        with open(filename, 'w', encoding='utf-8') as f:\n",
        "            for sentence in sentences:\n",
        "                for token, label in sentence:\n",
        "                    f.write(f'{token} {label}\\n')\n",
        "                f.write('\\n')\n",
        "\n",
        "    def convert_and_split(self, json_data: List[dict], train_file: str, test_file: str, test_ratio: float = 0.2):\n",
        "        \"\"\"Convert JSON to BIOES format and split into train/test sets.\"\"\"\n",
        "        all_sentences = self.convert_to_bioes_format(json_data)\n",
        "\n",
        "        # Shuffle and split\n",
        "        random.shuffle(all_sentences)\n",
        "        split_idx = int(len(all_sentences) * (1 - test_ratio))\n",
        "\n",
        "        train_sentences = all_sentences[:split_idx]\n",
        "        test_sentences = all_sentences[split_idx:]\n",
        "\n",
        "        # Write to files\n",
        "        self.write_flair_file(train_sentences, train_file)\n",
        "        self.write_flair_file(test_sentences, test_file)\n",
        "\n",
        "        return len(train_sentences), len(test_sentences)\n",
        "\n",
        "def main():\n",
        "    # Load JSON data\n",
        "    with open('/content/drive/MyDrive/FYP/Implementation/Resume Dataset/200_resumes_annotated.json', 'r', encoding='utf-8') as f:\n",
        "        json_data = json.load(f)\n",
        "\n",
        "    # Convert and split data\n",
        "    converter = NERConverter()\n",
        "    train_count, test_count = converter.convert_and_split(\n",
        "        json_data,\n",
        "        train_file='flair_train.txt',\n",
        "        test_file='flair_test.txt',\n",
        "        test_ratio=0.2\n",
        "    )\n",
        "\n",
        "    print(f'Created {train_count} training sentences and {test_count} test sentences')\n",
        "\n",
        "main()"
      ],
      "metadata": {
        "colab": {
          "base_uri": "https://localhost:8080/"
        },
        "id": "JYAkAghgs9k5",
        "outputId": "b01f8ea5-fabb-4506-d1b9-de6716d6bfc6"
      },
      "id": "JYAkAghgs9k5",
      "execution_count": 4,
      "outputs": [
        {
          "output_type": "stream",
          "name": "stderr",
          "text": [
            "/usr/local/lib/python3.10/dist-packages/spacy/util.py:1740: UserWarning: [W111] Jupyter notebook detected: if using `prefer_gpu()` or `require_gpu()`, include it in the same cell right before `spacy.load()` to ensure that the model is loaded on the correct device. More information: http://spacy.io/usage/v3#jupyter-notebook-gpu\n",
            "  warnings.warn(Warnings.W111)\n"
          ]
        },
        {
          "output_type": "stream",
          "name": "stdout",
          "text": [
            "Created 298 training sentences and 75 test sentences\n"
          ]
        }
      ]
    },
    {
      "cell_type": "code",
      "source": [
        "from flair.data import Corpus\n",
        "from flair.datasets import ColumnCorpus\n",
        "\n",
        "# Define columns for CoNLL (0: word, 1: label)\n",
        "columns = {0: 'text', 1: 'ner'}\n",
        "\n",
        "# Set data folder and file names\n",
        "data_folder = './'\n",
        "train_file = 'flair_train.txt'\n",
        "test_file = 'flair_test.txt'\n",
        "\n",
        "# Load the corpus\n",
        "corpus: Corpus = ColumnCorpus(data_folder, columns,\n",
        "                              train_file=train_file,\n",
        "                              test_file=test_file,\n",
        "                              dev_file=None)"
      ],
      "metadata": {
        "colab": {
          "base_uri": "https://localhost:8080/"
        },
        "id": "vl2-GpGBjpsi",
        "outputId": "9cb11224-e996-4b9a-e954-c5f119fc1f67"
      },
      "id": "vl2-GpGBjpsi",
      "execution_count": 5,
      "outputs": [
        {
          "output_type": "stream",
          "name": "stdout",
          "text": [
            "2024-11-05 15:06:02,044 Reading data from .\n",
            "2024-11-05 15:06:02,045 Train: flair_train.txt\n",
            "2024-11-05 15:06:02,047 Dev: None\n",
            "2024-11-05 15:06:02,048 Test: flair_test.txt\n",
            "2024-11-05 15:06:03,189 No dev split found. Using 10% (i.e. 30 samples) of the train split as dev data\n"
          ]
        }
      ]
    },
    {
      "cell_type": "code",
      "source": [
        "tag_dictionary = corpus.make_label_dictionary(label_type='ner')\n",
        "print(\"Labels:\", tag_dictionary.get_items())"
      ],
      "metadata": {
        "colab": {
          "base_uri": "https://localhost:8080/"
        },
        "id": "d_skLRc8i44m",
        "outputId": "f57d9047-549e-4001-9326-22561dee48a1"
      },
      "id": "d_skLRc8i44m",
      "execution_count": 6,
      "outputs": [
        {
          "output_type": "stream",
          "name": "stdout",
          "text": [
            "2024-11-05 15:06:05,559 Computing label dictionary. Progress:\n"
          ]
        },
        {
          "output_type": "stream",
          "name": "stderr",
          "text": [
            "0it [00:00, ?it/s]\n",
            "268it [00:00, 12910.74it/s]"
          ]
        },
        {
          "output_type": "stream",
          "name": "stdout",
          "text": [
            "2024-11-05 15:06:05,629 Dictionary created for label 'ner' with 11 values: SKILL (seen 2198 times), JOB (seen 518 times), WORK (seen 450 times), COMPANY (seen 365 times), LOC (seen 246 times), DEG (seen 144 times), UNI (seen 144 times), NAME (seen 136 times), PHONE (seen 135 times), STUDY (seen 125 times), EMAIL (seen 106 times)\n",
            "Labels: ['SKILL', 'JOB', 'WORK', 'COMPANY', 'LOC', 'DEG', 'UNI', 'NAME', 'PHONE', 'STUDY', 'EMAIL']\n"
          ]
        },
        {
          "output_type": "stream",
          "name": "stderr",
          "text": [
            "\n"
          ]
        }
      ]
    },
    {
      "cell_type": "code",
      "source": [
        "from collections import Counter\n",
        "\n",
        "def count_labels(file_path):\n",
        "    with open(file_path, 'r') as file:\n",
        "        labels = [line.split()[-1] for line in file if line.strip()]\n",
        "    return Counter(labels)\n",
        "\n",
        "print(\"Train label distribution:\", count_labels('flair_train.txt'))\n",
        "print(\"Test label distribution:\", count_labels('flair_test.txt'))"
      ],
      "metadata": {
        "colab": {
          "base_uri": "https://localhost:8080/"
        },
        "id": "j5cXWOiGY5an",
        "outputId": "929c6dfc-82cd-41c8-ef05-a413c41f6e19"
      },
      "id": "j5cXWOiGY5an",
      "execution_count": 7,
      "outputs": [
        {
          "output_type": "stream",
          "name": "stdout",
          "text": [
            "Train label distribution: Counter({'O': 72473, 'S-SKILL': 1432, 'PER': 1202, 'B-SKILL': 973, 'E-SKILL': 969, 'E-JOB': 532, 'B-JOB': 523, 'E-COMPANY': 338, 'B-COMPANY': 333, 'I-JOB': 305, 'I-DEG': 254, 'I-COMPANY': 246, 'I-SKILL': 201, 'S-LOC': 166, 'E-UNI': 161, 'B-UNI': 160, 'B-DEG': 159, 'E-DEG': 159, 'B-NAME': 151, 'E-NAME': 151, 'I-UNI': 129, 'E-PHONE': 124, 'B-PHONE': 123, 'S-EMAIL': 120, 'B-LOC': 99, 'E-LOC': 99, 'I-PHONE': 81, 'S-COMPANY': 70, 'S-JOB': 60, 'S-PHONE': 24, 'I-NAME': 9, 'S-DEG': 4, 'I-LOC': 3, 'S-UNI': 1, 'B-EMAIL': 1, 'E-EMAIL': 1})\n",
            "Test label distribution: Counter({'O': 16620, 'S-SKILL': 359, 'PER': 309, 'B-SKILL': 240, 'E-SKILL': 240, 'E-JOB': 127, 'B-JOB': 124, 'B-COMPANY': 89, 'E-COMPANY': 89, 'I-DEG': 80, 'I-COMPANY': 69, 'B-UNI': 54, 'E-UNI': 54, 'I-JOB': 52, 'E-DEG': 43, 'I-UNI': 42, 'B-DEG': 42, 'B-NAME': 40, 'E-NAME': 40, 'S-LOC': 39, 'I-SKILL': 35, 'E-PHONE': 33, 'B-PHONE': 32, 'B-LOC': 29, 'E-LOC': 29, 'S-EMAIL': 28, 'I-PHONE': 25, 'S-JOB': 15, 'S-COMPANY': 9, 'S-PHONE': 5, 'S-DEG': 3, 'I-LOC': 2, 'I-NAME': 1, 'S-UNI': 1})\n"
          ]
        }
      ]
    },
    {
      "cell_type": "code",
      "source": [
        "# create NER tagger\n",
        "from flair.embeddings import WordEmbeddings, StackedEmbeddings, TransformerWordEmbeddings, FlairEmbeddings\n",
        "from flair.models import SequenceTagger\n",
        "\n",
        "# using LSTM-CRF on top of frozen embeddings\n",
        "# combine flair and glove embeddings\n",
        "# embeddings = StackedEmbeddings([\n",
        "#                 WordEmbeddings('glove'),\n",
        "#                 FlairEmbeddings('news-forward'),\n",
        "#                 FlairEmbeddings('news-backward'),\n",
        "#             ])\n",
        "# tagger = SequenceTagger(hidden_size=256,\n",
        "#                          embeddings=embeddings,\n",
        "#                          tag_dictionary=tag_dictionary,\n",
        "#                          tag_type='ner',\n",
        "#                          use_crf=True,\n",
        "#                          tag_format = 'BIOES')\n",
        "\n",
        "# using transformer embedding\n",
        "# embeddings = TransformerWordEmbeddings('bert-base-uncased',\n",
        "#                                       fine_tune=True,\n",
        "#                                       layers='-1',\n",
        "#                                       subtoken_pooling='first')\n",
        "embeddings = TransformerWordEmbeddings(\n",
        "    'roberta-base',  # or 'bert-base-uncased'\n",
        "    fine_tune=True,\n",
        "    layers='-1,-2,-3,-4',  # Use last 4 layers\n",
        "    subtoken_pooling='first',\n",
        "    allow_long_sentences=True\n",
        ")\n",
        "tagger = SequenceTagger(hidden_size=128,\n",
        "                         embeddings=embeddings,\n",
        "                         tag_dictionary=tag_dictionary,\n",
        "                         tag_type='ner',\n",
        "                         use_crf=False,\n",
        "                         use_rnn=False,\n",
        "                         reproject_embeddings=False,\n",
        "                         tag_format = 'BIOES')"
      ],
      "metadata": {
        "id": "QEBUKmiAnaFm",
        "colab": {
          "base_uri": "https://localhost:8080/"
        },
        "outputId": "2d3c9f4d-830d-446f-8e96-233178dbbaed"
      },
      "id": "QEBUKmiAnaFm",
      "execution_count": 8,
      "outputs": [
        {
          "output_type": "stream",
          "name": "stderr",
          "text": [
            "/usr/local/lib/python3.10/dist-packages/huggingface_hub/utils/_token.py:89: UserWarning: \n",
            "The secret `HF_TOKEN` does not exist in your Colab secrets.\n",
            "To authenticate with the Hugging Face Hub, create a token in your settings tab (https://huggingface.co/settings/tokens), set it as secret in your Google Colab and restart your session.\n",
            "You will be able to reuse this secret in all of your notebooks.\n",
            "Please note that authentication is recommended but still optional to access public models or datasets.\n",
            "  warnings.warn(\n",
            "/usr/local/lib/python3.10/dist-packages/transformers/tokenization_utils_base.py:1601: FutureWarning: `clean_up_tokenization_spaces` was not set. It will be set to `True` by default. This behavior will be depracted in transformers v4.45, and will be then set to `False` by default. For more details check this issue: https://github.com/huggingface/transformers/issues/31884\n",
            "  warnings.warn(\n"
          ]
        },
        {
          "output_type": "stream",
          "name": "stdout",
          "text": [
            "2024-11-05 15:06:25,318 SequenceTagger predicts: Dictionary with 45 tags: O, S-SKILL, B-SKILL, E-SKILL, I-SKILL, S-JOB, B-JOB, E-JOB, I-JOB, S-WORK, B-WORK, E-WORK, I-WORK, S-COMPANY, B-COMPANY, E-COMPANY, I-COMPANY, S-LOC, B-LOC, E-LOC, I-LOC, S-DEG, B-DEG, E-DEG, I-DEG, S-UNI, B-UNI, E-UNI, I-UNI, S-NAME, B-NAME, E-NAME, I-NAME, S-PHONE, B-PHONE, E-PHONE, I-PHONE, S-STUDY, B-STUDY, E-STUDY, I-STUDY, S-EMAIL, B-EMAIL, E-EMAIL, I-EMAIL\n"
          ]
        }
      ]
    },
    {
      "cell_type": "code",
      "source": [
        "# train flair ner model\n",
        "from flair.trainers import ModelTrainer\n",
        "from flair.training_utils import EvaluationMetric\n",
        "\n",
        "trainer = ModelTrainer(tagger, corpus)\n",
        "\n",
        "trainer.train(\n",
        "    base_path='flair_output/',\n",
        "    learning_rate=0.01,\n",
        "    mini_batch_size=4,\n",
        "    max_epochs=30,\n",
        "    train_with_dev=False\n",
        ")\n",
        "!cp -r ./flair_output /content/drive/MyDrive/FYP/Implementation/"
      ],
      "metadata": {
        "id": "XbuJ4VjCnoPU",
        "colab": {
          "base_uri": "https://localhost:8080/"
        },
        "outputId": "b139a5fa-e67e-42ca-ee81-8ecbe7f2a2f4"
      },
      "id": "XbuJ4VjCnoPU",
      "execution_count": null,
      "outputs": [
        {
          "output_type": "stream",
          "name": "stdout",
          "text": [
            "2024-11-05 15:25:32,440 ----------------------------------------------------------------------------------------------------\n",
            "2024-11-05 15:25:32,443 Model: \"SequenceTagger(\n",
            "  (embeddings): TransformerWordEmbeddings(\n",
            "    (model): RobertaModel(\n",
            "      (embeddings): RobertaEmbeddings(\n",
            "        (word_embeddings): Embedding(50266, 768, padding_idx=1)\n",
            "        (position_embeddings): Embedding(514, 768, padding_idx=1)\n",
            "        (token_type_embeddings): Embedding(1, 768)\n",
            "        (LayerNorm): LayerNorm((768,), eps=1e-05, elementwise_affine=True)\n",
            "        (dropout): Dropout(p=0.1, inplace=False)\n",
            "      )\n",
            "      (encoder): RobertaEncoder(\n",
            "        (layer): ModuleList(\n",
            "          (0-11): 12 x RobertaLayer(\n",
            "            (attention): RobertaAttention(\n",
            "              (self): RobertaSelfAttention(\n",
            "                (query): Linear(in_features=768, out_features=768, bias=True)\n",
            "                (key): Linear(in_features=768, out_features=768, bias=True)\n",
            "                (value): Linear(in_features=768, out_features=768, bias=True)\n",
            "                (dropout): Dropout(p=0.1, inplace=False)\n",
            "              )\n",
            "              (output): RobertaSelfOutput(\n",
            "                (dense): Linear(in_features=768, out_features=768, bias=True)\n",
            "                (LayerNorm): LayerNorm((768,), eps=1e-05, elementwise_affine=True)\n",
            "                (dropout): Dropout(p=0.1, inplace=False)\n",
            "              )\n",
            "            )\n",
            "            (intermediate): RobertaIntermediate(\n",
            "              (dense): Linear(in_features=768, out_features=3072, bias=True)\n",
            "              (intermediate_act_fn): GELUActivation()\n",
            "            )\n",
            "            (output): RobertaOutput(\n",
            "              (dense): Linear(in_features=3072, out_features=768, bias=True)\n",
            "              (LayerNorm): LayerNorm((768,), eps=1e-05, elementwise_affine=True)\n",
            "              (dropout): Dropout(p=0.1, inplace=False)\n",
            "            )\n",
            "          )\n",
            "        )\n",
            "      )\n",
            "      (pooler): RobertaPooler(\n",
            "        (dense): Linear(in_features=768, out_features=768, bias=True)\n",
            "        (activation): Tanh()\n",
            "      )\n",
            "    )\n",
            "  )\n",
            "  (locked_dropout): LockedDropout(p=0.5)\n",
            "  (linear): Linear(in_features=768, out_features=45, bias=True)\n",
            "  (loss_function): CrossEntropyLoss()\n",
            ")\"\n",
            "2024-11-05 15:25:32,446 ----------------------------------------------------------------------------------------------------\n",
            "2024-11-05 15:25:32,448 Corpus: 268 train + 30 dev + 75 test sentences\n",
            "2024-11-05 15:25:32,450 ----------------------------------------------------------------------------------------------------\n",
            "2024-11-05 15:25:32,451 Train:  268 sentences\n",
            "2024-11-05 15:25:32,452         (train_with_dev=False, train_with_test=False)\n",
            "2024-11-05 15:25:32,453 ----------------------------------------------------------------------------------------------------\n",
            "2024-11-05 15:25:32,455 Training Params:\n",
            "2024-11-05 15:25:32,456  - learning_rate: \"0.01\" \n",
            "2024-11-05 15:25:32,457  - mini_batch_size: \"4\"\n",
            "2024-11-05 15:25:32,458  - max_epochs: \"30\"\n",
            "2024-11-05 15:25:32,459  - shuffle: \"True\"\n",
            "2024-11-05 15:25:32,460 ----------------------------------------------------------------------------------------------------\n",
            "2024-11-05 15:25:32,461 Plugins:\n",
            "2024-11-05 15:25:32,462  - AnnealOnPlateau | patience: '3', anneal_factor: '0.5', min_learning_rate: '0.0001'\n",
            "2024-11-05 15:25:32,463 ----------------------------------------------------------------------------------------------------\n",
            "2024-11-05 15:25:32,464 Final evaluation on model from best epoch (best-model.pt)\n",
            "2024-11-05 15:25:32,465  - metric: \"('micro avg', 'f1-score')\"\n",
            "2024-11-05 15:25:32,466 ----------------------------------------------------------------------------------------------------\n",
            "2024-11-05 15:25:32,467 Computation:\n",
            "2024-11-05 15:25:32,468  - compute on device: cuda:0\n",
            "2024-11-05 15:25:32,469  - embedding storage: cpu\n",
            "2024-11-05 15:25:32,470 ----------------------------------------------------------------------------------------------------\n",
            "2024-11-05 15:25:32,471 Model training base path: \"flair_output\"\n",
            "2024-11-05 15:25:32,472 ----------------------------------------------------------------------------------------------------\n",
            "2024-11-05 15:25:32,473 ----------------------------------------------------------------------------------------------------\n"
          ]
        },
        {
          "output_type": "stream",
          "name": "stderr",
          "text": [
            "/usr/local/lib/python3.10/dist-packages/flair/trainers/trainer.py:499: FutureWarning: `torch.cuda.amp.GradScaler(args...)` is deprecated. Please use `torch.amp.GradScaler('cuda', args...)` instead.\n",
            "  scaler = torch.cuda.amp.GradScaler(enabled=use_amp and flair.device.type != \"cpu\")\n"
          ]
        },
        {
          "output_type": "stream",
          "name": "stdout",
          "text": [
            "2024-11-05 15:25:36,842 epoch 1 - iter 6/67 - loss 0.17765824 - time (sec): 4.37 - samples/sec: 2082.53 - lr: 0.010000 - momentum: 0.000000\n",
            "2024-11-05 15:25:40,052 epoch 1 - iter 12/67 - loss 0.21929687 - time (sec): 7.58 - samples/sec: 2005.31 - lr: 0.010000 - momentum: 0.000000\n",
            "2024-11-05 15:25:42,540 epoch 1 - iter 18/67 - loss 0.23912549 - time (sec): 10.06 - samples/sec: 2059.90 - lr: 0.010000 - momentum: 0.000000\n",
            "2024-11-05 15:25:45,244 epoch 1 - iter 24/67 - loss 0.24318197 - time (sec): 12.77 - samples/sec: 2049.92 - lr: 0.010000 - momentum: 0.000000\n",
            "2024-11-05 15:25:49,467 epoch 1 - iter 30/67 - loss 0.23263058 - time (sec): 16.99 - samples/sec: 1967.39 - lr: 0.010000 - momentum: 0.000000\n",
            "2024-11-05 15:25:52,196 epoch 1 - iter 36/67 - loss 0.23299039 - time (sec): 19.72 - samples/sec: 1942.15 - lr: 0.010000 - momentum: 0.000000\n",
            "2024-11-05 15:25:54,824 epoch 1 - iter 42/67 - loss 0.23449514 - time (sec): 22.35 - samples/sec: 2007.50 - lr: 0.010000 - momentum: 0.000000\n",
            "2024-11-05 15:25:57,542 epoch 1 - iter 48/67 - loss 0.23502041 - time (sec): 25.07 - samples/sec: 2043.33 - lr: 0.010000 - momentum: 0.000000\n",
            "2024-11-05 15:26:00,509 epoch 1 - iter 54/67 - loss 0.24806272 - time (sec): 28.03 - samples/sec: 2056.89 - lr: 0.010000 - momentum: 0.000000\n",
            "2024-11-05 15:26:03,681 epoch 1 - iter 60/67 - loss 0.24550643 - time (sec): 31.20 - samples/sec: 2092.13 - lr: 0.010000 - momentum: 0.000000\n",
            "2024-11-05 15:26:06,861 epoch 1 - iter 66/67 - loss 0.24308588 - time (sec): 34.38 - samples/sec: 2106.32 - lr: 0.010000 - momentum: 0.000000\n",
            "2024-11-05 15:26:07,134 ----------------------------------------------------------------------------------------------------\n",
            "2024-11-05 15:26:07,136 EPOCH 1 done: loss 0.2431 - lr: 0.010000\n"
          ]
        },
        {
          "output_type": "stream",
          "name": "stderr",
          "text": [
            "100%|██████████| 1/1 [00:04<00:00,  4.97s/it]"
          ]
        },
        {
          "output_type": "stream",
          "name": "stdout",
          "text": [
            "2024-11-05 15:26:12,157 DEV : loss 0.6268571019172668 - f1-score (micro avg)  0.0\n",
            "2024-11-05 15:26:12,171  - 0 epochs without improvement\n",
            "2024-11-05 15:26:12,173 ----------------------------------------------------------------------------------------------------\n"
          ]
        },
        {
          "output_type": "stream",
          "name": "stderr",
          "text": [
            "\n"
          ]
        },
        {
          "output_type": "stream",
          "name": "stdout",
          "text": [
            "2024-11-05 15:26:14,463 epoch 2 - iter 6/67 - loss 0.23410598 - time (sec): 2.29 - samples/sec: 2706.77 - lr: 0.010000 - momentum: 0.000000\n",
            "2024-11-05 15:26:16,760 epoch 2 - iter 12/67 - loss 0.24880075 - time (sec): 4.58 - samples/sec: 2421.56 - lr: 0.010000 - momentum: 0.000000\n",
            "2024-11-05 15:26:19,540 epoch 2 - iter 18/67 - loss 0.26116495 - time (sec): 7.36 - samples/sec: 2456.84 - lr: 0.010000 - momentum: 0.000000\n",
            "2024-11-05 15:26:22,675 epoch 2 - iter 24/67 - loss 0.25572440 - time (sec): 10.50 - samples/sec: 2304.49 - lr: 0.010000 - momentum: 0.000000\n",
            "2024-11-05 15:26:26,047 epoch 2 - iter 30/67 - loss 0.25083634 - time (sec): 13.87 - samples/sec: 2296.12 - lr: 0.010000 - momentum: 0.000000\n",
            "2024-11-05 15:26:28,345 epoch 2 - iter 36/67 - loss 0.25259482 - time (sec): 16.17 - samples/sec: 2268.04 - lr: 0.010000 - momentum: 0.000000\n",
            "2024-11-05 15:26:32,140 epoch 2 - iter 42/67 - loss 0.23772707 - time (sec): 19.96 - samples/sec: 2334.52 - lr: 0.010000 - momentum: 0.000000\n",
            "2024-11-05 15:26:34,600 epoch 2 - iter 48/67 - loss 0.24180587 - time (sec): 22.42 - samples/sec: 2347.05 - lr: 0.010000 - momentum: 0.000000\n",
            "2024-11-05 15:26:37,487 epoch 2 - iter 54/67 - loss 0.23434690 - time (sec): 25.31 - samples/sec: 2301.29 - lr: 0.010000 - momentum: 0.000000\n",
            "2024-11-05 15:26:40,145 epoch 2 - iter 60/67 - loss 0.23176819 - time (sec): 27.97 - samples/sec: 2295.19 - lr: 0.010000 - momentum: 0.000000\n",
            "2024-11-05 15:26:43,028 epoch 2 - iter 66/67 - loss 0.23028115 - time (sec): 30.85 - samples/sec: 2318.57 - lr: 0.010000 - momentum: 0.000000\n",
            "2024-11-05 15:26:43,560 ----------------------------------------------------------------------------------------------------\n",
            "2024-11-05 15:26:43,562 EPOCH 2 done: loss 0.2326 - lr: 0.010000\n"
          ]
        },
        {
          "output_type": "stream",
          "name": "stderr",
          "text": [
            "100%|██████████| 1/1 [00:03<00:00,  3.15s/it]"
          ]
        },
        {
          "output_type": "stream",
          "name": "stdout",
          "text": [
            "2024-11-05 15:26:46,756 DEV : loss 0.627562940120697 - f1-score (micro avg)  0.0\n",
            "2024-11-05 15:26:46,772  - 1 epochs without improvement\n",
            "2024-11-05 15:26:46,773 ----------------------------------------------------------------------------------------------------\n"
          ]
        },
        {
          "output_type": "stream",
          "name": "stderr",
          "text": [
            "\n"
          ]
        },
        {
          "output_type": "stream",
          "name": "stdout",
          "text": [
            "2024-11-05 15:26:49,383 epoch 3 - iter 6/67 - loss 0.20056174 - time (sec): 2.61 - samples/sec: 2525.48 - lr: 0.010000 - momentum: 0.000000\n",
            "2024-11-05 15:26:52,169 epoch 3 - iter 12/67 - loss 0.21826956 - time (sec): 5.39 - samples/sec: 2332.97 - lr: 0.010000 - momentum: 0.000000\n",
            "2024-11-05 15:26:54,248 epoch 3 - iter 18/67 - loss 0.23567490 - time (sec): 7.47 - samples/sec: 2433.04 - lr: 0.010000 - momentum: 0.000000\n",
            "2024-11-05 15:26:56,956 epoch 3 - iter 24/67 - loss 0.25422262 - time (sec): 10.18 - samples/sec: 2320.67 - lr: 0.010000 - momentum: 0.000000\n",
            "2024-11-05 15:26:59,376 epoch 3 - iter 30/67 - loss 0.25028957 - time (sec): 12.60 - samples/sec: 2343.31 - lr: 0.010000 - momentum: 0.000000\n",
            "2024-11-05 15:27:02,125 epoch 3 - iter 36/67 - loss 0.25001592 - time (sec): 15.35 - samples/sec: 2355.43 - lr: 0.010000 - momentum: 0.000000\n",
            "2024-11-05 15:27:05,570 epoch 3 - iter 42/67 - loss 0.23908589 - time (sec): 18.79 - samples/sec: 2354.67 - lr: 0.010000 - momentum: 0.000000\n",
            "2024-11-05 15:27:08,748 epoch 3 - iter 48/67 - loss 0.23983547 - time (sec): 21.97 - samples/sec: 2289.40 - lr: 0.010000 - momentum: 0.000000\n",
            "2024-11-05 15:27:11,390 epoch 3 - iter 54/67 - loss 0.23683579 - time (sec): 24.61 - samples/sec: 2296.99 - lr: 0.010000 - momentum: 0.000000\n",
            "2024-11-05 15:27:15,333 epoch 3 - iter 60/67 - loss 0.23141181 - time (sec): 28.56 - samples/sec: 2281.55 - lr: 0.010000 - momentum: 0.000000\n",
            "2024-11-05 15:27:18,130 epoch 3 - iter 66/67 - loss 0.23242499 - time (sec): 31.35 - samples/sec: 2295.45 - lr: 0.010000 - momentum: 0.000000\n",
            "2024-11-05 15:27:18,615 ----------------------------------------------------------------------------------------------------\n",
            "2024-11-05 15:27:18,620 EPOCH 3 done: loss 0.2317 - lr: 0.010000\n"
          ]
        },
        {
          "output_type": "stream",
          "name": "stderr",
          "text": [
            "100%|██████████| 1/1 [00:04<00:00,  4.76s/it]"
          ]
        },
        {
          "output_type": "stream",
          "name": "stdout",
          "text": [
            "2024-11-05 15:27:23,422 DEV : loss 0.6570822596549988 - f1-score (micro avg)  0.0\n",
            "2024-11-05 15:27:23,438  - 2 epochs without improvement\n",
            "2024-11-05 15:27:23,439 ----------------------------------------------------------------------------------------------------\n"
          ]
        },
        {
          "output_type": "stream",
          "name": "stderr",
          "text": [
            "\n"
          ]
        },
        {
          "output_type": "stream",
          "name": "stdout",
          "text": [
            "2024-11-05 15:27:26,969 epoch 4 - iter 6/67 - loss 0.20144615 - time (sec): 3.53 - samples/sec: 1919.52 - lr: 0.010000 - momentum: 0.000000\n",
            "2024-11-05 15:27:29,875 epoch 4 - iter 12/67 - loss 0.21753338 - time (sec): 6.43 - samples/sec: 1996.61 - lr: 0.010000 - momentum: 0.000000\n",
            "2024-11-05 15:27:32,486 epoch 4 - iter 18/67 - loss 0.21613633 - time (sec): 9.04 - samples/sec: 2051.22 - lr: 0.010000 - momentum: 0.000000\n",
            "2024-11-05 15:27:35,682 epoch 4 - iter 24/67 - loss 0.21382185 - time (sec): 12.24 - samples/sec: 2136.71 - lr: 0.010000 - momentum: 0.000000\n",
            "2024-11-05 15:27:38,235 epoch 4 - iter 30/67 - loss 0.22108254 - time (sec): 14.79 - samples/sec: 2182.97 - lr: 0.010000 - momentum: 0.000000\n",
            "2024-11-05 15:27:40,825 epoch 4 - iter 36/67 - loss 0.22627589 - time (sec): 17.38 - samples/sec: 2118.08 - lr: 0.010000 - momentum: 0.000000\n",
            "2024-11-05 15:27:43,857 epoch 4 - iter 42/67 - loss 0.22183619 - time (sec): 20.41 - samples/sec: 2162.07 - lr: 0.010000 - momentum: 0.000000\n",
            "2024-11-05 15:27:47,200 epoch 4 - iter 48/67 - loss 0.22301690 - time (sec): 23.76 - samples/sec: 2148.93 - lr: 0.010000 - momentum: 0.000000\n",
            "2024-11-05 15:27:50,417 epoch 4 - iter 54/67 - loss 0.22273935 - time (sec): 26.97 - samples/sec: 2157.46 - lr: 0.010000 - momentum: 0.000000\n",
            "2024-11-05 15:27:53,107 epoch 4 - iter 60/67 - loss 0.22469638 - time (sec): 29.66 - samples/sec: 2173.30 - lr: 0.010000 - momentum: 0.000000\n",
            "2024-11-05 15:27:55,646 epoch 4 - iter 66/67 - loss 0.22687716 - time (sec): 32.20 - samples/sec: 2201.25 - lr: 0.010000 - momentum: 0.000000\n",
            "2024-11-05 15:27:56,144 ----------------------------------------------------------------------------------------------------\n",
            "2024-11-05 15:27:56,146 EPOCH 4 done: loss 0.2246 - lr: 0.010000\n"
          ]
        },
        {
          "output_type": "stream",
          "name": "stderr",
          "text": [
            "100%|██████████| 1/1 [00:03<00:00,  3.33s/it]"
          ]
        },
        {
          "output_type": "stream",
          "name": "stdout",
          "text": [
            "2024-11-05 15:27:59,512 DEV : loss 0.6356112360954285 - f1-score (micro avg)  0.0\n",
            "2024-11-05 15:27:59,529  - 3 epochs without improvement\n",
            "2024-11-05 15:27:59,530 ----------------------------------------------------------------------------------------------------\n"
          ]
        },
        {
          "output_type": "stream",
          "name": "stderr",
          "text": [
            "\n"
          ]
        },
        {
          "output_type": "stream",
          "name": "stdout",
          "text": [
            "2024-11-05 15:28:02,589 epoch 5 - iter 6/67 - loss 0.22289815 - time (sec): 3.06 - samples/sec: 2400.21 - lr: 0.010000 - momentum: 0.000000\n",
            "2024-11-05 15:28:05,711 epoch 5 - iter 12/67 - loss 0.20263794 - time (sec): 6.18 - samples/sec: 2361.13 - lr: 0.010000 - momentum: 0.000000\n",
            "2024-11-05 15:28:08,053 epoch 5 - iter 18/67 - loss 0.22183453 - time (sec): 8.52 - samples/sec: 2325.04 - lr: 0.010000 - momentum: 0.000000\n",
            "2024-11-05 15:28:10,683 epoch 5 - iter 24/67 - loss 0.22783738 - time (sec): 11.15 - samples/sec: 2330.22 - lr: 0.010000 - momentum: 0.000000\n",
            "2024-11-05 15:28:13,047 epoch 5 - iter 30/67 - loss 0.22527946 - time (sec): 13.51 - samples/sec: 2312.50 - lr: 0.010000 - momentum: 0.000000\n",
            "2024-11-05 15:28:16,235 epoch 5 - iter 36/67 - loss 0.22531263 - time (sec): 16.70 - samples/sec: 2270.83 - lr: 0.010000 - momentum: 0.000000\n",
            "2024-11-05 15:28:19,022 epoch 5 - iter 42/67 - loss 0.21678310 - time (sec): 19.49 - samples/sec: 2318.53 - lr: 0.010000 - momentum: 0.000000\n",
            "2024-11-05 15:28:21,708 epoch 5 - iter 48/67 - loss 0.22170480 - time (sec): 22.17 - samples/sec: 2252.69 - lr: 0.010000 - momentum: 0.000000\n",
            "2024-11-05 15:28:24,058 epoch 5 - iter 54/67 - loss 0.21827902 - time (sec): 24.52 - samples/sec: 2274.57 - lr: 0.010000 - momentum: 0.000000\n",
            "2024-11-05 15:28:26,444 epoch 5 - iter 60/67 - loss 0.21646056 - time (sec): 26.91 - samples/sec: 2291.68 - lr: 0.010000 - momentum: 0.000000\n",
            "2024-11-05 15:28:30,057 epoch 5 - iter 66/67 - loss 0.21599021 - time (sec): 30.52 - samples/sec: 2342.51 - lr: 0.010000 - momentum: 0.000000\n",
            "2024-11-05 15:28:31,083 ----------------------------------------------------------------------------------------------------\n",
            "2024-11-05 15:28:31,087 EPOCH 5 done: loss 0.2167 - lr: 0.010000\n"
          ]
        },
        {
          "output_type": "stream",
          "name": "stderr",
          "text": [
            "100%|██████████| 1/1 [00:03<00:00,  3.58s/it]"
          ]
        },
        {
          "output_type": "stream",
          "name": "stdout",
          "text": [
            "2024-11-05 15:28:34,712 DEV : loss 0.631717324256897 - f1-score (micro avg)  0.0\n",
            "2024-11-05 15:28:34,729  - 4 epochs without improvement (above 'patience')-> annealing learning_rate to [0.005]\n",
            "2024-11-05 15:28:34,731 ----------------------------------------------------------------------------------------------------\n"
          ]
        },
        {
          "output_type": "stream",
          "name": "stderr",
          "text": [
            "\n"
          ]
        },
        {
          "output_type": "stream",
          "name": "stdout",
          "text": [
            "2024-11-05 15:28:37,285 epoch 6 - iter 6/67 - loss 0.19854941 - time (sec): 2.55 - samples/sec: 2740.40 - lr: 0.005000 - momentum: 0.000000\n",
            "2024-11-05 15:28:40,554 epoch 6 - iter 12/67 - loss 0.18294810 - time (sec): 5.82 - samples/sec: 2450.18 - lr: 0.005000 - momentum: 0.000000\n",
            "2024-11-05 15:28:43,994 epoch 6 - iter 18/67 - loss 0.17188724 - time (sec): 9.26 - samples/sec: 2316.68 - lr: 0.005000 - momentum: 0.000000\n",
            "2024-11-05 15:28:46,769 epoch 6 - iter 24/67 - loss 0.17483958 - time (sec): 12.03 - samples/sec: 2252.89 - lr: 0.005000 - momentum: 0.000000\n",
            "2024-11-05 15:28:49,502 epoch 6 - iter 30/67 - loss 0.18049101 - time (sec): 14.77 - samples/sec: 2218.86 - lr: 0.005000 - momentum: 0.000000\n",
            "2024-11-05 15:28:51,932 epoch 6 - iter 36/67 - loss 0.18871375 - time (sec): 17.20 - samples/sec: 2279.88 - lr: 0.005000 - momentum: 0.000000\n",
            "2024-11-05 15:28:54,496 epoch 6 - iter 42/67 - loss 0.19278114 - time (sec): 19.76 - samples/sec: 2285.74 - lr: 0.005000 - momentum: 0.000000\n",
            "2024-11-05 15:28:58,223 epoch 6 - iter 48/67 - loss 0.20016023 - time (sec): 23.49 - samples/sec: 2278.16 - lr: 0.005000 - momentum: 0.000000\n",
            "2024-11-05 15:29:01,046 epoch 6 - iter 54/67 - loss 0.19985086 - time (sec): 26.31 - samples/sec: 2280.22 - lr: 0.005000 - momentum: 0.000000\n",
            "2024-11-05 15:29:03,489 epoch 6 - iter 60/67 - loss 0.19654853 - time (sec): 28.75 - samples/sec: 2297.35 - lr: 0.005000 - momentum: 0.000000\n",
            "2024-11-05 15:29:06,417 epoch 6 - iter 66/67 - loss 0.19727662 - time (sec): 31.68 - samples/sec: 2271.03 - lr: 0.005000 - momentum: 0.000000\n",
            "2024-11-05 15:29:07,078 ----------------------------------------------------------------------------------------------------\n",
            "2024-11-05 15:29:07,079 EPOCH 6 done: loss 0.1973 - lr: 0.005000\n"
          ]
        },
        {
          "output_type": "stream",
          "name": "stderr",
          "text": [
            "100%|██████████| 1/1 [00:03<00:00,  3.19s/it]"
          ]
        },
        {
          "output_type": "stream",
          "name": "stdout",
          "text": [
            "2024-11-05 15:29:10,306 DEV : loss 0.6318603157997131 - f1-score (micro avg)  0.0\n",
            "2024-11-05 15:29:10,320  - 1 epochs without improvement\n",
            "2024-11-05 15:29:10,322 ----------------------------------------------------------------------------------------------------\n"
          ]
        },
        {
          "output_type": "stream",
          "name": "stderr",
          "text": [
            "\n"
          ]
        },
        {
          "output_type": "stream",
          "name": "stdout",
          "text": [
            "2024-11-05 15:29:12,769 epoch 7 - iter 6/67 - loss 0.22814856 - time (sec): 2.44 - samples/sec: 2306.31 - lr: 0.005000 - momentum: 0.000000\n",
            "2024-11-05 15:29:16,091 epoch 7 - iter 12/67 - loss 0.22547416 - time (sec): 5.77 - samples/sec: 1972.39 - lr: 0.005000 - momentum: 0.000000\n",
            "2024-11-05 15:29:19,394 epoch 7 - iter 18/67 - loss 0.20720370 - time (sec): 9.07 - samples/sec: 2022.06 - lr: 0.005000 - momentum: 0.000000\n",
            "2024-11-05 15:29:22,487 epoch 7 - iter 24/67 - loss 0.19391821 - time (sec): 12.16 - samples/sec: 2118.62 - lr: 0.005000 - momentum: 0.000000\n",
            "2024-11-05 15:29:25,111 epoch 7 - iter 30/67 - loss 0.19009066 - time (sec): 14.78 - samples/sec: 2112.31 - lr: 0.005000 - momentum: 0.000000\n",
            "2024-11-05 15:29:27,892 epoch 7 - iter 36/67 - loss 0.18864978 - time (sec): 17.57 - samples/sec: 2161.84 - lr: 0.005000 - momentum: 0.000000\n",
            "2024-11-05 15:29:31,409 epoch 7 - iter 42/67 - loss 0.18964559 - time (sec): 21.08 - samples/sec: 2181.61 - lr: 0.005000 - momentum: 0.000000\n",
            "2024-11-05 15:29:34,283 epoch 7 - iter 48/67 - loss 0.18745994 - time (sec): 23.96 - samples/sec: 2157.74 - lr: 0.005000 - momentum: 0.000000\n",
            "2024-11-05 15:29:36,891 epoch 7 - iter 54/67 - loss 0.19126323 - time (sec): 26.56 - samples/sec: 2186.80 - lr: 0.005000 - momentum: 0.000000\n",
            "2024-11-05 15:29:39,640 epoch 7 - iter 60/67 - loss 0.19119780 - time (sec): 29.31 - samples/sec: 2191.26 - lr: 0.005000 - momentum: 0.000000\n",
            "2024-11-05 15:29:43,170 epoch 7 - iter 66/67 - loss 0.18929175 - time (sec): 32.84 - samples/sec: 2201.12 - lr: 0.005000 - momentum: 0.000000\n",
            "2024-11-05 15:29:43,687 ----------------------------------------------------------------------------------------------------\n",
            "2024-11-05 15:29:43,689 EPOCH 7 done: loss 0.1899 - lr: 0.005000\n"
          ]
        },
        {
          "output_type": "stream",
          "name": "stderr",
          "text": [
            "100%|██████████| 1/1 [00:03<00:00,  3.12s/it]"
          ]
        },
        {
          "output_type": "stream",
          "name": "stdout",
          "text": [
            "2024-11-05 15:29:46,847 DEV : loss 0.6287716031074524 - f1-score (micro avg)  0.0\n",
            "2024-11-05 15:29:46,863  - 2 epochs without improvement\n",
            "2024-11-05 15:29:46,865 ----------------------------------------------------------------------------------------------------\n"
          ]
        },
        {
          "output_type": "stream",
          "name": "stderr",
          "text": [
            "\n"
          ]
        },
        {
          "output_type": "stream",
          "name": "stdout",
          "text": [
            "2024-11-05 15:29:49,489 epoch 8 - iter 6/67 - loss 0.19396544 - time (sec): 2.62 - samples/sec: 2181.68 - lr: 0.005000 - momentum: 0.000000\n",
            "2024-11-05 15:29:51,998 epoch 8 - iter 12/67 - loss 0.20603334 - time (sec): 5.13 - samples/sec: 2178.44 - lr: 0.005000 - momentum: 0.000000\n",
            "2024-11-05 15:29:54,399 epoch 8 - iter 18/67 - loss 0.20325567 - time (sec): 7.53 - samples/sec: 2162.89 - lr: 0.005000 - momentum: 0.000000\n",
            "2024-11-05 15:29:56,787 epoch 8 - iter 24/67 - loss 0.19256301 - time (sec): 9.92 - samples/sec: 2264.69 - lr: 0.005000 - momentum: 0.000000\n",
            "2024-11-05 15:29:59,773 epoch 8 - iter 30/67 - loss 0.18463941 - time (sec): 12.90 - samples/sec: 2230.62 - lr: 0.005000 - momentum: 0.000000\n",
            "2024-11-05 15:30:03,012 epoch 8 - iter 36/67 - loss 0.18666419 - time (sec): 16.14 - samples/sec: 2301.60 - lr: 0.005000 - momentum: 0.000000\n",
            "2024-11-05 15:30:06,316 epoch 8 - iter 42/67 - loss 0.19126492 - time (sec): 19.45 - samples/sec: 2329.48 - lr: 0.005000 - momentum: 0.000000\n",
            "2024-11-05 15:30:09,402 epoch 8 - iter 48/67 - loss 0.18825366 - time (sec): 22.53 - samples/sec: 2323.39 - lr: 0.005000 - momentum: 0.000000\n",
            "2024-11-05 15:30:12,087 epoch 8 - iter 54/67 - loss 0.18511789 - time (sec): 25.22 - samples/sec: 2317.64 - lr: 0.005000 - momentum: 0.000000\n",
            "2024-11-05 15:30:15,946 epoch 8 - iter 60/67 - loss 0.18431603 - time (sec): 29.08 - samples/sec: 2343.66 - lr: 0.005000 - momentum: 0.000000\n",
            "2024-11-05 15:30:17,586 epoch 8 - iter 66/67 - loss 0.18618445 - time (sec): 30.72 - samples/sec: 2345.14 - lr: 0.005000 - momentum: 0.000000\n",
            "2024-11-05 15:30:18,062 ----------------------------------------------------------------------------------------------------\n",
            "2024-11-05 15:30:18,063 EPOCH 8 done: loss 0.1860 - lr: 0.005000\n"
          ]
        },
        {
          "output_type": "stream",
          "name": "stderr",
          "text": [
            "100%|██████████| 1/1 [00:03<00:00,  3.47s/it]"
          ]
        },
        {
          "output_type": "stream",
          "name": "stdout",
          "text": [
            "2024-11-05 15:30:21,582 DEV : loss 0.6345421671867371 - f1-score (micro avg)  0.0\n",
            "2024-11-05 15:30:21,605  - 3 epochs without improvement\n",
            "2024-11-05 15:30:21,608 ----------------------------------------------------------------------------------------------------\n"
          ]
        },
        {
          "output_type": "stream",
          "name": "stderr",
          "text": [
            "\n"
          ]
        },
        {
          "output_type": "stream",
          "name": "stdout",
          "text": [
            "2024-11-05 15:30:24,267 epoch 9 - iter 6/67 - loss 0.18926384 - time (sec): 2.65 - samples/sec: 2045.65 - lr: 0.005000 - momentum: 0.000000\n",
            "2024-11-05 15:30:26,692 epoch 9 - iter 12/67 - loss 0.20730657 - time (sec): 5.08 - samples/sec: 2354.51 - lr: 0.005000 - momentum: 0.000000\n",
            "2024-11-05 15:30:29,465 epoch 9 - iter 18/67 - loss 0.19394872 - time (sec): 7.85 - samples/sec: 2308.48 - lr: 0.005000 - momentum: 0.000000\n",
            "2024-11-05 15:30:31,931 epoch 9 - iter 24/67 - loss 0.19311609 - time (sec): 10.32 - samples/sec: 2365.90 - lr: 0.005000 - momentum: 0.000000\n",
            "2024-11-05 15:30:34,062 epoch 9 - iter 30/67 - loss 0.19221759 - time (sec): 12.45 - samples/sec: 2355.36 - lr: 0.005000 - momentum: 0.000000\n",
            "2024-11-05 15:30:36,900 epoch 9 - iter 36/67 - loss 0.18539063 - time (sec): 15.29 - samples/sec: 2325.21 - lr: 0.005000 - momentum: 0.000000\n",
            "2024-11-05 15:30:39,759 epoch 9 - iter 42/67 - loss 0.18504257 - time (sec): 18.15 - samples/sec: 2275.90 - lr: 0.005000 - momentum: 0.000000\n",
            "2024-11-05 15:30:42,387 epoch 9 - iter 48/67 - loss 0.18762878 - time (sec): 20.77 - samples/sec: 2257.38 - lr: 0.005000 - momentum: 0.000000\n",
            "2024-11-05 15:30:46,057 epoch 9 - iter 54/67 - loss 0.18761108 - time (sec): 24.45 - samples/sec: 2202.31 - lr: 0.005000 - momentum: 0.000000\n",
            "2024-11-05 15:30:50,000 epoch 9 - iter 60/67 - loss 0.17711869 - time (sec): 28.39 - samples/sec: 2244.29 - lr: 0.005000 - momentum: 0.000000\n",
            "2024-11-05 15:30:53,489 epoch 9 - iter 66/67 - loss 0.17855246 - time (sec): 31.88 - samples/sec: 2241.99 - lr: 0.005000 - momentum: 0.000000\n",
            "2024-11-05 15:30:54,024 ----------------------------------------------------------------------------------------------------\n",
            "2024-11-05 15:30:54,026 EPOCH 9 done: loss 0.1787 - lr: 0.005000\n"
          ]
        },
        {
          "output_type": "stream",
          "name": "stderr",
          "text": [
            "100%|██████████| 1/1 [00:03<00:00,  3.18s/it]"
          ]
        },
        {
          "output_type": "stream",
          "name": "stdout",
          "text": [
            "2024-11-05 15:30:57,242 DEV : loss 0.6293169260025024 - f1-score (micro avg)  0.0\n",
            "2024-11-05 15:30:57,258  - 4 epochs without improvement (above 'patience')-> annealing learning_rate to [0.0025]\n",
            "2024-11-05 15:30:57,260 ----------------------------------------------------------------------------------------------------\n"
          ]
        },
        {
          "output_type": "stream",
          "name": "stderr",
          "text": [
            "\n"
          ]
        },
        {
          "output_type": "stream",
          "name": "stdout",
          "text": [
            "2024-11-05 15:31:00,814 epoch 10 - iter 6/67 - loss 0.14007992 - time (sec): 3.55 - samples/sec: 1856.05 - lr: 0.002500 - momentum: 0.000000\n",
            "2024-11-05 15:31:03,435 epoch 10 - iter 12/67 - loss 0.15395231 - time (sec): 6.17 - samples/sec: 2105.46 - lr: 0.002500 - momentum: 0.000000\n",
            "2024-11-05 15:31:05,977 epoch 10 - iter 18/67 - loss 0.14901849 - time (sec): 8.71 - samples/sec: 2203.58 - lr: 0.002500 - momentum: 0.000000\n",
            "2024-11-05 15:31:09,051 epoch 10 - iter 24/67 - loss 0.16278435 - time (sec): 11.79 - samples/sec: 2329.20 - lr: 0.002500 - momentum: 0.000000\n",
            "2024-11-05 15:31:11,880 epoch 10 - iter 30/67 - loss 0.16664187 - time (sec): 14.62 - samples/sec: 2280.73 - lr: 0.002500 - momentum: 0.000000\n",
            "2024-11-05 15:31:14,817 epoch 10 - iter 36/67 - loss 0.17082964 - time (sec): 17.55 - samples/sec: 2241.91 - lr: 0.002500 - momentum: 0.000000\n",
            "2024-11-05 15:31:17,495 epoch 10 - iter 42/67 - loss 0.16967264 - time (sec): 20.23 - samples/sec: 2274.05 - lr: 0.002500 - momentum: 0.000000\n",
            "2024-11-05 15:31:20,217 epoch 10 - iter 48/67 - loss 0.17809399 - time (sec): 22.95 - samples/sec: 2229.83 - lr: 0.002500 - momentum: 0.000000\n",
            "2024-11-05 15:31:23,697 epoch 10 - iter 54/67 - loss 0.17376205 - time (sec): 26.43 - samples/sec: 2217.12 - lr: 0.002500 - momentum: 0.000000\n",
            "2024-11-05 15:31:26,369 epoch 10 - iter 60/67 - loss 0.17402004 - time (sec): 29.11 - samples/sec: 2202.42 - lr: 0.002500 - momentum: 0.000000\n",
            "2024-11-05 15:31:28,846 epoch 10 - iter 66/67 - loss 0.17503105 - time (sec): 31.58 - samples/sec: 2204.81 - lr: 0.002500 - momentum: 0.000000\n",
            "2024-11-05 15:31:29,524 ----------------------------------------------------------------------------------------------------\n",
            "2024-11-05 15:31:29,525 EPOCH 10 done: loss 0.1700 - lr: 0.002500\n"
          ]
        },
        {
          "output_type": "stream",
          "name": "stderr",
          "text": [
            "100%|██████████| 1/1 [00:05<00:00,  5.57s/it]"
          ]
        },
        {
          "output_type": "stream",
          "name": "stdout",
          "text": [
            "2024-11-05 15:31:35,136 DEV : loss 0.6321839094161987 - f1-score (micro avg)  0.0\n",
            "2024-11-05 15:31:35,154  - 1 epochs without improvement\n",
            "2024-11-05 15:31:35,156 ----------------------------------------------------------------------------------------------------\n"
          ]
        },
        {
          "output_type": "stream",
          "name": "stderr",
          "text": [
            "\n"
          ]
        },
        {
          "output_type": "stream",
          "name": "stdout",
          "text": [
            "2024-11-05 15:31:37,675 epoch 11 - iter 6/67 - loss 0.17062499 - time (sec): 2.51 - samples/sec: 2437.41 - lr: 0.002500 - momentum: 0.000000\n",
            "2024-11-05 15:31:40,845 epoch 11 - iter 12/67 - loss 0.18676548 - time (sec): 5.69 - samples/sec: 2247.63 - lr: 0.002500 - momentum: 0.000000\n",
            "2024-11-05 15:31:43,856 epoch 11 - iter 18/67 - loss 0.17851217 - time (sec): 8.70 - samples/sec: 2292.65 - lr: 0.002500 - momentum: 0.000000\n",
            "2024-11-05 15:31:46,750 epoch 11 - iter 24/67 - loss 0.18396566 - time (sec): 11.59 - samples/sec: 2227.60 - lr: 0.002500 - momentum: 0.000000\n",
            "2024-11-05 15:31:49,301 epoch 11 - iter 30/67 - loss 0.17171587 - time (sec): 14.14 - samples/sec: 2312.85 - lr: 0.002500 - momentum: 0.000000\n",
            "2024-11-05 15:31:51,845 epoch 11 - iter 36/67 - loss 0.17176042 - time (sec): 16.68 - samples/sec: 2251.27 - lr: 0.002500 - momentum: 0.000000\n",
            "2024-11-05 15:31:54,862 epoch 11 - iter 42/67 - loss 0.17174467 - time (sec): 19.70 - samples/sec: 2263.52 - lr: 0.002500 - momentum: 0.000000\n",
            "2024-11-05 15:31:58,327 epoch 11 - iter 48/67 - loss 0.16886556 - time (sec): 23.17 - samples/sec: 2246.70 - lr: 0.002500 - momentum: 0.000000\n",
            "2024-11-05 15:32:00,841 epoch 11 - iter 54/67 - loss 0.16831090 - time (sec): 25.68 - samples/sec: 2246.45 - lr: 0.002500 - momentum: 0.000000\n",
            "2024-11-05 15:32:04,081 epoch 11 - iter 60/67 - loss 0.16922200 - time (sec): 28.92 - samples/sec: 2231.09 - lr: 0.002500 - momentum: 0.000000\n",
            "2024-11-05 15:32:07,422 epoch 11 - iter 66/67 - loss 0.17076309 - time (sec): 32.26 - samples/sec: 2235.79 - lr: 0.002500 - momentum: 0.000000\n",
            "2024-11-05 15:32:08,029 ----------------------------------------------------------------------------------------------------\n",
            "2024-11-05 15:32:08,031 EPOCH 11 done: loss 0.1720 - lr: 0.002500\n"
          ]
        },
        {
          "output_type": "stream",
          "name": "stderr",
          "text": [
            "100%|██████████| 1/1 [00:03<00:00,  3.14s/it]"
          ]
        },
        {
          "output_type": "stream",
          "name": "stdout",
          "text": [
            "2024-11-05 15:32:11,212 DEV : loss 0.632377028465271 - f1-score (micro avg)  0.0\n",
            "2024-11-05 15:32:11,228  - 2 epochs without improvement\n",
            "2024-11-05 15:32:11,229 ----------------------------------------------------------------------------------------------------\n"
          ]
        },
        {
          "output_type": "stream",
          "name": "stderr",
          "text": [
            "\n"
          ]
        },
        {
          "output_type": "stream",
          "name": "stdout",
          "text": [
            "2024-11-05 15:32:13,340 epoch 12 - iter 6/67 - loss 0.15204166 - time (sec): 2.11 - samples/sec: 2397.03 - lr: 0.002500 - momentum: 0.000000\n",
            "2024-11-05 15:32:15,747 epoch 12 - iter 12/67 - loss 0.17278004 - time (sec): 4.51 - samples/sec: 2254.59 - lr: 0.002500 - momentum: 0.000000\n",
            "2024-11-05 15:32:18,215 epoch 12 - iter 18/67 - loss 0.17291856 - time (sec): 6.98 - samples/sec: 2300.99 - lr: 0.002500 - momentum: 0.000000\n",
            "2024-11-05 15:32:21,023 epoch 12 - iter 24/67 - loss 0.16698871 - time (sec): 9.79 - samples/sec: 2191.13 - lr: 0.002500 - momentum: 0.000000\n",
            "2024-11-05 15:32:24,229 epoch 12 - iter 30/67 - loss 0.16490054 - time (sec): 13.00 - samples/sec: 2290.18 - lr: 0.002500 - momentum: 0.000000\n",
            "2024-11-05 15:32:27,940 epoch 12 - iter 36/67 - loss 0.15770641 - time (sec): 16.71 - samples/sec: 2243.44 - lr: 0.002500 - momentum: 0.000000\n",
            "2024-11-05 15:32:31,041 epoch 12 - iter 42/67 - loss 0.16367813 - time (sec): 19.81 - samples/sec: 2237.62 - lr: 0.002500 - momentum: 0.000000\n",
            "2024-11-05 15:32:34,080 epoch 12 - iter 48/67 - loss 0.16646022 - time (sec): 22.85 - samples/sec: 2208.19 - lr: 0.002500 - momentum: 0.000000\n",
            "2024-11-05 15:32:37,015 epoch 12 - iter 54/67 - loss 0.16482446 - time (sec): 25.78 - samples/sec: 2256.33 - lr: 0.002500 - momentum: 0.000000\n",
            "2024-11-05 15:32:40,551 epoch 12 - iter 60/67 - loss 0.16355624 - time (sec): 29.32 - samples/sec: 2250.33 - lr: 0.002500 - momentum: 0.000000\n",
            "2024-11-05 15:32:43,373 epoch 12 - iter 66/67 - loss 0.16302102 - time (sec): 32.14 - samples/sec: 2242.76 - lr: 0.002500 - momentum: 0.000000\n",
            "2024-11-05 15:32:43,893 ----------------------------------------------------------------------------------------------------\n",
            "2024-11-05 15:32:43,899 EPOCH 12 done: loss 0.1656 - lr: 0.002500\n"
          ]
        },
        {
          "output_type": "stream",
          "name": "stderr",
          "text": [
            "100%|██████████| 1/1 [00:03<00:00,  3.30s/it]"
          ]
        },
        {
          "output_type": "stream",
          "name": "stdout",
          "text": [
            "2024-11-05 15:32:47,243 DEV : loss 0.6323316693305969 - f1-score (micro avg)  0.0\n",
            "2024-11-05 15:32:47,259  - 3 epochs without improvement\n",
            "2024-11-05 15:32:47,262 ----------------------------------------------------------------------------------------------------\n"
          ]
        },
        {
          "output_type": "stream",
          "name": "stderr",
          "text": [
            "\n"
          ]
        },
        {
          "output_type": "stream",
          "name": "stdout",
          "text": [
            "2024-11-05 15:32:50,284 epoch 13 - iter 6/67 - loss 0.14265969 - time (sec): 3.02 - samples/sec: 2245.40 - lr: 0.002500 - momentum: 0.000000\n",
            "2024-11-05 15:32:54,188 epoch 13 - iter 12/67 - loss 0.14727195 - time (sec): 6.92 - samples/sec: 2259.41 - lr: 0.002500 - momentum: 0.000000\n",
            "2024-11-05 15:32:56,969 epoch 13 - iter 18/67 - loss 0.14397094 - time (sec): 9.70 - samples/sec: 2076.47 - lr: 0.002500 - momentum: 0.000000\n",
            "2024-11-05 15:32:59,332 epoch 13 - iter 24/67 - loss 0.15541708 - time (sec): 12.07 - samples/sec: 2139.37 - lr: 0.002500 - momentum: 0.000000\n",
            "2024-11-05 15:33:01,885 epoch 13 - iter 30/67 - loss 0.16221669 - time (sec): 14.62 - samples/sec: 2226.49 - lr: 0.002500 - momentum: 0.000000\n",
            "2024-11-05 15:33:04,105 epoch 13 - iter 36/67 - loss 0.16655804 - time (sec): 16.84 - samples/sec: 2223.52 - lr: 0.002500 - momentum: 0.000000\n",
            "2024-11-05 15:33:06,766 epoch 13 - iter 42/67 - loss 0.16755803 - time (sec): 19.50 - samples/sec: 2207.57 - lr: 0.002500 - momentum: 0.000000\n",
            "2024-11-05 15:33:10,007 epoch 13 - iter 48/67 - loss 0.16948291 - time (sec): 22.74 - samples/sec: 2214.98 - lr: 0.002500 - momentum: 0.000000\n",
            "2024-11-05 15:33:14,077 epoch 13 - iter 54/67 - loss 0.16544634 - time (sec): 26.81 - samples/sec: 2205.00 - lr: 0.002500 - momentum: 0.000000\n",
            "2024-11-05 15:33:16,526 epoch 13 - iter 60/67 - loss 0.16554048 - time (sec): 29.26 - samples/sec: 2234.36 - lr: 0.002500 - momentum: 0.000000\n",
            "2024-11-05 15:33:19,165 epoch 13 - iter 66/67 - loss 0.16651868 - time (sec): 31.90 - samples/sec: 2246.52 - lr: 0.002500 - momentum: 0.000000\n",
            "2024-11-05 15:33:19,605 ----------------------------------------------------------------------------------------------------\n",
            "2024-11-05 15:33:19,606 EPOCH 13 done: loss 0.1658 - lr: 0.002500\n"
          ]
        },
        {
          "output_type": "stream",
          "name": "stderr",
          "text": [
            "100%|██████████| 1/1 [00:03<00:00,  3.12s/it]"
          ]
        },
        {
          "output_type": "stream",
          "name": "stdout",
          "text": [
            "2024-11-05 15:33:22,763 DEV : loss 0.6336462497711182 - f1-score (micro avg)  0.0\n",
            "2024-11-05 15:33:22,779  - 4 epochs without improvement (above 'patience')-> annealing learning_rate to [0.00125]\n",
            "2024-11-05 15:33:22,781 ----------------------------------------------------------------------------------------------------\n"
          ]
        },
        {
          "output_type": "stream",
          "name": "stderr",
          "text": [
            "\n"
          ]
        },
        {
          "output_type": "stream",
          "name": "stdout",
          "text": [
            "2024-11-05 15:33:26,223 epoch 14 - iter 6/67 - loss 0.19190404 - time (sec): 3.44 - samples/sec: 2095.06 - lr: 0.001250 - momentum: 0.000000\n",
            "2024-11-05 15:33:28,978 epoch 14 - iter 12/67 - loss 0.18273544 - time (sec): 6.19 - samples/sec: 2212.70 - lr: 0.001250 - momentum: 0.000000\n",
            "2024-11-05 15:33:31,558 epoch 14 - iter 18/67 - loss 0.18132779 - time (sec): 8.77 - samples/sec: 2142.98 - lr: 0.001250 - momentum: 0.000000\n",
            "2024-11-05 15:33:34,329 epoch 14 - iter 24/67 - loss 0.17756351 - time (sec): 11.55 - samples/sec: 2179.03 - lr: 0.001250 - momentum: 0.000000\n",
            "2024-11-05 15:33:36,999 epoch 14 - iter 30/67 - loss 0.17354445 - time (sec): 14.22 - samples/sec: 2149.06 - lr: 0.001250 - momentum: 0.000000\n",
            "2024-11-05 15:33:39,800 epoch 14 - iter 36/67 - loss 0.17239198 - time (sec): 17.02 - samples/sec: 2216.41 - lr: 0.001250 - momentum: 0.000000\n",
            "2024-11-05 15:33:42,675 epoch 14 - iter 42/67 - loss 0.16922150 - time (sec): 19.89 - samples/sec: 2211.24 - lr: 0.001250 - momentum: 0.000000\n",
            "2024-11-05 15:33:44,900 epoch 14 - iter 48/67 - loss 0.16556953 - time (sec): 22.12 - samples/sec: 2234.41 - lr: 0.001250 - momentum: 0.000000\n",
            "2024-11-05 15:33:47,637 epoch 14 - iter 54/67 - loss 0.16420686 - time (sec): 24.85 - samples/sec: 2267.26 - lr: 0.001250 - momentum: 0.000000\n",
            "2024-11-05 15:33:50,678 epoch 14 - iter 60/67 - loss 0.16517427 - time (sec): 27.89 - samples/sec: 2262.42 - lr: 0.001250 - momentum: 0.000000\n",
            "2024-11-05 15:33:55,034 epoch 14 - iter 66/67 - loss 0.16139544 - time (sec): 32.25 - samples/sec: 2245.77 - lr: 0.001250 - momentum: 0.000000\n",
            "2024-11-05 15:33:55,446 ----------------------------------------------------------------------------------------------------\n",
            "2024-11-05 15:33:55,451 EPOCH 14 done: loss 0.1617 - lr: 0.001250\n"
          ]
        },
        {
          "output_type": "stream",
          "name": "stderr",
          "text": [
            "100%|██████████| 1/1 [00:03<00:00,  3.20s/it]"
          ]
        },
        {
          "output_type": "stream",
          "name": "stdout",
          "text": [
            "2024-11-05 15:33:58,700 DEV : loss 0.6313529014587402 - f1-score (micro avg)  0.0\n",
            "2024-11-05 15:33:58,717  - 1 epochs without improvement\n",
            "2024-11-05 15:33:58,719 ----------------------------------------------------------------------------------------------------\n"
          ]
        },
        {
          "output_type": "stream",
          "name": "stderr",
          "text": [
            "\n"
          ]
        },
        {
          "output_type": "stream",
          "name": "stdout",
          "text": [
            "2024-11-05 15:34:00,969 epoch 15 - iter 6/67 - loss 0.14714203 - time (sec): 2.25 - samples/sec: 2259.71 - lr: 0.001250 - momentum: 0.000000\n",
            "2024-11-05 15:34:04,342 epoch 15 - iter 12/67 - loss 0.14836630 - time (sec): 5.62 - samples/sec: 2338.95 - lr: 0.001250 - momentum: 0.000000\n",
            "2024-11-05 15:34:07,029 epoch 15 - iter 18/67 - loss 0.15831713 - time (sec): 8.31 - samples/sec: 2286.07 - lr: 0.001250 - momentum: 0.000000\n",
            "2024-11-05 15:34:09,801 epoch 15 - iter 24/67 - loss 0.15928598 - time (sec): 11.08 - samples/sec: 2266.63 - lr: 0.001250 - momentum: 0.000000\n",
            "2024-11-05 15:34:13,303 epoch 15 - iter 30/67 - loss 0.16014486 - time (sec): 14.58 - samples/sec: 2274.72 - lr: 0.001250 - momentum: 0.000000\n",
            "2024-11-05 15:34:16,903 epoch 15 - iter 36/67 - loss 0.16172859 - time (sec): 18.18 - samples/sec: 2225.24 - lr: 0.001250 - momentum: 0.000000\n",
            "2024-11-05 15:34:19,191 epoch 15 - iter 42/67 - loss 0.16483658 - time (sec): 20.47 - samples/sec: 2254.93 - lr: 0.001250 - momentum: 0.000000\n",
            "2024-11-05 15:34:21,894 epoch 15 - iter 48/67 - loss 0.16613847 - time (sec): 23.17 - samples/sec: 2246.12 - lr: 0.001250 - momentum: 0.000000\n",
            "2024-11-05 15:34:24,809 epoch 15 - iter 54/67 - loss 0.16325038 - time (sec): 26.09 - samples/sec: 2274.17 - lr: 0.001250 - momentum: 0.000000\n",
            "2024-11-05 15:34:27,559 epoch 15 - iter 60/67 - loss 0.15804816 - time (sec): 28.84 - samples/sec: 2309.32 - lr: 0.001250 - momentum: 0.000000\n",
            "2024-11-05 15:34:29,894 epoch 15 - iter 66/67 - loss 0.15875100 - time (sec): 31.17 - samples/sec: 2296.94 - lr: 0.001250 - momentum: 0.000000\n",
            "2024-11-05 15:34:30,315 ----------------------------------------------------------------------------------------------------\n",
            "2024-11-05 15:34:30,316 EPOCH 15 done: loss 0.1579 - lr: 0.001250\n"
          ]
        },
        {
          "output_type": "stream",
          "name": "stderr",
          "text": [
            "100%|██████████| 1/1 [00:03<00:00,  3.11s/it]"
          ]
        },
        {
          "output_type": "stream",
          "name": "stdout",
          "text": [
            "2024-11-05 15:34:33,471 DEV : loss 0.6314542889595032 - f1-score (micro avg)  0.0\n",
            "2024-11-05 15:34:33,487  - 2 epochs without improvement\n",
            "2024-11-05 15:34:33,488 ----------------------------------------------------------------------------------------------------\n"
          ]
        },
        {
          "output_type": "stream",
          "name": "stderr",
          "text": [
            "\n"
          ]
        },
        {
          "output_type": "stream",
          "name": "stdout",
          "text": [
            "2024-11-05 15:34:35,861 epoch 16 - iter 6/67 - loss 0.16950049 - time (sec): 2.37 - samples/sec: 1685.84 - lr: 0.001250 - momentum: 0.000000\n",
            "2024-11-05 15:34:39,969 epoch 16 - iter 12/67 - loss 0.14965042 - time (sec): 6.48 - samples/sec: 1925.56 - lr: 0.001250 - momentum: 0.000000\n",
            "2024-11-05 15:34:42,191 epoch 16 - iter 18/67 - loss 0.14961220 - time (sec): 8.70 - samples/sec: 2000.52 - lr: 0.001250 - momentum: 0.000000\n",
            "2024-11-05 15:34:44,890 epoch 16 - iter 24/67 - loss 0.14589836 - time (sec): 11.40 - samples/sec: 2131.19 - lr: 0.001250 - momentum: 0.000000\n",
            "2024-11-05 15:34:48,341 epoch 16 - iter 30/67 - loss 0.14392147 - time (sec): 14.85 - samples/sec: 2145.88 - lr: 0.001250 - momentum: 0.000000\n",
            "2024-11-05 15:34:50,783 epoch 16 - iter 36/67 - loss 0.14985795 - time (sec): 17.29 - samples/sec: 2149.32 - lr: 0.001250 - momentum: 0.000000\n",
            "2024-11-05 15:34:54,127 epoch 16 - iter 42/67 - loss 0.15130994 - time (sec): 20.63 - samples/sec: 2127.79 - lr: 0.001250 - momentum: 0.000000\n",
            "2024-11-05 15:34:57,327 epoch 16 - iter 48/67 - loss 0.15248389 - time (sec): 23.83 - samples/sec: 2200.73 - lr: 0.001250 - momentum: 0.000000\n",
            "2024-11-05 15:35:00,252 epoch 16 - iter 54/67 - loss 0.15460855 - time (sec): 26.76 - samples/sec: 2206.63 - lr: 0.001250 - momentum: 0.000000\n",
            "2024-11-05 15:35:03,003 epoch 16 - iter 60/67 - loss 0.15512587 - time (sec): 29.51 - samples/sec: 2208.02 - lr: 0.001250 - momentum: 0.000000\n",
            "2024-11-05 15:35:05,996 epoch 16 - iter 66/67 - loss 0.15714521 - time (sec): 32.50 - samples/sec: 2220.64 - lr: 0.001250 - momentum: 0.000000\n",
            "2024-11-05 15:35:06,236 ----------------------------------------------------------------------------------------------------\n",
            "2024-11-05 15:35:06,241 EPOCH 16 done: loss 0.1568 - lr: 0.001250\n"
          ]
        },
        {
          "output_type": "stream",
          "name": "stderr",
          "text": [
            "100%|██████████| 1/1 [00:03<00:00,  3.15s/it]"
          ]
        },
        {
          "output_type": "stream",
          "name": "stdout",
          "text": [
            "2024-11-05 15:35:09,443 DEV : loss 0.6327963471412659 - f1-score (micro avg)  0.0\n",
            "2024-11-05 15:35:09,459  - 3 epochs without improvement\n",
            "2024-11-05 15:35:09,460 ----------------------------------------------------------------------------------------------------\n"
          ]
        },
        {
          "output_type": "stream",
          "name": "stderr",
          "text": [
            "\n"
          ]
        },
        {
          "output_type": "stream",
          "name": "stdout",
          "text": [
            "2024-11-05 15:35:11,697 epoch 17 - iter 6/67 - loss 0.16834122 - time (sec): 2.23 - samples/sec: 2436.98 - lr: 0.001250 - momentum: 0.000000\n",
            "2024-11-05 15:35:15,501 epoch 17 - iter 12/67 - loss 0.16080351 - time (sec): 6.04 - samples/sec: 2158.88 - lr: 0.001250 - momentum: 0.000000\n",
            "2024-11-05 15:35:18,120 epoch 17 - iter 18/67 - loss 0.17007249 - time (sec): 8.66 - samples/sec: 2164.53 - lr: 0.001250 - momentum: 0.000000\n",
            "2024-11-05 15:35:21,535 epoch 17 - iter 24/67 - loss 0.14812224 - time (sec): 12.07 - samples/sec: 2208.04 - lr: 0.001250 - momentum: 0.000000\n",
            "2024-11-05 15:35:24,381 epoch 17 - iter 30/67 - loss 0.15173315 - time (sec): 14.92 - samples/sec: 2253.29 - lr: 0.001250 - momentum: 0.000000\n",
            "2024-11-05 15:35:27,295 epoch 17 - iter 36/67 - loss 0.15977683 - time (sec): 17.83 - samples/sec: 2216.54 - lr: 0.001250 - momentum: 0.000000\n",
            "2024-11-05 15:35:30,137 epoch 17 - iter 42/67 - loss 0.16120847 - time (sec): 20.67 - samples/sec: 2207.08 - lr: 0.001250 - momentum: 0.000000\n",
            "2024-11-05 15:35:33,061 epoch 17 - iter 48/67 - loss 0.15798999 - time (sec): 23.60 - samples/sec: 2250.06 - lr: 0.001250 - momentum: 0.000000\n",
            "2024-11-05 15:35:35,939 epoch 17 - iter 54/67 - loss 0.15597359 - time (sec): 26.48 - samples/sec: 2194.80 - lr: 0.001250 - momentum: 0.000000\n",
            "2024-11-05 15:35:39,089 epoch 17 - iter 60/67 - loss 0.15284143 - time (sec): 29.62 - samples/sec: 2248.83 - lr: 0.001250 - momentum: 0.000000\n",
            "2024-11-05 15:35:41,723 epoch 17 - iter 66/67 - loss 0.15494793 - time (sec): 32.26 - samples/sec: 2249.36 - lr: 0.001250 - momentum: 0.000000\n",
            "2024-11-05 15:35:41,914 ----------------------------------------------------------------------------------------------------\n",
            "2024-11-05 15:35:41,916 EPOCH 17 done: loss 0.1549 - lr: 0.001250\n"
          ]
        },
        {
          "output_type": "stream",
          "name": "stderr",
          "text": [
            "100%|██████████| 1/1 [00:03<00:00,  3.10s/it]"
          ]
        },
        {
          "output_type": "stream",
          "name": "stdout",
          "text": [
            "2024-11-05 15:35:45,076 DEV : loss 0.63179612159729 - f1-score (micro avg)  0.0\n",
            "2024-11-05 15:35:45,104  - 4 epochs without improvement (above 'patience')-> annealing learning_rate to [0.000625]\n",
            "2024-11-05 15:35:45,108 ----------------------------------------------------------------------------------------------------\n"
          ]
        },
        {
          "output_type": "stream",
          "name": "stderr",
          "text": [
            "\n"
          ]
        },
        {
          "output_type": "stream",
          "name": "stdout",
          "text": [
            "2024-11-05 15:35:47,408 epoch 18 - iter 6/67 - loss 0.15010563 - time (sec): 2.30 - samples/sec: 2094.90 - lr: 0.000625 - momentum: 0.000000\n",
            "2024-11-05 15:35:50,266 epoch 18 - iter 12/67 - loss 0.12765230 - time (sec): 5.15 - samples/sec: 2227.49 - lr: 0.000625 - momentum: 0.000000\n",
            "2024-11-05 15:35:53,746 epoch 18 - iter 18/67 - loss 0.13332168 - time (sec): 8.63 - samples/sec: 2177.10 - lr: 0.000625 - momentum: 0.000000\n",
            "2024-11-05 15:35:56,412 epoch 18 - iter 24/67 - loss 0.13752933 - time (sec): 11.30 - samples/sec: 2173.00 - lr: 0.000625 - momentum: 0.000000\n",
            "2024-11-05 15:35:58,925 epoch 18 - iter 30/67 - loss 0.14577746 - time (sec): 13.81 - samples/sec: 2135.26 - lr: 0.000625 - momentum: 0.000000\n",
            "2024-11-05 15:36:01,691 epoch 18 - iter 36/67 - loss 0.15213397 - time (sec): 16.58 - samples/sec: 2139.92 - lr: 0.000625 - momentum: 0.000000\n",
            "2024-11-05 15:36:04,784 epoch 18 - iter 42/67 - loss 0.14924209 - time (sec): 19.67 - samples/sec: 2206.15 - lr: 0.000625 - momentum: 0.000000\n",
            "2024-11-05 15:36:07,527 epoch 18 - iter 48/67 - loss 0.15204268 - time (sec): 22.42 - samples/sec: 2207.79 - lr: 0.000625 - momentum: 0.000000\n",
            "2024-11-05 15:36:10,286 epoch 18 - iter 54/67 - loss 0.15065935 - time (sec): 25.17 - samples/sec: 2258.39 - lr: 0.000625 - momentum: 0.000000\n",
            "2024-11-05 15:36:13,563 epoch 18 - iter 60/67 - loss 0.15378510 - time (sec): 28.45 - samples/sec: 2274.22 - lr: 0.000625 - momentum: 0.000000\n",
            "2024-11-05 15:36:17,004 epoch 18 - iter 66/67 - loss 0.15306416 - time (sec): 31.89 - samples/sec: 2263.22 - lr: 0.000625 - momentum: 0.000000\n",
            "2024-11-05 15:36:17,280 ----------------------------------------------------------------------------------------------------\n",
            "2024-11-05 15:36:17,282 EPOCH 18 done: loss 0.1534 - lr: 0.000625\n"
          ]
        },
        {
          "output_type": "stream",
          "name": "stderr",
          "text": [
            "100%|██████████| 1/1 [00:02<00:00,  3.00s/it]"
          ]
        },
        {
          "output_type": "stream",
          "name": "stdout",
          "text": [
            "2024-11-05 15:36:20,321 DEV : loss 0.6315694451332092 - f1-score (micro avg)  0.0\n",
            "2024-11-05 15:36:20,337  - 1 epochs without improvement\n",
            "2024-11-05 15:36:20,338 ----------------------------------------------------------------------------------------------------\n"
          ]
        },
        {
          "output_type": "stream",
          "name": "stderr",
          "text": [
            "\n"
          ]
        },
        {
          "output_type": "stream",
          "name": "stdout",
          "text": [
            "2024-11-05 15:36:23,450 epoch 19 - iter 6/67 - loss 0.15689334 - time (sec): 3.11 - samples/sec: 2019.54 - lr: 0.000625 - momentum: 0.000000\n",
            "2024-11-05 15:36:26,086 epoch 19 - iter 12/67 - loss 0.14261897 - time (sec): 5.74 - samples/sec: 2147.17 - lr: 0.000625 - momentum: 0.000000\n",
            "2024-11-05 15:36:29,208 epoch 19 - iter 18/67 - loss 0.16064954 - time (sec): 8.87 - samples/sec: 2231.36 - lr: 0.000625 - momentum: 0.000000\n",
            "2024-11-05 15:36:31,664 epoch 19 - iter 24/67 - loss 0.16558968 - time (sec): 11.32 - samples/sec: 2319.55 - lr: 0.000625 - momentum: 0.000000\n",
            "2024-11-05 15:36:34,282 epoch 19 - iter 30/67 - loss 0.16188710 - time (sec): 13.94 - samples/sec: 2320.92 - lr: 0.000625 - momentum: 0.000000\n",
            "2024-11-05 15:36:36,524 epoch 19 - iter 36/67 - loss 0.16385163 - time (sec): 16.18 - samples/sec: 2303.73 - lr: 0.000625 - momentum: 0.000000\n",
            "2024-11-05 15:36:39,329 epoch 19 - iter 42/67 - loss 0.16693013 - time (sec): 18.99 - samples/sec: 2276.43 - lr: 0.000625 - momentum: 0.000000\n",
            "2024-11-05 15:36:42,361 epoch 19 - iter 48/67 - loss 0.16383881 - time (sec): 22.02 - samples/sec: 2227.54 - lr: 0.000625 - momentum: 0.000000\n",
            "2024-11-05 15:36:45,093 epoch 19 - iter 54/67 - loss 0.16015220 - time (sec): 24.75 - samples/sec: 2269.68 - lr: 0.000625 - momentum: 0.000000\n",
            "2024-11-05 15:36:48,931 epoch 19 - iter 60/67 - loss 0.15267874 - time (sec): 28.59 - samples/sec: 2320.62 - lr: 0.000625 - momentum: 0.000000\n",
            "2024-11-05 15:36:52,557 epoch 19 - iter 66/67 - loss 0.15328138 - time (sec): 32.21 - samples/sec: 2249.32 - lr: 0.000625 - momentum: 0.000000\n",
            "2024-11-05 15:36:52,935 ----------------------------------------------------------------------------------------------------\n",
            "2024-11-05 15:36:52,936 EPOCH 19 done: loss 0.1539 - lr: 0.000625\n"
          ]
        },
        {
          "output_type": "stream",
          "name": "stderr",
          "text": [
            "100%|██████████| 1/1 [00:03<00:00,  3.08s/it]"
          ]
        },
        {
          "output_type": "stream",
          "name": "stdout",
          "text": [
            "2024-11-05 15:36:56,070 DEV : loss 0.6311851739883423 - f1-score (micro avg)  0.0\n",
            "2024-11-05 15:36:56,098  - 2 epochs without improvement\n",
            "2024-11-05 15:36:56,101 ----------------------------------------------------------------------------------------------------\n"
          ]
        },
        {
          "output_type": "stream",
          "name": "stderr",
          "text": [
            "\n"
          ]
        },
        {
          "output_type": "stream",
          "name": "stdout",
          "text": [
            "2024-11-05 15:36:58,578 epoch 20 - iter 6/67 - loss 0.15384042 - time (sec): 2.47 - samples/sec: 2912.88 - lr: 0.000625 - momentum: 0.000000\n",
            "2024-11-05 15:37:01,039 epoch 20 - iter 12/67 - loss 0.16532034 - time (sec): 4.93 - samples/sec: 2484.03 - lr: 0.000625 - momentum: 0.000000\n",
            "2024-11-05 15:37:03,648 epoch 20 - iter 18/67 - loss 0.15696649 - time (sec): 7.54 - samples/sec: 2476.24 - lr: 0.000625 - momentum: 0.000000\n",
            "2024-11-05 15:37:06,406 epoch 20 - iter 24/67 - loss 0.15282601 - time (sec): 10.30 - samples/sec: 2485.01 - lr: 0.000625 - momentum: 0.000000\n",
            "2024-11-05 15:37:09,286 epoch 20 - iter 30/67 - loss 0.14740588 - time (sec): 13.18 - samples/sec: 2454.95 - lr: 0.000625 - momentum: 0.000000\n",
            "2024-11-05 15:37:12,480 epoch 20 - iter 36/67 - loss 0.15211807 - time (sec): 16.37 - samples/sec: 2405.80 - lr: 0.000625 - momentum: 0.000000\n",
            "2024-11-05 15:37:16,129 epoch 20 - iter 42/67 - loss 0.15306758 - time (sec): 20.02 - samples/sec: 2341.88 - lr: 0.000625 - momentum: 0.000000\n",
            "2024-11-05 15:37:18,597 epoch 20 - iter 48/67 - loss 0.15024805 - time (sec): 22.49 - samples/sec: 2335.21 - lr: 0.000625 - momentum: 0.000000\n",
            "2024-11-05 15:37:21,966 epoch 20 - iter 54/67 - loss 0.15094061 - time (sec): 25.86 - samples/sec: 2343.95 - lr: 0.000625 - momentum: 0.000000\n",
            "2024-11-05 15:37:24,934 epoch 20 - iter 60/67 - loss 0.14976651 - time (sec): 28.83 - samples/sec: 2323.49 - lr: 0.000625 - momentum: 0.000000\n",
            "2024-11-05 15:37:27,390 epoch 20 - iter 66/67 - loss 0.15137866 - time (sec): 31.28 - samples/sec: 2310.68 - lr: 0.000625 - momentum: 0.000000\n",
            "2024-11-05 15:37:27,793 ----------------------------------------------------------------------------------------------------\n",
            "2024-11-05 15:37:27,798 EPOCH 20 done: loss 0.1521 - lr: 0.000625\n"
          ]
        },
        {
          "output_type": "stream",
          "name": "stderr",
          "text": [
            "100%|██████████| 1/1 [00:03<00:00,  3.21s/it]"
          ]
        },
        {
          "output_type": "stream",
          "name": "stdout",
          "text": [
            "2024-11-05 15:37:31,054 DEV : loss 0.6316933035850525 - f1-score (micro avg)  0.0\n",
            "2024-11-05 15:37:31,070  - 3 epochs without improvement\n",
            "2024-11-05 15:37:31,072 ----------------------------------------------------------------------------------------------------\n"
          ]
        },
        {
          "output_type": "stream",
          "name": "stderr",
          "text": [
            "\n"
          ]
        },
        {
          "output_type": "stream",
          "name": "stdout",
          "text": [
            "2024-11-05 15:37:33,597 epoch 21 - iter 6/67 - loss 0.12861716 - time (sec): 2.52 - samples/sec: 2449.75 - lr: 0.000625 - momentum: 0.000000\n",
            "2024-11-05 15:37:36,757 epoch 21 - iter 12/67 - loss 0.14812625 - time (sec): 5.68 - samples/sec: 2381.66 - lr: 0.000625 - momentum: 0.000000\n",
            "2024-11-05 15:37:39,709 epoch 21 - iter 18/67 - loss 0.14292829 - time (sec): 8.63 - samples/sec: 2263.42 - lr: 0.000625 - momentum: 0.000000\n",
            "2024-11-05 15:37:42,677 epoch 21 - iter 24/67 - loss 0.14800403 - time (sec): 11.60 - samples/sec: 2340.20 - lr: 0.000625 - momentum: 0.000000\n",
            "2024-11-05 15:37:45,592 epoch 21 - iter 30/67 - loss 0.14484793 - time (sec): 14.52 - samples/sec: 2293.74 - lr: 0.000625 - momentum: 0.000000\n",
            "2024-11-05 15:37:48,761 epoch 21 - iter 36/67 - loss 0.14573261 - time (sec): 17.69 - samples/sec: 2261.16 - lr: 0.000625 - momentum: 0.000000\n",
            "2024-11-05 15:37:51,943 epoch 21 - iter 42/67 - loss 0.14359548 - time (sec): 20.87 - samples/sec: 2286.03 - lr: 0.000625 - momentum: 0.000000\n",
            "2024-11-05 15:37:55,140 epoch 21 - iter 48/67 - loss 0.15056355 - time (sec): 24.06 - samples/sec: 2251.75 - lr: 0.000625 - momentum: 0.000000\n",
            "2024-11-05 15:37:57,043 epoch 21 - iter 54/67 - loss 0.14915594 - time (sec): 25.97 - samples/sec: 2254.31 - lr: 0.000625 - momentum: 0.000000\n",
            "2024-11-05 15:38:00,209 epoch 21 - iter 60/67 - loss 0.15070117 - time (sec): 29.13 - samples/sec: 2249.56 - lr: 0.000625 - momentum: 0.000000\n",
            "2024-11-05 15:38:02,914 epoch 21 - iter 66/67 - loss 0.15188960 - time (sec): 31.84 - samples/sec: 2235.78 - lr: 0.000625 - momentum: 0.000000\n",
            "2024-11-05 15:38:03,365 ----------------------------------------------------------------------------------------------------\n",
            "2024-11-05 15:38:03,366 EPOCH 21 done: loss 0.1537 - lr: 0.000625\n"
          ]
        },
        {
          "output_type": "stream",
          "name": "stderr",
          "text": [
            "100%|██████████| 1/1 [00:03<00:00,  3.47s/it]"
          ]
        },
        {
          "output_type": "stream",
          "name": "stdout",
          "text": [
            "2024-11-05 15:38:06,895 DEV : loss 0.6315482258796692 - f1-score (micro avg)  0.0\n",
            "2024-11-05 15:38:06,921  - 4 epochs without improvement (above 'patience')-> annealing learning_rate to [0.0003125]\n",
            "2024-11-05 15:38:06,926 ----------------------------------------------------------------------------------------------------\n"
          ]
        },
        {
          "output_type": "stream",
          "name": "stderr",
          "text": [
            "\n"
          ]
        },
        {
          "output_type": "stream",
          "name": "stdout",
          "text": [
            "2024-11-05 15:38:10,544 epoch 22 - iter 6/67 - loss 0.18313066 - time (sec): 3.62 - samples/sec: 1869.15 - lr: 0.000313 - momentum: 0.000000\n",
            "2024-11-05 15:38:14,505 epoch 22 - iter 12/67 - loss 0.15113194 - time (sec): 7.58 - samples/sec: 2091.62 - lr: 0.000313 - momentum: 0.000000\n",
            "2024-11-05 15:38:17,369 epoch 22 - iter 18/67 - loss 0.14498192 - time (sec): 10.44 - samples/sec: 2036.05 - lr: 0.000313 - momentum: 0.000000\n",
            "2024-11-05 15:38:20,658 epoch 22 - iter 24/67 - loss 0.14121115 - time (sec): 13.73 - samples/sec: 2147.54 - lr: 0.000313 - momentum: 0.000000\n",
            "2024-11-05 15:38:24,389 epoch 22 - iter 30/67 - loss 0.14120764 - time (sec): 17.46 - samples/sec: 2125.05 - lr: 0.000313 - momentum: 0.000000\n",
            "2024-11-05 15:38:26,616 epoch 22 - iter 36/67 - loss 0.14402434 - time (sec): 19.69 - samples/sec: 2198.06 - lr: 0.000313 - momentum: 0.000000\n",
            "2024-11-05 15:38:29,435 epoch 22 - iter 42/67 - loss 0.14440703 - time (sec): 22.51 - samples/sec: 2208.12 - lr: 0.000313 - momentum: 0.000000\n",
            "2024-11-05 15:38:31,332 epoch 22 - iter 48/67 - loss 0.14450377 - time (sec): 24.40 - samples/sec: 2221.02 - lr: 0.000313 - momentum: 0.000000\n",
            "2024-11-05 15:38:33,840 epoch 22 - iter 54/67 - loss 0.14790234 - time (sec): 26.91 - samples/sec: 2237.53 - lr: 0.000313 - momentum: 0.000000\n",
            "2024-11-05 15:38:36,624 epoch 22 - iter 60/67 - loss 0.14971563 - time (sec): 29.70 - samples/sec: 2247.67 - lr: 0.000313 - momentum: 0.000000\n",
            "2024-11-05 15:38:39,218 epoch 22 - iter 66/67 - loss 0.15082433 - time (sec): 32.29 - samples/sec: 2233.32 - lr: 0.000313 - momentum: 0.000000\n",
            "2024-11-05 15:38:39,546 ----------------------------------------------------------------------------------------------------\n",
            "2024-11-05 15:38:39,547 EPOCH 22 done: loss 0.1511 - lr: 0.000313\n"
          ]
        },
        {
          "output_type": "stream",
          "name": "stderr",
          "text": [
            "100%|██████████| 1/1 [00:03<00:00,  3.14s/it]"
          ]
        },
        {
          "output_type": "stream",
          "name": "stdout",
          "text": [
            "2024-11-05 15:38:42,727 DEV : loss 0.6313691735267639 - f1-score (micro avg)  0.0\n",
            "2024-11-05 15:38:42,742  - 1 epochs without improvement\n",
            "2024-11-05 15:38:42,743 ----------------------------------------------------------------------------------------------------\n"
          ]
        },
        {
          "output_type": "stream",
          "name": "stderr",
          "text": [
            "\n"
          ]
        },
        {
          "output_type": "stream",
          "name": "stdout",
          "text": [
            "2024-11-05 15:38:45,433 epoch 23 - iter 6/67 - loss 0.15983058 - time (sec): 2.69 - samples/sec: 2334.52 - lr: 0.000313 - momentum: 0.000000\n",
            "2024-11-05 15:38:48,492 epoch 23 - iter 12/67 - loss 0.14894269 - time (sec): 5.74 - samples/sec: 2218.75 - lr: 0.000313 - momentum: 0.000000\n",
            "2024-11-05 15:38:51,427 epoch 23 - iter 18/67 - loss 0.14610205 - time (sec): 8.68 - samples/sec: 2301.47 - lr: 0.000313 - momentum: 0.000000\n",
            "2024-11-05 15:38:53,985 epoch 23 - iter 24/67 - loss 0.15554429 - time (sec): 11.24 - samples/sec: 2319.85 - lr: 0.000313 - momentum: 0.000000\n",
            "2024-11-05 15:38:56,869 epoch 23 - iter 30/67 - loss 0.15260993 - time (sec): 14.12 - samples/sec: 2291.59 - lr: 0.000313 - momentum: 0.000000\n",
            "2024-11-05 15:38:59,596 epoch 23 - iter 36/67 - loss 0.15170744 - time (sec): 16.85 - samples/sec: 2245.75 - lr: 0.000313 - momentum: 0.000000\n",
            "2024-11-05 15:39:02,335 epoch 23 - iter 42/67 - loss 0.15025642 - time (sec): 19.59 - samples/sec: 2279.79 - lr: 0.000313 - momentum: 0.000000\n",
            "2024-11-05 15:39:06,311 epoch 23 - iter 48/67 - loss 0.14726742 - time (sec): 23.56 - samples/sec: 2235.10 - lr: 0.000313 - momentum: 0.000000\n",
            "2024-11-05 15:39:09,173 epoch 23 - iter 54/67 - loss 0.14584451 - time (sec): 26.42 - samples/sec: 2232.32 - lr: 0.000313 - momentum: 0.000000\n",
            "2024-11-05 15:39:12,080 epoch 23 - iter 60/67 - loss 0.14867062 - time (sec): 29.33 - samples/sec: 2253.67 - lr: 0.000313 - momentum: 0.000000\n",
            "2024-11-05 15:39:14,932 epoch 23 - iter 66/67 - loss 0.15140082 - time (sec): 32.18 - samples/sec: 2235.44 - lr: 0.000313 - momentum: 0.000000\n",
            "2024-11-05 15:39:15,415 ----------------------------------------------------------------------------------------------------\n",
            "2024-11-05 15:39:15,416 EPOCH 23 done: loss 0.1509 - lr: 0.000313\n"
          ]
        },
        {
          "output_type": "stream",
          "name": "stderr",
          "text": [
            "100%|██████████| 1/1 [00:03<00:00,  3.37s/it]"
          ]
        },
        {
          "output_type": "stream",
          "name": "stdout",
          "text": [
            "2024-11-05 15:39:18,843 DEV : loss 0.6314675807952881 - f1-score (micro avg)  0.0\n",
            "2024-11-05 15:39:18,872  - 2 epochs without improvement\n",
            "2024-11-05 15:39:18,874 ----------------------------------------------------------------------------------------------------\n"
          ]
        },
        {
          "output_type": "stream",
          "name": "stderr",
          "text": [
            "\n"
          ]
        },
        {
          "output_type": "stream",
          "name": "stdout",
          "text": [
            "2024-11-05 15:39:22,090 epoch 24 - iter 6/67 - loss 0.14888257 - time (sec): 3.21 - samples/sec: 2237.38 - lr: 0.000313 - momentum: 0.000000\n",
            "2024-11-05 15:39:24,697 epoch 24 - iter 12/67 - loss 0.13230346 - time (sec): 5.82 - samples/sec: 2224.42 - lr: 0.000313 - momentum: 0.000000\n",
            "2024-11-05 15:39:26,997 epoch 24 - iter 18/67 - loss 0.14545243 - time (sec): 8.12 - samples/sec: 2200.72 - lr: 0.000313 - momentum: 0.000000\n",
            "2024-11-05 15:39:30,228 epoch 24 - iter 24/67 - loss 0.14311769 - time (sec): 11.35 - samples/sec: 2323.15 - lr: 0.000313 - momentum: 0.000000\n",
            "2024-11-05 15:39:32,057 epoch 24 - iter 30/67 - loss 0.14932632 - time (sec): 13.18 - samples/sec: 2315.58 - lr: 0.000313 - momentum: 0.000000\n",
            "2024-11-05 15:39:34,664 epoch 24 - iter 36/67 - loss 0.15022074 - time (sec): 15.78 - samples/sec: 2312.49 - lr: 0.000313 - momentum: 0.000000\n",
            "2024-11-05 15:39:37,413 epoch 24 - iter 42/67 - loss 0.15244170 - time (sec): 18.53 - samples/sec: 2343.13 - lr: 0.000313 - momentum: 0.000000\n",
            "2024-11-05 15:39:40,641 epoch 24 - iter 48/67 - loss 0.15166216 - time (sec): 21.76 - samples/sec: 2367.87 - lr: 0.000313 - momentum: 0.000000\n",
            "2024-11-05 15:39:43,937 epoch 24 - iter 54/67 - loss 0.15342065 - time (sec): 25.06 - samples/sec: 2326.92 - lr: 0.000313 - momentum: 0.000000\n",
            "2024-11-05 15:39:46,755 epoch 24 - iter 60/67 - loss 0.15066772 - time (sec): 27.87 - samples/sec: 2330.40 - lr: 0.000313 - momentum: 0.000000\n",
            "2024-11-05 15:39:49,933 epoch 24 - iter 66/67 - loss 0.15015618 - time (sec): 31.05 - samples/sec: 2317.05 - lr: 0.000313 - momentum: 0.000000\n",
            "2024-11-05 15:39:50,491 ----------------------------------------------------------------------------------------------------\n",
            "2024-11-05 15:39:50,498 EPOCH 24 done: loss 0.1499 - lr: 0.000313\n"
          ]
        },
        {
          "output_type": "stream",
          "name": "stderr",
          "text": [
            "100%|██████████| 1/1 [00:03<00:00,  3.10s/it]"
          ]
        },
        {
          "output_type": "stream",
          "name": "stdout",
          "text": [
            "2024-11-05 15:39:53,640 DEV : loss 0.6316413879394531 - f1-score (micro avg)  0.0\n",
            "2024-11-05 15:39:53,656  - 3 epochs without improvement\n",
            "2024-11-05 15:39:53,659 ----------------------------------------------------------------------------------------------------\n"
          ]
        },
        {
          "output_type": "stream",
          "name": "stderr",
          "text": [
            "\n"
          ]
        },
        {
          "output_type": "stream",
          "name": "stdout",
          "text": [
            "2024-11-05 15:39:57,134 epoch 25 - iter 6/67 - loss 0.16550514 - time (sec): 3.47 - samples/sec: 2162.73 - lr: 0.000313 - momentum: 0.000000\n",
            "2024-11-05 15:40:00,712 epoch 25 - iter 12/67 - loss 0.14729823 - time (sec): 7.05 - samples/sec: 2219.56 - lr: 0.000313 - momentum: 0.000000\n",
            "2024-11-05 15:40:03,507 epoch 25 - iter 18/67 - loss 0.15228310 - time (sec): 9.85 - samples/sec: 2189.10 - lr: 0.000313 - momentum: 0.000000\n",
            "2024-11-05 15:40:06,980 epoch 25 - iter 24/67 - loss 0.14325753 - time (sec): 13.32 - samples/sec: 2245.64 - lr: 0.000313 - momentum: 0.000000\n",
            "2024-11-05 15:40:09,596 epoch 25 - iter 30/67 - loss 0.13962497 - time (sec): 15.93 - samples/sec: 2218.36 - lr: 0.000313 - momentum: 0.000000\n",
            "2024-11-05 15:40:12,074 epoch 25 - iter 36/67 - loss 0.14124371 - time (sec): 18.41 - samples/sec: 2181.63 - lr: 0.000313 - momentum: 0.000000\n",
            "2024-11-05 15:40:14,765 epoch 25 - iter 42/67 - loss 0.14504217 - time (sec): 21.10 - samples/sec: 2227.27 - lr: 0.000313 - momentum: 0.000000\n",
            "2024-11-05 15:40:16,971 epoch 25 - iter 48/67 - loss 0.14936381 - time (sec): 23.31 - samples/sec: 2222.59 - lr: 0.000313 - momentum: 0.000000\n",
            "2024-11-05 15:40:19,456 epoch 25 - iter 54/67 - loss 0.14913378 - time (sec): 25.79 - samples/sec: 2274.41 - lr: 0.000313 - momentum: 0.000000\n",
            "2024-11-05 15:40:22,472 epoch 25 - iter 60/67 - loss 0.14891021 - time (sec): 28.81 - samples/sec: 2293.51 - lr: 0.000313 - momentum: 0.000000\n",
            "2024-11-05 15:40:25,277 epoch 25 - iter 66/67 - loss 0.14952156 - time (sec): 31.62 - samples/sec: 2280.89 - lr: 0.000313 - momentum: 0.000000\n",
            "2024-11-05 15:40:25,766 ----------------------------------------------------------------------------------------------------\n",
            "2024-11-05 15:40:25,767 EPOCH 25 done: loss 0.1497 - lr: 0.000313\n"
          ]
        },
        {
          "output_type": "stream",
          "name": "stderr",
          "text": [
            "100%|██████████| 1/1 [00:03<00:00,  3.21s/it]"
          ]
        },
        {
          "output_type": "stream",
          "name": "stdout",
          "text": [
            "2024-11-05 15:40:29,038 DEV : loss 0.630946695804596 - f1-score (micro avg)  0.0\n",
            "2024-11-05 15:40:29,069  - 4 epochs without improvement (above 'patience')-> annealing learning_rate to [0.00015625]\n",
            "2024-11-05 15:40:29,075 ----------------------------------------------------------------------------------------------------\n"
          ]
        },
        {
          "output_type": "stream",
          "name": "stderr",
          "text": [
            "\n"
          ]
        },
        {
          "output_type": "stream",
          "name": "stdout",
          "text": [
            "2024-11-05 15:40:31,417 epoch 26 - iter 6/67 - loss 0.17085557 - time (sec): 2.34 - samples/sec: 2193.03 - lr: 0.000156 - momentum: 0.000000\n",
            "2024-11-05 15:40:33,461 epoch 26 - iter 12/67 - loss 0.14745082 - time (sec): 4.38 - samples/sec: 2291.06 - lr: 0.000156 - momentum: 0.000000\n",
            "2024-11-05 15:40:36,159 epoch 26 - iter 18/67 - loss 0.15430407 - time (sec): 7.08 - samples/sec: 2175.22 - lr: 0.000156 - momentum: 0.000000\n",
            "2024-11-05 15:40:38,708 epoch 26 - iter 24/67 - loss 0.15085757 - time (sec): 9.63 - samples/sec: 2301.93 - lr: 0.000156 - momentum: 0.000000\n",
            "2024-11-05 15:40:42,341 epoch 26 - iter 30/67 - loss 0.15447488 - time (sec): 13.26 - samples/sec: 2269.57 - lr: 0.000156 - momentum: 0.000000\n",
            "2024-11-05 15:40:45,770 epoch 26 - iter 36/67 - loss 0.15249608 - time (sec): 16.69 - samples/sec: 2243.64 - lr: 0.000156 - momentum: 0.000000\n",
            "2024-11-05 15:40:48,829 epoch 26 - iter 42/67 - loss 0.15319983 - time (sec): 19.75 - samples/sec: 2267.19 - lr: 0.000156 - momentum: 0.000000\n",
            "2024-11-05 15:40:52,618 epoch 26 - iter 48/67 - loss 0.14715989 - time (sec): 23.54 - samples/sec: 2314.44 - lr: 0.000156 - momentum: 0.000000\n",
            "2024-11-05 15:40:55,041 epoch 26 - iter 54/67 - loss 0.15018153 - time (sec): 25.96 - samples/sec: 2290.74 - lr: 0.000156 - momentum: 0.000000\n",
            "2024-11-05 15:40:57,559 epoch 26 - iter 60/67 - loss 0.14974492 - time (sec): 28.48 - samples/sec: 2280.40 - lr: 0.000156 - momentum: 0.000000\n",
            "2024-11-05 15:41:00,529 epoch 26 - iter 66/67 - loss 0.14986187 - time (sec): 31.45 - samples/sec: 2282.89 - lr: 0.000156 - momentum: 0.000000\n",
            "2024-11-05 15:41:00,849 ----------------------------------------------------------------------------------------------------\n",
            "2024-11-05 15:41:00,851 EPOCH 26 done: loss 0.1495 - lr: 0.000156\n"
          ]
        },
        {
          "output_type": "stream",
          "name": "stderr",
          "text": [
            "100%|██████████| 1/1 [00:03<00:00,  3.20s/it]"
          ]
        },
        {
          "output_type": "stream",
          "name": "stdout",
          "text": [
            "2024-11-05 15:41:04,097 DEV : loss 0.630808413028717 - f1-score (micro avg)  0.0\n",
            "2024-11-05 15:41:04,112  - 1 epochs without improvement\n",
            "2024-11-05 15:41:04,115 ----------------------------------------------------------------------------------------------------\n"
          ]
        },
        {
          "output_type": "stream",
          "name": "stderr",
          "text": [
            "\n"
          ]
        },
        {
          "output_type": "stream",
          "name": "stdout",
          "text": [
            "2024-11-05 15:41:06,511 epoch 27 - iter 6/67 - loss 0.15872488 - time (sec): 2.39 - samples/sec: 2495.22 - lr: 0.000156 - momentum: 0.000000\n",
            "2024-11-05 15:41:10,071 epoch 27 - iter 12/67 - loss 0.14483705 - time (sec): 5.95 - samples/sec: 2300.72 - lr: 0.000156 - momentum: 0.000000\n",
            "2024-11-05 15:41:12,560 epoch 27 - iter 18/67 - loss 0.15284125 - time (sec): 8.44 - samples/sec: 2265.58 - lr: 0.000156 - momentum: 0.000000\n",
            "2024-11-05 15:41:15,835 epoch 27 - iter 24/67 - loss 0.14157821 - time (sec): 11.72 - samples/sec: 2268.85 - lr: 0.000156 - momentum: 0.000000\n",
            "2024-11-05 15:41:18,303 epoch 27 - iter 30/67 - loss 0.14400370 - time (sec): 14.18 - samples/sec: 2238.72 - lr: 0.000156 - momentum: 0.000000\n",
            "2024-11-05 15:41:20,433 epoch 27 - iter 36/67 - loss 0.14819463 - time (sec): 16.31 - samples/sec: 2202.34 - lr: 0.000156 - momentum: 0.000000\n",
            "2024-11-05 15:41:23,598 epoch 27 - iter 42/67 - loss 0.14323668 - time (sec): 19.48 - samples/sec: 2241.93 - lr: 0.000156 - momentum: 0.000000\n",
            "2024-11-05 15:41:27,168 epoch 27 - iter 48/67 - loss 0.14522280 - time (sec): 23.05 - samples/sec: 2211.55 - lr: 0.000156 - momentum: 0.000000\n",
            "2024-11-05 15:41:30,024 epoch 27 - iter 54/67 - loss 0.14695173 - time (sec): 25.91 - samples/sec: 2219.70 - lr: 0.000156 - momentum: 0.000000\n",
            "2024-11-05 15:41:32,932 epoch 27 - iter 60/67 - loss 0.14604437 - time (sec): 28.81 - samples/sec: 2278.23 - lr: 0.000156 - momentum: 0.000000\n",
            "2024-11-05 15:41:36,145 epoch 27 - iter 66/67 - loss 0.14937170 - time (sec): 32.03 - samples/sec: 2240.91 - lr: 0.000156 - momentum: 0.000000\n",
            "2024-11-05 15:41:36,622 ----------------------------------------------------------------------------------------------------\n",
            "2024-11-05 15:41:36,623 EPOCH 27 done: loss 0.1488 - lr: 0.000156\n"
          ]
        },
        {
          "output_type": "stream",
          "name": "stderr",
          "text": [
            "100%|██████████| 1/1 [00:03<00:00,  3.20s/it]"
          ]
        },
        {
          "output_type": "stream",
          "name": "stdout",
          "text": [
            "2024-11-05 15:41:39,870 DEV : loss 0.6308495402336121 - f1-score (micro avg)  0.0\n",
            "2024-11-05 15:41:39,887  - 2 epochs without improvement\n",
            "2024-11-05 15:41:39,889 ----------------------------------------------------------------------------------------------------\n"
          ]
        },
        {
          "output_type": "stream",
          "name": "stderr",
          "text": [
            "\n"
          ]
        },
        {
          "output_type": "stream",
          "name": "stdout",
          "text": [
            "2024-11-05 15:41:42,871 epoch 28 - iter 6/67 - loss 0.15465099 - time (sec): 2.98 - samples/sec: 2347.19 - lr: 0.000156 - momentum: 0.000000\n",
            "2024-11-05 15:41:45,562 epoch 28 - iter 12/67 - loss 0.15799676 - time (sec): 5.67 - samples/sec: 2288.13 - lr: 0.000156 - momentum: 0.000000\n",
            "2024-11-05 15:41:48,545 epoch 28 - iter 18/67 - loss 0.14978008 - time (sec): 8.65 - samples/sec: 2244.79 - lr: 0.000156 - momentum: 0.000000\n",
            "2024-11-05 15:41:51,086 epoch 28 - iter 24/67 - loss 0.14841287 - time (sec): 11.19 - samples/sec: 2234.98 - lr: 0.000156 - momentum: 0.000000\n",
            "2024-11-05 15:41:53,732 epoch 28 - iter 30/67 - loss 0.14499426 - time (sec): 13.84 - samples/sec: 2332.92 - lr: 0.000156 - momentum: 0.000000\n",
            "2024-11-05 15:41:56,294 epoch 28 - iter 36/67 - loss 0.14463589 - time (sec): 16.40 - samples/sec: 2295.49 - lr: 0.000156 - momentum: 0.000000\n",
            "2024-11-05 15:41:58,731 epoch 28 - iter 42/67 - loss 0.14960771 - time (sec): 18.84 - samples/sec: 2293.04 - lr: 0.000156 - momentum: 0.000000\n",
            "2024-11-05 15:42:01,223 epoch 28 - iter 48/67 - loss 0.15279645 - time (sec): 21.33 - samples/sec: 2299.27 - lr: 0.000156 - momentum: 0.000000\n",
            "2024-11-05 15:42:04,706 epoch 28 - iter 54/67 - loss 0.15044817 - time (sec): 24.81 - samples/sec: 2287.19 - lr: 0.000156 - momentum: 0.000000\n",
            "2024-11-05 15:42:07,650 epoch 28 - iter 60/67 - loss 0.15094255 - time (sec): 27.76 - samples/sec: 2246.86 - lr: 0.000156 - momentum: 0.000000\n",
            "2024-11-05 15:42:12,158 epoch 28 - iter 66/67 - loss 0.14737205 - time (sec): 32.27 - samples/sec: 2212.76 - lr: 0.000156 - momentum: 0.000000\n"
          ]
        }
      ]
    },
    {
      "cell_type": "code",
      "source": [
        "# evaluate model\n",
        "from flair.data import Corpus\n",
        "from flair.datasets import ColumnCorpus\n",
        "from flair.models import SequenceTagger\n",
        "from flair.trainers import ModelTrainer\n",
        "\n",
        "# Load the trained model\n",
        "model = SequenceTagger.load('/content/drive/MyDrive/FYP/Implementation/flair_output/final-model.pt')\n",
        "\n",
        "# Evaluate the model on the test set\n",
        "result = model.evaluate(corpus.test, gold_label_type='ner', mini_batch_size=32)\n",
        "\n",
        "# Print the results\n",
        "# print(\"Evaluation Loss:\", eval_loss)\n",
        "print(result.detailed_results)  # print the precision, recall, and F1-score per entity type"
      ],
      "metadata": {
        "id": "6KT8wj3Lns2c",
        "colab": {
          "base_uri": "https://localhost:8080/"
        },
        "outputId": "b013ae12-75b9-4e96-eb74-cdf841fe0e34"
      },
      "id": "6KT8wj3Lns2c",
      "execution_count": null,
      "outputs": [
        {
          "output_type": "stream",
          "name": "stdout",
          "text": [
            "2024-11-05 14:07:58,501 SequenceTagger predicts: Dictionary with 45 tags: O, S-SKILL, B-SKILL, E-SKILL, I-SKILL, S-JOB, B-JOB, E-JOB, I-JOB, S-WORK, B-WORK, E-WORK, I-WORK, S-COMPANY, B-COMPANY, E-COMPANY, I-COMPANY, S-LOC, B-LOC, E-LOC, I-LOC, S-UNI, B-UNI, E-UNI, I-UNI, S-NAME, B-NAME, E-NAME, I-NAME, S-PHONE, B-PHONE, E-PHONE, I-PHONE, S-DEG, B-DEG, E-DEG, I-DEG, S-STUDY, B-STUDY, E-STUDY, I-STUDY, S-EMAIL, B-EMAIL, E-EMAIL, I-EMAIL\n"
          ]
        },
        {
          "output_type": "stream",
          "name": "stderr",
          "text": [
            "100%|██████████| 3/3 [00:04<00:00,  1.52s/it]"
          ]
        },
        {
          "output_type": "stream",
          "name": "stdout",
          "text": [
            "\n",
            "Results:\n",
            "- F-score (micro) 0.4752\n",
            "- F-score (macro) 0.5364\n",
            "- Accuracy 0.3191\n",
            "\n",
            "By class:\n",
            "              precision    recall  f1-score   support\n",
            "\n",
            "       SKILL     0.3988    0.2582    0.3135       519\n",
            "         JOB     0.4972    0.5933    0.5410       150\n",
            "        WORK     0.6667    0.8819    0.7593       127\n",
            "     COMPANY     0.4403    0.5842    0.5021       101\n",
            "         UNI     0.4490    0.4231    0.4356        52\n",
            "         DEG     0.5000    0.4490    0.4731        49\n",
            "         LOC     0.7333    0.1467    0.2444        75\n",
            "        NAME     0.8529    0.8788    0.8657        33\n",
            "       PHONE     0.8571    0.9375    0.8955        32\n",
            "       EMAIL     0.8462    0.8148    0.8302        27\n",
            "       STUDY     0.5000    0.0208    0.0400        48\n",
            "\n",
            "   micro avg     0.5196    0.4378    0.4752      1213\n",
            "   macro avg     0.6129    0.5444    0.5364      1213\n",
            "weighted avg     0.5078    0.4378    0.4425      1213\n",
            "\n"
          ]
        },
        {
          "output_type": "stream",
          "name": "stderr",
          "text": [
            "\n"
          ]
        }
      ]
    },
    {
      "cell_type": "code",
      "source": [
        "# make prediction\n",
        "import flair\n",
        "model = SequenceTagger.load('/content/drive/MyDrive/FYP/Implementation/flair_output/best-model.pt')\n",
        "resume_text = '''\n",
        "John Doe lives at 1234 Elm Street in Los Angeles, CA 90001. He can be reached at +1 (555) 123-4567 or via email at john.doe@example.com. John is a results-driven software engineer with over 5 years of experience in web development and cloud infrastructure, with strong knowledge of JavaScript, Python, and cloud technologies like AWS and Azure. Currently, he works as a Software Engineer at Google LLC in San Francisco, CA, where he has been employed since August 2019. In this role, he has developed scalable web applications using JavaScript, Node.js, and React, deployed and maintained cloud infrastructure on AWS, reducing downtime by 20%, and led a team of 4 engineers to enhance backend performance by 30%. Previously, he worked as a Junior Developer at Tech Innovators Inc. in Austin, TX, from July 2017 to July 2019, where he created RESTful APIs using Python and Flask, collaborated with front-end developers to build and deploy user-facing applications, and wrote unit and integration tests, improving code coverage by 15%.\n",
        "\n",
        "John holds a Master of Science in Computer Science from the University of California, Berkeley, with a graduation date of May 2017, and a Bachelor of Science in Information Technology from the University of Texas at Austin, graduated in May 2015. His skillset includes proficiency in programming languages like Python, JavaScript, and Java; frameworks such as React, Flask, and Django; cloud platforms including AWS, Google Cloud, and Azure; as well as other tools like Git, Docker, Kubernetes, and SQL. He is certified as an AWS Certified Solutions Architect – Associate, earned in 2020, and as a Google Professional Cloud Architect, earned in 2021'\n",
        "'''\n",
        "sentence = flair.data.Sentence(resume_text.lower())\n",
        "\n",
        "model.predict(sentence)\n",
        "\n",
        "print(sentence.to_tagged_string())"
      ],
      "metadata": {
        "id": "KOYkWF9Anwec",
        "colab": {
          "base_uri": "https://localhost:8080/"
        },
        "outputId": "94040f08-78ec-4348-bd2f-51c7b3bdf166"
      },
      "id": "KOYkWF9Anwec",
      "execution_count": null,
      "outputs": [
        {
          "output_type": "stream",
          "name": "stdout",
          "text": [
            "2024-11-05 14:08:07,854 SequenceTagger predicts: Dictionary with 47 tags: O, S-SKILL, B-SKILL, E-SKILL, I-SKILL, S-JOB, B-JOB, E-JOB, I-JOB, S-WORK, B-WORK, E-WORK, I-WORK, S-COMPANY, B-COMPANY, E-COMPANY, I-COMPANY, S-LOC, B-LOC, E-LOC, I-LOC, S-UNI, B-UNI, E-UNI, I-UNI, S-DEG, B-DEG, E-DEG, I-DEG, S-NAME, B-NAME, E-NAME, I-NAME, S-PHONE, B-PHONE, E-PHONE, I-PHONE, S-STUDY, B-STUDY, E-STUDY, I-STUDY, S-EMAIL, B-EMAIL, E-EMAIL, I-EMAIL, <START>, <STOP>\n",
            "Sentence[326]: \" john doe lives at 1234 elm street in los angeles, ca 90001. he can be reached at +1 (555) 123-4567 or via email at john.doe@example.com. john is a results-driven software engineer with over 5 years of experience in web development and cloud infrastructure, with strong knowledge of javascript, python, and cloud technologies like aws and azure. currently, he works as a software engineer at google llc in san francisco, ca, where he has been employed since august 2019. in this role, he has developed scalable web applications using javascript, node.js, and react, deployed and maintained cloud infrastructure on aws, reducing downtime by 20%, and led a team of 4 engineers to enhance backend performance by 30%. previously, he worked as a junior developer at tech innovators inc. in austin, tx, from july 2017 to july 2019, where he created restful apis using python and flask, collaborated with front-end developers to build and deploy user-facing applications, and wrote unit and integration tests, improving code coverage by 15%.  john holds a master of science in computer science from the university of california, berkeley, with a graduation date of may 2017, and a bachelor of science in information technology from the university of texas at austin, graduated in may 2015. his skillset includes proficiency in programming languages like python, javascript, and java; frameworks such as react, flask, and django; cloud platforms including aws, google cloud, and azure; as well as other tools like git, docker, kubernetes, and sql. he is certified as an aws certified solutions architect – associate, earned in 2020, and as a google professional cloud architect, earned in 2021'\" → [\"doe lives\"/NAME, \"1234 elm\"/NAME, \"los\"/DEG, \"90001\"/DEG, \"555\"/DEG, \"123-4567\"/DEG, \"via\"/DEG, \"at\"/EMAIL, \"john.doe\"/JOB, \"@\"/DEG, \"example.com\"/STUDY, \"john\"/DEG, \"results-driven\"/DEG, \"javascript\"/DEG, \"python\"/DEG, \"cloud\"/DEG, \"aws\"/DEG, \"azure\"/DEG, \"llc\"/DEG, \"francisco\"/DEG, \"2019\"/DEG, \"scalable\"/DEG, \"javascript\"/DEG, \"node.js\"/DEG, \"react\"/DEG, \"cloud\"/DEG, \"aws\"/DEG, \"downtime\"/DEG, \"backend\"/DEG, \"developer\"/DEG, \"innovators inc\"/NAME, \"austin\"/DEG, \"tx\"/DEG, \"2017\"/DEG, \"2019\"/DEG, \"restful apis\"/NAME, \"python\"/DEG, \"flask\"/DEG, \"collaborated\"/DEG, \"front-end\"/DEG, \"user-facing\"/DEG, \"berkeley\"/DEG, \"2017\"/DEG, \"austin\"/DEG, \"graduated\"/DEG, \"2015\"/DEG, \"skillset\"/DEG, \"proficiency\"/DEG, \"python\"/DEG, \"javascript\"/DEG, \"java\"/DEG, \"frameworks\"/DEG, \"react\"/DEG, \"flask\"/DEG, \"django\"/DEG, \"cloud\"/DEG, \"aws\"/DEG, \"cloud\"/DEG, \"azure\"/DEG, \"git\"/DEG, \"docker\"/DEG, \"kubernetes\"/DEG, \"sql\"/DEG, \"aws certified\"/NAME, \"architect\"/DEG, \"associate\"/DEG, \"earned\"/DEG, \"architect\"/DEG, \"earned\"/DEG, \"2021\"/EMAIL, \"'\"/JOB]\n"
          ]
        }
      ]
    },
    {
      "cell_type": "code",
      "source": [
        "from flair.models import SequenceTagger\n",
        "from flair.data import Sentence\n",
        "\n",
        "# Load the pretrained NER model\n",
        "tagger = SequenceTagger.load(\"/content/drive/MyDrive/FYP/Implementation/flair_output/best-model.pt\")\n",
        "# Example text\n",
        "text = \"Apple is looking at buying U.K. startup for $1 billion.\"\n",
        "\n",
        "# Create a Sentence object\n",
        "sentence = Sentence(resume_text)\n",
        "\n",
        "# Predict entities\n",
        "tagger.predict(sentence)\n",
        "\n",
        "# Print the detected entities\n",
        "for entity in sentence.get_spans(\"ner\"):\n",
        "    print(f\"Entity: {entity.text}, Type: {entity.get_label('ner').value}, Confidence: {entity.score}\")\n"
      ],
      "metadata": {
        "colab": {
          "base_uri": "https://localhost:8080/"
        },
        "id": "Eh_ohqkhnuwA",
        "outputId": "78c3de3c-b15d-423c-fbcf-005f51dcee12"
      },
      "id": "Eh_ohqkhnuwA",
      "execution_count": null,
      "outputs": [
        {
          "output_type": "stream",
          "name": "stdout",
          "text": [
            "2024-11-05 14:08:11,394 SequenceTagger predicts: Dictionary with 47 tags: O, S-SKILL, B-SKILL, E-SKILL, I-SKILL, S-JOB, B-JOB, E-JOB, I-JOB, S-WORK, B-WORK, E-WORK, I-WORK, S-COMPANY, B-COMPANY, E-COMPANY, I-COMPANY, S-LOC, B-LOC, E-LOC, I-LOC, S-UNI, B-UNI, E-UNI, I-UNI, S-DEG, B-DEG, E-DEG, I-DEG, S-NAME, B-NAME, E-NAME, I-NAME, S-PHONE, B-PHONE, E-PHONE, I-PHONE, S-STUDY, B-STUDY, E-STUDY, I-STUDY, S-EMAIL, B-EMAIL, E-EMAIL, I-EMAIL, <START>, <STOP>\n",
            "Entity: Doe lives, Type: NAME, Confidence: 0.16702505946159363\n",
            "Entity: 1234 Elm, Type: NAME, Confidence: 0.11599351465702057\n",
            "Entity: Los, Type: DEG, Confidence: 0.18544061481952667\n",
            "Entity: 90001, Type: DEG, Confidence: 0.14748063683509827\n",
            "Entity: 555, Type: DEG, Confidence: 0.11017131805419922\n",
            "Entity: 123-4567, Type: DEG, Confidence: 0.11569119244813919\n",
            "Entity: via, Type: DEG, Confidence: 0.20629706978797913\n",
            "Entity: at, Type: EMAIL, Confidence: 0.19365909695625305\n",
            "Entity: john.doe, Type: JOB, Confidence: 0.10587572306394577\n",
            "Entity: @, Type: DEG, Confidence: 0.1225953996181488\n",
            "Entity: example.com, Type: STUDY, Confidence: 0.10775433480739594\n",
            "Entity: John, Type: DEG, Confidence: 0.1873975694179535\n",
            "Entity: results-driven, Type: DEG, Confidence: 0.1495516300201416\n",
            "Entity: JavaScript, Type: DEG, Confidence: 0.1738281399011612\n",
            "Entity: Python, Type: DEG, Confidence: 0.1625775396823883\n",
            "Entity: cloud, Type: DEG, Confidence: 0.1898547261953354\n",
            "Entity: AWS, Type: DEG, Confidence: 0.1078900545835495\n",
            "Entity: Azure, Type: DEG, Confidence: 0.1390189230442047\n",
            "Entity: LLC, Type: DEG, Confidence: 0.19518113136291504\n",
            "Entity: Francisco, Type: DEG, Confidence: 0.20789998769760132\n",
            "Entity: 2019, Type: DEG, Confidence: 0.1681929975748062\n",
            "Entity: scalable, Type: DEG, Confidence: 0.18266770243644714\n",
            "Entity: JavaScript, Type: DEG, Confidence: 0.16769887506961823\n",
            "Entity: Node.js, Type: DEG, Confidence: 0.11853489279747009\n",
            "Entity: React, Type: DEG, Confidence: 0.20138564705848694\n",
            "Entity: cloud, Type: DEG, Confidence: 0.17859530448913574\n",
            "Entity: AWS, Type: DEG, Confidence: 0.11059108376502991\n",
            "Entity: downtime, Type: DEG, Confidence: 0.15199507772922516\n",
            "Entity: backend, Type: DEG, Confidence: 0.15180251002311707\n",
            "Entity: Developer, Type: DEG, Confidence: 0.200774148106575\n",
            "Entity: Innovators Inc, Type: NAME, Confidence: 0.14714515209197998\n",
            "Entity: Austin, Type: DEG, Confidence: 0.17351219058036804\n",
            "Entity: TX, Type: DEG, Confidence: 0.14547361433506012\n",
            "Entity: 2017, Type: DEG, Confidence: 0.17111483216285706\n",
            "Entity: 2019, Type: DEG, Confidence: 0.1492062658071518\n",
            "Entity: RESTful APIs, Type: NAME, Confidence: 0.12886418029665947\n",
            "Entity: Python, Type: DEG, Confidence: 0.12615029513835907\n",
            "Entity: Flask, Type: DEG, Confidence: 0.11048925668001175\n",
            "Entity: collaborated, Type: DEG, Confidence: 0.1400829404592514\n",
            "Entity: front-end, Type: DEG, Confidence: 0.1426965743303299\n",
            "Entity: user-facing, Type: DEG, Confidence: 0.1417454183101654\n",
            "Entity: Berkeley, Type: DEG, Confidence: 0.21379657089710236\n",
            "Entity: 2017, Type: DEG, Confidence: 0.20121298730373383\n",
            "Entity: Austin, Type: DEG, Confidence: 0.1921633780002594\n",
            "Entity: graduated, Type: DEG, Confidence: 0.19784928858280182\n",
            "Entity: 2015, Type: DEG, Confidence: 0.20958878099918365\n",
            "Entity: skillset, Type: DEG, Confidence: 0.11280574649572372\n",
            "Entity: proficiency, Type: DEG, Confidence: 0.20423416793346405\n",
            "Entity: Python, Type: DEG, Confidence: 0.15512722730636597\n",
            "Entity: JavaScript, Type: DEG, Confidence: 0.1654430627822876\n",
            "Entity: Java, Type: DEG, Confidence: 0.19505003094673157\n",
            "Entity: frameworks, Type: DEG, Confidence: 0.18640774488449097\n",
            "Entity: React, Type: DEG, Confidence: 0.19585756957530975\n",
            "Entity: Flask, Type: DEG, Confidence: 0.10743413120508194\n",
            "Entity: Django, Type: DEG, Confidence: 0.10782385617494583\n",
            "Entity: cloud, Type: DEG, Confidence: 0.15763729810714722\n",
            "Entity: AWS, Type: DEG, Confidence: 0.10634929686784744\n",
            "Entity: Cloud, Type: DEG, Confidence: 0.18283122777938843\n",
            "Entity: Azure, Type: DEG, Confidence: 0.15222297608852386\n",
            "Entity: Git, Type: DEG, Confidence: 0.11355996131896973\n",
            "Entity: Docker, Type: DEG, Confidence: 0.11132988333702087\n",
            "Entity: Kubernetes, Type: DEG, Confidence: 0.11910903453826904\n",
            "Entity: SQL, Type: DEG, Confidence: 0.16887710988521576\n",
            "Entity: AWS Certified, Type: NAME, Confidence: 0.16041680797934532\n",
            "Entity: Architect, Type: DEG, Confidence: 0.1597680151462555\n",
            "Entity: Associate, Type: DEG, Confidence: 0.16229602694511414\n",
            "Entity: earned, Type: DEG, Confidence: 0.21766595542430878\n",
            "Entity: Architect, Type: DEG, Confidence: 0.18512634932994843\n",
            "Entity: earned, Type: DEG, Confidence: 0.16895930469036102\n",
            "Entity: 2021, Type: EMAIL, Confidence: 0.11030236631631851\n",
            "Entity: ', Type: JOB, Confidence: 0.16406425833702087\n"
          ]
        }
      ]
    }
  ],
  "metadata": {
    "kernelspec": {
      "display_name": "Python 3",
      "name": "python3"
    },
    "language_info": {
      "codemirror_mode": {
        "name": "ipython",
        "version": 3
      },
      "file_extension": ".py",
      "mimetype": "text/x-python",
      "name": "python",
      "nbconvert_exporter": "python",
      "pygments_lexer": "ipython3",
      "version": "3.10.0"
    },
    "colab": {
      "provenance": [],
      "gpuType": "T4",
      "include_colab_link": true
    },
    "accelerator": "GPU"
  },
  "nbformat": 4,
  "nbformat_minor": 5
}