{
  "cells": [
    {
      "cell_type": "markdown",
      "id": "ff303122",
      "metadata": {
        "colab_type": "text",
        "id": "view-in-github"
      },
      "source": [
        "<a href=\"https://colab.research.google.com/github/chewzzz1014/fyp/blob/master/ner/src/train_ner_models.ipynb\" target=\"_parent\"><img src=\"https://colab.research.google.com/assets/colab-badge.svg\" alt=\"Open In Colab\"/></a>"
      ]
    },
    {
      "cell_type": "markdown",
      "id": "t0P9v82yDulr",
      "metadata": {
        "id": "t0P9v82yDulr"
      },
      "source": [
        "# Train NER Models"
      ]
    },
    {
      "cell_type": "code",
      "execution_count": null,
      "id": "geBEKXoyCST_",
      "metadata": {
        "id": "geBEKXoyCST_"
      },
      "outputs": [],
      "source": [
        "# mount drive"
      ]
    },
    {
      "cell_type": "code",
      "execution_count": null,
      "id": "z6u95QF1CUke",
      "metadata": {
        "id": "z6u95QF1CUke"
      },
      "outputs": [],
      "source": [
        "# import CONLL2003 annotated dataset"
      ]
    },
    {
      "cell_type": "code",
      "execution_count": null,
      "id": "0hizmfs_DjVd",
      "metadata": {
        "id": "0hizmfs_DjVd"
      },
      "outputs": [],
      "source": [
        "# split into train and test"
      ]
    },
    {
      "cell_type": "markdown",
      "id": "FMM7E6hNCEUv",
      "metadata": {
        "id": "FMM7E6hNCEUv"
      },
      "source": [
        "## Spacy NER"
      ]
    },
    {
      "cell_type": "code",
      "execution_count": 2,
      "id": "572d77b5",
      "metadata": {
        "colab": {
          "base_uri": "https://localhost:8080/"
        },
        "id": "572d77b5",
        "outputId": "5ef5a312-1424-4915-950a-68995f27cb69"
      },
      "outputs": [
        {
          "name": "stdout",
          "output_type": "stream",
          "text": [
            "sample_data\n"
          ]
        }
      ],
      "source": [
        "# create dir to place spacy ner data\n",
        "!mkdir spacy_ner_data\n",
        "\n",
        "# convert CONLL2003 annotation data into spacy data\n",
        "!python -m spacy convert \"train.txt\" spacy_ner_data -c ner\n",
        "!python -m spacy convert \"test.txt\" spacy_ner_data -c ner\n",
        "!python -m spacy convert \"valid.txt\" spacy_ner_data -c ner"
      ]
    },
    {
      "cell_type": "code",
      "execution_count": null,
      "id": "ruPln43fCDLm",
      "metadata": {
        "id": "ruPln43fCDLm"
      },
      "outputs": [],
      "source": [
        "# create base_config.cfg and paste the config generated from spacy widget\n",
        "# update train and test file path\n",
        "!touch base_config.cfg"
      ]
    },
    {
      "cell_type": "code",
      "execution_count": null,
      "id": "0aRjL9jqC-5k",
      "metadata": {
        "id": "0aRjL9jqC-5k"
      },
      "outputs": [],
      "source": [
        "# generate config.cfg from base_config.cfg\n",
        "!python -m spacy init fill-config base_config.cfg config.cfg"
      ]
    },
    {
      "cell_type": "code",
      "execution_count": null,
      "id": "Jav_l46BEDjF",
      "metadata": {
        "id": "Jav_l46BEDjF"
      },
      "outputs": [],
      "source": [
        "# train model using hyperparameters set in config.cfg\n",
        "# trained model in output/ dir\n",
        "!python -m spacy train config.cfg --output ./output"
      ]
    },
    {
      "cell_type": "code",
      "execution_count": null,
      "id": "9sJdwj4GEKTM",
      "metadata": {
        "id": "9sJdwj4GEKTM"
      },
      "outputs": [],
      "source": [
        "# download trained model"
      ]
    }
  ],
  "metadata": {
    "colab": {
      "include_colab_link": true,
      "provenance": []
    },
    "kernelspec": {
      "display_name": "Python 3 (ipykernel)",
      "language": "python",
      "name": "python3"
    },
    "language_info": {
      "codemirror_mode": {
        "name": "ipython",
        "version": 3
      },
      "file_extension": ".py",
      "mimetype": "text/x-python",
      "name": "python",
      "nbconvert_exporter": "python",
      "pygments_lexer": "ipython3",
      "version": "3.10.0"
    }
  },
  "nbformat": 4,
  "nbformat_minor": 5
}
