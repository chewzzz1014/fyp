{
  "cells": [
    {
      "cell_type": "markdown",
      "metadata": {
        "id": "view-in-github",
        "colab_type": "text"
      },
      "source": [
        "<a href=\"https://colab.research.google.com/github/chewzzz1014/fyp/blob/master/ner/src/train_ner_models.ipynb\" target=\"_parent\"><img src=\"https://colab.research.google.com/assets/colab-badge.svg\" alt=\"Open In Colab\"/></a>"
      ]
    },
    {
      "cell_type": "markdown",
      "source": [
        "# Train NER Models"
      ],
      "metadata": {
        "id": "t0P9v82yDulr"
      },
      "id": "t0P9v82yDulr"
    },
    {
      "cell_type": "code",
      "source": [
        "# mount drive\n",
        "from google.colab import drive\n",
        "drive.mount('/content/drive')"
      ],
      "metadata": {
        "id": "5YToyjV-40ZV",
        "outputId": "3a573f31-a6ec-4b54-9889-ee4b3f4c3d98",
        "colab": {
          "base_uri": "https://localhost:8080/"
        }
      },
      "id": "5YToyjV-40ZV",
      "execution_count": 1,
      "outputs": [
        {
          "output_type": "stream",
          "name": "stdout",
          "text": [
            "Mounted at /content/drive\n"
          ]
        }
      ]
    },
    {
      "cell_type": "code",
      "source": [
        "!mkdir spacy_ner_data"
      ],
      "metadata": {
        "id": "VtZ7OFQtpG4-"
      },
      "id": "VtZ7OFQtpG4-",
      "execution_count": 2,
      "outputs": []
    },
    {
      "cell_type": "markdown",
      "source": [
        "## Spacy NER"
      ],
      "metadata": {
        "id": "FMM7E6hNCEUv"
      },
      "id": "FMM7E6hNCEUv"
    },
    {
      "cell_type": "code",
      "source": [
        "# load json and convert into spacy format\n",
        "\n",
        "import json\n",
        "import random\n",
        "from sklearn.model_selection import train_test_split\n",
        "import spacy\n",
        "from spacy.tokens import DocBin\n",
        "\n",
        "# load JSON data from Drive\n",
        "with open('/content/drive/MyDrive/FYP/Implementation/Resume Dataset/445_resumes_annotated.json', \"r\") as f:\n",
        "    data = json.load(f)\n",
        "\n",
        "# remove overlapped entities (one word has >1 entitiy)\n",
        "def remove_overlapping_entities(entities):\n",
        "    \"\"\"Remove overlapping entities from the list.\"\"\"\n",
        "    # sort entities by start position\n",
        "    entities = sorted(entities, key=lambda x: x[0])\n",
        "    non_overlapping = []\n",
        "    last_end = -1\n",
        "    for start, end, label in entities:\n",
        "        # only add to list if there's no overlap with the previous entity\n",
        "        if start >= last_end:\n",
        "            non_overlapping.append((start, end, label))\n",
        "            last_end = end\n",
        "    return non_overlapping\n",
        "\n",
        "# convert JSON data to Spacy's DocBin format\n",
        "def convert_to_spacy_format(data):\n",
        "    # load a blank Spacy model\n",
        "    nlp = spacy.blank(\"en\")\n",
        "    # container for our docs\n",
        "    doc_bin = DocBin()\n",
        "\n",
        "    for item in data:\n",
        "        # full document text\n",
        "        text = item['data']['Text']\n",
        "        entities = []\n",
        "\n",
        "        for annotation in item['annotations'][0]['result']:\n",
        "            start = annotation['value']['start']\n",
        "            end = annotation['value']['end']\n",
        "            label = annotation['value']['labels'][0]\n",
        "            entities.append((start, end, label))\n",
        "\n",
        "        # remove overlapping entities\n",
        "        entities = remove_overlapping_entities(entities)\n",
        "        # create a Spacy doc and add entities to it\n",
        "        doc = nlp.make_doc(text)\n",
        "        spans = [doc.char_span(start, end, label=label) for start, end, label in entities]\n",
        "        # filter out None spans if Spacy can't align the character indices with tokens\n",
        "        spans = [span for span in spans if span is not None]\n",
        "        # assign entities to the doc\n",
        "        doc.ents = spans\n",
        "        doc_bin.add(doc)\n",
        "\n",
        "    return doc_bin\n",
        "\n",
        "# split data into train and test sets\n",
        "train_data, test_data = train_test_split(data, test_size=0.2, random_state=42)\n",
        "\n",
        "# convert train and test sets to Spacy format\n",
        "train_doc_bin = convert_to_spacy_format(train_data)\n",
        "test_doc_bin = convert_to_spacy_format(test_data)\n",
        "\n",
        "# save the train and test data to .spacy files in current runtime\n",
        "train_doc_bin.to_disk(\"spacy_ner_data/train_data.spacy\")\n",
        "test_doc_bin.to_disk(\"spacy_ner_data/test_data.spacy\")"
      ],
      "metadata": {
        "id": "R-8QBDX3gtkp"
      },
      "id": "R-8QBDX3gtkp",
      "execution_count": 3,
      "outputs": []
    },
    {
      "cell_type": "code",
      "source": [
        "# check the distribution of entitiy labels\n",
        "\n",
        "import spacy\n",
        "from spacy.lang.en import English\n",
        "from spacy.tokens import DocBin\n",
        "\n",
        "# count number of label entities\n",
        "def count_entity_labels(file_path):\n",
        "    # load data from file_path and create DocBin\n",
        "    doc_bin = DocBin().from_disk(file_path)\n",
        "    label_counts = {}\n",
        "    for doc in doc_bin.get_docs(English().vocab):\n",
        "        # count occurence of label\n",
        "        for ent in doc.ents:\n",
        "            label = ent.label_\n",
        "            label_counts[label] = label_counts.get(label, 0) + 1\n",
        "    return label_counts\n",
        "\n",
        "# calculate and print label distribution in train and test data\n",
        "# sorted from largest to smallest\n",
        "train_label_counts = count_entity_labels(\"spacy_ner_data/train_data.spacy\")\n",
        "sorted_train_label_counts = sorted(train_label_counts.items(), key=lambda x: x[1], reverse=True)\n",
        "print(\"Train Data Entity Label Distribution:\")\n",
        "for label, count in sorted_train_label_counts:\n",
        "    print(f\"{label}: {count}\")\n",
        "\n",
        "test_label_counts = count_entity_labels(\"spacy_ner_data/test_data.spacy\")\n",
        "sorted_test_label_counts = sorted(test_label_counts.items(), key=lambda x: x[1], reverse=True)\n",
        "print(\"\\nTest Data Entity Label Distribution:\")\n",
        "for label, count in sorted_test_label_counts:\n",
        "    print(f\"{label}: {count}\")"
      ],
      "metadata": {
        "colab": {
          "base_uri": "https://localhost:8080/"
        },
        "id": "iNbbPSw4i_fw",
        "outputId": "ac744b3d-9bbf-4ba8-8fef-462bb3dbdcc4"
      },
      "id": "iNbbPSw4i_fw",
      "execution_count": 4,
      "outputs": [
        {
          "output_type": "stream",
          "name": "stdout",
          "text": [
            "Train Data Entity Label Distribution:\n",
            "SKILL: 4969\n",
            "JOB: 1475\n",
            "WORK PER: 1108\n",
            "COMPANY: 990\n",
            "LOC: 943\n",
            "UNI: 422\n",
            "DEG: 406\n",
            "NAME: 363\n",
            "PHONE: 341\n",
            "STUDY PER: 337\n",
            "EMAIL: 297\n",
            "\n",
            "Test Data Entity Label Distribution:\n",
            "SKILL: 1295\n",
            "JOB: 371\n",
            "WORK PER: 272\n",
            "LOC: 223\n",
            "COMPANY: 212\n",
            "UNI: 109\n",
            "DEG: 103\n",
            "STUDY PER: 90\n",
            "NAME: 84\n",
            "PHONE: 82\n",
            "EMAIL: 67\n"
          ]
        }
      ]
    },
    {
      "cell_type": "code",
      "source": [
        "# create base_config.cfg and paste the config generated from spacy widget\n",
        "# need to update train and test file path\n",
        "!touch base_config.cfg"
      ],
      "metadata": {
        "id": "ruPln43fCDLm"
      },
      "id": "ruPln43fCDLm",
      "execution_count": 5,
      "outputs": []
    },
    {
      "cell_type": "code",
      "source": [
        "# generate config.cfg from base_config.cfg\n",
        "!python -m spacy init fill-config base_config.cfg config.cfg"
      ],
      "metadata": {
        "id": "0aRjL9jqC-5k",
        "colab": {
          "base_uri": "https://localhost:8080/"
        },
        "outputId": "83ae78d2-00bb-417c-aa0e-bd1b7bde3749"
      },
      "id": "0aRjL9jqC-5k",
      "execution_count": 6,
      "outputs": [
        {
          "output_type": "stream",
          "name": "stdout",
          "text": [
            "\u001b[38;5;2m✔ Auto-filled config with all values\u001b[0m\n",
            "\u001b[38;5;2m✔ Saved config\u001b[0m\n",
            "config.cfg\n",
            "You can now add your data and train your pipeline:\n",
            "python -m spacy train config.cfg --paths.train ./train.spacy --paths.dev ./dev.spacy\n"
          ]
        }
      ]
    },
    {
      "cell_type": "code",
      "source": [
        "# vector used for spacy ner\n",
        "!python -m spacy download en_core_web_lg"
      ],
      "metadata": {
        "colab": {
          "base_uri": "https://localhost:8080/"
        },
        "id": "9wb_aBw9X2NU",
        "outputId": "b5ee50dd-6f5c-49ad-a7c5-60b768ce64f6"
      },
      "id": "9wb_aBw9X2NU",
      "execution_count": 7,
      "outputs": [
        {
          "output_type": "stream",
          "name": "stdout",
          "text": [
            "Collecting en-core-web-lg==3.7.1\n",
            "  Downloading https://github.com/explosion/spacy-models/releases/download/en_core_web_lg-3.7.1/en_core_web_lg-3.7.1-py3-none-any.whl (587.7 MB)\n",
            "\u001b[2K     \u001b[90m━━━━━━━━━━━━━━━━━━━━━━━━━━━━━━━━━━━━━━━━\u001b[0m \u001b[32m587.7/587.7 MB\u001b[0m \u001b[31m2.8 MB/s\u001b[0m eta \u001b[36m0:00:00\u001b[0m\n",
            "\u001b[?25hRequirement already satisfied: spacy<3.8.0,>=3.7.2 in /usr/local/lib/python3.10/dist-packages (from en-core-web-lg==3.7.1) (3.7.5)\n",
            "Requirement already satisfied: spacy-legacy<3.1.0,>=3.0.11 in /usr/local/lib/python3.10/dist-packages (from spacy<3.8.0,>=3.7.2->en-core-web-lg==3.7.1) (3.0.12)\n",
            "Requirement already satisfied: spacy-loggers<2.0.0,>=1.0.0 in /usr/local/lib/python3.10/dist-packages (from spacy<3.8.0,>=3.7.2->en-core-web-lg==3.7.1) (1.0.5)\n",
            "Requirement already satisfied: murmurhash<1.1.0,>=0.28.0 in /usr/local/lib/python3.10/dist-packages (from spacy<3.8.0,>=3.7.2->en-core-web-lg==3.7.1) (1.0.10)\n",
            "Requirement already satisfied: cymem<2.1.0,>=2.0.2 in /usr/local/lib/python3.10/dist-packages (from spacy<3.8.0,>=3.7.2->en-core-web-lg==3.7.1) (2.0.8)\n",
            "Requirement already satisfied: preshed<3.1.0,>=3.0.2 in /usr/local/lib/python3.10/dist-packages (from spacy<3.8.0,>=3.7.2->en-core-web-lg==3.7.1) (3.0.9)\n",
            "Requirement already satisfied: thinc<8.3.0,>=8.2.2 in /usr/local/lib/python3.10/dist-packages (from spacy<3.8.0,>=3.7.2->en-core-web-lg==3.7.1) (8.2.5)\n",
            "Requirement already satisfied: wasabi<1.2.0,>=0.9.1 in /usr/local/lib/python3.10/dist-packages (from spacy<3.8.0,>=3.7.2->en-core-web-lg==3.7.1) (1.1.3)\n",
            "Requirement already satisfied: srsly<3.0.0,>=2.4.3 in /usr/local/lib/python3.10/dist-packages (from spacy<3.8.0,>=3.7.2->en-core-web-lg==3.7.1) (2.4.8)\n",
            "Requirement already satisfied: catalogue<2.1.0,>=2.0.6 in /usr/local/lib/python3.10/dist-packages (from spacy<3.8.0,>=3.7.2->en-core-web-lg==3.7.1) (2.0.10)\n",
            "Requirement already satisfied: weasel<0.5.0,>=0.1.0 in /usr/local/lib/python3.10/dist-packages (from spacy<3.8.0,>=3.7.2->en-core-web-lg==3.7.1) (0.4.1)\n",
            "Requirement already satisfied: typer<1.0.0,>=0.3.0 in /usr/local/lib/python3.10/dist-packages (from spacy<3.8.0,>=3.7.2->en-core-web-lg==3.7.1) (0.12.5)\n",
            "Requirement already satisfied: tqdm<5.0.0,>=4.38.0 in /usr/local/lib/python3.10/dist-packages (from spacy<3.8.0,>=3.7.2->en-core-web-lg==3.7.1) (4.66.6)\n",
            "Requirement already satisfied: requests<3.0.0,>=2.13.0 in /usr/local/lib/python3.10/dist-packages (from spacy<3.8.0,>=3.7.2->en-core-web-lg==3.7.1) (2.32.3)\n",
            "Requirement already satisfied: pydantic!=1.8,!=1.8.1,<3.0.0,>=1.7.4 in /usr/local/lib/python3.10/dist-packages (from spacy<3.8.0,>=3.7.2->en-core-web-lg==3.7.1) (2.9.2)\n",
            "Requirement already satisfied: jinja2 in /usr/local/lib/python3.10/dist-packages (from spacy<3.8.0,>=3.7.2->en-core-web-lg==3.7.1) (3.1.4)\n",
            "Requirement already satisfied: setuptools in /usr/local/lib/python3.10/dist-packages (from spacy<3.8.0,>=3.7.2->en-core-web-lg==3.7.1) (75.1.0)\n",
            "Requirement already satisfied: packaging>=20.0 in /usr/local/lib/python3.10/dist-packages (from spacy<3.8.0,>=3.7.2->en-core-web-lg==3.7.1) (24.1)\n",
            "Requirement already satisfied: langcodes<4.0.0,>=3.2.0 in /usr/local/lib/python3.10/dist-packages (from spacy<3.8.0,>=3.7.2->en-core-web-lg==3.7.1) (3.4.1)\n",
            "Requirement already satisfied: numpy>=1.19.0 in /usr/local/lib/python3.10/dist-packages (from spacy<3.8.0,>=3.7.2->en-core-web-lg==3.7.1) (1.26.4)\n",
            "Requirement already satisfied: language-data>=1.2 in /usr/local/lib/python3.10/dist-packages (from langcodes<4.0.0,>=3.2.0->spacy<3.8.0,>=3.7.2->en-core-web-lg==3.7.1) (1.2.0)\n",
            "Requirement already satisfied: annotated-types>=0.6.0 in /usr/local/lib/python3.10/dist-packages (from pydantic!=1.8,!=1.8.1,<3.0.0,>=1.7.4->spacy<3.8.0,>=3.7.2->en-core-web-lg==3.7.1) (0.7.0)\n",
            "Requirement already satisfied: pydantic-core==2.23.4 in /usr/local/lib/python3.10/dist-packages (from pydantic!=1.8,!=1.8.1,<3.0.0,>=1.7.4->spacy<3.8.0,>=3.7.2->en-core-web-lg==3.7.1) (2.23.4)\n",
            "Requirement already satisfied: typing-extensions>=4.6.1 in /usr/local/lib/python3.10/dist-packages (from pydantic!=1.8,!=1.8.1,<3.0.0,>=1.7.4->spacy<3.8.0,>=3.7.2->en-core-web-lg==3.7.1) (4.12.2)\n",
            "Requirement already satisfied: charset-normalizer<4,>=2 in /usr/local/lib/python3.10/dist-packages (from requests<3.0.0,>=2.13.0->spacy<3.8.0,>=3.7.2->en-core-web-lg==3.7.1) (3.4.0)\n",
            "Requirement already satisfied: idna<4,>=2.5 in /usr/local/lib/python3.10/dist-packages (from requests<3.0.0,>=2.13.0->spacy<3.8.0,>=3.7.2->en-core-web-lg==3.7.1) (3.10)\n",
            "Requirement already satisfied: urllib3<3,>=1.21.1 in /usr/local/lib/python3.10/dist-packages (from requests<3.0.0,>=2.13.0->spacy<3.8.0,>=3.7.2->en-core-web-lg==3.7.1) (2.2.3)\n",
            "Requirement already satisfied: certifi>=2017.4.17 in /usr/local/lib/python3.10/dist-packages (from requests<3.0.0,>=2.13.0->spacy<3.8.0,>=3.7.2->en-core-web-lg==3.7.1) (2024.8.30)\n",
            "Requirement already satisfied: blis<0.8.0,>=0.7.8 in /usr/local/lib/python3.10/dist-packages (from thinc<8.3.0,>=8.2.2->spacy<3.8.0,>=3.7.2->en-core-web-lg==3.7.1) (0.7.11)\n",
            "Requirement already satisfied: confection<1.0.0,>=0.0.1 in /usr/local/lib/python3.10/dist-packages (from thinc<8.3.0,>=8.2.2->spacy<3.8.0,>=3.7.2->en-core-web-lg==3.7.1) (0.1.5)\n",
            "Requirement already satisfied: click>=8.0.0 in /usr/local/lib/python3.10/dist-packages (from typer<1.0.0,>=0.3.0->spacy<3.8.0,>=3.7.2->en-core-web-lg==3.7.1) (8.1.7)\n",
            "Requirement already satisfied: shellingham>=1.3.0 in /usr/local/lib/python3.10/dist-packages (from typer<1.0.0,>=0.3.0->spacy<3.8.0,>=3.7.2->en-core-web-lg==3.7.1) (1.5.4)\n",
            "Requirement already satisfied: rich>=10.11.0 in /usr/local/lib/python3.10/dist-packages (from typer<1.0.0,>=0.3.0->spacy<3.8.0,>=3.7.2->en-core-web-lg==3.7.1) (13.9.4)\n",
            "Requirement already satisfied: cloudpathlib<1.0.0,>=0.7.0 in /usr/local/lib/python3.10/dist-packages (from weasel<0.5.0,>=0.1.0->spacy<3.8.0,>=3.7.2->en-core-web-lg==3.7.1) (0.20.0)\n",
            "Requirement already satisfied: smart-open<8.0.0,>=5.2.1 in /usr/local/lib/python3.10/dist-packages (from weasel<0.5.0,>=0.1.0->spacy<3.8.0,>=3.7.2->en-core-web-lg==3.7.1) (7.0.5)\n",
            "Requirement already satisfied: MarkupSafe>=2.0 in /usr/local/lib/python3.10/dist-packages (from jinja2->spacy<3.8.0,>=3.7.2->en-core-web-lg==3.7.1) (3.0.2)\n",
            "Requirement already satisfied: marisa-trie>=0.7.7 in /usr/local/lib/python3.10/dist-packages (from language-data>=1.2->langcodes<4.0.0,>=3.2.0->spacy<3.8.0,>=3.7.2->en-core-web-lg==3.7.1) (1.2.1)\n",
            "Requirement already satisfied: markdown-it-py>=2.2.0 in /usr/local/lib/python3.10/dist-packages (from rich>=10.11.0->typer<1.0.0,>=0.3.0->spacy<3.8.0,>=3.7.2->en-core-web-lg==3.7.1) (3.0.0)\n",
            "Requirement already satisfied: pygments<3.0.0,>=2.13.0 in /usr/local/lib/python3.10/dist-packages (from rich>=10.11.0->typer<1.0.0,>=0.3.0->spacy<3.8.0,>=3.7.2->en-core-web-lg==3.7.1) (2.18.0)\n",
            "Requirement already satisfied: wrapt in /usr/local/lib/python3.10/dist-packages (from smart-open<8.0.0,>=5.2.1->weasel<0.5.0,>=0.1.0->spacy<3.8.0,>=3.7.2->en-core-web-lg==3.7.1) (1.16.0)\n",
            "Requirement already satisfied: mdurl~=0.1 in /usr/local/lib/python3.10/dist-packages (from markdown-it-py>=2.2.0->rich>=10.11.0->typer<1.0.0,>=0.3.0->spacy<3.8.0,>=3.7.2->en-core-web-lg==3.7.1) (0.1.2)\n",
            "Installing collected packages: en-core-web-lg\n",
            "Successfully installed en-core-web-lg-3.7.1\n",
            "\u001b[38;5;2m✔ Download and installation successful\u001b[0m\n",
            "You can now load the package via spacy.load('en_core_web_lg')\n",
            "\u001b[38;5;3m⚠ Restart to reload dependencies\u001b[0m\n",
            "If you are in a Jupyter or Colab notebook, you may need to restart Python in\n",
            "order to load all the package's dependencies. You can do this by selecting the\n",
            "'Restart kernel' or 'Restart runtime' option.\n"
          ]
        }
      ]
    },
    {
      "cell_type": "code",
      "source": [
        "# train model using hyperparameters set in config.cfg\n",
        "# save trained model in spacy-output/ dir\n",
        "\n",
        "# using cpu\n",
        "# !python -m spacy train config.cfg --output ./spacy_output\n",
        "\n",
        "# using gpu\n",
        "!python -m spacy train config.cfg --gpu-id 0 --output ./spacy_output\n",
        "\n",
        "# save output dir into drive\n",
        "!cp -r ./spacy_output /content/drive/MyDrive/FYP/Implementation/"
      ],
      "metadata": {
        "id": "Jav_l46BEDjF",
        "outputId": "652b8b66-20e1-4d56-bb23-3691af2568dd",
        "colab": {
          "base_uri": "https://localhost:8080/"
        }
      },
      "id": "Jav_l46BEDjF",
      "execution_count": 8,
      "outputs": [
        {
          "output_type": "stream",
          "name": "stdout",
          "text": [
            "\u001b[38;5;2m✔ Created output directory: spacy_output\u001b[0m\n",
            "\u001b[38;5;4mℹ Saving to output directory: spacy_output\u001b[0m\n",
            "\u001b[38;5;4mℹ Using GPU: 0\u001b[0m\n",
            "\u001b[1m\n",
            "=========================== Initializing pipeline ===========================\u001b[0m\n",
            "\u001b[38;5;2m✔ Initialized pipeline\u001b[0m\n",
            "\u001b[1m\n",
            "============================= Training pipeline =============================\u001b[0m\n",
            "\u001b[38;5;4mℹ Pipeline: ['tok2vec', 'ner']\u001b[0m\n",
            "\u001b[38;5;4mℹ Initial learn rate: 0.0001\u001b[0m\n",
            "E    #       LOSS TOK2VEC  LOSS NER  ENTS_F  ENTS_P  ENTS_R  SCORE \n",
            "---  ------  ------------  --------  ------  ------  ------  ------\n",
            "  0       0          0.00    313.35    0.00    0.00    0.00    0.00\n",
            "  1     500        370.12  41099.79   18.66   41.10   12.07    0.19\n",
            "  2    1000        144.29  25436.52   43.54   52.06   37.41    0.44\n",
            "  4    1500        110.11  21728.42   46.32   63.42   36.49    0.46\n",
            "  5    2000        117.39  20147.01   53.74   61.14   47.94    0.54\n",
            "  7    2500        129.03  19823.69   53.41   68.57   43.74    0.53\n",
            "  8    3000        134.53  18193.32   56.98   62.37   52.44    0.57\n",
            "  9    3500        143.55  17491.75   58.14   65.76   52.10    0.58\n",
            " 11    4000        154.15  17226.72   59.56   64.39   55.40    0.60\n",
            " 12    4500        155.47  16199.24   59.94   61.80   58.18    0.60\n",
            " 14    5000        158.27  15728.44   59.44   64.07   55.43    0.59\n",
            " 15    5500        166.52  15621.70   60.61   62.46   58.87    0.61\n",
            " 16    6000        175.66  14596.01   59.09   70.50   50.86    0.59\n",
            " 18    6500        182.26  14186.73   60.26   65.25   55.98    0.60\n",
            " 19    7000        188.04  13988.80   57.16   62.04   52.99    0.57\n",
            "\u001b[38;5;2m✔ Saved pipeline to output directory\u001b[0m\n",
            "spacy_output/model-last\n"
          ]
        }
      ]
    },
    {
      "cell_type": "code",
      "source": [
        "# evaluate trained model performance\n",
        "# store output and visualization into result/ dir\n",
        "!python -m spacy evaluate spacy_output/model-best spacy_ner_data/test_data.spacy -dp spacy_output"
      ],
      "metadata": {
        "id": "V2wzIOsWJgkG",
        "colab": {
          "base_uri": "https://localhost:8080/"
        },
        "outputId": "f2ca07a6-1e91-4d4c-a2c7-d989eba80317"
      },
      "id": "V2wzIOsWJgkG",
      "execution_count": 9,
      "outputs": [
        {
          "output_type": "stream",
          "name": "stdout",
          "text": [
            "\u001b[38;5;4mℹ Using CPU\u001b[0m\n",
            "\u001b[38;5;4mℹ To switch to GPU 0, use the option: --gpu-id 0\u001b[0m\n",
            "\u001b[1m\n",
            "================================== Results ==================================\u001b[0m\n",
            "\n",
            "TOK     100.00\n",
            "NER P   62.46 \n",
            "NER R   58.87 \n",
            "NER F   60.61 \n",
            "SPEED   1053  \n",
            "\n",
            "\u001b[1m\n",
            "=============================== NER (per type) ===============================\u001b[0m\n",
            "\n",
            "                P       R       F\n",
            "JOB         60.52   62.80   61.64\n",
            "LOC         60.95   74.89   67.20\n",
            "PHONE       95.77   82.93   88.89\n",
            "EMAIL       86.36   85.07   85.71\n",
            "WORK PER    83.68   88.60   86.07\n",
            "COMPANY     56.56   65.09   60.53\n",
            "STUDY PER   72.83   74.44   73.63\n",
            "UNI         60.31   72.48   65.83\n",
            "DEG         76.42   78.64   77.51\n",
            "SKILL       50.25   39.00   43.91\n",
            "NAME        96.20   90.48   93.25\n",
            "\n",
            "<IPython.core.display.HTML object>\n",
            "Traceback (most recent call last):\n",
            "  File \"/usr/lib/python3.10/runpy.py\", line 196, in _run_module_as_main\n",
            "    return _run_code(code, main_globals, None,\n",
            "  File \"/usr/lib/python3.10/runpy.py\", line 86, in _run_code\n",
            "    exec(code, run_globals)\n",
            "  File \"/usr/local/lib/python3.10/dist-packages/spacy/__main__.py\", line 4, in <module>\n",
            "    setup_cli()\n",
            "  File \"/usr/local/lib/python3.10/dist-packages/spacy/cli/_util.py\", line 87, in setup_cli\n",
            "    command(prog_name=COMMAND)\n",
            "  File \"/usr/local/lib/python3.10/dist-packages/click/core.py\", line 1157, in __call__\n",
            "    return self.main(*args, **kwargs)\n",
            "  File \"/usr/local/lib/python3.10/dist-packages/typer/core.py\", line 728, in main\n",
            "    return _main(\n",
            "  File \"/usr/local/lib/python3.10/dist-packages/typer/core.py\", line 197, in _main\n",
            "    rv = self.invoke(ctx)\n",
            "  File \"/usr/local/lib/python3.10/dist-packages/click/core.py\", line 1688, in invoke\n",
            "    return _process_result(sub_ctx.command.invoke(sub_ctx))\n",
            "  File \"/usr/local/lib/python3.10/dist-packages/click/core.py\", line 1434, in invoke\n",
            "    return ctx.invoke(self.callback, **ctx.params)\n",
            "  File \"/usr/local/lib/python3.10/dist-packages/click/core.py\", line 783, in invoke\n",
            "    return __callback(*args, **kwargs)\n",
            "  File \"/usr/local/lib/python3.10/dist-packages/typer/main.py\", line 703, in wrapper\n",
            "    return callback(**use_params)\n",
            "  File \"/usr/local/lib/python3.10/dist-packages/spacy/cli/evaluate.py\", line 47, in evaluate_cli\n",
            "    evaluate(\n",
            "  File \"/usr/local/lib/python3.10/dist-packages/spacy/cli/evaluate.py\", line 141, in evaluate\n",
            "    render_parses(\n",
            "  File \"/usr/local/lib/python3.10/dist-packages/spacy/cli/evaluate.py\", line 208, in render_parses\n",
            "    file_.write(html)\n",
            "TypeError: write() argument must be str, not None\n"
          ]
        }
      ]
    },
    {
      "cell_type": "code",
      "source": [
        "# make prediction\n",
        "\n",
        "import spacy\n",
        "import string\n",
        "\n",
        "resume_text = '''\n",
        "John Doe lives at 1234 Elm Street in Los Angeles, CA 90001. He can be reached at +1 (555) 123-4567 or via email at john.doe@example.com. John is a results-driven software engineer with over 5 years of experience in web development and cloud infrastructure, with strong knowledge of JavaScript, Python, and cloud technologies like AWS and Azure. Currently, he works as a Software Engineer at Google LLC in San Francisco, CA, where he has been employed since August 2019. In this role, he has developed scalable web applications using JavaScript, Node.js, and React, deployed and maintained cloud infrastructure on AWS, reducing downtime by 20%, and led a team of 4 engineers to enhance backend performance by 30%. Previously, he worked as a Junior Developer at Tech Innovators Inc. in Austin, TX, from July 2017 to July 2019, where he created RESTful APIs using Python and Flask, collaborated with front-end developers to build and deploy user-facing applications, and wrote unit and integration tests, improving code coverage by 15%.\n",
        "\n",
        "John holds a Master of Science in Computer Science from the University of California, Berkeley, with a graduation date of May 2017, and a Bachelor of Science in Information Technology from the University of Texas at Austin, graduated in May 2015. His skillset includes proficiency in programming languages like Python, JavaScript, and Java; frameworks such as React, Flask, and Django; cloud platforms including AWS, Google Cloud, and Azure; as well as other tools like Git, Docker, Kubernetes, and SQL. He is certified as an AWS Certified Solutions Architect – Associate, earned in 2020, and as a Google Professional Cloud Architect, earned in 2021'\n",
        "'''\n",
        "\n",
        "# convert text into small letter then remove punctuation\n",
        "resume_text = resume_text.lower()\n",
        "resume_text = resume_text.translate(str.maketrans('', '', string.punctuation))\n",
        "\n",
        "# load trained model\n",
        "nlp = spacy.load(\"/content/drive/MyDrive/FYP/Implementation/spacy_output/model-best\")\n",
        "\n",
        "# create a Spacy doc and add text to it\n",
        "doc = nlp(resume_text.lower())\n",
        "\n",
        "# print predicted entities in text\n",
        "for ent in doc.ents:\n",
        "    print(f\"{ent.text}: {ent.label_}\")\n",
        "\n",
        "# visualize predicted entities using displacy\n",
        "from spacy import displacy\n",
        "displacy.render(doc, style=\"ent\", jupyter=True)"
      ],
      "metadata": {
        "colab": {
          "base_uri": "https://localhost:8080/",
          "height": 1000
        },
        "id": "UXAlZZkEeeMc",
        "outputId": "44a45007-28cb-4c52-ba69-3e8bc9eacf1f"
      },
      "id": "UXAlZZkEeeMc",
      "execution_count": 9,
      "outputs": [
        {
          "output_type": "stream",
          "name": "stdout",
          "text": [
            "john doe: NAME\n",
            "los angeles: LOC\n",
            "1 555 1234567: PHONE\n",
            "johndoeexamplecom: EMAIL\n",
            "software engineer: JOB\n",
            "python: SKILL\n",
            "as a software engineer: JOB\n",
            "at google llc: COMPANY\n",
            "san francisco: LOC\n",
            "as a junior developer: JOB\n",
            "at tech innovators inc: COMPANY\n",
            "in austin: LOC\n",
            "july 2017 to july 2019: WORK PER\n",
            "master of science: DEG\n",
            "in computer science: DEG\n",
            "from the university: UNI\n",
            "berkeley: LOC\n",
            "bachelor of science: DEG\n",
            "from the university: UNI\n",
            "at: LOC\n",
            "may 2015: STUDY PER\n",
            "python: SKILL\n",
            "javascript: SKILL\n",
            "git: SKILL\n",
            "docker: SKILL\n",
            "kubernetes: SKILL\n",
            "solutions architect: JOB\n",
            "cloud architect: JOB\n"
          ]
        },
        {
          "output_type": "display_data",
          "data": {
            "text/plain": [
              "<IPython.core.display.HTML object>"
            ],
            "text/html": [
              "<span class=\"tex2jax_ignore\"><div class=\"entities\" style=\"line-height: 2.5; direction: ltr\"><br>\n",
              "<mark class=\"entity\" style=\"background: #ddd; padding: 0.45em 0.6em; margin: 0 0.25em; line-height: 1; border-radius: 0.35em;\">\n",
              "    john doe\n",
              "    <span style=\"font-size: 0.8em; font-weight: bold; line-height: 1; border-radius: 0.35em; vertical-align: middle; margin-left: 0.5rem\">NAME</span>\n",
              "</mark>\n",
              " lives at 1234 elm street in \n",
              "<mark class=\"entity\" style=\"background: #ff9561; padding: 0.45em 0.6em; margin: 0 0.25em; line-height: 1; border-radius: 0.35em;\">\n",
              "    los angeles\n",
              "    <span style=\"font-size: 0.8em; font-weight: bold; line-height: 1; border-radius: 0.35em; vertical-align: middle; margin-left: 0.5rem\">LOC</span>\n",
              "</mark>\n",
              " ca 90001 he can be reached at \n",
              "<mark class=\"entity\" style=\"background: #ddd; padding: 0.45em 0.6em; margin: 0 0.25em; line-height: 1; border-radius: 0.35em;\">\n",
              "    1 555 1234567\n",
              "    <span style=\"font-size: 0.8em; font-weight: bold; line-height: 1; border-radius: 0.35em; vertical-align: middle; margin-left: 0.5rem\">PHONE</span>\n",
              "</mark>\n",
              " or via email at \n",
              "<mark class=\"entity\" style=\"background: #ddd; padding: 0.45em 0.6em; margin: 0 0.25em; line-height: 1; border-radius: 0.35em;\">\n",
              "    johndoeexamplecom\n",
              "    <span style=\"font-size: 0.8em; font-weight: bold; line-height: 1; border-radius: 0.35em; vertical-align: middle; margin-left: 0.5rem\">EMAIL</span>\n",
              "</mark>\n",
              " john is a resultsdriven \n",
              "<mark class=\"entity\" style=\"background: #ddd; padding: 0.45em 0.6em; margin: 0 0.25em; line-height: 1; border-radius: 0.35em;\">\n",
              "    software engineer\n",
              "    <span style=\"font-size: 0.8em; font-weight: bold; line-height: 1; border-radius: 0.35em; vertical-align: middle; margin-left: 0.5rem\">JOB</span>\n",
              "</mark>\n",
              " with over 5 years of experience in web development and cloud infrastructure with strong knowledge of javascript \n",
              "<mark class=\"entity\" style=\"background: #ddd; padding: 0.45em 0.6em; margin: 0 0.25em; line-height: 1; border-radius: 0.35em;\">\n",
              "    python\n",
              "    <span style=\"font-size: 0.8em; font-weight: bold; line-height: 1; border-radius: 0.35em; vertical-align: middle; margin-left: 0.5rem\">SKILL</span>\n",
              "</mark>\n",
              " and cloud technologies like aws and azure currently he works \n",
              "<mark class=\"entity\" style=\"background: #ddd; padding: 0.45em 0.6em; margin: 0 0.25em; line-height: 1; border-radius: 0.35em;\">\n",
              "    as a software engineer\n",
              "    <span style=\"font-size: 0.8em; font-weight: bold; line-height: 1; border-radius: 0.35em; vertical-align: middle; margin-left: 0.5rem\">JOB</span>\n",
              "</mark>\n",
              " \n",
              "<mark class=\"entity\" style=\"background: #ddd; padding: 0.45em 0.6em; margin: 0 0.25em; line-height: 1; border-radius: 0.35em;\">\n",
              "    at google llc\n",
              "    <span style=\"font-size: 0.8em; font-weight: bold; line-height: 1; border-radius: 0.35em; vertical-align: middle; margin-left: 0.5rem\">COMPANY</span>\n",
              "</mark>\n",
              " in \n",
              "<mark class=\"entity\" style=\"background: #ff9561; padding: 0.45em 0.6em; margin: 0 0.25em; line-height: 1; border-radius: 0.35em;\">\n",
              "    san francisco\n",
              "    <span style=\"font-size: 0.8em; font-weight: bold; line-height: 1; border-radius: 0.35em; vertical-align: middle; margin-left: 0.5rem\">LOC</span>\n",
              "</mark>\n",
              " ca where he has been employed since august 2019 in this role he has developed scalable web applications using javascript nodejs and react deployed and maintained cloud infrastructure on aws reducing downtime by 20 and led a team of 4 engineers to enhance backend performance by 30 previously he worked \n",
              "<mark class=\"entity\" style=\"background: #ddd; padding: 0.45em 0.6em; margin: 0 0.25em; line-height: 1; border-radius: 0.35em;\">\n",
              "    as a junior developer\n",
              "    <span style=\"font-size: 0.8em; font-weight: bold; line-height: 1; border-radius: 0.35em; vertical-align: middle; margin-left: 0.5rem\">JOB</span>\n",
              "</mark>\n",
              " \n",
              "<mark class=\"entity\" style=\"background: #ddd; padding: 0.45em 0.6em; margin: 0 0.25em; line-height: 1; border-radius: 0.35em;\">\n",
              "    at tech innovators inc\n",
              "    <span style=\"font-size: 0.8em; font-weight: bold; line-height: 1; border-radius: 0.35em; vertical-align: middle; margin-left: 0.5rem\">COMPANY</span>\n",
              "</mark>\n",
              " \n",
              "<mark class=\"entity\" style=\"background: #ff9561; padding: 0.45em 0.6em; margin: 0 0.25em; line-height: 1; border-radius: 0.35em;\">\n",
              "    in austin\n",
              "    <span style=\"font-size: 0.8em; font-weight: bold; line-height: 1; border-radius: 0.35em; vertical-align: middle; margin-left: 0.5rem\">LOC</span>\n",
              "</mark>\n",
              " tx from \n",
              "<mark class=\"entity\" style=\"background: #ddd; padding: 0.45em 0.6em; margin: 0 0.25em; line-height: 1; border-radius: 0.35em;\">\n",
              "    july 2017 to july 2019\n",
              "    <span style=\"font-size: 0.8em; font-weight: bold; line-height: 1; border-radius: 0.35em; vertical-align: middle; margin-left: 0.5rem\">WORK PER</span>\n",
              "</mark>\n",
              " where he created restful apis using python and flask collaborated with frontend developers to build and deploy userfacing applications and wrote unit and integration tests improving code coverage by 15<br><br>john holds a \n",
              "<mark class=\"entity\" style=\"background: #ddd; padding: 0.45em 0.6em; margin: 0 0.25em; line-height: 1; border-radius: 0.35em;\">\n",
              "    master of science\n",
              "    <span style=\"font-size: 0.8em; font-weight: bold; line-height: 1; border-radius: 0.35em; vertical-align: middle; margin-left: 0.5rem\">DEG</span>\n",
              "</mark>\n",
              " \n",
              "<mark class=\"entity\" style=\"background: #ddd; padding: 0.45em 0.6em; margin: 0 0.25em; line-height: 1; border-radius: 0.35em;\">\n",
              "    in computer science\n",
              "    <span style=\"font-size: 0.8em; font-weight: bold; line-height: 1; border-radius: 0.35em; vertical-align: middle; margin-left: 0.5rem\">DEG</span>\n",
              "</mark>\n",
              " \n",
              "<mark class=\"entity\" style=\"background: #ddd; padding: 0.45em 0.6em; margin: 0 0.25em; line-height: 1; border-radius: 0.35em;\">\n",
              "    from the university\n",
              "    <span style=\"font-size: 0.8em; font-weight: bold; line-height: 1; border-radius: 0.35em; vertical-align: middle; margin-left: 0.5rem\">UNI</span>\n",
              "</mark>\n",
              " of california \n",
              "<mark class=\"entity\" style=\"background: #ff9561; padding: 0.45em 0.6em; margin: 0 0.25em; line-height: 1; border-radius: 0.35em;\">\n",
              "    berkeley\n",
              "    <span style=\"font-size: 0.8em; font-weight: bold; line-height: 1; border-radius: 0.35em; vertical-align: middle; margin-left: 0.5rem\">LOC</span>\n",
              "</mark>\n",
              " with a graduation date of may 2017 and a \n",
              "<mark class=\"entity\" style=\"background: #ddd; padding: 0.45em 0.6em; margin: 0 0.25em; line-height: 1; border-radius: 0.35em;\">\n",
              "    bachelor of science\n",
              "    <span style=\"font-size: 0.8em; font-weight: bold; line-height: 1; border-radius: 0.35em; vertical-align: middle; margin-left: 0.5rem\">DEG</span>\n",
              "</mark>\n",
              " in information technology \n",
              "<mark class=\"entity\" style=\"background: #ddd; padding: 0.45em 0.6em; margin: 0 0.25em; line-height: 1; border-radius: 0.35em;\">\n",
              "    from the university\n",
              "    <span style=\"font-size: 0.8em; font-weight: bold; line-height: 1; border-radius: 0.35em; vertical-align: middle; margin-left: 0.5rem\">UNI</span>\n",
              "</mark>\n",
              " of texas \n",
              "<mark class=\"entity\" style=\"background: #ff9561; padding: 0.45em 0.6em; margin: 0 0.25em; line-height: 1; border-radius: 0.35em;\">\n",
              "    at\n",
              "    <span style=\"font-size: 0.8em; font-weight: bold; line-height: 1; border-radius: 0.35em; vertical-align: middle; margin-left: 0.5rem\">LOC</span>\n",
              "</mark>\n",
              " austin graduated in \n",
              "<mark class=\"entity\" style=\"background: #ddd; padding: 0.45em 0.6em; margin: 0 0.25em; line-height: 1; border-radius: 0.35em;\">\n",
              "    may 2015\n",
              "    <span style=\"font-size: 0.8em; font-weight: bold; line-height: 1; border-radius: 0.35em; vertical-align: middle; margin-left: 0.5rem\">STUDY PER</span>\n",
              "</mark>\n",
              " his skillset includes proficiency in programming languages like \n",
              "<mark class=\"entity\" style=\"background: #ddd; padding: 0.45em 0.6em; margin: 0 0.25em; line-height: 1; border-radius: 0.35em;\">\n",
              "    python\n",
              "    <span style=\"font-size: 0.8em; font-weight: bold; line-height: 1; border-radius: 0.35em; vertical-align: middle; margin-left: 0.5rem\">SKILL</span>\n",
              "</mark>\n",
              " \n",
              "<mark class=\"entity\" style=\"background: #ddd; padding: 0.45em 0.6em; margin: 0 0.25em; line-height: 1; border-radius: 0.35em;\">\n",
              "    javascript\n",
              "    <span style=\"font-size: 0.8em; font-weight: bold; line-height: 1; border-radius: 0.35em; vertical-align: middle; margin-left: 0.5rem\">SKILL</span>\n",
              "</mark>\n",
              " and java frameworks such as react flask and django cloud platforms including aws google cloud and azure as well as other tools like \n",
              "<mark class=\"entity\" style=\"background: #ddd; padding: 0.45em 0.6em; margin: 0 0.25em; line-height: 1; border-radius: 0.35em;\">\n",
              "    git\n",
              "    <span style=\"font-size: 0.8em; font-weight: bold; line-height: 1; border-radius: 0.35em; vertical-align: middle; margin-left: 0.5rem\">SKILL</span>\n",
              "</mark>\n",
              " \n",
              "<mark class=\"entity\" style=\"background: #ddd; padding: 0.45em 0.6em; margin: 0 0.25em; line-height: 1; border-radius: 0.35em;\">\n",
              "    docker\n",
              "    <span style=\"font-size: 0.8em; font-weight: bold; line-height: 1; border-radius: 0.35em; vertical-align: middle; margin-left: 0.5rem\">SKILL</span>\n",
              "</mark>\n",
              " \n",
              "<mark class=\"entity\" style=\"background: #ddd; padding: 0.45em 0.6em; margin: 0 0.25em; line-height: 1; border-radius: 0.35em;\">\n",
              "    kubernetes\n",
              "    <span style=\"font-size: 0.8em; font-weight: bold; line-height: 1; border-radius: 0.35em; vertical-align: middle; margin-left: 0.5rem\">SKILL</span>\n",
              "</mark>\n",
              " and sql he is certified as an aws certified \n",
              "<mark class=\"entity\" style=\"background: #ddd; padding: 0.45em 0.6em; margin: 0 0.25em; line-height: 1; border-radius: 0.35em;\">\n",
              "    solutions architect\n",
              "    <span style=\"font-size: 0.8em; font-weight: bold; line-height: 1; border-radius: 0.35em; vertical-align: middle; margin-left: 0.5rem\">JOB</span>\n",
              "</mark>\n",
              " – associate earned in 2020 and as a google professional \n",
              "<mark class=\"entity\" style=\"background: #ddd; padding: 0.45em 0.6em; margin: 0 0.25em; line-height: 1; border-radius: 0.35em;\">\n",
              "    cloud architect\n",
              "    <span style=\"font-size: 0.8em; font-weight: bold; line-height: 1; border-radius: 0.35em; vertical-align: middle; margin-left: 0.5rem\">JOB</span>\n",
              "</mark>\n",
              " earned in 2021<br></div></span>"
            ]
          },
          "metadata": {}
        }
      ]
    },
    {
      "cell_type": "code",
      "source": [
        "# make prediction\n",
        "\n",
        "import spacy\n",
        "import string\n",
        "\n",
        "resume_text = '''\n",
        "Zi Qing Chew\n",
        "chewziqing@gmail.com | 016-2892475 | Kuala Lumpur, Malaysia | linkedin.com/in/ziqingchew | github.com/chewzzz1014\n",
        "EDUCATION\n",
        "\n",
        "Universiti Putra Malaysia\t\t\t\t\t                                                   Oct 2021 - Current\n",
        "Bachelor in Computer Science with Honours\n",
        "Expected to graduate in July 2025. CGPA: 3.99\n",
        "\n",
        "WORK EXPERIENCE\n",
        "\n",
        "Ant International \t\t\t\t\t\t\t\t\t          \tJuly 2024 – Oct 2024\n",
        "Java Engineer Intern\t\t\t\t\t\t\t                               Kuala Lumpur, Malaysia\n",
        "Collaborated in developing an audit logging feature for Ant Group’s internal Foreign Exchange (FX) trade strategy system that records changes made by business users to trade strategies.\n",
        "Conducted comprehensive system analysis and project planning, delivering presentations to project stakeholders and QA teams prior to the development phase.\n",
        "Utilised Ant Group’s internal frameworks, middleware, and tools to implement the audit logging feature.\n",
        "Skills: Java, Spring, Sofaboot, Ant Group internal middlewares (ZDAL, DRM, Ant Scheduler, Msg Broker)\n",
        "Howuku  \t\t\t\t\t\t\t\t\t          \t             Feb 2023 – Sep 2023\n",
        "Software Developer Intern\t\t\t\t\t\t\t                    Kuala Lumpur, Malaysia\n",
        "Developed and optimized A/B testing features, including code editor and previewer for CSS and JavaScript modifications for experiment variations.\n",
        "Expanded A/B testing targeting rule by incorporating website visitor's OS, device, and browser rules.\n",
        "Automated experiment-stopping criteria and email notifications based on user-defined experiment termination conditions.\n",
        "Collaborated with cross-functional teams to debug, troubleshoot, and enhance Howuku platform features based on user feedback and performance data.\n",
        "Skills: JavaScript, Bootstrap, Vue.js, Express.js, MySQL\n",
        "\n",
        "PROJECTS\n",
        "\n",
        "Personal Portfolio Website (chewzzz1014.github.io/portfolio-website)\n",
        "Designed, developed and deployed personalised portfolio website featuring skills, selected projects, and downloadable resume.\n",
        "Skills: JavaScript, React.js, CSS, Bootstrap\n",
        "Depression Level Detection Chatbot (https://github.com/chewzzz1014/health-ease-project)\n",
        "Developed machine learning application that evaluates a message's depression level and provided tailored mental health advice and information based on the depression severity.\n",
        "Skills: Python, pandas, scikit-learn, Keras, FastAPI, Gradio\n",
        "Clothing Store Website (https://github.com/chewzzz1014/CSC3402-MVC-Project)\n",
        "Worked in team to build a CRUD Spring Boot application with attractive interfaces, data persistence, authentication and authorisation.\n",
        "Developed the backend of the application that involves querying the database, building REST endpoints and implementing Thymeleaf in HTML for dynamic contents.\n",
        "Skills: Spring Boot, Spring MVC, Thymeleaf, Hibernate, Bootstrap\n",
        "\n",
        "SKILLS\n",
        "Programming Languages: Java, Python, HTML, CSS, JavaScript, MySQL, OracleSQL\n",
        "Frameworks and Libraries: Spring, Spring Boot, TypeScript, Node.js, Express.js, React.js, Vue.js, Bootstrap, Tailwind CSS\n",
        "Tools: Git, Github, Jira, Tableau, Excel, Jupyter Notebook, Google Colab, VSCode, IntelliJ\n",
        "'''\n",
        "\n",
        "# convert text into small letter then remove punctuation\n",
        "resume_text = resume_text.lower()\n",
        "resume_text = resume_text.translate(str.maketrans('', '', string.punctuation))\n",
        "\n",
        "# load trained model\n",
        "nlp = spacy.load(\"/content/drive/MyDrive/FYP/Implementation/spacy_output/model-best\")\n",
        "\n",
        "# create a Spacy doc and add text to it\n",
        "doc = nlp(resume_text.lower())\n",
        "\n",
        "from spacy import displacy\n",
        "displacy.render(doc, style=\"ent\", jupyter=True)"
      ],
      "metadata": {
        "id": "H8YjohdI6_QJ",
        "outputId": "c74f88cd-2935-4182-f0e6-e648a34fa396",
        "colab": {
          "base_uri": "https://localhost:8080/",
          "height": 1000
        }
      },
      "id": "H8YjohdI6_QJ",
      "execution_count": 3,
      "outputs": [
        {
          "output_type": "display_data",
          "data": {
            "text/plain": [
              "<IPython.core.display.HTML object>"
            ],
            "text/html": [
              "<span class=\"tex2jax_ignore\"><div class=\"entities\" style=\"line-height: 2.5; direction: ltr\"><br>zi \n",
              "<mark class=\"entity\" style=\"background: #ddd; padding: 0.45em 0.6em; margin: 0 0.25em; line-height: 1; border-radius: 0.35em;\">\n",
              "    qing chew\n",
              "    <span style=\"font-size: 0.8em; font-weight: bold; line-height: 1; border-radius: 0.35em; vertical-align: middle; margin-left: 0.5rem\">NAME</span>\n",
              "</mark>\n",
              "<br>chewziqinggmailcom  \n",
              "<mark class=\"entity\" style=\"background: #ddd; padding: 0.45em 0.6em; margin: 0 0.25em; line-height: 1; border-radius: 0.35em;\">\n",
              "    0162892475\n",
              "    <span style=\"font-size: 0.8em; font-weight: bold; line-height: 1; border-radius: 0.35em; vertical-align: middle; margin-left: 0.5rem\">WORK PER</span>\n",
              "</mark>\n",
              "  kuala lumpur malaysia  linkedincominziqingchew  githubcomchewzzz1014<br>education<br>\t<br>universiti putra malaysia\t\t\t\t\t                                                   \n",
              "<mark class=\"entity\" style=\"background: #ddd; padding: 0.45em 0.6em; margin: 0 0.25em; line-height: 1; border-radius: 0.35em;\">\n",
              "    oct 2021\n",
              "    <span style=\"font-size: 0.8em; font-weight: bold; line-height: 1; border-radius: 0.35em; vertical-align: middle; margin-left: 0.5rem\">WORK PER</span>\n",
              "</mark>\n",
              "  current <br>\n",
              "<mark class=\"entity\" style=\"background: #ddd; padding: 0.45em 0.6em; margin: 0 0.25em; line-height: 1; border-radius: 0.35em;\">\n",
              "    bachelor in computer science\n",
              "    <span style=\"font-size: 0.8em; font-weight: bold; line-height: 1; border-radius: 0.35em; vertical-align: middle; margin-left: 0.5rem\">DEG</span>\n",
              "</mark>\n",
              " with honours<br>expected to graduate in july 2025 cgpa 399<br><br>work experience <br><br>ant international \t\t\t\t\t\t\t\t\t          \t\n",
              "<mark class=\"entity\" style=\"background: #ddd; padding: 0.45em 0.6em; margin: 0 0.25em; line-height: 1; border-radius: 0.35em;\">\n",
              "    july 2024\n",
              "    <span style=\"font-size: 0.8em; font-weight: bold; line-height: 1; border-radius: 0.35em; vertical-align: middle; margin-left: 0.5rem\">WORK PER</span>\n",
              "</mark>\n",
              " – \n",
              "<mark class=\"entity\" style=\"background: #ddd; padding: 0.45em 0.6em; margin: 0 0.25em; line-height: 1; border-radius: 0.35em;\">\n",
              "    oct 2024\n",
              "    <span style=\"font-size: 0.8em; font-weight: bold; line-height: 1; border-radius: 0.35em; vertical-align: middle; margin-left: 0.5rem\">WORK PER</span>\n",
              "</mark>\n",
              "<br>\n",
              "<mark class=\"entity\" style=\"background: #ddd; padding: 0.45em 0.6em; margin: 0 0.25em; line-height: 1; border-radius: 0.35em;\">\n",
              "    java engineer intern\n",
              "    <span style=\"font-size: 0.8em; font-weight: bold; line-height: 1; border-radius: 0.35em; vertical-align: middle; margin-left: 0.5rem\">JOB</span>\n",
              "</mark>\n",
              "\t\t\t\t\t\t\t                               kuala lumpur malaysia<br>collaborated in developing an audit logging feature for ant group’s internal foreign exchange fx trade strategy system that records changes made by business users to trade strategies<br>conducted comprehensive system analysis and project planning delivering presentations to project stakeholders and qa teams prior to the development phase<br>utilised ant group’s internal frameworks middleware and tools to implement the audit logging feature<br>skills \n",
              "<mark class=\"entity\" style=\"background: #ddd; padding: 0.45em 0.6em; margin: 0 0.25em; line-height: 1; border-radius: 0.35em;\">\n",
              "    java\n",
              "    <span style=\"font-size: 0.8em; font-weight: bold; line-height: 1; border-radius: 0.35em; vertical-align: middle; margin-left: 0.5rem\">SKILL</span>\n",
              "</mark>\n",
              " \n",
              "<mark class=\"entity\" style=\"background: #ddd; padding: 0.45em 0.6em; margin: 0 0.25em; line-height: 1; border-radius: 0.35em;\">\n",
              "    spring\n",
              "    <span style=\"font-size: 0.8em; font-weight: bold; line-height: 1; border-radius: 0.35em; vertical-align: middle; margin-left: 0.5rem\">SKILL</span>\n",
              "</mark>\n",
              " sofaboot ant group internal middlewares zdal drm ant scheduler \n",
              "<mark class=\"entity\" style=\"background: #ddd; padding: 0.45em 0.6em; margin: 0 0.25em; line-height: 1; border-radius: 0.35em;\">\n",
              "    msg broker\n",
              "    <span style=\"font-size: 0.8em; font-weight: bold; line-height: 1; border-radius: 0.35em; vertical-align: middle; margin-left: 0.5rem\">JOB</span>\n",
              "</mark>\n",
              "<br>howuku  \t\t\t\t\t\t\t\t\t          \t             \n",
              "<mark class=\"entity\" style=\"background: #ddd; padding: 0.45em 0.6em; margin: 0 0.25em; line-height: 1; border-radius: 0.35em;\">\n",
              "    feb 2023\n",
              "    <span style=\"font-size: 0.8em; font-weight: bold; line-height: 1; border-radius: 0.35em; vertical-align: middle; margin-left: 0.5rem\">WORK PER</span>\n",
              "</mark>\n",
              " – \n",
              "<mark class=\"entity\" style=\"background: #ddd; padding: 0.45em 0.6em; margin: 0 0.25em; line-height: 1; border-radius: 0.35em;\">\n",
              "    sep 2023\n",
              "    <span style=\"font-size: 0.8em; font-weight: bold; line-height: 1; border-radius: 0.35em; vertical-align: middle; margin-left: 0.5rem\">WORK PER</span>\n",
              "</mark>\n",
              "<br>\n",
              "<mark class=\"entity\" style=\"background: #ddd; padding: 0.45em 0.6em; margin: 0 0.25em; line-height: 1; border-radius: 0.35em;\">\n",
              "    software developer\n",
              "    <span style=\"font-size: 0.8em; font-weight: bold; line-height: 1; border-radius: 0.35em; vertical-align: middle; margin-left: 0.5rem\">JOB</span>\n",
              "</mark>\n",
              " \n",
              "<mark class=\"entity\" style=\"background: #ddd; padding: 0.45em 0.6em; margin: 0 0.25em; line-height: 1; border-radius: 0.35em;\">\n",
              "    intern\n",
              "    <span style=\"font-size: 0.8em; font-weight: bold; line-height: 1; border-radius: 0.35em; vertical-align: middle; margin-left: 0.5rem\">JOB</span>\n",
              "</mark>\n",
              "\t\t\t\t\t\t\t                    kuala lumpur malaysia<br>developed and optimized ab testing features including code editor and previewer for css and javascript modifications for experiment variations<br>expanded ab testing targeting rule by incorporating website visitors os device and browser rules<br>automated experimentstopping criteria and email notifications based on userdefined experiment termination conditions<br>collaborated with crossfunctional teams to debug troubleshoot and enhance howuku platform features based on user feedback and performance data<br>skills javascript bootstrap \n",
              "<mark class=\"entity\" style=\"background: #ddd; padding: 0.45em 0.6em; margin: 0 0.25em; line-height: 1; border-radius: 0.35em;\">\n",
              "    vuejs\n",
              "    <span style=\"font-size: 0.8em; font-weight: bold; line-height: 1; border-radius: 0.35em; vertical-align: middle; margin-left: 0.5rem\">SKILL</span>\n",
              "</mark>\n",
              " expressjs mysql<br><br>projects<br><br>personal portfolio website chewzzz1014githubioportfoliowebsite<br>designed developed and deployed personalised portfolio website featuring skills selected projects and downloadable resume<br>skills \n",
              "<mark class=\"entity\" style=\"background: #ddd; padding: 0.45em 0.6em; margin: 0 0.25em; line-height: 1; border-radius: 0.35em;\">\n",
              "    javascript\n",
              "    <span style=\"font-size: 0.8em; font-weight: bold; line-height: 1; border-radius: 0.35em; vertical-align: middle; margin-left: 0.5rem\">SKILL</span>\n",
              "</mark>\n",
              " reactjs \n",
              "<mark class=\"entity\" style=\"background: #ddd; padding: 0.45em 0.6em; margin: 0 0.25em; line-height: 1; border-radius: 0.35em;\">\n",
              "    css\n",
              "    <span style=\"font-size: 0.8em; font-weight: bold; line-height: 1; border-radius: 0.35em; vertical-align: middle; margin-left: 0.5rem\">SKILL</span>\n",
              "</mark>\n",
              " \n",
              "<mark class=\"entity\" style=\"background: #ddd; padding: 0.45em 0.6em; margin: 0 0.25em; line-height: 1; border-radius: 0.35em;\">\n",
              "    bootstrap\n",
              "    <span style=\"font-size: 0.8em; font-weight: bold; line-height: 1; border-radius: 0.35em; vertical-align: middle; margin-left: 0.5rem\">SKILL</span>\n",
              "</mark>\n",
              "<br>depression level detection chatbot httpsgithubcomchewzzz1014healtheaseproject<br>developed machine learning application that evaluates a messages depression level and provided tailored mental health advice and information based on the depression severity<br>skills \n",
              "<mark class=\"entity\" style=\"background: #ddd; padding: 0.45em 0.6em; margin: 0 0.25em; line-height: 1; border-radius: 0.35em;\">\n",
              "    python\n",
              "    <span style=\"font-size: 0.8em; font-weight: bold; line-height: 1; border-radius: 0.35em; vertical-align: middle; margin-left: 0.5rem\">SKILL</span>\n",
              "</mark>\n",
              " \n",
              "<mark class=\"entity\" style=\"background: #ddd; padding: 0.45em 0.6em; margin: 0 0.25em; line-height: 1; border-radius: 0.35em;\">\n",
              "    pandas\n",
              "    <span style=\"font-size: 0.8em; font-weight: bold; line-height: 1; border-radius: 0.35em; vertical-align: middle; margin-left: 0.5rem\">SKILL</span>\n",
              "</mark>\n",
              " \n",
              "<mark class=\"entity\" style=\"background: #ddd; padding: 0.45em 0.6em; margin: 0 0.25em; line-height: 1; border-radius: 0.35em;\">\n",
              "    scikitlearn\n",
              "    <span style=\"font-size: 0.8em; font-weight: bold; line-height: 1; border-radius: 0.35em; vertical-align: middle; margin-left: 0.5rem\">SKILL</span>\n",
              "</mark>\n",
              " \n",
              "<mark class=\"entity\" style=\"background: #ddd; padding: 0.45em 0.6em; margin: 0 0.25em; line-height: 1; border-radius: 0.35em;\">\n",
              "    keras fastapi\n",
              "    <span style=\"font-size: 0.8em; font-weight: bold; line-height: 1; border-radius: 0.35em; vertical-align: middle; margin-left: 0.5rem\">NAME</span>\n",
              "</mark>\n",
              " gradio<br>clothing store website httpsgithubcomchewzzz1014csc3402mvcproject<br>worked in team to build a crud spring boot application with attractive interfaces data persistence authentication and authorisation<br>developed the backend of the application that involves querying the database building rest endpoints and implementing thymeleaf in html for dynamic contents<br>skills \n",
              "<mark class=\"entity\" style=\"background: #ddd; padding: 0.45em 0.6em; margin: 0 0.25em; line-height: 1; border-radius: 0.35em;\">\n",
              "    spring boot\n",
              "    <span style=\"font-size: 0.8em; font-weight: bold; line-height: 1; border-radius: 0.35em; vertical-align: middle; margin-left: 0.5rem\">SKILL</span>\n",
              "</mark>\n",
              " \n",
              "<mark class=\"entity\" style=\"background: #ddd; padding: 0.45em 0.6em; margin: 0 0.25em; line-height: 1; border-radius: 0.35em;\">\n",
              "    spring mvc\n",
              "    <span style=\"font-size: 0.8em; font-weight: bold; line-height: 1; border-radius: 0.35em; vertical-align: middle; margin-left: 0.5rem\">SKILL</span>\n",
              "</mark>\n",
              " thymeleaf \n",
              "<mark class=\"entity\" style=\"background: #ddd; padding: 0.45em 0.6em; margin: 0 0.25em; line-height: 1; border-radius: 0.35em;\">\n",
              "    hibernate\n",
              "    <span style=\"font-size: 0.8em; font-weight: bold; line-height: 1; border-radius: 0.35em; vertical-align: middle; margin-left: 0.5rem\">SKILL</span>\n",
              "</mark>\n",
              " \n",
              "<mark class=\"entity\" style=\"background: #ddd; padding: 0.45em 0.6em; margin: 0 0.25em; line-height: 1; border-radius: 0.35em;\">\n",
              "    bootstrap\n",
              "    <span style=\"font-size: 0.8em; font-weight: bold; line-height: 1; border-radius: 0.35em; vertical-align: middle; margin-left: 0.5rem\">SKILL</span>\n",
              "</mark>\n",
              "<br><br>skills<br>programming languages \n",
              "<mark class=\"entity\" style=\"background: #ddd; padding: 0.45em 0.6em; margin: 0 0.25em; line-height: 1; border-radius: 0.35em;\">\n",
              "    java\n",
              "    <span style=\"font-size: 0.8em; font-weight: bold; line-height: 1; border-radius: 0.35em; vertical-align: middle; margin-left: 0.5rem\">SKILL</span>\n",
              "</mark>\n",
              " \n",
              "<mark class=\"entity\" style=\"background: #ddd; padding: 0.45em 0.6em; margin: 0 0.25em; line-height: 1; border-radius: 0.35em;\">\n",
              "    python\n",
              "    <span style=\"font-size: 0.8em; font-weight: bold; line-height: 1; border-radius: 0.35em; vertical-align: middle; margin-left: 0.5rem\">SKILL</span>\n",
              "</mark>\n",
              " \n",
              "<mark class=\"entity\" style=\"background: #ddd; padding: 0.45em 0.6em; margin: 0 0.25em; line-height: 1; border-radius: 0.35em;\">\n",
              "    html\n",
              "    <span style=\"font-size: 0.8em; font-weight: bold; line-height: 1; border-radius: 0.35em; vertical-align: middle; margin-left: 0.5rem\">SKILL</span>\n",
              "</mark>\n",
              " \n",
              "<mark class=\"entity\" style=\"background: #ddd; padding: 0.45em 0.6em; margin: 0 0.25em; line-height: 1; border-radius: 0.35em;\">\n",
              "    css\n",
              "    <span style=\"font-size: 0.8em; font-weight: bold; line-height: 1; border-radius: 0.35em; vertical-align: middle; margin-left: 0.5rem\">SKILL</span>\n",
              "</mark>\n",
              " \n",
              "<mark class=\"entity\" style=\"background: #ddd; padding: 0.45em 0.6em; margin: 0 0.25em; line-height: 1; border-radius: 0.35em;\">\n",
              "    javascript\n",
              "    <span style=\"font-size: 0.8em; font-weight: bold; line-height: 1; border-radius: 0.35em; vertical-align: middle; margin-left: 0.5rem\">SKILL</span>\n",
              "</mark>\n",
              " \n",
              "<mark class=\"entity\" style=\"background: #ddd; padding: 0.45em 0.6em; margin: 0 0.25em; line-height: 1; border-radius: 0.35em;\">\n",
              "    mysql\n",
              "    <span style=\"font-size: 0.8em; font-weight: bold; line-height: 1; border-radius: 0.35em; vertical-align: middle; margin-left: 0.5rem\">SKILL</span>\n",
              "</mark>\n",
              " \n",
              "<mark class=\"entity\" style=\"background: #ddd; padding: 0.45em 0.6em; margin: 0 0.25em; line-height: 1; border-radius: 0.35em;\">\n",
              "    oraclesql\n",
              "    <span style=\"font-size: 0.8em; font-weight: bold; line-height: 1; border-radius: 0.35em; vertical-align: middle; margin-left: 0.5rem\">SKILL</span>\n",
              "</mark>\n",
              " <br>frameworks and libraries spring spring boot typescript nodejs expressjs reactjs vuejs bootstrap tailwind \n",
              "<mark class=\"entity\" style=\"background: #ddd; padding: 0.45em 0.6em; margin: 0 0.25em; line-height: 1; border-radius: 0.35em;\">\n",
              "    css\n",
              "    <span style=\"font-size: 0.8em; font-weight: bold; line-height: 1; border-radius: 0.35em; vertical-align: middle; margin-left: 0.5rem\">SKILL</span>\n",
              "</mark>\n",
              "<br>tools \n",
              "<mark class=\"entity\" style=\"background: #ddd; padding: 0.45em 0.6em; margin: 0 0.25em; line-height: 1; border-radius: 0.35em;\">\n",
              "    git\n",
              "    <span style=\"font-size: 0.8em; font-weight: bold; line-height: 1; border-radius: 0.35em; vertical-align: middle; margin-left: 0.5rem\">SKILL</span>\n",
              "</mark>\n",
              " \n",
              "<mark class=\"entity\" style=\"background: #ddd; padding: 0.45em 0.6em; margin: 0 0.25em; line-height: 1; border-radius: 0.35em;\">\n",
              "    github\n",
              "    <span style=\"font-size: 0.8em; font-weight: bold; line-height: 1; border-radius: 0.35em; vertical-align: middle; margin-left: 0.5rem\">SKILL</span>\n",
              "</mark>\n",
              " \n",
              "<mark class=\"entity\" style=\"background: #ddd; padding: 0.45em 0.6em; margin: 0 0.25em; line-height: 1; border-radius: 0.35em;\">\n",
              "    jira\n",
              "    <span style=\"font-size: 0.8em; font-weight: bold; line-height: 1; border-radius: 0.35em; vertical-align: middle; margin-left: 0.5rem\">SKILL</span>\n",
              "</mark>\n",
              " \n",
              "<mark class=\"entity\" style=\"background: #ddd; padding: 0.45em 0.6em; margin: 0 0.25em; line-height: 1; border-radius: 0.35em;\">\n",
              "    tableau\n",
              "    <span style=\"font-size: 0.8em; font-weight: bold; line-height: 1; border-radius: 0.35em; vertical-align: middle; margin-left: 0.5rem\">SKILL</span>\n",
              "</mark>\n",
              " \n",
              "<mark class=\"entity\" style=\"background: #ddd; padding: 0.45em 0.6em; margin: 0 0.25em; line-height: 1; border-radius: 0.35em;\">\n",
              "    excel\n",
              "    <span style=\"font-size: 0.8em; font-weight: bold; line-height: 1; border-radius: 0.35em; vertical-align: middle; margin-left: 0.5rem\">SKILL</span>\n",
              "</mark>\n",
              " \n",
              "<mark class=\"entity\" style=\"background: #ddd; padding: 0.45em 0.6em; margin: 0 0.25em; line-height: 1; border-radius: 0.35em;\">\n",
              "    jupyter\n",
              "    <span style=\"font-size: 0.8em; font-weight: bold; line-height: 1; border-radius: 0.35em; vertical-align: middle; margin-left: 0.5rem\">SKILL</span>\n",
              "</mark>\n",
              " notebook google colab vscode intellij<br></div></span>"
            ]
          },
          "metadata": {}
        }
      ]
    },
    {
      "cell_type": "markdown",
      "source": [
        "## Flair NER"
      ],
      "metadata": {
        "id": "1z_niSalE0uT"
      },
      "id": "1z_niSalE0uT"
    },
    {
      "cell_type": "code",
      "source": [
        "# install flair library\n",
        "!pip install flair"
      ],
      "metadata": {
        "id": "lsEUGnPpnjuU",
        "colab": {
          "base_uri": "https://localhost:8080/"
        },
        "outputId": "61226f76-65b0-4eee-dfac-ec4e9c4c2d34"
      },
      "id": "lsEUGnPpnjuU",
      "execution_count": null,
      "outputs": [
        {
          "output_type": "stream",
          "name": "stdout",
          "text": [
            "Collecting flair\n",
            "  Downloading flair-0.14.0-py3-none-any.whl.metadata (12 kB)\n",
            "Collecting boto3>=1.20.27 (from flair)\n",
            "  Downloading boto3-1.35.57-py3-none-any.whl.metadata (6.7 kB)\n",
            "Collecting conllu<5.0.0,>=4.0 (from flair)\n",
            "  Downloading conllu-4.5.3-py2.py3-none-any.whl.metadata (19 kB)\n",
            "Requirement already satisfied: deprecated>=1.2.13 in /usr/local/lib/python3.10/dist-packages (from flair) (1.2.14)\n",
            "Collecting ftfy>=6.1.0 (from flair)\n",
            "  Downloading ftfy-6.3.1-py3-none-any.whl.metadata (7.3 kB)\n",
            "Requirement already satisfied: gdown>=4.4.0 in /usr/local/lib/python3.10/dist-packages (from flair) (5.2.0)\n",
            "Requirement already satisfied: huggingface-hub>=0.10.0 in /usr/local/lib/python3.10/dist-packages (from flair) (0.24.7)\n",
            "Collecting langdetect>=1.0.9 (from flair)\n",
            "  Downloading langdetect-1.0.9.tar.gz (981 kB)\n",
            "\u001b[2K     \u001b[90m━━━━━━━━━━━━━━━━━━━━━━━━━━━━━━━━━━━━━━━━\u001b[0m \u001b[32m981.5/981.5 kB\u001b[0m \u001b[31m13.1 MB/s\u001b[0m eta \u001b[36m0:00:00\u001b[0m\n",
            "\u001b[?25h  Preparing metadata (setup.py) ... \u001b[?25l\u001b[?25hdone\n",
            "Requirement already satisfied: lxml>=4.8.0 in /usr/local/lib/python3.10/dist-packages (from flair) (5.3.0)\n",
            "Requirement already satisfied: matplotlib>=2.2.3 in /usr/local/lib/python3.10/dist-packages (from flair) (3.8.0)\n",
            "Requirement already satisfied: more-itertools>=8.13.0 in /usr/local/lib/python3.10/dist-packages (from flair) (10.5.0)\n",
            "Collecting mpld3>=0.3 (from flair)\n",
            "  Downloading mpld3-0.5.10-py3-none-any.whl.metadata (5.1 kB)\n",
            "Collecting pptree>=3.1 (from flair)\n",
            "  Downloading pptree-3.1.tar.gz (3.0 kB)\n",
            "  Preparing metadata (setup.py) ... \u001b[?25l\u001b[?25hdone\n",
            "Requirement already satisfied: python-dateutil>=2.8.2 in /usr/local/lib/python3.10/dist-packages (from flair) (2.8.2)\n",
            "Collecting pytorch-revgrad>=0.2.0 (from flair)\n",
            "  Downloading pytorch_revgrad-0.2.0-py3-none-any.whl.metadata (1.7 kB)\n",
            "Requirement already satisfied: regex>=2022.1.18 in /usr/local/lib/python3.10/dist-packages (from flair) (2024.9.11)\n",
            "Requirement already satisfied: scikit-learn>=1.0.2 in /usr/local/lib/python3.10/dist-packages (from flair) (1.5.2)\n",
            "Collecting segtok>=1.5.11 (from flair)\n",
            "  Downloading segtok-1.5.11-py3-none-any.whl.metadata (9.0 kB)\n",
            "Collecting sqlitedict>=2.0.0 (from flair)\n",
            "  Downloading sqlitedict-2.1.0.tar.gz (21 kB)\n",
            "  Preparing metadata (setup.py) ... \u001b[?25l\u001b[?25hdone\n",
            "Requirement already satisfied: tabulate>=0.8.10 in /usr/local/lib/python3.10/dist-packages (from flair) (0.9.0)\n",
            "Requirement already satisfied: torch!=1.8,>=1.5.0 in /usr/local/lib/python3.10/dist-packages (from flair) (2.5.0+cu121)\n",
            "Requirement already satisfied: tqdm>=4.63.0 in /usr/local/lib/python3.10/dist-packages (from flair) (4.66.6)\n",
            "Collecting transformer-smaller-training-vocab>=0.2.3 (from flair)\n",
            "  Downloading transformer_smaller_training_vocab-0.4.0-py3-none-any.whl.metadata (8.1 kB)\n",
            "Requirement already satisfied: transformers<5.0.0,>=4.18.0 in /usr/local/lib/python3.10/dist-packages (from transformers[sentencepiece]<5.0.0,>=4.18.0->flair) (4.44.2)\n",
            "Collecting wikipedia-api>=0.5.7 (from flair)\n",
            "  Downloading wikipedia_api-0.7.1.tar.gz (17 kB)\n",
            "  Preparing metadata (setup.py) ... \u001b[?25l\u001b[?25hdone\n",
            "Collecting semver<4.0.0,>=3.0.0 (from flair)\n",
            "  Downloading semver-3.0.2-py3-none-any.whl.metadata (5.0 kB)\n",
            "Collecting bioc<3.0.0,>=2.0.0 (from flair)\n",
            "  Downloading bioc-2.1-py3-none-any.whl.metadata (4.6 kB)\n",
            "Collecting jsonlines>=1.2.0 (from bioc<3.0.0,>=2.0.0->flair)\n",
            "  Downloading jsonlines-4.0.0-py3-none-any.whl.metadata (1.6 kB)\n",
            "Collecting intervaltree (from bioc<3.0.0,>=2.0.0->flair)\n",
            "  Downloading intervaltree-3.1.0.tar.gz (32 kB)\n",
            "  Preparing metadata (setup.py) ... \u001b[?25l\u001b[?25hdone\n",
            "Collecting docopt (from bioc<3.0.0,>=2.0.0->flair)\n",
            "  Downloading docopt-0.6.2.tar.gz (25 kB)\n",
            "  Preparing metadata (setup.py) ... \u001b[?25l\u001b[?25hdone\n",
            "Collecting botocore<1.36.0,>=1.35.57 (from boto3>=1.20.27->flair)\n",
            "  Downloading botocore-1.35.57-py3-none-any.whl.metadata (5.7 kB)\n",
            "Collecting jmespath<2.0.0,>=0.7.1 (from boto3>=1.20.27->flair)\n",
            "  Downloading jmespath-1.0.1-py3-none-any.whl.metadata (7.6 kB)\n",
            "Collecting s3transfer<0.11.0,>=0.10.0 (from boto3>=1.20.27->flair)\n",
            "  Downloading s3transfer-0.10.3-py3-none-any.whl.metadata (1.7 kB)\n",
            "Requirement already satisfied: wrapt<2,>=1.10 in /usr/local/lib/python3.10/dist-packages (from deprecated>=1.2.13->flair) (1.16.0)\n",
            "Requirement already satisfied: wcwidth in /usr/local/lib/python3.10/dist-packages (from ftfy>=6.1.0->flair) (0.2.13)\n",
            "Requirement already satisfied: beautifulsoup4 in /usr/local/lib/python3.10/dist-packages (from gdown>=4.4.0->flair) (4.12.3)\n",
            "Requirement already satisfied: filelock in /usr/local/lib/python3.10/dist-packages (from gdown>=4.4.0->flair) (3.16.1)\n",
            "Requirement already satisfied: requests[socks] in /usr/local/lib/python3.10/dist-packages (from gdown>=4.4.0->flair) (2.32.3)\n",
            "Requirement already satisfied: fsspec>=2023.5.0 in /usr/local/lib/python3.10/dist-packages (from huggingface-hub>=0.10.0->flair) (2024.10.0)\n",
            "Requirement already satisfied: packaging>=20.9 in /usr/local/lib/python3.10/dist-packages (from huggingface-hub>=0.10.0->flair) (24.1)\n",
            "Requirement already satisfied: pyyaml>=5.1 in /usr/local/lib/python3.10/dist-packages (from huggingface-hub>=0.10.0->flair) (6.0.2)\n",
            "Requirement already satisfied: typing-extensions>=3.7.4.3 in /usr/local/lib/python3.10/dist-packages (from huggingface-hub>=0.10.0->flair) (4.12.2)\n",
            "Requirement already satisfied: six in /usr/local/lib/python3.10/dist-packages (from langdetect>=1.0.9->flair) (1.16.0)\n",
            "Requirement already satisfied: contourpy>=1.0.1 in /usr/local/lib/python3.10/dist-packages (from matplotlib>=2.2.3->flair) (1.3.0)\n",
            "Requirement already satisfied: cycler>=0.10 in /usr/local/lib/python3.10/dist-packages (from matplotlib>=2.2.3->flair) (0.12.1)\n",
            "Requirement already satisfied: fonttools>=4.22.0 in /usr/local/lib/python3.10/dist-packages (from matplotlib>=2.2.3->flair) (4.54.1)\n",
            "Requirement already satisfied: kiwisolver>=1.0.1 in /usr/local/lib/python3.10/dist-packages (from matplotlib>=2.2.3->flair) (1.4.7)\n",
            "Requirement already satisfied: numpy<2,>=1.21 in /usr/local/lib/python3.10/dist-packages (from matplotlib>=2.2.3->flair) (1.26.4)\n",
            "Requirement already satisfied: pillow>=6.2.0 in /usr/local/lib/python3.10/dist-packages (from matplotlib>=2.2.3->flair) (10.4.0)\n",
            "Requirement already satisfied: pyparsing>=2.3.1 in /usr/local/lib/python3.10/dist-packages (from matplotlib>=2.2.3->flair) (3.2.0)\n",
            "Requirement already satisfied: jinja2 in /usr/local/lib/python3.10/dist-packages (from mpld3>=0.3->flair) (3.1.4)\n",
            "Requirement already satisfied: scipy>=1.6.0 in /usr/local/lib/python3.10/dist-packages (from scikit-learn>=1.0.2->flair) (1.13.1)\n",
            "Requirement already satisfied: joblib>=1.2.0 in /usr/local/lib/python3.10/dist-packages (from scikit-learn>=1.0.2->flair) (1.4.2)\n",
            "Requirement already satisfied: threadpoolctl>=3.1.0 in /usr/local/lib/python3.10/dist-packages (from scikit-learn>=1.0.2->flair) (3.5.0)\n",
            "Requirement already satisfied: networkx in /usr/local/lib/python3.10/dist-packages (from torch!=1.8,>=1.5.0->flair) (3.4.2)\n",
            "Requirement already satisfied: sympy==1.13.1 in /usr/local/lib/python3.10/dist-packages (from torch!=1.8,>=1.5.0->flair) (1.13.1)\n",
            "Requirement already satisfied: mpmath<1.4,>=1.1.0 in /usr/local/lib/python3.10/dist-packages (from sympy==1.13.1->torch!=1.8,>=1.5.0->flair) (1.3.0)\n",
            "Requirement already satisfied: safetensors>=0.4.1 in /usr/local/lib/python3.10/dist-packages (from transformers<5.0.0,>=4.18.0->transformers[sentencepiece]<5.0.0,>=4.18.0->flair) (0.4.5)\n",
            "Requirement already satisfied: tokenizers<0.20,>=0.19 in /usr/local/lib/python3.10/dist-packages (from transformers<5.0.0,>=4.18.0->transformers[sentencepiece]<5.0.0,>=4.18.0->flair) (0.19.1)\n",
            "Requirement already satisfied: protobuf in /usr/local/lib/python3.10/dist-packages (from transformers[sentencepiece]<5.0.0,>=4.18.0->flair) (3.20.3)\n",
            "Requirement already satisfied: sentencepiece!=0.1.92,>=0.1.91 in /usr/local/lib/python3.10/dist-packages (from transformers[sentencepiece]<5.0.0,>=4.18.0->flair) (0.2.0)\n",
            "Requirement already satisfied: urllib3!=2.2.0,<3,>=1.25.4 in /usr/local/lib/python3.10/dist-packages (from botocore<1.36.0,>=1.35.57->boto3>=1.20.27->flair) (2.2.3)\n",
            "Requirement already satisfied: attrs>=19.2.0 in /usr/local/lib/python3.10/dist-packages (from jsonlines>=1.2.0->bioc<3.0.0,>=2.0.0->flair) (24.2.0)\n",
            "Requirement already satisfied: accelerate>=0.21.0 in /usr/local/lib/python3.10/dist-packages (from transformers[sentencepiece,torch]<5.0,>=4.1->transformer-smaller-training-vocab>=0.2.3->flair) (0.34.2)\n",
            "Requirement already satisfied: soupsieve>1.2 in /usr/local/lib/python3.10/dist-packages (from beautifulsoup4->gdown>=4.4.0->flair) (2.6)\n",
            "Collecting sortedcontainers<3.0,>=2.0 (from intervaltree->bioc<3.0.0,>=2.0.0->flair)\n",
            "  Downloading sortedcontainers-2.4.0-py2.py3-none-any.whl.metadata (10 kB)\n",
            "Requirement already satisfied: MarkupSafe>=2.0 in /usr/local/lib/python3.10/dist-packages (from jinja2->mpld3>=0.3->flair) (3.0.2)\n",
            "Requirement already satisfied: charset-normalizer<4,>=2 in /usr/local/lib/python3.10/dist-packages (from requests[socks]->gdown>=4.4.0->flair) (3.4.0)\n",
            "Requirement already satisfied: idna<4,>=2.5 in /usr/local/lib/python3.10/dist-packages (from requests[socks]->gdown>=4.4.0->flair) (3.10)\n",
            "Requirement already satisfied: certifi>=2017.4.17 in /usr/local/lib/python3.10/dist-packages (from requests[socks]->gdown>=4.4.0->flair) (2024.8.30)\n",
            "Requirement already satisfied: PySocks!=1.5.7,>=1.5.6 in /usr/local/lib/python3.10/dist-packages (from requests[socks]->gdown>=4.4.0->flair) (1.7.1)\n",
            "Requirement already satisfied: psutil in /usr/local/lib/python3.10/dist-packages (from accelerate>=0.21.0->transformers[sentencepiece,torch]<5.0,>=4.1->transformer-smaller-training-vocab>=0.2.3->flair) (5.9.5)\n",
            "Downloading flair-0.14.0-py3-none-any.whl (776 kB)\n",
            "\u001b[2K   \u001b[90m━━━━━━━━━━━━━━━━━━━━━━━━━━━━━━━━━━━━━━━━\u001b[0m \u001b[32m776.5/776.5 kB\u001b[0m \u001b[31m52.8 MB/s\u001b[0m eta \u001b[36m0:00:00\u001b[0m\n",
            "\u001b[?25hDownloading bioc-2.1-py3-none-any.whl (33 kB)\n",
            "Downloading boto3-1.35.57-py3-none-any.whl (139 kB)\n",
            "\u001b[2K   \u001b[90m━━━━━━━━━━━━━━━━━━━━━━━━━━━━━━━━━━━━━━━━\u001b[0m \u001b[32m139.2/139.2 kB\u001b[0m \u001b[31m16.0 MB/s\u001b[0m eta \u001b[36m0:00:00\u001b[0m\n",
            "\u001b[?25hDownloading conllu-4.5.3-py2.py3-none-any.whl (16 kB)\n",
            "Downloading ftfy-6.3.1-py3-none-any.whl (44 kB)\n",
            "\u001b[2K   \u001b[90m━━━━━━━━━━━━━━━━━━━━━━━━━━━━━━━━━━━━━━━━\u001b[0m \u001b[32m44.8/44.8 kB\u001b[0m \u001b[31m5.0 MB/s\u001b[0m eta \u001b[36m0:00:00\u001b[0m\n",
            "\u001b[?25hDownloading mpld3-0.5.10-py3-none-any.whl (202 kB)\n",
            "\u001b[2K   \u001b[90m━━━━━━━━━━━━━━━━━━━━━━━━━━━━━━━━━━━━━━━━\u001b[0m \u001b[32m202.6/202.6 kB\u001b[0m \u001b[31m23.9 MB/s\u001b[0m eta \u001b[36m0:00:00\u001b[0m\n",
            "\u001b[?25hDownloading pytorch_revgrad-0.2.0-py3-none-any.whl (4.6 kB)\n",
            "Downloading segtok-1.5.11-py3-none-any.whl (24 kB)\n",
            "Downloading semver-3.0.2-py3-none-any.whl (17 kB)\n",
            "Downloading transformer_smaller_training_vocab-0.4.0-py3-none-any.whl (14 kB)\n",
            "Downloading botocore-1.35.57-py3-none-any.whl (12.7 MB)\n",
            "\u001b[2K   \u001b[90m━━━━━━━━━━━━━━━━━━━━━━━━━━━━━━━━━━━━━━━━\u001b[0m \u001b[32m12.7/12.7 MB\u001b[0m \u001b[31m101.5 MB/s\u001b[0m eta \u001b[36m0:00:00\u001b[0m\n",
            "\u001b[?25hDownloading jmespath-1.0.1-py3-none-any.whl (20 kB)\n",
            "Downloading jsonlines-4.0.0-py3-none-any.whl (8.7 kB)\n",
            "Downloading s3transfer-0.10.3-py3-none-any.whl (82 kB)\n",
            "\u001b[2K   \u001b[90m━━━━━━━━━━━━━━━━━━━━━━━━━━━━━━━━━━━━━━━━\u001b[0m \u001b[32m82.6/82.6 kB\u001b[0m \u001b[31m9.7 MB/s\u001b[0m eta \u001b[36m0:00:00\u001b[0m\n",
            "\u001b[?25hDownloading sortedcontainers-2.4.0-py2.py3-none-any.whl (29 kB)\n",
            "Building wheels for collected packages: langdetect, pptree, sqlitedict, wikipedia-api, docopt, intervaltree\n",
            "  Building wheel for langdetect (setup.py) ... \u001b[?25l\u001b[?25hdone\n",
            "  Created wheel for langdetect: filename=langdetect-1.0.9-py3-none-any.whl size=993222 sha256=40ba2210d06ecb6644b562668c983a27623eafe29983ccac5e539aa6bd4c225b\n",
            "  Stored in directory: /root/.cache/pip/wheels/95/03/7d/59ea870c70ce4e5a370638b5462a7711ab78fba2f655d05106\n",
            "  Building wheel for pptree (setup.py) ... \u001b[?25l\u001b[?25hdone\n",
            "  Created wheel for pptree: filename=pptree-3.1-py3-none-any.whl size=4608 sha256=5e69b4796e8d3793a4cf6338fbc1fb8894bd43f94c2bc9fee9344adb270cafc1\n",
            "  Stored in directory: /root/.cache/pip/wheels/9f/b6/0e/6f26eb9e6eb53ff2107a7888d72b5a6a597593956113037828\n",
            "  Building wheel for sqlitedict (setup.py) ... \u001b[?25l\u001b[?25hdone\n",
            "  Created wheel for sqlitedict: filename=sqlitedict-2.1.0-py3-none-any.whl size=16864 sha256=444a49bfbd4cdbb81d99630cd9ca4540269c7ce5d29366e4cce09cbd50c2a946\n",
            "  Stored in directory: /root/.cache/pip/wheels/79/d6/e7/304e0e6cb2221022c26d8161f7c23cd4f259a9e41e8bbcfabd\n",
            "  Building wheel for wikipedia-api (setup.py) ... \u001b[?25l\u001b[?25hdone\n",
            "  Created wheel for wikipedia-api: filename=Wikipedia_API-0.7.1-py3-none-any.whl size=14346 sha256=c8c25a8de67a36d0524e2a16c7fc05584463d7c24821ca08be7cd895a265cba1\n",
            "  Stored in directory: /root/.cache/pip/wheels/4c/96/18/b9201cc3e8b47b02b510460210cfd832ccf10c0c4dd0522962\n",
            "  Building wheel for docopt (setup.py) ... \u001b[?25l\u001b[?25hdone\n",
            "  Created wheel for docopt: filename=docopt-0.6.2-py2.py3-none-any.whl size=13706 sha256=05e1cc55cb2b91f9e3019763b4f9d0673c8ef7abfffd9592e7c9768ef7124360\n",
            "  Stored in directory: /root/.cache/pip/wheels/fc/ab/d4/5da2067ac95b36618c629a5f93f809425700506f72c9732fac\n",
            "  Building wheel for intervaltree (setup.py) ... \u001b[?25l\u001b[?25hdone\n",
            "  Created wheel for intervaltree: filename=intervaltree-3.1.0-py2.py3-none-any.whl size=26097 sha256=2384f142d8efe16fbf8310dde54264b01d4400c0b328e3f00319743ad297aff7\n",
            "  Stored in directory: /root/.cache/pip/wheels/fa/80/8c/43488a924a046b733b64de3fac99252674c892a4c3801c0a61\n",
            "Successfully built langdetect pptree sqlitedict wikipedia-api docopt intervaltree\n",
            "Installing collected packages: sqlitedict, sortedcontainers, pptree, docopt, semver, segtok, langdetect, jsonlines, jmespath, intervaltree, ftfy, conllu, wikipedia-api, botocore, bioc, s3transfer, pytorch-revgrad, mpld3, boto3, transformer-smaller-training-vocab, flair\n",
            "Successfully installed bioc-2.1 boto3-1.35.57 botocore-1.35.57 conllu-4.5.3 docopt-0.6.2 flair-0.14.0 ftfy-6.3.1 intervaltree-3.1.0 jmespath-1.0.1 jsonlines-4.0.0 langdetect-1.0.9 mpld3-0.5.10 pptree-3.1 pytorch-revgrad-0.2.0 s3transfer-0.10.3 segtok-1.5.11 semver-3.0.2 sortedcontainers-2.4.0 sqlitedict-2.1.0 transformer-smaller-training-vocab-0.4.0 wikipedia-api-0.7.1\n"
          ]
        }
      ]
    },
    {
      "cell_type": "code",
      "source": [
        "# convert json into flair data\n",
        "\n",
        "import json\n",
        "import random\n",
        "from typing import List, Dict, Tuple\n",
        "import spacy\n",
        "from collections import defaultdict\n",
        "\n",
        "class NERConverter:\n",
        "    def __init__(self):\n",
        "        # load pretrained model from Spacy library\n",
        "        # to create Spacy Doc object\n",
        "        self.nlp = spacy.load(\"en_core_web_sm\")\n",
        "\n",
        "    # get BIOES label based on location of word\n",
        "    def get_bioes_label(self, token_index: int, entity_length: int, current_position: int, label: str) -> str:\n",
        "        \"\"\"\n",
        "        Convert to BIOES format\n",
        "        - S-: Single token entity\n",
        "        - B-: Beginning of multi-token entity\n",
        "        - I-: Inside of multi-token entity\n",
        "        - E-: End of multi-token entity\n",
        "        - O: Outside\n",
        "        \"\"\"\n",
        "        if entity_length == 1:\n",
        "            return f'S-{label}'\n",
        "        if current_position == 0:\n",
        "            return f'B-{label}'\n",
        "        if current_position == entity_length - 1:\n",
        "            return f'E-{label}'\n",
        "        return f'I-{label}'\n",
        "\n",
        "    # convert Label Studio's exported annotations in json format intto BIOES format\n",
        "    def convert_to_bioes_format(self, json_data: List[dict]) -> List[List[Tuple[str, str]]]:\n",
        "        \"\"\"Convert JSON annotations to BIOES format.\"\"\"\n",
        "        all_sentences = []\n",
        "\n",
        "        # process all annotation in json file\n",
        "        for item in json_data:\n",
        "            text = item['data']['Text']\n",
        "            doc = self.nlp(text)\n",
        "\n",
        "            # initialize character-level labels\n",
        "            char_labels = ['O'] * len(text)\n",
        "\n",
        "            # first pass: identify entity boundaries and lengths\n",
        "            entity_spans = []\n",
        "            if item['annotations'] and len(item['annotations']) > 0:\n",
        "                for ann in item['annotations'][0]['result']:\n",
        "                    if 'value' in ann:\n",
        "                        start = ann['value']['start']\n",
        "                        end = ann['value']['end']\n",
        "                        label = ann['value']['labels'][0]\n",
        "                        entity_spans.append((start, end, label))\n",
        "\n",
        "            # sort spans by start position\n",
        "            entity_spans.sort(key=lambda x: x[0])\n",
        "\n",
        "            # second pass: apply BIOES labels\n",
        "            for start, end, label in entity_spans:\n",
        "                # get tokens that are part of this entity\n",
        "                entity_text = text[start:end]\n",
        "                entity_doc = self.nlp(entity_text)\n",
        "                entity_length = len([token for token in entity_doc if not token.is_space])\n",
        "\n",
        "                # set labels for the entire span\n",
        "                current_token_idx = 0\n",
        "                for i in range(start, end):\n",
        "                    if i == start or text[i-1].isspace():\n",
        "                        char_labels[i] = self.get_bioes_label(i, entity_length, current_token_idx, label)\n",
        "                        current_token_idx += 1\n",
        "                    else:\n",
        "                        char_labels[i] = char_labels[i-1]\n",
        "\n",
        "            # convert to token-level labels\n",
        "            current_sentence = []\n",
        "            for sent in doc.sents:\n",
        "                for token in sent:\n",
        "                    # get the most common label for the token's characters\n",
        "                    token_chars_labels = char_labels[token.idx:token.idx + len(token.text)]\n",
        "                    label_counts = defaultdict(int)\n",
        "                    for char_label in token_chars_labels:\n",
        "                        label_counts[char_label] += 1\n",
        "\n",
        "                    token_label = max(label_counts.items(), key=lambda x: x[1])[0]\n",
        "                    current_sentence.append((token.text, token_label))\n",
        "\n",
        "                if current_sentence:\n",
        "                    all_sentences.append(current_sentence)\n",
        "                    current_sentence = []\n",
        "\n",
        "        return all_sentences\n",
        "\n",
        "    # write data in BIOES format into txt file\n",
        "    def write_flair_file(self, sentences: List[List[Tuple[str, str]]], filename: str):\n",
        "        \"\"\"Write sentences in BIOES format to file.\"\"\"\n",
        "        with open(filename, 'w', encoding='utf-8') as f:\n",
        "            for sentence in sentences:\n",
        "                for token, label in sentence:\n",
        "                    f.write(f'{token} {label}\\n')\n",
        "                f.write('\\n')\n",
        "\n",
        "    # convert json data into BIOES data\n",
        "    # split BIOES data into train and test\n",
        "    def convert_and_split(self, json_data: List[dict], train_file: str, test_file: str, test_ratio: float = 0.2):\n",
        "        \"\"\"Convert JSON to BIOES format and split into train/test sets.\"\"\"\n",
        "        all_sentences = self.convert_to_bioes_format(json_data)\n",
        "\n",
        "        # shuffle and split based on test_ratio\n",
        "        random.shuffle(all_sentences)\n",
        "        split_idx = int(len(all_sentences) * (1 - test_ratio))\n",
        "\n",
        "        # use list slicing to split\n",
        "        train_sentences = all_sentences[:split_idx]\n",
        "        test_sentences = all_sentences[split_idx:]\n",
        "\n",
        "        # write to txt files\n",
        "        self.write_flair_file(train_sentences, train_file)\n",
        "        self.write_flair_file(test_sentences, test_file)\n",
        "\n",
        "        return len(train_sentences), len(test_sentences)\n",
        "\n",
        "\n",
        "# load JSON data\n",
        "with open('/content/drive/MyDrive/FYP/Implementation/Resume Dataset/342_resumes_annotated.json', 'r', encoding='utf-8') as f:\n",
        "  json_data = json.load(f)\n",
        "\n",
        "# load self-defined convert class\n",
        "converter = NERConverter()\n",
        "\n",
        "# convert json data into BIOES data and split into train and test\n",
        "train_count, test_count = converter.convert_and_split(\n",
        "    json_data,\n",
        "    train_file='flair_train.txt',\n",
        "    test_file='flair_test.txt',\n",
        "    test_ratio=0.2\n",
        ")\n",
        "print(f'Created {train_count} training sentences and {test_count} test sentences')"
      ],
      "metadata": {
        "colab": {
          "base_uri": "https://localhost:8080/"
        },
        "id": "JYAkAghgs9k5",
        "outputId": "54635620-07e8-4354-e1ad-fcd412859418"
      },
      "id": "JYAkAghgs9k5",
      "execution_count": null,
      "outputs": [
        {
          "output_type": "stream",
          "name": "stdout",
          "text": [
            "Created 298 training sentences and 75 test sentences\n"
          ]
        }
      ]
    },
    {
      "cell_type": "code",
      "source": [
        "from flair.data import Corpus\n",
        "from flair.datasets import ColumnCorpus\n",
        "\n",
        "# define columns for CoNLL (0: word, 1: label)\n",
        "columns = {0: 'text', 1: 'ner'}\n",
        "\n",
        "# set data folder and train and test path\n",
        "data_folder = './'\n",
        "train_file = 'flair_train.txt'\n",
        "test_file = 'flair_test.txt'\n",
        "\n",
        "# load the corpus\n",
        "corpus: Corpus = ColumnCorpus(data_folder, columns,\n",
        "                              train_file=train_file,\n",
        "                              test_file=test_file,\n",
        "                              dev_file=None)"
      ],
      "metadata": {
        "colab": {
          "base_uri": "https://localhost:8080/"
        },
        "id": "vl2-GpGBjpsi",
        "outputId": "86fe32d0-e5d2-4fd1-9615-6c64be5d3f55"
      },
      "id": "vl2-GpGBjpsi",
      "execution_count": null,
      "outputs": [
        {
          "output_type": "stream",
          "name": "stdout",
          "text": [
            "2024-11-10 06:40:19,078 Reading data from .\n",
            "2024-11-10 06:40:19,079 Train: flair_train.txt\n",
            "2024-11-10 06:40:19,080 Dev: None\n",
            "2024-11-10 06:40:19,083 Test: flair_test.txt\n",
            "2024-11-10 06:40:20,302 No dev split found. Using 10% (i.e. 30 samples) of the train split as dev data\n"
          ]
        }
      ]
    },
    {
      "cell_type": "code",
      "source": [
        "# generate a dictionary of unique labels from the NER corpus.\n",
        "# this dictionary maps each named entity label in the dataset to an integer ID.\n",
        "tag_dictionary = corpus.make_label_dictionary(label_type='ner')\n",
        "print(\"Labels:\", tag_dictionary.get_items())"
      ],
      "metadata": {
        "colab": {
          "base_uri": "https://localhost:8080/"
        },
        "id": "d_skLRc8i44m",
        "outputId": "3eee9dc7-9f41-4e32-92a6-7be9c6964f26"
      },
      "id": "d_skLRc8i44m",
      "execution_count": null,
      "outputs": [
        {
          "output_type": "stream",
          "name": "stdout",
          "text": [
            "2024-11-10 06:40:23,085 Computing label dictionary. Progress:\n"
          ]
        },
        {
          "output_type": "stream",
          "name": "stderr",
          "text": [
            "0it [00:00, ?it/s]\n",
            "268it [00:00, 15504.25it/s]"
          ]
        },
        {
          "output_type": "stream",
          "name": "stdout",
          "text": [
            "2024-11-10 06:40:23,122 Dictionary created for label 'ner' with 11 values: SKILL (seen 2062 times), JOB (seen 533 times), WORK (seen 455 times), COMPANY (seen 372 times), LOC (seen 252 times), UNI (seen 158 times), DEG (seen 149 times), NAME (seen 138 times), STUDY (seen 138 times), PHONE (seen 135 times), EMAIL (seen 108 times)\n",
            "Labels: ['SKILL', 'JOB', 'WORK', 'COMPANY', 'LOC', 'UNI', 'DEG', 'NAME', 'STUDY', 'PHONE', 'EMAIL']\n"
          ]
        },
        {
          "output_type": "stream",
          "name": "stderr",
          "text": [
            "\n"
          ]
        }
      ]
    },
    {
      "cell_type": "code",
      "source": [
        "from collections import Counter\n",
        "\n",
        "# count frequency of each entity label\n",
        "def count_labels(file_path):\n",
        "    with open(file_path, 'r') as file:\n",
        "        labels = [line.split()[-1] for line in file if line.strip()]\n",
        "    return Counter(labels)\n",
        "\n",
        "# number of\n",
        "print(\"Train label distribution:\", count_labels('flair_train.txt'))\n",
        "print(\"Test label distribution:\", count_labels('flair_test.txt'))"
      ],
      "metadata": {
        "colab": {
          "base_uri": "https://localhost:8080/"
        },
        "id": "j5cXWOiGY5an",
        "outputId": "2f9b76ba-04f9-4e5f-a802-d66c383ed4b5"
      },
      "id": "j5cXWOiGY5an",
      "execution_count": null,
      "outputs": [
        {
          "output_type": "stream",
          "name": "stdout",
          "text": [
            "Train label distribution: Counter({'O': 72298, 'S-SKILL': 1392, 'PER': 1203, 'B-SKILL': 991, 'E-SKILL': 988, 'E-JOB': 524, 'B-JOB': 517, 'E-COMPANY': 341, 'B-COMPANY': 336, 'I-JOB': 295, 'I-DEG': 256, 'I-COMPANY': 239, 'I-SKILL': 198, 'E-UNI': 170, 'B-UNI': 169, 'S-LOC': 165, 'B-NAME': 156, 'E-NAME': 156, 'E-DEG': 155, 'B-DEG': 154, 'I-UNI': 138, 'E-PHONE': 129, 'B-PHONE': 126, 'S-EMAIL': 118, 'B-LOC': 108, 'E-LOC': 108, 'I-PHONE': 89, 'S-JOB': 64, 'S-COMPANY': 62, 'S-PHONE': 22, 'I-NAME': 6, 'S-DEG': 6, 'I-LOC': 5, 'B-EMAIL': 1, 'E-EMAIL': 1})\n",
            "Test label distribution: Counter({'O': 16795, 'S-SKILL': 399, 'PER': 308, 'B-SKILL': 222, 'E-SKILL': 221, 'E-JOB': 135, 'B-JOB': 130, 'B-COMPANY': 86, 'E-COMPANY': 86, 'I-DEG': 78, 'I-COMPANY': 76, 'I-JOB': 62, 'B-DEG': 47, 'E-DEG': 47, 'B-UNI': 45, 'E-UNI': 45, 'S-LOC': 40, 'I-SKILL': 38, 'B-NAME': 35, 'E-NAME': 35, 'I-UNI': 33, 'S-EMAIL': 30, 'B-PHONE': 29, 'E-PHONE': 28, 'B-LOC': 20, 'E-LOC': 20, 'I-PHONE': 17, 'S-COMPANY': 17, 'S-JOB': 11, 'S-PHONE': 7, 'I-NAME': 4, 'S-UNI': 2, 'S-DEG': 1})\n"
          ]
        }
      ]
    },
    {
      "cell_type": "code",
      "source": [
        "# create NER tagger\n",
        "from flair.embeddings import WordEmbeddings, StackedEmbeddings, TransformerWordEmbeddings, FlairEmbeddings\n",
        "from flair.models import SequenceTagger\n",
        "\n",
        "# 1. using LSTM-CRF on top of frozen embeddings\n",
        "# combine flair and glove embeddings\n",
        "# embeddings = StackedEmbeddings([\n",
        "#                 WordEmbeddings('glove'),\n",
        "#                 FlairEmbeddings('news-forward'),\n",
        "#                 FlairEmbeddings('news-backward'),\n",
        "#             ])\n",
        "# tagger = SequenceTagger(hidden_size=256,\n",
        "#                          embeddings=embeddings,\n",
        "#                          tag_dictionary=tag_dictionary,\n",
        "#                          tag_type='ner',\n",
        "#                          use_crf=True,\n",
        "#                          tag_format = 'BIOES')\n",
        "\n",
        "# 2. using transformer embedding\n",
        "# transformer option 1\n",
        "# embeddings = TransformerWordEmbeddings('bert-base-uncased',\n",
        "#                                         fine_tune=True,\n",
        "#                                         layers='-1',\n",
        "#                                         subtoken_pooling='first'\n",
        "#                                       )\n",
        "# transformer option 2\n",
        "# embeddings = TransformerWordEmbeddings(\n",
        "#     'roberta-base',  # or 'bert-base-uncased'\n",
        "#     fine_tune=True,\n",
        "#     layers='-1,-2,-3,-4',  # Use last 4 layers\n",
        "#     subtoken_pooling='first',\n",
        "#     allow_long_sentences=True\n",
        "# )\n",
        "# test running using Kaggle CPU\n",
        "embeddings = TransformerWordEmbeddings(\n",
        "    'roberta-base',\n",
        "    fine_tune=True,\n",
        "    layers='-1,',  # Use last layer\n",
        "    subtoken_pooling='first',\n",
        "    allow_long_sentences=True\n",
        ")\n",
        "\n",
        "use_crf = False\n",
        "tagger = SequenceTagger(hidden_size=256,\n",
        "                         embeddings=embeddings,\n",
        "                         tag_dictionary=tag_dictionary,\n",
        "                         tag_type='ner',\n",
        "                         use_crf=use_crf,\n",
        "                         use_rnn=False,\n",
        "                         reproject_embeddings=False,\n",
        "                         tag_format = 'BIOES')"
      ],
      "metadata": {
        "id": "QEBUKmiAnaFm",
        "colab": {
          "base_uri": "https://localhost:8080/"
        },
        "outputId": "5b4fd122-285d-434c-aa01-8cab9d491b5e"
      },
      "id": "QEBUKmiAnaFm",
      "execution_count": null,
      "outputs": [
        {
          "output_type": "stream",
          "name": "stderr",
          "text": [
            "/usr/local/lib/python3.10/dist-packages/huggingface_hub/utils/_token.py:89: UserWarning: \n",
            "The secret `HF_TOKEN` does not exist in your Colab secrets.\n",
            "To authenticate with the Hugging Face Hub, create a token in your settings tab (https://huggingface.co/settings/tokens), set it as secret in your Google Colab and restart your session.\n",
            "You will be able to reuse this secret in all of your notebooks.\n",
            "Please note that authentication is recommended but still optional to access public models or datasets.\n",
            "  warnings.warn(\n",
            "/usr/local/lib/python3.10/dist-packages/transformers/tokenization_utils_base.py:1601: FutureWarning: `clean_up_tokenization_spaces` was not set. It will be set to `True` by default. This behavior will be depracted in transformers v4.45, and will be then set to `False` by default. For more details check this issue: https://github.com/huggingface/transformers/issues/31884\n",
            "  warnings.warn(\n"
          ]
        },
        {
          "output_type": "stream",
          "name": "stdout",
          "text": [
            "2024-11-10 06:40:38,569 SequenceTagger predicts: Dictionary with 45 tags: O, S-SKILL, B-SKILL, E-SKILL, I-SKILL, S-JOB, B-JOB, E-JOB, I-JOB, S-WORK, B-WORK, E-WORK, I-WORK, S-COMPANY, B-COMPANY, E-COMPANY, I-COMPANY, S-LOC, B-LOC, E-LOC, I-LOC, S-UNI, B-UNI, E-UNI, I-UNI, S-DEG, B-DEG, E-DEG, I-DEG, S-NAME, B-NAME, E-NAME, I-NAME, S-STUDY, B-STUDY, E-STUDY, I-STUDY, S-PHONE, B-PHONE, E-PHONE, I-PHONE, S-EMAIL, B-EMAIL, E-EMAIL, I-EMAIL\n"
          ]
        }
      ]
    },
    {
      "cell_type": "code",
      "source": [
        "# train flair ner model\n",
        "\n",
        "from flair.trainers import ModelTrainer\n",
        "from flair.training_utils import EvaluationMetric\n",
        "import torch\n",
        "\n",
        "# define ModelTrained based on tagger and corpus\n",
        "trainer = ModelTrainer(tagger, corpus)\n",
        "\n",
        "# train Flair NER Model\n",
        "trainer.train(\n",
        "    base_path='flair_output/',\n",
        "    # learning_rate=5.0e-5,\n",
        "    learning_rate=0.01,\n",
        "    mini_batch_size=4,\n",
        "    max_epochs=50,\n",
        "    train_with_dev=False\n",
        ")\n",
        "\n",
        "# test running using Kaggle GPU\n",
        "# trainer.train(\n",
        "#     base_path='flair_output/',\n",
        "#     learning_rate=0.01,\n",
        "#     mini_batch_size=8,\n",
        "#     max_epochs=100,\n",
        "#     patience=8,\n",
        "#     train_with_dev=False\n",
        "# )\n",
        "\n",
        "# save trained model to drive\n",
        "!cp -r ./flair_output /content/drive/MyDrive/FYP/Implementation/"
      ],
      "metadata": {
        "id": "XbuJ4VjCnoPU",
        "colab": {
          "base_uri": "https://localhost:8080/",
          "height": 1000
        },
        "outputId": "df3a4bac-b6d7-49f3-d1c2-13d9412c5115"
      },
      "id": "XbuJ4VjCnoPU",
      "execution_count": null,
      "outputs": [
        {
          "output_type": "stream",
          "name": "stdout",
          "text": [
            "2024-11-10 06:40:45,644 ----------------------------------------------------------------------------------------------------\n",
            "2024-11-10 06:40:45,648 Model: \"SequenceTagger(\n",
            "  (embeddings): TransformerWordEmbeddings(\n",
            "    (model): RobertaModel(\n",
            "      (embeddings): RobertaEmbeddings(\n",
            "        (word_embeddings): Embedding(50266, 768, padding_idx=1)\n",
            "        (position_embeddings): Embedding(514, 768, padding_idx=1)\n",
            "        (token_type_embeddings): Embedding(1, 768)\n",
            "        (LayerNorm): LayerNorm((768,), eps=1e-05, elementwise_affine=True)\n",
            "        (dropout): Dropout(p=0.1, inplace=False)\n",
            "      )\n",
            "      (encoder): RobertaEncoder(\n",
            "        (layer): ModuleList(\n",
            "          (0-11): 12 x RobertaLayer(\n",
            "            (attention): RobertaAttention(\n",
            "              (self): RobertaSelfAttention(\n",
            "                (query): Linear(in_features=768, out_features=768, bias=True)\n",
            "                (key): Linear(in_features=768, out_features=768, bias=True)\n",
            "                (value): Linear(in_features=768, out_features=768, bias=True)\n",
            "                (dropout): Dropout(p=0.1, inplace=False)\n",
            "              )\n",
            "              (output): RobertaSelfOutput(\n",
            "                (dense): Linear(in_features=768, out_features=768, bias=True)\n",
            "                (LayerNorm): LayerNorm((768,), eps=1e-05, elementwise_affine=True)\n",
            "                (dropout): Dropout(p=0.1, inplace=False)\n",
            "              )\n",
            "            )\n",
            "            (intermediate): RobertaIntermediate(\n",
            "              (dense): Linear(in_features=768, out_features=3072, bias=True)\n",
            "              (intermediate_act_fn): GELUActivation()\n",
            "            )\n",
            "            (output): RobertaOutput(\n",
            "              (dense): Linear(in_features=3072, out_features=768, bias=True)\n",
            "              (LayerNorm): LayerNorm((768,), eps=1e-05, elementwise_affine=True)\n",
            "              (dropout): Dropout(p=0.1, inplace=False)\n",
            "            )\n",
            "          )\n",
            "        )\n",
            "      )\n",
            "      (pooler): RobertaPooler(\n",
            "        (dense): Linear(in_features=768, out_features=768, bias=True)\n",
            "        (activation): Tanh()\n",
            "      )\n",
            "    )\n",
            "  )\n",
            "  (locked_dropout): LockedDropout(p=0.5)\n",
            "  (linear): Linear(in_features=768, out_features=45, bias=True)\n",
            "  (loss_function): CrossEntropyLoss()\n",
            ")\"\n",
            "2024-11-10 06:40:45,650 ----------------------------------------------------------------------------------------------------\n",
            "2024-11-10 06:40:45,655 Corpus: 268 train + 30 dev + 75 test sentences\n",
            "2024-11-10 06:40:45,656 ----------------------------------------------------------------------------------------------------\n",
            "2024-11-10 06:40:45,658 Train:  268 sentences\n",
            "2024-11-10 06:40:45,660         (train_with_dev=False, train_with_test=False)\n",
            "2024-11-10 06:40:45,661 ----------------------------------------------------------------------------------------------------\n",
            "2024-11-10 06:40:45,662 Training Params:\n",
            "2024-11-10 06:40:45,664  - learning_rate: \"0.001\" \n",
            "2024-11-10 06:40:45,665  - mini_batch_size: \"8\"\n",
            "2024-11-10 06:40:45,666  - max_epochs: \"100\"\n",
            "2024-11-10 06:40:45,668  - shuffle: \"True\"\n",
            "2024-11-10 06:40:45,669 ----------------------------------------------------------------------------------------------------\n",
            "2024-11-10 06:40:45,670 Plugins:\n",
            "2024-11-10 06:40:45,671  - AnnealOnPlateau | patience: '8', anneal_factor: '0.5', min_learning_rate: '0.0001'\n",
            "2024-11-10 06:40:45,673 ----------------------------------------------------------------------------------------------------\n",
            "2024-11-10 06:40:45,674 Final evaluation on model from best epoch (best-model.pt)\n",
            "2024-11-10 06:40:45,675  - metric: \"('micro avg', 'f1-score')\"\n",
            "2024-11-10 06:40:45,676 ----------------------------------------------------------------------------------------------------\n",
            "2024-11-10 06:40:45,678 Computation:\n",
            "2024-11-10 06:40:45,679  - compute on device: cuda:0\n",
            "2024-11-10 06:40:45,680  - embedding storage: cpu\n",
            "2024-11-10 06:40:45,681 ----------------------------------------------------------------------------------------------------\n",
            "2024-11-10 06:40:45,683 Model training base path: \"flair_output\"\n",
            "2024-11-10 06:40:45,684 ----------------------------------------------------------------------------------------------------\n",
            "2024-11-10 06:40:45,685 ----------------------------------------------------------------------------------------------------\n"
          ]
        },
        {
          "output_type": "stream",
          "name": "stderr",
          "text": [
            "/usr/local/lib/python3.10/dist-packages/flair/trainers/trainer.py:84: UserWarning: There should be no best model saved at epoch 1 except there is a model from previous trainings in your training folder. All previous best models will be deleted.\n",
            "  warnings.warn(\n",
            "/usr/local/lib/python3.10/dist-packages/flair/trainers/trainer.py:499: FutureWarning: `torch.cuda.amp.GradScaler(args...)` is deprecated. Please use `torch.amp.GradScaler('cuda', args...)` instead.\n",
            "  scaler = torch.cuda.amp.GradScaler(enabled=use_amp and flair.device.type != \"cpu\")\n"
          ]
        },
        {
          "output_type": "stream",
          "name": "stdout",
          "text": [
            "2024-11-10 06:40:48,883 epoch 1 - iter 3/34 - loss 4.49894183 - time (sec): 3.19 - samples/sec: 1695.27 - lr: 0.001000 - momentum: 0.000000\n",
            "2024-11-10 06:40:52,200 epoch 1 - iter 6/34 - loss 4.15237677 - time (sec): 6.51 - samples/sec: 2130.30 - lr: 0.001000 - momentum: 0.000000\n",
            "2024-11-10 06:40:55,951 epoch 1 - iter 9/34 - loss 3.99204313 - time (sec): 10.26 - samples/sec: 2001.13 - lr: 0.001000 - momentum: 0.000000\n",
            "2024-11-10 06:40:58,560 epoch 1 - iter 12/34 - loss 3.86195917 - time (sec): 12.87 - samples/sec: 2045.47 - lr: 0.001000 - momentum: 0.000000\n",
            "2024-11-10 06:41:01,525 epoch 1 - iter 15/34 - loss 3.74573814 - time (sec): 15.84 - samples/sec: 2062.92 - lr: 0.001000 - momentum: 0.000000\n",
            "2024-11-10 06:41:04,752 epoch 1 - iter 18/34 - loss 3.62881443 - time (sec): 19.06 - samples/sec: 2062.98 - lr: 0.001000 - momentum: 0.000000\n",
            "2024-11-10 06:41:07,560 epoch 1 - iter 21/34 - loss 3.52894054 - time (sec): 21.87 - samples/sec: 2068.05 - lr: 0.001000 - momentum: 0.000000\n",
            "2024-11-10 06:41:10,810 epoch 1 - iter 24/34 - loss 3.35063417 - time (sec): 25.12 - samples/sec: 2098.15 - lr: 0.001000 - momentum: 0.000000\n",
            "2024-11-10 06:41:13,844 epoch 1 - iter 27/34 - loss 3.20732367 - time (sec): 28.15 - samples/sec: 2120.77 - lr: 0.001000 - momentum: 0.000000\n",
            "2024-11-10 06:41:16,683 epoch 1 - iter 30/34 - loss 3.04469839 - time (sec): 30.99 - samples/sec: 2152.13 - lr: 0.001000 - momentum: 0.000000\n",
            "2024-11-10 06:41:19,891 epoch 1 - iter 33/34 - loss 2.92605159 - time (sec): 34.20 - samples/sec: 2146.41 - lr: 0.001000 - momentum: 0.000000\n",
            "2024-11-10 06:41:20,927 ----------------------------------------------------------------------------------------------------\n",
            "2024-11-10 06:41:20,932 EPOCH 1 done: loss 2.8940 - lr: 0.001000\n"
          ]
        },
        {
          "output_type": "stream",
          "name": "stderr",
          "text": [
            "100%|██████████| 1/1 [00:02<00:00,  2.38s/it]"
          ]
        },
        {
          "output_type": "stream",
          "name": "stdout",
          "text": [
            "2024-11-10 06:41:23,341 DEV : loss 1.2984716892242432 - f1-score (micro avg)  0.0\n",
            "2024-11-10 06:41:23,354  - 0 epochs without improvement\n",
            "2024-11-10 06:41:23,355 ----------------------------------------------------------------------------------------------------\n"
          ]
        },
        {
          "output_type": "stream",
          "name": "stderr",
          "text": [
            "\n"
          ]
        },
        {
          "output_type": "stream",
          "name": "stdout",
          "text": [
            "2024-11-10 06:41:25,712 epoch 2 - iter 3/34 - loss 1.37025713 - time (sec): 2.35 - samples/sec: 2791.39 - lr: 0.001000 - momentum: 0.000000\n",
            "2024-11-10 06:41:29,301 epoch 2 - iter 6/34 - loss 1.25098791 - time (sec): 5.94 - samples/sec: 2428.96 - lr: 0.001000 - momentum: 0.000000\n",
            "2024-11-10 06:41:32,516 epoch 2 - iter 9/34 - loss 1.20654881 - time (sec): 9.16 - samples/sec: 2329.78 - lr: 0.001000 - momentum: 0.000000\n",
            "2024-11-10 06:41:36,025 epoch 2 - iter 12/34 - loss 1.12661611 - time (sec): 12.67 - samples/sec: 2227.84 - lr: 0.001000 - momentum: 0.000000\n",
            "2024-11-10 06:41:39,965 epoch 2 - iter 15/34 - loss 1.06402043 - time (sec): 16.61 - samples/sec: 2160.80 - lr: 0.001000 - momentum: 0.000000\n",
            "2024-11-10 06:41:43,028 epoch 2 - iter 18/34 - loss 1.02149114 - time (sec): 19.67 - samples/sec: 2181.38 - lr: 0.001000 - momentum: 0.000000\n",
            "2024-11-10 06:41:45,868 epoch 2 - iter 21/34 - loss 1.00697889 - time (sec): 22.51 - samples/sec: 2204.22 - lr: 0.001000 - momentum: 0.000000\n",
            "2024-11-10 06:41:48,704 epoch 2 - iter 24/34 - loss 0.98038229 - time (sec): 25.34 - samples/sec: 2180.77 - lr: 0.001000 - momentum: 0.000000\n",
            "2024-11-10 06:41:51,498 epoch 2 - iter 27/34 - loss 0.98352371 - time (sec): 28.14 - samples/sec: 2189.24 - lr: 0.001000 - momentum: 0.000000\n",
            "2024-11-10 06:41:54,463 epoch 2 - iter 30/34 - loss 0.96087143 - time (sec): 31.10 - samples/sec: 2204.63 - lr: 0.001000 - momentum: 0.000000\n",
            "2024-11-10 06:41:57,695 epoch 2 - iter 33/34 - loss 0.96098807 - time (sec): 34.33 - samples/sec: 2169.01 - lr: 0.001000 - momentum: 0.000000\n",
            "2024-11-10 06:41:58,246 ----------------------------------------------------------------------------------------------------\n",
            "2024-11-10 06:41:58,247 EPOCH 2 done: loss 0.9627 - lr: 0.001000\n"
          ]
        },
        {
          "output_type": "stream",
          "name": "stderr",
          "text": [
            "100%|██████████| 1/1 [00:02<00:00,  2.02s/it]"
          ]
        },
        {
          "output_type": "stream",
          "name": "stdout",
          "text": [
            "2024-11-10 06:42:00,299 DEV : loss 1.0739030838012695 - f1-score (micro avg)  0.0\n",
            "2024-11-10 06:42:00,312  - 0 epochs without improvement\n",
            "2024-11-10 06:42:00,313 ----------------------------------------------------------------------------------------------------\n"
          ]
        },
        {
          "output_type": "stream",
          "name": "stderr",
          "text": [
            "\n"
          ]
        },
        {
          "output_type": "stream",
          "name": "stdout",
          "text": [
            "2024-11-10 06:42:03,190 epoch 3 - iter 3/34 - loss 0.74925599 - time (sec): 2.87 - samples/sec: 2930.39 - lr: 0.001000 - momentum: 0.000000\n",
            "2024-11-10 06:42:07,009 epoch 3 - iter 6/34 - loss 0.71241576 - time (sec): 6.69 - samples/sec: 2513.78 - lr: 0.001000 - momentum: 0.000000\n",
            "2024-11-10 06:42:10,416 epoch 3 - iter 9/34 - loss 0.77681343 - time (sec): 10.10 - samples/sec: 2379.53 - lr: 0.001000 - momentum: 0.000000\n",
            "2024-11-10 06:42:13,645 epoch 3 - iter 12/34 - loss 0.78950655 - time (sec): 13.33 - samples/sec: 2277.65 - lr: 0.001000 - momentum: 0.000000\n",
            "2024-11-10 06:42:16,801 epoch 3 - iter 15/34 - loss 0.76509655 - time (sec): 16.48 - samples/sec: 2327.05 - lr: 0.001000 - momentum: 0.000000\n",
            "2024-11-10 06:42:19,504 epoch 3 - iter 18/34 - loss 0.75695488 - time (sec): 19.19 - samples/sec: 2281.46 - lr: 0.001000 - momentum: 0.000000\n",
            "2024-11-10 06:42:22,254 epoch 3 - iter 21/34 - loss 0.75741118 - time (sec): 21.94 - samples/sec: 2245.28 - lr: 0.001000 - momentum: 0.000000\n",
            "2024-11-10 06:42:24,960 epoch 3 - iter 24/34 - loss 0.77471264 - time (sec): 24.64 - samples/sec: 2239.89 - lr: 0.001000 - momentum: 0.000000\n",
            "2024-11-10 06:42:28,534 epoch 3 - iter 27/34 - loss 0.78122696 - time (sec): 28.22 - samples/sec: 2230.55 - lr: 0.001000 - momentum: 0.000000\n",
            "2024-11-10 06:42:31,221 epoch 3 - iter 30/34 - loss 0.77917668 - time (sec): 30.90 - samples/sec: 2233.81 - lr: 0.001000 - momentum: 0.000000\n",
            "2024-11-10 06:42:33,221 epoch 3 - iter 33/34 - loss 0.77773384 - time (sec): 32.90 - samples/sec: 2237.14 - lr: 0.001000 - momentum: 0.000000\n",
            "2024-11-10 06:42:34,004 ----------------------------------------------------------------------------------------------------\n",
            "2024-11-10 06:42:34,005 EPOCH 3 done: loss 0.7794 - lr: 0.001000\n"
          ]
        },
        {
          "output_type": "stream",
          "name": "stderr",
          "text": [
            "100%|██████████| 1/1 [00:02<00:00,  2.26s/it]"
          ]
        },
        {
          "output_type": "stream",
          "name": "stdout",
          "text": [
            "2024-11-10 06:42:36,300 DEV : loss 1.010551929473877 - f1-score (micro avg)  0.0\n",
            "2024-11-10 06:42:36,314  - 0 epochs without improvement\n",
            "2024-11-10 06:42:36,315 ----------------------------------------------------------------------------------------------------\n"
          ]
        },
        {
          "output_type": "stream",
          "name": "stderr",
          "text": [
            "\n"
          ]
        },
        {
          "output_type": "stream",
          "name": "stdout",
          "text": [
            "2024-11-10 06:42:39,534 epoch 4 - iter 3/34 - loss 0.68801425 - time (sec): 3.22 - samples/sec: 2067.73 - lr: 0.001000 - momentum: 0.000000\n",
            "2024-11-10 06:42:42,227 epoch 4 - iter 6/34 - loss 0.76204660 - time (sec): 5.91 - samples/sec: 2068.17 - lr: 0.001000 - momentum: 0.000000\n",
            "2024-11-10 06:42:45,321 epoch 4 - iter 9/34 - loss 0.73750612 - time (sec): 9.00 - samples/sec: 2186.27 - lr: 0.001000 - momentum: 0.000000\n",
            "2024-11-10 06:42:48,283 epoch 4 - iter 12/34 - loss 0.75587837 - time (sec): 11.97 - samples/sec: 2150.77 - lr: 0.001000 - momentum: 0.000000\n",
            "2024-11-10 06:42:51,069 epoch 4 - iter 15/34 - loss 0.76613526 - time (sec): 14.75 - samples/sec: 2144.55 - lr: 0.001000 - momentum: 0.000000\n",
            "2024-11-10 06:42:53,793 epoch 4 - iter 18/34 - loss 0.73983848 - time (sec): 17.48 - samples/sec: 2198.62 - lr: 0.001000 - momentum: 0.000000\n",
            "2024-11-10 06:42:57,228 epoch 4 - iter 21/34 - loss 0.73852708 - time (sec): 20.91 - samples/sec: 2162.36 - lr: 0.001000 - momentum: 0.000000\n",
            "2024-11-10 06:43:01,575 epoch 4 - iter 24/34 - loss 0.72299674 - time (sec): 25.26 - samples/sec: 2131.08 - lr: 0.001000 - momentum: 0.000000\n",
            "2024-11-10 06:43:04,850 epoch 4 - iter 27/34 - loss 0.72083764 - time (sec): 28.53 - samples/sec: 2146.09 - lr: 0.001000 - momentum: 0.000000\n",
            "2024-11-10 06:43:07,824 epoch 4 - iter 30/34 - loss 0.72492055 - time (sec): 31.51 - samples/sec: 2148.43 - lr: 0.001000 - momentum: 0.000000\n",
            "2024-11-10 06:43:10,726 epoch 4 - iter 33/34 - loss 0.72693487 - time (sec): 34.41 - samples/sec: 2137.68 - lr: 0.001000 - momentum: 0.000000\n",
            "2024-11-10 06:43:11,354 ----------------------------------------------------------------------------------------------------\n",
            "2024-11-10 06:43:11,360 EPOCH 4 done: loss 0.7304 - lr: 0.001000\n"
          ]
        },
        {
          "output_type": "stream",
          "name": "stderr",
          "text": [
            "100%|██████████| 1/1 [00:03<00:00,  3.85s/it]"
          ]
        },
        {
          "output_type": "stream",
          "name": "stdout",
          "text": [
            "2024-11-10 06:43:15,255 DEV : loss 0.9807278513908386 - f1-score (micro avg)  0.0\n",
            "2024-11-10 06:43:15,278  - 0 epochs without improvement\n",
            "2024-11-10 06:43:15,281 ----------------------------------------------------------------------------------------------------\n"
          ]
        },
        {
          "output_type": "stream",
          "name": "stderr",
          "text": [
            "\n"
          ]
        },
        {
          "output_type": "stream",
          "name": "stdout",
          "text": [
            "2024-11-10 06:43:18,037 epoch 5 - iter 3/34 - loss 0.68770524 - time (sec): 2.75 - samples/sec: 2900.13 - lr: 0.001000 - momentum: 0.000000\n",
            "2024-11-10 06:43:21,172 epoch 5 - iter 6/34 - loss 0.70787357 - time (sec): 5.89 - samples/sec: 2451.76 - lr: 0.001000 - momentum: 0.000000\n",
            "2024-11-10 06:43:24,040 epoch 5 - iter 9/34 - loss 0.69117964 - time (sec): 8.75 - samples/sec: 2314.06 - lr: 0.001000 - momentum: 0.000000\n",
            "2024-11-10 06:43:27,308 epoch 5 - iter 12/34 - loss 0.68813092 - time (sec): 12.02 - samples/sec: 2233.82 - lr: 0.001000 - momentum: 0.000000\n",
            "2024-11-10 06:43:30,232 epoch 5 - iter 15/34 - loss 0.68943450 - time (sec): 14.95 - samples/sec: 2303.73 - lr: 0.001000 - momentum: 0.000000\n",
            "2024-11-10 06:43:33,365 epoch 5 - iter 18/34 - loss 0.68649157 - time (sec): 18.08 - samples/sec: 2244.21 - lr: 0.001000 - momentum: 0.000000\n",
            "2024-11-10 06:43:36,221 epoch 5 - iter 21/34 - loss 0.70725457 - time (sec): 20.94 - samples/sec: 2219.77 - lr: 0.001000 - momentum: 0.000000\n",
            "2024-11-10 06:43:39,283 epoch 5 - iter 24/34 - loss 0.70270822 - time (sec): 24.00 - samples/sec: 2225.99 - lr: 0.001000 - momentum: 0.000000\n",
            "2024-11-10 06:43:42,028 epoch 5 - iter 27/34 - loss 0.71345470 - time (sec): 26.74 - samples/sec: 2211.08 - lr: 0.001000 - momentum: 0.000000\n",
            "2024-11-10 06:43:44,792 epoch 5 - iter 30/34 - loss 0.72706131 - time (sec): 29.51 - samples/sec: 2181.43 - lr: 0.001000 - momentum: 0.000000\n",
            "2024-11-10 06:43:48,287 epoch 5 - iter 33/34 - loss 0.70669838 - time (sec): 33.00 - samples/sec: 2237.31 - lr: 0.001000 - momentum: 0.000000\n",
            "2024-11-10 06:43:49,524 ----------------------------------------------------------------------------------------------------\n",
            "2024-11-10 06:43:49,527 EPOCH 5 done: loss 0.7062 - lr: 0.001000\n"
          ]
        },
        {
          "output_type": "stream",
          "name": "stderr",
          "text": [
            "100%|██████████| 1/1 [00:02<00:00,  2.16s/it]"
          ]
        },
        {
          "output_type": "stream",
          "name": "stdout",
          "text": [
            "2024-11-10 06:43:51,719 DEV : loss 0.9546282887458801 - f1-score (micro avg)  0.0\n",
            "2024-11-10 06:43:51,733  - 0 epochs without improvement\n",
            "2024-11-10 06:43:51,734 ----------------------------------------------------------------------------------------------------\n"
          ]
        },
        {
          "output_type": "stream",
          "name": "stderr",
          "text": [
            "\n"
          ]
        },
        {
          "output_type": "stream",
          "name": "stdout",
          "text": [
            "2024-11-10 06:43:53,885 epoch 6 - iter 3/34 - loss 0.81728206 - time (sec): 2.15 - samples/sec: 2809.29 - lr: 0.001000 - momentum: 0.000000\n",
            "2024-11-10 06:43:56,919 epoch 6 - iter 6/34 - loss 0.74839004 - time (sec): 5.18 - samples/sec: 2658.71 - lr: 0.001000 - momentum: 0.000000\n",
            "2024-11-10 06:44:00,221 epoch 6 - iter 9/34 - loss 0.73816897 - time (sec): 8.48 - samples/sec: 2412.85 - lr: 0.001000 - momentum: 0.000000\n",
            "2024-11-10 06:44:03,488 epoch 6 - iter 12/34 - loss 0.72221877 - time (sec): 11.75 - samples/sec: 2281.04 - lr: 0.001000 - momentum: 0.000000\n",
            "2024-11-10 06:44:06,915 epoch 6 - iter 15/34 - loss 0.72434670 - time (sec): 15.18 - samples/sec: 2259.04 - lr: 0.001000 - momentum: 0.000000\n",
            "2024-11-10 06:44:09,896 epoch 6 - iter 18/34 - loss 0.70545198 - time (sec): 18.16 - samples/sec: 2272.04 - lr: 0.001000 - momentum: 0.000000\n",
            "2024-11-10 06:44:12,734 epoch 6 - iter 21/34 - loss 0.71637657 - time (sec): 20.99 - samples/sec: 2181.61 - lr: 0.001000 - momentum: 0.000000\n",
            "2024-11-10 06:44:16,565 epoch 6 - iter 24/34 - loss 0.69446004 - time (sec): 24.83 - samples/sec: 2225.22 - lr: 0.001000 - momentum: 0.000000\n",
            "2024-11-10 06:44:19,927 epoch 6 - iter 27/34 - loss 0.69124566 - time (sec): 28.19 - samples/sec: 2165.34 - lr: 0.001000 - momentum: 0.000000\n",
            "2024-11-10 06:44:22,825 epoch 6 - iter 30/34 - loss 0.69365213 - time (sec): 31.09 - samples/sec: 2175.23 - lr: 0.001000 - momentum: 0.000000\n",
            "2024-11-10 06:44:25,555 epoch 6 - iter 33/34 - loss 0.68970307 - time (sec): 33.82 - samples/sec: 2149.05 - lr: 0.001000 - momentum: 0.000000\n",
            "2024-11-10 06:44:26,414 ----------------------------------------------------------------------------------------------------\n",
            "2024-11-10 06:44:26,418 EPOCH 6 done: loss 0.6834 - lr: 0.001000\n"
          ]
        },
        {
          "output_type": "stream",
          "name": "stderr",
          "text": [
            "100%|██████████| 1/1 [00:02<00:00,  2.50s/it]"
          ]
        },
        {
          "output_type": "stream",
          "name": "stdout",
          "text": [
            "2024-11-10 06:44:28,960 DEV : loss 0.9327938556671143 - f1-score (micro avg)  0.0\n",
            "2024-11-10 06:44:28,975  - 0 epochs without improvement\n",
            "2024-11-10 06:44:28,977 ----------------------------------------------------------------------------------------------------\n"
          ]
        },
        {
          "output_type": "stream",
          "name": "stderr",
          "text": [
            "\n"
          ]
        },
        {
          "output_type": "stream",
          "name": "stdout",
          "text": [
            "2024-11-10 06:44:31,561 epoch 7 - iter 3/34 - loss 0.74686199 - time (sec): 2.58 - samples/sec: 2483.31 - lr: 0.001000 - momentum: 0.000000\n",
            "2024-11-10 06:44:34,827 epoch 7 - iter 6/34 - loss 0.71537512 - time (sec): 5.85 - samples/sec: 2404.71 - lr: 0.001000 - momentum: 0.000000\n",
            "2024-11-10 06:44:37,103 epoch 7 - iter 9/34 - loss 0.72893245 - time (sec): 8.12 - samples/sec: 2258.50 - lr: 0.001000 - momentum: 0.000000\n",
            "2024-11-10 06:44:39,753 epoch 7 - iter 12/34 - loss 0.74824469 - time (sec): 10.77 - samples/sec: 2129.64 - lr: 0.001000 - momentum: 0.000000\n",
            "2024-11-10 06:44:42,721 epoch 7 - iter 15/34 - loss 0.70783328 - time (sec): 13.74 - samples/sec: 2121.43 - lr: 0.001000 - momentum: 0.000000\n",
            "2024-11-10 06:44:46,055 epoch 7 - iter 18/34 - loss 0.68970131 - time (sec): 17.07 - samples/sec: 2211.22 - lr: 0.001000 - momentum: 0.000000\n",
            "2024-11-10 06:44:49,441 epoch 7 - iter 21/34 - loss 0.68404185 - time (sec): 20.46 - samples/sec: 2182.82 - lr: 0.001000 - momentum: 0.000000\n",
            "2024-11-10 06:44:52,412 epoch 7 - iter 24/34 - loss 0.69451685 - time (sec): 23.43 - samples/sec: 2172.50 - lr: 0.001000 - momentum: 0.000000\n",
            "2024-11-10 06:44:55,208 epoch 7 - iter 27/34 - loss 0.70020745 - time (sec): 26.23 - samples/sec: 2154.90 - lr: 0.001000 - momentum: 0.000000\n",
            "2024-11-10 06:44:58,631 epoch 7 - iter 30/34 - loss 0.69987427 - time (sec): 29.65 - samples/sec: 2178.96 - lr: 0.001000 - momentum: 0.000000\n",
            "2024-11-10 06:45:02,492 epoch 7 - iter 33/34 - loss 0.67228225 - time (sec): 33.51 - samples/sec: 2186.56 - lr: 0.001000 - momentum: 0.000000\n",
            "2024-11-10 06:45:03,370 ----------------------------------------------------------------------------------------------------\n",
            "2024-11-10 06:45:03,375 EPOCH 7 done: loss 0.6698 - lr: 0.001000\n"
          ]
        },
        {
          "output_type": "stream",
          "name": "stderr",
          "text": [
            "100%|██████████| 1/1 [00:02<00:00,  2.23s/it]"
          ]
        },
        {
          "output_type": "stream",
          "name": "stdout",
          "text": [
            "2024-11-10 06:45:05,644 DEV : loss 0.9227402210235596 - f1-score (micro avg)  0.0\n",
            "2024-11-10 06:45:05,668  - 0 epochs without improvement\n",
            "2024-11-10 06:45:05,670 ----------------------------------------------------------------------------------------------------\n"
          ]
        },
        {
          "output_type": "stream",
          "name": "stderr",
          "text": [
            "\n"
          ]
        },
        {
          "output_type": "stream",
          "name": "stdout",
          "text": [
            "2024-11-10 06:45:08,167 epoch 8 - iter 3/34 - loss 0.62215633 - time (sec): 2.49 - samples/sec: 2860.01 - lr: 0.001000 - momentum: 0.000000\n",
            "2024-11-10 06:45:11,789 epoch 8 - iter 6/34 - loss 0.60526036 - time (sec): 6.11 - samples/sec: 2313.97 - lr: 0.001000 - momentum: 0.000000\n",
            "2024-11-10 06:45:15,381 epoch 8 - iter 9/34 - loss 0.56508174 - time (sec): 9.71 - samples/sec: 2259.41 - lr: 0.001000 - momentum: 0.000000\n",
            "2024-11-10 06:45:18,038 epoch 8 - iter 12/34 - loss 0.59217656 - time (sec): 12.36 - samples/sec: 2375.21 - lr: 0.001000 - momentum: 0.000000\n",
            "2024-11-10 06:45:21,168 epoch 8 - iter 15/34 - loss 0.61928765 - time (sec): 15.49 - samples/sec: 2255.14 - lr: 0.001000 - momentum: 0.000000\n",
            "2024-11-10 06:45:24,175 epoch 8 - iter 18/34 - loss 0.63696541 - time (sec): 18.50 - samples/sec: 2290.48 - lr: 0.001000 - momentum: 0.000000\n",
            "2024-11-10 06:45:26,885 epoch 8 - iter 21/34 - loss 0.63918150 - time (sec): 21.21 - samples/sec: 2272.87 - lr: 0.001000 - momentum: 0.000000\n",
            "2024-11-10 06:45:30,208 epoch 8 - iter 24/34 - loss 0.63253782 - time (sec): 24.53 - samples/sec: 2293.87 - lr: 0.001000 - momentum: 0.000000\n",
            "2024-11-10 06:45:33,218 epoch 8 - iter 27/34 - loss 0.64153039 - time (sec): 27.54 - samples/sec: 2233.92 - lr: 0.001000 - momentum: 0.000000\n",
            "2024-11-10 06:45:36,077 epoch 8 - iter 30/34 - loss 0.65377171 - time (sec): 30.40 - samples/sec: 2189.42 - lr: 0.001000 - momentum: 0.000000\n",
            "2024-11-10 06:45:39,141 epoch 8 - iter 33/34 - loss 0.64961543 - time (sec): 33.47 - samples/sec: 2208.50 - lr: 0.001000 - momentum: 0.000000\n",
            "2024-11-10 06:45:39,930 ----------------------------------------------------------------------------------------------------\n",
            "2024-11-10 06:45:39,932 EPOCH 8 done: loss 0.6550 - lr: 0.001000\n"
          ]
        },
        {
          "output_type": "stream",
          "name": "stderr",
          "text": [
            "100%|██████████| 1/1 [00:02<00:00,  2.08s/it]"
          ]
        },
        {
          "output_type": "stream",
          "name": "stdout",
          "text": [
            "2024-11-10 06:45:42,046 DEV : loss 0.911533534526825 - f1-score (micro avg)  0.0\n",
            "2024-11-10 06:45:42,062  - 0 epochs without improvement\n",
            "2024-11-10 06:45:42,063 ----------------------------------------------------------------------------------------------------\n"
          ]
        },
        {
          "output_type": "stream",
          "name": "stderr",
          "text": [
            "\n"
          ]
        },
        {
          "output_type": "stream",
          "name": "stdout",
          "text": [
            "2024-11-10 06:45:44,668 epoch 9 - iter 3/34 - loss 0.68589084 - time (sec): 2.60 - samples/sec: 2477.72 - lr: 0.001000 - momentum: 0.000000\n",
            "2024-11-10 06:45:47,563 epoch 9 - iter 6/34 - loss 0.68286957 - time (sec): 5.49 - samples/sec: 2352.45 - lr: 0.001000 - momentum: 0.000000\n",
            "2024-11-10 06:45:50,345 epoch 9 - iter 9/34 - loss 0.66230968 - time (sec): 8.28 - samples/sec: 2176.18 - lr: 0.001000 - momentum: 0.000000\n",
            "2024-11-10 06:45:53,439 epoch 9 - iter 12/34 - loss 0.67526850 - time (sec): 11.37 - samples/sec: 2121.90 - lr: 0.001000 - momentum: 0.000000\n",
            "2024-11-10 06:45:56,304 epoch 9 - iter 15/34 - loss 0.68118573 - time (sec): 14.24 - samples/sec: 2194.91 - lr: 0.001000 - momentum: 0.000000\n",
            "2024-11-10 06:45:59,065 epoch 9 - iter 18/34 - loss 0.68341011 - time (sec): 17.00 - samples/sec: 2227.43 - lr: 0.001000 - momentum: 0.000000\n",
            "2024-11-10 06:46:01,983 epoch 9 - iter 21/34 - loss 0.68044528 - time (sec): 19.92 - samples/sec: 2216.12 - lr: 0.001000 - momentum: 0.000000\n",
            "2024-11-10 06:46:05,343 epoch 9 - iter 24/34 - loss 0.68213677 - time (sec): 23.27 - samples/sec: 2193.71 - lr: 0.001000 - momentum: 0.000000\n",
            "2024-11-10 06:46:09,809 epoch 9 - iter 27/34 - loss 0.65977701 - time (sec): 27.74 - samples/sec: 2176.12 - lr: 0.001000 - momentum: 0.000000\n",
            "2024-11-10 06:46:12,926 epoch 9 - iter 30/34 - loss 0.65470158 - time (sec): 30.86 - samples/sec: 2165.92 - lr: 0.001000 - momentum: 0.000000\n",
            "2024-11-10 06:46:16,025 epoch 9 - iter 33/34 - loss 0.64364075 - time (sec): 33.96 - samples/sec: 2171.26 - lr: 0.001000 - momentum: 0.000000\n",
            "2024-11-10 06:46:16,767 ----------------------------------------------------------------------------------------------------\n",
            "2024-11-10 06:46:16,768 EPOCH 9 done: loss 0.6449 - lr: 0.001000\n"
          ]
        },
        {
          "output_type": "stream",
          "name": "stderr",
          "text": [
            "100%|██████████| 1/1 [00:02<00:00,  2.65s/it]"
          ]
        },
        {
          "output_type": "stream",
          "name": "stdout",
          "text": [
            "2024-11-10 06:46:19,474 DEV : loss 0.9013434052467346 - f1-score (micro avg)  0.0\n",
            "2024-11-10 06:46:19,499  - 0 epochs without improvement\n",
            "2024-11-10 06:46:19,502 ----------------------------------------------------------------------------------------------------\n"
          ]
        },
        {
          "output_type": "stream",
          "name": "stderr",
          "text": [
            "\n"
          ]
        },
        {
          "output_type": "stream",
          "name": "stdout",
          "text": [
            "2024-11-10 06:46:22,390 epoch 10 - iter 3/34 - loss 0.62659941 - time (sec): 2.88 - samples/sec: 2245.41 - lr: 0.001000 - momentum: 0.000000\n",
            "2024-11-10 06:46:26,833 epoch 10 - iter 6/34 - loss 0.54192426 - time (sec): 7.33 - samples/sec: 2063.90 - lr: 0.001000 - momentum: 0.000000\n",
            "2024-11-10 06:46:29,721 epoch 10 - iter 9/34 - loss 0.56179132 - time (sec): 10.22 - samples/sec: 2215.05 - lr: 0.001000 - momentum: 0.000000\n",
            "2024-11-10 06:46:33,117 epoch 10 - iter 12/34 - loss 0.59192443 - time (sec): 13.61 - samples/sec: 2194.58 - lr: 0.001000 - momentum: 0.000000\n",
            "2024-11-10 06:46:36,227 epoch 10 - iter 15/34 - loss 0.61155791 - time (sec): 16.72 - samples/sec: 2171.33 - lr: 0.001000 - momentum: 0.000000\n",
            "2024-11-10 06:46:38,603 epoch 10 - iter 18/34 - loss 0.61891236 - time (sec): 19.10 - samples/sec: 2199.25 - lr: 0.001000 - momentum: 0.000000\n",
            "2024-11-10 06:46:41,025 epoch 10 - iter 21/34 - loss 0.64942655 - time (sec): 21.52 - samples/sec: 2209.17 - lr: 0.001000 - momentum: 0.000000\n",
            "2024-11-10 06:46:44,309 epoch 10 - iter 24/34 - loss 0.64390407 - time (sec): 24.80 - samples/sec: 2168.32 - lr: 0.001000 - momentum: 0.000000\n",
            "2024-11-10 06:46:47,497 epoch 10 - iter 27/34 - loss 0.64658917 - time (sec): 27.99 - samples/sec: 2168.20 - lr: 0.001000 - momentum: 0.000000\n",
            "2024-11-10 06:46:50,885 epoch 10 - iter 30/34 - loss 0.63865177 - time (sec): 31.38 - samples/sec: 2155.61 - lr: 0.001000 - momentum: 0.000000\n",
            "2024-11-10 06:46:53,684 epoch 10 - iter 33/34 - loss 0.63186894 - time (sec): 34.18 - samples/sec: 2182.84 - lr: 0.001000 - momentum: 0.000000\n",
            "2024-11-10 06:46:54,443 ----------------------------------------------------------------------------------------------------\n",
            "2024-11-10 06:46:54,445 EPOCH 10 done: loss 0.6340 - lr: 0.001000\n"
          ]
        },
        {
          "output_type": "stream",
          "name": "stderr",
          "text": [
            "100%|██████████| 1/1 [00:01<00:00,  1.94s/it]"
          ]
        },
        {
          "output_type": "stream",
          "name": "stdout",
          "text": [
            "2024-11-10 06:46:56,425 DEV : loss 0.8974453806877136 - f1-score (micro avg)  0.0\n",
            "2024-11-10 06:46:56,439  - 0 epochs without improvement\n",
            "2024-11-10 06:46:56,441 ----------------------------------------------------------------------------------------------------\n"
          ]
        },
        {
          "output_type": "stream",
          "name": "stderr",
          "text": [
            "\n"
          ]
        },
        {
          "output_type": "stream",
          "name": "stdout",
          "text": [
            "2024-11-10 06:46:58,901 epoch 11 - iter 3/34 - loss 0.73512399 - time (sec): 2.46 - samples/sec: 2533.07 - lr: 0.001000 - momentum: 0.000000\n",
            "2024-11-10 06:47:02,144 epoch 11 - iter 6/34 - loss 0.68054520 - time (sec): 5.70 - samples/sec: 2574.06 - lr: 0.001000 - momentum: 0.000000\n",
            "2024-11-10 06:47:06,848 epoch 11 - iter 9/34 - loss 0.61468447 - time (sec): 10.40 - samples/sec: 2303.15 - lr: 0.001000 - momentum: 0.000000\n",
            "2024-11-10 06:47:09,877 epoch 11 - iter 12/34 - loss 0.62451034 - time (sec): 13.43 - samples/sec: 2242.27 - lr: 0.001000 - momentum: 0.000000\n",
            "2024-11-10 06:47:13,376 epoch 11 - iter 15/34 - loss 0.60893554 - time (sec): 16.93 - samples/sec: 2273.95 - lr: 0.001000 - momentum: 0.000000\n",
            "2024-11-10 06:47:16,162 epoch 11 - iter 18/34 - loss 0.61823904 - time (sec): 19.72 - samples/sec: 2278.53 - lr: 0.001000 - momentum: 0.000000\n",
            "2024-11-10 06:47:19,564 epoch 11 - iter 21/34 - loss 0.61462373 - time (sec): 23.12 - samples/sec: 2292.35 - lr: 0.001000 - momentum: 0.000000\n",
            "2024-11-10 06:47:22,613 epoch 11 - iter 24/34 - loss 0.61647056 - time (sec): 26.17 - samples/sec: 2220.19 - lr: 0.001000 - momentum: 0.000000\n",
            "2024-11-10 06:47:25,361 epoch 11 - iter 27/34 - loss 0.62767762 - time (sec): 28.92 - samples/sec: 2208.23 - lr: 0.001000 - momentum: 0.000000\n",
            "2024-11-10 06:47:27,942 epoch 11 - iter 30/34 - loss 0.63125820 - time (sec): 31.50 - samples/sec: 2196.56 - lr: 0.001000 - momentum: 0.000000\n",
            "2024-11-10 06:47:30,332 epoch 11 - iter 33/34 - loss 0.62782066 - time (sec): 33.89 - samples/sec: 2185.72 - lr: 0.001000 - momentum: 0.000000\n",
            "2024-11-10 06:47:30,940 ----------------------------------------------------------------------------------------------------\n",
            "2024-11-10 06:47:30,941 EPOCH 11 done: loss 0.6308 - lr: 0.001000\n"
          ]
        },
        {
          "output_type": "stream",
          "name": "stderr",
          "text": [
            "100%|██████████| 1/1 [00:03<00:00,  3.74s/it]"
          ]
        },
        {
          "output_type": "stream",
          "name": "stdout",
          "text": [
            "2024-11-10 06:47:34,734 DEV : loss 0.8923962712287903 - f1-score (micro avg)  0.0\n",
            "2024-11-10 06:47:34,757  - 0 epochs without improvement\n",
            "2024-11-10 06:47:34,761 ----------------------------------------------------------------------------------------------------\n"
          ]
        },
        {
          "output_type": "stream",
          "name": "stderr",
          "text": [
            "\n"
          ]
        },
        {
          "output_type": "stream",
          "name": "stdout",
          "text": [
            "2024-11-10 06:47:36,910 epoch 12 - iter 3/34 - loss 0.58433455 - time (sec): 2.14 - samples/sec: 2653.29 - lr: 0.001000 - momentum: 0.000000\n",
            "2024-11-10 06:47:40,309 epoch 12 - iter 6/34 - loss 0.59768744 - time (sec): 5.54 - samples/sec: 2405.22 - lr: 0.001000 - momentum: 0.000000\n",
            "2024-11-10 06:47:43,324 epoch 12 - iter 9/34 - loss 0.60776412 - time (sec): 8.56 - samples/sec: 2276.82 - lr: 0.001000 - momentum: 0.000000\n",
            "2024-11-10 06:47:45,821 epoch 12 - iter 12/34 - loss 0.61844495 - time (sec): 11.05 - samples/sec: 2407.18 - lr: 0.001000 - momentum: 0.000000\n",
            "2024-11-10 06:47:48,696 epoch 12 - iter 15/34 - loss 0.64994421 - time (sec): 13.93 - samples/sec: 2271.01 - lr: 0.001000 - momentum: 0.000000\n",
            "2024-11-10 06:47:51,932 epoch 12 - iter 18/34 - loss 0.64896197 - time (sec): 17.16 - samples/sec: 2269.73 - lr: 0.001000 - momentum: 0.000000\n",
            "2024-11-10 06:47:55,393 epoch 12 - iter 21/34 - loss 0.63578663 - time (sec): 20.63 - samples/sec: 2202.30 - lr: 0.001000 - momentum: 0.000000\n",
            "2024-11-10 06:47:59,694 epoch 12 - iter 24/34 - loss 0.61329227 - time (sec): 24.93 - samples/sec: 2164.15 - lr: 0.001000 - momentum: 0.000000\n",
            "2024-11-10 06:48:03,327 epoch 12 - iter 27/34 - loss 0.62362004 - time (sec): 28.56 - samples/sec: 2115.91 - lr: 0.001000 - momentum: 0.000000\n",
            "2024-11-10 06:48:05,940 epoch 12 - iter 30/34 - loss 0.62937508 - time (sec): 31.17 - samples/sec: 2145.69 - lr: 0.001000 - momentum: 0.000000\n",
            "2024-11-10 06:48:09,081 epoch 12 - iter 33/34 - loss 0.62148136 - time (sec): 34.31 - samples/sec: 2148.52 - lr: 0.001000 - momentum: 0.000000\n",
            "2024-11-10 06:48:09,778 ----------------------------------------------------------------------------------------------------\n",
            "2024-11-10 06:48:09,779 EPOCH 12 done: loss 0.6232 - lr: 0.001000\n"
          ]
        },
        {
          "output_type": "stream",
          "name": "stderr",
          "text": [
            "100%|██████████| 1/1 [00:02<00:00,  2.19s/it]"
          ]
        },
        {
          "output_type": "stream",
          "name": "stdout",
          "text": [
            "2024-11-10 06:48:12,007 DEV : loss 0.8852460384368896 - f1-score (micro avg)  0.0\n",
            "2024-11-10 06:48:12,022  - 0 epochs without improvement\n",
            "2024-11-10 06:48:12,024 ----------------------------------------------------------------------------------------------------\n"
          ]
        },
        {
          "output_type": "stream",
          "name": "stderr",
          "text": [
            "\n"
          ]
        },
        {
          "output_type": "stream",
          "name": "stdout",
          "text": [
            "2024-11-10 06:48:14,825 epoch 13 - iter 3/34 - loss 0.61267796 - time (sec): 2.80 - samples/sec: 2643.90 - lr: 0.001000 - momentum: 0.000000\n",
            "2024-11-10 06:48:17,592 epoch 13 - iter 6/34 - loss 0.61072444 - time (sec): 5.56 - samples/sec: 2460.22 - lr: 0.001000 - momentum: 0.000000\n",
            "2024-11-10 06:48:20,826 epoch 13 - iter 9/34 - loss 0.61868894 - time (sec): 8.80 - samples/sec: 2462.43 - lr: 0.001000 - momentum: 0.000000\n",
            "2024-11-10 06:48:23,540 epoch 13 - iter 12/34 - loss 0.65424512 - time (sec): 11.51 - samples/sec: 2365.94 - lr: 0.001000 - momentum: 0.000000\n",
            "2024-11-10 06:48:26,198 epoch 13 - iter 15/34 - loss 0.66167307 - time (sec): 14.17 - samples/sec: 2327.97 - lr: 0.001000 - momentum: 0.000000\n"
          ]
        },
        {
          "output_type": "error",
          "ename": "OutOfMemoryError",
          "evalue": "CUDA out of memory. Tried to allocate 410.00 MiB. GPU 0 has a total capacity of 14.75 GiB of which 333.06 MiB is free. Process 135795 has 14.42 GiB memory in use. Of the allocated memory 13.30 GiB is allocated by PyTorch, and 1015.10 MiB is reserved by PyTorch but unallocated. If reserved but unallocated memory is large try setting PYTORCH_CUDA_ALLOC_CONF=expandable_segments:True to avoid fragmentation.  See documentation for Memory Management  (https://pytorch.org/docs/stable/notes/cuda.html#environment-variables)",
          "traceback": [
            "\u001b[0;31m---------------------------------------------------------------------------\u001b[0m",
            "\u001b[0;31mOutOfMemoryError\u001b[0m                          Traceback (most recent call last)",
            "\u001b[0;32m<ipython-input-6-bb107ab2a177>\u001b[0m in \u001b[0;36m<cell line: 21>\u001b[0;34m()\u001b[0m\n\u001b[1;32m     19\u001b[0m \u001b[0;34m\u001b[0m\u001b[0m\n\u001b[1;32m     20\u001b[0m \u001b[0;31m# test running using Kaggle GPU\u001b[0m\u001b[0;34m\u001b[0m\u001b[0;34m\u001b[0m\u001b[0m\n\u001b[0;32m---> 21\u001b[0;31m trainer.train(\n\u001b[0m\u001b[1;32m     22\u001b[0m     \u001b[0mbase_path\u001b[0m\u001b[0;34m=\u001b[0m\u001b[0;34m'flair_output/'\u001b[0m\u001b[0;34m,\u001b[0m\u001b[0;34m\u001b[0m\u001b[0;34m\u001b[0m\u001b[0m\n\u001b[1;32m     23\u001b[0m     \u001b[0mlearning_rate\u001b[0m\u001b[0;34m=\u001b[0m\u001b[0;36m0.001\u001b[0m\u001b[0;34m,\u001b[0m\u001b[0;34m\u001b[0m\u001b[0;34m\u001b[0m\u001b[0m\n",
            "\u001b[0;32m/usr/local/lib/python3.10/dist-packages/flair/trainers/trainer.py\u001b[0m in \u001b[0;36mtrain\u001b[0;34m(self, base_path, anneal_factor, patience, min_learning_rate, initial_extra_patience, anneal_with_restarts, learning_rate, decoder_learning_rate, mini_batch_size, eval_batch_size, mini_batch_chunk_size, max_epochs, optimizer, train_with_dev, train_with_test, reduce_transformer_vocab, main_evaluation_metric, monitor_test, monitor_train_sample, use_final_model_for_eval, gold_label_dictionary_for_eval, exclude_labels, sampler, shuffle, shuffle_first_epoch, embeddings_storage_mode, epoch, save_final_model, save_optimizer_state, save_model_each_k_epochs, create_file_logs, create_loss_file, write_weights, plugins, attach_default_scheduler, **kwargs)\u001b[0m\n\u001b[1;32m    198\u001b[0m         ]:\n\u001b[1;32m    199\u001b[0m             \u001b[0mlocal_variables\u001b[0m\u001b[0;34m.\u001b[0m\u001b[0mpop\u001b[0m\u001b[0;34m(\u001b[0m\u001b[0mvar\u001b[0m\u001b[0;34m)\u001b[0m\u001b[0;34m\u001b[0m\u001b[0;34m\u001b[0m\u001b[0m\n\u001b[0;32m--> 200\u001b[0;31m         \u001b[0;32mreturn\u001b[0m \u001b[0mself\u001b[0m\u001b[0;34m.\u001b[0m\u001b[0mtrain_custom\u001b[0m\u001b[0;34m(\u001b[0m\u001b[0;34m**\u001b[0m\u001b[0mlocal_variables\u001b[0m\u001b[0;34m,\u001b[0m \u001b[0;34m**\u001b[0m\u001b[0mkwargs\u001b[0m\u001b[0;34m)\u001b[0m\u001b[0;34m\u001b[0m\u001b[0;34m\u001b[0m\u001b[0m\n\u001b[0m\u001b[1;32m    201\u001b[0m \u001b[0;34m\u001b[0m\u001b[0m\n\u001b[1;32m    202\u001b[0m     def fine_tune(\n",
            "\u001b[0;32m/usr/local/lib/python3.10/dist-packages/flair/trainers/trainer.py\u001b[0m in \u001b[0;36mtrain_custom\u001b[0;34m(self, base_path, learning_rate, decoder_learning_rate, mini_batch_size, eval_batch_size, mini_batch_chunk_size, max_epochs, optimizer, train_with_dev, train_with_test, max_grad_norm, reduce_transformer_vocab, main_evaluation_metric, monitor_test, monitor_train_sample, use_final_model_for_eval, gold_label_dictionary_for_eval, exclude_labels, sampler, shuffle, shuffle_first_epoch, embeddings_storage_mode, epoch, save_final_model, save_optimizer_state, save_model_each_k_epochs, create_file_logs, create_loss_file, write_weights, use_amp, plugins, **kwargs)\u001b[0m\n\u001b[1;32m    599\u001b[0m                             \u001b[0;31m# forward pass\u001b[0m\u001b[0;34m\u001b[0m\u001b[0;34m\u001b[0m\u001b[0m\n\u001b[1;32m    600\u001b[0m                             \u001b[0;32mwith\u001b[0m \u001b[0mtorch\u001b[0m\u001b[0;34m.\u001b[0m\u001b[0mautocast\u001b[0m\u001b[0;34m(\u001b[0m\u001b[0mdevice_type\u001b[0m\u001b[0;34m=\u001b[0m\u001b[0mflair\u001b[0m\u001b[0;34m.\u001b[0m\u001b[0mdevice\u001b[0m\u001b[0;34m.\u001b[0m\u001b[0mtype\u001b[0m\u001b[0;34m,\u001b[0m \u001b[0menabled\u001b[0m\u001b[0;34m=\u001b[0m\u001b[0muse_amp\u001b[0m\u001b[0;34m)\u001b[0m\u001b[0;34m:\u001b[0m\u001b[0;34m\u001b[0m\u001b[0;34m\u001b[0m\u001b[0m\n\u001b[0;32m--> 601\u001b[0;31m                                 \u001b[0mloss\u001b[0m\u001b[0;34m,\u001b[0m \u001b[0mdatapoint_count\u001b[0m \u001b[0;34m=\u001b[0m \u001b[0mself\u001b[0m\u001b[0;34m.\u001b[0m\u001b[0mmodel\u001b[0m\u001b[0;34m.\u001b[0m\u001b[0mforward_loss\u001b[0m\u001b[0;34m(\u001b[0m\u001b[0mbatch_step\u001b[0m\u001b[0;34m)\u001b[0m\u001b[0;34m\u001b[0m\u001b[0;34m\u001b[0m\u001b[0m\n\u001b[0m\u001b[1;32m    602\u001b[0m \u001b[0;34m\u001b[0m\u001b[0m\n\u001b[1;32m    603\u001b[0m                             \u001b[0mbatch_train_samples\u001b[0m \u001b[0;34m+=\u001b[0m \u001b[0mdatapoint_count\u001b[0m\u001b[0;34m\u001b[0m\u001b[0;34m\u001b[0m\u001b[0m\n",
            "\u001b[0;32m/usr/local/lib/python3.10/dist-packages/flair/models/sequence_tagger_model.py\u001b[0m in \u001b[0;36mforward_loss\u001b[0;34m(self, sentences)\u001b[0m\n\u001b[1;32m    274\u001b[0m         \u001b[0msentences\u001b[0m \u001b[0;34m=\u001b[0m \u001b[0msorted\u001b[0m\u001b[0;34m(\u001b[0m\u001b[0msentences\u001b[0m\u001b[0;34m,\u001b[0m \u001b[0mkey\u001b[0m\u001b[0;34m=\u001b[0m\u001b[0mlen\u001b[0m\u001b[0;34m,\u001b[0m \u001b[0mreverse\u001b[0m\u001b[0;34m=\u001b[0m\u001b[0;32mTrue\u001b[0m\u001b[0;34m)\u001b[0m\u001b[0;34m\u001b[0m\u001b[0;34m\u001b[0m\u001b[0m\n\u001b[1;32m    275\u001b[0m         \u001b[0mgold_labels\u001b[0m \u001b[0;34m=\u001b[0m \u001b[0mself\u001b[0m\u001b[0;34m.\u001b[0m\u001b[0m_prepare_label_tensor\u001b[0m\u001b[0;34m(\u001b[0m\u001b[0msentences\u001b[0m\u001b[0;34m)\u001b[0m\u001b[0;34m\u001b[0m\u001b[0;34m\u001b[0m\u001b[0m\n\u001b[0;32m--> 276\u001b[0;31m         \u001b[0msentence_tensor\u001b[0m\u001b[0;34m,\u001b[0m \u001b[0mlengths\u001b[0m \u001b[0;34m=\u001b[0m \u001b[0mself\u001b[0m\u001b[0;34m.\u001b[0m\u001b[0m_prepare_tensors\u001b[0m\u001b[0;34m(\u001b[0m\u001b[0msentences\u001b[0m\u001b[0;34m)\u001b[0m\u001b[0;34m\u001b[0m\u001b[0;34m\u001b[0m\u001b[0m\n\u001b[0m\u001b[1;32m    277\u001b[0m \u001b[0;34m\u001b[0m\u001b[0m\n\u001b[1;32m    278\u001b[0m         \u001b[0;31m# forward pass to get scores\u001b[0m\u001b[0;34m\u001b[0m\u001b[0;34m\u001b[0m\u001b[0m\n",
            "\u001b[0;32m/usr/local/lib/python3.10/dist-packages/flair/models/sequence_tagger_model.py\u001b[0m in \u001b[0;36m_prepare_tensors\u001b[0;34m(self, data_points)\u001b[0m\n\u001b[1;32m    284\u001b[0m     \u001b[0;32mdef\u001b[0m \u001b[0m_prepare_tensors\u001b[0m\u001b[0;34m(\u001b[0m\u001b[0mself\u001b[0m\u001b[0;34m,\u001b[0m \u001b[0mdata_points\u001b[0m\u001b[0;34m:\u001b[0m \u001b[0mUnion\u001b[0m\u001b[0;34m[\u001b[0m\u001b[0mList\u001b[0m\u001b[0;34m[\u001b[0m\u001b[0mSentence\u001b[0m\u001b[0;34m]\u001b[0m\u001b[0;34m,\u001b[0m \u001b[0mSentence\u001b[0m\u001b[0;34m]\u001b[0m\u001b[0;34m)\u001b[0m \u001b[0;34m->\u001b[0m \u001b[0mTuple\u001b[0m\u001b[0;34m[\u001b[0m\u001b[0mtorch\u001b[0m\u001b[0;34m.\u001b[0m\u001b[0mTensor\u001b[0m\u001b[0;34m,\u001b[0m \u001b[0mtorch\u001b[0m\u001b[0;34m.\u001b[0m\u001b[0mLongTensor\u001b[0m\u001b[0;34m]\u001b[0m\u001b[0;34m:\u001b[0m\u001b[0;34m\u001b[0m\u001b[0;34m\u001b[0m\u001b[0m\n\u001b[1;32m    285\u001b[0m         \u001b[0msentences\u001b[0m \u001b[0;34m=\u001b[0m \u001b[0;34m[\u001b[0m\u001b[0mdata_points\u001b[0m\u001b[0;34m]\u001b[0m \u001b[0;32mif\u001b[0m \u001b[0;32mnot\u001b[0m \u001b[0misinstance\u001b[0m\u001b[0;34m(\u001b[0m\u001b[0mdata_points\u001b[0m\u001b[0;34m,\u001b[0m \u001b[0mlist\u001b[0m\u001b[0;34m)\u001b[0m \u001b[0;32melse\u001b[0m \u001b[0mdata_points\u001b[0m\u001b[0;34m\u001b[0m\u001b[0;34m\u001b[0m\u001b[0m\n\u001b[0;32m--> 286\u001b[0;31m         \u001b[0mself\u001b[0m\u001b[0;34m.\u001b[0m\u001b[0membeddings\u001b[0m\u001b[0;34m.\u001b[0m\u001b[0membed\u001b[0m\u001b[0;34m(\u001b[0m\u001b[0msentences\u001b[0m\u001b[0;34m)\u001b[0m\u001b[0;34m\u001b[0m\u001b[0;34m\u001b[0m\u001b[0m\n\u001b[0m\u001b[1;32m    287\u001b[0m \u001b[0;34m\u001b[0m\u001b[0m\n\u001b[1;32m    288\u001b[0m         \u001b[0;31m# make a zero-padded tensor for the whole sentence\u001b[0m\u001b[0;34m\u001b[0m\u001b[0;34m\u001b[0m\u001b[0m\n",
            "\u001b[0;32m/usr/local/lib/python3.10/dist-packages/flair/embeddings/base.py\u001b[0m in \u001b[0;36membed\u001b[0;34m(self, data_points)\u001b[0m\n\u001b[1;32m     48\u001b[0m \u001b[0;34m\u001b[0m\u001b[0m\n\u001b[1;32m     49\u001b[0m         \u001b[0;32mif\u001b[0m \u001b[0;32mnot\u001b[0m \u001b[0mself\u001b[0m\u001b[0;34m.\u001b[0m\u001b[0m_everything_embedded\u001b[0m\u001b[0;34m(\u001b[0m\u001b[0mdata_points\u001b[0m\u001b[0;34m)\u001b[0m\u001b[0;34m:\u001b[0m\u001b[0;34m\u001b[0m\u001b[0;34m\u001b[0m\u001b[0m\n\u001b[0;32m---> 50\u001b[0;31m             \u001b[0mself\u001b[0m\u001b[0;34m.\u001b[0m\u001b[0m_add_embeddings_internal\u001b[0m\u001b[0;34m(\u001b[0m\u001b[0mdata_points\u001b[0m\u001b[0;34m)\u001b[0m\u001b[0;34m\u001b[0m\u001b[0;34m\u001b[0m\u001b[0m\n\u001b[0m\u001b[1;32m     51\u001b[0m \u001b[0;34m\u001b[0m\u001b[0m\n\u001b[1;32m     52\u001b[0m         \u001b[0;32mreturn\u001b[0m \u001b[0mdata_points\u001b[0m\u001b[0;34m\u001b[0m\u001b[0;34m\u001b[0m\u001b[0m\n",
            "\u001b[0;32m/usr/local/lib/python3.10/dist-packages/flair/embeddings/transformer.py\u001b[0m in \u001b[0;36m_add_embeddings_internal\u001b[0;34m(self, sentences)\u001b[0m\n\u001b[1;32m    703\u001b[0m         \u001b[0mgradient_context\u001b[0m \u001b[0;34m=\u001b[0m \u001b[0mtorch\u001b[0m\u001b[0;34m.\u001b[0m\u001b[0menable_grad\u001b[0m\u001b[0;34m(\u001b[0m\u001b[0;34m)\u001b[0m \u001b[0;32mif\u001b[0m \u001b[0;34m(\u001b[0m\u001b[0mself\u001b[0m\u001b[0;34m.\u001b[0m\u001b[0mfine_tune\u001b[0m \u001b[0;32mand\u001b[0m \u001b[0mself\u001b[0m\u001b[0;34m.\u001b[0m\u001b[0mtraining\u001b[0m\u001b[0;34m)\u001b[0m \u001b[0;32melse\u001b[0m \u001b[0mtorch\u001b[0m\u001b[0;34m.\u001b[0m\u001b[0mno_grad\u001b[0m\u001b[0;34m(\u001b[0m\u001b[0;34m)\u001b[0m\u001b[0;34m\u001b[0m\u001b[0;34m\u001b[0m\u001b[0m\n\u001b[1;32m    704\u001b[0m         \u001b[0;32mwith\u001b[0m \u001b[0mgradient_context\u001b[0m\u001b[0;34m:\u001b[0m\u001b[0;34m\u001b[0m\u001b[0;34m\u001b[0m\u001b[0m\n\u001b[0;32m--> 705\u001b[0;31m             \u001b[0membeddings\u001b[0m \u001b[0;34m=\u001b[0m \u001b[0mself\u001b[0m\u001b[0;34m.\u001b[0m\u001b[0m_forward_tensors\u001b[0m\u001b[0;34m(\u001b[0m\u001b[0mtensors\u001b[0m\u001b[0;34m)\u001b[0m\u001b[0;34m\u001b[0m\u001b[0;34m\u001b[0m\u001b[0m\n\u001b[0m\u001b[1;32m    706\u001b[0m \u001b[0;34m\u001b[0m\u001b[0m\n\u001b[1;32m    707\u001b[0m         \u001b[0;32mif\u001b[0m \u001b[0mself\u001b[0m\u001b[0;34m.\u001b[0m\u001b[0mdocument_embedding\u001b[0m\u001b[0;34m:\u001b[0m\u001b[0;34m\u001b[0m\u001b[0;34m\u001b[0m\u001b[0m\n",
            "\u001b[0;32m/usr/local/lib/python3.10/dist-packages/flair/embeddings/transformer.py\u001b[0m in \u001b[0;36m_forward_tensors\u001b[0;34m(self, tensors)\u001b[0m\n\u001b[1;32m   1481\u001b[0m \u001b[0;34m\u001b[0m\u001b[0m\n\u001b[1;32m   1482\u001b[0m     \u001b[0;32mdef\u001b[0m \u001b[0m_forward_tensors\u001b[0m\u001b[0;34m(\u001b[0m\u001b[0mself\u001b[0m\u001b[0;34m,\u001b[0m \u001b[0mtensors\u001b[0m\u001b[0;34m)\u001b[0m \u001b[0;34m->\u001b[0m \u001b[0mDict\u001b[0m\u001b[0;34m[\u001b[0m\u001b[0mstr\u001b[0m\u001b[0;34m,\u001b[0m \u001b[0mtorch\u001b[0m\u001b[0;34m.\u001b[0m\u001b[0mTensor\u001b[0m\u001b[0;34m]\u001b[0m\u001b[0;34m:\u001b[0m\u001b[0;34m\u001b[0m\u001b[0;34m\u001b[0m\u001b[0m\n\u001b[0;32m-> 1483\u001b[0;31m         \u001b[0;32mreturn\u001b[0m \u001b[0mself\u001b[0m\u001b[0;34m.\u001b[0m\u001b[0mforward\u001b[0m\u001b[0;34m(\u001b[0m\u001b[0;34m**\u001b[0m\u001b[0mtensors\u001b[0m\u001b[0;34m)\u001b[0m\u001b[0;34m\u001b[0m\u001b[0;34m\u001b[0m\u001b[0m\n\u001b[0m\u001b[1;32m   1484\u001b[0m \u001b[0;34m\u001b[0m\u001b[0m\n\u001b[1;32m   1485\u001b[0m     def export_onnx(\n",
            "\u001b[0;32m/usr/local/lib/python3.10/dist-packages/flair/embeddings/transformer.py\u001b[0m in \u001b[0;36mforward\u001b[0;34m(self, input_ids, sub_token_lengths, token_lengths, attention_mask, overflow_to_sample_mapping, word_ids, langs, bbox, pixel_values)\u001b[0m\n\u001b[1;32m   1383\u001b[0m         \u001b[0mhidden_states\u001b[0m \u001b[0;34m=\u001b[0m \u001b[0mself\u001b[0m\u001b[0;34m.\u001b[0m\u001b[0mmodel\u001b[0m\u001b[0;34m(\u001b[0m\u001b[0minput_ids\u001b[0m\u001b[0;34m,\u001b[0m \u001b[0;34m**\u001b[0m\u001b[0mmodel_kwargs\u001b[0m\u001b[0;34m)\u001b[0m\u001b[0;34m[\u001b[0m\u001b[0;34m-\u001b[0m\u001b[0;36m1\u001b[0m\u001b[0;34m]\u001b[0m\u001b[0;34m\u001b[0m\u001b[0;34m\u001b[0m\u001b[0m\n\u001b[1;32m   1384\u001b[0m         \u001b[0;31m# make the tuple a tensor; makes working with it easier.\u001b[0m\u001b[0;34m\u001b[0m\u001b[0;34m\u001b[0m\u001b[0m\n\u001b[0;32m-> 1385\u001b[0;31m         \u001b[0mhidden_states\u001b[0m \u001b[0;34m=\u001b[0m \u001b[0mtorch\u001b[0m\u001b[0;34m.\u001b[0m\u001b[0mstack\u001b[0m\u001b[0;34m(\u001b[0m\u001b[0mhidden_states\u001b[0m\u001b[0;34m)\u001b[0m\u001b[0;34m\u001b[0m\u001b[0;34m\u001b[0m\u001b[0m\n\u001b[0m\u001b[1;32m   1386\u001b[0m \u001b[0;34m\u001b[0m\u001b[0m\n\u001b[1;32m   1387\u001b[0m         \u001b[0;31m# for multimodal models like layoutlmv3, we truncate the image embeddings as they are only used via attention\u001b[0m\u001b[0;34m\u001b[0m\u001b[0;34m\u001b[0m\u001b[0m\n",
            "\u001b[0;31mOutOfMemoryError\u001b[0m: CUDA out of memory. Tried to allocate 410.00 MiB. GPU 0 has a total capacity of 14.75 GiB of which 333.06 MiB is free. Process 135795 has 14.42 GiB memory in use. Of the allocated memory 13.30 GiB is allocated by PyTorch, and 1015.10 MiB is reserved by PyTorch but unallocated. If reserved but unallocated memory is large try setting PYTORCH_CUDA_ALLOC_CONF=expandable_segments:True to avoid fragmentation.  See documentation for Memory Management  (https://pytorch.org/docs/stable/notes/cuda.html#environment-variables)"
          ]
        }
      ]
    },
    {
      "cell_type": "code",
      "source": [
        "# evaluate model\n",
        "\n",
        "from flair.data import Corpus\n",
        "from flair.datasets import ColumnCorpus\n",
        "from flair.models import SequenceTagger\n",
        "from flair.trainers import ModelTrainer\n",
        "\n",
        "# load the trained model\n",
        "model = SequenceTagger.load('/content/drive/MyDrive/FYP/Implementation/flair_output/final-model.pt')\n",
        "\n",
        "# evaluate the model on the test set\n",
        "result = model.evaluate(corpus.test, gold_label_type='ner', mini_batch_size=32)\n",
        "\n",
        "# print the results\n",
        "# print(\"Evaluation Loss:\", eval_loss)\n",
        "print(result.detailed_results)  # print the precision, recall, and F1-score per entity type"
      ],
      "metadata": {
        "id": "6KT8wj3Lns2c",
        "colab": {
          "base_uri": "https://localhost:8080/"
        },
        "outputId": "68d2a6fe-657d-4e0f-b5e4-ff01d13bf798"
      },
      "id": "6KT8wj3Lns2c",
      "execution_count": null,
      "outputs": [
        {
          "output_type": "stream",
          "name": "stdout",
          "text": [
            "2024-11-10 06:34:15,115 SequenceTagger predicts: Dictionary with 45 tags: O, S-SKILL, B-SKILL, E-SKILL, I-SKILL, S-JOB, B-JOB, E-JOB, I-JOB, S-WORK, B-WORK, E-WORK, I-WORK, S-COMPANY, B-COMPANY, E-COMPANY, I-COMPANY, S-LOC, B-LOC, E-LOC, I-LOC, S-UNI, B-UNI, E-UNI, I-UNI, S-DEG, B-DEG, E-DEG, I-DEG, S-NAME, B-NAME, E-NAME, I-NAME, S-PHONE, B-PHONE, E-PHONE, I-PHONE, S-STUDY, B-STUDY, E-STUDY, I-STUDY, S-EMAIL, B-EMAIL, E-EMAIL, I-EMAIL\n"
          ]
        },
        {
          "output_type": "stream",
          "name": "stderr",
          "text": [
            "100%|██████████| 3/3 [00:03<00:00,  1.33s/it]"
          ]
        },
        {
          "output_type": "stream",
          "name": "stdout",
          "text": [
            "\n",
            "Results:\n",
            "- F-score (micro) 0.5075\n",
            "- F-score (macro) 0.6301\n",
            "- Accuracy 0.3429\n",
            "\n",
            "By class:\n",
            "              precision    recall  f1-score   support\n",
            "\n",
            "       SKILL     0.3338    0.4100    0.3680       561\n",
            "         JOB     0.4715    0.6190    0.5353       147\n",
            "        WORK     0.7453    0.9160    0.8219       131\n",
            "     COMPANY     0.4531    0.5273    0.4874       110\n",
            "         LOC     0.5641    0.2973    0.3894        74\n",
            "         UNI     0.3729    0.4681    0.4151        47\n",
            "         DEG     0.5849    0.6200    0.6019        50\n",
            "       STUDY     0.6667    0.6190    0.6420        42\n",
            "       PHONE     1.0000    1.0000    1.0000        36\n",
            "        NAME     0.9412    0.8649    0.9014        37\n",
            "       EMAIL     0.6410    0.9615    0.7692        26\n",
            "\n",
            "   micro avg     0.4714    0.5496    0.5075      1261\n",
            "   macro avg     0.6159    0.6639    0.6301      1261\n",
            "weighted avg     0.4822    0.5496    0.5085      1261\n",
            "\n"
          ]
        },
        {
          "output_type": "stream",
          "name": "stderr",
          "text": [
            "\n"
          ]
        }
      ]
    },
    {
      "cell_type": "code",
      "source": [
        "# make prediction\n",
        "\n",
        "from flair.models import SequenceTagger\n",
        "from flair.data import Sentence\n",
        "import spacy, string\n",
        "from spacy import displacy\n",
        "\n",
        "# load trained Flair NER model\n",
        "tagger = SequenceTagger.load('/content/drive/MyDrive/FYP/Implementation/flair_output/best-model.pt')\n",
        "\n",
        "resume_text = '''\n",
        "John Doe lives at 1234 Elm Street in Los Angeles, CA 90001. He can be reached at +1 (555) 123-4567 or via email at john.doe@example.com. John is a results-driven software engineer with over 5 years of experience in web development and cloud infrastructure, with strong knowledge of JavaScript, Python, and cloud technologies like AWS and Azure. Currently, he works as a Software Engineer at Google LLC in San Francisco, CA, where he has been employed since August 2019. In this role, he has developed scalable web applications using JavaScript, Node.js, and React, deployed and maintained cloud infrastructure on AWS, reducing downtime by 20%, and led a team of 4 engineers to enhance backend performance by 30%. Previously, he worked as a Junior Developer at Tech Innovators Inc. in Austin, TX, from July 2017 to July 2019, where he created RESTful APIs using Python and Flask, collaborated with front-end developers to build and deploy user-facing applications, and wrote unit and integration tests, improving code coverage by 15%.\n",
        "\n",
        "John holds a Master of Science in Computer Science from the University of California, Berkeley, with a graduation date of May 2017, and a Bachelor of Science in Information Technology from the University of Texas at Austin, graduated in May 2015. His skillset includes proficiency in programming languages like Python, JavaScript, and Java; frameworks such as React, Flask, and Django; cloud platforms including AWS, Google Cloud, and Azure; as well as other tools like Git, Docker, Kubernetes, and SQL. He is certified as an AWS Certified Solutions Architect – Associate, earned in 2020, and as a Google Professional Cloud Architect, earned in 2021'\n",
        "'''\n",
        "\n",
        "# make into all small letter and remove punctuations\n",
        "resume_text = resume_text.lower()\n",
        "resume_text = resume_text.translate(str.maketrans('', '', string.punctuation))\n",
        "\n",
        "# step 1: predict entities using Flair trained model\n",
        "sentence = Sentence(resume_text)\n",
        "tagger.predict(sentence)\n",
        "\n",
        "# step 2: convert Flair predictions to spaCy doc format\n",
        "# initialize a blank spaCy NLP pipeline\n",
        "nlp = spacy.blank(\"en\")\n",
        "doc = nlp(resume_text)\n",
        "\n",
        "# extract entities from Flair prediction and convert to spaCy format\n",
        "ents = []\n",
        "for entity in sentence.get_spans('ner'):\n",
        "    start, end = entity.start_position, entity.end_position\n",
        "    label = entity.tag\n",
        "    span = doc.char_span(start, end, label=label)\n",
        "    if span is not None:\n",
        "        ents.append(span)\n",
        "\n",
        "# set the entities in the spaCy doc\n",
        "doc.ents = ents\n",
        "\n",
        "# step 3: visualization of prediction using displacy\n",
        "displacy.render(doc, style=\"ent\", jupyter=True)\n"
      ],
      "metadata": {
        "colab": {
          "base_uri": "https://localhost:8080/",
          "height": 614
        },
        "id": "0DZ319Yi-1eq",
        "outputId": "f57e0297-b2d5-4533-8605-817dac045557"
      },
      "id": "0DZ319Yi-1eq",
      "execution_count": null,
      "outputs": [
        {
          "output_type": "stream",
          "name": "stdout",
          "text": [
            "2024-11-10 06:35:04,393 SequenceTagger predicts: Dictionary with 45 tags: O, S-SKILL, B-SKILL, E-SKILL, I-SKILL, S-JOB, B-JOB, E-JOB, I-JOB, S-WORK, B-WORK, E-WORK, I-WORK, S-COMPANY, B-COMPANY, E-COMPANY, I-COMPANY, S-LOC, B-LOC, E-LOC, I-LOC, S-UNI, B-UNI, E-UNI, I-UNI, S-DEG, B-DEG, E-DEG, I-DEG, S-NAME, B-NAME, E-NAME, I-NAME, S-PHONE, B-PHONE, E-PHONE, I-PHONE, S-STUDY, B-STUDY, E-STUDY, I-STUDY, S-EMAIL, B-EMAIL, E-EMAIL, I-EMAIL\n"
          ]
        },
        {
          "output_type": "stream",
          "name": "stderr",
          "text": [
            "/usr/local/lib/python3.10/dist-packages/spacy/util.py:1740: UserWarning: [W111] Jupyter notebook detected: if using `prefer_gpu()` or `require_gpu()`, include it in the same cell right before `spacy.load()` to ensure that the model is loaded on the correct device. More information: http://spacy.io/usage/v3#jupyter-notebook-gpu\n",
            "  warnings.warn(Warnings.W111)\n"
          ]
        },
        {
          "output_type": "display_data",
          "data": {
            "text/plain": [
              "<IPython.core.display.HTML object>"
            ],
            "text/html": [
              "<span class=\"tex2jax_ignore\"><div class=\"entities\" style=\"line-height: 2.5; direction: ltr\"><br>\n",
              "<mark class=\"entity\" style=\"background: #ddd; padding: 0.45em 0.6em; margin: 0 0.25em; line-height: 1; border-radius: 0.35em;\">\n",
              "    john doe\n",
              "    <span style=\"font-size: 0.8em; font-weight: bold; line-height: 1; border-radius: 0.35em; vertical-align: middle; margin-left: 0.5rem\">NAME</span>\n",
              "</mark>\n",
              " lives at 1234 elm street in \n",
              "<mark class=\"entity\" style=\"background: #ff9561; padding: 0.45em 0.6em; margin: 0 0.25em; line-height: 1; border-radius: 0.35em;\">\n",
              "    los angeles\n",
              "    <span style=\"font-size: 0.8em; font-weight: bold; line-height: 1; border-radius: 0.35em; vertical-align: middle; margin-left: 0.5rem\">LOC</span>\n",
              "</mark>\n",
              " ca 90001 he can be reached at \n",
              "<mark class=\"entity\" style=\"background: #ddd; padding: 0.45em 0.6em; margin: 0 0.25em; line-height: 1; border-radius: 0.35em;\">\n",
              "    1\n",
              "    <span style=\"font-size: 0.8em; font-weight: bold; line-height: 1; border-radius: 0.35em; vertical-align: middle; margin-left: 0.5rem\">PHONE</span>\n",
              "</mark>\n",
              " \n",
              "<mark class=\"entity\" style=\"background: #ddd; padding: 0.45em 0.6em; margin: 0 0.25em; line-height: 1; border-radius: 0.35em;\">\n",
              "    555 1234567\n",
              "    <span style=\"font-size: 0.8em; font-weight: bold; line-height: 1; border-radius: 0.35em; vertical-align: middle; margin-left: 0.5rem\">PHONE</span>\n",
              "</mark>\n",
              " or via email at \n",
              "<mark class=\"entity\" style=\"background: #ddd; padding: 0.45em 0.6em; margin: 0 0.25em; line-height: 1; border-radius: 0.35em;\">\n",
              "    johndoeexamplecom\n",
              "    <span style=\"font-size: 0.8em; font-weight: bold; line-height: 1; border-radius: 0.35em; vertical-align: middle; margin-left: 0.5rem\">EMAIL</span>\n",
              "</mark>\n",
              " john is a resultsdriven software \n",
              "<mark class=\"entity\" style=\"background: #ddd; padding: 0.45em 0.6em; margin: 0 0.25em; line-height: 1; border-radius: 0.35em;\">\n",
              "    engineer\n",
              "    <span style=\"font-size: 0.8em; font-weight: bold; line-height: 1; border-radius: 0.35em; vertical-align: middle; margin-left: 0.5rem\">JOB</span>\n",
              "</mark>\n",
              " with over 5 years of experience in \n",
              "<mark class=\"entity\" style=\"background: #ddd; padding: 0.45em 0.6em; margin: 0 0.25em; line-height: 1; border-radius: 0.35em;\">\n",
              "    web development\n",
              "    <span style=\"font-size: 0.8em; font-weight: bold; line-height: 1; border-radius: 0.35em; vertical-align: middle; margin-left: 0.5rem\">SKILL</span>\n",
              "</mark>\n",
              " and \n",
              "<mark class=\"entity\" style=\"background: #ddd; padding: 0.45em 0.6em; margin: 0 0.25em; line-height: 1; border-radius: 0.35em;\">\n",
              "    cloud infrastructure\n",
              "    <span style=\"font-size: 0.8em; font-weight: bold; line-height: 1; border-radius: 0.35em; vertical-align: middle; margin-left: 0.5rem\">SKILL</span>\n",
              "</mark>\n",
              " with strong knowledge of \n",
              "<mark class=\"entity\" style=\"background: #ddd; padding: 0.45em 0.6em; margin: 0 0.25em; line-height: 1; border-radius: 0.35em;\">\n",
              "    javascript\n",
              "    <span style=\"font-size: 0.8em; font-weight: bold; line-height: 1; border-radius: 0.35em; vertical-align: middle; margin-left: 0.5rem\">SKILL</span>\n",
              "</mark>\n",
              " \n",
              "<mark class=\"entity\" style=\"background: #ddd; padding: 0.45em 0.6em; margin: 0 0.25em; line-height: 1; border-radius: 0.35em;\">\n",
              "    python\n",
              "    <span style=\"font-size: 0.8em; font-weight: bold; line-height: 1; border-radius: 0.35em; vertical-align: middle; margin-left: 0.5rem\">SKILL</span>\n",
              "</mark>\n",
              " and cloud technologies like \n",
              "<mark class=\"entity\" style=\"background: #ddd; padding: 0.45em 0.6em; margin: 0 0.25em; line-height: 1; border-radius: 0.35em;\">\n",
              "    aws\n",
              "    <span style=\"font-size: 0.8em; font-weight: bold; line-height: 1; border-radius: 0.35em; vertical-align: middle; margin-left: 0.5rem\">SKILL</span>\n",
              "</mark>\n",
              " and \n",
              "<mark class=\"entity\" style=\"background: #ddd; padding: 0.45em 0.6em; margin: 0 0.25em; line-height: 1; border-radius: 0.35em;\">\n",
              "    azure\n",
              "    <span style=\"font-size: 0.8em; font-weight: bold; line-height: 1; border-radius: 0.35em; vertical-align: middle; margin-left: 0.5rem\">SKILL</span>\n",
              "</mark>\n",
              " currently he works as a \n",
              "<mark class=\"entity\" style=\"background: #ddd; padding: 0.45em 0.6em; margin: 0 0.25em; line-height: 1; border-radius: 0.35em;\">\n",
              "    software engineer\n",
              "    <span style=\"font-size: 0.8em; font-weight: bold; line-height: 1; border-radius: 0.35em; vertical-align: middle; margin-left: 0.5rem\">JOB</span>\n",
              "</mark>\n",
              " at google \n",
              "<mark class=\"entity\" style=\"background: #ddd; padding: 0.45em 0.6em; margin: 0 0.25em; line-height: 1; border-radius: 0.35em;\">\n",
              "    llc\n",
              "    <span style=\"font-size: 0.8em; font-weight: bold; line-height: 1; border-radius: 0.35em; vertical-align: middle; margin-left: 0.5rem\">COMPANY</span>\n",
              "</mark>\n",
              " in san francisco ca where he has been employed since august 2019 in this role he has developed scalable web applications using \n",
              "<mark class=\"entity\" style=\"background: #ddd; padding: 0.45em 0.6em; margin: 0 0.25em; line-height: 1; border-radius: 0.35em;\">\n",
              "    javascript\n",
              "    <span style=\"font-size: 0.8em; font-weight: bold; line-height: 1; border-radius: 0.35em; vertical-align: middle; margin-left: 0.5rem\">SKILL</span>\n",
              "</mark>\n",
              " \n",
              "<mark class=\"entity\" style=\"background: #ddd; padding: 0.45em 0.6em; margin: 0 0.25em; line-height: 1; border-radius: 0.35em;\">\n",
              "    nodejs\n",
              "    <span style=\"font-size: 0.8em; font-weight: bold; line-height: 1; border-radius: 0.35em; vertical-align: middle; margin-left: 0.5rem\">SKILL</span>\n",
              "</mark>\n",
              " and react deployed and maintained cloud infrastructure on \n",
              "<mark class=\"entity\" style=\"background: #ddd; padding: 0.45em 0.6em; margin: 0 0.25em; line-height: 1; border-radius: 0.35em;\">\n",
              "    aws\n",
              "    <span style=\"font-size: 0.8em; font-weight: bold; line-height: 1; border-radius: 0.35em; vertical-align: middle; margin-left: 0.5rem\">SKILL</span>\n",
              "</mark>\n",
              " reducing downtime by 20 and led a team of 4 engineers to enhance backend performance by 30 previously he worked as \n",
              "<mark class=\"entity\" style=\"background: #ddd; padding: 0.45em 0.6em; margin: 0 0.25em; line-height: 1; border-radius: 0.35em;\">\n",
              "    a\n",
              "    <span style=\"font-size: 0.8em; font-weight: bold; line-height: 1; border-radius: 0.35em; vertical-align: middle; margin-left: 0.5rem\">JOB</span>\n",
              "</mark>\n",
              " \n",
              "<mark class=\"entity\" style=\"background: #ddd; padding: 0.45em 0.6em; margin: 0 0.25em; line-height: 1; border-radius: 0.35em;\">\n",
              "    junior developer\n",
              "    <span style=\"font-size: 0.8em; font-weight: bold; line-height: 1; border-radius: 0.35em; vertical-align: middle; margin-left: 0.5rem\">JOB</span>\n",
              "</mark>\n",
              " at \n",
              "<mark class=\"entity\" style=\"background: #ddd; padding: 0.45em 0.6em; margin: 0 0.25em; line-height: 1; border-radius: 0.35em;\">\n",
              "    tech innovators inc\n",
              "    <span style=\"font-size: 0.8em; font-weight: bold; line-height: 1; border-radius: 0.35em; vertical-align: middle; margin-left: 0.5rem\">COMPANY</span>\n",
              "</mark>\n",
              " in austin tx from \n",
              "<mark class=\"entity\" style=\"background: #ddd; padding: 0.45em 0.6em; margin: 0 0.25em; line-height: 1; border-radius: 0.35em;\">\n",
              "    july 2017\n",
              "    <span style=\"font-size: 0.8em; font-weight: bold; line-height: 1; border-radius: 0.35em; vertical-align: middle; margin-left: 0.5rem\">WORK</span>\n",
              "</mark>\n",
              " to \n",
              "<mark class=\"entity\" style=\"background: #ddd; padding: 0.45em 0.6em; margin: 0 0.25em; line-height: 1; border-radius: 0.35em;\">\n",
              "    july\n",
              "    <span style=\"font-size: 0.8em; font-weight: bold; line-height: 1; border-radius: 0.35em; vertical-align: middle; margin-left: 0.5rem\">WORK</span>\n",
              "</mark>\n",
              " 2019 where he created \n",
              "<mark class=\"entity\" style=\"background: #ddd; padding: 0.45em 0.6em; margin: 0 0.25em; line-height: 1; border-radius: 0.35em;\">\n",
              "    restful\n",
              "    <span style=\"font-size: 0.8em; font-weight: bold; line-height: 1; border-radius: 0.35em; vertical-align: middle; margin-left: 0.5rem\">SKILL</span>\n",
              "</mark>\n",
              " \n",
              "<mark class=\"entity\" style=\"background: #ddd; padding: 0.45em 0.6em; margin: 0 0.25em; line-height: 1; border-radius: 0.35em;\">\n",
              "    apis\n",
              "    <span style=\"font-size: 0.8em; font-weight: bold; line-height: 1; border-radius: 0.35em; vertical-align: middle; margin-left: 0.5rem\">SKILL</span>\n",
              "</mark>\n",
              " using \n",
              "<mark class=\"entity\" style=\"background: #ddd; padding: 0.45em 0.6em; margin: 0 0.25em; line-height: 1; border-radius: 0.35em;\">\n",
              "    python\n",
              "    <span style=\"font-size: 0.8em; font-weight: bold; line-height: 1; border-radius: 0.35em; vertical-align: middle; margin-left: 0.5rem\">SKILL</span>\n",
              "</mark>\n",
              " and \n",
              "<mark class=\"entity\" style=\"background: #ddd; padding: 0.45em 0.6em; margin: 0 0.25em; line-height: 1; border-radius: 0.35em;\">\n",
              "    flask\n",
              "    <span style=\"font-size: 0.8em; font-weight: bold; line-height: 1; border-radius: 0.35em; vertical-align: middle; margin-left: 0.5rem\">SKILL</span>\n",
              "</mark>\n",
              " collaborated with frontend developers to build and deploy userfacing applications and wrote unit and integration tests improving code coverage by 15<br><br>john holds \n",
              "<mark class=\"entity\" style=\"background: #ddd; padding: 0.45em 0.6em; margin: 0 0.25em; line-height: 1; border-radius: 0.35em;\">\n",
              "    a\n",
              "    <span style=\"font-size: 0.8em; font-weight: bold; line-height: 1; border-radius: 0.35em; vertical-align: middle; margin-left: 0.5rem\">DEG</span>\n",
              "</mark>\n",
              " \n",
              "<mark class=\"entity\" style=\"background: #ddd; padding: 0.45em 0.6em; margin: 0 0.25em; line-height: 1; border-radius: 0.35em;\">\n",
              "    master of science in computer science\n",
              "    <span style=\"font-size: 0.8em; font-weight: bold; line-height: 1; border-radius: 0.35em; vertical-align: middle; margin-left: 0.5rem\">DEG</span>\n",
              "</mark>\n",
              " from \n",
              "<mark class=\"entity\" style=\"background: #ddd; padding: 0.45em 0.6em; margin: 0 0.25em; line-height: 1; border-radius: 0.35em;\">\n",
              "    the university of california berkeley\n",
              "    <span style=\"font-size: 0.8em; font-weight: bold; line-height: 1; border-radius: 0.35em; vertical-align: middle; margin-left: 0.5rem\">UNI</span>\n",
              "</mark>\n",
              " with a graduation date of may 2017 and \n",
              "<mark class=\"entity\" style=\"background: #ddd; padding: 0.45em 0.6em; margin: 0 0.25em; line-height: 1; border-radius: 0.35em;\">\n",
              "    a\n",
              "    <span style=\"font-size: 0.8em; font-weight: bold; line-height: 1; border-radius: 0.35em; vertical-align: middle; margin-left: 0.5rem\">DEG</span>\n",
              "</mark>\n",
              " \n",
              "<mark class=\"entity\" style=\"background: #ddd; padding: 0.45em 0.6em; margin: 0 0.25em; line-height: 1; border-radius: 0.35em;\">\n",
              "    bachelor of science in information technology\n",
              "    <span style=\"font-size: 0.8em; font-weight: bold; line-height: 1; border-radius: 0.35em; vertical-align: middle; margin-left: 0.5rem\">DEG</span>\n",
              "</mark>\n",
              " from \n",
              "<mark class=\"entity\" style=\"background: #ddd; padding: 0.45em 0.6em; margin: 0 0.25em; line-height: 1; border-radius: 0.35em;\">\n",
              "    the university of texas at\n",
              "    <span style=\"font-size: 0.8em; font-weight: bold; line-height: 1; border-radius: 0.35em; vertical-align: middle; margin-left: 0.5rem\">UNI</span>\n",
              "</mark>\n",
              " austin graduated in may \n",
              "<mark class=\"entity\" style=\"background: #ddd; padding: 0.45em 0.6em; margin: 0 0.25em; line-height: 1; border-radius: 0.35em;\">\n",
              "    2015\n",
              "    <span style=\"font-size: 0.8em; font-weight: bold; line-height: 1; border-radius: 0.35em; vertical-align: middle; margin-left: 0.5rem\">STUDY</span>\n",
              "</mark>\n",
              " his skillset includes proficiency in programming languages like \n",
              "<mark class=\"entity\" style=\"background: #ddd; padding: 0.45em 0.6em; margin: 0 0.25em; line-height: 1; border-radius: 0.35em;\">\n",
              "    python\n",
              "    <span style=\"font-size: 0.8em; font-weight: bold; line-height: 1; border-radius: 0.35em; vertical-align: middle; margin-left: 0.5rem\">SKILL</span>\n",
              "</mark>\n",
              " \n",
              "<mark class=\"entity\" style=\"background: #ddd; padding: 0.45em 0.6em; margin: 0 0.25em; line-height: 1; border-radius: 0.35em;\">\n",
              "    javascript\n",
              "    <span style=\"font-size: 0.8em; font-weight: bold; line-height: 1; border-radius: 0.35em; vertical-align: middle; margin-left: 0.5rem\">SKILL</span>\n",
              "</mark>\n",
              " and java frameworks such as \n",
              "<mark class=\"entity\" style=\"background: #ddd; padding: 0.45em 0.6em; margin: 0 0.25em; line-height: 1; border-radius: 0.35em;\">\n",
              "    react\n",
              "    <span style=\"font-size: 0.8em; font-weight: bold; line-height: 1; border-radius: 0.35em; vertical-align: middle; margin-left: 0.5rem\">SKILL</span>\n",
              "</mark>\n",
              " \n",
              "<mark class=\"entity\" style=\"background: #ddd; padding: 0.45em 0.6em; margin: 0 0.25em; line-height: 1; border-radius: 0.35em;\">\n",
              "    flask\n",
              "    <span style=\"font-size: 0.8em; font-weight: bold; line-height: 1; border-radius: 0.35em; vertical-align: middle; margin-left: 0.5rem\">SKILL</span>\n",
              "</mark>\n",
              " and \n",
              "<mark class=\"entity\" style=\"background: #ddd; padding: 0.45em 0.6em; margin: 0 0.25em; line-height: 1; border-radius: 0.35em;\">\n",
              "    django\n",
              "    <span style=\"font-size: 0.8em; font-weight: bold; line-height: 1; border-radius: 0.35em; vertical-align: middle; margin-left: 0.5rem\">SKILL</span>\n",
              "</mark>\n",
              " cloud platforms including \n",
              "<mark class=\"entity\" style=\"background: #ddd; padding: 0.45em 0.6em; margin: 0 0.25em; line-height: 1; border-radius: 0.35em;\">\n",
              "    aws\n",
              "    <span style=\"font-size: 0.8em; font-weight: bold; line-height: 1; border-radius: 0.35em; vertical-align: middle; margin-left: 0.5rem\">SKILL</span>\n",
              "</mark>\n",
              " \n",
              "<mark class=\"entity\" style=\"background: #ddd; padding: 0.45em 0.6em; margin: 0 0.25em; line-height: 1; border-radius: 0.35em;\">\n",
              "    google\n",
              "    <span style=\"font-size: 0.8em; font-weight: bold; line-height: 1; border-radius: 0.35em; vertical-align: middle; margin-left: 0.5rem\">SKILL</span>\n",
              "</mark>\n",
              " cloud and \n",
              "<mark class=\"entity\" style=\"background: #ddd; padding: 0.45em 0.6em; margin: 0 0.25em; line-height: 1; border-radius: 0.35em;\">\n",
              "    azure\n",
              "    <span style=\"font-size: 0.8em; font-weight: bold; line-height: 1; border-radius: 0.35em; vertical-align: middle; margin-left: 0.5rem\">SKILL</span>\n",
              "</mark>\n",
              " as well as other tools like \n",
              "<mark class=\"entity\" style=\"background: #ddd; padding: 0.45em 0.6em; margin: 0 0.25em; line-height: 1; border-radius: 0.35em;\">\n",
              "    git\n",
              "    <span style=\"font-size: 0.8em; font-weight: bold; line-height: 1; border-radius: 0.35em; vertical-align: middle; margin-left: 0.5rem\">SKILL</span>\n",
              "</mark>\n",
              " \n",
              "<mark class=\"entity\" style=\"background: #ddd; padding: 0.45em 0.6em; margin: 0 0.25em; line-height: 1; border-radius: 0.35em;\">\n",
              "    docker\n",
              "    <span style=\"font-size: 0.8em; font-weight: bold; line-height: 1; border-radius: 0.35em; vertical-align: middle; margin-left: 0.5rem\">SKILL</span>\n",
              "</mark>\n",
              " \n",
              "<mark class=\"entity\" style=\"background: #ddd; padding: 0.45em 0.6em; margin: 0 0.25em; line-height: 1; border-radius: 0.35em;\">\n",
              "    kubernetes\n",
              "    <span style=\"font-size: 0.8em; font-weight: bold; line-height: 1; border-radius: 0.35em; vertical-align: middle; margin-left: 0.5rem\">SKILL</span>\n",
              "</mark>\n",
              " and \n",
              "<mark class=\"entity\" style=\"background: #ddd; padding: 0.45em 0.6em; margin: 0 0.25em; line-height: 1; border-radius: 0.35em;\">\n",
              "    sql\n",
              "    <span style=\"font-size: 0.8em; font-weight: bold; line-height: 1; border-radius: 0.35em; vertical-align: middle; margin-left: 0.5rem\">SKILL</span>\n",
              "</mark>\n",
              " he is certified as an aws certified solutions architect – associate earned in 2020 and as a google professional cloud architect earned in 2021<br></div></span>"
            ]
          },
          "metadata": {}
        }
      ]
    },
    {
      "cell_type": "code",
      "source": [
        "# confidence of each predicted entity label\n",
        "\n",
        "from flair.models import SequenceTagger\n",
        "from flair.data import Sentence\n",
        "\n",
        "# load the pretrained NER model\n",
        "tagger = SequenceTagger.load(\"/content/drive/MyDrive/FYP/Implementation/flair_output/best-model.pt\")\n",
        "\n",
        "# create a Sentence object\n",
        "sentence = Sentence(resume_text)\n",
        "\n",
        "# predict entities\n",
        "tagger.predict(sentence)\n",
        "\n",
        "# print the detected entities\n",
        "for entity in sentence.get_spans(\"ner\"):\n",
        "    print(f\"Entity: {entity.text}, Type: {entity.get_label('ner').value}, Confidence: {entity.score}\")"
      ],
      "metadata": {
        "colab": {
          "base_uri": "https://localhost:8080/"
        },
        "id": "Eh_ohqkhnuwA",
        "outputId": "b7a24b6d-e956-4027-ad83-62d809a25b86"
      },
      "id": "Eh_ohqkhnuwA",
      "execution_count": null,
      "outputs": [
        {
          "output_type": "stream",
          "name": "stdout",
          "text": [
            "2024-11-10 06:35:28,375 SequenceTagger predicts: Dictionary with 45 tags: O, S-SKILL, B-SKILL, E-SKILL, I-SKILL, S-JOB, B-JOB, E-JOB, I-JOB, S-WORK, B-WORK, E-WORK, I-WORK, S-COMPANY, B-COMPANY, E-COMPANY, I-COMPANY, S-LOC, B-LOC, E-LOC, I-LOC, S-UNI, B-UNI, E-UNI, I-UNI, S-DEG, B-DEG, E-DEG, I-DEG, S-NAME, B-NAME, E-NAME, I-NAME, S-PHONE, B-PHONE, E-PHONE, I-PHONE, S-STUDY, B-STUDY, E-STUDY, I-STUDY, S-EMAIL, B-EMAIL, E-EMAIL, I-EMAIL\n",
            "Entity: john doe, Type: NAME, Confidence: 0.35042084753513336\n",
            "Entity: los angeles, Type: LOC, Confidence: 0.2777288407087326\n",
            "Entity: 1, Type: PHONE, Confidence: 0.44708436727523804\n",
            "Entity: 555 1234567, Type: PHONE, Confidence: 0.3490697592496872\n",
            "Entity: johndoeexamplecom, Type: EMAIL, Confidence: 0.4608330726623535\n",
            "Entity: engineer, Type: JOB, Confidence: 0.6058100461959839\n",
            "Entity: web development, Type: SKILL, Confidence: 0.5158057510852814\n",
            "Entity: cloud infrastructure, Type: SKILL, Confidence: 0.5084673464298248\n",
            "Entity: javascript, Type: SKILL, Confidence: 0.7274802327156067\n",
            "Entity: python, Type: SKILL, Confidence: 0.661350667476654\n",
            "Entity: aws, Type: SKILL, Confidence: 0.8112357258796692\n",
            "Entity: azure, Type: SKILL, Confidence: 0.80876225233078\n",
            "Entity: software engineer, Type: JOB, Confidence: 0.6580177843570709\n",
            "Entity: llc, Type: COMPANY, Confidence: 0.3214108347892761\n",
            "Entity: javascript, Type: SKILL, Confidence: 0.7809666395187378\n",
            "Entity: nodejs, Type: SKILL, Confidence: 0.8215135335922241\n",
            "Entity: aws, Type: SKILL, Confidence: 0.5069947242736816\n",
            "Entity: a, Type: JOB, Confidence: 0.35739392042160034\n",
            "Entity: junior developer, Type: JOB, Confidence: 0.7803502678871155\n",
            "Entity: tech innovators inc, Type: COMPANY, Confidence: 0.5233550270398458\n",
            "Entity: july 2017, Type: WORK, Confidence: 0.2499728500843048\n",
            "Entity: july, Type: WORK, Confidence: 0.24220232665538788\n",
            "Entity: restful, Type: SKILL, Confidence: 0.5778842568397522\n",
            "Entity: apis, Type: SKILL, Confidence: 0.7023512125015259\n",
            "Entity: python, Type: SKILL, Confidence: 0.6561171412467957\n",
            "Entity: flask, Type: SKILL, Confidence: 0.5832790732383728\n",
            "Entity: a, Type: DEG, Confidence: 0.34890714287757874\n",
            "Entity: master of science in computer science, Type: DEG, Confidence: 0.5381328960259756\n",
            "Entity: the university of california berkeley, Type: UNI, Confidence: 0.3321601331233978\n",
            "Entity: a, Type: DEG, Confidence: 0.2932049632072449\n",
            "Entity: bachelor of science in information technology, Type: DEG, Confidence: 0.5111111998558044\n",
            "Entity: the university of texas at, Type: UNI, Confidence: 0.30702083110809325\n",
            "Entity: 2015, Type: STUDY, Confidence: 0.1716289520263672\n",
            "Entity: python, Type: SKILL, Confidence: 0.6945413947105408\n",
            "Entity: javascript, Type: SKILL, Confidence: 0.403849720954895\n",
            "Entity: react, Type: SKILL, Confidence: 0.6548792719841003\n",
            "Entity: flask, Type: SKILL, Confidence: 0.4622134268283844\n",
            "Entity: django, Type: SKILL, Confidence: 0.7508878111839294\n",
            "Entity: aws, Type: SKILL, Confidence: 0.5839015245437622\n",
            "Entity: google, Type: SKILL, Confidence: 0.48840728402137756\n",
            "Entity: azure, Type: SKILL, Confidence: 0.7010717391967773\n",
            "Entity: git, Type: SKILL, Confidence: 0.7697451710700989\n",
            "Entity: docker, Type: SKILL, Confidence: 0.8661015033721924\n",
            "Entity: kubernetes, Type: SKILL, Confidence: 0.8078088760375977\n",
            "Entity: sql, Type: SKILL, Confidence: 0.5489889979362488\n"
          ]
        }
      ]
    }
  ],
  "metadata": {
    "kernelspec": {
      "display_name": "Python 3",
      "name": "python3"
    },
    "language_info": {
      "codemirror_mode": {
        "name": "ipython",
        "version": 3
      },
      "file_extension": ".py",
      "mimetype": "text/x-python",
      "name": "python",
      "nbconvert_exporter": "python",
      "pygments_lexer": "ipython3",
      "version": "3.10.0"
    },
    "colab": {
      "provenance": [],
      "include_colab_link": true
    }
  },
  "nbformat": 4,
  "nbformat_minor": 5
}