{
  "cells": [
    {
      "cell_type": "markdown",
      "metadata": {
        "id": "view-in-github",
        "colab_type": "text"
      },
      "source": [
        "<a href=\"https://colab.research.google.com/github/chewzzz1014/fyp/blob/master/ner/src/train_ner_models.ipynb\" target=\"_parent\"><img src=\"https://colab.research.google.com/assets/colab-badge.svg\" alt=\"Open In Colab\"/></a>"
      ]
    },
    {
      "cell_type": "markdown",
      "source": [
        "# Train NER Models"
      ],
      "metadata": {
        "id": "t0P9v82yDulr"
      },
      "id": "t0P9v82yDulr"
    },
    {
      "cell_type": "code",
      "source": [
        "# mount drive"
      ],
      "metadata": {
        "id": "geBEKXoyCST_"
      },
      "id": "geBEKXoyCST_",
      "execution_count": null,
      "outputs": []
    },
    {
      "cell_type": "code",
      "source": [
        "# import CONLL2003 annotated dataset"
      ],
      "metadata": {
        "id": "z6u95QF1CUke"
      },
      "id": "z6u95QF1CUke",
      "execution_count": null,
      "outputs": []
    },
    {
      "cell_type": "code",
      "source": [
        "# split into train and test"
      ],
      "metadata": {
        "id": "0hizmfs_DjVd"
      },
      "id": "0hizmfs_DjVd",
      "execution_count": null,
      "outputs": []
    },
    {
      "cell_type": "markdown",
      "source": [
        "## Spacy NER"
      ],
      "metadata": {
        "id": "FMM7E6hNCEUv"
      },
      "id": "FMM7E6hNCEUv"
    },
    {
      "cell_type": "code",
      "execution_count": 2,
      "id": "572d77b5",
      "metadata": {
        "colab": {
          "base_uri": "https://localhost:8080/"
        },
        "id": "572d77b5",
        "outputId": "5ef5a312-1424-4915-950a-68995f27cb69"
      },
      "outputs": [
        {
          "output_type": "stream",
          "name": "stdout",
          "text": [
            "sample_data\n"
          ]
        }
      ],
      "source": [
        "# create dir to place spacy ner data\n",
        "!mkdir spacy_ner_data\n",
        "\n",
        "# convert CONLL2003 annotation data into spacy data\n",
        "!python -m spacy convert \"train.txt\" spacy_ner_data -c ner\n",
        "!python -m spacy convert \"test.txt\" spacy_ner_data -c ner\n",
        "!python -m spacy convert \"valid.txt\" spacy_ner_data -c ner"
      ]
    },
    {
      "cell_type": "code",
      "source": [
        "# create base_config.cfg and paste the config generated from spacy widget\n",
        "# update train and test file path\n",
        "!touch base_config.cfg"
      ],
      "metadata": {
        "id": "ruPln43fCDLm"
      },
      "id": "ruPln43fCDLm",
      "execution_count": null,
      "outputs": []
    },
    {
      "cell_type": "code",
      "source": [
        "# generate config.cfg from base_config.cfg\n",
        "!python -m spacy init fill-config base_config.cfg config.cfg"
      ],
      "metadata": {
        "id": "0aRjL9jqC-5k"
      },
      "id": "0aRjL9jqC-5k",
      "execution_count": null,
      "outputs": []
    },
    {
      "cell_type": "code",
      "source": [
        "# train model using hyperparameters set in config.cfg\n",
        "# trained model in output/ dir\n",
        "!python -m spacy train config.cfg --output ./output"
      ],
      "metadata": {
        "id": "Jav_l46BEDjF"
      },
      "id": "Jav_l46BEDjF",
      "execution_count": null,
      "outputs": []
    },
    {
      "cell_type": "code",
      "source": [
        "# evaluate trained model performance\n",
        "# store output and visualization into result/ dir\n",
        "!python -m spacy evaluate output/model-best spacy_ner_data/test.spacy -dp result"
      ],
      "metadata": {
        "id": "V2wzIOsWJgkG"
      },
      "id": "V2wzIOsWJgkG",
      "execution_count": null,
      "outputs": []
    },
    {
      "cell_type": "code",
      "source": [
        "# download trained model"
      ],
      "metadata": {
        "id": "9sJdwj4GEKTM"
      },
      "id": "9sJdwj4GEKTM",
      "execution_count": null,
      "outputs": []
    },
    {
      "cell_type": "markdown",
      "source": [
        "## Flair NER"
      ],
      "metadata": {
        "id": "1z_niSalE0uT"
      },
      "id": "1z_niSalE0uT"
    },
    {
      "cell_type": "code",
      "source": [
        "!pip install flair"
      ],
      "metadata": {
        "id": "lsEUGnPpnjuU"
      },
      "id": "lsEUGnPpnjuU",
      "execution_count": null,
      "outputs": []
    },
    {
      "cell_type": "code",
      "source": [
        "# load data\n",
        "import flair\n",
        "from flair.datasets import ColumnCorpus\n",
        "\n",
        "# Define columns\n",
        "columns = {0: 'text', 1: 'ner'}\n",
        "\n",
        "# Specify the path to your training and test data\n",
        "data_folder = 'path/to/your/data'  # Update this path\n",
        "train_file = 'train.txt'  # Your training file\n",
        "test_file = 'test.txt'    # Your testing file\n",
        "\n",
        "# Create the corpus\n",
        "corpus = ColumnCorpus(data_folder,\n",
        "                      { 'train': train_file,\n",
        "                        'test': test_file },\n",
        "                      columns=columns)"
      ],
      "metadata": {
        "id": "WDsFt8DnE2OL"
      },
      "id": "WDsFt8DnE2OL",
      "execution_count": null,
      "outputs": []
    },
    {
      "cell_type": "code",
      "source": [
        "# create NER tagger\n",
        "from flair.models import SequenceTagger\n",
        "\n",
        "tagger = SequenceTagger(hidden_size=256,\n",
        "                         embeddings='glove',\n",
        "                         tag_dictionary=corpus.make_tag_dictionary(tag_type='ner'),\n",
        "                         tag_type='ner',\n",
        "                         use_crf=True)\n"
      ],
      "metadata": {
        "id": "QEBUKmiAnaFm"
      },
      "id": "QEBUKmiAnaFm",
      "execution_count": null,
      "outputs": []
    },
    {
      "cell_type": "code",
      "source": [
        "# train model\n",
        "from flair.trainers import ModelTrainer\n",
        "\n",
        "trainer = ModelTrainer(tagger, corpus)\n",
        "\n",
        "trainer.train('path/to/save/model',  # Update this path\n",
        "               learning_rate=0.1,\n",
        "               mini_batch_size=32,\n",
        "               max_epochs=10)"
      ],
      "metadata": {
        "id": "XbuJ4VjCnoPU"
      },
      "id": "XbuJ4VjCnoPU",
      "execution_count": null,
      "outputs": []
    },
    {
      "cell_type": "code",
      "source": [
        "# evaluate model\n",
        "result, score = trainer.evaluate(corpus.test)\n",
        "print(result)\n",
        "print(score)"
      ],
      "metadata": {
        "id": "6KT8wj3Lns2c"
      },
      "id": "6KT8wj3Lns2c",
      "execution_count": null,
      "outputs": []
    },
    {
      "cell_type": "code",
      "source": [
        "# make prediction\n",
        "model = SequenceTagger.load('path/to/save/model')\n",
        "sentence = flair.data.Sentence(\"Your text here.\")\n",
        "\n",
        "model.predict(sentence)\n",
        "\n",
        "print(sentence.to_tagged_string())"
      ],
      "metadata": {
        "id": "KOYkWF9Anwec"
      },
      "id": "KOYkWF9Anwec",
      "execution_count": null,
      "outputs": []
    }
  ],
  "metadata": {
    "kernelspec": {
      "display_name": "Python 3 (ipykernel)",
      "language": "python",
      "name": "python3"
    },
    "language_info": {
      "codemirror_mode": {
        "name": "ipython",
        "version": 3
      },
      "file_extension": ".py",
      "mimetype": "text/x-python",
      "name": "python",
      "nbconvert_exporter": "python",
      "pygments_lexer": "ipython3",
      "version": "3.10.0"
    },
    "colab": {
      "provenance": [],
      "include_colab_link": true
    }
  },
  "nbformat": 4,
  "nbformat_minor": 5
}