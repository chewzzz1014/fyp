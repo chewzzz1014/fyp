{
  "cells": [
    {
      "cell_type": "markdown",
      "metadata": {
        "id": "view-in-github",
        "colab_type": "text"
      },
      "source": [
        "<a href=\"https://colab.research.google.com/github/chewzzz1014/fyp/blob/master/ner/src/train_ner_models.ipynb\" target=\"_parent\"><img src=\"https://colab.research.google.com/assets/colab-badge.svg\" alt=\"Open In Colab\"/></a>"
      ]
    },
    {
      "cell_type": "markdown",
      "source": [
        "# Train NER Models"
      ],
      "metadata": {
        "id": "t0P9v82yDulr"
      },
      "id": "t0P9v82yDulr"
    },
    {
      "cell_type": "code",
      "source": [
        "# mount drive\n",
        "from google.colab import drive\n",
        "drive.mount('/content/drive')"
      ],
      "metadata": {
        "id": "5YToyjV-40ZV",
        "outputId": "669f8fad-9340-4d4b-84e3-a2c6316f17b2",
        "colab": {
          "base_uri": "https://localhost:8080/"
        }
      },
      "id": "5YToyjV-40ZV",
      "execution_count": 1,
      "outputs": [
        {
          "output_type": "stream",
          "name": "stdout",
          "text": [
            "Mounted at /content/drive\n"
          ]
        }
      ]
    },
    {
      "cell_type": "code",
      "source": [
        "!mkdir spacy_ner_data"
      ],
      "metadata": {
        "id": "VtZ7OFQtpG4-"
      },
      "id": "VtZ7OFQtpG4-",
      "execution_count": null,
      "outputs": []
    },
    {
      "cell_type": "code",
      "source": [
        "import json\n",
        "import random\n",
        "from sklearn.model_selection import train_test_split\n",
        "import spacy\n",
        "from spacy.tokens import DocBin\n",
        "\n",
        "# Load JSON data\n",
        "with open('/content/drive/MyDrive/FYP/Implementation/Resume Dataset/200_resumes_annotated.json', \"r\") as f:\n",
        "    data = json.load(f)\n",
        "\n",
        "def remove_overlapping_entities(entities):\n",
        "    \"\"\"Remove overlapping entities from the list.\"\"\"\n",
        "    entities = sorted(entities, key=lambda x: x[0])  # Sort by start position\n",
        "    non_overlapping = []\n",
        "    last_end = -1\n",
        "    for start, end, label in entities:\n",
        "        if start >= last_end:  # Only add if there's no overlap with the previous entity\n",
        "            non_overlapping.append((start, end, label))\n",
        "            last_end = end\n",
        "    return non_overlapping\n",
        "\n",
        "# Function to convert JSON data to Spacy's DocBin format\n",
        "def convert_to_spacy_format(data):\n",
        "    nlp = spacy.blank(\"en\")  # Load a blank Spacy model\n",
        "    doc_bin = DocBin()  # Container for our docs\n",
        "\n",
        "    for item in data:\n",
        "        text = item['data']['Text']  # Full document text\n",
        "        entities = []\n",
        "\n",
        "        for annotation in item['annotations'][0]['result']:\n",
        "            start = annotation['value']['start']\n",
        "            end = annotation['value']['end']\n",
        "            label = annotation['value']['labels'][0]  # Entity label\n",
        "            entities.append((start, end, label))\n",
        "\n",
        "        entities = remove_overlapping_entities(entities)  # Remove overlapping entities\n",
        "        # Create a Spacy doc and add entities to it\n",
        "        doc = nlp.make_doc(text)\n",
        "        spans = [doc.char_span(start, end, label=label) for start, end, label in entities]\n",
        "        # Filter out None spans if Spacy can't align the character indices with tokens\n",
        "        spans = [span for span in spans if span is not None]\n",
        "        doc.ents = spans  # Assign entities to the doc\n",
        "        doc_bin.add(doc)\n",
        "\n",
        "    return doc_bin\n",
        "\n",
        "# Split data into train and test sets\n",
        "train_data, test_data = train_test_split(data, test_size=0.2, random_state=42)\n",
        "\n",
        "# Convert train and test sets to Spacy format\n",
        "train_doc_bin = convert_to_spacy_format(train_data)\n",
        "test_doc_bin = convert_to_spacy_format(test_data)\n",
        "\n",
        "# Save the train and test data to .spacy files\n",
        "train_doc_bin.to_disk(\"spacy_ner_data/train_data.spacy\")\n",
        "test_doc_bin.to_disk(\"spacy_ner_data/test_data.spacy\")"
      ],
      "metadata": {
        "id": "R-8QBDX3gtkp"
      },
      "id": "R-8QBDX3gtkp",
      "execution_count": null,
      "outputs": []
    },
    {
      "cell_type": "markdown",
      "source": [
        "## Spacy NER"
      ],
      "metadata": {
        "id": "FMM7E6hNCEUv"
      },
      "id": "FMM7E6hNCEUv"
    },
    {
      "cell_type": "code",
      "source": [
        "# create base_config.cfg and paste the config generated from spacy widget\n",
        "# update train and test file path\n",
        "!touch base_config.cfg"
      ],
      "metadata": {
        "id": "ruPln43fCDLm"
      },
      "id": "ruPln43fCDLm",
      "execution_count": null,
      "outputs": []
    },
    {
      "cell_type": "code",
      "source": [
        "# generate config.cfg from base_config.cfg\n",
        "!python -m spacy init fill-config base_config.cfg config.cfg"
      ],
      "metadata": {
        "id": "0aRjL9jqC-5k",
        "colab": {
          "base_uri": "https://localhost:8080/"
        },
        "outputId": "5489cd43-f730-47d0-ca13-c1ed658d98da"
      },
      "id": "0aRjL9jqC-5k",
      "execution_count": null,
      "outputs": [
        {
          "output_type": "stream",
          "name": "stdout",
          "text": [
            "\u001b[38;5;2m✔ Auto-filled config with all values\u001b[0m\n",
            "\u001b[38;5;2m✔ Saved config\u001b[0m\n",
            "config.cfg\n",
            "You can now add your data and train your pipeline:\n",
            "python -m spacy train config.cfg --paths.train ./train.spacy --paths.dev ./dev.spacy\n"
          ]
        }
      ]
    },
    {
      "cell_type": "code",
      "source": [
        "!python -m spacy download en_core_web_lg"
      ],
      "metadata": {
        "colab": {
          "base_uri": "https://localhost:8080/"
        },
        "id": "9wb_aBw9X2NU",
        "outputId": "561939c7-f8b1-4038-af0d-ddd3824b3509"
      },
      "id": "9wb_aBw9X2NU",
      "execution_count": null,
      "outputs": [
        {
          "output_type": "stream",
          "name": "stdout",
          "text": [
            "Collecting en-core-web-lg==3.7.1\n",
            "  Downloading https://github.com/explosion/spacy-models/releases/download/en_core_web_lg-3.7.1/en_core_web_lg-3.7.1-py3-none-any.whl (587.7 MB)\n",
            "\u001b[2K     \u001b[90m━━━━━━━━━━━━━━━━━━━━━━━━━━━━━━━━━━━━━━━━\u001b[0m \u001b[32m587.7/587.7 MB\u001b[0m \u001b[31m2.2 MB/s\u001b[0m eta \u001b[36m0:00:00\u001b[0m\n",
            "\u001b[?25hRequirement already satisfied: spacy<3.8.0,>=3.7.2 in /usr/local/lib/python3.10/dist-packages (from en-core-web-lg==3.7.1) (3.7.5)\n",
            "Requirement already satisfied: spacy-legacy<3.1.0,>=3.0.11 in /usr/local/lib/python3.10/dist-packages (from spacy<3.8.0,>=3.7.2->en-core-web-lg==3.7.1) (3.0.12)\n",
            "Requirement already satisfied: spacy-loggers<2.0.0,>=1.0.0 in /usr/local/lib/python3.10/dist-packages (from spacy<3.8.0,>=3.7.2->en-core-web-lg==3.7.1) (1.0.5)\n",
            "Requirement already satisfied: murmurhash<1.1.0,>=0.28.0 in /usr/local/lib/python3.10/dist-packages (from spacy<3.8.0,>=3.7.2->en-core-web-lg==3.7.1) (1.0.10)\n",
            "Requirement already satisfied: cymem<2.1.0,>=2.0.2 in /usr/local/lib/python3.10/dist-packages (from spacy<3.8.0,>=3.7.2->en-core-web-lg==3.7.1) (2.0.8)\n",
            "Requirement already satisfied: preshed<3.1.0,>=3.0.2 in /usr/local/lib/python3.10/dist-packages (from spacy<3.8.0,>=3.7.2->en-core-web-lg==3.7.1) (3.0.9)\n",
            "Requirement already satisfied: thinc<8.3.0,>=8.2.2 in /usr/local/lib/python3.10/dist-packages (from spacy<3.8.0,>=3.7.2->en-core-web-lg==3.7.1) (8.2.5)\n",
            "Requirement already satisfied: wasabi<1.2.0,>=0.9.1 in /usr/local/lib/python3.10/dist-packages (from spacy<3.8.0,>=3.7.2->en-core-web-lg==3.7.1) (1.1.3)\n",
            "Requirement already satisfied: srsly<3.0.0,>=2.4.3 in /usr/local/lib/python3.10/dist-packages (from spacy<3.8.0,>=3.7.2->en-core-web-lg==3.7.1) (2.4.8)\n",
            "Requirement already satisfied: catalogue<2.1.0,>=2.0.6 in /usr/local/lib/python3.10/dist-packages (from spacy<3.8.0,>=3.7.2->en-core-web-lg==3.7.1) (2.0.10)\n",
            "Requirement already satisfied: weasel<0.5.0,>=0.1.0 in /usr/local/lib/python3.10/dist-packages (from spacy<3.8.0,>=3.7.2->en-core-web-lg==3.7.1) (0.4.1)\n",
            "Requirement already satisfied: typer<1.0.0,>=0.3.0 in /usr/local/lib/python3.10/dist-packages (from spacy<3.8.0,>=3.7.2->en-core-web-lg==3.7.1) (0.12.5)\n",
            "Requirement already satisfied: tqdm<5.0.0,>=4.38.0 in /usr/local/lib/python3.10/dist-packages (from spacy<3.8.0,>=3.7.2->en-core-web-lg==3.7.1) (4.66.6)\n",
            "Requirement already satisfied: requests<3.0.0,>=2.13.0 in /usr/local/lib/python3.10/dist-packages (from spacy<3.8.0,>=3.7.2->en-core-web-lg==3.7.1) (2.32.3)\n",
            "Requirement already satisfied: pydantic!=1.8,!=1.8.1,<3.0.0,>=1.7.4 in /usr/local/lib/python3.10/dist-packages (from spacy<3.8.0,>=3.7.2->en-core-web-lg==3.7.1) (2.9.2)\n",
            "Requirement already satisfied: jinja2 in /usr/local/lib/python3.10/dist-packages (from spacy<3.8.0,>=3.7.2->en-core-web-lg==3.7.1) (3.1.4)\n",
            "Requirement already satisfied: setuptools in /usr/local/lib/python3.10/dist-packages (from spacy<3.8.0,>=3.7.2->en-core-web-lg==3.7.1) (75.1.0)\n",
            "Requirement already satisfied: packaging>=20.0 in /usr/local/lib/python3.10/dist-packages (from spacy<3.8.0,>=3.7.2->en-core-web-lg==3.7.1) (24.1)\n",
            "Requirement already satisfied: langcodes<4.0.0,>=3.2.0 in /usr/local/lib/python3.10/dist-packages (from spacy<3.8.0,>=3.7.2->en-core-web-lg==3.7.1) (3.4.1)\n",
            "Requirement already satisfied: numpy>=1.19.0 in /usr/local/lib/python3.10/dist-packages (from spacy<3.8.0,>=3.7.2->en-core-web-lg==3.7.1) (1.26.4)\n",
            "Requirement already satisfied: language-data>=1.2 in /usr/local/lib/python3.10/dist-packages (from langcodes<4.0.0,>=3.2.0->spacy<3.8.0,>=3.7.2->en-core-web-lg==3.7.1) (1.2.0)\n",
            "Requirement already satisfied: annotated-types>=0.6.0 in /usr/local/lib/python3.10/dist-packages (from pydantic!=1.8,!=1.8.1,<3.0.0,>=1.7.4->spacy<3.8.0,>=3.7.2->en-core-web-lg==3.7.1) (0.7.0)\n",
            "Requirement already satisfied: pydantic-core==2.23.4 in /usr/local/lib/python3.10/dist-packages (from pydantic!=1.8,!=1.8.1,<3.0.0,>=1.7.4->spacy<3.8.0,>=3.7.2->en-core-web-lg==3.7.1) (2.23.4)\n",
            "Requirement already satisfied: typing-extensions>=4.6.1 in /usr/local/lib/python3.10/dist-packages (from pydantic!=1.8,!=1.8.1,<3.0.0,>=1.7.4->spacy<3.8.0,>=3.7.2->en-core-web-lg==3.7.1) (4.12.2)\n",
            "Requirement already satisfied: charset-normalizer<4,>=2 in /usr/local/lib/python3.10/dist-packages (from requests<3.0.0,>=2.13.0->spacy<3.8.0,>=3.7.2->en-core-web-lg==3.7.1) (3.4.0)\n",
            "Requirement already satisfied: idna<4,>=2.5 in /usr/local/lib/python3.10/dist-packages (from requests<3.0.0,>=2.13.0->spacy<3.8.0,>=3.7.2->en-core-web-lg==3.7.1) (3.10)\n",
            "Requirement already satisfied: urllib3<3,>=1.21.1 in /usr/local/lib/python3.10/dist-packages (from requests<3.0.0,>=2.13.0->spacy<3.8.0,>=3.7.2->en-core-web-lg==3.7.1) (2.2.3)\n",
            "Requirement already satisfied: certifi>=2017.4.17 in /usr/local/lib/python3.10/dist-packages (from requests<3.0.0,>=2.13.0->spacy<3.8.0,>=3.7.2->en-core-web-lg==3.7.1) (2024.8.30)\n",
            "Requirement already satisfied: blis<0.8.0,>=0.7.8 in /usr/local/lib/python3.10/dist-packages (from thinc<8.3.0,>=8.2.2->spacy<3.8.0,>=3.7.2->en-core-web-lg==3.7.1) (0.7.11)\n",
            "Requirement already satisfied: confection<1.0.0,>=0.0.1 in /usr/local/lib/python3.10/dist-packages (from thinc<8.3.0,>=8.2.2->spacy<3.8.0,>=3.7.2->en-core-web-lg==3.7.1) (0.1.5)\n",
            "Requirement already satisfied: click>=8.0.0 in /usr/local/lib/python3.10/dist-packages (from typer<1.0.0,>=0.3.0->spacy<3.8.0,>=3.7.2->en-core-web-lg==3.7.1) (8.1.7)\n",
            "Requirement already satisfied: shellingham>=1.3.0 in /usr/local/lib/python3.10/dist-packages (from typer<1.0.0,>=0.3.0->spacy<3.8.0,>=3.7.2->en-core-web-lg==3.7.1) (1.5.4)\n",
            "Requirement already satisfied: rich>=10.11.0 in /usr/local/lib/python3.10/dist-packages (from typer<1.0.0,>=0.3.0->spacy<3.8.0,>=3.7.2->en-core-web-lg==3.7.1) (13.9.3)\n",
            "Requirement already satisfied: cloudpathlib<1.0.0,>=0.7.0 in /usr/local/lib/python3.10/dist-packages (from weasel<0.5.0,>=0.1.0->spacy<3.8.0,>=3.7.2->en-core-web-lg==3.7.1) (0.20.0)\n",
            "Requirement already satisfied: smart-open<8.0.0,>=5.2.1 in /usr/local/lib/python3.10/dist-packages (from weasel<0.5.0,>=0.1.0->spacy<3.8.0,>=3.7.2->en-core-web-lg==3.7.1) (7.0.5)\n",
            "Requirement already satisfied: MarkupSafe>=2.0 in /usr/local/lib/python3.10/dist-packages (from jinja2->spacy<3.8.0,>=3.7.2->en-core-web-lg==3.7.1) (3.0.2)\n",
            "Requirement already satisfied: marisa-trie>=0.7.7 in /usr/local/lib/python3.10/dist-packages (from language-data>=1.2->langcodes<4.0.0,>=3.2.0->spacy<3.8.0,>=3.7.2->en-core-web-lg==3.7.1) (1.2.1)\n",
            "Requirement already satisfied: markdown-it-py>=2.2.0 in /usr/local/lib/python3.10/dist-packages (from rich>=10.11.0->typer<1.0.0,>=0.3.0->spacy<3.8.0,>=3.7.2->en-core-web-lg==3.7.1) (3.0.0)\n",
            "Requirement already satisfied: pygments<3.0.0,>=2.13.0 in /usr/local/lib/python3.10/dist-packages (from rich>=10.11.0->typer<1.0.0,>=0.3.0->spacy<3.8.0,>=3.7.2->en-core-web-lg==3.7.1) (2.18.0)\n",
            "Requirement already satisfied: wrapt in /usr/local/lib/python3.10/dist-packages (from smart-open<8.0.0,>=5.2.1->weasel<0.5.0,>=0.1.0->spacy<3.8.0,>=3.7.2->en-core-web-lg==3.7.1) (1.16.0)\n",
            "Requirement already satisfied: mdurl~=0.1 in /usr/local/lib/python3.10/dist-packages (from markdown-it-py>=2.2.0->rich>=10.11.0->typer<1.0.0,>=0.3.0->spacy<3.8.0,>=3.7.2->en-core-web-lg==3.7.1) (0.1.2)\n",
            "Installing collected packages: en-core-web-lg\n",
            "Successfully installed en-core-web-lg-3.7.1\n",
            "\u001b[38;5;2m✔ Download and installation successful\u001b[0m\n",
            "You can now load the package via spacy.load('en_core_web_lg')\n",
            "\u001b[38;5;3m⚠ Restart to reload dependencies\u001b[0m\n",
            "If you are in a Jupyter or Colab notebook, you may need to restart Python in\n",
            "order to load all the package's dependencies. You can do this by selecting the\n",
            "'Restart kernel' or 'Restart runtime' option.\n"
          ]
        }
      ]
    },
    {
      "cell_type": "code",
      "source": [
        "# train model using hyperparameters set in config.cfg\n",
        "# save trained model in spacy-output/ dir\n",
        "!python -m spacy train config.cfg --output ./spacy_output\n",
        "!cp -r ./spacy_output /content/drive/MyDrive/FYP/Implementation/"
      ],
      "metadata": {
        "id": "Jav_l46BEDjF"
      },
      "id": "Jav_l46BEDjF",
      "execution_count": null,
      "outputs": []
    },
    {
      "cell_type": "code",
      "source": [
        "# evaluate trained model performance\n",
        "# store output and visualization into result/ dir\n",
        "!python -m spacy evaluate spacy_output/model-best spacy_ner_data/test_data.spacy -dp spacy_output"
      ],
      "metadata": {
        "id": "V2wzIOsWJgkG",
        "colab": {
          "base_uri": "https://localhost:8080/"
        },
        "outputId": "f0f701bb-ffdb-4167-f67a-0146a54859ba"
      },
      "id": "V2wzIOsWJgkG",
      "execution_count": null,
      "outputs": [
        {
          "output_type": "stream",
          "name": "stdout",
          "text": [
            "\u001b[38;5;4mℹ Using CPU\u001b[0m\n",
            "\u001b[1m\n",
            "================================== Results ==================================\u001b[0m\n",
            "\n",
            "TOK     100.00\n",
            "NER P   51.12 \n",
            "NER R   41.26 \n",
            "NER F   45.66 \n",
            "SPEED   2395  \n",
            "\n",
            "\u001b[1m\n",
            "=============================== NER (per type) ===============================\u001b[0m\n",
            "\n",
            "                P       R       F\n",
            "NAME        89.66   78.79   83.87\n",
            "JOB         72.00   32.43   44.72\n",
            "DEG         62.16   63.89   63.01\n",
            "UNI         38.89   34.15   36.36\n",
            "EMAIL       63.33   95.00   76.00\n",
            "LOC         39.39   31.71   35.14\n",
            "WORK PER    75.45   83.00   79.05\n",
            "COMPANY     28.42   36.49   31.95\n",
            "SKILL       40.96   28.96   33.93\n",
            "PHONE       89.66   83.87   86.67\n",
            "STUDY PER   65.62   58.33   61.76\n",
            "\n",
            "<IPython.core.display.HTML object>\n",
            "Traceback (most recent call last):\n",
            "  File \"/usr/lib/python3.10/runpy.py\", line 196, in _run_module_as_main\n",
            "    return _run_code(code, main_globals, None,\n",
            "  File \"/usr/lib/python3.10/runpy.py\", line 86, in _run_code\n",
            "    exec(code, run_globals)\n",
            "  File \"/usr/local/lib/python3.10/dist-packages/spacy/__main__.py\", line 4, in <module>\n",
            "    setup_cli()\n",
            "  File \"/usr/local/lib/python3.10/dist-packages/spacy/cli/_util.py\", line 87, in setup_cli\n",
            "    command(prog_name=COMMAND)\n",
            "  File \"/usr/local/lib/python3.10/dist-packages/click/core.py\", line 1157, in __call__\n",
            "    return self.main(*args, **kwargs)\n",
            "  File \"/usr/local/lib/python3.10/dist-packages/typer/core.py\", line 728, in main\n",
            "    return _main(\n",
            "  File \"/usr/local/lib/python3.10/dist-packages/typer/core.py\", line 197, in _main\n",
            "    rv = self.invoke(ctx)\n",
            "  File \"/usr/local/lib/python3.10/dist-packages/click/core.py\", line 1688, in invoke\n",
            "    return _process_result(sub_ctx.command.invoke(sub_ctx))\n",
            "  File \"/usr/local/lib/python3.10/dist-packages/click/core.py\", line 1434, in invoke\n",
            "    return ctx.invoke(self.callback, **ctx.params)\n",
            "  File \"/usr/local/lib/python3.10/dist-packages/click/core.py\", line 783, in invoke\n",
            "    return __callback(*args, **kwargs)\n",
            "  File \"/usr/local/lib/python3.10/dist-packages/typer/main.py\", line 703, in wrapper\n",
            "    return callback(**use_params)\n",
            "  File \"/usr/local/lib/python3.10/dist-packages/spacy/cli/evaluate.py\", line 47, in evaluate_cli\n",
            "    evaluate(\n",
            "  File \"/usr/local/lib/python3.10/dist-packages/spacy/cli/evaluate.py\", line 141, in evaluate\n",
            "    render_parses(\n",
            "  File \"/usr/local/lib/python3.10/dist-packages/spacy/cli/evaluate.py\", line 208, in render_parses\n",
            "    file_.write(html)\n",
            "TypeError: write() argument must be str, not None\n"
          ]
        }
      ]
    },
    {
      "cell_type": "code",
      "source": [
        "# make prediction\n",
        "import spacy\n",
        "resume_text = '''\n",
        "John Doe lives at 1234 Elm Street in Los Angeles, CA 90001. He can be reached at +1 (555) 123-4567 or via email at john.doe@example.com. John is a results-driven software engineer with over 5 years of experience in web development and cloud infrastructure, with strong knowledge of JavaScript, Python, and cloud technologies like AWS and Azure. Currently, he works as a Software Engineer at Google LLC in San Francisco, CA, where he has been employed since August 2019. In this role, he has developed scalable web applications using JavaScript, Node.js, and React, deployed and maintained cloud infrastructure on AWS, reducing downtime by 20%, and led a team of 4 engineers to enhance backend performance by 30%. Previously, he worked as a Junior Developer at Tech Innovators Inc. in Austin, TX, from July 2017 to July 2019, where he created RESTful APIs using Python and Flask, collaborated with front-end developers to build and deploy user-facing applications, and wrote unit and integration tests, improving code coverage by 15%.\n",
        "\n",
        "John holds a Master of Science in Computer Science from the University of California, Berkeley, with a graduation date of May 2017, and a Bachelor of Science in Information Technology from the University of Texas at Austin, graduated in May 2015. His skillset includes proficiency in programming languages like Python, JavaScript, and Java; frameworks such as React, Flask, and Django; cloud platforms including AWS, Google Cloud, and Azure; as well as other tools like Git, Docker, Kubernetes, and SQL. He is certified as an AWS Certified Solutions Architect – Associate, earned in 2020, and as a Google Professional Cloud Architect, earned in 2021'\n",
        "'''\n",
        "nlp = spacy.load(\"spacy-output/model-best\")\n",
        "doc = nlp(resume_text.lower())\n",
        "\n",
        "print(doc.ents)\n",
        "\n",
        "for ent in doc.ents:\n",
        "    print(f\"{ent.text}: {ent.label_}\")"
      ],
      "metadata": {
        "colab": {
          "base_uri": "https://localhost:8080/"
        },
        "id": "UXAlZZkEeeMc",
        "outputId": "b8cb33e8-de59-4fb2-9c8e-b54180992c00"
      },
      "id": "UXAlZZkEeeMc",
      "execution_count": null,
      "outputs": [
        {
          "output_type": "stream",
          "name": "stdout",
          "text": [
            "(john doe, in los, (555) 123-4567, john.doe@example.com, john is, aws, restful apis, master of science, bachelor of science in information technology, python, aws, azure, git, docker)\n",
            "john doe: NAME\n",
            "in los: LOC\n",
            "(555) 123-4567: PHONE\n",
            "john.doe@example.com: EMAIL\n",
            "john is: NAME\n",
            "aws: SKILL\n",
            "restful apis: SKILL\n",
            "master of science: DEG\n",
            "bachelor of science in information technology: DEG\n",
            "python: SKILL\n",
            "aws: SKILL\n",
            "azure: SKILL\n",
            "git: SKILL\n",
            "docker: SKILL\n"
          ]
        }
      ]
    },
    {
      "cell_type": "code",
      "source": [
        "from spacy import displacy\n",
        "displacy.render(doc, style=\"ent\", jupyter=True)"
      ],
      "metadata": {
        "colab": {
          "base_uri": "https://localhost:8080/",
          "height": 507
        },
        "id": "LtxtV7GufiOw",
        "outputId": "670daab7-d8e9-4f21-f231-84c81cb6f23d"
      },
      "id": "LtxtV7GufiOw",
      "execution_count": null,
      "outputs": [
        {
          "output_type": "display_data",
          "data": {
            "text/plain": [
              "<IPython.core.display.HTML object>"
            ],
            "text/html": [
              "<span class=\"tex2jax_ignore\"><div class=\"entities\" style=\"line-height: 2.5; direction: ltr\"><br>\n",
              "<mark class=\"entity\" style=\"background: #ddd; padding: 0.45em 0.6em; margin: 0 0.25em; line-height: 1; border-radius: 0.35em;\">\n",
              "    john doe\n",
              "    <span style=\"font-size: 0.8em; font-weight: bold; line-height: 1; border-radius: 0.35em; vertical-align: middle; margin-left: 0.5rem\">NAME</span>\n",
              "</mark>\n",
              " lives at 1234 elm street \n",
              "<mark class=\"entity\" style=\"background: #ff9561; padding: 0.45em 0.6em; margin: 0 0.25em; line-height: 1; border-radius: 0.35em;\">\n",
              "    in los\n",
              "    <span style=\"font-size: 0.8em; font-weight: bold; line-height: 1; border-radius: 0.35em; vertical-align: middle; margin-left: 0.5rem\">LOC</span>\n",
              "</mark>\n",
              " angeles, ca 90001. he can be reached at +1 \n",
              "<mark class=\"entity\" style=\"background: #ddd; padding: 0.45em 0.6em; margin: 0 0.25em; line-height: 1; border-radius: 0.35em;\">\n",
              "    (555) 123-4567\n",
              "    <span style=\"font-size: 0.8em; font-weight: bold; line-height: 1; border-radius: 0.35em; vertical-align: middle; margin-left: 0.5rem\">PHONE</span>\n",
              "</mark>\n",
              " or via email at \n",
              "<mark class=\"entity\" style=\"background: #ddd; padding: 0.45em 0.6em; margin: 0 0.25em; line-height: 1; border-radius: 0.35em;\">\n",
              "    john.doe@example.com\n",
              "    <span style=\"font-size: 0.8em; font-weight: bold; line-height: 1; border-radius: 0.35em; vertical-align: middle; margin-left: 0.5rem\">EMAIL</span>\n",
              "</mark>\n",
              ". \n",
              "<mark class=\"entity\" style=\"background: #ddd; padding: 0.45em 0.6em; margin: 0 0.25em; line-height: 1; border-radius: 0.35em;\">\n",
              "    john is\n",
              "    <span style=\"font-size: 0.8em; font-weight: bold; line-height: 1; border-radius: 0.35em; vertical-align: middle; margin-left: 0.5rem\">NAME</span>\n",
              "</mark>\n",
              " a results-driven software engineer with over 5 years of experience in web development and cloud infrastructure, with strong knowledge of javascript, python, and cloud technologies like \n",
              "<mark class=\"entity\" style=\"background: #ddd; padding: 0.45em 0.6em; margin: 0 0.25em; line-height: 1; border-radius: 0.35em;\">\n",
              "    aws\n",
              "    <span style=\"font-size: 0.8em; font-weight: bold; line-height: 1; border-radius: 0.35em; vertical-align: middle; margin-left: 0.5rem\">SKILL</span>\n",
              "</mark>\n",
              " and azure. currently, he works as a software engineer at google llc in san francisco, ca, where he has been employed since august 2019. in this role, he has developed scalable web applications using javascript, node.js, and react, deployed and maintained cloud infrastructure on aws, reducing downtime by 20%, and led a team of 4 engineers to enhance backend performance by 30%. previously, he worked as a junior developer at tech innovators inc. in austin, tx, from july 2017 to july 2019, where he created \n",
              "<mark class=\"entity\" style=\"background: #ddd; padding: 0.45em 0.6em; margin: 0 0.25em; line-height: 1; border-radius: 0.35em;\">\n",
              "    restful apis\n",
              "    <span style=\"font-size: 0.8em; font-weight: bold; line-height: 1; border-radius: 0.35em; vertical-align: middle; margin-left: 0.5rem\">SKILL</span>\n",
              "</mark>\n",
              " using python and flask, collaborated with front-end developers to build and deploy user-facing applications, and wrote unit and integration tests, improving code coverage by 15%.<br><br>john holds a \n",
              "<mark class=\"entity\" style=\"background: #ddd; padding: 0.45em 0.6em; margin: 0 0.25em; line-height: 1; border-radius: 0.35em;\">\n",
              "    master of science\n",
              "    <span style=\"font-size: 0.8em; font-weight: bold; line-height: 1; border-radius: 0.35em; vertical-align: middle; margin-left: 0.5rem\">DEG</span>\n",
              "</mark>\n",
              " in computer science from the university of california, berkeley, with a graduation date of may 2017, and a \n",
              "<mark class=\"entity\" style=\"background: #ddd; padding: 0.45em 0.6em; margin: 0 0.25em; line-height: 1; border-radius: 0.35em;\">\n",
              "    bachelor of science in information technology\n",
              "    <span style=\"font-size: 0.8em; font-weight: bold; line-height: 1; border-radius: 0.35em; vertical-align: middle; margin-left: 0.5rem\">DEG</span>\n",
              "</mark>\n",
              " from the university of texas at austin, graduated in may 2015. his skillset includes proficiency in programming languages like \n",
              "<mark class=\"entity\" style=\"background: #ddd; padding: 0.45em 0.6em; margin: 0 0.25em; line-height: 1; border-radius: 0.35em;\">\n",
              "    python\n",
              "    <span style=\"font-size: 0.8em; font-weight: bold; line-height: 1; border-radius: 0.35em; vertical-align: middle; margin-left: 0.5rem\">SKILL</span>\n",
              "</mark>\n",
              ", javascript, and java; frameworks such as react, flask, and django; cloud platforms including \n",
              "<mark class=\"entity\" style=\"background: #ddd; padding: 0.45em 0.6em; margin: 0 0.25em; line-height: 1; border-radius: 0.35em;\">\n",
              "    aws\n",
              "    <span style=\"font-size: 0.8em; font-weight: bold; line-height: 1; border-radius: 0.35em; vertical-align: middle; margin-left: 0.5rem\">SKILL</span>\n",
              "</mark>\n",
              ", google cloud, and \n",
              "<mark class=\"entity\" style=\"background: #ddd; padding: 0.45em 0.6em; margin: 0 0.25em; line-height: 1; border-radius: 0.35em;\">\n",
              "    azure\n",
              "    <span style=\"font-size: 0.8em; font-weight: bold; line-height: 1; border-radius: 0.35em; vertical-align: middle; margin-left: 0.5rem\">SKILL</span>\n",
              "</mark>\n",
              "; as well as other tools like \n",
              "<mark class=\"entity\" style=\"background: #ddd; padding: 0.45em 0.6em; margin: 0 0.25em; line-height: 1; border-radius: 0.35em;\">\n",
              "    git\n",
              "    <span style=\"font-size: 0.8em; font-weight: bold; line-height: 1; border-radius: 0.35em; vertical-align: middle; margin-left: 0.5rem\">SKILL</span>\n",
              "</mark>\n",
              ", \n",
              "<mark class=\"entity\" style=\"background: #ddd; padding: 0.45em 0.6em; margin: 0 0.25em; line-height: 1; border-radius: 0.35em;\">\n",
              "    docker\n",
              "    <span style=\"font-size: 0.8em; font-weight: bold; line-height: 1; border-radius: 0.35em; vertical-align: middle; margin-left: 0.5rem\">SKILL</span>\n",
              "</mark>\n",
              ", kubernetes, and sql. he is certified as an aws certified solutions architect – associate, earned in 2020, and as a google professional cloud architect, earned in 2021'<br></div></span>"
            ]
          },
          "metadata": {}
        }
      ]
    },
    {
      "cell_type": "markdown",
      "source": [
        "## Flair NER"
      ],
      "metadata": {
        "id": "1z_niSalE0uT"
      },
      "id": "1z_niSalE0uT"
    },
    {
      "cell_type": "code",
      "source": [
        "!pip install flair"
      ],
      "metadata": {
        "id": "lsEUGnPpnjuU",
        "colab": {
          "base_uri": "https://localhost:8080/"
        },
        "outputId": "2445b4a2-f53b-4b40-a1d3-e392a4b655cf"
      },
      "id": "lsEUGnPpnjuU",
      "execution_count": 2,
      "outputs": [
        {
          "output_type": "stream",
          "name": "stdout",
          "text": [
            "Collecting flair\n",
            "  Downloading flair-0.14.0-py3-none-any.whl.metadata (12 kB)\n",
            "Collecting boto3>=1.20.27 (from flair)\n",
            "  Downloading boto3-1.35.54-py3-none-any.whl.metadata (6.7 kB)\n",
            "Collecting conllu<5.0.0,>=4.0 (from flair)\n",
            "  Downloading conllu-4.5.3-py2.py3-none-any.whl.metadata (19 kB)\n",
            "Requirement already satisfied: deprecated>=1.2.13 in /usr/local/lib/python3.10/dist-packages (from flair) (1.2.14)\n",
            "Collecting ftfy>=6.1.0 (from flair)\n",
            "  Downloading ftfy-6.3.1-py3-none-any.whl.metadata (7.3 kB)\n",
            "Requirement already satisfied: gdown>=4.4.0 in /usr/local/lib/python3.10/dist-packages (from flair) (5.2.0)\n",
            "Requirement already satisfied: huggingface-hub>=0.10.0 in /usr/local/lib/python3.10/dist-packages (from flair) (0.24.7)\n",
            "Collecting langdetect>=1.0.9 (from flair)\n",
            "  Downloading langdetect-1.0.9.tar.gz (981 kB)\n",
            "\u001b[2K     \u001b[90m━━━━━━━━━━━━━━━━━━━━━━━━━━━━━━━━━━━━━━━━\u001b[0m \u001b[32m981.5/981.5 kB\u001b[0m \u001b[31m22.4 MB/s\u001b[0m eta \u001b[36m0:00:00\u001b[0m\n",
            "\u001b[?25h  Preparing metadata (setup.py) ... \u001b[?25l\u001b[?25hdone\n",
            "Requirement already satisfied: lxml>=4.8.0 in /usr/local/lib/python3.10/dist-packages (from flair) (5.3.0)\n",
            "Requirement already satisfied: matplotlib>=2.2.3 in /usr/local/lib/python3.10/dist-packages (from flair) (3.8.0)\n",
            "Requirement already satisfied: more-itertools>=8.13.0 in /usr/local/lib/python3.10/dist-packages (from flair) (10.5.0)\n",
            "Collecting mpld3>=0.3 (from flair)\n",
            "  Downloading mpld3-0.5.10-py3-none-any.whl.metadata (5.1 kB)\n",
            "Collecting pptree>=3.1 (from flair)\n",
            "  Downloading pptree-3.1.tar.gz (3.0 kB)\n",
            "  Preparing metadata (setup.py) ... \u001b[?25l\u001b[?25hdone\n",
            "Requirement already satisfied: python-dateutil>=2.8.2 in /usr/local/lib/python3.10/dist-packages (from flair) (2.8.2)\n",
            "Collecting pytorch-revgrad>=0.2.0 (from flair)\n",
            "  Downloading pytorch_revgrad-0.2.0-py3-none-any.whl.metadata (1.7 kB)\n",
            "Requirement already satisfied: regex>=2022.1.18 in /usr/local/lib/python3.10/dist-packages (from flair) (2024.9.11)\n",
            "Requirement already satisfied: scikit-learn>=1.0.2 in /usr/local/lib/python3.10/dist-packages (from flair) (1.5.2)\n",
            "Collecting segtok>=1.5.11 (from flair)\n",
            "  Downloading segtok-1.5.11-py3-none-any.whl.metadata (9.0 kB)\n",
            "Collecting sqlitedict>=2.0.0 (from flair)\n",
            "  Downloading sqlitedict-2.1.0.tar.gz (21 kB)\n",
            "  Preparing metadata (setup.py) ... \u001b[?25l\u001b[?25hdone\n",
            "Requirement already satisfied: tabulate>=0.8.10 in /usr/local/lib/python3.10/dist-packages (from flair) (0.9.0)\n",
            "Requirement already satisfied: torch!=1.8,>=1.5.0 in /usr/local/lib/python3.10/dist-packages (from flair) (2.5.0+cu121)\n",
            "Requirement already satisfied: tqdm>=4.63.0 in /usr/local/lib/python3.10/dist-packages (from flair) (4.66.6)\n",
            "Collecting transformer-smaller-training-vocab>=0.2.3 (from flair)\n",
            "  Downloading transformer_smaller_training_vocab-0.4.0-py3-none-any.whl.metadata (8.1 kB)\n",
            "Requirement already satisfied: transformers<5.0.0,>=4.18.0 in /usr/local/lib/python3.10/dist-packages (from transformers[sentencepiece]<5.0.0,>=4.18.0->flair) (4.44.2)\n",
            "Collecting wikipedia-api>=0.5.7 (from flair)\n",
            "  Downloading wikipedia_api-0.7.1.tar.gz (17 kB)\n",
            "  Preparing metadata (setup.py) ... \u001b[?25l\u001b[?25hdone\n",
            "Collecting semver<4.0.0,>=3.0.0 (from flair)\n",
            "  Downloading semver-3.0.2-py3-none-any.whl.metadata (5.0 kB)\n",
            "Collecting bioc<3.0.0,>=2.0.0 (from flair)\n",
            "  Downloading bioc-2.1-py3-none-any.whl.metadata (4.6 kB)\n",
            "Collecting jsonlines>=1.2.0 (from bioc<3.0.0,>=2.0.0->flair)\n",
            "  Downloading jsonlines-4.0.0-py3-none-any.whl.metadata (1.6 kB)\n",
            "Collecting intervaltree (from bioc<3.0.0,>=2.0.0->flair)\n",
            "  Downloading intervaltree-3.1.0.tar.gz (32 kB)\n",
            "  Preparing metadata (setup.py) ... \u001b[?25l\u001b[?25hdone\n",
            "Collecting docopt (from bioc<3.0.0,>=2.0.0->flair)\n",
            "  Downloading docopt-0.6.2.tar.gz (25 kB)\n",
            "  Preparing metadata (setup.py) ... \u001b[?25l\u001b[?25hdone\n",
            "Collecting botocore<1.36.0,>=1.35.54 (from boto3>=1.20.27->flair)\n",
            "  Downloading botocore-1.35.54-py3-none-any.whl.metadata (5.7 kB)\n",
            "Collecting jmespath<2.0.0,>=0.7.1 (from boto3>=1.20.27->flair)\n",
            "  Downloading jmespath-1.0.1-py3-none-any.whl.metadata (7.6 kB)\n",
            "Collecting s3transfer<0.11.0,>=0.10.0 (from boto3>=1.20.27->flair)\n",
            "  Downloading s3transfer-0.10.3-py3-none-any.whl.metadata (1.7 kB)\n",
            "Requirement already satisfied: wrapt<2,>=1.10 in /usr/local/lib/python3.10/dist-packages (from deprecated>=1.2.13->flair) (1.16.0)\n",
            "Requirement already satisfied: wcwidth in /usr/local/lib/python3.10/dist-packages (from ftfy>=6.1.0->flair) (0.2.13)\n",
            "Requirement already satisfied: beautifulsoup4 in /usr/local/lib/python3.10/dist-packages (from gdown>=4.4.0->flair) (4.12.3)\n",
            "Requirement already satisfied: filelock in /usr/local/lib/python3.10/dist-packages (from gdown>=4.4.0->flair) (3.16.1)\n",
            "Requirement already satisfied: requests[socks] in /usr/local/lib/python3.10/dist-packages (from gdown>=4.4.0->flair) (2.32.3)\n",
            "Requirement already satisfied: fsspec>=2023.5.0 in /usr/local/lib/python3.10/dist-packages (from huggingface-hub>=0.10.0->flair) (2024.10.0)\n",
            "Requirement already satisfied: packaging>=20.9 in /usr/local/lib/python3.10/dist-packages (from huggingface-hub>=0.10.0->flair) (24.1)\n",
            "Requirement already satisfied: pyyaml>=5.1 in /usr/local/lib/python3.10/dist-packages (from huggingface-hub>=0.10.0->flair) (6.0.2)\n",
            "Requirement already satisfied: typing-extensions>=3.7.4.3 in /usr/local/lib/python3.10/dist-packages (from huggingface-hub>=0.10.0->flair) (4.12.2)\n",
            "Requirement already satisfied: six in /usr/local/lib/python3.10/dist-packages (from langdetect>=1.0.9->flair) (1.16.0)\n",
            "Requirement already satisfied: contourpy>=1.0.1 in /usr/local/lib/python3.10/dist-packages (from matplotlib>=2.2.3->flair) (1.3.0)\n",
            "Requirement already satisfied: cycler>=0.10 in /usr/local/lib/python3.10/dist-packages (from matplotlib>=2.2.3->flair) (0.12.1)\n",
            "Requirement already satisfied: fonttools>=4.22.0 in /usr/local/lib/python3.10/dist-packages (from matplotlib>=2.2.3->flair) (4.54.1)\n",
            "Requirement already satisfied: kiwisolver>=1.0.1 in /usr/local/lib/python3.10/dist-packages (from matplotlib>=2.2.3->flair) (1.4.7)\n",
            "Requirement already satisfied: numpy<2,>=1.21 in /usr/local/lib/python3.10/dist-packages (from matplotlib>=2.2.3->flair) (1.26.4)\n",
            "Requirement already satisfied: pillow>=6.2.0 in /usr/local/lib/python3.10/dist-packages (from matplotlib>=2.2.3->flair) (10.4.0)\n",
            "Requirement already satisfied: pyparsing>=2.3.1 in /usr/local/lib/python3.10/dist-packages (from matplotlib>=2.2.3->flair) (3.2.0)\n",
            "Requirement already satisfied: jinja2 in /usr/local/lib/python3.10/dist-packages (from mpld3>=0.3->flair) (3.1.4)\n",
            "Requirement already satisfied: scipy>=1.6.0 in /usr/local/lib/python3.10/dist-packages (from scikit-learn>=1.0.2->flair) (1.13.1)\n",
            "Requirement already satisfied: joblib>=1.2.0 in /usr/local/lib/python3.10/dist-packages (from scikit-learn>=1.0.2->flair) (1.4.2)\n",
            "Requirement already satisfied: threadpoolctl>=3.1.0 in /usr/local/lib/python3.10/dist-packages (from scikit-learn>=1.0.2->flair) (3.5.0)\n",
            "Requirement already satisfied: networkx in /usr/local/lib/python3.10/dist-packages (from torch!=1.8,>=1.5.0->flair) (3.4.2)\n",
            "Requirement already satisfied: sympy==1.13.1 in /usr/local/lib/python3.10/dist-packages (from torch!=1.8,>=1.5.0->flair) (1.13.1)\n",
            "Requirement already satisfied: mpmath<1.4,>=1.1.0 in /usr/local/lib/python3.10/dist-packages (from sympy==1.13.1->torch!=1.8,>=1.5.0->flair) (1.3.0)\n",
            "Requirement already satisfied: safetensors>=0.4.1 in /usr/local/lib/python3.10/dist-packages (from transformers<5.0.0,>=4.18.0->transformers[sentencepiece]<5.0.0,>=4.18.0->flair) (0.4.5)\n",
            "Requirement already satisfied: tokenizers<0.20,>=0.19 in /usr/local/lib/python3.10/dist-packages (from transformers<5.0.0,>=4.18.0->transformers[sentencepiece]<5.0.0,>=4.18.0->flair) (0.19.1)\n",
            "Requirement already satisfied: protobuf in /usr/local/lib/python3.10/dist-packages (from transformers[sentencepiece]<5.0.0,>=4.18.0->flair) (3.20.3)\n",
            "Requirement already satisfied: sentencepiece!=0.1.92,>=0.1.91 in /usr/local/lib/python3.10/dist-packages (from transformers[sentencepiece]<5.0.0,>=4.18.0->flair) (0.2.0)\n",
            "Requirement already satisfied: urllib3!=2.2.0,<3,>=1.25.4 in /usr/local/lib/python3.10/dist-packages (from botocore<1.36.0,>=1.35.54->boto3>=1.20.27->flair) (2.2.3)\n",
            "Requirement already satisfied: attrs>=19.2.0 in /usr/local/lib/python3.10/dist-packages (from jsonlines>=1.2.0->bioc<3.0.0,>=2.0.0->flair) (24.2.0)\n",
            "Requirement already satisfied: accelerate>=0.21.0 in /usr/local/lib/python3.10/dist-packages (from transformers[sentencepiece,torch]<5.0,>=4.1->transformer-smaller-training-vocab>=0.2.3->flair) (0.34.2)\n",
            "Requirement already satisfied: soupsieve>1.2 in /usr/local/lib/python3.10/dist-packages (from beautifulsoup4->gdown>=4.4.0->flair) (2.6)\n",
            "Collecting sortedcontainers<3.0,>=2.0 (from intervaltree->bioc<3.0.0,>=2.0.0->flair)\n",
            "  Downloading sortedcontainers-2.4.0-py2.py3-none-any.whl.metadata (10 kB)\n",
            "Requirement already satisfied: MarkupSafe>=2.0 in /usr/local/lib/python3.10/dist-packages (from jinja2->mpld3>=0.3->flair) (3.0.2)\n",
            "Requirement already satisfied: charset-normalizer<4,>=2 in /usr/local/lib/python3.10/dist-packages (from requests[socks]->gdown>=4.4.0->flair) (3.4.0)\n",
            "Requirement already satisfied: idna<4,>=2.5 in /usr/local/lib/python3.10/dist-packages (from requests[socks]->gdown>=4.4.0->flair) (3.10)\n",
            "Requirement already satisfied: certifi>=2017.4.17 in /usr/local/lib/python3.10/dist-packages (from requests[socks]->gdown>=4.4.0->flair) (2024.8.30)\n",
            "Requirement already satisfied: PySocks!=1.5.7,>=1.5.6 in /usr/local/lib/python3.10/dist-packages (from requests[socks]->gdown>=4.4.0->flair) (1.7.1)\n",
            "Requirement already satisfied: psutil in /usr/local/lib/python3.10/dist-packages (from accelerate>=0.21.0->transformers[sentencepiece,torch]<5.0,>=4.1->transformer-smaller-training-vocab>=0.2.3->flair) (5.9.5)\n",
            "Downloading flair-0.14.0-py3-none-any.whl (776 kB)\n",
            "\u001b[2K   \u001b[90m━━━━━━━━━━━━━━━━━━━━━━━━━━━━━━━━━━━━━━━━\u001b[0m \u001b[32m776.5/776.5 kB\u001b[0m \u001b[31m50.9 MB/s\u001b[0m eta \u001b[36m0:00:00\u001b[0m\n",
            "\u001b[?25hDownloading bioc-2.1-py3-none-any.whl (33 kB)\n",
            "Downloading boto3-1.35.54-py3-none-any.whl (139 kB)\n",
            "\u001b[2K   \u001b[90m━━━━━━━━━━━━━━━━━━━━━━━━━━━━━━━━━━━━━━━━\u001b[0m \u001b[32m139.2/139.2 kB\u001b[0m \u001b[31m14.7 MB/s\u001b[0m eta \u001b[36m0:00:00\u001b[0m\n",
            "\u001b[?25hDownloading conllu-4.5.3-py2.py3-none-any.whl (16 kB)\n",
            "Downloading ftfy-6.3.1-py3-none-any.whl (44 kB)\n",
            "\u001b[2K   \u001b[90m━━━━━━━━━━━━━━━━━━━━━━━━━━━━━━━━━━━━━━━━\u001b[0m \u001b[32m44.8/44.8 kB\u001b[0m \u001b[31m4.1 MB/s\u001b[0m eta \u001b[36m0:00:00\u001b[0m\n",
            "\u001b[?25hDownloading mpld3-0.5.10-py3-none-any.whl (202 kB)\n",
            "\u001b[2K   \u001b[90m━━━━━━━━━━━━━━━━━━━━━━━━━━━━━━━━━━━━━━━━\u001b[0m \u001b[32m202.6/202.6 kB\u001b[0m \u001b[31m17.9 MB/s\u001b[0m eta \u001b[36m0:00:00\u001b[0m\n",
            "\u001b[?25hDownloading pytorch_revgrad-0.2.0-py3-none-any.whl (4.6 kB)\n",
            "Downloading segtok-1.5.11-py3-none-any.whl (24 kB)\n",
            "Downloading semver-3.0.2-py3-none-any.whl (17 kB)\n",
            "Downloading transformer_smaller_training_vocab-0.4.0-py3-none-any.whl (14 kB)\n",
            "Downloading botocore-1.35.54-py3-none-any.whl (12.7 MB)\n",
            "\u001b[2K   \u001b[90m━━━━━━━━━━━━━━━━━━━━━━━━━━━━━━━━━━━━━━━━\u001b[0m \u001b[32m12.7/12.7 MB\u001b[0m \u001b[31m117.1 MB/s\u001b[0m eta \u001b[36m0:00:00\u001b[0m\n",
            "\u001b[?25hDownloading jmespath-1.0.1-py3-none-any.whl (20 kB)\n",
            "Downloading jsonlines-4.0.0-py3-none-any.whl (8.7 kB)\n",
            "Downloading s3transfer-0.10.3-py3-none-any.whl (82 kB)\n",
            "\u001b[2K   \u001b[90m━━━━━━━━━━━━━━━━━━━━━━━━━━━━━━━━━━━━━━━━\u001b[0m \u001b[32m82.6/82.6 kB\u001b[0m \u001b[31m8.5 MB/s\u001b[0m eta \u001b[36m0:00:00\u001b[0m\n",
            "\u001b[?25hDownloading sortedcontainers-2.4.0-py2.py3-none-any.whl (29 kB)\n",
            "Building wheels for collected packages: langdetect, pptree, sqlitedict, wikipedia-api, docopt, intervaltree\n",
            "  Building wheel for langdetect (setup.py) ... \u001b[?25l\u001b[?25hdone\n",
            "  Created wheel for langdetect: filename=langdetect-1.0.9-py3-none-any.whl size=993222 sha256=b03f4e338ed9b170ba0cc5029a5b2e8adfcb1d6e7596ff6a43835ca8887938f1\n",
            "  Stored in directory: /root/.cache/pip/wheels/95/03/7d/59ea870c70ce4e5a370638b5462a7711ab78fba2f655d05106\n",
            "  Building wheel for pptree (setup.py) ... \u001b[?25l\u001b[?25hdone\n",
            "  Created wheel for pptree: filename=pptree-3.1-py3-none-any.whl size=4608 sha256=16c39cc98f3b2da458ced6c1667c801c57216d2f03ea5bb721a3ebf255190b2c\n",
            "  Stored in directory: /root/.cache/pip/wheels/9f/b6/0e/6f26eb9e6eb53ff2107a7888d72b5a6a597593956113037828\n",
            "  Building wheel for sqlitedict (setup.py) ... \u001b[?25l\u001b[?25hdone\n",
            "  Created wheel for sqlitedict: filename=sqlitedict-2.1.0-py3-none-any.whl size=16864 sha256=06ed309a9f14c40c7994066a582b64551e320d9c26342ebffe61bf656ea6c1e3\n",
            "  Stored in directory: /root/.cache/pip/wheels/79/d6/e7/304e0e6cb2221022c26d8161f7c23cd4f259a9e41e8bbcfabd\n",
            "  Building wheel for wikipedia-api (setup.py) ... \u001b[?25l\u001b[?25hdone\n",
            "  Created wheel for wikipedia-api: filename=Wikipedia_API-0.7.1-py3-none-any.whl size=14346 sha256=a33ef16e2da7443de2c7a4a2797ed2610242dceafda614265e165eeaed78e7c8\n",
            "  Stored in directory: /root/.cache/pip/wheels/4c/96/18/b9201cc3e8b47b02b510460210cfd832ccf10c0c4dd0522962\n",
            "  Building wheel for docopt (setup.py) ... \u001b[?25l\u001b[?25hdone\n",
            "  Created wheel for docopt: filename=docopt-0.6.2-py2.py3-none-any.whl size=13706 sha256=fcfaac6729a338c34b4f3cff0f7480b3eae792aa0554a01ec4b8ebdfddedb8be\n",
            "  Stored in directory: /root/.cache/pip/wheels/fc/ab/d4/5da2067ac95b36618c629a5f93f809425700506f72c9732fac\n",
            "  Building wheel for intervaltree (setup.py) ... \u001b[?25l\u001b[?25hdone\n",
            "  Created wheel for intervaltree: filename=intervaltree-3.1.0-py2.py3-none-any.whl size=26097 sha256=c9106674254e722bc989420265a16108c655ba878f74317e4d36991fa807fa48\n",
            "  Stored in directory: /root/.cache/pip/wheels/fa/80/8c/43488a924a046b733b64de3fac99252674c892a4c3801c0a61\n",
            "Successfully built langdetect pptree sqlitedict wikipedia-api docopt intervaltree\n",
            "Installing collected packages: sqlitedict, sortedcontainers, pptree, docopt, semver, segtok, langdetect, jsonlines, jmespath, intervaltree, ftfy, conllu, wikipedia-api, botocore, bioc, s3transfer, pytorch-revgrad, mpld3, boto3, transformer-smaller-training-vocab, flair\n",
            "Successfully installed bioc-2.1 boto3-1.35.54 botocore-1.35.54 conllu-4.5.3 docopt-0.6.2 flair-0.14.0 ftfy-6.3.1 intervaltree-3.1.0 jmespath-1.0.1 jsonlines-4.0.0 langdetect-1.0.9 mpld3-0.5.10 pptree-3.1 pytorch-revgrad-0.2.0 s3transfer-0.10.3 segtok-1.5.11 semver-3.0.2 sortedcontainers-2.4.0 sqlitedict-2.1.0 transformer-smaller-training-vocab-0.4.0 wikipedia-api-0.7.1\n"
          ]
        }
      ]
    },
    {
      "cell_type": "code",
      "source": [
        "# convert spacy data into flair data\n",
        "import spacy\n",
        "from spacy.tokens import DocBin\n",
        "import os\n",
        "\n",
        "def convert_spacy_to_flair(input_file, output_file):\n",
        "    \"\"\"\n",
        "    Convert SpaCy binary format to Flair's CoNLL format.\n",
        "\n",
        "    Args:\n",
        "        input_file (str): Path to SpaCy binary file (.spacy)\n",
        "        output_file (str): Path to output file for Flair format\n",
        "    \"\"\"\n",
        "    # Load spaCy model\n",
        "    nlp = spacy.blank(\"en\")\n",
        "\n",
        "    # Load the DocBin\n",
        "    doc_bin = DocBin().from_disk(input_file)\n",
        "    docs = list(doc_bin.get_docs(nlp.vocab))\n",
        "\n",
        "    with open(output_file, 'w', encoding='utf-8') as f:\n",
        "        for doc in docs:\n",
        "            tokens = [(t.text, t.ent_iob_, t.ent_type_) for t in doc]\n",
        "\n",
        "            # Write tokens in CoNLL format\n",
        "            for token in tokens:\n",
        "                text, iob, ent_type = token\n",
        "\n",
        "                # Convert spaCy IOB to CoNLL format\n",
        "                if iob == 'O':\n",
        "                    tag = 'O'\n",
        "                else:\n",
        "                    tag = f'{iob}-{ent_type}' if ent_type else 'O'\n",
        "\n",
        "                # Write line: token and NER tag\n",
        "                f.write(f'{text} {tag}\\n')\n",
        "\n",
        "            # Empty line between sentences\n",
        "            f.write('\\n')\n",
        "\n",
        "def convert_spacy_json_to_flair(input_file, output_file):\n",
        "    \"\"\"\n",
        "    Convert SpaCy JSON format to Flair's CoNLL format.\n",
        "\n",
        "    Args:\n",
        "        input_file (str): Path to JSON file with SpaCy annotations\n",
        "        output_file (str): Path to output file for Flair format\n",
        "    \"\"\"\n",
        "    import json\n",
        "\n",
        "    nlp = spacy.blank(\"en\")\n",
        "\n",
        "    with open(input_file, 'r', encoding='utf-8') as f:\n",
        "        training_data = json.load(f)\n",
        "\n",
        "    with open(output_file, 'w', encoding='utf-8') as f:\n",
        "        for example in training_data:\n",
        "            text = example['text']\n",
        "            ents = example.get('entities', [])\n",
        "\n",
        "            # Create a spaCy doc\n",
        "            doc = nlp(text)\n",
        "\n",
        "            # Add entities to doc\n",
        "            spans = []\n",
        "            for start, end, label in ents:\n",
        "                span = doc.char_span(start, end, label=label)\n",
        "                if span is not None:\n",
        "                    spans.append(span)\n",
        "            doc.ents = spans\n",
        "\n",
        "            # Convert to CoNLL format\n",
        "            tokens = [(t.text, t.ent_iob_, t.ent_type_) for t in doc]\n",
        "\n",
        "            for token in tokens:\n",
        "                text, iob, ent_type = token\n",
        "                if iob == 'O':\n",
        "                    tag = 'O'\n",
        "                else:\n",
        "                    tag = f'{iob}-{ent_type}' if ent_type else 'O'\n",
        "                f.write(f'{text} {tag}\\n')\n",
        "\n",
        "            f.write('\\n')\n",
        "\n",
        "# Example usage for JSON format\n",
        "flair_train_json = \"flair_train.txt\"\n",
        "flair_test_json = \"flair_test.txt\"\n",
        "\n",
        "convert_spacy_to_flair('/content/spacy_ner_data/train_data.spacy', flair_train_json)\n",
        "convert_spacy_to_flair('/content/spacy_ner_data/test_data.spacy', flair_test_json)"
      ],
      "metadata": {
        "id": "8SgkTXeIiTtF",
        "colab": {
          "base_uri": "https://localhost:8080/",
          "height": 339
        },
        "outputId": "73fcb7af-e126-4918-a4cc-98270fb38ea0"
      },
      "id": "8SgkTXeIiTtF",
      "execution_count": null,
      "outputs": [
        {
          "output_type": "error",
          "ename": "FileNotFoundError",
          "evalue": "[Errno 2] No such file or directory: '/content/spacy_ner_data/train_data.spacy'",
          "traceback": [
            "\u001b[0;31m---------------------------------------------------------------------------\u001b[0m",
            "\u001b[0;31mFileNotFoundError\u001b[0m                         Traceback (most recent call last)",
            "\u001b[0;32m<ipython-input-3-fa51b6171dc5>\u001b[0m in \u001b[0;36m<cell line: 89>\u001b[0;34m()\u001b[0m\n\u001b[1;32m     87\u001b[0m \u001b[0mflair_test_json\u001b[0m \u001b[0;34m=\u001b[0m \u001b[0;34m\"flair_test.txt\"\u001b[0m\u001b[0;34m\u001b[0m\u001b[0;34m\u001b[0m\u001b[0m\n\u001b[1;32m     88\u001b[0m \u001b[0;34m\u001b[0m\u001b[0m\n\u001b[0;32m---> 89\u001b[0;31m \u001b[0mconvert_spacy_to_flair\u001b[0m\u001b[0;34m(\u001b[0m\u001b[0;34m'/content/spacy_ner_data/train_data.spacy'\u001b[0m\u001b[0;34m,\u001b[0m \u001b[0mflair_train_json\u001b[0m\u001b[0;34m)\u001b[0m\u001b[0;34m\u001b[0m\u001b[0;34m\u001b[0m\u001b[0m\n\u001b[0m\u001b[1;32m     90\u001b[0m \u001b[0mconvert_spacy_to_flair\u001b[0m\u001b[0;34m(\u001b[0m\u001b[0;34m'/content/spacy_ner_data/test_data.spacy'\u001b[0m\u001b[0;34m,\u001b[0m \u001b[0mflair_test_json\u001b[0m\u001b[0;34m)\u001b[0m\u001b[0;34m\u001b[0m\u001b[0;34m\u001b[0m\u001b[0m\n",
            "\u001b[0;32m<ipython-input-3-fa51b6171dc5>\u001b[0m in \u001b[0;36mconvert_spacy_to_flair\u001b[0;34m(input_file, output_file)\u001b[0m\n\u001b[1;32m     16\u001b[0m \u001b[0;34m\u001b[0m\u001b[0m\n\u001b[1;32m     17\u001b[0m     \u001b[0;31m# Load the DocBin\u001b[0m\u001b[0;34m\u001b[0m\u001b[0;34m\u001b[0m\u001b[0m\n\u001b[0;32m---> 18\u001b[0;31m     \u001b[0mdoc_bin\u001b[0m \u001b[0;34m=\u001b[0m \u001b[0mDocBin\u001b[0m\u001b[0;34m(\u001b[0m\u001b[0;34m)\u001b[0m\u001b[0;34m.\u001b[0m\u001b[0mfrom_disk\u001b[0m\u001b[0;34m(\u001b[0m\u001b[0minput_file\u001b[0m\u001b[0;34m)\u001b[0m\u001b[0;34m\u001b[0m\u001b[0;34m\u001b[0m\u001b[0m\n\u001b[0m\u001b[1;32m     19\u001b[0m     \u001b[0mdocs\u001b[0m \u001b[0;34m=\u001b[0m \u001b[0mlist\u001b[0m\u001b[0;34m(\u001b[0m\u001b[0mdoc_bin\u001b[0m\u001b[0;34m.\u001b[0m\u001b[0mget_docs\u001b[0m\u001b[0;34m(\u001b[0m\u001b[0mnlp\u001b[0m\u001b[0;34m.\u001b[0m\u001b[0mvocab\u001b[0m\u001b[0;34m)\u001b[0m\u001b[0;34m)\u001b[0m\u001b[0;34m\u001b[0m\u001b[0;34m\u001b[0m\u001b[0m\n\u001b[1;32m     20\u001b[0m \u001b[0;34m\u001b[0m\u001b[0m\n",
            "\u001b[0;32m/usr/local/lib/python3.10/dist-packages/spacy/tokens/_serialize.py\u001b[0m in \u001b[0;36mfrom_disk\u001b[0;34m(self, path)\u001b[0m\n\u001b[1;32m    273\u001b[0m         \"\"\"\n\u001b[1;32m    274\u001b[0m         \u001b[0mpath\u001b[0m \u001b[0;34m=\u001b[0m \u001b[0mensure_path\u001b[0m\u001b[0;34m(\u001b[0m\u001b[0mpath\u001b[0m\u001b[0;34m)\u001b[0m\u001b[0;34m\u001b[0m\u001b[0;34m\u001b[0m\u001b[0m\n\u001b[0;32m--> 275\u001b[0;31m         \u001b[0;32mwith\u001b[0m \u001b[0mpath\u001b[0m\u001b[0;34m.\u001b[0m\u001b[0mopen\u001b[0m\u001b[0;34m(\u001b[0m\u001b[0;34m\"rb\"\u001b[0m\u001b[0;34m)\u001b[0m \u001b[0;32mas\u001b[0m \u001b[0mfile_\u001b[0m\u001b[0;34m:\u001b[0m\u001b[0;34m\u001b[0m\u001b[0;34m\u001b[0m\u001b[0m\n\u001b[0m\u001b[1;32m    276\u001b[0m             \u001b[0mself\u001b[0m\u001b[0;34m.\u001b[0m\u001b[0mfrom_bytes\u001b[0m\u001b[0;34m(\u001b[0m\u001b[0mfile_\u001b[0m\u001b[0;34m.\u001b[0m\u001b[0mread\u001b[0m\u001b[0;34m(\u001b[0m\u001b[0;34m)\u001b[0m\u001b[0;34m)\u001b[0m\u001b[0;34m\u001b[0m\u001b[0;34m\u001b[0m\u001b[0m\n\u001b[1;32m    277\u001b[0m         \u001b[0;32mreturn\u001b[0m \u001b[0mself\u001b[0m\u001b[0;34m\u001b[0m\u001b[0;34m\u001b[0m\u001b[0m\n",
            "\u001b[0;32m/usr/lib/python3.10/pathlib.py\u001b[0m in \u001b[0;36mopen\u001b[0;34m(self, mode, buffering, encoding, errors, newline)\u001b[0m\n\u001b[1;32m   1117\u001b[0m         \u001b[0;32mif\u001b[0m \u001b[0;34m\"b\"\u001b[0m \u001b[0;32mnot\u001b[0m \u001b[0;32min\u001b[0m \u001b[0mmode\u001b[0m\u001b[0;34m:\u001b[0m\u001b[0;34m\u001b[0m\u001b[0;34m\u001b[0m\u001b[0m\n\u001b[1;32m   1118\u001b[0m             \u001b[0mencoding\u001b[0m \u001b[0;34m=\u001b[0m \u001b[0mio\u001b[0m\u001b[0;34m.\u001b[0m\u001b[0mtext_encoding\u001b[0m\u001b[0;34m(\u001b[0m\u001b[0mencoding\u001b[0m\u001b[0;34m)\u001b[0m\u001b[0;34m\u001b[0m\u001b[0;34m\u001b[0m\u001b[0m\n\u001b[0;32m-> 1119\u001b[0;31m         return self._accessor.open(self, mode, buffering, encoding, errors,\n\u001b[0m\u001b[1;32m   1120\u001b[0m                                    newline)\n\u001b[1;32m   1121\u001b[0m \u001b[0;34m\u001b[0m\u001b[0m\n",
            "\u001b[0;31mFileNotFoundError\u001b[0m: [Errno 2] No such file or directory: '/content/spacy_ner_data/train_data.spacy'"
          ]
        }
      ]
    },
    {
      "cell_type": "code",
      "source": [
        "# convert spacy data into flair data\n",
        "import spacy\n",
        "from spacy.training import Corpus\n",
        "\n",
        "!python -m spacy download de_core_news_sm\n",
        "nlp = spacy.load(\"de_core_news_sm\")\n",
        "corpus = Corpus(\"/content/spacy_ner_data/test_data.spacy\")\n",
        "\n",
        "data = corpus(nlp)\n",
        "\n",
        "# Flair supports BIO and BIOES, see https://github.com/flairNLP/flair/issues/875\n",
        "def rename_biluo_to_bioes(old_tag):\n",
        "    new_tag = \"\"\n",
        "    try:\n",
        "        if old_tag.startswith(\"L\"):\n",
        "            new_tag = \"E\" + old_tag[1:]\n",
        "        elif old_tag.startswith(\"U\"):\n",
        "            new_tag = \"S\" + old_tag[1:]\n",
        "        else:\n",
        "            new_tag = old_tag\n",
        "    except:\n",
        "        pass\n",
        "    return new_tag\n",
        "\n",
        "\n",
        "def generate_corpus():\n",
        "    corpus = []\n",
        "    n_ex = 0\n",
        "    for example in data:\n",
        "        n_ex += 1\n",
        "        text = example.text\n",
        "        doc = nlp(text)\n",
        "        tags = example.get_aligned_ner()\n",
        "        # Check if it's an empty list of NER tags.\n",
        "        if None in tags:\n",
        "            pass\n",
        "        else:\n",
        "            new_tags = [rename_biluo_to_bioes(tag) for tag in tags]\n",
        "            for token, tag in zip(doc,new_tags):\n",
        "                row = token.text +' '+ token.pos_ +' ' +tag + '\\n'\n",
        "                corpus.append(row)\n",
        "            corpus.append('\\n')\n",
        "    return corpus\n",
        "\n",
        "def write_file(filepath):\n",
        "    with open(filepath, 'w', encoding='utf-8') as f:\n",
        "        corpus = generate_corpus()\n",
        "        f.writelines(corpus)\n",
        "\n",
        "def main():\n",
        "    write_file('flair_test.txt')\n",
        "\n",
        "main()"
      ],
      "metadata": {
        "id": "TbHBmnUyv65f",
        "colab": {
          "base_uri": "https://localhost:8080/"
        },
        "outputId": "be6d42bd-f6a2-4143-b278-f010c011ae8f"
      },
      "id": "TbHBmnUyv65f",
      "execution_count": null,
      "outputs": [
        {
          "output_type": "stream",
          "name": "stdout",
          "text": [
            "Collecting de-core-news-sm==3.7.0\n",
            "  Using cached https://github.com/explosion/spacy-models/releases/download/de_core_news_sm-3.7.0/de_core_news_sm-3.7.0-py3-none-any.whl (14.6 MB)\n",
            "Requirement already satisfied: spacy<3.8.0,>=3.7.0 in /usr/local/lib/python3.10/dist-packages (from de-core-news-sm==3.7.0) (3.7.5)\n",
            "Requirement already satisfied: spacy-legacy<3.1.0,>=3.0.11 in /usr/local/lib/python3.10/dist-packages (from spacy<3.8.0,>=3.7.0->de-core-news-sm==3.7.0) (3.0.12)\n",
            "Requirement already satisfied: spacy-loggers<2.0.0,>=1.0.0 in /usr/local/lib/python3.10/dist-packages (from spacy<3.8.0,>=3.7.0->de-core-news-sm==3.7.0) (1.0.5)\n",
            "Requirement already satisfied: murmurhash<1.1.0,>=0.28.0 in /usr/local/lib/python3.10/dist-packages (from spacy<3.8.0,>=3.7.0->de-core-news-sm==3.7.0) (1.0.10)\n",
            "Requirement already satisfied: cymem<2.1.0,>=2.0.2 in /usr/local/lib/python3.10/dist-packages (from spacy<3.8.0,>=3.7.0->de-core-news-sm==3.7.0) (2.0.8)\n",
            "Requirement already satisfied: preshed<3.1.0,>=3.0.2 in /usr/local/lib/python3.10/dist-packages (from spacy<3.8.0,>=3.7.0->de-core-news-sm==3.7.0) (3.0.9)\n",
            "Requirement already satisfied: thinc<8.3.0,>=8.2.2 in /usr/local/lib/python3.10/dist-packages (from spacy<3.8.0,>=3.7.0->de-core-news-sm==3.7.0) (8.2.5)\n",
            "Requirement already satisfied: wasabi<1.2.0,>=0.9.1 in /usr/local/lib/python3.10/dist-packages (from spacy<3.8.0,>=3.7.0->de-core-news-sm==3.7.0) (1.1.3)\n",
            "Requirement already satisfied: srsly<3.0.0,>=2.4.3 in /usr/local/lib/python3.10/dist-packages (from spacy<3.8.0,>=3.7.0->de-core-news-sm==3.7.0) (2.4.8)\n",
            "Requirement already satisfied: catalogue<2.1.0,>=2.0.6 in /usr/local/lib/python3.10/dist-packages (from spacy<3.8.0,>=3.7.0->de-core-news-sm==3.7.0) (2.0.10)\n",
            "Requirement already satisfied: weasel<0.5.0,>=0.1.0 in /usr/local/lib/python3.10/dist-packages (from spacy<3.8.0,>=3.7.0->de-core-news-sm==3.7.0) (0.4.1)\n",
            "Requirement already satisfied: typer<1.0.0,>=0.3.0 in /usr/local/lib/python3.10/dist-packages (from spacy<3.8.0,>=3.7.0->de-core-news-sm==3.7.0) (0.12.5)\n",
            "Requirement already satisfied: tqdm<5.0.0,>=4.38.0 in /usr/local/lib/python3.10/dist-packages (from spacy<3.8.0,>=3.7.0->de-core-news-sm==3.7.0) (4.66.5)\n",
            "Requirement already satisfied: requests<3.0.0,>=2.13.0 in /usr/local/lib/python3.10/dist-packages (from spacy<3.8.0,>=3.7.0->de-core-news-sm==3.7.0) (2.32.3)\n",
            "Requirement already satisfied: pydantic!=1.8,!=1.8.1,<3.0.0,>=1.7.4 in /usr/local/lib/python3.10/dist-packages (from spacy<3.8.0,>=3.7.0->de-core-news-sm==3.7.0) (2.9.2)\n",
            "Requirement already satisfied: jinja2 in /usr/local/lib/python3.10/dist-packages (from spacy<3.8.0,>=3.7.0->de-core-news-sm==3.7.0) (3.1.4)\n",
            "Requirement already satisfied: setuptools in /usr/local/lib/python3.10/dist-packages (from spacy<3.8.0,>=3.7.0->de-core-news-sm==3.7.0) (75.1.0)\n",
            "Requirement already satisfied: packaging>=20.0 in /usr/local/lib/python3.10/dist-packages (from spacy<3.8.0,>=3.7.0->de-core-news-sm==3.7.0) (24.1)\n",
            "Requirement already satisfied: langcodes<4.0.0,>=3.2.0 in /usr/local/lib/python3.10/dist-packages (from spacy<3.8.0,>=3.7.0->de-core-news-sm==3.7.0) (3.4.1)\n",
            "Requirement already satisfied: numpy>=1.19.0 in /usr/local/lib/python3.10/dist-packages (from spacy<3.8.0,>=3.7.0->de-core-news-sm==3.7.0) (1.26.4)\n",
            "Requirement already satisfied: language-data>=1.2 in /usr/local/lib/python3.10/dist-packages (from langcodes<4.0.0,>=3.2.0->spacy<3.8.0,>=3.7.0->de-core-news-sm==3.7.0) (1.2.0)\n",
            "Requirement already satisfied: annotated-types>=0.6.0 in /usr/local/lib/python3.10/dist-packages (from pydantic!=1.8,!=1.8.1,<3.0.0,>=1.7.4->spacy<3.8.0,>=3.7.0->de-core-news-sm==3.7.0) (0.7.0)\n",
            "Requirement already satisfied: pydantic-core==2.23.4 in /usr/local/lib/python3.10/dist-packages (from pydantic!=1.8,!=1.8.1,<3.0.0,>=1.7.4->spacy<3.8.0,>=3.7.0->de-core-news-sm==3.7.0) (2.23.4)\n",
            "Requirement already satisfied: typing-extensions>=4.6.1 in /usr/local/lib/python3.10/dist-packages (from pydantic!=1.8,!=1.8.1,<3.0.0,>=1.7.4->spacy<3.8.0,>=3.7.0->de-core-news-sm==3.7.0) (4.12.2)\n",
            "Requirement already satisfied: charset-normalizer<4,>=2 in /usr/local/lib/python3.10/dist-packages (from requests<3.0.0,>=2.13.0->spacy<3.8.0,>=3.7.0->de-core-news-sm==3.7.0) (3.4.0)\n",
            "Requirement already satisfied: idna<4,>=2.5 in /usr/local/lib/python3.10/dist-packages (from requests<3.0.0,>=2.13.0->spacy<3.8.0,>=3.7.0->de-core-news-sm==3.7.0) (3.10)\n",
            "Requirement already satisfied: urllib3<3,>=1.21.1 in /usr/local/lib/python3.10/dist-packages (from requests<3.0.0,>=2.13.0->spacy<3.8.0,>=3.7.0->de-core-news-sm==3.7.0) (2.2.3)\n",
            "Requirement already satisfied: certifi>=2017.4.17 in /usr/local/lib/python3.10/dist-packages (from requests<3.0.0,>=2.13.0->spacy<3.8.0,>=3.7.0->de-core-news-sm==3.7.0) (2024.8.30)\n",
            "Requirement already satisfied: blis<0.8.0,>=0.7.8 in /usr/local/lib/python3.10/dist-packages (from thinc<8.3.0,>=8.2.2->spacy<3.8.0,>=3.7.0->de-core-news-sm==3.7.0) (0.7.11)\n",
            "Requirement already satisfied: confection<1.0.0,>=0.0.1 in /usr/local/lib/python3.10/dist-packages (from thinc<8.3.0,>=8.2.2->spacy<3.8.0,>=3.7.0->de-core-news-sm==3.7.0) (0.1.5)\n",
            "Requirement already satisfied: click>=8.0.0 in /usr/local/lib/python3.10/dist-packages (from typer<1.0.0,>=0.3.0->spacy<3.8.0,>=3.7.0->de-core-news-sm==3.7.0) (8.1.7)\n",
            "Requirement already satisfied: shellingham>=1.3.0 in /usr/local/lib/python3.10/dist-packages (from typer<1.0.0,>=0.3.0->spacy<3.8.0,>=3.7.0->de-core-news-sm==3.7.0) (1.5.4)\n",
            "Requirement already satisfied: rich>=10.11.0 in /usr/local/lib/python3.10/dist-packages (from typer<1.0.0,>=0.3.0->spacy<3.8.0,>=3.7.0->de-core-news-sm==3.7.0) (13.9.3)\n",
            "Requirement already satisfied: cloudpathlib<1.0.0,>=0.7.0 in /usr/local/lib/python3.10/dist-packages (from weasel<0.5.0,>=0.1.0->spacy<3.8.0,>=3.7.0->de-core-news-sm==3.7.0) (0.20.0)\n",
            "Requirement already satisfied: smart-open<8.0.0,>=5.2.1 in /usr/local/lib/python3.10/dist-packages (from weasel<0.5.0,>=0.1.0->spacy<3.8.0,>=3.7.0->de-core-news-sm==3.7.0) (7.0.5)\n",
            "Requirement already satisfied: MarkupSafe>=2.0 in /usr/local/lib/python3.10/dist-packages (from jinja2->spacy<3.8.0,>=3.7.0->de-core-news-sm==3.7.0) (3.0.2)\n",
            "Requirement already satisfied: marisa-trie>=0.7.7 in /usr/local/lib/python3.10/dist-packages (from language-data>=1.2->langcodes<4.0.0,>=3.2.0->spacy<3.8.0,>=3.7.0->de-core-news-sm==3.7.0) (1.2.1)\n",
            "Requirement already satisfied: markdown-it-py>=2.2.0 in /usr/local/lib/python3.10/dist-packages (from rich>=10.11.0->typer<1.0.0,>=0.3.0->spacy<3.8.0,>=3.7.0->de-core-news-sm==3.7.0) (3.0.0)\n",
            "Requirement already satisfied: pygments<3.0.0,>=2.13.0 in /usr/local/lib/python3.10/dist-packages (from rich>=10.11.0->typer<1.0.0,>=0.3.0->spacy<3.8.0,>=3.7.0->de-core-news-sm==3.7.0) (2.18.0)\n",
            "Requirement already satisfied: wrapt in /usr/local/lib/python3.10/dist-packages (from smart-open<8.0.0,>=5.2.1->weasel<0.5.0,>=0.1.0->spacy<3.8.0,>=3.7.0->de-core-news-sm==3.7.0) (1.16.0)\n",
            "Requirement already satisfied: mdurl~=0.1 in /usr/local/lib/python3.10/dist-packages (from markdown-it-py>=2.2.0->rich>=10.11.0->typer<1.0.0,>=0.3.0->spacy<3.8.0,>=3.7.0->de-core-news-sm==3.7.0) (0.1.2)\n",
            "\u001b[38;5;2m✔ Download and installation successful\u001b[0m\n",
            "You can now load the package via spacy.load('de_core_news_sm')\n",
            "\u001b[38;5;3m⚠ Restart to reload dependencies\u001b[0m\n",
            "If you are in a Jupyter or Colab notebook, you may need to restart Python in\n",
            "order to load all the package's dependencies. You can do this by selecting the\n",
            "'Restart kernel' or 'Restart runtime' option.\n"
          ]
        }
      ]
    },
    {
      "cell_type": "code",
      "source": [
        "# convert json into flair data\n",
        "import json\n",
        "import random\n",
        "from typing import List, Dict, Tuple\n",
        "import spacy\n",
        "from collections import defaultdict\n",
        "\n",
        "class NERConverter:\n",
        "    def __init__(self):\n",
        "        self.nlp = spacy.load(\"en_core_web_sm\")\n",
        "\n",
        "    def get_bioes_label(self, token_index: int, entity_length: int, current_position: int, label: str) -> str:\n",
        "        \"\"\"\n",
        "        Convert to BIOES format\n",
        "        - S-: Single token entity\n",
        "        - B-: Beginning of multi-token entity\n",
        "        - I-: Inside of multi-token entity\n",
        "        - E-: End of multi-token entity\n",
        "        - O: Outside\n",
        "        \"\"\"\n",
        "        if entity_length == 1:\n",
        "            return f'S-{label}'\n",
        "        if current_position == 0:\n",
        "            return f'B-{label}'\n",
        "        if current_position == entity_length - 1:\n",
        "            return f'E-{label}'\n",
        "        return f'I-{label}'\n",
        "\n",
        "    def convert_to_bioes_format(self, json_data: List[dict]) -> List[List[Tuple[str, str]]]:\n",
        "        \"\"\"Convert JSON annotations to BIOES format.\"\"\"\n",
        "        all_sentences = []\n",
        "\n",
        "        for item in json_data:\n",
        "            text = item['data']['Text']\n",
        "            doc = self.nlp(text)\n",
        "\n",
        "            # Initialize character-level labels\n",
        "            char_labels = ['O'] * len(text)\n",
        "\n",
        "            # First pass: identify entity boundaries and lengths\n",
        "            entity_spans = []\n",
        "            if item['annotations'] and len(item['annotations']) > 0:\n",
        "                for ann in item['annotations'][0]['result']:\n",
        "                    if 'value' in ann:\n",
        "                        start = ann['value']['start']\n",
        "                        end = ann['value']['end']\n",
        "                        label = ann['value']['labels'][0]\n",
        "                        entity_spans.append((start, end, label))\n",
        "\n",
        "            # Sort spans by start position\n",
        "            entity_spans.sort(key=lambda x: x[0])\n",
        "\n",
        "            # Second pass: apply BIOES labels\n",
        "            for start, end, label in entity_spans:\n",
        "                # Get tokens that are part of this entity\n",
        "                entity_text = text[start:end]\n",
        "                entity_doc = self.nlp(entity_text)\n",
        "                entity_length = len([token for token in entity_doc if not token.is_space])\n",
        "\n",
        "                # Set labels for the entire span\n",
        "                current_token_idx = 0\n",
        "                for i in range(start, end):\n",
        "                    if i == start or text[i-1].isspace():\n",
        "                        char_labels[i] = self.get_bioes_label(i, entity_length, current_token_idx, label)\n",
        "                        current_token_idx += 1\n",
        "                    else:\n",
        "                        char_labels[i] = char_labels[i-1]\n",
        "\n",
        "            # Convert to token-level labels\n",
        "            current_sentence = []\n",
        "            for sent in doc.sents:\n",
        "                for token in sent:\n",
        "                    # Get the most common label for the token's characters\n",
        "                    token_chars_labels = char_labels[token.idx:token.idx + len(token.text)]\n",
        "                    label_counts = defaultdict(int)\n",
        "                    for char_label in token_chars_labels:\n",
        "                        label_counts[char_label] += 1\n",
        "\n",
        "                    token_label = max(label_counts.items(), key=lambda x: x[1])[0]\n",
        "                    current_sentence.append((token.text, token_label))\n",
        "\n",
        "                if current_sentence:\n",
        "                    all_sentences.append(current_sentence)\n",
        "                    current_sentence = []\n",
        "\n",
        "        return all_sentences\n",
        "\n",
        "    def write_flair_file(self, sentences: List[List[Tuple[str, str]]], filename: str):\n",
        "        \"\"\"Write sentences in BIOES format to file.\"\"\"\n",
        "        with open(filename, 'w', encoding='utf-8') as f:\n",
        "            for sentence in sentences:\n",
        "                for token, label in sentence:\n",
        "                    f.write(f'{token} {label}\\n')\n",
        "                f.write('\\n')\n",
        "\n",
        "    def convert_and_split(self, json_data: List[dict], train_file: str, test_file: str, test_ratio: float = 0.2):\n",
        "        \"\"\"Convert JSON to BIOES format and split into train/test sets.\"\"\"\n",
        "        all_sentences = self.convert_to_bioes_format(json_data)\n",
        "\n",
        "        # Shuffle and split\n",
        "        random.shuffle(all_sentences)\n",
        "        split_idx = int(len(all_sentences) * (1 - test_ratio))\n",
        "\n",
        "        train_sentences = all_sentences[:split_idx]\n",
        "        test_sentences = all_sentences[split_idx:]\n",
        "\n",
        "        # Write to files\n",
        "        self.write_flair_file(train_sentences, train_file)\n",
        "        self.write_flair_file(test_sentences, test_file)\n",
        "\n",
        "        return len(train_sentences), len(test_sentences)\n",
        "\n",
        "def main():\n",
        "    # Load JSON data\n",
        "    with open('/content/drive/MyDrive/FYP/Implementation/Resume Dataset/200_resumes_annotated.json', 'r', encoding='utf-8') as f:\n",
        "        json_data = json.load(f)\n",
        "\n",
        "    # Convert and split data\n",
        "    converter = NERConverter()\n",
        "    train_count, test_count = converter.convert_and_split(\n",
        "        json_data,\n",
        "        train_file='flair_train.txt',\n",
        "        test_file='flair_test.txt',\n",
        "        test_ratio=0.2\n",
        "    )\n",
        "\n",
        "    print(f'Created {train_count} training sentences and {test_count} test sentences')\n",
        "\n",
        "main()"
      ],
      "metadata": {
        "colab": {
          "base_uri": "https://localhost:8080/"
        },
        "id": "JYAkAghgs9k5",
        "outputId": "f4cfb0fd-587e-4ff7-e0fc-4da23093007b"
      },
      "id": "JYAkAghgs9k5",
      "execution_count": 3,
      "outputs": [
        {
          "output_type": "stream",
          "name": "stdout",
          "text": [
            "Created 298 training sentences and 75 test sentences\n"
          ]
        }
      ]
    },
    {
      "cell_type": "code",
      "source": [
        "from flair.data import Corpus\n",
        "from flair.datasets import ColumnCorpus\n",
        "\n",
        "# Define columns for CoNLL (0: word, 1: label)\n",
        "columns = {0: 'text', 1: 'ner'}\n",
        "\n",
        "# Set data folder and file names\n",
        "data_folder = './'\n",
        "train_file = 'flair_train.txt'\n",
        "test_file = 'flair_test.txt'\n",
        "\n",
        "# Load the corpus\n",
        "corpus: Corpus = ColumnCorpus(data_folder, columns,\n",
        "                              train_file=train_file,\n",
        "                              test_file=test_file,\n",
        "                              dev_file=None)"
      ],
      "metadata": {
        "colab": {
          "base_uri": "https://localhost:8080/"
        },
        "id": "vl2-GpGBjpsi",
        "outputId": "4076027e-fe8c-4686-bfa7-0eb81540edcb"
      },
      "id": "vl2-GpGBjpsi",
      "execution_count": 4,
      "outputs": [
        {
          "output_type": "stream",
          "name": "stdout",
          "text": [
            "2024-11-06 09:54:22,403 Reading data from .\n",
            "2024-11-06 09:54:22,404 Train: flair_train.txt\n",
            "2024-11-06 09:54:22,408 Dev: None\n",
            "2024-11-06 09:54:22,409 Test: flair_test.txt\n",
            "2024-11-06 09:54:23,941 No dev split found. Using 10% (i.e. 30 samples) of the train split as dev data\n"
          ]
        }
      ]
    },
    {
      "cell_type": "code",
      "source": [
        "tag_dictionary = corpus.make_label_dictionary(label_type='ner')\n",
        "print(\"Labels:\", tag_dictionary.get_items())"
      ],
      "metadata": {
        "colab": {
          "base_uri": "https://localhost:8080/"
        },
        "id": "d_skLRc8i44m",
        "outputId": "270ae3e1-9ecf-4f96-df81-17faee9deb11"
      },
      "id": "d_skLRc8i44m",
      "execution_count": 5,
      "outputs": [
        {
          "output_type": "stream",
          "name": "stdout",
          "text": [
            "2024-11-06 09:54:28,036 Computing label dictionary. Progress:\n"
          ]
        },
        {
          "output_type": "stream",
          "name": "stderr",
          "text": [
            "0it [00:00, ?it/s]\n",
            "268it [00:00, 8780.66it/s]"
          ]
        },
        {
          "output_type": "stream",
          "name": "stdout",
          "text": [
            "2024-11-06 09:54:28,112 Dictionary created for label 'ner' with 11 values: SKILL (seen 2247 times), JOB (seen 551 times), WORK (seen 469 times), COMPANY (seen 382 times), LOC (seen 257 times), UNI (seen 160 times), DEG (seen 150 times), PHONE (seen 142 times), STUDY (seen 142 times), NAME (seen 140 times), EMAIL (seen 111 times)\n",
            "Labels: ['SKILL', 'JOB', 'WORK', 'COMPANY', 'LOC', 'UNI', 'DEG', 'PHONE', 'STUDY', 'NAME', 'EMAIL']\n"
          ]
        },
        {
          "output_type": "stream",
          "name": "stderr",
          "text": [
            "\n"
          ]
        }
      ]
    },
    {
      "cell_type": "code",
      "source": [
        "from collections import Counter\n",
        "\n",
        "def count_labels(file_path):\n",
        "    with open(file_path, 'r') as file:\n",
        "        labels = [line.split()[-1] for line in file if line.strip()]\n",
        "    return Counter(labels)\n",
        "\n",
        "print(\"Train label distribution:\", count_labels('flair_train.txt'))\n",
        "print(\"Test label distribution:\", count_labels('flair_test.txt'))"
      ],
      "metadata": {
        "colab": {
          "base_uri": "https://localhost:8080/"
        },
        "id": "j5cXWOiGY5an",
        "outputId": "dc5b996c-4a56-494c-d226-5041a2d1b266"
      },
      "id": "j5cXWOiGY5an",
      "execution_count": 6,
      "outputs": [
        {
          "output_type": "stream",
          "name": "stdout",
          "text": [
            "Train label distribution: Counter({'O': 72376, 'S-SKILL': 1465, 'PER': 1243, 'B-SKILL': 1006, 'E-SKILL': 1004, 'E-JOB': 547, 'B-JOB': 538, 'E-COMPANY': 350, 'B-COMPANY': 348, 'I-JOB': 297, 'I-DEG': 263, 'I-COMPANY': 262, 'I-SKILL': 199, 'E-UNI': 177, 'B-UNI': 176, 'S-LOC': 176, 'E-DEG': 161, 'B-DEG': 160, 'B-NAME': 156, 'E-NAME': 156, 'I-UNI': 139, 'E-PHONE': 132, 'B-PHONE': 131, 'S-EMAIL': 121, 'B-LOC': 106, 'E-LOC': 106, 'I-PHONE': 84, 'S-COMPANY': 66, 'S-JOB': 62, 'S-PHONE': 20, 'S-DEG': 6, 'I-LOC': 5, 'I-NAME': 5, 'B-EMAIL': 1, 'E-EMAIL': 1})\n",
            "Test label distribution: Counter({'O': 16717, 'S-SKILL': 326, 'PER': 268, 'B-SKILL': 207, 'E-SKILL': 205, 'E-JOB': 112, 'B-JOB': 109, 'E-COMPANY': 77, 'B-COMPANY': 74, 'I-DEG': 71, 'I-JOB': 60, 'I-COMPANY': 53, 'B-DEG': 41, 'E-DEG': 41, 'B-UNI': 38, 'E-UNI': 38, 'I-SKILL': 37, 'B-NAME': 35, 'E-NAME': 35, 'I-UNI': 32, 'S-LOC': 29, 'S-EMAIL': 27, 'E-PHONE': 25, 'B-PHONE': 24, 'B-LOC': 22, 'E-LOC': 22, 'I-PHONE': 22, 'S-JOB': 13, 'S-COMPANY': 13, 'S-PHONE': 9, 'I-NAME': 5, 'S-UNI': 2, 'S-DEG': 1})\n"
          ]
        }
      ]
    },
    {
      "cell_type": "code",
      "source": [
        "# create NER tagger\n",
        "from flair.embeddings import WordEmbeddings, StackedEmbeddings, TransformerWordEmbeddings, FlairEmbeddings\n",
        "from flair.models import SequenceTagger\n",
        "\n",
        "# using LSTM-CRF on top of frozen embeddings\n",
        "# combine flair and glove embeddings\n",
        "# embeddings = StackedEmbeddings([\n",
        "#                 WordEmbeddings('glove'),\n",
        "#                 FlairEmbeddings('news-forward'),\n",
        "#                 FlairEmbeddings('news-backward'),\n",
        "#             ])\n",
        "# tagger = SequenceTagger(hidden_size=256,\n",
        "#                          embeddings=embeddings,\n",
        "#                          tag_dictionary=tag_dictionary,\n",
        "#                          tag_type='ner',\n",
        "#                          use_crf=True,\n",
        "#                          tag_format = 'BIOES')\n",
        "\n",
        "# using transformer embedding\n",
        "# embeddings = TransformerWordEmbeddings('bert-base-uncased',\n",
        "#                                       fine_tune=True,\n",
        "#                                       layers='-1',\n",
        "#                                       subtoken_pooling='first')\n",
        "embeddings = TransformerWordEmbeddings(\n",
        "    'roberta-base',  # or 'bert-base-uncased'\n",
        "    fine_tune=True,\n",
        "    layers='-1,-2,-3,-4',  # Use last 4 layers\n",
        "    subtoken_pooling='first',\n",
        "    allow_long_sentences=True\n",
        ")\n",
        "tagger = SequenceTagger(hidden_size=128,\n",
        "                         embeddings=embeddings,\n",
        "                         tag_dictionary=tag_dictionary,\n",
        "                         tag_type='ner',\n",
        "                         use_crf=False,\n",
        "                         use_rnn=False,\n",
        "                         reproject_embeddings=False,\n",
        "                         tag_format = 'BIOES')"
      ],
      "metadata": {
        "id": "QEBUKmiAnaFm",
        "colab": {
          "base_uri": "https://localhost:8080/",
          "height": 385,
          "referenced_widgets": [
            "8cf716b88fcd4b1b813bef68acbbd8e0",
            "9c32aea599e343f38ec42bc681c06a6b",
            "4606c8eae0b64ee4bc057e88d395d304",
            "233039b6d84448f4bdb816de49fd7c3d",
            "2ef39654d9584c6ea418878c5616c0fd",
            "e2a467a5b1884ea3acfee19f9c53d66d",
            "accd8deb71f6446c90d13e1736da1cc9",
            "e96e47a8acd4487888bf41957e2c550e",
            "93a4064578dd4d9eb18f20c6572ce0e8",
            "8e613a66c38b48bf8dd00ff792f5f266",
            "08e357786d2b41829f7f42e06b0b59c0",
            "79cc6d1d853b45ad92a3d31b8cb0418e",
            "10e950b04a1d431899c084d85f2c2d3d",
            "7112a98cc3fe4a4d9d981e5e22fc39b8",
            "1966912d3be54c94a4b23c65f57b5fbd",
            "29c6aa73cf5c4cd9ae731f2726153996",
            "60892a7f0d69475ea3dde00daab9b8ed",
            "df6aa2987e534e9c8a53792d24472751",
            "e9693673b6ca4bb9a64652d699335223",
            "b0db72e915b74bd9939b842d52a7c765",
            "c73c6643707a4eb48b5f8523ee0b4903",
            "7f861508983a40a997fac88ab10f6d1f",
            "ba2a9139f5fb43a6aed0cb7e9c985958",
            "6844b81724c747709467b3c56e34e39b",
            "2b9b7645f94649fc947f0711f7743328",
            "8af50a1485e14240987975b93db1fbce",
            "32a758e9454849aea60d0b404f3b32c9",
            "769719cfd87043cc9de35ae2f6aeb6ed",
            "f29093444b904ff39c4a367382eb60c1",
            "ec553541732249959539fe12593c8545",
            "87f2e846b71f483aa049d34c48bdb1bf",
            "75455360981f46b88b96aac467d780ac",
            "8265b2527a444c7d84ba8341e40ae76a",
            "c4de395d0a24420cb33f7c3bca5c39de",
            "a7f876e4b5fa403f9e4b2fb04ee33037",
            "f59da1e1144044998d93fc6d2e958163",
            "6a5992868fce461a85c8564615914d4a",
            "8b3c3570e5e24af0bf4db81286261168",
            "9c13b15c503942ee868f0fb417dfaf93",
            "ef391ecd35a14e4685c736f684da1bb1",
            "6d7f9d1b88f84830a8733c23671d9452",
            "f89077db035f4897a224dd3b988b06dd",
            "acbd14550bcd42f184b4121ec8024c50",
            "cf34748aeb304f59ac72f249446cd19c",
            "97edec489c7047d48b243353b1681fc4",
            "558ba44d7f3142689e04b95c5b813316",
            "c3c2a9d561154784b60b72f1e10cbf5b",
            "67562bbee4ee416988191fe829f87855",
            "25756fab1ea24520870b41bf54047376",
            "a9d97d0ff43d40e08aca5773e7f1b82e",
            "479963b67e904690929cdfc9bbc2c0b8",
            "63a5223f40564baf8f9c5da4efb85cfc",
            "248f3ae3393143dcad8c7d3554038bec",
            "0b316d2044ab478bb1ae2468ce53f0c3",
            "5de672a5bea543fd8c70e1996522af1b",
            "94684242c53f436c8cb7a3d20c0055b9",
            "a3030fc6520e4f379610d156e532ce21",
            "17d4413fe8014becbf45fe9b20e0f09d",
            "4c06bd8a36054a5db89ce850e236844d",
            "4f29e021cf444c60bbe859ce831b9ce7",
            "7a3b419943f144ee9716a70a0875b428",
            "adf4a0e5469145bd8d0ac9965a7badc2",
            "8acd41351c0f41f298bb8849dc34ed28",
            "97959cfa5f5846be9362ec98cf2bd770",
            "d476cdd098324ab091602396fe880f77",
            "63330ed8dddc44d2ad44945953fab7bf"
          ]
        },
        "outputId": "9560fb24-8b08-457f-dbc8-88b0e90516c1"
      },
      "id": "QEBUKmiAnaFm",
      "execution_count": 7,
      "outputs": [
        {
          "output_type": "stream",
          "name": "stderr",
          "text": [
            "/usr/local/lib/python3.10/dist-packages/huggingface_hub/utils/_token.py:89: UserWarning: \n",
            "The secret `HF_TOKEN` does not exist in your Colab secrets.\n",
            "To authenticate with the Hugging Face Hub, create a token in your settings tab (https://huggingface.co/settings/tokens), set it as secret in your Google Colab and restart your session.\n",
            "You will be able to reuse this secret in all of your notebooks.\n",
            "Please note that authentication is recommended but still optional to access public models or datasets.\n",
            "  warnings.warn(\n"
          ]
        },
        {
          "output_type": "display_data",
          "data": {
            "text/plain": [
              "tokenizer_config.json:   0%|          | 0.00/25.0 [00:00<?, ?B/s]"
            ],
            "application/vnd.jupyter.widget-view+json": {
              "version_major": 2,
              "version_minor": 0,
              "model_id": "8cf716b88fcd4b1b813bef68acbbd8e0"
            }
          },
          "metadata": {}
        },
        {
          "output_type": "display_data",
          "data": {
            "text/plain": [
              "config.json:   0%|          | 0.00/481 [00:00<?, ?B/s]"
            ],
            "application/vnd.jupyter.widget-view+json": {
              "version_major": 2,
              "version_minor": 0,
              "model_id": "79cc6d1d853b45ad92a3d31b8cb0418e"
            }
          },
          "metadata": {}
        },
        {
          "output_type": "display_data",
          "data": {
            "text/plain": [
              "vocab.json:   0%|          | 0.00/899k [00:00<?, ?B/s]"
            ],
            "application/vnd.jupyter.widget-view+json": {
              "version_major": 2,
              "version_minor": 0,
              "model_id": "ba2a9139f5fb43a6aed0cb7e9c985958"
            }
          },
          "metadata": {}
        },
        {
          "output_type": "display_data",
          "data": {
            "text/plain": [
              "merges.txt:   0%|          | 0.00/456k [00:00<?, ?B/s]"
            ],
            "application/vnd.jupyter.widget-view+json": {
              "version_major": 2,
              "version_minor": 0,
              "model_id": "c4de395d0a24420cb33f7c3bca5c39de"
            }
          },
          "metadata": {}
        },
        {
          "output_type": "display_data",
          "data": {
            "text/plain": [
              "tokenizer.json:   0%|          | 0.00/1.36M [00:00<?, ?B/s]"
            ],
            "application/vnd.jupyter.widget-view+json": {
              "version_major": 2,
              "version_minor": 0,
              "model_id": "97edec489c7047d48b243353b1681fc4"
            }
          },
          "metadata": {}
        },
        {
          "output_type": "stream",
          "name": "stderr",
          "text": [
            "/usr/local/lib/python3.10/dist-packages/transformers/tokenization_utils_base.py:1601: FutureWarning: `clean_up_tokenization_spaces` was not set. It will be set to `True` by default. This behavior will be depracted in transformers v4.45, and will be then set to `False` by default. For more details check this issue: https://github.com/huggingface/transformers/issues/31884\n",
            "  warnings.warn(\n"
          ]
        },
        {
          "output_type": "display_data",
          "data": {
            "text/plain": [
              "model.safetensors:   0%|          | 0.00/499M [00:00<?, ?B/s]"
            ],
            "application/vnd.jupyter.widget-view+json": {
              "version_major": 2,
              "version_minor": 0,
              "model_id": "94684242c53f436c8cb7a3d20c0055b9"
            }
          },
          "metadata": {}
        },
        {
          "output_type": "stream",
          "name": "stdout",
          "text": [
            "2024-11-06 09:54:45,764 SequenceTagger predicts: Dictionary with 45 tags: O, S-SKILL, B-SKILL, E-SKILL, I-SKILL, S-JOB, B-JOB, E-JOB, I-JOB, S-WORK, B-WORK, E-WORK, I-WORK, S-COMPANY, B-COMPANY, E-COMPANY, I-COMPANY, S-LOC, B-LOC, E-LOC, I-LOC, S-UNI, B-UNI, E-UNI, I-UNI, S-DEG, B-DEG, E-DEG, I-DEG, S-PHONE, B-PHONE, E-PHONE, I-PHONE, S-STUDY, B-STUDY, E-STUDY, I-STUDY, S-NAME, B-NAME, E-NAME, I-NAME, S-EMAIL, B-EMAIL, E-EMAIL, I-EMAIL\n"
          ]
        }
      ]
    },
    {
      "cell_type": "code",
      "source": [
        "# train flair ner model\n",
        "from flair.trainers import ModelTrainer\n",
        "from flair.training_utils import EvaluationMetric\n",
        "\n",
        "trainer = ModelTrainer(tagger, corpus)\n",
        "\n",
        "trainer.train(\n",
        "    base_path='flair_output/',\n",
        "    learning_rate=0.01,\n",
        "    mini_batch_size=4,\n",
        "    max_epochs=50,\n",
        "    train_with_dev=False\n",
        ")\n",
        "!cp -r ./flair_output /content/drive/MyDrive/FYP/Implementation/"
      ],
      "metadata": {
        "id": "XbuJ4VjCnoPU",
        "colab": {
          "base_uri": "https://localhost:8080/"
        },
        "outputId": "d4f799fd-63e9-4f18-ff8c-addcae7ecdd4"
      },
      "id": "XbuJ4VjCnoPU",
      "execution_count": 8,
      "outputs": [
        {
          "output_type": "stream",
          "name": "stdout",
          "text": [
            "2024-11-06 09:54:47,941 ----------------------------------------------------------------------------------------------------\n",
            "2024-11-06 09:54:47,944 Model: \"SequenceTagger(\n",
            "  (embeddings): TransformerWordEmbeddings(\n",
            "    (model): RobertaModel(\n",
            "      (embeddings): RobertaEmbeddings(\n",
            "        (word_embeddings): Embedding(50266, 768, padding_idx=1)\n",
            "        (position_embeddings): Embedding(514, 768, padding_idx=1)\n",
            "        (token_type_embeddings): Embedding(1, 768)\n",
            "        (LayerNorm): LayerNorm((768,), eps=1e-05, elementwise_affine=True)\n",
            "        (dropout): Dropout(p=0.1, inplace=False)\n",
            "      )\n",
            "      (encoder): RobertaEncoder(\n",
            "        (layer): ModuleList(\n",
            "          (0-11): 12 x RobertaLayer(\n",
            "            (attention): RobertaAttention(\n",
            "              (self): RobertaSelfAttention(\n",
            "                (query): Linear(in_features=768, out_features=768, bias=True)\n",
            "                (key): Linear(in_features=768, out_features=768, bias=True)\n",
            "                (value): Linear(in_features=768, out_features=768, bias=True)\n",
            "                (dropout): Dropout(p=0.1, inplace=False)\n",
            "              )\n",
            "              (output): RobertaSelfOutput(\n",
            "                (dense): Linear(in_features=768, out_features=768, bias=True)\n",
            "                (LayerNorm): LayerNorm((768,), eps=1e-05, elementwise_affine=True)\n",
            "                (dropout): Dropout(p=0.1, inplace=False)\n",
            "              )\n",
            "            )\n",
            "            (intermediate): RobertaIntermediate(\n",
            "              (dense): Linear(in_features=768, out_features=3072, bias=True)\n",
            "              (intermediate_act_fn): GELUActivation()\n",
            "            )\n",
            "            (output): RobertaOutput(\n",
            "              (dense): Linear(in_features=3072, out_features=768, bias=True)\n",
            "              (LayerNorm): LayerNorm((768,), eps=1e-05, elementwise_affine=True)\n",
            "              (dropout): Dropout(p=0.1, inplace=False)\n",
            "            )\n",
            "          )\n",
            "        )\n",
            "      )\n",
            "      (pooler): RobertaPooler(\n",
            "        (dense): Linear(in_features=768, out_features=768, bias=True)\n",
            "        (activation): Tanh()\n",
            "      )\n",
            "    )\n",
            "  )\n",
            "  (locked_dropout): LockedDropout(p=0.5)\n",
            "  (linear): Linear(in_features=768, out_features=45, bias=True)\n",
            "  (loss_function): CrossEntropyLoss()\n",
            ")\"\n",
            "2024-11-06 09:54:47,946 ----------------------------------------------------------------------------------------------------\n",
            "2024-11-06 09:54:47,948 Corpus: 268 train + 30 dev + 75 test sentences\n",
            "2024-11-06 09:54:47,949 ----------------------------------------------------------------------------------------------------\n",
            "2024-11-06 09:54:47,950 Train:  268 sentences\n",
            "2024-11-06 09:54:47,951         (train_with_dev=False, train_with_test=False)\n",
            "2024-11-06 09:54:47,952 ----------------------------------------------------------------------------------------------------\n",
            "2024-11-06 09:54:47,953 Training Params:\n",
            "2024-11-06 09:54:47,954  - learning_rate: \"0.01\" \n",
            "2024-11-06 09:54:47,955  - mini_batch_size: \"4\"\n",
            "2024-11-06 09:54:47,956  - max_epochs: \"30\"\n",
            "2024-11-06 09:54:47,957  - shuffle: \"True\"\n",
            "2024-11-06 09:54:47,958 ----------------------------------------------------------------------------------------------------\n",
            "2024-11-06 09:54:47,959 Plugins:\n",
            "2024-11-06 09:54:47,961  - AnnealOnPlateau | patience: '3', anneal_factor: '0.5', min_learning_rate: '0.0001'\n",
            "2024-11-06 09:54:47,962 ----------------------------------------------------------------------------------------------------\n",
            "2024-11-06 09:54:47,963 Final evaluation on model from best epoch (best-model.pt)\n",
            "2024-11-06 09:54:47,964  - metric: \"('micro avg', 'f1-score')\"\n",
            "2024-11-06 09:54:47,965 ----------------------------------------------------------------------------------------------------\n",
            "2024-11-06 09:54:47,966 Computation:\n",
            "2024-11-06 09:54:47,967  - compute on device: cuda:0\n",
            "2024-11-06 09:54:47,968  - embedding storage: cpu\n",
            "2024-11-06 09:54:47,969 ----------------------------------------------------------------------------------------------------\n",
            "2024-11-06 09:54:47,970 Model training base path: \"flair_output\"\n",
            "2024-11-06 09:54:47,972 ----------------------------------------------------------------------------------------------------\n",
            "2024-11-06 09:54:47,973 ----------------------------------------------------------------------------------------------------\n"
          ]
        },
        {
          "output_type": "stream",
          "name": "stderr",
          "text": [
            "/usr/local/lib/python3.10/dist-packages/flair/trainers/trainer.py:499: FutureWarning: `torch.cuda.amp.GradScaler(args...)` is deprecated. Please use `torch.amp.GradScaler('cuda', args...)` instead.\n",
            "  scaler = torch.cuda.amp.GradScaler(enabled=use_amp and flair.device.type != \"cpu\")\n"
          ]
        },
        {
          "output_type": "stream",
          "name": "stdout",
          "text": [
            "2024-11-06 09:54:53,013 epoch 1 - iter 6/67 - loss 2.90346011 - time (sec): 5.04 - samples/sec: 1374.31 - lr: 0.010000 - momentum: 0.000000\n",
            "2024-11-06 09:54:56,684 epoch 1 - iter 12/67 - loss 1.77811724 - time (sec): 8.71 - samples/sec: 1819.59 - lr: 0.010000 - momentum: 0.000000\n",
            "2024-11-06 09:54:59,329 epoch 1 - iter 18/67 - loss 1.49312882 - time (sec): 11.35 - samples/sec: 2088.20 - lr: 0.010000 - momentum: 0.000000\n",
            "2024-11-06 09:55:01,952 epoch 1 - iter 24/67 - loss 1.39814584 - time (sec): 13.98 - samples/sec: 2171.47 - lr: 0.010000 - momentum: 0.000000\n",
            "2024-11-06 09:55:04,335 epoch 1 - iter 30/67 - loss 1.31976729 - time (sec): 16.36 - samples/sec: 2185.75 - lr: 0.010000 - momentum: 0.000000\n",
            "2024-11-06 09:55:06,968 epoch 1 - iter 36/67 - loss 1.24680779 - time (sec): 18.99 - samples/sec: 2217.39 - lr: 0.010000 - momentum: 0.000000\n",
            "2024-11-06 09:55:10,014 epoch 1 - iter 42/67 - loss 1.19058710 - time (sec): 22.04 - samples/sec: 2203.59 - lr: 0.010000 - momentum: 0.000000\n",
            "2024-11-06 09:55:11,700 epoch 1 - iter 48/67 - loss 1.15669032 - time (sec): 23.72 - samples/sec: 2269.33 - lr: 0.010000 - momentum: 0.000000\n",
            "2024-11-06 09:55:14,302 epoch 1 - iter 54/67 - loss 1.12293369 - time (sec): 26.33 - samples/sec: 2264.86 - lr: 0.010000 - momentum: 0.000000\n",
            "2024-11-06 09:55:16,847 epoch 1 - iter 60/67 - loss 1.09613234 - time (sec): 28.87 - samples/sec: 2290.72 - lr: 0.010000 - momentum: 0.000000\n",
            "2024-11-06 09:55:19,464 epoch 1 - iter 66/67 - loss 1.06041484 - time (sec): 31.49 - samples/sec: 2305.25 - lr: 0.010000 - momentum: 0.000000\n",
            "2024-11-06 09:55:19,963 ----------------------------------------------------------------------------------------------------\n",
            "2024-11-06 09:55:19,965 EPOCH 1 done: loss 1.0579 - lr: 0.010000\n"
          ]
        },
        {
          "output_type": "stream",
          "name": "stderr",
          "text": [
            "100%|██████████| 1/1 [00:02<00:00,  2.00s/it]"
          ]
        },
        {
          "output_type": "stream",
          "name": "stdout",
          "text": [
            "2024-11-06 09:55:22,000 DEV : loss 0.5709929466247559 - f1-score (micro avg)  0.0\n",
            "2024-11-06 09:55:22,015  - 0 epochs without improvement\n",
            "2024-11-06 09:55:22,019 ----------------------------------------------------------------------------------------------------\n"
          ]
        },
        {
          "output_type": "stream",
          "name": "stderr",
          "text": [
            "\n"
          ]
        },
        {
          "output_type": "stream",
          "name": "stdout",
          "text": [
            "2024-11-06 09:55:24,807 epoch 2 - iter 6/67 - loss 0.64740486 - time (sec): 2.78 - samples/sec: 2781.21 - lr: 0.010000 - momentum: 0.000000\n",
            "2024-11-06 09:55:28,298 epoch 2 - iter 12/67 - loss 0.65430567 - time (sec): 6.28 - samples/sec: 2566.67 - lr: 0.010000 - momentum: 0.000000\n",
            "2024-11-06 09:55:30,540 epoch 2 - iter 18/67 - loss 0.68795021 - time (sec): 8.52 - samples/sec: 2476.08 - lr: 0.010000 - momentum: 0.000000\n",
            "2024-11-06 09:55:33,162 epoch 2 - iter 24/67 - loss 0.66716287 - time (sec): 11.14 - samples/sec: 2440.79 - lr: 0.010000 - momentum: 0.000000\n",
            "2024-11-06 09:55:35,245 epoch 2 - iter 30/67 - loss 0.68608918 - time (sec): 13.22 - samples/sec: 2432.79 - lr: 0.010000 - momentum: 0.000000\n",
            "2024-11-06 09:55:37,728 epoch 2 - iter 36/67 - loss 0.68326514 - time (sec): 15.71 - samples/sec: 2436.42 - lr: 0.010000 - momentum: 0.000000\n",
            "2024-11-06 09:55:39,523 epoch 2 - iter 42/67 - loss 0.69568908 - time (sec): 17.50 - samples/sec: 2448.05 - lr: 0.010000 - momentum: 0.000000\n",
            "2024-11-06 09:55:42,155 epoch 2 - iter 48/67 - loss 0.68882130 - time (sec): 20.13 - samples/sec: 2490.39 - lr: 0.010000 - momentum: 0.000000\n",
            "2024-11-06 09:55:46,213 epoch 2 - iter 54/67 - loss 0.66985643 - time (sec): 24.19 - samples/sec: 2473.20 - lr: 0.010000 - momentum: 0.000000\n",
            "2024-11-06 09:55:48,515 epoch 2 - iter 60/67 - loss 0.66711533 - time (sec): 26.49 - samples/sec: 2471.35 - lr: 0.010000 - momentum: 0.000000\n",
            "2024-11-06 09:55:51,197 epoch 2 - iter 66/67 - loss 0.68178729 - time (sec): 29.17 - samples/sec: 2479.11 - lr: 0.010000 - momentum: 0.000000\n",
            "2024-11-06 09:55:51,902 ----------------------------------------------------------------------------------------------------\n",
            "2024-11-06 09:55:51,904 EPOCH 2 done: loss 0.6806 - lr: 0.010000\n"
          ]
        },
        {
          "output_type": "stream",
          "name": "stderr",
          "text": [
            "100%|██████████| 1/1 [00:03<00:00,  3.51s/it]"
          ]
        },
        {
          "output_type": "stream",
          "name": "stdout",
          "text": [
            "2024-11-06 09:55:55,453 DEV : loss 0.552460253238678 - f1-score (micro avg)  0.0\n",
            "2024-11-06 09:55:55,468  - 0 epochs without improvement\n",
            "2024-11-06 09:55:55,469 ----------------------------------------------------------------------------------------------------\n"
          ]
        },
        {
          "output_type": "stream",
          "name": "stderr",
          "text": [
            "\n"
          ]
        },
        {
          "output_type": "stream",
          "name": "stdout",
          "text": [
            "2024-11-06 09:55:58,507 epoch 3 - iter 6/67 - loss 0.47992346 - time (sec): 3.03 - samples/sec: 1968.73 - lr: 0.010000 - momentum: 0.000000\n",
            "2024-11-06 09:56:01,392 epoch 3 - iter 12/67 - loss 0.53165529 - time (sec): 5.92 - samples/sec: 1978.34 - lr: 0.010000 - momentum: 0.000000\n",
            "2024-11-06 09:56:04,312 epoch 3 - iter 18/67 - loss 0.59361112 - time (sec): 8.84 - samples/sec: 2176.42 - lr: 0.010000 - momentum: 0.000000\n",
            "2024-11-06 09:56:06,604 epoch 3 - iter 24/67 - loss 0.61569445 - time (sec): 11.13 - samples/sec: 2252.45 - lr: 0.010000 - momentum: 0.000000\n",
            "2024-11-06 09:56:09,331 epoch 3 - iter 30/67 - loss 0.60176336 - time (sec): 13.86 - samples/sec: 2311.61 - lr: 0.010000 - momentum: 0.000000\n",
            "2024-11-06 09:56:12,416 epoch 3 - iter 36/67 - loss 0.60908204 - time (sec): 16.94 - samples/sec: 2348.87 - lr: 0.010000 - momentum: 0.000000\n",
            "2024-11-06 09:56:15,395 epoch 3 - iter 42/67 - loss 0.61823835 - time (sec): 19.92 - samples/sec: 2286.46 - lr: 0.010000 - momentum: 0.000000\n",
            "2024-11-06 09:56:18,908 epoch 3 - iter 48/67 - loss 0.60480667 - time (sec): 23.44 - samples/sec: 2278.98 - lr: 0.010000 - momentum: 0.000000\n",
            "2024-11-06 09:56:21,452 epoch 3 - iter 54/67 - loss 0.60533963 - time (sec): 25.98 - samples/sec: 2273.58 - lr: 0.010000 - momentum: 0.000000\n",
            "2024-11-06 09:56:24,075 epoch 3 - iter 60/67 - loss 0.61157096 - time (sec): 28.60 - samples/sec: 2280.08 - lr: 0.010000 - momentum: 0.000000\n",
            "2024-11-06 09:56:26,841 epoch 3 - iter 66/67 - loss 0.61095922 - time (sec): 31.37 - samples/sec: 2302.02 - lr: 0.010000 - momentum: 0.000000\n",
            "2024-11-06 09:56:27,400 ----------------------------------------------------------------------------------------------------\n",
            "2024-11-06 09:56:27,402 EPOCH 3 done: loss 0.6135 - lr: 0.010000\n"
          ]
        },
        {
          "output_type": "stream",
          "name": "stderr",
          "text": [
            "100%|██████████| 1/1 [00:05<00:00,  5.05s/it]"
          ]
        },
        {
          "output_type": "stream",
          "name": "stdout",
          "text": [
            "2024-11-06 09:56:32,486 DEV : loss 0.5389795303344727 - f1-score (micro avg)  0.0\n",
            "2024-11-06 09:56:32,501  - 0 epochs without improvement\n",
            "2024-11-06 09:56:32,502 ----------------------------------------------------------------------------------------------------\n"
          ]
        },
        {
          "output_type": "stream",
          "name": "stderr",
          "text": [
            "\n"
          ]
        },
        {
          "output_type": "stream",
          "name": "stdout",
          "text": [
            "2024-11-06 09:56:34,924 epoch 4 - iter 6/67 - loss 0.60814302 - time (sec): 2.42 - samples/sec: 2659.14 - lr: 0.010000 - momentum: 0.000000\n",
            "2024-11-06 09:56:37,893 epoch 4 - iter 12/67 - loss 0.54065810 - time (sec): 5.39 - samples/sec: 2381.61 - lr: 0.010000 - momentum: 0.000000\n",
            "2024-11-06 09:56:40,895 epoch 4 - iter 18/67 - loss 0.54992082 - time (sec): 8.39 - samples/sec: 2264.38 - lr: 0.010000 - momentum: 0.000000\n",
            "2024-11-06 09:56:43,511 epoch 4 - iter 24/67 - loss 0.54490396 - time (sec): 11.01 - samples/sec: 2274.47 - lr: 0.010000 - momentum: 0.000000\n",
            "2024-11-06 09:56:47,059 epoch 4 - iter 30/67 - loss 0.51715610 - time (sec): 14.55 - samples/sec: 2260.29 - lr: 0.010000 - momentum: 0.000000\n",
            "2024-11-06 09:56:49,149 epoch 4 - iter 36/67 - loss 0.52613268 - time (sec): 16.64 - samples/sec: 2266.81 - lr: 0.010000 - momentum: 0.000000\n",
            "2024-11-06 09:56:51,870 epoch 4 - iter 42/67 - loss 0.53270014 - time (sec): 19.36 - samples/sec: 2275.40 - lr: 0.010000 - momentum: 0.000000\n",
            "2024-11-06 09:56:54,710 epoch 4 - iter 48/67 - loss 0.53195912 - time (sec): 22.20 - samples/sec: 2251.72 - lr: 0.010000 - momentum: 0.000000\n",
            "2024-11-06 09:56:58,040 epoch 4 - iter 54/67 - loss 0.54105401 - time (sec): 25.53 - samples/sec: 2256.30 - lr: 0.010000 - momentum: 0.000000\n",
            "2024-11-06 09:57:01,149 epoch 4 - iter 60/67 - loss 0.54329855 - time (sec): 28.64 - samples/sec: 2291.35 - lr: 0.010000 - momentum: 0.000000\n",
            "2024-11-06 09:57:04,266 epoch 4 - iter 66/67 - loss 0.55264529 - time (sec): 31.76 - samples/sec: 2277.63 - lr: 0.010000 - momentum: 0.000000\n",
            "2024-11-06 09:57:04,840 ----------------------------------------------------------------------------------------------------\n",
            "2024-11-06 09:57:04,842 EPOCH 4 done: loss 0.5528 - lr: 0.010000\n"
          ]
        },
        {
          "output_type": "stream",
          "name": "stderr",
          "text": [
            "100%|██████████| 1/1 [00:03<00:00,  3.53s/it]"
          ]
        },
        {
          "output_type": "stream",
          "name": "stdout",
          "text": [
            "2024-11-06 09:57:08,412 DEV : loss 0.5626357793807983 - f1-score (micro avg)  0.0\n",
            "2024-11-06 09:57:08,427  - 1 epochs without improvement\n",
            "2024-11-06 09:57:08,429 ----------------------------------------------------------------------------------------------------\n"
          ]
        },
        {
          "output_type": "stream",
          "name": "stderr",
          "text": [
            "\n"
          ]
        },
        {
          "output_type": "stream",
          "name": "stdout",
          "text": [
            "2024-11-06 09:57:11,637 epoch 5 - iter 6/67 - loss 0.48812058 - time (sec): 3.20 - samples/sec: 1364.79 - lr: 0.010000 - momentum: 0.000000\n",
            "2024-11-06 09:57:14,383 epoch 5 - iter 12/67 - loss 0.52345664 - time (sec): 5.95 - samples/sec: 1902.63 - lr: 0.010000 - momentum: 0.000000\n",
            "2024-11-06 09:57:17,445 epoch 5 - iter 18/67 - loss 0.51612303 - time (sec): 9.01 - samples/sec: 2123.83 - lr: 0.010000 - momentum: 0.000000\n",
            "2024-11-06 09:57:20,363 epoch 5 - iter 24/67 - loss 0.51934656 - time (sec): 11.93 - samples/sec: 2086.61 - lr: 0.010000 - momentum: 0.000000\n",
            "2024-11-06 09:57:23,783 epoch 5 - iter 30/67 - loss 0.52086682 - time (sec): 15.35 - samples/sec: 2110.27 - lr: 0.010000 - momentum: 0.000000\n",
            "2024-11-06 09:57:26,853 epoch 5 - iter 36/67 - loss 0.51865827 - time (sec): 18.42 - samples/sec: 2151.93 - lr: 0.010000 - momentum: 0.000000\n",
            "2024-11-06 09:57:29,788 epoch 5 - iter 42/67 - loss 0.52803136 - time (sec): 21.36 - samples/sec: 2110.03 - lr: 0.010000 - momentum: 0.000000\n",
            "2024-11-06 09:57:32,505 epoch 5 - iter 48/67 - loss 0.54206366 - time (sec): 24.07 - samples/sec: 2107.28 - lr: 0.010000 - momentum: 0.000000\n",
            "2024-11-06 09:57:36,094 epoch 5 - iter 54/67 - loss 0.52419242 - time (sec): 27.66 - samples/sec: 2142.82 - lr: 0.010000 - momentum: 0.000000\n",
            "2024-11-06 09:57:39,335 epoch 5 - iter 60/67 - loss 0.51924787 - time (sec): 30.90 - samples/sec: 2146.23 - lr: 0.010000 - momentum: 0.000000\n",
            "2024-11-06 09:57:42,450 epoch 5 - iter 66/67 - loss 0.51829508 - time (sec): 34.02 - samples/sec: 2135.06 - lr: 0.010000 - momentum: 0.000000\n",
            "2024-11-06 09:57:42,820 ----------------------------------------------------------------------------------------------------\n",
            "2024-11-06 09:57:42,821 EPOCH 5 done: loss 0.5185 - lr: 0.010000\n"
          ]
        },
        {
          "output_type": "stream",
          "name": "stderr",
          "text": [
            "100%|██████████| 1/1 [00:03<00:00,  3.43s/it]"
          ]
        },
        {
          "output_type": "stream",
          "name": "stdout",
          "text": [
            "2024-11-06 09:57:46,292 DEV : loss 0.557333767414093 - f1-score (micro avg)  0.0\n",
            "2024-11-06 09:57:46,307  - 2 epochs without improvement\n",
            "2024-11-06 09:57:46,310 ----------------------------------------------------------------------------------------------------\n"
          ]
        },
        {
          "output_type": "stream",
          "name": "stderr",
          "text": [
            "\n"
          ]
        },
        {
          "output_type": "stream",
          "name": "stdout",
          "text": [
            "2024-11-06 09:57:48,706 epoch 6 - iter 6/67 - loss 0.47130300 - time (sec): 2.39 - samples/sec: 2471.35 - lr: 0.010000 - momentum: 0.000000\n",
            "2024-11-06 09:57:52,562 epoch 6 - iter 12/67 - loss 0.48196330 - time (sec): 6.25 - samples/sec: 2169.61 - lr: 0.010000 - momentum: 0.000000\n",
            "2024-11-06 09:57:55,058 epoch 6 - iter 18/67 - loss 0.45963138 - time (sec): 8.75 - samples/sec: 2104.12 - lr: 0.010000 - momentum: 0.000000\n",
            "2024-11-06 09:57:57,401 epoch 6 - iter 24/67 - loss 0.47485225 - time (sec): 11.09 - samples/sec: 2157.55 - lr: 0.010000 - momentum: 0.000000\n",
            "2024-11-06 09:57:59,872 epoch 6 - iter 30/67 - loss 0.47447075 - time (sec): 13.56 - samples/sec: 2152.88 - lr: 0.010000 - momentum: 0.000000\n",
            "2024-11-06 09:58:03,187 epoch 6 - iter 36/67 - loss 0.47661970 - time (sec): 16.87 - samples/sec: 2287.14 - lr: 0.010000 - momentum: 0.000000\n",
            "2024-11-06 09:58:06,248 epoch 6 - iter 42/67 - loss 0.47893293 - time (sec): 19.94 - samples/sec: 2252.21 - lr: 0.010000 - momentum: 0.000000\n",
            "2024-11-06 09:58:09,614 epoch 6 - iter 48/67 - loss 0.48907499 - time (sec): 23.30 - samples/sec: 2250.86 - lr: 0.010000 - momentum: 0.000000\n",
            "2024-11-06 09:58:12,139 epoch 6 - iter 54/67 - loss 0.48950468 - time (sec): 25.83 - samples/sec: 2243.33 - lr: 0.010000 - momentum: 0.000000\n",
            "2024-11-06 09:58:14,765 epoch 6 - iter 60/67 - loss 0.49509859 - time (sec): 28.45 - samples/sec: 2275.07 - lr: 0.010000 - momentum: 0.000000\n",
            "2024-11-06 09:58:18,243 epoch 6 - iter 66/67 - loss 0.48466582 - time (sec): 31.93 - samples/sec: 2284.08 - lr: 0.010000 - momentum: 0.000000\n",
            "2024-11-06 09:58:19,052 ----------------------------------------------------------------------------------------------------\n",
            "2024-11-06 09:58:19,054 EPOCH 6 done: loss 0.4865 - lr: 0.010000\n"
          ]
        },
        {
          "output_type": "stream",
          "name": "stderr",
          "text": [
            "100%|██████████| 1/1 [00:05<00:00,  5.65s/it]"
          ]
        },
        {
          "output_type": "stream",
          "name": "stdout",
          "text": [
            "2024-11-06 09:58:24,745 DEV : loss 0.5368471145629883 - f1-score (micro avg)  0.0\n",
            "2024-11-06 09:58:24,760  - 0 epochs without improvement\n",
            "2024-11-06 09:58:24,762 ----------------------------------------------------------------------------------------------------\n"
          ]
        },
        {
          "output_type": "stream",
          "name": "stderr",
          "text": [
            "\n"
          ]
        },
        {
          "output_type": "stream",
          "name": "stdout",
          "text": [
            "2024-11-06 09:58:27,737 epoch 7 - iter 6/67 - loss 0.53374887 - time (sec): 2.97 - samples/sec: 2466.42 - lr: 0.010000 - momentum: 0.000000\n",
            "2024-11-06 09:58:30,856 epoch 7 - iter 12/67 - loss 0.52523912 - time (sec): 6.09 - samples/sec: 2232.12 - lr: 0.010000 - momentum: 0.000000\n",
            "2024-11-06 09:58:32,964 epoch 7 - iter 18/67 - loss 0.49192620 - time (sec): 8.20 - samples/sec: 2220.68 - lr: 0.010000 - momentum: 0.000000\n",
            "2024-11-06 09:58:36,238 epoch 7 - iter 24/67 - loss 0.47023870 - time (sec): 11.47 - samples/sec: 2284.88 - lr: 0.010000 - momentum: 0.000000\n",
            "2024-11-06 09:58:38,921 epoch 7 - iter 30/67 - loss 0.46672394 - time (sec): 14.16 - samples/sec: 2250.56 - lr: 0.010000 - momentum: 0.000000\n",
            "2024-11-06 09:58:42,105 epoch 7 - iter 36/67 - loss 0.46257774 - time (sec): 17.34 - samples/sec: 2267.75 - lr: 0.010000 - momentum: 0.000000\n",
            "2024-11-06 09:58:46,206 epoch 7 - iter 42/67 - loss 0.45573706 - time (sec): 21.44 - samples/sec: 2213.12 - lr: 0.010000 - momentum: 0.000000\n",
            "2024-11-06 09:58:49,313 epoch 7 - iter 48/67 - loss 0.45033088 - time (sec): 24.55 - samples/sec: 2241.17 - lr: 0.010000 - momentum: 0.000000\n",
            "2024-11-06 09:58:51,739 epoch 7 - iter 54/67 - loss 0.45201271 - time (sec): 26.97 - samples/sec: 2255.11 - lr: 0.010000 - momentum: 0.000000\n",
            "2024-11-06 09:58:54,679 epoch 7 - iter 60/67 - loss 0.45610719 - time (sec): 29.91 - samples/sec: 2232.83 - lr: 0.010000 - momentum: 0.000000\n",
            "2024-11-06 09:58:57,292 epoch 7 - iter 66/67 - loss 0.45285545 - time (sec): 32.53 - samples/sec: 2218.87 - lr: 0.010000 - momentum: 0.000000\n",
            "2024-11-06 09:58:57,874 ----------------------------------------------------------------------------------------------------\n",
            "2024-11-06 09:58:57,876 EPOCH 7 done: loss 0.4524 - lr: 0.010000\n"
          ]
        },
        {
          "output_type": "stream",
          "name": "stderr",
          "text": [
            "100%|██████████| 1/1 [00:03<00:00,  3.50s/it]"
          ]
        },
        {
          "output_type": "stream",
          "name": "stdout",
          "text": [
            "2024-11-06 09:59:01,414 DEV : loss 0.5441924929618835 - f1-score (micro avg)  0.0\n",
            "2024-11-06 09:59:01,429  - 1 epochs without improvement\n",
            "2024-11-06 09:59:01,430 ----------------------------------------------------------------------------------------------------\n"
          ]
        },
        {
          "output_type": "stream",
          "name": "stderr",
          "text": [
            "\n"
          ]
        },
        {
          "output_type": "stream",
          "name": "stdout",
          "text": [
            "2024-11-06 09:59:04,169 epoch 8 - iter 6/67 - loss 0.43771599 - time (sec): 2.73 - samples/sec: 2318.46 - lr: 0.010000 - momentum: 0.000000\n",
            "2024-11-06 09:59:08,007 epoch 8 - iter 12/67 - loss 0.39941966 - time (sec): 6.57 - samples/sec: 2276.04 - lr: 0.010000 - momentum: 0.000000\n",
            "2024-11-06 09:59:10,910 epoch 8 - iter 18/67 - loss 0.40498497 - time (sec): 9.48 - samples/sec: 2251.81 - lr: 0.010000 - momentum: 0.000000\n",
            "2024-11-06 09:59:13,839 epoch 8 - iter 24/67 - loss 0.38367204 - time (sec): 12.40 - samples/sec: 2265.42 - lr: 0.010000 - momentum: 0.000000\n",
            "2024-11-06 09:59:17,043 epoch 8 - iter 30/67 - loss 0.39214521 - time (sec): 15.61 - samples/sec: 2253.28 - lr: 0.010000 - momentum: 0.000000\n",
            "2024-11-06 09:59:19,933 epoch 8 - iter 36/67 - loss 0.41592870 - time (sec): 18.50 - samples/sec: 2262.37 - lr: 0.010000 - momentum: 0.000000\n",
            "2024-11-06 09:59:23,351 epoch 8 - iter 42/67 - loss 0.41639016 - time (sec): 21.92 - samples/sec: 2253.93 - lr: 0.010000 - momentum: 0.000000\n",
            "2024-11-06 09:59:25,828 epoch 8 - iter 48/67 - loss 0.42346213 - time (sec): 24.39 - samples/sec: 2239.71 - lr: 0.010000 - momentum: 0.000000\n",
            "2024-11-06 09:59:29,305 epoch 8 - iter 54/67 - loss 0.42384911 - time (sec): 27.87 - samples/sec: 2219.68 - lr: 0.010000 - momentum: 0.000000\n",
            "2024-11-06 09:59:31,488 epoch 8 - iter 60/67 - loss 0.42804494 - time (sec): 30.05 - samples/sec: 2223.07 - lr: 0.010000 - momentum: 0.000000\n",
            "2024-11-06 09:59:34,658 epoch 8 - iter 66/67 - loss 0.43446627 - time (sec): 33.22 - samples/sec: 2195.05 - lr: 0.010000 - momentum: 0.000000\n",
            "2024-11-06 09:59:34,964 ----------------------------------------------------------------------------------------------------\n",
            "2024-11-06 09:59:34,968 EPOCH 8 done: loss 0.4341 - lr: 0.010000\n"
          ]
        },
        {
          "output_type": "stream",
          "name": "stderr",
          "text": [
            "100%|██████████| 1/1 [00:03<00:00,  3.38s/it]"
          ]
        },
        {
          "output_type": "stream",
          "name": "stdout",
          "text": [
            "2024-11-06 09:59:38,391 DEV : loss 0.5453396439552307 - f1-score (micro avg)  0.0\n",
            "2024-11-06 09:59:38,406  - 2 epochs without improvement\n",
            "2024-11-06 09:59:38,407 ----------------------------------------------------------------------------------------------------\n"
          ]
        },
        {
          "output_type": "stream",
          "name": "stderr",
          "text": [
            "\n"
          ]
        },
        {
          "output_type": "stream",
          "name": "stdout",
          "text": [
            "2024-11-06 09:59:41,069 epoch 9 - iter 6/67 - loss 0.42019997 - time (sec): 2.66 - samples/sec: 2167.30 - lr: 0.010000 - momentum: 0.000000\n",
            "2024-11-06 09:59:44,429 epoch 9 - iter 12/67 - loss 0.40353938 - time (sec): 6.02 - samples/sec: 2331.02 - lr: 0.010000 - momentum: 0.000000\n",
            "2024-11-06 09:59:47,103 epoch 9 - iter 18/67 - loss 0.42184808 - time (sec): 8.69 - samples/sec: 2198.72 - lr: 0.010000 - momentum: 0.000000\n",
            "2024-11-06 09:59:50,366 epoch 9 - iter 24/67 - loss 0.41919254 - time (sec): 11.95 - samples/sec: 2201.74 - lr: 0.010000 - momentum: 0.000000\n",
            "2024-11-06 09:59:53,332 epoch 9 - iter 30/67 - loss 0.42266405 - time (sec): 14.92 - samples/sec: 2140.67 - lr: 0.010000 - momentum: 0.000000\n",
            "2024-11-06 09:59:56,049 epoch 9 - iter 36/67 - loss 0.42354993 - time (sec): 17.64 - samples/sec: 2128.40 - lr: 0.010000 - momentum: 0.000000\n",
            "2024-11-06 09:59:59,821 epoch 9 - iter 42/67 - loss 0.40084631 - time (sec): 21.41 - samples/sec: 2128.41 - lr: 0.010000 - momentum: 0.000000\n",
            "2024-11-06 10:00:02,857 epoch 9 - iter 48/67 - loss 0.40000139 - time (sec): 24.45 - samples/sec: 2157.45 - lr: 0.010000 - momentum: 0.000000\n",
            "2024-11-06 10:00:05,195 epoch 9 - iter 54/67 - loss 0.39950779 - time (sec): 26.78 - samples/sec: 2181.29 - lr: 0.010000 - momentum: 0.000000\n",
            "2024-11-06 10:00:08,210 epoch 9 - iter 60/67 - loss 0.40994948 - time (sec): 29.80 - samples/sec: 2177.79 - lr: 0.010000 - momentum: 0.000000\n",
            "2024-11-06 10:00:11,159 epoch 9 - iter 66/67 - loss 0.41159844 - time (sec): 32.75 - samples/sec: 2207.78 - lr: 0.010000 - momentum: 0.000000\n",
            "2024-11-06 10:00:11,627 ----------------------------------------------------------------------------------------------------\n",
            "2024-11-06 10:00:11,629 EPOCH 9 done: loss 0.4124 - lr: 0.010000\n"
          ]
        },
        {
          "output_type": "stream",
          "name": "stderr",
          "text": [
            "100%|██████████| 1/1 [00:05<00:00,  5.48s/it]"
          ]
        },
        {
          "output_type": "stream",
          "name": "stdout",
          "text": [
            "2024-11-06 10:00:17,164 DEV : loss 0.5372605323791504 - f1-score (micro avg)  0.0\n",
            "2024-11-06 10:00:17,194  - 3 epochs without improvement\n",
            "2024-11-06 10:00:17,198 ----------------------------------------------------------------------------------------------------\n"
          ]
        },
        {
          "output_type": "stream",
          "name": "stderr",
          "text": [
            "\n"
          ]
        },
        {
          "output_type": "stream",
          "name": "stdout",
          "text": [
            "2024-11-06 10:00:19,339 epoch 10 - iter 6/67 - loss 0.46728057 - time (sec): 2.14 - samples/sec: 2481.17 - lr: 0.010000 - momentum: 0.000000\n",
            "2024-11-06 10:00:22,395 epoch 10 - iter 12/67 - loss 0.45213174 - time (sec): 5.19 - samples/sec: 2309.58 - lr: 0.010000 - momentum: 0.000000\n",
            "2024-11-06 10:00:25,894 epoch 10 - iter 18/67 - loss 0.43423860 - time (sec): 8.69 - samples/sec: 2237.01 - lr: 0.010000 - momentum: 0.000000\n",
            "2024-11-06 10:00:29,048 epoch 10 - iter 24/67 - loss 0.42655219 - time (sec): 11.85 - samples/sec: 2217.06 - lr: 0.010000 - momentum: 0.000000\n",
            "2024-11-06 10:00:31,519 epoch 10 - iter 30/67 - loss 0.41433226 - time (sec): 14.32 - samples/sec: 2208.38 - lr: 0.010000 - momentum: 0.000000\n",
            "2024-11-06 10:00:34,388 epoch 10 - iter 36/67 - loss 0.41361749 - time (sec): 17.19 - samples/sec: 2201.57 - lr: 0.010000 - momentum: 0.000000\n",
            "2024-11-06 10:00:36,969 epoch 10 - iter 42/67 - loss 0.40431321 - time (sec): 19.77 - samples/sec: 2218.91 - lr: 0.010000 - momentum: 0.000000\n",
            "2024-11-06 10:00:39,758 epoch 10 - iter 48/67 - loss 0.41138258 - time (sec): 22.56 - samples/sec: 2190.27 - lr: 0.010000 - momentum: 0.000000\n",
            "2024-11-06 10:00:42,714 epoch 10 - iter 54/67 - loss 0.41472800 - time (sec): 25.51 - samples/sec: 2186.83 - lr: 0.010000 - momentum: 0.000000\n",
            "2024-11-06 10:00:46,834 epoch 10 - iter 60/67 - loss 0.39570886 - time (sec): 29.63 - samples/sec: 2209.79 - lr: 0.010000 - momentum: 0.000000\n",
            "2024-11-06 10:00:50,045 epoch 10 - iter 66/67 - loss 0.39466024 - time (sec): 32.84 - samples/sec: 2220.25 - lr: 0.010000 - momentum: 0.000000\n",
            "2024-11-06 10:00:50,495 ----------------------------------------------------------------------------------------------------\n",
            "2024-11-06 10:00:50,496 EPOCH 10 done: loss 0.3945 - lr: 0.010000\n"
          ]
        },
        {
          "output_type": "stream",
          "name": "stderr",
          "text": [
            "100%|██████████| 1/1 [00:03<00:00,  3.38s/it]"
          ]
        },
        {
          "output_type": "stream",
          "name": "stdout",
          "text": [
            "2024-11-06 10:00:53,907 DEV : loss 0.5363765358924866 - f1-score (micro avg)  0.0\n",
            "2024-11-06 10:00:53,921  - 0 epochs without improvement\n",
            "2024-11-06 10:00:53,924 ----------------------------------------------------------------------------------------------------\n"
          ]
        },
        {
          "output_type": "stream",
          "name": "stderr",
          "text": [
            "\n"
          ]
        },
        {
          "output_type": "stream",
          "name": "stdout",
          "text": [
            "2024-11-06 10:00:56,016 epoch 11 - iter 6/67 - loss 0.36660704 - time (sec): 2.09 - samples/sec: 2363.38 - lr: 0.010000 - momentum: 0.000000\n",
            "2024-11-06 10:00:58,893 epoch 11 - iter 12/67 - loss 0.36824480 - time (sec): 4.96 - samples/sec: 2460.89 - lr: 0.010000 - momentum: 0.000000\n",
            "2024-11-06 10:01:02,555 epoch 11 - iter 18/67 - loss 0.36424527 - time (sec): 8.63 - samples/sec: 2405.11 - lr: 0.010000 - momentum: 0.000000\n",
            "2024-11-06 10:01:05,502 epoch 11 - iter 24/67 - loss 0.37131673 - time (sec): 11.57 - samples/sec: 2267.48 - lr: 0.010000 - momentum: 0.000000\n",
            "2024-11-06 10:01:09,993 epoch 11 - iter 30/67 - loss 0.34255879 - time (sec): 16.07 - samples/sec: 2265.95 - lr: 0.010000 - momentum: 0.000000\n",
            "2024-11-06 10:01:13,201 epoch 11 - iter 36/67 - loss 0.35278440 - time (sec): 19.27 - samples/sec: 2247.46 - lr: 0.010000 - momentum: 0.000000\n",
            "2024-11-06 10:01:16,357 epoch 11 - iter 42/67 - loss 0.35757865 - time (sec): 22.43 - samples/sec: 2217.25 - lr: 0.010000 - momentum: 0.000000\n",
            "2024-11-06 10:01:19,167 epoch 11 - iter 48/67 - loss 0.36484260 - time (sec): 25.24 - samples/sec: 2206.75 - lr: 0.010000 - momentum: 0.000000\n",
            "2024-11-06 10:01:21,368 epoch 11 - iter 54/67 - loss 0.37342639 - time (sec): 27.44 - samples/sec: 2204.95 - lr: 0.010000 - momentum: 0.000000\n",
            "2024-11-06 10:01:23,569 epoch 11 - iter 60/67 - loss 0.37322702 - time (sec): 29.64 - samples/sec: 2217.11 - lr: 0.010000 - momentum: 0.000000\n",
            "2024-11-06 10:01:26,575 epoch 11 - iter 66/67 - loss 0.37210896 - time (sec): 32.65 - samples/sec: 2220.15 - lr: 0.010000 - momentum: 0.000000\n",
            "2024-11-06 10:01:27,163 ----------------------------------------------------------------------------------------------------\n",
            "2024-11-06 10:01:27,168 EPOCH 11 done: loss 0.3722 - lr: 0.010000\n"
          ]
        },
        {
          "output_type": "stream",
          "name": "stderr",
          "text": [
            "100%|██████████| 1/1 [00:05<00:00,  5.16s/it]"
          ]
        },
        {
          "output_type": "stream",
          "name": "stdout",
          "text": [
            "2024-11-06 10:01:32,375 DEV : loss 0.5366661548614502 - f1-score (micro avg)  0.0\n",
            "2024-11-06 10:01:32,390  - 1 epochs without improvement\n",
            "2024-11-06 10:01:32,391 ----------------------------------------------------------------------------------------------------\n"
          ]
        },
        {
          "output_type": "stream",
          "name": "stderr",
          "text": [
            "\n"
          ]
        },
        {
          "output_type": "stream",
          "name": "stdout",
          "text": [
            "2024-11-06 10:01:35,636 epoch 12 - iter 6/67 - loss 0.35174184 - time (sec): 3.24 - samples/sec: 1929.09 - lr: 0.010000 - momentum: 0.000000\n",
            "2024-11-06 10:01:38,430 epoch 12 - iter 12/67 - loss 0.37942836 - time (sec): 6.03 - samples/sec: 2053.87 - lr: 0.010000 - momentum: 0.000000\n",
            "2024-11-06 10:01:40,851 epoch 12 - iter 18/67 - loss 0.39174736 - time (sec): 8.46 - samples/sec: 2115.93 - lr: 0.010000 - momentum: 0.000000\n",
            "2024-11-06 10:01:43,466 epoch 12 - iter 24/67 - loss 0.38234093 - time (sec): 11.07 - samples/sec: 2235.96 - lr: 0.010000 - momentum: 0.000000\n",
            "2024-11-06 10:01:46,818 epoch 12 - iter 30/67 - loss 0.37489460 - time (sec): 14.42 - samples/sec: 2219.04 - lr: 0.010000 - momentum: 0.000000\n",
            "2024-11-06 10:01:50,301 epoch 12 - iter 36/67 - loss 0.35738617 - time (sec): 17.91 - samples/sec: 2300.85 - lr: 0.010000 - momentum: 0.000000\n",
            "2024-11-06 10:01:53,807 epoch 12 - iter 42/67 - loss 0.35502562 - time (sec): 21.41 - samples/sec: 2242.92 - lr: 0.010000 - momentum: 0.000000\n",
            "2024-11-06 10:01:56,983 epoch 12 - iter 48/67 - loss 0.36233599 - time (sec): 24.59 - samples/sec: 2234.88 - lr: 0.010000 - momentum: 0.000000\n",
            "2024-11-06 10:02:00,178 epoch 12 - iter 54/67 - loss 0.35960964 - time (sec): 27.78 - samples/sec: 2216.42 - lr: 0.010000 - momentum: 0.000000\n",
            "2024-11-06 10:02:02,636 epoch 12 - iter 60/67 - loss 0.35777355 - time (sec): 30.24 - samples/sec: 2205.10 - lr: 0.010000 - momentum: 0.000000\n",
            "2024-11-06 10:02:05,495 epoch 12 - iter 66/67 - loss 0.35886468 - time (sec): 33.10 - samples/sec: 2202.56 - lr: 0.010000 - momentum: 0.000000\n",
            "2024-11-06 10:02:06,113 ----------------------------------------------------------------------------------------------------\n",
            "2024-11-06 10:02:06,114 EPOCH 12 done: loss 0.3599 - lr: 0.010000\n"
          ]
        },
        {
          "output_type": "stream",
          "name": "stderr",
          "text": [
            "100%|██████████| 1/1 [00:03<00:00,  3.40s/it]"
          ]
        },
        {
          "output_type": "stream",
          "name": "stdout",
          "text": [
            "2024-11-06 10:02:09,556 DEV : loss 0.5276150107383728 - f1-score (micro avg)  0.0\n",
            "2024-11-06 10:02:09,574  - 0 epochs without improvement\n",
            "2024-11-06 10:02:09,576 ----------------------------------------------------------------------------------------------------\n"
          ]
        },
        {
          "output_type": "stream",
          "name": "stderr",
          "text": [
            "\n"
          ]
        },
        {
          "output_type": "stream",
          "name": "stdout",
          "text": [
            "2024-11-06 10:02:12,196 epoch 13 - iter 6/67 - loss 0.38573270 - time (sec): 2.62 - samples/sec: 2224.13 - lr: 0.010000 - momentum: 0.000000\n",
            "2024-11-06 10:02:15,345 epoch 13 - iter 12/67 - loss 0.38983286 - time (sec): 5.76 - samples/sec: 2127.72 - lr: 0.010000 - momentum: 0.000000\n",
            "2024-11-06 10:02:17,933 epoch 13 - iter 18/67 - loss 0.40320176 - time (sec): 8.35 - samples/sec: 2204.78 - lr: 0.010000 - momentum: 0.000000\n",
            "2024-11-06 10:02:21,909 epoch 13 - iter 24/67 - loss 0.35074538 - time (sec): 12.33 - samples/sec: 2220.73 - lr: 0.010000 - momentum: 0.000000\n",
            "2024-11-06 10:02:24,856 epoch 13 - iter 30/67 - loss 0.35086239 - time (sec): 15.27 - samples/sec: 2247.81 - lr: 0.010000 - momentum: 0.000000\n",
            "2024-11-06 10:02:27,745 epoch 13 - iter 36/67 - loss 0.34418209 - time (sec): 18.16 - samples/sec: 2227.51 - lr: 0.010000 - momentum: 0.000000\n",
            "2024-11-06 10:02:30,835 epoch 13 - iter 42/67 - loss 0.34367708 - time (sec): 21.25 - samples/sec: 2213.58 - lr: 0.010000 - momentum: 0.000000\n",
            "2024-11-06 10:02:33,571 epoch 13 - iter 48/67 - loss 0.34086452 - time (sec): 23.99 - samples/sec: 2218.66 - lr: 0.010000 - momentum: 0.000000\n",
            "2024-11-06 10:02:36,495 epoch 13 - iter 54/67 - loss 0.33786203 - time (sec): 26.91 - samples/sec: 2226.90 - lr: 0.010000 - momentum: 0.000000\n",
            "2024-11-06 10:02:39,214 epoch 13 - iter 60/67 - loss 0.34522185 - time (sec): 29.63 - samples/sec: 2191.13 - lr: 0.010000 - momentum: 0.000000\n",
            "2024-11-06 10:02:42,545 epoch 13 - iter 66/67 - loss 0.34492082 - time (sec): 32.96 - samples/sec: 2192.45 - lr: 0.010000 - momentum: 0.000000\n",
            "2024-11-06 10:02:42,929 ----------------------------------------------------------------------------------------------------\n",
            "2024-11-06 10:02:42,931 EPOCH 13 done: loss 0.3470 - lr: 0.010000\n"
          ]
        },
        {
          "output_type": "stream",
          "name": "stderr",
          "text": [
            "100%|██████████| 1/1 [00:03<00:00,  3.86s/it]"
          ]
        },
        {
          "output_type": "stream",
          "name": "stdout",
          "text": [
            "2024-11-06 10:02:46,828 DEV : loss 0.5382773280143738 - f1-score (micro avg)  0.0\n",
            "2024-11-06 10:02:46,843  - 1 epochs without improvement\n",
            "2024-11-06 10:02:46,845 ----------------------------------------------------------------------------------------------------\n"
          ]
        },
        {
          "output_type": "stream",
          "name": "stderr",
          "text": [
            "\n"
          ]
        },
        {
          "output_type": "stream",
          "name": "stdout",
          "text": [
            "2024-11-06 10:02:49,633 epoch 14 - iter 6/67 - loss 0.32719320 - time (sec): 2.79 - samples/sec: 2749.65 - lr: 0.010000 - momentum: 0.000000\n",
            "2024-11-06 10:02:52,823 epoch 14 - iter 12/67 - loss 0.34441939 - time (sec): 5.98 - samples/sec: 2408.16 - lr: 0.010000 - momentum: 0.000000\n",
            "2024-11-06 10:02:55,215 epoch 14 - iter 18/67 - loss 0.35884497 - time (sec): 8.37 - samples/sec: 2251.87 - lr: 0.010000 - momentum: 0.000000\n",
            "2024-11-06 10:02:57,844 epoch 14 - iter 24/67 - loss 0.34127994 - time (sec): 11.00 - samples/sec: 2255.55 - lr: 0.010000 - momentum: 0.000000\n",
            "2024-11-06 10:03:00,182 epoch 14 - iter 30/67 - loss 0.34444166 - time (sec): 13.33 - samples/sec: 2255.31 - lr: 0.010000 - momentum: 0.000000\n",
            "2024-11-06 10:03:03,399 epoch 14 - iter 36/67 - loss 0.34310265 - time (sec): 16.55 - samples/sec: 2244.85 - lr: 0.010000 - momentum: 0.000000\n",
            "2024-11-06 10:03:06,414 epoch 14 - iter 42/67 - loss 0.33321689 - time (sec): 19.57 - samples/sec: 2250.59 - lr: 0.010000 - momentum: 0.000000\n",
            "2024-11-06 10:03:09,699 epoch 14 - iter 48/67 - loss 0.33467564 - time (sec): 22.85 - samples/sec: 2194.40 - lr: 0.010000 - momentum: 0.000000\n",
            "2024-11-06 10:03:12,991 epoch 14 - iter 54/67 - loss 0.33023818 - time (sec): 26.14 - samples/sec: 2205.53 - lr: 0.010000 - momentum: 0.000000\n",
            "2024-11-06 10:03:16,370 epoch 14 - iter 60/67 - loss 0.33199093 - time (sec): 29.52 - samples/sec: 2201.08 - lr: 0.010000 - momentum: 0.000000\n",
            "2024-11-06 10:03:19,715 epoch 14 - iter 66/67 - loss 0.32845607 - time (sec): 32.87 - samples/sec: 2210.53 - lr: 0.010000 - momentum: 0.000000\n",
            "2024-11-06 10:03:20,207 ----------------------------------------------------------------------------------------------------\n",
            "2024-11-06 10:03:20,208 EPOCH 14 done: loss 0.3299 - lr: 0.010000\n"
          ]
        },
        {
          "output_type": "stream",
          "name": "stderr",
          "text": [
            "100%|██████████| 1/1 [00:05<00:00,  5.67s/it]"
          ]
        },
        {
          "output_type": "stream",
          "name": "stdout",
          "text": [
            "2024-11-06 10:03:25,934 DEV : loss 0.5313313603401184 - f1-score (micro avg)  0.0\n",
            "2024-11-06 10:03:25,963  - 2 epochs without improvement\n",
            "2024-11-06 10:03:25,968 ----------------------------------------------------------------------------------------------------\n"
          ]
        },
        {
          "output_type": "stream",
          "name": "stderr",
          "text": [
            "\n"
          ]
        },
        {
          "output_type": "stream",
          "name": "stdout",
          "text": [
            "2024-11-06 10:03:28,587 epoch 15 - iter 6/67 - loss 0.35855055 - time (sec): 2.62 - samples/sec: 2385.05 - lr: 0.010000 - momentum: 0.000000\n",
            "2024-11-06 10:03:31,130 epoch 15 - iter 12/67 - loss 0.35018162 - time (sec): 5.16 - samples/sec: 2381.05 - lr: 0.010000 - momentum: 0.000000\n",
            "2024-11-06 10:03:33,353 epoch 15 - iter 18/67 - loss 0.33706988 - time (sec): 7.38 - samples/sec: 2355.94 - lr: 0.010000 - momentum: 0.000000\n",
            "2024-11-06 10:03:36,356 epoch 15 - iter 24/67 - loss 0.33780285 - time (sec): 10.38 - samples/sec: 2323.70 - lr: 0.010000 - momentum: 0.000000\n",
            "2024-11-06 10:03:39,245 epoch 15 - iter 30/67 - loss 0.32643655 - time (sec): 13.27 - samples/sec: 2311.97 - lr: 0.010000 - momentum: 0.000000\n",
            "2024-11-06 10:03:42,566 epoch 15 - iter 36/67 - loss 0.32431365 - time (sec): 16.59 - samples/sec: 2263.59 - lr: 0.010000 - momentum: 0.000000\n",
            "2024-11-06 10:03:45,269 epoch 15 - iter 42/67 - loss 0.32266969 - time (sec): 19.30 - samples/sec: 2312.21 - lr: 0.010000 - momentum: 0.000000\n",
            "2024-11-06 10:03:49,844 epoch 15 - iter 48/67 - loss 0.30827444 - time (sec): 23.87 - samples/sec: 2273.22 - lr: 0.010000 - momentum: 0.000000\n",
            "2024-11-06 10:03:52,902 epoch 15 - iter 54/67 - loss 0.31102241 - time (sec): 26.93 - samples/sec: 2242.85 - lr: 0.010000 - momentum: 0.000000\n",
            "2024-11-06 10:03:55,821 epoch 15 - iter 60/67 - loss 0.31950081 - time (sec): 29.85 - samples/sec: 2228.98 - lr: 0.010000 - momentum: 0.000000\n",
            "2024-11-06 10:03:58,723 epoch 15 - iter 66/67 - loss 0.31793114 - time (sec): 32.75 - samples/sec: 2217.67 - lr: 0.010000 - momentum: 0.000000\n",
            "2024-11-06 10:03:59,218 ----------------------------------------------------------------------------------------------------\n",
            "2024-11-06 10:03:59,219 EPOCH 15 done: loss 0.3165 - lr: 0.010000\n"
          ]
        },
        {
          "output_type": "stream",
          "name": "stderr",
          "text": [
            "100%|██████████| 1/1 [00:03<00:00,  3.48s/it]"
          ]
        },
        {
          "output_type": "stream",
          "name": "stdout",
          "text": [
            "2024-11-06 10:04:02,740 DEV : loss 0.532965362071991 - f1-score (micro avg)  0.0\n",
            "2024-11-06 10:04:02,755  - 3 epochs without improvement\n",
            "2024-11-06 10:04:02,756 ----------------------------------------------------------------------------------------------------\n"
          ]
        },
        {
          "output_type": "stream",
          "name": "stderr",
          "text": [
            "\n"
          ]
        },
        {
          "output_type": "stream",
          "name": "stdout",
          "text": [
            "2024-11-06 10:04:06,043 epoch 16 - iter 6/67 - loss 0.30406599 - time (sec): 3.28 - samples/sec: 2241.02 - lr: 0.010000 - momentum: 0.000000\n",
            "2024-11-06 10:04:09,109 epoch 16 - iter 12/67 - loss 0.31910816 - time (sec): 6.35 - samples/sec: 2209.17 - lr: 0.010000 - momentum: 0.000000\n",
            "2024-11-06 10:04:11,938 epoch 16 - iter 18/67 - loss 0.33843912 - time (sec): 9.18 - samples/sec: 2237.48 - lr: 0.010000 - momentum: 0.000000\n",
            "2024-11-06 10:04:14,753 epoch 16 - iter 24/67 - loss 0.32895677 - time (sec): 11.99 - samples/sec: 2287.62 - lr: 0.010000 - momentum: 0.000000\n",
            "2024-11-06 10:04:17,530 epoch 16 - iter 30/67 - loss 0.32619594 - time (sec): 14.77 - samples/sec: 2292.14 - lr: 0.010000 - momentum: 0.000000\n",
            "2024-11-06 10:04:20,257 epoch 16 - iter 36/67 - loss 0.32915595 - time (sec): 17.50 - samples/sec: 2277.60 - lr: 0.010000 - momentum: 0.000000\n",
            "2024-11-06 10:04:23,584 epoch 16 - iter 42/67 - loss 0.31501147 - time (sec): 20.82 - samples/sec: 2267.52 - lr: 0.010000 - momentum: 0.000000\n",
            "2024-11-06 10:04:26,373 epoch 16 - iter 48/67 - loss 0.31736543 - time (sec): 23.61 - samples/sec: 2281.66 - lr: 0.010000 - momentum: 0.000000\n",
            "2024-11-06 10:04:29,081 epoch 16 - iter 54/67 - loss 0.30909609 - time (sec): 26.32 - samples/sec: 2289.15 - lr: 0.010000 - momentum: 0.000000\n",
            "2024-11-06 10:04:31,502 epoch 16 - iter 60/67 - loss 0.31056562 - time (sec): 28.74 - samples/sec: 2276.23 - lr: 0.010000 - momentum: 0.000000\n",
            "2024-11-06 10:04:34,904 epoch 16 - iter 66/67 - loss 0.31131871 - time (sec): 32.14 - samples/sec: 2261.03 - lr: 0.010000 - momentum: 0.000000\n",
            "2024-11-06 10:04:35,499 ----------------------------------------------------------------------------------------------------\n",
            "2024-11-06 10:04:35,501 EPOCH 16 done: loss 0.3103 - lr: 0.010000\n"
          ]
        },
        {
          "output_type": "stream",
          "name": "stderr",
          "text": [
            "100%|██████████| 1/1 [00:04<00:00,  4.20s/it]"
          ]
        },
        {
          "output_type": "stream",
          "name": "stdout",
          "text": [
            "2024-11-06 10:04:39,740 DEV : loss 0.5449539422988892 - f1-score (micro avg)  0.0\n",
            "2024-11-06 10:04:39,756  - 4 epochs without improvement (above 'patience')-> annealing learning_rate to [0.005]\n",
            "2024-11-06 10:04:39,757 ----------------------------------------------------------------------------------------------------\n"
          ]
        },
        {
          "output_type": "stream",
          "name": "stderr",
          "text": [
            "\n"
          ]
        },
        {
          "output_type": "stream",
          "name": "stdout",
          "text": [
            "2024-11-06 10:04:42,351 epoch 17 - iter 6/67 - loss 0.35768495 - time (sec): 2.59 - samples/sec: 2154.82 - lr: 0.005000 - momentum: 0.000000\n",
            "2024-11-06 10:04:45,165 epoch 17 - iter 12/67 - loss 0.31884516 - time (sec): 5.40 - samples/sec: 2084.59 - lr: 0.005000 - momentum: 0.000000\n",
            "2024-11-06 10:04:47,993 epoch 17 - iter 18/67 - loss 0.28582641 - time (sec): 8.23 - samples/sec: 2164.40 - lr: 0.005000 - momentum: 0.000000\n",
            "2024-11-06 10:04:51,564 epoch 17 - iter 24/67 - loss 0.28208547 - time (sec): 11.80 - samples/sec: 2183.33 - lr: 0.005000 - momentum: 0.000000\n",
            "2024-11-06 10:04:54,553 epoch 17 - iter 30/67 - loss 0.27812905 - time (sec): 14.79 - samples/sec: 2240.83 - lr: 0.005000 - momentum: 0.000000\n",
            "2024-11-06 10:04:57,632 epoch 17 - iter 36/67 - loss 0.27589909 - time (sec): 17.87 - samples/sec: 2215.57 - lr: 0.005000 - momentum: 0.000000\n",
            "2024-11-06 10:05:00,096 epoch 17 - iter 42/67 - loss 0.28601510 - time (sec): 20.33 - samples/sec: 2219.55 - lr: 0.005000 - momentum: 0.000000\n",
            "2024-11-06 10:05:03,197 epoch 17 - iter 48/67 - loss 0.28663950 - time (sec): 23.44 - samples/sec: 2240.34 - lr: 0.005000 - momentum: 0.000000\n",
            "2024-11-06 10:05:06,241 epoch 17 - iter 54/67 - loss 0.29445174 - time (sec): 26.48 - samples/sec: 2223.80 - lr: 0.005000 - momentum: 0.000000\n",
            "2024-11-06 10:05:09,631 epoch 17 - iter 60/67 - loss 0.28586023 - time (sec): 29.87 - samples/sec: 2255.86 - lr: 0.005000 - momentum: 0.000000\n",
            "2024-11-06 10:05:12,489 epoch 17 - iter 66/67 - loss 0.28633508 - time (sec): 32.73 - samples/sec: 2231.29 - lr: 0.005000 - momentum: 0.000000\n",
            "2024-11-06 10:05:12,798 ----------------------------------------------------------------------------------------------------\n",
            "2024-11-06 10:05:12,799 EPOCH 17 done: loss 0.2878 - lr: 0.005000\n"
          ]
        },
        {
          "output_type": "stream",
          "name": "stderr",
          "text": [
            "100%|██████████| 1/1 [00:04<00:00,  4.30s/it]"
          ]
        },
        {
          "output_type": "stream",
          "name": "stdout",
          "text": [
            "2024-11-06 10:05:17,148 DEV : loss 0.5247790217399597 - f1-score (micro avg)  0.0\n",
            "2024-11-06 10:05:17,172  - 0 epochs without improvement\n",
            "2024-11-06 10:05:17,175 ----------------------------------------------------------------------------------------------------\n"
          ]
        },
        {
          "output_type": "stream",
          "name": "stderr",
          "text": [
            "\n"
          ]
        },
        {
          "output_type": "stream",
          "name": "stdout",
          "text": [
            "2024-11-06 10:05:19,501 epoch 18 - iter 6/67 - loss 0.33756843 - time (sec): 2.32 - samples/sec: 2430.72 - lr: 0.005000 - momentum: 0.000000\n",
            "2024-11-06 10:05:22,068 epoch 18 - iter 12/67 - loss 0.31269284 - time (sec): 4.89 - samples/sec: 2181.32 - lr: 0.005000 - momentum: 0.000000\n",
            "2024-11-06 10:05:25,241 epoch 18 - iter 18/67 - loss 0.29015560 - time (sec): 8.06 - samples/sec: 2284.11 - lr: 0.005000 - momentum: 0.000000\n",
            "2024-11-06 10:05:27,905 epoch 18 - iter 24/67 - loss 0.28870866 - time (sec): 10.72 - samples/sec: 2155.01 - lr: 0.005000 - momentum: 0.000000\n",
            "2024-11-06 10:05:31,010 epoch 18 - iter 30/67 - loss 0.29219505 - time (sec): 13.83 - samples/sec: 2224.80 - lr: 0.005000 - momentum: 0.000000\n",
            "2024-11-06 10:05:33,251 epoch 18 - iter 36/67 - loss 0.28682804 - time (sec): 16.07 - samples/sec: 2189.63 - lr: 0.005000 - momentum: 0.000000\n",
            "2024-11-06 10:05:37,132 epoch 18 - iter 42/67 - loss 0.27073610 - time (sec): 19.95 - samples/sec: 2195.33 - lr: 0.005000 - momentum: 0.000000\n",
            "2024-11-06 10:05:39,970 epoch 18 - iter 48/67 - loss 0.27952589 - time (sec): 22.79 - samples/sec: 2216.25 - lr: 0.005000 - momentum: 0.000000\n",
            "2024-11-06 10:05:42,840 epoch 18 - iter 54/67 - loss 0.28118467 - time (sec): 25.66 - samples/sec: 2222.20 - lr: 0.005000 - momentum: 0.000000\n",
            "2024-11-06 10:05:45,697 epoch 18 - iter 60/67 - loss 0.28757355 - time (sec): 28.52 - samples/sec: 2199.16 - lr: 0.005000 - momentum: 0.000000\n",
            "2024-11-06 10:05:49,776 epoch 18 - iter 66/67 - loss 0.28350144 - time (sec): 32.60 - samples/sec: 2204.68 - lr: 0.005000 - momentum: 0.000000\n",
            "2024-11-06 10:05:50,385 ----------------------------------------------------------------------------------------------------\n",
            "2024-11-06 10:05:50,386 EPOCH 18 done: loss 0.2813 - lr: 0.005000\n"
          ]
        },
        {
          "output_type": "stream",
          "name": "stderr",
          "text": [
            "100%|██████████| 1/1 [00:03<00:00,  3.61s/it]"
          ]
        },
        {
          "output_type": "stream",
          "name": "stdout",
          "text": [
            "2024-11-06 10:05:54,030 DEV : loss 0.5294201970100403 - f1-score (micro avg)  0.0\n",
            "2024-11-06 10:05:54,045  - 1 epochs without improvement\n",
            "2024-11-06 10:05:54,046 ----------------------------------------------------------------------------------------------------\n"
          ]
        },
        {
          "output_type": "stream",
          "name": "stderr",
          "text": [
            "\n"
          ]
        },
        {
          "output_type": "stream",
          "name": "stdout",
          "text": [
            "2024-11-06 10:05:57,208 epoch 19 - iter 6/67 - loss 0.24454341 - time (sec): 3.16 - samples/sec: 2164.04 - lr: 0.005000 - momentum: 0.000000\n",
            "2024-11-06 10:05:59,900 epoch 19 - iter 12/67 - loss 0.26924540 - time (sec): 5.85 - samples/sec: 2168.29 - lr: 0.005000 - momentum: 0.000000\n",
            "2024-11-06 10:06:02,998 epoch 19 - iter 18/67 - loss 0.25310434 - time (sec): 8.95 - samples/sec: 2169.49 - lr: 0.005000 - momentum: 0.000000\n",
            "2024-11-06 10:06:06,372 epoch 19 - iter 24/67 - loss 0.26045703 - time (sec): 12.32 - samples/sec: 2227.00 - lr: 0.005000 - momentum: 0.000000\n",
            "2024-11-06 10:06:10,349 epoch 19 - iter 30/67 - loss 0.25602143 - time (sec): 16.30 - samples/sec: 2245.94 - lr: 0.005000 - momentum: 0.000000\n",
            "2024-11-06 10:06:13,438 epoch 19 - iter 36/67 - loss 0.25931379 - time (sec): 19.39 - samples/sec: 2255.41 - lr: 0.005000 - momentum: 0.000000\n",
            "2024-11-06 10:06:16,257 epoch 19 - iter 42/67 - loss 0.26445840 - time (sec): 22.21 - samples/sec: 2247.70 - lr: 0.005000 - momentum: 0.000000\n",
            "2024-11-06 10:06:18,588 epoch 19 - iter 48/67 - loss 0.26970500 - time (sec): 24.54 - samples/sec: 2236.77 - lr: 0.005000 - momentum: 0.000000\n",
            "2024-11-06 10:06:20,650 epoch 19 - iter 54/67 - loss 0.27726213 - time (sec): 26.60 - samples/sec: 2241.25 - lr: 0.005000 - momentum: 0.000000\n",
            "2024-11-06 10:06:23,646 epoch 19 - iter 60/67 - loss 0.27800612 - time (sec): 29.60 - samples/sec: 2246.76 - lr: 0.005000 - momentum: 0.000000\n",
            "2024-11-06 10:06:26,471 epoch 19 - iter 66/67 - loss 0.27670463 - time (sec): 32.42 - samples/sec: 2231.27 - lr: 0.005000 - momentum: 0.000000\n",
            "2024-11-06 10:06:26,922 ----------------------------------------------------------------------------------------------------\n",
            "2024-11-06 10:06:26,924 EPOCH 19 done: loss 0.2776 - lr: 0.005000\n"
          ]
        },
        {
          "output_type": "stream",
          "name": "stderr",
          "text": [
            "100%|██████████| 1/1 [00:05<00:00,  5.17s/it]"
          ]
        },
        {
          "output_type": "stream",
          "name": "stdout",
          "text": [
            "2024-11-06 10:06:32,131 DEV : loss 0.5321469902992249 - f1-score (micro avg)  0.0\n",
            "2024-11-06 10:06:32,146  - 2 epochs without improvement\n",
            "2024-11-06 10:06:32,147 ----------------------------------------------------------------------------------------------------\n"
          ]
        },
        {
          "output_type": "stream",
          "name": "stderr",
          "text": [
            "\n"
          ]
        },
        {
          "output_type": "stream",
          "name": "stdout",
          "text": [
            "2024-11-06 10:06:35,738 epoch 20 - iter 6/67 - loss 0.26719882 - time (sec): 3.59 - samples/sec: 2219.83 - lr: 0.005000 - momentum: 0.000000\n",
            "2024-11-06 10:06:38,748 epoch 20 - iter 12/67 - loss 0.27856008 - time (sec): 6.60 - samples/sec: 2062.71 - lr: 0.005000 - momentum: 0.000000\n",
            "2024-11-06 10:06:40,988 epoch 20 - iter 18/67 - loss 0.27169464 - time (sec): 8.84 - samples/sec: 2177.03 - lr: 0.005000 - momentum: 0.000000\n",
            "2024-11-06 10:06:44,076 epoch 20 - iter 24/67 - loss 0.27274553 - time (sec): 11.92 - samples/sec: 2121.90 - lr: 0.005000 - momentum: 0.000000\n",
            "2024-11-06 10:06:47,376 epoch 20 - iter 30/67 - loss 0.27003518 - time (sec): 15.22 - samples/sec: 2169.23 - lr: 0.005000 - momentum: 0.000000\n",
            "2024-11-06 10:06:50,473 epoch 20 - iter 36/67 - loss 0.27198449 - time (sec): 18.32 - samples/sec: 2202.27 - lr: 0.005000 - momentum: 0.000000\n",
            "2024-11-06 10:06:53,189 epoch 20 - iter 42/67 - loss 0.27802339 - time (sec): 21.04 - samples/sec: 2233.56 - lr: 0.005000 - momentum: 0.000000\n",
            "2024-11-06 10:06:55,868 epoch 20 - iter 48/67 - loss 0.27561578 - time (sec): 23.72 - samples/sec: 2220.54 - lr: 0.005000 - momentum: 0.000000\n",
            "2024-11-06 10:06:58,908 epoch 20 - iter 54/67 - loss 0.26872334 - time (sec): 26.76 - samples/sec: 2218.25 - lr: 0.005000 - momentum: 0.000000\n",
            "2024-11-06 10:07:01,865 epoch 20 - iter 60/67 - loss 0.26994867 - time (sec): 29.71 - samples/sec: 2178.69 - lr: 0.005000 - momentum: 0.000000\n",
            "2024-11-06 10:07:05,063 epoch 20 - iter 66/67 - loss 0.26531018 - time (sec): 32.91 - samples/sec: 2209.64 - lr: 0.005000 - momentum: 0.000000\n",
            "2024-11-06 10:07:05,465 ----------------------------------------------------------------------------------------------------\n",
            "2024-11-06 10:07:05,466 EPOCH 20 done: loss 0.2664 - lr: 0.005000\n"
          ]
        },
        {
          "output_type": "stream",
          "name": "stderr",
          "text": [
            "100%|██████████| 1/1 [00:03<00:00,  3.51s/it]"
          ]
        },
        {
          "output_type": "stream",
          "name": "stdout",
          "text": [
            "2024-11-06 10:07:09,015 DEV : loss 0.5364053845405579 - f1-score (micro avg)  0.0\n",
            "2024-11-06 10:07:09,031  - 3 epochs without improvement\n",
            "2024-11-06 10:07:09,033 ----------------------------------------------------------------------------------------------------\n"
          ]
        },
        {
          "output_type": "stream",
          "name": "stderr",
          "text": [
            "\n"
          ]
        },
        {
          "output_type": "stream",
          "name": "stdout",
          "text": [
            "2024-11-06 10:07:12,369 epoch 21 - iter 6/67 - loss 0.21676246 - time (sec): 3.33 - samples/sec: 2271.21 - lr: 0.005000 - momentum: 0.000000\n",
            "2024-11-06 10:07:15,504 epoch 21 - iter 12/67 - loss 0.23780672 - time (sec): 6.47 - samples/sec: 2140.71 - lr: 0.005000 - momentum: 0.000000\n",
            "2024-11-06 10:07:18,225 epoch 21 - iter 18/67 - loss 0.24410078 - time (sec): 9.19 - samples/sec: 2219.48 - lr: 0.005000 - momentum: 0.000000\n",
            "2024-11-06 10:07:21,081 epoch 21 - iter 24/67 - loss 0.25055214 - time (sec): 12.04 - samples/sec: 2225.54 - lr: 0.005000 - momentum: 0.000000\n",
            "2024-11-06 10:07:24,179 epoch 21 - iter 30/67 - loss 0.25519226 - time (sec): 15.14 - samples/sec: 2260.28 - lr: 0.005000 - momentum: 0.000000\n",
            "2024-11-06 10:07:26,971 epoch 21 - iter 36/67 - loss 0.25672760 - time (sec): 17.93 - samples/sec: 2242.20 - lr: 0.005000 - momentum: 0.000000\n",
            "2024-11-06 10:07:30,280 epoch 21 - iter 42/67 - loss 0.25644844 - time (sec): 21.24 - samples/sec: 2170.49 - lr: 0.005000 - momentum: 0.000000\n",
            "2024-11-06 10:07:33,032 epoch 21 - iter 48/67 - loss 0.25219647 - time (sec): 24.00 - samples/sec: 2169.40 - lr: 0.005000 - momentum: 0.000000\n",
            "2024-11-06 10:07:35,917 epoch 21 - iter 54/67 - loss 0.25023198 - time (sec): 26.88 - samples/sec: 2154.57 - lr: 0.005000 - momentum: 0.000000\n",
            "2024-11-06 10:07:38,839 epoch 21 - iter 60/67 - loss 0.25358451 - time (sec): 29.80 - samples/sec: 2162.99 - lr: 0.005000 - momentum: 0.000000\n",
            "2024-11-06 10:07:42,115 epoch 21 - iter 66/67 - loss 0.25655973 - time (sec): 33.08 - samples/sec: 2199.48 - lr: 0.005000 - momentum: 0.000000\n",
            "2024-11-06 10:07:42,573 ----------------------------------------------------------------------------------------------------\n",
            "2024-11-06 10:07:42,579 EPOCH 21 done: loss 0.2586 - lr: 0.005000\n"
          ]
        },
        {
          "output_type": "stream",
          "name": "stderr",
          "text": [
            "100%|██████████| 1/1 [00:03<00:00,  3.62s/it]"
          ]
        },
        {
          "output_type": "stream",
          "name": "stdout",
          "text": [
            "2024-11-06 10:07:46,236 DEV : loss 0.529495358467102 - f1-score (micro avg)  0.0\n",
            "2024-11-06 10:07:46,252  - 4 epochs without improvement (above 'patience')-> annealing learning_rate to [0.0025]\n",
            "2024-11-06 10:07:46,254 ----------------------------------------------------------------------------------------------------\n"
          ]
        },
        {
          "output_type": "stream",
          "name": "stderr",
          "text": [
            "\n"
          ]
        },
        {
          "output_type": "stream",
          "name": "stdout",
          "text": [
            "2024-11-06 10:07:48,904 epoch 22 - iter 6/67 - loss 0.23535870 - time (sec): 2.64 - samples/sec: 2287.09 - lr: 0.002500 - momentum: 0.000000\n",
            "2024-11-06 10:07:52,413 epoch 22 - iter 12/67 - loss 0.21758957 - time (sec): 6.15 - samples/sec: 2302.74 - lr: 0.002500 - momentum: 0.000000\n",
            "2024-11-06 10:07:55,334 epoch 22 - iter 18/67 - loss 0.23736252 - time (sec): 9.07 - samples/sec: 2229.50 - lr: 0.002500 - momentum: 0.000000\n",
            "2024-11-06 10:07:57,697 epoch 22 - iter 24/67 - loss 0.24954205 - time (sec): 11.44 - samples/sec: 2254.83 - lr: 0.002500 - momentum: 0.000000\n",
            "2024-11-06 10:08:01,280 epoch 22 - iter 30/67 - loss 0.25248282 - time (sec): 15.02 - samples/sec: 2235.93 - lr: 0.002500 - momentum: 0.000000\n",
            "2024-11-06 10:08:04,074 epoch 22 - iter 36/67 - loss 0.24914750 - time (sec): 17.81 - samples/sec: 2237.17 - lr: 0.002500 - momentum: 0.000000\n",
            "2024-11-06 10:08:06,057 epoch 22 - iter 42/67 - loss 0.24864994 - time (sec): 19.80 - samples/sec: 2236.40 - lr: 0.002500 - momentum: 0.000000\n",
            "2024-11-06 10:08:09,371 epoch 22 - iter 48/67 - loss 0.24722781 - time (sec): 23.11 - samples/sec: 2228.66 - lr: 0.002500 - momentum: 0.000000\n",
            "2024-11-06 10:08:11,811 epoch 22 - iter 54/67 - loss 0.25217503 - time (sec): 25.55 - samples/sec: 2258.88 - lr: 0.002500 - momentum: 0.000000\n",
            "2024-11-06 10:08:14,708 epoch 22 - iter 60/67 - loss 0.25674738 - time (sec): 28.45 - samples/sec: 2262.16 - lr: 0.002500 - momentum: 0.000000\n",
            "2024-11-06 10:08:18,191 epoch 22 - iter 66/67 - loss 0.25121560 - time (sec): 31.93 - samples/sec: 2273.00 - lr: 0.002500 - momentum: 0.000000\n",
            "2024-11-06 10:08:18,774 ----------------------------------------------------------------------------------------------------\n",
            "2024-11-06 10:08:18,775 EPOCH 22 done: loss 0.2511 - lr: 0.002500\n"
          ]
        },
        {
          "output_type": "stream",
          "name": "stderr",
          "text": [
            "100%|██████████| 1/1 [00:03<00:00,  3.74s/it]"
          ]
        },
        {
          "output_type": "stream",
          "name": "stdout",
          "text": [
            "2024-11-06 10:08:22,567 DEV : loss 0.5293766260147095 - f1-score (micro avg)  0.0\n",
            "2024-11-06 10:08:22,594  - 1 epochs without improvement\n",
            "2024-11-06 10:08:22,598 ----------------------------------------------------------------------------------------------------\n"
          ]
        },
        {
          "output_type": "stream",
          "name": "stderr",
          "text": [
            "\n"
          ]
        },
        {
          "output_type": "stream",
          "name": "stdout",
          "text": [
            "2024-11-06 10:08:25,718 epoch 23 - iter 6/67 - loss 0.24361222 - time (sec): 3.12 - samples/sec: 2110.33 - lr: 0.002500 - momentum: 0.000000\n",
            "2024-11-06 10:08:27,981 epoch 23 - iter 12/67 - loss 0.26140442 - time (sec): 5.38 - samples/sec: 2098.96 - lr: 0.002500 - momentum: 0.000000\n",
            "2024-11-06 10:08:30,963 epoch 23 - iter 18/67 - loss 0.23995259 - time (sec): 8.36 - samples/sec: 2223.22 - lr: 0.002500 - momentum: 0.000000\n",
            "2024-11-06 10:08:34,101 epoch 23 - iter 24/67 - loss 0.24508360 - time (sec): 11.50 - samples/sec: 2286.13 - lr: 0.002500 - momentum: 0.000000\n",
            "2024-11-06 10:08:36,962 epoch 23 - iter 30/67 - loss 0.24272221 - time (sec): 14.36 - samples/sec: 2210.68 - lr: 0.002500 - momentum: 0.000000\n",
            "2024-11-06 10:08:39,238 epoch 23 - iter 36/67 - loss 0.24781671 - time (sec): 16.64 - samples/sec: 2255.30 - lr: 0.002500 - momentum: 0.000000\n",
            "2024-11-06 10:08:42,517 epoch 23 - iter 42/67 - loss 0.25653636 - time (sec): 19.91 - samples/sec: 2226.40 - lr: 0.002500 - momentum: 0.000000\n",
            "2024-11-06 10:08:45,289 epoch 23 - iter 48/67 - loss 0.26031563 - time (sec): 22.69 - samples/sec: 2265.75 - lr: 0.002500 - momentum: 0.000000\n",
            "2024-11-06 10:08:48,114 epoch 23 - iter 54/67 - loss 0.25717088 - time (sec): 25.51 - samples/sec: 2278.56 - lr: 0.002500 - momentum: 0.000000\n",
            "2024-11-06 10:08:51,648 epoch 23 - iter 60/67 - loss 0.25180436 - time (sec): 29.05 - samples/sec: 2230.99 - lr: 0.002500 - momentum: 0.000000\n",
            "2024-11-06 10:08:54,644 epoch 23 - iter 66/67 - loss 0.24879530 - time (sec): 32.04 - samples/sec: 2269.16 - lr: 0.002500 - momentum: 0.000000\n",
            "2024-11-06 10:08:55,338 ----------------------------------------------------------------------------------------------------\n",
            "2024-11-06 10:08:55,340 EPOCH 23 done: loss 0.2479 - lr: 0.002500\n"
          ]
        },
        {
          "output_type": "stream",
          "name": "stderr",
          "text": [
            "100%|██████████| 1/1 [00:03<00:00,  3.99s/it]"
          ]
        },
        {
          "output_type": "stream",
          "name": "stdout",
          "text": [
            "2024-11-06 10:08:59,371 DEV : loss 0.5337845683097839 - f1-score (micro avg)  0.0\n",
            "2024-11-06 10:08:59,387  - 2 epochs without improvement\n",
            "2024-11-06 10:08:59,389 ----------------------------------------------------------------------------------------------------\n"
          ]
        },
        {
          "output_type": "stream",
          "name": "stderr",
          "text": [
            "\n"
          ]
        },
        {
          "output_type": "stream",
          "name": "stdout",
          "text": [
            "2024-11-06 10:09:01,729 epoch 24 - iter 6/67 - loss 0.22095089 - time (sec): 2.34 - samples/sec: 2252.20 - lr: 0.002500 - momentum: 0.000000\n",
            "2024-11-06 10:09:03,656 epoch 24 - iter 12/67 - loss 0.23870824 - time (sec): 4.26 - samples/sec: 2535.24 - lr: 0.002500 - momentum: 0.000000\n",
            "2024-11-06 10:09:06,416 epoch 24 - iter 18/67 - loss 0.24573721 - time (sec): 7.02 - samples/sec: 2266.29 - lr: 0.002500 - momentum: 0.000000\n",
            "2024-11-06 10:09:09,837 epoch 24 - iter 24/67 - loss 0.23105487 - time (sec): 10.44 - samples/sec: 2301.19 - lr: 0.002500 - momentum: 0.000000\n",
            "2024-11-06 10:09:12,460 epoch 24 - iter 30/67 - loss 0.23614505 - time (sec): 13.07 - samples/sec: 2277.53 - lr: 0.002500 - momentum: 0.000000\n",
            "2024-11-06 10:09:15,041 epoch 24 - iter 36/67 - loss 0.24612766 - time (sec): 15.65 - samples/sec: 2253.50 - lr: 0.002500 - momentum: 0.000000\n",
            "2024-11-06 10:09:18,577 epoch 24 - iter 42/67 - loss 0.24474847 - time (sec): 19.18 - samples/sec: 2263.16 - lr: 0.002500 - momentum: 0.000000\n",
            "2024-11-06 10:09:22,194 epoch 24 - iter 48/67 - loss 0.24297540 - time (sec): 22.80 - samples/sec: 2218.89 - lr: 0.002500 - momentum: 0.000000\n",
            "2024-11-06 10:09:24,835 epoch 24 - iter 54/67 - loss 0.25162380 - time (sec): 25.44 - samples/sec: 2226.03 - lr: 0.002500 - momentum: 0.000000\n",
            "2024-11-06 10:09:28,771 epoch 24 - iter 60/67 - loss 0.24689059 - time (sec): 29.38 - samples/sec: 2212.58 - lr: 0.002500 - momentum: 0.000000\n",
            "2024-11-06 10:09:31,957 epoch 24 - iter 66/67 - loss 0.24578341 - time (sec): 32.56 - samples/sec: 2244.70 - lr: 0.002500 - momentum: 0.000000\n",
            "2024-11-06 10:09:32,336 ----------------------------------------------------------------------------------------------------\n",
            "2024-11-06 10:09:32,337 EPOCH 24 done: loss 0.2448 - lr: 0.002500\n"
          ]
        },
        {
          "output_type": "stream",
          "name": "stderr",
          "text": [
            "100%|██████████| 1/1 [00:05<00:00,  5.34s/it]"
          ]
        },
        {
          "output_type": "stream",
          "name": "stdout",
          "text": [
            "2024-11-06 10:09:37,717 DEV : loss 0.533233106136322 - f1-score (micro avg)  0.0\n",
            "2024-11-06 10:09:37,737  - 3 epochs without improvement\n",
            "2024-11-06 10:09:37,739 ----------------------------------------------------------------------------------------------------\n"
          ]
        },
        {
          "output_type": "stream",
          "name": "stderr",
          "text": [
            "\n"
          ]
        },
        {
          "output_type": "stream",
          "name": "stdout",
          "text": [
            "2024-11-06 10:09:40,665 epoch 25 - iter 6/67 - loss 0.25405355 - time (sec): 2.92 - samples/sec: 2320.83 - lr: 0.002500 - momentum: 0.000000\n",
            "2024-11-06 10:09:43,175 epoch 25 - iter 12/67 - loss 0.25910150 - time (sec): 5.43 - samples/sec: 2431.46 - lr: 0.002500 - momentum: 0.000000\n",
            "2024-11-06 10:09:46,001 epoch 25 - iter 18/67 - loss 0.25748066 - time (sec): 8.26 - samples/sec: 2231.74 - lr: 0.002500 - momentum: 0.000000\n",
            "2024-11-06 10:09:49,092 epoch 25 - iter 24/67 - loss 0.23839182 - time (sec): 11.35 - samples/sec: 2239.59 - lr: 0.002500 - momentum: 0.000000\n",
            "2024-11-06 10:09:52,449 epoch 25 - iter 30/67 - loss 0.24442505 - time (sec): 14.71 - samples/sec: 2233.30 - lr: 0.002500 - momentum: 0.000000\n",
            "2024-11-06 10:09:55,763 epoch 25 - iter 36/67 - loss 0.23599635 - time (sec): 18.02 - samples/sec: 2254.47 - lr: 0.002500 - momentum: 0.000000\n",
            "2024-11-06 10:09:58,122 epoch 25 - iter 42/67 - loss 0.23927136 - time (sec): 20.38 - samples/sec: 2268.86 - lr: 0.002500 - momentum: 0.000000\n",
            "2024-11-06 10:10:00,657 epoch 25 - iter 48/67 - loss 0.24151623 - time (sec): 22.91 - samples/sec: 2254.72 - lr: 0.002500 - momentum: 0.000000\n",
            "2024-11-06 10:10:03,619 epoch 25 - iter 54/67 - loss 0.24341900 - time (sec): 25.88 - samples/sec: 2259.96 - lr: 0.002500 - momentum: 0.000000\n",
            "2024-11-06 10:10:06,677 epoch 25 - iter 60/67 - loss 0.24114164 - time (sec): 28.93 - samples/sec: 2250.67 - lr: 0.002500 - momentum: 0.000000\n",
            "2024-11-06 10:10:09,416 epoch 25 - iter 66/67 - loss 0.24140903 - time (sec): 31.67 - samples/sec: 2306.73 - lr: 0.002500 - momentum: 0.000000\n",
            "2024-11-06 10:10:09,852 ----------------------------------------------------------------------------------------------------\n",
            "2024-11-06 10:10:09,853 EPOCH 25 done: loss 0.2411 - lr: 0.002500\n"
          ]
        },
        {
          "output_type": "stream",
          "name": "stderr",
          "text": [
            "100%|██████████| 1/1 [00:03<00:00,  3.29s/it]"
          ]
        },
        {
          "output_type": "stream",
          "name": "stdout",
          "text": [
            "2024-11-06 10:10:13,182 DEV : loss 0.531201958656311 - f1-score (micro avg)  0.0\n",
            "2024-11-06 10:10:13,199  - 4 epochs without improvement (above 'patience')-> annealing learning_rate to [0.00125]\n",
            "2024-11-06 10:10:13,200 ----------------------------------------------------------------------------------------------------\n"
          ]
        },
        {
          "output_type": "stream",
          "name": "stderr",
          "text": [
            "\n"
          ]
        },
        {
          "output_type": "stream",
          "name": "stdout",
          "text": [
            "2024-11-06 10:10:17,415 epoch 26 - iter 6/67 - loss 0.24836142 - time (sec): 4.21 - samples/sec: 1885.81 - lr: 0.001250 - momentum: 0.000000\n",
            "2024-11-06 10:10:20,235 epoch 26 - iter 12/67 - loss 0.24841034 - time (sec): 7.03 - samples/sec: 1958.92 - lr: 0.001250 - momentum: 0.000000\n",
            "2024-11-06 10:10:23,254 epoch 26 - iter 18/67 - loss 0.26117452 - time (sec): 10.05 - samples/sec: 2037.76 - lr: 0.001250 - momentum: 0.000000\n",
            "2024-11-06 10:10:25,875 epoch 26 - iter 24/67 - loss 0.24635652 - time (sec): 12.67 - samples/sec: 2103.11 - lr: 0.001250 - momentum: 0.000000\n",
            "2024-11-06 10:10:28,547 epoch 26 - iter 30/67 - loss 0.23832629 - time (sec): 15.34 - samples/sec: 2127.44 - lr: 0.001250 - momentum: 0.000000\n",
            "2024-11-06 10:10:32,327 epoch 26 - iter 36/67 - loss 0.22617277 - time (sec): 19.12 - samples/sec: 2123.72 - lr: 0.001250 - momentum: 0.000000\n",
            "2024-11-06 10:10:35,210 epoch 26 - iter 42/67 - loss 0.23155717 - time (sec): 22.01 - samples/sec: 2129.13 - lr: 0.001250 - momentum: 0.000000\n",
            "2024-11-06 10:10:38,014 epoch 26 - iter 48/67 - loss 0.23554088 - time (sec): 24.81 - samples/sec: 2137.06 - lr: 0.001250 - momentum: 0.000000\n",
            "2024-11-06 10:10:40,995 epoch 26 - iter 54/67 - loss 0.22948077 - time (sec): 27.79 - samples/sec: 2180.11 - lr: 0.001250 - momentum: 0.000000\n",
            "2024-11-06 10:10:44,465 epoch 26 - iter 60/67 - loss 0.23201934 - time (sec): 31.26 - samples/sec: 2152.00 - lr: 0.001250 - momentum: 0.000000\n",
            "2024-11-06 10:10:46,788 epoch 26 - iter 66/67 - loss 0.23374798 - time (sec): 33.58 - samples/sec: 2156.10 - lr: 0.001250 - momentum: 0.000000\n",
            "2024-11-06 10:10:47,207 ----------------------------------------------------------------------------------------------------\n",
            "2024-11-06 10:10:47,212 EPOCH 26 done: loss 0.2345 - lr: 0.001250\n"
          ]
        },
        {
          "output_type": "stream",
          "name": "stderr",
          "text": [
            "100%|██████████| 1/1 [00:03<00:00,  3.48s/it]"
          ]
        },
        {
          "output_type": "stream",
          "name": "stdout",
          "text": [
            "2024-11-06 10:10:50,739 DEV : loss 0.5291683673858643 - f1-score (micro avg)  0.0\n",
            "2024-11-06 10:10:50,754  - 1 epochs without improvement\n",
            "2024-11-06 10:10:50,755 ----------------------------------------------------------------------------------------------------\n"
          ]
        },
        {
          "output_type": "stream",
          "name": "stderr",
          "text": [
            "\n"
          ]
        },
        {
          "output_type": "stream",
          "name": "stdout",
          "text": [
            "2024-11-06 10:10:52,971 epoch 27 - iter 6/67 - loss 0.22481447 - time (sec): 2.21 - samples/sec: 2821.35 - lr: 0.001250 - momentum: 0.000000\n",
            "2024-11-06 10:10:55,705 epoch 27 - iter 12/67 - loss 0.21491620 - time (sec): 4.94 - samples/sec: 2319.92 - lr: 0.001250 - momentum: 0.000000\n",
            "2024-11-06 10:10:58,572 epoch 27 - iter 18/67 - loss 0.22038750 - time (sec): 7.81 - samples/sec: 2203.43 - lr: 0.001250 - momentum: 0.000000\n",
            "2024-11-06 10:11:01,828 epoch 27 - iter 24/67 - loss 0.22370391 - time (sec): 11.07 - samples/sec: 2229.42 - lr: 0.001250 - momentum: 0.000000\n",
            "2024-11-06 10:11:05,254 epoch 27 - iter 30/67 - loss 0.22428417 - time (sec): 14.49 - samples/sec: 2239.66 - lr: 0.001250 - momentum: 0.000000\n",
            "2024-11-06 10:11:08,666 epoch 27 - iter 36/67 - loss 0.22062822 - time (sec): 17.90 - samples/sec: 2216.56 - lr: 0.001250 - momentum: 0.000000\n",
            "2024-11-06 10:11:11,837 epoch 27 - iter 42/67 - loss 0.22376622 - time (sec): 21.08 - samples/sec: 2239.49 - lr: 0.001250 - momentum: 0.000000\n",
            "2024-11-06 10:11:14,913 epoch 27 - iter 48/67 - loss 0.22756374 - time (sec): 24.15 - samples/sec: 2218.09 - lr: 0.001250 - momentum: 0.000000\n",
            "2024-11-06 10:11:17,577 epoch 27 - iter 54/67 - loss 0.22771312 - time (sec): 26.82 - samples/sec: 2216.08 - lr: 0.001250 - momentum: 0.000000\n",
            "2024-11-06 10:11:20,503 epoch 27 - iter 60/67 - loss 0.23274204 - time (sec): 29.74 - samples/sec: 2219.87 - lr: 0.001250 - momentum: 0.000000\n",
            "2024-11-06 10:11:23,116 epoch 27 - iter 66/67 - loss 0.23323546 - time (sec): 32.36 - samples/sec: 2253.45 - lr: 0.001250 - momentum: 0.000000\n",
            "2024-11-06 10:11:23,516 ----------------------------------------------------------------------------------------------------\n",
            "2024-11-06 10:11:23,517 EPOCH 27 done: loss 0.2346 - lr: 0.001250\n"
          ]
        },
        {
          "output_type": "stream",
          "name": "stderr",
          "text": [
            "100%|██████████| 1/1 [00:04<00:00,  4.75s/it]"
          ]
        },
        {
          "output_type": "stream",
          "name": "stdout",
          "text": [
            "2024-11-06 10:11:28,318 DEV : loss 0.5289976596832275 - f1-score (micro avg)  0.0\n",
            "2024-11-06 10:11:28,341  - 2 epochs without improvement\n",
            "2024-11-06 10:11:28,343 ----------------------------------------------------------------------------------------------------\n"
          ]
        },
        {
          "output_type": "stream",
          "name": "stderr",
          "text": [
            "\n"
          ]
        },
        {
          "output_type": "stream",
          "name": "stdout",
          "text": [
            "2024-11-06 10:11:31,652 epoch 28 - iter 6/67 - loss 0.21888077 - time (sec): 3.30 - samples/sec: 2283.84 - lr: 0.001250 - momentum: 0.000000\n",
            "2024-11-06 10:11:34,317 epoch 28 - iter 12/67 - loss 0.23192655 - time (sec): 5.97 - samples/sec: 2108.55 - lr: 0.001250 - momentum: 0.000000\n",
            "2024-11-06 10:11:37,486 epoch 28 - iter 18/67 - loss 0.22606170 - time (sec): 9.14 - samples/sec: 2243.30 - lr: 0.001250 - momentum: 0.000000\n",
            "2024-11-06 10:11:39,841 epoch 28 - iter 24/67 - loss 0.22060463 - time (sec): 11.49 - samples/sec: 2296.91 - lr: 0.001250 - momentum: 0.000000\n",
            "2024-11-06 10:11:42,255 epoch 28 - iter 30/67 - loss 0.23420859 - time (sec): 13.91 - samples/sec: 2267.95 - lr: 0.001250 - momentum: 0.000000\n",
            "2024-11-06 10:11:44,857 epoch 28 - iter 36/67 - loss 0.22991306 - time (sec): 16.51 - samples/sec: 2263.83 - lr: 0.001250 - momentum: 0.000000\n",
            "2024-11-06 10:11:47,959 epoch 28 - iter 42/67 - loss 0.23662056 - time (sec): 19.61 - samples/sec: 2267.76 - lr: 0.001250 - momentum: 0.000000\n",
            "2024-11-06 10:11:52,360 epoch 28 - iter 48/67 - loss 0.22693883 - time (sec): 24.01 - samples/sec: 2204.39 - lr: 0.001250 - momentum: 0.000000\n",
            "2024-11-06 10:11:55,177 epoch 28 - iter 54/67 - loss 0.22851602 - time (sec): 26.83 - samples/sec: 2196.82 - lr: 0.001250 - momentum: 0.000000\n",
            "2024-11-06 10:11:58,315 epoch 28 - iter 60/67 - loss 0.22820813 - time (sec): 29.97 - samples/sec: 2219.69 - lr: 0.001250 - momentum: 0.000000\n",
            "2024-11-06 10:12:01,069 epoch 28 - iter 66/67 - loss 0.23182257 - time (sec): 32.72 - samples/sec: 2233.68 - lr: 0.001250 - momentum: 0.000000\n",
            "2024-11-06 10:12:01,494 ----------------------------------------------------------------------------------------------------\n",
            "2024-11-06 10:12:01,498 EPOCH 28 done: loss 0.2333 - lr: 0.001250\n"
          ]
        },
        {
          "output_type": "stream",
          "name": "stderr",
          "text": [
            "100%|██████████| 1/1 [00:04<00:00,  4.55s/it]"
          ]
        },
        {
          "output_type": "stream",
          "name": "stdout",
          "text": [
            "2024-11-06 10:12:06,085 DEV : loss 0.5297093391418457 - f1-score (micro avg)  0.0\n",
            "2024-11-06 10:12:06,101  - 3 epochs without improvement\n",
            "2024-11-06 10:12:06,103 ----------------------------------------------------------------------------------------------------\n"
          ]
        },
        {
          "output_type": "stream",
          "name": "stderr",
          "text": [
            "\n"
          ]
        },
        {
          "output_type": "stream",
          "name": "stdout",
          "text": [
            "2024-11-06 10:12:09,308 epoch 29 - iter 6/67 - loss 0.20809080 - time (sec): 3.20 - samples/sec: 2191.70 - lr: 0.001250 - momentum: 0.000000\n",
            "2024-11-06 10:12:12,408 epoch 29 - iter 12/67 - loss 0.19612750 - time (sec): 6.30 - samples/sec: 2198.06 - lr: 0.001250 - momentum: 0.000000\n",
            "2024-11-06 10:12:15,254 epoch 29 - iter 18/67 - loss 0.21330106 - time (sec): 9.15 - samples/sec: 2194.43 - lr: 0.001250 - momentum: 0.000000\n",
            "2024-11-06 10:12:18,250 epoch 29 - iter 24/67 - loss 0.20975799 - time (sec): 12.14 - samples/sec: 2399.38 - lr: 0.001250 - momentum: 0.000000\n",
            "2024-11-06 10:12:22,096 epoch 29 - iter 30/67 - loss 0.21095061 - time (sec): 15.99 - samples/sec: 2260.39 - lr: 0.001250 - momentum: 0.000000\n",
            "2024-11-06 10:12:25,112 epoch 29 - iter 36/67 - loss 0.21477919 - time (sec): 19.01 - samples/sec: 2268.49 - lr: 0.001250 - momentum: 0.000000\n",
            "2024-11-06 10:12:27,983 epoch 29 - iter 42/67 - loss 0.22141772 - time (sec): 21.88 - samples/sec: 2226.27 - lr: 0.001250 - momentum: 0.000000\n",
            "2024-11-06 10:12:30,743 epoch 29 - iter 48/67 - loss 0.22787601 - time (sec): 24.64 - samples/sec: 2188.51 - lr: 0.001250 - momentum: 0.000000\n",
            "2024-11-06 10:12:33,766 epoch 29 - iter 54/67 - loss 0.23030777 - time (sec): 27.66 - samples/sec: 2194.20 - lr: 0.001250 - momentum: 0.000000\n",
            "2024-11-06 10:12:36,225 epoch 29 - iter 60/67 - loss 0.23244816 - time (sec): 30.12 - samples/sec: 2183.25 - lr: 0.001250 - momentum: 0.000000\n",
            "2024-11-06 10:12:39,518 epoch 29 - iter 66/67 - loss 0.23049747 - time (sec): 33.41 - samples/sec: 2186.83 - lr: 0.001250 - momentum: 0.000000\n",
            "2024-11-06 10:12:39,781 ----------------------------------------------------------------------------------------------------\n",
            "2024-11-06 10:12:39,788 EPOCH 29 done: loss 0.2316 - lr: 0.001250\n"
          ]
        },
        {
          "output_type": "stream",
          "name": "stderr",
          "text": [
            "100%|██████████| 1/1 [00:03<00:00,  3.47s/it]"
          ]
        },
        {
          "output_type": "stream",
          "name": "stdout",
          "text": [
            "2024-11-06 10:12:43,303 DEV : loss 0.5305877923965454 - f1-score (micro avg)  0.0\n",
            "2024-11-06 10:12:43,319  - 4 epochs without improvement (above 'patience')-> annealing learning_rate to [0.000625]\n",
            "2024-11-06 10:12:43,320 ----------------------------------------------------------------------------------------------------\n"
          ]
        },
        {
          "output_type": "stream",
          "name": "stderr",
          "text": [
            "\n"
          ]
        },
        {
          "output_type": "stream",
          "name": "stdout",
          "text": [
            "2024-11-06 10:12:45,661 epoch 30 - iter 6/67 - loss 0.27894369 - time (sec): 2.33 - samples/sec: 2520.42 - lr: 0.000625 - momentum: 0.000000\n",
            "2024-11-06 10:12:48,850 epoch 30 - iter 12/67 - loss 0.24436809 - time (sec): 5.52 - samples/sec: 2408.45 - lr: 0.000625 - momentum: 0.000000\n",
            "2024-11-06 10:12:51,576 epoch 30 - iter 18/67 - loss 0.24455421 - time (sec): 8.25 - samples/sec: 2276.10 - lr: 0.000625 - momentum: 0.000000\n",
            "2024-11-06 10:12:54,152 epoch 30 - iter 24/67 - loss 0.24516993 - time (sec): 10.83 - samples/sec: 2252.27 - lr: 0.000625 - momentum: 0.000000\n",
            "2024-11-06 10:12:56,734 epoch 30 - iter 30/67 - loss 0.24366488 - time (sec): 13.41 - samples/sec: 2232.14 - lr: 0.000625 - momentum: 0.000000\n",
            "2024-11-06 10:13:01,055 epoch 30 - iter 36/67 - loss 0.23031952 - time (sec): 17.73 - samples/sec: 2270.82 - lr: 0.000625 - momentum: 0.000000\n",
            "2024-11-06 10:13:05,310 epoch 30 - iter 42/67 - loss 0.22664710 - time (sec): 21.98 - samples/sec: 2214.10 - lr: 0.000625 - momentum: 0.000000\n",
            "2024-11-06 10:13:07,856 epoch 30 - iter 48/67 - loss 0.22520840 - time (sec): 24.53 - samples/sec: 2197.79 - lr: 0.000625 - momentum: 0.000000\n",
            "2024-11-06 10:13:11,020 epoch 30 - iter 54/67 - loss 0.22616583 - time (sec): 27.69 - samples/sec: 2207.91 - lr: 0.000625 - momentum: 0.000000\n",
            "2024-11-06 10:13:13,951 epoch 30 - iter 60/67 - loss 0.22655382 - time (sec): 30.63 - samples/sec: 2186.63 - lr: 0.000625 - momentum: 0.000000\n",
            "2024-11-06 10:13:16,398 epoch 30 - iter 66/67 - loss 0.22904406 - time (sec): 33.07 - samples/sec: 2197.60 - lr: 0.000625 - momentum: 0.000000\n",
            "2024-11-06 10:13:16,701 ----------------------------------------------------------------------------------------------------\n",
            "2024-11-06 10:13:16,702 EPOCH 30 done: loss 0.2281 - lr: 0.000625\n"
          ]
        },
        {
          "output_type": "stream",
          "name": "stderr",
          "text": [
            "100%|██████████| 1/1 [00:05<00:00,  5.25s/it]"
          ]
        },
        {
          "output_type": "stream",
          "name": "stdout",
          "text": [
            "2024-11-06 10:13:21,995 DEV : loss 0.5306172966957092 - f1-score (micro avg)  0.0\n",
            "2024-11-06 10:13:22,012  - 1 epochs without improvement\n"
          ]
        },
        {
          "output_type": "stream",
          "name": "stderr",
          "text": [
            "\n"
          ]
        },
        {
          "output_type": "stream",
          "name": "stdout",
          "text": [
            "2024-11-06 10:13:23,288 ----------------------------------------------------------------------------------------------------\n",
            "2024-11-06 10:13:23,298 Testing using last state of model ...\n"
          ]
        },
        {
          "output_type": "stream",
          "name": "stderr",
          "text": [
            "100%|██████████| 2/2 [00:04<00:00,  2.29s/it]"
          ]
        },
        {
          "output_type": "stream",
          "name": "stdout",
          "text": [
            "2024-11-06 10:13:27,902 \n",
            "Results:\n",
            "- F-score (micro) 0.5132\n",
            "- F-score (macro) 0.6279\n",
            "- Accuracy 0.3487\n",
            "\n",
            "By class:\n",
            "              precision    recall  f1-score   support\n",
            "\n",
            "       SKILL     0.3525    0.3340    0.3430       533\n",
            "         JOB     0.5153    0.6720    0.5833       125\n",
            "        WORK     0.7984    0.8879    0.8408       116\n",
            "     COMPANY     0.5577    0.6374    0.5949        91\n",
            "         LOC     0.4615    0.3529    0.4000        51\n",
            "         DEG     0.6222    0.6667    0.6437        42\n",
            "         UNI     0.3659    0.3750    0.3704        40\n",
            "        NAME     0.7045    0.8857    0.7848        35\n",
            "       PHONE     0.8158    0.9118    0.8611        34\n",
            "       EMAIL     0.8889    0.8889    0.8889        27\n",
            "       STUDY     1.0000    0.4242    0.5957        33\n",
            "\n",
            "   micro avg     0.5083    0.5182    0.5132      1127\n",
            "   macro avg     0.6439    0.6397    0.6279      1127\n",
            "weighted avg     0.5052    0.5182    0.5058      1127\n",
            "\n",
            "2024-11-06 10:13:27,903 ----------------------------------------------------------------------------------------------------\n"
          ]
        },
        {
          "output_type": "stream",
          "name": "stderr",
          "text": [
            "\n"
          ]
        }
      ]
    },
    {
      "cell_type": "code",
      "source": [
        "# evaluate model\n",
        "from flair.data import Corpus\n",
        "from flair.datasets import ColumnCorpus\n",
        "from flair.models import SequenceTagger\n",
        "from flair.trainers import ModelTrainer\n",
        "\n",
        "# Load the trained model\n",
        "model = SequenceTagger.load('/content/drive/MyDrive/FYP/Implementation/flair_output/final-model.pt')\n",
        "\n",
        "# Evaluate the model on the test set\n",
        "result = model.evaluate(corpus.test, gold_label_type='ner', mini_batch_size=32)\n",
        "\n",
        "# Print the results\n",
        "# print(\"Evaluation Loss:\", eval_loss)\n",
        "print(result.detailed_results)  # print the precision, recall, and F1-score per entity type"
      ],
      "metadata": {
        "id": "6KT8wj3Lns2c",
        "colab": {
          "base_uri": "https://localhost:8080/"
        },
        "outputId": "3fe4ee5e-162b-4f94-dd80-656ca509d36f"
      },
      "id": "6KT8wj3Lns2c",
      "execution_count": 9,
      "outputs": [
        {
          "output_type": "stream",
          "name": "stdout",
          "text": [
            "2024-11-06 10:13:48,061 SequenceTagger predicts: Dictionary with 45 tags: O, S-SKILL, B-SKILL, E-SKILL, I-SKILL, S-JOB, B-JOB, E-JOB, I-JOB, S-WORK, B-WORK, E-WORK, I-WORK, S-COMPANY, B-COMPANY, E-COMPANY, I-COMPANY, S-LOC, B-LOC, E-LOC, I-LOC, S-UNI, B-UNI, E-UNI, I-UNI, S-DEG, B-DEG, E-DEG, I-DEG, S-PHONE, B-PHONE, E-PHONE, I-PHONE, S-STUDY, B-STUDY, E-STUDY, I-STUDY, S-NAME, B-NAME, E-NAME, I-NAME, S-EMAIL, B-EMAIL, E-EMAIL, I-EMAIL\n"
          ]
        },
        {
          "output_type": "stream",
          "name": "stderr",
          "text": [
            "100%|██████████| 3/3 [00:03<00:00,  1.28s/it]"
          ]
        },
        {
          "output_type": "stream",
          "name": "stdout",
          "text": [
            "\n",
            "Results:\n",
            "- F-score (micro) 0.5132\n",
            "- F-score (macro) 0.6279\n",
            "- Accuracy 0.3487\n",
            "\n",
            "By class:\n",
            "              precision    recall  f1-score   support\n",
            "\n",
            "       SKILL     0.3525    0.3340    0.3430       533\n",
            "         JOB     0.5153    0.6720    0.5833       125\n",
            "        WORK     0.7984    0.8879    0.8408       116\n",
            "     COMPANY     0.5577    0.6374    0.5949        91\n",
            "         LOC     0.4615    0.3529    0.4000        51\n",
            "         DEG     0.6222    0.6667    0.6437        42\n",
            "         UNI     0.3659    0.3750    0.3704        40\n",
            "        NAME     0.7045    0.8857    0.7848        35\n",
            "       PHONE     0.8158    0.9118    0.8611        34\n",
            "       EMAIL     0.8889    0.8889    0.8889        27\n",
            "       STUDY     1.0000    0.4242    0.5957        33\n",
            "\n",
            "   micro avg     0.5083    0.5182    0.5132      1127\n",
            "   macro avg     0.6439    0.6397    0.6279      1127\n",
            "weighted avg     0.5052    0.5182    0.5058      1127\n",
            "\n"
          ]
        },
        {
          "output_type": "stream",
          "name": "stderr",
          "text": [
            "\n"
          ]
        }
      ]
    },
    {
      "cell_type": "code",
      "source": [
        "from flair.models import SequenceTagger\n",
        "from flair.data import Sentence\n",
        "import spacy\n",
        "from spacy import displacy\n",
        "\n",
        "# Load your trained Flair NER model\n",
        "tagger = SequenceTagger.load('/content/drive/MyDrive/FYP/Implementation/flair_output/best-model.pt')\n",
        "\n",
        "resume_text = '''\n",
        "John Doe lives at 1234 Elm Street in Los Angeles, CA 90001. He can be reached at +1 (555) 123-4567 or via email at john.doe@example.com. John is a results-driven software engineer with over 5 years of experience in web development and cloud infrastructure, with strong knowledge of JavaScript, Python, and cloud technologies like AWS and Azure. Currently, he works as a Software Engineer at Google LLC in San Francisco, CA, where he has been employed since August 2019. In this role, he has developed scalable web applications using JavaScript, Node.js, and React, deployed and maintained cloud infrastructure on AWS, reducing downtime by 20%, and led a team of 4 engineers to enhance backend performance by 30%. Previously, he worked as a Junior Developer at Tech Innovators Inc. in Austin, TX, from July 2017 to July 2019, where he created RESTful APIs using Python and Flask, collaborated with front-end developers to build and deploy user-facing applications, and wrote unit and integration tests, improving code coverage by 15%.\n",
        "\n",
        "John holds a Master of Science in Computer Science from the University of California, Berkeley, with a graduation date of May 2017, and a Bachelor of Science in Information Technology from the University of Texas at Austin, graduated in May 2015. His skillset includes proficiency in programming languages like Python, JavaScript, and Java; frameworks such as React, Flask, and Django; cloud platforms including AWS, Google Cloud, and Azure; as well as other tools like Git, Docker, Kubernetes, and SQL. He is certified as an AWS Certified Solutions Architect – Associate, earned in 2020, and as a Google Professional Cloud Architect, earned in 2021'\n",
        "'''\n",
        "\n",
        "# Step 1: Predict entities using Flair\n",
        "sentence = Sentence(resume_text)\n",
        "tagger.predict(sentence)\n",
        "\n",
        "# Step 2: Convert Flair predictions to spaCy doc format\n",
        "# Initialize a blank spaCy NLP pipeline\n",
        "nlp = spacy.blank(\"en\")\n",
        "doc = nlp(resume_text)\n",
        "\n",
        "# Extract entities from Flair prediction and convert to spaCy format\n",
        "ents = []\n",
        "for entity in sentence.get_spans('ner'):\n",
        "    start, end = entity.start_position, entity.end_position\n",
        "    label = entity.tag\n",
        "    span = doc.char_span(start, end, label=label)\n",
        "    if span is not None:\n",
        "        ents.append(span)\n",
        "\n",
        "# Set the entities in the spaCy doc\n",
        "doc.ents = ents\n",
        "\n",
        "# Step 3: Visualize using displacy\n",
        "# Display in Jupyter or a web page\n",
        "displacy.render(doc, style=\"ent\", jupyter=True)\n"
      ],
      "metadata": {
        "id": "0DZ319Yi-1eq",
        "outputId": "3fc5edd2-7cea-4e52-a5f2-7a5b0d3fa4a9",
        "colab": {
          "base_uri": "https://localhost:8080/",
          "height": 614
        }
      },
      "id": "0DZ319Yi-1eq",
      "execution_count": 12,
      "outputs": [
        {
          "output_type": "stream",
          "name": "stdout",
          "text": [
            "2024-11-06 10:18:43,802 SequenceTagger predicts: Dictionary with 47 tags: O, S-SKILL, B-SKILL, E-SKILL, I-SKILL, S-JOB, B-JOB, E-JOB, I-JOB, S-WORK, B-WORK, E-WORK, I-WORK, S-COMPANY, B-COMPANY, E-COMPANY, I-COMPANY, S-LOC, B-LOC, E-LOC, I-LOC, S-UNI, B-UNI, E-UNI, I-UNI, S-DEG, B-DEG, E-DEG, I-DEG, S-NAME, B-NAME, E-NAME, I-NAME, S-PHONE, B-PHONE, E-PHONE, I-PHONE, S-STUDY, B-STUDY, E-STUDY, I-STUDY, S-EMAIL, B-EMAIL, E-EMAIL, I-EMAIL, <START>, <STOP>\n"
          ]
        },
        {
          "output_type": "stream",
          "name": "stderr",
          "text": [
            "/usr/local/lib/python3.10/dist-packages/spacy/util.py:1740: UserWarning: [W111] Jupyter notebook detected: if using `prefer_gpu()` or `require_gpu()`, include it in the same cell right before `spacy.load()` to ensure that the model is loaded on the correct device. More information: http://spacy.io/usage/v3#jupyter-notebook-gpu\n",
            "  warnings.warn(Warnings.W111)\n"
          ]
        },
        {
          "output_type": "display_data",
          "data": {
            "text/plain": [
              "<IPython.core.display.HTML object>"
            ],
            "text/html": [
              "<span class=\"tex2jax_ignore\"><div class=\"entities\" style=\"line-height: 2.5; direction: ltr\"><br>John \n",
              "<mark class=\"entity\" style=\"background: #ddd; padding: 0.45em 0.6em; margin: 0 0.25em; line-height: 1; border-radius: 0.35em;\">\n",
              "    Doe lives\n",
              "    <span style=\"font-size: 0.8em; font-weight: bold; line-height: 1; border-radius: 0.35em; vertical-align: middle; margin-left: 0.5rem\">NAME</span>\n",
              "</mark>\n",
              " at \n",
              "<mark class=\"entity\" style=\"background: #ddd; padding: 0.45em 0.6em; margin: 0 0.25em; line-height: 1; border-radius: 0.35em;\">\n",
              "    1234 Elm\n",
              "    <span style=\"font-size: 0.8em; font-weight: bold; line-height: 1; border-radius: 0.35em; vertical-align: middle; margin-left: 0.5rem\">NAME</span>\n",
              "</mark>\n",
              " Street in \n",
              "<mark class=\"entity\" style=\"background: #ddd; padding: 0.45em 0.6em; margin: 0 0.25em; line-height: 1; border-radius: 0.35em;\">\n",
              "    Los\n",
              "    <span style=\"font-size: 0.8em; font-weight: bold; line-height: 1; border-radius: 0.35em; vertical-align: middle; margin-left: 0.5rem\">DEG</span>\n",
              "</mark>\n",
              " Angeles, CA \n",
              "<mark class=\"entity\" style=\"background: #ddd; padding: 0.45em 0.6em; margin: 0 0.25em; line-height: 1; border-radius: 0.35em;\">\n",
              "    90001\n",
              "    <span style=\"font-size: 0.8em; font-weight: bold; line-height: 1; border-radius: 0.35em; vertical-align: middle; margin-left: 0.5rem\">DEG</span>\n",
              "</mark>\n",
              ". He can be reached at +1 (\n",
              "<mark class=\"entity\" style=\"background: #ddd; padding: 0.45em 0.6em; margin: 0 0.25em; line-height: 1; border-radius: 0.35em;\">\n",
              "    555\n",
              "    <span style=\"font-size: 0.8em; font-weight: bold; line-height: 1; border-radius: 0.35em; vertical-align: middle; margin-left: 0.5rem\">DEG</span>\n",
              "</mark>\n",
              ") \n",
              "<mark class=\"entity\" style=\"background: #ddd; padding: 0.45em 0.6em; margin: 0 0.25em; line-height: 1; border-radius: 0.35em;\">\n",
              "    123-4567\n",
              "    <span style=\"font-size: 0.8em; font-weight: bold; line-height: 1; border-radius: 0.35em; vertical-align: middle; margin-left: 0.5rem\">DEG</span>\n",
              "</mark>\n",
              " or \n",
              "<mark class=\"entity\" style=\"background: #ddd; padding: 0.45em 0.6em; margin: 0 0.25em; line-height: 1; border-radius: 0.35em;\">\n",
              "    via\n",
              "    <span style=\"font-size: 0.8em; font-weight: bold; line-height: 1; border-radius: 0.35em; vertical-align: middle; margin-left: 0.5rem\">DEG</span>\n",
              "</mark>\n",
              " email \n",
              "<mark class=\"entity\" style=\"background: #ddd; padding: 0.45em 0.6em; margin: 0 0.25em; line-height: 1; border-radius: 0.35em;\">\n",
              "    at\n",
              "    <span style=\"font-size: 0.8em; font-weight: bold; line-height: 1; border-radius: 0.35em; vertical-align: middle; margin-left: 0.5rem\">EMAIL</span>\n",
              "</mark>\n",
              " john.doe@example.com. \n",
              "<mark class=\"entity\" style=\"background: #ddd; padding: 0.45em 0.6em; margin: 0 0.25em; line-height: 1; border-radius: 0.35em;\">\n",
              "    John\n",
              "    <span style=\"font-size: 0.8em; font-weight: bold; line-height: 1; border-radius: 0.35em; vertical-align: middle; margin-left: 0.5rem\">DEG</span>\n",
              "</mark>\n",
              " is a \n",
              "<mark class=\"entity\" style=\"background: #ddd; padding: 0.45em 0.6em; margin: 0 0.25em; line-height: 1; border-radius: 0.35em;\">\n",
              "    results-driven\n",
              "    <span style=\"font-size: 0.8em; font-weight: bold; line-height: 1; border-radius: 0.35em; vertical-align: middle; margin-left: 0.5rem\">DEG</span>\n",
              "</mark>\n",
              " software engineer with over 5 years of experience in web development and cloud infrastructure, with strong knowledge of \n",
              "<mark class=\"entity\" style=\"background: #ddd; padding: 0.45em 0.6em; margin: 0 0.25em; line-height: 1; border-radius: 0.35em;\">\n",
              "    JavaScript\n",
              "    <span style=\"font-size: 0.8em; font-weight: bold; line-height: 1; border-radius: 0.35em; vertical-align: middle; margin-left: 0.5rem\">DEG</span>\n",
              "</mark>\n",
              ", \n",
              "<mark class=\"entity\" style=\"background: #ddd; padding: 0.45em 0.6em; margin: 0 0.25em; line-height: 1; border-radius: 0.35em;\">\n",
              "    Python\n",
              "    <span style=\"font-size: 0.8em; font-weight: bold; line-height: 1; border-radius: 0.35em; vertical-align: middle; margin-left: 0.5rem\">DEG</span>\n",
              "</mark>\n",
              ", and \n",
              "<mark class=\"entity\" style=\"background: #ddd; padding: 0.45em 0.6em; margin: 0 0.25em; line-height: 1; border-radius: 0.35em;\">\n",
              "    cloud\n",
              "    <span style=\"font-size: 0.8em; font-weight: bold; line-height: 1; border-radius: 0.35em; vertical-align: middle; margin-left: 0.5rem\">DEG</span>\n",
              "</mark>\n",
              " technologies like \n",
              "<mark class=\"entity\" style=\"background: #ddd; padding: 0.45em 0.6em; margin: 0 0.25em; line-height: 1; border-radius: 0.35em;\">\n",
              "    AWS\n",
              "    <span style=\"font-size: 0.8em; font-weight: bold; line-height: 1; border-radius: 0.35em; vertical-align: middle; margin-left: 0.5rem\">DEG</span>\n",
              "</mark>\n",
              " and \n",
              "<mark class=\"entity\" style=\"background: #ddd; padding: 0.45em 0.6em; margin: 0 0.25em; line-height: 1; border-radius: 0.35em;\">\n",
              "    Azure\n",
              "    <span style=\"font-size: 0.8em; font-weight: bold; line-height: 1; border-radius: 0.35em; vertical-align: middle; margin-left: 0.5rem\">DEG</span>\n",
              "</mark>\n",
              ". Currently, he works as a Software Engineer at Google \n",
              "<mark class=\"entity\" style=\"background: #ddd; padding: 0.45em 0.6em; margin: 0 0.25em; line-height: 1; border-radius: 0.35em;\">\n",
              "    LLC\n",
              "    <span style=\"font-size: 0.8em; font-weight: bold; line-height: 1; border-radius: 0.35em; vertical-align: middle; margin-left: 0.5rem\">DEG</span>\n",
              "</mark>\n",
              " in San \n",
              "<mark class=\"entity\" style=\"background: #ddd; padding: 0.45em 0.6em; margin: 0 0.25em; line-height: 1; border-radius: 0.35em;\">\n",
              "    Francisco\n",
              "    <span style=\"font-size: 0.8em; font-weight: bold; line-height: 1; border-radius: 0.35em; vertical-align: middle; margin-left: 0.5rem\">DEG</span>\n",
              "</mark>\n",
              ", CA, where he has been employed since August \n",
              "<mark class=\"entity\" style=\"background: #ddd; padding: 0.45em 0.6em; margin: 0 0.25em; line-height: 1; border-radius: 0.35em;\">\n",
              "    2019\n",
              "    <span style=\"font-size: 0.8em; font-weight: bold; line-height: 1; border-radius: 0.35em; vertical-align: middle; margin-left: 0.5rem\">DEG</span>\n",
              "</mark>\n",
              ". In this role, he has developed \n",
              "<mark class=\"entity\" style=\"background: #ddd; padding: 0.45em 0.6em; margin: 0 0.25em; line-height: 1; border-radius: 0.35em;\">\n",
              "    scalable\n",
              "    <span style=\"font-size: 0.8em; font-weight: bold; line-height: 1; border-radius: 0.35em; vertical-align: middle; margin-left: 0.5rem\">DEG</span>\n",
              "</mark>\n",
              " web applications using \n",
              "<mark class=\"entity\" style=\"background: #ddd; padding: 0.45em 0.6em; margin: 0 0.25em; line-height: 1; border-radius: 0.35em;\">\n",
              "    JavaScript\n",
              "    <span style=\"font-size: 0.8em; font-weight: bold; line-height: 1; border-radius: 0.35em; vertical-align: middle; margin-left: 0.5rem\">DEG</span>\n",
              "</mark>\n",
              ", \n",
              "<mark class=\"entity\" style=\"background: #ddd; padding: 0.45em 0.6em; margin: 0 0.25em; line-height: 1; border-radius: 0.35em;\">\n",
              "    Node.js\n",
              "    <span style=\"font-size: 0.8em; font-weight: bold; line-height: 1; border-radius: 0.35em; vertical-align: middle; margin-left: 0.5rem\">DEG</span>\n",
              "</mark>\n",
              ", and \n",
              "<mark class=\"entity\" style=\"background: #ddd; padding: 0.45em 0.6em; margin: 0 0.25em; line-height: 1; border-radius: 0.35em;\">\n",
              "    React\n",
              "    <span style=\"font-size: 0.8em; font-weight: bold; line-height: 1; border-radius: 0.35em; vertical-align: middle; margin-left: 0.5rem\">DEG</span>\n",
              "</mark>\n",
              ", deployed and maintained \n",
              "<mark class=\"entity\" style=\"background: #ddd; padding: 0.45em 0.6em; margin: 0 0.25em; line-height: 1; border-radius: 0.35em;\">\n",
              "    cloud\n",
              "    <span style=\"font-size: 0.8em; font-weight: bold; line-height: 1; border-radius: 0.35em; vertical-align: middle; margin-left: 0.5rem\">DEG</span>\n",
              "</mark>\n",
              " infrastructure on \n",
              "<mark class=\"entity\" style=\"background: #ddd; padding: 0.45em 0.6em; margin: 0 0.25em; line-height: 1; border-radius: 0.35em;\">\n",
              "    AWS\n",
              "    <span style=\"font-size: 0.8em; font-weight: bold; line-height: 1; border-radius: 0.35em; vertical-align: middle; margin-left: 0.5rem\">DEG</span>\n",
              "</mark>\n",
              ", reducing \n",
              "<mark class=\"entity\" style=\"background: #ddd; padding: 0.45em 0.6em; margin: 0 0.25em; line-height: 1; border-radius: 0.35em;\">\n",
              "    downtime\n",
              "    <span style=\"font-size: 0.8em; font-weight: bold; line-height: 1; border-radius: 0.35em; vertical-align: middle; margin-left: 0.5rem\">DEG</span>\n",
              "</mark>\n",
              " by 20%, and led a team of 4 engineers to enhance \n",
              "<mark class=\"entity\" style=\"background: #ddd; padding: 0.45em 0.6em; margin: 0 0.25em; line-height: 1; border-radius: 0.35em;\">\n",
              "    backend\n",
              "    <span style=\"font-size: 0.8em; font-weight: bold; line-height: 1; border-radius: 0.35em; vertical-align: middle; margin-left: 0.5rem\">DEG</span>\n",
              "</mark>\n",
              " performance by 30%. Previously, he worked as a Junior \n",
              "<mark class=\"entity\" style=\"background: #ddd; padding: 0.45em 0.6em; margin: 0 0.25em; line-height: 1; border-radius: 0.35em;\">\n",
              "    Developer\n",
              "    <span style=\"font-size: 0.8em; font-weight: bold; line-height: 1; border-radius: 0.35em; vertical-align: middle; margin-left: 0.5rem\">DEG</span>\n",
              "</mark>\n",
              " at Tech Innovators Inc. in \n",
              "<mark class=\"entity\" style=\"background: #ddd; padding: 0.45em 0.6em; margin: 0 0.25em; line-height: 1; border-radius: 0.35em;\">\n",
              "    Austin\n",
              "    <span style=\"font-size: 0.8em; font-weight: bold; line-height: 1; border-radius: 0.35em; vertical-align: middle; margin-left: 0.5rem\">DEG</span>\n",
              "</mark>\n",
              ", \n",
              "<mark class=\"entity\" style=\"background: #ddd; padding: 0.45em 0.6em; margin: 0 0.25em; line-height: 1; border-radius: 0.35em;\">\n",
              "    TX\n",
              "    <span style=\"font-size: 0.8em; font-weight: bold; line-height: 1; border-radius: 0.35em; vertical-align: middle; margin-left: 0.5rem\">DEG</span>\n",
              "</mark>\n",
              ", from July \n",
              "<mark class=\"entity\" style=\"background: #ddd; padding: 0.45em 0.6em; margin: 0 0.25em; line-height: 1; border-radius: 0.35em;\">\n",
              "    2017\n",
              "    <span style=\"font-size: 0.8em; font-weight: bold; line-height: 1; border-radius: 0.35em; vertical-align: middle; margin-left: 0.5rem\">DEG</span>\n",
              "</mark>\n",
              " to July \n",
              "<mark class=\"entity\" style=\"background: #ddd; padding: 0.45em 0.6em; margin: 0 0.25em; line-height: 1; border-radius: 0.35em;\">\n",
              "    2019\n",
              "    <span style=\"font-size: 0.8em; font-weight: bold; line-height: 1; border-radius: 0.35em; vertical-align: middle; margin-left: 0.5rem\">DEG</span>\n",
              "</mark>\n",
              ", where he created \n",
              "<mark class=\"entity\" style=\"background: #ddd; padding: 0.45em 0.6em; margin: 0 0.25em; line-height: 1; border-radius: 0.35em;\">\n",
              "    RESTful APIs\n",
              "    <span style=\"font-size: 0.8em; font-weight: bold; line-height: 1; border-radius: 0.35em; vertical-align: middle; margin-left: 0.5rem\">NAME</span>\n",
              "</mark>\n",
              " using \n",
              "<mark class=\"entity\" style=\"background: #ddd; padding: 0.45em 0.6em; margin: 0 0.25em; line-height: 1; border-radius: 0.35em;\">\n",
              "    Python\n",
              "    <span style=\"font-size: 0.8em; font-weight: bold; line-height: 1; border-radius: 0.35em; vertical-align: middle; margin-left: 0.5rem\">DEG</span>\n",
              "</mark>\n",
              " and \n",
              "<mark class=\"entity\" style=\"background: #ddd; padding: 0.45em 0.6em; margin: 0 0.25em; line-height: 1; border-radius: 0.35em;\">\n",
              "    Flask\n",
              "    <span style=\"font-size: 0.8em; font-weight: bold; line-height: 1; border-radius: 0.35em; vertical-align: middle; margin-left: 0.5rem\">DEG</span>\n",
              "</mark>\n",
              ", \n",
              "<mark class=\"entity\" style=\"background: #ddd; padding: 0.45em 0.6em; margin: 0 0.25em; line-height: 1; border-radius: 0.35em;\">\n",
              "    collaborated\n",
              "    <span style=\"font-size: 0.8em; font-weight: bold; line-height: 1; border-radius: 0.35em; vertical-align: middle; margin-left: 0.5rem\">DEG</span>\n",
              "</mark>\n",
              " with \n",
              "<mark class=\"entity\" style=\"background: #ddd; padding: 0.45em 0.6em; margin: 0 0.25em; line-height: 1; border-radius: 0.35em;\">\n",
              "    front-end\n",
              "    <span style=\"font-size: 0.8em; font-weight: bold; line-height: 1; border-radius: 0.35em; vertical-align: middle; margin-left: 0.5rem\">DEG</span>\n",
              "</mark>\n",
              " developers to build and deploy \n",
              "<mark class=\"entity\" style=\"background: #ddd; padding: 0.45em 0.6em; margin: 0 0.25em; line-height: 1; border-radius: 0.35em;\">\n",
              "    user-facing\n",
              "    <span style=\"font-size: 0.8em; font-weight: bold; line-height: 1; border-radius: 0.35em; vertical-align: middle; margin-left: 0.5rem\">DEG</span>\n",
              "</mark>\n",
              " applications, and wrote unit and integration tests, improving code coverage by 15%.<br><br>John holds a Master of Science in Computer Science from the University of California, \n",
              "<mark class=\"entity\" style=\"background: #ddd; padding: 0.45em 0.6em; margin: 0 0.25em; line-height: 1; border-radius: 0.35em;\">\n",
              "    Berkeley\n",
              "    <span style=\"font-size: 0.8em; font-weight: bold; line-height: 1; border-radius: 0.35em; vertical-align: middle; margin-left: 0.5rem\">DEG</span>\n",
              "</mark>\n",
              ", with a graduation date of May \n",
              "<mark class=\"entity\" style=\"background: #ddd; padding: 0.45em 0.6em; margin: 0 0.25em; line-height: 1; border-radius: 0.35em;\">\n",
              "    2017\n",
              "    <span style=\"font-size: 0.8em; font-weight: bold; line-height: 1; border-radius: 0.35em; vertical-align: middle; margin-left: 0.5rem\">DEG</span>\n",
              "</mark>\n",
              ", and a Bachelor of Science in Information Technology from the University of Texas at \n",
              "<mark class=\"entity\" style=\"background: #ddd; padding: 0.45em 0.6em; margin: 0 0.25em; line-height: 1; border-radius: 0.35em;\">\n",
              "    Austin\n",
              "    <span style=\"font-size: 0.8em; font-weight: bold; line-height: 1; border-radius: 0.35em; vertical-align: middle; margin-left: 0.5rem\">DEG</span>\n",
              "</mark>\n",
              ", \n",
              "<mark class=\"entity\" style=\"background: #ddd; padding: 0.45em 0.6em; margin: 0 0.25em; line-height: 1; border-radius: 0.35em;\">\n",
              "    graduated\n",
              "    <span style=\"font-size: 0.8em; font-weight: bold; line-height: 1; border-radius: 0.35em; vertical-align: middle; margin-left: 0.5rem\">DEG</span>\n",
              "</mark>\n",
              " in May \n",
              "<mark class=\"entity\" style=\"background: #ddd; padding: 0.45em 0.6em; margin: 0 0.25em; line-height: 1; border-radius: 0.35em;\">\n",
              "    2015\n",
              "    <span style=\"font-size: 0.8em; font-weight: bold; line-height: 1; border-radius: 0.35em; vertical-align: middle; margin-left: 0.5rem\">DEG</span>\n",
              "</mark>\n",
              ". His \n",
              "<mark class=\"entity\" style=\"background: #ddd; padding: 0.45em 0.6em; margin: 0 0.25em; line-height: 1; border-radius: 0.35em;\">\n",
              "    skillset\n",
              "    <span style=\"font-size: 0.8em; font-weight: bold; line-height: 1; border-radius: 0.35em; vertical-align: middle; margin-left: 0.5rem\">DEG</span>\n",
              "</mark>\n",
              " includes \n",
              "<mark class=\"entity\" style=\"background: #ddd; padding: 0.45em 0.6em; margin: 0 0.25em; line-height: 1; border-radius: 0.35em;\">\n",
              "    proficiency\n",
              "    <span style=\"font-size: 0.8em; font-weight: bold; line-height: 1; border-radius: 0.35em; vertical-align: middle; margin-left: 0.5rem\">DEG</span>\n",
              "</mark>\n",
              " in programming languages like \n",
              "<mark class=\"entity\" style=\"background: #ddd; padding: 0.45em 0.6em; margin: 0 0.25em; line-height: 1; border-radius: 0.35em;\">\n",
              "    Python\n",
              "    <span style=\"font-size: 0.8em; font-weight: bold; line-height: 1; border-radius: 0.35em; vertical-align: middle; margin-left: 0.5rem\">DEG</span>\n",
              "</mark>\n",
              ", \n",
              "<mark class=\"entity\" style=\"background: #ddd; padding: 0.45em 0.6em; margin: 0 0.25em; line-height: 1; border-radius: 0.35em;\">\n",
              "    JavaScript\n",
              "    <span style=\"font-size: 0.8em; font-weight: bold; line-height: 1; border-radius: 0.35em; vertical-align: middle; margin-left: 0.5rem\">DEG</span>\n",
              "</mark>\n",
              ", and \n",
              "<mark class=\"entity\" style=\"background: #ddd; padding: 0.45em 0.6em; margin: 0 0.25em; line-height: 1; border-radius: 0.35em;\">\n",
              "    Java\n",
              "    <span style=\"font-size: 0.8em; font-weight: bold; line-height: 1; border-radius: 0.35em; vertical-align: middle; margin-left: 0.5rem\">DEG</span>\n",
              "</mark>\n",
              "; \n",
              "<mark class=\"entity\" style=\"background: #ddd; padding: 0.45em 0.6em; margin: 0 0.25em; line-height: 1; border-radius: 0.35em;\">\n",
              "    frameworks\n",
              "    <span style=\"font-size: 0.8em; font-weight: bold; line-height: 1; border-radius: 0.35em; vertical-align: middle; margin-left: 0.5rem\">DEG</span>\n",
              "</mark>\n",
              " such as \n",
              "<mark class=\"entity\" style=\"background: #ddd; padding: 0.45em 0.6em; margin: 0 0.25em; line-height: 1; border-radius: 0.35em;\">\n",
              "    React\n",
              "    <span style=\"font-size: 0.8em; font-weight: bold; line-height: 1; border-radius: 0.35em; vertical-align: middle; margin-left: 0.5rem\">DEG</span>\n",
              "</mark>\n",
              ", \n",
              "<mark class=\"entity\" style=\"background: #ddd; padding: 0.45em 0.6em; margin: 0 0.25em; line-height: 1; border-radius: 0.35em;\">\n",
              "    Flask\n",
              "    <span style=\"font-size: 0.8em; font-weight: bold; line-height: 1; border-radius: 0.35em; vertical-align: middle; margin-left: 0.5rem\">DEG</span>\n",
              "</mark>\n",
              ", and \n",
              "<mark class=\"entity\" style=\"background: #ddd; padding: 0.45em 0.6em; margin: 0 0.25em; line-height: 1; border-radius: 0.35em;\">\n",
              "    Django\n",
              "    <span style=\"font-size: 0.8em; font-weight: bold; line-height: 1; border-radius: 0.35em; vertical-align: middle; margin-left: 0.5rem\">DEG</span>\n",
              "</mark>\n",
              "; \n",
              "<mark class=\"entity\" style=\"background: #ddd; padding: 0.45em 0.6em; margin: 0 0.25em; line-height: 1; border-radius: 0.35em;\">\n",
              "    cloud\n",
              "    <span style=\"font-size: 0.8em; font-weight: bold; line-height: 1; border-radius: 0.35em; vertical-align: middle; margin-left: 0.5rem\">DEG</span>\n",
              "</mark>\n",
              " platforms including \n",
              "<mark class=\"entity\" style=\"background: #ddd; padding: 0.45em 0.6em; margin: 0 0.25em; line-height: 1; border-radius: 0.35em;\">\n",
              "    AWS\n",
              "    <span style=\"font-size: 0.8em; font-weight: bold; line-height: 1; border-radius: 0.35em; vertical-align: middle; margin-left: 0.5rem\">DEG</span>\n",
              "</mark>\n",
              ", Google \n",
              "<mark class=\"entity\" style=\"background: #ddd; padding: 0.45em 0.6em; margin: 0 0.25em; line-height: 1; border-radius: 0.35em;\">\n",
              "    Cloud\n",
              "    <span style=\"font-size: 0.8em; font-weight: bold; line-height: 1; border-radius: 0.35em; vertical-align: middle; margin-left: 0.5rem\">DEG</span>\n",
              "</mark>\n",
              ", and \n",
              "<mark class=\"entity\" style=\"background: #ddd; padding: 0.45em 0.6em; margin: 0 0.25em; line-height: 1; border-radius: 0.35em;\">\n",
              "    Azure\n",
              "    <span style=\"font-size: 0.8em; font-weight: bold; line-height: 1; border-radius: 0.35em; vertical-align: middle; margin-left: 0.5rem\">DEG</span>\n",
              "</mark>\n",
              "; as well as other tools like \n",
              "<mark class=\"entity\" style=\"background: #ddd; padding: 0.45em 0.6em; margin: 0 0.25em; line-height: 1; border-radius: 0.35em;\">\n",
              "    Git\n",
              "    <span style=\"font-size: 0.8em; font-weight: bold; line-height: 1; border-radius: 0.35em; vertical-align: middle; margin-left: 0.5rem\">DEG</span>\n",
              "</mark>\n",
              ", \n",
              "<mark class=\"entity\" style=\"background: #ddd; padding: 0.45em 0.6em; margin: 0 0.25em; line-height: 1; border-radius: 0.35em;\">\n",
              "    Docker\n",
              "    <span style=\"font-size: 0.8em; font-weight: bold; line-height: 1; border-radius: 0.35em; vertical-align: middle; margin-left: 0.5rem\">DEG</span>\n",
              "</mark>\n",
              ", \n",
              "<mark class=\"entity\" style=\"background: #ddd; padding: 0.45em 0.6em; margin: 0 0.25em; line-height: 1; border-radius: 0.35em;\">\n",
              "    Kubernetes\n",
              "    <span style=\"font-size: 0.8em; font-weight: bold; line-height: 1; border-radius: 0.35em; vertical-align: middle; margin-left: 0.5rem\">DEG</span>\n",
              "</mark>\n",
              ", and \n",
              "<mark class=\"entity\" style=\"background: #ddd; padding: 0.45em 0.6em; margin: 0 0.25em; line-height: 1; border-radius: 0.35em;\">\n",
              "    SQL\n",
              "    <span style=\"font-size: 0.8em; font-weight: bold; line-height: 1; border-radius: 0.35em; vertical-align: middle; margin-left: 0.5rem\">DEG</span>\n",
              "</mark>\n",
              ". He is certified as an \n",
              "<mark class=\"entity\" style=\"background: #ddd; padding: 0.45em 0.6em; margin: 0 0.25em; line-height: 1; border-radius: 0.35em;\">\n",
              "    AWS Certified\n",
              "    <span style=\"font-size: 0.8em; font-weight: bold; line-height: 1; border-radius: 0.35em; vertical-align: middle; margin-left: 0.5rem\">NAME</span>\n",
              "</mark>\n",
              " Solutions \n",
              "<mark class=\"entity\" style=\"background: #ddd; padding: 0.45em 0.6em; margin: 0 0.25em; line-height: 1; border-radius: 0.35em;\">\n",
              "    Architect\n",
              "    <span style=\"font-size: 0.8em; font-weight: bold; line-height: 1; border-radius: 0.35em; vertical-align: middle; margin-left: 0.5rem\">DEG</span>\n",
              "</mark>\n",
              " – \n",
              "<mark class=\"entity\" style=\"background: #ddd; padding: 0.45em 0.6em; margin: 0 0.25em; line-height: 1; border-radius: 0.35em;\">\n",
              "    Associate\n",
              "    <span style=\"font-size: 0.8em; font-weight: bold; line-height: 1; border-radius: 0.35em; vertical-align: middle; margin-left: 0.5rem\">DEG</span>\n",
              "</mark>\n",
              ", \n",
              "<mark class=\"entity\" style=\"background: #ddd; padding: 0.45em 0.6em; margin: 0 0.25em; line-height: 1; border-radius: 0.35em;\">\n",
              "    earned\n",
              "    <span style=\"font-size: 0.8em; font-weight: bold; line-height: 1; border-radius: 0.35em; vertical-align: middle; margin-left: 0.5rem\">DEG</span>\n",
              "</mark>\n",
              " in 2020, and as a Google Professional Cloud \n",
              "<mark class=\"entity\" style=\"background: #ddd; padding: 0.45em 0.6em; margin: 0 0.25em; line-height: 1; border-radius: 0.35em;\">\n",
              "    Architect\n",
              "    <span style=\"font-size: 0.8em; font-weight: bold; line-height: 1; border-radius: 0.35em; vertical-align: middle; margin-left: 0.5rem\">DEG</span>\n",
              "</mark>\n",
              ", \n",
              "<mark class=\"entity\" style=\"background: #ddd; padding: 0.45em 0.6em; margin: 0 0.25em; line-height: 1; border-radius: 0.35em;\">\n",
              "    earned\n",
              "    <span style=\"font-size: 0.8em; font-weight: bold; line-height: 1; border-radius: 0.35em; vertical-align: middle; margin-left: 0.5rem\">DEG</span>\n",
              "</mark>\n",
              " in \n",
              "<mark class=\"entity\" style=\"background: #ddd; padding: 0.45em 0.6em; margin: 0 0.25em; line-height: 1; border-radius: 0.35em;\">\n",
              "    2021\n",
              "    <span style=\"font-size: 0.8em; font-weight: bold; line-height: 1; border-radius: 0.35em; vertical-align: middle; margin-left: 0.5rem\">EMAIL</span>\n",
              "</mark>\n",
              "\n",
              "<mark class=\"entity\" style=\"background: #ddd; padding: 0.45em 0.6em; margin: 0 0.25em; line-height: 1; border-radius: 0.35em;\">\n",
              "    '\n",
              "    <span style=\"font-size: 0.8em; font-weight: bold; line-height: 1; border-radius: 0.35em; vertical-align: middle; margin-left: 0.5rem\">JOB</span>\n",
              "</mark>\n",
              "<br></div></span>"
            ]
          },
          "metadata": {}
        }
      ]
    },
    {
      "cell_type": "code",
      "source": [
        "from flair.models import SequenceTagger\n",
        "from flair.data import Sentence\n",
        "\n",
        "# Load the pretrained NER model\n",
        "tagger = SequenceTagger.load(\"/content/drive/MyDrive/FYP/Implementation/flair_output/best-model.pt\")\n",
        "# Example text\n",
        "text = \"Apple is looking at buying U.K. startup for $1 billion.\"\n",
        "\n",
        "# Create a Sentence object\n",
        "sentence = Sentence(resume_text)\n",
        "\n",
        "# Predict entities\n",
        "tagger.predict(sentence)\n",
        "\n",
        "# Print the detected entities\n",
        "for entity in sentence.get_spans(\"ner\"):\n",
        "    print(f\"Entity: {entity.text}, Type: {entity.get_label('ner').value}, Confidence: {entity.score}\")\n"
      ],
      "metadata": {
        "colab": {
          "base_uri": "https://localhost:8080/"
        },
        "id": "Eh_ohqkhnuwA",
        "outputId": "c57f54a9-d97f-424e-c8d6-8ea9852f8d51"
      },
      "id": "Eh_ohqkhnuwA",
      "execution_count": 11,
      "outputs": [
        {
          "output_type": "stream",
          "name": "stdout",
          "text": [
            "2024-11-06 10:14:28,943 SequenceTagger predicts: Dictionary with 47 tags: O, S-SKILL, B-SKILL, E-SKILL, I-SKILL, S-JOB, B-JOB, E-JOB, I-JOB, S-WORK, B-WORK, E-WORK, I-WORK, S-COMPANY, B-COMPANY, E-COMPANY, I-COMPANY, S-LOC, B-LOC, E-LOC, I-LOC, S-UNI, B-UNI, E-UNI, I-UNI, S-DEG, B-DEG, E-DEG, I-DEG, S-NAME, B-NAME, E-NAME, I-NAME, S-PHONE, B-PHONE, E-PHONE, I-PHONE, S-STUDY, B-STUDY, E-STUDY, I-STUDY, S-EMAIL, B-EMAIL, E-EMAIL, I-EMAIL, <START>, <STOP>\n",
            "Entity: Doe lives, Type: NAME, Confidence: 0.16702505946159363\n",
            "Entity: 1234 Elm, Type: NAME, Confidence: 0.11599351465702057\n",
            "Entity: Los, Type: DEG, Confidence: 0.18544061481952667\n",
            "Entity: 90001, Type: DEG, Confidence: 0.14748063683509827\n",
            "Entity: 555, Type: DEG, Confidence: 0.11017131805419922\n",
            "Entity: 123-4567, Type: DEG, Confidence: 0.11569119244813919\n",
            "Entity: via, Type: DEG, Confidence: 0.20629706978797913\n",
            "Entity: at, Type: EMAIL, Confidence: 0.19365909695625305\n",
            "Entity: john.doe, Type: JOB, Confidence: 0.10587572306394577\n",
            "Entity: @, Type: DEG, Confidence: 0.1225953996181488\n",
            "Entity: example.com, Type: STUDY, Confidence: 0.10775433480739594\n",
            "Entity: John, Type: DEG, Confidence: 0.1873975694179535\n",
            "Entity: results-driven, Type: DEG, Confidence: 0.1495516300201416\n",
            "Entity: JavaScript, Type: DEG, Confidence: 0.1738281399011612\n",
            "Entity: Python, Type: DEG, Confidence: 0.1625775396823883\n",
            "Entity: cloud, Type: DEG, Confidence: 0.1898547261953354\n",
            "Entity: AWS, Type: DEG, Confidence: 0.1078900545835495\n",
            "Entity: Azure, Type: DEG, Confidence: 0.1390189230442047\n",
            "Entity: LLC, Type: DEG, Confidence: 0.19518113136291504\n",
            "Entity: Francisco, Type: DEG, Confidence: 0.20789998769760132\n",
            "Entity: 2019, Type: DEG, Confidence: 0.1681929975748062\n",
            "Entity: scalable, Type: DEG, Confidence: 0.18266770243644714\n",
            "Entity: JavaScript, Type: DEG, Confidence: 0.16769887506961823\n",
            "Entity: Node.js, Type: DEG, Confidence: 0.11853489279747009\n",
            "Entity: React, Type: DEG, Confidence: 0.20138564705848694\n",
            "Entity: cloud, Type: DEG, Confidence: 0.17859530448913574\n",
            "Entity: AWS, Type: DEG, Confidence: 0.11059108376502991\n",
            "Entity: downtime, Type: DEG, Confidence: 0.15199507772922516\n",
            "Entity: backend, Type: DEG, Confidence: 0.15180251002311707\n",
            "Entity: Developer, Type: DEG, Confidence: 0.200774148106575\n",
            "Entity: Innovators Inc, Type: NAME, Confidence: 0.14714515209197998\n",
            "Entity: Austin, Type: DEG, Confidence: 0.17351219058036804\n",
            "Entity: TX, Type: DEG, Confidence: 0.14547361433506012\n",
            "Entity: 2017, Type: DEG, Confidence: 0.17111483216285706\n",
            "Entity: 2019, Type: DEG, Confidence: 0.1492062658071518\n",
            "Entity: RESTful APIs, Type: NAME, Confidence: 0.12886418029665947\n",
            "Entity: Python, Type: DEG, Confidence: 0.12615029513835907\n",
            "Entity: Flask, Type: DEG, Confidence: 0.11048925668001175\n",
            "Entity: collaborated, Type: DEG, Confidence: 0.1400829404592514\n",
            "Entity: front-end, Type: DEG, Confidence: 0.1426965743303299\n",
            "Entity: user-facing, Type: DEG, Confidence: 0.1417454183101654\n",
            "Entity: Berkeley, Type: DEG, Confidence: 0.21379657089710236\n",
            "Entity: 2017, Type: DEG, Confidence: 0.20121298730373383\n",
            "Entity: Austin, Type: DEG, Confidence: 0.1921633780002594\n",
            "Entity: graduated, Type: DEG, Confidence: 0.19784928858280182\n",
            "Entity: 2015, Type: DEG, Confidence: 0.20958878099918365\n",
            "Entity: skillset, Type: DEG, Confidence: 0.11280574649572372\n",
            "Entity: proficiency, Type: DEG, Confidence: 0.20423416793346405\n",
            "Entity: Python, Type: DEG, Confidence: 0.15512722730636597\n",
            "Entity: JavaScript, Type: DEG, Confidence: 0.1654430627822876\n",
            "Entity: Java, Type: DEG, Confidence: 0.19505003094673157\n",
            "Entity: frameworks, Type: DEG, Confidence: 0.18640774488449097\n",
            "Entity: React, Type: DEG, Confidence: 0.19585756957530975\n",
            "Entity: Flask, Type: DEG, Confidence: 0.10743413120508194\n",
            "Entity: Django, Type: DEG, Confidence: 0.10782385617494583\n",
            "Entity: cloud, Type: DEG, Confidence: 0.15763729810714722\n",
            "Entity: AWS, Type: DEG, Confidence: 0.10634929686784744\n",
            "Entity: Cloud, Type: DEG, Confidence: 0.18283122777938843\n",
            "Entity: Azure, Type: DEG, Confidence: 0.15222297608852386\n",
            "Entity: Git, Type: DEG, Confidence: 0.11355996131896973\n",
            "Entity: Docker, Type: DEG, Confidence: 0.11132988333702087\n",
            "Entity: Kubernetes, Type: DEG, Confidence: 0.11910903453826904\n",
            "Entity: SQL, Type: DEG, Confidence: 0.16887710988521576\n",
            "Entity: AWS Certified, Type: NAME, Confidence: 0.16041680797934532\n",
            "Entity: Architect, Type: DEG, Confidence: 0.1597680151462555\n",
            "Entity: Associate, Type: DEG, Confidence: 0.16229602694511414\n",
            "Entity: earned, Type: DEG, Confidence: 0.21766595542430878\n",
            "Entity: Architect, Type: DEG, Confidence: 0.18512634932994843\n",
            "Entity: earned, Type: DEG, Confidence: 0.16895930469036102\n",
            "Entity: 2021, Type: EMAIL, Confidence: 0.11030236631631851\n",
            "Entity: ', Type: JOB, Confidence: 0.16406425833702087\n"
          ]
        }
      ]
    }
  ],
  "metadata": {
    "kernelspec": {
      "display_name": "Python 3",
      "name": "python3"
    },
    "language_info": {
      "codemirror_mode": {
        "name": "ipython",
        "version": 3
      },
      "file_extension": ".py",
      "mimetype": "text/x-python",
      "name": "python",
      "nbconvert_exporter": "python",
      "pygments_lexer": "ipython3",
      "version": "3.10.0"
    },
    "colab": {
      "provenance": [],
      "gpuType": "T4",
      "include_colab_link": true
    },
    "accelerator": "GPU",
    "widgets": {
      "application/vnd.jupyter.widget-state+json": {
        "8cf716b88fcd4b1b813bef68acbbd8e0": {
          "model_module": "@jupyter-widgets/controls",
          "model_name": "HBoxModel",
          "model_module_version": "1.5.0",
          "state": {
            "_dom_classes": [],
            "_model_module": "@jupyter-widgets/controls",
            "_model_module_version": "1.5.0",
            "_model_name": "HBoxModel",
            "_view_count": null,
            "_view_module": "@jupyter-widgets/controls",
            "_view_module_version": "1.5.0",
            "_view_name": "HBoxView",
            "box_style": "",
            "children": [
              "IPY_MODEL_9c32aea599e343f38ec42bc681c06a6b",
              "IPY_MODEL_4606c8eae0b64ee4bc057e88d395d304",
              "IPY_MODEL_233039b6d84448f4bdb816de49fd7c3d"
            ],
            "layout": "IPY_MODEL_2ef39654d9584c6ea418878c5616c0fd"
          }
        },
        "9c32aea599e343f38ec42bc681c06a6b": {
          "model_module": "@jupyter-widgets/controls",
          "model_name": "HTMLModel",
          "model_module_version": "1.5.0",
          "state": {
            "_dom_classes": [],
            "_model_module": "@jupyter-widgets/controls",
            "_model_module_version": "1.5.0",
            "_model_name": "HTMLModel",
            "_view_count": null,
            "_view_module": "@jupyter-widgets/controls",
            "_view_module_version": "1.5.0",
            "_view_name": "HTMLView",
            "description": "",
            "description_tooltip": null,
            "layout": "IPY_MODEL_e2a467a5b1884ea3acfee19f9c53d66d",
            "placeholder": "​",
            "style": "IPY_MODEL_accd8deb71f6446c90d13e1736da1cc9",
            "value": "tokenizer_config.json: 100%"
          }
        },
        "4606c8eae0b64ee4bc057e88d395d304": {
          "model_module": "@jupyter-widgets/controls",
          "model_name": "FloatProgressModel",
          "model_module_version": "1.5.0",
          "state": {
            "_dom_classes": [],
            "_model_module": "@jupyter-widgets/controls",
            "_model_module_version": "1.5.0",
            "_model_name": "FloatProgressModel",
            "_view_count": null,
            "_view_module": "@jupyter-widgets/controls",
            "_view_module_version": "1.5.0",
            "_view_name": "ProgressView",
            "bar_style": "success",
            "description": "",
            "description_tooltip": null,
            "layout": "IPY_MODEL_e96e47a8acd4487888bf41957e2c550e",
            "max": 25,
            "min": 0,
            "orientation": "horizontal",
            "style": "IPY_MODEL_93a4064578dd4d9eb18f20c6572ce0e8",
            "value": 25
          }
        },
        "233039b6d84448f4bdb816de49fd7c3d": {
          "model_module": "@jupyter-widgets/controls",
          "model_name": "HTMLModel",
          "model_module_version": "1.5.0",
          "state": {
            "_dom_classes": [],
            "_model_module": "@jupyter-widgets/controls",
            "_model_module_version": "1.5.0",
            "_model_name": "HTMLModel",
            "_view_count": null,
            "_view_module": "@jupyter-widgets/controls",
            "_view_module_version": "1.5.0",
            "_view_name": "HTMLView",
            "description": "",
            "description_tooltip": null,
            "layout": "IPY_MODEL_8e613a66c38b48bf8dd00ff792f5f266",
            "placeholder": "​",
            "style": "IPY_MODEL_08e357786d2b41829f7f42e06b0b59c0",
            "value": " 25.0/25.0 [00:00&lt;00:00, 1.15kB/s]"
          }
        },
        "2ef39654d9584c6ea418878c5616c0fd": {
          "model_module": "@jupyter-widgets/base",
          "model_name": "LayoutModel",
          "model_module_version": "1.2.0",
          "state": {
            "_model_module": "@jupyter-widgets/base",
            "_model_module_version": "1.2.0",
            "_model_name": "LayoutModel",
            "_view_count": null,
            "_view_module": "@jupyter-widgets/base",
            "_view_module_version": "1.2.0",
            "_view_name": "LayoutView",
            "align_content": null,
            "align_items": null,
            "align_self": null,
            "border": null,
            "bottom": null,
            "display": null,
            "flex": null,
            "flex_flow": null,
            "grid_area": null,
            "grid_auto_columns": null,
            "grid_auto_flow": null,
            "grid_auto_rows": null,
            "grid_column": null,
            "grid_gap": null,
            "grid_row": null,
            "grid_template_areas": null,
            "grid_template_columns": null,
            "grid_template_rows": null,
            "height": null,
            "justify_content": null,
            "justify_items": null,
            "left": null,
            "margin": null,
            "max_height": null,
            "max_width": null,
            "min_height": null,
            "min_width": null,
            "object_fit": null,
            "object_position": null,
            "order": null,
            "overflow": null,
            "overflow_x": null,
            "overflow_y": null,
            "padding": null,
            "right": null,
            "top": null,
            "visibility": null,
            "width": null
          }
        },
        "e2a467a5b1884ea3acfee19f9c53d66d": {
          "model_module": "@jupyter-widgets/base",
          "model_name": "LayoutModel",
          "model_module_version": "1.2.0",
          "state": {
            "_model_module": "@jupyter-widgets/base",
            "_model_module_version": "1.2.0",
            "_model_name": "LayoutModel",
            "_view_count": null,
            "_view_module": "@jupyter-widgets/base",
            "_view_module_version": "1.2.0",
            "_view_name": "LayoutView",
            "align_content": null,
            "align_items": null,
            "align_self": null,
            "border": null,
            "bottom": null,
            "display": null,
            "flex": null,
            "flex_flow": null,
            "grid_area": null,
            "grid_auto_columns": null,
            "grid_auto_flow": null,
            "grid_auto_rows": null,
            "grid_column": null,
            "grid_gap": null,
            "grid_row": null,
            "grid_template_areas": null,
            "grid_template_columns": null,
            "grid_template_rows": null,
            "height": null,
            "justify_content": null,
            "justify_items": null,
            "left": null,
            "margin": null,
            "max_height": null,
            "max_width": null,
            "min_height": null,
            "min_width": null,
            "object_fit": null,
            "object_position": null,
            "order": null,
            "overflow": null,
            "overflow_x": null,
            "overflow_y": null,
            "padding": null,
            "right": null,
            "top": null,
            "visibility": null,
            "width": null
          }
        },
        "accd8deb71f6446c90d13e1736da1cc9": {
          "model_module": "@jupyter-widgets/controls",
          "model_name": "DescriptionStyleModel",
          "model_module_version": "1.5.0",
          "state": {
            "_model_module": "@jupyter-widgets/controls",
            "_model_module_version": "1.5.0",
            "_model_name": "DescriptionStyleModel",
            "_view_count": null,
            "_view_module": "@jupyter-widgets/base",
            "_view_module_version": "1.2.0",
            "_view_name": "StyleView",
            "description_width": ""
          }
        },
        "e96e47a8acd4487888bf41957e2c550e": {
          "model_module": "@jupyter-widgets/base",
          "model_name": "LayoutModel",
          "model_module_version": "1.2.0",
          "state": {
            "_model_module": "@jupyter-widgets/base",
            "_model_module_version": "1.2.0",
            "_model_name": "LayoutModel",
            "_view_count": null,
            "_view_module": "@jupyter-widgets/base",
            "_view_module_version": "1.2.0",
            "_view_name": "LayoutView",
            "align_content": null,
            "align_items": null,
            "align_self": null,
            "border": null,
            "bottom": null,
            "display": null,
            "flex": null,
            "flex_flow": null,
            "grid_area": null,
            "grid_auto_columns": null,
            "grid_auto_flow": null,
            "grid_auto_rows": null,
            "grid_column": null,
            "grid_gap": null,
            "grid_row": null,
            "grid_template_areas": null,
            "grid_template_columns": null,
            "grid_template_rows": null,
            "height": null,
            "justify_content": null,
            "justify_items": null,
            "left": null,
            "margin": null,
            "max_height": null,
            "max_width": null,
            "min_height": null,
            "min_width": null,
            "object_fit": null,
            "object_position": null,
            "order": null,
            "overflow": null,
            "overflow_x": null,
            "overflow_y": null,
            "padding": null,
            "right": null,
            "top": null,
            "visibility": null,
            "width": null
          }
        },
        "93a4064578dd4d9eb18f20c6572ce0e8": {
          "model_module": "@jupyter-widgets/controls",
          "model_name": "ProgressStyleModel",
          "model_module_version": "1.5.0",
          "state": {
            "_model_module": "@jupyter-widgets/controls",
            "_model_module_version": "1.5.0",
            "_model_name": "ProgressStyleModel",
            "_view_count": null,
            "_view_module": "@jupyter-widgets/base",
            "_view_module_version": "1.2.0",
            "_view_name": "StyleView",
            "bar_color": null,
            "description_width": ""
          }
        },
        "8e613a66c38b48bf8dd00ff792f5f266": {
          "model_module": "@jupyter-widgets/base",
          "model_name": "LayoutModel",
          "model_module_version": "1.2.0",
          "state": {
            "_model_module": "@jupyter-widgets/base",
            "_model_module_version": "1.2.0",
            "_model_name": "LayoutModel",
            "_view_count": null,
            "_view_module": "@jupyter-widgets/base",
            "_view_module_version": "1.2.0",
            "_view_name": "LayoutView",
            "align_content": null,
            "align_items": null,
            "align_self": null,
            "border": null,
            "bottom": null,
            "display": null,
            "flex": null,
            "flex_flow": null,
            "grid_area": null,
            "grid_auto_columns": null,
            "grid_auto_flow": null,
            "grid_auto_rows": null,
            "grid_column": null,
            "grid_gap": null,
            "grid_row": null,
            "grid_template_areas": null,
            "grid_template_columns": null,
            "grid_template_rows": null,
            "height": null,
            "justify_content": null,
            "justify_items": null,
            "left": null,
            "margin": null,
            "max_height": null,
            "max_width": null,
            "min_height": null,
            "min_width": null,
            "object_fit": null,
            "object_position": null,
            "order": null,
            "overflow": null,
            "overflow_x": null,
            "overflow_y": null,
            "padding": null,
            "right": null,
            "top": null,
            "visibility": null,
            "width": null
          }
        },
        "08e357786d2b41829f7f42e06b0b59c0": {
          "model_module": "@jupyter-widgets/controls",
          "model_name": "DescriptionStyleModel",
          "model_module_version": "1.5.0",
          "state": {
            "_model_module": "@jupyter-widgets/controls",
            "_model_module_version": "1.5.0",
            "_model_name": "DescriptionStyleModel",
            "_view_count": null,
            "_view_module": "@jupyter-widgets/base",
            "_view_module_version": "1.2.0",
            "_view_name": "StyleView",
            "description_width": ""
          }
        },
        "79cc6d1d853b45ad92a3d31b8cb0418e": {
          "model_module": "@jupyter-widgets/controls",
          "model_name": "HBoxModel",
          "model_module_version": "1.5.0",
          "state": {
            "_dom_classes": [],
            "_model_module": "@jupyter-widgets/controls",
            "_model_module_version": "1.5.0",
            "_model_name": "HBoxModel",
            "_view_count": null,
            "_view_module": "@jupyter-widgets/controls",
            "_view_module_version": "1.5.0",
            "_view_name": "HBoxView",
            "box_style": "",
            "children": [
              "IPY_MODEL_10e950b04a1d431899c084d85f2c2d3d",
              "IPY_MODEL_7112a98cc3fe4a4d9d981e5e22fc39b8",
              "IPY_MODEL_1966912d3be54c94a4b23c65f57b5fbd"
            ],
            "layout": "IPY_MODEL_29c6aa73cf5c4cd9ae731f2726153996"
          }
        },
        "10e950b04a1d431899c084d85f2c2d3d": {
          "model_module": "@jupyter-widgets/controls",
          "model_name": "HTMLModel",
          "model_module_version": "1.5.0",
          "state": {
            "_dom_classes": [],
            "_model_module": "@jupyter-widgets/controls",
            "_model_module_version": "1.5.0",
            "_model_name": "HTMLModel",
            "_view_count": null,
            "_view_module": "@jupyter-widgets/controls",
            "_view_module_version": "1.5.0",
            "_view_name": "HTMLView",
            "description": "",
            "description_tooltip": null,
            "layout": "IPY_MODEL_60892a7f0d69475ea3dde00daab9b8ed",
            "placeholder": "​",
            "style": "IPY_MODEL_df6aa2987e534e9c8a53792d24472751",
            "value": "config.json: 100%"
          }
        },
        "7112a98cc3fe4a4d9d981e5e22fc39b8": {
          "model_module": "@jupyter-widgets/controls",
          "model_name": "FloatProgressModel",
          "model_module_version": "1.5.0",
          "state": {
            "_dom_classes": [],
            "_model_module": "@jupyter-widgets/controls",
            "_model_module_version": "1.5.0",
            "_model_name": "FloatProgressModel",
            "_view_count": null,
            "_view_module": "@jupyter-widgets/controls",
            "_view_module_version": "1.5.0",
            "_view_name": "ProgressView",
            "bar_style": "success",
            "description": "",
            "description_tooltip": null,
            "layout": "IPY_MODEL_e9693673b6ca4bb9a64652d699335223",
            "max": 481,
            "min": 0,
            "orientation": "horizontal",
            "style": "IPY_MODEL_b0db72e915b74bd9939b842d52a7c765",
            "value": 481
          }
        },
        "1966912d3be54c94a4b23c65f57b5fbd": {
          "model_module": "@jupyter-widgets/controls",
          "model_name": "HTMLModel",
          "model_module_version": "1.5.0",
          "state": {
            "_dom_classes": [],
            "_model_module": "@jupyter-widgets/controls",
            "_model_module_version": "1.5.0",
            "_model_name": "HTMLModel",
            "_view_count": null,
            "_view_module": "@jupyter-widgets/controls",
            "_view_module_version": "1.5.0",
            "_view_name": "HTMLView",
            "description": "",
            "description_tooltip": null,
            "layout": "IPY_MODEL_c73c6643707a4eb48b5f8523ee0b4903",
            "placeholder": "​",
            "style": "IPY_MODEL_7f861508983a40a997fac88ab10f6d1f",
            "value": " 481/481 [00:00&lt;00:00, 21.6kB/s]"
          }
        },
        "29c6aa73cf5c4cd9ae731f2726153996": {
          "model_module": "@jupyter-widgets/base",
          "model_name": "LayoutModel",
          "model_module_version": "1.2.0",
          "state": {
            "_model_module": "@jupyter-widgets/base",
            "_model_module_version": "1.2.0",
            "_model_name": "LayoutModel",
            "_view_count": null,
            "_view_module": "@jupyter-widgets/base",
            "_view_module_version": "1.2.0",
            "_view_name": "LayoutView",
            "align_content": null,
            "align_items": null,
            "align_self": null,
            "border": null,
            "bottom": null,
            "display": null,
            "flex": null,
            "flex_flow": null,
            "grid_area": null,
            "grid_auto_columns": null,
            "grid_auto_flow": null,
            "grid_auto_rows": null,
            "grid_column": null,
            "grid_gap": null,
            "grid_row": null,
            "grid_template_areas": null,
            "grid_template_columns": null,
            "grid_template_rows": null,
            "height": null,
            "justify_content": null,
            "justify_items": null,
            "left": null,
            "margin": null,
            "max_height": null,
            "max_width": null,
            "min_height": null,
            "min_width": null,
            "object_fit": null,
            "object_position": null,
            "order": null,
            "overflow": null,
            "overflow_x": null,
            "overflow_y": null,
            "padding": null,
            "right": null,
            "top": null,
            "visibility": null,
            "width": null
          }
        },
        "60892a7f0d69475ea3dde00daab9b8ed": {
          "model_module": "@jupyter-widgets/base",
          "model_name": "LayoutModel",
          "model_module_version": "1.2.0",
          "state": {
            "_model_module": "@jupyter-widgets/base",
            "_model_module_version": "1.2.0",
            "_model_name": "LayoutModel",
            "_view_count": null,
            "_view_module": "@jupyter-widgets/base",
            "_view_module_version": "1.2.0",
            "_view_name": "LayoutView",
            "align_content": null,
            "align_items": null,
            "align_self": null,
            "border": null,
            "bottom": null,
            "display": null,
            "flex": null,
            "flex_flow": null,
            "grid_area": null,
            "grid_auto_columns": null,
            "grid_auto_flow": null,
            "grid_auto_rows": null,
            "grid_column": null,
            "grid_gap": null,
            "grid_row": null,
            "grid_template_areas": null,
            "grid_template_columns": null,
            "grid_template_rows": null,
            "height": null,
            "justify_content": null,
            "justify_items": null,
            "left": null,
            "margin": null,
            "max_height": null,
            "max_width": null,
            "min_height": null,
            "min_width": null,
            "object_fit": null,
            "object_position": null,
            "order": null,
            "overflow": null,
            "overflow_x": null,
            "overflow_y": null,
            "padding": null,
            "right": null,
            "top": null,
            "visibility": null,
            "width": null
          }
        },
        "df6aa2987e534e9c8a53792d24472751": {
          "model_module": "@jupyter-widgets/controls",
          "model_name": "DescriptionStyleModel",
          "model_module_version": "1.5.0",
          "state": {
            "_model_module": "@jupyter-widgets/controls",
            "_model_module_version": "1.5.0",
            "_model_name": "DescriptionStyleModel",
            "_view_count": null,
            "_view_module": "@jupyter-widgets/base",
            "_view_module_version": "1.2.0",
            "_view_name": "StyleView",
            "description_width": ""
          }
        },
        "e9693673b6ca4bb9a64652d699335223": {
          "model_module": "@jupyter-widgets/base",
          "model_name": "LayoutModel",
          "model_module_version": "1.2.0",
          "state": {
            "_model_module": "@jupyter-widgets/base",
            "_model_module_version": "1.2.0",
            "_model_name": "LayoutModel",
            "_view_count": null,
            "_view_module": "@jupyter-widgets/base",
            "_view_module_version": "1.2.0",
            "_view_name": "LayoutView",
            "align_content": null,
            "align_items": null,
            "align_self": null,
            "border": null,
            "bottom": null,
            "display": null,
            "flex": null,
            "flex_flow": null,
            "grid_area": null,
            "grid_auto_columns": null,
            "grid_auto_flow": null,
            "grid_auto_rows": null,
            "grid_column": null,
            "grid_gap": null,
            "grid_row": null,
            "grid_template_areas": null,
            "grid_template_columns": null,
            "grid_template_rows": null,
            "height": null,
            "justify_content": null,
            "justify_items": null,
            "left": null,
            "margin": null,
            "max_height": null,
            "max_width": null,
            "min_height": null,
            "min_width": null,
            "object_fit": null,
            "object_position": null,
            "order": null,
            "overflow": null,
            "overflow_x": null,
            "overflow_y": null,
            "padding": null,
            "right": null,
            "top": null,
            "visibility": null,
            "width": null
          }
        },
        "b0db72e915b74bd9939b842d52a7c765": {
          "model_module": "@jupyter-widgets/controls",
          "model_name": "ProgressStyleModel",
          "model_module_version": "1.5.0",
          "state": {
            "_model_module": "@jupyter-widgets/controls",
            "_model_module_version": "1.5.0",
            "_model_name": "ProgressStyleModel",
            "_view_count": null,
            "_view_module": "@jupyter-widgets/base",
            "_view_module_version": "1.2.0",
            "_view_name": "StyleView",
            "bar_color": null,
            "description_width": ""
          }
        },
        "c73c6643707a4eb48b5f8523ee0b4903": {
          "model_module": "@jupyter-widgets/base",
          "model_name": "LayoutModel",
          "model_module_version": "1.2.0",
          "state": {
            "_model_module": "@jupyter-widgets/base",
            "_model_module_version": "1.2.0",
            "_model_name": "LayoutModel",
            "_view_count": null,
            "_view_module": "@jupyter-widgets/base",
            "_view_module_version": "1.2.0",
            "_view_name": "LayoutView",
            "align_content": null,
            "align_items": null,
            "align_self": null,
            "border": null,
            "bottom": null,
            "display": null,
            "flex": null,
            "flex_flow": null,
            "grid_area": null,
            "grid_auto_columns": null,
            "grid_auto_flow": null,
            "grid_auto_rows": null,
            "grid_column": null,
            "grid_gap": null,
            "grid_row": null,
            "grid_template_areas": null,
            "grid_template_columns": null,
            "grid_template_rows": null,
            "height": null,
            "justify_content": null,
            "justify_items": null,
            "left": null,
            "margin": null,
            "max_height": null,
            "max_width": null,
            "min_height": null,
            "min_width": null,
            "object_fit": null,
            "object_position": null,
            "order": null,
            "overflow": null,
            "overflow_x": null,
            "overflow_y": null,
            "padding": null,
            "right": null,
            "top": null,
            "visibility": null,
            "width": null
          }
        },
        "7f861508983a40a997fac88ab10f6d1f": {
          "model_module": "@jupyter-widgets/controls",
          "model_name": "DescriptionStyleModel",
          "model_module_version": "1.5.0",
          "state": {
            "_model_module": "@jupyter-widgets/controls",
            "_model_module_version": "1.5.0",
            "_model_name": "DescriptionStyleModel",
            "_view_count": null,
            "_view_module": "@jupyter-widgets/base",
            "_view_module_version": "1.2.0",
            "_view_name": "StyleView",
            "description_width": ""
          }
        },
        "ba2a9139f5fb43a6aed0cb7e9c985958": {
          "model_module": "@jupyter-widgets/controls",
          "model_name": "HBoxModel",
          "model_module_version": "1.5.0",
          "state": {
            "_dom_classes": [],
            "_model_module": "@jupyter-widgets/controls",
            "_model_module_version": "1.5.0",
            "_model_name": "HBoxModel",
            "_view_count": null,
            "_view_module": "@jupyter-widgets/controls",
            "_view_module_version": "1.5.0",
            "_view_name": "HBoxView",
            "box_style": "",
            "children": [
              "IPY_MODEL_6844b81724c747709467b3c56e34e39b",
              "IPY_MODEL_2b9b7645f94649fc947f0711f7743328",
              "IPY_MODEL_8af50a1485e14240987975b93db1fbce"
            ],
            "layout": "IPY_MODEL_32a758e9454849aea60d0b404f3b32c9"
          }
        },
        "6844b81724c747709467b3c56e34e39b": {
          "model_module": "@jupyter-widgets/controls",
          "model_name": "HTMLModel",
          "model_module_version": "1.5.0",
          "state": {
            "_dom_classes": [],
            "_model_module": "@jupyter-widgets/controls",
            "_model_module_version": "1.5.0",
            "_model_name": "HTMLModel",
            "_view_count": null,
            "_view_module": "@jupyter-widgets/controls",
            "_view_module_version": "1.5.0",
            "_view_name": "HTMLView",
            "description": "",
            "description_tooltip": null,
            "layout": "IPY_MODEL_769719cfd87043cc9de35ae2f6aeb6ed",
            "placeholder": "​",
            "style": "IPY_MODEL_f29093444b904ff39c4a367382eb60c1",
            "value": "vocab.json: 100%"
          }
        },
        "2b9b7645f94649fc947f0711f7743328": {
          "model_module": "@jupyter-widgets/controls",
          "model_name": "FloatProgressModel",
          "model_module_version": "1.5.0",
          "state": {
            "_dom_classes": [],
            "_model_module": "@jupyter-widgets/controls",
            "_model_module_version": "1.5.0",
            "_model_name": "FloatProgressModel",
            "_view_count": null,
            "_view_module": "@jupyter-widgets/controls",
            "_view_module_version": "1.5.0",
            "_view_name": "ProgressView",
            "bar_style": "success",
            "description": "",
            "description_tooltip": null,
            "layout": "IPY_MODEL_ec553541732249959539fe12593c8545",
            "max": 898823,
            "min": 0,
            "orientation": "horizontal",
            "style": "IPY_MODEL_87f2e846b71f483aa049d34c48bdb1bf",
            "value": 898823
          }
        },
        "8af50a1485e14240987975b93db1fbce": {
          "model_module": "@jupyter-widgets/controls",
          "model_name": "HTMLModel",
          "model_module_version": "1.5.0",
          "state": {
            "_dom_classes": [],
            "_model_module": "@jupyter-widgets/controls",
            "_model_module_version": "1.5.0",
            "_model_name": "HTMLModel",
            "_view_count": null,
            "_view_module": "@jupyter-widgets/controls",
            "_view_module_version": "1.5.0",
            "_view_name": "HTMLView",
            "description": "",
            "description_tooltip": null,
            "layout": "IPY_MODEL_75455360981f46b88b96aac467d780ac",
            "placeholder": "​",
            "style": "IPY_MODEL_8265b2527a444c7d84ba8341e40ae76a",
            "value": " 899k/899k [00:00&lt;00:00, 9.30MB/s]"
          }
        },
        "32a758e9454849aea60d0b404f3b32c9": {
          "model_module": "@jupyter-widgets/base",
          "model_name": "LayoutModel",
          "model_module_version": "1.2.0",
          "state": {
            "_model_module": "@jupyter-widgets/base",
            "_model_module_version": "1.2.0",
            "_model_name": "LayoutModel",
            "_view_count": null,
            "_view_module": "@jupyter-widgets/base",
            "_view_module_version": "1.2.0",
            "_view_name": "LayoutView",
            "align_content": null,
            "align_items": null,
            "align_self": null,
            "border": null,
            "bottom": null,
            "display": null,
            "flex": null,
            "flex_flow": null,
            "grid_area": null,
            "grid_auto_columns": null,
            "grid_auto_flow": null,
            "grid_auto_rows": null,
            "grid_column": null,
            "grid_gap": null,
            "grid_row": null,
            "grid_template_areas": null,
            "grid_template_columns": null,
            "grid_template_rows": null,
            "height": null,
            "justify_content": null,
            "justify_items": null,
            "left": null,
            "margin": null,
            "max_height": null,
            "max_width": null,
            "min_height": null,
            "min_width": null,
            "object_fit": null,
            "object_position": null,
            "order": null,
            "overflow": null,
            "overflow_x": null,
            "overflow_y": null,
            "padding": null,
            "right": null,
            "top": null,
            "visibility": null,
            "width": null
          }
        },
        "769719cfd87043cc9de35ae2f6aeb6ed": {
          "model_module": "@jupyter-widgets/base",
          "model_name": "LayoutModel",
          "model_module_version": "1.2.0",
          "state": {
            "_model_module": "@jupyter-widgets/base",
            "_model_module_version": "1.2.0",
            "_model_name": "LayoutModel",
            "_view_count": null,
            "_view_module": "@jupyter-widgets/base",
            "_view_module_version": "1.2.0",
            "_view_name": "LayoutView",
            "align_content": null,
            "align_items": null,
            "align_self": null,
            "border": null,
            "bottom": null,
            "display": null,
            "flex": null,
            "flex_flow": null,
            "grid_area": null,
            "grid_auto_columns": null,
            "grid_auto_flow": null,
            "grid_auto_rows": null,
            "grid_column": null,
            "grid_gap": null,
            "grid_row": null,
            "grid_template_areas": null,
            "grid_template_columns": null,
            "grid_template_rows": null,
            "height": null,
            "justify_content": null,
            "justify_items": null,
            "left": null,
            "margin": null,
            "max_height": null,
            "max_width": null,
            "min_height": null,
            "min_width": null,
            "object_fit": null,
            "object_position": null,
            "order": null,
            "overflow": null,
            "overflow_x": null,
            "overflow_y": null,
            "padding": null,
            "right": null,
            "top": null,
            "visibility": null,
            "width": null
          }
        },
        "f29093444b904ff39c4a367382eb60c1": {
          "model_module": "@jupyter-widgets/controls",
          "model_name": "DescriptionStyleModel",
          "model_module_version": "1.5.0",
          "state": {
            "_model_module": "@jupyter-widgets/controls",
            "_model_module_version": "1.5.0",
            "_model_name": "DescriptionStyleModel",
            "_view_count": null,
            "_view_module": "@jupyter-widgets/base",
            "_view_module_version": "1.2.0",
            "_view_name": "StyleView",
            "description_width": ""
          }
        },
        "ec553541732249959539fe12593c8545": {
          "model_module": "@jupyter-widgets/base",
          "model_name": "LayoutModel",
          "model_module_version": "1.2.0",
          "state": {
            "_model_module": "@jupyter-widgets/base",
            "_model_module_version": "1.2.0",
            "_model_name": "LayoutModel",
            "_view_count": null,
            "_view_module": "@jupyter-widgets/base",
            "_view_module_version": "1.2.0",
            "_view_name": "LayoutView",
            "align_content": null,
            "align_items": null,
            "align_self": null,
            "border": null,
            "bottom": null,
            "display": null,
            "flex": null,
            "flex_flow": null,
            "grid_area": null,
            "grid_auto_columns": null,
            "grid_auto_flow": null,
            "grid_auto_rows": null,
            "grid_column": null,
            "grid_gap": null,
            "grid_row": null,
            "grid_template_areas": null,
            "grid_template_columns": null,
            "grid_template_rows": null,
            "height": null,
            "justify_content": null,
            "justify_items": null,
            "left": null,
            "margin": null,
            "max_height": null,
            "max_width": null,
            "min_height": null,
            "min_width": null,
            "object_fit": null,
            "object_position": null,
            "order": null,
            "overflow": null,
            "overflow_x": null,
            "overflow_y": null,
            "padding": null,
            "right": null,
            "top": null,
            "visibility": null,
            "width": null
          }
        },
        "87f2e846b71f483aa049d34c48bdb1bf": {
          "model_module": "@jupyter-widgets/controls",
          "model_name": "ProgressStyleModel",
          "model_module_version": "1.5.0",
          "state": {
            "_model_module": "@jupyter-widgets/controls",
            "_model_module_version": "1.5.0",
            "_model_name": "ProgressStyleModel",
            "_view_count": null,
            "_view_module": "@jupyter-widgets/base",
            "_view_module_version": "1.2.0",
            "_view_name": "StyleView",
            "bar_color": null,
            "description_width": ""
          }
        },
        "75455360981f46b88b96aac467d780ac": {
          "model_module": "@jupyter-widgets/base",
          "model_name": "LayoutModel",
          "model_module_version": "1.2.0",
          "state": {
            "_model_module": "@jupyter-widgets/base",
            "_model_module_version": "1.2.0",
            "_model_name": "LayoutModel",
            "_view_count": null,
            "_view_module": "@jupyter-widgets/base",
            "_view_module_version": "1.2.0",
            "_view_name": "LayoutView",
            "align_content": null,
            "align_items": null,
            "align_self": null,
            "border": null,
            "bottom": null,
            "display": null,
            "flex": null,
            "flex_flow": null,
            "grid_area": null,
            "grid_auto_columns": null,
            "grid_auto_flow": null,
            "grid_auto_rows": null,
            "grid_column": null,
            "grid_gap": null,
            "grid_row": null,
            "grid_template_areas": null,
            "grid_template_columns": null,
            "grid_template_rows": null,
            "height": null,
            "justify_content": null,
            "justify_items": null,
            "left": null,
            "margin": null,
            "max_height": null,
            "max_width": null,
            "min_height": null,
            "min_width": null,
            "object_fit": null,
            "object_position": null,
            "order": null,
            "overflow": null,
            "overflow_x": null,
            "overflow_y": null,
            "padding": null,
            "right": null,
            "top": null,
            "visibility": null,
            "width": null
          }
        },
        "8265b2527a444c7d84ba8341e40ae76a": {
          "model_module": "@jupyter-widgets/controls",
          "model_name": "DescriptionStyleModel",
          "model_module_version": "1.5.0",
          "state": {
            "_model_module": "@jupyter-widgets/controls",
            "_model_module_version": "1.5.0",
            "_model_name": "DescriptionStyleModel",
            "_view_count": null,
            "_view_module": "@jupyter-widgets/base",
            "_view_module_version": "1.2.0",
            "_view_name": "StyleView",
            "description_width": ""
          }
        },
        "c4de395d0a24420cb33f7c3bca5c39de": {
          "model_module": "@jupyter-widgets/controls",
          "model_name": "HBoxModel",
          "model_module_version": "1.5.0",
          "state": {
            "_dom_classes": [],
            "_model_module": "@jupyter-widgets/controls",
            "_model_module_version": "1.5.0",
            "_model_name": "HBoxModel",
            "_view_count": null,
            "_view_module": "@jupyter-widgets/controls",
            "_view_module_version": "1.5.0",
            "_view_name": "HBoxView",
            "box_style": "",
            "children": [
              "IPY_MODEL_a7f876e4b5fa403f9e4b2fb04ee33037",
              "IPY_MODEL_f59da1e1144044998d93fc6d2e958163",
              "IPY_MODEL_6a5992868fce461a85c8564615914d4a"
            ],
            "layout": "IPY_MODEL_8b3c3570e5e24af0bf4db81286261168"
          }
        },
        "a7f876e4b5fa403f9e4b2fb04ee33037": {
          "model_module": "@jupyter-widgets/controls",
          "model_name": "HTMLModel",
          "model_module_version": "1.5.0",
          "state": {
            "_dom_classes": [],
            "_model_module": "@jupyter-widgets/controls",
            "_model_module_version": "1.5.0",
            "_model_name": "HTMLModel",
            "_view_count": null,
            "_view_module": "@jupyter-widgets/controls",
            "_view_module_version": "1.5.0",
            "_view_name": "HTMLView",
            "description": "",
            "description_tooltip": null,
            "layout": "IPY_MODEL_9c13b15c503942ee868f0fb417dfaf93",
            "placeholder": "​",
            "style": "IPY_MODEL_ef391ecd35a14e4685c736f684da1bb1",
            "value": "merges.txt: 100%"
          }
        },
        "f59da1e1144044998d93fc6d2e958163": {
          "model_module": "@jupyter-widgets/controls",
          "model_name": "FloatProgressModel",
          "model_module_version": "1.5.0",
          "state": {
            "_dom_classes": [],
            "_model_module": "@jupyter-widgets/controls",
            "_model_module_version": "1.5.0",
            "_model_name": "FloatProgressModel",
            "_view_count": null,
            "_view_module": "@jupyter-widgets/controls",
            "_view_module_version": "1.5.0",
            "_view_name": "ProgressView",
            "bar_style": "success",
            "description": "",
            "description_tooltip": null,
            "layout": "IPY_MODEL_6d7f9d1b88f84830a8733c23671d9452",
            "max": 456318,
            "min": 0,
            "orientation": "horizontal",
            "style": "IPY_MODEL_f89077db035f4897a224dd3b988b06dd",
            "value": 456318
          }
        },
        "6a5992868fce461a85c8564615914d4a": {
          "model_module": "@jupyter-widgets/controls",
          "model_name": "HTMLModel",
          "model_module_version": "1.5.0",
          "state": {
            "_dom_classes": [],
            "_model_module": "@jupyter-widgets/controls",
            "_model_module_version": "1.5.0",
            "_model_name": "HTMLModel",
            "_view_count": null,
            "_view_module": "@jupyter-widgets/controls",
            "_view_module_version": "1.5.0",
            "_view_name": "HTMLView",
            "description": "",
            "description_tooltip": null,
            "layout": "IPY_MODEL_acbd14550bcd42f184b4121ec8024c50",
            "placeholder": "​",
            "style": "IPY_MODEL_cf34748aeb304f59ac72f249446cd19c",
            "value": " 456k/456k [00:00&lt;00:00, 3.26MB/s]"
          }
        },
        "8b3c3570e5e24af0bf4db81286261168": {
          "model_module": "@jupyter-widgets/base",
          "model_name": "LayoutModel",
          "model_module_version": "1.2.0",
          "state": {
            "_model_module": "@jupyter-widgets/base",
            "_model_module_version": "1.2.0",
            "_model_name": "LayoutModel",
            "_view_count": null,
            "_view_module": "@jupyter-widgets/base",
            "_view_module_version": "1.2.0",
            "_view_name": "LayoutView",
            "align_content": null,
            "align_items": null,
            "align_self": null,
            "border": null,
            "bottom": null,
            "display": null,
            "flex": null,
            "flex_flow": null,
            "grid_area": null,
            "grid_auto_columns": null,
            "grid_auto_flow": null,
            "grid_auto_rows": null,
            "grid_column": null,
            "grid_gap": null,
            "grid_row": null,
            "grid_template_areas": null,
            "grid_template_columns": null,
            "grid_template_rows": null,
            "height": null,
            "justify_content": null,
            "justify_items": null,
            "left": null,
            "margin": null,
            "max_height": null,
            "max_width": null,
            "min_height": null,
            "min_width": null,
            "object_fit": null,
            "object_position": null,
            "order": null,
            "overflow": null,
            "overflow_x": null,
            "overflow_y": null,
            "padding": null,
            "right": null,
            "top": null,
            "visibility": null,
            "width": null
          }
        },
        "9c13b15c503942ee868f0fb417dfaf93": {
          "model_module": "@jupyter-widgets/base",
          "model_name": "LayoutModel",
          "model_module_version": "1.2.0",
          "state": {
            "_model_module": "@jupyter-widgets/base",
            "_model_module_version": "1.2.0",
            "_model_name": "LayoutModel",
            "_view_count": null,
            "_view_module": "@jupyter-widgets/base",
            "_view_module_version": "1.2.0",
            "_view_name": "LayoutView",
            "align_content": null,
            "align_items": null,
            "align_self": null,
            "border": null,
            "bottom": null,
            "display": null,
            "flex": null,
            "flex_flow": null,
            "grid_area": null,
            "grid_auto_columns": null,
            "grid_auto_flow": null,
            "grid_auto_rows": null,
            "grid_column": null,
            "grid_gap": null,
            "grid_row": null,
            "grid_template_areas": null,
            "grid_template_columns": null,
            "grid_template_rows": null,
            "height": null,
            "justify_content": null,
            "justify_items": null,
            "left": null,
            "margin": null,
            "max_height": null,
            "max_width": null,
            "min_height": null,
            "min_width": null,
            "object_fit": null,
            "object_position": null,
            "order": null,
            "overflow": null,
            "overflow_x": null,
            "overflow_y": null,
            "padding": null,
            "right": null,
            "top": null,
            "visibility": null,
            "width": null
          }
        },
        "ef391ecd35a14e4685c736f684da1bb1": {
          "model_module": "@jupyter-widgets/controls",
          "model_name": "DescriptionStyleModel",
          "model_module_version": "1.5.0",
          "state": {
            "_model_module": "@jupyter-widgets/controls",
            "_model_module_version": "1.5.0",
            "_model_name": "DescriptionStyleModel",
            "_view_count": null,
            "_view_module": "@jupyter-widgets/base",
            "_view_module_version": "1.2.0",
            "_view_name": "StyleView",
            "description_width": ""
          }
        },
        "6d7f9d1b88f84830a8733c23671d9452": {
          "model_module": "@jupyter-widgets/base",
          "model_name": "LayoutModel",
          "model_module_version": "1.2.0",
          "state": {
            "_model_module": "@jupyter-widgets/base",
            "_model_module_version": "1.2.0",
            "_model_name": "LayoutModel",
            "_view_count": null,
            "_view_module": "@jupyter-widgets/base",
            "_view_module_version": "1.2.0",
            "_view_name": "LayoutView",
            "align_content": null,
            "align_items": null,
            "align_self": null,
            "border": null,
            "bottom": null,
            "display": null,
            "flex": null,
            "flex_flow": null,
            "grid_area": null,
            "grid_auto_columns": null,
            "grid_auto_flow": null,
            "grid_auto_rows": null,
            "grid_column": null,
            "grid_gap": null,
            "grid_row": null,
            "grid_template_areas": null,
            "grid_template_columns": null,
            "grid_template_rows": null,
            "height": null,
            "justify_content": null,
            "justify_items": null,
            "left": null,
            "margin": null,
            "max_height": null,
            "max_width": null,
            "min_height": null,
            "min_width": null,
            "object_fit": null,
            "object_position": null,
            "order": null,
            "overflow": null,
            "overflow_x": null,
            "overflow_y": null,
            "padding": null,
            "right": null,
            "top": null,
            "visibility": null,
            "width": null
          }
        },
        "f89077db035f4897a224dd3b988b06dd": {
          "model_module": "@jupyter-widgets/controls",
          "model_name": "ProgressStyleModel",
          "model_module_version": "1.5.0",
          "state": {
            "_model_module": "@jupyter-widgets/controls",
            "_model_module_version": "1.5.0",
            "_model_name": "ProgressStyleModel",
            "_view_count": null,
            "_view_module": "@jupyter-widgets/base",
            "_view_module_version": "1.2.0",
            "_view_name": "StyleView",
            "bar_color": null,
            "description_width": ""
          }
        },
        "acbd14550bcd42f184b4121ec8024c50": {
          "model_module": "@jupyter-widgets/base",
          "model_name": "LayoutModel",
          "model_module_version": "1.2.0",
          "state": {
            "_model_module": "@jupyter-widgets/base",
            "_model_module_version": "1.2.0",
            "_model_name": "LayoutModel",
            "_view_count": null,
            "_view_module": "@jupyter-widgets/base",
            "_view_module_version": "1.2.0",
            "_view_name": "LayoutView",
            "align_content": null,
            "align_items": null,
            "align_self": null,
            "border": null,
            "bottom": null,
            "display": null,
            "flex": null,
            "flex_flow": null,
            "grid_area": null,
            "grid_auto_columns": null,
            "grid_auto_flow": null,
            "grid_auto_rows": null,
            "grid_column": null,
            "grid_gap": null,
            "grid_row": null,
            "grid_template_areas": null,
            "grid_template_columns": null,
            "grid_template_rows": null,
            "height": null,
            "justify_content": null,
            "justify_items": null,
            "left": null,
            "margin": null,
            "max_height": null,
            "max_width": null,
            "min_height": null,
            "min_width": null,
            "object_fit": null,
            "object_position": null,
            "order": null,
            "overflow": null,
            "overflow_x": null,
            "overflow_y": null,
            "padding": null,
            "right": null,
            "top": null,
            "visibility": null,
            "width": null
          }
        },
        "cf34748aeb304f59ac72f249446cd19c": {
          "model_module": "@jupyter-widgets/controls",
          "model_name": "DescriptionStyleModel",
          "model_module_version": "1.5.0",
          "state": {
            "_model_module": "@jupyter-widgets/controls",
            "_model_module_version": "1.5.0",
            "_model_name": "DescriptionStyleModel",
            "_view_count": null,
            "_view_module": "@jupyter-widgets/base",
            "_view_module_version": "1.2.0",
            "_view_name": "StyleView",
            "description_width": ""
          }
        },
        "97edec489c7047d48b243353b1681fc4": {
          "model_module": "@jupyter-widgets/controls",
          "model_name": "HBoxModel",
          "model_module_version": "1.5.0",
          "state": {
            "_dom_classes": [],
            "_model_module": "@jupyter-widgets/controls",
            "_model_module_version": "1.5.0",
            "_model_name": "HBoxModel",
            "_view_count": null,
            "_view_module": "@jupyter-widgets/controls",
            "_view_module_version": "1.5.0",
            "_view_name": "HBoxView",
            "box_style": "",
            "children": [
              "IPY_MODEL_558ba44d7f3142689e04b95c5b813316",
              "IPY_MODEL_c3c2a9d561154784b60b72f1e10cbf5b",
              "IPY_MODEL_67562bbee4ee416988191fe829f87855"
            ],
            "layout": "IPY_MODEL_25756fab1ea24520870b41bf54047376"
          }
        },
        "558ba44d7f3142689e04b95c5b813316": {
          "model_module": "@jupyter-widgets/controls",
          "model_name": "HTMLModel",
          "model_module_version": "1.5.0",
          "state": {
            "_dom_classes": [],
            "_model_module": "@jupyter-widgets/controls",
            "_model_module_version": "1.5.0",
            "_model_name": "HTMLModel",
            "_view_count": null,
            "_view_module": "@jupyter-widgets/controls",
            "_view_module_version": "1.5.0",
            "_view_name": "HTMLView",
            "description": "",
            "description_tooltip": null,
            "layout": "IPY_MODEL_a9d97d0ff43d40e08aca5773e7f1b82e",
            "placeholder": "​",
            "style": "IPY_MODEL_479963b67e904690929cdfc9bbc2c0b8",
            "value": "tokenizer.json: 100%"
          }
        },
        "c3c2a9d561154784b60b72f1e10cbf5b": {
          "model_module": "@jupyter-widgets/controls",
          "model_name": "FloatProgressModel",
          "model_module_version": "1.5.0",
          "state": {
            "_dom_classes": [],
            "_model_module": "@jupyter-widgets/controls",
            "_model_module_version": "1.5.0",
            "_model_name": "FloatProgressModel",
            "_view_count": null,
            "_view_module": "@jupyter-widgets/controls",
            "_view_module_version": "1.5.0",
            "_view_name": "ProgressView",
            "bar_style": "success",
            "description": "",
            "description_tooltip": null,
            "layout": "IPY_MODEL_63a5223f40564baf8f9c5da4efb85cfc",
            "max": 1355863,
            "min": 0,
            "orientation": "horizontal",
            "style": "IPY_MODEL_248f3ae3393143dcad8c7d3554038bec",
            "value": 1355863
          }
        },
        "67562bbee4ee416988191fe829f87855": {
          "model_module": "@jupyter-widgets/controls",
          "model_name": "HTMLModel",
          "model_module_version": "1.5.0",
          "state": {
            "_dom_classes": [],
            "_model_module": "@jupyter-widgets/controls",
            "_model_module_version": "1.5.0",
            "_model_name": "HTMLModel",
            "_view_count": null,
            "_view_module": "@jupyter-widgets/controls",
            "_view_module_version": "1.5.0",
            "_view_name": "HTMLView",
            "description": "",
            "description_tooltip": null,
            "layout": "IPY_MODEL_0b316d2044ab478bb1ae2468ce53f0c3",
            "placeholder": "​",
            "style": "IPY_MODEL_5de672a5bea543fd8c70e1996522af1b",
            "value": " 1.36M/1.36M [00:00&lt;00:00, 3.99MB/s]"
          }
        },
        "25756fab1ea24520870b41bf54047376": {
          "model_module": "@jupyter-widgets/base",
          "model_name": "LayoutModel",
          "model_module_version": "1.2.0",
          "state": {
            "_model_module": "@jupyter-widgets/base",
            "_model_module_version": "1.2.0",
            "_model_name": "LayoutModel",
            "_view_count": null,
            "_view_module": "@jupyter-widgets/base",
            "_view_module_version": "1.2.0",
            "_view_name": "LayoutView",
            "align_content": null,
            "align_items": null,
            "align_self": null,
            "border": null,
            "bottom": null,
            "display": null,
            "flex": null,
            "flex_flow": null,
            "grid_area": null,
            "grid_auto_columns": null,
            "grid_auto_flow": null,
            "grid_auto_rows": null,
            "grid_column": null,
            "grid_gap": null,
            "grid_row": null,
            "grid_template_areas": null,
            "grid_template_columns": null,
            "grid_template_rows": null,
            "height": null,
            "justify_content": null,
            "justify_items": null,
            "left": null,
            "margin": null,
            "max_height": null,
            "max_width": null,
            "min_height": null,
            "min_width": null,
            "object_fit": null,
            "object_position": null,
            "order": null,
            "overflow": null,
            "overflow_x": null,
            "overflow_y": null,
            "padding": null,
            "right": null,
            "top": null,
            "visibility": null,
            "width": null
          }
        },
        "a9d97d0ff43d40e08aca5773e7f1b82e": {
          "model_module": "@jupyter-widgets/base",
          "model_name": "LayoutModel",
          "model_module_version": "1.2.0",
          "state": {
            "_model_module": "@jupyter-widgets/base",
            "_model_module_version": "1.2.0",
            "_model_name": "LayoutModel",
            "_view_count": null,
            "_view_module": "@jupyter-widgets/base",
            "_view_module_version": "1.2.0",
            "_view_name": "LayoutView",
            "align_content": null,
            "align_items": null,
            "align_self": null,
            "border": null,
            "bottom": null,
            "display": null,
            "flex": null,
            "flex_flow": null,
            "grid_area": null,
            "grid_auto_columns": null,
            "grid_auto_flow": null,
            "grid_auto_rows": null,
            "grid_column": null,
            "grid_gap": null,
            "grid_row": null,
            "grid_template_areas": null,
            "grid_template_columns": null,
            "grid_template_rows": null,
            "height": null,
            "justify_content": null,
            "justify_items": null,
            "left": null,
            "margin": null,
            "max_height": null,
            "max_width": null,
            "min_height": null,
            "min_width": null,
            "object_fit": null,
            "object_position": null,
            "order": null,
            "overflow": null,
            "overflow_x": null,
            "overflow_y": null,
            "padding": null,
            "right": null,
            "top": null,
            "visibility": null,
            "width": null
          }
        },
        "479963b67e904690929cdfc9bbc2c0b8": {
          "model_module": "@jupyter-widgets/controls",
          "model_name": "DescriptionStyleModel",
          "model_module_version": "1.5.0",
          "state": {
            "_model_module": "@jupyter-widgets/controls",
            "_model_module_version": "1.5.0",
            "_model_name": "DescriptionStyleModel",
            "_view_count": null,
            "_view_module": "@jupyter-widgets/base",
            "_view_module_version": "1.2.0",
            "_view_name": "StyleView",
            "description_width": ""
          }
        },
        "63a5223f40564baf8f9c5da4efb85cfc": {
          "model_module": "@jupyter-widgets/base",
          "model_name": "LayoutModel",
          "model_module_version": "1.2.0",
          "state": {
            "_model_module": "@jupyter-widgets/base",
            "_model_module_version": "1.2.0",
            "_model_name": "LayoutModel",
            "_view_count": null,
            "_view_module": "@jupyter-widgets/base",
            "_view_module_version": "1.2.0",
            "_view_name": "LayoutView",
            "align_content": null,
            "align_items": null,
            "align_self": null,
            "border": null,
            "bottom": null,
            "display": null,
            "flex": null,
            "flex_flow": null,
            "grid_area": null,
            "grid_auto_columns": null,
            "grid_auto_flow": null,
            "grid_auto_rows": null,
            "grid_column": null,
            "grid_gap": null,
            "grid_row": null,
            "grid_template_areas": null,
            "grid_template_columns": null,
            "grid_template_rows": null,
            "height": null,
            "justify_content": null,
            "justify_items": null,
            "left": null,
            "margin": null,
            "max_height": null,
            "max_width": null,
            "min_height": null,
            "min_width": null,
            "object_fit": null,
            "object_position": null,
            "order": null,
            "overflow": null,
            "overflow_x": null,
            "overflow_y": null,
            "padding": null,
            "right": null,
            "top": null,
            "visibility": null,
            "width": null
          }
        },
        "248f3ae3393143dcad8c7d3554038bec": {
          "model_module": "@jupyter-widgets/controls",
          "model_name": "ProgressStyleModel",
          "model_module_version": "1.5.0",
          "state": {
            "_model_module": "@jupyter-widgets/controls",
            "_model_module_version": "1.5.0",
            "_model_name": "ProgressStyleModel",
            "_view_count": null,
            "_view_module": "@jupyter-widgets/base",
            "_view_module_version": "1.2.0",
            "_view_name": "StyleView",
            "bar_color": null,
            "description_width": ""
          }
        },
        "0b316d2044ab478bb1ae2468ce53f0c3": {
          "model_module": "@jupyter-widgets/base",
          "model_name": "LayoutModel",
          "model_module_version": "1.2.0",
          "state": {
            "_model_module": "@jupyter-widgets/base",
            "_model_module_version": "1.2.0",
            "_model_name": "LayoutModel",
            "_view_count": null,
            "_view_module": "@jupyter-widgets/base",
            "_view_module_version": "1.2.0",
            "_view_name": "LayoutView",
            "align_content": null,
            "align_items": null,
            "align_self": null,
            "border": null,
            "bottom": null,
            "display": null,
            "flex": null,
            "flex_flow": null,
            "grid_area": null,
            "grid_auto_columns": null,
            "grid_auto_flow": null,
            "grid_auto_rows": null,
            "grid_column": null,
            "grid_gap": null,
            "grid_row": null,
            "grid_template_areas": null,
            "grid_template_columns": null,
            "grid_template_rows": null,
            "height": null,
            "justify_content": null,
            "justify_items": null,
            "left": null,
            "margin": null,
            "max_height": null,
            "max_width": null,
            "min_height": null,
            "min_width": null,
            "object_fit": null,
            "object_position": null,
            "order": null,
            "overflow": null,
            "overflow_x": null,
            "overflow_y": null,
            "padding": null,
            "right": null,
            "top": null,
            "visibility": null,
            "width": null
          }
        },
        "5de672a5bea543fd8c70e1996522af1b": {
          "model_module": "@jupyter-widgets/controls",
          "model_name": "DescriptionStyleModel",
          "model_module_version": "1.5.0",
          "state": {
            "_model_module": "@jupyter-widgets/controls",
            "_model_module_version": "1.5.0",
            "_model_name": "DescriptionStyleModel",
            "_view_count": null,
            "_view_module": "@jupyter-widgets/base",
            "_view_module_version": "1.2.0",
            "_view_name": "StyleView",
            "description_width": ""
          }
        },
        "94684242c53f436c8cb7a3d20c0055b9": {
          "model_module": "@jupyter-widgets/controls",
          "model_name": "HBoxModel",
          "model_module_version": "1.5.0",
          "state": {
            "_dom_classes": [],
            "_model_module": "@jupyter-widgets/controls",
            "_model_module_version": "1.5.0",
            "_model_name": "HBoxModel",
            "_view_count": null,
            "_view_module": "@jupyter-widgets/controls",
            "_view_module_version": "1.5.0",
            "_view_name": "HBoxView",
            "box_style": "",
            "children": [
              "IPY_MODEL_a3030fc6520e4f379610d156e532ce21",
              "IPY_MODEL_17d4413fe8014becbf45fe9b20e0f09d",
              "IPY_MODEL_4c06bd8a36054a5db89ce850e236844d"
            ],
            "layout": "IPY_MODEL_4f29e021cf444c60bbe859ce831b9ce7"
          }
        },
        "a3030fc6520e4f379610d156e532ce21": {
          "model_module": "@jupyter-widgets/controls",
          "model_name": "HTMLModel",
          "model_module_version": "1.5.0",
          "state": {
            "_dom_classes": [],
            "_model_module": "@jupyter-widgets/controls",
            "_model_module_version": "1.5.0",
            "_model_name": "HTMLModel",
            "_view_count": null,
            "_view_module": "@jupyter-widgets/controls",
            "_view_module_version": "1.5.0",
            "_view_name": "HTMLView",
            "description": "",
            "description_tooltip": null,
            "layout": "IPY_MODEL_7a3b419943f144ee9716a70a0875b428",
            "placeholder": "​",
            "style": "IPY_MODEL_adf4a0e5469145bd8d0ac9965a7badc2",
            "value": "model.safetensors: 100%"
          }
        },
        "17d4413fe8014becbf45fe9b20e0f09d": {
          "model_module": "@jupyter-widgets/controls",
          "model_name": "FloatProgressModel",
          "model_module_version": "1.5.0",
          "state": {
            "_dom_classes": [],
            "_model_module": "@jupyter-widgets/controls",
            "_model_module_version": "1.5.0",
            "_model_name": "FloatProgressModel",
            "_view_count": null,
            "_view_module": "@jupyter-widgets/controls",
            "_view_module_version": "1.5.0",
            "_view_name": "ProgressView",
            "bar_style": "success",
            "description": "",
            "description_tooltip": null,
            "layout": "IPY_MODEL_8acd41351c0f41f298bb8849dc34ed28",
            "max": 498818054,
            "min": 0,
            "orientation": "horizontal",
            "style": "IPY_MODEL_97959cfa5f5846be9362ec98cf2bd770",
            "value": 498818054
          }
        },
        "4c06bd8a36054a5db89ce850e236844d": {
          "model_module": "@jupyter-widgets/controls",
          "model_name": "HTMLModel",
          "model_module_version": "1.5.0",
          "state": {
            "_dom_classes": [],
            "_model_module": "@jupyter-widgets/controls",
            "_model_module_version": "1.5.0",
            "_model_name": "HTMLModel",
            "_view_count": null,
            "_view_module": "@jupyter-widgets/controls",
            "_view_module_version": "1.5.0",
            "_view_name": "HTMLView",
            "description": "",
            "description_tooltip": null,
            "layout": "IPY_MODEL_d476cdd098324ab091602396fe880f77",
            "placeholder": "​",
            "style": "IPY_MODEL_63330ed8dddc44d2ad44945953fab7bf",
            "value": " 499M/499M [00:05&lt;00:00, 136MB/s]"
          }
        },
        "4f29e021cf444c60bbe859ce831b9ce7": {
          "model_module": "@jupyter-widgets/base",
          "model_name": "LayoutModel",
          "model_module_version": "1.2.0",
          "state": {
            "_model_module": "@jupyter-widgets/base",
            "_model_module_version": "1.2.0",
            "_model_name": "LayoutModel",
            "_view_count": null,
            "_view_module": "@jupyter-widgets/base",
            "_view_module_version": "1.2.0",
            "_view_name": "LayoutView",
            "align_content": null,
            "align_items": null,
            "align_self": null,
            "border": null,
            "bottom": null,
            "display": null,
            "flex": null,
            "flex_flow": null,
            "grid_area": null,
            "grid_auto_columns": null,
            "grid_auto_flow": null,
            "grid_auto_rows": null,
            "grid_column": null,
            "grid_gap": null,
            "grid_row": null,
            "grid_template_areas": null,
            "grid_template_columns": null,
            "grid_template_rows": null,
            "height": null,
            "justify_content": null,
            "justify_items": null,
            "left": null,
            "margin": null,
            "max_height": null,
            "max_width": null,
            "min_height": null,
            "min_width": null,
            "object_fit": null,
            "object_position": null,
            "order": null,
            "overflow": null,
            "overflow_x": null,
            "overflow_y": null,
            "padding": null,
            "right": null,
            "top": null,
            "visibility": null,
            "width": null
          }
        },
        "7a3b419943f144ee9716a70a0875b428": {
          "model_module": "@jupyter-widgets/base",
          "model_name": "LayoutModel",
          "model_module_version": "1.2.0",
          "state": {
            "_model_module": "@jupyter-widgets/base",
            "_model_module_version": "1.2.0",
            "_model_name": "LayoutModel",
            "_view_count": null,
            "_view_module": "@jupyter-widgets/base",
            "_view_module_version": "1.2.0",
            "_view_name": "LayoutView",
            "align_content": null,
            "align_items": null,
            "align_self": null,
            "border": null,
            "bottom": null,
            "display": null,
            "flex": null,
            "flex_flow": null,
            "grid_area": null,
            "grid_auto_columns": null,
            "grid_auto_flow": null,
            "grid_auto_rows": null,
            "grid_column": null,
            "grid_gap": null,
            "grid_row": null,
            "grid_template_areas": null,
            "grid_template_columns": null,
            "grid_template_rows": null,
            "height": null,
            "justify_content": null,
            "justify_items": null,
            "left": null,
            "margin": null,
            "max_height": null,
            "max_width": null,
            "min_height": null,
            "min_width": null,
            "object_fit": null,
            "object_position": null,
            "order": null,
            "overflow": null,
            "overflow_x": null,
            "overflow_y": null,
            "padding": null,
            "right": null,
            "top": null,
            "visibility": null,
            "width": null
          }
        },
        "adf4a0e5469145bd8d0ac9965a7badc2": {
          "model_module": "@jupyter-widgets/controls",
          "model_name": "DescriptionStyleModel",
          "model_module_version": "1.5.0",
          "state": {
            "_model_module": "@jupyter-widgets/controls",
            "_model_module_version": "1.5.0",
            "_model_name": "DescriptionStyleModel",
            "_view_count": null,
            "_view_module": "@jupyter-widgets/base",
            "_view_module_version": "1.2.0",
            "_view_name": "StyleView",
            "description_width": ""
          }
        },
        "8acd41351c0f41f298bb8849dc34ed28": {
          "model_module": "@jupyter-widgets/base",
          "model_name": "LayoutModel",
          "model_module_version": "1.2.0",
          "state": {
            "_model_module": "@jupyter-widgets/base",
            "_model_module_version": "1.2.0",
            "_model_name": "LayoutModel",
            "_view_count": null,
            "_view_module": "@jupyter-widgets/base",
            "_view_module_version": "1.2.0",
            "_view_name": "LayoutView",
            "align_content": null,
            "align_items": null,
            "align_self": null,
            "border": null,
            "bottom": null,
            "display": null,
            "flex": null,
            "flex_flow": null,
            "grid_area": null,
            "grid_auto_columns": null,
            "grid_auto_flow": null,
            "grid_auto_rows": null,
            "grid_column": null,
            "grid_gap": null,
            "grid_row": null,
            "grid_template_areas": null,
            "grid_template_columns": null,
            "grid_template_rows": null,
            "height": null,
            "justify_content": null,
            "justify_items": null,
            "left": null,
            "margin": null,
            "max_height": null,
            "max_width": null,
            "min_height": null,
            "min_width": null,
            "object_fit": null,
            "object_position": null,
            "order": null,
            "overflow": null,
            "overflow_x": null,
            "overflow_y": null,
            "padding": null,
            "right": null,
            "top": null,
            "visibility": null,
            "width": null
          }
        },
        "97959cfa5f5846be9362ec98cf2bd770": {
          "model_module": "@jupyter-widgets/controls",
          "model_name": "ProgressStyleModel",
          "model_module_version": "1.5.0",
          "state": {
            "_model_module": "@jupyter-widgets/controls",
            "_model_module_version": "1.5.0",
            "_model_name": "ProgressStyleModel",
            "_view_count": null,
            "_view_module": "@jupyter-widgets/base",
            "_view_module_version": "1.2.0",
            "_view_name": "StyleView",
            "bar_color": null,
            "description_width": ""
          }
        },
        "d476cdd098324ab091602396fe880f77": {
          "model_module": "@jupyter-widgets/base",
          "model_name": "LayoutModel",
          "model_module_version": "1.2.0",
          "state": {
            "_model_module": "@jupyter-widgets/base",
            "_model_module_version": "1.2.0",
            "_model_name": "LayoutModel",
            "_view_count": null,
            "_view_module": "@jupyter-widgets/base",
            "_view_module_version": "1.2.0",
            "_view_name": "LayoutView",
            "align_content": null,
            "align_items": null,
            "align_self": null,
            "border": null,
            "bottom": null,
            "display": null,
            "flex": null,
            "flex_flow": null,
            "grid_area": null,
            "grid_auto_columns": null,
            "grid_auto_flow": null,
            "grid_auto_rows": null,
            "grid_column": null,
            "grid_gap": null,
            "grid_row": null,
            "grid_template_areas": null,
            "grid_template_columns": null,
            "grid_template_rows": null,
            "height": null,
            "justify_content": null,
            "justify_items": null,
            "left": null,
            "margin": null,
            "max_height": null,
            "max_width": null,
            "min_height": null,
            "min_width": null,
            "object_fit": null,
            "object_position": null,
            "order": null,
            "overflow": null,
            "overflow_x": null,
            "overflow_y": null,
            "padding": null,
            "right": null,
            "top": null,
            "visibility": null,
            "width": null
          }
        },
        "63330ed8dddc44d2ad44945953fab7bf": {
          "model_module": "@jupyter-widgets/controls",
          "model_name": "DescriptionStyleModel",
          "model_module_version": "1.5.0",
          "state": {
            "_model_module": "@jupyter-widgets/controls",
            "_model_module_version": "1.5.0",
            "_model_name": "DescriptionStyleModel",
            "_view_count": null,
            "_view_module": "@jupyter-widgets/base",
            "_view_module_version": "1.2.0",
            "_view_name": "StyleView",
            "description_width": ""
          }
        }
      }
    }
  },
  "nbformat": 4,
  "nbformat_minor": 5
}