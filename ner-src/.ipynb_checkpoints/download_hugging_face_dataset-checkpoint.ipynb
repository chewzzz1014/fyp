{
 "cells": [
  {
   "cell_type": "markdown",
   "id": "a1c8ce31",
   "metadata": {},
   "source": [
    "# Dataset Preparation\n",
    "Steps:\n",
    "1. Download multiple resume dataset from hugging face\n",
    "2. Remove unwanted columns and limit number of rows (for dataset with many rows, only focus on the IT-related resumes)\n",
    "3. Merge all datasets into one csv and download.\n",
    "\n",
    "Dataset Links\n",
    "- https://huggingface.co/datasets/InferencePrince555/Resume-Dataset \n",
    "- https://huggingface.co/datasets/kvsrkc/Resume \n",
    "- https://huggingface.co/datasets/opensporks/resumes \n",
    "- https://huggingface.co/datasets/Dh1raj/resume-dataset \n",
    "- https://huggingface.co/datasets/cnamuangtoun/resume-job-description-fit?row=19 \n",
    "- https://huggingface.co/datasets/ahmedheakl/resume-atlas "
   ]
  },
  {
   "cell_type": "code",
   "execution_count": 1,
   "id": "896a477a",
   "metadata": {},
   "outputs": [],
   "source": [
    "import pandas as pd"
   ]
  },
  {
   "cell_type": "code",
   "execution_count": null,
   "id": "fc52b6e2",
   "metadata": {},
   "outputs": [],
   "source": [
    "# import dataset from hugging face\n",
    "df1 = pd.read_csv(\"hf://datasets/InferencePrince555/Resume-Dataset/updated_data_final_cleaned.csv\")\n",
    "# df2 = pd.read_csv(\"hf://datasets/kvsrkc/Resume/Resume.csv\")\n",
    "# df3 = pd.read_csv(\"hf://datasets/opensporks/resumes/Resume/Resume.csv\")\n",
    "\n",
    "# df4_splits = {'train': 'data/train-00000-of-00001.parquet', 'test': 'data/test-00000-of-00001.parquet', 'validation': 'data/validation-00000-of-00001.parquet'}\n",
    "# df4 = pd.read_parquet(\"hf://datasets/Dh1raj/resume-dataset/\" + df4_splits[\"train\"])\n",
    "\n",
    "# df5_splits = {'train': 'train.csv', 'test': 'test.csv'}\n",
    "# df5 = pd.read_csv(\"hf://datasets/cnamuangtoun/resume-job-description-fit/\" + df5_splits[\"train\"])\n",
    "\n",
    "# df6 = pd.read_csv(\"hf://datasets/ahmedheakl/resume-atlas/train.csv\")"
   ]
  },
  {
   "cell_type": "markdown",
   "id": "7720f610",
   "metadata": {},
   "source": [
    "## Preprocess df1"
   ]
  },
  {
   "cell_type": "code",
   "execution_count": 6,
   "id": "c2218e22",
   "metadata": {},
   "outputs": [
    {
     "name": "stdout",
     "output_type": "stream",
     "text": [
      "Distinct values in 'instruction' column: ['Generate a Resume for a Accountant Job'\n",
      " 'Generate a Resume for a Advocate Job'\n",
      " 'Generate a Resume for a Agriculture Job'\n",
      " 'Generate a Resume for a Apparel Job' 'Generate a Resume for a Arts Job'\n",
      " 'Generate a Resume for a Automation Testing Job'\n",
      " 'Generate a Resume for a Automobile Job'\n",
      " 'Generate a Resume for a Aviation Job' 'Generate a Resume for a BPO Job'\n",
      " 'Generate a Resume for a Banking Job'\n",
      " 'Generate a Resume for a Blockchain Job'\n",
      " 'Generate a Resume for a Business Analyst Job'\n",
      " 'Generate a Resume for a Business Development Job'\n",
      " 'Generate a Resume for a Chef Job'\n",
      " 'Generate a Resume for a Civil Engineer Job'\n",
      " 'Generate a Resume for a Construction Job'\n",
      " 'Generate a Resume for a Consultant Job'\n",
      " 'Generate a Resume for a Data Science Job'\n",
      " 'Generate a Resume for a Database Job'\n",
      " 'Generate a Resume for a Database Administrator Job'\n",
      " 'Generate a Resume for a Designer Job'\n",
      " 'Generate a Resume for a DevOps Engineer Job'\n",
      " 'Generate a Resume for a Digital Media Job'\n",
      " 'Generate a Resume for a DotNet Developer Job'\n",
      " 'Generate a Resume for a ETL Developer Job'\n",
      " 'Generate a Resume for a Electrical Engineering Job'\n",
      " 'Generate a Resume for a Engineering Job'\n",
      " 'Generate a Resume for a Finance Job'\n",
      " 'Generate a Resume for a Fitness Job' 'Generate a Resume for a HR Job'\n",
      " 'Generate a Resume for a Hadoop Job'\n",
      " 'Generate a Resume for a Health and fitness Job'\n",
      " 'Generate a Resume for a Healthcare Job'\n",
      " 'Generate a Resume for a Information Technology Job'\n",
      " 'Generate a Resume for a Java Developer Job'\n",
      " 'Generate a Resume for a Mechanical Engineer Job'\n",
      " 'Generate a Resume for a Network Administrator Job'\n",
      " 'Generate a Resume for a Network Security Engineer Job'\n",
      " 'Generate a Resume for a Operations Manager Job'\n",
      " 'Generate a Resume for a PMO Job'\n",
      " 'Generate a Resume for a Project manager Job'\n",
      " 'Generate a Resume for a Public Relations Job'\n",
      " 'Generate a Resume for a Python Developer Job'\n",
      " 'Generate a Resume for a SAP Developer Job'\n",
      " 'Generate a Resume for a Sales Job'\n",
      " 'Generate a Resume for a Security Analyst Job'\n",
      " 'Generate a Resume for a Software Developer Job'\n",
      " 'Generate a Resume for a Systems Administrator Job'\n",
      " 'Generate a Resume for a Teacher Job'\n",
      " 'Generate a Resume for a Testing Job'\n",
      " 'Generate a Resume for a Web Designing Job'\n",
      " 'Generate a Resume for a Web Developer Job']\n"
     ]
    }
   ],
   "source": [
    "# process df1\n",
    "distinct_instructions = df1['instruction'].unique()\n",
    "print(\"Distinct values in 'instruction' column in df1:\", distinct_instructions)"
   ]
  },
  {
   "cell_type": "code",
   "execution_count": 12,
   "id": "17f534f2",
   "metadata": {},
   "outputs": [
    {
     "ename": "KeyError",
     "evalue": "'instruction'",
     "output_type": "error",
     "traceback": [
      "\u001b[1;31m---------------------------------------------------------------------------\u001b[0m",
      "\u001b[1;31mKeyError\u001b[0m                                  Traceback (most recent call last)",
      "File \u001b[1;32m~\\AppData\\Local\\Programs\\Python\\Python310\\lib\\site-packages\\pandas\\core\\indexes\\base.py:3790\u001b[0m, in \u001b[0;36mIndex.get_loc\u001b[1;34m(self, key)\u001b[0m\n\u001b[0;32m   3789\u001b[0m \u001b[38;5;28;01mtry\u001b[39;00m:\n\u001b[1;32m-> 3790\u001b[0m     \u001b[38;5;28;01mreturn\u001b[39;00m \u001b[38;5;28;43mself\u001b[39;49m\u001b[38;5;241;43m.\u001b[39;49m\u001b[43m_engine\u001b[49m\u001b[38;5;241;43m.\u001b[39;49m\u001b[43mget_loc\u001b[49m\u001b[43m(\u001b[49m\u001b[43mcasted_key\u001b[49m\u001b[43m)\u001b[49m\n\u001b[0;32m   3791\u001b[0m \u001b[38;5;28;01mexcept\u001b[39;00m \u001b[38;5;167;01mKeyError\u001b[39;00m \u001b[38;5;28;01mas\u001b[39;00m err:\n",
      "File \u001b[1;32mindex.pyx:152\u001b[0m, in \u001b[0;36mpandas._libs.index.IndexEngine.get_loc\u001b[1;34m()\u001b[0m\n",
      "File \u001b[1;32mindex.pyx:181\u001b[0m, in \u001b[0;36mpandas._libs.index.IndexEngine.get_loc\u001b[1;34m()\u001b[0m\n",
      "File \u001b[1;32mpandas\\_libs\\hashtable_class_helper.pxi:7080\u001b[0m, in \u001b[0;36mpandas._libs.hashtable.PyObjectHashTable.get_item\u001b[1;34m()\u001b[0m\n",
      "File \u001b[1;32mpandas\\_libs\\hashtable_class_helper.pxi:7088\u001b[0m, in \u001b[0;36mpandas._libs.hashtable.PyObjectHashTable.get_item\u001b[1;34m()\u001b[0m\n",
      "\u001b[1;31mKeyError\u001b[0m: 'instruction'",
      "\nThe above exception was the direct cause of the following exception:\n",
      "\u001b[1;31mKeyError\u001b[0m                                  Traceback (most recent call last)",
      "Input \u001b[1;32mIn [12]\u001b[0m, in \u001b[0;36m<cell line: 10>\u001b[1;34m()\u001b[0m\n\u001b[0;32m      1\u001b[0m \u001b[38;5;66;03m# filter the resume by IT-related resumes only due to high number of resumes\u001b[39;00m\n\u001b[0;32m      2\u001b[0m filtered_jobs \u001b[38;5;241m=\u001b[39m [\n\u001b[0;32m      3\u001b[0m     \u001b[38;5;124m\"\u001b[39m\u001b[38;5;124mdata science\u001b[39m\u001b[38;5;124m\"\u001b[39m,\n\u001b[0;32m      4\u001b[0m     \u001b[38;5;124m\"\u001b[39m\u001b[38;5;124mdatabase\u001b[39m\u001b[38;5;124m\"\u001b[39m,\n\u001b[1;32m   (...)\u001b[0m\n\u001b[0;32m      8\u001b[0m     \u001b[38;5;124m\"\u001b[39m\u001b[38;5;124mweb\u001b[39m\u001b[38;5;124m\"\u001b[39m\n\u001b[0;32m      9\u001b[0m ]\n\u001b[1;32m---> 10\u001b[0m filtered_df \u001b[38;5;241m=\u001b[39m df1[\u001b[43mdf1\u001b[49m\u001b[43m[\u001b[49m\u001b[38;5;124;43m'\u001b[39;49m\u001b[38;5;124;43minstruction\u001b[39;49m\u001b[38;5;124;43m'\u001b[39;49m\u001b[43m]\u001b[49m\u001b[38;5;241m.\u001b[39mstr\u001b[38;5;241m.\u001b[39mcontains(\u001b[38;5;124m'\u001b[39m\u001b[38;5;124m|\u001b[39m\u001b[38;5;124m'\u001b[39m\u001b[38;5;241m.\u001b[39mjoin(filtered_jobs), case\u001b[38;5;241m=\u001b[39m\u001b[38;5;28;01mFalse\u001b[39;00m, regex\u001b[38;5;241m=\u001b[39m\u001b[38;5;28;01mTrue\u001b[39;00m)]\n\u001b[0;32m     11\u001b[0m \u001b[38;5;28mprint\u001b[39m(\u001b[38;5;124m\"\u001b[39m\u001b[38;5;124mDistinct values in \u001b[39m\u001b[38;5;124m'\u001b[39m\u001b[38;5;124minstruction\u001b[39m\u001b[38;5;124m'\u001b[39m\u001b[38;5;124m column of filtered_df:\u001b[39m\u001b[38;5;124m\"\u001b[39m, filtered_df[\u001b[38;5;124m'\u001b[39m\u001b[38;5;124minstruction\u001b[39m\u001b[38;5;124m'\u001b[39m]\u001b[38;5;241m.\u001b[39munique())\n",
      "File \u001b[1;32m~\\AppData\\Local\\Programs\\Python\\Python310\\lib\\site-packages\\pandas\\core\\frame.py:3893\u001b[0m, in \u001b[0;36mDataFrame.__getitem__\u001b[1;34m(self, key)\u001b[0m\n\u001b[0;32m   3891\u001b[0m \u001b[38;5;28;01mif\u001b[39;00m \u001b[38;5;28mself\u001b[39m\u001b[38;5;241m.\u001b[39mcolumns\u001b[38;5;241m.\u001b[39mnlevels \u001b[38;5;241m>\u001b[39m \u001b[38;5;241m1\u001b[39m:\n\u001b[0;32m   3892\u001b[0m     \u001b[38;5;28;01mreturn\u001b[39;00m \u001b[38;5;28mself\u001b[39m\u001b[38;5;241m.\u001b[39m_getitem_multilevel(key)\n\u001b[1;32m-> 3893\u001b[0m indexer \u001b[38;5;241m=\u001b[39m \u001b[38;5;28;43mself\u001b[39;49m\u001b[38;5;241;43m.\u001b[39;49m\u001b[43mcolumns\u001b[49m\u001b[38;5;241;43m.\u001b[39;49m\u001b[43mget_loc\u001b[49m\u001b[43m(\u001b[49m\u001b[43mkey\u001b[49m\u001b[43m)\u001b[49m\n\u001b[0;32m   3894\u001b[0m \u001b[38;5;28;01mif\u001b[39;00m is_integer(indexer):\n\u001b[0;32m   3895\u001b[0m     indexer \u001b[38;5;241m=\u001b[39m [indexer]\n",
      "File \u001b[1;32m~\\AppData\\Local\\Programs\\Python\\Python310\\lib\\site-packages\\pandas\\core\\indexes\\base.py:3797\u001b[0m, in \u001b[0;36mIndex.get_loc\u001b[1;34m(self, key)\u001b[0m\n\u001b[0;32m   3792\u001b[0m     \u001b[38;5;28;01mif\u001b[39;00m \u001b[38;5;28misinstance\u001b[39m(casted_key, \u001b[38;5;28mslice\u001b[39m) \u001b[38;5;129;01mor\u001b[39;00m (\n\u001b[0;32m   3793\u001b[0m         \u001b[38;5;28misinstance\u001b[39m(casted_key, abc\u001b[38;5;241m.\u001b[39mIterable)\n\u001b[0;32m   3794\u001b[0m         \u001b[38;5;129;01mand\u001b[39;00m \u001b[38;5;28many\u001b[39m(\u001b[38;5;28misinstance\u001b[39m(x, \u001b[38;5;28mslice\u001b[39m) \u001b[38;5;28;01mfor\u001b[39;00m x \u001b[38;5;129;01min\u001b[39;00m casted_key)\n\u001b[0;32m   3795\u001b[0m     ):\n\u001b[0;32m   3796\u001b[0m         \u001b[38;5;28;01mraise\u001b[39;00m InvalidIndexError(key)\n\u001b[1;32m-> 3797\u001b[0m     \u001b[38;5;28;01mraise\u001b[39;00m \u001b[38;5;167;01mKeyError\u001b[39;00m(key) \u001b[38;5;28;01mfrom\u001b[39;00m \u001b[38;5;21;01merr\u001b[39;00m\n\u001b[0;32m   3798\u001b[0m \u001b[38;5;28;01mexcept\u001b[39;00m \u001b[38;5;167;01mTypeError\u001b[39;00m:\n\u001b[0;32m   3799\u001b[0m     \u001b[38;5;66;03m# If we have a listlike key, _check_indexing_error will raise\u001b[39;00m\n\u001b[0;32m   3800\u001b[0m     \u001b[38;5;66;03m#  InvalidIndexError. Otherwise we fall through and re-raise\u001b[39;00m\n\u001b[0;32m   3801\u001b[0m     \u001b[38;5;66;03m#  the TypeError.\u001b[39;00m\n\u001b[0;32m   3802\u001b[0m     \u001b[38;5;28mself\u001b[39m\u001b[38;5;241m.\u001b[39m_check_indexing_error(key)\n",
      "\u001b[1;31mKeyError\u001b[0m: 'instruction'"
     ]
    }
   ],
   "source": [
    "# filter the resume by IT-related resumes only due to high number of resumes\n",
    "filtered_jobs = [\n",
    "    \"data science\",\n",
    "    \"database\",\n",
    "    \"devops\",\n",
    "    \"developer\",\n",
    "    \"information technology\",\n",
    "    \"web\"\n",
    "]\n",
    "filtered_df = df1[df1['instruction'].str.contains('|'.join(filtered_jobs), case=False, regex=True)]\n",
    "print(\"Distinct values in 'instruction' column of filtered_df:\", filtered_df['instruction'].unique())"
   ]
  },
  {
   "cell_type": "code",
   "execution_count": 11,
   "id": "89a53042",
   "metadata": {},
   "outputs": [
    {
     "name": "stdout",
     "output_type": "stream",
     "text": [
      "<class 'pandas.core.frame.DataFrame'>\n",
      "Index: 19705 entries, 555 to 32480\n",
      "Data columns (total 1 columns):\n",
      " #   Column       Non-Null Count  Dtype \n",
      "---  ------       --------------  ----- \n",
      " 0   Resume_test  19705 non-null  object\n",
      "dtypes: object(1)\n",
      "memory usage: 307.9+ KB\n"
     ]
    }
   ],
   "source": [
    "# drop columns\n",
    "df1 = filtered_df.drop(columns=['instruction', 'input'])\n",
    "df1.info()"
   ]
  },
  {
   "cell_type": "code",
   "execution_count": null,
   "id": "e6a8af33",
   "metadata": {},
   "outputs": [],
   "source": []
  }
 ],
 "metadata": {
  "kernelspec": {
   "display_name": "Python 3 (ipykernel)",
   "language": "python",
   "name": "python3"
  },
  "language_info": {
   "codemirror_mode": {
    "name": "ipython",
    "version": 3
   },
   "file_extension": ".py",
   "mimetype": "text/x-python",
   "name": "python",
   "nbconvert_exporter": "python",
   "pygments_lexer": "ipython3",
   "version": "3.10.0"
  }
 },
 "nbformat": 4,
 "nbformat_minor": 5
}
